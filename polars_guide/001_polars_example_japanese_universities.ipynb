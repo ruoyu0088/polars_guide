{
 "cells": [
  {
   "cell_type": "markdown",
   "id": "1f711dce-0591-4a37-ac37-0d560a7f1987",
   "metadata": {},
   "source": [
    "# 日本の大学データ\n",
    "\n",
    "日本の大学に関するデータを用いて、Polarsライブラリの基本的な使い方を解説します。Polarsは、高性能かつ効率的なデータ操作を可能にするRust製のDataFrameライブラリであり、大量のデータを扱う際に特に有用です。以下のセクションでは、データの読み込みから基本的な操作まで、Polarsの基本機能について順を追って説明します。\n",
    "\n",
    "次のプログラムは、Polarsライブラリを使用してCSVファイルを読み込み、その最初の2行を表示します。Polarsライブラリを`pl`というエイリアスでインポートするのは一般的です。"
   ]
  },
  {
   "cell_type": "markdown",
   "id": "74d2011a-e2d3-4f58-9213-60e6b03d632d",
   "metadata": {},
   "source": [
    "## ファイル読み込み"
   ]
  },
  {
   "cell_type": "code",
   "execution_count": 1,
   "id": "62b1630f-ed73-4303-a010-f81c983e34d8",
   "metadata": {},
   "outputs": [
    {
     "data": {
      "text/html": [
       "<div><style>\n",
       ".dataframe > thead > tr,\n",
       ".dataframe > tbody > tr {\n",
       "  text-align: right;\n",
       "  white-space: pre-wrap;\n",
       "}\n",
       "</style>\n",
       "<small>shape: (2, 22)</small><table border=\"1\" class=\"dataframe\"><thead><tr><th></th><th>code</th><th>name</th><th>name_jp</th><th>type</th><th>type_jp</th><th>address</th><th>postal_code</th><th>phone</th><th>state</th><th>state_jp</th><th>latitude</th><th>longitude</th><th>found</th><th>faculty_count</th><th>department_count</th><th>has_grad</th><th>has_remote</th><th>review_rating</th><th>review_count</th><th>difficulty_SD</th><th>difficulty_rank</th></tr><tr><td>i64</td><td>str</td><td>str</td><td>str</td><td>str</td><td>str</td><td>str</td><td>str</td><td>str</td><td>str</td><td>str</td><td>f64</td><td>f64</td><td>str</td><td>i64</td><td>i64</td><td>bool</td><td>bool</td><td>f64</td><td>f64</td><td>f64</td><td>str</td></tr></thead><tbody><tr><td>0</td><td>&quot;F101110100010&quot;</td><td>&quot;Hokkaido University&quot;</td><td>&quot;北海道大学&quot;</td><td>&quot;National&quot;</td><td>&quot;国立&quot;</td><td>&quot;北海道札幌市北区北8条西5丁目&quot;</td><td>&quot;060－0808&quot;</td><td>&quot;011－716－2111&quot;</td><td>&quot;Hokkai Do&quot;</td><td>&quot;北海道&quot;</td><td>43.070446</td><td>141.347153</td><td>&quot;1876-08&quot;</td><td>33</td><td>78</td><td>true</td><td>false</td><td>4.16</td><td>1389.0</td><td>60.4</td><td>&quot;A&quot;</td></tr><tr><td>1</td><td>&quot;F101110100029&quot;</td><td>&quot;Hokkaido University of Educati…</td><td>&quot;北海道教育大学&quot;</td><td>&quot;National&quot;</td><td>&quot;国立&quot;</td><td>&quot;北海道札幌市北区あいの里5条3－1－3&quot;</td><td>&quot;002－8501&quot;</td><td>&quot;011－778－0206&quot;</td><td>&quot;Hokkai Do&quot;</td><td>&quot;北海道&quot;</td><td>43.170498</td><td>141.393753</td><td>&quot;1943-04&quot;</td><td>3</td><td>8</td><td>true</td><td>false</td><td>3.79</td><td>544.0</td><td>47.1</td><td>&quot;D&quot;</td></tr></tbody></table></div>"
      ],
      "text/plain": [
       "shape: (2, 22)\n",
       "┌─────┬─────────┬─────────┬─────────┬───┬─────────┬─────────┬─────────┬────────┐\n",
       "│     ┆ code    ┆ name    ┆ name_jp ┆ … ┆ review_ ┆ review_ ┆ difficu ┆ diffic │\n",
       "│ --- ┆ ---     ┆ ---     ┆ ---     ┆   ┆ rating  ┆ count   ┆ lty_SD  ┆ ulty_r │\n",
       "│ i64 ┆ str     ┆ str     ┆ str     ┆   ┆ ---     ┆ ---     ┆ ---     ┆ ank    │\n",
       "│     ┆         ┆         ┆         ┆   ┆ f64     ┆ f64     ┆ f64     ┆ ---    │\n",
       "│     ┆         ┆         ┆         ┆   ┆         ┆         ┆         ┆ str    │\n",
       "╞═════╪═════════╪═════════╪═════════╪═══╪═════════╪═════════╪═════════╪════════╡\n",
       "│ 0   ┆ F101110 ┆ Hokkaid ┆ 北海道  ┆ … ┆ 4.16    ┆ 1389.0  ┆ 60.4    ┆ A      │\n",
       "│     ┆ 100010  ┆ o Unive ┆ 大学    ┆   ┆         ┆         ┆         ┆        │\n",
       "│     ┆         ┆ rsity   ┆         ┆   ┆         ┆         ┆         ┆        │\n",
       "│ 1   ┆ F101110 ┆ Hokkaid ┆ 北海道  ┆ … ┆ 3.79    ┆ 544.0   ┆ 47.1    ┆ D      │\n",
       "│     ┆ 100029  ┆ o Unive ┆ 教育大  ┆   ┆         ┆         ┆         ┆        │\n",
       "│     ┆         ┆ rsity   ┆ 学      ┆   ┆         ┆         ┆         ┆        │\n",
       "│     ┆         ┆ of Educ ┆         ┆   ┆         ┆         ┆         ┆        │\n",
       "│     ┆         ┆ ati…    ┆         ┆   ┆         ┆         ┆         ┆        │\n",
       "└─────┴─────────┴─────────┴─────────┴───┴─────────┴─────────┴─────────┴────────┘"
      ]
     },
     "execution_count": 1,
     "metadata": {},
     "output_type": "execute_result"
    }
   ],
   "source": [
    "import polars as pl\n",
    "df = pl.read_csv('data/japanese_universities.csv')\n",
    "df.head(2)"
   ]
  },
  {
   "cell_type": "markdown",
   "id": "8737489a-611b-4d8d-af58-8f3c2062559c",
   "metadata": {},
   "source": [
    "`columns`でデータフレームのすべての列名をリストとして取得できます。"
   ]
  },
  {
   "cell_type": "markdown",
   "id": "71d8dd5c-c429-40c6-a9a7-c624f815b6ab",
   "metadata": {},
   "source": [
    "## 列の情報"
   ]
  },
  {
   "cell_type": "code",
   "execution_count": 2,
   "id": "72143b70-de18-4c68-a288-b512c9ce3904",
   "metadata": {},
   "outputs": [
    {
     "data": {
      "text/plain": [
       "['',\n",
       " 'code',\n",
       " 'name',\n",
       " 'name_jp',\n",
       " 'type',\n",
       " 'type_jp',\n",
       " 'address',\n",
       " 'postal_code',\n",
       " 'phone',\n",
       " 'state',\n",
       " 'state_jp',\n",
       " 'latitude',\n",
       " 'longitude',\n",
       " 'found',\n",
       " 'faculty_count',\n",
       " 'department_count',\n",
       " 'has_grad',\n",
       " 'has_remote',\n",
       " 'review_rating',\n",
       " 'review_count',\n",
       " 'difficulty_SD',\n",
       " 'difficulty_rank']"
      ]
     },
     "execution_count": 2,
     "metadata": {},
     "output_type": "execute_result"
    }
   ],
   "source": [
    "df.columns"
   ]
  },
  {
   "cell_type": "markdown",
   "id": "3f8a5214-2587-4a50-a91e-bf926f5ee7c5",
   "metadata": {},
   "source": [
    "列名とそのデータ型を取得するには、`schema`を使用します。`schema`は、列名をキー、データ型を値とする辞書を返します。"
   ]
  },
  {
   "cell_type": "code",
   "execution_count": 3,
   "id": "a785acbc-93e9-4d8c-8b80-5d26cfff9d99",
   "metadata": {},
   "outputs": [
    {
     "data": {
      "text/plain": [
       "Schema([('', Int64),\n",
       "        ('code', String),\n",
       "        ('name', String),\n",
       "        ('name_jp', String),\n",
       "        ('type', String),\n",
       "        ('type_jp', String),\n",
       "        ('address', String),\n",
       "        ('postal_code', String),\n",
       "        ('phone', String),\n",
       "        ('state', String),\n",
       "        ('state_jp', String),\n",
       "        ('latitude', Float64),\n",
       "        ('longitude', Float64),\n",
       "        ('found', String),\n",
       "        ('faculty_count', Int64),\n",
       "        ('department_count', Int64),\n",
       "        ('has_grad', Boolean),\n",
       "        ('has_remote', Boolean),\n",
       "        ('review_rating', Float64),\n",
       "        ('review_count', Float64),\n",
       "        ('difficulty_SD', Float64),\n",
       "        ('difficulty_rank', String)])"
      ]
     },
     "execution_count": 3,
     "metadata": {},
     "output_type": "execute_result"
    }
   ],
   "source": [
    "df.schema"
   ]
  },
  {
   "cell_type": "markdown",
   "id": "6762791d-0ee4-4272-bf47-06bf0f95a7c6",
   "metadata": {},
   "source": [
    "## 列操作"
   ]
  },
  {
   "cell_type": "markdown",
   "id": "19954604-b667-4e98-8283-d3931f73195c",
   "metadata": {},
   "source": [
    "`drop()`メソッドを使って、特定の列を削除します。Polarsのほとんどのメソッドは新しいデータフレームを返すため、変数`df2`に新しいデータフレームを保存します。"
   ]
  },
  {
   "cell_type": "code",
   "execution_count": 4,
   "id": "927042a0-a586-45bb-bdc2-4097032882eb",
   "metadata": {},
   "outputs": [
    {
     "data": {
      "text/html": [
       "<div><style>\n",
       ".dataframe > thead > tr,\n",
       ".dataframe > tbody > tr {\n",
       "  text-align: right;\n",
       "  white-space: pre-wrap;\n",
       "}\n",
       "</style>\n",
       "<small>shape: (2, 15)</small><table border=\"1\" class=\"dataframe\"><thead><tr><th>name_jp</th><th>type_jp</th><th>address</th><th>state_jp</th><th>latitude</th><th>longitude</th><th>found</th><th>faculty_count</th><th>department_count</th><th>has_grad</th><th>has_remote</th><th>review_rating</th><th>review_count</th><th>difficulty_SD</th><th>difficulty_rank</th></tr><tr><td>str</td><td>str</td><td>str</td><td>str</td><td>f64</td><td>f64</td><td>str</td><td>i64</td><td>i64</td><td>bool</td><td>bool</td><td>f64</td><td>f64</td><td>f64</td><td>str</td></tr></thead><tbody><tr><td>&quot;北海道大学&quot;</td><td>&quot;国立&quot;</td><td>&quot;北海道札幌市北区北8条西5丁目&quot;</td><td>&quot;北海道&quot;</td><td>43.070446</td><td>141.347153</td><td>&quot;1876-08&quot;</td><td>33</td><td>78</td><td>true</td><td>false</td><td>4.16</td><td>1389.0</td><td>60.4</td><td>&quot;A&quot;</td></tr><tr><td>&quot;北海道教育大学&quot;</td><td>&quot;国立&quot;</td><td>&quot;北海道札幌市北区あいの里5条3－1－3&quot;</td><td>&quot;北海道&quot;</td><td>43.170498</td><td>141.393753</td><td>&quot;1943-04&quot;</td><td>3</td><td>8</td><td>true</td><td>false</td><td>3.79</td><td>544.0</td><td>47.1</td><td>&quot;D&quot;</td></tr></tbody></table></div>"
      ],
      "text/plain": [
       "shape: (2, 15)\n",
       "┌─────────┬─────────┬─────────┬────────┬───┬────────┬────────┬────────┬────────┐\n",
       "│ name_jp ┆ type_jp ┆ address ┆ state_ ┆ … ┆ review ┆ review ┆ diffic ┆ diffic │\n",
       "│ ---     ┆ ---     ┆ ---     ┆ jp     ┆   ┆ _ratin ┆ _count ┆ ulty_S ┆ ulty_r │\n",
       "│ str     ┆ str     ┆ str     ┆ ---    ┆   ┆ g      ┆ ---    ┆ D      ┆ ank    │\n",
       "│         ┆         ┆         ┆ str    ┆   ┆ ---    ┆ f64    ┆ ---    ┆ ---    │\n",
       "│         ┆         ┆         ┆        ┆   ┆ f64    ┆        ┆ f64    ┆ str    │\n",
       "╞═════════╪═════════╪═════════╪════════╪═══╪════════╪════════╪════════╪════════╡\n",
       "│ 北海道  ┆ 国立    ┆ 北海道  ┆ 北海道 ┆ … ┆ 4.16   ┆ 1389.0 ┆ 60.4   ┆ A      │\n",
       "│ 大学    ┆         ┆ 札幌市  ┆        ┆   ┆        ┆        ┆        ┆        │\n",
       "│         ┆         ┆ 北区北8 ┆        ┆   ┆        ┆        ┆        ┆        │\n",
       "│         ┆         ┆ 条西5丁 ┆        ┆   ┆        ┆        ┆        ┆        │\n",
       "│         ┆         ┆ 目      ┆        ┆   ┆        ┆        ┆        ┆        │\n",
       "│ 北海道  ┆ 国立    ┆ 北海道  ┆ 北海道 ┆ … ┆ 3.79   ┆ 544.0  ┆ 47.1   ┆ D      │\n",
       "│ 教育大  ┆         ┆ 札幌市  ┆        ┆   ┆        ┆        ┆        ┆        │\n",
       "│ 学      ┆         ┆ 北区あ  ┆        ┆   ┆        ┆        ┆        ┆        │\n",
       "│         ┆         ┆ いの里5 ┆        ┆   ┆        ┆        ┆        ┆        │\n",
       "│         ┆         ┆ 条3－1  ┆        ┆   ┆        ┆        ┆        ┆        │\n",
       "│         ┆         ┆ －3     ┆        ┆   ┆        ┆        ┆        ┆        │\n",
       "└─────────┴─────────┴─────────┴────────┴───┴────────┴────────┴────────┴────────┘"
      ]
     },
     "execution_count": 4,
     "metadata": {},
     "output_type": "execute_result"
    }
   ],
   "source": [
    "df2 = df.drop('', 'code', 'name', 'type', 'state', 'postal_code', 'phone')\n",
    "df2.head(2)"
   ]
  },
  {
   "cell_type": "markdown",
   "id": "939334fd-9ef3-4c59-bc7f-991bf4f6293a",
   "metadata": {},
   "source": [
    "`with_columns`メソッドは、データフレームに対して新しい列を追加したり、既存の列を変換するために使用します。このメソッドを使うと、複数の列に対して同時に操作を行うことができます。次のコードでは、`df2`に対して`with_columns`メソッドを使って次のような演算を行い、新しいデータフレーム`df3`を作成します。\n",
    "\n",
    "* `found`列を文字列から日付型に変換します。\n",
    "* `type_jp`と`difficulty_rank`列を文字列型からカテゴリカル型に変換します。カテゴリカル型は、文字列型に比べてメモリ効率が良く、分析に便利です。\n",
    "\n",
    "`with_columns`に渡した引数は演算の結果ではなく、演算そのものを表す演算式です。[演算式の詳細について](expression)"
   ]
  },
  {
   "cell_type": "code",
   "execution_count": 5,
   "id": "31577d1c-a9ce-4acb-b1f0-e38272d9930a",
   "metadata": {},
   "outputs": [],
   "source": [
    "df3 = df2.with_columns(\n",
    "    pl.col('found').str.to_date(\"%Y-%m\"),\n",
    "    pl.col('type_jp', 'difficulty_rank').cast(pl.Categorical)\n",
    ")"
   ]
  },
  {
   "cell_type": "markdown",
   "id": "bbefbc2a-488e-4ee0-997b-d5c76923c549",
   "metadata": {},
   "source": [
    "確認のため、`select()`メソッドを使ってデータ型変換が行われた列を選択し、先頭の5行を表示します。"
   ]
  },
  {
   "cell_type": "code",
   "execution_count": 6,
   "id": "f2453419-b870-400c-a885-6e88e7b0796a",
   "metadata": {},
   "outputs": [
    {
     "data": {
      "text/html": [
       "<div><style>\n",
       ".dataframe > thead > tr,\n",
       ".dataframe > tbody > tr {\n",
       "  text-align: right;\n",
       "  white-space: pre-wrap;\n",
       "}\n",
       "</style>\n",
       "<small>shape: (5, 4)</small><table border=\"1\" class=\"dataframe\"><thead><tr><th>name_jp</th><th>found</th><th>type_jp</th><th>difficulty_rank</th></tr><tr><td>str</td><td>date</td><td>cat</td><td>cat</td></tr></thead><tbody><tr><td>&quot;北海道大学&quot;</td><td>1876-08-01</td><td>&quot;国立&quot;</td><td>&quot;A&quot;</td></tr><tr><td>&quot;北海道教育大学&quot;</td><td>1943-04-01</td><td>&quot;国立&quot;</td><td>&quot;D&quot;</td></tr><tr><td>&quot;室蘭工業大学&quot;</td><td>1897-05-01</td><td>&quot;国立&quot;</td><td>&quot;F&quot;</td></tr><tr><td>&quot;小樽商科大学&quot;</td><td>1910-03-01</td><td>&quot;国立&quot;</td><td>&quot;C&quot;</td></tr><tr><td>&quot;帯広畜産大学&quot;</td><td>1941-04-01</td><td>&quot;国立&quot;</td><td>&quot;B&quot;</td></tr></tbody></table></div>"
      ],
      "text/plain": [
       "shape: (5, 4)\n",
       "┌────────────────┬────────────┬─────────┬─────────────────┐\n",
       "│ name_jp        ┆ found      ┆ type_jp ┆ difficulty_rank │\n",
       "│ ---            ┆ ---        ┆ ---     ┆ ---             │\n",
       "│ str            ┆ date       ┆ cat     ┆ cat             │\n",
       "╞════════════════╪════════════╪═════════╪═════════════════╡\n",
       "│ 北海道大学     ┆ 1876-08-01 ┆ 国立    ┆ A               │\n",
       "│ 北海道教育大学 ┆ 1943-04-01 ┆ 国立    ┆ D               │\n",
       "│ 室蘭工業大学   ┆ 1897-05-01 ┆ 国立    ┆ F               │\n",
       "│ 小樽商科大学   ┆ 1910-03-01 ┆ 国立    ┆ C               │\n",
       "│ 帯広畜産大学   ┆ 1941-04-01 ┆ 国立    ┆ B               │\n",
       "└────────────────┴────────────┴─────────┴─────────────────┘"
      ]
     },
     "execution_count": 6,
     "metadata": {},
     "output_type": "execute_result"
    }
   ],
   "source": [
    "df3.select('name_jp', 'found', 'type_jp', 'difficulty_rank').head()"
   ]
  },
  {
   "cell_type": "markdown",
   "id": "8aef14ab-92c6-4c67-894e-a21f0a7dcb8b",
   "metadata": {},
   "source": [
    ":::{tip}\n",
    "`select()`と`with_columns()`は、データフレームでの列操作に使われるメソッドです。違いは、`select()`は選択された列のみを出力し、その他の列は含まれませんが、`with_columns()`は操作を行った列だけでなく、操作されなかった列もそのまま出力します。\n",
    ":::"
   ]
  },
  {
   "cell_type": "markdown",
   "id": "f571953d-5e70-440d-8866-66362aa4b195",
   "metadata": {},
   "source": [
    "## 行フィルタ"
   ]
  },
  {
   "cell_type": "markdown",
   "id": "a39fc882-2f44-4953-947d-08bbe4952b06",
   "metadata": {},
   "source": [
    "`filter()`メソッドで指定した条件を満たす行を選択することができます。このメソッドは新しいデータフレームを返し、元のデータフレームは変更されません。次のコードは`difficulty_SD`列(偏差値)の値が65より大きい行を選択しています。"
   ]
  },
  {
   "cell_type": "code",
   "execution_count": 7,
   "id": "3ddf8485-3146-4287-b1ba-54943ae2639e",
   "metadata": {},
   "outputs": [
    {
     "data": {
      "text/html": [
       "<div><style>\n",
       ".dataframe > thead > tr,\n",
       ".dataframe > tbody > tr {\n",
       "  text-align: right;\n",
       "  white-space: pre-wrap;\n",
       "}\n",
       "</style>\n",
       "<small>shape: (8, 15)</small><table border=\"1\" class=\"dataframe\"><thead><tr><th>name_jp</th><th>type_jp</th><th>address</th><th>state_jp</th><th>latitude</th><th>longitude</th><th>found</th><th>faculty_count</th><th>department_count</th><th>has_grad</th><th>has_remote</th><th>review_rating</th><th>review_count</th><th>difficulty_SD</th><th>difficulty_rank</th></tr><tr><td>str</td><td>cat</td><td>str</td><td>str</td><td>f64</td><td>f64</td><td>date</td><td>i64</td><td>i64</td><td>bool</td><td>bool</td><td>f64</td><td>f64</td><td>f64</td><td>cat</td></tr></thead><tbody><tr><td>&quot;東京大学&quot;</td><td>&quot;国立&quot;</td><td>&quot;東京都文京区本郷7－3－1&quot;</td><td>&quot;東京都&quot;</td><td>35.714146</td><td>139.763214</td><td>1877-04-01</td><td>25</td><td>132</td><td>true</td><td>false</td><td>4.34</td><td>2206.0</td><td>70.5</td><td>&quot;S&quot;</td></tr><tr><td>&quot;一橋大学&quot;</td><td>&quot;国立&quot;</td><td>&quot;東京都国立市中2－1&quot;</td><td>&quot;東京都&quot;</td><td>35.694389</td><td>139.443649</td><td>1920-04-01</td><td>10</td><td>15</td><td>true</td><td>false</td><td>4.26</td><td>432.0</td><td>67.9</td><td>&quot;S&quot;</td></tr><tr><td>&quot;京都大学&quot;</td><td>&quot;国立&quot;</td><td>&quot;京都府京都市左京区吉田本町&quot;</td><td>&quot;京都府&quot;</td><td>35.026962</td><td>135.781967</td><td>1886-04-01</td><td>28</td><td>94</td><td>true</td><td>false</td><td>4.2</td><td>1434.0</td><td>65.6</td><td>&quot;S&quot;</td></tr><tr><td>&quot;国際教養大学&quot;</td><td>&quot;公立&quot;</td><td>&quot;秋田県秋田市雄和椿川字奥椿岱&quot;</td><td>&quot;秋田県&quot;</td><td>39.62706</td><td>140.181107</td><td>2004-04-01</td><td>2</td><td>4</td><td>true</td><td>false</td><td>4.18</td><td>100.0</td><td>69.7</td><td>&quot;S&quot;</td></tr><tr><td>&quot;慶應義塾大学&quot;</td><td>&quot;私立&quot;</td><td>&quot;東京都港区三田2－15－45&quot;</td><td>&quot;東京都&quot;</td><td>35.649147</td><td>139.742828</td><td>1890-01-01</td><td>28</td><td>59</td><td>true</td><td>true</td><td>4.19</td><td>2682.0</td><td>66.3</td><td>&quot;S&quot;</td></tr><tr><td>&quot;日本医科大学&quot;</td><td>&quot;私立&quot;</td><td>&quot;東京都文京区千駄木1－1－5&quot;</td><td>&quot;東京都&quot;</td><td>35.721233</td><td>139.758453</td><td>1904-04-01</td><td>2</td><td>2</td><td>true</td><td>false</td><td>3.99</td><td>31.0</td><td>70.0</td><td>&quot;S&quot;</td></tr><tr><td>&quot;早稲田大学&quot;</td><td>&quot;私立&quot;</td><td>&quot;東京都新宿区戸塚町１－１０４&quot;</td><td>&quot;東京都&quot;</td><td>35.710083</td><td>139.722244</td><td>1902-10-01</td><td>35</td><td>94</td><td>true</td><td>true</td><td>4.14</td><td>4280.0</td><td>65.7</td><td>&quot;S&quot;</td></tr><tr><td>&quot;国際基督教大学&quot;</td><td>&quot;私立&quot;</td><td>&quot;東京都三鷹市大沢3－10－2&quot;</td><td>&quot;東京都&quot;</td><td>35.686474</td><td>139.527481</td><td>1953-03-01</td><td>2</td><td>6</td><td>true</td><td>false</td><td>4.43</td><td>206.0</td><td>68.0</td><td>&quot;S&quot;</td></tr></tbody></table></div>"
      ],
      "text/plain": [
       "shape: (8, 15)\n",
       "┌─────────┬─────────┬─────────┬────────┬───┬────────┬────────┬────────┬────────┐\n",
       "│ name_jp ┆ type_jp ┆ address ┆ state_ ┆ … ┆ review ┆ review ┆ diffic ┆ diffic │\n",
       "│ ---     ┆ ---     ┆ ---     ┆ jp     ┆   ┆ _ratin ┆ _count ┆ ulty_S ┆ ulty_r │\n",
       "│ str     ┆ cat     ┆ str     ┆ ---    ┆   ┆ g      ┆ ---    ┆ D      ┆ ank    │\n",
       "│         ┆         ┆         ┆ str    ┆   ┆ ---    ┆ f64    ┆ ---    ┆ ---    │\n",
       "│         ┆         ┆         ┆        ┆   ┆ f64    ┆        ┆ f64    ┆ cat    │\n",
       "╞═════════╪═════════╪═════════╪════════╪═══╪════════╪════════╪════════╪════════╡\n",
       "│ 東京大  ┆ 国立    ┆ 東京都  ┆ 東京都 ┆ … ┆ 4.34   ┆ 2206.0 ┆ 70.5   ┆ S      │\n",
       "│ 学      ┆         ┆ 文京区  ┆        ┆   ┆        ┆        ┆        ┆        │\n",
       "│         ┆         ┆ 本郷7－ ┆        ┆   ┆        ┆        ┆        ┆        │\n",
       "│         ┆         ┆ 3－1    ┆        ┆   ┆        ┆        ┆        ┆        │\n",
       "│ 一橋大  ┆ 国立    ┆ 東京都  ┆ 東京都 ┆ … ┆ 4.26   ┆ 432.0  ┆ 67.9   ┆ S      │\n",
       "│ 学      ┆         ┆ 国立市  ┆        ┆   ┆        ┆        ┆        ┆        │\n",
       "│         ┆         ┆ 中2－1  ┆        ┆   ┆        ┆        ┆        ┆        │\n",
       "│ 京都大  ┆ 国立    ┆ 京都府  ┆ 京都府 ┆ … ┆ 4.2    ┆ 1434.0 ┆ 65.6   ┆ S      │\n",
       "│ 学      ┆         ┆ 京都市  ┆        ┆   ┆        ┆        ┆        ┆        │\n",
       "│         ┆         ┆ 左京区  ┆        ┆   ┆        ┆        ┆        ┆        │\n",
       "│         ┆         ┆ 吉田本  ┆        ┆   ┆        ┆        ┆        ┆        │\n",
       "│         ┆         ┆ 町      ┆        ┆   ┆        ┆        ┆        ┆        │\n",
       "│ 国際教  ┆ 公立    ┆ 秋田県  ┆ 秋田県 ┆ … ┆ 4.18   ┆ 100.0  ┆ 69.7   ┆ S      │\n",
       "│ 養大学  ┆         ┆ 秋田市  ┆        ┆   ┆        ┆        ┆        ┆        │\n",
       "│         ┆         ┆ 雄和椿  ┆        ┆   ┆        ┆        ┆        ┆        │\n",
       "│         ┆         ┆ 川字奥  ┆        ┆   ┆        ┆        ┆        ┆        │\n",
       "│         ┆         ┆ 椿岱    ┆        ┆   ┆        ┆        ┆        ┆        │\n",
       "│ 慶應義  ┆ 私立    ┆ 東京都  ┆ 東京都 ┆ … ┆ 4.19   ┆ 2682.0 ┆ 66.3   ┆ S      │\n",
       "│ 塾大学  ┆         ┆ 港区三  ┆        ┆   ┆        ┆        ┆        ┆        │\n",
       "│         ┆         ┆ 田2－15 ┆        ┆   ┆        ┆        ┆        ┆        │\n",
       "│         ┆         ┆ －45    ┆        ┆   ┆        ┆        ┆        ┆        │\n",
       "│ 日本医  ┆ 私立    ┆ 東京都  ┆ 東京都 ┆ … ┆ 3.99   ┆ 31.0   ┆ 70.0   ┆ S      │\n",
       "│ 科大学  ┆         ┆ 文京区  ┆        ┆   ┆        ┆        ┆        ┆        │\n",
       "│         ┆         ┆ 千駄木1 ┆        ┆   ┆        ┆        ┆        ┆        │\n",
       "│         ┆         ┆ －1－5  ┆        ┆   ┆        ┆        ┆        ┆        │\n",
       "│ 早稲田  ┆ 私立    ┆ 東京都  ┆ 東京都 ┆ … ┆ 4.14   ┆ 4280.0 ┆ 65.7   ┆ S      │\n",
       "│ 大学    ┆         ┆ 新宿区  ┆        ┆   ┆        ┆        ┆        ┆        │\n",
       "│         ┆         ┆ 戸塚町  ┆        ┆   ┆        ┆        ┆        ┆        │\n",
       "│         ┆         ┆ １－１  ┆        ┆   ┆        ┆        ┆        ┆        │\n",
       "│         ┆         ┆ ０４    ┆        ┆   ┆        ┆        ┆        ┆        │\n",
       "│ 国際基  ┆ 私立    ┆ 東京都  ┆ 東京都 ┆ … ┆ 4.43   ┆ 206.0  ┆ 68.0   ┆ S      │\n",
       "│ 督教大  ┆         ┆ 三鷹市  ┆        ┆   ┆        ┆        ┆        ┆        │\n",
       "│ 学      ┆         ┆ 大沢3－ ┆        ┆   ┆        ┆        ┆        ┆        │\n",
       "│         ┆         ┆ 10－2   ┆        ┆   ┆        ┆        ┆        ┆        │\n",
       "└─────────┴─────────┴─────────┴────────┴───┴────────┴────────┴────────┴────────┘"
      ]
     },
     "execution_count": 7,
     "metadata": {},
     "output_type": "execute_result"
    }
   ],
   "source": [
    "df3.filter(\n",
    "    pl.col('difficulty_SD') > 65\n",
    ")"
   ]
  },
  {
   "cell_type": "markdown",
   "id": "7994cfb1-4c23-45a0-8a5c-ab1805ca9202",
   "metadata": {},
   "source": [
    "Pythonのビット演算子`~, |, &`を使って、複数の条件をANDやORで組み合わせて行を選択することができます。次のコードは、大阪にあり偏差値が55より高い大学を抽出します。"
   ]
  },
  {
   "cell_type": "code",
   "execution_count": 8,
   "id": "551bd4a6-7ec8-4a55-a9ab-89ae65f993ca",
   "metadata": {},
   "outputs": [
    {
     "data": {
      "text/html": [
       "<div><style>\n",
       ".dataframe > thead > tr,\n",
       ".dataframe > tbody > tr {\n",
       "  text-align: right;\n",
       "  white-space: pre-wrap;\n",
       "}\n",
       "</style>\n",
       "<small>shape: (3, 15)</small><table border=\"1\" class=\"dataframe\"><thead><tr><th>name_jp</th><th>type_jp</th><th>address</th><th>state_jp</th><th>latitude</th><th>longitude</th><th>found</th><th>faculty_count</th><th>department_count</th><th>has_grad</th><th>has_remote</th><th>review_rating</th><th>review_count</th><th>difficulty_SD</th><th>difficulty_rank</th></tr><tr><td>str</td><td>cat</td><td>str</td><td>str</td><td>f64</td><td>f64</td><td>date</td><td>i64</td><td>i64</td><td>bool</td><td>bool</td><td>f64</td><td>f64</td><td>f64</td><td>cat</td></tr></thead><tbody><tr><td>&quot;大阪大学&quot;</td><td>&quot;国立&quot;</td><td>&quot;大阪府吹田市山田丘1－1&quot;</td><td>&quot;大阪府&quot;</td><td>34.819496</td><td>135.521164</td><td>1917-04-01</td><td>26</td><td>75</td><td>true</td><td>false</td><td>4.12</td><td>1840.0</td><td>61.3</td><td>&quot;A&quot;</td></tr><tr><td>&quot;大阪医科薬科大学&quot;</td><td>&quot;私立&quot;</td><td>&quot;大阪府高槻市大学町2－7&quot;</td><td>&quot;大阪府&quot;</td><td>34.85186</td><td>135.624405</td><td>1904-05-01</td><td>6</td><td>9</td><td>true</td><td>false</td><td>4.11</td><td>9.0</td><td>57.0</td><td>&quot;B&quot;</td></tr><tr><td>&quot;関西大学&quot;</td><td>&quot;私立&quot;</td><td>&quot;大阪府吹田市山手町3－3－35&quot;</td><td>&quot;大阪府&quot;</td><td>34.769669</td><td>135.510162</td><td>1904-01-01</td><td>29</td><td>44</td><td>true</td><td>false</td><td>3.95</td><td>2661.0</td><td>55.6</td><td>&quot;B&quot;</td></tr></tbody></table></div>"
      ],
      "text/plain": [
       "shape: (3, 15)\n",
       "┌─────────┬─────────┬─────────┬────────┬───┬────────┬────────┬────────┬────────┐\n",
       "│ name_jp ┆ type_jp ┆ address ┆ state_ ┆ … ┆ review ┆ review ┆ diffic ┆ diffic │\n",
       "│ ---     ┆ ---     ┆ ---     ┆ jp     ┆   ┆ _ratin ┆ _count ┆ ulty_S ┆ ulty_r │\n",
       "│ str     ┆ cat     ┆ str     ┆ ---    ┆   ┆ g      ┆ ---    ┆ D      ┆ ank    │\n",
       "│         ┆         ┆         ┆ str    ┆   ┆ ---    ┆ f64    ┆ ---    ┆ ---    │\n",
       "│         ┆         ┆         ┆        ┆   ┆ f64    ┆        ┆ f64    ┆ cat    │\n",
       "╞═════════╪═════════╪═════════╪════════╪═══╪════════╪════════╪════════╪════════╡\n",
       "│ 大阪大  ┆ 国立    ┆ 大阪府  ┆ 大阪府 ┆ … ┆ 4.12   ┆ 1840.0 ┆ 61.3   ┆ A      │\n",
       "│ 学      ┆         ┆ 吹田市  ┆        ┆   ┆        ┆        ┆        ┆        │\n",
       "│         ┆         ┆ 山田丘1 ┆        ┆   ┆        ┆        ┆        ┆        │\n",
       "│         ┆         ┆ －1     ┆        ┆   ┆        ┆        ┆        ┆        │\n",
       "│ 大阪医  ┆ 私立    ┆ 大阪府  ┆ 大阪府 ┆ … ┆ 4.11   ┆ 9.0    ┆ 57.0   ┆ B      │\n",
       "│ 科薬科  ┆         ┆ 高槻市  ┆        ┆   ┆        ┆        ┆        ┆        │\n",
       "│ 大学    ┆         ┆ 大学町2 ┆        ┆   ┆        ┆        ┆        ┆        │\n",
       "│         ┆         ┆ －7     ┆        ┆   ┆        ┆        ┆        ┆        │\n",
       "│ 関西大  ┆ 私立    ┆ 大阪府  ┆ 大阪府 ┆ … ┆ 3.95   ┆ 2661.0 ┆ 55.6   ┆ B      │\n",
       "│ 学      ┆         ┆ 吹田市  ┆        ┆   ┆        ┆        ┆        ┆        │\n",
       "│         ┆         ┆ 山手町3 ┆        ┆   ┆        ┆        ┆        ┆        │\n",
       "│         ┆         ┆ －3－35 ┆        ┆   ┆        ┆        ┆        ┆        │\n",
       "└─────────┴─────────┴─────────┴────────┴───┴────────┴────────┴────────┴────────┘"
      ]
     },
     "execution_count": 8,
     "metadata": {},
     "output_type": "execute_result"
    }
   ],
   "source": [
    "df3.filter(\n",
    "    (pl.col('difficulty_SD') > 55) & (pl.col('state_jp').str.starts_with(\"大阪\"))\n",
    ")"
   ]
  },
  {
   "attachments": {},
   "cell_type": "markdown",
   "id": "c20e3323-e1e2-4103-9ab3-4b4d77f6fd34",
   "metadata": {},
   "source": [
    "## メソッドチェーン\n",
    "\n",
    "メソッドチェーンとは、複数のメソッドを連続して呼び出すプログラミングスタイルのことです。Polarsライブラリでは、データフレームに対して複数の操作を直感的に連鎖させるためにこのスタイルをよく使用します。メソッドチェーンを使うことで、コードが読みやすくなり、一連のデータ処理操作を一つの流れとして視覚的に把握することができます。\n",
    "\n",
    "以下のコードは、データフレーム`df3`に対して一連の操作をメソッドチェーンを使って行っています：\n",
    "\n",
    "* `filter()`で`type_jp`列が「国立」である行をフィルタリングします。\n",
    "* `sort()`で`difficulty_SD`列に基づいて、データを降順（大きい順）にソートします。\n",
    "* `drop_nulls()`で`difficulty_SD`列にNULL（欠損値）が含まれる行を削除します。\n",
    "* `select()`で`name_jp`列と`difficulty_SD`列だけを選択します。\n",
    "* `head()`で最初の5行を取得します。"
   ]
  },
  {
   "cell_type": "code",
   "execution_count": 9,
   "id": "8ef761c0-dd4f-42e6-befc-cd86cb131f4d",
   "metadata": {},
   "outputs": [
    {
     "data": {
      "text/html": [
       "<div><style>\n",
       ".dataframe > thead > tr,\n",
       ".dataframe > tbody > tr {\n",
       "  text-align: right;\n",
       "  white-space: pre-wrap;\n",
       "}\n",
       "</style>\n",
       "<small>shape: (5, 2)</small><table border=\"1\" class=\"dataframe\"><thead><tr><th>name_jp</th><th>difficulty_SD</th></tr><tr><td>str</td><td>f64</td></tr></thead><tbody><tr><td>&quot;東京大学&quot;</td><td>70.5</td></tr><tr><td>&quot;一橋大学&quot;</td><td>67.9</td></tr><tr><td>&quot;京都大学&quot;</td><td>65.6</td></tr><tr><td>&quot;東京工業大学&quot;</td><td>65.0</td></tr><tr><td>&quot;浜松医科大学&quot;</td><td>64.4</td></tr></tbody></table></div>"
      ],
      "text/plain": [
       "shape: (5, 2)\n",
       "┌──────────────┬───────────────┐\n",
       "│ name_jp      ┆ difficulty_SD │\n",
       "│ ---          ┆ ---           │\n",
       "│ str          ┆ f64           │\n",
       "╞══════════════╪═══════════════╡\n",
       "│ 東京大学     ┆ 70.5          │\n",
       "│ 一橋大学     ┆ 67.9          │\n",
       "│ 京都大学     ┆ 65.6          │\n",
       "│ 東京工業大学 ┆ 65.0          │\n",
       "│ 浜松医科大学 ┆ 64.4          │\n",
       "└──────────────┴───────────────┘"
      ]
     },
     "execution_count": 9,
     "metadata": {},
     "output_type": "execute_result"
    }
   ],
   "source": [
    "(df3\n",
    ".filter(pl.col.type_jp == '国立')\n",
    ".sort('difficulty_SD', descending=True)\n",
    ".drop_nulls('difficulty_SD')\n",
    ".select('name_jp', 'difficulty_SD')\n",
    ".head(5)\n",
    ")"
   ]
  },
  {
   "cell_type": "markdown",
   "id": "e28dc06a-21a0-4f02-98a9-b1ad34f6b2c2",
   "metadata": {},
   "source": [
    "## グループ処理"
   ]
  },
  {
   "cell_type": "markdown",
   "id": "9269f465-1eed-4e35-bf47-79a6997b3aa5",
   "metadata": {},
   "source": [
    "次のコードで、`type_jp`列のユニークな値を取得します。結果から、国立、公立、私立の3種類の大学のデータがあることがわかります。"
   ]
  },
  {
   "cell_type": "code",
   "execution_count": 10,
   "id": "c8511b44-2cb7-48ac-bbfc-301e2f166d94",
   "metadata": {},
   "outputs": [
    {
     "data": {
      "text/html": [
       "<div><style>\n",
       ".dataframe > thead > tr,\n",
       ".dataframe > tbody > tr {\n",
       "  text-align: right;\n",
       "  white-space: pre-wrap;\n",
       "}\n",
       "</style>\n",
       "<small>shape: (3, 1)</small><table border=\"1\" class=\"dataframe\"><thead><tr><th>type_jp</th></tr><tr><td>cat</td></tr></thead><tbody><tr><td>&quot;国立&quot;</td></tr><tr><td>&quot;公立&quot;</td></tr><tr><td>&quot;私立&quot;</td></tr></tbody></table></div>"
      ],
      "text/plain": [
       "shape: (3, 1)\n",
       "┌─────────┐\n",
       "│ type_jp │\n",
       "│ ---     │\n",
       "│ cat     │\n",
       "╞═════════╡\n",
       "│ 国立    │\n",
       "│ 公立    │\n",
       "│ 私立    │\n",
       "└─────────┘"
      ]
     },
     "execution_count": 10,
     "metadata": {},
     "output_type": "execute_result"
    }
   ],
   "source": [
    "df3.select(pl.col('type_jp').unique())"
   ]
  },
  {
   "cell_type": "markdown",
   "id": "c73408a7-cc4e-4782-a5fc-bdf9d821ad85",
   "metadata": {},
   "source": [
    "`type_jp`列のような分類列に対して、グループ化し、各個グループのデータを集計を行うために、`group_by()`と`agg()`を使います。\n",
    "\n",
    "* `group_by()`: 指定した列の値ごとにデータをグループ化します。\n",
    "* `agg()`: グループ化した後に、各グループに対して特定の集計処理（例えば、カウント、合計、平均など）を実行します。\n",
    "\n",
    "次の例では`pl.len()`で各個グループの長さを取得します。"
   ]
  },
  {
   "cell_type": "code",
   "execution_count": 11,
   "id": "70977191-5ec0-48a7-b10a-9cc80e39d83f",
   "metadata": {},
   "outputs": [
    {
     "data": {
      "text/html": [
       "<div><style>\n",
       ".dataframe > thead > tr,\n",
       ".dataframe > tbody > tr {\n",
       "  text-align: right;\n",
       "  white-space: pre-wrap;\n",
       "}\n",
       "</style>\n",
       "<small>shape: (3, 2)</small><table border=\"1\" class=\"dataframe\"><thead><tr><th>type_jp</th><th>len</th></tr><tr><td>cat</td><td>u32</td></tr></thead><tbody><tr><td>&quot;国立&quot;</td><td>86</td></tr><tr><td>&quot;公立&quot;</td><td>101</td></tr><tr><td>&quot;私立&quot;</td><td>626</td></tr></tbody></table></div>"
      ],
      "text/plain": [
       "shape: (3, 2)\n",
       "┌─────────┬─────┐\n",
       "│ type_jp ┆ len │\n",
       "│ ---     ┆ --- │\n",
       "│ cat     ┆ u32 │\n",
       "╞═════════╪═════╡\n",
       "│ 国立    ┆ 86  │\n",
       "│ 公立    ┆ 101 │\n",
       "│ 私立    ┆ 626 │\n",
       "└─────────┴─────┘"
      ]
     },
     "execution_count": 11,
     "metadata": {},
     "output_type": "execute_result"
    }
   ],
   "source": [
    "df3.group_by('type_jp').agg(pl.len())"
   ]
  },
  {
   "cell_type": "markdown",
   "id": "0ed5638a-d9f1-428a-a28e-b0011009bf22",
   "metadata": {},
   "source": [
    "次のコードは、各グループのサイズに加えて、偏差値列(difficulty_SD)の最小値、中間値、平均値、最大値を求めます。キーワード引数を使用して列名を指定します。"
   ]
  },
  {
   "cell_type": "code",
   "execution_count": 12,
   "id": "341f6ebe-0d0b-4147-988c-95c3212f602b",
   "metadata": {},
   "outputs": [
    {
     "data": {
      "text/html": [
       "<div><style>\n",
       ".dataframe > thead > tr,\n",
       ".dataframe > tbody > tr {\n",
       "  text-align: right;\n",
       "  white-space: pre-wrap;\n",
       "}\n",
       "</style>\n",
       "<small>shape: (3, 6)</small><table border=\"1\" class=\"dataframe\"><thead><tr><th>type_jp</th><th>count</th><th>min</th><th>median</th><th>mean</th><th>max</th></tr><tr><td>cat</td><td>u32</td><td>f64</td><td>f64</td><td>f64</td><td>f64</td></tr></thead><tbody><tr><td>&quot;国立&quot;</td><td>86</td><td>35.7</td><td>51.7</td><td>52.917073</td><td>70.5</td></tr><tr><td>&quot;公立&quot;</td><td>101</td><td>40.0</td><td>50.0</td><td>50.042391</td><td>69.7</td></tr><tr><td>&quot;私立&quot;</td><td>626</td><td>35.0</td><td>38.5</td><td>40.801034</td><td>70.0</td></tr></tbody></table></div>"
      ],
      "text/plain": [
       "shape: (3, 6)\n",
       "┌─────────┬───────┬──────┬────────┬───────────┬──────┐\n",
       "│ type_jp ┆ count ┆ min  ┆ median ┆ mean      ┆ max  │\n",
       "│ ---     ┆ ---   ┆ ---  ┆ ---    ┆ ---       ┆ ---  │\n",
       "│ cat     ┆ u32   ┆ f64  ┆ f64    ┆ f64       ┆ f64  │\n",
       "╞═════════╪═══════╪══════╪════════╪═══════════╪══════╡\n",
       "│ 国立    ┆ 86    ┆ 35.7 ┆ 51.7   ┆ 52.917073 ┆ 70.5 │\n",
       "│ 公立    ┆ 101   ┆ 40.0 ┆ 50.0   ┆ 50.042391 ┆ 69.7 │\n",
       "│ 私立    ┆ 626   ┆ 35.0 ┆ 38.5   ┆ 40.801034 ┆ 70.0 │\n",
       "└─────────┴───────┴──────┴────────┴───────────┴──────┘"
      ]
     },
     "execution_count": 12,
     "metadata": {},
     "output_type": "execute_result"
    }
   ],
   "source": [
    "(df3\n",
    ".group_by('type_jp')\n",
    ".agg(\n",
    "    count = pl.len(),\n",
    "    min = pl.col('difficulty_SD').min(),\n",
    "    median = pl.col('difficulty_SD').median(),\n",
    "    mean = pl.col('difficulty_SD').mean(),\n",
    "    max = pl.col('difficulty_SD').max(),\n",
    ")\n",
    ")"
   ]
  },
  {
   "cell_type": "markdown",
   "id": "0665baf0-bbba-4630-8af1-164e7e8b4389",
   "metadata": {},
   "source": [
    "## グラフ"
   ]
  },
  {
   "cell_type": "markdown",
   "id": "0cebd59c-3cf1-4e45-889d-b96628d1a44e",
   "metadata": {},
   "source": [
    "Polars自体にはグラフを出力する機能がありませんが、次のコマンドで`hvplot`と`geoviews`をインストールすれば、インタラクティブなグラフを作成することができます。\n",
    "\n",
    "```\n",
    "conda install hvplot geoviews\n",
    "```"
   ]
  },
  {
   "cell_type": "markdown",
   "id": "c7b8b6f9-9a40-4ebb-92de-f8ed789e2552",
   "metadata": {},
   "source": [
    "### 棒グラフ"
   ]
  },
  {
   "cell_type": "markdown",
   "id": "8c7b15b3-1a9b-4fbe-8993-18588076f7f9",
   "metadata": {},
   "source": [
    "以下のプログラムは、都道府県ごとにグループ化し、各都道府県にある大学の数を計算して、降順に並べ替え、最終的に棒グラフを作成します。グラフ作成関連のメソッドは全部`.plot`ネーミングスペースの下にあります。`bar()`メソッドの各個引数は以下のようです。\n",
    "\n",
    "* X軸に`x_label`（都道府県）、Y軸に`y_label`（大学の数）を設定します。\n",
    "* `rot=90`はX軸のラベル（都道府県名）を90度回転させ、縦向きに表示します。\n",
    "* `frame_width=900`はグラフの幅を900ピクセルに設定します。"
   ]
  },
  {
   "cell_type": "code",
   "execution_count": 13,
   "id": "db6cd0f4-c798-447b-967d-701951e84382",
   "metadata": {},
   "outputs": [
    {
     "data": {
      "application/javascript": [
       "(function(root) {\n",
       "  function now() {\n",
       "    return new Date();\n",
       "  }\n",
       "\n",
       "  var force = true;\n",
       "  var py_version = '3.4.2'.replace('rc', '-rc.').replace('.dev', '-dev.');\n",
       "  var reloading = false;\n",
       "  var Bokeh = root.Bokeh;\n",
       "\n",
       "  if (typeof (root._bokeh_timeout) === \"undefined\" || force) {\n",
       "    root._bokeh_timeout = Date.now() + 5000;\n",
       "    root._bokeh_failed_load = false;\n",
       "  }\n",
       "\n",
       "  function run_callbacks() {\n",
       "    try {\n",
       "      root._bokeh_onload_callbacks.forEach(function(callback) {\n",
       "        if (callback != null)\n",
       "          callback();\n",
       "      });\n",
       "    } finally {\n",
       "      delete root._bokeh_onload_callbacks;\n",
       "    }\n",
       "    console.debug(\"Bokeh: all callbacks have finished\");\n",
       "  }\n",
       "\n",
       "  function load_libs(css_urls, js_urls, js_modules, js_exports, callback) {\n",
       "    if (css_urls == null) css_urls = [];\n",
       "    if (js_urls == null) js_urls = [];\n",
       "    if (js_modules == null) js_modules = [];\n",
       "    if (js_exports == null) js_exports = {};\n",
       "\n",
       "    root._bokeh_onload_callbacks.push(callback);\n",
       "\n",
       "    if (root._bokeh_is_loading > 0) {\n",
       "      console.debug(\"Bokeh: BokehJS is being loaded, scheduling callback at\", now());\n",
       "      return null;\n",
       "    }\n",
       "    if (js_urls.length === 0 && js_modules.length === 0 && Object.keys(js_exports).length === 0) {\n",
       "      run_callbacks();\n",
       "      return null;\n",
       "    }\n",
       "    if (!reloading) {\n",
       "      console.debug(\"Bokeh: BokehJS not loaded, scheduling load and callback at\", now());\n",
       "    }\n",
       "\n",
       "    function on_load() {\n",
       "      root._bokeh_is_loading--;\n",
       "      if (root._bokeh_is_loading === 0) {\n",
       "        console.debug(\"Bokeh: all BokehJS libraries/stylesheets loaded\");\n",
       "        run_callbacks()\n",
       "      }\n",
       "    }\n",
       "    window._bokeh_on_load = on_load\n",
       "\n",
       "    function on_error() {\n",
       "      console.error(\"failed to load \" + url);\n",
       "    }\n",
       "\n",
       "    var skip = [];\n",
       "    if (window.requirejs) {\n",
       "      window.requirejs.config({'packages': {}, 'paths': {}, 'shim': {}});\n",
       "      root._bokeh_is_loading = css_urls.length + 0;\n",
       "    } else {\n",
       "      root._bokeh_is_loading = css_urls.length + js_urls.length + js_modules.length + Object.keys(js_exports).length;\n",
       "    }\n",
       "\n",
       "    var existing_stylesheets = []\n",
       "    var links = document.getElementsByTagName('link')\n",
       "    for (var i = 0; i < links.length; i++) {\n",
       "      var link = links[i]\n",
       "      if (link.href != null) {\n",
       "\texisting_stylesheets.push(link.href)\n",
       "      }\n",
       "    }\n",
       "    for (var i = 0; i < css_urls.length; i++) {\n",
       "      var url = css_urls[i];\n",
       "      if (existing_stylesheets.indexOf(url) !== -1) {\n",
       "\ton_load()\n",
       "\tcontinue;\n",
       "      }\n",
       "      const element = document.createElement(\"link\");\n",
       "      element.onload = on_load;\n",
       "      element.onerror = on_error;\n",
       "      element.rel = \"stylesheet\";\n",
       "      element.type = \"text/css\";\n",
       "      element.href = url;\n",
       "      console.debug(\"Bokeh: injecting link tag for BokehJS stylesheet: \", url);\n",
       "      document.body.appendChild(element);\n",
       "    }    var existing_scripts = []\n",
       "    var scripts = document.getElementsByTagName('script')\n",
       "    for (var i = 0; i < scripts.length; i++) {\n",
       "      var script = scripts[i]\n",
       "      if (script.src != null) {\n",
       "\texisting_scripts.push(script.src)\n",
       "      }\n",
       "    }\n",
       "    for (var i = 0; i < js_urls.length; i++) {\n",
       "      var url = js_urls[i];\n",
       "      if (skip.indexOf(url) !== -1 || existing_scripts.indexOf(url) !== -1) {\n",
       "\tif (!window.requirejs) {\n",
       "\t  on_load();\n",
       "\t}\n",
       "\tcontinue;\n",
       "      }\n",
       "      var element = document.createElement('script');\n",
       "      element.onload = on_load;\n",
       "      element.onerror = on_error;\n",
       "      element.async = false;\n",
       "      element.src = url;\n",
       "      console.debug(\"Bokeh: injecting script tag for BokehJS library: \", url);\n",
       "      document.head.appendChild(element);\n",
       "    }\n",
       "    for (var i = 0; i < js_modules.length; i++) {\n",
       "      var url = js_modules[i];\n",
       "      if (skip.indexOf(url) !== -1 || existing_scripts.indexOf(url) !== -1) {\n",
       "\tif (!window.requirejs) {\n",
       "\t  on_load();\n",
       "\t}\n",
       "\tcontinue;\n",
       "      }\n",
       "      var element = document.createElement('script');\n",
       "      element.onload = on_load;\n",
       "      element.onerror = on_error;\n",
       "      element.async = false;\n",
       "      element.src = url;\n",
       "      element.type = \"module\";\n",
       "      console.debug(\"Bokeh: injecting script tag for BokehJS library: \", url);\n",
       "      document.head.appendChild(element);\n",
       "    }\n",
       "    for (const name in js_exports) {\n",
       "      var url = js_exports[name];\n",
       "      if (skip.indexOf(url) >= 0 || root[name] != null) {\n",
       "\tif (!window.requirejs) {\n",
       "\t  on_load();\n",
       "\t}\n",
       "\tcontinue;\n",
       "      }\n",
       "      var element = document.createElement('script');\n",
       "      element.onerror = on_error;\n",
       "      element.async = false;\n",
       "      element.type = \"module\";\n",
       "      console.debug(\"Bokeh: injecting script tag for BokehJS library: \", url);\n",
       "      element.textContent = `\n",
       "      import ${name} from \"${url}\"\n",
       "      window.${name} = ${name}\n",
       "      window._bokeh_on_load()\n",
       "      `\n",
       "      document.head.appendChild(element);\n",
       "    }\n",
       "    if (!js_urls.length && !js_modules.length) {\n",
       "      on_load()\n",
       "    }\n",
       "  };\n",
       "\n",
       "  function inject_raw_css(css) {\n",
       "    const element = document.createElement(\"style\");\n",
       "    element.appendChild(document.createTextNode(css));\n",
       "    document.body.appendChild(element);\n",
       "  }\n",
       "\n",
       "  var js_urls = [\"https://cdn.bokeh.org/bokeh/release/bokeh-3.4.2.min.js\", \"https://cdn.bokeh.org/bokeh/release/bokeh-gl-3.4.2.min.js\", \"https://cdn.bokeh.org/bokeh/release/bokeh-widgets-3.4.2.min.js\", \"https://cdn.bokeh.org/bokeh/release/bokeh-tables-3.4.2.min.js\", \"https://cdn.holoviz.org/panel/1.4.4/dist/panel.min.js\"];\n",
       "  var js_modules = [];\n",
       "  var js_exports = {};\n",
       "  var css_urls = [];\n",
       "  var inline_js = [    function(Bokeh) {\n",
       "      Bokeh.set_log_level(\"info\");\n",
       "    },\n",
       "function(Bokeh) {} // ensure no trailing comma for IE\n",
       "  ];\n",
       "\n",
       "  function run_inline_js() {\n",
       "    if ((root.Bokeh !== undefined) || (force === true)) {\n",
       "      for (var i = 0; i < inline_js.length; i++) {\n",
       "\ttry {\n",
       "          inline_js[i].call(root, root.Bokeh);\n",
       "\t} catch(e) {\n",
       "\t  if (!reloading) {\n",
       "\t    throw e;\n",
       "\t  }\n",
       "\t}\n",
       "      }\n",
       "      // Cache old bokeh versions\n",
       "      if (Bokeh != undefined && !reloading) {\n",
       "\tvar NewBokeh = root.Bokeh;\n",
       "\tif (Bokeh.versions === undefined) {\n",
       "\t  Bokeh.versions = new Map();\n",
       "\t}\n",
       "\tif (NewBokeh.version !== Bokeh.version) {\n",
       "\t  Bokeh.versions.set(NewBokeh.version, NewBokeh)\n",
       "\t}\n",
       "\troot.Bokeh = Bokeh;\n",
       "      }} else if (Date.now() < root._bokeh_timeout) {\n",
       "      setTimeout(run_inline_js, 100);\n",
       "    } else if (!root._bokeh_failed_load) {\n",
       "      console.log(\"Bokeh: BokehJS failed to load within specified timeout.\");\n",
       "      root._bokeh_failed_load = true;\n",
       "    }\n",
       "    root._bokeh_is_initializing = false\n",
       "  }\n",
       "\n",
       "  function load_or_wait() {\n",
       "    // Implement a backoff loop that tries to ensure we do not load multiple\n",
       "    // versions of Bokeh and its dependencies at the same time.\n",
       "    // In recent versions we use the root._bokeh_is_initializing flag\n",
       "    // to determine whether there is an ongoing attempt to initialize\n",
       "    // bokeh, however for backward compatibility we also try to ensure\n",
       "    // that we do not start loading a newer (Panel>=1.0 and Bokeh>3) version\n",
       "    // before older versions are fully initialized.\n",
       "    if (root._bokeh_is_initializing && Date.now() > root._bokeh_timeout) {\n",
       "      root._bokeh_is_initializing = false;\n",
       "      root._bokeh_onload_callbacks = undefined;\n",
       "      console.log(\"Bokeh: BokehJS was loaded multiple times but one version failed to initialize.\");\n",
       "      load_or_wait();\n",
       "    } else if (root._bokeh_is_initializing || (typeof root._bokeh_is_initializing === \"undefined\" && root._bokeh_onload_callbacks !== undefined)) {\n",
       "      setTimeout(load_or_wait, 100);\n",
       "    } else {\n",
       "      root._bokeh_is_initializing = true\n",
       "      root._bokeh_onload_callbacks = []\n",
       "      var bokeh_loaded = Bokeh != null && (Bokeh.version === py_version || (Bokeh.versions !== undefined && Bokeh.versions.has(py_version)));\n",
       "      if (!reloading && !bokeh_loaded) {\n",
       "\troot.Bokeh = undefined;\n",
       "      }\n",
       "      load_libs(css_urls, js_urls, js_modules, js_exports, function() {\n",
       "\tconsole.debug(\"Bokeh: BokehJS plotting callback run at\", now());\n",
       "\trun_inline_js();\n",
       "      });\n",
       "    }\n",
       "  }\n",
       "  // Give older versions of the autoload script a head-start to ensure\n",
       "  // they initialize before we start loading newer version.\n",
       "  setTimeout(load_or_wait, 100)\n",
       "}(window));"
      ],
      "application/vnd.holoviews_load.v0+json": "(function(root) {\n  function now() {\n    return new Date();\n  }\n\n  var force = true;\n  var py_version = '3.4.2'.replace('rc', '-rc.').replace('.dev', '-dev.');\n  var reloading = false;\n  var Bokeh = root.Bokeh;\n\n  if (typeof (root._bokeh_timeout) === \"undefined\" || force) {\n    root._bokeh_timeout = Date.now() + 5000;\n    root._bokeh_failed_load = false;\n  }\n\n  function run_callbacks() {\n    try {\n      root._bokeh_onload_callbacks.forEach(function(callback) {\n        if (callback != null)\n          callback();\n      });\n    } finally {\n      delete root._bokeh_onload_callbacks;\n    }\n    console.debug(\"Bokeh: all callbacks have finished\");\n  }\n\n  function load_libs(css_urls, js_urls, js_modules, js_exports, callback) {\n    if (css_urls == null) css_urls = [];\n    if (js_urls == null) js_urls = [];\n    if (js_modules == null) js_modules = [];\n    if (js_exports == null) js_exports = {};\n\n    root._bokeh_onload_callbacks.push(callback);\n\n    if (root._bokeh_is_loading > 0) {\n      console.debug(\"Bokeh: BokehJS is being loaded, scheduling callback at\", now());\n      return null;\n    }\n    if (js_urls.length === 0 && js_modules.length === 0 && Object.keys(js_exports).length === 0) {\n      run_callbacks();\n      return null;\n    }\n    if (!reloading) {\n      console.debug(\"Bokeh: BokehJS not loaded, scheduling load and callback at\", now());\n    }\n\n    function on_load() {\n      root._bokeh_is_loading--;\n      if (root._bokeh_is_loading === 0) {\n        console.debug(\"Bokeh: all BokehJS libraries/stylesheets loaded\");\n        run_callbacks()\n      }\n    }\n    window._bokeh_on_load = on_load\n\n    function on_error() {\n      console.error(\"failed to load \" + url);\n    }\n\n    var skip = [];\n    if (window.requirejs) {\n      window.requirejs.config({'packages': {}, 'paths': {}, 'shim': {}});\n      root._bokeh_is_loading = css_urls.length + 0;\n    } else {\n      root._bokeh_is_loading = css_urls.length + js_urls.length + js_modules.length + Object.keys(js_exports).length;\n    }\n\n    var existing_stylesheets = []\n    var links = document.getElementsByTagName('link')\n    for (var i = 0; i < links.length; i++) {\n      var link = links[i]\n      if (link.href != null) {\n\texisting_stylesheets.push(link.href)\n      }\n    }\n    for (var i = 0; i < css_urls.length; i++) {\n      var url = css_urls[i];\n      if (existing_stylesheets.indexOf(url) !== -1) {\n\ton_load()\n\tcontinue;\n      }\n      const element = document.createElement(\"link\");\n      element.onload = on_load;\n      element.onerror = on_error;\n      element.rel = \"stylesheet\";\n      element.type = \"text/css\";\n      element.href = url;\n      console.debug(\"Bokeh: injecting link tag for BokehJS stylesheet: \", url);\n      document.body.appendChild(element);\n    }    var existing_scripts = []\n    var scripts = document.getElementsByTagName('script')\n    for (var i = 0; i < scripts.length; i++) {\n      var script = scripts[i]\n      if (script.src != null) {\n\texisting_scripts.push(script.src)\n      }\n    }\n    for (var i = 0; i < js_urls.length; i++) {\n      var url = js_urls[i];\n      if (skip.indexOf(url) !== -1 || existing_scripts.indexOf(url) !== -1) {\n\tif (!window.requirejs) {\n\t  on_load();\n\t}\n\tcontinue;\n      }\n      var element = document.createElement('script');\n      element.onload = on_load;\n      element.onerror = on_error;\n      element.async = false;\n      element.src = url;\n      console.debug(\"Bokeh: injecting script tag for BokehJS library: \", url);\n      document.head.appendChild(element);\n    }\n    for (var i = 0; i < js_modules.length; i++) {\n      var url = js_modules[i];\n      if (skip.indexOf(url) !== -1 || existing_scripts.indexOf(url) !== -1) {\n\tif (!window.requirejs) {\n\t  on_load();\n\t}\n\tcontinue;\n      }\n      var element = document.createElement('script');\n      element.onload = on_load;\n      element.onerror = on_error;\n      element.async = false;\n      element.src = url;\n      element.type = \"module\";\n      console.debug(\"Bokeh: injecting script tag for BokehJS library: \", url);\n      document.head.appendChild(element);\n    }\n    for (const name in js_exports) {\n      var url = js_exports[name];\n      if (skip.indexOf(url) >= 0 || root[name] != null) {\n\tif (!window.requirejs) {\n\t  on_load();\n\t}\n\tcontinue;\n      }\n      var element = document.createElement('script');\n      element.onerror = on_error;\n      element.async = false;\n      element.type = \"module\";\n      console.debug(\"Bokeh: injecting script tag for BokehJS library: \", url);\n      element.textContent = `\n      import ${name} from \"${url}\"\n      window.${name} = ${name}\n      window._bokeh_on_load()\n      `\n      document.head.appendChild(element);\n    }\n    if (!js_urls.length && !js_modules.length) {\n      on_load()\n    }\n  };\n\n  function inject_raw_css(css) {\n    const element = document.createElement(\"style\");\n    element.appendChild(document.createTextNode(css));\n    document.body.appendChild(element);\n  }\n\n  var js_urls = [\"https://cdn.bokeh.org/bokeh/release/bokeh-3.4.2.min.js\", \"https://cdn.bokeh.org/bokeh/release/bokeh-gl-3.4.2.min.js\", \"https://cdn.bokeh.org/bokeh/release/bokeh-widgets-3.4.2.min.js\", \"https://cdn.bokeh.org/bokeh/release/bokeh-tables-3.4.2.min.js\", \"https://cdn.holoviz.org/panel/1.4.4/dist/panel.min.js\"];\n  var js_modules = [];\n  var js_exports = {};\n  var css_urls = [];\n  var inline_js = [    function(Bokeh) {\n      Bokeh.set_log_level(\"info\");\n    },\nfunction(Bokeh) {} // ensure no trailing comma for IE\n  ];\n\n  function run_inline_js() {\n    if ((root.Bokeh !== undefined) || (force === true)) {\n      for (var i = 0; i < inline_js.length; i++) {\n\ttry {\n          inline_js[i].call(root, root.Bokeh);\n\t} catch(e) {\n\t  if (!reloading) {\n\t    throw e;\n\t  }\n\t}\n      }\n      // Cache old bokeh versions\n      if (Bokeh != undefined && !reloading) {\n\tvar NewBokeh = root.Bokeh;\n\tif (Bokeh.versions === undefined) {\n\t  Bokeh.versions = new Map();\n\t}\n\tif (NewBokeh.version !== Bokeh.version) {\n\t  Bokeh.versions.set(NewBokeh.version, NewBokeh)\n\t}\n\troot.Bokeh = Bokeh;\n      }} else if (Date.now() < root._bokeh_timeout) {\n      setTimeout(run_inline_js, 100);\n    } else if (!root._bokeh_failed_load) {\n      console.log(\"Bokeh: BokehJS failed to load within specified timeout.\");\n      root._bokeh_failed_load = true;\n    }\n    root._bokeh_is_initializing = false\n  }\n\n  function load_or_wait() {\n    // Implement a backoff loop that tries to ensure we do not load multiple\n    // versions of Bokeh and its dependencies at the same time.\n    // In recent versions we use the root._bokeh_is_initializing flag\n    // to determine whether there is an ongoing attempt to initialize\n    // bokeh, however for backward compatibility we also try to ensure\n    // that we do not start loading a newer (Panel>=1.0 and Bokeh>3) version\n    // before older versions are fully initialized.\n    if (root._bokeh_is_initializing && Date.now() > root._bokeh_timeout) {\n      root._bokeh_is_initializing = false;\n      root._bokeh_onload_callbacks = undefined;\n      console.log(\"Bokeh: BokehJS was loaded multiple times but one version failed to initialize.\");\n      load_or_wait();\n    } else if (root._bokeh_is_initializing || (typeof root._bokeh_is_initializing === \"undefined\" && root._bokeh_onload_callbacks !== undefined)) {\n      setTimeout(load_or_wait, 100);\n    } else {\n      root._bokeh_is_initializing = true\n      root._bokeh_onload_callbacks = []\n      var bokeh_loaded = Bokeh != null && (Bokeh.version === py_version || (Bokeh.versions !== undefined && Bokeh.versions.has(py_version)));\n      if (!reloading && !bokeh_loaded) {\n\troot.Bokeh = undefined;\n      }\n      load_libs(css_urls, js_urls, js_modules, js_exports, function() {\n\tconsole.debug(\"Bokeh: BokehJS plotting callback run at\", now());\n\trun_inline_js();\n      });\n    }\n  }\n  // Give older versions of the autoload script a head-start to ensure\n  // they initialize before we start loading newer version.\n  setTimeout(load_or_wait, 100)\n}(window));"
     },
     "metadata": {},
     "output_type": "display_data"
    },
    {
     "data": {
      "application/javascript": [
       "\n",
       "if ((window.PyViz === undefined) || (window.PyViz instanceof HTMLElement)) {\n",
       "  window.PyViz = {comms: {}, comm_status:{}, kernels:{}, receivers: {}, plot_index: []}\n",
       "}\n",
       "\n",
       "\n",
       "    function JupyterCommManager() {\n",
       "    }\n",
       "\n",
       "    JupyterCommManager.prototype.register_target = function(plot_id, comm_id, msg_handler) {\n",
       "      if (window.comm_manager || ((window.Jupyter !== undefined) && (Jupyter.notebook.kernel != null))) {\n",
       "        var comm_manager = window.comm_manager || Jupyter.notebook.kernel.comm_manager;\n",
       "        comm_manager.register_target(comm_id, function(comm) {\n",
       "          comm.on_msg(msg_handler);\n",
       "        });\n",
       "      } else if ((plot_id in window.PyViz.kernels) && (window.PyViz.kernels[plot_id])) {\n",
       "        window.PyViz.kernels[plot_id].registerCommTarget(comm_id, function(comm) {\n",
       "          comm.onMsg = msg_handler;\n",
       "        });\n",
       "      } else if (typeof google != 'undefined' && google.colab.kernel != null) {\n",
       "        google.colab.kernel.comms.registerTarget(comm_id, (comm) => {\n",
       "          var messages = comm.messages[Symbol.asyncIterator]();\n",
       "          function processIteratorResult(result) {\n",
       "            var message = result.value;\n",
       "            console.log(message)\n",
       "            var content = {data: message.data, comm_id};\n",
       "            var buffers = []\n",
       "            for (var buffer of message.buffers || []) {\n",
       "              buffers.push(new DataView(buffer))\n",
       "            }\n",
       "            var metadata = message.metadata || {};\n",
       "            var msg = {content, buffers, metadata}\n",
       "            msg_handler(msg);\n",
       "            return messages.next().then(processIteratorResult);\n",
       "          }\n",
       "          return messages.next().then(processIteratorResult);\n",
       "        })\n",
       "      }\n",
       "    }\n",
       "\n",
       "    JupyterCommManager.prototype.get_client_comm = function(plot_id, comm_id, msg_handler) {\n",
       "      if (comm_id in window.PyViz.comms) {\n",
       "        return window.PyViz.comms[comm_id];\n",
       "      } else if (window.comm_manager || ((window.Jupyter !== undefined) && (Jupyter.notebook.kernel != null))) {\n",
       "        var comm_manager = window.comm_manager || Jupyter.notebook.kernel.comm_manager;\n",
       "        var comm = comm_manager.new_comm(comm_id, {}, {}, {}, comm_id);\n",
       "        if (msg_handler) {\n",
       "          comm.on_msg(msg_handler);\n",
       "        }\n",
       "      } else if ((plot_id in window.PyViz.kernels) && (window.PyViz.kernels[plot_id])) {\n",
       "        var comm = window.PyViz.kernels[plot_id].connectToComm(comm_id);\n",
       "        comm.open();\n",
       "        if (msg_handler) {\n",
       "          comm.onMsg = msg_handler;\n",
       "        }\n",
       "      } else if (typeof google != 'undefined' && google.colab.kernel != null) {\n",
       "        var comm_promise = google.colab.kernel.comms.open(comm_id)\n",
       "        comm_promise.then((comm) => {\n",
       "          window.PyViz.comms[comm_id] = comm;\n",
       "          if (msg_handler) {\n",
       "            var messages = comm.messages[Symbol.asyncIterator]();\n",
       "            function processIteratorResult(result) {\n",
       "              var message = result.value;\n",
       "              var content = {data: message.data};\n",
       "              var metadata = message.metadata || {comm_id};\n",
       "              var msg = {content, metadata}\n",
       "              msg_handler(msg);\n",
       "              return messages.next().then(processIteratorResult);\n",
       "            }\n",
       "            return messages.next().then(processIteratorResult);\n",
       "          }\n",
       "        }) \n",
       "        var sendClosure = (data, metadata, buffers, disposeOnDone) => {\n",
       "          return comm_promise.then((comm) => {\n",
       "            comm.send(data, metadata, buffers, disposeOnDone);\n",
       "          });\n",
       "        };\n",
       "        var comm = {\n",
       "          send: sendClosure\n",
       "        };\n",
       "      }\n",
       "      window.PyViz.comms[comm_id] = comm;\n",
       "      return comm;\n",
       "    }\n",
       "    window.PyViz.comm_manager = new JupyterCommManager();\n",
       "    \n",
       "\n",
       "\n",
       "var JS_MIME_TYPE = 'application/javascript';\n",
       "var HTML_MIME_TYPE = 'text/html';\n",
       "var EXEC_MIME_TYPE = 'application/vnd.holoviews_exec.v0+json';\n",
       "var CLASS_NAME = 'output';\n",
       "\n",
       "/**\n",
       " * Render data to the DOM node\n",
       " */\n",
       "function render(props, node) {\n",
       "  var div = document.createElement(\"div\");\n",
       "  var script = document.createElement(\"script\");\n",
       "  node.appendChild(div);\n",
       "  node.appendChild(script);\n",
       "}\n",
       "\n",
       "/**\n",
       " * Handle when a new output is added\n",
       " */\n",
       "function handle_add_output(event, handle) {\n",
       "  var output_area = handle.output_area;\n",
       "  var output = handle.output;\n",
       "  if ((output.data == undefined) || (!output.data.hasOwnProperty(EXEC_MIME_TYPE))) {\n",
       "    return\n",
       "  }\n",
       "  var id = output.metadata[EXEC_MIME_TYPE][\"id\"];\n",
       "  var toinsert = output_area.element.find(\".\" + CLASS_NAME.split(' ')[0]);\n",
       "  if (id !== undefined) {\n",
       "    var nchildren = toinsert.length;\n",
       "    var html_node = toinsert[nchildren-1].children[0];\n",
       "    html_node.innerHTML = output.data[HTML_MIME_TYPE];\n",
       "    var scripts = [];\n",
       "    var nodelist = html_node.querySelectorAll(\"script\");\n",
       "    for (var i in nodelist) {\n",
       "      if (nodelist.hasOwnProperty(i)) {\n",
       "        scripts.push(nodelist[i])\n",
       "      }\n",
       "    }\n",
       "\n",
       "    scripts.forEach( function (oldScript) {\n",
       "      var newScript = document.createElement(\"script\");\n",
       "      var attrs = [];\n",
       "      var nodemap = oldScript.attributes;\n",
       "      for (var j in nodemap) {\n",
       "        if (nodemap.hasOwnProperty(j)) {\n",
       "          attrs.push(nodemap[j])\n",
       "        }\n",
       "      }\n",
       "      attrs.forEach(function(attr) { newScript.setAttribute(attr.name, attr.value) });\n",
       "      newScript.appendChild(document.createTextNode(oldScript.innerHTML));\n",
       "      oldScript.parentNode.replaceChild(newScript, oldScript);\n",
       "    });\n",
       "    if (JS_MIME_TYPE in output.data) {\n",
       "      toinsert[nchildren-1].children[1].textContent = output.data[JS_MIME_TYPE];\n",
       "    }\n",
       "    output_area._hv_plot_id = id;\n",
       "    if ((window.Bokeh !== undefined) && (id in Bokeh.index)) {\n",
       "      window.PyViz.plot_index[id] = Bokeh.index[id];\n",
       "    } else {\n",
       "      window.PyViz.plot_index[id] = null;\n",
       "    }\n",
       "  } else if (output.metadata[EXEC_MIME_TYPE][\"server_id\"] !== undefined) {\n",
       "    var bk_div = document.createElement(\"div\");\n",
       "    bk_div.innerHTML = output.data[HTML_MIME_TYPE];\n",
       "    var script_attrs = bk_div.children[0].attributes;\n",
       "    for (var i = 0; i < script_attrs.length; i++) {\n",
       "      toinsert[toinsert.length - 1].childNodes[1].setAttribute(script_attrs[i].name, script_attrs[i].value);\n",
       "    }\n",
       "    // store reference to server id on output_area\n",
       "    output_area._bokeh_server_id = output.metadata[EXEC_MIME_TYPE][\"server_id\"];\n",
       "  }\n",
       "}\n",
       "\n",
       "/**\n",
       " * Handle when an output is cleared or removed\n",
       " */\n",
       "function handle_clear_output(event, handle) {\n",
       "  var id = handle.cell.output_area._hv_plot_id;\n",
       "  var server_id = handle.cell.output_area._bokeh_server_id;\n",
       "  if (((id === undefined) || !(id in PyViz.plot_index)) && (server_id !== undefined)) { return; }\n",
       "  var comm = window.PyViz.comm_manager.get_client_comm(\"hv-extension-comm\", \"hv-extension-comm\", function () {});\n",
       "  if (server_id !== null) {\n",
       "    comm.send({event_type: 'server_delete', 'id': server_id});\n",
       "    return;\n",
       "  } else if (comm !== null) {\n",
       "    comm.send({event_type: 'delete', 'id': id});\n",
       "  }\n",
       "  delete PyViz.plot_index[id];\n",
       "  if ((window.Bokeh !== undefined) & (id in window.Bokeh.index)) {\n",
       "    var doc = window.Bokeh.index[id].model.document\n",
       "    doc.clear();\n",
       "    const i = window.Bokeh.documents.indexOf(doc);\n",
       "    if (i > -1) {\n",
       "      window.Bokeh.documents.splice(i, 1);\n",
       "    }\n",
       "  }\n",
       "}\n",
       "\n",
       "/**\n",
       " * Handle kernel restart event\n",
       " */\n",
       "function handle_kernel_cleanup(event, handle) {\n",
       "  delete PyViz.comms[\"hv-extension-comm\"];\n",
       "  window.PyViz.plot_index = {}\n",
       "}\n",
       "\n",
       "/**\n",
       " * Handle update_display_data messages\n",
       " */\n",
       "function handle_update_output(event, handle) {\n",
       "  handle_clear_output(event, {cell: {output_area: handle.output_area}})\n",
       "  handle_add_output(event, handle)\n",
       "}\n",
       "\n",
       "function register_renderer(events, OutputArea) {\n",
       "  function append_mime(data, metadata, element) {\n",
       "    // create a DOM node to render to\n",
       "    var toinsert = this.create_output_subarea(\n",
       "    metadata,\n",
       "    CLASS_NAME,\n",
       "    EXEC_MIME_TYPE\n",
       "    );\n",
       "    this.keyboard_manager.register_events(toinsert);\n",
       "    // Render to node\n",
       "    var props = {data: data, metadata: metadata[EXEC_MIME_TYPE]};\n",
       "    render(props, toinsert[0]);\n",
       "    element.append(toinsert);\n",
       "    return toinsert\n",
       "  }\n",
       "\n",
       "  events.on('output_added.OutputArea', handle_add_output);\n",
       "  events.on('output_updated.OutputArea', handle_update_output);\n",
       "  events.on('clear_output.CodeCell', handle_clear_output);\n",
       "  events.on('delete.Cell', handle_clear_output);\n",
       "  events.on('kernel_ready.Kernel', handle_kernel_cleanup);\n",
       "\n",
       "  OutputArea.prototype.register_mime_type(EXEC_MIME_TYPE, append_mime, {\n",
       "    safe: true,\n",
       "    index: 0\n",
       "  });\n",
       "}\n",
       "\n",
       "if (window.Jupyter !== undefined) {\n",
       "  try {\n",
       "    var events = require('base/js/events');\n",
       "    var OutputArea = require('notebook/js/outputarea').OutputArea;\n",
       "    if (OutputArea.prototype.mime_types().indexOf(EXEC_MIME_TYPE) == -1) {\n",
       "      register_renderer(events, OutputArea);\n",
       "    }\n",
       "  } catch(err) {\n",
       "  }\n",
       "}\n"
      ],
      "application/vnd.holoviews_load.v0+json": "\nif ((window.PyViz === undefined) || (window.PyViz instanceof HTMLElement)) {\n  window.PyViz = {comms: {}, comm_status:{}, kernels:{}, receivers: {}, plot_index: []}\n}\n\n\n    function JupyterCommManager() {\n    }\n\n    JupyterCommManager.prototype.register_target = function(plot_id, comm_id, msg_handler) {\n      if (window.comm_manager || ((window.Jupyter !== undefined) && (Jupyter.notebook.kernel != null))) {\n        var comm_manager = window.comm_manager || Jupyter.notebook.kernel.comm_manager;\n        comm_manager.register_target(comm_id, function(comm) {\n          comm.on_msg(msg_handler);\n        });\n      } else if ((plot_id in window.PyViz.kernels) && (window.PyViz.kernels[plot_id])) {\n        window.PyViz.kernels[plot_id].registerCommTarget(comm_id, function(comm) {\n          comm.onMsg = msg_handler;\n        });\n      } else if (typeof google != 'undefined' && google.colab.kernel != null) {\n        google.colab.kernel.comms.registerTarget(comm_id, (comm) => {\n          var messages = comm.messages[Symbol.asyncIterator]();\n          function processIteratorResult(result) {\n            var message = result.value;\n            console.log(message)\n            var content = {data: message.data, comm_id};\n            var buffers = []\n            for (var buffer of message.buffers || []) {\n              buffers.push(new DataView(buffer))\n            }\n            var metadata = message.metadata || {};\n            var msg = {content, buffers, metadata}\n            msg_handler(msg);\n            return messages.next().then(processIteratorResult);\n          }\n          return messages.next().then(processIteratorResult);\n        })\n      }\n    }\n\n    JupyterCommManager.prototype.get_client_comm = function(plot_id, comm_id, msg_handler) {\n      if (comm_id in window.PyViz.comms) {\n        return window.PyViz.comms[comm_id];\n      } else if (window.comm_manager || ((window.Jupyter !== undefined) && (Jupyter.notebook.kernel != null))) {\n        var comm_manager = window.comm_manager || Jupyter.notebook.kernel.comm_manager;\n        var comm = comm_manager.new_comm(comm_id, {}, {}, {}, comm_id);\n        if (msg_handler) {\n          comm.on_msg(msg_handler);\n        }\n      } else if ((plot_id in window.PyViz.kernels) && (window.PyViz.kernels[plot_id])) {\n        var comm = window.PyViz.kernels[plot_id].connectToComm(comm_id);\n        comm.open();\n        if (msg_handler) {\n          comm.onMsg = msg_handler;\n        }\n      } else if (typeof google != 'undefined' && google.colab.kernel != null) {\n        var comm_promise = google.colab.kernel.comms.open(comm_id)\n        comm_promise.then((comm) => {\n          window.PyViz.comms[comm_id] = comm;\n          if (msg_handler) {\n            var messages = comm.messages[Symbol.asyncIterator]();\n            function processIteratorResult(result) {\n              var message = result.value;\n              var content = {data: message.data};\n              var metadata = message.metadata || {comm_id};\n              var msg = {content, metadata}\n              msg_handler(msg);\n              return messages.next().then(processIteratorResult);\n            }\n            return messages.next().then(processIteratorResult);\n          }\n        }) \n        var sendClosure = (data, metadata, buffers, disposeOnDone) => {\n          return comm_promise.then((comm) => {\n            comm.send(data, metadata, buffers, disposeOnDone);\n          });\n        };\n        var comm = {\n          send: sendClosure\n        };\n      }\n      window.PyViz.comms[comm_id] = comm;\n      return comm;\n    }\n    window.PyViz.comm_manager = new JupyterCommManager();\n    \n\n\nvar JS_MIME_TYPE = 'application/javascript';\nvar HTML_MIME_TYPE = 'text/html';\nvar EXEC_MIME_TYPE = 'application/vnd.holoviews_exec.v0+json';\nvar CLASS_NAME = 'output';\n\n/**\n * Render data to the DOM node\n */\nfunction render(props, node) {\n  var div = document.createElement(\"div\");\n  var script = document.createElement(\"script\");\n  node.appendChild(div);\n  node.appendChild(script);\n}\n\n/**\n * Handle when a new output is added\n */\nfunction handle_add_output(event, handle) {\n  var output_area = handle.output_area;\n  var output = handle.output;\n  if ((output.data == undefined) || (!output.data.hasOwnProperty(EXEC_MIME_TYPE))) {\n    return\n  }\n  var id = output.metadata[EXEC_MIME_TYPE][\"id\"];\n  var toinsert = output_area.element.find(\".\" + CLASS_NAME.split(' ')[0]);\n  if (id !== undefined) {\n    var nchildren = toinsert.length;\n    var html_node = toinsert[nchildren-1].children[0];\n    html_node.innerHTML = output.data[HTML_MIME_TYPE];\n    var scripts = [];\n    var nodelist = html_node.querySelectorAll(\"script\");\n    for (var i in nodelist) {\n      if (nodelist.hasOwnProperty(i)) {\n        scripts.push(nodelist[i])\n      }\n    }\n\n    scripts.forEach( function (oldScript) {\n      var newScript = document.createElement(\"script\");\n      var attrs = [];\n      var nodemap = oldScript.attributes;\n      for (var j in nodemap) {\n        if (nodemap.hasOwnProperty(j)) {\n          attrs.push(nodemap[j])\n        }\n      }\n      attrs.forEach(function(attr) { newScript.setAttribute(attr.name, attr.value) });\n      newScript.appendChild(document.createTextNode(oldScript.innerHTML));\n      oldScript.parentNode.replaceChild(newScript, oldScript);\n    });\n    if (JS_MIME_TYPE in output.data) {\n      toinsert[nchildren-1].children[1].textContent = output.data[JS_MIME_TYPE];\n    }\n    output_area._hv_plot_id = id;\n    if ((window.Bokeh !== undefined) && (id in Bokeh.index)) {\n      window.PyViz.plot_index[id] = Bokeh.index[id];\n    } else {\n      window.PyViz.plot_index[id] = null;\n    }\n  } else if (output.metadata[EXEC_MIME_TYPE][\"server_id\"] !== undefined) {\n    var bk_div = document.createElement(\"div\");\n    bk_div.innerHTML = output.data[HTML_MIME_TYPE];\n    var script_attrs = bk_div.children[0].attributes;\n    for (var i = 0; i < script_attrs.length; i++) {\n      toinsert[toinsert.length - 1].childNodes[1].setAttribute(script_attrs[i].name, script_attrs[i].value);\n    }\n    // store reference to server id on output_area\n    output_area._bokeh_server_id = output.metadata[EXEC_MIME_TYPE][\"server_id\"];\n  }\n}\n\n/**\n * Handle when an output is cleared or removed\n */\nfunction handle_clear_output(event, handle) {\n  var id = handle.cell.output_area._hv_plot_id;\n  var server_id = handle.cell.output_area._bokeh_server_id;\n  if (((id === undefined) || !(id in PyViz.plot_index)) && (server_id !== undefined)) { return; }\n  var comm = window.PyViz.comm_manager.get_client_comm(\"hv-extension-comm\", \"hv-extension-comm\", function () {});\n  if (server_id !== null) {\n    comm.send({event_type: 'server_delete', 'id': server_id});\n    return;\n  } else if (comm !== null) {\n    comm.send({event_type: 'delete', 'id': id});\n  }\n  delete PyViz.plot_index[id];\n  if ((window.Bokeh !== undefined) & (id in window.Bokeh.index)) {\n    var doc = window.Bokeh.index[id].model.document\n    doc.clear();\n    const i = window.Bokeh.documents.indexOf(doc);\n    if (i > -1) {\n      window.Bokeh.documents.splice(i, 1);\n    }\n  }\n}\n\n/**\n * Handle kernel restart event\n */\nfunction handle_kernel_cleanup(event, handle) {\n  delete PyViz.comms[\"hv-extension-comm\"];\n  window.PyViz.plot_index = {}\n}\n\n/**\n * Handle update_display_data messages\n */\nfunction handle_update_output(event, handle) {\n  handle_clear_output(event, {cell: {output_area: handle.output_area}})\n  handle_add_output(event, handle)\n}\n\nfunction register_renderer(events, OutputArea) {\n  function append_mime(data, metadata, element) {\n    // create a DOM node to render to\n    var toinsert = this.create_output_subarea(\n    metadata,\n    CLASS_NAME,\n    EXEC_MIME_TYPE\n    );\n    this.keyboard_manager.register_events(toinsert);\n    // Render to node\n    var props = {data: data, metadata: metadata[EXEC_MIME_TYPE]};\n    render(props, toinsert[0]);\n    element.append(toinsert);\n    return toinsert\n  }\n\n  events.on('output_added.OutputArea', handle_add_output);\n  events.on('output_updated.OutputArea', handle_update_output);\n  events.on('clear_output.CodeCell', handle_clear_output);\n  events.on('delete.Cell', handle_clear_output);\n  events.on('kernel_ready.Kernel', handle_kernel_cleanup);\n\n  OutputArea.prototype.register_mime_type(EXEC_MIME_TYPE, append_mime, {\n    safe: true,\n    index: 0\n  });\n}\n\nif (window.Jupyter !== undefined) {\n  try {\n    var events = require('base/js/events');\n    var OutputArea = require('notebook/js/outputarea').OutputArea;\n    if (OutputArea.prototype.mime_types().indexOf(EXEC_MIME_TYPE) == -1) {\n      register_renderer(events, OutputArea);\n    }\n  } catch(err) {\n  }\n}\n"
     },
     "metadata": {},
     "output_type": "display_data"
    },
    {
     "data": {
      "text/html": [
       "<style>*[data-root-id],\n",
       "*[data-root-id] > * {\n",
       "  box-sizing: border-box;\n",
       "  font-family: var(--jp-ui-font-family);\n",
       "  font-size: var(--jp-ui-font-size1);\n",
       "  color: var(--vscode-editor-foreground, var(--jp-ui-font-color1));\n",
       "}\n",
       "\n",
       "/* Override VSCode background color */\n",
       ".cell-output-ipywidget-background:has(\n",
       "    > .cell-output-ipywidget-background > .lm-Widget > *[data-root-id]\n",
       "  ),\n",
       ".cell-output-ipywidget-background:has(> .lm-Widget > *[data-root-id]) {\n",
       "  background-color: transparent !important;\n",
       "}\n",
       "</style>"
      ]
     },
     "metadata": {},
     "output_type": "display_data"
    },
    {
     "data": {
      "application/vnd.holoviews_exec.v0+json": "",
      "text/html": [
       "<div id='p1002'>\n",
       "  <div id=\"e00caf0a-b359-42bf-93c7-b0c19664f4da\" data-root-id=\"p1002\" style=\"display: contents;\"></div>\n",
       "</div>\n",
       "<script type=\"application/javascript\">(function(root) {\n",
       "  var docs_json = {\"a34d2ba2-78d2-4d5e-990f-01c57f475951\":{\"version\":\"3.4.2\",\"title\":\"Bokeh Application\",\"roots\":[{\"type\":\"object\",\"name\":\"panel.models.browser.BrowserInfo\",\"id\":\"p1002\"},{\"type\":\"object\",\"name\":\"panel.models.comm_manager.CommManager\",\"id\":\"p1003\",\"attributes\":{\"plot_id\":\"p1002\",\"comm_id\":\"ee3c15a0515643e3880fa13ba5f0f3cc\",\"client_comm_id\":\"fdb388a129044b918d1a439b2864d279\"}}],\"defs\":[{\"type\":\"model\",\"name\":\"ReactiveHTML1\"},{\"type\":\"model\",\"name\":\"FlexBox1\",\"properties\":[{\"name\":\"align_content\",\"kind\":\"Any\",\"default\":\"flex-start\"},{\"name\":\"align_items\",\"kind\":\"Any\",\"default\":\"flex-start\"},{\"name\":\"flex_direction\",\"kind\":\"Any\",\"default\":\"row\"},{\"name\":\"flex_wrap\",\"kind\":\"Any\",\"default\":\"wrap\"},{\"name\":\"gap\",\"kind\":\"Any\",\"default\":\"\"},{\"name\":\"justify_content\",\"kind\":\"Any\",\"default\":\"flex-start\"}]},{\"type\":\"model\",\"name\":\"FloatPanel1\",\"properties\":[{\"name\":\"config\",\"kind\":\"Any\",\"default\":{\"type\":\"map\"}},{\"name\":\"contained\",\"kind\":\"Any\",\"default\":true},{\"name\":\"position\",\"kind\":\"Any\",\"default\":\"right-top\"},{\"name\":\"offsetx\",\"kind\":\"Any\",\"default\":null},{\"name\":\"offsety\",\"kind\":\"Any\",\"default\":null},{\"name\":\"theme\",\"kind\":\"Any\",\"default\":\"primary\"},{\"name\":\"status\",\"kind\":\"Any\",\"default\":\"normalized\"}]},{\"type\":\"model\",\"name\":\"GridStack1\",\"properties\":[{\"name\":\"mode\",\"kind\":\"Any\",\"default\":\"warn\"},{\"name\":\"ncols\",\"kind\":\"Any\",\"default\":null},{\"name\":\"nrows\",\"kind\":\"Any\",\"default\":null},{\"name\":\"allow_resize\",\"kind\":\"Any\",\"default\":true},{\"name\":\"allow_drag\",\"kind\":\"Any\",\"default\":true},{\"name\":\"state\",\"kind\":\"Any\",\"default\":[]}]},{\"type\":\"model\",\"name\":\"drag1\",\"properties\":[{\"name\":\"slider_width\",\"kind\":\"Any\",\"default\":5},{\"name\":\"slider_color\",\"kind\":\"Any\",\"default\":\"black\"},{\"name\":\"value\",\"kind\":\"Any\",\"default\":50}]},{\"type\":\"model\",\"name\":\"click1\",\"properties\":[{\"name\":\"terminal_output\",\"kind\":\"Any\",\"default\":\"\"},{\"name\":\"debug_name\",\"kind\":\"Any\",\"default\":\"\"},{\"name\":\"clears\",\"kind\":\"Any\",\"default\":0}]},{\"type\":\"model\",\"name\":\"FastWrapper1\",\"properties\":[{\"name\":\"object\",\"kind\":\"Any\",\"default\":null},{\"name\":\"style\",\"kind\":\"Any\",\"default\":null}]},{\"type\":\"model\",\"name\":\"NotificationAreaBase1\",\"properties\":[{\"name\":\"js_events\",\"kind\":\"Any\",\"default\":{\"type\":\"map\"}},{\"name\":\"position\",\"kind\":\"Any\",\"default\":\"bottom-right\"},{\"name\":\"_clear\",\"kind\":\"Any\",\"default\":0}]},{\"type\":\"model\",\"name\":\"NotificationArea1\",\"properties\":[{\"name\":\"js_events\",\"kind\":\"Any\",\"default\":{\"type\":\"map\"}},{\"name\":\"notifications\",\"kind\":\"Any\",\"default\":[]},{\"name\":\"position\",\"kind\":\"Any\",\"default\":\"bottom-right\"},{\"name\":\"_clear\",\"kind\":\"Any\",\"default\":0},{\"name\":\"types\",\"kind\":\"Any\",\"default\":[{\"type\":\"map\",\"entries\":[[\"type\",\"warning\"],[\"background\",\"#ffc107\"],[\"icon\",{\"type\":\"map\",\"entries\":[[\"className\",\"fas fa-exclamation-triangle\"],[\"tagName\",\"i\"],[\"color\",\"white\"]]}]]},{\"type\":\"map\",\"entries\":[[\"type\",\"info\"],[\"background\",\"#007bff\"],[\"icon\",{\"type\":\"map\",\"entries\":[[\"className\",\"fas fa-info-circle\"],[\"tagName\",\"i\"],[\"color\",\"white\"]]}]]}]}]},{\"type\":\"model\",\"name\":\"Notification\",\"properties\":[{\"name\":\"background\",\"kind\":\"Any\",\"default\":null},{\"name\":\"duration\",\"kind\":\"Any\",\"default\":3000},{\"name\":\"icon\",\"kind\":\"Any\",\"default\":null},{\"name\":\"message\",\"kind\":\"Any\",\"default\":\"\"},{\"name\":\"notification_type\",\"kind\":\"Any\",\"default\":null},{\"name\":\"_destroyed\",\"kind\":\"Any\",\"default\":false}]},{\"type\":\"model\",\"name\":\"TemplateActions1\",\"properties\":[{\"name\":\"open_modal\",\"kind\":\"Any\",\"default\":0},{\"name\":\"close_modal\",\"kind\":\"Any\",\"default\":0}]},{\"type\":\"model\",\"name\":\"BootstrapTemplateActions1\",\"properties\":[{\"name\":\"open_modal\",\"kind\":\"Any\",\"default\":0},{\"name\":\"close_modal\",\"kind\":\"Any\",\"default\":0}]},{\"type\":\"model\",\"name\":\"TemplateEditor1\",\"properties\":[{\"name\":\"layout\",\"kind\":\"Any\",\"default\":[]}]},{\"type\":\"model\",\"name\":\"MaterialTemplateActions1\",\"properties\":[{\"name\":\"open_modal\",\"kind\":\"Any\",\"default\":0},{\"name\":\"close_modal\",\"kind\":\"Any\",\"default\":0}]},{\"type\":\"model\",\"name\":\"copy_to_clipboard1\",\"properties\":[{\"name\":\"fill\",\"kind\":\"Any\",\"default\":\"none\"},{\"name\":\"value\",\"kind\":\"Any\",\"default\":null}]}]}};\n",
       "  var render_items = [{\"docid\":\"a34d2ba2-78d2-4d5e-990f-01c57f475951\",\"roots\":{\"p1002\":\"e00caf0a-b359-42bf-93c7-b0c19664f4da\"},\"root_ids\":[\"p1002\"]}];\n",
       "  var docs = Object.values(docs_json)\n",
       "  if (!docs) {\n",
       "    return\n",
       "  }\n",
       "  const py_version = docs[0].version.replace('rc', '-rc.').replace('.dev', '-dev.')\n",
       "  async function embed_document(root) {\n",
       "    var Bokeh = get_bokeh(root)\n",
       "    await Bokeh.embed.embed_items_notebook(docs_json, render_items);\n",
       "    for (const render_item of render_items) {\n",
       "      for (const root_id of render_item.root_ids) {\n",
       "\tconst id_el = document.getElementById(root_id)\n",
       "\tif (id_el.children.length && id_el.children[0].hasAttribute('data-root-id')) {\n",
       "\t  const root_el = id_el.children[0]\n",
       "\t  root_el.id = root_el.id + '-rendered'\n",
       "\t  for (const child of root_el.children) {\n",
       "            // Ensure JupyterLab does not capture keyboard shortcuts\n",
       "            // see: https://jupyterlab.readthedocs.io/en/4.1.x/extension/notebook.html#keyboard-interaction-model\n",
       "\t    child.setAttribute('data-lm-suppress-shortcuts', 'true')\n",
       "\t  }\n",
       "\t}\n",
       "      }\n",
       "    }\n",
       "  }\n",
       "  function get_bokeh(root) {\n",
       "    if (root.Bokeh === undefined) {\n",
       "      return null\n",
       "    } else if (root.Bokeh.version !== py_version) {\n",
       "      if (root.Bokeh.versions === undefined || !root.Bokeh.versions.has(py_version)) {\n",
       "\treturn null\n",
       "      }\n",
       "      return root.Bokeh.versions.get(py_version);\n",
       "    } else if (root.Bokeh.version === py_version) {\n",
       "      return root.Bokeh\n",
       "    }\n",
       "    return null\n",
       "  }\n",
       "  function is_loaded(root) {\n",
       "    var Bokeh = get_bokeh(root)\n",
       "    return (Bokeh != null && Bokeh.Panel !== undefined)\n",
       "  }\n",
       "  if (is_loaded(root)) {\n",
       "    embed_document(root);\n",
       "  } else {\n",
       "    var attempts = 0;\n",
       "    var timer = setInterval(function(root) {\n",
       "      if (is_loaded(root)) {\n",
       "        clearInterval(timer);\n",
       "        embed_document(root);\n",
       "      } else if (document.readyState == \"complete\") {\n",
       "        attempts++;\n",
       "        if (attempts > 200) {\n",
       "          clearInterval(timer);\n",
       "\t  var Bokeh = get_bokeh(root)\n",
       "\t  if (Bokeh == null || Bokeh.Panel == null) {\n",
       "            console.warn(\"Panel: ERROR: Unable to run Panel code because Bokeh or Panel library is missing\");\n",
       "\t  } else {\n",
       "\t    console.warn(\"Panel: WARNING: Attempting to render but not all required libraries could be resolved.\")\n",
       "\t    embed_document(root)\n",
       "\t  }\n",
       "        }\n",
       "      }\n",
       "    }, 25, root)\n",
       "  }\n",
       "})(window);</script>"
      ]
     },
     "metadata": {
      "application/vnd.holoviews_exec.v0+json": {
       "id": "p1002"
      }
     },
     "output_type": "display_data"
    },
    {
     "data": {},
     "metadata": {},
     "output_type": "display_data"
    },
    {
     "data": {
      "application/vnd.holoviews_exec.v0+json": "",
      "text/html": [
       "<div id='p1004'>\n",
       "  <div id=\"eb9639de-5ec4-4e0a-858d-d8ae5b780602\" data-root-id=\"p1004\" style=\"display: contents;\"></div>\n",
       "</div>\n",
       "<script type=\"application/javascript\">(function(root) {\n",
       "  var docs_json = {\"32ccb44f-5037-472d-9486-bc2034a57d1a\":{\"version\":\"3.4.2\",\"title\":\"Bokeh Application\",\"roots\":[{\"type\":\"object\",\"name\":\"Row\",\"id\":\"p1004\",\"attributes\":{\"name\":\"Row00939\",\"tags\":[\"embedded\"],\"stylesheets\":[\"\\n:host(.pn-loading):before, .pn-loading:before {\\n  background-color: #c3c3c3;\\n  mask-size: auto calc(min(50%, 400px));\\n  -webkit-mask-size: auto calc(min(50%, 400px));\\n}\",{\"type\":\"object\",\"name\":\"ImportedStyleSheet\",\"id\":\"p1007\",\"attributes\":{\"url\":\"https://cdn.holoviz.org/panel/1.4.4/dist/css/loading.css\"}},{\"type\":\"object\",\"name\":\"ImportedStyleSheet\",\"id\":\"p1063\",\"attributes\":{\"url\":\"https://cdn.holoviz.org/panel/1.4.4/dist/css/listpanel.css\"}},{\"type\":\"object\",\"name\":\"ImportedStyleSheet\",\"id\":\"p1005\",\"attributes\":{\"url\":\"https://cdn.holoviz.org/panel/1.4.4/dist/bundled/theme/default.css\"}},{\"type\":\"object\",\"name\":\"ImportedStyleSheet\",\"id\":\"p1006\",\"attributes\":{\"url\":\"https://cdn.holoviz.org/panel/1.4.4/dist/bundled/theme/native.css\"}}],\"margin\":0,\"sizing_mode\":\"stretch_width\",\"align\":\"start\",\"children\":[{\"type\":\"object\",\"name\":\"Spacer\",\"id\":\"p1008\",\"attributes\":{\"name\":\"HSpacer00946\",\"stylesheets\":[\"\\n:host(.pn-loading):before, .pn-loading:before {\\n  background-color: #c3c3c3;\\n  mask-size: auto calc(min(50%, 400px));\\n  -webkit-mask-size: auto calc(min(50%, 400px));\\n}\",{\"id\":\"p1007\"},{\"id\":\"p1005\"},{\"id\":\"p1006\"}],\"margin\":0,\"sizing_mode\":\"stretch_width\",\"align\":\"start\"}},{\"type\":\"object\",\"name\":\"Figure\",\"id\":\"p1016\",\"attributes\":{\"width\":null,\"height\":300,\"margin\":[5,10],\"sizing_mode\":\"fixed\",\"align\":\"start\",\"x_range\":{\"type\":\"object\",\"name\":\"FactorRange\",\"id\":\"p1009\",\"attributes\":{\"tags\":[[[\"\\u90fd\\u9053\\u5e9c\\u770c\",\"\\u90fd\\u9053\\u5e9c\\u770c\",null]],[]],\"factors\":[\"\\u6771\\u4eac\\u90fd\",\"\\u5927\\u962a\\u5e9c\",\"\\u611b\\u77e5\\u770c\",\"\\u5317\\u6d77\\u9053\",\"\\u5175\\u5eab\\u770c\",\"\\u798f\\u5ca1\\u770c\",\"\\u4eac\\u90fd\\u5e9c\",\"\\u795e\\u5948\\u5ddd\\u770c\",\"\\u57fc\\u7389\\u770c\",\"\\u5343\\u8449\\u770c\",\"\\u65b0\\u6f5f\\u770c\",\"\\u5e83\\u5cf6\\u770c\",\"\\u5ca1\\u5c71\\u770c\",\"\\u7fa4\\u99ac\\u770c\",\"\\u77f3\\u5ddd\\u770c\",\"\\u9759\\u5ca1\\u770c\",\"\\u5bae\\u57ce\\u770c\",\"\\u5c90\\u961c\\u770c\",\"\\u9577\\u91ce\\u770c\",\"\\u5948\\u826f\\u770c\",\"\\u8328\\u57ce\\u770c\",\"\\u9752\\u68ee\\u770c\",\"\\u5c71\\u53e3\\u770c\",\"\\u6ecb\\u8cc0\\u770c\",\"\\u718a\\u672c\\u770c\",\"\\u6803\\u6728\\u770c\",\"\\u798f\\u5cf6\\u770c\",\"\\u6c96\\u7e04\\u770c\",\"\\u9577\\u5d0e\\u770c\",\"\\u5c71\\u68a8\\u770c\",\"\\u4e09\\u91cd\\u770c\",\"\\u5bae\\u5d0e\\u770c\",\"\\u79cb\\u7530\\u770c\",\"\\u9e7f\\u5150\\u5cf6\\u770c\",\"\\u798f\\u4e95\\u770c\",\"\\u5c71\\u5f62\\u770c\",\"\\u5ca9\\u624b\\u770c\",\"\\u548c\\u6b4c\\u5c71\\u770c\",\"\\u5bcc\\u5c71\\u770c\",\"\\u5927\\u5206\\u770c\",\"\\u9ad8\\u77e5\\u770c\",\"\\u611b\\u5a9b\\u770c\",\"\\u9999\\u5ddd\\u770c\",\"\\u5fb3\\u5cf6\\u770c\",\"\\u9ce5\\u53d6\\u770c\",\"\\u5cf6\\u6839\\u770c\",\"\\u4f50\\u8cc0\\u770c\"]}},\"y_range\":{\"type\":\"object\",\"name\":\"Range1d\",\"id\":\"p1010\",\"attributes\":{\"tags\":[[[\"\\u5927\\u5b66\\u306e\\u6570\",\"\\u5927\\u5b66\\u306e\\u6570\",null]],{\"type\":\"map\",\"entries\":[[\"invert_yaxis\",false],[\"autorange\",false]]}],\"end\":160.4,\"reset_start\":0.0,\"reset_end\":160.4}},\"x_scale\":{\"type\":\"object\",\"name\":\"CategoricalScale\",\"id\":\"p1026\"},\"y_scale\":{\"type\":\"object\",\"name\":\"LinearScale\",\"id\":\"p1027\"},\"title\":{\"type\":\"object\",\"name\":\"Title\",\"id\":\"p1019\",\"attributes\":{\"text_color\":\"black\",\"text_font_size\":\"12pt\"}},\"renderers\":[{\"type\":\"object\",\"name\":\"GlyphRenderer\",\"id\":\"p1056\",\"attributes\":{\"data_source\":{\"type\":\"object\",\"name\":\"ColumnDataSource\",\"id\":\"p1047\",\"attributes\":{\"selected\":{\"type\":\"object\",\"name\":\"Selection\",\"id\":\"p1048\",\"attributes\":{\"indices\":[],\"line_indices\":[]}},\"selection_policy\":{\"type\":\"object\",\"name\":\"UnionRenderers\",\"id\":\"p1049\"},\"data\":{\"type\":\"map\",\"entries\":[[\"\\u90fd\\u9053\\u5e9c\\u770c\",[\"\\u6771\\u4eac\\u90fd\",\"\\u5927\\u962a\\u5e9c\",\"\\u611b\\u77e5\\u770c\",\"\\u5317\\u6d77\\u9053\",\"\\u5175\\u5eab\\u770c\",\"\\u798f\\u5ca1\\u770c\",\"\\u4eac\\u90fd\\u5e9c\",\"\\u795e\\u5948\\u5ddd\\u770c\",\"\\u57fc\\u7389\\u770c\",\"\\u5343\\u8449\\u770c\",\"\\u65b0\\u6f5f\\u770c\",\"\\u5e83\\u5cf6\\u770c\",\"\\u5ca1\\u5c71\\u770c\",\"\\u7fa4\\u99ac\\u770c\",\"\\u77f3\\u5ddd\\u770c\",\"\\u9759\\u5ca1\\u770c\",\"\\u5bae\\u57ce\\u770c\",\"\\u5c90\\u961c\\u770c\",\"\\u9577\\u91ce\\u770c\",\"\\u5948\\u826f\\u770c\",\"\\u8328\\u57ce\\u770c\",\"\\u9752\\u68ee\\u770c\",\"\\u5c71\\u53e3\\u770c\",\"\\u6ecb\\u8cc0\\u770c\",\"\\u718a\\u672c\\u770c\",\"\\u6803\\u6728\\u770c\",\"\\u798f\\u5cf6\\u770c\",\"\\u6c96\\u7e04\\u770c\",\"\\u9577\\u5d0e\\u770c\",\"\\u5c71\\u68a8\\u770c\",\"\\u4e09\\u91cd\\u770c\",\"\\u5bae\\u5d0e\\u770c\",\"\\u79cb\\u7530\\u770c\",\"\\u9e7f\\u5150\\u5cf6\\u770c\",\"\\u798f\\u4e95\\u770c\",\"\\u5c71\\u5f62\\u770c\",\"\\u5ca9\\u624b\\u770c\",\"\\u548c\\u6b4c\\u5c71\\u770c\",\"\\u5bcc\\u5c71\\u770c\",\"\\u5927\\u5206\\u770c\",\"\\u9ad8\\u77e5\\u770c\",\"\\u611b\\u5a9b\\u770c\",\"\\u9999\\u5ddd\\u770c\",\"\\u5fb3\\u5cf6\\u770c\",\"\\u9ce5\\u53d6\\u770c\",\"\\u5cf6\\u6839\\u770c\",\"\\u4f50\\u8cc0\\u770c\"]],[\"\\u5927\\u5b66\\u306e\\u6570\",{\"type\":\"ndarray\",\"array\":{\"type\":\"bytes\",\"data\":\"kgAAADoAAAA0AAAAJQAAACQAAAAkAAAAIgAAACEAAAAbAAAAGwAAABYAAAAVAAAAEgAAAA8AAAAOAAAADgAAAA4AAAANAAAACwAAAAsAAAALAAAACgAAAAoAAAAJAAAACQAAAAkAAAAIAAAACAAAAAgAAAAHAAAABwAAAAcAAAAHAAAABgAAAAYAAAAGAAAABgAAAAUAAAAFAAAABQAAAAUAAAAFAAAABAAAAAQAAAADAAAAAgAAAAIAAAA=\"},\"shape\":[47],\"dtype\":\"uint32\",\"order\":\"little\"}]]}}},\"view\":{\"type\":\"object\",\"name\":\"CDSView\",\"id\":\"p1057\",\"attributes\":{\"filter\":{\"type\":\"object\",\"name\":\"AllIndices\",\"id\":\"p1058\"}}},\"glyph\":{\"type\":\"object\",\"name\":\"VBar\",\"id\":\"p1053\",\"attributes\":{\"tags\":[\"apply_ranges\"],\"x\":{\"type\":\"field\",\"field\":\"\\u90fd\\u9053\\u5e9c\\u770c\"},\"width\":{\"type\":\"value\",\"value\":0.8},\"top\":{\"type\":\"field\",\"field\":\"\\u5927\\u5b66\\u306e\\u6570\"},\"fill_color\":{\"type\":\"value\",\"value\":\"#30a2da\"},\"hatch_color\":{\"type\":\"value\",\"value\":\"#30a2da\"}}},\"selection_glyph\":{\"type\":\"object\",\"name\":\"VBar\",\"id\":\"p1059\",\"attributes\":{\"tags\":[\"apply_ranges\"],\"x\":{\"type\":\"field\",\"field\":\"\\u90fd\\u9053\\u5e9c\\u770c\"},\"width\":{\"type\":\"value\",\"value\":0.8},\"bottom\":{\"type\":\"value\",\"value\":0},\"top\":{\"type\":\"field\",\"field\":\"\\u5927\\u5b66\\u306e\\u6570\"},\"line_color\":{\"type\":\"value\",\"value\":\"black\"},\"line_alpha\":{\"type\":\"value\",\"value\":1.0},\"line_width\":{\"type\":\"value\",\"value\":1},\"line_join\":{\"type\":\"value\",\"value\":\"bevel\"},\"line_cap\":{\"type\":\"value\",\"value\":\"butt\"},\"line_dash\":{\"type\":\"value\",\"value\":[]},\"line_dash_offset\":{\"type\":\"value\",\"value\":0},\"fill_color\":{\"type\":\"value\",\"value\":\"#30a2da\"},\"fill_alpha\":{\"type\":\"value\",\"value\":1.0},\"hatch_color\":{\"type\":\"value\",\"value\":\"#30a2da\"},\"hatch_alpha\":{\"type\":\"value\",\"value\":1.0},\"hatch_scale\":{\"type\":\"value\",\"value\":12.0},\"hatch_pattern\":{\"type\":\"value\",\"value\":null},\"hatch_weight\":{\"type\":\"value\",\"value\":1.0}}},\"nonselection_glyph\":{\"type\":\"object\",\"name\":\"VBar\",\"id\":\"p1054\",\"attributes\":{\"tags\":[\"apply_ranges\"],\"x\":{\"type\":\"field\",\"field\":\"\\u90fd\\u9053\\u5e9c\\u770c\"},\"width\":{\"type\":\"value\",\"value\":0.8},\"top\":{\"type\":\"field\",\"field\":\"\\u5927\\u5b66\\u306e\\u6570\"},\"line_alpha\":{\"type\":\"value\",\"value\":0.1},\"fill_color\":{\"type\":\"value\",\"value\":\"#30a2da\"},\"fill_alpha\":{\"type\":\"value\",\"value\":0.1},\"hatch_color\":{\"type\":\"value\",\"value\":\"#30a2da\"},\"hatch_alpha\":{\"type\":\"value\",\"value\":0.1}}},\"muted_glyph\":{\"type\":\"object\",\"name\":\"VBar\",\"id\":\"p1055\",\"attributes\":{\"tags\":[\"apply_ranges\"],\"x\":{\"type\":\"field\",\"field\":\"\\u90fd\\u9053\\u5e9c\\u770c\"},\"width\":{\"type\":\"value\",\"value\":0.8},\"top\":{\"type\":\"field\",\"field\":\"\\u5927\\u5b66\\u306e\\u6570\"},\"line_alpha\":{\"type\":\"value\",\"value\":0.2},\"fill_color\":{\"type\":\"value\",\"value\":\"#30a2da\"},\"fill_alpha\":{\"type\":\"value\",\"value\":0.2},\"hatch_color\":{\"type\":\"value\",\"value\":\"#30a2da\"},\"hatch_alpha\":{\"type\":\"value\",\"value\":0.2}}}}}],\"toolbar\":{\"type\":\"object\",\"name\":\"Toolbar\",\"id\":\"p1025\",\"attributes\":{\"tools\":[{\"type\":\"object\",\"name\":\"WheelZoomTool\",\"id\":\"p1014\",\"attributes\":{\"tags\":[\"hv_created\"],\"renderers\":\"auto\",\"zoom_together\":\"none\"}},{\"type\":\"object\",\"name\":\"HoverTool\",\"id\":\"p1015\",\"attributes\":{\"tags\":[\"hv_created\"],\"renderers\":[{\"id\":\"p1056\"}],\"tooltips\":[[\"\\u90fd\\u9053\\u5e9c\\u770c\",\"@{\\u90fd\\u9053\\u5e9c\\u770c}\"],[\"\\u5927\\u5b66\\u306e\\u6570\",\"@{\\u5927\\u5b66\\u306e\\u6570}\"]]}},{\"type\":\"object\",\"name\":\"SaveTool\",\"id\":\"p1038\"},{\"type\":\"object\",\"name\":\"PanTool\",\"id\":\"p1039\"},{\"type\":\"object\",\"name\":\"BoxZoomTool\",\"id\":\"p1040\",\"attributes\":{\"overlay\":{\"type\":\"object\",\"name\":\"BoxAnnotation\",\"id\":\"p1041\",\"attributes\":{\"syncable\":false,\"level\":\"overlay\",\"visible\":false,\"left\":{\"type\":\"number\",\"value\":\"nan\"},\"right\":{\"type\":\"number\",\"value\":\"nan\"},\"top\":{\"type\":\"number\",\"value\":\"nan\"},\"bottom\":{\"type\":\"number\",\"value\":\"nan\"},\"left_units\":\"canvas\",\"right_units\":\"canvas\",\"top_units\":\"canvas\",\"bottom_units\":\"canvas\",\"line_color\":\"black\",\"line_alpha\":1.0,\"line_width\":2,\"line_dash\":[4,4],\"fill_color\":\"lightgrey\",\"fill_alpha\":0.5}}}},{\"type\":\"object\",\"name\":\"ResetTool\",\"id\":\"p1046\"}],\"active_drag\":{\"id\":\"p1039\"},\"active_scroll\":{\"id\":\"p1014\"}}},\"left\":[{\"type\":\"object\",\"name\":\"LinearAxis\",\"id\":\"p1033\",\"attributes\":{\"ticker\":{\"type\":\"object\",\"name\":\"BasicTicker\",\"id\":\"p1034\",\"attributes\":{\"mantissas\":[1,2,5]}},\"formatter\":{\"type\":\"object\",\"name\":\"BasicTickFormatter\",\"id\":\"p1035\"},\"axis_label\":\"\\u5927\\u5b66\\u306e\\u6570\",\"major_label_policy\":{\"type\":\"object\",\"name\":\"AllLabels\",\"id\":\"p1036\"}}}],\"below\":[{\"type\":\"object\",\"name\":\"CategoricalAxis\",\"id\":\"p1028\",\"attributes\":{\"ticker\":{\"type\":\"object\",\"name\":\"CategoricalTicker\",\"id\":\"p1029\"},\"formatter\":{\"type\":\"object\",\"name\":\"CategoricalTickFormatter\",\"id\":\"p1030\"},\"axis_label\":\"\\u90fd\\u9053\\u5e9c\\u770c\",\"major_label_orientation\":1.5707963267948966,\"major_label_policy\":{\"type\":\"object\",\"name\":\"AllLabels\",\"id\":\"p1031\"}}}],\"center\":[{\"type\":\"object\",\"name\":\"Grid\",\"id\":\"p1032\",\"attributes\":{\"axis\":{\"id\":\"p1028\"},\"grid_line_color\":null}},{\"type\":\"object\",\"name\":\"Grid\",\"id\":\"p1037\",\"attributes\":{\"dimension\":1,\"axis\":{\"id\":\"p1033\"},\"grid_line_color\":null}}],\"frame_width\":900,\"min_border_top\":10,\"min_border_bottom\":10,\"min_border_left\":10,\"min_border_right\":10,\"output_backend\":\"webgl\"}},{\"type\":\"object\",\"name\":\"Spacer\",\"id\":\"p1061\",\"attributes\":{\"name\":\"HSpacer00947\",\"stylesheets\":[\"\\n:host(.pn-loading):before, .pn-loading:before {\\n  background-color: #c3c3c3;\\n  mask-size: auto calc(min(50%, 400px));\\n  -webkit-mask-size: auto calc(min(50%, 400px));\\n}\",{\"id\":\"p1007\"},{\"id\":\"p1005\"},{\"id\":\"p1006\"}],\"margin\":0,\"sizing_mode\":\"stretch_width\",\"align\":\"start\"}}]}}],\"defs\":[{\"type\":\"model\",\"name\":\"ReactiveHTML1\"},{\"type\":\"model\",\"name\":\"FlexBox1\",\"properties\":[{\"name\":\"align_content\",\"kind\":\"Any\",\"default\":\"flex-start\"},{\"name\":\"align_items\",\"kind\":\"Any\",\"default\":\"flex-start\"},{\"name\":\"flex_direction\",\"kind\":\"Any\",\"default\":\"row\"},{\"name\":\"flex_wrap\",\"kind\":\"Any\",\"default\":\"wrap\"},{\"name\":\"gap\",\"kind\":\"Any\",\"default\":\"\"},{\"name\":\"justify_content\",\"kind\":\"Any\",\"default\":\"flex-start\"}]},{\"type\":\"model\",\"name\":\"FloatPanel1\",\"properties\":[{\"name\":\"config\",\"kind\":\"Any\",\"default\":{\"type\":\"map\"}},{\"name\":\"contained\",\"kind\":\"Any\",\"default\":true},{\"name\":\"position\",\"kind\":\"Any\",\"default\":\"right-top\"},{\"name\":\"offsetx\",\"kind\":\"Any\",\"default\":null},{\"name\":\"offsety\",\"kind\":\"Any\",\"default\":null},{\"name\":\"theme\",\"kind\":\"Any\",\"default\":\"primary\"},{\"name\":\"status\",\"kind\":\"Any\",\"default\":\"normalized\"}]},{\"type\":\"model\",\"name\":\"GridStack1\",\"properties\":[{\"name\":\"mode\",\"kind\":\"Any\",\"default\":\"warn\"},{\"name\":\"ncols\",\"kind\":\"Any\",\"default\":null},{\"name\":\"nrows\",\"kind\":\"Any\",\"default\":null},{\"name\":\"allow_resize\",\"kind\":\"Any\",\"default\":true},{\"name\":\"allow_drag\",\"kind\":\"Any\",\"default\":true},{\"name\":\"state\",\"kind\":\"Any\",\"default\":[]}]},{\"type\":\"model\",\"name\":\"drag1\",\"properties\":[{\"name\":\"slider_width\",\"kind\":\"Any\",\"default\":5},{\"name\":\"slider_color\",\"kind\":\"Any\",\"default\":\"black\"},{\"name\":\"value\",\"kind\":\"Any\",\"default\":50}]},{\"type\":\"model\",\"name\":\"click1\",\"properties\":[{\"name\":\"terminal_output\",\"kind\":\"Any\",\"default\":\"\"},{\"name\":\"debug_name\",\"kind\":\"Any\",\"default\":\"\"},{\"name\":\"clears\",\"kind\":\"Any\",\"default\":0}]},{\"type\":\"model\",\"name\":\"FastWrapper1\",\"properties\":[{\"name\":\"object\",\"kind\":\"Any\",\"default\":null},{\"name\":\"style\",\"kind\":\"Any\",\"default\":null}]},{\"type\":\"model\",\"name\":\"NotificationAreaBase1\",\"properties\":[{\"name\":\"js_events\",\"kind\":\"Any\",\"default\":{\"type\":\"map\"}},{\"name\":\"position\",\"kind\":\"Any\",\"default\":\"bottom-right\"},{\"name\":\"_clear\",\"kind\":\"Any\",\"default\":0}]},{\"type\":\"model\",\"name\":\"NotificationArea1\",\"properties\":[{\"name\":\"js_events\",\"kind\":\"Any\",\"default\":{\"type\":\"map\"}},{\"name\":\"notifications\",\"kind\":\"Any\",\"default\":[]},{\"name\":\"position\",\"kind\":\"Any\",\"default\":\"bottom-right\"},{\"name\":\"_clear\",\"kind\":\"Any\",\"default\":0},{\"name\":\"types\",\"kind\":\"Any\",\"default\":[{\"type\":\"map\",\"entries\":[[\"type\",\"warning\"],[\"background\",\"#ffc107\"],[\"icon\",{\"type\":\"map\",\"entries\":[[\"className\",\"fas fa-exclamation-triangle\"],[\"tagName\",\"i\"],[\"color\",\"white\"]]}]]},{\"type\":\"map\",\"entries\":[[\"type\",\"info\"],[\"background\",\"#007bff\"],[\"icon\",{\"type\":\"map\",\"entries\":[[\"className\",\"fas fa-info-circle\"],[\"tagName\",\"i\"],[\"color\",\"white\"]]}]]}]}]},{\"type\":\"model\",\"name\":\"Notification\",\"properties\":[{\"name\":\"background\",\"kind\":\"Any\",\"default\":null},{\"name\":\"duration\",\"kind\":\"Any\",\"default\":3000},{\"name\":\"icon\",\"kind\":\"Any\",\"default\":null},{\"name\":\"message\",\"kind\":\"Any\",\"default\":\"\"},{\"name\":\"notification_type\",\"kind\":\"Any\",\"default\":null},{\"name\":\"_destroyed\",\"kind\":\"Any\",\"default\":false}]},{\"type\":\"model\",\"name\":\"TemplateActions1\",\"properties\":[{\"name\":\"open_modal\",\"kind\":\"Any\",\"default\":0},{\"name\":\"close_modal\",\"kind\":\"Any\",\"default\":0}]},{\"type\":\"model\",\"name\":\"BootstrapTemplateActions1\",\"properties\":[{\"name\":\"open_modal\",\"kind\":\"Any\",\"default\":0},{\"name\":\"close_modal\",\"kind\":\"Any\",\"default\":0}]},{\"type\":\"model\",\"name\":\"TemplateEditor1\",\"properties\":[{\"name\":\"layout\",\"kind\":\"Any\",\"default\":[]}]},{\"type\":\"model\",\"name\":\"MaterialTemplateActions1\",\"properties\":[{\"name\":\"open_modal\",\"kind\":\"Any\",\"default\":0},{\"name\":\"close_modal\",\"kind\":\"Any\",\"default\":0}]},{\"type\":\"model\",\"name\":\"copy_to_clipboard1\",\"properties\":[{\"name\":\"fill\",\"kind\":\"Any\",\"default\":\"none\"},{\"name\":\"value\",\"kind\":\"Any\",\"default\":null}]}]}};\n",
       "  var render_items = [{\"docid\":\"32ccb44f-5037-472d-9486-bc2034a57d1a\",\"roots\":{\"p1004\":\"eb9639de-5ec4-4e0a-858d-d8ae5b780602\"},\"root_ids\":[\"p1004\"]}];\n",
       "  var docs = Object.values(docs_json)\n",
       "  if (!docs) {\n",
       "    return\n",
       "  }\n",
       "  const py_version = docs[0].version.replace('rc', '-rc.').replace('.dev', '-dev.')\n",
       "  async function embed_document(root) {\n",
       "    var Bokeh = get_bokeh(root)\n",
       "    await Bokeh.embed.embed_items_notebook(docs_json, render_items);\n",
       "    for (const render_item of render_items) {\n",
       "      for (const root_id of render_item.root_ids) {\n",
       "\tconst id_el = document.getElementById(root_id)\n",
       "\tif (id_el.children.length && id_el.children[0].hasAttribute('data-root-id')) {\n",
       "\t  const root_el = id_el.children[0]\n",
       "\t  root_el.id = root_el.id + '-rendered'\n",
       "\t  for (const child of root_el.children) {\n",
       "            // Ensure JupyterLab does not capture keyboard shortcuts\n",
       "            // see: https://jupyterlab.readthedocs.io/en/4.1.x/extension/notebook.html#keyboard-interaction-model\n",
       "\t    child.setAttribute('data-lm-suppress-shortcuts', 'true')\n",
       "\t  }\n",
       "\t}\n",
       "      }\n",
       "    }\n",
       "  }\n",
       "  function get_bokeh(root) {\n",
       "    if (root.Bokeh === undefined) {\n",
       "      return null\n",
       "    } else if (root.Bokeh.version !== py_version) {\n",
       "      if (root.Bokeh.versions === undefined || !root.Bokeh.versions.has(py_version)) {\n",
       "\treturn null\n",
       "      }\n",
       "      return root.Bokeh.versions.get(py_version);\n",
       "    } else if (root.Bokeh.version === py_version) {\n",
       "      return root.Bokeh\n",
       "    }\n",
       "    return null\n",
       "  }\n",
       "  function is_loaded(root) {\n",
       "    var Bokeh = get_bokeh(root)\n",
       "    return (Bokeh != null && Bokeh.Panel !== undefined)\n",
       "  }\n",
       "  if (is_loaded(root)) {\n",
       "    embed_document(root);\n",
       "  } else {\n",
       "    var attempts = 0;\n",
       "    var timer = setInterval(function(root) {\n",
       "      if (is_loaded(root)) {\n",
       "        clearInterval(timer);\n",
       "        embed_document(root);\n",
       "      } else if (document.readyState == \"complete\") {\n",
       "        attempts++;\n",
       "        if (attempts > 200) {\n",
       "          clearInterval(timer);\n",
       "\t  var Bokeh = get_bokeh(root)\n",
       "\t  if (Bokeh == null || Bokeh.Panel == null) {\n",
       "            console.warn(\"Panel: ERROR: Unable to run Panel code because Bokeh or Panel library is missing\");\n",
       "\t  } else {\n",
       "\t    console.warn(\"Panel: WARNING: Attempting to render but not all required libraries could be resolved.\")\n",
       "\t    embed_document(root)\n",
       "\t  }\n",
       "        }\n",
       "      }\n",
       "    }, 25, root)\n",
       "  }\n",
       "})(window);</script>"
      ],
      "text/plain": [
       ":Bars   [都道府県]   (大学の数)"
      ]
     },
     "execution_count": 13,
     "metadata": {
      "application/vnd.holoviews_exec.v0+json": {
       "id": "p1004"
      }
     },
     "output_type": "execute_result"
    }
   ],
   "source": [
    "x_label = \"都道府県\"\n",
    "y_label = \"大学の数\"\n",
    "(df3\n",
    ".group_by(pl.col(\"state_jp\").alias(x_label))\n",
    ".agg(\n",
    "    pl.len().alias(y_label)\n",
    ")\n",
    ".sort(y_label, descending=True)\n",
    ".plot.bar(\n",
    "    x=x_label, y=y_label, \n",
    "    rot=90, frame_width=900\n",
    ")\n",
    ")"
   ]
  },
  {
   "cell_type": "markdown",
   "id": "5024c4ca-ace1-40d5-ab02-2177c8841209",
   "metadata": {},
   "source": [
    "### スタック棒グラフ"
   ]
  },
  {
   "cell_type": "markdown",
   "id": "2c5174f3-1d44-4351-8697-bca0a0c696d0",
   "metadata": {},
   "source": [
    "以下のプログラムは、先のプログラムに比べて都道府県ごとだけでなく、さらに大学の種類（国立、公立、私立）ごとにもグループ化し、スタックされた棒グラフとして視覚化します。上のプログラムとの主な違いについて説明します。\n",
    "\n",
    "1. `group_by()`に`type_jp`列を追加します。これで、都道府県と大学の種類でグループ化します。\n",
    "2. 並び替えの時、各都道府県内で大学の種類ごとの数の合計に基づいて降順にソートします。これにより、都道府県全体の大学の数が多い順に並べ替えられます。ここで`over()`を使って、演算式内部でグループ化処理を行います。[over()の使い方](over)\n",
    "3. `bar()`の引数について、`by=\"type_jp\"`によって大学の種類ごとに異なる色で表示され、各都道府県内での大学の種類の分布が視覚的にわかりやすくなります。`stacked=True`により、大学の種類ごとの棒グラフが積み上げられて表示されます。"
   ]
  },
  {
   "cell_type": "code",
   "execution_count": 14,
   "id": "6e1f1ab8-2cce-45f1-906e-cf7d654e40f7",
   "metadata": {},
   "outputs": [
    {
     "data": {},
     "metadata": {},
     "output_type": "display_data"
    },
    {
     "data": {
      "application/vnd.holoviews_exec.v0+json": "",
      "text/html": [
       "<div id='p1066'>\n",
       "  <div id=\"fd5b7c1a-41e3-4cb2-b0c8-a2ae7e6d83d3\" data-root-id=\"p1066\" style=\"display: contents;\"></div>\n",
       "</div>\n",
       "<script type=\"application/javascript\">(function(root) {\n",
       "  var docs_json = {\"e80fa419-be4a-4a80-99f9-2684f330e487\":{\"version\":\"3.4.2\",\"title\":\"Bokeh Application\",\"roots\":[{\"type\":\"object\",\"name\":\"Row\",\"id\":\"p1066\",\"attributes\":{\"name\":\"Row01050\",\"tags\":[\"embedded\"],\"stylesheets\":[\"\\n:host(.pn-loading):before, .pn-loading:before {\\n  background-color: #c3c3c3;\\n  mask-size: auto calc(min(50%, 400px));\\n  -webkit-mask-size: auto calc(min(50%, 400px));\\n}\",{\"type\":\"object\",\"name\":\"ImportedStyleSheet\",\"id\":\"p1069\",\"attributes\":{\"url\":\"https://cdn.holoviz.org/panel/1.4.4/dist/css/loading.css\"}},{\"type\":\"object\",\"name\":\"ImportedStyleSheet\",\"id\":\"p1128\",\"attributes\":{\"url\":\"https://cdn.holoviz.org/panel/1.4.4/dist/css/listpanel.css\"}},{\"type\":\"object\",\"name\":\"ImportedStyleSheet\",\"id\":\"p1067\",\"attributes\":{\"url\":\"https://cdn.holoviz.org/panel/1.4.4/dist/bundled/theme/default.css\"}},{\"type\":\"object\",\"name\":\"ImportedStyleSheet\",\"id\":\"p1068\",\"attributes\":{\"url\":\"https://cdn.holoviz.org/panel/1.4.4/dist/bundled/theme/native.css\"}}],\"margin\":0,\"sizing_mode\":\"stretch_width\",\"align\":\"start\",\"children\":[{\"type\":\"object\",\"name\":\"Spacer\",\"id\":\"p1070\",\"attributes\":{\"name\":\"HSpacer01057\",\"stylesheets\":[\"\\n:host(.pn-loading):before, .pn-loading:before {\\n  background-color: #c3c3c3;\\n  mask-size: auto calc(min(50%, 400px));\\n  -webkit-mask-size: auto calc(min(50%, 400px));\\n}\",{\"id\":\"p1069\"},{\"id\":\"p1067\"},{\"id\":\"p1068\"}],\"margin\":0,\"sizing_mode\":\"stretch_width\",\"align\":\"start\"}},{\"type\":\"object\",\"name\":\"Figure\",\"id\":\"p1078\",\"attributes\":{\"width\":null,\"height\":null,\"margin\":[5,10],\"sizing_mode\":\"fixed\",\"align\":\"start\",\"x_range\":{\"type\":\"object\",\"name\":\"FactorRange\",\"id\":\"p1071\",\"attributes\":{\"tags\":[[[\"\\u90fd\\u9053\\u5e9c\\u770c\",\"\\u90fd\\u9053\\u5e9c\\u770c\",null]],[]],\"factors\":[\"\\u6771\\u4eac\\u90fd\",\"\\u5927\\u962a\\u5e9c\",\"\\u611b\\u77e5\\u770c\",\"\\u5317\\u6d77\\u9053\",\"\\u798f\\u5ca1\\u770c\",\"\\u5175\\u5eab\\u770c\",\"\\u4eac\\u90fd\\u5e9c\",\"\\u795e\\u5948\\u5ddd\\u770c\",\"\\u57fc\\u7389\\u770c\",\"\\u5343\\u8449\\u770c\",\"\\u65b0\\u6f5f\\u770c\",\"\\u5e83\\u5cf6\\u770c\",\"\\u5ca1\\u5c71\\u770c\",\"\\u7fa4\\u99ac\\u770c\",\"\\u9759\\u5ca1\\u770c\",\"\\u77f3\\u5ddd\\u770c\",\"\\u5bae\\u57ce\\u770c\",\"\\u5c90\\u961c\\u770c\",\"\\u8328\\u57ce\\u770c\",\"\\u9577\\u91ce\\u770c\",\"\\u5948\\u826f\\u770c\",\"\\u9752\\u68ee\\u770c\",\"\\u5c71\\u53e3\\u770c\",\"\\u6803\\u6728\\u770c\",\"\\u718a\\u672c\\u770c\",\"\\u6ecb\\u8cc0\\u770c\",\"\\u9577\\u5d0e\\u770c\",\"\\u6c96\\u7e04\\u770c\",\"\\u798f\\u5cf6\\u770c\",\"\\u5bae\\u5d0e\\u770c\",\"\\u4e09\\u91cd\\u770c\",\"\\u5c71\\u68a8\\u770c\",\"\\u79cb\\u7530\\u770c\",\"\\u798f\\u4e95\\u770c\",\"\\u5ca9\\u624b\\u770c\",\"\\u5c71\\u5f62\\u770c\",\"\\u9e7f\\u5150\\u5cf6\\u770c\",\"\\u5927\\u5206\\u770c\",\"\\u611b\\u5a9b\\u770c\",\"\\u5bcc\\u5c71\\u770c\",\"\\u9ad8\\u77e5\\u770c\",\"\\u548c\\u6b4c\\u5c71\\u770c\",\"\\u9999\\u5ddd\\u770c\",\"\\u5fb3\\u5cf6\\u770c\",\"\\u9ce5\\u53d6\\u770c\",\"\\u4f50\\u8cc0\\u770c\",\"\\u5cf6\\u6839\\u770c\"]}},\"y_range\":{\"type\":\"object\",\"name\":\"Range1d\",\"id\":\"p1072\",\"attributes\":{\"tags\":[[[\"\\u5927\\u5b66\\u306e\\u6570\",\"\\u5927\\u5b66\\u306e\\u6570\",null]],{\"type\":\"map\",\"entries\":[[\"invert_yaxis\",false],[\"autorange\",false]]}],\"end\":160.4,\"reset_start\":0.0,\"reset_end\":160.4}},\"x_scale\":{\"type\":\"object\",\"name\":\"CategoricalScale\",\"id\":\"p1088\"},\"y_scale\":{\"type\":\"object\",\"name\":\"LinearScale\",\"id\":\"p1089\"},\"title\":{\"type\":\"object\",\"name\":\"Title\",\"id\":\"p1081\",\"attributes\":{\"text_color\":\"black\",\"text_font_size\":\"12pt\"}},\"renderers\":[{\"type\":\"object\",\"name\":\"GlyphRenderer\",\"id\":\"p1119\",\"attributes\":{\"data_source\":{\"type\":\"object\",\"name\":\"ColumnDataSource\",\"id\":\"p1110\",\"attributes\":{\"selected\":{\"type\":\"object\",\"name\":\"Selection\",\"id\":\"p1111\",\"attributes\":{\"indices\":[],\"line_indices\":[]}},\"selection_policy\":{\"type\":\"object\",\"name\":\"UnionRenderers\",\"id\":\"p1112\"},\"data\":{\"type\":\"map\",\"entries\":[[\"bottom\",{\"type\":\"ndarray\",\"array\":{\"type\":\"bytes\",\"data\":\"AAAAAAAAAAAAAAAAAAAAAAAAAAAAAAAAAAAAAAAAAAAAAAAAAAAAAAAAAAAAAAAAAAAAAAAAAAAAAAAAAAAAAAAAAAAAAAAAAAAAAAAAAAAAAAAAAAAAAAAAAAAAAAAAAAAAAAAAAAAAAAAAAAAAAAAAAAAAAAAAAAAAAAAAAAAAAAAAAAAAAAAAAAAAAAAAAAAAAAAAAAAAAAAAAAAAAAAAAAAAAAAAAAAAAAAAAAAAAAAAAAAAAAAAAAAAAAAAAAAAAAAAAAAAAAAAAAAAAAAAAAAAAAAAAAAAAAAAAAAAAAAAAAAAAAAAAAAAAAAAAAAAAAAAAAAAAAAAAAAAAAAAAAAAAAAAAAAAAAAAAAAAAAAAAAAAAAAAAAAAAAAAAAAAAAAAAAAAAAAAAAAAAAAAAAAAAAAAAAAAAAAAAAAAAAAAAAAAAAAAAAAAAAAAAAAAAAAAAAAAAAAAAADwPwAAAAAAAABAAAAAAAAAFEAAAAAAAAAQQAAAAAAAABBAAAAAAAAAAEAAAAAAAADwPwAAAAAAAAhAAAAAAAAAAEAAAAAAAAAYQAAAAAAAAPA/AAAAAAAAAEAAAAAAAADwPwAAAAAAAPA/AAAAAAAAAAAAAAAAAAAIQAAAAAAAAPA/AAAAAAAAEEAAAAAAAAAAQAAAAAAAAPA/AAAAAAAA8D8AAAAAAADwPwAAAAAAAABAAAAAAAAAAAAAAAAAAAAAQAAAAAAAAAhAAAAAAAAA8D8AAAAAAAAIQAAAAAAAAPA/AAAAAAAAEEAAAAAAAAAAQAAAAAAAABBAAAAAAAAAEEAAAAAAAADwPwAAAAAAABBAAAAAAAAA8D8AAAAAAADwPwAAAAAAAAhAAAAAAAAA8D8AAAAAAAAIQAAAAAAAAABAAAAAAAAAEEAAAAAAAAAAQAAAAAAAABBAAAAAAAAAAAAAAAAAAAAAAAAAAAAAABhAAAAAAAAAEEAAAAAAAAAsQAAAAAAAABBAAAAAAAAAOkAAAAAAAABIQAAAAAAAACBAAAAAAAAAEEAAAAAAAABMQAAAAAAAACBAAAAAAADAYEAAAAAAAAAoQAAAAAAAAABAAAAAAAAAMUAAAAAAAAAIQAAAAAAAAABAAAAAAAAAM0AAAAAAAAA0QAAAAAAAAPA/AAAAAAAA8D8AAAAAAAAQQAAAAAAAACJAAAAAAAAAKEAAAAAAAAAiQAAAAAAAABxAAAAAAAAAGEAAAAAAAAAYQAAAAAAAABhAAAAAAAAAIEAAAAAAAAA/QAAAAAAAACRAAAAAAAAAIEAAAAAAAAAoQAAAAAAAABxAAAAAAACAQEAAAAAAAAA+QAAAAAAAABBAAAAAAAAAOkAAAAAAAAAcQAAAAAAAABRAAAAAAAAAQUAAAAAAAAAUQAAAAAAAAD9AAAAAAAAAFEAAAAAAAAAoQAAAAAAAABBAAAAAAAAAHEA=\"},\"shape\":[136],\"dtype\":\"float64\",\"order\":\"little\"}],[\"top\",{\"type\":\"ndarray\",\"array\":{\"type\":\"bytes\",\"data\":\"AAAAAAAAAEAAAAAAAAAQQAAAAAAAABBAAAAAAAAAEEAAAAAAAADwPwAAAAAAAAhAAAAAAAAAEEAAAAAAAADwPwAAAAAAAABAAAAAAAAAAEAAAAAAAAAQQAAAAAAAAPA/AAAAAAAA8D8AAAAAAADwPwAAAAAAAAhAAAAAAAAAAEAAAAAAAADwPwAAAAAAAAhAAAAAAAAAAEAAAAAAAAAAQAAAAAAAAABAAAAAAAAAAEAAAAAAAADwPwAAAAAAAABAAAAAAAAA8D8AAAAAAADwPwAAAAAAAPA/AAAAAAAA8D8AAAAAAADwPwAAAAAAAPA/AAAAAAAAAEAAAAAAAAAUQAAAAAAAAPA/AAAAAAAAGEAAAAAAAAAQQAAAAAAAAAhAAAAAAAAA8D8AAAAAAAAQQAAAAAAAAAhAAAAAAAAACEAAAAAAAADwPwAAAAAAABBAAAAAAAAAEEAAAAAAAAAYQAAAAAAAABhAAAAAAAAANEAAAAAAAIBAQAAAAAAAAEFAAAAAAAAAHEAAAAAAAAAcQAAAAAAAABhAAAAAAAAAGEAAAAAAAAA+QAAAAAAAABRAAAAAAADAYEAAAAAAAAAAQAAAAAAAAAhAAAAAAAAAAEAAAAAAAABMQAAAAAAAABBAAAAAAAAAP0AAAAAAAAAQQAAAAAAAABBAAAAAAAAAEEAAAAAAAAAQQAAAAAAAABRAAAAAAAAAEEAAAAAAAAAUQAAAAAAAAEhAAAAAAAAAHEAAAAAAAAAcQAAAAAAAADpAAAAAAAAAM0AAAAAAAAAxQAAAAAAAACxAAAAAAAAAKEAAAAAAAAAoQAAAAAAAAChAAAAAAAAAIEAAAAAAAAA6QAAAAAAAAChAAAAAAAAAIEAAAAAAAAA/QAAAAAAAACBAAAAAAAAAJEAAAAAAAAAiQAAAAAAAACJAAAAAAAAA8D8AAAAAAAAgQAAAAAAAABxAAAAAAAAAFEAAAAAAAAAuQAAAAAAAABRAAAAAAAAAO0AAAAAAAABKQAAAAAAAACJAAAAAAAAAFEAAAAAAAABNQAAAAAAAACJAAAAAAABAYkAAAAAAAAAsQAAAAAAAABBAAAAAAAAAMkAAAAAAAAAQQAAAAAAAAAhAAAAAAAAANkAAAAAAAAA1QAAAAAAAAABAAAAAAAAAAEAAAAAAAAAUQAAAAAAAACRAAAAAAAAALEAAAAAAAAAkQAAAAAAAACBAAAAAAAAAHEAAAAAAAAAcQAAAAAAAABxAAAAAAAAAJkAAAAAAAIBAQAAAAAAAACZAAAAAAAAAJkAAAAAAAAAqQAAAAAAAACBAAAAAAAAAQkAAAAAAAIBCQAAAAAAAABhAAAAAAAAAO0AAAAAAAAAgQAAAAAAAABhAAAAAAAAAQkAAAAAAAAAYQAAAAAAAAEFAAAAAAAAAGEAAAAAAAAAsQAAAAAAAABRAAAAAAAAAIkA=\"},\"shape\":[136],\"dtype\":\"float64\",\"order\":\"little\"}],[\"\\u90fd\\u9053\\u5e9c\\u770c\",[\"\\u6771\\u4eac\\u90fd\",\"\\u7fa4\\u99ac\\u770c\",\"\\u9759\\u5ca1\\u770c\",\"\\u77f3\\u5ddd\\u770c\",\"\\u5bae\\u57ce\\u770c\",\"\\u5c90\\u961c\\u770c\",\"\\u9577\\u91ce\\u770c\",\"\\u8328\\u57ce\\u770c\",\"\\u5948\\u826f\\u770c\",\"\\u9752\\u68ee\\u770c\",\"\\u5c71\\u53e3\\u770c\",\"\\u6ecb\\u8cc0\\u770c\",\"\\u718a\\u672c\\u770c\",\"\\u9577\\u5d0e\\u770c\",\"\\u6c96\\u7e04\\u770c\",\"\\u798f\\u5cf6\\u770c\",\"\\u4e09\\u91cd\\u770c\",\"\\u79cb\\u7530\\u770c\",\"\\u5bae\\u5d0e\\u770c\",\"\\u5c71\\u68a8\\u770c\",\"\\u798f\\u4e95\\u770c\",\"\\u5c71\\u5f62\\u770c\",\"\\u5ca9\\u624b\\u770c\",\"\\u9ad8\\u77e5\\u770c\",\"\\u5bcc\\u5c71\\u770c\",\"\\u5927\\u5206\\u770c\",\"\\u548c\\u6b4c\\u5c71\\u770c\",\"\\u611b\\u5a9b\\u770c\",\"\\u9999\\u5ddd\\u770c\",\"\\u9ce5\\u53d6\\u770c\",\"\\u5ca1\\u5c71\\u770c\",\"\\u5e83\\u5cf6\\u770c\",\"\\u5cf6\\u6839\\u770c\",\"\\u5317\\u6d77\\u9053\",\"\\u4eac\\u90fd\\u5e9c\",\"\\u795e\\u5948\\u5ddd\\u770c\",\"\\u57fc\\u7389\\u770c\",\"\\u65b0\\u6f5f\\u770c\",\"\\u5927\\u962a\\u5e9c\",\"\\u611b\\u77e5\\u770c\",\"\\u5343\\u8449\\u770c\",\"\\u5175\\u5eab\\u770c\",\"\\u798f\\u5ca1\\u770c\",\"\\u4e09\\u91cd\\u770c\",\"\\u5c71\\u68a8\\u770c\",\"\\u5e83\\u5cf6\\u770c\",\"\\u798f\\u5ca1\\u770c\",\"\\u5175\\u5eab\\u770c\",\"\\u798f\\u5cf6\\u770c\",\"\\u9577\\u5d0e\\u770c\",\"\\u79cb\\u7530\\u770c\",\"\\u5bae\\u5d0e\\u770c\",\"\\u5317\\u6d77\\u9053\",\"\\u5ca9\\u624b\\u770c\",\"\\u6771\\u4eac\\u90fd\",\"\\u9ce5\\u53d6\\u770c\",\"\\u9999\\u5ddd\\u770c\",\"\\u5fb3\\u5cf6\\u770c\",\"\\u5927\\u962a\\u5e9c\",\"\\u548c\\u6b4c\\u5c71\\u770c\",\"\\u4eac\\u90fd\\u5e9c\",\"\\u9ad8\\u77e5\\u770c\",\"\\u5bcc\\u5c71\\u770c\",\"\\u611b\\u5a9b\\u770c\",\"\\u5927\\u5206\\u770c\",\"\\u5c71\\u5f62\\u770c\",\"\\u9e7f\\u5150\\u5cf6\\u770c\",\"\\u798f\\u4e95\\u770c\",\"\\u611b\\u77e5\\u770c\",\"\\u6ecb\\u8cc0\\u770c\",\"\\u6c96\\u7e04\\u770c\",\"\\u57fc\\u7389\\u770c\",\"\\u65b0\\u6f5f\\u770c\",\"\\u5ca1\\u5c71\\u770c\",\"\\u7fa4\\u99ac\\u770c\",\"\\u9759\\u5ca1\\u770c\",\"\\u5bae\\u57ce\\u770c\",\"\\u77f3\\u5ddd\\u770c\",\"\\u718a\\u672c\\u770c\",\"\\u5343\\u8449\\u770c\",\"\\u5c90\\u961c\\u770c\",\"\\u8328\\u57ce\\u770c\",\"\\u795e\\u5948\\u5ddd\\u770c\",\"\\u5948\\u826f\\u770c\",\"\\u9577\\u91ce\\u770c\",\"\\u9752\\u68ee\\u770c\",\"\\u5c71\\u53e3\\u770c\",\"\\u4f50\\u8cc0\\u770c\",\"\\u6803\\u6728\\u770c\",\"\\u5bae\\u5d0e\\u770c\",\"\\u9ad8\\u77e5\\u770c\",\"\\u7fa4\\u99ac\\u770c\",\"\\u611b\\u5a9b\\u770c\",\"\\u5343\\u8449\\u770c\",\"\\u611b\\u77e5\\u770c\",\"\\u6803\\u6728\\u770c\",\"\\u5bcc\\u5c71\\u770c\",\"\\u5927\\u962a\\u5e9c\",\"\\u718a\\u672c\\u770c\",\"\\u6771\\u4eac\\u90fd\",\"\\u9759\\u5ca1\\u770c\",\"\\u5fb3\\u5cf6\\u770c\",\"\\u5ca1\\u5c71\\u770c\",\"\\u9999\\u5ddd\\u770c\",\"\\u9ce5\\u53d6\\u770c\",\"\\u65b0\\u6f5f\\u770c\",\"\\u5e83\\u5cf6\\u770c\",\"\\u4f50\\u8cc0\\u770c\",\"\\u5cf6\\u6839\\u770c\",\"\\u548c\\u6b4c\\u5c71\\u770c\",\"\\u5c71\\u53e3\\u770c\",\"\\u77f3\\u5ddd\\u770c\",\"\\u9752\\u68ee\\u770c\",\"\\u798f\\u5cf6\\u770c\",\"\\u5c71\\u68a8\\u770c\",\"\\u4e09\\u91cd\\u770c\",\"\\u79cb\\u7530\\u770c\",\"\\u5948\\u826f\\u770c\",\"\\u795e\\u5948\\u5ddd\\u770c\",\"\\u9577\\u91ce\\u770c\",\"\\u8328\\u57ce\\u770c\",\"\\u5c90\\u961c\\u770c\",\"\\u9577\\u5d0e\\u770c\",\"\\u798f\\u5ca1\\u770c\",\"\\u5317\\u6d77\\u9053\",\"\\u9e7f\\u5150\\u5cf6\\u770c\",\"\\u57fc\\u7389\\u770c\",\"\\u6c96\\u7e04\\u770c\",\"\\u798f\\u4e95\\u770c\",\"\\u5175\\u5eab\\u770c\",\"\\u5c71\\u5f62\\u770c\",\"\\u4eac\\u90fd\\u5e9c\",\"\\u5ca9\\u624b\\u770c\",\"\\u5bae\\u57ce\\u770c\",\"\\u5927\\u5206\\u770c\",\"\\u6ecb\\u8cc0\\u770c\"]],[\"type_jp\",[\"\\u516c\\u7acb\",\"\\u516c\\u7acb\",\"\\u516c\\u7acb\",\"\\u516c\\u7acb\",\"\\u516c\\u7acb\",\"\\u516c\\u7acb\",\"\\u516c\\u7acb\",\"\\u516c\\u7acb\",\"\\u516c\\u7acb\",\"\\u516c\\u7acb\",\"\\u516c\\u7acb\",\"\\u516c\\u7acb\",\"\\u516c\\u7acb\",\"\\u516c\\u7acb\",\"\\u516c\\u7acb\",\"\\u516c\\u7acb\",\"\\u516c\\u7acb\",\"\\u516c\\u7acb\",\"\\u516c\\u7acb\",\"\\u516c\\u7acb\",\"\\u516c\\u7acb\",\"\\u516c\\u7acb\",\"\\u516c\\u7acb\",\"\\u516c\\u7acb\",\"\\u516c\\u7acb\",\"\\u516c\\u7acb\",\"\\u516c\\u7acb\",\"\\u516c\\u7acb\",\"\\u516c\\u7acb\",\"\\u516c\\u7acb\",\"\\u516c\\u7acb\",\"\\u516c\\u7acb\",\"\\u516c\\u7acb\",\"\\u516c\\u7acb\",\"\\u516c\\u7acb\",\"\\u516c\\u7acb\",\"\\u516c\\u7acb\",\"\\u516c\\u7acb\",\"\\u516c\\u7acb\",\"\\u516c\\u7acb\",\"\\u516c\\u7acb\",\"\\u516c\\u7acb\",\"\\u516c\\u7acb\",\"\\u79c1\\u7acb\",\"\\u79c1\\u7acb\",\"\\u79c1\\u7acb\",\"\\u79c1\\u7acb\",\"\\u79c1\\u7acb\",\"\\u79c1\\u7acb\",\"\\u79c1\\u7acb\",\"\\u79c1\\u7acb\",\"\\u79c1\\u7acb\",\"\\u79c1\\u7acb\",\"\\u79c1\\u7acb\",\"\\u79c1\\u7acb\",\"\\u79c1\\u7acb\",\"\\u79c1\\u7acb\",\"\\u79c1\\u7acb\",\"\\u79c1\\u7acb\",\"\\u79c1\\u7acb\",\"\\u79c1\\u7acb\",\"\\u79c1\\u7acb\",\"\\u79c1\\u7acb\",\"\\u79c1\\u7acb\",\"\\u79c1\\u7acb\",\"\\u79c1\\u7acb\",\"\\u79c1\\u7acb\",\"\\u79c1\\u7acb\",\"\\u79c1\\u7acb\",\"\\u79c1\\u7acb\",\"\\u79c1\\u7acb\",\"\\u79c1\\u7acb\",\"\\u79c1\\u7acb\",\"\\u79c1\\u7acb\",\"\\u79c1\\u7acb\",\"\\u79c1\\u7acb\",\"\\u79c1\\u7acb\",\"\\u79c1\\u7acb\",\"\\u79c1\\u7acb\",\"\\u79c1\\u7acb\",\"\\u79c1\\u7acb\",\"\\u79c1\\u7acb\",\"\\u79c1\\u7acb\",\"\\u79c1\\u7acb\",\"\\u79c1\\u7acb\",\"\\u79c1\\u7acb\",\"\\u79c1\\u7acb\",\"\\u79c1\\u7acb\",\"\\u79c1\\u7acb\",\"\\u56fd\\u7acb\",\"\\u56fd\\u7acb\",\"\\u56fd\\u7acb\",\"\\u56fd\\u7acb\",\"\\u56fd\\u7acb\",\"\\u56fd\\u7acb\",\"\\u56fd\\u7acb\",\"\\u56fd\\u7acb\",\"\\u56fd\\u7acb\",\"\\u56fd\\u7acb\",\"\\u56fd\\u7acb\",\"\\u56fd\\u7acb\",\"\\u56fd\\u7acb\",\"\\u56fd\\u7acb\",\"\\u56fd\\u7acb\",\"\\u56fd\\u7acb\",\"\\u56fd\\u7acb\",\"\\u56fd\\u7acb\",\"\\u56fd\\u7acb\",\"\\u56fd\\u7acb\",\"\\u56fd\\u7acb\",\"\\u56fd\\u7acb\",\"\\u56fd\\u7acb\",\"\\u56fd\\u7acb\",\"\\u56fd\\u7acb\",\"\\u56fd\\u7acb\",\"\\u56fd\\u7acb\",\"\\u56fd\\u7acb\",\"\\u56fd\\u7acb\",\"\\u56fd\\u7acb\",\"\\u56fd\\u7acb\",\"\\u56fd\\u7acb\",\"\\u56fd\\u7acb\",\"\\u56fd\\u7acb\",\"\\u56fd\\u7acb\",\"\\u56fd\\u7acb\",\"\\u56fd\\u7acb\",\"\\u56fd\\u7acb\",\"\\u56fd\\u7acb\",\"\\u56fd\\u7acb\",\"\\u56fd\\u7acb\",\"\\u56fd\\u7acb\",\"\\u56fd\\u7acb\",\"\\u56fd\\u7acb\",\"\\u56fd\\u7acb\",\"\\u56fd\\u7acb\",\"\\u56fd\\u7acb\"]],[\"\\u5927\\u5b66\\u306e\\u6570\",{\"type\":\"ndarray\",\"array\":{\"type\":\"bytes\",\"data\":\"AgAAAAQAAAAEAAAABAAAAAEAAAADAAAABAAAAAEAAAACAAAAAgAAAAQAAAABAAAAAQAAAAEAAAADAAAAAgAAAAEAAAADAAAAAgAAAAIAAAACAAAAAgAAAAEAAAACAAAAAQAAAAEAAAABAAAAAQAAAAEAAAABAAAAAgAAAAUAAAABAAAABgAAAAQAAAADAAAAAQAAAAQAAAADAAAAAwAAAAEAAAAEAAAABAAAAAUAAAAEAAAADwAAAB0AAAAeAAAABQAAAAYAAAADAAAABAAAABgAAAAEAAAAhAAAAAEAAAACAAAAAgAAADUAAAADAAAAGwAAAAIAAAADAAAAAwAAAAMAAAADAAAABAAAAAMAAAAtAAAABgAAAAQAAAAZAAAADwAAAA8AAAAKAAAACAAAAAsAAAAIAAAABwAAABkAAAAJAAAABwAAABwAAAAGAAAABgAAAAcAAAAFAAAAAQAAAAgAAAABAAAAAQAAAAEAAAABAAAAAQAAAAQAAAABAAAAAQAAAAIAAAABAAAADAAAAAIAAAACAAAAAQAAAAEAAAABAAAAAwAAAAEAAAABAAAAAQAAAAEAAAABAAAAAgAAAAEAAAABAAAAAQAAAAEAAAABAAAAAwAAAAIAAAABAAAAAwAAAAEAAAABAAAAAwAAAAcAAAACAAAAAQAAAAEAAAABAAAAAgAAAAEAAAADAAAAAQAAAAIAAAABAAAAAgAAAA==\"},\"shape\":[136],\"dtype\":\"uint32\",\"order\":\"little\"}]]}}},\"view\":{\"type\":\"object\",\"name\":\"CDSView\",\"id\":\"p1120\",\"attributes\":{\"filter\":{\"type\":\"object\",\"name\":\"AllIndices\",\"id\":\"p1121\"}}},\"glyph\":{\"type\":\"object\",\"name\":\"VBar\",\"id\":\"p1116\",\"attributes\":{\"tags\":[\"apply_ranges\"],\"x\":{\"type\":\"field\",\"field\":\"\\u90fd\\u9053\\u5e9c\\u770c\"},\"width\":{\"type\":\"value\",\"value\":0.8},\"bottom\":{\"type\":\"field\",\"field\":\"bottom\"},\"top\":{\"type\":\"field\",\"field\":\"top\"},\"fill_color\":{\"type\":\"field\",\"field\":\"type_jp\",\"transform\":{\"type\":\"object\",\"name\":\"CategoricalColorMapper\",\"id\":\"p1109\",\"attributes\":{\"palette\":[\"#30a2da\",\"#fc4f30\",\"#e5ae38\"],\"factors\":[\"\\u516c\\u7acb\",\"\\u79c1\\u7acb\",\"\\u56fd\\u7acb\"]}}},\"hatch_color\":{\"type\":\"field\",\"field\":\"type_jp\",\"transform\":{\"id\":\"p1109\"}}}},\"selection_glyph\":{\"type\":\"object\",\"name\":\"VBar\",\"id\":\"p1124\",\"attributes\":{\"tags\":[\"apply_ranges\"],\"x\":{\"type\":\"field\",\"field\":\"\\u90fd\\u9053\\u5e9c\\u770c\"},\"width\":{\"type\":\"value\",\"value\":0.8},\"bottom\":{\"type\":\"field\",\"field\":\"bottom\"},\"top\":{\"type\":\"field\",\"field\":\"top\"},\"line_color\":{\"type\":\"value\",\"value\":\"black\"},\"line_alpha\":{\"type\":\"value\",\"value\":1.0},\"line_width\":{\"type\":\"value\",\"value\":1},\"line_join\":{\"type\":\"value\",\"value\":\"bevel\"},\"line_cap\":{\"type\":\"value\",\"value\":\"butt\"},\"line_dash\":{\"type\":\"value\",\"value\":[]},\"line_dash_offset\":{\"type\":\"value\",\"value\":0},\"fill_color\":{\"type\":\"field\",\"field\":\"type_jp\",\"transform\":{\"id\":\"p1109\"}},\"fill_alpha\":{\"type\":\"value\",\"value\":1.0},\"hatch_color\":{\"type\":\"field\",\"field\":\"type_jp\",\"transform\":{\"id\":\"p1109\"}},\"hatch_alpha\":{\"type\":\"value\",\"value\":1.0},\"hatch_scale\":{\"type\":\"value\",\"value\":12.0},\"hatch_pattern\":{\"type\":\"value\",\"value\":null},\"hatch_weight\":{\"type\":\"value\",\"value\":1.0}}},\"nonselection_glyph\":{\"type\":\"object\",\"name\":\"VBar\",\"id\":\"p1117\",\"attributes\":{\"tags\":[\"apply_ranges\"],\"x\":{\"type\":\"field\",\"field\":\"\\u90fd\\u9053\\u5e9c\\u770c\"},\"width\":{\"type\":\"value\",\"value\":0.8},\"bottom\":{\"type\":\"field\",\"field\":\"bottom\"},\"top\":{\"type\":\"field\",\"field\":\"top\"},\"line_alpha\":{\"type\":\"value\",\"value\":0.1},\"fill_color\":{\"type\":\"field\",\"field\":\"type_jp\",\"transform\":{\"id\":\"p1109\"}},\"fill_alpha\":{\"type\":\"value\",\"value\":0.1},\"hatch_color\":{\"type\":\"field\",\"field\":\"type_jp\",\"transform\":{\"id\":\"p1109\"}},\"hatch_alpha\":{\"type\":\"value\",\"value\":0.1}}},\"muted_glyph\":{\"type\":\"object\",\"name\":\"VBar\",\"id\":\"p1118\",\"attributes\":{\"tags\":[\"apply_ranges\"],\"x\":{\"type\":\"field\",\"field\":\"\\u90fd\\u9053\\u5e9c\\u770c\"},\"width\":{\"type\":\"value\",\"value\":0.8},\"bottom\":{\"type\":\"field\",\"field\":\"bottom\"},\"top\":{\"type\":\"field\",\"field\":\"top\"},\"line_alpha\":{\"type\":\"value\",\"value\":0.2},\"fill_color\":{\"type\":\"field\",\"field\":\"type_jp\",\"transform\":{\"id\":\"p1109\"}},\"fill_alpha\":{\"type\":\"value\",\"value\":0.2},\"hatch_color\":{\"type\":\"field\",\"field\":\"type_jp\",\"transform\":{\"id\":\"p1109\"}},\"hatch_alpha\":{\"type\":\"value\",\"value\":0.2}}}}}],\"toolbar\":{\"type\":\"object\",\"name\":\"Toolbar\",\"id\":\"p1087\",\"attributes\":{\"tools\":[{\"type\":\"object\",\"name\":\"WheelZoomTool\",\"id\":\"p1076\",\"attributes\":{\"tags\":[\"hv_created\"],\"renderers\":\"auto\",\"zoom_together\":\"none\"}},{\"type\":\"object\",\"name\":\"HoverTool\",\"id\":\"p1077\",\"attributes\":{\"tags\":[\"hv_created\"],\"renderers\":[{\"id\":\"p1119\"}],\"tooltips\":[[\"\\u90fd\\u9053\\u5e9c\\u770c\",\"@{\\u90fd\\u9053\\u5e9c\\u770c}\"],[\"type_jp\",\"@{type_jp}\"],[\"\\u5927\\u5b66\\u306e\\u6570\",\"@{\\u5927\\u5b66\\u306e\\u6570}\"]]}},{\"type\":\"object\",\"name\":\"SaveTool\",\"id\":\"p1100\"},{\"type\":\"object\",\"name\":\"PanTool\",\"id\":\"p1101\"},{\"type\":\"object\",\"name\":\"BoxZoomTool\",\"id\":\"p1102\",\"attributes\":{\"overlay\":{\"type\":\"object\",\"name\":\"BoxAnnotation\",\"id\":\"p1103\",\"attributes\":{\"syncable\":false,\"level\":\"overlay\",\"visible\":false,\"left\":{\"type\":\"number\",\"value\":\"nan\"},\"right\":{\"type\":\"number\",\"value\":\"nan\"},\"top\":{\"type\":\"number\",\"value\":\"nan\"},\"bottom\":{\"type\":\"number\",\"value\":\"nan\"},\"left_units\":\"canvas\",\"right_units\":\"canvas\",\"top_units\":\"canvas\",\"bottom_units\":\"canvas\",\"line_color\":\"black\",\"line_alpha\":1.0,\"line_width\":2,\"line_dash\":[4,4],\"fill_color\":\"lightgrey\",\"fill_alpha\":0.5}}}},{\"type\":\"object\",\"name\":\"ResetTool\",\"id\":\"p1108\"}],\"active_drag\":{\"id\":\"p1101\"},\"active_scroll\":{\"id\":\"p1076\"}}},\"left\":[{\"type\":\"object\",\"name\":\"LinearAxis\",\"id\":\"p1095\",\"attributes\":{\"ticker\":{\"type\":\"object\",\"name\":\"BasicTicker\",\"id\":\"p1096\",\"attributes\":{\"mantissas\":[1,2,5]}},\"formatter\":{\"type\":\"object\",\"name\":\"BasicTickFormatter\",\"id\":\"p1097\"},\"axis_label\":\"\\u5927\\u5b66\\u306e\\u6570\",\"major_label_policy\":{\"type\":\"object\",\"name\":\"AllLabels\",\"id\":\"p1098\"}}}],\"right\":[{\"type\":\"object\",\"name\":\"Legend\",\"id\":\"p1122\",\"attributes\":{\"location\":[0,0],\"items\":[{\"type\":\"object\",\"name\":\"LegendItem\",\"id\":\"p1123\",\"attributes\":{\"label\":{\"type\":\"field\",\"field\":\"type_jp\"},\"renderers\":[{\"id\":\"p1119\"}]}}]}}],\"below\":[{\"type\":\"object\",\"name\":\"CategoricalAxis\",\"id\":\"p1090\",\"attributes\":{\"ticker\":{\"type\":\"object\",\"name\":\"CategoricalTicker\",\"id\":\"p1091\"},\"formatter\":{\"type\":\"object\",\"name\":\"CategoricalTickFormatter\",\"id\":\"p1092\"},\"axis_label\":\"\\u90fd\\u9053\\u5e9c\\u770c\",\"major_label_orientation\":1.5707963267948966,\"major_label_policy\":{\"type\":\"object\",\"name\":\"AllLabels\",\"id\":\"p1093\"}}}],\"center\":[{\"type\":\"object\",\"name\":\"Grid\",\"id\":\"p1094\",\"attributes\":{\"axis\":{\"id\":\"p1090\"},\"grid_line_color\":null}},{\"type\":\"object\",\"name\":\"Grid\",\"id\":\"p1099\",\"attributes\":{\"dimension\":1,\"axis\":{\"id\":\"p1095\"},\"grid_line_color\":null}},{\"id\":\"p1122\"}],\"frame_width\":900,\"frame_height\":450,\"min_border_top\":10,\"min_border_bottom\":10,\"min_border_left\":10,\"min_border_right\":10,\"output_backend\":\"webgl\"}},{\"type\":\"object\",\"name\":\"Spacer\",\"id\":\"p1126\",\"attributes\":{\"name\":\"HSpacer01058\",\"stylesheets\":[\"\\n:host(.pn-loading):before, .pn-loading:before {\\n  background-color: #c3c3c3;\\n  mask-size: auto calc(min(50%, 400px));\\n  -webkit-mask-size: auto calc(min(50%, 400px));\\n}\",{\"id\":\"p1069\"},{\"id\":\"p1067\"},{\"id\":\"p1068\"}],\"margin\":0,\"sizing_mode\":\"stretch_width\",\"align\":\"start\"}}]}}],\"defs\":[{\"type\":\"model\",\"name\":\"ReactiveHTML1\"},{\"type\":\"model\",\"name\":\"FlexBox1\",\"properties\":[{\"name\":\"align_content\",\"kind\":\"Any\",\"default\":\"flex-start\"},{\"name\":\"align_items\",\"kind\":\"Any\",\"default\":\"flex-start\"},{\"name\":\"flex_direction\",\"kind\":\"Any\",\"default\":\"row\"},{\"name\":\"flex_wrap\",\"kind\":\"Any\",\"default\":\"wrap\"},{\"name\":\"gap\",\"kind\":\"Any\",\"default\":\"\"},{\"name\":\"justify_content\",\"kind\":\"Any\",\"default\":\"flex-start\"}]},{\"type\":\"model\",\"name\":\"FloatPanel1\",\"properties\":[{\"name\":\"config\",\"kind\":\"Any\",\"default\":{\"type\":\"map\"}},{\"name\":\"contained\",\"kind\":\"Any\",\"default\":true},{\"name\":\"position\",\"kind\":\"Any\",\"default\":\"right-top\"},{\"name\":\"offsetx\",\"kind\":\"Any\",\"default\":null},{\"name\":\"offsety\",\"kind\":\"Any\",\"default\":null},{\"name\":\"theme\",\"kind\":\"Any\",\"default\":\"primary\"},{\"name\":\"status\",\"kind\":\"Any\",\"default\":\"normalized\"}]},{\"type\":\"model\",\"name\":\"GridStack1\",\"properties\":[{\"name\":\"mode\",\"kind\":\"Any\",\"default\":\"warn\"},{\"name\":\"ncols\",\"kind\":\"Any\",\"default\":null},{\"name\":\"nrows\",\"kind\":\"Any\",\"default\":null},{\"name\":\"allow_resize\",\"kind\":\"Any\",\"default\":true},{\"name\":\"allow_drag\",\"kind\":\"Any\",\"default\":true},{\"name\":\"state\",\"kind\":\"Any\",\"default\":[]}]},{\"type\":\"model\",\"name\":\"drag1\",\"properties\":[{\"name\":\"slider_width\",\"kind\":\"Any\",\"default\":5},{\"name\":\"slider_color\",\"kind\":\"Any\",\"default\":\"black\"},{\"name\":\"value\",\"kind\":\"Any\",\"default\":50}]},{\"type\":\"model\",\"name\":\"click1\",\"properties\":[{\"name\":\"terminal_output\",\"kind\":\"Any\",\"default\":\"\"},{\"name\":\"debug_name\",\"kind\":\"Any\",\"default\":\"\"},{\"name\":\"clears\",\"kind\":\"Any\",\"default\":0}]},{\"type\":\"model\",\"name\":\"FastWrapper1\",\"properties\":[{\"name\":\"object\",\"kind\":\"Any\",\"default\":null},{\"name\":\"style\",\"kind\":\"Any\",\"default\":null}]},{\"type\":\"model\",\"name\":\"NotificationAreaBase1\",\"properties\":[{\"name\":\"js_events\",\"kind\":\"Any\",\"default\":{\"type\":\"map\"}},{\"name\":\"position\",\"kind\":\"Any\",\"default\":\"bottom-right\"},{\"name\":\"_clear\",\"kind\":\"Any\",\"default\":0}]},{\"type\":\"model\",\"name\":\"NotificationArea1\",\"properties\":[{\"name\":\"js_events\",\"kind\":\"Any\",\"default\":{\"type\":\"map\"}},{\"name\":\"notifications\",\"kind\":\"Any\",\"default\":[]},{\"name\":\"position\",\"kind\":\"Any\",\"default\":\"bottom-right\"},{\"name\":\"_clear\",\"kind\":\"Any\",\"default\":0},{\"name\":\"types\",\"kind\":\"Any\",\"default\":[{\"type\":\"map\",\"entries\":[[\"type\",\"warning\"],[\"background\",\"#ffc107\"],[\"icon\",{\"type\":\"map\",\"entries\":[[\"className\",\"fas fa-exclamation-triangle\"],[\"tagName\",\"i\"],[\"color\",\"white\"]]}]]},{\"type\":\"map\",\"entries\":[[\"type\",\"info\"],[\"background\",\"#007bff\"],[\"icon\",{\"type\":\"map\",\"entries\":[[\"className\",\"fas fa-info-circle\"],[\"tagName\",\"i\"],[\"color\",\"white\"]]}]]}]}]},{\"type\":\"model\",\"name\":\"Notification\",\"properties\":[{\"name\":\"background\",\"kind\":\"Any\",\"default\":null},{\"name\":\"duration\",\"kind\":\"Any\",\"default\":3000},{\"name\":\"icon\",\"kind\":\"Any\",\"default\":null},{\"name\":\"message\",\"kind\":\"Any\",\"default\":\"\"},{\"name\":\"notification_type\",\"kind\":\"Any\",\"default\":null},{\"name\":\"_destroyed\",\"kind\":\"Any\",\"default\":false}]},{\"type\":\"model\",\"name\":\"TemplateActions1\",\"properties\":[{\"name\":\"open_modal\",\"kind\":\"Any\",\"default\":0},{\"name\":\"close_modal\",\"kind\":\"Any\",\"default\":0}]},{\"type\":\"model\",\"name\":\"BootstrapTemplateActions1\",\"properties\":[{\"name\":\"open_modal\",\"kind\":\"Any\",\"default\":0},{\"name\":\"close_modal\",\"kind\":\"Any\",\"default\":0}]},{\"type\":\"model\",\"name\":\"TemplateEditor1\",\"properties\":[{\"name\":\"layout\",\"kind\":\"Any\",\"default\":[]}]},{\"type\":\"model\",\"name\":\"MaterialTemplateActions1\",\"properties\":[{\"name\":\"open_modal\",\"kind\":\"Any\",\"default\":0},{\"name\":\"close_modal\",\"kind\":\"Any\",\"default\":0}]},{\"type\":\"model\",\"name\":\"copy_to_clipboard1\",\"properties\":[{\"name\":\"fill\",\"kind\":\"Any\",\"default\":\"none\"},{\"name\":\"value\",\"kind\":\"Any\",\"default\":null}]}]}};\n",
       "  var render_items = [{\"docid\":\"e80fa419-be4a-4a80-99f9-2684f330e487\",\"roots\":{\"p1066\":\"fd5b7c1a-41e3-4cb2-b0c8-a2ae7e6d83d3\"},\"root_ids\":[\"p1066\"]}];\n",
       "  var docs = Object.values(docs_json)\n",
       "  if (!docs) {\n",
       "    return\n",
       "  }\n",
       "  const py_version = docs[0].version.replace('rc', '-rc.').replace('.dev', '-dev.')\n",
       "  async function embed_document(root) {\n",
       "    var Bokeh = get_bokeh(root)\n",
       "    await Bokeh.embed.embed_items_notebook(docs_json, render_items);\n",
       "    for (const render_item of render_items) {\n",
       "      for (const root_id of render_item.root_ids) {\n",
       "\tconst id_el = document.getElementById(root_id)\n",
       "\tif (id_el.children.length && id_el.children[0].hasAttribute('data-root-id')) {\n",
       "\t  const root_el = id_el.children[0]\n",
       "\t  root_el.id = root_el.id + '-rendered'\n",
       "\t  for (const child of root_el.children) {\n",
       "            // Ensure JupyterLab does not capture keyboard shortcuts\n",
       "            // see: https://jupyterlab.readthedocs.io/en/4.1.x/extension/notebook.html#keyboard-interaction-model\n",
       "\t    child.setAttribute('data-lm-suppress-shortcuts', 'true')\n",
       "\t  }\n",
       "\t}\n",
       "      }\n",
       "    }\n",
       "  }\n",
       "  function get_bokeh(root) {\n",
       "    if (root.Bokeh === undefined) {\n",
       "      return null\n",
       "    } else if (root.Bokeh.version !== py_version) {\n",
       "      if (root.Bokeh.versions === undefined || !root.Bokeh.versions.has(py_version)) {\n",
       "\treturn null\n",
       "      }\n",
       "      return root.Bokeh.versions.get(py_version);\n",
       "    } else if (root.Bokeh.version === py_version) {\n",
       "      return root.Bokeh\n",
       "    }\n",
       "    return null\n",
       "  }\n",
       "  function is_loaded(root) {\n",
       "    var Bokeh = get_bokeh(root)\n",
       "    return (Bokeh != null && Bokeh.Panel !== undefined)\n",
       "  }\n",
       "  if (is_loaded(root)) {\n",
       "    embed_document(root);\n",
       "  } else {\n",
       "    var attempts = 0;\n",
       "    var timer = setInterval(function(root) {\n",
       "      if (is_loaded(root)) {\n",
       "        clearInterval(timer);\n",
       "        embed_document(root);\n",
       "      } else if (document.readyState == \"complete\") {\n",
       "        attempts++;\n",
       "        if (attempts > 200) {\n",
       "          clearInterval(timer);\n",
       "\t  var Bokeh = get_bokeh(root)\n",
       "\t  if (Bokeh == null || Bokeh.Panel == null) {\n",
       "            console.warn(\"Panel: ERROR: Unable to run Panel code because Bokeh or Panel library is missing\");\n",
       "\t  } else {\n",
       "\t    console.warn(\"Panel: WARNING: Attempting to render but not all required libraries could be resolved.\")\n",
       "\t    embed_document(root)\n",
       "\t  }\n",
       "        }\n",
       "      }\n",
       "    }, 25, root)\n",
       "  }\n",
       "})(window);</script>"
      ],
      "text/plain": [
       ":Bars   [都道府県,type_jp]   (大学の数)"
      ]
     },
     "execution_count": 14,
     "metadata": {
      "application/vnd.holoviews_exec.v0+json": {
       "id": "p1066"
      }
     },
     "output_type": "execute_result"
    }
   ],
   "source": [
    "(df3\n",
    ".group_by(\n",
    "    pl.col(\"state_jp\").alias(x_label), \n",
    "    \"type_jp\"\n",
    ")\n",
    ".agg(\n",
    "    pl.len().alias(y_label)\n",
    ")\n",
    ".sort(pl.col(y_label).sum().over(x_label), descending=True)\n",
    ".plot.bar(\n",
    "    x=x_label, y=y_label, by=\"type_jp\", \n",
    "    stacked=True, rot=90, \n",
    "    frame_width=900, frame_height=450\n",
    ")\n",
    ")"
   ]
  },
  {
   "attachments": {},
   "cell_type": "markdown",
   "id": "0f4fe39e-222a-4cd7-98af-27409de8ed32",
   "metadata": {},
   "source": [
    "### 地図付き散布グラフ\n",
    "\n",
    "次のプログラムは、経度と緯度に基づいてポイントプロットを作成し、大学の種類に基づいて色分けし、インタラクティブな地理情報を含むマップとして表示します。\n",
    "\n",
    "* `by=\"type_jp\"`: 大学の種類（type_jp）ごとにポイントを色分けします。これにより、異なる種類の大学が異なる色で表示されます。\n",
    "* `hover_cols=['name_jp']`: ポイントにマウスをホバーしたときに表示する情報として、大学名（name_jp）を指定します。これにより、ユーザーがポイントにカーソルを合わせたときに大学名が表示されます。\n",
    "* `tiles=True`: 地図タイルを有効にします。これにより、背景に地図が表示され、ポイントの地理的な位置が視覚的にわかりやすくなります。\n",
    "* `geo=True`: 地理情報プロットを有効にします。これにより、経度と緯度に基づいてポイントが正確に地図上に配置されます。"
   ]
  },
  {
   "cell_type": "code",
   "execution_count": 17,
   "id": "35ebe82a-782f-4f85-b17f-a06af601f4ce",
   "metadata": {},
   "outputs": [
    {
     "name": "stderr",
     "output_type": "stream",
     "text": [
      "C:\\micromamba\\envs\\jupyter4\\Lib\\site-packages\\holoviews\\core\\data\\pandas.py:239: FutureWarning: The default of observed=False is deprecated and will be changed to True in a future version of pandas. Pass observed=False to retain current behavior or observed=True to adopt the future default and silence this warning.\n",
      "  dataset.data.groupby(group_by, sort=False)]\n"
     ]
    },
    {
     "data": {},
     "metadata": {},
     "output_type": "display_data"
    },
    {
     "data": {
      "application/vnd.holoviews_exec.v0+json": "",
      "text/html": [
       "<div id='p1450'>\n",
       "  <div id=\"ce7a4fab-2fc3-4e75-9aea-ae558337f8e8\" data-root-id=\"p1450\" style=\"display: contents;\"></div>\n",
       "</div>\n",
       "<script type=\"application/javascript\">(function(root) {\n",
       "  var docs_json = {\"0095805b-1c46-406a-bd22-1d0ff6f86f30\":{\"version\":\"3.4.2\",\"title\":\"Bokeh Application\",\"roots\":[{\"type\":\"object\",\"name\":\"Row\",\"id\":\"p1450\",\"attributes\":{\"name\":\"Row02597\",\"tags\":[\"embedded\"],\"stylesheets\":[\"\\n:host(.pn-loading):before, .pn-loading:before {\\n  background-color: #c3c3c3;\\n  mask-size: auto calc(min(50%, 400px));\\n  -webkit-mask-size: auto calc(min(50%, 400px));\\n}\",{\"type\":\"object\",\"name\":\"ImportedStyleSheet\",\"id\":\"p1453\",\"attributes\":{\"url\":\"https://cdn.holoviz.org/panel/1.4.4/dist/css/loading.css\"}},{\"type\":\"object\",\"name\":\"ImportedStyleSheet\",\"id\":\"p1597\",\"attributes\":{\"url\":\"https://cdn.holoviz.org/panel/1.4.4/dist/css/listpanel.css\"}},{\"type\":\"object\",\"name\":\"ImportedStyleSheet\",\"id\":\"p1451\",\"attributes\":{\"url\":\"https://cdn.holoviz.org/panel/1.4.4/dist/bundled/theme/default.css\"}},{\"type\":\"object\",\"name\":\"ImportedStyleSheet\",\"id\":\"p1452\",\"attributes\":{\"url\":\"https://cdn.holoviz.org/panel/1.4.4/dist/bundled/theme/native.css\"}}],\"margin\":0,\"sizing_mode\":\"stretch_width\",\"align\":\"start\",\"children\":[{\"type\":\"object\",\"name\":\"Spacer\",\"id\":\"p1454\",\"attributes\":{\"name\":\"HSpacer02603\",\"stylesheets\":[\"\\n:host(.pn-loading):before, .pn-loading:before {\\n  background-color: #c3c3c3;\\n  mask-size: auto calc(min(50%, 400px));\\n  -webkit-mask-size: auto calc(min(50%, 400px));\\n}\",{\"id\":\"p1453\"},{\"id\":\"p1451\"},{\"id\":\"p1452\"}],\"margin\":0,\"sizing_mode\":\"stretch_width\",\"align\":\"start\"}},{\"type\":\"object\",\"name\":\"Figure\",\"id\":\"p1508\",\"attributes\":{\"width\":null,\"height\":null,\"margin\":[5,10],\"sizing_mode\":\"fixed\",\"align\":\"start\",\"x_range\":{\"type\":\"object\",\"name\":\"Range1d\",\"id\":\"p1473\",\"attributes\":{\"tags\":[[[\"Longitude\",\"Longitude\",null]],[]],\"start\":14084876.151592592,\"end\":16203844.9477803,\"reset_start\":14084876.151592592,\"reset_end\":16203844.9477803,\"min_interval\":5}},\"y_range\":{\"type\":\"object\",\"name\":\"Range1d\",\"id\":\"p1474\",\"attributes\":{\"tags\":[[[\"Latitude\",\"Latitude\",null]],{\"type\":\"map\",\"entries\":[[\"invert_yaxis\",false],[\"autorange\",false]]}],\"start\":2758123.215268539,\"end\":5947924.108429553,\"reset_start\":2758123.215268539,\"reset_end\":5947924.108429553,\"min_interval\":5}},\"x_scale\":{\"type\":\"object\",\"name\":\"LinearScale\",\"id\":\"p1518\"},\"y_scale\":{\"type\":\"object\",\"name\":\"LinearScale\",\"id\":\"p1519\"},\"title\":{\"type\":\"object\",\"name\":\"Title\",\"id\":\"p1511\",\"attributes\":{\"text_color\":\"black\",\"text_font_size\":\"12pt\"}},\"renderers\":[{\"type\":\"object\",\"name\":\"TileRenderer\",\"id\":\"p1541\",\"attributes\":{\"level\":\"underlay\",\"tile_source\":{\"type\":\"object\",\"name\":\"WMTSTileSource\",\"id\":\"p1537\",\"attributes\":{\"url\":\"https://c.tile.openstreetmap.org/{Z}/{X}/{Y}.png\",\"attribution\":\"&copy; <a href=\\\"https://www.openstreetmap.org/copyright\\\">OpenStreetMap</a> contributors\"}}}},{\"type\":\"object\",\"name\":\"GlyphRenderer\",\"id\":\"p1554\",\"attributes\":{\"name\":\"\\u56fd\\u7acb\",\"data_source\":{\"type\":\"object\",\"name\":\"ColumnDataSource\",\"id\":\"p1545\",\"attributes\":{\"selected\":{\"type\":\"object\",\"name\":\"Selection\",\"id\":\"p1546\",\"attributes\":{\"indices\":[],\"line_indices\":[]}},\"selection_policy\":{\"type\":\"object\",\"name\":\"UnionRenderers\",\"id\":\"p1547\"},\"data\":{\"type\":\"map\",\"entries\":[[\"longitude\",{\"type\":\"ndarray\",\"array\":{\"type\":\"bytes\",\"data\":\"g/Eao/QCbkHz27oSfQVuQcO6rbfv8W1B/sHI9fbubUGVBOJ2eGZuQYcHtggzO25BPCXg4AaObkHLcaPJY9NtQeMS2UOS921BlIkKzDvpbUFa22qt5eZtQbNUlP8EwW1BGGUVhLzMbUFUBl4KadJtQbqpKx/M0W1BSiVzYDO/bUHMAdtTvL9tQWo5pbsatW1BRJDfENWFbUGwTl7bb6RtQU937Wldv21BUjMNOtysbUFkfjvk+KxtQcleNmuyn21BG4ct9hqebUEki4vJZJ1tQc5nwIBZrW1BsjoCJZqobUGJ69nx86ttQaWuFGk+q21BnWOXbfagbUG3fAiAfZttQSt54ICGo21B0JJz+U6AbUF4sjoSWndtQfVoRx1UWW1BdHKEKtUgbUG+1Qov3wZtQUEuX+fa62xBi7oJLjBsbUGAOZk14EttQUxpMVlnCG1B9XJlSXhkbUEgaw0bHD9tQXXFpb++FG1BsDyaZF0ZbUGVs0vjmRJtQRyZLPvZLG1BfUze+L/8bEGHTSE6v+1sQR50Sats3WxBynWcbXXUbEE9ubmAAdRsQYpYi4iI1GxBUm37XkjGbEGyuOVyHM1sQRIDhDzYqmxBe0kcJMq2bEFd0ZwIA9hsQbPu6WAU12xB/Jvd8jaybEFTclVzAX1sQZ6f+WvzQGxBzaYXJxxvbEGmmU4Mri1sQZHa2xby6WtBiPI3eAeSbEEXlWgsg5RsQaVNwlq0dWxB7xoQCPMwbEEZ6nxv0VdsQYQNbwVyumtBpgcAGVGma0HFxkWfwcdrQVbIgFTYqWtBqz/sT7WSa0HAZELuu8FrQSCw4rHY8WtBIL1OQxfna0GsGSe54bdrQVCNVSX3xGtBwALXvVYga0ERg74x4aptQaEOeJ08o21BoBA2x4QAbUEcVDdctdFsQQ==\"},\"shape\":[86],\"dtype\":\"float64\",\"order\":\"little\"}],[\"latitude\",{\"type\":\"ndarray\",\"array\":{\"type\":\"bytes\",\"data\":\"ltpzJvNNVEGPh4/f2VxUQQjUu8qV51NBhgUJgOZfVEGrcwTRhDBUQQTaSM26sFRByPPR146+VEG4RseXsuNSQUUrXY02Z1JB6fQe/gGbUUHCb1KL4ptRQekuLks7aVJBpVzngRuaUUEx/cXUcExRQfBCPhbhnVBBUM599HF2UEH/rMZ0/nVQQeO+aoQIslBBHuoxns6hUEHS8xo5YFVQQcigkWuvNVBBslRW0HtBUEHKHxyj1T9QQW4l+NPvO1BB60ggk2tAUEEsa7HYcD1QQfHQFGorQlBBfIVbKyIzUEH9xhmquDVQQZgecjc7QlBB8koXn+Q5UEF9/vS11j5QQc6MkwHEIVBBi9zA8stlUUEjesxWDClRQbZc9kZzAVFBEAKGwkLGUEEG9/NWcbFQQbE2Gk7OcVBBrSShmbY8UEEAoPAxZYlQQSiWH4o/IFBBOsoIRbm7T0GrEGyyhodPQXWOjhrv7U9BemXo2SvST0EkcsOuQe5PQfaHnX15dU9BXRf/4zWBT0HOl6LYSQdQQV1S1PTLvU9Bmr9W47zLT0FJgnMQvbdPQQ7uYSvL0U9BKz1hLLmUT0EDcJVpBU5PQdThEf5QrU9BfL+9Xg58T0FB/hwNlW5PQaS68aAwck9BeNf4Js4CT0Ep3DXU5yZQQUzl1/scI1BB6Xrs/oZxT0EAexSVGyZPQTEF2pqJ405BpbD/rhjPTkEpK34XEvJOQYAvVYsMF09BHQVlwgyWTkHpfnPrNUdOQd6uJuKmi05BwYe9d1pTTkGdHHFsSKBOQYf+yd1k8k1BJXs2F32ATUFkaJVwpIdNQf1tvDVA5U1BAsbQgSyKTEHURARI40hMQdVfrD6pG0xBq4J5Qh0dR0GpxcthxjpQQRlyzFV1BlBBbzwz44CjUEEso6FaiH5PQQ==\"},\"shape\":[86],\"dtype\":\"float64\",\"order\":\"little\"}],[\"name_jp\",[\"\\u5317\\u6d77\\u9053\\u5927\\u5b66\",\"\\u5317\\u6d77\\u9053\\u6559\\u80b2\\u5927\\u5b66\",\"\\u5ba4\\u862d\\u5de5\\u696d\\u5927\\u5b66\",\"\\u5c0f\\u6a3d\\u5546\\u79d1\\u5927\\u5b66\",\"\\u5e2f\\u5e83\\u755c\\u7523\\u5927\\u5b66\",\"\\u65ed\\u5ddd\\u533b\\u79d1\\u5927\\u5b66\",\"\\u5317\\u898b\\u5de5\\u696d\\u5927\\u5b66\",\"\\u5f18\\u524d\\u5927\\u5b66\",\"\\u5ca9\\u624b\\u5927\\u5b66\",\"\\u6771\\u5317\\u5927\\u5b66\",\"\\u5bae\\u57ce\\u6559\\u80b2\\u5927\\u5b66\",\"\\u79cb\\u7530\\u5927\\u5b66\",\"\\u5c71\\u5f62\\u5927\\u5b66\",\"\\u798f\\u5cf6\\u5927\\u5b66\",\"\\u8328\\u57ce\\u5927\\u5b66\",\"\\u7b51\\u6ce2\\u5927\\u5b66\",\"\\u7b51\\u6ce2\\u6280\\u8853\\u5927\\u5b66\",\"\\u5b87\\u90fd\\u5bae\\u5927\\u5b66\",\"\\u7fa4\\u99ac\\u5927\\u5b66\",\"\\u57fc\\u7389\\u5927\\u5b66\",\"\\u5343\\u8449\\u5927\\u5b66\",\"\\u6771\\u4eac\\u5927\\u5b66\",\"\\u6771\\u4eac\\u533b\\u79d1\\u6b6f\\u79d1\\u5927\\u5b66\",\"\\u6771\\u4eac\\u5916\\u56fd\\u8a9e\\u5927\\u5b66\",\"\\u6771\\u4eac\\u5b66\\u82b8\\u5927\\u5b66\",\"\\u6771\\u4eac\\u8fb2\\u5de5\\u5927\\u5b66\",\"\\u6771\\u4eac\\u82b8\\u8853\\u5927\\u5b66\",\"\\u6771\\u4eac\\u5de5\\u696d\\u5927\\u5b66\",\"\\u6771\\u4eac\\u6d77\\u6d0b\\u5927\\u5b66\",\"\\u304a\\u8336\\u306e\\u6c34\\u5973\\u5b50\\u5927\\u5b66\",\"\\u96fb\\u6c17\\u901a\\u4fe1\\u5927\\u5b66\",\"\\u4e00\\u6a4b\\u5927\\u5b66\",\"\\u6a2a\\u6d5c\\u56fd\\u7acb\\u5927\\u5b66\",\"\\u65b0\\u6f5f\\u5927\\u5b66\",\"\\u9577\\u5ca1\\u6280\\u8853\\u79d1\\u5b66\\u5927\\u5b66\",\"\\u4e0a\\u8d8a\\u6559\\u80b2\\u5927\\u5b66\",\"\\u5bcc\\u5c71\\u5927\\u5b66\",\"\\u91d1\\u6ca2\\u5927\\u5b66\",\"\\u798f\\u4e95\\u5927\\u5b66\",\"\\u5c71\\u68a8\\u5927\\u5b66\",\"\\u4fe1\\u5dde\\u5927\\u5b66\",\"\\u5c90\\u961c\\u5927\\u5b66\",\"\\u9759\\u5ca1\\u5927\\u5b66\",\"\\u6d5c\\u677e\\u533b\\u79d1\\u5927\\u5b66\",\"\\u540d\\u53e4\\u5c4b\\u5927\\u5b66\",\"\\u611b\\u77e5\\u6559\\u80b2\\u5927\\u5b66\",\"\\u540d\\u53e4\\u5c4b\\u5de5\\u696d\\u5927\\u5b66\",\"\\u8c4a\\u6a4b\\u6280\\u8853\\u79d1\\u5b66\\u5927\\u5b66\",\"\\u4e09\\u91cd\\u5927\\u5b66\",\"\\u6ecb\\u8cc0\\u5927\\u5b66\",\"\\u6ecb\\u8cc0\\u533b\\u79d1\\u5927\\u5b66\",\"\\u4eac\\u90fd\\u5927\\u5b66\",\"\\u4eac\\u90fd\\u6559\\u80b2\\u5927\\u5b66\",\"\\u4eac\\u90fd\\u5de5\\u82b8\\u7e4a\\u7dad\\u5927\\u5b66\",\"\\u5927\\u962a\\u5927\\u5b66\",\"\\u5927\\u962a\\u6559\\u80b2\\u5927\\u5b66\",\"\\u5175\\u5eab\\u6559\\u80b2\\u5927\\u5b66\",\"\\u795e\\u6238\\u5927\\u5b66\",\"\\u5948\\u826f\\u6559\\u80b2\\u5927\\u5b66\",\"\\u5948\\u826f\\u5973\\u5b50\\u5927\\u5b66\",\"\\u548c\\u6b4c\\u5c71\\u5927\\u5b66\",\"\\u9ce5\\u53d6\\u5927\\u5b66\",\"\\u5cf6\\u6839\\u5927\\u5b66\",\"\\u5ca1\\u5c71\\u5927\\u5b66\",\"\\u5e83\\u5cf6\\u5927\\u5b66\",\"\\u5c71\\u53e3\\u5927\\u5b66\",\"\\u5fb3\\u5cf6\\u5927\\u5b66\",\"\\u9cf4\\u9580\\u6559\\u80b2\\u5927\\u5b66\",\"\\u9999\\u5ddd\\u5927\\u5b66\",\"\\u611b\\u5a9b\\u5927\\u5b66\",\"\\u9ad8\\u77e5\\u5927\\u5b66\",\"\\u798f\\u5ca1\\u6559\\u80b2\\u5927\\u5b66\",\"\\u4e5d\\u5dde\\u5927\\u5b66\",\"\\u4e5d\\u5dde\\u5de5\\u696d\\u5927\\u5b66\",\"\\u4f50\\u8cc0\\u5927\\u5b66\",\"\\u9577\\u5d0e\\u5927\\u5b66\",\"\\u718a\\u672c\\u5927\\u5b66\",\"\\u5927\\u5206\\u5927\\u5b66\",\"\\u5bae\\u5d0e\\u5927\\u5b66\",\"\\u9e7f\\u5150\\u5cf6\\u5927\\u5b66\",\"\\u9e7f\\u5c4b\\u4f53\\u80b2\\u5927\\u5b66\",\"\\u7409\\u7403\\u5927\\u5b66\",\"\\u653f\\u7b56\\u7814\\u7a76\\u5927\\u5b66\\u9662\\u5927\\u5b66\",\"\\u7dcf\\u5408\\u7814\\u7a76\\u5927\\u5b66\\u9662\\u5927\\u5b66\",\"\\u5317\\u9678\\u5148\\u7aef\\u79d1\\u5b66\\u6280\\u8853\\u5927\\u5b66\\u9662\\u5927\\u5b66\",\"\\u5948\\u826f\\u5148\\u7aef\\u79d1\\u5b66\\u6280\\u8853\\u5927\\u5b66\\u9662\\u5927\\u5b66\"]],[\"type_jp\",[\"\\u56fd\\u7acb\",\"\\u56fd\\u7acb\",\"\\u56fd\\u7acb\",\"\\u56fd\\u7acb\",\"\\u56fd\\u7acb\",\"\\u56fd\\u7acb\",\"\\u56fd\\u7acb\",\"\\u56fd\\u7acb\",\"\\u56fd\\u7acb\",\"\\u56fd\\u7acb\",\"\\u56fd\\u7acb\",\"\\u56fd\\u7acb\",\"\\u56fd\\u7acb\",\"\\u56fd\\u7acb\",\"\\u56fd\\u7acb\",\"\\u56fd\\u7acb\",\"\\u56fd\\u7acb\",\"\\u56fd\\u7acb\",\"\\u56fd\\u7acb\",\"\\u56fd\\u7acb\",\"\\u56fd\\u7acb\",\"\\u56fd\\u7acb\",\"\\u56fd\\u7acb\",\"\\u56fd\\u7acb\",\"\\u56fd\\u7acb\",\"\\u56fd\\u7acb\",\"\\u56fd\\u7acb\",\"\\u56fd\\u7acb\",\"\\u56fd\\u7acb\",\"\\u56fd\\u7acb\",\"\\u56fd\\u7acb\",\"\\u56fd\\u7acb\",\"\\u56fd\\u7acb\",\"\\u56fd\\u7acb\",\"\\u56fd\\u7acb\",\"\\u56fd\\u7acb\",\"\\u56fd\\u7acb\",\"\\u56fd\\u7acb\",\"\\u56fd\\u7acb\",\"\\u56fd\\u7acb\",\"\\u56fd\\u7acb\",\"\\u56fd\\u7acb\",\"\\u56fd\\u7acb\",\"\\u56fd\\u7acb\",\"\\u56fd\\u7acb\",\"\\u56fd\\u7acb\",\"\\u56fd\\u7acb\",\"\\u56fd\\u7acb\",\"\\u56fd\\u7acb\",\"\\u56fd\\u7acb\",\"\\u56fd\\u7acb\",\"\\u56fd\\u7acb\",\"\\u56fd\\u7acb\",\"\\u56fd\\u7acb\",\"\\u56fd\\u7acb\",\"\\u56fd\\u7acb\",\"\\u56fd\\u7acb\",\"\\u56fd\\u7acb\",\"\\u56fd\\u7acb\",\"\\u56fd\\u7acb\",\"\\u56fd\\u7acb\",\"\\u56fd\\u7acb\",\"\\u56fd\\u7acb\",\"\\u56fd\\u7acb\",\"\\u56fd\\u7acb\",\"\\u56fd\\u7acb\",\"\\u56fd\\u7acb\",\"\\u56fd\\u7acb\",\"\\u56fd\\u7acb\",\"\\u56fd\\u7acb\",\"\\u56fd\\u7acb\",\"\\u56fd\\u7acb\",\"\\u56fd\\u7acb\",\"\\u56fd\\u7acb\",\"\\u56fd\\u7acb\",\"\\u56fd\\u7acb\",\"\\u56fd\\u7acb\",\"\\u56fd\\u7acb\",\"\\u56fd\\u7acb\",\"\\u56fd\\u7acb\",\"\\u56fd\\u7acb\",\"\\u56fd\\u7acb\",\"\\u56fd\\u7acb\",\"\\u56fd\\u7acb\",\"\\u56fd\\u7acb\",\"\\u56fd\\u7acb\"]]]}}},\"view\":{\"type\":\"object\",\"name\":\"CDSView\",\"id\":\"p1555\",\"attributes\":{\"filter\":{\"type\":\"object\",\"name\":\"AllIndices\",\"id\":\"p1556\"}}},\"glyph\":{\"type\":\"object\",\"name\":\"Scatter\",\"id\":\"p1551\",\"attributes\":{\"tags\":[\"apply_ranges\"],\"x\":{\"type\":\"field\",\"field\":\"longitude\"},\"y\":{\"type\":\"field\",\"field\":\"latitude\"},\"size\":{\"type\":\"value\",\"value\":5.477225575051661},\"line_color\":{\"type\":\"value\",\"value\":\"#30a2da\"},\"fill_color\":{\"type\":\"value\",\"value\":\"#30a2da\"},\"hatch_color\":{\"type\":\"value\",\"value\":\"#30a2da\"}}},\"selection_glyph\":{\"type\":\"object\",\"name\":\"Scatter\",\"id\":\"p1561\",\"attributes\":{\"tags\":[\"apply_ranges\"],\"x\":{\"type\":\"field\",\"field\":\"longitude\"},\"y\":{\"type\":\"field\",\"field\":\"latitude\"},\"size\":{\"type\":\"value\",\"value\":5.477225575051661},\"angle\":{\"type\":\"value\",\"value\":0.0},\"line_color\":{\"type\":\"value\",\"value\":\"#30a2da\"},\"line_alpha\":{\"type\":\"value\",\"value\":1.0},\"line_width\":{\"type\":\"value\",\"value\":1},\"line_join\":{\"type\":\"value\",\"value\":\"bevel\"},\"line_cap\":{\"type\":\"value\",\"value\":\"butt\"},\"line_dash\":{\"type\":\"value\",\"value\":[]},\"line_dash_offset\":{\"type\":\"value\",\"value\":0},\"fill_color\":{\"type\":\"value\",\"value\":\"#30a2da\"},\"fill_alpha\":{\"type\":\"value\",\"value\":1.0},\"hatch_color\":{\"type\":\"value\",\"value\":\"#30a2da\"},\"hatch_alpha\":{\"type\":\"value\",\"value\":1.0},\"hatch_scale\":{\"type\":\"value\",\"value\":12.0},\"hatch_pattern\":{\"type\":\"value\",\"value\":null},\"hatch_weight\":{\"type\":\"value\",\"value\":1.0},\"marker\":{\"type\":\"value\",\"value\":\"circle\"}}},\"nonselection_glyph\":{\"type\":\"object\",\"name\":\"Scatter\",\"id\":\"p1552\",\"attributes\":{\"tags\":[\"apply_ranges\"],\"x\":{\"type\":\"field\",\"field\":\"longitude\"},\"y\":{\"type\":\"field\",\"field\":\"latitude\"},\"size\":{\"type\":\"value\",\"value\":5.477225575051661},\"line_color\":{\"type\":\"value\",\"value\":\"#30a2da\"},\"line_alpha\":{\"type\":\"value\",\"value\":0.1},\"fill_color\":{\"type\":\"value\",\"value\":\"#30a2da\"},\"fill_alpha\":{\"type\":\"value\",\"value\":0.1},\"hatch_color\":{\"type\":\"value\",\"value\":\"#30a2da\"},\"hatch_alpha\":{\"type\":\"value\",\"value\":0.1}}},\"muted_glyph\":{\"type\":\"object\",\"name\":\"Scatter\",\"id\":\"p1553\",\"attributes\":{\"tags\":[\"apply_ranges\"],\"x\":{\"type\":\"field\",\"field\":\"longitude\"},\"y\":{\"type\":\"field\",\"field\":\"latitude\"},\"size\":{\"type\":\"value\",\"value\":5.477225575051661},\"line_color\":{\"type\":\"value\",\"value\":\"#30a2da\"},\"line_alpha\":{\"type\":\"value\",\"value\":0.2},\"fill_color\":{\"type\":\"value\",\"value\":\"#30a2da\"},\"fill_alpha\":{\"type\":\"value\",\"value\":0.2},\"hatch_color\":{\"type\":\"value\",\"value\":\"#30a2da\"},\"hatch_alpha\":{\"type\":\"value\",\"value\":0.2}}}}},{\"type\":\"object\",\"name\":\"GlyphRenderer\",\"id\":\"p1571\",\"attributes\":{\"name\":\"\\u516c\\u7acb\",\"data_source\":{\"type\":\"object\",\"name\":\"ColumnDataSource\",\"id\":\"p1562\",\"attributes\":{\"selected\":{\"type\":\"object\",\"name\":\"Selection\",\"id\":\"p1563\",\"attributes\":{\"indices\":[],\"line_indices\":[]}},\"selection_policy\":{\"type\":\"object\",\"name\":\"UnionRenderers\",\"id\":\"p1564\"},\"data\":{\"type\":\"map\",\"entries\":[[\"longitude\",{\"type\":\"ndarray\",\"array\":{\"type\":\"bytes\",\"data\":\"EKGi7xkCbkE7E1NFaeNtQaCIRxeOqG5BC4D2JWE/bkH7TwXCoAJuQQRLpCghFm5BDXtHB4vjbUFRTWg50uRtQagxTkU8921BSWxZKWrnbUE4UKAVTbxtQdcIZy6Tw21Bo+jFe6u+bUFRFEm5j8xtQQY2W3F/wG1B6dYjal3TbUGhn/ntWrZtQZguyEwvxW1BqI9UyCOCbUEn3Sk5wYdtQaQ6m8Z8iW1B1GgnKIuIbUEfaaoye6xtQVmxYByPvG1B2O1ko92XbUENPp/IBaxtQei9S5D0pG1BX9NYMGCobUGdAhvCr1ttQQAkgilLim1B9Obv3Cl6bUFbzTP9un9tQYxJG1j1G21B2i7VNvf2bEFiYxNCxABtQQPob10iBW1BpF9x2DEIbUFX305YYu9sQVk433Co4mxBgtN8Lc59bUGNpsT0QWttQbS8uK4QV21BtT9xMuhXbUGiR2KZYkltQZMI6ocnWW1BNJKxqC4IbUGRpFJKlgVtQUz8g3UKA21B5pw1w4lEbUEdk2S6KGVtQSIarGDHPm1BJe36rAFibUEA70qJJBNtQS1xTavaGW1BnYF/3mYbbUHQWiHH3fpsQRBbY1017GxBLAa32xTObEFs5q9HQNNsQQOkxggW02xB/eGS9uGwbEE4nWVHr8VsQZWvCG1pxWxByXsaXm/FbEEI7F3JNa1sQVV5+0fhrGxBUrb8Q7usbEGN9wH09p9sQa55IJQI1WxBhHrB/JTWbEHv/tT81LNsQXEU2xd6gWxBjR8o7xgLbEGO/ck0qGdsQRUoEoIoVWxB3zd4+GogbEGvd/g5FEZsQeA95fd0HWxB4rrRMvZRbEFwMwvLXSBsQcv4oHDpzGtBRyDCO6Pra0GoEdT0vdprQY+2czE1fGxBEzWg9UYybEGY6rC/0VxsQYzQSdBfZGxB7kUauurJa0FWfD7zlchrQbDrKbsDsmtBDZjpN3PGa0HWVFJ//odrQdq0SwW4w2tBwuFDItLua0GVFmB5NudrQfS0VKUM52tBw92XftIra0HjQ42FKx5rQW+H5gvcHGtB7/mz8nX+a0GjEaakyadtQQ==\"},\"shape\":[101],\"dtype\":\"float64\",\"order\":\"little\"}],[\"latitude\",{\"type\":\"ndarray\",\"array\":{\"type\":\"bytes\",\"data\":\"9DYvytFLVEGVqKFf7ZhTQQKTsno3RlRBCfZtjJwQVUH8pmhpQTtUQTlAjL0CJFRBv+w7PYb7UkFbQ3OqLwRTQZo+xDduc1JBK77Y5leoUUETNqWuQHRSQYC3IK8dW1JBMbcGHmVjUkFGTXL5HKFRQRQPgpwdaVFBwwS+uGhNUUFZCV9vljZRQVTR6ftya1BBgs88hViWUEHnsyZR15hQQYrgmh3lj1BBuyCGnjKeUEEko8xMbF5QQWSYtykqOVBBPX4sC3g0UEHI/fDlADNQQTfD2Fe0DlBBa/jSbqsGUEHy/Au9Tf1QQWO26SCKbVFB/QewW9wuUUF+wdSU+EZRQf6C2nVEx1BBTFjvH5CXUEEDhQkgIaxQQVtjRZG9slBBnEDxBD3RUEGMMsj3hnZQQRUed7rEN1BBsrfnqiAqUEHWqG1NszpQQRO9dw8JaVBBMyB2rZHBUEGchkjEtkVQQU9bprDzmVBBG/yTl30gUEG2ouKD+gpQQZpjzvI+E1BBGs8Z0QR9T0GA3D8pbsNPQb/lwDSbeE9B5kO4InHFT0Ekk+KWm+lPQV009iV58E9Bv/ty+e30T0GAMFpw7oRPQWFejoLLBFBBTgdfcL69T0GUXcfT89FPQfG3Ju9szE9BEjWJQhwIUEEEOgWF/GZPQZ7v/PKHWE9BOk62+e1MT0F41S6/t29PQXMZ3sy3cU9Bcj4ghFhvT0FKBs6cFipQQW4ozwtMQU9BcfMNjNdxT0FkG6BRBu5OQdcScLZIHlBBlfWpszKmT0Eny+nE/3JPQRmi/rFCxE9BE2iUw0odT0Ejn1IEySxPQVmko03vL09BJ/TQ4nQ7T0H0h6787SRPQY54fjh1uU5BoX61eLHvTkHSyjm0fbFOQQD1XSVaEU9BWXksoU+DTkFe01xRGEJOQcXOuIiSWU5B5NTjL8mTTkGptNWKJJtOQQENOwdSZU5BCfpb0hthTkFWuJj1ZehNQaxIgBQFhk1BkfEg/yXgTUEPfPCXP6NMQT/RkkLHkUxBt8DtgC53R0EoqnfipBZHQdKmHc2XE0dBuBJzg0zJTkFMWc+krilQQQ==\"},\"shape\":[101],\"dtype\":\"float64\",\"order\":\"little\"}],[\"name_jp\",[\"\\u672d\\u5e4c\\u533b\\u79d1\\u5927\\u5b66\",\"\\u516c\\u7acb\\u306f\\u3053\\u3060\\u3066\\u672a\\u6765\\u5927\\u5b66\",\"\\u91e7\\u8def\\u516c\\u7acb\\u5927\\u5b66\",\"\\u540d\\u5bc4\\u5e02\\u7acb\\u5927\\u5b66\",\"\\u672d\\u5e4c\\u5e02\\u7acb\\u5927\\u5b66\",\"\\u516c\\u7acb\\u5343\\u6b73\\u79d1\\u5b66\\u6280\\u8853\\u5927\\u5b66\",\"\\u9752\\u68ee\\u516c\\u7acb\\u5927\\u5b66\",\"\\u9752\\u68ee\\u770c\\u7acb\\u4fdd\\u5065\\u5927\\u5b66\",\"\\u5ca9\\u624b\\u770c\\u7acb\\u5927\\u5b66\",\"\\u5bae\\u57ce\\u5927\\u5b66\",\"\\u79cb\\u7530\\u770c\\u7acb\\u5927\\u5b66\",\"\\u56fd\\u969b\\u6559\\u990a\\u5927\\u5b66\",\"\\u79cb\\u7530\\u516c\\u7acb\\u7f8e\\u8853\\u5927\\u5b66\",\"\\u5c71\\u5f62\\u770c\\u7acb\\u4fdd\\u5065\\u533b\\u7642\\u5927\\u5b66\",\"\\u5c71\\u5f62\\u770c\\u7acb\\u7c73\\u6ca2\\u6804\\u990a\\u5927\\u5b66\",\"\\u798f\\u5cf6\\u770c\\u7acb\\u533b\\u79d1\\u5927\\u5b66\",\"\\u4f1a\\u6d25\\u5927\\u5b66\",\"\\u8328\\u57ce\\u770c\\u7acb\\u533b\\u7642\\u5927\\u5b66\",\"\\u9ad8\\u5d0e\\u7d4c\\u6e08\\u5927\\u5b66\",\"\\u524d\\u6a4b\\u5de5\\u79d1\\u5927\\u5b66\",\"\\u7fa4\\u99ac\\u770c\\u7acb\\u5973\\u5b50\\u5927\\u5b66\",\"\\u7fa4\\u99ac\\u770c\\u7acb\\u770c\\u6c11\\u5065\\u5eb7\\u79d1\\u5b66\\u5927\\u5b66\",\"\\u57fc\\u7389\\u770c\\u7acb\\u5927\\u5b66\",\"\\u5343\\u8449\\u770c\\u7acb\\u4fdd\\u5065\\u533b\\u7642\\u5927\\u5b66\",\"\\u6771\\u4eac\\u90fd\\u7acb\\u5927\\u5b66\",\"\\u6771\\u4eac\\u90fd\\u7acb\\u7523\\u696d\\u6280\\u8853\\u5927\\u5b66\\u9662\\u5927\\u5b66\",\"\\u6a2a\\u6d5c\\u5e02\\u7acb\\u5927\\u5b66\",\"\\u795e\\u5948\\u5ddd\\u770c\\u7acb\\u4fdd\\u5065\\u798f\\u7949\\u5927\\u5b66\",\"\\u65b0\\u6f5f\\u770c\\u7acb\\u770b\\u8b77\\u5927\\u5b66\",\"\\u65b0\\u6f5f\\u770c\\u7acb\\u5927\\u5b66\",\"\\u9577\\u5ca1\\u9020\\u5f62\\u5927\\u5b66\",\"\\u4e09\\u6761\\u5e02\\u7acb\\u5927\\u5b66\",\"\\u5bcc\\u5c71\\u770c\\u7acb\\u5927\\u5b66\",\"\\u516c\\u7acb\\u5c0f\\u677e\\u5927\\u5b66\",\"\\u77f3\\u5ddd\\u770c\\u7acb\\u5927\\u5b66\",\"\\u91d1\\u6ca2\\u7f8e\\u8853\\u5de5\\u82b8\\u5927\\u5b66\",\"\\u77f3\\u5ddd\\u770c\\u7acb\\u770b\\u8b77\\u5927\\u5b66\",\"\\u798f\\u4e95\\u770c\\u7acb\\u5927\\u5b66\",\"\\u6566\\u8cc0\\u5e02\\u7acb\\u770b\\u8b77\\u5927\\u5b66\",\"\\u90fd\\u7559\\u6587\\u79d1\\u5927\\u5b66\",\"\\u5c71\\u68a8\\u770c\\u7acb\\u5927\\u5b66\",\"\\u516c\\u7acb\\u8acf\\u8a2a\\u6771\\u4eac\\u7406\\u79d1\\u5927\\u5b66\",\"\\u9577\\u91ce\\u770c\\u7acb\\u5927\\u5b66\",\"\\u9577\\u91ce\\u770c\\u770b\\u8b77\\u5927\\u5b66\",\"\\u9577\\u91ce\\u5927\\u5b66\",\"\\u5c90\\u961c\\u85ac\\u79d1\\u5927\\u5b66\",\"\\u5c90\\u961c\\u770c\\u7acb\\u770b\\u8b77\\u5927\\u5b66\",\"\\u60c5\\u5831\\u79d1\\u5b66\\u82b8\\u8853\\u5927\\u5b66\\u9662\\u5927\\u5b66\",\"\\u9759\\u5ca1\\u770c\\u7acb\\u8fb2\\u6797\\u74b0\\u5883\\u5c02\\u9580\\u8077\\u5927\\u5b66\",\"\\u9759\\u5ca1\\u770c\\u7acb\\u5927\\u5b66\",\"\\u9759\\u5ca1\\u6587\\u5316\\u82b8\\u8853\\u5927\\u5b66\",\"\\u9759\\u5ca1\\u793e\\u4f1a\\u5065\\u5eb7\\u533b\\u5b66\\u5927\\u5b66\\u9662\\u5927\\u5b66\",\"\\u540d\\u53e4\\u5c4b\\u5e02\\u7acb\\u5927\\u5b66\",\"\\u611b\\u77e5\\u770c\\u7acb\\u82b8\\u8853\\u5927\\u5b66\",\"\\u611b\\u77e5\\u770c\\u7acb\\u5927\\u5b66\",\"\\u4e09\\u91cd\\u770c\\u7acb\\u770b\\u8b77\\u5927\\u5b66\",\"\\u6ecb\\u8cc0\\u770c\\u7acb\\u5927\\u5b66\",\"\\u4eac\\u90fd\\u5e02\\u7acb\\u82b8\\u8853\\u5927\\u5b66\",\"\\u4eac\\u90fd\\u5e9c\\u7acb\\u5927\\u5b66\",\"\\u4eac\\u90fd\\u5e9c\\u7acb\\u533b\\u79d1\\u5927\\u5b66\",\"\\u798f\\u77e5\\u5c71\\u516c\\u7acb\\u5927\\u5b66\",\"\\u5927\\u962a\\u516c\\u7acb\\u5927\\u5b66\",\"\\u5927\\u962a\\u5e02\\u7acb\\u5927\\u5b66\",\"\\u5927\\u962a\\u5e9c\\u7acb\\u5927\\u5b66\",\"\\u795e\\u6238\\u5e02\\u5916\\u56fd\\u8a9e\\u5927\\u5b66\",\"\\u795e\\u6238\\u5e02\\u770b\\u8b77\\u5927\\u5b66\",\"\\u5175\\u5eab\\u770c\\u7acb\\u5927\\u5b66\",\"\\u82b8\\u8853\\u6587\\u5316\\u89b3\\u5149\\u5c02\\u9580\\u8077\\u5927\\u5b66\",\"\\u5948\\u826f\\u770c\\u7acb\\u533b\\u79d1\\u5927\\u5b66\",\"\\u5948\\u826f\\u770c\\u7acb\\u5927\\u5b66\",\"\\u548c\\u6b4c\\u5c71\\u770c\\u7acb\\u533b\\u79d1\\u5927\\u5b66\",\"\\u516c\\u7acb\\u9ce5\\u53d6\\u74b0\\u5883\\u5927\\u5b66\",\"\\u5cf6\\u6839\\u770c\\u7acb\\u5927\\u5b66\",\"\\u5ca1\\u5c71\\u770c\\u7acb\\u5927\\u5b66\",\"\\u65b0\\u898b\\u516c\\u7acb\\u5927\\u5b66\",\"\\u770c\\u7acb\\u5e83\\u5cf6\\u5927\\u5b66\",\"\\u5c3e\\u9053\\u5e02\\u7acb\\u5927\\u5b66\",\"\\u5e83\\u5cf6\\u5e02\\u7acb\\u5927\\u5b66\",\"\\u798f\\u5c71\\u5e02\\u7acb\\u5927\\u5b66\",\"\\u53e1\\u5553\\u5927\\u5b66\",\"\\u4e0b\\u95a2\\u5e02\\u7acb\\u5927\\u5b66\",\"\\u5c71\\u53e3\\u770c\\u7acb\\u5927\\u5b66\",\"\\u5c71\\u967d\\u5c0f\\u91ce\\u7530\\u5e02\\u7acb\\u5c71\\u53e3\\u6771\\u4eac\\u7406\\u79d1\\u5927\\u5b66\",\"\\u9999\\u5ddd\\u770c\\u7acb\\u4fdd\\u5065\\u533b\\u7642\\u5927\\u5b66\",\"\\u611b\\u5a9b\\u770c\\u7acb\\u533b\\u7642\\u6280\\u8853\\u5927\\u5b66\",\"\\u9ad8\\u77e5\\u770c\\u7acb\\u5927\\u5b66\",\"\\u9ad8\\u77e5\\u5de5\\u79d1\\u5927\\u5b66\",\"\\u5317\\u4e5d\\u5dde\\u5e02\\u7acb\\u5927\\u5b66\",\"\\u4e5d\\u5dde\\u6b6f\\u79d1\\u5927\\u5b66\",\"\\u798f\\u5ca1\\u5973\\u5b50\\u5927\\u5b66\",\"\\u798f\\u5ca1\\u770c\\u7acb\\u5927\\u5b66\",\"\\u9577\\u5d0e\\u770c\\u7acb\\u5927\\u5b66\",\"\\u718a\\u672c\\u770c\\u7acb\\u5927\\u5b66\",\"\\u5927\\u5206\\u770c\\u7acb\\u770b\\u8b77\\u79d1\\u5b66\\u5927\\u5b66\",\"\\u5bae\\u5d0e\\u516c\\u7acb\\u5927\\u5b66\",\"\\u5bae\\u5d0e\\u770c\\u7acb\\u770b\\u8b77\\u5927\\u5b66\",\"\\u540d\\u685c\\u5927\\u5b66\",\"\\u6c96\\u7e04\\u770c\\u7acb\\u82b8\\u8853\\u5927\\u5b66\",\"\\u6c96\\u7e04\\u770c\\u7acb\\u770b\\u8b77\\u5927\\u5b66\",\"\\u5468\\u5357\\u516c\\u7acb\\u5927\\u5b66\",\"\\u5ddd\\u5d0e\\u5e02\\u7acb\\u770b\\u8b77\\u5927\\u5b66\"]],[\"type_jp\",[\"\\u516c\\u7acb\",\"\\u516c\\u7acb\",\"\\u516c\\u7acb\",\"\\u516c\\u7acb\",\"\\u516c\\u7acb\",\"\\u516c\\u7acb\",\"\\u516c\\u7acb\",\"\\u516c\\u7acb\",\"\\u516c\\u7acb\",\"\\u516c\\u7acb\",\"\\u516c\\u7acb\",\"\\u516c\\u7acb\",\"\\u516c\\u7acb\",\"\\u516c\\u7acb\",\"\\u516c\\u7acb\",\"\\u516c\\u7acb\",\"\\u516c\\u7acb\",\"\\u516c\\u7acb\",\"\\u516c\\u7acb\",\"\\u516c\\u7acb\",\"\\u516c\\u7acb\",\"\\u516c\\u7acb\",\"\\u516c\\u7acb\",\"\\u516c\\u7acb\",\"\\u516c\\u7acb\",\"\\u516c\\u7acb\",\"\\u516c\\u7acb\",\"\\u516c\\u7acb\",\"\\u516c\\u7acb\",\"\\u516c\\u7acb\",\"\\u516c\\u7acb\",\"\\u516c\\u7acb\",\"\\u516c\\u7acb\",\"\\u516c\\u7acb\",\"\\u516c\\u7acb\",\"\\u516c\\u7acb\",\"\\u516c\\u7acb\",\"\\u516c\\u7acb\",\"\\u516c\\u7acb\",\"\\u516c\\u7acb\",\"\\u516c\\u7acb\",\"\\u516c\\u7acb\",\"\\u516c\\u7acb\",\"\\u516c\\u7acb\",\"\\u516c\\u7acb\",\"\\u516c\\u7acb\",\"\\u516c\\u7acb\",\"\\u516c\\u7acb\",\"\\u516c\\u7acb\",\"\\u516c\\u7acb\",\"\\u516c\\u7acb\",\"\\u516c\\u7acb\",\"\\u516c\\u7acb\",\"\\u516c\\u7acb\",\"\\u516c\\u7acb\",\"\\u516c\\u7acb\",\"\\u516c\\u7acb\",\"\\u516c\\u7acb\",\"\\u516c\\u7acb\",\"\\u516c\\u7acb\",\"\\u516c\\u7acb\",\"\\u516c\\u7acb\",\"\\u516c\\u7acb\",\"\\u516c\\u7acb\",\"\\u516c\\u7acb\",\"\\u516c\\u7acb\",\"\\u516c\\u7acb\",\"\\u516c\\u7acb\",\"\\u516c\\u7acb\",\"\\u516c\\u7acb\",\"\\u516c\\u7acb\",\"\\u516c\\u7acb\",\"\\u516c\\u7acb\",\"\\u516c\\u7acb\",\"\\u516c\\u7acb\",\"\\u516c\\u7acb\",\"\\u516c\\u7acb\",\"\\u516c\\u7acb\",\"\\u516c\\u7acb\",\"\\u516c\\u7acb\",\"\\u516c\\u7acb\",\"\\u516c\\u7acb\",\"\\u516c\\u7acb\",\"\\u516c\\u7acb\",\"\\u516c\\u7acb\",\"\\u516c\\u7acb\",\"\\u516c\\u7acb\",\"\\u516c\\u7acb\",\"\\u516c\\u7acb\",\"\\u516c\\u7acb\",\"\\u516c\\u7acb\",\"\\u516c\\u7acb\",\"\\u516c\\u7acb\",\"\\u516c\\u7acb\",\"\\u516c\\u7acb\",\"\\u516c\\u7acb\",\"\\u516c\\u7acb\",\"\\u516c\\u7acb\",\"\\u516c\\u7acb\",\"\\u516c\\u7acb\",\"\\u516c\\u7acb\"]]]}}},\"view\":{\"type\":\"object\",\"name\":\"CDSView\",\"id\":\"p1572\",\"attributes\":{\"filter\":{\"type\":\"object\",\"name\":\"AllIndices\",\"id\":\"p1573\"}}},\"glyph\":{\"type\":\"object\",\"name\":\"Scatter\",\"id\":\"p1568\",\"attributes\":{\"tags\":[\"apply_ranges\"],\"x\":{\"type\":\"field\",\"field\":\"longitude\"},\"y\":{\"type\":\"field\",\"field\":\"latitude\"},\"size\":{\"type\":\"value\",\"value\":5.477225575051661},\"line_color\":{\"type\":\"value\",\"value\":\"#fc4f30\"},\"fill_color\":{\"type\":\"value\",\"value\":\"#fc4f30\"},\"hatch_color\":{\"type\":\"value\",\"value\":\"#fc4f30\"}}},\"selection_glyph\":{\"type\":\"object\",\"name\":\"Scatter\",\"id\":\"p1577\",\"attributes\":{\"tags\":[\"apply_ranges\"],\"x\":{\"type\":\"field\",\"field\":\"longitude\"},\"y\":{\"type\":\"field\",\"field\":\"latitude\"},\"size\":{\"type\":\"value\",\"value\":5.477225575051661},\"angle\":{\"type\":\"value\",\"value\":0.0},\"line_color\":{\"type\":\"value\",\"value\":\"#fc4f30\"},\"line_alpha\":{\"type\":\"value\",\"value\":1.0},\"line_width\":{\"type\":\"value\",\"value\":1},\"line_join\":{\"type\":\"value\",\"value\":\"bevel\"},\"line_cap\":{\"type\":\"value\",\"value\":\"butt\"},\"line_dash\":{\"type\":\"value\",\"value\":[]},\"line_dash_offset\":{\"type\":\"value\",\"value\":0},\"fill_color\":{\"type\":\"value\",\"value\":\"#fc4f30\"},\"fill_alpha\":{\"type\":\"value\",\"value\":1.0},\"hatch_color\":{\"type\":\"value\",\"value\":\"#fc4f30\"},\"hatch_alpha\":{\"type\":\"value\",\"value\":1.0},\"hatch_scale\":{\"type\":\"value\",\"value\":12.0},\"hatch_pattern\":{\"type\":\"value\",\"value\":null},\"hatch_weight\":{\"type\":\"value\",\"value\":1.0},\"marker\":{\"type\":\"value\",\"value\":\"circle\"}}},\"nonselection_glyph\":{\"type\":\"object\",\"name\":\"Scatter\",\"id\":\"p1569\",\"attributes\":{\"tags\":[\"apply_ranges\"],\"x\":{\"type\":\"field\",\"field\":\"longitude\"},\"y\":{\"type\":\"field\",\"field\":\"latitude\"},\"size\":{\"type\":\"value\",\"value\":5.477225575051661},\"line_color\":{\"type\":\"value\",\"value\":\"#fc4f30\"},\"line_alpha\":{\"type\":\"value\",\"value\":0.1},\"fill_color\":{\"type\":\"value\",\"value\":\"#fc4f30\"},\"fill_alpha\":{\"type\":\"value\",\"value\":0.1},\"hatch_color\":{\"type\":\"value\",\"value\":\"#fc4f30\"},\"hatch_alpha\":{\"type\":\"value\",\"value\":0.1}}},\"muted_glyph\":{\"type\":\"object\",\"name\":\"Scatter\",\"id\":\"p1570\",\"attributes\":{\"tags\":[\"apply_ranges\"],\"x\":{\"type\":\"field\",\"field\":\"longitude\"},\"y\":{\"type\":\"field\",\"field\":\"latitude\"},\"size\":{\"type\":\"value\",\"value\":5.477225575051661},\"line_color\":{\"type\":\"value\",\"value\":\"#fc4f30\"},\"line_alpha\":{\"type\":\"value\",\"value\":0.2},\"fill_color\":{\"type\":\"value\",\"value\":\"#fc4f30\"},\"fill_alpha\":{\"type\":\"value\",\"value\":0.2},\"hatch_color\":{\"type\":\"value\",\"value\":\"#fc4f30\"},\"hatch_alpha\":{\"type\":\"value\",\"value\":0.2}}}}},{\"type\":\"object\",\"name\":\"GlyphRenderer\",\"id\":\"p1587\",\"attributes\":{\"name\":\"\\u79c1\\u7acb\",\"data_source\":{\"type\":\"object\",\"name\":\"ColumnDataSource\",\"id\":\"p1578\",\"attributes\":{\"selected\":{\"type\":\"object\",\"name\":\"Selection\",\"id\":\"p1579\",\"attributes\":{\"indices\":[],\"line_indices\":[]}},\"selection_policy\":{\"type\":\"object\",\"name\":\"UnionRenderers\",\"id\":\"p1580\"},\"data\":{\"type\":\"map\",\"entries\":[[\"longitude\",{\"type\":\"ndarray\",\"array\":{\"type\":\"bytes\",\"data\":\"9t1p/CEFbkFYUhDT4QpuQekAUN2T5W1B07AP6yIDbkGcUavdeQhuQelEHxwlBG5BXJjWx3z9bUGTg2bxvAtuQX+pX3yiPm5BmnvoQaAObkGFGtnpMgRuQYvmXftaDW5BFABlJFANbkH6w7fDKQduQfrTPueyCm5B2mSNpVIJbkHPqZq6LY5uQfiw2io8EG5BgCWDHIoDbkGhTdzWJBduQWdIlOj0A25Bva8/YYEGbkE76mErWwZuQV+aX8ecEG5BQ5T6GC7kbUGtzNyoG9RtQbrS6WUK021BjdVERacObkELmXORKA9uQcgPfLIr421ByNKJI+/UbUG4prVL2vhtQWZFeVaq9W1B8bh8QIv3bUFYjze5QPdtQT5io0+r421B9Qfct2rpbUFSQzugEOhtQYIxgYHQ521BqCQElt3pbUFPji3XCOltQZuUUjgl6G1BE5q20icAbkFW6ULnyeptQcc2jZMX521BpmRIktnmbUHuYp3eUMJtQaehc4Dd121BpktdQy7CbUEj1aEde8xtQaDPtsbNr21B5gqfWDXKbUG4xiBY5sxtQUw+ghURzm1BbdOMu63rbUEA0mQSFettQc30W0071G1B4rXS4UvbbUHfubRd48JtQQbDGqST0W1BaPeg5InEbUG1nXMCmL9tQQ7OjAKnwW1B4tvQ1+aYbUFzJOFkRK9tQekTYElRuG1BElPwZ369bUEY+7eJzLNtQQGn7tgYsm1BOQDoagqybUE4ULEGPbBtQdDc050chm1B8jAql3KTbUExsd2o2oNtQfx039v6hW1BLj9C41uGbUE6fyadPIVtQWrWW0z0jG1BdWCJLbuWbUH6VTu5O4ttQfRK4NcPlm1BG8Q0fuykbUEDt65baZhtQbbQhMwcqm1BYwswbi+cbUFn0UkEoKptQZ0Tudguqm1Bm2BpZmmcbUEW5dRXKadtQdwJys0fmm1BpgRigWKhbUEBp//JCKZtQeiGsQctm21B4I4tM/eVbUERdnYG1Z9tQW5L7j2Lrm1BVojKQyiqbUHgji0z95VtQZGs6Sfnk21BERDGMFqQbUF3Fi2RkpVtQd9f8fu+o21B4EVQtLaZbUEjxXU7mZNtQWB5YHcZq21BYUCv2rrnbUEuRtfGS8JtQfZ2k8YTuW1B2STbxXK3bUGFwDnuQM9tQZw6pM+VwW1BS5VhwF+/bUH9l9HZ4rptQSQIsWOttG1BXKdKALW6bUFcmu3bE7dtQVlk1PSGtG1B+oJL40fLbUHok9XMBrxtQTnwONmpv21BoXJomCK/bUFarjYdp7xtQft4Mb/IxG1B9K0ry4jAbUFD/UKkerRtQWtGAFxptm1BTiHGO761bUGkkflFn8NtQRMQbXMFyG1BxLZK4zG/bUE/wQiS7Y1tQeZXd1RHq21Br/Xiu76pbUHRjLypjaxtQRkOk55nqG1Bj73g+7qqbUHRjLypjaxtQUTjoVxyqm1BPZgR7OepbUFKYpzK5K1tQRQGd7W4q21Bp/fza9GpbUE7/2bJz6ptQWycTXSNrG1BlyGPjsCrbUFcPdgMMKltQc+NUMAKqm1B+mWg+uSmbUFPk3LyLKdtQSCMHVyPmG1BksmnhYyubUEJ4vWhx6xtQUGH+DU0q21BC3h0QaWpbUHHi59SE6htQY8KkYn1nG1BbZ+O8FynbUEi9fm0RKptQV5AGYn/o21B69KtIF2qbUEV1Tg7C6ttQWjnP6uFrW1BwrABSlqsbUFY1NXJ9aptQRY1oHeup21BfG+EShGmbUE6+fdFc6ttQeN7ViYBpm1BEjZFfxuZbUG6dTFcIJJtQeX04RAXqm1BTm3isnuqbUF7612aQZRtQRaovN5nrG1BV1XfYyisbUGP2tOwgqNtQeea59N9qm1B6++P5DSvbUGnYPQquaVtQdnKF2ROmG1BTtB39qurbUH6VQTexqptQZzgzfgurG1BdWdoYWKpbUG0Z4KJ4qttQSNYj/h0q21B5/NN+pmsbUFAfl+z76ttQZx6H6cGn21BZQshAZKqbUHnQAKQeaNtQd5ZhPy0pm1BPe5eBAygbUEHD3B6GKltQYzRJTWpq21BQCE58xuqbUEEsJrQn6dtQaGPg7vBpm1BjBoDtOmnbUETpg31wqxtQaLrFWUYq21BppRxneOebUEVArWXrqltQb2OLZy7qm1BGBG/IaKqbUHzoyAUp6ttQYLKm94kqm1BZ8TuY1GpbUHRTHitka9tQRZf318nsG1Bo+sX6WqtbUFnxO5jUaltQWfE7mNRqW1BKfDP9jmebUE/lGTHcqBtQVu9c3pqmW1BqCYuH7eZbUE97l4EDKBtQXXQZpz3om1BhwWhI4GibUGuVV1tpJxtQeMhb16qnG1B9V2EETaqbUHRqcRX6p1tQS38q3mgmm1BPe5eBAygbUEgzGFYi5VtQYrhvUkio21B61xjshahbUGSI6LCJa5tQVCmTQfIm21Bl/Q4HKKZbUEhP4BDl5xtQW3cpmkeom1BlZvQcTOVbUE69VsS7pVtQbCkp+vulW1B69KtIF2qbUFOBAjeGJttQSE/gEOXnG1BODPzqJeVbUGnAKBjWJ9tQfSg9JBsqW1BZWhHwWWsbUFRo/uZCK1tQdqgx4rlm21BQKcbdtuqbUGYEfX19LFtQR/MPfJYq21B5QE9sWWrbUEHD3B6GKltQVFTMHqDrG1BPKiak8OvbUF0VKDBCattQeRxKxGSq21B/Mefo0WobUHgwnPKrK5tQWHvu9ZPqG1BBZbmE1WnbUGLusFhy5dtQSvgSNOwmm1BjzZo3iuqbUFkTpGAyKltQev5vgFJrm1BgLAYcVeDbUFAQVgrHqVtQRVsS/FlpW1B4dh85tSnbUElwaSw8Z9tQaL7sYE2p21BzB1eWDmlbUEJ5TSaRKVtQTgjW5Qenm1BEpA/vLSYbUG/QA/iiKdtQbyuY1GloG1B/6rS2AKcbUHBEHjzmpptQQOXeirSpG1BHyl1oxyhbUHI0WE/CZZtQRDzvYL9nm1BF648U7SfbUEkPuwsGp9tQaRH4/GIlG1BqRaUhuufbUEDAHllZ55tQWZ3YLj2nm1B92yfjBmfbUGH+EWDMqFtQXec/J4PoG1BzBN5i9x8bUEbRw/ko41tQYJJxRfChG1Bhkhs5F5sbUFceZNK6YZtQbChn87mfW1B6Dkl4CSTbUFRWdRUAoptQaiGucGMgG1BE+IBkkNtbUFzqg04u4ZtQRo3YFJDm21Ba8kCMPiNbUEFEDtsCodtQaH4y0YOd21BFITXU7wWbUH8ptmyiSVtQasuEXykH21BJEkwZGQFbUGab203awJtQRHYiPd9A21Bmcv/4MEGbUG4F2JfQAZtQd46nkQb/WxBDcyq8MQEbUFYUlrOKwBtQSCA/b/76mxBz5p2tMnrbEE2NC6tUulsQcPl8MiubW1BClHPklBkbUEXKk1+WW5tQa+uDeR3dW1BEvX+iL5JbUErNYF8MUhtQRjH3SSuWW1BVzSpODBmbUGFW1jq6VRtQfBALt6CSW1BTW9WjAwxbUGxFa9t9gFtQRr89pUsDG1BkREXq9oFbUEK05YNtwZtQZr1PEXoDG1BiVmx6BsRbUGU+n2A2hNtQc+BHzOHCG1B6iGuIfY4bUGxIM0PKV1tQY4yXENwPW1Bkrs3dppkbUGpH5/HvmRtQYtgREi5Sm1B6lFYhSY8bUH9DdLKd1ltQQ9i8rQtIW1ByAOVdV8YbUHlYpWhDCVtQaUfLdw1C21BmiXpLGsSbUEbgsgn/BhtQVXniEO/HG1BXIUjzEsWbUFu85619xVtQQeqx9WIEW1BkQ7DucgUbUGhAIc1JA5tQcggiConEW1BIfRn9R8bbUGIzWFmUhNtQRy1sYOpFG1BD/VVwsAPbUH4LV+5YxVtQaEAhzUkDm1BJzKZvbYVbUFfuzyz2BhtQfMIX4iKEW1Bl2nH2JkibUEUDejdCBxtQXY4nDzzLG1BaUvqCOwVbUFxmbv1RRFtQWQGy58QF21B2D+3ETYVbUGp/nmNthJtQfKpenF0Hm1BTCna5ygVbUGKuQWwfBdtQTUCkZu9Fm1BeaQDYi8QbUER2GSRSxltQe9j2mZeGG1BJin+th8UbUFfuzyz2BhtQYsfyfo5HW1B138QB8cKbUHQ9BWwuyBtQS6AZqJrDG1B5RnciP4SbUGIfZTCehBtQWFAxgI1AW1BWPngMs0HbUE6rZOt4wBtQSb8ozxc/WxBYUDGAjUBbUEeyoHK+9psQRCe09xr62xBCAA30IzvbEEXP61ddd1sQZ9qVGpQ6mxBKREst0nvbEHgCaoaJdNsQf1rALw202xBMeLVhQjRbEFzroc089JsQdPJxWBE1GxBHz2xpvfVbEGsxr2sANFsQXHfxa6g02xBrBAeUc7WbEGsEB5RztZsQUuybSH002xBv5669s7TbEEFt46obtFsQTqZlLwH0mxBKUd8eUvSbEHUzzTkoNNsQe1vIJgJ0WxB0z8jRM3TbEFGM4SkccRsQXrmTwUl1WxBQXdiUKDUbEGPdAWsX89sQUiwvjdP1GxBUjMi3gPEbEEiFqJJXtRsQSIWokle1GxBPkLfA+PRbEFE19wBhsdsQU2YylWZx2xBYx9q7bfObEEiwI2QAcFsQbLBkWqjwmxBLO2WNUfLbEE931w19cZsQVkLhfbky2xBuuz+mobDbEFmq9DsaMdsQU0OEbw6zGxBcQ+DhxPNbEFuPP1fZMlsQZK29g2uyWxBE9O1cnW9bEG6iVbiE8xsQSQFmoSayWxBDHVK7U/IbEE4nWVHr8VsQcp1sWYKzWxBAG6rnTbObEHck1+s3slsQdBGIFKvyWxBZQj1KOrGbEE7UnWUCcdsQeCWoqwAx2xBQCX9PwvNbEHU/+84wcpsQS3DRNiLzGxBch6JCWLJbEGTU2HKfchsQdA2rKNovGxB+J95JrzHbEH2U2qYScJsQdIpQBIqx2xBj0CqGxW+bEF9lRg9+sVsQXXhhw2IyWxBT4evG5PGbEHwOIiTlMlsQSnhy6PQwmxBF6lUqBzNbEEUFih2/r5sQRl7V6o+x2xBJRuhHHDAbEGmK3WRM8ZsQYUJY+wdw2xBtDGCTiLFbEHR1jHygslsQclygdsqxmxBTn4UFfzEbEH/h3LPw8RsQfZTfQ2MuGxBwSTYXKi5bEGR3SnRebVsQfNhakAFtWxBVxtD9eKvbEFP6lPMYLlsQS6ptIFztmxBO+8FO16ybEHWmMLJsLhsQQG31PCAo2xBNlDqEJexbEF7UqIxzL9sQYYW0QGvumxBjwdnNaC7bEF3BpUnrLxsQZo3rU4QvGxB2kdlFwG9bEGOtFqZS8BsQWWldN5OvmxBZduLQYm+bEFIvPN3CplsQQZgDMMZrWxB3HN1y/6sbEFyPhh8oIdsQaw8TmNZrGxByaQgcRKbbEG6LFSIcrRsQersr+CWpGxBeV8Owwq1bEGl9BHk4JxsQTBSxOU00WxBEGdMyebXbEGh+fPVhtRsQe6ykpuS0mxBBEegSELRbEFTwOOUatdsQbyijQXJyWxBHCfy2oazbEHJq+gn0rJsQbPzeMzva2xBDNf/GP9ebEF2LKQON25sQYTfoqt+b2xB3akL1hJibEEw0V1ZDm9sQfrxmMFEaWxBww9+tBZwbEFhqDD6UmlsQakWLNqRcGxBwklmovhjbEE8TlqMsGhsQQbVPz5qa2xBl9fEuUZ0bEHL4O4jDm9sQTGxPiEMdGxB9dsKRVEgbEE/icsDpB9sQVuoq5mHGWxBhcTs9NIcbEHmZQ8oNiFsQViDnn9jJmxB0R6jmyMjbEEFGC9leh9sQRHfQ3CFSmxBeSoQgqsgbEFWR85IFVBsQZZ9SSSHKWxBL1FWjEIsbEGIjVZ0sBdsQUYuVrHHH2xB4ZkJvufMa0FTs9RzuM1rQaOfJbr85mtB/8uPEUTda0HE0D3hYOZrQVTVxMyskWxBiBJbuK6RbEFqmcSp8WdsQTJ+VcVeeGxBFir0Pp0wbEGF8UTrQzFsQTeYD+YtMmxBUa+gv5JTbEFYpySUyFhsQS198tBkwGtBLX3y0GTAa0HAdMkRRcVrQciVQggurGtB3A3YFVmya0Hs2RHe+rVrQV9DuyiTrWtBTF5OReGwa0HuwpwZLa5rQWJjqREYz2tBH5NupOqta0FdKoaJMLJrQeNFomrdtmtBBceFsca2a0Gzy/cNv8BrQccSeZNmt2tBhIrLei+ya0EDpBAEYMhrQUtoaGlgt2tB3SB+09HIa0GzYXQpSrtrQSzAdcXdtWtB0eYqfy2xa0Ee+qwE67NrQeZUqOwrs2tB8/T1ZgKxa0HIlUIILqxrQertaYwrrWtB2toBL+6sa0F96KWvDZdrQS7ifEZMk2tBd6wdRSSVa0EUXFpIw45rQXP04XSPkWtB5/Pl+NKba0Ee+psT+79rQQoJairKwWtBDNgrsBzBa0ES7aS9bMFrQdkB/hZFuGtBNF7s5zfFa0H+t2iykL9rQaWCH5Dy92tBf2IxEDLra0GwTLdXOutrQaoNA2oW52tB54c4i4Tma0Hsc/NRluVrQVKaaPng8WtBzPHYuSm1a0GHudDW8sNrQUbzoCCnt2tBwCqPV/yra0GpiH9RRCRrQQ9EORUnIGtBGEiVZB4da0EGSXTEISBrQWfuB2JFxW1B4GkmUF3IbEHl117ssLFrQQ==\"},\"shape\":[626],\"dtype\":\"float64\",\"order\":\"little\"}],[\"latitude\",{\"type\":\"ndarray\",\"array\":{\"type\":\"bytes\",\"data\":\"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\"},\"shape\":[626],\"dtype\":\"float64\",\"order\":\"little\"}],[\"name_jp\",[\"\\u672d\\u5e4c\\u5927\\u5b66\",\"\\u672d\\u5e4c\\u5b66\\u9662\\u5927\\u5b66\",\"\\u51fd\\u9928\\u5927\\u5b66\",\"\\u85e4\\u5973\\u5b50\\u5927\\u5b66\",\"\\u5317\\u661f\\u5b66\\u5712\\u5927\\u5b66\",\"\\u5317\\u6d77\\u5b66\\u5712\\u5927\\u5b66\",\"\\u5317\\u6d77\\u9053\\u79d1\\u5b66\\u5927\\u5b66\",\"\\u916a\\u8fb2\\u5b66\\u5712\\u5927\\u5b66\",\"\\u65ed\\u5ddd\\u5927\\u5b66\",\"\\u5317\\u6d77\\u9053\\u533b\\u7642\\u5927\\u5b66\",\"\\u5317\\u6d77\\u5546\\u79d1\\u5927\\u5b66\",\"\\u661f\\u69ce\\u9053\\u90fd\\u5927\\u5b66\",\"\\u5317\\u6d77\\u9053\\u60c5\\u5831\\u5927\\u5b66\",\"\\u672d\\u5e4c\\u56fd\\u969b\\u5927\\u5b66\",\"\\u5317\\u7fd4\\u5927\\u5b66\",\"\\u5317\\u6d0b\\u5927\\u5b66\",\"\\u65e5\\u672c\\u8d64\\u5341\\u5b57\\u5317\\u6d77\\u9053\\u770b\\u8b77\\u5927\\u5b66\",\"\\u5317\\u6d77\\u9053\\u6587\\u6559\\u5927\\u5b66\",\"\\u5929\\u4f7f\\u5927\\u5b66\",\"\\u80b2\\u82f1\\u9928\\u5927\\u5b66\",\"\\u672d\\u5e4c\\u5927\\u8c37\\u5927\\u5b66\",\"\\u672d\\u5e4c\\u4fdd\\u5065\\u533b\\u7642\\u5927\\u5b66\",\"\\u65e5\\u672c\\u533b\\u7642\\u5927\\u5b66\",\"\\u5317\\u6d77\\u9053\\u5343\\u6b73\\u30ea\\u30cf\\u30d3\\u30ea\\u30c6\\u30fc\\u30b7\\u30e7\\u30f3\\u5927\\u5b66\",\"\\u9752\\u68ee\\u5927\\u5b66\",\"\\u67f4\\u7530\\u5b66\\u5712\\u5927\\u5b66\",\"\\u5f18\\u524d\\u5b66\\u9662\\u5927\\u5b66\",\"\\u516b\\u6238\\u5de5\\u696d\\u5927\\u5b66\",\"\\u516b\\u6238\\u5b66\\u9662\\u5927\\u5b66\",\"\\u9752\\u68ee\\u4e2d\\u592e\\u5b66\\u9662\\u5927\\u5b66\",\"\\u5f18\\u524d\\u533b\\u7642\\u798f\\u7949\\u5927\\u5b66\",\"\\u5ca9\\u624b\\u533b\\u79d1\\u5927\\u5b66\",\"\\u5bcc\\u58eb\\u5927\\u5b66\",\"\\u76db\\u5ca1\\u5927\\u5b66\",\"\\u5ca9\\u624b\\u4fdd\\u5065\\u533b\\u7642\\u5927\\u5b66\",\"\\u4ed9\\u53f0\\u5927\\u5b66\",\"\\u6771\\u5317\\u5b66\\u9662\\u5927\\u5b66\",\"\\u6771\\u5317\\u5de5\\u696d\\u5927\\u5b66\",\"\\u6771\\u5317\\u798f\\u7949\\u5927\\u5b66\",\"\\u6771\\u5317\\u533b\\u79d1\\u85ac\\u79d1\\u5927\\u5b66\",\"\\u6771\\u5317\\u751f\\u6d3b\\u6587\\u5316\\u5927\\u5b66\",\"\\u5bae\\u57ce\\u5b66\\u9662\\u5973\\u5b50\\u5927\\u5b66\",\"\\u77f3\\u5dfb\\u5c02\\u4fee\\u5927\\u5b66\",\"\\u4ed9\\u53f0\\u767d\\u767e\\u5408\\u5973\\u5b50\\u5927\\u5b66\",\"\\u6771\\u5317\\u6587\\u5316\\u5b66\\u5712\\u5927\\u5b66\",\"\\u5c1a\\u7d45\\u5b66\\u9662\\u5927\\u5b66\",\"\\u30ce\\u30fc\\u30b9\\u30a2\\u30b8\\u30a2\\u5927\\u5b66\",\"\\u79cb\\u7530\\u770b\\u8b77\\u798f\\u7949\\u5927\\u5b66\",\"\\u65e5\\u672c\\u8d64\\u5341\\u5b57\\u79cb\\u7530\\u770b\\u8b77\\u5927\\u5b66\",\"\\u6771\\u5317\\u82b8\\u8853\\u5de5\\u79d1\\u5927\\u5b66\",\"\\u6771\\u5317\\u516c\\u76ca\\u6587\\u79d1\\u5927\\u5b66\",\"\\u6771\\u5317\\u6587\\u6559\\u5927\\u5b66\",\"\\u90e1\\u5c71\\u5973\\u5b50\\u5927\\u5b66\",\"\\u5965\\u7fbd\\u5927\\u5b66\",\"\\u533b\\u7642\\u5275\\u751f\\u5927\\u5b66\",\"\\u6771\\u65e5\\u672c\\u56fd\\u969b\\u5927\\u5b66\",\"\\u798f\\u5cf6\\u5b66\\u9662\\u5927\\u5b66\",\"\\u8328\\u57ce\\u30ad\\u30ea\\u30b9\\u30c8\\u6559\\u5927\\u5b66\",\"\\u6d41\\u901a\\u7d4c\\u6e08\\u5927\\u5b66\",\"\\u5e38\\u78d0\\u5927\\u5b66\",\"\\u3064\\u304f\\u3070\\u56fd\\u969b\\u5927\\u5b66\",\"\\u7b51\\u6ce2\\u5b66\\u9662\\u5927\\u5b66\",\"\\u65e5\\u672c\\u30a6\\u30a7\\u30eb\\u30cd\\u30b9\\u30b9\\u30dd\\u30fc\\u30c4\\u5927\\u5b66\",\"\\u8db3\\u5229\\u5927\\u5b66\",\"\\u767d\\u9d0e\\u5927\\u5b66\",\"\\u4f5c\\u65b0\\u5b66\\u9662\\u5927\\u5b66\",\"\\u56fd\\u969b\\u533b\\u7642\\u798f\\u7949\\u5927\\u5b66\",\"\\u5b87\\u90fd\\u5bae\\u5171\\u548c\\u5927\\u5b66\",\"\\u6587\\u661f\\u82b8\\u8853\\u5927\\u5b66\",\"\\u81ea\\u6cbb\\u533b\\u79d1\\u5927\\u5b66\",\"\\u7368\\u5354\\u533b\\u79d1\\u5927\\u5b66\",\"\\u80b2\\u82f1\\u5927\\u5b66\",\"\\u6850\\u751f\\u5927\\u5b66\",\"\\u7fa4\\u99ac\\u30d1\\u30fc\\u30b9\\u5927\\u5b66\",\"\\u7fa4\\u99ac\\u533b\\u7642\\u798f\\u7949\\u5927\\u5b66\",\"\\u9ad8\\u5d0e\\u5065\\u5eb7\\u798f\\u7949\\u5927\\u5b66\",\"\\u9ad8\\u5d0e\\u5546\\u79d1\\u5927\\u5b66\",\"\\u4e0a\\u6b66\\u5927\\u5b66\",\"\\u95a2\\u6771\\u5b66\\u5712\\u5927\\u5b66\",\"\\u5171\\u611b\\u5b66\\u5712\\u524d\\u6a4b\\u56fd\\u969b\\u5927\\u5b66\",\"\\u65e5\\u672c\\u533b\\u7642\\u79d1\\u5b66\\u5927\\u5b66\",\"\\u65e5\\u672c\\u85ac\\u79d1\\u5927\\u5b66\",\"\\u6b66\\u8535\\u91ce\\u5b66\\u9662\\u5927\\u5b66\",\"\\u6d66\\u548c\\u5927\\u5b66\",\"\\u3082\\u306e\\u3064\\u304f\\u308a\\u5927\\u5b66\",\"\\u5171\\u6804\\u5927\\u5b66\",\"\\u57fc\\u7389\\u5b66\\u5712\\u5927\\u5b66\",\"\\u5c1a\\u7f8e\\u5b66\\u5712\\u5927\\u5b66\",\"\\u4eba\\u9593\\u7dcf\\u5408\\u79d1\\u5b66\\u5927\\u5b66\",\"\\u897f\\u6b66\\u6587\\u7406\\u5927\\u5b66\",\"\\u5341\\u6587\\u5b57\\u5b66\\u5712\\u5973\\u5b50\\u5927\\u5b66\",\"\\u5e73\\u6210\\u56fd\\u969b\\u5927\\u5b66\",\"\\u6771\\u4eac\\u56fd\\u969b\\u5927\\u5b66\",\"\\u57ce\\u897f\\u5927\\u5b66\",\"\\u6771\\u90a6\\u97f3\\u697d\\u5927\\u5b66\",\"\\u7368\\u5354\\u5927\\u5b66\",\"\\u65e5\\u672c\\u5de5\\u696d\\u5927\\u5b66\",\"\\u660e\\u6d77\\u5927\\u5b66\",\"\\u57fc\\u7389\\u533b\\u79d1\\u5927\\u5b66\",\"\\u57fc\\u7389\\u5de5\\u696d\\u5927\\u5b66\",\"\\u99ff\\u6cb3\\u53f0\\u5927\\u5b66\",\"\\u8056\\u5b66\\u9662\\u5927\\u5b66\",\"\\u5973\\u5b50\\u6804\\u990a\\u5927\\u5b66\",\"\\u6771\\u90fd\\u5927\\u5b66\",\"\\u65e5\\u672c\\u4fdd\\u5065\\u533b\\u7642\\u5927\\u5b66\",\"\\u5343\\u8449\\u79d1\\u5b66\\u5927\\u5b66\",\"\\u611b\\u56fd\\u5b66\\u5712\\u5927\\u5b66\",\"\\u958b\\u667a\\u56fd\\u969b\\u5927\\u5b66\",\"\\u6e05\\u548c\\u5927\\u5b66\",\"\\u57ce\\u897f\\u56fd\\u969b\\u5927\\u5b66\",\"\\u6dd1\\u5fb3\\u5927\\u5b66\",\"\\u656c\\u611b\\u5927\\u5b66\",\"\\u5343\\u8449\\u5de5\\u696d\\u5927\\u5b66\",\"\\u5343\\u8449\\u5546\\u79d1\\u5927\\u5b66\",\"\\u4e2d\\u592e\\u5b66\\u9662\\u5927\\u5b66\",\"\\u9e97\\u6fa4\\u5927\\u5b66\",\"\\u548c\\u6d0b\\u5973\\u5b50\\u5927\\u5b66\",\"\\u56fd\\u969b\\u6b66\\u9053\\u5927\\u5b66\",\"\\u795e\\u7530\\u5916\\u8a9e\\u5927\\u5b66\",\"\\u5343\\u8449\\u7d4c\\u6e08\\u5927\\u5b66\",\"\\u79c0\\u660e\\u5927\\u5b66\",\"\\u5ddd\\u6751\\u5b66\\u5712\\u5973\\u5b50\\u5927\\u5b66\",\"\\u6771\\u4eac\\u60c5\\u5831\\u5927\\u5b66\",\"\\u6771\\u4eac\\u57fa\\u7763\\u6559\\u5927\\u5b66\",\"\\u8056\\u5fb3\\u5927\\u5b66\",\"\\u6c5f\\u6238\\u5ddd\\u5927\\u5b66\",\"\\u4e86\\u5fb3\\u5bfa\\u5927\\u5b66\",\"\\u690d\\u8349\\u5b66\\u5712\\u5927\\u5b66\",\"\\u4e09\\u80b2\\u5b66\\u9662\\u5927\\u5b66\",\"\\u4e80\\u7530\\u533b\\u7642\\u5927\\u5b66\",\"\\u6771\\u4eac\\u798f\\u7949\\u5927\\u5b66\",\"\\u8de1\\u898b\\u5b66\\u5712\\u5973\\u5b50\\u5927\\u5b66\",\"\\u6587\\u6559\\u5927\\u5b66\",\"\\u6587\\u4eac\\u5b66\\u9662\\u5927\\u5b66\",\"\\u76ee\\u767d\\u5927\\u5b66\",\"\\u6771\\u4eac\\u6210\\u5fb3\\u5927\\u5b66\",\"\\u6771\\u6d0b\\u5b66\\u5712\\u5927\\u5b66\",\"\\u5e1d\\u4eac\\u5e73\\u6210\\u5927\\u5b66\",\"\\u9752\\u5c71\\u5b66\\u9662\\u5927\\u5b66\",\"\\u4e0a\\u91ce\\u5b66\\u5712\\u5927\\u5b66\",\"\\u5927\\u59bb\\u5973\\u5b50\\u5927\\u5b66\",\"\\u5b66\\u7fd2\\u9662\\u5927\\u5b66\",\"\\u5317\\u91cc\\u5927\\u5b66\",\"\\u5171\\u7acb\\u5973\\u5b50\\u5927\\u5b66\",\"\\u6176\\u61c9\\u7fa9\\u587e\\u5927\\u5b66\",\"\\u5de5\\u5b66\\u9662\\u5927\\u5b66\",\"\\u570b\\u5b78\\u9662\\u5927\\u5b78\",\"\\u56fd\\u58eb\\u8218\\u5927\\u5b66\",\"\\u99d2\\u6fa4\\u5927\\u5b66\",\"\\u5b9f\\u8df5\\u5973\\u5b50\\u5927\\u5b66\",\"\\u829d\\u6d66\\u5de5\\u696d\\u5927\\u5b66\",\"\\u9806\\u5929\\u5802\\u5927\\u5b66\",\"\\u4e0a\\u667a\\u5927\\u5b66\",\"\\u662d\\u548c\\u5927\\u5b66\",\"\\u662d\\u548c\\u5973\\u5b50\\u5927\\u5b66\",\"\\u662d\\u548c\\u85ac\\u79d1\\u5927\\u5b66\",\"\\u5973\\u5b50\\u7f8e\\u8853\\u5927\\u5b66\",\"\\u6749\\u91ce\\u670d\\u98fe\\u5927\\u5b66\",\"\\u6210\\u57ce\\u5927\\u5b66\",\"\\u8056\\u5fc3\\u5973\\u5b50\\u5927\\u5b66\",\"\\u6e05\\u6cc9\\u5973\\u5b50\\u5927\\u5b66\",\"\\u8056\\u8def\\u52a0\\u56fd\\u969b\\u5927\\u5b66\",\"\\u5c02\\u4fee\\u5927\\u5b66\",\"\\u5927\\u6b63\\u5927\\u5b66\",\"\\u5927\\u6771\\u6587\\u5316\\u5927\\u5b66\",\"\\u9ad8\\u5343\\u7a42\\u5927\\u5b66\",\"\\u62d3\\u6b96\\u5927\\u5b66\",\"\\u591a\\u6469\\u7f8e\\u8853\\u5927\\u5b66\",\"\\u4e2d\\u592e\\u5927\\u5b66\",\"\\u6771\\u6d77\\u5927\\u5b66\",\"\\u6771\\u4eac\\u533b\\u79d1\\u5927\\u5b66\",\"\\u6771\\u4eac\\u5bb6\\u653f\\u5927\\u5b66\",\"\\u6771\\u4eac\\u5bb6\\u653f\\u5b66\\u9662\\u5927\\u5b66\",\"\\u6771\\u4eac\\u6b6f\\u79d1\\u5927\\u5b66\",\"\\u6771\\u4eac\\u6148\\u6075\\u4f1a\\u533b\\u79d1\\u5927\\u5b66\",\"\\u6771\\u4eac\\u5973\\u5b50\\u5927\\u5b66\",\"\\u6771\\u4eac\\u5973\\u5b50\\u533b\\u79d1\\u5927\\u5b66\",\"\\u6771\\u4eac\\u96fb\\u6a5f\\u5927\\u5b66\",\"\\u6771\\u4eac\\u8fb2\\u696d\\u5927\\u5b66\",\"\\u6771\\u4eac\\u85ac\\u79d1\\u5927\\u5b66\",\"\\u6771\\u4eac\\u7406\\u79d1\\u5927\\u5b66\",\"\\u6771\\u90a6\\u5927\\u5b66\",\"\\u6771\\u6d0b\\u5927\\u5b66\",\"\\u6771\\u4eac\\u97f3\\u697d\\u5927\\u5b66\",\"\\u4e8c\\u677e\\u5b66\\u820e\\u5927\\u5b66\",\"\\u65e5\\u672c\\u5927\\u5b66\",\"\\u65e5\\u672c\\u533b\\u79d1\\u5927\\u5b66\",\"\\u65e5\\u672c\\u6b6f\\u79d1\\u5927\\u5b66\",\"\\u65e5\\u672c\\u793e\\u4f1a\\u4e8b\\u696d\\u5927\\u5b66\",\"\\u65e5\\u672c\\u5973\\u5b50\\u5927\\u5b66\",\"\\u65e5\\u672c\\u5973\\u5b50\\u4f53\\u80b2\\u5927\\u5b66\",\"\\u65e5\\u672c\\u4f53\\u80b2\\u5927\\u5b66\",\"\\u30eb\\u30fc\\u30c6\\u30eb\\u5b66\\u9662\\u5927\\u5b66\",\"\\u6587\\u5316\\u5b66\\u5712\\u5927\\u5b66\",\"\\u6cd5\\u653f\\u5927\\u5b66\",\"\\u661f\\u85ac\\u79d1\\u5927\\u5b66\",\"\\u6b66\\u8535\\u5927\\u5b66\",\"\\u6771\\u4eac\\u90fd\\u5e02\\u5927\\u5b66\",\"\\u6b66\\u8535\\u91ce\\u97f3\\u697d\\u5927\\u5b66\",\"\\u660e\\u6cbb\\u5927\\u5b66\",\"\\u660e\\u6cbb\\u5b66\\u9662\\u5927\\u5b66\",\"\\u660e\\u6cbb\\u85ac\\u79d1\\u5927\\u5b66\",\"\\u7acb\\u6559\\u5927\\u5b66\",\"\\u7acb\\u6b63\\u5927\\u5b66\",\"\\u65e9\\u7a32\\u7530\\u5927\\u5b66\",\"\\u56fd\\u969b\\u4ecf\\u6559\\u5b66\\u5927\\u5b66\\u9662\\u5927\\u5b66\",\"\\u5b66\\u7fd2\\u9662\\u5973\\u5b50\\u5927\\u5b66\",\"\\u6771\\u4eac\\u56fd\\u969b\\u5de5\\u79d1\\u5c02\\u9580\\u8077\\u5927\\u5b66\",\"\\u6771\\u4eac\\u4fdd\\u5065\\u533b\\u7642\\u5c02\\u9580\\u8077\\u5927\\u5b66\",\"\\u60c5\\u5831\\u7d4c\\u55b6\\u30a4\\u30ce\\u30d9\\u30fc\\u30b7\\u30e7\\u30f3\\u5c02\\u9580\\u8077\\u5927\\u5b66\",\"\\u5927\\u5b66\\u9662\\u5927\\u5b66\\u81f3\\u5584\\u9928\",\"\\u6771\\u4eac\\u901a\\u4fe1\\u5927\\u5b66\",\"\\u56fd\\u969b\\u30d5\\u30a1\\u30c3\\u30b7\\u30e7\\u30f3\\u5c02\\u9580\\u8077\\u5927\\u5b66\",\"\\u99d2\\u6ca2\\u5973\\u5b50\\u5927\\u5b66\",\"\\u4e9c\\u7d30\\u4e9c\\u5927\\u5b66\",\"\\u685c\\u7f8e\\u6797\\u5927\\u5b66\",\"\\u56fd\\u7acb\\u97f3\\u697d\\u5927\\u5b66\",\"\\u56fd\\u969b\\u57fa\\u7763\\u6559\\u5927\\u5b66\",\"\\u767d\\u767e\\u5408\\u5973\\u5b50\\u5927\\u5b66\",\"\\u6210\\u8e4a\\u5927\\u5b66\",\"\\u7389\\u5ddd\\u5927\\u5b66\",\"\\u6d25\\u7530\\u587e\\u5927\\u5b66\",\"\\u5e1d\\u4eac\\u5927\\u5b66\",\"\\u6771\\u4eac\\u7d4c\\u6e08\\u5927\\u5b66\",\"\\u6771\\u4eac\\u5973\\u5b50\\u4f53\\u80b2\\u5927\\u5b66\",\"\\u6771\\u4eac\\u795e\\u5b66\\u5927\\u5b66\",\"\\u6771\\u4eac\\u9020\\u5f62\\u5927\\u5b66\",\"\\u6850\\u670b\\u5b66\\u5712\\u5927\\u5b66\",\"\\u65e5\\u672c\\u7363\\u533b\\u751f\\u547d\\u79d1\\u5b66\\u5927\\u5b66\",\"\\u6b66\\u8535\\u91ce\\u5927\\u5b66\",\"\\u6b66\\u8535\\u91ce\\u7f8e\\u8853\\u5927\\u5b66\",\"\\u660e\\u661f\\u5927\\u5b66\",\"\\u548c\\u5149\\u5927\\u5b66\",\"\\u674f\\u6797\\u5927\\u5b66\",\"\\u5275\\u4fa1\\u5927\\u5b66\",\"\\u65e5\\u672c\\u6587\\u5316\\u5927\\u5b66\",\"\\u6771\\u4eac\\u5de5\\u79d1\\u5927\\u5b66\",\"\\u65e5\\u672c\\u8d64\\u5341\\u5b57\\u770b\\u8b77\\u5927\\u5b66\",\"\\u6075\\u6cc9\\u5973\\u5b66\\u5712\\u5927\\u5b66\",\"\\u591a\\u6469\\u5927\\u5b66\",\"\\u6771\\u4eac\\u7d14\\u5fc3\\u5927\\u5b66\",\"\\u5609\\u60a6\\u5927\\u5b66\",\"\\u6771\\u4eac\\u5bcc\\u58eb\\u5927\\u5b66\",\"\\uff2c\\uff25\\uff23\\u6771\\u4eac\\u30ea\\u30fc\\u30ac\\u30eb\\u30de\\u30a4\\u30f3\\u30c9\\u5927\\u5b66\\u9662\\u5927\\u5b66\",\"\\u30c7\\u30b8\\u30bf\\u30eb\\u30cf\\u30ea\\u30a6\\u30c3\\u30c9\\u5927\\u5b66\",\"\\u767d\\u6885\\u5b66\\u5712\\u5927\\u5b66\",\"\\u6771\\u4eac\\u533b\\u7642\\u4fdd\\u5065\\u5927\\u5b66\",\"\\u6771\\u4eac\\u8056\\u6804\\u5927\\u5b66\",\"\\u30d3\\u30b8\\u30cd\\u30b9\\u30fb\\u30d6\\u30ec\\u30fc\\u30af\\u30b9\\u30eb\\u30fc\\u5927\\u5b66\",\"\\u30b0\\u30ed\\u30fc\\u30d3\\u30b9\\u7d4c\\u55b6\\u5927\\u5b66\\u9662\\u5927\\u5b66\",\"\\u6587\\u5316\\u30d5\\u30a1\\u30c3\\u30b7\\u30e7\\u30f3\\u5927\\u5b66\\u9662\\u5927\\u5b66\",\"\\u5927\\u539f\\u5927\\u5b66\\u9662\\u5927\\u5b66\",\"\\u6771\\u4eac\\u672a\\u6765\\u5927\\u5b66\",\"\\u30cf\\u30ea\\u30a6\\u30c3\\u30c9\\u5927\\u5b66\\u9662\\u5927\\u5b66\",\"\\uff33\\uff22\\uff29\\u5927\\u5b66\\u9662\\u5927\\u5b66\",\"\\u3053\\u3069\\u3082\\u6559\\u80b2\\u5b9d\\u4ed9\\u5927\\u5b66\",\"\\u6771\\u4eac\\u6709\\u660e\\u533b\\u7642\\u5927\\u5b66\",\"\\u6771\\u4eac\\u5de5\\u82b8\\u5927\\u5b66\",\"\\u7523\\u696d\\u80fd\\u7387\\u5927\\u5b66\",\"\\u30e4\\u30de\\u30b6\\u30ad\\u52d5\\u7269\\u770b\\u8b77\\u5927\\u5b66\",\"\\u6771\\u4eac\\u533b\\u7642\\u5b66\\u9662\\u5927\\u5b66\",\"\\u4e8b\\u696d\\u69cb\\u60f3\\u5927\\u5b66\\u9662\\u5927\\u5b66\",\"\\u793e\\u4f1a\\u69cb\\u60f3\\u5927\\u5b66\\u9662\\u5927\\u5b66\",\"\\u5e1d\\u4eac\\u79d1\\u5b66\\u5927\\u5b66\",\"\\u661f\\u69ce\\u5927\\u5b66\",\"\\u795e\\u5948\\u5ddd\\u5927\\u5b66\",\"\\u95a2\\u6771\\u5b66\\u9662\\u5927\\u5b66\",\"\\u9db4\\u898b\\u5927\\u5b66\",\"\\u30d5\\u30a7\\u30ea\\u30b9\\u5973\\u5b66\\u9662\\u5927\\u5b66\",\"\\u6a2a\\u6d5c\\u5546\\u79d1\\u5927\\u5b66\",\"\\u516b\\u6d32\\u5b66\\u5712\\u5927\\u5b66\",\"\\u60c5\\u5831\\u30bb\\u30ad\\u30e5\\u30ea\\u30c6\\u30a3\\u5927\\u5b66\\u9662\\u5927\\u5b66\",\"\\u6a2a\\u6d5c\\u85ac\\u79d1\\u5927\\u5b66\",\"\\u9ebb\\u5e03\\u5927\\u5b66\",\"\\u795e\\u5948\\u5ddd\\u6b6f\\u79d1\\u5927\\u5b66\",\"\\u938c\\u5009\\u5973\\u5b50\\u5927\\u5b66\",\"\\u6e58\\u5357\\u5de5\\u79d1\\u5927\\u5b66\",\"\\u76f8\\u6a21\\u5973\\u5b50\\u5927\\u5b66\",\"\\u6d17\\u8db3\\u5b66\\u5712\\u97f3\\u697d\\u5927\\u5b66\",\"\\u8056\\u30de\\u30ea\\u30a2\\u30f3\\u30ca\\u533b\\u79d1\\u5927\\u5b66\",\"\\u795e\\u5948\\u5ddd\\u5de5\\u79d1\\u5927\\u5b66\",\"\\u662d\\u548c\\u97f3\\u697d\\u5927\\u5b66\",\"\\u6850\\u852d\\u6a2a\\u6d5c\\u5927\\u5b66\",\"\\u6771\\u6d0b\\u82f1\\u548c\\u5973\\u5b66\\u9662\\u5927\\u5b66\",\"\\u677e\\u852d\\u5927\\u5b66\",\"\\u7530\\u5712\\u8abf\\u5e03\\u5b66\\u5712\\u5927\\u5b66\",\"\\u6a2a\\u6d5c\\u7f8e\\u8853\\u5927\\u5b66\",\"\\u65e5\\u672c\\u6620\\u753b\\u5927\\u5b66\",\"\\u6a2a\\u6d5c\\u5275\\u82f1\\u5927\\u5b66\",\"\\u6e58\\u5357\\u533b\\u7642\\u5927\\u5b66\",\"\\u6e58\\u5357\\u938c\\u5009\\u533b\\u7642\\u5927\\u5b66\",\"\\u9577\\u5ca1\\u5927\\u5b66\",\"\\u65b0\\u6f5f\\u533b\\u7642\\u798f\\u7949\\u5927\\u5b66\",\"\\u65b0\\u6f5f\\u9752\\u9675\\u5927\\u5b66\",\"\\u65b0\\u6f5f\\u5de5\\u79d1\\u5927\\u5b66\",\"\\u65b0\\u6f5f\\u7d4c\\u55b6\\u5927\\u5b66\",\"\\u65b0\\u6f5f\\u56fd\\u969b\\u60c5\\u5831\\u5927\\u5b66\",\"\\u656c\\u548c\\u5b66\\u5712\\u5927\\u5b66\",\"\\u65b0\\u6f5f\\u85ac\\u79d1\\u5927\\u5b66\",\"\\u56fd\\u969b\\u5927\\u5b66\",\"\\u65b0\\u6f5f\\u7523\\u696d\\u5927\\u5b66\",\"\\u4e8b\\u696d\\u5275\\u9020\\u5927\\u5b66\\u9662\\u5927\\u5b66\",\"\\u65b0\\u6f5f\\u30ea\\u30cf\\u30d3\\u30ea\\u30c6\\u30fc\\u30b7\\u30e7\\u30f3\\u5927\\u5b66\",\"\\u65b0\\u6f5f\\u98df\\u6599\\u8fb2\\u696d\\u5927\\u5b66\",\"\\u958b\\u5fd7\\u5c02\\u9580\\u8077\\u5927\\u5b66\",\"\\u9577\\u5ca1\\u5d07\\u5fb3\\u5927\\u5b66\",\"\\u9ad8\\u5ca1\\u6cd5\\u79d1\\u5927\\u5b66\",\"\\u5bcc\\u5c71\\u56fd\\u969b\\u5927\\u5b66\",\"\\u6850\\u670b\\u5b66\\u5712\\u5927\\u5b66\\u9662\\u5927\\u5b66\",\"\\u91d1\\u6ca2\\u661f\\u7a1c\\u5927\\u5b66\",\"\\u91d1\\u6ca2\\u5de5\\u696d\\u5927\\u5b66\",\"\\u91d1\\u6ca2\\u533b\\u79d1\\u5927\\u5b66\",\"\\u5317\\u9678\\u5927\\u5b66\",\"\\u91d1\\u6ca2\\u5b66\\u9662\\u5927\\u5b66\",\"\\u91d1\\u57ce\\u5927\\u5b66\",\"\\u5317\\u9678\\u5b66\\u9662\\u5927\\u5b66\",\"\\u304b\\u306a\\u3056\\u308f\\u98df\\u30de\\u30cd\\u30b8\\u30e1\\u30f3\\u30c8\\u5c02\\u9580\\u8077\\u5927\\u5b66\",\"\\u798f\\u4e95\\u5de5\\u696d\\u5927\\u5b66\",\"\\u4ec1\\u611b\\u5927\\u5b66\",\"\\u798f\\u4e95\\u533b\\u7642\\u5927\\u5b66\",\"\\u5c71\\u68a8\\u5b66\\u9662\\u5927\\u5b66\",\"\\u8eab\\u5ef6\\u5c71\\u5927\\u5b66\",\"\\u5c71\\u68a8\\u82f1\\u548c\\u5927\\u5b66\",\"\\u5065\\u5eb7\\u79d1\\u5b66\\u5927\\u5b66\",\"\\u677e\\u672c\\u6b6f\\u79d1\\u5927\\u5b66\",\"\\u677e\\u672c\\u5927\\u5b66\",\"\\u6e05\\u6cc9\\u5973\\u5b66\\u9662\\u5927\\u5b66\",\"\\u4f50\\u4e45\\u5927\\u5b66\",\"\\u9577\\u91ce\\u4fdd\\u5065\\u533b\\u7642\\u5927\\u5b66\",\"\\u677e\\u672c\\u770b\\u8b77\\u5927\\u5b66\",\"\\u4e2d\\u4eac\\u5b66\\u9662\\u5927\\u5b66\",\"\\u5c90\\u961c\\u5354\\u7acb\\u5927\\u5b66\",\"\\u5c90\\u961c\\u5973\\u5b50\\u5927\\u5b66\",\"\\u671d\\u65e5\\u5927\\u5b66\",\"\\u5c90\\u961c\\u8056\\u5fb3\\u5b66\\u5712\\u5927\\u5b66\",\"\\u6771\\u6d77\\u5b66\\u9662\\u5927\\u5b66\",\"\\u4e2d\\u90e8\\u5b66\\u9662\\u5927\\u5b66\",\"\\u5c90\\u961c\\u533b\\u7642\\u79d1\\u5b66\\u5927\\u5b66\",\"\\u5c90\\u961c\\u4fdd\\u5065\\u5927\\u5b66\",\"\\u5149\\u7523\\u696d\\u5275\\u6210\\u5927\\u5b66\\u9662\\u5927\\u5b66\",\"\\u9759\\u5ca1\\u798f\\u7949\\u5927\\u5b66\",\"\\u6d5c\\u677e\\u5b66\\u9662\\u5927\\u5b66\",\"\\u9759\\u5ca1\\u82f1\\u548c\\u5b66\\u9662\\u5927\\u5b66\",\"\\u5e38\\u8449\\u5927\\u5b66\",\"\\u9759\\u5ca1\\u7406\\u5de5\\u79d1\\u5927\\u5b66\",\"\\u8056\\u96b7\\u30af\\u30ea\\u30b9\\u30c8\\u30d5\\u30a1\\u30fc\\u5927\\u5b66\",\"\\u9759\\u5ca1\\u7523\\u696d\\u5927\\u5b66\",\"\\u611b\\u77e5\\u5de5\\u79d1\\u5927\\u5b66\",\"\\u540d\\u53e4\\u5c4b\\u7523\\u696d\\u5927\\u5b66\",\"\\u4eba\\u9593\\u74b0\\u5883\\u5927\\u5b66\",\"\\u540d\\u53e4\\u5c4b\\u6587\\u7406\\u5927\\u5b66\",\"\\u611b\\u77e5\\u307f\\u305a\\u307b\\u5927\\u5b66\",\"\\u611b\\u77e5\\u5b66\\u9662\\u5927\\u5b66\",\"\\u611b\\u77e5\\u5de5\\u696d\\u5927\\u5b66\",\"\\u91d1\\u57ce\\u5b66\\u9662\\u5927\\u5b66\",\"\\u6919\\u5c71\\u5973\\u5b66\\u5712\\u5927\\u5b66\",\"\\u5927\\u540c\\u5927\\u5b66\",\"\\u4e2d\\u4eac\\u5927\\u5b66\",\"\\u540c\\u670b\\u5927\\u5b66\",\"\\u540d\\u53e4\\u5c4b\\u5b66\\u9662\\u5927\\u5b66\",\"\\u540d\\u53e4\\u5c4b\\u5546\\u79d1\\u5927\\u5b66\",\"\\u540d\\u53e4\\u5c4b\\u5973\\u5b50\\u5927\\u5b66\",\"\\u5357\\u5c71\\u5927\\u5b66\",\"\\u65e5\\u672c\\u798f\\u7949\\u5927\\u5b66\",\"\\u540d\\u57ce\\u5927\\u5b66\",\"\\u540d\\u53e4\\u5c4b\\u97f3\\u697d\\u5927\\u5b66\",\"\\u8c4a\\u7530\\u5de5\\u696d\\u5927\\u5b66\",\"\\u540d\\u53e4\\u5c4b\\u5916\\u56fd\\u8a9e\\u5927\\u5b66\",\"\\u540d\\u53e4\\u5c4b\\u9020\\u5f62\\u5927\\u5b66\",\"\\u611b\\u77e5\\u7523\\u696d\\u5927\\u5b66\",\"\\u6771\\u6d77\\u5b66\\u5712\\u5927\\u5b66\",\"\\u8c4a\\u6a4b\\u5275\\u9020\\u5927\\u5b66\",\"\\u611b\\u77e5\\u6771\\u90a6\\u5927\\u5b66\",\"\\u661f\\u57ce\\u5927\\u5b66\",\"\\u611b\\u77e5\\u6587\\u6559\\u5927\\u5b66\",\"\\u685c\\u82b1\\u5b66\\u5712\\u5927\\u5b66\",\"\\u611b\\u77e5\\u5927\\u5b66\",\"\\u611b\\u77e5\\u5b66\\u6cc9\\u5927\\u5b66\",\"\\u81f3\\u5b66\\u9928\\u5927\\u5b66\",\"\\u4e2d\\u90e8\\u5927\\u5b66\",\"\\u85e4\\u7530\\u533b\\u79d1\\u5927\\u5b66\",\"\\u540d\\u53e4\\u5c4b\\u82b8\\u8853\\u5927\\u5b66\",\"\\u611b\\u77e5\\u533b\\u79d1\\u5927\\u5b66\",\"\\u611b\\u77e5\\u6dd1\\u5fb3\\u5927\\u5b66\",\"\\u540d\\u53e4\\u5c4b\\u7d4c\\u6e08\\u5927\\u5b66\",\"\\u540d\\u53e4\\u5c4b\\u5b66\\u82b8\\u5927\\u5b66\",\"\\u65e5\\u672c\\u8d64\\u5341\\u5b57\\u8c4a\\u7530\\u770b\\u8b77\\u5927\\u5b66\",\"\\u4fee\\u6587\\u5927\\u5b66\",\"\\u5ca1\\u5d0e\\u5973\\u5b50\\u5927\\u5b66\",\"\\u4e00\\u5bae\\u7814\\u4f38\\u5927\\u5b66\",\"\\u540d\\u53e4\\u5c4b\\u67f3\\u57ce\\u5973\\u5b50\\u5927\\u5b66\",\"\\u540d\\u53e4\\u5c4b\\u56fd\\u969b\\u5de5\\u79d1\\u5c02\\u9580\\u8077\\u5927\\u5b66\",\"\\u56db\\u65e5\\u5e02\\u5927\\u5b66\",\"\\u7687\\u5b78\\u9928\\u5927\\u5b66\",\"\\u9234\\u9e7f\\u533b\\u7642\\u79d1\\u5b66\\u5927\\u5b66\",\"\\u9234\\u9e7f\\u5927\\u5b66\",\"\\u56db\\u65e5\\u5e02\\u770b\\u8b77\\u533b\\u7642\\u5927\\u5b66\",\"\\u6210\\u5b89\\u9020\\u5f62\\u5927\\u5b66\",\"\\u8056\\u6cc9\\u5927\\u5b66\",\"\\u9577\\u6d5c\\u30d0\\u30a4\\u30aa\\u5927\\u5b66\",\"\\u3073\\u308f\\u3053\\u6210\\u8e4a\\u30b9\\u30dd\\u30fc\\u30c4\\u5927\\u5b66\",\"\\u3073\\u308f\\u3053\\u5b66\\u9662\\u5927\\u5b66\",\"\\u3073\\u308f\\u3053\\u30ea\\u30cf\\u30d3\\u30ea\\u30c6\\u30fc\\u30b7\\u30e7\\u30f3\\u5c02\\u9580\\u8077\\u5927\\u5b66\",\"\\u5e73\\u5b89\\u5973\\u5b66\\u9662\\u5927\\u5b66\",\"\\u5927\\u8c37\\u5927\\u5b66\",\"\\u4eac\\u90fd\\u5916\\u56fd\\u8a9e\\u5927\\u5b66\",\"\\u4eac\\u90fd\\u7523\\u696d\\u5927\\u5b66\",\"\\u4eac\\u90fd\\u5973\\u5b50\\u5927\\u5b66\",\"\\u4eac\\u90fd\\u85ac\\u79d1\\u5927\\u5b66\",\"\\u4eac\\u90fd\\u5149\\u83ef\\u5973\\u5b50\\u5927\\u5b66\",\"\\u7a2e\\u667a\\u9662\\u5927\\u5b66\",\"\\u4eac\\u90fd\\u6a58\\u5927\\u5b66\",\"\\u540c\\u5fd7\\u793e\\u5927\\u5b66\",\"\\u540c\\u5fd7\\u793e\\u5973\\u5b50\\u5927\\u5b66\",\"\\u4eac\\u90fd\\u30ce\\u30fc\\u30c8\\u30eb\\u30c0\\u30e0\\u5973\\u5b50\\u5927\\u5b66\",\"\\u82b1\\u5712\\u5927\\u5b66\",\"\\u4f5b\\u6559\\u5927\\u5b66\",\"\\u7acb\\u547d\\u9928\\u5927\\u5b66\",\"\\u9f8d\\u8c37\\u5927\\u5b66\",\"\\u4eac\\u90fd\\u5148\\u7aef\\u79d1\\u5b66\\u5927\\u5b66\",\"\\u4eac\\u90fd\\u7cbe\\u83ef\\u5927\\u5b66\",\"\\u660e\\u6cbb\\u56fd\\u969b\\u533b\\u7642\\u5927\\u5b66\",\"\\u4eac\\u90fd\\u82b8\\u8853\\u5927\\u5b66\",\"\\u4eac\\u90fd\\u6587\\u6559\\u5927\\u5b66\",\"\\u5d6f\\u5ce8\\u7f8e\\u8853\\u5927\\u5b66\",\"\\u4eac\\u90fd\\u60c5\\u5831\\u5927\\u5b66\\u9662\\u5927\\u5b66\",\"\\u4eac\\u90fd\\u533b\\u7642\\u79d1\\u5b66\\u5927\\u5b66\",\"\\u4eac\\u90fd\\u83ef\\u9802\\u5927\\u5b66\",\"\\u4eac\\u90fd\\u7f8e\\u8853\\u5de5\\u82b8\\u5927\\u5b66\",\"\\u4eac\\u90fd\\u770b\\u8b77\\u5927\\u5b66\",\"\\u5927\\u962a\\u7d4c\\u6e08\\u5927\\u5b66\",\"\\u5927\\u962a\\u5de5\\u696d\\u5927\\u5b66\",\"\\u5927\\u962a\\u6b6f\\u79d1\\u5927\\u5b66\",\"\\u76f8\\u611b\\u5927\\u5b66\",\"\\u6843\\u5c71\\u5b66\\u9662\\u5927\\u5b66\",\"\\u6442\\u5357\\u5927\\u5b66\",\"\\u6843\\u5c71\\u5b66\\u9662\\u6559\\u80b2\\u5927\\u5b66\",\"\\u5927\\u962a\\u533b\\u79d1\\u85ac\\u79d1\\u5927\\u5b66\",\"\\u5927\\u962a\\u97f3\\u697d\\u5927\\u5b66\",\"\\u5927\\u962a\\u5b66\\u9662\\u5927\\u5b66\",\"\\u5927\\u962a\\u82b8\\u8853\\u5927\\u5b66\",\"\\u5927\\u962a\\u7523\\u696d\\u5927\\u5b66\",\"\\u5927\\u962a\\u6a1f\\u852d\\u5973\\u5b50\\u5927\\u5b66\",\"\\u5927\\u962a\\u5546\\u696d\\u5927\\u5b66\",\"\\u5927\\u962a\\u4f53\\u80b2\\u5927\\u5b66\",\"\\u5927\\u962a\\u96fb\\u6c17\\u901a\\u4fe1\\u5927\\u5b66\",\"\\u5927\\u962a\\u5927\\u8c37\\u5927\\u5b66\",\"\\u8ffd\\u624b\\u9580\\u5b66\\u9662\\u5927\\u5b66\",\"\\u95a2\\u897f\\u5927\\u5b66\",\"\\u95a2\\u897f\\u533b\\u79d1\\u5927\\u5b66\",\"\\u95a2\\u897f\\u5916\\u56fd\\u8a9e\\u5927\\u5b66\",\"\\u8fd1\\u757f\\u5927\\u5b66\",\"\\u56db\\u5929\\u738b\\u5bfa\\u5927\\u5b66\",\"\\u5e1d\\u585a\\u5c71\\u5b66\\u9662\\u5927\\u5b66\",\"\\u6885\\u82b1\\u5973\\u5b50\\u5927\\u5b66\",\"\\u962a\\u5357\\u5927\\u5b66\",\"\\u5927\\u962a\\u7d4c\\u6e08\\u6cd5\\u79d1\\u5927\\u5b66\",\"\\u5927\\u962a\\u56fd\\u969b\\u5927\\u5b66\",\"\\u95a2\\u897f\\u798f\\u7949\\u79d1\\u5b66\\u5927\\u5b66\",\"\\u592a\\u6210\\u5b66\\u9662\\u5927\\u5b66\",\"\\u5e38\\u78d0\\u4f1a\\u5b66\\u5712\\u5927\\u5b66\",\"\\u5927\\u962a\\u89b3\\u5149\\u5927\\u5b66\",\"\\u5927\\u962a\\u4eba\\u9593\\u79d1\\u5b66\\u5927\\u5b66\",\"\\u7fbd\\u8863\\u56fd\\u969b\\u5927\\u5b66\",\"\\u5927\\u962a\\u6210\\u8e4a\\u5927\\u5b66\",\"\\u95a2\\u897f\\u533b\\u7642\\u5927\\u5b66\",\"\\u5343\\u91cc\\u91d1\\u862d\\u5927\\u5b66\",\"\\u6771\\u5927\\u962a\\u5927\\u5b66\",\"\\u5927\\u962a\\u5973\\u5b66\\u9662\\u5927\\u5b66\",\"\\u85cd\\u91ce\\u5927\\u5b66\",\"\\u5927\\u962a\\u9752\\u5c71\\u5927\\u5b66\",\"\\u56db\\u689d\\u7577\\u5b66\\u5712\\u5927\\u5b66\",\"\\u5927\\u962a\\u6cb3\\u5d0e\\u30ea\\u30cf\\u30d3\\u30ea\\u30c6\\u30fc\\u30b7\\u30e7\\u30f3\\u5927\\u5b66\",\"\\u5927\\u962a\\u7dcf\\u5408\\u4fdd\\u80b2\\u5927\\u5b66\",\"\\u68ee\\u30ce\\u5bae\\u533b\\u7642\\u5927\\u5b66\",\"\\u5927\\u962a\\u4fdd\\u5065\\u533b\\u7642\\u5927\\u5b66\",\"\\u5927\\u962a\\u7269\\u7642\\u5927\\u5b66\",\"\\u6ecb\\u6176\\u533b\\u7642\\u79d1\\u5b66\\u5927\\u5b66\",\"\\u5927\\u962a\\u884c\\u5ca1\\u533b\\u7642\\u5927\\u5b66\",\"\\u5927\\u548c\\u5927\\u5b66\",\"\\u5b9d\\u585a\\u5927\\u5b66\",\"\\u5927\\u962a\\u56fd\\u969b\\u5de5\\u79d1\\u5c02\\u9580\\u8077\\u5927\\u5b66\",\"\\u7532\\u5357\\u5927\\u5b66\",\"\\u7532\\u5357\\u5973\\u5b50\\u5927\\u5b66\",\"\\u795e\\u6238\\u6d77\\u661f\\u5973\\u5b50\\u5b66\\u9662\\u5927\\u5b66\",\"\\u795e\\u6238\\u5b66\\u9662\\u5927\\u5b66\",\"\\u795e\\u6238\\u5973\\u5b50\\u5927\\u5b66\",\"\\u795e\\u6238\\u85ac\\u79d1\\u5927\\u5b66\",\"\\u795e\\u6238\\u677e\\u852d\\u5973\\u5b50\\u5b66\\u9662\\u5927\\u5b66\",\"\\u795e\\u6238\\u89aa\\u548c\\u5973\\u5b50\\u5927\\u5b66\",\"\\u795e\\u6238\\u56fd\\u969b\\u5927\\u5b66\",\"\\u5175\\u5eab\\u5927\\u5b66\",\"\\u795e\\u6238\\u5e38\\u76e4\\u5927\\u5b66\",\"\\u5b9d\\u585a\\u533b\\u7642\\u5927\\u5b66\",\"\\u82a6\\u5c4b\\u5927\\u5b66\",\"\\u5927\\u624b\\u524d\\u5927\\u5b66\",\"\\u95a2\\u897f\\u5b66\\u9662\\u5927\\u5b66\",\"\\u7532\\u5b50\\u5712\\u5927\\u5b66\",\"\\u795e\\u6238\\u5973\\u5b66\\u9662\\u5927\\u5b66\",\"\\u5712\\u7530\\u5b66\\u5712\\u5973\\u5b50\\u5927\\u5b66\",\"\\u6b66\\u5eab\\u5ddd\\u5973\\u5b50\\u5927\\u5b66\",\"\\u5175\\u5eab\\u533b\\u79d1\\u5927\\u5b66\",\"\\u59eb\\u8def\\u7368\\u5354\\u5927\\u5b66\",\"\\u6d41\\u901a\\u79d1\\u5b66\\u5927\\u5b66\",\"\\u795e\\u6238\\u82b8\\u8853\\u5de5\\u79d1\\u5927\\u5b66\",\"\\u95a2\\u897f\\u798f\\u7949\\u5927\\u5b66\",\"\\u95a2\\u897f\\u56fd\\u969b\\u5927\\u5b66\",\"\\u795e\\u6238\\u533b\\u7642\\u672a\\u6765\\u5927\\u5b66\",\"\\u795e\\u6238\\u60c5\\u5831\\u5927\\u5b66\\u9662\\u5927\\u5b66\",\"\\u95a2\\u897f\\u770b\\u8b77\\u533b\\u7642\\u5927\\u5b66\",\"\\u5175\\u5eab\\u533b\\u7642\\u5927\\u5b66\",\"\\u59eb\\u8def\\u5927\\u5b66\",\"\\u5e1d\\u585a\\u5c71\\u5927\\u5b66\",\"\\u5929\\u7406\\u5927\\u5b66\",\"\\u5948\\u826f\\u5927\\u5b66\",\"\\u5948\\u826f\\u5b66\\u5712\\u5927\\u5b66\",\"\\u757f\\u592e\\u5927\\u5b66\",\"\\u5929\\u7406\\u533b\\u7642\\u5927\\u5b66\",\"\\u9ad8\\u91ce\\u5c71\\u5927\\u5b66\",\"\\u548c\\u6b4c\\u5c71\\u4fe1\\u611b\\u5927\\u5b66\",\"\\u548c\\u6b4c\\u5c71\\u30ea\\u30cf\\u30d3\\u30ea\\u30c6\\u30fc\\u30b7\\u30e7\\u30f3\\u5c02\\u9580\\u8077\\u5927\\u5b66\",\"\\u9ce5\\u53d6\\u770b\\u8b77\\u5927\\u5b66\",\"\\u5409\\u5099\\u56fd\\u969b\\u5927\\u5b66\",\"\\u5ca1\\u5c71\\u5546\\u79d1\\u5927\\u5b66\",\"\\u5ca1\\u5c71\\u7406\\u79d1\\u5927\\u5b66\",\"\\u304f\\u3089\\u3057\\u304d\\u4f5c\\u967d\\u5927\\u5b66\",\"\\u30ce\\u30fc\\u30c8\\u30eb\\u30c0\\u30e0\\u6e05\\u5fc3\\u5973\\u5b50\\u5927\\u5b66\",\"\\u5ddd\\u5d0e\\u533b\\u79d1\\u5927\\u5b66\",\"\\u5c31\\u5b9f\\u5927\\u5b66\",\"\\u5ddd\\u5d0e\\u533b\\u7642\\u798f\\u7949\\u5927\\u5b66\",\"\\u5c71\\u967d\\u5b66\\u5712\\u5927\\u5b66\",\"\\u5009\\u6577\\u82b8\\u8853\\u79d1\\u5b66\\u5927\\u5b66\",\"\\u5ca1\\u5c71\\u5b66\\u9662\\u5927\\u5b66\",\"\\u4e2d\\u56fd\\u5b66\\u5712\\u5927\\u5b66\",\"\\u74b0\\u592a\\u5e73\\u6d0b\\u5927\\u5b66\",\"\\u5ca1\\u5c71\\u533b\\u7642\\u5c02\\u9580\\u8077\\u5927\\u5b66\",\"\\u7f8e\\u4f5c\\u5927\\u5b66\",\"\\u30a8\\u30ea\\u30b6\\u30d9\\u30c8\\u97f3\\u697d\\u5927\\u5b66\",\"\\u5e83\\u5cf6\\u7d4c\\u6e08\\u5927\\u5b66\",\"\\u5e83\\u5cf6\\u5de5\\u696d\\u5927\\u5b66\",\"\\u5e83\\u5cf6\\u4fee\\u9053\\u5927\\u5b66\",\"\\u5e83\\u5cf6\\u5973\\u5b66\\u9662\\u5927\\u5b66\",\"\\u5e83\\u5cf6\\u56fd\\u969b\\u5b66\\u9662\\u5927\\u5b66\",\"\\u5e83\\u5cf6\\u6587\\u6559\\u5927\\u5b66\",\"\\u5b89\\u7530\\u5973\\u5b50\\u5927\\u5b66\",\"\\u798f\\u5c71\\u5927\\u5b66\",\"\\u6bd4\\u6cbb\\u5c71\\u5927\\u5b66\",\"\\u798f\\u5c71\\u5e73\\u6210\\u5927\\u5b66\",\"\\u5e83\\u5cf6\\u6587\\u5316\\u5b66\\u5712\\u5927\\u5b66\",\"\\u5e83\\u5cf6\\u56fd\\u969b\\u5927\\u5b66\",\"\\u65e5\\u672c\\u8d64\\u5341\\u5b57\\u5e83\\u5cf6\\u770b\\u8b77\\u5927\\u5b66\",\"\\u5e83\\u5cf6\\u90fd\\u5e02\\u5b66\\u5712\\u5927\\u5b66\",\"\\u6885\\u5149\\u5b66\\u9662\\u5927\\u5b66\",\"\\u6771\\u4e9c\\u5927\\u5b66\",\"\\u81f3\\u8aa0\\u9928\\u5927\\u5b66\",\"\\u5b87\\u90e8\\u30d5\\u30ed\\u30f3\\u30c6\\u30a3\\u30a2\\u5927\\u5b66\",\"\\u5c71\\u53e3\\u5b66\\u82b8\\u5927\\u5b66\",\"\\u56db\\u56fd\\u5927\\u5b66\",\"\\u5fb3\\u5cf6\\u6587\\u7406\\u5927\\u5b66\",\"\\u56db\\u56fd\\u5b66\\u9662\\u5927\\u5b66\",\"\\u9ad8\\u677e\\u5927\\u5b66\",\"\\u677e\\u5c71\\u5927\\u5b66\",\"\\u8056\\u30ab\\u30bf\\u30ea\\u30ca\\u5927\\u5b66\",\"\\u677e\\u5c71\\u6771\\u96f2\\u5973\\u5b50\\u5927\\u5b66\",\"\\u9ad8\\u77e5\\u30ea\\u30cf\\u30d3\\u30ea\\u30c6\\u30fc\\u30b7\\u30e7\\u30f3\\u5c02\\u9580\\u8077\\u5927\\u5b66\",\"\\u9ad8\\u77e5\\u5b66\\u5712\\u5927\\u5b66\",\"\\u4e5d\\u5dde\\u5171\\u7acb\\u5927\\u5b66\",\"\\u4e5d\\u5dde\\u5973\\u5b50\\u5927\\u5b66\",\"\\u4e5d\\u5dde\\u56fd\\u969b\\u5927\\u5b66\",\"\\u798f\\u5ca1\\u6b6f\\u79d1\\u5927\\u5b66\",\"\\u4e5d\\u5dde\\u7523\\u696d\\u5927\\u5b66\",\"\\u4e45\\u7559\\u7c73\\u5927\\u5b66\",\"\\u897f\\u5357\\u5b66\\u9662\\u5927\\u5b66\",\"\\u7b2c\\u4e00\\u85ac\\u79d1\\u5927\\u5b66\",\"\\u4e2d\\u6751\\u5b66\\u5712\\u5927\\u5b66\",\"\\u897f\\u65e5\\u672c\\u5de5\\u696d\\u5927\\u5b66\",\"\\u798f\\u5ca1\\u5927\\u5b66\",\"\\u798f\\u5ca1\\u5de5\\u696d\\u5927\\u5b66\",\"\\u65e5\\u672c\\u7d4c\\u6e08\\u5927\\u5b66\",\"\\u4e45\\u7559\\u7c73\\u5de5\\u696d\\u5927\\u5b66\",\"\\u7523\\u696d\\u533b\\u79d1\\u5927\\u5b66\",\"\\u7b51\\u7d2b\\u5973\\u5b66\\u5712\\u5927\\u5b66\",\"\\u798f\\u5ca1\\u5973\\u5b66\\u9662\\u5927\\u5b66\",\"\\u897f\\u5357\\u5973\\u5b66\\u9662\\u5927\\u5b66\",\"\\u4e5d\\u5dde\\u60c5\\u5831\\u5927\\u5b66\",\"\\u4e5d\\u5dde\\u6804\\u990a\\u798f\\u7949\\u5927\\u5b66\",\"\\u65e5\\u672c\\u8d64\\u5341\\u5b57\\u4e5d\\u5dde\\u56fd\\u969b\\u770b\\u8b77\\u5927\\u5b66\",\"\\u8056\\u30de\\u30ea\\u30a2\\u5b66\\u9662\\u5927\\u5b66\",\"\\u30b5\\u30a4\\u30d0\\u30fc\\u5927\\u5b66\",\"\\u798f\\u5ca1\\u5973\\u5b66\\u9662\\u770b\\u8b77\\u5927\\u5b66\",\"\\u4fdd\\u5065\\u533b\\u7642\\u7d4c\\u55b6\\u5927\\u5b66\",\"\\u7d14\\u771f\\u5b66\\u5712\\u5927\\u5b66\",\"\\u798f\\u5ca1\\u770b\\u8b77\\u5927\\u5b66\",\"\\u798f\\u5ca1\\u56fd\\u969b\\u533b\\u7642\\u798f\\u7949\\u5927\\u5b66\",\"\\u897f\\u4e5d\\u5dde\\u5927\\u5b66\",\"\\u9577\\u5d0e\\u7dcf\\u5408\\u79d1\\u5b66\\u5927\\u5b66\",\"\\u6d3b\\u6c34\\u5973\\u5b50\\u5927\\u5b66\",\"\\u9577\\u5d0e\\u7d14\\u5fc3\\u5927\\u5b66\",\"\\u9577\\u5d0e\\u56fd\\u969b\\u5927\\u5b66\",\"\\u9577\\u5d0e\\u5916\\u56fd\\u8a9e\\u5927\\u5b66\",\"\\u93ae\\u897f\\u5b66\\u9662\\u5927\\u5b66\",\"\\u5d07\\u57ce\\u5927\\u5b66\",\"\\u718a\\u672c\\u5b66\\u5712\\u5927\\u5b66\",\"\\u5c1a\\u7d45\\u5927\\u5b66\",\"\\u4e5d\\u5dde\\u30eb\\u30fc\\u30c6\\u30eb\\u5b66\\u9662\\u5927\\u5b66\",\"\\u4e5d\\u5dde\\u770b\\u8b77\\u798f\\u7949\\u5927\\u5b66\",\"\\u5e73\\u6210\\u97f3\\u697d\\u5927\\u5b66\",\"\\u718a\\u672c\\u4fdd\\u5065\\u79d1\\u5b66\\u5927\\u5b66\",\"\\u65e5\\u672c\\u6587\\u7406\\u5927\\u5b66\",\"\\u5225\\u5e9c\\u5927\\u5b66\",\"\\u7acb\\u547d\\u9928\\u30a2\\u30b8\\u30a2\\u592a\\u5e73\\u6d0b\\u5927\\u5b66\",\"\\u5357\\u4e5d\\u5dde\\u5927\\u5b66\",\"\\u5bae\\u5d0e\\u7523\\u696d\\u7d4c\\u55b6\\u5927\\u5b66\",\"\\u5bae\\u5d0e\\u56fd\\u969b\\u5927\\u5b66\",\"\\u4e5d\\u5dde\\u4fdd\\u5065\\u798f\\u7949\\u5927\\u5b66\",\"\\u9e7f\\u5150\\u5cf6\\u56fd\\u969b\\u5927\\u5b66\",\"\\u7b2c\\u4e00\\u5de5\\u79d1\\u5927\\u5b66\",\"\\u5fd7\\u5b78\\u9928\\u5927\\u5b66\",\"\\u9e7f\\u5150\\u5cf6\\u7d14\\u5fc3\\u5973\\u5b50\\u5927\\u5b66\",\"\\u6c96\\u7e04\\u79d1\\u5b66\\u6280\\u8853\\u5927\\u5b66\\u9662\\u5927\\u5b66\",\"\\u6c96\\u7e04\\u56fd\\u969b\\u5927\\u5b66\",\"\\u6c96\\u7e04\\u5927\\u5b66\",\"\\u6c96\\u7e04\\u30ad\\u30ea\\u30b9\\u30c8\\u6559\\u5b66\\u9662\\u5927\\u5b66\",\"\\u30a2\\u30fc\\u30eb\\u533b\\u7642\\u5c02\\u9580\\u8077\\u5927\\u5b66\",\"\\u5927\\u962a\\u4fe1\\u611b\\u5b66\\u9662\\u5927\\u5b66\",\"\\u4ee4\\u548c\\u5065\\u5eb7\\u79d1\\u5b66\\u5927\\u5b66\"]],[\"type_jp\",[\"\\u79c1\\u7acb\",\"\\u79c1\\u7acb\",\"\\u79c1\\u7acb\",\"\\u79c1\\u7acb\",\"\\u79c1\\u7acb\",\"\\u79c1\\u7acb\",\"\\u79c1\\u7acb\",\"\\u79c1\\u7acb\",\"\\u79c1\\u7acb\",\"\\u79c1\\u7acb\",\"\\u79c1\\u7acb\",\"\\u79c1\\u7acb\",\"\\u79c1\\u7acb\",\"\\u79c1\\u7acb\",\"\\u79c1\\u7acb\",\"\\u79c1\\u7acb\",\"\\u79c1\\u7acb\",\"\\u79c1\\u7acb\",\"\\u79c1\\u7acb\",\"\\u79c1\\u7acb\",\"\\u79c1\\u7acb\",\"\\u79c1\\u7acb\",\"\\u79c1\\u7acb\",\"\\u79c1\\u7acb\",\"\\u79c1\\u7acb\",\"\\u79c1\\u7acb\",\"\\u79c1\\u7acb\",\"\\u79c1\\u7acb\",\"\\u79c1\\u7acb\",\"\\u79c1\\u7acb\",\"\\u79c1\\u7acb\",\"\\u79c1\\u7acb\",\"\\u79c1\\u7acb\",\"\\u79c1\\u7acb\",\"\\u79c1\\u7acb\",\"\\u79c1\\u7acb\",\"\\u79c1\\u7acb\",\"\\u79c1\\u7acb\",\"\\u79c1\\u7acb\",\"\\u79c1\\u7acb\",\"\\u79c1\\u7acb\",\"\\u79c1\\u7acb\",\"\\u79c1\\u7acb\",\"\\u79c1\\u7acb\",\"\\u79c1\\u7acb\",\"\\u79c1\\u7acb\",\"\\u79c1\\u7acb\",\"\\u79c1\\u7acb\",\"\\u79c1\\u7acb\",\"\\u79c1\\u7acb\",\"\\u79c1\\u7acb\",\"\\u79c1\\u7acb\",\"\\u79c1\\u7acb\",\"\\u79c1\\u7acb\",\"\\u79c1\\u7acb\",\"\\u79c1\\u7acb\",\"\\u79c1\\u7acb\",\"\\u79c1\\u7acb\",\"\\u79c1\\u7acb\",\"\\u79c1\\u7acb\",\"\\u79c1\\u7acb\",\"\\u79c1\\u7acb\",\"\\u79c1\\u7acb\",\"\\u79c1\\u7acb\",\"\\u79c1\\u7acb\",\"\\u79c1\\u7acb\",\"\\u79c1\\u7acb\",\"\\u79c1\\u7acb\",\"\\u79c1\\u7acb\",\"\\u79c1\\u7acb\",\"\\u79c1\\u7acb\",\"\\u79c1\\u7acb\",\"\\u79c1\\u7acb\",\"\\u79c1\\u7acb\",\"\\u79c1\\u7acb\",\"\\u79c1\\u7acb\",\"\\u79c1\\u7acb\",\"\\u79c1\\u7acb\",\"\\u79c1\\u7acb\",\"\\u79c1\\u7acb\",\"\\u79c1\\u7acb\",\"\\u79c1\\u7acb\",\"\\u79c1\\u7acb\",\"\\u79c1\\u7acb\",\"\\u79c1\\u7acb\",\"\\u79c1\\u7acb\",\"\\u79c1\\u7acb\",\"\\u79c1\\u7acb\",\"\\u79c1\\u7acb\",\"\\u79c1\\u7acb\",\"\\u79c1\\u7acb\",\"\\u79c1\\u7acb\",\"\\u79c1\\u7acb\",\"\\u79c1\\u7acb\",\"\\u79c1\\u7acb\",\"\\u79c1\\u7acb\",\"\\u79c1\\u7acb\",\"\\u79c1\\u7acb\",\"\\u79c1\\u7acb\",\"\\u79c1\\u7acb\",\"\\u79c1\\u7acb\",\"\\u79c1\\u7acb\",\"\\u79c1\\u7acb\",\"\\u79c1\\u7acb\",\"\\u79c1\\u7acb\",\"\\u79c1\\u7acb\",\"\\u79c1\\u7acb\",\"\\u79c1\\u7acb\",\"\\u79c1\\u7acb\",\"\\u79c1\\u7acb\",\"\\u79c1\\u7acb\",\"\\u79c1\\u7acb\",\"\\u79c1\\u7acb\",\"\\u79c1\\u7acb\",\"\\u79c1\\u7acb\",\"\\u79c1\\u7acb\",\"\\u79c1\\u7acb\",\"\\u79c1\\u7acb\",\"\\u79c1\\u7acb\",\"\\u79c1\\u7acb\",\"\\u79c1\\u7acb\",\"\\u79c1\\u7acb\",\"\\u79c1\\u7acb\",\"\\u79c1\\u7acb\",\"\\u79c1\\u7acb\",\"\\u79c1\\u7acb\",\"\\u79c1\\u7acb\",\"\\u79c1\\u7acb\",\"\\u79c1\\u7acb\",\"\\u79c1\\u7acb\",\"\\u79c1\\u7acb\",\"\\u79c1\\u7acb\",\"\\u79c1\\u7acb\",\"\\u79c1\\u7acb\",\"\\u79c1\\u7acb\",\"\\u79c1\\u7acb\",\"\\u79c1\\u7acb\",\"\\u79c1\\u7acb\",\"\\u79c1\\u7acb\",\"\\u79c1\\u7acb\",\"\\u79c1\\u7acb\",\"\\u79c1\\u7acb\",\"\\u79c1\\u7acb\",\"\\u79c1\\u7acb\",\"\\u79c1\\u7acb\",\"\\u79c1\\u7acb\",\"\\u79c1\\u7acb\",\"\\u79c1\\u7acb\",\"\\u79c1\\u7acb\",\"\\u79c1\\u7acb\",\"\\u79c1\\u7acb\",\"\\u79c1\\u7acb\",\"\\u79c1\\u7acb\",\"\\u79c1\\u7acb\",\"\\u79c1\\u7acb\",\"\\u79c1\\u7acb\",\"\\u79c1\\u7acb\",\"\\u79c1\\u7acb\",\"\\u79c1\\u7acb\",\"\\u79c1\\u7acb\",\"\\u79c1\\u7acb\",\"\\u79c1\\u7acb\",\"\\u79c1\\u7acb\",\"\\u79c1\\u7acb\",\"\\u79c1\\u7acb\",\"\\u79c1\\u7acb\",\"\\u79c1\\u7acb\",\"\\u79c1\\u7acb\",\"\\u79c1\\u7acb\",\"\\u79c1\\u7acb\",\"\\u79c1\\u7acb\",\"\\u79c1\\u7acb\",\"\\u79c1\\u7acb\",\"\\u79c1\\u7acb\",\"\\u79c1\\u7acb\",\"\\u79c1\\u7acb\",\"\\u79c1\\u7acb\",\"\\u79c1\\u7acb\",\"\\u79c1\\u7acb\",\"\\u79c1\\u7acb\",\"\\u79c1\\u7acb\",\"\\u79c1\\u7acb\",\"\\u79c1\\u7acb\",\"\\u79c1\\u7acb\",\"\\u79c1\\u7acb\",\"\\u79c1\\u7acb\",\"\\u79c1\\u7acb\",\"\\u79c1\\u7acb\",\"\\u79c1\\u7acb\",\"\\u79c1\\u7acb\",\"\\u79c1\\u7acb\",\"\\u79c1\\u7acb\",\"\\u79c1\\u7acb\",\"\\u79c1\\u7acb\",\"\\u79c1\\u7acb\",\"\\u79c1\\u7acb\",\"\\u79c1\\u7acb\",\"\\u79c1\\u7acb\",\"\\u79c1\\u7acb\",\"\\u79c1\\u7acb\",\"\\u79c1\\u7acb\",\"\\u79c1\\u7acb\",\"\\u79c1\\u7acb\",\"\\u79c1\\u7acb\",\"\\u79c1\\u7acb\",\"\\u79c1\\u7acb\",\"\\u79c1\\u7acb\",\"\\u79c1\\u7acb\",\"\\u79c1\\u7acb\",\"\\u79c1\\u7acb\",\"\\u79c1\\u7acb\",\"\\u79c1\\u7acb\",\"\\u79c1\\u7acb\",\"\\u79c1\\u7acb\",\"\\u79c1\\u7acb\",\"\\u79c1\\u7acb\",\"\\u79c1\\u7acb\",\"\\u79c1\\u7acb\",\"\\u79c1\\u7acb\",\"\\u79c1\\u7acb\",\"\\u79c1\\u7acb\",\"\\u79c1\\u7acb\",\"\\u79c1\\u7acb\",\"\\u79c1\\u7acb\",\"\\u79c1\\u7acb\",\"\\u79c1\\u7acb\",\"\\u79c1\\u7acb\",\"\\u79c1\\u7acb\",\"\\u79c1\\u7acb\",\"\\u79c1\\u7acb\",\"\\u79c1\\u7acb\",\"\\u79c1\\u7acb\",\"\\u79c1\\u7acb\",\"\\u79c1\\u7acb\",\"\\u79c1\\u7acb\",\"\\u79c1\\u7acb\",\"\\u79c1\\u7acb\",\"\\u79c1\\u7acb\",\"\\u79c1\\u7acb\",\"\\u79c1\\u7acb\",\"\\u79c1\\u7acb\",\"\\u79c1\\u7acb\",\"\\u79c1\\u7acb\",\"\\u79c1\\u7acb\",\"\\u79c1\\u7acb\",\"\\u79c1\\u7acb\",\"\\u79c1\\u7acb\",\"\\u79c1\\u7acb\",\"\\u79c1\\u7acb\",\"\\u79c1\\u7acb\",\"\\u79c1\\u7acb\",\"\\u79c1\\u7acb\",\"\\u79c1\\u7acb\",\"\\u79c1\\u7acb\",\"\\u79c1\\u7acb\",\"\\u79c1\\u7acb\",\"\\u79c1\\u7acb\",\"\\u79c1\\u7acb\",\"\\u79c1\\u7acb\",\"\\u79c1\\u7acb\",\"\\u79c1\\u7acb\",\"\\u79c1\\u7acb\",\"\\u79c1\\u7acb\",\"\\u79c1\\u7acb\",\"\\u79c1\\u7acb\",\"\\u79c1\\u7acb\",\"\\u79c1\\u7acb\",\"\\u79c1\\u7acb\",\"\\u79c1\\u7acb\",\"\\u79c1\\u7acb\",\"\\u79c1\\u7acb\",\"\\u79c1\\u7acb\",\"\\u79c1\\u7acb\",\"\\u79c1\\u7acb\",\"\\u79c1\\u7acb\",\"\\u79c1\\u7acb\",\"\\u79c1\\u7acb\",\"\\u79c1\\u7acb\",\"\\u79c1\\u7acb\",\"\\u79c1\\u7acb\",\"\\u79c1\\u7acb\",\"\\u79c1\\u7acb\",\"\\u79c1\\u7acb\",\"\\u79c1\\u7acb\",\"\\u79c1\\u7acb\",\"\\u79c1\\u7acb\",\"\\u79c1\\u7acb\",\"\\u79c1\\u7acb\",\"\\u79c1\\u7acb\",\"\\u79c1\\u7acb\",\"\\u79c1\\u7acb\",\"\\u79c1\\u7acb\",\"\\u79c1\\u7acb\",\"\\u79c1\\u7acb\",\"\\u79c1\\u7acb\",\"\\u79c1\\u7acb\",\"\\u79c1\\u7acb\",\"\\u79c1\\u7acb\",\"\\u79c1\\u7acb\",\"\\u79c1\\u7acb\",\"\\u79c1\\u7acb\",\"\\u79c1\\u7acb\",\"\\u79c1\\u7acb\",\"\\u79c1\\u7acb\",\"\\u79c1\\u7acb\",\"\\u79c1\\u7acb\",\"\\u79c1\\u7acb\",\"\\u79c1\\u7acb\",\"\\u79c1\\u7acb\",\"\\u79c1\\u7acb\",\"\\u79c1\\u7acb\",\"\\u79c1\\u7acb\",\"\\u79c1\\u7acb\",\"\\u79c1\\u7acb\",\"\\u79c1\\u7acb\",\"\\u79c1\\u7acb\",\"\\u79c1\\u7acb\",\"\\u79c1\\u7acb\",\"\\u79c1\\u7acb\",\"\\u79c1\\u7acb\",\"\\u79c1\\u7acb\",\"\\u79c1\\u7acb\",\"\\u79c1\\u7acb\",\"\\u79c1\\u7acb\",\"\\u79c1\\u7acb\",\"\\u79c1\\u7acb\",\"\\u79c1\\u7acb\",\"\\u79c1\\u7acb\",\"\\u79c1\\u7acb\",\"\\u79c1\\u7acb\",\"\\u79c1\\u7acb\",\"\\u79c1\\u7acb\",\"\\u79c1\\u7acb\",\"\\u79c1\\u7acb\",\"\\u79c1\\u7acb\",\"\\u79c1\\u7acb\",\"\\u79c1\\u7acb\",\"\\u79c1\\u7acb\",\"\\u79c1\\u7acb\",\"\\u79c1\\u7acb\",\"\\u79c1\\u7acb\",\"\\u79c1\\u7acb\",\"\\u79c1\\u7acb\",\"\\u79c1\\u7acb\",\"\\u79c1\\u7acb\",\"\\u79c1\\u7acb\",\"\\u79c1\\u7acb\",\"\\u79c1\\u7acb\",\"\\u79c1\\u7acb\",\"\\u79c1\\u7acb\",\"\\u79c1\\u7acb\",\"\\u79c1\\u7acb\",\"\\u79c1\\u7acb\",\"\\u79c1\\u7acb\",\"\\u79c1\\u7acb\",\"\\u79c1\\u7acb\",\"\\u79c1\\u7acb\",\"\\u79c1\\u7acb\",\"\\u79c1\\u7acb\",\"\\u79c1\\u7acb\",\"\\u79c1\\u7acb\",\"\\u79c1\\u7acb\",\"\\u79c1\\u7acb\",\"\\u79c1\\u7acb\",\"\\u79c1\\u7acb\",\"\\u79c1\\u7acb\",\"\\u79c1\\u7acb\",\"\\u79c1\\u7acb\",\"\\u79c1\\u7acb\",\"\\u79c1\\u7acb\",\"\\u79c1\\u7acb\",\"\\u79c1\\u7acb\",\"\\u79c1\\u7acb\",\"\\u79c1\\u7acb\",\"\\u79c1\\u7acb\",\"\\u79c1\\u7acb\",\"\\u79c1\\u7acb\",\"\\u79c1\\u7acb\",\"\\u79c1\\u7acb\",\"\\u79c1\\u7acb\",\"\\u79c1\\u7acb\",\"\\u79c1\\u7acb\",\"\\u79c1\\u7acb\",\"\\u79c1\\u7acb\",\"\\u79c1\\u7acb\",\"\\u79c1\\u7acb\",\"\\u79c1\\u7acb\",\"\\u79c1\\u7acb\",\"\\u79c1\\u7acb\",\"\\u79c1\\u7acb\",\"\\u79c1\\u7acb\",\"\\u79c1\\u7acb\",\"\\u79c1\\u7acb\",\"\\u79c1\\u7acb\",\"\\u79c1\\u7acb\",\"\\u79c1\\u7acb\",\"\\u79c1\\u7acb\",\"\\u79c1\\u7acb\",\"\\u79c1\\u7acb\",\"\\u79c1\\u7acb\",\"\\u79c1\\u7acb\",\"\\u79c1\\u7acb\",\"\\u79c1\\u7acb\",\"\\u79c1\\u7acb\",\"\\u79c1\\u7acb\",\"\\u79c1\\u7acb\",\"\\u79c1\\u7acb\",\"\\u79c1\\u7acb\",\"\\u79c1\\u7acb\",\"\\u79c1\\u7acb\",\"\\u79c1\\u7acb\",\"\\u79c1\\u7acb\",\"\\u79c1\\u7acb\",\"\\u79c1\\u7acb\",\"\\u79c1\\u7acb\",\"\\u79c1\\u7acb\",\"\\u79c1\\u7acb\",\"\\u79c1\\u7acb\",\"\\u79c1\\u7acb\",\"\\u79c1\\u7acb\",\"\\u79c1\\u7acb\",\"\\u79c1\\u7acb\",\"\\u79c1\\u7acb\",\"\\u79c1\\u7acb\",\"\\u79c1\\u7acb\",\"\\u79c1\\u7acb\",\"\\u79c1\\u7acb\",\"\\u79c1\\u7acb\",\"\\u79c1\\u7acb\",\"\\u79c1\\u7acb\",\"\\u79c1\\u7acb\",\"\\u79c1\\u7acb\",\"\\u79c1\\u7acb\",\"\\u79c1\\u7acb\",\"\\u79c1\\u7acb\",\"\\u79c1\\u7acb\",\"\\u79c1\\u7acb\",\"\\u79c1\\u7acb\",\"\\u79c1\\u7acb\",\"\\u79c1\\u7acb\",\"\\u79c1\\u7acb\",\"\\u79c1\\u7acb\",\"\\u79c1\\u7acb\",\"\\u79c1\\u7acb\",\"\\u79c1\\u7acb\",\"\\u79c1\\u7acb\",\"\\u79c1\\u7acb\",\"\\u79c1\\u7acb\",\"\\u79c1\\u7acb\",\"\\u79c1\\u7acb\",\"\\u79c1\\u7acb\",\"\\u79c1\\u7acb\",\"\\u79c1\\u7acb\",\"\\u79c1\\u7acb\",\"\\u79c1\\u7acb\",\"\\u79c1\\u7acb\",\"\\u79c1\\u7acb\",\"\\u79c1\\u7acb\",\"\\u79c1\\u7acb\",\"\\u79c1\\u7acb\",\"\\u79c1\\u7acb\",\"\\u79c1\\u7acb\",\"\\u79c1\\u7acb\",\"\\u79c1\\u7acb\",\"\\u79c1\\u7acb\",\"\\u79c1\\u7acb\",\"\\u79c1\\u7acb\",\"\\u79c1\\u7acb\",\"\\u79c1\\u7acb\",\"\\u79c1\\u7acb\",\"\\u79c1\\u7acb\",\"\\u79c1\\u7acb\",\"\\u79c1\\u7acb\",\"\\u79c1\\u7acb\",\"\\u79c1\\u7acb\",\"\\u79c1\\u7acb\",\"\\u79c1\\u7acb\",\"\\u79c1\\u7acb\",\"\\u79c1\\u7acb\",\"\\u79c1\\u7acb\",\"\\u79c1\\u7acb\",\"\\u79c1\\u7acb\",\"\\u79c1\\u7acb\",\"\\u79c1\\u7acb\",\"\\u79c1\\u7acb\",\"\\u79c1\\u7acb\",\"\\u79c1\\u7acb\",\"\\u79c1\\u7acb\",\"\\u79c1\\u7acb\",\"\\u79c1\\u7acb\",\"\\u79c1\\u7acb\",\"\\u79c1\\u7acb\",\"\\u79c1\\u7acb\",\"\\u79c1\\u7acb\",\"\\u79c1\\u7acb\",\"\\u79c1\\u7acb\",\"\\u79c1\\u7acb\",\"\\u79c1\\u7acb\",\"\\u79c1\\u7acb\",\"\\u79c1\\u7acb\",\"\\u79c1\\u7acb\",\"\\u79c1\\u7acb\",\"\\u79c1\\u7acb\",\"\\u79c1\\u7acb\",\"\\u79c1\\u7acb\",\"\\u79c1\\u7acb\",\"\\u79c1\\u7acb\",\"\\u79c1\\u7acb\",\"\\u79c1\\u7acb\",\"\\u79c1\\u7acb\",\"\\u79c1\\u7acb\",\"\\u79c1\\u7acb\",\"\\u79c1\\u7acb\",\"\\u79c1\\u7acb\",\"\\u79c1\\u7acb\",\"\\u79c1\\u7acb\",\"\\u79c1\\u7acb\",\"\\u79c1\\u7acb\",\"\\u79c1\\u7acb\",\"\\u79c1\\u7acb\",\"\\u79c1\\u7acb\",\"\\u79c1\\u7acb\",\"\\u79c1\\u7acb\",\"\\u79c1\\u7acb\",\"\\u79c1\\u7acb\",\"\\u79c1\\u7acb\",\"\\u79c1\\u7acb\",\"\\u79c1\\u7acb\",\"\\u79c1\\u7acb\",\"\\u79c1\\u7acb\",\"\\u79c1\\u7acb\",\"\\u79c1\\u7acb\",\"\\u79c1\\u7acb\",\"\\u79c1\\u7acb\",\"\\u79c1\\u7acb\",\"\\u79c1\\u7acb\",\"\\u79c1\\u7acb\",\"\\u79c1\\u7acb\",\"\\u79c1\\u7acb\",\"\\u79c1\\u7acb\",\"\\u79c1\\u7acb\",\"\\u79c1\\u7acb\",\"\\u79c1\\u7acb\",\"\\u79c1\\u7acb\",\"\\u79c1\\u7acb\",\"\\u79c1\\u7acb\",\"\\u79c1\\u7acb\",\"\\u79c1\\u7acb\",\"\\u79c1\\u7acb\",\"\\u79c1\\u7acb\",\"\\u79c1\\u7acb\",\"\\u79c1\\u7acb\",\"\\u79c1\\u7acb\",\"\\u79c1\\u7acb\",\"\\u79c1\\u7acb\",\"\\u79c1\\u7acb\",\"\\u79c1\\u7acb\",\"\\u79c1\\u7acb\",\"\\u79c1\\u7acb\",\"\\u79c1\\u7acb\",\"\\u79c1\\u7acb\",\"\\u79c1\\u7acb\",\"\\u79c1\\u7acb\",\"\\u79c1\\u7acb\",\"\\u79c1\\u7acb\",\"\\u79c1\\u7acb\",\"\\u79c1\\u7acb\",\"\\u79c1\\u7acb\",\"\\u79c1\\u7acb\",\"\\u79c1\\u7acb\",\"\\u79c1\\u7acb\",\"\\u79c1\\u7acb\",\"\\u79c1\\u7acb\",\"\\u79c1\\u7acb\",\"\\u79c1\\u7acb\",\"\\u79c1\\u7acb\",\"\\u79c1\\u7acb\",\"\\u79c1\\u7acb\",\"\\u79c1\\u7acb\",\"\\u79c1\\u7acb\",\"\\u79c1\\u7acb\",\"\\u79c1\\u7acb\",\"\\u79c1\\u7acb\",\"\\u79c1\\u7acb\",\"\\u79c1\\u7acb\",\"\\u79c1\\u7acb\",\"\\u79c1\\u7acb\",\"\\u79c1\\u7acb\",\"\\u79c1\\u7acb\",\"\\u79c1\\u7acb\",\"\\u79c1\\u7acb\",\"\\u79c1\\u7acb\",\"\\u79c1\\u7acb\",\"\\u79c1\\u7acb\",\"\\u79c1\\u7acb\",\"\\u79c1\\u7acb\",\"\\u79c1\\u7acb\",\"\\u79c1\\u7acb\",\"\\u79c1\\u7acb\",\"\\u79c1\\u7acb\",\"\\u79c1\\u7acb\",\"\\u79c1\\u7acb\",\"\\u79c1\\u7acb\",\"\\u79c1\\u7acb\",\"\\u79c1\\u7acb\",\"\\u79c1\\u7acb\",\"\\u79c1\\u7acb\",\"\\u79c1\\u7acb\",\"\\u79c1\\u7acb\",\"\\u79c1\\u7acb\",\"\\u79c1\\u7acb\",\"\\u79c1\\u7acb\",\"\\u79c1\\u7acb\",\"\\u79c1\\u7acb\",\"\\u79c1\\u7acb\",\"\\u79c1\\u7acb\",\"\\u79c1\\u7acb\",\"\\u79c1\\u7acb\",\"\\u79c1\\u7acb\",\"\\u79c1\\u7acb\",\"\\u79c1\\u7acb\",\"\\u79c1\\u7acb\",\"\\u79c1\\u7acb\",\"\\u79c1\\u7acb\",\"\\u79c1\\u7acb\",\"\\u79c1\\u7acb\"]]]}}},\"view\":{\"type\":\"object\",\"name\":\"CDSView\",\"id\":\"p1588\",\"attributes\":{\"filter\":{\"type\":\"object\",\"name\":\"AllIndices\",\"id\":\"p1589\"}}},\"glyph\":{\"type\":\"object\",\"name\":\"Scatter\",\"id\":\"p1584\",\"attributes\":{\"tags\":[\"apply_ranges\"],\"x\":{\"type\":\"field\",\"field\":\"longitude\"},\"y\":{\"type\":\"field\",\"field\":\"latitude\"},\"size\":{\"type\":\"value\",\"value\":5.477225575051661},\"line_color\":{\"type\":\"value\",\"value\":\"#e5ae38\"},\"fill_color\":{\"type\":\"value\",\"value\":\"#e5ae38\"},\"hatch_color\":{\"type\":\"value\",\"value\":\"#e5ae38\"}}},\"selection_glyph\":{\"type\":\"object\",\"name\":\"Scatter\",\"id\":\"p1593\",\"attributes\":{\"tags\":[\"apply_ranges\"],\"x\":{\"type\":\"field\",\"field\":\"longitude\"},\"y\":{\"type\":\"field\",\"field\":\"latitude\"},\"size\":{\"type\":\"value\",\"value\":5.477225575051661},\"angle\":{\"type\":\"value\",\"value\":0.0},\"line_color\":{\"type\":\"value\",\"value\":\"#e5ae38\"},\"line_alpha\":{\"type\":\"value\",\"value\":1.0},\"line_width\":{\"type\":\"value\",\"value\":1},\"line_join\":{\"type\":\"value\",\"value\":\"bevel\"},\"line_cap\":{\"type\":\"value\",\"value\":\"butt\"},\"line_dash\":{\"type\":\"value\",\"value\":[]},\"line_dash_offset\":{\"type\":\"value\",\"value\":0},\"fill_color\":{\"type\":\"value\",\"value\":\"#e5ae38\"},\"fill_alpha\":{\"type\":\"value\",\"value\":1.0},\"hatch_color\":{\"type\":\"value\",\"value\":\"#e5ae38\"},\"hatch_alpha\":{\"type\":\"value\",\"value\":1.0},\"hatch_scale\":{\"type\":\"value\",\"value\":12.0},\"hatch_pattern\":{\"type\":\"value\",\"value\":null},\"hatch_weight\":{\"type\":\"value\",\"value\":1.0},\"marker\":{\"type\":\"value\",\"value\":\"circle\"}}},\"nonselection_glyph\":{\"type\":\"object\",\"name\":\"Scatter\",\"id\":\"p1585\",\"attributes\":{\"tags\":[\"apply_ranges\"],\"x\":{\"type\":\"field\",\"field\":\"longitude\"},\"y\":{\"type\":\"field\",\"field\":\"latitude\"},\"size\":{\"type\":\"value\",\"value\":5.477225575051661},\"line_color\":{\"type\":\"value\",\"value\":\"#e5ae38\"},\"line_alpha\":{\"type\":\"value\",\"value\":0.1},\"fill_color\":{\"type\":\"value\",\"value\":\"#e5ae38\"},\"fill_alpha\":{\"type\":\"value\",\"value\":0.1},\"hatch_color\":{\"type\":\"value\",\"value\":\"#e5ae38\"},\"hatch_alpha\":{\"type\":\"value\",\"value\":0.1}}},\"muted_glyph\":{\"type\":\"object\",\"name\":\"Scatter\",\"id\":\"p1586\",\"attributes\":{\"tags\":[\"apply_ranges\"],\"x\":{\"type\":\"field\",\"field\":\"longitude\"},\"y\":{\"type\":\"field\",\"field\":\"latitude\"},\"size\":{\"type\":\"value\",\"value\":5.477225575051661},\"line_color\":{\"type\":\"value\",\"value\":\"#e5ae38\"},\"line_alpha\":{\"type\":\"value\",\"value\":0.2},\"fill_color\":{\"type\":\"value\",\"value\":\"#e5ae38\"},\"fill_alpha\":{\"type\":\"value\",\"value\":0.2},\"hatch_color\":{\"type\":\"value\",\"value\":\"#e5ae38\"},\"hatch_alpha\":{\"type\":\"value\",\"value\":0.2}}}}}],\"toolbar\":{\"type\":\"object\",\"name\":\"Toolbar\",\"id\":\"p1517\",\"attributes\":{\"tools\":[{\"type\":\"object\",\"name\":\"WheelZoomTool\",\"id\":\"p1477\",\"attributes\":{\"renderers\":\"auto\",\"zoom_on_axis\":false}},{\"type\":\"object\",\"name\":\"BoxZoomTool\",\"id\":\"p1478\",\"attributes\":{\"overlay\":{\"type\":\"object\",\"name\":\"BoxAnnotation\",\"id\":\"p1135\",\"attributes\":{\"syncable\":false,\"level\":\"overlay\",\"visible\":false,\"left\":{\"type\":\"number\",\"value\":\"nan\"},\"right\":{\"type\":\"number\",\"value\":\"nan\"},\"top\":{\"type\":\"number\",\"value\":\"nan\"},\"bottom\":{\"type\":\"number\",\"value\":\"nan\"},\"left_units\":\"canvas\",\"right_units\":\"canvas\",\"top_units\":\"canvas\",\"bottom_units\":\"canvas\",\"line_color\":\"black\",\"line_alpha\":1.0,\"line_width\":2,\"line_dash\":[4,4],\"fill_color\":\"lightgrey\",\"fill_alpha\":0.5}},\"match_aspect\":true}},{\"type\":\"object\",\"name\":\"HoverTool\",\"id\":\"p1491\",\"attributes\":{\"tags\":[\"hv_created\"],\"renderers\":[{\"id\":\"p1554\"},{\"id\":\"p1571\"},{\"id\":\"p1587\"}],\"tooltips\":[[\"type_jp\",\"@{type_jp}\"],[\"longitude\",\"$x{custom}\"],[\"latitude\",\"$y{custom}\"],[\"name_jp\",\"@{name_jp}\"]],\"formatters\":{\"type\":\"map\",\"entries\":[[\"$x\",{\"type\":\"object\",\"name\":\"CustomJSHover\",\"id\":\"p1559\",\"attributes\":{\"code\":\"\\n        const projections = Bokeh.require(\\\"core/util/projections\\\");\\n        const {snap_x, snap_y} = special_vars\\n        const coords = projections.wgs84_mercator.invert(snap_x, snap_y)\\n        return \\\"\\\" + (coords[0]).toFixed(4)\\n    \"}}],[\"$y\",{\"type\":\"object\",\"name\":\"CustomJSHover\",\"id\":\"p1560\",\"attributes\":{\"code\":\"\\n        const projections = Bokeh.require(\\\"core/util/projections\\\");\\n        const {snap_x, snap_y} = special_vars\\n        const coords = projections.wgs84_mercator.invert(snap_x, snap_y)\\n        return \\\"\\\" + (coords[1]).toFixed(4)\\n    \"}}]]}}},{\"type\":\"object\",\"name\":\"PanTool\",\"id\":\"p1531\"},{\"type\":\"object\",\"name\":\"ResetTool\",\"id\":\"p1532\"}],\"active_drag\":{\"id\":\"p1531\"}}},\"left\":[{\"type\":\"object\",\"name\":\"LinearAxis\",\"id\":\"p1525\",\"attributes\":{\"ticker\":{\"type\":\"object\",\"name\":\"MercatorTicker\",\"id\":\"p1535\",\"attributes\":{\"mantissas\":[1,2,5],\"dimension\":\"lat\"}},\"formatter\":{\"type\":\"object\",\"name\":\"MercatorTickFormatter\",\"id\":\"p1536\",\"attributes\":{\"dimension\":\"lat\"}},\"axis_label\":\"Latitude\",\"major_label_policy\":{\"type\":\"object\",\"name\":\"AllLabels\",\"id\":\"p1528\"}}}],\"right\":[{\"type\":\"object\",\"name\":\"Legend\",\"id\":\"p1557\",\"attributes\":{\"location\":[0,0],\"click_policy\":\"mute\",\"items\":[{\"type\":\"object\",\"name\":\"LegendItem\",\"id\":\"p1558\",\"attributes\":{\"label\":{\"type\":\"value\",\"value\":\"\\u56fd\\u7acb\"},\"renderers\":[{\"id\":\"p1554\"}]}},{\"type\":\"object\",\"name\":\"LegendItem\",\"id\":\"p1574\",\"attributes\":{\"label\":{\"type\":\"value\",\"value\":\"\\u516c\\u7acb\"},\"renderers\":[{\"id\":\"p1571\"}]}},{\"type\":\"object\",\"name\":\"LegendItem\",\"id\":\"p1590\",\"attributes\":{\"label\":{\"type\":\"value\",\"value\":\"\\u79c1\\u7acb\"},\"renderers\":[{\"id\":\"p1587\"}]}}]}}],\"below\":[{\"type\":\"object\",\"name\":\"LinearAxis\",\"id\":\"p1520\",\"attributes\":{\"ticker\":{\"type\":\"object\",\"name\":\"MercatorTicker\",\"id\":\"p1533\",\"attributes\":{\"mantissas\":[1,2,5],\"dimension\":\"lon\"}},\"formatter\":{\"type\":\"object\",\"name\":\"MercatorTickFormatter\",\"id\":\"p1534\",\"attributes\":{\"dimension\":\"lon\"}},\"axis_label\":\"Longitude\",\"major_label_policy\":{\"type\":\"object\",\"name\":\"AllLabels\",\"id\":\"p1523\"}}}],\"center\":[{\"type\":\"object\",\"name\":\"Grid\",\"id\":\"p1524\",\"attributes\":{\"axis\":{\"id\":\"p1520\"},\"grid_line_color\":null}},{\"type\":\"object\",\"name\":\"Grid\",\"id\":\"p1529\",\"attributes\":{\"dimension\":1,\"axis\":{\"id\":\"p1525\"},\"grid_line_color\":null}}],\"frame_width\":600,\"frame_height\":903,\"min_border_top\":10,\"min_border_bottom\":10,\"min_border_left\":10,\"min_border_right\":10,\"output_backend\":\"webgl\",\"match_aspect\":true}},{\"type\":\"object\",\"name\":\"Spacer\",\"id\":\"p1595\",\"attributes\":{\"name\":\"HSpacer02604\",\"stylesheets\":[\"\\n:host(.pn-loading):before, .pn-loading:before {\\n  background-color: #c3c3c3;\\n  mask-size: auto calc(min(50%, 400px));\\n  -webkit-mask-size: auto calc(min(50%, 400px));\\n}\",{\"id\":\"p1453\"},{\"id\":\"p1451\"},{\"id\":\"p1452\"}],\"margin\":0,\"sizing_mode\":\"stretch_width\",\"align\":\"start\"}}]}}],\"defs\":[{\"type\":\"model\",\"name\":\"ReactiveHTML1\"},{\"type\":\"model\",\"name\":\"FlexBox1\",\"properties\":[{\"name\":\"align_content\",\"kind\":\"Any\",\"default\":\"flex-start\"},{\"name\":\"align_items\",\"kind\":\"Any\",\"default\":\"flex-start\"},{\"name\":\"flex_direction\",\"kind\":\"Any\",\"default\":\"row\"},{\"name\":\"flex_wrap\",\"kind\":\"Any\",\"default\":\"wrap\"},{\"name\":\"gap\",\"kind\":\"Any\",\"default\":\"\"},{\"name\":\"justify_content\",\"kind\":\"Any\",\"default\":\"flex-start\"}]},{\"type\":\"model\",\"name\":\"FloatPanel1\",\"properties\":[{\"name\":\"config\",\"kind\":\"Any\",\"default\":{\"type\":\"map\"}},{\"name\":\"contained\",\"kind\":\"Any\",\"default\":true},{\"name\":\"position\",\"kind\":\"Any\",\"default\":\"right-top\"},{\"name\":\"offsetx\",\"kind\":\"Any\",\"default\":null},{\"name\":\"offsety\",\"kind\":\"Any\",\"default\":null},{\"name\":\"theme\",\"kind\":\"Any\",\"default\":\"primary\"},{\"name\":\"status\",\"kind\":\"Any\",\"default\":\"normalized\"}]},{\"type\":\"model\",\"name\":\"GridStack1\",\"properties\":[{\"name\":\"mode\",\"kind\":\"Any\",\"default\":\"warn\"},{\"name\":\"ncols\",\"kind\":\"Any\",\"default\":null},{\"name\":\"nrows\",\"kind\":\"Any\",\"default\":null},{\"name\":\"allow_resize\",\"kind\":\"Any\",\"default\":true},{\"name\":\"allow_drag\",\"kind\":\"Any\",\"default\":true},{\"name\":\"state\",\"kind\":\"Any\",\"default\":[]}]},{\"type\":\"model\",\"name\":\"drag1\",\"properties\":[{\"name\":\"slider_width\",\"kind\":\"Any\",\"default\":5},{\"name\":\"slider_color\",\"kind\":\"Any\",\"default\":\"black\"},{\"name\":\"value\",\"kind\":\"Any\",\"default\":50}]},{\"type\":\"model\",\"name\":\"click1\",\"properties\":[{\"name\":\"terminal_output\",\"kind\":\"Any\",\"default\":\"\"},{\"name\":\"debug_name\",\"kind\":\"Any\",\"default\":\"\"},{\"name\":\"clears\",\"kind\":\"Any\",\"default\":0}]},{\"type\":\"model\",\"name\":\"FastWrapper1\",\"properties\":[{\"name\":\"object\",\"kind\":\"Any\",\"default\":null},{\"name\":\"style\",\"kind\":\"Any\",\"default\":null}]},{\"type\":\"model\",\"name\":\"NotificationAreaBase1\",\"properties\":[{\"name\":\"js_events\",\"kind\":\"Any\",\"default\":{\"type\":\"map\"}},{\"name\":\"position\",\"kind\":\"Any\",\"default\":\"bottom-right\"},{\"name\":\"_clear\",\"kind\":\"Any\",\"default\":0}]},{\"type\":\"model\",\"name\":\"NotificationArea1\",\"properties\":[{\"name\":\"js_events\",\"kind\":\"Any\",\"default\":{\"type\":\"map\"}},{\"name\":\"notifications\",\"kind\":\"Any\",\"default\":[]},{\"name\":\"position\",\"kind\":\"Any\",\"default\":\"bottom-right\"},{\"name\":\"_clear\",\"kind\":\"Any\",\"default\":0},{\"name\":\"types\",\"kind\":\"Any\",\"default\":[{\"type\":\"map\",\"entries\":[[\"type\",\"warning\"],[\"background\",\"#ffc107\"],[\"icon\",{\"type\":\"map\",\"entries\":[[\"className\",\"fas fa-exclamation-triangle\"],[\"tagName\",\"i\"],[\"color\",\"white\"]]}]]},{\"type\":\"map\",\"entries\":[[\"type\",\"info\"],[\"background\",\"#007bff\"],[\"icon\",{\"type\":\"map\",\"entries\":[[\"className\",\"fas fa-info-circle\"],[\"tagName\",\"i\"],[\"color\",\"white\"]]}]]}]}]},{\"type\":\"model\",\"name\":\"Notification\",\"properties\":[{\"name\":\"background\",\"kind\":\"Any\",\"default\":null},{\"name\":\"duration\",\"kind\":\"Any\",\"default\":3000},{\"name\":\"icon\",\"kind\":\"Any\",\"default\":null},{\"name\":\"message\",\"kind\":\"Any\",\"default\":\"\"},{\"name\":\"notification_type\",\"kind\":\"Any\",\"default\":null},{\"name\":\"_destroyed\",\"kind\":\"Any\",\"default\":false}]},{\"type\":\"model\",\"name\":\"TemplateActions1\",\"properties\":[{\"name\":\"open_modal\",\"kind\":\"Any\",\"default\":0},{\"name\":\"close_modal\",\"kind\":\"Any\",\"default\":0}]},{\"type\":\"model\",\"name\":\"BootstrapTemplateActions1\",\"properties\":[{\"name\":\"open_modal\",\"kind\":\"Any\",\"default\":0},{\"name\":\"close_modal\",\"kind\":\"Any\",\"default\":0}]},{\"type\":\"model\",\"name\":\"TemplateEditor1\",\"properties\":[{\"name\":\"layout\",\"kind\":\"Any\",\"default\":[]}]},{\"type\":\"model\",\"name\":\"MaterialTemplateActions1\",\"properties\":[{\"name\":\"open_modal\",\"kind\":\"Any\",\"default\":0},{\"name\":\"close_modal\",\"kind\":\"Any\",\"default\":0}]},{\"type\":\"model\",\"name\":\"copy_to_clipboard1\",\"properties\":[{\"name\":\"fill\",\"kind\":\"Any\",\"default\":\"none\"},{\"name\":\"value\",\"kind\":\"Any\",\"default\":null}]}]}};\n",
       "  var render_items = [{\"docid\":\"0095805b-1c46-406a-bd22-1d0ff6f86f30\",\"roots\":{\"p1450\":\"ce7a4fab-2fc3-4e75-9aea-ae558337f8e8\"},\"root_ids\":[\"p1450\"]}];\n",
       "  var docs = Object.values(docs_json)\n",
       "  if (!docs) {\n",
       "    return\n",
       "  }\n",
       "  const py_version = docs[0].version.replace('rc', '-rc.').replace('.dev', '-dev.')\n",
       "  async function embed_document(root) {\n",
       "    var Bokeh = get_bokeh(root)\n",
       "    await Bokeh.embed.embed_items_notebook(docs_json, render_items);\n",
       "    for (const render_item of render_items) {\n",
       "      for (const root_id of render_item.root_ids) {\n",
       "\tconst id_el = document.getElementById(root_id)\n",
       "\tif (id_el.children.length && id_el.children[0].hasAttribute('data-root-id')) {\n",
       "\t  const root_el = id_el.children[0]\n",
       "\t  root_el.id = root_el.id + '-rendered'\n",
       "\t  for (const child of root_el.children) {\n",
       "            // Ensure JupyterLab does not capture keyboard shortcuts\n",
       "            // see: https://jupyterlab.readthedocs.io/en/4.1.x/extension/notebook.html#keyboard-interaction-model\n",
       "\t    child.setAttribute('data-lm-suppress-shortcuts', 'true')\n",
       "\t  }\n",
       "\t}\n",
       "      }\n",
       "    }\n",
       "  }\n",
       "  function get_bokeh(root) {\n",
       "    if (root.Bokeh === undefined) {\n",
       "      return null\n",
       "    } else if (root.Bokeh.version !== py_version) {\n",
       "      if (root.Bokeh.versions === undefined || !root.Bokeh.versions.has(py_version)) {\n",
       "\treturn null\n",
       "      }\n",
       "      return root.Bokeh.versions.get(py_version);\n",
       "    } else if (root.Bokeh.version === py_version) {\n",
       "      return root.Bokeh\n",
       "    }\n",
       "    return null\n",
       "  }\n",
       "  function is_loaded(root) {\n",
       "    var Bokeh = get_bokeh(root)\n",
       "    return (Bokeh != null && Bokeh.Panel !== undefined)\n",
       "  }\n",
       "  if (is_loaded(root)) {\n",
       "    embed_document(root);\n",
       "  } else {\n",
       "    var attempts = 0;\n",
       "    var timer = setInterval(function(root) {\n",
       "      if (is_loaded(root)) {\n",
       "        clearInterval(timer);\n",
       "        embed_document(root);\n",
       "      } else if (document.readyState == \"complete\") {\n",
       "        attempts++;\n",
       "        if (attempts > 200) {\n",
       "          clearInterval(timer);\n",
       "\t  var Bokeh = get_bokeh(root)\n",
       "\t  if (Bokeh == null || Bokeh.Panel == null) {\n",
       "            console.warn(\"Panel: ERROR: Unable to run Panel code because Bokeh or Panel library is missing\");\n",
       "\t  } else {\n",
       "\t    console.warn(\"Panel: WARNING: Attempting to render but not all required libraries could be resolved.\")\n",
       "\t    embed_document(root)\n",
       "\t  }\n",
       "        }\n",
       "      }\n",
       "    }, 25, root)\n",
       "  }\n",
       "})(window);</script>"
      ],
      "text/plain": [
       ":Overlay\n",
       "   .WMTS.I      :WMTS   [Longitude,Latitude]\n",
       "   .NdOverlay.I :NdOverlay   [type_jp]\n",
       "      :Points   [longitude,latitude]   (name_jp)"
      ]
     },
     "execution_count": 17,
     "metadata": {
      "application/vnd.holoviews_exec.v0+json": {
       "id": "p1450"
      }
     },
     "output_type": "execute_result"
    }
   ],
   "source": [
    "df3.plot.points(\n",
    "    'longitude', 'latitude', \n",
    "    by=\"type_jp\", \n",
    "    hover_cols=['name_jp'],\n",
    "    tiles=True, \n",
    "    geo=True, \n",
    "    frame_width=600, \n",
    ")"
   ]
  }
 ],
 "metadata": {
  "kernelspec": {
   "display_name": "Python 3 (ipykernel)",
   "language": "python",
   "name": "python3"
  },
  "language_info": {
   "codemirror_mode": {
    "name": "ipython",
    "version": 3
   },
   "file_extension": ".py",
   "mimetype": "text/x-python",
   "name": "python",
   "nbconvert_exporter": "python",
   "pygments_lexer": "ipython3",
   "version": "3.11.8"
  }
 },
 "nbformat": 4,
 "nbformat_minor": 5
}

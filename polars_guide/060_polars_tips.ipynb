{
 "cells": [
  {
   "cell_type": "markdown",
   "id": "4ea8102b-c0a0-4d89-b746-f932c895c814",
   "metadata": {},
   "source": [
    "# Polarsに関するTips"
   ]
  },
  {
   "cell_type": "markdown",
   "id": "e09cf82e-bb2b-4b91-bd2d-7005944e1c65",
   "metadata": {},
   "source": [
    "Polarsは、データフレーム操作を効率的に行うための強力なライブラリですが、さらに効果的に活用するためにはいくつかの便利なテクニックやコツを知っておくことが重要です。この章では、Polarsをよりスムーズに、かつ効率的に使用するための実践的なTipsを紹介します。これらのテクニックを使うことで、データの操作や処理を一層高速化し、作業の生産性を向上させることができます。"
   ]
  },
  {
   "cell_type": "code",
   "execution_count": 1,
   "id": "f767ff9e-1731-4c31-8e59-4293e073fc86",
   "metadata": {},
   "outputs": [
    {
     "data": {
      "application/javascript": [
       "(function(root) {\n",
       "  function now() {\n",
       "    return new Date();\n",
       "  }\n",
       "\n",
       "  var force = true;\n",
       "  var py_version = '3.4.2'.replace('rc', '-rc.').replace('.dev', '-dev.');\n",
       "  var reloading = false;\n",
       "  var Bokeh = root.Bokeh;\n",
       "\n",
       "  if (typeof (root._bokeh_timeout) === \"undefined\" || force) {\n",
       "    root._bokeh_timeout = Date.now() + 5000;\n",
       "    root._bokeh_failed_load = false;\n",
       "  }\n",
       "\n",
       "  function run_callbacks() {\n",
       "    try {\n",
       "      root._bokeh_onload_callbacks.forEach(function(callback) {\n",
       "        if (callback != null)\n",
       "          callback();\n",
       "      });\n",
       "    } finally {\n",
       "      delete root._bokeh_onload_callbacks;\n",
       "    }\n",
       "    console.debug(\"Bokeh: all callbacks have finished\");\n",
       "  }\n",
       "\n",
       "  function load_libs(css_urls, js_urls, js_modules, js_exports, callback) {\n",
       "    if (css_urls == null) css_urls = [];\n",
       "    if (js_urls == null) js_urls = [];\n",
       "    if (js_modules == null) js_modules = [];\n",
       "    if (js_exports == null) js_exports = {};\n",
       "\n",
       "    root._bokeh_onload_callbacks.push(callback);\n",
       "\n",
       "    if (root._bokeh_is_loading > 0) {\n",
       "      console.debug(\"Bokeh: BokehJS is being loaded, scheduling callback at\", now());\n",
       "      return null;\n",
       "    }\n",
       "    if (js_urls.length === 0 && js_modules.length === 0 && Object.keys(js_exports).length === 0) {\n",
       "      run_callbacks();\n",
       "      return null;\n",
       "    }\n",
       "    if (!reloading) {\n",
       "      console.debug(\"Bokeh: BokehJS not loaded, scheduling load and callback at\", now());\n",
       "    }\n",
       "\n",
       "    function on_load() {\n",
       "      root._bokeh_is_loading--;\n",
       "      if (root._bokeh_is_loading === 0) {\n",
       "        console.debug(\"Bokeh: all BokehJS libraries/stylesheets loaded\");\n",
       "        run_callbacks()\n",
       "      }\n",
       "    }\n",
       "    window._bokeh_on_load = on_load\n",
       "\n",
       "    function on_error() {\n",
       "      console.error(\"failed to load \" + url);\n",
       "    }\n",
       "\n",
       "    var skip = [];\n",
       "    if (window.requirejs) {\n",
       "      window.requirejs.config({'packages': {}, 'paths': {}, 'shim': {}});\n",
       "      root._bokeh_is_loading = css_urls.length + 0;\n",
       "    } else {\n",
       "      root._bokeh_is_loading = css_urls.length + js_urls.length + js_modules.length + Object.keys(js_exports).length;\n",
       "    }\n",
       "\n",
       "    var existing_stylesheets = []\n",
       "    var links = document.getElementsByTagName('link')\n",
       "    for (var i = 0; i < links.length; i++) {\n",
       "      var link = links[i]\n",
       "      if (link.href != null) {\n",
       "\texisting_stylesheets.push(link.href)\n",
       "      }\n",
       "    }\n",
       "    for (var i = 0; i < css_urls.length; i++) {\n",
       "      var url = css_urls[i];\n",
       "      if (existing_stylesheets.indexOf(url) !== -1) {\n",
       "\ton_load()\n",
       "\tcontinue;\n",
       "      }\n",
       "      const element = document.createElement(\"link\");\n",
       "      element.onload = on_load;\n",
       "      element.onerror = on_error;\n",
       "      element.rel = \"stylesheet\";\n",
       "      element.type = \"text/css\";\n",
       "      element.href = url;\n",
       "      console.debug(\"Bokeh: injecting link tag for BokehJS stylesheet: \", url);\n",
       "      document.body.appendChild(element);\n",
       "    }    var existing_scripts = []\n",
       "    var scripts = document.getElementsByTagName('script')\n",
       "    for (var i = 0; i < scripts.length; i++) {\n",
       "      var script = scripts[i]\n",
       "      if (script.src != null) {\n",
       "\texisting_scripts.push(script.src)\n",
       "      }\n",
       "    }\n",
       "    for (var i = 0; i < js_urls.length; i++) {\n",
       "      var url = js_urls[i];\n",
       "      if (skip.indexOf(url) !== -1 || existing_scripts.indexOf(url) !== -1) {\n",
       "\tif (!window.requirejs) {\n",
       "\t  on_load();\n",
       "\t}\n",
       "\tcontinue;\n",
       "      }\n",
       "      var element = document.createElement('script');\n",
       "      element.onload = on_load;\n",
       "      element.onerror = on_error;\n",
       "      element.async = false;\n",
       "      element.src = url;\n",
       "      console.debug(\"Bokeh: injecting script tag for BokehJS library: \", url);\n",
       "      document.head.appendChild(element);\n",
       "    }\n",
       "    for (var i = 0; i < js_modules.length; i++) {\n",
       "      var url = js_modules[i];\n",
       "      if (skip.indexOf(url) !== -1 || existing_scripts.indexOf(url) !== -1) {\n",
       "\tif (!window.requirejs) {\n",
       "\t  on_load();\n",
       "\t}\n",
       "\tcontinue;\n",
       "      }\n",
       "      var element = document.createElement('script');\n",
       "      element.onload = on_load;\n",
       "      element.onerror = on_error;\n",
       "      element.async = false;\n",
       "      element.src = url;\n",
       "      element.type = \"module\";\n",
       "      console.debug(\"Bokeh: injecting script tag for BokehJS library: \", url);\n",
       "      document.head.appendChild(element);\n",
       "    }\n",
       "    for (const name in js_exports) {\n",
       "      var url = js_exports[name];\n",
       "      if (skip.indexOf(url) >= 0 || root[name] != null) {\n",
       "\tif (!window.requirejs) {\n",
       "\t  on_load();\n",
       "\t}\n",
       "\tcontinue;\n",
       "      }\n",
       "      var element = document.createElement('script');\n",
       "      element.onerror = on_error;\n",
       "      element.async = false;\n",
       "      element.type = \"module\";\n",
       "      console.debug(\"Bokeh: injecting script tag for BokehJS library: \", url);\n",
       "      element.textContent = `\n",
       "      import ${name} from \"${url}\"\n",
       "      window.${name} = ${name}\n",
       "      window._bokeh_on_load()\n",
       "      `\n",
       "      document.head.appendChild(element);\n",
       "    }\n",
       "    if (!js_urls.length && !js_modules.length) {\n",
       "      on_load()\n",
       "    }\n",
       "  };\n",
       "\n",
       "  function inject_raw_css(css) {\n",
       "    const element = document.createElement(\"style\");\n",
       "    element.appendChild(document.createTextNode(css));\n",
       "    document.body.appendChild(element);\n",
       "  }\n",
       "\n",
       "  var js_urls = [\"https://cdn.bokeh.org/bokeh/release/bokeh-3.4.2.min.js\", \"https://cdn.bokeh.org/bokeh/release/bokeh-gl-3.4.2.min.js\", \"https://cdn.bokeh.org/bokeh/release/bokeh-widgets-3.4.2.min.js\", \"https://cdn.bokeh.org/bokeh/release/bokeh-tables-3.4.2.min.js\", \"https://cdn.holoviz.org/panel/1.4.4/dist/panel.min.js\"];\n",
       "  var js_modules = [];\n",
       "  var js_exports = {};\n",
       "  var css_urls = [];\n",
       "  var inline_js = [    function(Bokeh) {\n",
       "      Bokeh.set_log_level(\"info\");\n",
       "    },\n",
       "function(Bokeh) {} // ensure no trailing comma for IE\n",
       "  ];\n",
       "\n",
       "  function run_inline_js() {\n",
       "    if ((root.Bokeh !== undefined) || (force === true)) {\n",
       "      for (var i = 0; i < inline_js.length; i++) {\n",
       "\ttry {\n",
       "          inline_js[i].call(root, root.Bokeh);\n",
       "\t} catch(e) {\n",
       "\t  if (!reloading) {\n",
       "\t    throw e;\n",
       "\t  }\n",
       "\t}\n",
       "      }\n",
       "      // Cache old bokeh versions\n",
       "      if (Bokeh != undefined && !reloading) {\n",
       "\tvar NewBokeh = root.Bokeh;\n",
       "\tif (Bokeh.versions === undefined) {\n",
       "\t  Bokeh.versions = new Map();\n",
       "\t}\n",
       "\tif (NewBokeh.version !== Bokeh.version) {\n",
       "\t  Bokeh.versions.set(NewBokeh.version, NewBokeh)\n",
       "\t}\n",
       "\troot.Bokeh = Bokeh;\n",
       "      }} else if (Date.now() < root._bokeh_timeout) {\n",
       "      setTimeout(run_inline_js, 100);\n",
       "    } else if (!root._bokeh_failed_load) {\n",
       "      console.log(\"Bokeh: BokehJS failed to load within specified timeout.\");\n",
       "      root._bokeh_failed_load = true;\n",
       "    }\n",
       "    root._bokeh_is_initializing = false\n",
       "  }\n",
       "\n",
       "  function load_or_wait() {\n",
       "    // Implement a backoff loop that tries to ensure we do not load multiple\n",
       "    // versions of Bokeh and its dependencies at the same time.\n",
       "    // In recent versions we use the root._bokeh_is_initializing flag\n",
       "    // to determine whether there is an ongoing attempt to initialize\n",
       "    // bokeh, however for backward compatibility we also try to ensure\n",
       "    // that we do not start loading a newer (Panel>=1.0 and Bokeh>3) version\n",
       "    // before older versions are fully initialized.\n",
       "    if (root._bokeh_is_initializing && Date.now() > root._bokeh_timeout) {\n",
       "      root._bokeh_is_initializing = false;\n",
       "      root._bokeh_onload_callbacks = undefined;\n",
       "      console.log(\"Bokeh: BokehJS was loaded multiple times but one version failed to initialize.\");\n",
       "      load_or_wait();\n",
       "    } else if (root._bokeh_is_initializing || (typeof root._bokeh_is_initializing === \"undefined\" && root._bokeh_onload_callbacks !== undefined)) {\n",
       "      setTimeout(load_or_wait, 100);\n",
       "    } else {\n",
       "      root._bokeh_is_initializing = true\n",
       "      root._bokeh_onload_callbacks = []\n",
       "      var bokeh_loaded = Bokeh != null && (Bokeh.version === py_version || (Bokeh.versions !== undefined && Bokeh.versions.has(py_version)));\n",
       "      if (!reloading && !bokeh_loaded) {\n",
       "\troot.Bokeh = undefined;\n",
       "      }\n",
       "      load_libs(css_urls, js_urls, js_modules, js_exports, function() {\n",
       "\tconsole.debug(\"Bokeh: BokehJS plotting callback run at\", now());\n",
       "\trun_inline_js();\n",
       "      });\n",
       "    }\n",
       "  }\n",
       "  // Give older versions of the autoload script a head-start to ensure\n",
       "  // they initialize before we start loading newer version.\n",
       "  setTimeout(load_or_wait, 100)\n",
       "}(window));"
      ],
      "application/vnd.holoviews_load.v0+json": "(function(root) {\n  function now() {\n    return new Date();\n  }\n\n  var force = true;\n  var py_version = '3.4.2'.replace('rc', '-rc.').replace('.dev', '-dev.');\n  var reloading = false;\n  var Bokeh = root.Bokeh;\n\n  if (typeof (root._bokeh_timeout) === \"undefined\" || force) {\n    root._bokeh_timeout = Date.now() + 5000;\n    root._bokeh_failed_load = false;\n  }\n\n  function run_callbacks() {\n    try {\n      root._bokeh_onload_callbacks.forEach(function(callback) {\n        if (callback != null)\n          callback();\n      });\n    } finally {\n      delete root._bokeh_onload_callbacks;\n    }\n    console.debug(\"Bokeh: all callbacks have finished\");\n  }\n\n  function load_libs(css_urls, js_urls, js_modules, js_exports, callback) {\n    if (css_urls == null) css_urls = [];\n    if (js_urls == null) js_urls = [];\n    if (js_modules == null) js_modules = [];\n    if (js_exports == null) js_exports = {};\n\n    root._bokeh_onload_callbacks.push(callback);\n\n    if (root._bokeh_is_loading > 0) {\n      console.debug(\"Bokeh: BokehJS is being loaded, scheduling callback at\", now());\n      return null;\n    }\n    if (js_urls.length === 0 && js_modules.length === 0 && Object.keys(js_exports).length === 0) {\n      run_callbacks();\n      return null;\n    }\n    if (!reloading) {\n      console.debug(\"Bokeh: BokehJS not loaded, scheduling load and callback at\", now());\n    }\n\n    function on_load() {\n      root._bokeh_is_loading--;\n      if (root._bokeh_is_loading === 0) {\n        console.debug(\"Bokeh: all BokehJS libraries/stylesheets loaded\");\n        run_callbacks()\n      }\n    }\n    window._bokeh_on_load = on_load\n\n    function on_error() {\n      console.error(\"failed to load \" + url);\n    }\n\n    var skip = [];\n    if (window.requirejs) {\n      window.requirejs.config({'packages': {}, 'paths': {}, 'shim': {}});\n      root._bokeh_is_loading = css_urls.length + 0;\n    } else {\n      root._bokeh_is_loading = css_urls.length + js_urls.length + js_modules.length + Object.keys(js_exports).length;\n    }\n\n    var existing_stylesheets = []\n    var links = document.getElementsByTagName('link')\n    for (var i = 0; i < links.length; i++) {\n      var link = links[i]\n      if (link.href != null) {\n\texisting_stylesheets.push(link.href)\n      }\n    }\n    for (var i = 0; i < css_urls.length; i++) {\n      var url = css_urls[i];\n      if (existing_stylesheets.indexOf(url) !== -1) {\n\ton_load()\n\tcontinue;\n      }\n      const element = document.createElement(\"link\");\n      element.onload = on_load;\n      element.onerror = on_error;\n      element.rel = \"stylesheet\";\n      element.type = \"text/css\";\n      element.href = url;\n      console.debug(\"Bokeh: injecting link tag for BokehJS stylesheet: \", url);\n      document.body.appendChild(element);\n    }    var existing_scripts = []\n    var scripts = document.getElementsByTagName('script')\n    for (var i = 0; i < scripts.length; i++) {\n      var script = scripts[i]\n      if (script.src != null) {\n\texisting_scripts.push(script.src)\n      }\n    }\n    for (var i = 0; i < js_urls.length; i++) {\n      var url = js_urls[i];\n      if (skip.indexOf(url) !== -1 || existing_scripts.indexOf(url) !== -1) {\n\tif (!window.requirejs) {\n\t  on_load();\n\t}\n\tcontinue;\n      }\n      var element = document.createElement('script');\n      element.onload = on_load;\n      element.onerror = on_error;\n      element.async = false;\n      element.src = url;\n      console.debug(\"Bokeh: injecting script tag for BokehJS library: \", url);\n      document.head.appendChild(element);\n    }\n    for (var i = 0; i < js_modules.length; i++) {\n      var url = js_modules[i];\n      if (skip.indexOf(url) !== -1 || existing_scripts.indexOf(url) !== -1) {\n\tif (!window.requirejs) {\n\t  on_load();\n\t}\n\tcontinue;\n      }\n      var element = document.createElement('script');\n      element.onload = on_load;\n      element.onerror = on_error;\n      element.async = false;\n      element.src = url;\n      element.type = \"module\";\n      console.debug(\"Bokeh: injecting script tag for BokehJS library: \", url);\n      document.head.appendChild(element);\n    }\n    for (const name in js_exports) {\n      var url = js_exports[name];\n      if (skip.indexOf(url) >= 0 || root[name] != null) {\n\tif (!window.requirejs) {\n\t  on_load();\n\t}\n\tcontinue;\n      }\n      var element = document.createElement('script');\n      element.onerror = on_error;\n      element.async = false;\n      element.type = \"module\";\n      console.debug(\"Bokeh: injecting script tag for BokehJS library: \", url);\n      element.textContent = `\n      import ${name} from \"${url}\"\n      window.${name} = ${name}\n      window._bokeh_on_load()\n      `\n      document.head.appendChild(element);\n    }\n    if (!js_urls.length && !js_modules.length) {\n      on_load()\n    }\n  };\n\n  function inject_raw_css(css) {\n    const element = document.createElement(\"style\");\n    element.appendChild(document.createTextNode(css));\n    document.body.appendChild(element);\n  }\n\n  var js_urls = [\"https://cdn.bokeh.org/bokeh/release/bokeh-3.4.2.min.js\", \"https://cdn.bokeh.org/bokeh/release/bokeh-gl-3.4.2.min.js\", \"https://cdn.bokeh.org/bokeh/release/bokeh-widgets-3.4.2.min.js\", \"https://cdn.bokeh.org/bokeh/release/bokeh-tables-3.4.2.min.js\", \"https://cdn.holoviz.org/panel/1.4.4/dist/panel.min.js\"];\n  var js_modules = [];\n  var js_exports = {};\n  var css_urls = [];\n  var inline_js = [    function(Bokeh) {\n      Bokeh.set_log_level(\"info\");\n    },\nfunction(Bokeh) {} // ensure no trailing comma for IE\n  ];\n\n  function run_inline_js() {\n    if ((root.Bokeh !== undefined) || (force === true)) {\n      for (var i = 0; i < inline_js.length; i++) {\n\ttry {\n          inline_js[i].call(root, root.Bokeh);\n\t} catch(e) {\n\t  if (!reloading) {\n\t    throw e;\n\t  }\n\t}\n      }\n      // Cache old bokeh versions\n      if (Bokeh != undefined && !reloading) {\n\tvar NewBokeh = root.Bokeh;\n\tif (Bokeh.versions === undefined) {\n\t  Bokeh.versions = new Map();\n\t}\n\tif (NewBokeh.version !== Bokeh.version) {\n\t  Bokeh.versions.set(NewBokeh.version, NewBokeh)\n\t}\n\troot.Bokeh = Bokeh;\n      }} else if (Date.now() < root._bokeh_timeout) {\n      setTimeout(run_inline_js, 100);\n    } else if (!root._bokeh_failed_load) {\n      console.log(\"Bokeh: BokehJS failed to load within specified timeout.\");\n      root._bokeh_failed_load = true;\n    }\n    root._bokeh_is_initializing = false\n  }\n\n  function load_or_wait() {\n    // Implement a backoff loop that tries to ensure we do not load multiple\n    // versions of Bokeh and its dependencies at the same time.\n    // In recent versions we use the root._bokeh_is_initializing flag\n    // to determine whether there is an ongoing attempt to initialize\n    // bokeh, however for backward compatibility we also try to ensure\n    // that we do not start loading a newer (Panel>=1.0 and Bokeh>3) version\n    // before older versions are fully initialized.\n    if (root._bokeh_is_initializing && Date.now() > root._bokeh_timeout) {\n      root._bokeh_is_initializing = false;\n      root._bokeh_onload_callbacks = undefined;\n      console.log(\"Bokeh: BokehJS was loaded multiple times but one version failed to initialize.\");\n      load_or_wait();\n    } else if (root._bokeh_is_initializing || (typeof root._bokeh_is_initializing === \"undefined\" && root._bokeh_onload_callbacks !== undefined)) {\n      setTimeout(load_or_wait, 100);\n    } else {\n      root._bokeh_is_initializing = true\n      root._bokeh_onload_callbacks = []\n      var bokeh_loaded = Bokeh != null && (Bokeh.version === py_version || (Bokeh.versions !== undefined && Bokeh.versions.has(py_version)));\n      if (!reloading && !bokeh_loaded) {\n\troot.Bokeh = undefined;\n      }\n      load_libs(css_urls, js_urls, js_modules, js_exports, function() {\n\tconsole.debug(\"Bokeh: BokehJS plotting callback run at\", now());\n\trun_inline_js();\n      });\n    }\n  }\n  // Give older versions of the autoload script a head-start to ensure\n  // they initialize before we start loading newer version.\n  setTimeout(load_or_wait, 100)\n}(window));"
     },
     "metadata": {},
     "output_type": "display_data"
    },
    {
     "data": {
      "application/javascript": [
       "\n",
       "if ((window.PyViz === undefined) || (window.PyViz instanceof HTMLElement)) {\n",
       "  window.PyViz = {comms: {}, comm_status:{}, kernels:{}, receivers: {}, plot_index: []}\n",
       "}\n",
       "\n",
       "\n",
       "    function JupyterCommManager() {\n",
       "    }\n",
       "\n",
       "    JupyterCommManager.prototype.register_target = function(plot_id, comm_id, msg_handler) {\n",
       "      if (window.comm_manager || ((window.Jupyter !== undefined) && (Jupyter.notebook.kernel != null))) {\n",
       "        var comm_manager = window.comm_manager || Jupyter.notebook.kernel.comm_manager;\n",
       "        comm_manager.register_target(comm_id, function(comm) {\n",
       "          comm.on_msg(msg_handler);\n",
       "        });\n",
       "      } else if ((plot_id in window.PyViz.kernels) && (window.PyViz.kernels[plot_id])) {\n",
       "        window.PyViz.kernels[plot_id].registerCommTarget(comm_id, function(comm) {\n",
       "          comm.onMsg = msg_handler;\n",
       "        });\n",
       "      } else if (typeof google != 'undefined' && google.colab.kernel != null) {\n",
       "        google.colab.kernel.comms.registerTarget(comm_id, (comm) => {\n",
       "          var messages = comm.messages[Symbol.asyncIterator]();\n",
       "          function processIteratorResult(result) {\n",
       "            var message = result.value;\n",
       "            console.log(message)\n",
       "            var content = {data: message.data, comm_id};\n",
       "            var buffers = []\n",
       "            for (var buffer of message.buffers || []) {\n",
       "              buffers.push(new DataView(buffer))\n",
       "            }\n",
       "            var metadata = message.metadata || {};\n",
       "            var msg = {content, buffers, metadata}\n",
       "            msg_handler(msg);\n",
       "            return messages.next().then(processIteratorResult);\n",
       "          }\n",
       "          return messages.next().then(processIteratorResult);\n",
       "        })\n",
       "      }\n",
       "    }\n",
       "\n",
       "    JupyterCommManager.prototype.get_client_comm = function(plot_id, comm_id, msg_handler) {\n",
       "      if (comm_id in window.PyViz.comms) {\n",
       "        return window.PyViz.comms[comm_id];\n",
       "      } else if (window.comm_manager || ((window.Jupyter !== undefined) && (Jupyter.notebook.kernel != null))) {\n",
       "        var comm_manager = window.comm_manager || Jupyter.notebook.kernel.comm_manager;\n",
       "        var comm = comm_manager.new_comm(comm_id, {}, {}, {}, comm_id);\n",
       "        if (msg_handler) {\n",
       "          comm.on_msg(msg_handler);\n",
       "        }\n",
       "      } else if ((plot_id in window.PyViz.kernels) && (window.PyViz.kernels[plot_id])) {\n",
       "        var comm = window.PyViz.kernels[plot_id].connectToComm(comm_id);\n",
       "        comm.open();\n",
       "        if (msg_handler) {\n",
       "          comm.onMsg = msg_handler;\n",
       "        }\n",
       "      } else if (typeof google != 'undefined' && google.colab.kernel != null) {\n",
       "        var comm_promise = google.colab.kernel.comms.open(comm_id)\n",
       "        comm_promise.then((comm) => {\n",
       "          window.PyViz.comms[comm_id] = comm;\n",
       "          if (msg_handler) {\n",
       "            var messages = comm.messages[Symbol.asyncIterator]();\n",
       "            function processIteratorResult(result) {\n",
       "              var message = result.value;\n",
       "              var content = {data: message.data};\n",
       "              var metadata = message.metadata || {comm_id};\n",
       "              var msg = {content, metadata}\n",
       "              msg_handler(msg);\n",
       "              return messages.next().then(processIteratorResult);\n",
       "            }\n",
       "            return messages.next().then(processIteratorResult);\n",
       "          }\n",
       "        }) \n",
       "        var sendClosure = (data, metadata, buffers, disposeOnDone) => {\n",
       "          return comm_promise.then((comm) => {\n",
       "            comm.send(data, metadata, buffers, disposeOnDone);\n",
       "          });\n",
       "        };\n",
       "        var comm = {\n",
       "          send: sendClosure\n",
       "        };\n",
       "      }\n",
       "      window.PyViz.comms[comm_id] = comm;\n",
       "      return comm;\n",
       "    }\n",
       "    window.PyViz.comm_manager = new JupyterCommManager();\n",
       "    \n",
       "\n",
       "\n",
       "var JS_MIME_TYPE = 'application/javascript';\n",
       "var HTML_MIME_TYPE = 'text/html';\n",
       "var EXEC_MIME_TYPE = 'application/vnd.holoviews_exec.v0+json';\n",
       "var CLASS_NAME = 'output';\n",
       "\n",
       "/**\n",
       " * Render data to the DOM node\n",
       " */\n",
       "function render(props, node) {\n",
       "  var div = document.createElement(\"div\");\n",
       "  var script = document.createElement(\"script\");\n",
       "  node.appendChild(div);\n",
       "  node.appendChild(script);\n",
       "}\n",
       "\n",
       "/**\n",
       " * Handle when a new output is added\n",
       " */\n",
       "function handle_add_output(event, handle) {\n",
       "  var output_area = handle.output_area;\n",
       "  var output = handle.output;\n",
       "  if ((output.data == undefined) || (!output.data.hasOwnProperty(EXEC_MIME_TYPE))) {\n",
       "    return\n",
       "  }\n",
       "  var id = output.metadata[EXEC_MIME_TYPE][\"id\"];\n",
       "  var toinsert = output_area.element.find(\".\" + CLASS_NAME.split(' ')[0]);\n",
       "  if (id !== undefined) {\n",
       "    var nchildren = toinsert.length;\n",
       "    var html_node = toinsert[nchildren-1].children[0];\n",
       "    html_node.innerHTML = output.data[HTML_MIME_TYPE];\n",
       "    var scripts = [];\n",
       "    var nodelist = html_node.querySelectorAll(\"script\");\n",
       "    for (var i in nodelist) {\n",
       "      if (nodelist.hasOwnProperty(i)) {\n",
       "        scripts.push(nodelist[i])\n",
       "      }\n",
       "    }\n",
       "\n",
       "    scripts.forEach( function (oldScript) {\n",
       "      var newScript = document.createElement(\"script\");\n",
       "      var attrs = [];\n",
       "      var nodemap = oldScript.attributes;\n",
       "      for (var j in nodemap) {\n",
       "        if (nodemap.hasOwnProperty(j)) {\n",
       "          attrs.push(nodemap[j])\n",
       "        }\n",
       "      }\n",
       "      attrs.forEach(function(attr) { newScript.setAttribute(attr.name, attr.value) });\n",
       "      newScript.appendChild(document.createTextNode(oldScript.innerHTML));\n",
       "      oldScript.parentNode.replaceChild(newScript, oldScript);\n",
       "    });\n",
       "    if (JS_MIME_TYPE in output.data) {\n",
       "      toinsert[nchildren-1].children[1].textContent = output.data[JS_MIME_TYPE];\n",
       "    }\n",
       "    output_area._hv_plot_id = id;\n",
       "    if ((window.Bokeh !== undefined) && (id in Bokeh.index)) {\n",
       "      window.PyViz.plot_index[id] = Bokeh.index[id];\n",
       "    } else {\n",
       "      window.PyViz.plot_index[id] = null;\n",
       "    }\n",
       "  } else if (output.metadata[EXEC_MIME_TYPE][\"server_id\"] !== undefined) {\n",
       "    var bk_div = document.createElement(\"div\");\n",
       "    bk_div.innerHTML = output.data[HTML_MIME_TYPE];\n",
       "    var script_attrs = bk_div.children[0].attributes;\n",
       "    for (var i = 0; i < script_attrs.length; i++) {\n",
       "      toinsert[toinsert.length - 1].childNodes[1].setAttribute(script_attrs[i].name, script_attrs[i].value);\n",
       "    }\n",
       "    // store reference to server id on output_area\n",
       "    output_area._bokeh_server_id = output.metadata[EXEC_MIME_TYPE][\"server_id\"];\n",
       "  }\n",
       "}\n",
       "\n",
       "/**\n",
       " * Handle when an output is cleared or removed\n",
       " */\n",
       "function handle_clear_output(event, handle) {\n",
       "  var id = handle.cell.output_area._hv_plot_id;\n",
       "  var server_id = handle.cell.output_area._bokeh_server_id;\n",
       "  if (((id === undefined) || !(id in PyViz.plot_index)) && (server_id !== undefined)) { return; }\n",
       "  var comm = window.PyViz.comm_manager.get_client_comm(\"hv-extension-comm\", \"hv-extension-comm\", function () {});\n",
       "  if (server_id !== null) {\n",
       "    comm.send({event_type: 'server_delete', 'id': server_id});\n",
       "    return;\n",
       "  } else if (comm !== null) {\n",
       "    comm.send({event_type: 'delete', 'id': id});\n",
       "  }\n",
       "  delete PyViz.plot_index[id];\n",
       "  if ((window.Bokeh !== undefined) & (id in window.Bokeh.index)) {\n",
       "    var doc = window.Bokeh.index[id].model.document\n",
       "    doc.clear();\n",
       "    const i = window.Bokeh.documents.indexOf(doc);\n",
       "    if (i > -1) {\n",
       "      window.Bokeh.documents.splice(i, 1);\n",
       "    }\n",
       "  }\n",
       "}\n",
       "\n",
       "/**\n",
       " * Handle kernel restart event\n",
       " */\n",
       "function handle_kernel_cleanup(event, handle) {\n",
       "  delete PyViz.comms[\"hv-extension-comm\"];\n",
       "  window.PyViz.plot_index = {}\n",
       "}\n",
       "\n",
       "/**\n",
       " * Handle update_display_data messages\n",
       " */\n",
       "function handle_update_output(event, handle) {\n",
       "  handle_clear_output(event, {cell: {output_area: handle.output_area}})\n",
       "  handle_add_output(event, handle)\n",
       "}\n",
       "\n",
       "function register_renderer(events, OutputArea) {\n",
       "  function append_mime(data, metadata, element) {\n",
       "    // create a DOM node to render to\n",
       "    var toinsert = this.create_output_subarea(\n",
       "    metadata,\n",
       "    CLASS_NAME,\n",
       "    EXEC_MIME_TYPE\n",
       "    );\n",
       "    this.keyboard_manager.register_events(toinsert);\n",
       "    // Render to node\n",
       "    var props = {data: data, metadata: metadata[EXEC_MIME_TYPE]};\n",
       "    render(props, toinsert[0]);\n",
       "    element.append(toinsert);\n",
       "    return toinsert\n",
       "  }\n",
       "\n",
       "  events.on('output_added.OutputArea', handle_add_output);\n",
       "  events.on('output_updated.OutputArea', handle_update_output);\n",
       "  events.on('clear_output.CodeCell', handle_clear_output);\n",
       "  events.on('delete.Cell', handle_clear_output);\n",
       "  events.on('kernel_ready.Kernel', handle_kernel_cleanup);\n",
       "\n",
       "  OutputArea.prototype.register_mime_type(EXEC_MIME_TYPE, append_mime, {\n",
       "    safe: true,\n",
       "    index: 0\n",
       "  });\n",
       "}\n",
       "\n",
       "if (window.Jupyter !== undefined) {\n",
       "  try {\n",
       "    var events = require('base/js/events');\n",
       "    var OutputArea = require('notebook/js/outputarea').OutputArea;\n",
       "    if (OutputArea.prototype.mime_types().indexOf(EXEC_MIME_TYPE) == -1) {\n",
       "      register_renderer(events, OutputArea);\n",
       "    }\n",
       "  } catch(err) {\n",
       "  }\n",
       "}\n"
      ],
      "application/vnd.holoviews_load.v0+json": "\nif ((window.PyViz === undefined) || (window.PyViz instanceof HTMLElement)) {\n  window.PyViz = {comms: {}, comm_status:{}, kernels:{}, receivers: {}, plot_index: []}\n}\n\n\n    function JupyterCommManager() {\n    }\n\n    JupyterCommManager.prototype.register_target = function(plot_id, comm_id, msg_handler) {\n      if (window.comm_manager || ((window.Jupyter !== undefined) && (Jupyter.notebook.kernel != null))) {\n        var comm_manager = window.comm_manager || Jupyter.notebook.kernel.comm_manager;\n        comm_manager.register_target(comm_id, function(comm) {\n          comm.on_msg(msg_handler);\n        });\n      } else if ((plot_id in window.PyViz.kernels) && (window.PyViz.kernels[plot_id])) {\n        window.PyViz.kernels[plot_id].registerCommTarget(comm_id, function(comm) {\n          comm.onMsg = msg_handler;\n        });\n      } else if (typeof google != 'undefined' && google.colab.kernel != null) {\n        google.colab.kernel.comms.registerTarget(comm_id, (comm) => {\n          var messages = comm.messages[Symbol.asyncIterator]();\n          function processIteratorResult(result) {\n            var message = result.value;\n            console.log(message)\n            var content = {data: message.data, comm_id};\n            var buffers = []\n            for (var buffer of message.buffers || []) {\n              buffers.push(new DataView(buffer))\n            }\n            var metadata = message.metadata || {};\n            var msg = {content, buffers, metadata}\n            msg_handler(msg);\n            return messages.next().then(processIteratorResult);\n          }\n          return messages.next().then(processIteratorResult);\n        })\n      }\n    }\n\n    JupyterCommManager.prototype.get_client_comm = function(plot_id, comm_id, msg_handler) {\n      if (comm_id in window.PyViz.comms) {\n        return window.PyViz.comms[comm_id];\n      } else if (window.comm_manager || ((window.Jupyter !== undefined) && (Jupyter.notebook.kernel != null))) {\n        var comm_manager = window.comm_manager || Jupyter.notebook.kernel.comm_manager;\n        var comm = comm_manager.new_comm(comm_id, {}, {}, {}, comm_id);\n        if (msg_handler) {\n          comm.on_msg(msg_handler);\n        }\n      } else if ((plot_id in window.PyViz.kernels) && (window.PyViz.kernels[plot_id])) {\n        var comm = window.PyViz.kernels[plot_id].connectToComm(comm_id);\n        comm.open();\n        if (msg_handler) {\n          comm.onMsg = msg_handler;\n        }\n      } else if (typeof google != 'undefined' && google.colab.kernel != null) {\n        var comm_promise = google.colab.kernel.comms.open(comm_id)\n        comm_promise.then((comm) => {\n          window.PyViz.comms[comm_id] = comm;\n          if (msg_handler) {\n            var messages = comm.messages[Symbol.asyncIterator]();\n            function processIteratorResult(result) {\n              var message = result.value;\n              var content = {data: message.data};\n              var metadata = message.metadata || {comm_id};\n              var msg = {content, metadata}\n              msg_handler(msg);\n              return messages.next().then(processIteratorResult);\n            }\n            return messages.next().then(processIteratorResult);\n          }\n        }) \n        var sendClosure = (data, metadata, buffers, disposeOnDone) => {\n          return comm_promise.then((comm) => {\n            comm.send(data, metadata, buffers, disposeOnDone);\n          });\n        };\n        var comm = {\n          send: sendClosure\n        };\n      }\n      window.PyViz.comms[comm_id] = comm;\n      return comm;\n    }\n    window.PyViz.comm_manager = new JupyterCommManager();\n    \n\n\nvar JS_MIME_TYPE = 'application/javascript';\nvar HTML_MIME_TYPE = 'text/html';\nvar EXEC_MIME_TYPE = 'application/vnd.holoviews_exec.v0+json';\nvar CLASS_NAME = 'output';\n\n/**\n * Render data to the DOM node\n */\nfunction render(props, node) {\n  var div = document.createElement(\"div\");\n  var script = document.createElement(\"script\");\n  node.appendChild(div);\n  node.appendChild(script);\n}\n\n/**\n * Handle when a new output is added\n */\nfunction handle_add_output(event, handle) {\n  var output_area = handle.output_area;\n  var output = handle.output;\n  if ((output.data == undefined) || (!output.data.hasOwnProperty(EXEC_MIME_TYPE))) {\n    return\n  }\n  var id = output.metadata[EXEC_MIME_TYPE][\"id\"];\n  var toinsert = output_area.element.find(\".\" + CLASS_NAME.split(' ')[0]);\n  if (id !== undefined) {\n    var nchildren = toinsert.length;\n    var html_node = toinsert[nchildren-1].children[0];\n    html_node.innerHTML = output.data[HTML_MIME_TYPE];\n    var scripts = [];\n    var nodelist = html_node.querySelectorAll(\"script\");\n    for (var i in nodelist) {\n      if (nodelist.hasOwnProperty(i)) {\n        scripts.push(nodelist[i])\n      }\n    }\n\n    scripts.forEach( function (oldScript) {\n      var newScript = document.createElement(\"script\");\n      var attrs = [];\n      var nodemap = oldScript.attributes;\n      for (var j in nodemap) {\n        if (nodemap.hasOwnProperty(j)) {\n          attrs.push(nodemap[j])\n        }\n      }\n      attrs.forEach(function(attr) { newScript.setAttribute(attr.name, attr.value) });\n      newScript.appendChild(document.createTextNode(oldScript.innerHTML));\n      oldScript.parentNode.replaceChild(newScript, oldScript);\n    });\n    if (JS_MIME_TYPE in output.data) {\n      toinsert[nchildren-1].children[1].textContent = output.data[JS_MIME_TYPE];\n    }\n    output_area._hv_plot_id = id;\n    if ((window.Bokeh !== undefined) && (id in Bokeh.index)) {\n      window.PyViz.plot_index[id] = Bokeh.index[id];\n    } else {\n      window.PyViz.plot_index[id] = null;\n    }\n  } else if (output.metadata[EXEC_MIME_TYPE][\"server_id\"] !== undefined) {\n    var bk_div = document.createElement(\"div\");\n    bk_div.innerHTML = output.data[HTML_MIME_TYPE];\n    var script_attrs = bk_div.children[0].attributes;\n    for (var i = 0; i < script_attrs.length; i++) {\n      toinsert[toinsert.length - 1].childNodes[1].setAttribute(script_attrs[i].name, script_attrs[i].value);\n    }\n    // store reference to server id on output_area\n    output_area._bokeh_server_id = output.metadata[EXEC_MIME_TYPE][\"server_id\"];\n  }\n}\n\n/**\n * Handle when an output is cleared or removed\n */\nfunction handle_clear_output(event, handle) {\n  var id = handle.cell.output_area._hv_plot_id;\n  var server_id = handle.cell.output_area._bokeh_server_id;\n  if (((id === undefined) || !(id in PyViz.plot_index)) && (server_id !== undefined)) { return; }\n  var comm = window.PyViz.comm_manager.get_client_comm(\"hv-extension-comm\", \"hv-extension-comm\", function () {});\n  if (server_id !== null) {\n    comm.send({event_type: 'server_delete', 'id': server_id});\n    return;\n  } else if (comm !== null) {\n    comm.send({event_type: 'delete', 'id': id});\n  }\n  delete PyViz.plot_index[id];\n  if ((window.Bokeh !== undefined) & (id in window.Bokeh.index)) {\n    var doc = window.Bokeh.index[id].model.document\n    doc.clear();\n    const i = window.Bokeh.documents.indexOf(doc);\n    if (i > -1) {\n      window.Bokeh.documents.splice(i, 1);\n    }\n  }\n}\n\n/**\n * Handle kernel restart event\n */\nfunction handle_kernel_cleanup(event, handle) {\n  delete PyViz.comms[\"hv-extension-comm\"];\n  window.PyViz.plot_index = {}\n}\n\n/**\n * Handle update_display_data messages\n */\nfunction handle_update_output(event, handle) {\n  handle_clear_output(event, {cell: {output_area: handle.output_area}})\n  handle_add_output(event, handle)\n}\n\nfunction register_renderer(events, OutputArea) {\n  function append_mime(data, metadata, element) {\n    // create a DOM node to render to\n    var toinsert = this.create_output_subarea(\n    metadata,\n    CLASS_NAME,\n    EXEC_MIME_TYPE\n    );\n    this.keyboard_manager.register_events(toinsert);\n    // Render to node\n    var props = {data: data, metadata: metadata[EXEC_MIME_TYPE]};\n    render(props, toinsert[0]);\n    element.append(toinsert);\n    return toinsert\n  }\n\n  events.on('output_added.OutputArea', handle_add_output);\n  events.on('output_updated.OutputArea', handle_update_output);\n  events.on('clear_output.CodeCell', handle_clear_output);\n  events.on('delete.Cell', handle_clear_output);\n  events.on('kernel_ready.Kernel', handle_kernel_cleanup);\n\n  OutputArea.prototype.register_mime_type(EXEC_MIME_TYPE, append_mime, {\n    safe: true,\n    index: 0\n  });\n}\n\nif (window.Jupyter !== undefined) {\n  try {\n    var events = require('base/js/events');\n    var OutputArea = require('notebook/js/outputarea').OutputArea;\n    if (OutputArea.prototype.mime_types().indexOf(EXEC_MIME_TYPE) == -1) {\n      register_renderer(events, OutputArea);\n    }\n  } catch(err) {\n  }\n}\n"
     },
     "metadata": {},
     "output_type": "display_data"
    },
    {
     "data": {
      "text/html": [
       "<style>*[data-root-id],\n",
       "*[data-root-id] > * {\n",
       "  box-sizing: border-box;\n",
       "  font-family: var(--jp-ui-font-family);\n",
       "  font-size: var(--jp-ui-font-size1);\n",
       "  color: var(--vscode-editor-foreground, var(--jp-ui-font-color1));\n",
       "}\n",
       "\n",
       "/* Override VSCode background color */\n",
       ".cell-output-ipywidget-background:has(\n",
       "    > .cell-output-ipywidget-background > .lm-Widget > *[data-root-id]\n",
       "  ),\n",
       ".cell-output-ipywidget-background:has(> .lm-Widget > *[data-root-id]) {\n",
       "  background-color: transparent !important;\n",
       "}\n",
       "</style>"
      ]
     },
     "metadata": {},
     "output_type": "display_data"
    },
    {
     "data": {
      "application/vnd.holoviews_exec.v0+json": "",
      "text/html": [
       "<div id='f74a9516-99b1-4a82-a5f6-ef85831e6ae4'>\n",
       "  <div id=\"b1f49f08-bf18-4970-b23a-e37fc7d0065a\" data-root-id=\"f74a9516-99b1-4a82-a5f6-ef85831e6ae4\" style=\"display: contents;\"></div>\n",
       "</div>\n",
       "<script type=\"application/javascript\">(function(root) {\n",
       "  var docs_json = {\"7a681f9d-5fd5-494c-83ce-05dc4f5a96ee\":{\"version\":\"3.4.2\",\"title\":\"Bokeh Application\",\"roots\":[{\"type\":\"object\",\"name\":\"panel.models.browser.BrowserInfo\",\"id\":\"f74a9516-99b1-4a82-a5f6-ef85831e6ae4\"},{\"type\":\"object\",\"name\":\"panel.models.comm_manager.CommManager\",\"id\":\"f2bc1f90-c692-480f-b01d-b56b1dcc7a23\",\"attributes\":{\"plot_id\":\"f74a9516-99b1-4a82-a5f6-ef85831e6ae4\",\"comm_id\":\"f53834e70a194f40a98f2c73277762a8\",\"client_comm_id\":\"b829844c0750402e8735397e728fd055\"}}],\"defs\":[{\"type\":\"model\",\"name\":\"ReactiveHTML1\"},{\"type\":\"model\",\"name\":\"FlexBox1\",\"properties\":[{\"name\":\"align_content\",\"kind\":\"Any\",\"default\":\"flex-start\"},{\"name\":\"align_items\",\"kind\":\"Any\",\"default\":\"flex-start\"},{\"name\":\"flex_direction\",\"kind\":\"Any\",\"default\":\"row\"},{\"name\":\"flex_wrap\",\"kind\":\"Any\",\"default\":\"wrap\"},{\"name\":\"gap\",\"kind\":\"Any\",\"default\":\"\"},{\"name\":\"justify_content\",\"kind\":\"Any\",\"default\":\"flex-start\"}]},{\"type\":\"model\",\"name\":\"FloatPanel1\",\"properties\":[{\"name\":\"config\",\"kind\":\"Any\",\"default\":{\"type\":\"map\"}},{\"name\":\"contained\",\"kind\":\"Any\",\"default\":true},{\"name\":\"position\",\"kind\":\"Any\",\"default\":\"right-top\"},{\"name\":\"offsetx\",\"kind\":\"Any\",\"default\":null},{\"name\":\"offsety\",\"kind\":\"Any\",\"default\":null},{\"name\":\"theme\",\"kind\":\"Any\",\"default\":\"primary\"},{\"name\":\"status\",\"kind\":\"Any\",\"default\":\"normalized\"}]},{\"type\":\"model\",\"name\":\"GridStack1\",\"properties\":[{\"name\":\"mode\",\"kind\":\"Any\",\"default\":\"warn\"},{\"name\":\"ncols\",\"kind\":\"Any\",\"default\":null},{\"name\":\"nrows\",\"kind\":\"Any\",\"default\":null},{\"name\":\"allow_resize\",\"kind\":\"Any\",\"default\":true},{\"name\":\"allow_drag\",\"kind\":\"Any\",\"default\":true},{\"name\":\"state\",\"kind\":\"Any\",\"default\":[]}]},{\"type\":\"model\",\"name\":\"drag1\",\"properties\":[{\"name\":\"slider_width\",\"kind\":\"Any\",\"default\":5},{\"name\":\"slider_color\",\"kind\":\"Any\",\"default\":\"black\"},{\"name\":\"value\",\"kind\":\"Any\",\"default\":50}]},{\"type\":\"model\",\"name\":\"click1\",\"properties\":[{\"name\":\"terminal_output\",\"kind\":\"Any\",\"default\":\"\"},{\"name\":\"debug_name\",\"kind\":\"Any\",\"default\":\"\"},{\"name\":\"clears\",\"kind\":\"Any\",\"default\":0}]},{\"type\":\"model\",\"name\":\"FastWrapper1\",\"properties\":[{\"name\":\"object\",\"kind\":\"Any\",\"default\":null},{\"name\":\"style\",\"kind\":\"Any\",\"default\":null}]},{\"type\":\"model\",\"name\":\"NotificationAreaBase1\",\"properties\":[{\"name\":\"js_events\",\"kind\":\"Any\",\"default\":{\"type\":\"map\"}},{\"name\":\"position\",\"kind\":\"Any\",\"default\":\"bottom-right\"},{\"name\":\"_clear\",\"kind\":\"Any\",\"default\":0}]},{\"type\":\"model\",\"name\":\"NotificationArea1\",\"properties\":[{\"name\":\"js_events\",\"kind\":\"Any\",\"default\":{\"type\":\"map\"}},{\"name\":\"notifications\",\"kind\":\"Any\",\"default\":[]},{\"name\":\"position\",\"kind\":\"Any\",\"default\":\"bottom-right\"},{\"name\":\"_clear\",\"kind\":\"Any\",\"default\":0},{\"name\":\"types\",\"kind\":\"Any\",\"default\":[{\"type\":\"map\",\"entries\":[[\"type\",\"warning\"],[\"background\",\"#ffc107\"],[\"icon\",{\"type\":\"map\",\"entries\":[[\"className\",\"fas fa-exclamation-triangle\"],[\"tagName\",\"i\"],[\"color\",\"white\"]]}]]},{\"type\":\"map\",\"entries\":[[\"type\",\"info\"],[\"background\",\"#007bff\"],[\"icon\",{\"type\":\"map\",\"entries\":[[\"className\",\"fas fa-info-circle\"],[\"tagName\",\"i\"],[\"color\",\"white\"]]}]]}]}]},{\"type\":\"model\",\"name\":\"Notification\",\"properties\":[{\"name\":\"background\",\"kind\":\"Any\",\"default\":null},{\"name\":\"duration\",\"kind\":\"Any\",\"default\":3000},{\"name\":\"icon\",\"kind\":\"Any\",\"default\":null},{\"name\":\"message\",\"kind\":\"Any\",\"default\":\"\"},{\"name\":\"notification_type\",\"kind\":\"Any\",\"default\":null},{\"name\":\"_destroyed\",\"kind\":\"Any\",\"default\":false}]},{\"type\":\"model\",\"name\":\"TemplateActions1\",\"properties\":[{\"name\":\"open_modal\",\"kind\":\"Any\",\"default\":0},{\"name\":\"close_modal\",\"kind\":\"Any\",\"default\":0}]},{\"type\":\"model\",\"name\":\"BootstrapTemplateActions1\",\"properties\":[{\"name\":\"open_modal\",\"kind\":\"Any\",\"default\":0},{\"name\":\"close_modal\",\"kind\":\"Any\",\"default\":0}]},{\"type\":\"model\",\"name\":\"TemplateEditor1\",\"properties\":[{\"name\":\"layout\",\"kind\":\"Any\",\"default\":[]}]},{\"type\":\"model\",\"name\":\"MaterialTemplateActions1\",\"properties\":[{\"name\":\"open_modal\",\"kind\":\"Any\",\"default\":0},{\"name\":\"close_modal\",\"kind\":\"Any\",\"default\":0}]},{\"type\":\"model\",\"name\":\"copy_to_clipboard1\",\"properties\":[{\"name\":\"fill\",\"kind\":\"Any\",\"default\":\"none\"},{\"name\":\"value\",\"kind\":\"Any\",\"default\":null}]}]}};\n",
       "  var render_items = [{\"docid\":\"7a681f9d-5fd5-494c-83ce-05dc4f5a96ee\",\"roots\":{\"f74a9516-99b1-4a82-a5f6-ef85831e6ae4\":\"b1f49f08-bf18-4970-b23a-e37fc7d0065a\"},\"root_ids\":[\"f74a9516-99b1-4a82-a5f6-ef85831e6ae4\"]}];\n",
       "  var docs = Object.values(docs_json)\n",
       "  if (!docs) {\n",
       "    return\n",
       "  }\n",
       "  const py_version = docs[0].version.replace('rc', '-rc.').replace('.dev', '-dev.')\n",
       "  async function embed_document(root) {\n",
       "    var Bokeh = get_bokeh(root)\n",
       "    await Bokeh.embed.embed_items_notebook(docs_json, render_items);\n",
       "    for (const render_item of render_items) {\n",
       "      for (const root_id of render_item.root_ids) {\n",
       "\tconst id_el = document.getElementById(root_id)\n",
       "\tif (id_el.children.length && id_el.children[0].hasAttribute('data-root-id')) {\n",
       "\t  const root_el = id_el.children[0]\n",
       "\t  root_el.id = root_el.id + '-rendered'\n",
       "\t  for (const child of root_el.children) {\n",
       "            // Ensure JupyterLab does not capture keyboard shortcuts\n",
       "            // see: https://jupyterlab.readthedocs.io/en/4.1.x/extension/notebook.html#keyboard-interaction-model\n",
       "\t    child.setAttribute('data-lm-suppress-shortcuts', 'true')\n",
       "\t  }\n",
       "\t}\n",
       "      }\n",
       "    }\n",
       "  }\n",
       "  function get_bokeh(root) {\n",
       "    if (root.Bokeh === undefined) {\n",
       "      return null\n",
       "    } else if (root.Bokeh.version !== py_version) {\n",
       "      if (root.Bokeh.versions === undefined || !root.Bokeh.versions.has(py_version)) {\n",
       "\treturn null\n",
       "      }\n",
       "      return root.Bokeh.versions.get(py_version);\n",
       "    } else if (root.Bokeh.version === py_version) {\n",
       "      return root.Bokeh\n",
       "    }\n",
       "    return null\n",
       "  }\n",
       "  function is_loaded(root) {\n",
       "    var Bokeh = get_bokeh(root)\n",
       "    return (Bokeh != null && Bokeh.Panel !== undefined)\n",
       "  }\n",
       "  if (is_loaded(root)) {\n",
       "    embed_document(root);\n",
       "  } else {\n",
       "    var attempts = 0;\n",
       "    var timer = setInterval(function(root) {\n",
       "      if (is_loaded(root)) {\n",
       "        clearInterval(timer);\n",
       "        embed_document(root);\n",
       "      } else if (document.readyState == \"complete\") {\n",
       "        attempts++;\n",
       "        if (attempts > 200) {\n",
       "          clearInterval(timer);\n",
       "\t  var Bokeh = get_bokeh(root)\n",
       "\t  if (Bokeh == null || Bokeh.Panel == null) {\n",
       "            console.warn(\"Panel: ERROR: Unable to run Panel code because Bokeh or Panel library is missing\");\n",
       "\t  } else {\n",
       "\t    console.warn(\"Panel: WARNING: Attempting to render but not all required libraries could be resolved.\")\n",
       "\t    embed_document(root)\n",
       "\t  }\n",
       "        }\n",
       "      }\n",
       "    }, 25, root)\n",
       "  }\n",
       "})(window);</script>"
      ]
     },
     "metadata": {
      "application/vnd.holoviews_exec.v0+json": {
       "id": "f74a9516-99b1-4a82-a5f6-ef85831e6ae4"
      }
     },
     "output_type": "display_data"
    }
   ],
   "source": [
    "import panel as pn\n",
    "pn.extension()\n",
    "import polars as pl\n",
    "from helper.jupyter import row"
   ]
  },
  {
   "cell_type": "markdown",
   "id": "aeef8d3a-05c6-42aa-af40-c68235e42406",
   "metadata": {},
   "source": [
    "## メッセージチェン\n",
    "\n",
    "Polarsでは、メソッドチェーンを活用することでデータ操作を効率的に行うことができますが、メソッドチェーンの途中でどのようにデータが変化するのかを把握するのは難しい場合があります。そこで、デバッグのために次の2つの方法を活用できます。\n",
    "\n",
    "* `helper.polars.DataCapturer`: メソッドチェーンの任意の点でデータをキャプチャし、状態を確認できます。\n",
    "* `helper.polars.PipeLogger`: メソッドチェーン全体の入出力と引数をキャプチャし、可視化します。"
   ]
  },
  {
   "cell_type": "markdown",
   "id": "43651494-177b-472b-ab75-0fcbb99e7707",
   "metadata": {},
   "source": [
    "### DataCapturer\n",
    "\n",
    "`DataCapturer`を使用すると、メソッドチェーン内の特定のポイントでデータの状態をキャプチャできます。以下は、`DataCapturer`の使い方を示す例です。"
   ]
  },
  {
   "cell_type": "code",
   "execution_count": 2,
   "id": "71fb878f-00a0-495a-bada-bc1ffd26a67c",
   "metadata": {},
   "outputs": [
    {
     "data": {
      "text/html": [
       "<table><tr><td><div><style>\n",
       ".dataframe > thead > tr,\n",
       ".dataframe > tbody > tr {\n",
       "  text-align: right;\n",
       "  white-space: pre-wrap;\n",
       "}\n",
       "</style>\n",
       "<small>shape: (3, 5)</small><table border=\"1\" class=\"dataframe\"><thead><tr><th>name</th><th>age</th><th>score</th><th>department</th><th>adjusted_score</th></tr><tr><td>str</td><td>i64</td><td>i64</td><td>str</td><td>f64</td></tr></thead><tbody><tr><td>&quot;Charlie&quot;</td><td>35</td><td>95</td><td>&quot;HR&quot;</td><td>104.5</td></tr><tr><td>&quot;David&quot;</td><td>40</td><td>80</td><td>&quot;IT&quot;</td><td>88.0</td></tr><tr><td>&quot;Eve&quot;</td><td>45</td><td>70</td><td>&quot;HR&quot;</td><td>77.0</td></tr></tbody></table></div></td><td><div><style>\n",
       ".dataframe > thead > tr,\n",
       ".dataframe > tbody > tr {\n",
       "  text-align: right;\n",
       "  white-space: pre-wrap;\n",
       "}\n",
       "</style>\n",
       "<small>shape: (2, 3)</small><table border=\"1\" class=\"dataframe\"><thead><tr><th>department</th><th>average_score</th><th>max_age</th></tr><tr><td>str</td><td>f64</td><td>i64</td></tr></thead><tbody><tr><td>&quot;HR&quot;</td><td>90.75</td><td>45</td></tr><tr><td>&quot;IT&quot;</td><td>88.0</td><td>40</td></tr></tbody></table></div></td></tr></table>"
      ]
     },
     "metadata": {},
     "output_type": "display_data"
    }
   ],
   "source": [
    "from helper.polars import DataCapturer\n",
    "\n",
    "df = pl.DataFrame({\n",
    "    \"name\": [\"Alice\", \"Bob\", \"Charlie\", \"David\", \"Eve\"],\n",
    "    \"age\": [25, 30, 35, 40, 45],\n",
    "    \"score\": [85, 90, 95, 80, 70],\n",
    "    \"department\": [\"HR\", \"IT\", \"HR\", \"IT\", \"HR\"]\n",
    "})\n",
    "\n",
    "cap = DataCapturer() #❶\n",
    "\n",
    "result = (\n",
    "df\n",
    ".filter(pl.col(\"age\") > 30)  \n",
    ".with_columns(\n",
    "  (pl.col(\"score\") * 1.1).alias(\"adjusted_score\")\n",
    ")\n",
    ".pipe(cap.before_group) #❷\n",
    ".group_by(\"department\")\n",
    ".agg([\n",
    "  pl.col(\"adjusted_score\").mean().alias(\"average_score\"),\n",
    "  pl.col(\"age\").max().alias(\"max_age\")\n",
    "])\n",
    ".pipe(cap.before_sort) #❷\n",
    ".sort(\"average_score\", descending=True)\n",
    ")\n",
    "\n",
    "row(cap.before_group, cap.before_sort) #❸"
   ]
  },
  {
   "cell_type": "markdown",
   "id": "084632b4-759b-4ccd-8e09-4653ce1b88c1",
   "metadata": {},
   "source": [
    "このコードでは、`cap.before_group`でグループ化の前のデータ状態をキャプチャし、`cap.before_sort`でソート前のデータ状態をキャプチャしています。\n",
    "\n",
    "❶メソッドチェーンを開始する前に、`DataCapturer()`のインスタンス`cap`を作成します。<br>\n",
    "❷メソッドチェーンの特定の場所で、`.pipe(cap.name)`を挿入し、その時点のデータを`name`としてキャプチャします。<br>\n",
    "❸キャプチャしたデータは`cap.name`でアクセスできます。<br>"
   ]
  },
  {
   "cell_type": "markdown",
   "id": "e2135871-6028-4435-91b0-e2df4581b0bf",
   "metadata": {},
   "source": [
    "### PipeLogger\n",
    "\n",
    "`PipeLogger`を使用すると、メソッドチェーン内の各ステップで発生するデータの入出力を視覚的に確認できます。これにより、データがどのように変化しているかを逐一確認しながら処理を進めることができ、デバッグが容易になります。\n",
    "\n",
    "以下のコード例では、`PipeLogger`を使用してデータフレームを操作し、処理中の入出力をJupyterLabで可視化する方法を示します。"
   ]
  },
  {
   "cell_type": "code",
   "execution_count": 3,
   "id": "67efaeb5-b2ed-4c38-aef1-fd86f3568b40",
   "metadata": {},
   "outputs": [
    {
     "data": {},
     "metadata": {},
     "output_type": "display_data"
    },
    {
     "data": {
      "application/vnd.holoviews_exec.v0+json": "",
      "text/html": [
       "<div id='8928703f-0a48-447d-8a0f-885d4a421f2b'>\n",
       "  <div id=\"e4962897-2429-4f0f-982f-d8a53d2154ea\" data-root-id=\"8928703f-0a48-447d-8a0f-885d4a421f2b\" style=\"display: contents;\"></div>\n",
       "</div>\n",
       "<script type=\"application/javascript\">(function(root) {\n",
       "  var docs_json = {\"cd68e2ef-85ba-404e-b859-a5a627296f7d\":{\"version\":\"3.4.2\",\"title\":\"Bokeh Application\",\"roots\":[{\"type\":\"object\",\"name\":\"panel.models.tabs.Tabs\",\"id\":\"8928703f-0a48-447d-8a0f-885d4a421f2b\",\"attributes\":{\"stylesheets\":[\"\\n:host(.pn-loading):before, .pn-loading:before {\\n  background-color: #c3c3c3;\\n  mask-size: auto calc(min(50%, 400px));\\n  -webkit-mask-size: auto calc(min(50%, 400px));\\n}\",{\"type\":\"object\",\"name\":\"ImportedStyleSheet\",\"id\":\"227277a3-004c-41e5-8f9c-0eeae16d1727\",\"attributes\":{\"url\":\"https://cdn.holoviz.org/panel/1.4.4/dist/css/loading.css\"}},{\"type\":\"object\",\"name\":\"ImportedStyleSheet\",\"id\":\"62070449-7c76-4f4f-9c74-9843b045d491\",\"attributes\":{\"url\":\"https://cdn.holoviz.org/panel/1.4.4/dist/bundled/theme/default.css\"}},{\"type\":\"object\",\"name\":\"ImportedStyleSheet\",\"id\":\"58d70e0f-aaa1-408f-89b2-5dc2a21027c3\",\"attributes\":{\"url\":\"https://cdn.holoviz.org/panel/1.4.4/dist/bundled/theme/native.css\"}}],\"margin\":0,\"align\":\"start\",\"tabs\":[{\"type\":\"object\",\"name\":\"TabPanel\",\"id\":\"08cc18ab-b061-4360-b7f0-faf38a9b7c62\",\"attributes\":{\"name\":\"Column00124\",\"title\":\"filter\",\"child\":{\"type\":\"object\",\"name\":\"panel.models.layout.Column\",\"id\":\"97f85154-6292-410b-a3d4-bb5ff8fcdc8c\",\"attributes\":{\"name\":\"Column00124\",\"stylesheets\":[\"\\n:host(.pn-loading):before, .pn-loading:before {\\n  background-color: #c3c3c3;\\n  mask-size: auto calc(min(50%, 400px));\\n  -webkit-mask-size: auto calc(min(50%, 400px));\\n}\",{\"id\":\"227277a3-004c-41e5-8f9c-0eeae16d1727\"},{\"type\":\"object\",\"name\":\"ImportedStyleSheet\",\"id\":\"7f6fd4a5-5bc7-4bd1-9697-2df522ef3f8f\",\"attributes\":{\"url\":\"https://cdn.holoviz.org/panel/1.4.4/dist/css/listpanel.css\"}},{\"id\":\"62070449-7c76-4f4f-9c74-9843b045d491\"},{\"id\":\"58d70e0f-aaa1-408f-89b2-5dc2a21027c3\"}],\"margin\":0,\"align\":\"start\",\"children\":[{\"type\":\"object\",\"name\":\"panel.models.markup.HTML\",\"id\":\"c6d87fc2-bb4d-4a32-bc5f-fe6b1acc5ec9\",\"attributes\":{\"css_classes\":[\"markdown\"],\"stylesheets\":[\"\\n:host(.pn-loading):before, .pn-loading:before {\\n  background-color: #c3c3c3;\\n  mask-size: auto calc(min(50%, 400px));\\n  -webkit-mask-size: auto calc(min(50%, 400px));\\n}\",{\"id\":\"227277a3-004c-41e5-8f9c-0eeae16d1727\"},{\"type\":\"object\",\"name\":\"ImportedStyleSheet\",\"id\":\"172e97f2-6bbf-4320-bd42-ee638cf2e605\",\"attributes\":{\"url\":\"https://cdn.holoviz.org/panel/1.4.4/dist/css/markdown.css\"}},{\"id\":\"62070449-7c76-4f4f-9c74-9843b045d491\"},{\"id\":\"58d70e0f-aaa1-408f-89b2-5dc2a21027c3\"},\"\\ncode {\\n  color: darkgreen;\\n}\\n\"],\"margin\":[5,10],\"align\":\"start\",\"text\":\"&lt;h2 id=&quot;filter&quot;&gt;filter &lt;a class=&quot;header-anchor&quot; href=&quot;#filter&quot;&gt;\\u00b6&lt;/a&gt;&lt;/h2&gt;\\n&lt;h3&gt;args&lt;/h3&gt;\\n&lt;ul&gt;\\n&lt;li&gt;&lt;code&gt;[(col(&amp;quot;age&amp;quot;)) &amp;gt; (dyn int: 30)]&lt;/code&gt;&lt;/li&gt;\\n&lt;/ul&gt;\\n&lt;h3&gt;kws&lt;/h3&gt;\\n\"}},{\"type\":\"object\",\"name\":\"Row\",\"id\":\"a06353a5-df79-4e29-b618-b68a6732f73d\",\"attributes\":{\"name\":\"Row00123\",\"stylesheets\":[\"\\n:host(.pn-loading):before, .pn-loading:before {\\n  background-color: #c3c3c3;\\n  mask-size: auto calc(min(50%, 400px));\\n  -webkit-mask-size: auto calc(min(50%, 400px));\\n}\",{\"id\":\"227277a3-004c-41e5-8f9c-0eeae16d1727\"},{\"id\":\"7f6fd4a5-5bc7-4bd1-9697-2df522ef3f8f\"},{\"id\":\"62070449-7c76-4f4f-9c74-9843b045d491\"},{\"id\":\"58d70e0f-aaa1-408f-89b2-5dc2a21027c3\"}],\"margin\":0,\"align\":\"start\",\"children\":[{\"type\":\"object\",\"name\":\"panel.models.markup.HTML\",\"id\":\"91140f7e-0bcf-4b09-b1dc-a8e0a4ee38f9\",\"attributes\":{\"stylesheets\":[\"\\n:host(.pn-loading):before, .pn-loading:before {\\n  background-color: #c3c3c3;\\n  mask-size: auto calc(min(50%, 400px));\\n  -webkit-mask-size: auto calc(min(50%, 400px));\\n}\",{\"id\":\"227277a3-004c-41e5-8f9c-0eeae16d1727\"},{\"id\":\"62070449-7c76-4f4f-9c74-9843b045d491\"},{\"id\":\"58d70e0f-aaa1-408f-89b2-5dc2a21027c3\"}],\"margin\":[5,10],\"align\":\"start\",\"text\":\"&lt;div&gt;&lt;style&gt;\\n.dataframe &gt; thead &gt; tr,\\n.dataframe &gt; tbody &gt; tr {\\n  text-align: right;\\n  white-space: pre-wrap;\\n}\\n&lt;/style&gt;\\n&lt;small&gt;shape: (5, 4)&lt;/small&gt;&lt;table border=&quot;1&quot; class=&quot;dataframe&quot;&gt;&lt;thead&gt;&lt;tr&gt;&lt;th&gt;name&lt;/th&gt;&lt;th&gt;age&lt;/th&gt;&lt;th&gt;score&lt;/th&gt;&lt;th&gt;department&lt;/th&gt;&lt;/tr&gt;&lt;tr&gt;&lt;td&gt;str&lt;/td&gt;&lt;td&gt;i64&lt;/td&gt;&lt;td&gt;i64&lt;/td&gt;&lt;td&gt;str&lt;/td&gt;&lt;/tr&gt;&lt;/thead&gt;&lt;tbody&gt;&lt;tr&gt;&lt;td&gt;&amp;quot;Alice&amp;quot;&lt;/td&gt;&lt;td&gt;25&lt;/td&gt;&lt;td&gt;85&lt;/td&gt;&lt;td&gt;&amp;quot;HR&amp;quot;&lt;/td&gt;&lt;/tr&gt;&lt;tr&gt;&lt;td&gt;&amp;quot;Bob&amp;quot;&lt;/td&gt;&lt;td&gt;30&lt;/td&gt;&lt;td&gt;90&lt;/td&gt;&lt;td&gt;&amp;quot;IT&amp;quot;&lt;/td&gt;&lt;/tr&gt;&lt;tr&gt;&lt;td&gt;&amp;quot;Charlie&amp;quot;&lt;/td&gt;&lt;td&gt;35&lt;/td&gt;&lt;td&gt;95&lt;/td&gt;&lt;td&gt;&amp;quot;HR&amp;quot;&lt;/td&gt;&lt;/tr&gt;&lt;tr&gt;&lt;td&gt;&amp;quot;David&amp;quot;&lt;/td&gt;&lt;td&gt;40&lt;/td&gt;&lt;td&gt;80&lt;/td&gt;&lt;td&gt;&amp;quot;IT&amp;quot;&lt;/td&gt;&lt;/tr&gt;&lt;tr&gt;&lt;td&gt;&amp;quot;Eve&amp;quot;&lt;/td&gt;&lt;td&gt;45&lt;/td&gt;&lt;td&gt;70&lt;/td&gt;&lt;td&gt;&amp;quot;HR&amp;quot;&lt;/td&gt;&lt;/tr&gt;&lt;/tbody&gt;&lt;/table&gt;&lt;/div&gt;\",\"disable_math\":true}},{\"type\":\"object\",\"name\":\"panel.models.markup.HTML\",\"id\":\"a480325d-8c00-45a6-ba1a-c38cfd27a0a4\",\"attributes\":{\"stylesheets\":[\"\\n:host(.pn-loading):before, .pn-loading:before {\\n  background-color: #c3c3c3;\\n  mask-size: auto calc(min(50%, 400px));\\n  -webkit-mask-size: auto calc(min(50%, 400px));\\n}\",{\"id\":\"227277a3-004c-41e5-8f9c-0eeae16d1727\"},{\"id\":\"62070449-7c76-4f4f-9c74-9843b045d491\"},{\"id\":\"58d70e0f-aaa1-408f-89b2-5dc2a21027c3\"}],\"margin\":[5,10],\"align\":\"start\",\"text\":\"&lt;div&gt;&lt;style&gt;\\n.dataframe &gt; thead &gt; tr,\\n.dataframe &gt; tbody &gt; tr {\\n  text-align: right;\\n  white-space: pre-wrap;\\n}\\n&lt;/style&gt;\\n&lt;small&gt;shape: (3, 4)&lt;/small&gt;&lt;table border=&quot;1&quot; class=&quot;dataframe&quot;&gt;&lt;thead&gt;&lt;tr&gt;&lt;th&gt;name&lt;/th&gt;&lt;th&gt;age&lt;/th&gt;&lt;th&gt;score&lt;/th&gt;&lt;th&gt;department&lt;/th&gt;&lt;/tr&gt;&lt;tr&gt;&lt;td&gt;str&lt;/td&gt;&lt;td&gt;i64&lt;/td&gt;&lt;td&gt;i64&lt;/td&gt;&lt;td&gt;str&lt;/td&gt;&lt;/tr&gt;&lt;/thead&gt;&lt;tbody&gt;&lt;tr&gt;&lt;td&gt;&amp;quot;Charlie&amp;quot;&lt;/td&gt;&lt;td&gt;35&lt;/td&gt;&lt;td&gt;95&lt;/td&gt;&lt;td&gt;&amp;quot;HR&amp;quot;&lt;/td&gt;&lt;/tr&gt;&lt;tr&gt;&lt;td&gt;&amp;quot;David&amp;quot;&lt;/td&gt;&lt;td&gt;40&lt;/td&gt;&lt;td&gt;80&lt;/td&gt;&lt;td&gt;&amp;quot;IT&amp;quot;&lt;/td&gt;&lt;/tr&gt;&lt;tr&gt;&lt;td&gt;&amp;quot;Eve&amp;quot;&lt;/td&gt;&lt;td&gt;45&lt;/td&gt;&lt;td&gt;70&lt;/td&gt;&lt;td&gt;&amp;quot;HR&amp;quot;&lt;/td&gt;&lt;/tr&gt;&lt;/tbody&gt;&lt;/table&gt;&lt;/div&gt;\",\"disable_math\":true}}]}}]}}}},{\"type\":\"object\",\"name\":\"TabPanel\",\"id\":\"1e678c98-ae04-4a2a-bc11-653d2f067ea0\",\"attributes\":{\"name\":\"Column00132\",\"title\":\"with_columns\",\"child\":{\"type\":\"object\",\"name\":\"panel.models.layout.Column\",\"id\":\"5e958607-821a-45f1-b312-fa068909a76f\",\"attributes\":{\"name\":\"Column00132\",\"stylesheets\":[\"\\n:host(.pn-loading):before, .pn-loading:before {\\n  background-color: #c3c3c3;\\n  mask-size: auto calc(min(50%, 400px));\\n  -webkit-mask-size: auto calc(min(50%, 400px));\\n}\",{\"id\":\"227277a3-004c-41e5-8f9c-0eeae16d1727\"},{\"id\":\"7f6fd4a5-5bc7-4bd1-9697-2df522ef3f8f\"},{\"id\":\"62070449-7c76-4f4f-9c74-9843b045d491\"},{\"id\":\"58d70e0f-aaa1-408f-89b2-5dc2a21027c3\"}],\"margin\":0,\"align\":\"start\",\"children\":[{\"type\":\"object\",\"name\":\"panel.models.markup.HTML\",\"id\":\"fc060423-5795-4047-b3ec-c808b65e1327\",\"attributes\":{\"css_classes\":[\"markdown\"],\"stylesheets\":[\"\\n:host(.pn-loading):before, .pn-loading:before {\\n  background-color: #c3c3c3;\\n  mask-size: auto calc(min(50%, 400px));\\n  -webkit-mask-size: auto calc(min(50%, 400px));\\n}\",{\"id\":\"227277a3-004c-41e5-8f9c-0eeae16d1727\"},{\"id\":\"172e97f2-6bbf-4320-bd42-ee638cf2e605\"},{\"id\":\"62070449-7c76-4f4f-9c74-9843b045d491\"},{\"id\":\"58d70e0f-aaa1-408f-89b2-5dc2a21027c3\"},\"\\ncode {\\n  color: darkgreen;\\n}\\n\"],\"margin\":[5,10],\"align\":\"start\",\"text\":\"&lt;h2 id=&quot;with_columns&quot;&gt;with_columns &lt;a class=&quot;header-anchor&quot; href=&quot;#with_columns&quot;&gt;\\u00b6&lt;/a&gt;&lt;/h2&gt;\\n&lt;h3&gt;args&lt;/h3&gt;\\n&lt;ul&gt;\\n&lt;li&gt;&lt;code&gt;[(col(&amp;quot;score&amp;quot;)) * (dyn float: 1.1)].alias(&amp;quot;adjusted_score&amp;quot;)&lt;/code&gt;&lt;/li&gt;\\n&lt;/ul&gt;\\n&lt;h3&gt;kws&lt;/h3&gt;\\n\"}},{\"type\":\"object\",\"name\":\"Row\",\"id\":\"d09e513e-39aa-43c5-bfc8-6e8fd63627b4\",\"attributes\":{\"name\":\"Row00131\",\"stylesheets\":[\"\\n:host(.pn-loading):before, .pn-loading:before {\\n  background-color: #c3c3c3;\\n  mask-size: auto calc(min(50%, 400px));\\n  -webkit-mask-size: auto calc(min(50%, 400px));\\n}\",{\"id\":\"227277a3-004c-41e5-8f9c-0eeae16d1727\"},{\"id\":\"7f6fd4a5-5bc7-4bd1-9697-2df522ef3f8f\"},{\"id\":\"62070449-7c76-4f4f-9c74-9843b045d491\"},{\"id\":\"58d70e0f-aaa1-408f-89b2-5dc2a21027c3\"}],\"margin\":0,\"align\":\"start\",\"children\":[{\"type\":\"object\",\"name\":\"panel.models.markup.HTML\",\"id\":\"96724741-779b-4a80-a160-aab19bf0c78b\",\"attributes\":{\"stylesheets\":[\"\\n:host(.pn-loading):before, .pn-loading:before {\\n  background-color: #c3c3c3;\\n  mask-size: auto calc(min(50%, 400px));\\n  -webkit-mask-size: auto calc(min(50%, 400px));\\n}\",{\"id\":\"227277a3-004c-41e5-8f9c-0eeae16d1727\"},{\"id\":\"62070449-7c76-4f4f-9c74-9843b045d491\"},{\"id\":\"58d70e0f-aaa1-408f-89b2-5dc2a21027c3\"}],\"margin\":[5,10],\"align\":\"start\",\"text\":\"&lt;div&gt;&lt;style&gt;\\n.dataframe &gt; thead &gt; tr,\\n.dataframe &gt; tbody &gt; tr {\\n  text-align: right;\\n  white-space: pre-wrap;\\n}\\n&lt;/style&gt;\\n&lt;small&gt;shape: (3, 4)&lt;/small&gt;&lt;table border=&quot;1&quot; class=&quot;dataframe&quot;&gt;&lt;thead&gt;&lt;tr&gt;&lt;th&gt;name&lt;/th&gt;&lt;th&gt;age&lt;/th&gt;&lt;th&gt;score&lt;/th&gt;&lt;th&gt;department&lt;/th&gt;&lt;/tr&gt;&lt;tr&gt;&lt;td&gt;str&lt;/td&gt;&lt;td&gt;i64&lt;/td&gt;&lt;td&gt;i64&lt;/td&gt;&lt;td&gt;str&lt;/td&gt;&lt;/tr&gt;&lt;/thead&gt;&lt;tbody&gt;&lt;tr&gt;&lt;td&gt;&amp;quot;Charlie&amp;quot;&lt;/td&gt;&lt;td&gt;35&lt;/td&gt;&lt;td&gt;95&lt;/td&gt;&lt;td&gt;&amp;quot;HR&amp;quot;&lt;/td&gt;&lt;/tr&gt;&lt;tr&gt;&lt;td&gt;&amp;quot;David&amp;quot;&lt;/td&gt;&lt;td&gt;40&lt;/td&gt;&lt;td&gt;80&lt;/td&gt;&lt;td&gt;&amp;quot;IT&amp;quot;&lt;/td&gt;&lt;/tr&gt;&lt;tr&gt;&lt;td&gt;&amp;quot;Eve&amp;quot;&lt;/td&gt;&lt;td&gt;45&lt;/td&gt;&lt;td&gt;70&lt;/td&gt;&lt;td&gt;&amp;quot;HR&amp;quot;&lt;/td&gt;&lt;/tr&gt;&lt;/tbody&gt;&lt;/table&gt;&lt;/div&gt;\",\"disable_math\":true}},{\"type\":\"object\",\"name\":\"panel.models.markup.HTML\",\"id\":\"6a64a405-8805-487b-be59-35a03e9ff930\",\"attributes\":{\"stylesheets\":[\"\\n:host(.pn-loading):before, .pn-loading:before {\\n  background-color: #c3c3c3;\\n  mask-size: auto calc(min(50%, 400px));\\n  -webkit-mask-size: auto calc(min(50%, 400px));\\n}\",{\"id\":\"227277a3-004c-41e5-8f9c-0eeae16d1727\"},{\"id\":\"62070449-7c76-4f4f-9c74-9843b045d491\"},{\"id\":\"58d70e0f-aaa1-408f-89b2-5dc2a21027c3\"}],\"margin\":[5,10],\"align\":\"start\",\"text\":\"&lt;div&gt;&lt;style&gt;\\n.dataframe &gt; thead &gt; tr,\\n.dataframe &gt; tbody &gt; tr {\\n  text-align: right;\\n  white-space: pre-wrap;\\n}\\n&lt;/style&gt;\\n&lt;small&gt;shape: (3, 5)&lt;/small&gt;&lt;table border=&quot;1&quot; class=&quot;dataframe&quot;&gt;&lt;thead&gt;&lt;tr&gt;&lt;th&gt;name&lt;/th&gt;&lt;th&gt;age&lt;/th&gt;&lt;th&gt;score&lt;/th&gt;&lt;th&gt;department&lt;/th&gt;&lt;th&gt;adjusted_score&lt;/th&gt;&lt;/tr&gt;&lt;tr&gt;&lt;td&gt;str&lt;/td&gt;&lt;td&gt;i64&lt;/td&gt;&lt;td&gt;i64&lt;/td&gt;&lt;td&gt;str&lt;/td&gt;&lt;td&gt;f64&lt;/td&gt;&lt;/tr&gt;&lt;/thead&gt;&lt;tbody&gt;&lt;tr&gt;&lt;td&gt;&amp;quot;Charlie&amp;quot;&lt;/td&gt;&lt;td&gt;35&lt;/td&gt;&lt;td&gt;95&lt;/td&gt;&lt;td&gt;&amp;quot;HR&amp;quot;&lt;/td&gt;&lt;td&gt;104.5&lt;/td&gt;&lt;/tr&gt;&lt;tr&gt;&lt;td&gt;&amp;quot;David&amp;quot;&lt;/td&gt;&lt;td&gt;40&lt;/td&gt;&lt;td&gt;80&lt;/td&gt;&lt;td&gt;&amp;quot;IT&amp;quot;&lt;/td&gt;&lt;td&gt;88.0&lt;/td&gt;&lt;/tr&gt;&lt;tr&gt;&lt;td&gt;&amp;quot;Eve&amp;quot;&lt;/td&gt;&lt;td&gt;45&lt;/td&gt;&lt;td&gt;70&lt;/td&gt;&lt;td&gt;&amp;quot;HR&amp;quot;&lt;/td&gt;&lt;td&gt;77.0&lt;/td&gt;&lt;/tr&gt;&lt;/tbody&gt;&lt;/table&gt;&lt;/div&gt;\",\"disable_math\":true}}]}}]}}}},{\"type\":\"object\",\"name\":\"TabPanel\",\"id\":\"007f6826-f3b7-4280-9b05-98e9528a5aef\",\"attributes\":{\"name\":\"Column00140\",\"title\":\"group_by\",\"child\":{\"type\":\"object\",\"name\":\"panel.models.layout.Column\",\"id\":\"267ef6b4-f9fc-4ced-92c9-b151bdb4ad02\",\"attributes\":{\"name\":\"Column00140\",\"stylesheets\":[\"\\n:host(.pn-loading):before, .pn-loading:before {\\n  background-color: #c3c3c3;\\n  mask-size: auto calc(min(50%, 400px));\\n  -webkit-mask-size: auto calc(min(50%, 400px));\\n}\",{\"id\":\"227277a3-004c-41e5-8f9c-0eeae16d1727\"},{\"id\":\"7f6fd4a5-5bc7-4bd1-9697-2df522ef3f8f\"},{\"id\":\"62070449-7c76-4f4f-9c74-9843b045d491\"},{\"id\":\"58d70e0f-aaa1-408f-89b2-5dc2a21027c3\"}],\"margin\":0,\"align\":\"start\",\"children\":[{\"type\":\"object\",\"name\":\"panel.models.markup.HTML\",\"id\":\"28c07fe2-f506-4f6f-af8b-46518a1742bd\",\"attributes\":{\"css_classes\":[\"markdown\"],\"stylesheets\":[\"\\n:host(.pn-loading):before, .pn-loading:before {\\n  background-color: #c3c3c3;\\n  mask-size: auto calc(min(50%, 400px));\\n  -webkit-mask-size: auto calc(min(50%, 400px));\\n}\",{\"id\":\"227277a3-004c-41e5-8f9c-0eeae16d1727\"},{\"id\":\"172e97f2-6bbf-4320-bd42-ee638cf2e605\"},{\"id\":\"62070449-7c76-4f4f-9c74-9843b045d491\"},{\"id\":\"58d70e0f-aaa1-408f-89b2-5dc2a21027c3\"},\"\\ncode {\\n  color: darkgreen;\\n}\\n\"],\"margin\":[5,10],\"align\":\"start\",\"text\":\"&lt;h2 id=&quot;group_by&quot;&gt;group_by &lt;a class=&quot;header-anchor&quot; href=&quot;#group_by&quot;&gt;\\u00b6&lt;/a&gt;&lt;/h2&gt;\\n&lt;h3&gt;args&lt;/h3&gt;\\n&lt;ul&gt;\\n&lt;li&gt;&lt;code&gt;department&lt;/code&gt;&lt;/li&gt;\\n&lt;/ul&gt;\\n&lt;h3&gt;kws&lt;/h3&gt;\\n\"}},{\"type\":\"object\",\"name\":\"Row\",\"id\":\"d230110d-6c0c-409f-81af-194336c89900\",\"attributes\":{\"name\":\"Row00139\",\"stylesheets\":[\"\\n:host(.pn-loading):before, .pn-loading:before {\\n  background-color: #c3c3c3;\\n  mask-size: auto calc(min(50%, 400px));\\n  -webkit-mask-size: auto calc(min(50%, 400px));\\n}\",{\"id\":\"227277a3-004c-41e5-8f9c-0eeae16d1727\"},{\"id\":\"7f6fd4a5-5bc7-4bd1-9697-2df522ef3f8f\"},{\"id\":\"62070449-7c76-4f4f-9c74-9843b045d491\"},{\"id\":\"58d70e0f-aaa1-408f-89b2-5dc2a21027c3\"}],\"margin\":0,\"align\":\"start\",\"children\":[{\"type\":\"object\",\"name\":\"panel.models.markup.HTML\",\"id\":\"df96a7be-e51b-4ecc-9bef-8957df037bfc\",\"attributes\":{\"stylesheets\":[\"\\n:host(.pn-loading):before, .pn-loading:before {\\n  background-color: #c3c3c3;\\n  mask-size: auto calc(min(50%, 400px));\\n  -webkit-mask-size: auto calc(min(50%, 400px));\\n}\",{\"id\":\"227277a3-004c-41e5-8f9c-0eeae16d1727\"},{\"id\":\"62070449-7c76-4f4f-9c74-9843b045d491\"},{\"id\":\"58d70e0f-aaa1-408f-89b2-5dc2a21027c3\"}],\"margin\":[5,10],\"align\":\"start\",\"text\":\"&lt;div&gt;&lt;style&gt;\\n.dataframe &gt; thead &gt; tr,\\n.dataframe &gt; tbody &gt; tr {\\n  text-align: right;\\n  white-space: pre-wrap;\\n}\\n&lt;/style&gt;\\n&lt;small&gt;shape: (3, 5)&lt;/small&gt;&lt;table border=&quot;1&quot; class=&quot;dataframe&quot;&gt;&lt;thead&gt;&lt;tr&gt;&lt;th&gt;name&lt;/th&gt;&lt;th&gt;age&lt;/th&gt;&lt;th&gt;score&lt;/th&gt;&lt;th&gt;department&lt;/th&gt;&lt;th&gt;adjusted_score&lt;/th&gt;&lt;/tr&gt;&lt;tr&gt;&lt;td&gt;str&lt;/td&gt;&lt;td&gt;i64&lt;/td&gt;&lt;td&gt;i64&lt;/td&gt;&lt;td&gt;str&lt;/td&gt;&lt;td&gt;f64&lt;/td&gt;&lt;/tr&gt;&lt;/thead&gt;&lt;tbody&gt;&lt;tr&gt;&lt;td&gt;&amp;quot;Charlie&amp;quot;&lt;/td&gt;&lt;td&gt;35&lt;/td&gt;&lt;td&gt;95&lt;/td&gt;&lt;td&gt;&amp;quot;HR&amp;quot;&lt;/td&gt;&lt;td&gt;104.5&lt;/td&gt;&lt;/tr&gt;&lt;tr&gt;&lt;td&gt;&amp;quot;David&amp;quot;&lt;/td&gt;&lt;td&gt;40&lt;/td&gt;&lt;td&gt;80&lt;/td&gt;&lt;td&gt;&amp;quot;IT&amp;quot;&lt;/td&gt;&lt;td&gt;88.0&lt;/td&gt;&lt;/tr&gt;&lt;tr&gt;&lt;td&gt;&amp;quot;Eve&amp;quot;&lt;/td&gt;&lt;td&gt;45&lt;/td&gt;&lt;td&gt;70&lt;/td&gt;&lt;td&gt;&amp;quot;HR&amp;quot;&lt;/td&gt;&lt;td&gt;77.0&lt;/td&gt;&lt;/tr&gt;&lt;/tbody&gt;&lt;/table&gt;&lt;/div&gt;\",\"disable_math\":true}},{\"type\":\"object\",\"name\":\"panel.models.markup.HTML\",\"id\":\"09a6d028-b1d8-487c-a1de-f22dee3b4870\",\"attributes\":{\"stylesheets\":[\"\\n:host(.pn-loading):before, .pn-loading:before {\\n  background-color: #c3c3c3;\\n  mask-size: auto calc(min(50%, 400px));\\n  -webkit-mask-size: auto calc(min(50%, 400px));\\n}\",{\"id\":\"227277a3-004c-41e5-8f9c-0eeae16d1727\"},{\"id\":\"62070449-7c76-4f4f-9c74-9843b045d491\"},{\"id\":\"58d70e0f-aaa1-408f-89b2-5dc2a21027c3\"}],\"margin\":[5,10],\"align\":\"start\",\"text\":\"&lt;pre&gt;&lt;polars.dataframe.group_by.GroupBy object at 0x0000026719D802F0&gt;&lt;/pre&gt;\",\"disable_math\":true}}]}}]}}}},{\"type\":\"object\",\"name\":\"TabPanel\",\"id\":\"9898ab1a-15ec-4137-a116-c519633e7600\",\"attributes\":{\"name\":\"Column00148\",\"title\":\"agg\",\"child\":{\"type\":\"object\",\"name\":\"panel.models.layout.Column\",\"id\":\"c6e5f52c-07e8-4af3-a643-b51de325befd\",\"attributes\":{\"name\":\"Column00148\",\"stylesheets\":[\"\\n:host(.pn-loading):before, .pn-loading:before {\\n  background-color: #c3c3c3;\\n  mask-size: auto calc(min(50%, 400px));\\n  -webkit-mask-size: auto calc(min(50%, 400px));\\n}\",{\"id\":\"227277a3-004c-41e5-8f9c-0eeae16d1727\"},{\"id\":\"7f6fd4a5-5bc7-4bd1-9697-2df522ef3f8f\"},{\"id\":\"62070449-7c76-4f4f-9c74-9843b045d491\"},{\"id\":\"58d70e0f-aaa1-408f-89b2-5dc2a21027c3\"}],\"margin\":0,\"align\":\"start\",\"children\":[{\"type\":\"object\",\"name\":\"panel.models.markup.HTML\",\"id\":\"164f05b8-fcd2-432d-943d-425919f1ce3f\",\"attributes\":{\"css_classes\":[\"markdown\"],\"stylesheets\":[\"\\n:host(.pn-loading):before, .pn-loading:before {\\n  background-color: #c3c3c3;\\n  mask-size: auto calc(min(50%, 400px));\\n  -webkit-mask-size: auto calc(min(50%, 400px));\\n}\",{\"id\":\"227277a3-004c-41e5-8f9c-0eeae16d1727\"},{\"id\":\"172e97f2-6bbf-4320-bd42-ee638cf2e605\"},{\"id\":\"62070449-7c76-4f4f-9c74-9843b045d491\"},{\"id\":\"58d70e0f-aaa1-408f-89b2-5dc2a21027c3\"},\"\\ncode {\\n  color: darkgreen;\\n}\\n\"],\"margin\":[5,10],\"align\":\"start\",\"text\":\"&lt;h2 id=&quot;agg&quot;&gt;agg &lt;a class=&quot;header-anchor&quot; href=&quot;#agg&quot;&gt;\\u00b6&lt;/a&gt;&lt;/h2&gt;\\n&lt;h3&gt;args&lt;/h3&gt;\\n&lt;ul&gt;\\n&lt;li&gt;&lt;code&gt;[&amp;lt;Expr [&#x27;col(&amp;quot;adjusted_score&amp;quot;).mean().a\\u2026&#x27;] at 0x26719D801D0&amp;gt;, &amp;lt;Expr [&#x27;col(&amp;quot;age&amp;quot;).max().alias(&amp;quot;max_ag\\u2026&#x27;] at 0x26719D803B0&amp;gt;]&lt;/code&gt;&lt;/li&gt;\\n&lt;/ul&gt;\\n&lt;h3&gt;kws&lt;/h3&gt;\\n\"}},{\"type\":\"object\",\"name\":\"Row\",\"id\":\"0da93816-d5e8-4354-8857-0da8d047794b\",\"attributes\":{\"name\":\"Row00147\",\"stylesheets\":[\"\\n:host(.pn-loading):before, .pn-loading:before {\\n  background-color: #c3c3c3;\\n  mask-size: auto calc(min(50%, 400px));\\n  -webkit-mask-size: auto calc(min(50%, 400px));\\n}\",{\"id\":\"227277a3-004c-41e5-8f9c-0eeae16d1727\"},{\"id\":\"7f6fd4a5-5bc7-4bd1-9697-2df522ef3f8f\"},{\"id\":\"62070449-7c76-4f4f-9c74-9843b045d491\"},{\"id\":\"58d70e0f-aaa1-408f-89b2-5dc2a21027c3\"}],\"margin\":0,\"align\":\"start\",\"children\":[{\"type\":\"object\",\"name\":\"panel.models.markup.HTML\",\"id\":\"4d40b10c-22d5-46cf-b83c-32718b9f2f97\",\"attributes\":{\"stylesheets\":[\"\\n:host(.pn-loading):before, .pn-loading:before {\\n  background-color: #c3c3c3;\\n  mask-size: auto calc(min(50%, 400px));\\n  -webkit-mask-size: auto calc(min(50%, 400px));\\n}\",{\"id\":\"227277a3-004c-41e5-8f9c-0eeae16d1727\"},{\"id\":\"62070449-7c76-4f4f-9c74-9843b045d491\"},{\"id\":\"58d70e0f-aaa1-408f-89b2-5dc2a21027c3\"}],\"margin\":[5,10],\"align\":\"start\",\"text\":\"&lt;pre&gt;&lt;polars.dataframe.group_by.GroupBy object at 0x0000026719D802F0&gt;&lt;/pre&gt;\",\"disable_math\":true}},{\"type\":\"object\",\"name\":\"panel.models.markup.HTML\",\"id\":\"59215d78-2bf5-4c96-9b18-072d528477bd\",\"attributes\":{\"stylesheets\":[\"\\n:host(.pn-loading):before, .pn-loading:before {\\n  background-color: #c3c3c3;\\n  mask-size: auto calc(min(50%, 400px));\\n  -webkit-mask-size: auto calc(min(50%, 400px));\\n}\",{\"id\":\"227277a3-004c-41e5-8f9c-0eeae16d1727\"},{\"id\":\"62070449-7c76-4f4f-9c74-9843b045d491\"},{\"id\":\"58d70e0f-aaa1-408f-89b2-5dc2a21027c3\"}],\"margin\":[5,10],\"align\":\"start\",\"text\":\"&lt;div&gt;&lt;style&gt;\\n.dataframe &gt; thead &gt; tr,\\n.dataframe &gt; tbody &gt; tr {\\n  text-align: right;\\n  white-space: pre-wrap;\\n}\\n&lt;/style&gt;\\n&lt;small&gt;shape: (2, 3)&lt;/small&gt;&lt;table border=&quot;1&quot; class=&quot;dataframe&quot;&gt;&lt;thead&gt;&lt;tr&gt;&lt;th&gt;department&lt;/th&gt;&lt;th&gt;average_score&lt;/th&gt;&lt;th&gt;max_age&lt;/th&gt;&lt;/tr&gt;&lt;tr&gt;&lt;td&gt;str&lt;/td&gt;&lt;td&gt;f64&lt;/td&gt;&lt;td&gt;i64&lt;/td&gt;&lt;/tr&gt;&lt;/thead&gt;&lt;tbody&gt;&lt;tr&gt;&lt;td&gt;&amp;quot;HR&amp;quot;&lt;/td&gt;&lt;td&gt;90.75&lt;/td&gt;&lt;td&gt;45&lt;/td&gt;&lt;/tr&gt;&lt;tr&gt;&lt;td&gt;&amp;quot;IT&amp;quot;&lt;/td&gt;&lt;td&gt;88.0&lt;/td&gt;&lt;td&gt;40&lt;/td&gt;&lt;/tr&gt;&lt;/tbody&gt;&lt;/table&gt;&lt;/div&gt;\",\"disable_math\":true}}]}}]}}}},{\"type\":\"object\",\"name\":\"TabPanel\",\"id\":\"3d081349-3747-4a88-b2e0-5f495620c029\",\"attributes\":{\"name\":\"Column00156\",\"title\":\"sort\",\"child\":{\"type\":\"object\",\"name\":\"panel.models.layout.Column\",\"id\":\"5a91521f-4d96-42ad-8ef9-65474879f63f\",\"attributes\":{\"name\":\"Column00156\",\"stylesheets\":[\"\\n:host(.pn-loading):before, .pn-loading:before {\\n  background-color: #c3c3c3;\\n  mask-size: auto calc(min(50%, 400px));\\n  -webkit-mask-size: auto calc(min(50%, 400px));\\n}\",{\"id\":\"227277a3-004c-41e5-8f9c-0eeae16d1727\"},{\"id\":\"7f6fd4a5-5bc7-4bd1-9697-2df522ef3f8f\"},{\"id\":\"62070449-7c76-4f4f-9c74-9843b045d491\"},{\"id\":\"58d70e0f-aaa1-408f-89b2-5dc2a21027c3\"}],\"margin\":0,\"align\":\"start\",\"children\":[{\"type\":\"object\",\"name\":\"panel.models.markup.HTML\",\"id\":\"f98b7826-eaab-40c1-9ceb-5637929bdc9f\",\"attributes\":{\"css_classes\":[\"markdown\"],\"stylesheets\":[\"\\n:host(.pn-loading):before, .pn-loading:before {\\n  background-color: #c3c3c3;\\n  mask-size: auto calc(min(50%, 400px));\\n  -webkit-mask-size: auto calc(min(50%, 400px));\\n}\",{\"id\":\"227277a3-004c-41e5-8f9c-0eeae16d1727\"},{\"id\":\"172e97f2-6bbf-4320-bd42-ee638cf2e605\"},{\"id\":\"62070449-7c76-4f4f-9c74-9843b045d491\"},{\"id\":\"58d70e0f-aaa1-408f-89b2-5dc2a21027c3\"},\"\\ncode {\\n  color: darkgreen;\\n}\\n\"],\"margin\":[5,10],\"align\":\"start\",\"text\":\"&lt;h2 id=&quot;sort&quot;&gt;sort &lt;a class=&quot;header-anchor&quot; href=&quot;#sort&quot;&gt;\\u00b6&lt;/a&gt;&lt;/h2&gt;\\n&lt;h3&gt;args&lt;/h3&gt;\\n&lt;ul&gt;\\n&lt;li&gt;&lt;code&gt;average_score&lt;/code&gt;&lt;/li&gt;\\n&lt;/ul&gt;\\n&lt;h3&gt;kws&lt;/h3&gt;\\n&lt;ul&gt;\\n&lt;li&gt;descending=&lt;code&gt;True&lt;/code&gt;&lt;/li&gt;\\n&lt;/ul&gt;\\n\"}},{\"type\":\"object\",\"name\":\"Row\",\"id\":\"8dac04bc-6433-459f-86e6-4fe5357014b7\",\"attributes\":{\"name\":\"Row00155\",\"stylesheets\":[\"\\n:host(.pn-loading):before, .pn-loading:before {\\n  background-color: #c3c3c3;\\n  mask-size: auto calc(min(50%, 400px));\\n  -webkit-mask-size: auto calc(min(50%, 400px));\\n}\",{\"id\":\"227277a3-004c-41e5-8f9c-0eeae16d1727\"},{\"id\":\"7f6fd4a5-5bc7-4bd1-9697-2df522ef3f8f\"},{\"id\":\"62070449-7c76-4f4f-9c74-9843b045d491\"},{\"id\":\"58d70e0f-aaa1-408f-89b2-5dc2a21027c3\"}],\"margin\":0,\"align\":\"start\",\"children\":[{\"type\":\"object\",\"name\":\"panel.models.markup.HTML\",\"id\":\"f72e940c-a393-4346-b695-02633ced2059\",\"attributes\":{\"stylesheets\":[\"\\n:host(.pn-loading):before, .pn-loading:before {\\n  background-color: #c3c3c3;\\n  mask-size: auto calc(min(50%, 400px));\\n  -webkit-mask-size: auto calc(min(50%, 400px));\\n}\",{\"id\":\"227277a3-004c-41e5-8f9c-0eeae16d1727\"},{\"id\":\"62070449-7c76-4f4f-9c74-9843b045d491\"},{\"id\":\"58d70e0f-aaa1-408f-89b2-5dc2a21027c3\"}],\"margin\":[5,10],\"align\":\"start\",\"text\":\"&lt;div&gt;&lt;style&gt;\\n.dataframe &gt; thead &gt; tr,\\n.dataframe &gt; tbody &gt; tr {\\n  text-align: right;\\n  white-space: pre-wrap;\\n}\\n&lt;/style&gt;\\n&lt;small&gt;shape: (2, 3)&lt;/small&gt;&lt;table border=&quot;1&quot; class=&quot;dataframe&quot;&gt;&lt;thead&gt;&lt;tr&gt;&lt;th&gt;department&lt;/th&gt;&lt;th&gt;average_score&lt;/th&gt;&lt;th&gt;max_age&lt;/th&gt;&lt;/tr&gt;&lt;tr&gt;&lt;td&gt;str&lt;/td&gt;&lt;td&gt;f64&lt;/td&gt;&lt;td&gt;i64&lt;/td&gt;&lt;/tr&gt;&lt;/thead&gt;&lt;tbody&gt;&lt;tr&gt;&lt;td&gt;&amp;quot;HR&amp;quot;&lt;/td&gt;&lt;td&gt;90.75&lt;/td&gt;&lt;td&gt;45&lt;/td&gt;&lt;/tr&gt;&lt;tr&gt;&lt;td&gt;&amp;quot;IT&amp;quot;&lt;/td&gt;&lt;td&gt;88.0&lt;/td&gt;&lt;td&gt;40&lt;/td&gt;&lt;/tr&gt;&lt;/tbody&gt;&lt;/table&gt;&lt;/div&gt;\",\"disable_math\":true}},{\"type\":\"object\",\"name\":\"panel.models.markup.HTML\",\"id\":\"7abefa2d-716f-43e8-ba54-a293ade02927\",\"attributes\":{\"stylesheets\":[\"\\n:host(.pn-loading):before, .pn-loading:before {\\n  background-color: #c3c3c3;\\n  mask-size: auto calc(min(50%, 400px));\\n  -webkit-mask-size: auto calc(min(50%, 400px));\\n}\",{\"id\":\"227277a3-004c-41e5-8f9c-0eeae16d1727\"},{\"id\":\"62070449-7c76-4f4f-9c74-9843b045d491\"},{\"id\":\"58d70e0f-aaa1-408f-89b2-5dc2a21027c3\"}],\"margin\":[5,10],\"align\":\"start\",\"text\":\"&lt;div&gt;&lt;style&gt;\\n.dataframe &gt; thead &gt; tr,\\n.dataframe &gt; tbody &gt; tr {\\n  text-align: right;\\n  white-space: pre-wrap;\\n}\\n&lt;/style&gt;\\n&lt;small&gt;shape: (2, 3)&lt;/small&gt;&lt;table border=&quot;1&quot; class=&quot;dataframe&quot;&gt;&lt;thead&gt;&lt;tr&gt;&lt;th&gt;department&lt;/th&gt;&lt;th&gt;average_score&lt;/th&gt;&lt;th&gt;max_age&lt;/th&gt;&lt;/tr&gt;&lt;tr&gt;&lt;td&gt;str&lt;/td&gt;&lt;td&gt;f64&lt;/td&gt;&lt;td&gt;i64&lt;/td&gt;&lt;/tr&gt;&lt;/thead&gt;&lt;tbody&gt;&lt;tr&gt;&lt;td&gt;&amp;quot;HR&amp;quot;&lt;/td&gt;&lt;td&gt;90.75&lt;/td&gt;&lt;td&gt;45&lt;/td&gt;&lt;/tr&gt;&lt;tr&gt;&lt;td&gt;&amp;quot;IT&amp;quot;&lt;/td&gt;&lt;td&gt;88.0&lt;/td&gt;&lt;td&gt;40&lt;/td&gt;&lt;/tr&gt;&lt;/tbody&gt;&lt;/table&gt;&lt;/div&gt;\",\"disable_math\":true}}]}}]}}}}]}},{\"type\":\"object\",\"name\":\"panel.models.comm_manager.CommManager\",\"id\":\"6add539d-5c2d-4c4e-a2b8-3ad33b6d9fc8\",\"attributes\":{\"plot_id\":\"8928703f-0a48-447d-8a0f-885d4a421f2b\",\"comm_id\":\"47ed0fe06e694a89a87983e9d3b3ab40\",\"client_comm_id\":\"2f881bab4f2a43789c12d02b719768b2\"}}],\"defs\":[{\"type\":\"model\",\"name\":\"ReactiveHTML1\"},{\"type\":\"model\",\"name\":\"FlexBox1\",\"properties\":[{\"name\":\"align_content\",\"kind\":\"Any\",\"default\":\"flex-start\"},{\"name\":\"align_items\",\"kind\":\"Any\",\"default\":\"flex-start\"},{\"name\":\"flex_direction\",\"kind\":\"Any\",\"default\":\"row\"},{\"name\":\"flex_wrap\",\"kind\":\"Any\",\"default\":\"wrap\"},{\"name\":\"gap\",\"kind\":\"Any\",\"default\":\"\"},{\"name\":\"justify_content\",\"kind\":\"Any\",\"default\":\"flex-start\"}]},{\"type\":\"model\",\"name\":\"FloatPanel1\",\"properties\":[{\"name\":\"config\",\"kind\":\"Any\",\"default\":{\"type\":\"map\"}},{\"name\":\"contained\",\"kind\":\"Any\",\"default\":true},{\"name\":\"position\",\"kind\":\"Any\",\"default\":\"right-top\"},{\"name\":\"offsetx\",\"kind\":\"Any\",\"default\":null},{\"name\":\"offsety\",\"kind\":\"Any\",\"default\":null},{\"name\":\"theme\",\"kind\":\"Any\",\"default\":\"primary\"},{\"name\":\"status\",\"kind\":\"Any\",\"default\":\"normalized\"}]},{\"type\":\"model\",\"name\":\"GridStack1\",\"properties\":[{\"name\":\"mode\",\"kind\":\"Any\",\"default\":\"warn\"},{\"name\":\"ncols\",\"kind\":\"Any\",\"default\":null},{\"name\":\"nrows\",\"kind\":\"Any\",\"default\":null},{\"name\":\"allow_resize\",\"kind\":\"Any\",\"default\":true},{\"name\":\"allow_drag\",\"kind\":\"Any\",\"default\":true},{\"name\":\"state\",\"kind\":\"Any\",\"default\":[]}]},{\"type\":\"model\",\"name\":\"drag1\",\"properties\":[{\"name\":\"slider_width\",\"kind\":\"Any\",\"default\":5},{\"name\":\"slider_color\",\"kind\":\"Any\",\"default\":\"black\"},{\"name\":\"value\",\"kind\":\"Any\",\"default\":50}]},{\"type\":\"model\",\"name\":\"click1\",\"properties\":[{\"name\":\"terminal_output\",\"kind\":\"Any\",\"default\":\"\"},{\"name\":\"debug_name\",\"kind\":\"Any\",\"default\":\"\"},{\"name\":\"clears\",\"kind\":\"Any\",\"default\":0}]},{\"type\":\"model\",\"name\":\"FastWrapper1\",\"properties\":[{\"name\":\"object\",\"kind\":\"Any\",\"default\":null},{\"name\":\"style\",\"kind\":\"Any\",\"default\":null}]},{\"type\":\"model\",\"name\":\"NotificationAreaBase1\",\"properties\":[{\"name\":\"js_events\",\"kind\":\"Any\",\"default\":{\"type\":\"map\"}},{\"name\":\"position\",\"kind\":\"Any\",\"default\":\"bottom-right\"},{\"name\":\"_clear\",\"kind\":\"Any\",\"default\":0}]},{\"type\":\"model\",\"name\":\"NotificationArea1\",\"properties\":[{\"name\":\"js_events\",\"kind\":\"Any\",\"default\":{\"type\":\"map\"}},{\"name\":\"notifications\",\"kind\":\"Any\",\"default\":[]},{\"name\":\"position\",\"kind\":\"Any\",\"default\":\"bottom-right\"},{\"name\":\"_clear\",\"kind\":\"Any\",\"default\":0},{\"name\":\"types\",\"kind\":\"Any\",\"default\":[{\"type\":\"map\",\"entries\":[[\"type\",\"warning\"],[\"background\",\"#ffc107\"],[\"icon\",{\"type\":\"map\",\"entries\":[[\"className\",\"fas fa-exclamation-triangle\"],[\"tagName\",\"i\"],[\"color\",\"white\"]]}]]},{\"type\":\"map\",\"entries\":[[\"type\",\"info\"],[\"background\",\"#007bff\"],[\"icon\",{\"type\":\"map\",\"entries\":[[\"className\",\"fas fa-info-circle\"],[\"tagName\",\"i\"],[\"color\",\"white\"]]}]]}]}]},{\"type\":\"model\",\"name\":\"Notification\",\"properties\":[{\"name\":\"background\",\"kind\":\"Any\",\"default\":null},{\"name\":\"duration\",\"kind\":\"Any\",\"default\":3000},{\"name\":\"icon\",\"kind\":\"Any\",\"default\":null},{\"name\":\"message\",\"kind\":\"Any\",\"default\":\"\"},{\"name\":\"notification_type\",\"kind\":\"Any\",\"default\":null},{\"name\":\"_destroyed\",\"kind\":\"Any\",\"default\":false}]},{\"type\":\"model\",\"name\":\"TemplateActions1\",\"properties\":[{\"name\":\"open_modal\",\"kind\":\"Any\",\"default\":0},{\"name\":\"close_modal\",\"kind\":\"Any\",\"default\":0}]},{\"type\":\"model\",\"name\":\"BootstrapTemplateActions1\",\"properties\":[{\"name\":\"open_modal\",\"kind\":\"Any\",\"default\":0},{\"name\":\"close_modal\",\"kind\":\"Any\",\"default\":0}]},{\"type\":\"model\",\"name\":\"TemplateEditor1\",\"properties\":[{\"name\":\"layout\",\"kind\":\"Any\",\"default\":[]}]},{\"type\":\"model\",\"name\":\"MaterialTemplateActions1\",\"properties\":[{\"name\":\"open_modal\",\"kind\":\"Any\",\"default\":0},{\"name\":\"close_modal\",\"kind\":\"Any\",\"default\":0}]},{\"type\":\"model\",\"name\":\"copy_to_clipboard1\",\"properties\":[{\"name\":\"fill\",\"kind\":\"Any\",\"default\":\"none\"},{\"name\":\"value\",\"kind\":\"Any\",\"default\":null}]}]}};\n",
       "  var render_items = [{\"docid\":\"cd68e2ef-85ba-404e-b859-a5a627296f7d\",\"roots\":{\"8928703f-0a48-447d-8a0f-885d4a421f2b\":\"e4962897-2429-4f0f-982f-d8a53d2154ea\"},\"root_ids\":[\"8928703f-0a48-447d-8a0f-885d4a421f2b\"]}];\n",
       "  var docs = Object.values(docs_json)\n",
       "  if (!docs) {\n",
       "    return\n",
       "  }\n",
       "  const py_version = docs[0].version.replace('rc', '-rc.').replace('.dev', '-dev.')\n",
       "  async function embed_document(root) {\n",
       "    var Bokeh = get_bokeh(root)\n",
       "    await Bokeh.embed.embed_items_notebook(docs_json, render_items);\n",
       "    for (const render_item of render_items) {\n",
       "      for (const root_id of render_item.root_ids) {\n",
       "\tconst id_el = document.getElementById(root_id)\n",
       "\tif (id_el.children.length && id_el.children[0].hasAttribute('data-root-id')) {\n",
       "\t  const root_el = id_el.children[0]\n",
       "\t  root_el.id = root_el.id + '-rendered'\n",
       "\t  for (const child of root_el.children) {\n",
       "            // Ensure JupyterLab does not capture keyboard shortcuts\n",
       "            // see: https://jupyterlab.readthedocs.io/en/4.1.x/extension/notebook.html#keyboard-interaction-model\n",
       "\t    child.setAttribute('data-lm-suppress-shortcuts', 'true')\n",
       "\t  }\n",
       "\t}\n",
       "      }\n",
       "    }\n",
       "  }\n",
       "  function get_bokeh(root) {\n",
       "    if (root.Bokeh === undefined) {\n",
       "      return null\n",
       "    } else if (root.Bokeh.version !== py_version) {\n",
       "      if (root.Bokeh.versions === undefined || !root.Bokeh.versions.has(py_version)) {\n",
       "\treturn null\n",
       "      }\n",
       "      return root.Bokeh.versions.get(py_version);\n",
       "    } else if (root.Bokeh.version === py_version) {\n",
       "      return root.Bokeh\n",
       "    }\n",
       "    return null\n",
       "  }\n",
       "  function is_loaded(root) {\n",
       "    var Bokeh = get_bokeh(root)\n",
       "    return (Bokeh != null && Bokeh.Panel !== undefined)\n",
       "  }\n",
       "  if (is_loaded(root)) {\n",
       "    embed_document(root);\n",
       "  } else {\n",
       "    var attempts = 0;\n",
       "    var timer = setInterval(function(root) {\n",
       "      if (is_loaded(root)) {\n",
       "        clearInterval(timer);\n",
       "        embed_document(root);\n",
       "      } else if (document.readyState == \"complete\") {\n",
       "        attempts++;\n",
       "        if (attempts > 200) {\n",
       "          clearInterval(timer);\n",
       "\t  var Bokeh = get_bokeh(root)\n",
       "\t  if (Bokeh == null || Bokeh.Panel == null) {\n",
       "            console.warn(\"Panel: ERROR: Unable to run Panel code because Bokeh or Panel library is missing\");\n",
       "\t  } else {\n",
       "\t    console.warn(\"Panel: WARNING: Attempting to render but not all required libraries could be resolved.\")\n",
       "\t    embed_document(root)\n",
       "\t  }\n",
       "        }\n",
       "      }\n",
       "    }, 25, root)\n",
       "  }\n",
       "})(window);</script>"
      ],
      "text/plain": [
       "<helper.polars.PipeLogger at 0x26719d0bad0>"
      ]
     },
     "execution_count": 3,
     "metadata": {
      "application/vnd.holoviews_exec.v0+json": {
       "id": "8928703f-0a48-447d-8a0f-885d4a421f2b"
      }
     },
     "output_type": "execute_result"
    }
   ],
   "source": [
    "from helper.polars import PipeLogger\n",
    "\n",
    "result = (\n",
    "PipeLogger(df) #❶\n",
    ".filter(pl.col(\"age\") > 30)  # 年齢が30歳以上の行をフィルタリング\n",
    ".with_columns(\n",
    "  (pl.col(\"score\") * 1.1).alias(\"adjusted_score\")  # スコアを調整\n",
    ")\n",
    ".group_by(\"department\")  # 部署ごとにグループ化\n",
    ".agg([\n",
    "  pl.col(\"adjusted_score\").mean().alias(\"average_score\"),  # 各部署の平均スコアを計算\n",
    "  pl.col(\"age\").max().alias(\"max_age\")  # 各部署の最年長者の年齢を取得\n",
    "])\n",
    ".sort(\"average_score\", descending=True)  # 平均スコアで降順ソート\n",
    ")\n",
    "\n",
    "result #❷"
   ]
  },
  {
   "cell_type": "markdown",
   "id": "f7a4c985-0311-4fe1-89f7-51cbdee05103",
   "metadata": {},
   "source": [
    "`PipeLogger`を使うことで、メソッドチェーン内のデータの変化を視覚的に追跡し、デバッグがしやすくなります。\n",
    "\n",
    "❶最初のオブジェクトである`df`を`PipeLogger()`でラップします。これにより、結果は`DataFrame`ではなく、すべての入出力をキャプチャする`PipeLogger`オブジェクトになります。`PipeLogger`は、メソッドチェーンの各ステップでデータの状態を保存します。\n",
    "\n",
    "❷最後に、`PipeLogger`オブジェクトをセルの最後に配置し、インタラクティブなウィジェットとして結果を表示します。これにより、各メソッドの入出力を可視化することができます。"
   ]
  },
  {
   "cell_type": "markdown",
   "id": "6cc49849-9f95-44cc-af35-7dcb1e32ab70",
   "metadata": {},
   "source": [
    "## 複雑な演算式"
   ]
  },
  {
   "cell_type": "markdown",
   "id": "2058c9df-1897-40e6-8bfd-efc8d906c5f3",
   "metadata": {},
   "source": [
    "同じ中間結果を複数回利用する場合、メソッドチェーンのメリットが薄れることがあります。このような場合は、中間結果を変数に保存して後で利用するのが一般的です。たとえば、3次元ベクトルを正規化（normalize）するとき、ベクトルの長さを複数回使用します。一見すると、`length`の式が複数回実行されるように見えますが、Polarsでは演算結果をキャッシュするため、同じ計算を2回実行することはありません。"
   ]
  },
  {
   "cell_type": "code",
   "execution_count": 2,
   "id": "785933b6-f763-47d9-9a47-0d9a5dfd5d90",
   "metadata": {},
   "outputs": [
    {
     "data": {
      "text/html": [
       "<table><tr><td><div><style>\n",
       ".dataframe > thead > tr,\n",
       ".dataframe > tbody > tr {\n",
       "  text-align: right;\n",
       "  white-space: pre-wrap;\n",
       "}\n",
       "</style>\n",
       "<small>shape: (3, 3)</small><table border=\"1\" class=\"dataframe\"><thead><tr><th>x</th><th>y</th><th>z</th></tr><tr><td>f64</td><td>f64</td><td>f64</td></tr></thead><tbody><tr><td>1.0</td><td>3.0</td><td>2.0</td></tr><tr><td>2.0</td><td>2.0</td><td>1.0</td></tr><tr><td>3.0</td><td>1.0</td><td>3.0</td></tr></tbody></table></div></td><td><div><style>\n",
       ".dataframe > thead > tr,\n",
       ".dataframe > tbody > tr {\n",
       "  text-align: right;\n",
       "  white-space: pre-wrap;\n",
       "}\n",
       "</style>\n",
       "<small>shape: (3, 3)</small><table border=\"1\" class=\"dataframe\"><thead><tr><th>x</th><th>y</th><th>z</th></tr><tr><td>f64</td><td>f64</td><td>f64</td></tr></thead><tbody><tr><td>0.267261</td><td>0.801784</td><td>0.534522</td></tr><tr><td>0.666667</td><td>0.666667</td><td>0.333333</td></tr><tr><td>0.688247</td><td>0.229416</td><td>0.688247</td></tr></tbody></table></div></td></tr></table>"
      ]
     },
     "metadata": {},
     "output_type": "display_data"
    }
   ],
   "source": [
    "df = pl.DataFrame(\n",
    "    dict(x=[1.0, 2.0, 3.0], y=[3.0, 2.0, 1.0], z=[2.0, 1.0, 3.0])\n",
    ")\n",
    "\n",
    "x, y, z = pl.col('x'), pl.col('y'), pl.col('z')\n",
    "length = (x**2 + y**2 + z**2).sqrt()\n",
    "\n",
    "df1 = df.select(\n",
    "    x = x / length,\n",
    "    y = y / length,\n",
    "    z = z / length\n",
    ")\n",
    "\n",
    "row(df, df1)"
   ]
  },
  {
   "cell_type": "markdown",
   "id": "283e1a94-7b82-49b0-95a8-25ca71626867",
   "metadata": {},
   "source": [
    "次のコードでは、`LazyDataFrame.explain()`を使用して実行プランを表示します。この結果、ベクトルの長さを計算する式が`__POLARS_CSER_0x30925ccb05afdfe7`という名前の列にキャッシュされていることが分かります。"
   ]
  },
  {
   "cell_type": "code",
   "execution_count": 5,
   "id": "8ab99fae-11d4-4183-a134-1bfba71491da",
   "metadata": {},
   "outputs": [
    {
     "name": "stdout",
     "output_type": "stream",
     "text": [
      "simple π 3/4 [\"x\", \"y\", \"z\"]\n",
      "   WITH_COLUMNS:\n",
      "   [[(col(\"x\")) / (col(\"__POLARS_CSER_0x30925ccb05afdfe7\"))].alias(\"x\"), [(col(\"y\")) / (col(\"__POLARS_CSER_0x30925ccb05afdfe7\"))].alias(\"y\"), [(col(\"z\")) / (col(\"__POLARS_CSER_0x30925ccb05afdfe7\"))].alias(\"z\")] \n",
      "     WITH_COLUMNS:\n",
      "     [[([(col(\"x\").pow([dyn int: 2])) + (col(\"y\").pow([dyn int: 2]))]) + (col(\"z\").pow([dyn int: 2]))].sqrt().alias(\"__POLARS_CSER_0x30925ccb05afdfe7\")] \n",
      "      DF [\"x\", \"y\", \"z\"]; PROJECT */3 COLUMNS; SELECTION: None\n"
     ]
    }
   ],
   "source": [
    "print(\n",
    "    df\n",
    "    .lazy()\n",
    "    .with_columns(\n",
    "        x = x / length,\n",
    "        y = y / length,\n",
    "        z = z / length\n",
    "    )\n",
    "    .explain()\n",
    ")"
   ]
  },
  {
   "cell_type": "markdown",
   "id": "424781bb-265c-43aa-ac71-d91c352c9eb0",
   "metadata": {},
   "source": [
    "直接演算式で複雑な計算を書くのは非常に手間がかかります。例えば、平方根を求める場合、`sqrt(x)`のように記述することはできず、`x.sqrt()`と書く必要があります。より数学的な記法で演算式を記述できるようにするため、本書では次の`polars_exprs`デコレータを提供します。このデコレータを使用することで、通常の関数をPolarsの演算式に変換することができます。この関数内では、演算式の利点をそのまま活用することが可能です。また、`.list.first()`のようなサブネームスペースの操作も、`list_first()`のような関数として利用できます。さらに、`c_`で始まる変数は列を表す演算式として解釈されます。例えば、`c_x`は`pl.col('x')`と同じ意味を持ちます。"
   ]
  },
  {
   "cell_type": "code",
   "execution_count": 6,
   "id": "8c6061c7-9f65-4c1e-87fc-0e0ff9ec0595",
   "metadata": {},
   "outputs": [
    {
     "data": {
      "text/html": [
       "<table><tr><td><div><style>\n",
       ".dataframe > thead > tr,\n",
       ".dataframe > tbody > tr {\n",
       "  text-align: right;\n",
       "  white-space: pre-wrap;\n",
       "}\n",
       "</style>\n",
       "<small>shape: (3, 3)</small><table border=\"1\" class=\"dataframe\"><thead><tr><th>x</th><th>y</th><th>z</th></tr><tr><td>f64</td><td>f64</td><td>f64</td></tr></thead><tbody><tr><td>1.0</td><td>3.0</td><td>2.0</td></tr><tr><td>2.0</td><td>2.0</td><td>1.0</td></tr><tr><td>3.0</td><td>1.0</td><td>3.0</td></tr></tbody></table></div></td><td><div><style>\n",
       ".dataframe > thead > tr,\n",
       ".dataframe > tbody > tr {\n",
       "  text-align: right;\n",
       "  white-space: pre-wrap;\n",
       "}\n",
       "</style>\n",
       "<small>shape: (3, 3)</small><table border=\"1\" class=\"dataframe\"><thead><tr><th>x</th><th>y</th><th>z</th></tr><tr><td>f64</td><td>f64</td><td>f64</td></tr></thead><tbody><tr><td>0.267261</td><td>0.801784</td><td>0.534522</td></tr><tr><td>0.666667</td><td>0.666667</td><td>0.333333</td></tr><tr><td>0.688247</td><td>0.229416</td><td>0.688247</td></tr></tbody></table></div></td></tr></table>"
      ]
     },
     "metadata": {},
     "output_type": "display_data"
    }
   ],
   "source": [
    "from helper.polars import polars_exprs\n",
    "\n",
    "@polars_exprs\n",
    "def norm():\n",
    "    length = sqrt(c_x**2 + c_y**2 + c_z**2)\n",
    "    return dict(x=x / length, y=y / length, z=z / length)\n",
    "\n",
    "df2 = df.select(**norm())\n",
    "row(df, df2)"
   ]
  },
  {
   "cell_type": "markdown",
   "id": "dc57a946-a1d5-4adb-b2b5-377489e97f70",
   "metadata": {},
   "source": [
    "`c_`で始まる変数名を使用しない場合、キーワード引数を用いて列名を指定することができます。例えば、次のコードではその例を示しています："
   ]
  },
  {
   "cell_type": "code",
   "execution_count": 17,
   "id": "f4f2f9a1-5e29-49bc-8c21-d0c2eb2836f8",
   "metadata": {},
   "outputs": [
    {
     "data": {
      "text/html": [
       "<table><tr><td><div><style>\n",
       ".dataframe > thead > tr,\n",
       ".dataframe > tbody > tr {\n",
       "  text-align: right;\n",
       "  white-space: pre-wrap;\n",
       "}\n",
       "</style>\n",
       "<small>shape: (3, 3)</small><table border=\"1\" class=\"dataframe\"><thead><tr><th>a</th><th>b</th><th>c</th></tr><tr><td>f64</td><td>f64</td><td>f64</td></tr></thead><tbody><tr><td>1.0</td><td>3.0</td><td>2.0</td></tr><tr><td>2.0</td><td>2.0</td><td>1.0</td></tr><tr><td>3.0</td><td>1.0</td><td>3.0</td></tr></tbody></table></div></td><td><div><style>\n",
       ".dataframe > thead > tr,\n",
       ".dataframe > tbody > tr {\n",
       "  text-align: right;\n",
       "  white-space: pre-wrap;\n",
       "}\n",
       "</style>\n",
       "<small>shape: (3, 3)</small><table border=\"1\" class=\"dataframe\"><thead><tr><th>x</th><th>y</th><th>z</th></tr><tr><td>f64</td><td>f64</td><td>f64</td></tr></thead><tbody><tr><td>0.267261</td><td>0.801784</td><td>0.534522</td></tr><tr><td>0.666667</td><td>0.666667</td><td>0.333333</td></tr><tr><td>0.688247</td><td>0.229416</td><td>0.688247</td></tr></tbody></table></div></td></tr></table>"
      ]
     },
     "metadata": {},
     "output_type": "display_data"
    }
   ],
   "source": [
    "@polars_exprs\n",
    "def norm2():\n",
    "    length = sqrt(x**2 + y**2 + z**2)\n",
    "    return dict(x=x / length, y=y / length, z=z / length)\n",
    "\n",
    "df = pl.DataFrame(\n",
    "    dict(a=[1.0, 2.0, 3.0], b=[3.0, 2.0, 1.0], c=[2.0, 1.0, 3.0])\n",
    ")\n",
    "df1 = df.select(**norm2(x='a', y='b', z='c'))\n",
    "\n",
    "row(df, df1)"
   ]
  },
  {
   "cell_type": "markdown",
   "id": "75480113-6f0e-4a91-97d8-411000db0c2c",
   "metadata": {},
   "source": [
    "`polars_exprs`でデコレートされた関数が実行される際、以下の順序でシンボルが解釈されます。\n",
    "\n",
    "1. キーワード引数: キーワード引数に指定されたシンボルは、そのままキーワード引数として解釈されます。引数の値が文字列の場合、自動的に`pl.col()`を用いて列を表す式に置き換えられます。  \n",
    "2. `c_`で始まるシンボル: `c_`で始まるシンボルは`pl.col()`に変換されます。例えば、`c_name`は`pl.col('name')`となります。  \n",
    "3. Polarsライブラリ内の演算式関連の関数やメソッド\n",
    "4. 関数定義時のグローバル変数\n",
    "5. Pythonのビルトイン関数\n",
    "\n",
    "以下の例では、それぞれのシンボルが次のように解釈されます：\n",
    "\n",
    "- **`A`と`p`**：キーワード引数で指定した列。`pl.col('Amp')`および`pl.col('p')`に対応します。\n",
    "- **`c_f`**：列`pl.col('f')`に変換されます。\n",
    "- **`math`**：グローバル変数として解釈されます。\n",
    "- **`sin()`**：Polarsの演算式メソッド`sin()`を使用します。\n",
    "- **`print()`**：Pythonのビルトイン関数`print()`を使用します。"
   ]
  },
  {
   "cell_type": "code",
   "execution_count": 25,
   "id": "49018862-c8c4-455d-bf16-3fb84d0a584d",
   "metadata": {},
   "outputs": [
    {
     "name": "stdout",
     "output_type": "stream",
     "text": [
      "[([(dyn float: 6.283185) * (col(\"f\"))]) + (col(\"p\"))]\n"
     ]
    },
    {
     "data": {
      "text/html": [
       "<div><style>\n",
       ".dataframe > thead > tr,\n",
       ".dataframe > tbody > tr {\n",
       "  text-align: right;\n",
       "  white-space: pre-wrap;\n",
       "}\n",
       "</style>\n",
       "<small>shape: (3, 1)</small><table border=\"1\" class=\"dataframe\"><thead><tr><th>Amp</th></tr><tr><td>f64</td></tr></thead><tbody><tr><td>0.099833</td></tr><tr><td>0.397339</td></tr><tr><td>0.886561</td></tr></tbody></table></div>"
      ],
      "text/plain": [
       "shape: (3, 1)\n",
       "┌──────────┐\n",
       "│ Amp      │\n",
       "│ ---      │\n",
       "│ f64      │\n",
       "╞══════════╡\n",
       "│ 0.099833 │\n",
       "│ 0.397339 │\n",
       "│ 0.886561 │\n",
       "└──────────┘"
      ]
     },
     "execution_count": 25,
     "metadata": {},
     "output_type": "execute_result"
    }
   ],
   "source": [
    "import math\n",
    "\n",
    "@polars_exprs\n",
    "def my_expr():\n",
    "    phase = 2 * math.pi * c_f + p\n",
    "    print(phase)\n",
    "    value = A * sin(phase)\n",
    "    return value\n",
    "\n",
    "df = pl.DataFrame(dict(\n",
    "    Amp=[1, 2, 3],\n",
    "    f=[10, 20, 30],\n",
    "    p=[0.1, 0.2, 0.3]\n",
    "))\n",
    "\n",
    "df.select(my_expr(A=\"Amp\", p=\"p\"))"
   ]
  },
  {
   "cell_type": "markdown",
   "id": "2c07b90b-382f-4461-882b-796ff0db59f0",
   "metadata": {},
   "source": [
    "`polars_exprs`デコレータを使用することで得られる主なメリットは以下の通りです：\n",
    "\n",
    "1. **より直感的な記法で計算式を記述できる**\n",
    "   - 通常のPython関数のように計算式を書けるため、コードが簡潔で分かりやすくなります。\n",
    "   - 例えば、`sqrt(x)`のような数学的な記法で演算式を記述可能です（通常のPolarsでは`x.sqrt()`と記述する必要があります）。\n",
    "\n",
    "2. **列参照が簡単になる**\n",
    "   - `c_`で始まる変数（例: `c_x`）を使えば、`pl.col('x')`のように書かずに列を参照できます。\n",
    "   - キーワード引数を使うことで、柔軟に列名を指定可能です。例えば、`x='column1'`のように明示的に列を指定できます。\n",
    "\n",
    "3. **Polars演算式のメリットをそのまま活用**\n",
    "   - 関数内で使用される演算はPolarsの遅延評価（lazy execution）や高速なクエリ実行エンジンの恩恵を受けられるため、大量データの処理でも効率的です。\n",
    "   - 演算式の関数やメソッド（例: `sin()`や`sqrt()`）が直接使えるため、記述が直感的になります。\n",
    "\n",
    "4. **サブネームスペースの関数が簡単に使える**\n",
    "   - Polarsのサブネームスペース（例: `.list.first()`）に対応したカスタム関数（例: `list_first()`）を使えるため、柔軟性が向上します。\n",
    "\n",
    "5. **コードの再利用性が向上**\n",
    "   - 演算式をPython関数として抽象化できるため、複雑な計算や処理を繰り返し使用する場合にコードを再利用しやすくなります。\n",
    "   - 同じ計算式を異なる列に適用したい場合も、キーワード引数を用いて簡単に対応可能です。\n",
    "\n",
    "6. **Polarsの機能とPythonの標準機能の統合**\n",
    "   - Polars演算式に加え、標準Pythonのビルトイン関数（例: `print()`）やグローバル変数（例: `math.pi`）も利用できるため、柔軟な処理が可能です。\n",
    "\n",
    "7. **読みやすく保守性の高いコード**\n",
    "   - 数学的な記法や柔軟な列指定によって、コードが読みやすくなるため、保守性が向上します。\n",
    "   - チームでの共有や将来的な修正が容易になります。"
   ]
  },
  {
   "cell_type": "markdown",
   "id": "591bb6af-9651-42e0-9331-f4a646489841",
   "metadata": {},
   "source": [
    "## 配列を処理するユーザー関数"
   ]
  },
  {
   "cell_type": "markdown",
   "id": "e2af49ff-1c31-40ea-b835-b5e58f67c4db",
   "metadata": {},
   "source": [
    "次のコードは、`a` 列が `b` 列より小さい値を指定された値に置き換えます。Polars の演算式でこの計算を実装するのは難しいため、`pyarrow` や `numpy` の機能を使用すれば簡単に実現でき、`map_batches()` を活用しています。"
   ]
  },
  {
   "cell_type": "code",
   "execution_count": 5,
   "id": "381ea440-981a-421b-8fa9-e7c2361b3fb8",
   "metadata": {},
   "outputs": [
    {
     "data": {
      "text/html": [
       "<div><style>\n",
       ".dataframe > thead > tr,\n",
       ".dataframe > tbody > tr {\n",
       "  text-align: right;\n",
       "  white-space: pre-wrap;\n",
       "}\n",
       "</style>\n",
       "<small>shape: (4, 3)</small><table border=\"1\" class=\"dataframe\"><thead><tr><th>a</th><th>b</th><th>pl_result</th></tr><tr><td>i64</td><td>i64</td><td>i64</td></tr></thead><tbody><tr><td>1</td><td>1</td><td>1</td></tr><tr><td>2</td><td>3</td><td>100</td></tr><tr><td>3</td><td>4</td><td>200</td></tr><tr><td>10</td><td>5</td><td>10</td></tr></tbody></table></div>"
      ],
      "text/plain": [
       "shape: (4, 3)\n",
       "┌─────┬─────┬───────────┐\n",
       "│ a   ┆ b   ┆ pl_result │\n",
       "│ --- ┆ --- ┆ ---       │\n",
       "│ i64 ┆ i64 ┆ i64       │\n",
       "╞═════╪═════╪═══════════╡\n",
       "│ 1   ┆ 1   ┆ 1         │\n",
       "│ 2   ┆ 3   ┆ 100       │\n",
       "│ 3   ┆ 4   ┆ 200       │\n",
       "│ 10  ┆ 5   ┆ 10        │\n",
       "└─────┴─────┴───────────┘"
      ]
     },
     "execution_count": 5,
     "metadata": {},
     "output_type": "execute_result"
    }
   ],
   "source": [
    "import numpy as np\n",
    "\n",
    "df = pl.DataFrame({\n",
    "    \"a\":[1, 2, 3, 10],\n",
    "    \"b\":[1, 3, 4, 5],\n",
    "})\n",
    "\n",
    "def func(args, values):\n",
    "    a, b = [s.to_numpy() for s in args]\n",
    "    c = np.copy(a)\n",
    "    c[a < b] = values\n",
    "    return pl.Series(c)\n",
    "\n",
    "df.with_columns(\n",
    "    pl_result=pl.map_batches(['a', 'b'], lambda args:func(args, [100, 200]))\n",
    ")    "
   ]
  },
  {
   "cell_type": "markdown",
   "id": "b232d1d1-4dea-45b7-a136-d2df8689d958",
   "metadata": {},
   "source": [
    "`map_batches()` には次の三つの問題があります。\n",
    "\n",
    "1. 複数の列を一つのリストにまとめて、ユーザー関数に渡します。\n",
    "2. ユーザー関数には他の引数を渡せません。\n",
    "3. ユーザー関数の入力と出力が `Series` オブジェクトでないと、結果がおかしくなります。\n",
    "\n",
    "これらの問題を解決するために、本書では `pyarrow_batch` と `numpy_batch` の二つのデコレータを提供します。次のコードは、`pyarrow_batch` と `numpy_batch` を使って、`pa_func` と `np_func` を `map_batches()` に渡せる関数に変換します。また、これらの関数に引数を渡したい場合は、`func(values=values)` のように使うことができます。"
   ]
  },
  {
   "cell_type": "code",
   "execution_count": 7,
   "id": "5a62de0d-aef3-43de-8d5f-cc9b8a3f8576",
   "metadata": {},
   "outputs": [
    {
     "data": {
      "text/html": [
       "<div><style>\n",
       ".dataframe > thead > tr,\n",
       ".dataframe > tbody > tr {\n",
       "  text-align: right;\n",
       "  white-space: pre-wrap;\n",
       "}\n",
       "</style>\n",
       "<small>shape: (4, 4)</small><table border=\"1\" class=\"dataframe\"><thead><tr><th>a</th><th>b</th><th>pa_result</th><th>np_result</th></tr><tr><td>i64</td><td>i64</td><td>i64</td><td>i64</td></tr></thead><tbody><tr><td>1</td><td>1</td><td>1</td><td>1</td></tr><tr><td>2</td><td>3</td><td>100</td><td>100</td></tr><tr><td>3</td><td>4</td><td>200</td><td>200</td></tr><tr><td>10</td><td>5</td><td>10</td><td>10</td></tr></tbody></table></div>"
      ],
      "text/plain": [
       "shape: (4, 4)\n",
       "┌─────┬─────┬───────────┬───────────┐\n",
       "│ a   ┆ b   ┆ pa_result ┆ np_result │\n",
       "│ --- ┆ --- ┆ ---       ┆ ---       │\n",
       "│ i64 ┆ i64 ┆ i64       ┆ i64       │\n",
       "╞═════╪═════╪═══════════╪═══════════╡\n",
       "│ 1   ┆ 1   ┆ 1         ┆ 1         │\n",
       "│ 2   ┆ 3   ┆ 100       ┆ 100       │\n",
       "│ 3   ┆ 4   ┆ 200       ┆ 200       │\n",
       "│ 10  ┆ 5   ┆ 10        ┆ 10        │\n",
       "└─────┴─────┴───────────┴───────────┘"
      ]
     },
     "execution_count": 7,
     "metadata": {},
     "output_type": "execute_result"
    }
   ],
   "source": [
    "from helper.polars import pyarrow_batch, numpy_batch\n",
    "\n",
    "@pyarrow_batch\n",
    "def pa_func(a, b, values):\n",
    "    from pyarrow.compute import replace_with_mask, less\n",
    "    return replace_with_mask(a, less(a, b), values)\n",
    "\n",
    "@numpy_batch\n",
    "def np_func(a, b, values):\n",
    "    c = a.copy()\n",
    "    c[a < b] = values\n",
    "    return c\n",
    "\n",
    "values = [100, 200]\n",
    "\n",
    "df.with_columns(\n",
    "    pa_result=pl.map_batches(['a', 'b'], pa_func(values=values)),\n",
    "    np_result=pl.map_batches(['a', 'b'], np_func(values=values)),\n",
    ")"
   ]
  }
 ],
 "metadata": {
  "kernelspec": {
   "display_name": "Python 3 (ipykernel)",
   "language": "python",
   "name": "python3"
  },
  "language_info": {
   "codemirror_mode": {
    "name": "ipython",
    "version": 3
   },
   "file_extension": ".py",
   "mimetype": "text/x-python",
   "name": "python",
   "nbconvert_exporter": "python",
   "pygments_lexer": "ipython3",
   "version": "3.12.2"
  },
  "widgets": {
   "application/vnd.jupyter.widget-state+json": {
    "state": {
     "00b5beb89b6848dab2b060b5585850a7": {
      "model_module": "@jupyter-widgets/base",
      "model_module_version": "2.0.0",
      "model_name": "LayoutModel",
      "state": {}
     },
     "019b445b6022402cb7c17f58744e8188": {
      "model_module": "@jupyter-widgets/base",
      "model_module_version": "2.0.0",
      "model_name": "LayoutModel",
      "state": {}
     },
     "0d295c4425184b1684dbe890f2c81403": {
      "model_module": "@jupyter-widgets/output",
      "model_module_version": "1.0.0",
      "model_name": "OutputModel",
      "state": {
       "layout": "IPY_MODEL_753aa24437124ea9a717447ee0198327",
       "outputs": [
        {
         "data": {
          "text/html": "<div><style>\n.dataframe > thead > tr,\n.dataframe > tbody > tr {\n  text-align: right;\n  white-space: pre-wrap;\n}\n</style>\n<small>shape: (2, 3)</small><table border=\"1\" class=\"dataframe\"><thead><tr><th>department</th><th>average_score</th><th>max_age</th></tr><tr><td>str</td><td>f64</td><td>i64</td></tr></thead><tbody><tr><td>&quot;HR&quot;</td><td>90.75</td><td>45</td></tr><tr><td>&quot;IT&quot;</td><td>88.0</td><td>40</td></tr></tbody></table></div>"
         },
         "metadata": {},
         "output_type": "display_data"
        }
       ]
      }
     },
     "1493a4c705714324a49728260103dc95": {
      "model_module": "@jupyter-widgets/output",
      "model_module_version": "1.0.0",
      "model_name": "OutputModel",
      "state": {
       "layout": "IPY_MODEL_3ce8029ba640496e8911117538663333",
       "outputs": [
        {
         "data": {
          "text/html": "<div><style>\n.dataframe > thead > tr,\n.dataframe > tbody > tr {\n  text-align: right;\n  white-space: pre-wrap;\n}\n</style>\n<small>shape: (2, 3)</small><table border=\"1\" class=\"dataframe\"><thead><tr><th>department</th><th>average_score</th><th>max_age</th></tr><tr><td>str</td><td>f64</td><td>i64</td></tr></thead><tbody><tr><td>&quot;IT&quot;</td><td>88.0</td><td>40</td></tr><tr><td>&quot;HR&quot;</td><td>90.75</td><td>45</td></tr></tbody></table></div>"
         },
         "metadata": {},
         "output_type": "display_data"
        }
       ]
      }
     },
     "19ff920bb9fe4eb8bb874eb5700e4e87": {
      "model_module": "@jupyter-widgets/base",
      "model_module_version": "2.0.0",
      "model_name": "LayoutModel",
      "state": {}
     },
     "1c82d9eaeed242c6a5bf5b1c3f711a3b": {
      "model_module": "@jupyter-widgets/output",
      "model_module_version": "1.0.0",
      "model_name": "OutputModel",
      "state": {
       "layout": "IPY_MODEL_19ff920bb9fe4eb8bb874eb5700e4e87",
       "outputs": [
        {
         "data": {
          "text/markdown": "## filter\n\n### args\n* `[(col(\"age\")) > (dyn int: 30)]`\n\n### kws"
         },
         "metadata": {},
         "output_type": "display_data"
        }
       ]
      }
     },
     "1ed41523cf1548b9b5d5d38482433dbb": {
      "model_module": "@jupyter-widgets/base",
      "model_module_version": "2.0.0",
      "model_name": "LayoutModel",
      "state": {}
     },
     "216e9e8fc59347a6a285fa770e6c84fd": {
      "model_module": "@jupyter-widgets/base",
      "model_module_version": "2.0.0",
      "model_name": "LayoutModel",
      "state": {}
     },
     "21c4561ade5f431890020e366b4e2ea2": {
      "model_module": "@jupyter-widgets/controls",
      "model_module_version": "2.0.0",
      "model_name": "TabModel",
      "state": {
       "children": [
        "IPY_MODEL_e1839f1d3c22454a95c41650951e82ba",
        "IPY_MODEL_bd6fbb207f0846b0b7e0e66f6fef763a",
        "IPY_MODEL_6f82adb79434451babc7da9dd8938cac",
        "IPY_MODEL_3660db5b356340c6bcc27ed2c1cf7825",
        "IPY_MODEL_8a290c19108b4d10bc7425298cbeb09f"
       ],
       "layout": "IPY_MODEL_65cb581f2b39456f80a65f6425cbac36",
       "selected_index": 0,
       "titles": [
        "filter",
        "with_columns",
        "group_by",
        "agg",
        "sort"
       ]
      }
     },
     "30070d1efd304c4ca0c29d88337485eb": {
      "model_module": "@jupyter-widgets/base",
      "model_module_version": "2.0.0",
      "model_name": "LayoutModel",
      "state": {}
     },
     "3660db5b356340c6bcc27ed2c1cf7825": {
      "model_module": "@jupyter-widgets/controls",
      "model_module_version": "2.0.0",
      "model_name": "VBoxModel",
      "state": {
       "children": [
        "IPY_MODEL_48150f0cafca40b1ae42090c09dd2f29",
        "IPY_MODEL_a53f72df7e28472892f78120661b1e3f"
       ],
       "layout": "IPY_MODEL_926401b2eba54e91a10834b9cf47960c"
      }
     },
     "3820e418766f47af9f382c96505a0d62": {
      "model_module": "@jupyter-widgets/base",
      "model_module_version": "2.0.0",
      "model_name": "LayoutModel",
      "state": {}
     },
     "38d95b3229cb41acb15ce5b2dd0130c7": {
      "model_module": "@jupyter-widgets/base",
      "model_module_version": "2.0.0",
      "model_name": "LayoutModel",
      "state": {}
     },
     "3ce8029ba640496e8911117538663333": {
      "model_module": "@jupyter-widgets/base",
      "model_module_version": "2.0.0",
      "model_name": "LayoutModel",
      "state": {}
     },
     "3f718e36023f43bc94414d6c951fdfda": {
      "model_module": "@jupyter-widgets/output",
      "model_module_version": "1.0.0",
      "model_name": "OutputModel",
      "state": {
       "layout": "IPY_MODEL_00b5beb89b6848dab2b060b5585850a7",
       "outputs": [
        {
         "data": {
          "text/html": "<div><style>\n.dataframe > thead > tr,\n.dataframe > tbody > tr {\n  text-align: right;\n  white-space: pre-wrap;\n}\n</style>\n<small>shape: (3, 5)</small><table border=\"1\" class=\"dataframe\"><thead><tr><th>name</th><th>age</th><th>score</th><th>department</th><th>adjusted_score</th></tr><tr><td>str</td><td>i64</td><td>i64</td><td>str</td><td>f64</td></tr></thead><tbody><tr><td>&quot;Charlie&quot;</td><td>35</td><td>95</td><td>&quot;HR&quot;</td><td>104.5</td></tr><tr><td>&quot;David&quot;</td><td>40</td><td>80</td><td>&quot;IT&quot;</td><td>88.0</td></tr><tr><td>&quot;Eve&quot;</td><td>45</td><td>70</td><td>&quot;HR&quot;</td><td>77.0</td></tr></tbody></table></div>"
         },
         "metadata": {},
         "output_type": "display_data"
        }
       ]
      }
     },
     "400f254b01ee48f8a7f57e3bc0e1bc8e": {
      "model_module": "@jupyter-widgets/base",
      "model_module_version": "2.0.0",
      "model_name": "LayoutModel",
      "state": {}
     },
     "4393ee25ba134c599053160d914e2b49": {
      "model_module": "@jupyter-widgets/output",
      "model_module_version": "1.0.0",
      "model_name": "OutputModel",
      "state": {
       "layout": "IPY_MODEL_fae42487ee0240d692b402f4baabea66",
       "outputs": [
        {
         "data": {
          "text/markdown": "## sort\n\n### args\n* `average_score`\n\n### kws\n* descending=`True`"
         },
         "metadata": {},
         "output_type": "display_data"
        }
       ]
      }
     },
     "4767c8e93b2c43978eb8a221780d6ab3": {
      "model_module": "@jupyter-widgets/output",
      "model_module_version": "1.0.0",
      "model_name": "OutputModel",
      "state": {
       "layout": "IPY_MODEL_c39bd1889d754d64814c0d3bb0bf96e3",
       "outputs": [
        {
         "data": {
          "text/html": "<div><style>\n.dataframe > thead > tr,\n.dataframe > tbody > tr {\n  text-align: right;\n  white-space: pre-wrap;\n}\n</style>\n<small>shape: (3, 4)</small><table border=\"1\" class=\"dataframe\"><thead><tr><th>name</th><th>age</th><th>score</th><th>department</th></tr><tr><td>str</td><td>i64</td><td>i64</td><td>str</td></tr></thead><tbody><tr><td>&quot;Charlie&quot;</td><td>35</td><td>95</td><td>&quot;HR&quot;</td></tr><tr><td>&quot;David&quot;</td><td>40</td><td>80</td><td>&quot;IT&quot;</td></tr><tr><td>&quot;Eve&quot;</td><td>45</td><td>70</td><td>&quot;HR&quot;</td></tr></tbody></table></div>"
         },
         "metadata": {},
         "output_type": "display_data"
        }
       ]
      }
     },
     "48150f0cafca40b1ae42090c09dd2f29": {
      "model_module": "@jupyter-widgets/output",
      "model_module_version": "1.0.0",
      "model_name": "OutputModel",
      "state": {
       "layout": "IPY_MODEL_38d95b3229cb41acb15ce5b2dd0130c7",
       "outputs": [
        {
         "data": {
          "text/markdown": "## agg\n\n### args\n* `[<Expr ['col(\"adjusted_score\").mean().a…'] at 0x15691376FD0>, <Expr ['col(\"age\").max().alias(\"max_ag…'] at 0x15691374C50>]`\n\n### kws"
         },
         "metadata": {},
         "output_type": "display_data"
        }
       ]
      }
     },
     "48227b253c5e4cbcb4a6158c9eeb36bf": {
      "model_module": "@jupyter-widgets/output",
      "model_module_version": "1.0.0",
      "model_name": "OutputModel",
      "state": {
       "layout": "IPY_MODEL_019b445b6022402cb7c17f58744e8188",
       "outputs": [
        {
         "data": {
          "text/html": "<div><style>\n.dataframe > thead > tr,\n.dataframe > tbody > tr {\n  text-align: right;\n  white-space: pre-wrap;\n}\n</style>\n<small>shape: (2, 3)</small><table border=\"1\" class=\"dataframe\"><thead><tr><th>department</th><th>average_score</th><th>max_age</th></tr><tr><td>str</td><td>f64</td><td>i64</td></tr></thead><tbody><tr><td>&quot;IT&quot;</td><td>88.0</td><td>40</td></tr><tr><td>&quot;HR&quot;</td><td>90.75</td><td>45</td></tr></tbody></table></div>"
         },
         "metadata": {},
         "output_type": "display_data"
        }
       ]
      }
     },
     "4e1e8d8865b84f10976ac706d2bf1087": {
      "model_module": "@jupyter-widgets/base",
      "model_module_version": "2.0.0",
      "model_name": "LayoutModel",
      "state": {}
     },
     "6212fabfc3bd459f80b5bb4e230db09e": {
      "model_module": "@jupyter-widgets/output",
      "model_module_version": "1.0.0",
      "model_name": "OutputModel",
      "state": {
       "layout": "IPY_MODEL_30070d1efd304c4ca0c29d88337485eb",
       "outputs": [
        {
         "data": {
          "text/plain": "<polars.dataframe.group_by.GroupBy at 0x15691359a50>"
         },
         "metadata": {},
         "output_type": "display_data"
        }
       ]
      }
     },
     "65cb581f2b39456f80a65f6425cbac36": {
      "model_module": "@jupyter-widgets/base",
      "model_module_version": "2.0.0",
      "model_name": "LayoutModel",
      "state": {}
     },
     "6973facd26e24ab1a67e8b32e03cdfa3": {
      "model_module": "@jupyter-widgets/base",
      "model_module_version": "2.0.0",
      "model_name": "LayoutModel",
      "state": {}
     },
     "6f82adb79434451babc7da9dd8938cac": {
      "model_module": "@jupyter-widgets/controls",
      "model_module_version": "2.0.0",
      "model_name": "VBoxModel",
      "state": {
       "children": [
        "IPY_MODEL_dd179cf2d9284f828d8a1653ab9ff236",
        "IPY_MODEL_f60d0555e30e4dca9eddb178401bcce8"
       ],
       "layout": "IPY_MODEL_1ed41523cf1548b9b5d5d38482433dbb"
      }
     },
     "71c6dac7cfc040619a6f82f48160ffdb": {
      "model_module": "@jupyter-widgets/output",
      "model_module_version": "1.0.0",
      "model_name": "OutputModel",
      "state": {
       "layout": "IPY_MODEL_98445a22da8242be8b7cda03f00cae78",
       "outputs": [
        {
         "data": {
          "text/plain": "<polars.dataframe.group_by.GroupBy at 0x15691359a50>"
         },
         "metadata": {},
         "output_type": "display_data"
        }
       ]
      }
     },
     "753aa24437124ea9a717447ee0198327": {
      "model_module": "@jupyter-widgets/base",
      "model_module_version": "2.0.0",
      "model_name": "LayoutModel",
      "state": {}
     },
     "7daf44661670439eb99e7723cc340a16": {
      "model_module": "@jupyter-widgets/base",
      "model_module_version": "2.0.0",
      "model_name": "LayoutModel",
      "state": {}
     },
     "8200726453644752b2b8960c797531ac": {
      "model_module": "@jupyter-widgets/controls",
      "model_module_version": "2.0.0",
      "model_name": "HBoxModel",
      "state": {
       "children": [
        "IPY_MODEL_c29d9b7692e74f35aba22d2410092126",
        "IPY_MODEL_3f718e36023f43bc94414d6c951fdfda"
       ],
       "layout": "IPY_MODEL_4e1e8d8865b84f10976ac706d2bf1087"
      }
     },
     "83a37c40d8ce4c96aa24aa7222311395": {
      "model_module": "@jupyter-widgets/base",
      "model_module_version": "2.0.0",
      "model_name": "LayoutModel",
      "state": {}
     },
     "8a290c19108b4d10bc7425298cbeb09f": {
      "model_module": "@jupyter-widgets/controls",
      "model_module_version": "2.0.0",
      "model_name": "VBoxModel",
      "state": {
       "children": [
        "IPY_MODEL_4393ee25ba134c599053160d914e2b49",
        "IPY_MODEL_b8810df37244496d8af3544640866357"
       ],
       "layout": "IPY_MODEL_216e9e8fc59347a6a285fa770e6c84fd"
      }
     },
     "90d1755c4bda431591bec2103487d5f9": {
      "model_module": "@jupyter-widgets/base",
      "model_module_version": "2.0.0",
      "model_name": "LayoutModel",
      "state": {}
     },
     "926401b2eba54e91a10834b9cf47960c": {
      "model_module": "@jupyter-widgets/base",
      "model_module_version": "2.0.0",
      "model_name": "LayoutModel",
      "state": {}
     },
     "98445a22da8242be8b7cda03f00cae78": {
      "model_module": "@jupyter-widgets/base",
      "model_module_version": "2.0.0",
      "model_name": "LayoutModel",
      "state": {}
     },
     "99703f98bd504c6ca9aaf854835fd996": {
      "model_module": "@jupyter-widgets/output",
      "model_module_version": "1.0.0",
      "model_name": "OutputModel",
      "state": {
       "layout": "IPY_MODEL_9b004087100449ba9b9ec8c52de7c510",
       "outputs": [
        {
         "data": {
          "text/html": "<div><style>\n.dataframe > thead > tr,\n.dataframe > tbody > tr {\n  text-align: right;\n  white-space: pre-wrap;\n}\n</style>\n<small>shape: (3, 5)</small><table border=\"1\" class=\"dataframe\"><thead><tr><th>name</th><th>age</th><th>score</th><th>department</th><th>adjusted_score</th></tr><tr><td>str</td><td>i64</td><td>i64</td><td>str</td><td>f64</td></tr></thead><tbody><tr><td>&quot;Charlie&quot;</td><td>35</td><td>95</td><td>&quot;HR&quot;</td><td>104.5</td></tr><tr><td>&quot;David&quot;</td><td>40</td><td>80</td><td>&quot;IT&quot;</td><td>88.0</td></tr><tr><td>&quot;Eve&quot;</td><td>45</td><td>70</td><td>&quot;HR&quot;</td><td>77.0</td></tr></tbody></table></div>"
         },
         "metadata": {},
         "output_type": "display_data"
        }
       ]
      }
     },
     "9b004087100449ba9b9ec8c52de7c510": {
      "model_module": "@jupyter-widgets/base",
      "model_module_version": "2.0.0",
      "model_name": "LayoutModel",
      "state": {}
     },
     "9b93fc95a08a4f2cb8c9eadb5f4b3191": {
      "model_module": "@jupyter-widgets/base",
      "model_module_version": "2.0.0",
      "model_name": "LayoutModel",
      "state": {}
     },
     "a53f72df7e28472892f78120661b1e3f": {
      "model_module": "@jupyter-widgets/controls",
      "model_module_version": "2.0.0",
      "model_name": "HBoxModel",
      "state": {
       "children": [
        "IPY_MODEL_6212fabfc3bd459f80b5bb4e230db09e",
        "IPY_MODEL_1493a4c705714324a49728260103dc95"
       ],
       "layout": "IPY_MODEL_cdaae9878cbc42b1b13c71fa4b8bd624"
      }
     },
     "ab3beca6ecbe4b86888fe0b0281e1254": {
      "model_module": "@jupyter-widgets/controls",
      "model_module_version": "2.0.0",
      "model_name": "HBoxModel",
      "state": {
       "children": [
        "IPY_MODEL_e8f4a98017374edf9d851136b38988fa",
        "IPY_MODEL_4767c8e93b2c43978eb8a221780d6ab3"
       ],
       "layout": "IPY_MODEL_7daf44661670439eb99e7723cc340a16"
      }
     },
     "b72e045ce94f4abab24b61347e864c32": {
      "model_module": "@jupyter-widgets/base",
      "model_module_version": "2.0.0",
      "model_name": "LayoutModel",
      "state": {}
     },
     "b8810df37244496d8af3544640866357": {
      "model_module": "@jupyter-widgets/controls",
      "model_module_version": "2.0.0",
      "model_name": "HBoxModel",
      "state": {
       "children": [
        "IPY_MODEL_48227b253c5e4cbcb4a6158c9eeb36bf",
        "IPY_MODEL_0d295c4425184b1684dbe890f2c81403"
       ],
       "layout": "IPY_MODEL_400f254b01ee48f8a7f57e3bc0e1bc8e"
      }
     },
     "bd6fbb207f0846b0b7e0e66f6fef763a": {
      "model_module": "@jupyter-widgets/controls",
      "model_module_version": "2.0.0",
      "model_name": "VBoxModel",
      "state": {
       "children": [
        "IPY_MODEL_d022542941744a8b8c70bbb8b38057ee",
        "IPY_MODEL_8200726453644752b2b8960c797531ac"
       ],
       "layout": "IPY_MODEL_9b93fc95a08a4f2cb8c9eadb5f4b3191"
      }
     },
     "c29d9b7692e74f35aba22d2410092126": {
      "model_module": "@jupyter-widgets/output",
      "model_module_version": "1.0.0",
      "model_name": "OutputModel",
      "state": {
       "layout": "IPY_MODEL_6973facd26e24ab1a67e8b32e03cdfa3",
       "outputs": [
        {
         "data": {
          "text/html": "<div><style>\n.dataframe > thead > tr,\n.dataframe > tbody > tr {\n  text-align: right;\n  white-space: pre-wrap;\n}\n</style>\n<small>shape: (3, 4)</small><table border=\"1\" class=\"dataframe\"><thead><tr><th>name</th><th>age</th><th>score</th><th>department</th></tr><tr><td>str</td><td>i64</td><td>i64</td><td>str</td></tr></thead><tbody><tr><td>&quot;Charlie&quot;</td><td>35</td><td>95</td><td>&quot;HR&quot;</td></tr><tr><td>&quot;David&quot;</td><td>40</td><td>80</td><td>&quot;IT&quot;</td></tr><tr><td>&quot;Eve&quot;</td><td>45</td><td>70</td><td>&quot;HR&quot;</td></tr></tbody></table></div>"
         },
         "metadata": {},
         "output_type": "display_data"
        }
       ]
      }
     },
     "c39bd1889d754d64814c0d3bb0bf96e3": {
      "model_module": "@jupyter-widgets/base",
      "model_module_version": "2.0.0",
      "model_name": "LayoutModel",
      "state": {}
     },
     "cdaae9878cbc42b1b13c71fa4b8bd624": {
      "model_module": "@jupyter-widgets/base",
      "model_module_version": "2.0.0",
      "model_name": "LayoutModel",
      "state": {}
     },
     "d022542941744a8b8c70bbb8b38057ee": {
      "model_module": "@jupyter-widgets/output",
      "model_module_version": "1.0.0",
      "model_name": "OutputModel",
      "state": {
       "layout": "IPY_MODEL_d4787c53004b4ff996ecf9da41ef7f06",
       "outputs": [
        {
         "data": {
          "text/markdown": "## with_columns\n\n### args\n* `[(col(\"score\")) * (dyn float: 1.1)].alias(\"adjusted_score\")`\n\n### kws"
         },
         "metadata": {},
         "output_type": "display_data"
        }
       ]
      }
     },
     "d4787c53004b4ff996ecf9da41ef7f06": {
      "model_module": "@jupyter-widgets/base",
      "model_module_version": "2.0.0",
      "model_name": "LayoutModel",
      "state": {}
     },
     "dd179cf2d9284f828d8a1653ab9ff236": {
      "model_module": "@jupyter-widgets/output",
      "model_module_version": "1.0.0",
      "model_name": "OutputModel",
      "state": {
       "layout": "IPY_MODEL_3820e418766f47af9f382c96505a0d62",
       "outputs": [
        {
         "data": {
          "text/markdown": "## group_by\n\n### args\n* `department`\n\n### kws"
         },
         "metadata": {},
         "output_type": "display_data"
        }
       ]
      }
     },
     "e1839f1d3c22454a95c41650951e82ba": {
      "model_module": "@jupyter-widgets/controls",
      "model_module_version": "2.0.0",
      "model_name": "VBoxModel",
      "state": {
       "children": [
        "IPY_MODEL_1c82d9eaeed242c6a5bf5b1c3f711a3b",
        "IPY_MODEL_ab3beca6ecbe4b86888fe0b0281e1254"
       ],
       "layout": "IPY_MODEL_90d1755c4bda431591bec2103487d5f9"
      }
     },
     "e8f4a98017374edf9d851136b38988fa": {
      "model_module": "@jupyter-widgets/output",
      "model_module_version": "1.0.0",
      "model_name": "OutputModel",
      "state": {
       "layout": "IPY_MODEL_83a37c40d8ce4c96aa24aa7222311395",
       "outputs": [
        {
         "data": {
          "text/html": "<div><style>\n.dataframe > thead > tr,\n.dataframe > tbody > tr {\n  text-align: right;\n  white-space: pre-wrap;\n}\n</style>\n<small>shape: (5, 4)</small><table border=\"1\" class=\"dataframe\"><thead><tr><th>name</th><th>age</th><th>score</th><th>department</th></tr><tr><td>str</td><td>i64</td><td>i64</td><td>str</td></tr></thead><tbody><tr><td>&quot;Alice&quot;</td><td>25</td><td>85</td><td>&quot;HR&quot;</td></tr><tr><td>&quot;Bob&quot;</td><td>30</td><td>90</td><td>&quot;IT&quot;</td></tr><tr><td>&quot;Charlie&quot;</td><td>35</td><td>95</td><td>&quot;HR&quot;</td></tr><tr><td>&quot;David&quot;</td><td>40</td><td>80</td><td>&quot;IT&quot;</td></tr><tr><td>&quot;Eve&quot;</td><td>45</td><td>70</td><td>&quot;HR&quot;</td></tr></tbody></table></div>"
         },
         "metadata": {},
         "output_type": "display_data"
        }
       ]
      }
     },
     "f60d0555e30e4dca9eddb178401bcce8": {
      "model_module": "@jupyter-widgets/controls",
      "model_module_version": "2.0.0",
      "model_name": "HBoxModel",
      "state": {
       "children": [
        "IPY_MODEL_99703f98bd504c6ca9aaf854835fd996",
        "IPY_MODEL_71c6dac7cfc040619a6f82f48160ffdb"
       ],
       "layout": "IPY_MODEL_b72e045ce94f4abab24b61347e864c32"
      }
     },
     "fae42487ee0240d692b402f4baabea66": {
      "model_module": "@jupyter-widgets/base",
      "model_module_version": "2.0.0",
      "model_name": "LayoutModel",
      "state": {}
     }
    },
    "version_major": 2,
    "version_minor": 0
   }
  }
 },
 "nbformat": 4,
 "nbformat_minor": 5
}

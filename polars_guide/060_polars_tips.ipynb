{
 "cells": [
  {
   "cell_type": "markdown",
   "id": "4ea8102b-c0a0-4d89-b746-f932c895c814",
   "metadata": {},
   "source": [
    "# Polarsに関するTips"
   ]
  },
  {
   "cell_type": "markdown",
   "id": "e09cf82e-bb2b-4b91-bd2d-7005944e1c65",
   "metadata": {},
   "source": [
    "Polarsは、データフレーム操作を効率的に行うための強力なライブラリですが、さらに効果的に活用するためにはいくつかの便利なテクニックやコツを知っておくことが重要です。この章では、Polarsをよりスムーズに、かつ効率的に使用するための実践的なTipsを紹介します。これらのテクニックを使うことで、データの操作や処理を一層高速化し、作業の生産性を向上させることができます。"
   ]
  },
  {
   "cell_type": "code",
   "execution_count": 5,
   "id": "f767ff9e-1731-4c31-8e59-4293e073fc86",
   "metadata": {},
   "outputs": [
    {
     "data": {
      "application/javascript": [
       "(function(root) {\n",
       "  function now() {\n",
       "    return new Date();\n",
       "  }\n",
       "\n",
       "  var force = true;\n",
       "  var py_version = '3.4.2'.replace('rc', '-rc.').replace('.dev', '-dev.');\n",
       "  var reloading = false;\n",
       "  var Bokeh = root.Bokeh;\n",
       "\n",
       "  if (typeof (root._bokeh_timeout) === \"undefined\" || force) {\n",
       "    root._bokeh_timeout = Date.now() + 5000;\n",
       "    root._bokeh_failed_load = false;\n",
       "  }\n",
       "\n",
       "  function run_callbacks() {\n",
       "    try {\n",
       "      root._bokeh_onload_callbacks.forEach(function(callback) {\n",
       "        if (callback != null)\n",
       "          callback();\n",
       "      });\n",
       "    } finally {\n",
       "      delete root._bokeh_onload_callbacks;\n",
       "    }\n",
       "    console.debug(\"Bokeh: all callbacks have finished\");\n",
       "  }\n",
       "\n",
       "  function load_libs(css_urls, js_urls, js_modules, js_exports, callback) {\n",
       "    if (css_urls == null) css_urls = [];\n",
       "    if (js_urls == null) js_urls = [];\n",
       "    if (js_modules == null) js_modules = [];\n",
       "    if (js_exports == null) js_exports = {};\n",
       "\n",
       "    root._bokeh_onload_callbacks.push(callback);\n",
       "\n",
       "    if (root._bokeh_is_loading > 0) {\n",
       "      console.debug(\"Bokeh: BokehJS is being loaded, scheduling callback at\", now());\n",
       "      return null;\n",
       "    }\n",
       "    if (js_urls.length === 0 && js_modules.length === 0 && Object.keys(js_exports).length === 0) {\n",
       "      run_callbacks();\n",
       "      return null;\n",
       "    }\n",
       "    if (!reloading) {\n",
       "      console.debug(\"Bokeh: BokehJS not loaded, scheduling load and callback at\", now());\n",
       "    }\n",
       "\n",
       "    function on_load() {\n",
       "      root._bokeh_is_loading--;\n",
       "      if (root._bokeh_is_loading === 0) {\n",
       "        console.debug(\"Bokeh: all BokehJS libraries/stylesheets loaded\");\n",
       "        run_callbacks()\n",
       "      }\n",
       "    }\n",
       "    window._bokeh_on_load = on_load\n",
       "\n",
       "    function on_error() {\n",
       "      console.error(\"failed to load \" + url);\n",
       "    }\n",
       "\n",
       "    var skip = [];\n",
       "    if (window.requirejs) {\n",
       "      window.requirejs.config({'packages': {}, 'paths': {}, 'shim': {}});\n",
       "      root._bokeh_is_loading = css_urls.length + 0;\n",
       "    } else {\n",
       "      root._bokeh_is_loading = css_urls.length + js_urls.length + js_modules.length + Object.keys(js_exports).length;\n",
       "    }\n",
       "\n",
       "    var existing_stylesheets = []\n",
       "    var links = document.getElementsByTagName('link')\n",
       "    for (var i = 0; i < links.length; i++) {\n",
       "      var link = links[i]\n",
       "      if (link.href != null) {\n",
       "\texisting_stylesheets.push(link.href)\n",
       "      }\n",
       "    }\n",
       "    for (var i = 0; i < css_urls.length; i++) {\n",
       "      var url = css_urls[i];\n",
       "      if (existing_stylesheets.indexOf(url) !== -1) {\n",
       "\ton_load()\n",
       "\tcontinue;\n",
       "      }\n",
       "      const element = document.createElement(\"link\");\n",
       "      element.onload = on_load;\n",
       "      element.onerror = on_error;\n",
       "      element.rel = \"stylesheet\";\n",
       "      element.type = \"text/css\";\n",
       "      element.href = url;\n",
       "      console.debug(\"Bokeh: injecting link tag for BokehJS stylesheet: \", url);\n",
       "      document.body.appendChild(element);\n",
       "    }    var existing_scripts = []\n",
       "    var scripts = document.getElementsByTagName('script')\n",
       "    for (var i = 0; i < scripts.length; i++) {\n",
       "      var script = scripts[i]\n",
       "      if (script.src != null) {\n",
       "\texisting_scripts.push(script.src)\n",
       "      }\n",
       "    }\n",
       "    for (var i = 0; i < js_urls.length; i++) {\n",
       "      var url = js_urls[i];\n",
       "      if (skip.indexOf(url) !== -1 || existing_scripts.indexOf(url) !== -1) {\n",
       "\tif (!window.requirejs) {\n",
       "\t  on_load();\n",
       "\t}\n",
       "\tcontinue;\n",
       "      }\n",
       "      var element = document.createElement('script');\n",
       "      element.onload = on_load;\n",
       "      element.onerror = on_error;\n",
       "      element.async = false;\n",
       "      element.src = url;\n",
       "      console.debug(\"Bokeh: injecting script tag for BokehJS library: \", url);\n",
       "      document.head.appendChild(element);\n",
       "    }\n",
       "    for (var i = 0; i < js_modules.length; i++) {\n",
       "      var url = js_modules[i];\n",
       "      if (skip.indexOf(url) !== -1 || existing_scripts.indexOf(url) !== -1) {\n",
       "\tif (!window.requirejs) {\n",
       "\t  on_load();\n",
       "\t}\n",
       "\tcontinue;\n",
       "      }\n",
       "      var element = document.createElement('script');\n",
       "      element.onload = on_load;\n",
       "      element.onerror = on_error;\n",
       "      element.async = false;\n",
       "      element.src = url;\n",
       "      element.type = \"module\";\n",
       "      console.debug(\"Bokeh: injecting script tag for BokehJS library: \", url);\n",
       "      document.head.appendChild(element);\n",
       "    }\n",
       "    for (const name in js_exports) {\n",
       "      var url = js_exports[name];\n",
       "      if (skip.indexOf(url) >= 0 || root[name] != null) {\n",
       "\tif (!window.requirejs) {\n",
       "\t  on_load();\n",
       "\t}\n",
       "\tcontinue;\n",
       "      }\n",
       "      var element = document.createElement('script');\n",
       "      element.onerror = on_error;\n",
       "      element.async = false;\n",
       "      element.type = \"module\";\n",
       "      console.debug(\"Bokeh: injecting script tag for BokehJS library: \", url);\n",
       "      element.textContent = `\n",
       "      import ${name} from \"${url}\"\n",
       "      window.${name} = ${name}\n",
       "      window._bokeh_on_load()\n",
       "      `\n",
       "      document.head.appendChild(element);\n",
       "    }\n",
       "    if (!js_urls.length && !js_modules.length) {\n",
       "      on_load()\n",
       "    }\n",
       "  };\n",
       "\n",
       "  function inject_raw_css(css) {\n",
       "    const element = document.createElement(\"style\");\n",
       "    element.appendChild(document.createTextNode(css));\n",
       "    document.body.appendChild(element);\n",
       "  }\n",
       "\n",
       "  var js_urls = [\"https://cdn.bokeh.org/bokeh/release/bokeh-3.4.2.min.js\", \"https://cdn.bokeh.org/bokeh/release/bokeh-gl-3.4.2.min.js\", \"https://cdn.bokeh.org/bokeh/release/bokeh-widgets-3.4.2.min.js\", \"https://cdn.bokeh.org/bokeh/release/bokeh-tables-3.4.2.min.js\", \"https://cdn.holoviz.org/panel/1.4.4/dist/panel.min.js\"];\n",
       "  var js_modules = [];\n",
       "  var js_exports = {};\n",
       "  var css_urls = [];\n",
       "  var inline_js = [    function(Bokeh) {\n",
       "      Bokeh.set_log_level(\"info\");\n",
       "    },\n",
       "function(Bokeh) {} // ensure no trailing comma for IE\n",
       "  ];\n",
       "\n",
       "  function run_inline_js() {\n",
       "    if ((root.Bokeh !== undefined) || (force === true)) {\n",
       "      for (var i = 0; i < inline_js.length; i++) {\n",
       "\ttry {\n",
       "          inline_js[i].call(root, root.Bokeh);\n",
       "\t} catch(e) {\n",
       "\t  if (!reloading) {\n",
       "\t    throw e;\n",
       "\t  }\n",
       "\t}\n",
       "      }\n",
       "      // Cache old bokeh versions\n",
       "      if (Bokeh != undefined && !reloading) {\n",
       "\tvar NewBokeh = root.Bokeh;\n",
       "\tif (Bokeh.versions === undefined) {\n",
       "\t  Bokeh.versions = new Map();\n",
       "\t}\n",
       "\tif (NewBokeh.version !== Bokeh.version) {\n",
       "\t  Bokeh.versions.set(NewBokeh.version, NewBokeh)\n",
       "\t}\n",
       "\troot.Bokeh = Bokeh;\n",
       "      }} else if (Date.now() < root._bokeh_timeout) {\n",
       "      setTimeout(run_inline_js, 100);\n",
       "    } else if (!root._bokeh_failed_load) {\n",
       "      console.log(\"Bokeh: BokehJS failed to load within specified timeout.\");\n",
       "      root._bokeh_failed_load = true;\n",
       "    }\n",
       "    root._bokeh_is_initializing = false\n",
       "  }\n",
       "\n",
       "  function load_or_wait() {\n",
       "    // Implement a backoff loop that tries to ensure we do not load multiple\n",
       "    // versions of Bokeh and its dependencies at the same time.\n",
       "    // In recent versions we use the root._bokeh_is_initializing flag\n",
       "    // to determine whether there is an ongoing attempt to initialize\n",
       "    // bokeh, however for backward compatibility we also try to ensure\n",
       "    // that we do not start loading a newer (Panel>=1.0 and Bokeh>3) version\n",
       "    // before older versions are fully initialized.\n",
       "    if (root._bokeh_is_initializing && Date.now() > root._bokeh_timeout) {\n",
       "      root._bokeh_is_initializing = false;\n",
       "      root._bokeh_onload_callbacks = undefined;\n",
       "      console.log(\"Bokeh: BokehJS was loaded multiple times but one version failed to initialize.\");\n",
       "      load_or_wait();\n",
       "    } else if (root._bokeh_is_initializing || (typeof root._bokeh_is_initializing === \"undefined\" && root._bokeh_onload_callbacks !== undefined)) {\n",
       "      setTimeout(load_or_wait, 100);\n",
       "    } else {\n",
       "      root._bokeh_is_initializing = true\n",
       "      root._bokeh_onload_callbacks = []\n",
       "      var bokeh_loaded = Bokeh != null && (Bokeh.version === py_version || (Bokeh.versions !== undefined && Bokeh.versions.has(py_version)));\n",
       "      if (!reloading && !bokeh_loaded) {\n",
       "\troot.Bokeh = undefined;\n",
       "      }\n",
       "      load_libs(css_urls, js_urls, js_modules, js_exports, function() {\n",
       "\tconsole.debug(\"Bokeh: BokehJS plotting callback run at\", now());\n",
       "\trun_inline_js();\n",
       "      });\n",
       "    }\n",
       "  }\n",
       "  // Give older versions of the autoload script a head-start to ensure\n",
       "  // they initialize before we start loading newer version.\n",
       "  setTimeout(load_or_wait, 100)\n",
       "}(window));"
      ],
      "application/vnd.holoviews_load.v0+json": "(function(root) {\n  function now() {\n    return new Date();\n  }\n\n  var force = true;\n  var py_version = '3.4.2'.replace('rc', '-rc.').replace('.dev', '-dev.');\n  var reloading = false;\n  var Bokeh = root.Bokeh;\n\n  if (typeof (root._bokeh_timeout) === \"undefined\" || force) {\n    root._bokeh_timeout = Date.now() + 5000;\n    root._bokeh_failed_load = false;\n  }\n\n  function run_callbacks() {\n    try {\n      root._bokeh_onload_callbacks.forEach(function(callback) {\n        if (callback != null)\n          callback();\n      });\n    } finally {\n      delete root._bokeh_onload_callbacks;\n    }\n    console.debug(\"Bokeh: all callbacks have finished\");\n  }\n\n  function load_libs(css_urls, js_urls, js_modules, js_exports, callback) {\n    if (css_urls == null) css_urls = [];\n    if (js_urls == null) js_urls = [];\n    if (js_modules == null) js_modules = [];\n    if (js_exports == null) js_exports = {};\n\n    root._bokeh_onload_callbacks.push(callback);\n\n    if (root._bokeh_is_loading > 0) {\n      console.debug(\"Bokeh: BokehJS is being loaded, scheduling callback at\", now());\n      return null;\n    }\n    if (js_urls.length === 0 && js_modules.length === 0 && Object.keys(js_exports).length === 0) {\n      run_callbacks();\n      return null;\n    }\n    if (!reloading) {\n      console.debug(\"Bokeh: BokehJS not loaded, scheduling load and callback at\", now());\n    }\n\n    function on_load() {\n      root._bokeh_is_loading--;\n      if (root._bokeh_is_loading === 0) {\n        console.debug(\"Bokeh: all BokehJS libraries/stylesheets loaded\");\n        run_callbacks()\n      }\n    }\n    window._bokeh_on_load = on_load\n\n    function on_error() {\n      console.error(\"failed to load \" + url);\n    }\n\n    var skip = [];\n    if (window.requirejs) {\n      window.requirejs.config({'packages': {}, 'paths': {}, 'shim': {}});\n      root._bokeh_is_loading = css_urls.length + 0;\n    } else {\n      root._bokeh_is_loading = css_urls.length + js_urls.length + js_modules.length + Object.keys(js_exports).length;\n    }\n\n    var existing_stylesheets = []\n    var links = document.getElementsByTagName('link')\n    for (var i = 0; i < links.length; i++) {\n      var link = links[i]\n      if (link.href != null) {\n\texisting_stylesheets.push(link.href)\n      }\n    }\n    for (var i = 0; i < css_urls.length; i++) {\n      var url = css_urls[i];\n      if (existing_stylesheets.indexOf(url) !== -1) {\n\ton_load()\n\tcontinue;\n      }\n      const element = document.createElement(\"link\");\n      element.onload = on_load;\n      element.onerror = on_error;\n      element.rel = \"stylesheet\";\n      element.type = \"text/css\";\n      element.href = url;\n      console.debug(\"Bokeh: injecting link tag for BokehJS stylesheet: \", url);\n      document.body.appendChild(element);\n    }    var existing_scripts = []\n    var scripts = document.getElementsByTagName('script')\n    for (var i = 0; i < scripts.length; i++) {\n      var script = scripts[i]\n      if (script.src != null) {\n\texisting_scripts.push(script.src)\n      }\n    }\n    for (var i = 0; i < js_urls.length; i++) {\n      var url = js_urls[i];\n      if (skip.indexOf(url) !== -1 || existing_scripts.indexOf(url) !== -1) {\n\tif (!window.requirejs) {\n\t  on_load();\n\t}\n\tcontinue;\n      }\n      var element = document.createElement('script');\n      element.onload = on_load;\n      element.onerror = on_error;\n      element.async = false;\n      element.src = url;\n      console.debug(\"Bokeh: injecting script tag for BokehJS library: \", url);\n      document.head.appendChild(element);\n    }\n    for (var i = 0; i < js_modules.length; i++) {\n      var url = js_modules[i];\n      if (skip.indexOf(url) !== -1 || existing_scripts.indexOf(url) !== -1) {\n\tif (!window.requirejs) {\n\t  on_load();\n\t}\n\tcontinue;\n      }\n      var element = document.createElement('script');\n      element.onload = on_load;\n      element.onerror = on_error;\n      element.async = false;\n      element.src = url;\n      element.type = \"module\";\n      console.debug(\"Bokeh: injecting script tag for BokehJS library: \", url);\n      document.head.appendChild(element);\n    }\n    for (const name in js_exports) {\n      var url = js_exports[name];\n      if (skip.indexOf(url) >= 0 || root[name] != null) {\n\tif (!window.requirejs) {\n\t  on_load();\n\t}\n\tcontinue;\n      }\n      var element = document.createElement('script');\n      element.onerror = on_error;\n      element.async = false;\n      element.type = \"module\";\n      console.debug(\"Bokeh: injecting script tag for BokehJS library: \", url);\n      element.textContent = `\n      import ${name} from \"${url}\"\n      window.${name} = ${name}\n      window._bokeh_on_load()\n      `\n      document.head.appendChild(element);\n    }\n    if (!js_urls.length && !js_modules.length) {\n      on_load()\n    }\n  };\n\n  function inject_raw_css(css) {\n    const element = document.createElement(\"style\");\n    element.appendChild(document.createTextNode(css));\n    document.body.appendChild(element);\n  }\n\n  var js_urls = [\"https://cdn.bokeh.org/bokeh/release/bokeh-3.4.2.min.js\", \"https://cdn.bokeh.org/bokeh/release/bokeh-gl-3.4.2.min.js\", \"https://cdn.bokeh.org/bokeh/release/bokeh-widgets-3.4.2.min.js\", \"https://cdn.bokeh.org/bokeh/release/bokeh-tables-3.4.2.min.js\", \"https://cdn.holoviz.org/panel/1.4.4/dist/panel.min.js\"];\n  var js_modules = [];\n  var js_exports = {};\n  var css_urls = [];\n  var inline_js = [    function(Bokeh) {\n      Bokeh.set_log_level(\"info\");\n    },\nfunction(Bokeh) {} // ensure no trailing comma for IE\n  ];\n\n  function run_inline_js() {\n    if ((root.Bokeh !== undefined) || (force === true)) {\n      for (var i = 0; i < inline_js.length; i++) {\n\ttry {\n          inline_js[i].call(root, root.Bokeh);\n\t} catch(e) {\n\t  if (!reloading) {\n\t    throw e;\n\t  }\n\t}\n      }\n      // Cache old bokeh versions\n      if (Bokeh != undefined && !reloading) {\n\tvar NewBokeh = root.Bokeh;\n\tif (Bokeh.versions === undefined) {\n\t  Bokeh.versions = new Map();\n\t}\n\tif (NewBokeh.version !== Bokeh.version) {\n\t  Bokeh.versions.set(NewBokeh.version, NewBokeh)\n\t}\n\troot.Bokeh = Bokeh;\n      }} else if (Date.now() < root._bokeh_timeout) {\n      setTimeout(run_inline_js, 100);\n    } else if (!root._bokeh_failed_load) {\n      console.log(\"Bokeh: BokehJS failed to load within specified timeout.\");\n      root._bokeh_failed_load = true;\n    }\n    root._bokeh_is_initializing = false\n  }\n\n  function load_or_wait() {\n    // Implement a backoff loop that tries to ensure we do not load multiple\n    // versions of Bokeh and its dependencies at the same time.\n    // In recent versions we use the root._bokeh_is_initializing flag\n    // to determine whether there is an ongoing attempt to initialize\n    // bokeh, however for backward compatibility we also try to ensure\n    // that we do not start loading a newer (Panel>=1.0 and Bokeh>3) version\n    // before older versions are fully initialized.\n    if (root._bokeh_is_initializing && Date.now() > root._bokeh_timeout) {\n      root._bokeh_is_initializing = false;\n      root._bokeh_onload_callbacks = undefined;\n      console.log(\"Bokeh: BokehJS was loaded multiple times but one version failed to initialize.\");\n      load_or_wait();\n    } else if (root._bokeh_is_initializing || (typeof root._bokeh_is_initializing === \"undefined\" && root._bokeh_onload_callbacks !== undefined)) {\n      setTimeout(load_or_wait, 100);\n    } else {\n      root._bokeh_is_initializing = true\n      root._bokeh_onload_callbacks = []\n      var bokeh_loaded = Bokeh != null && (Bokeh.version === py_version || (Bokeh.versions !== undefined && Bokeh.versions.has(py_version)));\n      if (!reloading && !bokeh_loaded) {\n\troot.Bokeh = undefined;\n      }\n      load_libs(css_urls, js_urls, js_modules, js_exports, function() {\n\tconsole.debug(\"Bokeh: BokehJS plotting callback run at\", now());\n\trun_inline_js();\n      });\n    }\n  }\n  // Give older versions of the autoload script a head-start to ensure\n  // they initialize before we start loading newer version.\n  setTimeout(load_or_wait, 100)\n}(window));"
     },
     "metadata": {},
     "output_type": "display_data"
    },
    {
     "data": {
      "application/javascript": [
       "\n",
       "if ((window.PyViz === undefined) || (window.PyViz instanceof HTMLElement)) {\n",
       "  window.PyViz = {comms: {}, comm_status:{}, kernels:{}, receivers: {}, plot_index: []}\n",
       "}\n",
       "\n",
       "\n",
       "    function JupyterCommManager() {\n",
       "    }\n",
       "\n",
       "    JupyterCommManager.prototype.register_target = function(plot_id, comm_id, msg_handler) {\n",
       "      if (window.comm_manager || ((window.Jupyter !== undefined) && (Jupyter.notebook.kernel != null))) {\n",
       "        var comm_manager = window.comm_manager || Jupyter.notebook.kernel.comm_manager;\n",
       "        comm_manager.register_target(comm_id, function(comm) {\n",
       "          comm.on_msg(msg_handler);\n",
       "        });\n",
       "      } else if ((plot_id in window.PyViz.kernels) && (window.PyViz.kernels[plot_id])) {\n",
       "        window.PyViz.kernels[plot_id].registerCommTarget(comm_id, function(comm) {\n",
       "          comm.onMsg = msg_handler;\n",
       "        });\n",
       "      } else if (typeof google != 'undefined' && google.colab.kernel != null) {\n",
       "        google.colab.kernel.comms.registerTarget(comm_id, (comm) => {\n",
       "          var messages = comm.messages[Symbol.asyncIterator]();\n",
       "          function processIteratorResult(result) {\n",
       "            var message = result.value;\n",
       "            console.log(message)\n",
       "            var content = {data: message.data, comm_id};\n",
       "            var buffers = []\n",
       "            for (var buffer of message.buffers || []) {\n",
       "              buffers.push(new DataView(buffer))\n",
       "            }\n",
       "            var metadata = message.metadata || {};\n",
       "            var msg = {content, buffers, metadata}\n",
       "            msg_handler(msg);\n",
       "            return messages.next().then(processIteratorResult);\n",
       "          }\n",
       "          return messages.next().then(processIteratorResult);\n",
       "        })\n",
       "      }\n",
       "    }\n",
       "\n",
       "    JupyterCommManager.prototype.get_client_comm = function(plot_id, comm_id, msg_handler) {\n",
       "      if (comm_id in window.PyViz.comms) {\n",
       "        return window.PyViz.comms[comm_id];\n",
       "      } else if (window.comm_manager || ((window.Jupyter !== undefined) && (Jupyter.notebook.kernel != null))) {\n",
       "        var comm_manager = window.comm_manager || Jupyter.notebook.kernel.comm_manager;\n",
       "        var comm = comm_manager.new_comm(comm_id, {}, {}, {}, comm_id);\n",
       "        if (msg_handler) {\n",
       "          comm.on_msg(msg_handler);\n",
       "        }\n",
       "      } else if ((plot_id in window.PyViz.kernels) && (window.PyViz.kernels[plot_id])) {\n",
       "        var comm = window.PyViz.kernels[plot_id].connectToComm(comm_id);\n",
       "        comm.open();\n",
       "        if (msg_handler) {\n",
       "          comm.onMsg = msg_handler;\n",
       "        }\n",
       "      } else if (typeof google != 'undefined' && google.colab.kernel != null) {\n",
       "        var comm_promise = google.colab.kernel.comms.open(comm_id)\n",
       "        comm_promise.then((comm) => {\n",
       "          window.PyViz.comms[comm_id] = comm;\n",
       "          if (msg_handler) {\n",
       "            var messages = comm.messages[Symbol.asyncIterator]();\n",
       "            function processIteratorResult(result) {\n",
       "              var message = result.value;\n",
       "              var content = {data: message.data};\n",
       "              var metadata = message.metadata || {comm_id};\n",
       "              var msg = {content, metadata}\n",
       "              msg_handler(msg);\n",
       "              return messages.next().then(processIteratorResult);\n",
       "            }\n",
       "            return messages.next().then(processIteratorResult);\n",
       "          }\n",
       "        }) \n",
       "        var sendClosure = (data, metadata, buffers, disposeOnDone) => {\n",
       "          return comm_promise.then((comm) => {\n",
       "            comm.send(data, metadata, buffers, disposeOnDone);\n",
       "          });\n",
       "        };\n",
       "        var comm = {\n",
       "          send: sendClosure\n",
       "        };\n",
       "      }\n",
       "      window.PyViz.comms[comm_id] = comm;\n",
       "      return comm;\n",
       "    }\n",
       "    window.PyViz.comm_manager = new JupyterCommManager();\n",
       "    \n",
       "\n",
       "\n",
       "var JS_MIME_TYPE = 'application/javascript';\n",
       "var HTML_MIME_TYPE = 'text/html';\n",
       "var EXEC_MIME_TYPE = 'application/vnd.holoviews_exec.v0+json';\n",
       "var CLASS_NAME = 'output';\n",
       "\n",
       "/**\n",
       " * Render data to the DOM node\n",
       " */\n",
       "function render(props, node) {\n",
       "  var div = document.createElement(\"div\");\n",
       "  var script = document.createElement(\"script\");\n",
       "  node.appendChild(div);\n",
       "  node.appendChild(script);\n",
       "}\n",
       "\n",
       "/**\n",
       " * Handle when a new output is added\n",
       " */\n",
       "function handle_add_output(event, handle) {\n",
       "  var output_area = handle.output_area;\n",
       "  var output = handle.output;\n",
       "  if ((output.data == undefined) || (!output.data.hasOwnProperty(EXEC_MIME_TYPE))) {\n",
       "    return\n",
       "  }\n",
       "  var id = output.metadata[EXEC_MIME_TYPE][\"id\"];\n",
       "  var toinsert = output_area.element.find(\".\" + CLASS_NAME.split(' ')[0]);\n",
       "  if (id !== undefined) {\n",
       "    var nchildren = toinsert.length;\n",
       "    var html_node = toinsert[nchildren-1].children[0];\n",
       "    html_node.innerHTML = output.data[HTML_MIME_TYPE];\n",
       "    var scripts = [];\n",
       "    var nodelist = html_node.querySelectorAll(\"script\");\n",
       "    for (var i in nodelist) {\n",
       "      if (nodelist.hasOwnProperty(i)) {\n",
       "        scripts.push(nodelist[i])\n",
       "      }\n",
       "    }\n",
       "\n",
       "    scripts.forEach( function (oldScript) {\n",
       "      var newScript = document.createElement(\"script\");\n",
       "      var attrs = [];\n",
       "      var nodemap = oldScript.attributes;\n",
       "      for (var j in nodemap) {\n",
       "        if (nodemap.hasOwnProperty(j)) {\n",
       "          attrs.push(nodemap[j])\n",
       "        }\n",
       "      }\n",
       "      attrs.forEach(function(attr) { newScript.setAttribute(attr.name, attr.value) });\n",
       "      newScript.appendChild(document.createTextNode(oldScript.innerHTML));\n",
       "      oldScript.parentNode.replaceChild(newScript, oldScript);\n",
       "    });\n",
       "    if (JS_MIME_TYPE in output.data) {\n",
       "      toinsert[nchildren-1].children[1].textContent = output.data[JS_MIME_TYPE];\n",
       "    }\n",
       "    output_area._hv_plot_id = id;\n",
       "    if ((window.Bokeh !== undefined) && (id in Bokeh.index)) {\n",
       "      window.PyViz.plot_index[id] = Bokeh.index[id];\n",
       "    } else {\n",
       "      window.PyViz.plot_index[id] = null;\n",
       "    }\n",
       "  } else if (output.metadata[EXEC_MIME_TYPE][\"server_id\"] !== undefined) {\n",
       "    var bk_div = document.createElement(\"div\");\n",
       "    bk_div.innerHTML = output.data[HTML_MIME_TYPE];\n",
       "    var script_attrs = bk_div.children[0].attributes;\n",
       "    for (var i = 0; i < script_attrs.length; i++) {\n",
       "      toinsert[toinsert.length - 1].childNodes[1].setAttribute(script_attrs[i].name, script_attrs[i].value);\n",
       "    }\n",
       "    // store reference to server id on output_area\n",
       "    output_area._bokeh_server_id = output.metadata[EXEC_MIME_TYPE][\"server_id\"];\n",
       "  }\n",
       "}\n",
       "\n",
       "/**\n",
       " * Handle when an output is cleared or removed\n",
       " */\n",
       "function handle_clear_output(event, handle) {\n",
       "  var id = handle.cell.output_area._hv_plot_id;\n",
       "  var server_id = handle.cell.output_area._bokeh_server_id;\n",
       "  if (((id === undefined) || !(id in PyViz.plot_index)) && (server_id !== undefined)) { return; }\n",
       "  var comm = window.PyViz.comm_manager.get_client_comm(\"hv-extension-comm\", \"hv-extension-comm\", function () {});\n",
       "  if (server_id !== null) {\n",
       "    comm.send({event_type: 'server_delete', 'id': server_id});\n",
       "    return;\n",
       "  } else if (comm !== null) {\n",
       "    comm.send({event_type: 'delete', 'id': id});\n",
       "  }\n",
       "  delete PyViz.plot_index[id];\n",
       "  if ((window.Bokeh !== undefined) & (id in window.Bokeh.index)) {\n",
       "    var doc = window.Bokeh.index[id].model.document\n",
       "    doc.clear();\n",
       "    const i = window.Bokeh.documents.indexOf(doc);\n",
       "    if (i > -1) {\n",
       "      window.Bokeh.documents.splice(i, 1);\n",
       "    }\n",
       "  }\n",
       "}\n",
       "\n",
       "/**\n",
       " * Handle kernel restart event\n",
       " */\n",
       "function handle_kernel_cleanup(event, handle) {\n",
       "  delete PyViz.comms[\"hv-extension-comm\"];\n",
       "  window.PyViz.plot_index = {}\n",
       "}\n",
       "\n",
       "/**\n",
       " * Handle update_display_data messages\n",
       " */\n",
       "function handle_update_output(event, handle) {\n",
       "  handle_clear_output(event, {cell: {output_area: handle.output_area}})\n",
       "  handle_add_output(event, handle)\n",
       "}\n",
       "\n",
       "function register_renderer(events, OutputArea) {\n",
       "  function append_mime(data, metadata, element) {\n",
       "    // create a DOM node to render to\n",
       "    var toinsert = this.create_output_subarea(\n",
       "    metadata,\n",
       "    CLASS_NAME,\n",
       "    EXEC_MIME_TYPE\n",
       "    );\n",
       "    this.keyboard_manager.register_events(toinsert);\n",
       "    // Render to node\n",
       "    var props = {data: data, metadata: metadata[EXEC_MIME_TYPE]};\n",
       "    render(props, toinsert[0]);\n",
       "    element.append(toinsert);\n",
       "    return toinsert\n",
       "  }\n",
       "\n",
       "  events.on('output_added.OutputArea', handle_add_output);\n",
       "  events.on('output_updated.OutputArea', handle_update_output);\n",
       "  events.on('clear_output.CodeCell', handle_clear_output);\n",
       "  events.on('delete.Cell', handle_clear_output);\n",
       "  events.on('kernel_ready.Kernel', handle_kernel_cleanup);\n",
       "\n",
       "  OutputArea.prototype.register_mime_type(EXEC_MIME_TYPE, append_mime, {\n",
       "    safe: true,\n",
       "    index: 0\n",
       "  });\n",
       "}\n",
       "\n",
       "if (window.Jupyter !== undefined) {\n",
       "  try {\n",
       "    var events = require('base/js/events');\n",
       "    var OutputArea = require('notebook/js/outputarea').OutputArea;\n",
       "    if (OutputArea.prototype.mime_types().indexOf(EXEC_MIME_TYPE) == -1) {\n",
       "      register_renderer(events, OutputArea);\n",
       "    }\n",
       "  } catch(err) {\n",
       "  }\n",
       "}\n"
      ],
      "application/vnd.holoviews_load.v0+json": "\nif ((window.PyViz === undefined) || (window.PyViz instanceof HTMLElement)) {\n  window.PyViz = {comms: {}, comm_status:{}, kernels:{}, receivers: {}, plot_index: []}\n}\n\n\n    function JupyterCommManager() {\n    }\n\n    JupyterCommManager.prototype.register_target = function(plot_id, comm_id, msg_handler) {\n      if (window.comm_manager || ((window.Jupyter !== undefined) && (Jupyter.notebook.kernel != null))) {\n        var comm_manager = window.comm_manager || Jupyter.notebook.kernel.comm_manager;\n        comm_manager.register_target(comm_id, function(comm) {\n          comm.on_msg(msg_handler);\n        });\n      } else if ((plot_id in window.PyViz.kernels) && (window.PyViz.kernels[plot_id])) {\n        window.PyViz.kernels[plot_id].registerCommTarget(comm_id, function(comm) {\n          comm.onMsg = msg_handler;\n        });\n      } else if (typeof google != 'undefined' && google.colab.kernel != null) {\n        google.colab.kernel.comms.registerTarget(comm_id, (comm) => {\n          var messages = comm.messages[Symbol.asyncIterator]();\n          function processIteratorResult(result) {\n            var message = result.value;\n            console.log(message)\n            var content = {data: message.data, comm_id};\n            var buffers = []\n            for (var buffer of message.buffers || []) {\n              buffers.push(new DataView(buffer))\n            }\n            var metadata = message.metadata || {};\n            var msg = {content, buffers, metadata}\n            msg_handler(msg);\n            return messages.next().then(processIteratorResult);\n          }\n          return messages.next().then(processIteratorResult);\n        })\n      }\n    }\n\n    JupyterCommManager.prototype.get_client_comm = function(plot_id, comm_id, msg_handler) {\n      if (comm_id in window.PyViz.comms) {\n        return window.PyViz.comms[comm_id];\n      } else if (window.comm_manager || ((window.Jupyter !== undefined) && (Jupyter.notebook.kernel != null))) {\n        var comm_manager = window.comm_manager || Jupyter.notebook.kernel.comm_manager;\n        var comm = comm_manager.new_comm(comm_id, {}, {}, {}, comm_id);\n        if (msg_handler) {\n          comm.on_msg(msg_handler);\n        }\n      } else if ((plot_id in window.PyViz.kernels) && (window.PyViz.kernels[plot_id])) {\n        var comm = window.PyViz.kernels[plot_id].connectToComm(comm_id);\n        comm.open();\n        if (msg_handler) {\n          comm.onMsg = msg_handler;\n        }\n      } else if (typeof google != 'undefined' && google.colab.kernel != null) {\n        var comm_promise = google.colab.kernel.comms.open(comm_id)\n        comm_promise.then((comm) => {\n          window.PyViz.comms[comm_id] = comm;\n          if (msg_handler) {\n            var messages = comm.messages[Symbol.asyncIterator]();\n            function processIteratorResult(result) {\n              var message = result.value;\n              var content = {data: message.data};\n              var metadata = message.metadata || {comm_id};\n              var msg = {content, metadata}\n              msg_handler(msg);\n              return messages.next().then(processIteratorResult);\n            }\n            return messages.next().then(processIteratorResult);\n          }\n        }) \n        var sendClosure = (data, metadata, buffers, disposeOnDone) => {\n          return comm_promise.then((comm) => {\n            comm.send(data, metadata, buffers, disposeOnDone);\n          });\n        };\n        var comm = {\n          send: sendClosure\n        };\n      }\n      window.PyViz.comms[comm_id] = comm;\n      return comm;\n    }\n    window.PyViz.comm_manager = new JupyterCommManager();\n    \n\n\nvar JS_MIME_TYPE = 'application/javascript';\nvar HTML_MIME_TYPE = 'text/html';\nvar EXEC_MIME_TYPE = 'application/vnd.holoviews_exec.v0+json';\nvar CLASS_NAME = 'output';\n\n/**\n * Render data to the DOM node\n */\nfunction render(props, node) {\n  var div = document.createElement(\"div\");\n  var script = document.createElement(\"script\");\n  node.appendChild(div);\n  node.appendChild(script);\n}\n\n/**\n * Handle when a new output is added\n */\nfunction handle_add_output(event, handle) {\n  var output_area = handle.output_area;\n  var output = handle.output;\n  if ((output.data == undefined) || (!output.data.hasOwnProperty(EXEC_MIME_TYPE))) {\n    return\n  }\n  var id = output.metadata[EXEC_MIME_TYPE][\"id\"];\n  var toinsert = output_area.element.find(\".\" + CLASS_NAME.split(' ')[0]);\n  if (id !== undefined) {\n    var nchildren = toinsert.length;\n    var html_node = toinsert[nchildren-1].children[0];\n    html_node.innerHTML = output.data[HTML_MIME_TYPE];\n    var scripts = [];\n    var nodelist = html_node.querySelectorAll(\"script\");\n    for (var i in nodelist) {\n      if (nodelist.hasOwnProperty(i)) {\n        scripts.push(nodelist[i])\n      }\n    }\n\n    scripts.forEach( function (oldScript) {\n      var newScript = document.createElement(\"script\");\n      var attrs = [];\n      var nodemap = oldScript.attributes;\n      for (var j in nodemap) {\n        if (nodemap.hasOwnProperty(j)) {\n          attrs.push(nodemap[j])\n        }\n      }\n      attrs.forEach(function(attr) { newScript.setAttribute(attr.name, attr.value) });\n      newScript.appendChild(document.createTextNode(oldScript.innerHTML));\n      oldScript.parentNode.replaceChild(newScript, oldScript);\n    });\n    if (JS_MIME_TYPE in output.data) {\n      toinsert[nchildren-1].children[1].textContent = output.data[JS_MIME_TYPE];\n    }\n    output_area._hv_plot_id = id;\n    if ((window.Bokeh !== undefined) && (id in Bokeh.index)) {\n      window.PyViz.plot_index[id] = Bokeh.index[id];\n    } else {\n      window.PyViz.plot_index[id] = null;\n    }\n  } else if (output.metadata[EXEC_MIME_TYPE][\"server_id\"] !== undefined) {\n    var bk_div = document.createElement(\"div\");\n    bk_div.innerHTML = output.data[HTML_MIME_TYPE];\n    var script_attrs = bk_div.children[0].attributes;\n    for (var i = 0; i < script_attrs.length; i++) {\n      toinsert[toinsert.length - 1].childNodes[1].setAttribute(script_attrs[i].name, script_attrs[i].value);\n    }\n    // store reference to server id on output_area\n    output_area._bokeh_server_id = output.metadata[EXEC_MIME_TYPE][\"server_id\"];\n  }\n}\n\n/**\n * Handle when an output is cleared or removed\n */\nfunction handle_clear_output(event, handle) {\n  var id = handle.cell.output_area._hv_plot_id;\n  var server_id = handle.cell.output_area._bokeh_server_id;\n  if (((id === undefined) || !(id in PyViz.plot_index)) && (server_id !== undefined)) { return; }\n  var comm = window.PyViz.comm_manager.get_client_comm(\"hv-extension-comm\", \"hv-extension-comm\", function () {});\n  if (server_id !== null) {\n    comm.send({event_type: 'server_delete', 'id': server_id});\n    return;\n  } else if (comm !== null) {\n    comm.send({event_type: 'delete', 'id': id});\n  }\n  delete PyViz.plot_index[id];\n  if ((window.Bokeh !== undefined) & (id in window.Bokeh.index)) {\n    var doc = window.Bokeh.index[id].model.document\n    doc.clear();\n    const i = window.Bokeh.documents.indexOf(doc);\n    if (i > -1) {\n      window.Bokeh.documents.splice(i, 1);\n    }\n  }\n}\n\n/**\n * Handle kernel restart event\n */\nfunction handle_kernel_cleanup(event, handle) {\n  delete PyViz.comms[\"hv-extension-comm\"];\n  window.PyViz.plot_index = {}\n}\n\n/**\n * Handle update_display_data messages\n */\nfunction handle_update_output(event, handle) {\n  handle_clear_output(event, {cell: {output_area: handle.output_area}})\n  handle_add_output(event, handle)\n}\n\nfunction register_renderer(events, OutputArea) {\n  function append_mime(data, metadata, element) {\n    // create a DOM node to render to\n    var toinsert = this.create_output_subarea(\n    metadata,\n    CLASS_NAME,\n    EXEC_MIME_TYPE\n    );\n    this.keyboard_manager.register_events(toinsert);\n    // Render to node\n    var props = {data: data, metadata: metadata[EXEC_MIME_TYPE]};\n    render(props, toinsert[0]);\n    element.append(toinsert);\n    return toinsert\n  }\n\n  events.on('output_added.OutputArea', handle_add_output);\n  events.on('output_updated.OutputArea', handle_update_output);\n  events.on('clear_output.CodeCell', handle_clear_output);\n  events.on('delete.Cell', handle_clear_output);\n  events.on('kernel_ready.Kernel', handle_kernel_cleanup);\n\n  OutputArea.prototype.register_mime_type(EXEC_MIME_TYPE, append_mime, {\n    safe: true,\n    index: 0\n  });\n}\n\nif (window.Jupyter !== undefined) {\n  try {\n    var events = require('base/js/events');\n    var OutputArea = require('notebook/js/outputarea').OutputArea;\n    if (OutputArea.prototype.mime_types().indexOf(EXEC_MIME_TYPE) == -1) {\n      register_renderer(events, OutputArea);\n    }\n  } catch(err) {\n  }\n}\n"
     },
     "metadata": {},
     "output_type": "display_data"
    },
    {
     "data": {
      "text/html": [
       "<style>*[data-root-id],\n",
       "*[data-root-id] > * {\n",
       "  box-sizing: border-box;\n",
       "  font-family: var(--jp-ui-font-family);\n",
       "  font-size: var(--jp-ui-font-size1);\n",
       "  color: var(--vscode-editor-foreground, var(--jp-ui-font-color1));\n",
       "}\n",
       "\n",
       "/* Override VSCode background color */\n",
       ".cell-output-ipywidget-background:has(\n",
       "    > .cell-output-ipywidget-background > .lm-Widget > *[data-root-id]\n",
       "  ),\n",
       ".cell-output-ipywidget-background:has(> .lm-Widget > *[data-root-id]) {\n",
       "  background-color: transparent !important;\n",
       "}\n",
       "</style>"
      ]
     },
     "metadata": {},
     "output_type": "display_data"
    },
    {
     "data": {
      "application/vnd.holoviews_exec.v0+json": "",
      "text/html": [
       "<div id='29d49016-cee3-49f5-b896-e51ab5e779e4'>\n",
       "  <div id=\"bfbfa2b4-bfb0-4569-9991-2f7e1e46ac1d\" data-root-id=\"29d49016-cee3-49f5-b896-e51ab5e779e4\" style=\"display: contents;\"></div>\n",
       "</div>\n",
       "<script type=\"application/javascript\">(function(root) {\n",
       "  var docs_json = {\"e3d9c5bf-7f88-4f0a-92ef-9308cc4d693a\":{\"version\":\"3.4.2\",\"title\":\"Bokeh Application\",\"roots\":[{\"type\":\"object\",\"name\":\"panel.models.browser.BrowserInfo\",\"id\":\"29d49016-cee3-49f5-b896-e51ab5e779e4\"},{\"type\":\"object\",\"name\":\"panel.models.comm_manager.CommManager\",\"id\":\"7b53e15b-776f-4d64-98f0-ff0aa35ab03b\",\"attributes\":{\"plot_id\":\"29d49016-cee3-49f5-b896-e51ab5e779e4\",\"comm_id\":\"52d80b518f994d409685ffc3111f1c4b\",\"client_comm_id\":\"ddf91b234de44e31bf5f4851f3a95bc7\"}}],\"defs\":[{\"type\":\"model\",\"name\":\"ReactiveHTML1\"},{\"type\":\"model\",\"name\":\"FlexBox1\",\"properties\":[{\"name\":\"align_content\",\"kind\":\"Any\",\"default\":\"flex-start\"},{\"name\":\"align_items\",\"kind\":\"Any\",\"default\":\"flex-start\"},{\"name\":\"flex_direction\",\"kind\":\"Any\",\"default\":\"row\"},{\"name\":\"flex_wrap\",\"kind\":\"Any\",\"default\":\"wrap\"},{\"name\":\"gap\",\"kind\":\"Any\",\"default\":\"\"},{\"name\":\"justify_content\",\"kind\":\"Any\",\"default\":\"flex-start\"}]},{\"type\":\"model\",\"name\":\"FloatPanel1\",\"properties\":[{\"name\":\"config\",\"kind\":\"Any\",\"default\":{\"type\":\"map\"}},{\"name\":\"contained\",\"kind\":\"Any\",\"default\":true},{\"name\":\"position\",\"kind\":\"Any\",\"default\":\"right-top\"},{\"name\":\"offsetx\",\"kind\":\"Any\",\"default\":null},{\"name\":\"offsety\",\"kind\":\"Any\",\"default\":null},{\"name\":\"theme\",\"kind\":\"Any\",\"default\":\"primary\"},{\"name\":\"status\",\"kind\":\"Any\",\"default\":\"normalized\"}]},{\"type\":\"model\",\"name\":\"GridStack1\",\"properties\":[{\"name\":\"mode\",\"kind\":\"Any\",\"default\":\"warn\"},{\"name\":\"ncols\",\"kind\":\"Any\",\"default\":null},{\"name\":\"nrows\",\"kind\":\"Any\",\"default\":null},{\"name\":\"allow_resize\",\"kind\":\"Any\",\"default\":true},{\"name\":\"allow_drag\",\"kind\":\"Any\",\"default\":true},{\"name\":\"state\",\"kind\":\"Any\",\"default\":[]}]},{\"type\":\"model\",\"name\":\"drag1\",\"properties\":[{\"name\":\"slider_width\",\"kind\":\"Any\",\"default\":5},{\"name\":\"slider_color\",\"kind\":\"Any\",\"default\":\"black\"},{\"name\":\"value\",\"kind\":\"Any\",\"default\":50}]},{\"type\":\"model\",\"name\":\"click1\",\"properties\":[{\"name\":\"terminal_output\",\"kind\":\"Any\",\"default\":\"\"},{\"name\":\"debug_name\",\"kind\":\"Any\",\"default\":\"\"},{\"name\":\"clears\",\"kind\":\"Any\",\"default\":0}]},{\"type\":\"model\",\"name\":\"FastWrapper1\",\"properties\":[{\"name\":\"object\",\"kind\":\"Any\",\"default\":null},{\"name\":\"style\",\"kind\":\"Any\",\"default\":null}]},{\"type\":\"model\",\"name\":\"NotificationAreaBase1\",\"properties\":[{\"name\":\"js_events\",\"kind\":\"Any\",\"default\":{\"type\":\"map\"}},{\"name\":\"position\",\"kind\":\"Any\",\"default\":\"bottom-right\"},{\"name\":\"_clear\",\"kind\":\"Any\",\"default\":0}]},{\"type\":\"model\",\"name\":\"NotificationArea1\",\"properties\":[{\"name\":\"js_events\",\"kind\":\"Any\",\"default\":{\"type\":\"map\"}},{\"name\":\"notifications\",\"kind\":\"Any\",\"default\":[]},{\"name\":\"position\",\"kind\":\"Any\",\"default\":\"bottom-right\"},{\"name\":\"_clear\",\"kind\":\"Any\",\"default\":0},{\"name\":\"types\",\"kind\":\"Any\",\"default\":[{\"type\":\"map\",\"entries\":[[\"type\",\"warning\"],[\"background\",\"#ffc107\"],[\"icon\",{\"type\":\"map\",\"entries\":[[\"className\",\"fas fa-exclamation-triangle\"],[\"tagName\",\"i\"],[\"color\",\"white\"]]}]]},{\"type\":\"map\",\"entries\":[[\"type\",\"info\"],[\"background\",\"#007bff\"],[\"icon\",{\"type\":\"map\",\"entries\":[[\"className\",\"fas fa-info-circle\"],[\"tagName\",\"i\"],[\"color\",\"white\"]]}]]}]}]},{\"type\":\"model\",\"name\":\"Notification\",\"properties\":[{\"name\":\"background\",\"kind\":\"Any\",\"default\":null},{\"name\":\"duration\",\"kind\":\"Any\",\"default\":3000},{\"name\":\"icon\",\"kind\":\"Any\",\"default\":null},{\"name\":\"message\",\"kind\":\"Any\",\"default\":\"\"},{\"name\":\"notification_type\",\"kind\":\"Any\",\"default\":null},{\"name\":\"_destroyed\",\"kind\":\"Any\",\"default\":false}]},{\"type\":\"model\",\"name\":\"TemplateActions1\",\"properties\":[{\"name\":\"open_modal\",\"kind\":\"Any\",\"default\":0},{\"name\":\"close_modal\",\"kind\":\"Any\",\"default\":0}]},{\"type\":\"model\",\"name\":\"BootstrapTemplateActions1\",\"properties\":[{\"name\":\"open_modal\",\"kind\":\"Any\",\"default\":0},{\"name\":\"close_modal\",\"kind\":\"Any\",\"default\":0}]},{\"type\":\"model\",\"name\":\"TemplateEditor1\",\"properties\":[{\"name\":\"layout\",\"kind\":\"Any\",\"default\":[]}]},{\"type\":\"model\",\"name\":\"MaterialTemplateActions1\",\"properties\":[{\"name\":\"open_modal\",\"kind\":\"Any\",\"default\":0},{\"name\":\"close_modal\",\"kind\":\"Any\",\"default\":0}]},{\"type\":\"model\",\"name\":\"copy_to_clipboard1\",\"properties\":[{\"name\":\"fill\",\"kind\":\"Any\",\"default\":\"none\"},{\"name\":\"value\",\"kind\":\"Any\",\"default\":null}]}]}};\n",
       "  var render_items = [{\"docid\":\"e3d9c5bf-7f88-4f0a-92ef-9308cc4d693a\",\"roots\":{\"29d49016-cee3-49f5-b896-e51ab5e779e4\":\"bfbfa2b4-bfb0-4569-9991-2f7e1e46ac1d\"},\"root_ids\":[\"29d49016-cee3-49f5-b896-e51ab5e779e4\"]}];\n",
       "  var docs = Object.values(docs_json)\n",
       "  if (!docs) {\n",
       "    return\n",
       "  }\n",
       "  const py_version = docs[0].version.replace('rc', '-rc.').replace('.dev', '-dev.')\n",
       "  async function embed_document(root) {\n",
       "    var Bokeh = get_bokeh(root)\n",
       "    await Bokeh.embed.embed_items_notebook(docs_json, render_items);\n",
       "    for (const render_item of render_items) {\n",
       "      for (const root_id of render_item.root_ids) {\n",
       "\tconst id_el = document.getElementById(root_id)\n",
       "\tif (id_el.children.length && id_el.children[0].hasAttribute('data-root-id')) {\n",
       "\t  const root_el = id_el.children[0]\n",
       "\t  root_el.id = root_el.id + '-rendered'\n",
       "\t  for (const child of root_el.children) {\n",
       "            // Ensure JupyterLab does not capture keyboard shortcuts\n",
       "            // see: https://jupyterlab.readthedocs.io/en/4.1.x/extension/notebook.html#keyboard-interaction-model\n",
       "\t    child.setAttribute('data-lm-suppress-shortcuts', 'true')\n",
       "\t  }\n",
       "\t}\n",
       "      }\n",
       "    }\n",
       "  }\n",
       "  function get_bokeh(root) {\n",
       "    if (root.Bokeh === undefined) {\n",
       "      return null\n",
       "    } else if (root.Bokeh.version !== py_version) {\n",
       "      if (root.Bokeh.versions === undefined || !root.Bokeh.versions.has(py_version)) {\n",
       "\treturn null\n",
       "      }\n",
       "      return root.Bokeh.versions.get(py_version);\n",
       "    } else if (root.Bokeh.version === py_version) {\n",
       "      return root.Bokeh\n",
       "    }\n",
       "    return null\n",
       "  }\n",
       "  function is_loaded(root) {\n",
       "    var Bokeh = get_bokeh(root)\n",
       "    return (Bokeh != null && Bokeh.Panel !== undefined)\n",
       "  }\n",
       "  if (is_loaded(root)) {\n",
       "    embed_document(root);\n",
       "  } else {\n",
       "    var attempts = 0;\n",
       "    var timer = setInterval(function(root) {\n",
       "      if (is_loaded(root)) {\n",
       "        clearInterval(timer);\n",
       "        embed_document(root);\n",
       "      } else if (document.readyState == \"complete\") {\n",
       "        attempts++;\n",
       "        if (attempts > 200) {\n",
       "          clearInterval(timer);\n",
       "\t  var Bokeh = get_bokeh(root)\n",
       "\t  if (Bokeh == null || Bokeh.Panel == null) {\n",
       "            console.warn(\"Panel: ERROR: Unable to run Panel code because Bokeh or Panel library is missing\");\n",
       "\t  } else {\n",
       "\t    console.warn(\"Panel: WARNING: Attempting to render but not all required libraries could be resolved.\")\n",
       "\t    embed_document(root)\n",
       "\t  }\n",
       "        }\n",
       "      }\n",
       "    }, 25, root)\n",
       "  }\n",
       "})(window);</script>"
      ]
     },
     "metadata": {
      "application/vnd.holoviews_exec.v0+json": {
       "id": "29d49016-cee3-49f5-b896-e51ab5e779e4"
      }
     },
     "output_type": "display_data"
    }
   ],
   "source": [
    "import panel as pn\n",
    "pn.extension()\n",
    "import polars as pl\n",
    "from helper.jupyter import row"
   ]
  },
  {
   "cell_type": "markdown",
   "id": "625a2fdb-4c30-40f1-8196-9377a24accc6",
   "metadata": {},
   "source": [
    "## 条件分岐\n",
    "\n",
    "Polarsでは条件分岐を記述する際、`pl.when().then().when().then().otherwise()`のようなメソッドチェーンを使用します。しかし、この方法は記述が煩雑で、可読性も低くなりがちです。本書では、このようなメソッドチェーンを簡潔に記述するために、`match()`関数を利用します。\n",
    "\n",
    "次のコード例では、`rank_expr1`で`pl.when()`チェーンを使用してランク付けのロジックを記述しています。一方、`rank_expr2`では`match()`関数を使用して、同じ処理をより簡潔に記述しています。`match()`関数の引数については：\n",
    "\n",
    "- `match()`の**奇数番目の引数**には条件式を指定します。\n",
    "- **偶数番目の引数**には条件が一致した場合の結果式を指定します。\n",
    "- 引数の数が奇数の場合、最後の引数は`otherwise()`に渡されるデフォルト値として扱われます。"
   ]
  },
  {
   "cell_type": "code",
   "execution_count": 2,
   "id": "77acc5a8-c339-4fbb-8108-fa97c32b10ac",
   "metadata": {},
   "outputs": [
    {
     "data": {
      "text/html": [
       "<div><style>\n",
       ".dataframe > thead > tr,\n",
       ".dataframe > tbody > tr {\n",
       "  text-align: right;\n",
       "  white-space: pre-wrap;\n",
       "}\n",
       "</style>\n",
       "<small>shape: (4, 4)</small><table border=\"1\" class=\"dataframe\"><thead><tr><th>name</th><th>score</th><th>rank1</th><th>rank2</th></tr><tr><td>str</td><td>i64</td><td>str</td><td>str</td></tr></thead><tbody><tr><td>&quot;Alice&quot;</td><td>95</td><td>&quot;A&quot;</td><td>&quot;A&quot;</td></tr><tr><td>&quot;Bob&quot;</td><td>85</td><td>&quot;B&quot;</td><td>&quot;B&quot;</td></tr><tr><td>&quot;Charlie&quot;</td><td>70</td><td>&quot;C&quot;</td><td>&quot;C&quot;</td></tr><tr><td>&quot;Diana&quot;</td><td>50</td><td>&quot;F&quot;</td><td>&quot;F&quot;</td></tr></tbody></table></div>"
      ],
      "text/plain": [
       "shape: (4, 4)\n",
       "┌─────────┬───────┬───────┬───────┐\n",
       "│ name    ┆ score ┆ rank1 ┆ rank2 │\n",
       "│ ---     ┆ ---   ┆ ---   ┆ ---   │\n",
       "│ str     ┆ i64   ┆ str   ┆ str   │\n",
       "╞═════════╪═══════╪═══════╪═══════╡\n",
       "│ Alice   ┆ 95    ┆ A     ┆ A     │\n",
       "│ Bob     ┆ 85    ┆ B     ┆ B     │\n",
       "│ Charlie ┆ 70    ┆ C     ┆ C     │\n",
       "│ Diana   ┆ 50    ┆ F     ┆ F     │\n",
       "└─────────┴───────┴───────┴───────┘"
      ]
     },
     "execution_count": 2,
     "metadata": {},
     "output_type": "execute_result"
    }
   ],
   "source": [
    "from helper.polars import match\n",
    "\n",
    "df = pl.DataFrame({\n",
    "    \"name\": [\"Alice\", \"Bob\", \"Charlie\", \"Diana\"],\n",
    "    \"score\": [95, 85, 70, 50],\n",
    "})\n",
    "\n",
    "rank_expr1 = (\n",
    "    pl.when(pl.col(\"score\").is_between(90, 100)).then(pl.lit(\"A\"))\n",
    "    .when(pl.col(\"score\").is_between(80, 89)).then(pl.lit(\"B\"))\n",
    "    .when(pl.col(\"score\").is_between(70, 79)).then(pl.lit(\"C\"))\n",
    "    .otherwise(pl.lit(\"F\"))                                    \n",
    ")\n",
    "\n",
    "rank_expr2 = match(\n",
    "    pl.col(\"score\").is_between(90, 100), pl.lit(\"A\"),\n",
    "    pl.col(\"score\").is_between(80, 89), pl.lit(\"B\"),\n",
    "    pl.col(\"score\").is_between(70, 79), pl.lit(\"C\"),\n",
    "    pl.lit(\"F\")\n",
    ")\n",
    "\n",
    "df2 = df.with_columns(\n",
    "    rank_expr1.alias('rank1'),\n",
    "    rank_expr2.alias(\"rank2\")\n",
    ")\n",
    "df2"
   ]
  },
  {
   "cell_type": "markdown",
   "id": "f3553067-65b7-4b92-9acd-3a32e6d1fd51",
   "metadata": {},
   "source": [
    "このように、`match()`を使うことで可読性が向上し、コードの冗長さを軽減できます。"
   ]
  },
  {
   "cell_type": "markdown",
   "id": "aeef8d3a-05c6-42aa-af40-c68235e42406",
   "metadata": {},
   "source": [
    "## メソッドチェーン\n",
    "\n",
    "Polarsでは、メソッドチェーンを活用することでデータ操作を効率的に行うことができますが、メソッドチェーンの途中でどのようにデータが変化するのかを把握するのは難しい場合があります。そこで、デバッグのために次の2つの方法を活用できます。\n",
    "\n",
    "* `helper.polars.DataCapturer`: メソッドチェーンの任意の点でデータをキャプチャし、状態を確認できます。\n",
    "* `helper.polars.PipeLogger`: メソッドチェーン全体の入出力と引数をキャプチャし、可視化します。"
   ]
  },
  {
   "cell_type": "markdown",
   "id": "43651494-177b-472b-ab75-0fcbb99e7707",
   "metadata": {},
   "source": [
    "### DataCapturer\n",
    "\n",
    "`DataCapturer`を使用すると、メソッドチェーン内の特定のポイントでデータの状態をキャプチャできます。以下は、`DataCapturer`の使い方を示す例です。"
   ]
  },
  {
   "cell_type": "code",
   "execution_count": 3,
   "id": "71fb878f-00a0-495a-bada-bc1ffd26a67c",
   "metadata": {},
   "outputs": [
    {
     "data": {
      "text/html": [
       "<table><tr><td><div><style>\n",
       ".dataframe > thead > tr,\n",
       ".dataframe > tbody > tr {\n",
       "  text-align: right;\n",
       "  white-space: pre-wrap;\n",
       "}\n",
       "</style>\n",
       "<small>shape: (3, 5)</small><table border=\"1\" class=\"dataframe\"><thead><tr><th>name</th><th>age</th><th>score</th><th>department</th><th>adjusted_score</th></tr><tr><td>str</td><td>i64</td><td>i64</td><td>str</td><td>f64</td></tr></thead><tbody><tr><td>&quot;Charlie&quot;</td><td>35</td><td>95</td><td>&quot;HR&quot;</td><td>104.5</td></tr><tr><td>&quot;David&quot;</td><td>40</td><td>80</td><td>&quot;IT&quot;</td><td>88.0</td></tr><tr><td>&quot;Eve&quot;</td><td>45</td><td>70</td><td>&quot;HR&quot;</td><td>77.0</td></tr></tbody></table></div></td><td><div><style>\n",
       ".dataframe > thead > tr,\n",
       ".dataframe > tbody > tr {\n",
       "  text-align: right;\n",
       "  white-space: pre-wrap;\n",
       "}\n",
       "</style>\n",
       "<small>shape: (2, 3)</small><table border=\"1\" class=\"dataframe\"><thead><tr><th>department</th><th>average_score</th><th>max_age</th></tr><tr><td>str</td><td>f64</td><td>i64</td></tr></thead><tbody><tr><td>&quot;HR&quot;</td><td>90.75</td><td>45</td></tr><tr><td>&quot;IT&quot;</td><td>88.0</td><td>40</td></tr></tbody></table></div></td></tr></table>"
      ]
     },
     "metadata": {},
     "output_type": "display_data"
    }
   ],
   "source": [
    "from helper.polars import DataCapturer\n",
    "\n",
    "df = pl.DataFrame({\n",
    "    \"name\": [\"Alice\", \"Bob\", \"Charlie\", \"David\", \"Eve\"],\n",
    "    \"age\": [25, 30, 35, 40, 45],\n",
    "    \"score\": [85, 90, 95, 80, 70],\n",
    "    \"department\": [\"HR\", \"IT\", \"HR\", \"IT\", \"HR\"]\n",
    "})\n",
    "\n",
    "cap = DataCapturer() #❶\n",
    "\n",
    "result = (\n",
    "df\n",
    ".filter(pl.col(\"age\") > 30)  \n",
    ".with_columns(\n",
    "  (pl.col(\"score\") * 1.1).alias(\"adjusted_score\")\n",
    ")\n",
    ".pipe(cap.before_group) #❷\n",
    ".group_by(\"department\")\n",
    ".agg([\n",
    "  pl.col(\"adjusted_score\").mean().alias(\"average_score\"),\n",
    "  pl.col(\"age\").max().alias(\"max_age\")\n",
    "])\n",
    ".pipe(cap.before_sort) #❷\n",
    ".sort(\"average_score\", descending=True)\n",
    ")\n",
    "\n",
    "row(cap.before_group, cap.before_sort) #❸"
   ]
  },
  {
   "cell_type": "markdown",
   "id": "084632b4-759b-4ccd-8e09-4653ce1b88c1",
   "metadata": {},
   "source": [
    "このコードでは、`cap.before_group`でグループ化の前のデータ状態をキャプチャし、`cap.before_sort`でソート前のデータ状態をキャプチャしています。\n",
    "\n",
    "❶メソッドチェーンを開始する前に、`DataCapturer()`のインスタンス`cap`を作成します。<br>\n",
    "❷メソッドチェーンの特定の場所で、`.pipe(cap.name)`を挿入し、その時点のデータを`name`としてキャプチャします。<br>\n",
    "❸キャプチャしたデータは`cap.name`でアクセスできます。<br>"
   ]
  },
  {
   "cell_type": "markdown",
   "id": "e2135871-6028-4435-91b0-e2df4581b0bf",
   "metadata": {},
   "source": [
    "### PipeLogger\n",
    "\n",
    "`PipeLogger`を使用すると、メソッドチェーン内の各ステップで発生するデータの入出力を視覚的に確認できます。これにより、データがどのように変化しているかを逐一確認しながら処理を進めることができ、デバッグが容易になります。\n",
    "\n",
    "以下のコード例では、`PipeLogger`を使用してデータフレームを操作し、処理中の入出力をJupyterLabで可視化する方法を示します。"
   ]
  },
  {
   "cell_type": "code",
   "execution_count": 4,
   "id": "67efaeb5-b2ed-4c38-aef1-fd86f3568b40",
   "metadata": {},
   "outputs": [
    {
     "data": {},
     "metadata": {},
     "output_type": "display_data"
    },
    {
     "data": {
      "application/vnd.holoviews_exec.v0+json": "",
      "text/html": [
       "<div id='ab64ea72-88d9-4d4d-a1cd-f6d26d199d1a'>\n",
       "  <div id=\"bbc07a3a-e06a-4660-9d4f-001801048f6e\" data-root-id=\"ab64ea72-88d9-4d4d-a1cd-f6d26d199d1a\" style=\"display: contents;\"></div>\n",
       "</div>\n",
       "<script type=\"application/javascript\">(function(root) {\n",
       "  var docs_json = {\"982aa265-f2d7-4cc3-b1bd-affbec39b02c\":{\"version\":\"3.6.2\",\"title\":\"Bokeh Application\",\"roots\":[{\"type\":\"object\",\"name\":\"panel.models.tabs.Tabs\",\"id\":\"ab64ea72-88d9-4d4d-a1cd-f6d26d199d1a\",\"attributes\":{\"stylesheets\":[\"\\n:host(.pn-loading):before, .pn-loading:before {\\n  background-color: #c3c3c3;\\n  mask-size: auto calc(min(50%, 400px));\\n  -webkit-mask-size: auto calc(min(50%, 400px));\\n}\",{\"type\":\"object\",\"name\":\"ImportedStyleSheet\",\"id\":\"ec76f1ff-3810-4f7e-bc7e-bc0f505dafcd\",\"attributes\":{\"url\":\"https://cdn.holoviz.org/panel/1.5.4/dist/css/loading.css\"}},{\"type\":\"object\",\"name\":\"ImportedStyleSheet\",\"id\":\"aca0771a-f64c-4db6-ae1c-1e0a1de2906f\",\"attributes\":{\"url\":\"https://cdn.holoviz.org/panel/1.5.4/dist/bundled/theme/default.css\"}},{\"type\":\"object\",\"name\":\"ImportedStyleSheet\",\"id\":\"045a1b58-b038-4469-9c78-a551e466ccdf\",\"attributes\":{\"url\":\"https://cdn.holoviz.org/panel/1.5.4/dist/bundled/theme/native.css\"}}],\"margin\":0,\"align\":\"start\",\"tabs\":[{\"type\":\"object\",\"name\":\"TabPanel\",\"id\":\"6d292c8c-2717-4a0c-a22e-b96a2f906400\",\"attributes\":{\"name\":\"Column00128\",\"title\":\"filter\",\"child\":{\"type\":\"object\",\"name\":\"panel.models.layout.Column\",\"id\":\"a205d4be-e0e9-48f0-b078-e5dfeab5a196\",\"attributes\":{\"name\":\"Column00128\",\"stylesheets\":[\"\\n:host(.pn-loading):before, .pn-loading:before {\\n  background-color: #c3c3c3;\\n  mask-size: auto calc(min(50%, 400px));\\n  -webkit-mask-size: auto calc(min(50%, 400px));\\n}\",{\"id\":\"ec76f1ff-3810-4f7e-bc7e-bc0f505dafcd\"},{\"type\":\"object\",\"name\":\"ImportedStyleSheet\",\"id\":\"a584bf2f-a1a8-4c19-bb11-beaf203d8248\",\"attributes\":{\"url\":\"https://cdn.holoviz.org/panel/1.5.4/dist/css/listpanel.css\"}},{\"id\":\"aca0771a-f64c-4db6-ae1c-1e0a1de2906f\"},{\"id\":\"045a1b58-b038-4469-9c78-a551e466ccdf\"}],\"margin\":0,\"align\":\"start\",\"children\":[{\"type\":\"object\",\"name\":\"panel.models.markup.HTML\",\"id\":\"eee3b2af-ab14-4b49-a007-96ae45dd13f7\",\"attributes\":{\"css_classes\":[\"markdown\"],\"stylesheets\":[\"\\n:host(.pn-loading):before, .pn-loading:before {\\n  background-color: #c3c3c3;\\n  mask-size: auto calc(min(50%, 400px));\\n  -webkit-mask-size: auto calc(min(50%, 400px));\\n}\",{\"id\":\"ec76f1ff-3810-4f7e-bc7e-bc0f505dafcd\"},{\"type\":\"object\",\"name\":\"ImportedStyleSheet\",\"id\":\"ce1ff0ba-601f-4150-80cd-abec2000bfe1\",\"attributes\":{\"url\":\"https://cdn.holoviz.org/panel/1.5.4/dist/css/markdown.css\"}},{\"id\":\"aca0771a-f64c-4db6-ae1c-1e0a1de2906f\"},{\"id\":\"045a1b58-b038-4469-9c78-a551e466ccdf\"},\"\\ncode {\\n  color: darkgreen;\\n}\\n\"],\"margin\":[5,10],\"align\":\"start\",\"text\":\"&lt;h2 id=&quot;filter&quot;&gt;filter &lt;a class=&quot;header-anchor&quot; href=&quot;#filter&quot;&gt;\\u00b6&lt;/a&gt;&lt;/h2&gt;\\n&lt;h3&gt;args&lt;/h3&gt;\\n&lt;ul&gt;\\n&lt;li&gt;&lt;code&gt;[(col(&amp;quot;age&amp;quot;)) &amp;gt; (dyn int: 30)]&lt;/code&gt;&lt;/li&gt;\\n&lt;/ul&gt;\\n&lt;h3&gt;kws&lt;/h3&gt;\\n\"}},{\"type\":\"object\",\"name\":\"Row\",\"id\":\"252d5cc1-05a5-4385-8baf-6764848f7511\",\"attributes\":{\"name\":\"Row00127\",\"stylesheets\":[\"\\n:host(.pn-loading):before, .pn-loading:before {\\n  background-color: #c3c3c3;\\n  mask-size: auto calc(min(50%, 400px));\\n  -webkit-mask-size: auto calc(min(50%, 400px));\\n}\",{\"id\":\"ec76f1ff-3810-4f7e-bc7e-bc0f505dafcd\"},{\"id\":\"a584bf2f-a1a8-4c19-bb11-beaf203d8248\"},{\"id\":\"aca0771a-f64c-4db6-ae1c-1e0a1de2906f\"},{\"id\":\"045a1b58-b038-4469-9c78-a551e466ccdf\"}],\"margin\":0,\"align\":\"start\",\"children\":[{\"type\":\"object\",\"name\":\"panel.models.markup.HTML\",\"id\":\"daa46a91-c12b-4eb1-a8f2-6ad1694189ef\",\"attributes\":{\"stylesheets\":[\"\\n:host(.pn-loading):before, .pn-loading:before {\\n  background-color: #c3c3c3;\\n  mask-size: auto calc(min(50%, 400px));\\n  -webkit-mask-size: auto calc(min(50%, 400px));\\n}\",{\"id\":\"ec76f1ff-3810-4f7e-bc7e-bc0f505dafcd\"},{\"id\":\"aca0771a-f64c-4db6-ae1c-1e0a1de2906f\"},{\"id\":\"045a1b58-b038-4469-9c78-a551e466ccdf\"}],\"margin\":[5,10],\"align\":\"start\",\"text\":\"&lt;div&gt;&lt;style&gt;\\n.dataframe &gt; thead &gt; tr,\\n.dataframe &gt; tbody &gt; tr {\\n  text-align: right;\\n  white-space: pre-wrap;\\n}\\n&lt;/style&gt;\\n&lt;small&gt;shape: (5, 4)&lt;/small&gt;&lt;table border=&quot;1&quot; class=&quot;dataframe&quot;&gt;&lt;thead&gt;&lt;tr&gt;&lt;th&gt;name&lt;/th&gt;&lt;th&gt;age&lt;/th&gt;&lt;th&gt;score&lt;/th&gt;&lt;th&gt;department&lt;/th&gt;&lt;/tr&gt;&lt;tr&gt;&lt;td&gt;str&lt;/td&gt;&lt;td&gt;i64&lt;/td&gt;&lt;td&gt;i64&lt;/td&gt;&lt;td&gt;str&lt;/td&gt;&lt;/tr&gt;&lt;/thead&gt;&lt;tbody&gt;&lt;tr&gt;&lt;td&gt;&amp;quot;Alice&amp;quot;&lt;/td&gt;&lt;td&gt;25&lt;/td&gt;&lt;td&gt;85&lt;/td&gt;&lt;td&gt;&amp;quot;HR&amp;quot;&lt;/td&gt;&lt;/tr&gt;&lt;tr&gt;&lt;td&gt;&amp;quot;Bob&amp;quot;&lt;/td&gt;&lt;td&gt;30&lt;/td&gt;&lt;td&gt;90&lt;/td&gt;&lt;td&gt;&amp;quot;IT&amp;quot;&lt;/td&gt;&lt;/tr&gt;&lt;tr&gt;&lt;td&gt;&amp;quot;Charlie&amp;quot;&lt;/td&gt;&lt;td&gt;35&lt;/td&gt;&lt;td&gt;95&lt;/td&gt;&lt;td&gt;&amp;quot;HR&amp;quot;&lt;/td&gt;&lt;/tr&gt;&lt;tr&gt;&lt;td&gt;&amp;quot;David&amp;quot;&lt;/td&gt;&lt;td&gt;40&lt;/td&gt;&lt;td&gt;80&lt;/td&gt;&lt;td&gt;&amp;quot;IT&amp;quot;&lt;/td&gt;&lt;/tr&gt;&lt;tr&gt;&lt;td&gt;&amp;quot;Eve&amp;quot;&lt;/td&gt;&lt;td&gt;45&lt;/td&gt;&lt;td&gt;70&lt;/td&gt;&lt;td&gt;&amp;quot;HR&amp;quot;&lt;/td&gt;&lt;/tr&gt;&lt;/tbody&gt;&lt;/table&gt;&lt;/div&gt;\",\"disable_math\":true}},{\"type\":\"object\",\"name\":\"panel.models.markup.HTML\",\"id\":\"ad4edb14-f5f5-4394-827c-093b51dea500\",\"attributes\":{\"stylesheets\":[\"\\n:host(.pn-loading):before, .pn-loading:before {\\n  background-color: #c3c3c3;\\n  mask-size: auto calc(min(50%, 400px));\\n  -webkit-mask-size: auto calc(min(50%, 400px));\\n}\",{\"id\":\"ec76f1ff-3810-4f7e-bc7e-bc0f505dafcd\"},{\"id\":\"aca0771a-f64c-4db6-ae1c-1e0a1de2906f\"},{\"id\":\"045a1b58-b038-4469-9c78-a551e466ccdf\"}],\"margin\":[5,10],\"align\":\"start\",\"text\":\"&lt;div&gt;&lt;style&gt;\\n.dataframe &gt; thead &gt; tr,\\n.dataframe &gt; tbody &gt; tr {\\n  text-align: right;\\n  white-space: pre-wrap;\\n}\\n&lt;/style&gt;\\n&lt;small&gt;shape: (3, 4)&lt;/small&gt;&lt;table border=&quot;1&quot; class=&quot;dataframe&quot;&gt;&lt;thead&gt;&lt;tr&gt;&lt;th&gt;name&lt;/th&gt;&lt;th&gt;age&lt;/th&gt;&lt;th&gt;score&lt;/th&gt;&lt;th&gt;department&lt;/th&gt;&lt;/tr&gt;&lt;tr&gt;&lt;td&gt;str&lt;/td&gt;&lt;td&gt;i64&lt;/td&gt;&lt;td&gt;i64&lt;/td&gt;&lt;td&gt;str&lt;/td&gt;&lt;/tr&gt;&lt;/thead&gt;&lt;tbody&gt;&lt;tr&gt;&lt;td&gt;&amp;quot;Charlie&amp;quot;&lt;/td&gt;&lt;td&gt;35&lt;/td&gt;&lt;td&gt;95&lt;/td&gt;&lt;td&gt;&amp;quot;HR&amp;quot;&lt;/td&gt;&lt;/tr&gt;&lt;tr&gt;&lt;td&gt;&amp;quot;David&amp;quot;&lt;/td&gt;&lt;td&gt;40&lt;/td&gt;&lt;td&gt;80&lt;/td&gt;&lt;td&gt;&amp;quot;IT&amp;quot;&lt;/td&gt;&lt;/tr&gt;&lt;tr&gt;&lt;td&gt;&amp;quot;Eve&amp;quot;&lt;/td&gt;&lt;td&gt;45&lt;/td&gt;&lt;td&gt;70&lt;/td&gt;&lt;td&gt;&amp;quot;HR&amp;quot;&lt;/td&gt;&lt;/tr&gt;&lt;/tbody&gt;&lt;/table&gt;&lt;/div&gt;\",\"disable_math\":true}}]}}]}}}},{\"type\":\"object\",\"name\":\"TabPanel\",\"id\":\"3c3206f2-9840-4c17-b579-a4e096dfde08\",\"attributes\":{\"name\":\"Column00136\",\"title\":\"with_columns\",\"child\":{\"type\":\"object\",\"name\":\"panel.models.layout.Column\",\"id\":\"3f718fb0-b2a2-456d-846c-ba9b42a65dae\",\"attributes\":{\"name\":\"Column00136\",\"stylesheets\":[\"\\n:host(.pn-loading):before, .pn-loading:before {\\n  background-color: #c3c3c3;\\n  mask-size: auto calc(min(50%, 400px));\\n  -webkit-mask-size: auto calc(min(50%, 400px));\\n}\",{\"id\":\"ec76f1ff-3810-4f7e-bc7e-bc0f505dafcd\"},{\"id\":\"a584bf2f-a1a8-4c19-bb11-beaf203d8248\"},{\"id\":\"aca0771a-f64c-4db6-ae1c-1e0a1de2906f\"},{\"id\":\"045a1b58-b038-4469-9c78-a551e466ccdf\"}],\"margin\":0,\"align\":\"start\",\"children\":[{\"type\":\"object\",\"name\":\"panel.models.markup.HTML\",\"id\":\"1a90351a-8ee0-4550-8b36-3c53e78dfdfc\",\"attributes\":{\"css_classes\":[\"markdown\"],\"stylesheets\":[\"\\n:host(.pn-loading):before, .pn-loading:before {\\n  background-color: #c3c3c3;\\n  mask-size: auto calc(min(50%, 400px));\\n  -webkit-mask-size: auto calc(min(50%, 400px));\\n}\",{\"id\":\"ec76f1ff-3810-4f7e-bc7e-bc0f505dafcd\"},{\"id\":\"ce1ff0ba-601f-4150-80cd-abec2000bfe1\"},{\"id\":\"aca0771a-f64c-4db6-ae1c-1e0a1de2906f\"},{\"id\":\"045a1b58-b038-4469-9c78-a551e466ccdf\"},\"\\ncode {\\n  color: darkgreen;\\n}\\n\"],\"margin\":[5,10],\"align\":\"start\",\"text\":\"&lt;h2 id=&quot;with_columns&quot;&gt;with_columns &lt;a class=&quot;header-anchor&quot; href=&quot;#with_columns&quot;&gt;\\u00b6&lt;/a&gt;&lt;/h2&gt;\\n&lt;h3&gt;args&lt;/h3&gt;\\n&lt;ul&gt;\\n&lt;li&gt;&lt;code&gt;[(col(&amp;quot;score&amp;quot;)) * (dyn float: 1.1)].alias(&amp;quot;adjusted_score&amp;quot;)&lt;/code&gt;&lt;/li&gt;\\n&lt;/ul&gt;\\n&lt;h3&gt;kws&lt;/h3&gt;\\n\"}},{\"type\":\"object\",\"name\":\"Row\",\"id\":\"a792e0e1-20c3-40f1-a982-f21d1f1787e8\",\"attributes\":{\"name\":\"Row00135\",\"stylesheets\":[\"\\n:host(.pn-loading):before, .pn-loading:before {\\n  background-color: #c3c3c3;\\n  mask-size: auto calc(min(50%, 400px));\\n  -webkit-mask-size: auto calc(min(50%, 400px));\\n}\",{\"id\":\"ec76f1ff-3810-4f7e-bc7e-bc0f505dafcd\"},{\"id\":\"a584bf2f-a1a8-4c19-bb11-beaf203d8248\"},{\"id\":\"aca0771a-f64c-4db6-ae1c-1e0a1de2906f\"},{\"id\":\"045a1b58-b038-4469-9c78-a551e466ccdf\"}],\"margin\":0,\"align\":\"start\",\"children\":[{\"type\":\"object\",\"name\":\"panel.models.markup.HTML\",\"id\":\"fe08fec1-8448-4f3f-b67a-a7a16dbd3c41\",\"attributes\":{\"stylesheets\":[\"\\n:host(.pn-loading):before, .pn-loading:before {\\n  background-color: #c3c3c3;\\n  mask-size: auto calc(min(50%, 400px));\\n  -webkit-mask-size: auto calc(min(50%, 400px));\\n}\",{\"id\":\"ec76f1ff-3810-4f7e-bc7e-bc0f505dafcd\"},{\"id\":\"aca0771a-f64c-4db6-ae1c-1e0a1de2906f\"},{\"id\":\"045a1b58-b038-4469-9c78-a551e466ccdf\"}],\"margin\":[5,10],\"align\":\"start\",\"text\":\"&lt;div&gt;&lt;style&gt;\\n.dataframe &gt; thead &gt; tr,\\n.dataframe &gt; tbody &gt; tr {\\n  text-align: right;\\n  white-space: pre-wrap;\\n}\\n&lt;/style&gt;\\n&lt;small&gt;shape: (3, 4)&lt;/small&gt;&lt;table border=&quot;1&quot; class=&quot;dataframe&quot;&gt;&lt;thead&gt;&lt;tr&gt;&lt;th&gt;name&lt;/th&gt;&lt;th&gt;age&lt;/th&gt;&lt;th&gt;score&lt;/th&gt;&lt;th&gt;department&lt;/th&gt;&lt;/tr&gt;&lt;tr&gt;&lt;td&gt;str&lt;/td&gt;&lt;td&gt;i64&lt;/td&gt;&lt;td&gt;i64&lt;/td&gt;&lt;td&gt;str&lt;/td&gt;&lt;/tr&gt;&lt;/thead&gt;&lt;tbody&gt;&lt;tr&gt;&lt;td&gt;&amp;quot;Charlie&amp;quot;&lt;/td&gt;&lt;td&gt;35&lt;/td&gt;&lt;td&gt;95&lt;/td&gt;&lt;td&gt;&amp;quot;HR&amp;quot;&lt;/td&gt;&lt;/tr&gt;&lt;tr&gt;&lt;td&gt;&amp;quot;David&amp;quot;&lt;/td&gt;&lt;td&gt;40&lt;/td&gt;&lt;td&gt;80&lt;/td&gt;&lt;td&gt;&amp;quot;IT&amp;quot;&lt;/td&gt;&lt;/tr&gt;&lt;tr&gt;&lt;td&gt;&amp;quot;Eve&amp;quot;&lt;/td&gt;&lt;td&gt;45&lt;/td&gt;&lt;td&gt;70&lt;/td&gt;&lt;td&gt;&amp;quot;HR&amp;quot;&lt;/td&gt;&lt;/tr&gt;&lt;/tbody&gt;&lt;/table&gt;&lt;/div&gt;\",\"disable_math\":true}},{\"type\":\"object\",\"name\":\"panel.models.markup.HTML\",\"id\":\"b6b1697b-90fc-4d06-b2d5-618965d53cd4\",\"attributes\":{\"stylesheets\":[\"\\n:host(.pn-loading):before, .pn-loading:before {\\n  background-color: #c3c3c3;\\n  mask-size: auto calc(min(50%, 400px));\\n  -webkit-mask-size: auto calc(min(50%, 400px));\\n}\",{\"id\":\"ec76f1ff-3810-4f7e-bc7e-bc0f505dafcd\"},{\"id\":\"aca0771a-f64c-4db6-ae1c-1e0a1de2906f\"},{\"id\":\"045a1b58-b038-4469-9c78-a551e466ccdf\"}],\"margin\":[5,10],\"align\":\"start\",\"text\":\"&lt;div&gt;&lt;style&gt;\\n.dataframe &gt; thead &gt; tr,\\n.dataframe &gt; tbody &gt; tr {\\n  text-align: right;\\n  white-space: pre-wrap;\\n}\\n&lt;/style&gt;\\n&lt;small&gt;shape: (3, 5)&lt;/small&gt;&lt;table border=&quot;1&quot; class=&quot;dataframe&quot;&gt;&lt;thead&gt;&lt;tr&gt;&lt;th&gt;name&lt;/th&gt;&lt;th&gt;age&lt;/th&gt;&lt;th&gt;score&lt;/th&gt;&lt;th&gt;department&lt;/th&gt;&lt;th&gt;adjusted_score&lt;/th&gt;&lt;/tr&gt;&lt;tr&gt;&lt;td&gt;str&lt;/td&gt;&lt;td&gt;i64&lt;/td&gt;&lt;td&gt;i64&lt;/td&gt;&lt;td&gt;str&lt;/td&gt;&lt;td&gt;f64&lt;/td&gt;&lt;/tr&gt;&lt;/thead&gt;&lt;tbody&gt;&lt;tr&gt;&lt;td&gt;&amp;quot;Charlie&amp;quot;&lt;/td&gt;&lt;td&gt;35&lt;/td&gt;&lt;td&gt;95&lt;/td&gt;&lt;td&gt;&amp;quot;HR&amp;quot;&lt;/td&gt;&lt;td&gt;104.5&lt;/td&gt;&lt;/tr&gt;&lt;tr&gt;&lt;td&gt;&amp;quot;David&amp;quot;&lt;/td&gt;&lt;td&gt;40&lt;/td&gt;&lt;td&gt;80&lt;/td&gt;&lt;td&gt;&amp;quot;IT&amp;quot;&lt;/td&gt;&lt;td&gt;88.0&lt;/td&gt;&lt;/tr&gt;&lt;tr&gt;&lt;td&gt;&amp;quot;Eve&amp;quot;&lt;/td&gt;&lt;td&gt;45&lt;/td&gt;&lt;td&gt;70&lt;/td&gt;&lt;td&gt;&amp;quot;HR&amp;quot;&lt;/td&gt;&lt;td&gt;77.0&lt;/td&gt;&lt;/tr&gt;&lt;/tbody&gt;&lt;/table&gt;&lt;/div&gt;\",\"disable_math\":true}}]}}]}}}},{\"type\":\"object\",\"name\":\"TabPanel\",\"id\":\"3e2d0f35-6722-4fcc-98d3-ae0e93460c81\",\"attributes\":{\"name\":\"Column00144\",\"title\":\"group_by\",\"child\":{\"type\":\"object\",\"name\":\"panel.models.layout.Column\",\"id\":\"cf65e283-b7a0-4478-b58c-8639f8b9fbe2\",\"attributes\":{\"name\":\"Column00144\",\"stylesheets\":[\"\\n:host(.pn-loading):before, .pn-loading:before {\\n  background-color: #c3c3c3;\\n  mask-size: auto calc(min(50%, 400px));\\n  -webkit-mask-size: auto calc(min(50%, 400px));\\n}\",{\"id\":\"ec76f1ff-3810-4f7e-bc7e-bc0f505dafcd\"},{\"id\":\"a584bf2f-a1a8-4c19-bb11-beaf203d8248\"},{\"id\":\"aca0771a-f64c-4db6-ae1c-1e0a1de2906f\"},{\"id\":\"045a1b58-b038-4469-9c78-a551e466ccdf\"}],\"margin\":0,\"align\":\"start\",\"children\":[{\"type\":\"object\",\"name\":\"panel.models.markup.HTML\",\"id\":\"f702e0d7-a4c4-4c28-bbf0-e4bcbe8e2e0e\",\"attributes\":{\"css_classes\":[\"markdown\"],\"stylesheets\":[\"\\n:host(.pn-loading):before, .pn-loading:before {\\n  background-color: #c3c3c3;\\n  mask-size: auto calc(min(50%, 400px));\\n  -webkit-mask-size: auto calc(min(50%, 400px));\\n}\",{\"id\":\"ec76f1ff-3810-4f7e-bc7e-bc0f505dafcd\"},{\"id\":\"ce1ff0ba-601f-4150-80cd-abec2000bfe1\"},{\"id\":\"aca0771a-f64c-4db6-ae1c-1e0a1de2906f\"},{\"id\":\"045a1b58-b038-4469-9c78-a551e466ccdf\"},\"\\ncode {\\n  color: darkgreen;\\n}\\n\"],\"margin\":[5,10],\"align\":\"start\",\"text\":\"&lt;h2 id=&quot;group_by&quot;&gt;group_by &lt;a class=&quot;header-anchor&quot; href=&quot;#group_by&quot;&gt;\\u00b6&lt;/a&gt;&lt;/h2&gt;\\n&lt;h3&gt;args&lt;/h3&gt;\\n&lt;ul&gt;\\n&lt;li&gt;&lt;code&gt;department&lt;/code&gt;&lt;/li&gt;\\n&lt;/ul&gt;\\n&lt;h3&gt;kws&lt;/h3&gt;\\n\"}},{\"type\":\"object\",\"name\":\"Row\",\"id\":\"ca35fce0-bbac-4ecc-a2b7-d6c8030c5c46\",\"attributes\":{\"name\":\"Row00143\",\"stylesheets\":[\"\\n:host(.pn-loading):before, .pn-loading:before {\\n  background-color: #c3c3c3;\\n  mask-size: auto calc(min(50%, 400px));\\n  -webkit-mask-size: auto calc(min(50%, 400px));\\n}\",{\"id\":\"ec76f1ff-3810-4f7e-bc7e-bc0f505dafcd\"},{\"id\":\"a584bf2f-a1a8-4c19-bb11-beaf203d8248\"},{\"id\":\"aca0771a-f64c-4db6-ae1c-1e0a1de2906f\"},{\"id\":\"045a1b58-b038-4469-9c78-a551e466ccdf\"}],\"margin\":0,\"align\":\"start\",\"children\":[{\"type\":\"object\",\"name\":\"panel.models.markup.HTML\",\"id\":\"6fcf2484-a040-415b-af5a-ca787f687619\",\"attributes\":{\"stylesheets\":[\"\\n:host(.pn-loading):before, .pn-loading:before {\\n  background-color: #c3c3c3;\\n  mask-size: auto calc(min(50%, 400px));\\n  -webkit-mask-size: auto calc(min(50%, 400px));\\n}\",{\"id\":\"ec76f1ff-3810-4f7e-bc7e-bc0f505dafcd\"},{\"id\":\"aca0771a-f64c-4db6-ae1c-1e0a1de2906f\"},{\"id\":\"045a1b58-b038-4469-9c78-a551e466ccdf\"}],\"margin\":[5,10],\"align\":\"start\",\"text\":\"&lt;div&gt;&lt;style&gt;\\n.dataframe &gt; thead &gt; tr,\\n.dataframe &gt; tbody &gt; tr {\\n  text-align: right;\\n  white-space: pre-wrap;\\n}\\n&lt;/style&gt;\\n&lt;small&gt;shape: (3, 5)&lt;/small&gt;&lt;table border=&quot;1&quot; class=&quot;dataframe&quot;&gt;&lt;thead&gt;&lt;tr&gt;&lt;th&gt;name&lt;/th&gt;&lt;th&gt;age&lt;/th&gt;&lt;th&gt;score&lt;/th&gt;&lt;th&gt;department&lt;/th&gt;&lt;th&gt;adjusted_score&lt;/th&gt;&lt;/tr&gt;&lt;tr&gt;&lt;td&gt;str&lt;/td&gt;&lt;td&gt;i64&lt;/td&gt;&lt;td&gt;i64&lt;/td&gt;&lt;td&gt;str&lt;/td&gt;&lt;td&gt;f64&lt;/td&gt;&lt;/tr&gt;&lt;/thead&gt;&lt;tbody&gt;&lt;tr&gt;&lt;td&gt;&amp;quot;Charlie&amp;quot;&lt;/td&gt;&lt;td&gt;35&lt;/td&gt;&lt;td&gt;95&lt;/td&gt;&lt;td&gt;&amp;quot;HR&amp;quot;&lt;/td&gt;&lt;td&gt;104.5&lt;/td&gt;&lt;/tr&gt;&lt;tr&gt;&lt;td&gt;&amp;quot;David&amp;quot;&lt;/td&gt;&lt;td&gt;40&lt;/td&gt;&lt;td&gt;80&lt;/td&gt;&lt;td&gt;&amp;quot;IT&amp;quot;&lt;/td&gt;&lt;td&gt;88.0&lt;/td&gt;&lt;/tr&gt;&lt;tr&gt;&lt;td&gt;&amp;quot;Eve&amp;quot;&lt;/td&gt;&lt;td&gt;45&lt;/td&gt;&lt;td&gt;70&lt;/td&gt;&lt;td&gt;&amp;quot;HR&amp;quot;&lt;/td&gt;&lt;td&gt;77.0&lt;/td&gt;&lt;/tr&gt;&lt;/tbody&gt;&lt;/table&gt;&lt;/div&gt;\",\"disable_math\":true}},{\"type\":\"object\",\"name\":\"panel.models.markup.HTML\",\"id\":\"f90cb537-ad92-4ba8-94ae-c031904c64f8\",\"attributes\":{\"stylesheets\":[\"\\n:host(.pn-loading):before, .pn-loading:before {\\n  background-color: #c3c3c3;\\n  mask-size: auto calc(min(50%, 400px));\\n  -webkit-mask-size: auto calc(min(50%, 400px));\\n}\",{\"id\":\"ec76f1ff-3810-4f7e-bc7e-bc0f505dafcd\"},{\"id\":\"aca0771a-f64c-4db6-ae1c-1e0a1de2906f\"},{\"id\":\"045a1b58-b038-4469-9c78-a551e466ccdf\"}],\"margin\":[5,10],\"align\":\"start\",\"text\":\"&lt;pre&gt;&lt;polars.dataframe.group_by.GroupBy object at 0x000001F496662910&gt;&lt;/pre&gt;\",\"disable_math\":true}}]}}]}}}},{\"type\":\"object\",\"name\":\"TabPanel\",\"id\":\"ec2d60c3-7a5a-4622-b942-bb2fc136ec9c\",\"attributes\":{\"name\":\"Column00152\",\"title\":\"agg\",\"child\":{\"type\":\"object\",\"name\":\"panel.models.layout.Column\",\"id\":\"a817a3ed-f9db-4fe8-bd81-e4044ed8d0b7\",\"attributes\":{\"name\":\"Column00152\",\"stylesheets\":[\"\\n:host(.pn-loading):before, .pn-loading:before {\\n  background-color: #c3c3c3;\\n  mask-size: auto calc(min(50%, 400px));\\n  -webkit-mask-size: auto calc(min(50%, 400px));\\n}\",{\"id\":\"ec76f1ff-3810-4f7e-bc7e-bc0f505dafcd\"},{\"id\":\"a584bf2f-a1a8-4c19-bb11-beaf203d8248\"},{\"id\":\"aca0771a-f64c-4db6-ae1c-1e0a1de2906f\"},{\"id\":\"045a1b58-b038-4469-9c78-a551e466ccdf\"}],\"margin\":0,\"align\":\"start\",\"children\":[{\"type\":\"object\",\"name\":\"panel.models.markup.HTML\",\"id\":\"985332bd-4a7a-4bd3-a244-3347a4127ebd\",\"attributes\":{\"css_classes\":[\"markdown\"],\"stylesheets\":[\"\\n:host(.pn-loading):before, .pn-loading:before {\\n  background-color: #c3c3c3;\\n  mask-size: auto calc(min(50%, 400px));\\n  -webkit-mask-size: auto calc(min(50%, 400px));\\n}\",{\"id\":\"ec76f1ff-3810-4f7e-bc7e-bc0f505dafcd\"},{\"id\":\"ce1ff0ba-601f-4150-80cd-abec2000bfe1\"},{\"id\":\"aca0771a-f64c-4db6-ae1c-1e0a1de2906f\"},{\"id\":\"045a1b58-b038-4469-9c78-a551e466ccdf\"},\"\\ncode {\\n  color: darkgreen;\\n}\\n\"],\"margin\":[5,10],\"align\":\"start\",\"text\":\"&lt;h2 id=&quot;agg&quot;&gt;agg &lt;a class=&quot;header-anchor&quot; href=&quot;#agg&quot;&gt;\\u00b6&lt;/a&gt;&lt;/h2&gt;\\n&lt;h3&gt;args&lt;/h3&gt;\\n&lt;ul&gt;\\n&lt;li&gt;&lt;code&gt;[&amp;lt;Expr [&#x27;col(&amp;quot;adjusted_score&amp;quot;).mean().a\\u2026&#x27;] at 0x1F496353550&amp;gt;, &amp;lt;Expr [&#x27;col(&amp;quot;age&amp;quot;).max().alias(&amp;quot;max_ag\\u2026&#x27;] at 0x1F496353410&amp;gt;]&lt;/code&gt;&lt;/li&gt;\\n&lt;/ul&gt;\\n&lt;h3&gt;kws&lt;/h3&gt;\\n\"}},{\"type\":\"object\",\"name\":\"Row\",\"id\":\"f31c71a8-5572-464d-8b8c-ccd9b7fd94a1\",\"attributes\":{\"name\":\"Row00151\",\"stylesheets\":[\"\\n:host(.pn-loading):before, .pn-loading:before {\\n  background-color: #c3c3c3;\\n  mask-size: auto calc(min(50%, 400px));\\n  -webkit-mask-size: auto calc(min(50%, 400px));\\n}\",{\"id\":\"ec76f1ff-3810-4f7e-bc7e-bc0f505dafcd\"},{\"id\":\"a584bf2f-a1a8-4c19-bb11-beaf203d8248\"},{\"id\":\"aca0771a-f64c-4db6-ae1c-1e0a1de2906f\"},{\"id\":\"045a1b58-b038-4469-9c78-a551e466ccdf\"}],\"margin\":0,\"align\":\"start\",\"children\":[{\"type\":\"object\",\"name\":\"panel.models.markup.HTML\",\"id\":\"4aaf714c-1a8a-461b-8989-b5d61bf69055\",\"attributes\":{\"stylesheets\":[\"\\n:host(.pn-loading):before, .pn-loading:before {\\n  background-color: #c3c3c3;\\n  mask-size: auto calc(min(50%, 400px));\\n  -webkit-mask-size: auto calc(min(50%, 400px));\\n}\",{\"id\":\"ec76f1ff-3810-4f7e-bc7e-bc0f505dafcd\"},{\"id\":\"aca0771a-f64c-4db6-ae1c-1e0a1de2906f\"},{\"id\":\"045a1b58-b038-4469-9c78-a551e466ccdf\"}],\"margin\":[5,10],\"align\":\"start\",\"text\":\"&lt;pre&gt;&lt;polars.dataframe.group_by.GroupBy object at 0x000001F496662910&gt;&lt;/pre&gt;\",\"disable_math\":true}},{\"type\":\"object\",\"name\":\"panel.models.markup.HTML\",\"id\":\"6fabe2ff-f7e1-4843-9529-985b33165506\",\"attributes\":{\"stylesheets\":[\"\\n:host(.pn-loading):before, .pn-loading:before {\\n  background-color: #c3c3c3;\\n  mask-size: auto calc(min(50%, 400px));\\n  -webkit-mask-size: auto calc(min(50%, 400px));\\n}\",{\"id\":\"ec76f1ff-3810-4f7e-bc7e-bc0f505dafcd\"},{\"id\":\"aca0771a-f64c-4db6-ae1c-1e0a1de2906f\"},{\"id\":\"045a1b58-b038-4469-9c78-a551e466ccdf\"}],\"margin\":[5,10],\"align\":\"start\",\"text\":\"&lt;div&gt;&lt;style&gt;\\n.dataframe &gt; thead &gt; tr,\\n.dataframe &gt; tbody &gt; tr {\\n  text-align: right;\\n  white-space: pre-wrap;\\n}\\n&lt;/style&gt;\\n&lt;small&gt;shape: (2, 3)&lt;/small&gt;&lt;table border=&quot;1&quot; class=&quot;dataframe&quot;&gt;&lt;thead&gt;&lt;tr&gt;&lt;th&gt;department&lt;/th&gt;&lt;th&gt;average_score&lt;/th&gt;&lt;th&gt;max_age&lt;/th&gt;&lt;/tr&gt;&lt;tr&gt;&lt;td&gt;str&lt;/td&gt;&lt;td&gt;f64&lt;/td&gt;&lt;td&gt;i64&lt;/td&gt;&lt;/tr&gt;&lt;/thead&gt;&lt;tbody&gt;&lt;tr&gt;&lt;td&gt;&amp;quot;HR&amp;quot;&lt;/td&gt;&lt;td&gt;90.75&lt;/td&gt;&lt;td&gt;45&lt;/td&gt;&lt;/tr&gt;&lt;tr&gt;&lt;td&gt;&amp;quot;IT&amp;quot;&lt;/td&gt;&lt;td&gt;88.0&lt;/td&gt;&lt;td&gt;40&lt;/td&gt;&lt;/tr&gt;&lt;/tbody&gt;&lt;/table&gt;&lt;/div&gt;\",\"disable_math\":true}}]}}]}}}},{\"type\":\"object\",\"name\":\"TabPanel\",\"id\":\"06163504-43d6-4f13-843b-a0292eabc10c\",\"attributes\":{\"name\":\"Column00160\",\"title\":\"sort\",\"child\":{\"type\":\"object\",\"name\":\"panel.models.layout.Column\",\"id\":\"6bc8105c-ef82-422d-84ca-39b8ed96d72b\",\"attributes\":{\"name\":\"Column00160\",\"stylesheets\":[\"\\n:host(.pn-loading):before, .pn-loading:before {\\n  background-color: #c3c3c3;\\n  mask-size: auto calc(min(50%, 400px));\\n  -webkit-mask-size: auto calc(min(50%, 400px));\\n}\",{\"id\":\"ec76f1ff-3810-4f7e-bc7e-bc0f505dafcd\"},{\"id\":\"a584bf2f-a1a8-4c19-bb11-beaf203d8248\"},{\"id\":\"aca0771a-f64c-4db6-ae1c-1e0a1de2906f\"},{\"id\":\"045a1b58-b038-4469-9c78-a551e466ccdf\"}],\"margin\":0,\"align\":\"start\",\"children\":[{\"type\":\"object\",\"name\":\"panel.models.markup.HTML\",\"id\":\"c8a42178-e37c-4823-b38d-38dd84462b75\",\"attributes\":{\"css_classes\":[\"markdown\"],\"stylesheets\":[\"\\n:host(.pn-loading):before, .pn-loading:before {\\n  background-color: #c3c3c3;\\n  mask-size: auto calc(min(50%, 400px));\\n  -webkit-mask-size: auto calc(min(50%, 400px));\\n}\",{\"id\":\"ec76f1ff-3810-4f7e-bc7e-bc0f505dafcd\"},{\"id\":\"ce1ff0ba-601f-4150-80cd-abec2000bfe1\"},{\"id\":\"aca0771a-f64c-4db6-ae1c-1e0a1de2906f\"},{\"id\":\"045a1b58-b038-4469-9c78-a551e466ccdf\"},\"\\ncode {\\n  color: darkgreen;\\n}\\n\"],\"margin\":[5,10],\"align\":\"start\",\"text\":\"&lt;h2 id=&quot;sort&quot;&gt;sort &lt;a class=&quot;header-anchor&quot; href=&quot;#sort&quot;&gt;\\u00b6&lt;/a&gt;&lt;/h2&gt;\\n&lt;h3&gt;args&lt;/h3&gt;\\n&lt;ul&gt;\\n&lt;li&gt;&lt;code&gt;average_score&lt;/code&gt;&lt;/li&gt;\\n&lt;/ul&gt;\\n&lt;h3&gt;kws&lt;/h3&gt;\\n&lt;ul&gt;\\n&lt;li&gt;descending=&lt;code&gt;True&lt;/code&gt;&lt;/li&gt;\\n&lt;/ul&gt;\\n\"}},{\"type\":\"object\",\"name\":\"Row\",\"id\":\"c41c7bb0-e0f6-49e2-8ad4-4563813a5373\",\"attributes\":{\"name\":\"Row00159\",\"stylesheets\":[\"\\n:host(.pn-loading):before, .pn-loading:before {\\n  background-color: #c3c3c3;\\n  mask-size: auto calc(min(50%, 400px));\\n  -webkit-mask-size: auto calc(min(50%, 400px));\\n}\",{\"id\":\"ec76f1ff-3810-4f7e-bc7e-bc0f505dafcd\"},{\"id\":\"a584bf2f-a1a8-4c19-bb11-beaf203d8248\"},{\"id\":\"aca0771a-f64c-4db6-ae1c-1e0a1de2906f\"},{\"id\":\"045a1b58-b038-4469-9c78-a551e466ccdf\"}],\"margin\":0,\"align\":\"start\",\"children\":[{\"type\":\"object\",\"name\":\"panel.models.markup.HTML\",\"id\":\"1eb45f9b-c4d0-4798-9a7d-3eb2388e91de\",\"attributes\":{\"stylesheets\":[\"\\n:host(.pn-loading):before, .pn-loading:before {\\n  background-color: #c3c3c3;\\n  mask-size: auto calc(min(50%, 400px));\\n  -webkit-mask-size: auto calc(min(50%, 400px));\\n}\",{\"id\":\"ec76f1ff-3810-4f7e-bc7e-bc0f505dafcd\"},{\"id\":\"aca0771a-f64c-4db6-ae1c-1e0a1de2906f\"},{\"id\":\"045a1b58-b038-4469-9c78-a551e466ccdf\"}],\"margin\":[5,10],\"align\":\"start\",\"text\":\"&lt;div&gt;&lt;style&gt;\\n.dataframe &gt; thead &gt; tr,\\n.dataframe &gt; tbody &gt; tr {\\n  text-align: right;\\n  white-space: pre-wrap;\\n}\\n&lt;/style&gt;\\n&lt;small&gt;shape: (2, 3)&lt;/small&gt;&lt;table border=&quot;1&quot; class=&quot;dataframe&quot;&gt;&lt;thead&gt;&lt;tr&gt;&lt;th&gt;department&lt;/th&gt;&lt;th&gt;average_score&lt;/th&gt;&lt;th&gt;max_age&lt;/th&gt;&lt;/tr&gt;&lt;tr&gt;&lt;td&gt;str&lt;/td&gt;&lt;td&gt;f64&lt;/td&gt;&lt;td&gt;i64&lt;/td&gt;&lt;/tr&gt;&lt;/thead&gt;&lt;tbody&gt;&lt;tr&gt;&lt;td&gt;&amp;quot;HR&amp;quot;&lt;/td&gt;&lt;td&gt;90.75&lt;/td&gt;&lt;td&gt;45&lt;/td&gt;&lt;/tr&gt;&lt;tr&gt;&lt;td&gt;&amp;quot;IT&amp;quot;&lt;/td&gt;&lt;td&gt;88.0&lt;/td&gt;&lt;td&gt;40&lt;/td&gt;&lt;/tr&gt;&lt;/tbody&gt;&lt;/table&gt;&lt;/div&gt;\",\"disable_math\":true}},{\"type\":\"object\",\"name\":\"panel.models.markup.HTML\",\"id\":\"f16ead36-0a08-4b34-8aad-a7bae55c136b\",\"attributes\":{\"stylesheets\":[\"\\n:host(.pn-loading):before, .pn-loading:before {\\n  background-color: #c3c3c3;\\n  mask-size: auto calc(min(50%, 400px));\\n  -webkit-mask-size: auto calc(min(50%, 400px));\\n}\",{\"id\":\"ec76f1ff-3810-4f7e-bc7e-bc0f505dafcd\"},{\"id\":\"aca0771a-f64c-4db6-ae1c-1e0a1de2906f\"},{\"id\":\"045a1b58-b038-4469-9c78-a551e466ccdf\"}],\"margin\":[5,10],\"align\":\"start\",\"text\":\"&lt;div&gt;&lt;style&gt;\\n.dataframe &gt; thead &gt; tr,\\n.dataframe &gt; tbody &gt; tr {\\n  text-align: right;\\n  white-space: pre-wrap;\\n}\\n&lt;/style&gt;\\n&lt;small&gt;shape: (2, 3)&lt;/small&gt;&lt;table border=&quot;1&quot; class=&quot;dataframe&quot;&gt;&lt;thead&gt;&lt;tr&gt;&lt;th&gt;department&lt;/th&gt;&lt;th&gt;average_score&lt;/th&gt;&lt;th&gt;max_age&lt;/th&gt;&lt;/tr&gt;&lt;tr&gt;&lt;td&gt;str&lt;/td&gt;&lt;td&gt;f64&lt;/td&gt;&lt;td&gt;i64&lt;/td&gt;&lt;/tr&gt;&lt;/thead&gt;&lt;tbody&gt;&lt;tr&gt;&lt;td&gt;&amp;quot;HR&amp;quot;&lt;/td&gt;&lt;td&gt;90.75&lt;/td&gt;&lt;td&gt;45&lt;/td&gt;&lt;/tr&gt;&lt;tr&gt;&lt;td&gt;&amp;quot;IT&amp;quot;&lt;/td&gt;&lt;td&gt;88.0&lt;/td&gt;&lt;td&gt;40&lt;/td&gt;&lt;/tr&gt;&lt;/tbody&gt;&lt;/table&gt;&lt;/div&gt;\",\"disable_math\":true}}]}}]}}}}]}},{\"type\":\"object\",\"name\":\"panel.models.comm_manager.CommManager\",\"id\":\"3dbd81c2-b706-4353-88ce-142a27886a30\",\"attributes\":{\"plot_id\":\"ab64ea72-88d9-4d4d-a1cd-f6d26d199d1a\",\"comm_id\":\"a09632d2984c4b04a247c90194753987\",\"client_comm_id\":\"c469d8c87d5c4af896d19cd09ef0a7f6\"}}],\"defs\":[{\"type\":\"model\",\"name\":\"ReactiveHTML1\"},{\"type\":\"model\",\"name\":\"FlexBox1\",\"properties\":[{\"name\":\"align_content\",\"kind\":\"Any\",\"default\":\"flex-start\"},{\"name\":\"align_items\",\"kind\":\"Any\",\"default\":\"flex-start\"},{\"name\":\"flex_direction\",\"kind\":\"Any\",\"default\":\"row\"},{\"name\":\"flex_wrap\",\"kind\":\"Any\",\"default\":\"wrap\"},{\"name\":\"gap\",\"kind\":\"Any\",\"default\":\"\"},{\"name\":\"justify_content\",\"kind\":\"Any\",\"default\":\"flex-start\"}]},{\"type\":\"model\",\"name\":\"FloatPanel1\",\"properties\":[{\"name\":\"config\",\"kind\":\"Any\",\"default\":{\"type\":\"map\"}},{\"name\":\"contained\",\"kind\":\"Any\",\"default\":true},{\"name\":\"position\",\"kind\":\"Any\",\"default\":\"right-top\"},{\"name\":\"offsetx\",\"kind\":\"Any\",\"default\":null},{\"name\":\"offsety\",\"kind\":\"Any\",\"default\":null},{\"name\":\"theme\",\"kind\":\"Any\",\"default\":\"primary\"},{\"name\":\"status\",\"kind\":\"Any\",\"default\":\"normalized\"}]},{\"type\":\"model\",\"name\":\"GridStack1\",\"properties\":[{\"name\":\"mode\",\"kind\":\"Any\",\"default\":\"warn\"},{\"name\":\"ncols\",\"kind\":\"Any\",\"default\":null},{\"name\":\"nrows\",\"kind\":\"Any\",\"default\":null},{\"name\":\"allow_resize\",\"kind\":\"Any\",\"default\":true},{\"name\":\"allow_drag\",\"kind\":\"Any\",\"default\":true},{\"name\":\"state\",\"kind\":\"Any\",\"default\":[]}]},{\"type\":\"model\",\"name\":\"drag1\",\"properties\":[{\"name\":\"slider_width\",\"kind\":\"Any\",\"default\":5},{\"name\":\"slider_color\",\"kind\":\"Any\",\"default\":\"black\"},{\"name\":\"value\",\"kind\":\"Any\",\"default\":50}]},{\"type\":\"model\",\"name\":\"click1\",\"properties\":[{\"name\":\"terminal_output\",\"kind\":\"Any\",\"default\":\"\"},{\"name\":\"debug_name\",\"kind\":\"Any\",\"default\":\"\"},{\"name\":\"clears\",\"kind\":\"Any\",\"default\":0}]},{\"type\":\"model\",\"name\":\"FastWrapper1\",\"properties\":[{\"name\":\"object\",\"kind\":\"Any\",\"default\":null},{\"name\":\"style\",\"kind\":\"Any\",\"default\":null}]},{\"type\":\"model\",\"name\":\"NotificationAreaBase1\",\"properties\":[{\"name\":\"js_events\",\"kind\":\"Any\",\"default\":{\"type\":\"map\"}},{\"name\":\"position\",\"kind\":\"Any\",\"default\":\"bottom-right\"},{\"name\":\"_clear\",\"kind\":\"Any\",\"default\":0}]},{\"type\":\"model\",\"name\":\"NotificationArea1\",\"properties\":[{\"name\":\"js_events\",\"kind\":\"Any\",\"default\":{\"type\":\"map\"}},{\"name\":\"notifications\",\"kind\":\"Any\",\"default\":[]},{\"name\":\"position\",\"kind\":\"Any\",\"default\":\"bottom-right\"},{\"name\":\"_clear\",\"kind\":\"Any\",\"default\":0},{\"name\":\"types\",\"kind\":\"Any\",\"default\":[{\"type\":\"map\",\"entries\":[[\"type\",\"warning\"],[\"background\",\"#ffc107\"],[\"icon\",{\"type\":\"map\",\"entries\":[[\"className\",\"fas fa-exclamation-triangle\"],[\"tagName\",\"i\"],[\"color\",\"white\"]]}]]},{\"type\":\"map\",\"entries\":[[\"type\",\"info\"],[\"background\",\"#007bff\"],[\"icon\",{\"type\":\"map\",\"entries\":[[\"className\",\"fas fa-info-circle\"],[\"tagName\",\"i\"],[\"color\",\"white\"]]}]]}]}]},{\"type\":\"model\",\"name\":\"Notification\",\"properties\":[{\"name\":\"background\",\"kind\":\"Any\",\"default\":null},{\"name\":\"duration\",\"kind\":\"Any\",\"default\":3000},{\"name\":\"icon\",\"kind\":\"Any\",\"default\":null},{\"name\":\"message\",\"kind\":\"Any\",\"default\":\"\"},{\"name\":\"notification_type\",\"kind\":\"Any\",\"default\":null},{\"name\":\"_destroyed\",\"kind\":\"Any\",\"default\":false}]},{\"type\":\"model\",\"name\":\"TemplateActions1\",\"properties\":[{\"name\":\"open_modal\",\"kind\":\"Any\",\"default\":0},{\"name\":\"close_modal\",\"kind\":\"Any\",\"default\":0}]},{\"type\":\"model\",\"name\":\"BootstrapTemplateActions1\",\"properties\":[{\"name\":\"open_modal\",\"kind\":\"Any\",\"default\":0},{\"name\":\"close_modal\",\"kind\":\"Any\",\"default\":0}]},{\"type\":\"model\",\"name\":\"TemplateEditor1\",\"properties\":[{\"name\":\"layout\",\"kind\":\"Any\",\"default\":[]}]},{\"type\":\"model\",\"name\":\"MaterialTemplateActions1\",\"properties\":[{\"name\":\"open_modal\",\"kind\":\"Any\",\"default\":0},{\"name\":\"close_modal\",\"kind\":\"Any\",\"default\":0}]},{\"type\":\"model\",\"name\":\"ReactiveESM1\",\"properties\":[{\"name\":\"esm_constants\",\"kind\":\"Any\",\"default\":{\"type\":\"map\"}}]},{\"type\":\"model\",\"name\":\"JSComponent1\",\"properties\":[{\"name\":\"esm_constants\",\"kind\":\"Any\",\"default\":{\"type\":\"map\"}}]},{\"type\":\"model\",\"name\":\"ReactComponent1\",\"properties\":[{\"name\":\"esm_constants\",\"kind\":\"Any\",\"default\":{\"type\":\"map\"}}]},{\"type\":\"model\",\"name\":\"AnyWidgetComponent1\",\"properties\":[{\"name\":\"esm_constants\",\"kind\":\"Any\",\"default\":{\"type\":\"map\"}}]},{\"type\":\"model\",\"name\":\"request_value1\",\"properties\":[{\"name\":\"fill\",\"kind\":\"Any\",\"default\":\"none\"},{\"name\":\"_synced\",\"kind\":\"Any\",\"default\":null},{\"name\":\"_request_sync\",\"kind\":\"Any\",\"default\":0}]}]}};\n",
       "  var render_items = [{\"docid\":\"982aa265-f2d7-4cc3-b1bd-affbec39b02c\",\"roots\":{\"ab64ea72-88d9-4d4d-a1cd-f6d26d199d1a\":\"bbc07a3a-e06a-4660-9d4f-001801048f6e\"},\"root_ids\":[\"ab64ea72-88d9-4d4d-a1cd-f6d26d199d1a\"]}];\n",
       "  var docs = Object.values(docs_json)\n",
       "  if (!docs) {\n",
       "    return\n",
       "  }\n",
       "  const py_version = docs[0].version.replace('rc', '-rc.').replace('.dev', '-dev.')\n",
       "  async function embed_document(root) {\n",
       "    var Bokeh = get_bokeh(root)\n",
       "    await Bokeh.embed.embed_items_notebook(docs_json, render_items);\n",
       "    for (const render_item of render_items) {\n",
       "      for (const root_id of render_item.root_ids) {\n",
       "\tconst id_el = document.getElementById(root_id)\n",
       "\tif (id_el.children.length && id_el.children[0].hasAttribute('data-root-id')) {\n",
       "\t  const root_el = id_el.children[0]\n",
       "\t  root_el.id = root_el.id + '-rendered'\n",
       "\t  for (const child of root_el.children) {\n",
       "            // Ensure JupyterLab does not capture keyboard shortcuts\n",
       "            // see: https://jupyterlab.readthedocs.io/en/4.1.x/extension/notebook.html#keyboard-interaction-model\n",
       "\t    child.setAttribute('data-lm-suppress-shortcuts', 'true')\n",
       "\t  }\n",
       "\t}\n",
       "      }\n",
       "    }\n",
       "  }\n",
       "  function get_bokeh(root) {\n",
       "    if (root.Bokeh === undefined) {\n",
       "      return null\n",
       "    } else if (root.Bokeh.version !== py_version) {\n",
       "      if (root.Bokeh.versions === undefined || !root.Bokeh.versions.has(py_version)) {\n",
       "\treturn null\n",
       "      }\n",
       "      return root.Bokeh.versions.get(py_version);\n",
       "    } else if (root.Bokeh.version === py_version) {\n",
       "      return root.Bokeh\n",
       "    }\n",
       "    return null\n",
       "  }\n",
       "  function is_loaded(root) {\n",
       "    var Bokeh = get_bokeh(root)\n",
       "    return (Bokeh != null && Bokeh.Panel !== undefined)\n",
       "  }\n",
       "  if (is_loaded(root)) {\n",
       "    embed_document(root);\n",
       "  } else {\n",
       "    var attempts = 0;\n",
       "    var timer = setInterval(function(root) {\n",
       "      if (is_loaded(root)) {\n",
       "        clearInterval(timer);\n",
       "        embed_document(root);\n",
       "      } else if (document.readyState == \"complete\") {\n",
       "        attempts++;\n",
       "        if (attempts > 200) {\n",
       "          clearInterval(timer);\n",
       "\t  var Bokeh = get_bokeh(root)\n",
       "\t  if (Bokeh == null || Bokeh.Panel == null) {\n",
       "            console.warn(\"Panel: ERROR: Unable to run Panel code because Bokeh or Panel library is missing\");\n",
       "\t  } else {\n",
       "\t    console.warn(\"Panel: WARNING: Attempting to render but not all required libraries could be resolved.\")\n",
       "\t    embed_document(root)\n",
       "\t  }\n",
       "        }\n",
       "      }\n",
       "    }, 25, root)\n",
       "  }\n",
       "})(window);</script>"
      ],
      "text/plain": [
       "<helper.polars.PipeLogger at 0x1f3e20d1450>"
      ]
     },
     "execution_count": 4,
     "metadata": {
      "application/vnd.holoviews_exec.v0+json": {
       "id": "ab64ea72-88d9-4d4d-a1cd-f6d26d199d1a"
      }
     },
     "output_type": "execute_result"
    }
   ],
   "source": [
    "from helper.polars import PipeLogger\n",
    "\n",
    "result = (\n",
    "PipeLogger(df) #❶\n",
    ".filter(pl.col(\"age\") > 30)\n",
    ".with_columns(\n",
    "  (pl.col(\"score\") * 1.1).alias(\"adjusted_score\")\n",
    ")\n",
    ".group_by(\"department\")\n",
    ".agg([\n",
    "  pl.col(\"adjusted_score\").mean().alias(\"average_score\"),\n",
    "  pl.col(\"age\").max().alias(\"max_age\")\n",
    "])\n",
    ".sort(\"average_score\", descending=True)\n",
    ")\n",
    "\n",
    "result #❷"
   ]
  },
  {
   "cell_type": "markdown",
   "id": "f7a4c985-0311-4fe1-89f7-51cbdee05103",
   "metadata": {},
   "source": [
    "`PipeLogger`を使うことで、メソッドチェーン内のデータの変化を視覚的に追跡し、デバッグがしやすくなります。\n",
    "\n",
    "❶最初のオブジェクトである`df`を`PipeLogger()`でラップします。これにより、結果は`DataFrame`ではなく、すべての入出力をキャプチャする`PipeLogger`オブジェクトになります。`PipeLogger`は、メソッドチェーンの各ステップでデータの状態を保存します。\n",
    "\n",
    "❷最後に、`PipeLogger`オブジェクトをセルの最後に配置し、インタラクティブなウィジェットとして結果を表示します。これにより、各メソッドの入出力を可視化することができます。"
   ]
  },
  {
   "cell_type": "markdown",
   "id": "466e0b4c-cc6b-49ec-be29-eb889e76c4c6",
   "metadata": {},
   "source": [
    "### ExprCapturer\n",
    "\n",
    "演算式のメソッドチェーンに流れているデータを観察したい場合は、`Expr.inspect()`を使用することができます。このメソッドは、データをそのまま出力します。例えば、"
   ]
  },
  {
   "cell_type": "code",
   "execution_count": 28,
   "id": "96b714a7-9cfd-4216-9cc2-b78d893fe313",
   "metadata": {},
   "outputs": [
    {
     "name": "stdout",
     "output_type": "stream",
     "text": [
      "shape: (5,)\n",
      "Series: 'name' [struct[2]]\n",
      "[\n",
      "\t{\"e\",1}\n",
      "\t{\"a\",1}\n",
      "\t{\"b\",1}\n",
      "\t{\"c\",1}\n",
      "\t{\"d\",1}\n",
      "]shape: (2,)\n",
      "Series: 'department' [struct[2]]\n",
      "[\n",
      "\t{\"h\",3}\n",
      "\t{\"i\",2}\n",
      "]\n",
      "\n"
     ]
    }
   ],
   "source": [
    "df.select(\n",
    "    pl.col('name', 'department').str.slice(0, 1).str.to_lowercase().value_counts().inspect().implode()\n",
    ");"
   ]
  },
  {
   "cell_type": "markdown",
   "id": "6a33acd0-5011-41d0-a685-b9eed2f08729",
   "metadata": {},
   "source": [
    "しかし、演算式のチェーン内を流れるデータをキャプチャして、後で解析したい場合には、本書が提供する`ExprCapturer`を使用する方法をおすすめします。以下のコードでは、`ExprCapturer`のインスタンス`cap`を作成し、`.pipe(cap.counts)`を使用してデータを`counts`という名前でキャプチャしています："
   ]
  },
  {
   "cell_type": "code",
   "execution_count": 24,
   "id": "4af812b4-7877-4cc5-89f0-63f241fce1bb",
   "metadata": {},
   "outputs": [
    {
     "data": {
      "text/html": [
       "<div><style>\n",
       ".dataframe > thead > tr,\n",
       ".dataframe > tbody > tr {\n",
       "  text-align: right;\n",
       "  white-space: pre-wrap;\n",
       "}\n",
       "</style>\n",
       "<small>shape: (1, 2)</small><table border=\"1\" class=\"dataframe\"><thead><tr><th>name</th><th>department</th></tr><tr><td>list[struct[2]]</td><td>list[struct[2]]</td></tr></thead><tbody><tr><td>[{&quot;d&quot;,1}, {&quot;e&quot;,1}, … {&quot;c&quot;,1}]</td><td>[{&quot;h&quot;,3}, {&quot;i&quot;,2}]</td></tr></tbody></table></div>"
      ],
      "text/plain": [
       "shape: (1, 2)\n",
       "┌───────────────────────────────┬────────────────────┐\n",
       "│ name                          ┆ department         │\n",
       "│ ---                           ┆ ---                │\n",
       "│ list[struct[2]]               ┆ list[struct[2]]    │\n",
       "╞═══════════════════════════════╪════════════════════╡\n",
       "│ [{\"d\",1}, {\"e\",1}, … {\"c\",1}] ┆ [{\"h\",3}, {\"i\",2}] │\n",
       "└───────────────────────────────┴────────────────────┘"
      ]
     },
     "execution_count": 24,
     "metadata": {},
     "output_type": "execute_result"
    }
   ],
   "source": [
    "from helper.polars import ExprCapturer\n",
    "\n",
    "cap = ExprCapturer()\n",
    "df_res = df.select(\n",
    "    pl.col('name', 'department').str.slice(0, 1).str.to_lowercase().value_counts().pipe(cap.counts).implode()\n",
    ")\n",
    "df_res"
   ]
  },
  {
   "cell_type": "markdown",
   "id": "85605b13-7fc2-4143-bb7b-6b1162659a4c",
   "metadata": {},
   "source": [
    "複数の列に対して計算を行うため、キャプチャしたデータは複数の`Series`オブジェクトのリストとして保存されます。例えば、次のようにしてキャプチャしたデータを確認できます："
   ]
  },
  {
   "cell_type": "code",
   "execution_count": 29,
   "id": "0177e3b8-eab7-4397-98a1-cf63edf20ac4",
   "metadata": {},
   "outputs": [
    {
     "data": {
      "text/html": [
       "<table><tr><td><div><style>\n",
       ".dataframe > thead > tr,\n",
       ".dataframe > tbody > tr {\n",
       "  text-align: right;\n",
       "  white-space: pre-wrap;\n",
       "}\n",
       "</style>\n",
       "<small>shape: (5,)</small><table border=\"1\" class=\"dataframe\"><thead><tr><th>name</th></tr><tr><td>struct[2]</td></tr></thead><tbody><tr><td>{&quot;d&quot;,1}</td></tr><tr><td>{&quot;e&quot;,1}</td></tr><tr><td>{&quot;b&quot;,1}</td></tr><tr><td>{&quot;a&quot;,1}</td></tr><tr><td>{&quot;c&quot;,1}</td></tr></tbody></table></div></td><td><div><style>\n",
       ".dataframe > thead > tr,\n",
       ".dataframe > tbody > tr {\n",
       "  text-align: right;\n",
       "  white-space: pre-wrap;\n",
       "}\n",
       "</style>\n",
       "<small>shape: (2,)</small><table border=\"1\" class=\"dataframe\"><thead><tr><th>department</th></tr><tr><td>struct[2]</td></tr></thead><tbody><tr><td>{&quot;h&quot;,3}</td></tr><tr><td>{&quot;i&quot;,2}</td></tr></tbody></table></div></td></tr></table>"
      ]
     },
     "metadata": {},
     "output_type": "display_data"
    }
   ],
   "source": [
    "row(cap.counts[0], cap.counts[1])"
   ]
  },
  {
   "cell_type": "markdown",
   "id": "6cc49849-9f95-44cc-af35-7dcb1e32ab70",
   "metadata": {},
   "source": [
    "## 複雑な演算式"
   ]
  },
  {
   "cell_type": "markdown",
   "id": "2058c9df-1897-40e6-8bfd-efc8d906c5f3",
   "metadata": {},
   "source": [
    "同じ中間結果を複数回利用する場合、メソッドチェーンのメリットが薄れることがあります。このような場合は、中間結果を変数に保存して後で利用するのが一般的です。たとえば、3次元ベクトルを正規化（normalize）するとき、ベクトルの長さを複数回使用します。一見すると、`length`の式が複数回実行されるように見えますが、Polarsでは演算結果をキャッシュするため、同じ計算を2回実行することはありません。"
   ]
  },
  {
   "cell_type": "code",
   "execution_count": 2,
   "id": "785933b6-f763-47d9-9a47-0d9a5dfd5d90",
   "metadata": {},
   "outputs": [
    {
     "data": {
      "text/html": [
       "<table><tr><td><div><style>\n",
       ".dataframe > thead > tr,\n",
       ".dataframe > tbody > tr {\n",
       "  text-align: right;\n",
       "  white-space: pre-wrap;\n",
       "}\n",
       "</style>\n",
       "<small>shape: (3, 3)</small><table border=\"1\" class=\"dataframe\"><thead><tr><th>x</th><th>y</th><th>z</th></tr><tr><td>f64</td><td>f64</td><td>f64</td></tr></thead><tbody><tr><td>1.0</td><td>3.0</td><td>2.0</td></tr><tr><td>2.0</td><td>2.0</td><td>1.0</td></tr><tr><td>3.0</td><td>1.0</td><td>3.0</td></tr></tbody></table></div></td><td><div><style>\n",
       ".dataframe > thead > tr,\n",
       ".dataframe > tbody > tr {\n",
       "  text-align: right;\n",
       "  white-space: pre-wrap;\n",
       "}\n",
       "</style>\n",
       "<small>shape: (3, 3)</small><table border=\"1\" class=\"dataframe\"><thead><tr><th>x</th><th>y</th><th>z</th></tr><tr><td>f64</td><td>f64</td><td>f64</td></tr></thead><tbody><tr><td>0.267261</td><td>0.801784</td><td>0.534522</td></tr><tr><td>0.666667</td><td>0.666667</td><td>0.333333</td></tr><tr><td>0.688247</td><td>0.229416</td><td>0.688247</td></tr></tbody></table></div></td></tr></table>"
      ]
     },
     "metadata": {},
     "output_type": "display_data"
    }
   ],
   "source": [
    "df = pl.DataFrame(\n",
    "    dict(x=[1.0, 2.0, 3.0], y=[3.0, 2.0, 1.0], z=[2.0, 1.0, 3.0])\n",
    ")\n",
    "\n",
    "x, y, z = pl.col('x'), pl.col('y'), pl.col('z')\n",
    "length = (x**2 + y**2 + z**2).sqrt()\n",
    "\n",
    "df1 = df.select(\n",
    "    x = x / length,\n",
    "    y = y / length,\n",
    "    z = z / length\n",
    ")\n",
    "\n",
    "row(df, df1)"
   ]
  },
  {
   "cell_type": "markdown",
   "id": "283e1a94-7b82-49b0-95a8-25ca71626867",
   "metadata": {},
   "source": [
    "次のコードでは、`LazyDataFrame.explain()`を使用して実行プランを表示します。この結果、ベクトルの長さを計算する式が`__POLARS_CSER_0x30925ccb05afdfe7`という名前の列にキャッシュされていることが分かります。"
   ]
  },
  {
   "cell_type": "code",
   "execution_count": 5,
   "id": "8ab99fae-11d4-4183-a134-1bfba71491da",
   "metadata": {},
   "outputs": [
    {
     "name": "stdout",
     "output_type": "stream",
     "text": [
      "simple π 3/4 [\"x\", \"y\", \"z\"]\n",
      "   WITH_COLUMNS:\n",
      "   [[(col(\"x\")) / (col(\"__POLARS_CSER_0x30925ccb05afdfe7\"))].alias(\"x\"), [(col(\"y\")) / (col(\"__POLARS_CSER_0x30925ccb05afdfe7\"))].alias(\"y\"), [(col(\"z\")) / (col(\"__POLARS_CSER_0x30925ccb05afdfe7\"))].alias(\"z\")] \n",
      "     WITH_COLUMNS:\n",
      "     [[([(col(\"x\").pow([dyn int: 2])) + (col(\"y\").pow([dyn int: 2]))]) + (col(\"z\").pow([dyn int: 2]))].sqrt().alias(\"__POLARS_CSER_0x30925ccb05afdfe7\")] \n",
      "      DF [\"x\", \"y\", \"z\"]; PROJECT */3 COLUMNS; SELECTION: None\n"
     ]
    }
   ],
   "source": [
    "print(\n",
    "    df\n",
    "    .lazy()\n",
    "    .with_columns(\n",
    "        x = x / length,\n",
    "        y = y / length,\n",
    "        z = z / length\n",
    "    )\n",
    "    .explain()\n",
    ")"
   ]
  },
  {
   "cell_type": "markdown",
   "id": "424781bb-265c-43aa-ac71-d91c352c9eb0",
   "metadata": {},
   "source": [
    "直接演算式で複雑な計算を書くのは非常に手間がかかります。例えば、平方根を求める場合、`sqrt(x)`のように記述することはできず、`x.sqrt()`と書く必要があります。より数学的な記法で演算式を記述できるようにするため、本書では次の`polars_exprs`デコレータを提供します。このデコレータを使用することで、通常の関数をPolarsの演算式に変換することができます。この関数内では、演算式の利点をそのまま活用することが可能です。また、`.list.first()`のようなサブネームスペースの操作も、`list_first()`のような関数として利用できます。さらに、`c_`で始まる変数は列を表す演算式として解釈されます。例えば、`c_x`は`pl.col('x')`と同じ意味を持ちます。"
   ]
  },
  {
   "cell_type": "code",
   "execution_count": 6,
   "id": "8c6061c7-9f65-4c1e-87fc-0e0ff9ec0595",
   "metadata": {},
   "outputs": [
    {
     "data": {
      "text/html": [
       "<table><tr><td><div><style>\n",
       ".dataframe > thead > tr,\n",
       ".dataframe > tbody > tr {\n",
       "  text-align: right;\n",
       "  white-space: pre-wrap;\n",
       "}\n",
       "</style>\n",
       "<small>shape: (3, 3)</small><table border=\"1\" class=\"dataframe\"><thead><tr><th>x</th><th>y</th><th>z</th></tr><tr><td>f64</td><td>f64</td><td>f64</td></tr></thead><tbody><tr><td>1.0</td><td>3.0</td><td>2.0</td></tr><tr><td>2.0</td><td>2.0</td><td>1.0</td></tr><tr><td>3.0</td><td>1.0</td><td>3.0</td></tr></tbody></table></div></td><td><div><style>\n",
       ".dataframe > thead > tr,\n",
       ".dataframe > tbody > tr {\n",
       "  text-align: right;\n",
       "  white-space: pre-wrap;\n",
       "}\n",
       "</style>\n",
       "<small>shape: (3, 3)</small><table border=\"1\" class=\"dataframe\"><thead><tr><th>x</th><th>y</th><th>z</th></tr><tr><td>f64</td><td>f64</td><td>f64</td></tr></thead><tbody><tr><td>0.267261</td><td>0.801784</td><td>0.534522</td></tr><tr><td>0.666667</td><td>0.666667</td><td>0.333333</td></tr><tr><td>0.688247</td><td>0.229416</td><td>0.688247</td></tr></tbody></table></div></td></tr></table>"
      ]
     },
     "metadata": {},
     "output_type": "display_data"
    }
   ],
   "source": [
    "from helper.polars import polars_exprs\n",
    "\n",
    "@polars_exprs\n",
    "def norm():\n",
    "    length = sqrt(c_x**2 + c_y**2 + c_z**2)\n",
    "    return dict(x=x / length, y=y / length, z=z / length)\n",
    "\n",
    "df2 = df.select(**norm())\n",
    "row(df, df2)"
   ]
  },
  {
   "cell_type": "markdown",
   "id": "dc57a946-a1d5-4adb-b2b5-377489e97f70",
   "metadata": {},
   "source": [
    "`c_`で始まる変数名を使用しない場合、キーワード引数を用いて列名を指定することができます。例えば、次のコードではその例を示しています："
   ]
  },
  {
   "cell_type": "code",
   "execution_count": 17,
   "id": "f4f2f9a1-5e29-49bc-8c21-d0c2eb2836f8",
   "metadata": {},
   "outputs": [
    {
     "data": {
      "text/html": [
       "<table><tr><td><div><style>\n",
       ".dataframe > thead > tr,\n",
       ".dataframe > tbody > tr {\n",
       "  text-align: right;\n",
       "  white-space: pre-wrap;\n",
       "}\n",
       "</style>\n",
       "<small>shape: (3, 3)</small><table border=\"1\" class=\"dataframe\"><thead><tr><th>a</th><th>b</th><th>c</th></tr><tr><td>f64</td><td>f64</td><td>f64</td></tr></thead><tbody><tr><td>1.0</td><td>3.0</td><td>2.0</td></tr><tr><td>2.0</td><td>2.0</td><td>1.0</td></tr><tr><td>3.0</td><td>1.0</td><td>3.0</td></tr></tbody></table></div></td><td><div><style>\n",
       ".dataframe > thead > tr,\n",
       ".dataframe > tbody > tr {\n",
       "  text-align: right;\n",
       "  white-space: pre-wrap;\n",
       "}\n",
       "</style>\n",
       "<small>shape: (3, 3)</small><table border=\"1\" class=\"dataframe\"><thead><tr><th>x</th><th>y</th><th>z</th></tr><tr><td>f64</td><td>f64</td><td>f64</td></tr></thead><tbody><tr><td>0.267261</td><td>0.801784</td><td>0.534522</td></tr><tr><td>0.666667</td><td>0.666667</td><td>0.333333</td></tr><tr><td>0.688247</td><td>0.229416</td><td>0.688247</td></tr></tbody></table></div></td></tr></table>"
      ]
     },
     "metadata": {},
     "output_type": "display_data"
    }
   ],
   "source": [
    "@polars_exprs\n",
    "def norm2():\n",
    "    length = sqrt(x**2 + y**2 + z**2)\n",
    "    return dict(x=x / length, y=y / length, z=z / length)\n",
    "\n",
    "df = pl.DataFrame(\n",
    "    dict(a=[1.0, 2.0, 3.0], b=[3.0, 2.0, 1.0], c=[2.0, 1.0, 3.0])\n",
    ")\n",
    "df1 = df.select(**norm2(x='a', y='b', z='c'))\n",
    "\n",
    "row(df, df1)"
   ]
  },
  {
   "cell_type": "markdown",
   "id": "75480113-6f0e-4a91-97d8-411000db0c2c",
   "metadata": {},
   "source": [
    "`polars_exprs`でデコレートされた関数が実行される際、以下の順序でシンボルが解釈されます。\n",
    "\n",
    "1. キーワード引数: キーワード引数に指定されたシンボルは、そのままキーワード引数として解釈されます。引数の値が文字列の場合、自動的に`pl.col()`を用いて列を表す式に置き換えられます。  \n",
    "2. `c_`で始まるシンボル: `c_`で始まるシンボルは`pl.col()`に変換されます。例えば、`c_name`は`pl.col('name')`となります。  \n",
    "3. Polarsライブラリ内の演算式関連の関数やメソッド\n",
    "4. 関数定義時のグローバル変数\n",
    "5. Pythonのビルトイン関数\n",
    "\n",
    "以下の例では、それぞれのシンボルが次のように解釈されます：\n",
    "\n",
    "- **`A`と`p`**：キーワード引数で指定した列。`pl.col('Amp')`および`pl.col('p')`に対応します。\n",
    "- **`c_f`**：列`pl.col('f')`に変換されます。\n",
    "- **`math`**：グローバル変数として解釈されます。\n",
    "- **`sin()`**：Polarsの演算式メソッド`sin()`を使用します。\n",
    "- **`print()`**：Pythonのビルトイン関数`print()`を使用します。"
   ]
  },
  {
   "cell_type": "code",
   "execution_count": 25,
   "id": "49018862-c8c4-455d-bf16-3fb84d0a584d",
   "metadata": {},
   "outputs": [
    {
     "name": "stdout",
     "output_type": "stream",
     "text": [
      "[([(dyn float: 6.283185) * (col(\"f\"))]) + (col(\"p\"))]\n"
     ]
    },
    {
     "data": {
      "text/html": [
       "<div><style>\n",
       ".dataframe > thead > tr,\n",
       ".dataframe > tbody > tr {\n",
       "  text-align: right;\n",
       "  white-space: pre-wrap;\n",
       "}\n",
       "</style>\n",
       "<small>shape: (3, 1)</small><table border=\"1\" class=\"dataframe\"><thead><tr><th>Amp</th></tr><tr><td>f64</td></tr></thead><tbody><tr><td>0.099833</td></tr><tr><td>0.397339</td></tr><tr><td>0.886561</td></tr></tbody></table></div>"
      ],
      "text/plain": [
       "shape: (3, 1)\n",
       "┌──────────┐\n",
       "│ Amp      │\n",
       "│ ---      │\n",
       "│ f64      │\n",
       "╞══════════╡\n",
       "│ 0.099833 │\n",
       "│ 0.397339 │\n",
       "│ 0.886561 │\n",
       "└──────────┘"
      ]
     },
     "execution_count": 25,
     "metadata": {},
     "output_type": "execute_result"
    }
   ],
   "source": [
    "import math\n",
    "\n",
    "@polars_exprs\n",
    "def my_expr():\n",
    "    phase = 2 * math.pi * c_f + p\n",
    "    print(phase)\n",
    "    value = A * sin(phase)\n",
    "    return value\n",
    "\n",
    "df = pl.DataFrame(dict(\n",
    "    Amp=[1, 2, 3],\n",
    "    f=[10, 20, 30],\n",
    "    p=[0.1, 0.2, 0.3]\n",
    "))\n",
    "\n",
    "df.select(my_expr(A=\"Amp\", p=\"p\"))"
   ]
  },
  {
   "cell_type": "markdown",
   "id": "2c07b90b-382f-4461-882b-796ff0db59f0",
   "metadata": {},
   "source": [
    "`polars_exprs`デコレータを使用することで得られる主なメリットは以下の通りです：\n",
    "\n",
    "1. **より直感的な記法で計算式を記述できる**\n",
    "   - 通常のPython関数のように計算式を書けるため、コードが簡潔で分かりやすくなります。\n",
    "   - 例えば、`sqrt(x)`のような数学的な記法で演算式を記述可能です（通常のPolarsでは`x.sqrt()`と記述する必要があります）。\n",
    "\n",
    "2. **列参照が簡単になる**\n",
    "   - `c_`で始まる変数（例: `c_x`）を使えば、`pl.col('x')`のように書かずに列を参照できます。\n",
    "   - キーワード引数を使うことで、柔軟に列名を指定可能です。例えば、`x='column1'`のように明示的に列を指定できます。\n",
    "\n",
    "3. **Polars演算式のメリットをそのまま活用**\n",
    "   - 関数内で使用される演算はPolarsの遅延評価（lazy execution）や高速なクエリ実行エンジンの恩恵を受けられるため、大量データの処理でも効率的です。\n",
    "   - 演算式の関数やメソッド（例: `sin()`や`sqrt()`）が直接使えるため、記述が直感的になります。\n",
    "\n",
    "4. **サブネームスペースの関数が簡単に使える**\n",
    "   - Polarsのサブネームスペース（例: `.list.first()`）に対応したカスタム関数（例: `list_first()`）を使えるため、柔軟性が向上します。\n",
    "\n",
    "5. **コードの再利用性が向上**\n",
    "   - 演算式をPython関数として抽象化できるため、複雑な計算や処理を繰り返し使用する場合にコードを再利用しやすくなります。\n",
    "   - 同じ計算式を異なる列に適用したい場合も、キーワード引数を用いて簡単に対応可能です。\n",
    "\n",
    "6. **Polarsの機能とPythonの標準機能の統合**\n",
    "   - Polars演算式に加え、標準Pythonのビルトイン関数（例: `print()`）やグローバル変数（例: `math.pi`）も利用できるため、柔軟な処理が可能です。\n",
    "\n",
    "7. **読みやすく保守性の高いコード**\n",
    "   - 数学的な記法や柔軟な列指定によって、コードが読みやすくなるため、保守性が向上します。\n",
    "   - チームでの共有や将来的な修正が容易になります。"
   ]
  },
  {
   "cell_type": "markdown",
   "id": "591bb6af-9651-42e0-9331-f4a646489841",
   "metadata": {},
   "source": [
    "## 配列を処理するユーザー関数"
   ]
  },
  {
   "cell_type": "markdown",
   "id": "e2af49ff-1c31-40ea-b835-b5e58f67c4db",
   "metadata": {},
   "source": [
    "次のコードは、`a` 列が `b` 列より小さい値を指定された値に置き換えます。Polars の演算式でこの計算を実装するのは難しいため、`pyarrow` や `numpy` の機能を使用すれば簡単に実現でき、`map_batches()` を活用しています。"
   ]
  },
  {
   "cell_type": "code",
   "execution_count": 2,
   "id": "381ea440-981a-421b-8fa9-e7c2361b3fb8",
   "metadata": {},
   "outputs": [
    {
     "data": {
      "text/html": [
       "<div><style>\n",
       ".dataframe > thead > tr,\n",
       ".dataframe > tbody > tr {\n",
       "  text-align: right;\n",
       "  white-space: pre-wrap;\n",
       "}\n",
       "</style>\n",
       "<small>shape: (4, 3)</small><table border=\"1\" class=\"dataframe\"><thead><tr><th>a</th><th>b</th><th>pl_result</th></tr><tr><td>i64</td><td>i64</td><td>i64</td></tr></thead><tbody><tr><td>1</td><td>1</td><td>1</td></tr><tr><td>2</td><td>3</td><td>100</td></tr><tr><td>3</td><td>4</td><td>200</td></tr><tr><td>10</td><td>5</td><td>10</td></tr></tbody></table></div>"
      ],
      "text/plain": [
       "shape: (4, 3)\n",
       "┌─────┬─────┬───────────┐\n",
       "│ a   ┆ b   ┆ pl_result │\n",
       "│ --- ┆ --- ┆ ---       │\n",
       "│ i64 ┆ i64 ┆ i64       │\n",
       "╞═════╪═════╪═══════════╡\n",
       "│ 1   ┆ 1   ┆ 1         │\n",
       "│ 2   ┆ 3   ┆ 100       │\n",
       "│ 3   ┆ 4   ┆ 200       │\n",
       "│ 10  ┆ 5   ┆ 10        │\n",
       "└─────┴─────┴───────────┘"
      ]
     },
     "execution_count": 2,
     "metadata": {},
     "output_type": "execute_result"
    }
   ],
   "source": [
    "import numpy as np\n",
    "\n",
    "df = pl.DataFrame({\n",
    "    \"a\":[1, 2, 3, 10],\n",
    "    \"b\":[1, 3, 4, 5],\n",
    "})\n",
    "\n",
    "def func(args, values):\n",
    "    a, b = [s.to_numpy() for s in args]\n",
    "    c = np.copy(a)\n",
    "    c[a < b] = values\n",
    "    return pl.Series(c)\n",
    "\n",
    "df.with_columns(\n",
    "    pl_result=pl.map_batches(['a', 'b'], lambda args:func(args, [100, 200]))\n",
    ")    "
   ]
  },
  {
   "cell_type": "markdown",
   "id": "b232d1d1-4dea-45b7-a136-d2df8689d958",
   "metadata": {},
   "source": [
    "`map_batches()` には次の三つの問題があります：\n",
    "\n",
    "1. 複数の列を一つのリストにまとめてユーザー関数に渡します。  \n",
    "2. ユーザー関数に他の引数を渡すことができません。  \n",
    "3. ユーザー関数の入力および出力が `Series` オブジェクトでない場合、結果が正しく動作しません。\n",
    "\n",
    "これらの問題を解決するために、本書では `series_batch`、`pyarrow_batch`、および `numpy_batch` の三つのデコレータを提供します。以下のコードでは、これらのデコレータを使用して `se_func`、`pa_func`、および `np_func` を `map_batches()` に渡せる形式の関数に変換します。変換後の関数は、引数として列データを受け取ります。列以外の引数を渡したい場合は、`func(values=values)` のように記述することが可能です。"
   ]
  },
  {
   "cell_type": "code",
   "execution_count": 4,
   "id": "5a62de0d-aef3-43de-8d5f-cc9b8a3f8576",
   "metadata": {},
   "outputs": [
    {
     "data": {
      "text/html": [
       "<div><style>\n",
       ".dataframe > thead > tr,\n",
       ".dataframe > tbody > tr {\n",
       "  text-align: right;\n",
       "  white-space: pre-wrap;\n",
       "}\n",
       "</style>\n",
       "<small>shape: (4, 5)</small><table border=\"1\" class=\"dataframe\"><thead><tr><th>a</th><th>b</th><th>se_result</th><th>pa_result</th><th>np_result</th></tr><tr><td>i64</td><td>i64</td><td>i64</td><td>i64</td><td>i64</td></tr></thead><tbody><tr><td>1</td><td>1</td><td>1</td><td>1</td><td>1</td></tr><tr><td>2</td><td>3</td><td>100</td><td>100</td><td>100</td></tr><tr><td>3</td><td>4</td><td>200</td><td>200</td><td>200</td></tr><tr><td>10</td><td>5</td><td>10</td><td>10</td><td>10</td></tr></tbody></table></div>"
      ],
      "text/plain": [
       "shape: (4, 5)\n",
       "┌─────┬─────┬───────────┬───────────┬───────────┐\n",
       "│ a   ┆ b   ┆ se_result ┆ pa_result ┆ np_result │\n",
       "│ --- ┆ --- ┆ ---       ┆ ---       ┆ ---       │\n",
       "│ i64 ┆ i64 ┆ i64       ┆ i64       ┆ i64       │\n",
       "╞═════╪═════╪═══════════╪═══════════╪═══════════╡\n",
       "│ 1   ┆ 1   ┆ 1         ┆ 1         ┆ 1         │\n",
       "│ 2   ┆ 3   ┆ 100       ┆ 100       ┆ 100       │\n",
       "│ 3   ┆ 4   ┆ 200       ┆ 200       ┆ 200       │\n",
       "│ 10  ┆ 5   ┆ 10        ┆ 10        ┆ 10        │\n",
       "└─────┴─────┴───────────┴───────────┴───────────┘"
      ]
     },
     "execution_count": 4,
     "metadata": {},
     "output_type": "execute_result"
    }
   ],
   "source": [
    "from helper.polars import pyarrow_batch, numpy_batch, series_batch\n",
    "\n",
    "@series_batch\n",
    "def se_func(a, b, values):\n",
    "    return a.scatter((a < b).arg_true(), values)\n",
    "\n",
    "@pyarrow_batch\n",
    "def pa_func(a, b, values):\n",
    "    from pyarrow.compute import replace_with_mask, less\n",
    "    return replace_with_mask(a, less(a, b), values)\n",
    "\n",
    "@numpy_batch\n",
    "def np_func(a, b, values):\n",
    "    c = a.copy()\n",
    "    c[a < b] = values\n",
    "    return c\n",
    "\n",
    "values = [100, 200]\n",
    "\n",
    "df.with_columns(\n",
    "    se_result=pl.map_batches(['a', 'b'], se_func(values=values)),\n",
    "    pa_result=pl.map_batches(['a', 'b'], pa_func(values=values)),\n",
    "    np_result=pl.map_batches(['a', 'b'], np_func(values=values)),\n",
    ")"
   ]
  },
  {
   "cell_type": "markdown",
   "id": "f8c5808b-e457-4606-b2d8-470b73df8c30",
   "metadata": {},
   "source": [
    "## 演算式の置き換え"
   ]
  },
  {
   "cell_type": "markdown",
   "id": "5ba93e7d-f0f6-4897-acb7-288a6999c1a6",
   "metadata": {},
   "source": [
    "以下の`calc_rotate_expr()`は、三次元座標の回転を行う演算式を生成します。`x`, `y`, `z`は三次元座標、`nx`, `ny`, `nz`は回転軸を表すベクトル、`angle`は回転の角度（度数）を表します。"
   ]
  },
  {
   "cell_type": "code",
   "execution_count": 3,
   "id": "e47a3b1e-368e-4b78-a31d-d74faddccd6b",
   "metadata": {},
   "outputs": [],
   "source": [
    "def calc_rotate_expr():\n",
    "    x, y, z, nx, ny, nz, angle = [pl.col(name) for name in 'x y z nx ny nz angle'.split()]\n",
    "    magnitude = (nx**2 + ny**2 + nz**2).sqrt()\n",
    "    nx /= magnitude\n",
    "    ny /= magnitude\n",
    "    nz /= magnitude\n",
    "\n",
    "    # Convert angle to radians\n",
    "    angle_rad = angle.radians()\n",
    "\n",
    "    # Calculate cosine and sine of the angle\n",
    "    cos_theta = angle_rad.cos()\n",
    "    sin_theta = angle_rad.sin()\n",
    "\n",
    "    # Calculate the rotated coordinates using Rodrigues' rotation formula\n",
    "    dot_product = nx * x + ny * y + nz * z\n",
    "    cross_product_x = ny * z - nz * y\n",
    "    cross_product_y = nz * x - nx * z\n",
    "    cross_product_z = nx * y - ny * x\n",
    "\n",
    "    rx = (cos_theta * x + \n",
    "          sin_theta * cross_product_x + \n",
    "          (1 - cos_theta) * dot_product * nx)\n",
    "\n",
    "    ry = (cos_theta * y + \n",
    "          sin_theta * cross_product_y + \n",
    "          (1 - cos_theta) * dot_product * ny)\n",
    "\n",
    "    rz = (cos_theta * z + \n",
    "          sin_theta * cross_product_z + \n",
    "          (1 - cos_theta) * dot_product * nz)\n",
    "\n",
    "    return pl.struct(rx.alias('rx'), ry.alias('ry'), rz.alias('rz'))"
   ]
  },
  {
   "cell_type": "markdown",
   "id": "836182a1-0593-4fe0-bffc-609fee653f68",
   "metadata": {},
   "source": [
    "この関数の生成する演算式を、次のように使用できます。"
   ]
  },
  {
   "cell_type": "code",
   "execution_count": 4,
   "id": "3ac56db5-0db0-4b11-b499-1fd80254c368",
   "metadata": {},
   "outputs": [
    {
     "data": {
      "text/html": [
       "<table><tr><td><div><style>\n",
       ".dataframe > thead > tr,\n",
       ".dataframe > tbody > tr {\n",
       "  text-align: right;\n",
       "  white-space: pre-wrap;\n",
       "}\n",
       "</style>\n",
       "<small>shape: (4, 7)</small><table border=\"1\" class=\"dataframe\"><thead><tr><th>x</th><th>y</th><th>z</th><th>nx</th><th>ny</th><th>nz</th><th>angle</th></tr><tr><td>i64</td><td>i64</td><td>i64</td><td>i64</td><td>i64</td><td>i64</td><td>i64</td></tr></thead><tbody><tr><td>1</td><td>2</td><td>1</td><td>1</td><td>0</td><td>0</td><td>10</td></tr><tr><td>2</td><td>1</td><td>0</td><td>1</td><td>0</td><td>0</td><td>20</td></tr><tr><td>3</td><td>3</td><td>0</td><td>1</td><td>0</td><td>0</td><td>30</td></tr><tr><td>4</td><td>2</td><td>5</td><td>1</td><td>0</td><td>0</td><td>40</td></tr></tbody></table></div></td><td><div><style>\n",
       ".dataframe > thead > tr,\n",
       ".dataframe > tbody > tr {\n",
       "  text-align: right;\n",
       "  white-space: pre-wrap;\n",
       "}\n",
       "</style>\n",
       "<small>shape: (4, 3)</small><table border=\"1\" class=\"dataframe\"><thead><tr><th>rx</th><th>ry</th><th>rz</th></tr><tr><td>f64</td><td>f64</td><td>f64</td></tr></thead><tbody><tr><td>1.0</td><td>1.795967</td><td>1.332104</td></tr><tr><td>2.0</td><td>0.939693</td><td>0.34202</td></tr><tr><td>3.0</td><td>2.598076</td><td>1.5</td></tr><tr><td>4.0</td><td>-1.681849</td><td>5.115797</td></tr></tbody></table></div></td></tr></table>"
      ]
     },
     "metadata": {},
     "output_type": "display_data"
    }
   ],
   "source": [
    "df = pl.DataFrame(dict(\n",
    "    x=[1, 2, 3, 4],\n",
    "    y=[2, 1, 3, 2],\n",
    "    z=[1, 0, 0, 5],\n",
    "    nx=[1, 1, 1, 1],\n",
    "    ny=[0, 0, 0, 0],\n",
    "    nz=[0, 0, 0, 0],\n",
    "    angle=[10, 20, 30, 40],\n",
    "))\n",
    "\n",
    "rot_expr = calc_rotate_expr()\n",
    "df_rot = df.select(rot_expr.struct.unnest())\n",
    "row(df, df_rot)"
   ]
  },
  {
   "cell_type": "markdown",
   "id": "d867f0f4-149d-400c-9fa7-3c8efc544b9d",
   "metadata": {},
   "source": [
    "しかし、この演算式には以下の問題があります：\n",
    "\n",
    "- 列名が演算式内に固定されており、異なる列名を持つデータフレームを直接処理することができない。\n",
    "- 一部の列を定数として扱いたい場合、処理が複雑になる。\n",
    "\n",
    "このような問題を解決するため、本書が提供する`expression_replace()`を使用すると、演算式内の列名を簡単に置き換えることができ、さらに、列を定数などの他の演算式に置き換えることも可能です。\n",
    "\n",
    "```python\n",
    "expression_replace(expr, mapper=None, **kw)\n",
    "```\n",
    "\n",
    "この関数は、演算式`expr`内の列名を`mapper`またはキーワード引数で置き換えます。\n",
    "\n",
    "以下のコードでは、`rot_expr`内の`nx`, `ny`, `nz`および`angle`列を定数に置き換えた後、`df2`を使って計算を行います。"
   ]
  },
  {
   "cell_type": "code",
   "execution_count": 5,
   "id": "ca5995af-7cd8-4578-ae6c-aae98538e884",
   "metadata": {},
   "outputs": [
    {
     "data": {
      "text/html": [
       "<table><tr><td><div><style>\n",
       ".dataframe > thead > tr,\n",
       ".dataframe > tbody > tr {\n",
       "  text-align: right;\n",
       "  white-space: pre-wrap;\n",
       "}\n",
       "</style>\n",
       "<small>shape: (4, 3)</small><table border=\"1\" class=\"dataframe\"><thead><tr><th>x</th><th>y</th><th>z</th></tr><tr><td>i64</td><td>i64</td><td>i64</td></tr></thead><tbody><tr><td>1</td><td>2</td><td>1</td></tr><tr><td>2</td><td>1</td><td>0</td></tr><tr><td>3</td><td>3</td><td>0</td></tr><tr><td>4</td><td>2</td><td>5</td></tr></tbody></table></div></td><td><div><style>\n",
       ".dataframe > thead > tr,\n",
       ".dataframe > tbody > tr {\n",
       "  text-align: right;\n",
       "  white-space: pre-wrap;\n",
       "}\n",
       "</style>\n",
       "<small>shape: (4, 3)</small><table border=\"1\" class=\"dataframe\"><thead><tr><th>rx</th><th>ry</th><th>rz</th></tr><tr><td>f64</td><td>f64</td><td>f64</td></tr></thead><tbody><tr><td>1.0</td><td>0.707107</td><td>2.12132</td></tr><tr><td>2.0</td><td>0.707107</td><td>0.707107</td></tr><tr><td>3.0</td><td>2.12132</td><td>2.12132</td></tr><tr><td>4.0</td><td>-2.12132</td><td>4.949747</td></tr></tbody></table></div></td></tr></table>"
      ]
     },
     "metadata": {},
     "output_type": "display_data"
    }
   ],
   "source": [
    "from helper.polars import expression_replace\n",
    "rot_expr2 = expression_replace(rot_expr, nx=pl.lit(1), ny=pl.lit(0), nz=pl.lit(0), angle=pl.lit(45))\n",
    "df2 = df.select('x', 'y', 'z')\n",
    "df2_rot = df2.select(rot_expr2.struct.unnest())\n",
    "row(df2, df2_rot)"
   ]
  },
  {
   "cell_type": "markdown",
   "id": "a611717f-4241-4a62-acbd-ae6cf6d2b24b",
   "metadata": {},
   "source": [
    "次のコードは、列名を大文字に対応するように置き換えます。"
   ]
  },
  {
   "cell_type": "code",
   "execution_count": 6,
   "id": "0cc4f28b-ae0d-45df-ae28-12d2f6fb2962",
   "metadata": {},
   "outputs": [
    {
     "data": {
      "text/html": [
       "<table><tr><td><div><style>\n",
       ".dataframe > thead > tr,\n",
       ".dataframe > tbody > tr {\n",
       "  text-align: right;\n",
       "  white-space: pre-wrap;\n",
       "}\n",
       "</style>\n",
       "<small>shape: (4, 6)</small><table border=\"1\" class=\"dataframe\"><thead><tr><th>X</th><th>Y</th><th>Z</th><th>nx</th><th>ny</th><th>nz</th></tr><tr><td>i64</td><td>i64</td><td>i64</td><td>i64</td><td>i64</td><td>i64</td></tr></thead><tbody><tr><td>1</td><td>2</td><td>1</td><td>1</td><td>0</td><td>0</td></tr><tr><td>2</td><td>1</td><td>0</td><td>1</td><td>0</td><td>0</td></tr><tr><td>3</td><td>3</td><td>0</td><td>1</td><td>0</td><td>0</td></tr><tr><td>4</td><td>2</td><td>5</td><td>1</td><td>0</td><td>0</td></tr></tbody></table></div></td><td><div><style>\n",
       ".dataframe > thead > tr,\n",
       ".dataframe > tbody > tr {\n",
       "  text-align: right;\n",
       "  white-space: pre-wrap;\n",
       "}\n",
       "</style>\n",
       "<small>shape: (4, 3)</small><table border=\"1\" class=\"dataframe\"><thead><tr><th>rx</th><th>ry</th><th>rz</th></tr><tr><td>f64</td><td>f64</td><td>f64</td></tr></thead><tbody><tr><td>1.0</td><td>1.232051</td><td>1.866025</td></tr><tr><td>2.0</td><td>0.866025</td><td>0.5</td></tr><tr><td>3.0</td><td>2.598076</td><td>1.5</td></tr><tr><td>4.0</td><td>-0.767949</td><td>5.330127</td></tr></tbody></table></div></td></tr></table>"
      ]
     },
     "metadata": {},
     "output_type": "display_data"
    }
   ],
   "source": [
    "rot_expr3 = expression_replace(\n",
    "    rot_expr, \n",
    "    x='X', y='Y', z='Z', \n",
    "    angle=pl.lit(30)\n",
    ")\n",
    "\n",
    "df3 = df.select(pl.col('x', 'y', 'z').name.to_uppercase(), pl.col('nx', 'ny', 'nz'))\n",
    "df3_rot = df3.select(rot_expr3.struct.unnest())\n",
    "row(df3, df3_rot)"
   ]
  },
  {
   "cell_type": "markdown",
   "id": "9e823e85-11a2-4de7-972a-a6c4c9da3266",
   "metadata": {},
   "source": [
    "## SymPyの式からPolarsの演算式への変換\n",
    "\n",
    "本書が提供する `helper.polars.sympy_to_polars` を使用すると、SymPyの数式をPolarsの演算式に自動変換できます。例えば、次のコードは `SymPy` の関数を用いて、三次元座標 $(x, y, z)$ をそれぞれZ軸、Y軸、X軸周りに $\\gamma$、$\\beta$、$\\alpha$ 度回転させるものです。結果として得られる数式は、かなり複雑になります。"
   ]
  },
  {
   "cell_type": "code",
   "execution_count": 1,
   "id": "9e3ee35e-80af-4c88-b3d6-b5889d6f6aab",
   "metadata": {},
   "outputs": [
    {
     "data": {
      "text/latex": [
       "$\\displaystyle x \\left(\\sin{\\left(\\frac{\\pi \\alpha}{180} \\right)} \\cos{\\left(\\frac{\\pi \\beta}{180} \\right)} + \\sin{\\left(\\frac{\\pi \\beta}{180} \\right)} \\cos{\\left(\\frac{\\pi \\alpha}{180} \\right)}\\right) \\sin{\\left(\\frac{\\pi \\gamma}{180} \\right)} + y \\left(- \\sin{\\left(\\frac{\\pi \\alpha}{180} \\right)} \\sin{\\left(\\frac{\\pi \\beta}{180} \\right)} + \\cos{\\left(\\frac{\\pi \\alpha}{180} \\right)} \\cos{\\left(\\frac{\\pi \\beta}{180} \\right)}\\right) + z \\left(\\sin{\\left(\\frac{\\pi \\alpha}{180} \\right)} \\cos{\\left(\\frac{\\pi \\beta}{180} \\right)} + \\sin{\\left(\\frac{\\pi \\beta}{180} \\right)} \\cos{\\left(\\frac{\\pi \\alpha}{180} \\right)}\\right) \\cos{\\left(\\frac{\\pi \\gamma}{180} \\right)}$"
      ],
      "text/plain": [
       "x*(sin(pi*alpha/180)*cos(pi*beta/180) + sin(pi*beta/180)*cos(pi*alpha/180))*sin(pi*gamma/180) + y*(-sin(pi*alpha/180)*sin(pi*beta/180) + cos(pi*alpha/180)*cos(pi*beta/180)) + z*(sin(pi*alpha/180)*cos(pi*beta/180) + sin(pi*beta/180)*cos(pi*alpha/180))*cos(pi*gamma/180)"
      ]
     },
     "execution_count": 1,
     "metadata": {},
     "output_type": "execute_result"
    }
   ],
   "source": [
    "import sympy as sp\n",
    "x, y, z, a, b, r = sp.symbols(\"x y z alpha beta gamma\")\n",
    "xr, yr, zr = sp.rot_axis1(sp.rad(a)) * sp.rot_axis1(sp.rad(b)) * sp.rot_axis2(sp.rad(r)) * sp.Matrix([x, y, z])\n",
    "yr"
   ]
  },
  {
   "cell_type": "markdown",
   "id": "c365b717-9631-496f-8880-839600245f6d",
   "metadata": {},
   "source": [
    "次に、`sympy_to_polars()` を使用して、数式 $x_r$、$y_r$、$z_r$ を Polars の演算式に変換します。列名をカスタマイズしたい場合は、`symbol_map` 引数に SymPy のシンボルと対応する列名の辞書を渡します。"
   ]
  },
  {
   "cell_type": "code",
   "execution_count": 6,
   "id": "7b8c9a00-9ac9-4d75-9d25-f452fcf464c0",
   "metadata": {},
   "outputs": [
    {
     "name": "stdout",
     "output_type": "stream",
     "text": [
      "[([([(col(\"y\")) * ([([([([(dyn float: 0.005556) * (dyn float: 3.141593)]) * (col(\"alpha\"))].cos()) * ([([(dyn float: 0.005556) * (dyn float: 3.141593)]) * (col(\"beta\"))].cos())]) + ([([(dyn float: -1.0) * ([([(dyn float: 0.005556) * (dyn float: 3.141593)]) * (col(\"alpha\"))].sin())]) * ([([(dyn float: 0.005556) * (dyn float: 3.141593)]) * (col(\"beta\"))].sin())])])]) + ([([(col(\"x\")) * ([([([([(dyn float: 0.005556) * (dyn float: 3.141593)]) * (col(\"alpha\"))].cos()) * ([([(dyn float: 0.005556) * (dyn float: 3.141593)]) * (col(\"beta\"))].sin())]) + ([([([(dyn float: 0.005556) * (dyn float: 3.141593)]) * (col(\"beta\"))].cos()) * ([([(dyn float: 0.005556) * (dyn float: 3.141593)]) * (col(\"alpha\"))].sin())])])]) * ([([(dyn float: 0.005556) * (dyn float: 3.141593)]) * (col(\"gamma\"))].sin())])]) + ([([(col(\"z\")) * ([([([([(dyn float: 0.005556) * (dyn float: 3.141593)]) * (col(\"alpha\"))].cos()) * ([([(dyn float: 0.005556) * (dyn float: 3.141593)]) * (col(\"beta\"))].sin())]) + ([([([(dyn float: 0.005556) * (dyn float: 3.141593)]) * (col(\"beta\"))].cos()) * ([([(dyn float: 0.005556) * (dyn float: 3.141593)]) * (col(\"alpha\"))].sin())])])]) * ([([(dyn float: 0.005556) * (dyn float: 3.141593)]) * (col(\"gamma\"))].cos())])]\n"
     ]
    }
   ],
   "source": [
    "from helper.polars import sympy_to_polars\n",
    "xr_expr, yr_expr, zr_expr = [sympy_to_polars(expr) for expr in (xr, yr, zr)]\n",
    "print(yr_expr)"
   ]
  },
  {
   "cell_type": "markdown",
   "id": "73c21e77-4b6a-42d7-97f1-fe0accede425",
   "metadata": {},
   "source": [
    "次のコードは、自動生成された演算式と SymPy の数式の結果を比較します。  "
   ]
  },
  {
   "cell_type": "code",
   "execution_count": 7,
   "id": "b687e04e-cda0-421a-bf06-68d9c9175473",
   "metadata": {},
   "outputs": [
    {
     "data": {
      "text/html": [
       "<table><tr><td><div><style>\n",
       ".dataframe > thead > tr,\n",
       ".dataframe > tbody > tr {\n",
       "  text-align: right;\n",
       "  white-space: pre-wrap;\n",
       "}\n",
       "</style>\n",
       "<small>shape: (4, 3)</small><table border=\"1\" class=\"dataframe\"><thead><tr><th>xr</th><th>yr</th><th>zr</th></tr><tr><td>f64</td><td>f64</td><td>f64</td></tr></thead><tbody><tr><td>0.909039</td><td>2.228453</td><td>-0.455681</td></tr><tr><td>1.992389</td><td>0.349042</td><td>-0.953181</td></tr><tr><td>2.988584</td><td>2.908505</td><td>-0.780362</td></tr><tr><td>4.420558</td><td>2.0</td><td>4.632351</td></tr></tbody></table></div></td><td><div><style>\n",
       ".dataframe > thead > tr,\n",
       ".dataframe > tbody > tr {\n",
       "  text-align: right;\n",
       "  white-space: pre-wrap;\n",
       "}\n",
       "</style>\n",
       "<small>shape: (4, 3)</small><table border=\"1\" class=\"dataframe\"><thead><tr><th>xr</th><th>yr</th><th>zr</th></tr><tr><td>f64</td><td>f64</td><td>f64</td></tr></thead><tbody><tr><td>0.909039</td><td>2.228453</td><td>-0.455681</td></tr><tr><td>1.992389</td><td>0.349042</td><td>-0.953181</td></tr><tr><td>2.988584</td><td>2.908505</td><td>-0.780362</td></tr><tr><td>4.420558</td><td>2.0</td><td>4.632351</td></tr></tbody></table></div></td></tr></table>"
      ]
     },
     "metadata": {},
     "output_type": "display_data"
    }
   ],
   "source": [
    "df = pl.DataFrame(dict(\n",
    "    x=[1, 2, 3, 4],\n",
    "    y=[2, 1, 3, 2],\n",
    "    z=[1, 0, 0, 5],\n",
    "    alpha=[30, 40, 50, 60],\n",
    "    beta=[10, 20, -30, -60],\n",
    "    gamma=[5, -5, 5, -5],\n",
    ")).select(pl.all().cast(pl.Float64))\n",
    "\n",
    "df_pl = df.select(xr=xr_expr, yr=yr_expr, zr=zr_expr)\n",
    "df_sp = pl.DataFrame([\n",
    "    {\n",
    "        'xr':xr.evalf(subs=row),\n",
    "        'yr':yr.evalf(subs=row),\n",
    "        'zr':zr.evalf(subs=row)\n",
    "    }\n",
    "    for row in df.rows(named=True)\n",
    "])\n",
    "\n",
    "row(df_sp, df_pl)"
   ]
  },
  {
   "cell_type": "markdown",
   "id": "d92d5651-574a-4d60-8a9a-b9128b13ce7a",
   "metadata": {},
   "source": [
    "Polars は複数の演算式を計算するとき、自動的に最適化を行うため、重複した計算が発生しません。例えば、次のコードは最適化後の演算式を出力します。この結果から、一部の中間演算式が計算され、一時的な列に保存されます。その後の計算では、この中間演算式の結果が利用されます。この最適化手法は CSE（Common Subexpression Elimination、共通式最適化）と呼ばれます。  "
   ]
  },
  {
   "cell_type": "code",
   "execution_count": 8,
   "id": "3ed0087f-d1b8-404e-9b98-37c1eb28d53d",
   "metadata": {},
   "outputs": [
    {
     "name": "stdout",
     "output_type": "stream",
     "text": [
      " SELECT [[([(col(\"x\")) * (col(\"__POLARS_CSER_0x325c7f0cbb2c6798\"))]) + ([([(-1.0) * (col(\"z\"))]) * (col(\"__POLARS_CSER_0xfdbe18a8ff7a55d1\"))])].alias(\"xr\"), [([([(col(\"y\")) * (col(\"__POLARS_CSER_0x26587b5bf934a9ce\"))]) + ([([(col(\"x\")) * (col(\"__POLARS_CSER_0xb6627accea681324\"))]) * (col(\"__POLARS_CSER_0xfdbe18a8ff7a55d1\"))])]) + ([([(col(\"z\")) * (col(\"__POLARS_CSER_0xb6627accea681324\"))]) * (col(\"__POLARS_CSER_0x325c7f0cbb2c6798\"))])].alias(\"yr\"), [([([(col(\"y\")) * ([([([(-1.0) * (col(\"__POLARS_CSER_0x99a1e19470509847\"))]) * (col(\"__POLARS_CSER_0xc6772e7ead98e974\"))]) + ([([(-1.0) * (col(\"__POLARS_CSER_0x3e1489e2e16ebebd\"))]) * (col(\"__POLARS_CSER_0x410f5a304c0eaa8e\"))])])]) + ([([(col(\"x\")) * (col(\"__POLARS_CSER_0x26587b5bf934a9ce\"))]) * (col(\"__POLARS_CSER_0xfdbe18a8ff7a55d1\"))])]) + ([([(col(\"z\")) * (col(\"__POLARS_CSER_0x26587b5bf934a9ce\"))]) * (col(\"__POLARS_CSER_0x325c7f0cbb2c6798\"))])].alias(\"zr\")] FROM\n",
      "   WITH_COLUMNS:\n",
      "   [[(0.017453) * (col(\"gamma\"))].sin().alias(\"__POLARS_CSER_0xfdbe18a8ff7a55d1\"), [(0.017453) * (col(\"beta\"))].sin().alias(\"__POLARS_CSER_0xc6772e7ead98e974\"), [([([(0.017453) * (col(\"alpha\"))].cos()) * ([(0.017453) * (col(\"beta\"))].sin())]) + ([([(0.017453) * (col(\"beta\"))].cos()) * ([(0.017453) * (col(\"alpha\"))].sin())])].alias(\"__POLARS_CSER_0xb6627accea681324\"), [(0.017453) * (col(\"alpha\"))].cos().alias(\"__POLARS_CSER_0x99a1e19470509847\"), [(0.017453) * (col(\"gamma\"))].cos().alias(\"__POLARS_CSER_0x325c7f0cbb2c6798\"), [(0.017453) * (col(\"beta\"))].cos().alias(\"__POLARS_CSER_0x3e1489e2e16ebebd\"), [([([(0.017453) * (col(\"alpha\"))].cos()) * ([(0.017453) * (col(\"beta\"))].cos())]) + ([([(-1.0) * ([(0.017453) * (col(\"alpha\"))].sin())]) * ([(0.017453) * (col(\"beta\"))].sin())])].alias(\"__POLARS_CSER_0x26587b5bf934a9ce\"), [(0.017453) * (col(\"alpha\"))].sin().alias(\"__POLARS_CSER_0x410f5a304c0eaa8e\")] \n",
      "    DF [\"x\", \"y\", \"z\", \"alpha\", ...]; PROJECT[\"x\", \"gamma\", \"z\", \"y\", ...] 6/6 COLUMNS\n"
     ]
    }
   ],
   "source": [
    "print(df.lazy().select(xr=xr_expr, yr=yr_expr, zr=zr_expr).explain())"
   ]
  }
 ],
 "metadata": {
  "kernelspec": {
   "display_name": "Python 3 (ipykernel)",
   "language": "python",
   "name": "python3"
  },
  "language_info": {
   "codemirror_mode": {
    "name": "ipython",
    "version": 3
   },
   "file_extension": ".py",
   "mimetype": "text/x-python",
   "name": "python",
   "nbconvert_exporter": "python",
   "pygments_lexer": "ipython3",
   "version": "3.12.2"
  },
  "widgets": {
   "application/vnd.jupyter.widget-state+json": {
    "state": {
     "00b5beb89b6848dab2b060b5585850a7": {
      "model_module": "@jupyter-widgets/base",
      "model_module_version": "2.0.0",
      "model_name": "LayoutModel",
      "state": {}
     },
     "019b445b6022402cb7c17f58744e8188": {
      "model_module": "@jupyter-widgets/base",
      "model_module_version": "2.0.0",
      "model_name": "LayoutModel",
      "state": {}
     },
     "0d295c4425184b1684dbe890f2c81403": {
      "model_module": "@jupyter-widgets/output",
      "model_module_version": "1.0.0",
      "model_name": "OutputModel",
      "state": {
       "layout": "IPY_MODEL_753aa24437124ea9a717447ee0198327",
       "outputs": [
        {
         "data": {
          "text/html": "<div><style>\n.dataframe > thead > tr,\n.dataframe > tbody > tr {\n  text-align: right;\n  white-space: pre-wrap;\n}\n</style>\n<small>shape: (2, 3)</small><table border=\"1\" class=\"dataframe\"><thead><tr><th>department</th><th>average_score</th><th>max_age</th></tr><tr><td>str</td><td>f64</td><td>i64</td></tr></thead><tbody><tr><td>&quot;HR&quot;</td><td>90.75</td><td>45</td></tr><tr><td>&quot;IT&quot;</td><td>88.0</td><td>40</td></tr></tbody></table></div>"
         },
         "metadata": {},
         "output_type": "display_data"
        }
       ]
      }
     },
     "1493a4c705714324a49728260103dc95": {
      "model_module": "@jupyter-widgets/output",
      "model_module_version": "1.0.0",
      "model_name": "OutputModel",
      "state": {
       "layout": "IPY_MODEL_3ce8029ba640496e8911117538663333",
       "outputs": [
        {
         "data": {
          "text/html": "<div><style>\n.dataframe > thead > tr,\n.dataframe > tbody > tr {\n  text-align: right;\n  white-space: pre-wrap;\n}\n</style>\n<small>shape: (2, 3)</small><table border=\"1\" class=\"dataframe\"><thead><tr><th>department</th><th>average_score</th><th>max_age</th></tr><tr><td>str</td><td>f64</td><td>i64</td></tr></thead><tbody><tr><td>&quot;IT&quot;</td><td>88.0</td><td>40</td></tr><tr><td>&quot;HR&quot;</td><td>90.75</td><td>45</td></tr></tbody></table></div>"
         },
         "metadata": {},
         "output_type": "display_data"
        }
       ]
      }
     },
     "19ff920bb9fe4eb8bb874eb5700e4e87": {
      "model_module": "@jupyter-widgets/base",
      "model_module_version": "2.0.0",
      "model_name": "LayoutModel",
      "state": {}
     },
     "1c82d9eaeed242c6a5bf5b1c3f711a3b": {
      "model_module": "@jupyter-widgets/output",
      "model_module_version": "1.0.0",
      "model_name": "OutputModel",
      "state": {
       "layout": "IPY_MODEL_19ff920bb9fe4eb8bb874eb5700e4e87",
       "outputs": [
        {
         "data": {
          "text/markdown": "## filter\n\n### args\n* `[(col(\"age\")) > (dyn int: 30)]`\n\n### kws"
         },
         "metadata": {},
         "output_type": "display_data"
        }
       ]
      }
     },
     "1ed41523cf1548b9b5d5d38482433dbb": {
      "model_module": "@jupyter-widgets/base",
      "model_module_version": "2.0.0",
      "model_name": "LayoutModel",
      "state": {}
     },
     "216e9e8fc59347a6a285fa770e6c84fd": {
      "model_module": "@jupyter-widgets/base",
      "model_module_version": "2.0.0",
      "model_name": "LayoutModel",
      "state": {}
     },
     "21c4561ade5f431890020e366b4e2ea2": {
      "model_module": "@jupyter-widgets/controls",
      "model_module_version": "2.0.0",
      "model_name": "TabModel",
      "state": {
       "children": [
        "IPY_MODEL_e1839f1d3c22454a95c41650951e82ba",
        "IPY_MODEL_bd6fbb207f0846b0b7e0e66f6fef763a",
        "IPY_MODEL_6f82adb79434451babc7da9dd8938cac",
        "IPY_MODEL_3660db5b356340c6bcc27ed2c1cf7825",
        "IPY_MODEL_8a290c19108b4d10bc7425298cbeb09f"
       ],
       "layout": "IPY_MODEL_65cb581f2b39456f80a65f6425cbac36",
       "selected_index": 0,
       "titles": [
        "filter",
        "with_columns",
        "group_by",
        "agg",
        "sort"
       ]
      }
     },
     "30070d1efd304c4ca0c29d88337485eb": {
      "model_module": "@jupyter-widgets/base",
      "model_module_version": "2.0.0",
      "model_name": "LayoutModel",
      "state": {}
     },
     "3660db5b356340c6bcc27ed2c1cf7825": {
      "model_module": "@jupyter-widgets/controls",
      "model_module_version": "2.0.0",
      "model_name": "VBoxModel",
      "state": {
       "children": [
        "IPY_MODEL_48150f0cafca40b1ae42090c09dd2f29",
        "IPY_MODEL_a53f72df7e28472892f78120661b1e3f"
       ],
       "layout": "IPY_MODEL_926401b2eba54e91a10834b9cf47960c"
      }
     },
     "3820e418766f47af9f382c96505a0d62": {
      "model_module": "@jupyter-widgets/base",
      "model_module_version": "2.0.0",
      "model_name": "LayoutModel",
      "state": {}
     },
     "38d95b3229cb41acb15ce5b2dd0130c7": {
      "model_module": "@jupyter-widgets/base",
      "model_module_version": "2.0.0",
      "model_name": "LayoutModel",
      "state": {}
     },
     "3ce8029ba640496e8911117538663333": {
      "model_module": "@jupyter-widgets/base",
      "model_module_version": "2.0.0",
      "model_name": "LayoutModel",
      "state": {}
     },
     "3f718e36023f43bc94414d6c951fdfda": {
      "model_module": "@jupyter-widgets/output",
      "model_module_version": "1.0.0",
      "model_name": "OutputModel",
      "state": {
       "layout": "IPY_MODEL_00b5beb89b6848dab2b060b5585850a7",
       "outputs": [
        {
         "data": {
          "text/html": "<div><style>\n.dataframe > thead > tr,\n.dataframe > tbody > tr {\n  text-align: right;\n  white-space: pre-wrap;\n}\n</style>\n<small>shape: (3, 5)</small><table border=\"1\" class=\"dataframe\"><thead><tr><th>name</th><th>age</th><th>score</th><th>department</th><th>adjusted_score</th></tr><tr><td>str</td><td>i64</td><td>i64</td><td>str</td><td>f64</td></tr></thead><tbody><tr><td>&quot;Charlie&quot;</td><td>35</td><td>95</td><td>&quot;HR&quot;</td><td>104.5</td></tr><tr><td>&quot;David&quot;</td><td>40</td><td>80</td><td>&quot;IT&quot;</td><td>88.0</td></tr><tr><td>&quot;Eve&quot;</td><td>45</td><td>70</td><td>&quot;HR&quot;</td><td>77.0</td></tr></tbody></table></div>"
         },
         "metadata": {},
         "output_type": "display_data"
        }
       ]
      }
     },
     "400f254b01ee48f8a7f57e3bc0e1bc8e": {
      "model_module": "@jupyter-widgets/base",
      "model_module_version": "2.0.0",
      "model_name": "LayoutModel",
      "state": {}
     },
     "4393ee25ba134c599053160d914e2b49": {
      "model_module": "@jupyter-widgets/output",
      "model_module_version": "1.0.0",
      "model_name": "OutputModel",
      "state": {
       "layout": "IPY_MODEL_fae42487ee0240d692b402f4baabea66",
       "outputs": [
        {
         "data": {
          "text/markdown": "## sort\n\n### args\n* `average_score`\n\n### kws\n* descending=`True`"
         },
         "metadata": {},
         "output_type": "display_data"
        }
       ]
      }
     },
     "4767c8e93b2c43978eb8a221780d6ab3": {
      "model_module": "@jupyter-widgets/output",
      "model_module_version": "1.0.0",
      "model_name": "OutputModel",
      "state": {
       "layout": "IPY_MODEL_c39bd1889d754d64814c0d3bb0bf96e3",
       "outputs": [
        {
         "data": {
          "text/html": "<div><style>\n.dataframe > thead > tr,\n.dataframe > tbody > tr {\n  text-align: right;\n  white-space: pre-wrap;\n}\n</style>\n<small>shape: (3, 4)</small><table border=\"1\" class=\"dataframe\"><thead><tr><th>name</th><th>age</th><th>score</th><th>department</th></tr><tr><td>str</td><td>i64</td><td>i64</td><td>str</td></tr></thead><tbody><tr><td>&quot;Charlie&quot;</td><td>35</td><td>95</td><td>&quot;HR&quot;</td></tr><tr><td>&quot;David&quot;</td><td>40</td><td>80</td><td>&quot;IT&quot;</td></tr><tr><td>&quot;Eve&quot;</td><td>45</td><td>70</td><td>&quot;HR&quot;</td></tr></tbody></table></div>"
         },
         "metadata": {},
         "output_type": "display_data"
        }
       ]
      }
     },
     "48150f0cafca40b1ae42090c09dd2f29": {
      "model_module": "@jupyter-widgets/output",
      "model_module_version": "1.0.0",
      "model_name": "OutputModel",
      "state": {
       "layout": "IPY_MODEL_38d95b3229cb41acb15ce5b2dd0130c7",
       "outputs": [
        {
         "data": {
          "text/markdown": "## agg\n\n### args\n* `[<Expr ['col(\"adjusted_score\").mean().a…'] at 0x15691376FD0>, <Expr ['col(\"age\").max().alias(\"max_ag…'] at 0x15691374C50>]`\n\n### kws"
         },
         "metadata": {},
         "output_type": "display_data"
        }
       ]
      }
     },
     "48227b253c5e4cbcb4a6158c9eeb36bf": {
      "model_module": "@jupyter-widgets/output",
      "model_module_version": "1.0.0",
      "model_name": "OutputModel",
      "state": {
       "layout": "IPY_MODEL_019b445b6022402cb7c17f58744e8188",
       "outputs": [
        {
         "data": {
          "text/html": "<div><style>\n.dataframe > thead > tr,\n.dataframe > tbody > tr {\n  text-align: right;\n  white-space: pre-wrap;\n}\n</style>\n<small>shape: (2, 3)</small><table border=\"1\" class=\"dataframe\"><thead><tr><th>department</th><th>average_score</th><th>max_age</th></tr><tr><td>str</td><td>f64</td><td>i64</td></tr></thead><tbody><tr><td>&quot;IT&quot;</td><td>88.0</td><td>40</td></tr><tr><td>&quot;HR&quot;</td><td>90.75</td><td>45</td></tr></tbody></table></div>"
         },
         "metadata": {},
         "output_type": "display_data"
        }
       ]
      }
     },
     "4e1e8d8865b84f10976ac706d2bf1087": {
      "model_module": "@jupyter-widgets/base",
      "model_module_version": "2.0.0",
      "model_name": "LayoutModel",
      "state": {}
     },
     "6212fabfc3bd459f80b5bb4e230db09e": {
      "model_module": "@jupyter-widgets/output",
      "model_module_version": "1.0.0",
      "model_name": "OutputModel",
      "state": {
       "layout": "IPY_MODEL_30070d1efd304c4ca0c29d88337485eb",
       "outputs": [
        {
         "data": {
          "text/plain": "<polars.dataframe.group_by.GroupBy at 0x15691359a50>"
         },
         "metadata": {},
         "output_type": "display_data"
        }
       ]
      }
     },
     "65cb581f2b39456f80a65f6425cbac36": {
      "model_module": "@jupyter-widgets/base",
      "model_module_version": "2.0.0",
      "model_name": "LayoutModel",
      "state": {}
     },
     "6973facd26e24ab1a67e8b32e03cdfa3": {
      "model_module": "@jupyter-widgets/base",
      "model_module_version": "2.0.0",
      "model_name": "LayoutModel",
      "state": {}
     },
     "6f82adb79434451babc7da9dd8938cac": {
      "model_module": "@jupyter-widgets/controls",
      "model_module_version": "2.0.0",
      "model_name": "VBoxModel",
      "state": {
       "children": [
        "IPY_MODEL_dd179cf2d9284f828d8a1653ab9ff236",
        "IPY_MODEL_f60d0555e30e4dca9eddb178401bcce8"
       ],
       "layout": "IPY_MODEL_1ed41523cf1548b9b5d5d38482433dbb"
      }
     },
     "71c6dac7cfc040619a6f82f48160ffdb": {
      "model_module": "@jupyter-widgets/output",
      "model_module_version": "1.0.0",
      "model_name": "OutputModel",
      "state": {
       "layout": "IPY_MODEL_98445a22da8242be8b7cda03f00cae78",
       "outputs": [
        {
         "data": {
          "text/plain": "<polars.dataframe.group_by.GroupBy at 0x15691359a50>"
         },
         "metadata": {},
         "output_type": "display_data"
        }
       ]
      }
     },
     "753aa24437124ea9a717447ee0198327": {
      "model_module": "@jupyter-widgets/base",
      "model_module_version": "2.0.0",
      "model_name": "LayoutModel",
      "state": {}
     },
     "7daf44661670439eb99e7723cc340a16": {
      "model_module": "@jupyter-widgets/base",
      "model_module_version": "2.0.0",
      "model_name": "LayoutModel",
      "state": {}
     },
     "8200726453644752b2b8960c797531ac": {
      "model_module": "@jupyter-widgets/controls",
      "model_module_version": "2.0.0",
      "model_name": "HBoxModel",
      "state": {
       "children": [
        "IPY_MODEL_c29d9b7692e74f35aba22d2410092126",
        "IPY_MODEL_3f718e36023f43bc94414d6c951fdfda"
       ],
       "layout": "IPY_MODEL_4e1e8d8865b84f10976ac706d2bf1087"
      }
     },
     "83a37c40d8ce4c96aa24aa7222311395": {
      "model_module": "@jupyter-widgets/base",
      "model_module_version": "2.0.0",
      "model_name": "LayoutModel",
      "state": {}
     },
     "8a290c19108b4d10bc7425298cbeb09f": {
      "model_module": "@jupyter-widgets/controls",
      "model_module_version": "2.0.0",
      "model_name": "VBoxModel",
      "state": {
       "children": [
        "IPY_MODEL_4393ee25ba134c599053160d914e2b49",
        "IPY_MODEL_b8810df37244496d8af3544640866357"
       ],
       "layout": "IPY_MODEL_216e9e8fc59347a6a285fa770e6c84fd"
      }
     },
     "90d1755c4bda431591bec2103487d5f9": {
      "model_module": "@jupyter-widgets/base",
      "model_module_version": "2.0.0",
      "model_name": "LayoutModel",
      "state": {}
     },
     "926401b2eba54e91a10834b9cf47960c": {
      "model_module": "@jupyter-widgets/base",
      "model_module_version": "2.0.0",
      "model_name": "LayoutModel",
      "state": {}
     },
     "98445a22da8242be8b7cda03f00cae78": {
      "model_module": "@jupyter-widgets/base",
      "model_module_version": "2.0.0",
      "model_name": "LayoutModel",
      "state": {}
     },
     "99703f98bd504c6ca9aaf854835fd996": {
      "model_module": "@jupyter-widgets/output",
      "model_module_version": "1.0.0",
      "model_name": "OutputModel",
      "state": {
       "layout": "IPY_MODEL_9b004087100449ba9b9ec8c52de7c510",
       "outputs": [
        {
         "data": {
          "text/html": "<div><style>\n.dataframe > thead > tr,\n.dataframe > tbody > tr {\n  text-align: right;\n  white-space: pre-wrap;\n}\n</style>\n<small>shape: (3, 5)</small><table border=\"1\" class=\"dataframe\"><thead><tr><th>name</th><th>age</th><th>score</th><th>department</th><th>adjusted_score</th></tr><tr><td>str</td><td>i64</td><td>i64</td><td>str</td><td>f64</td></tr></thead><tbody><tr><td>&quot;Charlie&quot;</td><td>35</td><td>95</td><td>&quot;HR&quot;</td><td>104.5</td></tr><tr><td>&quot;David&quot;</td><td>40</td><td>80</td><td>&quot;IT&quot;</td><td>88.0</td></tr><tr><td>&quot;Eve&quot;</td><td>45</td><td>70</td><td>&quot;HR&quot;</td><td>77.0</td></tr></tbody></table></div>"
         },
         "metadata": {},
         "output_type": "display_data"
        }
       ]
      }
     },
     "9b004087100449ba9b9ec8c52de7c510": {
      "model_module": "@jupyter-widgets/base",
      "model_module_version": "2.0.0",
      "model_name": "LayoutModel",
      "state": {}
     },
     "9b93fc95a08a4f2cb8c9eadb5f4b3191": {
      "model_module": "@jupyter-widgets/base",
      "model_module_version": "2.0.0",
      "model_name": "LayoutModel",
      "state": {}
     },
     "a53f72df7e28472892f78120661b1e3f": {
      "model_module": "@jupyter-widgets/controls",
      "model_module_version": "2.0.0",
      "model_name": "HBoxModel",
      "state": {
       "children": [
        "IPY_MODEL_6212fabfc3bd459f80b5bb4e230db09e",
        "IPY_MODEL_1493a4c705714324a49728260103dc95"
       ],
       "layout": "IPY_MODEL_cdaae9878cbc42b1b13c71fa4b8bd624"
      }
     },
     "ab3beca6ecbe4b86888fe0b0281e1254": {
      "model_module": "@jupyter-widgets/controls",
      "model_module_version": "2.0.0",
      "model_name": "HBoxModel",
      "state": {
       "children": [
        "IPY_MODEL_e8f4a98017374edf9d851136b38988fa",
        "IPY_MODEL_4767c8e93b2c43978eb8a221780d6ab3"
       ],
       "layout": "IPY_MODEL_7daf44661670439eb99e7723cc340a16"
      }
     },
     "b72e045ce94f4abab24b61347e864c32": {
      "model_module": "@jupyter-widgets/base",
      "model_module_version": "2.0.0",
      "model_name": "LayoutModel",
      "state": {}
     },
     "b8810df37244496d8af3544640866357": {
      "model_module": "@jupyter-widgets/controls",
      "model_module_version": "2.0.0",
      "model_name": "HBoxModel",
      "state": {
       "children": [
        "IPY_MODEL_48227b253c5e4cbcb4a6158c9eeb36bf",
        "IPY_MODEL_0d295c4425184b1684dbe890f2c81403"
       ],
       "layout": "IPY_MODEL_400f254b01ee48f8a7f57e3bc0e1bc8e"
      }
     },
     "bd6fbb207f0846b0b7e0e66f6fef763a": {
      "model_module": "@jupyter-widgets/controls",
      "model_module_version": "2.0.0",
      "model_name": "VBoxModel",
      "state": {
       "children": [
        "IPY_MODEL_d022542941744a8b8c70bbb8b38057ee",
        "IPY_MODEL_8200726453644752b2b8960c797531ac"
       ],
       "layout": "IPY_MODEL_9b93fc95a08a4f2cb8c9eadb5f4b3191"
      }
     },
     "c29d9b7692e74f35aba22d2410092126": {
      "model_module": "@jupyter-widgets/output",
      "model_module_version": "1.0.0",
      "model_name": "OutputModel",
      "state": {
       "layout": "IPY_MODEL_6973facd26e24ab1a67e8b32e03cdfa3",
       "outputs": [
        {
         "data": {
          "text/html": "<div><style>\n.dataframe > thead > tr,\n.dataframe > tbody > tr {\n  text-align: right;\n  white-space: pre-wrap;\n}\n</style>\n<small>shape: (3, 4)</small><table border=\"1\" class=\"dataframe\"><thead><tr><th>name</th><th>age</th><th>score</th><th>department</th></tr><tr><td>str</td><td>i64</td><td>i64</td><td>str</td></tr></thead><tbody><tr><td>&quot;Charlie&quot;</td><td>35</td><td>95</td><td>&quot;HR&quot;</td></tr><tr><td>&quot;David&quot;</td><td>40</td><td>80</td><td>&quot;IT&quot;</td></tr><tr><td>&quot;Eve&quot;</td><td>45</td><td>70</td><td>&quot;HR&quot;</td></tr></tbody></table></div>"
         },
         "metadata": {},
         "output_type": "display_data"
        }
       ]
      }
     },
     "c39bd1889d754d64814c0d3bb0bf96e3": {
      "model_module": "@jupyter-widgets/base",
      "model_module_version": "2.0.0",
      "model_name": "LayoutModel",
      "state": {}
     },
     "cdaae9878cbc42b1b13c71fa4b8bd624": {
      "model_module": "@jupyter-widgets/base",
      "model_module_version": "2.0.0",
      "model_name": "LayoutModel",
      "state": {}
     },
     "d022542941744a8b8c70bbb8b38057ee": {
      "model_module": "@jupyter-widgets/output",
      "model_module_version": "1.0.0",
      "model_name": "OutputModel",
      "state": {
       "layout": "IPY_MODEL_d4787c53004b4ff996ecf9da41ef7f06",
       "outputs": [
        {
         "data": {
          "text/markdown": "## with_columns\n\n### args\n* `[(col(\"score\")) * (dyn float: 1.1)].alias(\"adjusted_score\")`\n\n### kws"
         },
         "metadata": {},
         "output_type": "display_data"
        }
       ]
      }
     },
     "d4787c53004b4ff996ecf9da41ef7f06": {
      "model_module": "@jupyter-widgets/base",
      "model_module_version": "2.0.0",
      "model_name": "LayoutModel",
      "state": {}
     },
     "dd179cf2d9284f828d8a1653ab9ff236": {
      "model_module": "@jupyter-widgets/output",
      "model_module_version": "1.0.0",
      "model_name": "OutputModel",
      "state": {
       "layout": "IPY_MODEL_3820e418766f47af9f382c96505a0d62",
       "outputs": [
        {
         "data": {
          "text/markdown": "## group_by\n\n### args\n* `department`\n\n### kws"
         },
         "metadata": {},
         "output_type": "display_data"
        }
       ]
      }
     },
     "e1839f1d3c22454a95c41650951e82ba": {
      "model_module": "@jupyter-widgets/controls",
      "model_module_version": "2.0.0",
      "model_name": "VBoxModel",
      "state": {
       "children": [
        "IPY_MODEL_1c82d9eaeed242c6a5bf5b1c3f711a3b",
        "IPY_MODEL_ab3beca6ecbe4b86888fe0b0281e1254"
       ],
       "layout": "IPY_MODEL_90d1755c4bda431591bec2103487d5f9"
      }
     },
     "e8f4a98017374edf9d851136b38988fa": {
      "model_module": "@jupyter-widgets/output",
      "model_module_version": "1.0.0",
      "model_name": "OutputModel",
      "state": {
       "layout": "IPY_MODEL_83a37c40d8ce4c96aa24aa7222311395",
       "outputs": [
        {
         "data": {
          "text/html": "<div><style>\n.dataframe > thead > tr,\n.dataframe > tbody > tr {\n  text-align: right;\n  white-space: pre-wrap;\n}\n</style>\n<small>shape: (5, 4)</small><table border=\"1\" class=\"dataframe\"><thead><tr><th>name</th><th>age</th><th>score</th><th>department</th></tr><tr><td>str</td><td>i64</td><td>i64</td><td>str</td></tr></thead><tbody><tr><td>&quot;Alice&quot;</td><td>25</td><td>85</td><td>&quot;HR&quot;</td></tr><tr><td>&quot;Bob&quot;</td><td>30</td><td>90</td><td>&quot;IT&quot;</td></tr><tr><td>&quot;Charlie&quot;</td><td>35</td><td>95</td><td>&quot;HR&quot;</td></tr><tr><td>&quot;David&quot;</td><td>40</td><td>80</td><td>&quot;IT&quot;</td></tr><tr><td>&quot;Eve&quot;</td><td>45</td><td>70</td><td>&quot;HR&quot;</td></tr></tbody></table></div>"
         },
         "metadata": {},
         "output_type": "display_data"
        }
       ]
      }
     },
     "f60d0555e30e4dca9eddb178401bcce8": {
      "model_module": "@jupyter-widgets/controls",
      "model_module_version": "2.0.0",
      "model_name": "HBoxModel",
      "state": {
       "children": [
        "IPY_MODEL_99703f98bd504c6ca9aaf854835fd996",
        "IPY_MODEL_71c6dac7cfc040619a6f82f48160ffdb"
       ],
       "layout": "IPY_MODEL_b72e045ce94f4abab24b61347e864c32"
      }
     },
     "fae42487ee0240d692b402f4baabea66": {
      "model_module": "@jupyter-widgets/base",
      "model_module_version": "2.0.0",
      "model_name": "LayoutModel",
      "state": {}
     }
    },
    "version_major": 2,
    "version_minor": 0
   }
  }
 },
 "nbformat": 4,
 "nbformat_minor": 5
}

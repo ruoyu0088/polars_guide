{
 "cells": [
  {
   "cell_type": "markdown",
   "id": "fb7f1a45-436e-46e9-8b5b-99a3870eaea7",
   "metadata": {},
   "source": [
    "# 遅延演算"
   ]
  },
  {
   "cell_type": "code",
   "execution_count": 1,
   "id": "9e1f3774-f6da-4b35-aa0e-35dc445b2e7e",
   "metadata": {},
   "outputs": [],
   "source": [
    "import polars as pl\n",
    "import numpy as np\n",
    "import threading\n",
    "from helper.jupyter import row"
   ]
  },
  {
   "cell_type": "markdown",
   "id": "55181427-9f5a-479b-9429-965ff14bff0a",
   "metadata": {},
   "source": [
    "Polarsの遅延演算は、クエリを即時実行せず「実行計画」として蓄積し、最適化後に一括実行する仕組みです。主なメリットは以下です。\n",
    "\n",
    "- **自動最適化**: 不要な計算の省略・操作順序の最適化\n",
    "- **メモリ効率**: 必要なタイミングでのみ処理実行\n",
    "- **大規模データ対応**: メモリ不足のリスク低減"
   ]
  },
  {
   "cell_type": "markdown",
   "id": "9ff82809-5386-4051-a8ba-da03d415cbfb",
   "metadata": {},
   "source": [
    "## 基本フロー  \n",
    "\n",
    "1. `DataFrame.lazy()` メソッドで `LazyFrame` に変換するか、`scan_*()` 関数で直接ファイルから `LazyFrame` を取得します。  \n",
    "2. フィルタや集計などの処理チェーンを構築します。  \n",
    "3. `collect()` で最終実行するか、`explain()`や`show_graph()` で実行計画を確認します。  \n",
    "\n",
    "以下の例では、`df.lazy()` で `LazyFrame` に変換した後、`DataFrame` と同じメソッドを使って処理チェーンを構築します。  "
   ]
  },
  {
   "cell_type": "code",
   "execution_count": 4,
   "id": "bd2c7b8c-a379-4485-896a-7b31dea74f1d",
   "metadata": {},
   "outputs": [],
   "source": [
    "df = pl.DataFrame({\n",
    "    \"product\": [\"A\", \"B\", \"C\", \"A\", \"B\"],\n",
    "    \"category\": [\"X\", \"Y\", \"X\", \"Y\", \"X\"],\n",
    "    \"price\": [100, 200, 150, 300, 250],\n",
    "    \"quantity\": [5, 3, 4, 2, 6]\n",
    "})\n",
    "\n",
    "lazy_operations = (\n",
    "    df.lazy()\n",
    "    .filter(pl.col(\"price\") > 150)\n",
    "    .filter(pl.col(\"price\") < 280)\n",
    "    .group_by(\"category\")\n",
    "    .agg(pl.col(\"quantity\").sum().alias(\"total_quantity\"))\n",
    ")"
   ]
  },
  {
   "cell_type": "markdown",
   "id": "3a54b6c3-7b95-4044-9f72-d889a01fd404",
   "metadata": {},
   "source": [
    "`show_graph()` を使うと、実行計画を分析できます。`optimized` 引数を `True` にすると最適化後の計画を確認できます。以下の出力例のように、最適化後は 2 つの `FILTER` が 1 つの `SELECTION` に統合されます。  "
   ]
  },
  {
   "cell_type": "code",
   "execution_count": 5,
   "id": "7dbc81d9-c2b6-4a26-abfe-7013595b9075",
   "metadata": {},
   "outputs": [
    {
     "data": {
      "image/svg+xml": [
       "<svg xmlns=\"http://www.w3.org/2000/svg\" xmlns:xlink=\"http://www.w3.org/1999/xlink\" width=\"445pt\" height=\"287pt\" viewBox=\"0.00 0.00 445.00 287.00\">\n",
       "<g id=\"graph0\" class=\"graph\" transform=\"scale(1 1) rotate(0) translate(4 282.5)\">\n",
       "<title>polars_query</title>\n",
       "<polygon fill=\"white\" stroke=\"none\" points=\"-4,4 -4,-282.5 440.75,-282.5 440.75,4 -4,4\"/>\n",
       "<!-- p2 -->\n",
       "<g id=\"node1\" class=\"node\">\n",
       "<title>p2</title>\n",
       "<polygon fill=\"none\" stroke=\"black\" points=\"366.62,-185 70.12,-185 70.12,-149 366.62,-149 366.62,-185\"/>\n",
       "<text xml:space=\"preserve\" text-anchor=\"middle\" x=\"218.38\" y=\"-161.95\" font-family=\"Monospace\" font-size=\"14.00\">FILTER BY [(col(&quot;price&quot;)) &lt; (280)]</text>\n",
       "</g>\n",
       "<!-- p1 -->\n",
       "<g id=\"node2\" class=\"node\">\n",
       "<title>p1</title>\n",
       "<polygon fill=\"none\" stroke=\"black\" points=\"436.75,-278.5 0,-278.5 0,-221 436.75,-221 436.75,-278.5\"/>\n",
       "<text xml:space=\"preserve\" text-anchor=\"middle\" x=\"218.38\" y=\"-261.2\" font-family=\"Monospace\" font-size=\"14.00\">AGG [col(&quot;quantity&quot;).sum().alias(&quot;total_quantity&quot;)]</text>\n",
       "<text xml:space=\"preserve\" text-anchor=\"middle\" x=\"218.38\" y=\"-244.7\" font-family=\"Monospace\" font-size=\"14.00\">BY</text>\n",
       "<text xml:space=\"preserve\" text-anchor=\"middle\" x=\"218.38\" y=\"-228.2\" font-family=\"Monospace\" font-size=\"14.00\">[col(&quot;category&quot;)]</text>\n",
       "</g>\n",
       "<!-- p2&#45;&gt;p1 -->\n",
       "<g id=\"edge1\" class=\"edge\">\n",
       "<title>p2-&gt;p1</title>\n",
       "<path fill=\"none\" stroke=\"black\" d=\"M218.38,-185.12C218.38,-192.19 218.38,-200.7 218.38,-209.16\"/>\n",
       "<polygon fill=\"black\" stroke=\"black\" points=\"214.88,-209.02 218.38,-219.02 221.88,-209.02 214.88,-209.02\"/>\n",
       "</g>\n",
       "<!-- p3 -->\n",
       "<g id=\"node3\" class=\"node\">\n",
       "<title>p3</title>\n",
       "<polygon fill=\"none\" stroke=\"black\" points=\"366.62,-113 70.12,-113 70.12,-77 366.62,-77 366.62,-113\"/>\n",
       "<text xml:space=\"preserve\" text-anchor=\"middle\" x=\"218.38\" y=\"-89.95\" font-family=\"Monospace\" font-size=\"14.00\">FILTER BY [(col(&quot;price&quot;)) &gt; (150)]</text>\n",
       "</g>\n",
       "<!-- p3&#45;&gt;p2 -->\n",
       "<g id=\"edge2\" class=\"edge\">\n",
       "<title>p3-&gt;p2</title>\n",
       "<path fill=\"none\" stroke=\"black\" d=\"M218.38,-113.3C218.38,-120.59 218.38,-129.27 218.38,-137.46\"/>\n",
       "<polygon fill=\"black\" stroke=\"black\" points=\"214.88,-137.38 218.38,-147.38 221.88,-137.38 214.88,-137.38\"/>\n",
       "</g>\n",
       "<!-- p4 -->\n",
       "<g id=\"node4\" class=\"node\">\n",
       "<title>p4</title>\n",
       "<polygon fill=\"none\" stroke=\"black\" points=\"247,-41 189.75,-41 189.75,0 247,0 247,-41\"/>\n",
       "<text xml:space=\"preserve\" text-anchor=\"middle\" x=\"218.38\" y=\"-23.7\" font-family=\"Monospace\" font-size=\"14.00\">TABLE</text>\n",
       "<text xml:space=\"preserve\" text-anchor=\"middle\" x=\"218.38\" y=\"-7.2\" font-family=\"Monospace\" font-size=\"14.00\">π */4</text>\n",
       "</g>\n",
       "<!-- p4&#45;&gt;p3 -->\n",
       "<g id=\"edge3\" class=\"edge\">\n",
       "<title>p4-&gt;p3</title>\n",
       "<path fill=\"none\" stroke=\"black\" d=\"M218.38,-41.31C218.38,-48.75 218.38,-57.36 218.38,-65.43\"/>\n",
       "<polygon fill=\"black\" stroke=\"black\" points=\"214.88,-65.17 218.38,-75.17 221.88,-65.17 214.88,-65.17\"/>\n",
       "</g>\n",
       "</g>\n",
       "</svg>"
      ],
      "text/plain": [
       "<IPython.core.display.SVG object>"
      ]
     },
     "metadata": {},
     "output_type": "display_data"
    }
   ],
   "source": [
    "lazy_operations.show_graph(optimized=False)"
   ]
  },
  {
   "cell_type": "code",
   "execution_count": 7,
   "id": "17de5d2a-1ea9-44c9-8626-d8d7421de6c7",
   "metadata": {},
   "outputs": [
    {
     "data": {
      "image/svg+xml": [
       "<svg xmlns=\"http://www.w3.org/2000/svg\" xmlns:xlink=\"http://www.w3.org/1999/xlink\" width=\"577pt\" height=\"215pt\" viewBox=\"0.00 0.00 577.00 215.00\">\n",
       "<g id=\"graph0\" class=\"graph\" transform=\"scale(1 1) rotate(0) translate(4 210.5)\">\n",
       "<title>polars_query</title>\n",
       "<polygon fill=\"white\" stroke=\"none\" points=\"-4,4 -4,-210.5 572.75,-210.5 572.75,4 -4,4\"/>\n",
       "<!-- p2 -->\n",
       "<g id=\"node1\" class=\"node\">\n",
       "<title>p2</title>\n",
       "<polygon fill=\"none\" stroke=\"black\" points=\"568.75,-113 0,-113 0,-77 568.75,-77 568.75,-113\"/>\n",
       "<text xml:space=\"preserve\" text-anchor=\"middle\" x=\"284.38\" y=\"-89.95\" font-family=\"Monospace\" font-size=\"14.00\">FILTER BY [([(col(&quot;price&quot;)) &gt; (150)]) &amp; ([(col(&quot;price&quot;)) &lt; (280)])]</text>\n",
       "</g>\n",
       "<!-- p1 -->\n",
       "<g id=\"node2\" class=\"node\">\n",
       "<title>p1</title>\n",
       "<polygon fill=\"none\" stroke=\"black\" points=\"502.75,-206.5 66,-206.5 66,-149 502.75,-149 502.75,-206.5\"/>\n",
       "<text xml:space=\"preserve\" text-anchor=\"middle\" x=\"284.38\" y=\"-189.2\" font-family=\"Monospace\" font-size=\"14.00\">AGG [col(&quot;quantity&quot;).sum().alias(&quot;total_quantity&quot;)]</text>\n",
       "<text xml:space=\"preserve\" text-anchor=\"middle\" x=\"284.38\" y=\"-172.7\" font-family=\"Monospace\" font-size=\"14.00\">BY</text>\n",
       "<text xml:space=\"preserve\" text-anchor=\"middle\" x=\"284.38\" y=\"-156.2\" font-family=\"Monospace\" font-size=\"14.00\">[col(&quot;category&quot;)]</text>\n",
       "</g>\n",
       "<!-- p2&#45;&gt;p1 -->\n",
       "<g id=\"edge1\" class=\"edge\">\n",
       "<title>p2-&gt;p1</title>\n",
       "<path fill=\"none\" stroke=\"black\" d=\"M284.38,-113.12C284.38,-120.19 284.38,-128.7 284.38,-137.16\"/>\n",
       "<polygon fill=\"black\" stroke=\"black\" points=\"280.88,-137.02 284.38,-147.02 287.88,-137.02 280.88,-137.02\"/>\n",
       "</g>\n",
       "<!-- p3 -->\n",
       "<g id=\"node3\" class=\"node\">\n",
       "<title>p3</title>\n",
       "<polygon fill=\"none\" stroke=\"black\" points=\"313,-41 255.75,-41 255.75,0 313,0 313,-41\"/>\n",
       "<text xml:space=\"preserve\" text-anchor=\"middle\" x=\"284.38\" y=\"-23.7\" font-family=\"Monospace\" font-size=\"14.00\">TABLE</text>\n",
       "<text xml:space=\"preserve\" text-anchor=\"middle\" x=\"284.38\" y=\"-7.2\" font-family=\"Monospace\" font-size=\"14.00\">π 3/4</text>\n",
       "</g>\n",
       "<!-- p3&#45;&gt;p2 -->\n",
       "<g id=\"edge2\" class=\"edge\">\n",
       "<title>p3-&gt;p2</title>\n",
       "<path fill=\"none\" stroke=\"black\" d=\"M284.38,-41.31C284.38,-48.75 284.38,-57.36 284.38,-65.43\"/>\n",
       "<polygon fill=\"black\" stroke=\"black\" points=\"280.88,-65.17 284.38,-75.17 287.88,-65.17 280.88,-65.17\"/>\n",
       "</g>\n",
       "</g>\n",
       "</svg>"
      ],
      "text/plain": [
       "<IPython.core.display.SVG object>"
      ]
     },
     "metadata": {},
     "output_type": "display_data"
    }
   ],
   "source": [
    "lazy_operations.show_graph(optimized=True)"
   ]
  },
  {
   "cell_type": "markdown",
   "id": "559c7972-963e-4034-acc3-a6ada12167bc",
   "metadata": {},
   "source": [
    "演算結果を取得するには `collect()` メソッドを使用します。  "
   ]
  },
  {
   "cell_type": "code",
   "execution_count": 8,
   "id": "3e67149e-2fd1-488b-9526-04251b3c2f54",
   "metadata": {},
   "outputs": [
    {
     "data": {
      "text/html": [
       "<div><style>\n",
       ".dataframe > thead > tr,\n",
       ".dataframe > tbody > tr {\n",
       "  text-align: right;\n",
       "  white-space: pre-wrap;\n",
       "}\n",
       "</style>\n",
       "<small>shape: (2, 2)</small><table border=\"1\" class=\"dataframe\"><thead><tr><th>category</th><th>total_quantity</th></tr><tr><td>str</td><td>i64</td></tr></thead><tbody><tr><td>&quot;X&quot;</td><td>6</td></tr><tr><td>&quot;Y&quot;</td><td>3</td></tr></tbody></table></div>"
      ],
      "text/plain": [
       "shape: (2, 2)\n",
       "┌──────────┬────────────────┐\n",
       "│ category ┆ total_quantity │\n",
       "│ ---      ┆ ---            │\n",
       "│ str      ┆ i64            │\n",
       "╞══════════╪════════════════╡\n",
       "│ X        ┆ 6              │\n",
       "│ Y        ┆ 3              │\n",
       "└──────────┴────────────────┘"
      ]
     },
     "execution_count": 8,
     "metadata": {},
     "output_type": "execute_result"
    }
   ],
   "source": [
    "lazy_operations.collect()"
   ]
  },
  {
   "cell_type": "markdown",
   "id": "42f36e5e-e0fd-4e71-9410-4a94ab98a9bb",
   "metadata": {},
   "source": [
    "`collect()` 実行後も処理チェーンは保持されるため、`sort()` を追加して再実行することもできます。  "
   ]
  },
  {
   "cell_type": "code",
   "execution_count": 9,
   "id": "96b507c1-4038-4f07-82e1-c65bf738e264",
   "metadata": {},
   "outputs": [
    {
     "data": {
      "text/html": [
       "<div><style>\n",
       ".dataframe > thead > tr,\n",
       ".dataframe > tbody > tr {\n",
       "  text-align: right;\n",
       "  white-space: pre-wrap;\n",
       "}\n",
       "</style>\n",
       "<small>shape: (2, 2)</small><table border=\"1\" class=\"dataframe\"><thead><tr><th>category</th><th>total_quantity</th></tr><tr><td>str</td><td>i64</td></tr></thead><tbody><tr><td>&quot;X&quot;</td><td>6</td></tr><tr><td>&quot;Y&quot;</td><td>3</td></tr></tbody></table></div>"
      ],
      "text/plain": [
       "shape: (2, 2)\n",
       "┌──────────┬────────────────┐\n",
       "│ category ┆ total_quantity │\n",
       "│ ---      ┆ ---            │\n",
       "│ str      ┆ i64            │\n",
       "╞══════════╪════════════════╡\n",
       "│ X        ┆ 6              │\n",
       "│ Y        ┆ 3              │\n",
       "└──────────┴────────────────┘"
      ]
     },
     "execution_count": 9,
     "metadata": {},
     "output_type": "execute_result"
    }
   ],
   "source": [
    "lazy_operations.sort(\"total_quantity\", descending=True).collect()"
   ]
  },
  {
   "cell_type": "markdown",
   "id": "20c05d51-0d13-4a70-82c6-8467c2c0f138",
   "metadata": {},
   "source": [
    "次のテーブルで、遅延演算と即時実行の比較をまとめます。\n",
    "\n",
    "| 特徴                | 遅延演算 (Lazy)       | 即時実行 (Eager)       |\n",
    "|---------------------|-----------------------|------------------------|\n",
    "| 実行タイミング       | `collect()` で一括実行 | 各操作ごとに即時実行   |\n",
    "| 最適化              | 自動的に実施          | なし                   |\n",
    "| メモリ効率          | 高い                  | 低い（中間データ保持） |\n",
    "| 主な用途            | 大規模データ・複雑処理 | 小規模データ・簡易処理 |\n"
   ]
  },
  {
   "cell_type": "markdown",
   "id": "8c6fed23-92ce-4144-8ba3-731a3955cfd7",
   "metadata": {},
   "source": [
    "## ストリーミング処理\n",
    "\n",
    "\n",
    "Polarsのストリーミング処理は、大規模なデータセットを効率的に処理するための仕組みで、データを「チャンク」と呼ばれる小さな部分に分割し、逐次処理を行います。この手法により、メモリ消費を抑えながら高速なデータ処理が可能です。"
   ]
  },
  {
   "cell_type": "code",
   "execution_count": 11,
   "id": "03da3c60-3d04-4021-95e3-0b5e9cf5ed45",
   "metadata": {},
   "outputs": [],
   "source": [
    "n = 1000\n",
    "df = pl.LazyFrame({\n",
    "    \"A\": np.random.randn(n),\n",
    "    \"B\": np.random.randn(n),\n",
    "    \"C\": np.random.randint(0, 10, n)\n",
    "})"
   ]
  },
  {
   "cell_type": "markdown",
   "id": "e9b01843-3baf-44a7-9876-05b7292c73db",
   "metadata": {},
   "source": [
    "演算をストリーミングで処理できるか確認するには、`.show_graph(engine=\"streaming\", plan_stage=\"physical\")` を使用します。\n",
    "出力されるグラフでは、**白いノードはストリーミング処理が可能な演算**を、**黄色のノードはストリーミング処理は可能だがメモリ使用量が多くなる可能性のある演算**を示します。"
   ]
  },
  {
   "cell_type": "code",
   "execution_count": 12,
   "id": "3272f0b3-1820-4e23-b036-7928ddd9b056",
   "metadata": {},
   "outputs": [
    {
     "data": {
      "image/svg+xml": [
       "<svg xmlns=\"http://www.w3.org/2000/svg\" xmlns:xlink=\"http://www.w3.org/1999/xlink\" width=\"447pt\" height=\"591pt\" viewBox=\"0.00 0.00 447.00 591.00\">\n",
       "<g id=\"graph0\" class=\"graph\" transform=\"scale(1 1) rotate(0) translate(4 586.5)\">\n",
       "<title>polars</title>\n",
       "<polygon fill=\"white\" stroke=\"none\" points=\"-4,4 -4,-586.5 443,-586.5 443,4 -4,4\"/>\n",
       "<text xml:space=\"preserve\" text-anchor=\"start\" x=\"202.25\" y=\"-25.5\" font-family=\"Helvetica,sans-Serif\" font-weight=\"bold\" font-size=\"10.00\">Legend</text>\n",
       "<text xml:space=\"preserve\" text-anchor=\"start\" x=\"8\" y=\"-5.5\" font-family=\"Helvetica,sans-Serif\" font-size=\"10.00\">◯ streaming engine node </text>\n",
       "<text xml:space=\"preserve\" text-anchor=\"start\" x=\"128\" y=\"-5.5\" font-family=\"Helvetica,sans-Serif\" font-size=\"10.00\" fill=\"#fffbb2\">⬤</text>\n",
       "<text xml:space=\"preserve\" text-anchor=\"start\" x=\"143.75\" y=\"-5.5\" font-family=\"Helvetica,sans-Serif\" font-size=\"10.00\"> potentially memory-intensive node </text>\n",
       "<text xml:space=\"preserve\" text-anchor=\"start\" x=\"298.25\" y=\"-5.5\" font-family=\"Helvetica,sans-Serif\" font-size=\"10.00\" fill=\"#ffb2b2\">⬤</text>\n",
       "<text xml:space=\"preserve\" text-anchor=\"start\" x=\"314\" y=\"-5.5\" font-family=\"Helvetica,sans-Serif\" font-size=\"10.00\"> in-memory engine fallback</text>\n",
       "<!-- 4294967302 -->\n",
       "<g id=\"node1\" class=\"node\">\n",
       "<title>4294967302</title>\n",
       "<polygon fill=\"none\" stroke=\"black\" points=\"326.5,-582.5 112.5,-582.5 112.5,-525 326.5,-525 326.5,-582.5\"/>\n",
       "<text xml:space=\"preserve\" text-anchor=\"middle\" x=\"219.5\" y=\"-565.2\" font-family=\"Monospace\" font-size=\"14.00\">select</text>\n",
       "<text xml:space=\"preserve\" text-anchor=\"middle\" x=\"219.5\" y=\"-548.7\" font-family=\"Monospace\" font-size=\"14.00\">C = col(&quot;_POLARS_TMP_1&quot;)</text>\n",
       "<text xml:space=\"preserve\" text-anchor=\"middle\" x=\"219.5\" y=\"-532.2\" font-family=\"Monospace\" font-size=\"14.00\">B = col(&quot;B&quot;)            </text>\n",
       "</g>\n",
       "<!-- 4294967301 -->\n",
       "<g id=\"node2\" class=\"node\">\n",
       "<title>4294967301</title>\n",
       "<polygon fill=\"#fffbb2\" stroke=\"black\" points=\"376,-489 63,-489 63,-382.5 376,-382.5 376,-489\"/>\n",
       "<text xml:space=\"preserve\" text-anchor=\"middle\" x=\"219.5\" y=\"-471.7\" font-family=\"Monospace\" font-size=\"14.00\">group-by</text>\n",
       "<text xml:space=\"preserve\" text-anchor=\"middle\" x=\"219.5\" y=\"-455.2\" font-family=\"Monospace\" font-size=\"14.00\">key:</text>\n",
       "<text xml:space=\"preserve\" text-anchor=\"middle\" x=\"219.5\" y=\"-438.7\" font-family=\"Monospace\" font-size=\"14.00\">_POLARS_TMP_1 = col(&quot;_POLARS_TMP_0&quot;)</text>\n",
       "<text xml:space=\"preserve\" text-anchor=\"middle\" x=\"219.5\" y=\"-406.2\" font-family=\"Monospace\" font-size=\"14.00\">aggs:</text>\n",
       "<text xml:space=\"preserve\" text-anchor=\"middle\" x=\"219.5\" y=\"-389.7\" font-family=\"Monospace\" font-size=\"14.00\">B = col(&quot;_POLARS_TMP_2&quot;).mean()</text>\n",
       "</g>\n",
       "<!-- 4294967301&#45;&gt;4294967302 -->\n",
       "<g id=\"edge5\" class=\"edge\">\n",
       "<title>4294967301-&gt;4294967302</title>\n",
       "<path fill=\"none\" stroke=\"black\" d=\"M219.5,-489.32C219.5,-497.44 219.5,-505.7 219.5,-513.47\"/>\n",
       "<polygon fill=\"black\" stroke=\"black\" points=\"216,-513.27 219.5,-523.27 223,-513.27 216,-513.27\"/>\n",
       "</g>\n",
       "<!-- 4294967300 -->\n",
       "<g id=\"node3\" class=\"node\">\n",
       "<title>4294967300</title>\n",
       "<polygon fill=\"none\" stroke=\"black\" points=\"326.5,-346.5 112.5,-346.5 112.5,-289 326.5,-289 326.5,-346.5\"/>\n",
       "<text xml:space=\"preserve\" text-anchor=\"middle\" x=\"219.5\" y=\"-329.2\" font-family=\"Monospace\" font-size=\"14.00\">select</text>\n",
       "<text xml:space=\"preserve\" text-anchor=\"middle\" x=\"219.5\" y=\"-312.7\" font-family=\"Monospace\" font-size=\"14.00\">_POLARS_TMP_0 = col(&quot;C&quot;)</text>\n",
       "<text xml:space=\"preserve\" text-anchor=\"middle\" x=\"219.5\" y=\"-296.2\" font-family=\"Monospace\" font-size=\"14.00\">_POLARS_TMP_2 = col(&quot;B&quot;)</text>\n",
       "</g>\n",
       "<!-- 4294967300&#45;&gt;4294967301 -->\n",
       "<g id=\"edge4\" class=\"edge\">\n",
       "<title>4294967300-&gt;4294967301</title>\n",
       "<path fill=\"none\" stroke=\"black\" d=\"M219.5,-346.83C219.5,-354.29 219.5,-362.66 219.5,-371.19\"/>\n",
       "<polygon fill=\"black\" stroke=\"black\" points=\"216,-370.92 219.5,-380.92 223,-370.92 216,-370.92\"/>\n",
       "</g>\n",
       "<!-- 4294967299 -->\n",
       "<g id=\"node4\" class=\"node\">\n",
       "<title>4294967299</title>\n",
       "<polygon fill=\"none\" stroke=\"black\" points=\"326.5,-253 112.5,-253 112.5,-212 326.5,-212 326.5,-253\"/>\n",
       "<text xml:space=\"preserve\" text-anchor=\"middle\" x=\"219.5\" y=\"-235.7\" font-family=\"Monospace\" font-size=\"14.00\">filter</text>\n",
       "<text xml:space=\"preserve\" text-anchor=\"middle\" x=\"219.5\" y=\"-219.2\" font-family=\"Monospace\" font-size=\"14.00\">A = [(col(&quot;A&quot;)) &gt; (0.5)]</text>\n",
       "</g>\n",
       "<!-- 4294967299&#45;&gt;4294967300 -->\n",
       "<g id=\"edge3\" class=\"edge\">\n",
       "<title>4294967299-&gt;4294967300</title>\n",
       "<path fill=\"none\" stroke=\"black\" d=\"M219.5,-253.23C219.5,-260.5 219.5,-269.02 219.5,-277.42\"/>\n",
       "<polygon fill=\"black\" stroke=\"black\" points=\"216,-277.14 219.5,-287.14 223,-277.14 216,-277.14\"/>\n",
       "</g>\n",
       "<!-- 4294967298 -->\n",
       "<g id=\"node5\" class=\"node\">\n",
       "<title>4294967298</title>\n",
       "<polygon fill=\"none\" stroke=\"black\" points=\"281.12,-176 157.88,-176 157.88,-135 281.12,-135 281.12,-176\"/>\n",
       "<text xml:space=\"preserve\" text-anchor=\"middle\" x=\"219.5\" y=\"-158.7\" font-family=\"Monospace\" font-size=\"14.00\">select</text>\n",
       "<text xml:space=\"preserve\" text-anchor=\"middle\" x=\"219.5\" y=\"-142.2\" font-family=\"Monospace\" font-size=\"14.00\">cols: B, C, A</text>\n",
       "</g>\n",
       "<!-- 4294967298&#45;&gt;4294967299 -->\n",
       "<g id=\"edge2\" class=\"edge\">\n",
       "<title>4294967298-&gt;4294967299</title>\n",
       "<path fill=\"none\" stroke=\"black\" d=\"M219.5,-176.21C219.5,-183.55 219.5,-192.09 219.5,-200.22\"/>\n",
       "<polygon fill=\"black\" stroke=\"black\" points=\"216,-200.15 219.5,-210.15 223,-200.15 216,-200.15\"/>\n",
       "</g>\n",
       "<!-- 4294967297 -->\n",
       "<g id=\"node6\" class=\"node\">\n",
       "<title>4294967297</title>\n",
       "<polygon fill=\"#fffbb2\" stroke=\"black\" points=\"293.5,-99 145.5,-99 145.5,-58 293.5,-58 293.5,-99\"/>\n",
       "<text xml:space=\"preserve\" text-anchor=\"middle\" x=\"219.5\" y=\"-81.7\" font-family=\"Monospace\" font-size=\"14.00\">in-memory-source</text>\n",
       "<text xml:space=\"preserve\" text-anchor=\"middle\" x=\"219.5\" y=\"-65.2\" font-family=\"Monospace\" font-size=\"14.00\">cols: A, B, C</text>\n",
       "</g>\n",
       "<!-- 4294967297&#45;&gt;4294967298 -->\n",
       "<g id=\"edge1\" class=\"edge\">\n",
       "<title>4294967297-&gt;4294967298</title>\n",
       "<path fill=\"none\" stroke=\"black\" d=\"M219.5,-99.21C219.5,-106.55 219.5,-115.09 219.5,-123.22\"/>\n",
       "<polygon fill=\"black\" stroke=\"black\" points=\"216,-123.15 219.5,-133.15 223,-123.15 216,-123.15\"/>\n",
       "</g>\n",
       "</g>\n",
       "</svg>"
      ],
      "text/plain": [
       "<IPython.core.display.SVG object>"
      ]
     },
     "metadata": {},
     "output_type": "display_data"
    }
   ],
   "source": [
    "df2 = df.filter(pl.col('A') > 0.5).group_by('C').agg(pl.col('B').mean())\n",
    "df2.show_graph(engine=\"streaming\", plan_stage=\"physical\")"
   ]
  },
  {
   "cell_type": "markdown",
   "id": "6ff9f620-a9cc-46ea-b276-24ef50bce571",
   "metadata": {},
   "source": [
    "`group_by()` に `maintain_order=True` を設定した場合、`group_by()` 演算ノードは赤色で表示され、ストリーミング処理が不可能となります。この場合、処理は `\"in-memory\"` エンジンで実行されます。"
   ]
  },
  {
   "cell_type": "code",
   "execution_count": 13,
   "id": "180c0705-e34a-4d56-866d-9447aa308f26",
   "metadata": {},
   "outputs": [
    {
     "data": {
      "image/svg+xml": [
       "<svg xmlns=\"http://www.w3.org/2000/svg\" xmlns:xlink=\"http://www.w3.org/1999/xlink\" width=\"447pt\" height=\"355pt\" viewBox=\"0.00 0.00 447.00 355.00\">\n",
       "<g id=\"graph0\" class=\"graph\" transform=\"scale(1 1) rotate(0) translate(4 350.5)\">\n",
       "<title>polars</title>\n",
       "<polygon fill=\"white\" stroke=\"none\" points=\"-4,4 -4,-350.5 443,-350.5 443,4 -4,4\"/>\n",
       "<text xml:space=\"preserve\" text-anchor=\"start\" x=\"202.25\" y=\"-25.5\" font-family=\"Helvetica,sans-Serif\" font-weight=\"bold\" font-size=\"10.00\">Legend</text>\n",
       "<text xml:space=\"preserve\" text-anchor=\"start\" x=\"8\" y=\"-5.5\" font-family=\"Helvetica,sans-Serif\" font-size=\"10.00\">◯ streaming engine node </text>\n",
       "<text xml:space=\"preserve\" text-anchor=\"start\" x=\"128\" y=\"-5.5\" font-family=\"Helvetica,sans-Serif\" font-size=\"10.00\" fill=\"#fffbb2\">⬤</text>\n",
       "<text xml:space=\"preserve\" text-anchor=\"start\" x=\"143.75\" y=\"-5.5\" font-family=\"Helvetica,sans-Serif\" font-size=\"10.00\"> potentially memory-intensive node </text>\n",
       "<text xml:space=\"preserve\" text-anchor=\"start\" x=\"298.25\" y=\"-5.5\" font-family=\"Helvetica,sans-Serif\" font-size=\"10.00\" fill=\"#ffb2b2\">⬤</text>\n",
       "<text xml:space=\"preserve\" text-anchor=\"start\" x=\"314\" y=\"-5.5\" font-family=\"Helvetica,sans-Serif\" font-size=\"10.00\"> in-memory engine fallback</text>\n",
       "<!-- 4294967300 -->\n",
       "<g id=\"node1\" class=\"node\">\n",
       "<title>4294967300</title>\n",
       "<polygon fill=\"#ffb2b2\" stroke=\"black\" points=\"363.62,-346.5 75.38,-346.5 75.38,-289 363.62,-289 363.62,-346.5\"/>\n",
       "<text xml:space=\"preserve\" text-anchor=\"middle\" x=\"219.5\" y=\"-329.2\" font-family=\"Monospace\" font-size=\"14.00\">in-memory-map</text>\n",
       "<text xml:space=\"preserve\" text-anchor=\"middle\" x=\"219.5\" y=\"-312.7\" font-family=\"Monospace\" font-size=\"14.00\">AGGREGATE[maintain_order: true]</text>\n",
       "<text xml:space=\"preserve\" text-anchor=\"middle\" x=\"219.5\" y=\"-296.2\" font-family=\"Monospace\" font-size=\"14.00\">  [col(&quot;B&quot;).mean()] BY [col(&quot;C&quot;)]</text>\n",
       "</g>\n",
       "<!-- 4294967299 -->\n",
       "<g id=\"node2\" class=\"node\">\n",
       "<title>4294967299</title>\n",
       "<polygon fill=\"none\" stroke=\"black\" points=\"326.5,-253 112.5,-253 112.5,-212 326.5,-212 326.5,-253\"/>\n",
       "<text xml:space=\"preserve\" text-anchor=\"middle\" x=\"219.5\" y=\"-235.7\" font-family=\"Monospace\" font-size=\"14.00\">filter</text>\n",
       "<text xml:space=\"preserve\" text-anchor=\"middle\" x=\"219.5\" y=\"-219.2\" font-family=\"Monospace\" font-size=\"14.00\">A = [(col(&quot;A&quot;)) &gt; (0.5)]</text>\n",
       "</g>\n",
       "<!-- 4294967299&#45;&gt;4294967300 -->\n",
       "<g id=\"edge3\" class=\"edge\">\n",
       "<title>4294967299-&gt;4294967300</title>\n",
       "<path fill=\"none\" stroke=\"black\" d=\"M219.5,-253.23C219.5,-260.5 219.5,-269.02 219.5,-277.42\"/>\n",
       "<polygon fill=\"black\" stroke=\"black\" points=\"216,-277.14 219.5,-287.14 223,-277.14 216,-277.14\"/>\n",
       "</g>\n",
       "<!-- 4294967298 -->\n",
       "<g id=\"node3\" class=\"node\">\n",
       "<title>4294967298</title>\n",
       "<polygon fill=\"none\" stroke=\"black\" points=\"281.12,-176 157.88,-176 157.88,-135 281.12,-135 281.12,-176\"/>\n",
       "<text xml:space=\"preserve\" text-anchor=\"middle\" x=\"219.5\" y=\"-158.7\" font-family=\"Monospace\" font-size=\"14.00\">select</text>\n",
       "<text xml:space=\"preserve\" text-anchor=\"middle\" x=\"219.5\" y=\"-142.2\" font-family=\"Monospace\" font-size=\"14.00\">cols: B, C, A</text>\n",
       "</g>\n",
       "<!-- 4294967298&#45;&gt;4294967299 -->\n",
       "<g id=\"edge2\" class=\"edge\">\n",
       "<title>4294967298-&gt;4294967299</title>\n",
       "<path fill=\"none\" stroke=\"black\" d=\"M219.5,-176.21C219.5,-183.55 219.5,-192.09 219.5,-200.22\"/>\n",
       "<polygon fill=\"black\" stroke=\"black\" points=\"216,-200.15 219.5,-210.15 223,-200.15 216,-200.15\"/>\n",
       "</g>\n",
       "<!-- 4294967297 -->\n",
       "<g id=\"node4\" class=\"node\">\n",
       "<title>4294967297</title>\n",
       "<polygon fill=\"#fffbb2\" stroke=\"black\" points=\"293.5,-99 145.5,-99 145.5,-58 293.5,-58 293.5,-99\"/>\n",
       "<text xml:space=\"preserve\" text-anchor=\"middle\" x=\"219.5\" y=\"-81.7\" font-family=\"Monospace\" font-size=\"14.00\">in-memory-source</text>\n",
       "<text xml:space=\"preserve\" text-anchor=\"middle\" x=\"219.5\" y=\"-65.2\" font-family=\"Monospace\" font-size=\"14.00\">cols: A, B, C</text>\n",
       "</g>\n",
       "<!-- 4294967297&#45;&gt;4294967298 -->\n",
       "<g id=\"edge1\" class=\"edge\">\n",
       "<title>4294967297-&gt;4294967298</title>\n",
       "<path fill=\"none\" stroke=\"black\" d=\"M219.5,-99.21C219.5,-106.55 219.5,-115.09 219.5,-123.22\"/>\n",
       "<polygon fill=\"black\" stroke=\"black\" points=\"216,-123.15 219.5,-133.15 223,-123.15 216,-123.15\"/>\n",
       "</g>\n",
       "</g>\n",
       "</svg>"
      ],
      "text/plain": [
       "<IPython.core.display.SVG object>"
      ]
     },
     "metadata": {},
     "output_type": "display_data"
    }
   ],
   "source": [
    "df3 = df.filter(pl.col('A') > 0.5).group_by('C', maintain_order=True).agg(pl.col('B').mean())\n",
    "df3.show_graph(engine=\"streaming\", plan_stage=\"physical\")"
   ]
  },
  {
   "cell_type": "markdown",
   "id": "7f7f4cd8-6912-48b5-bdd2-e4df99db558c",
   "metadata": {},
   "source": [
    "ストリーミング処理を使って結果を計算する場合、`.collect(engine=\"streaming\")`を呼び出します。この方法では、可能であればストリーミング処理が適用され、効率的に結果を計算します。"
   ]
  },
  {
   "cell_type": "code",
   "execution_count": 14,
   "id": "0cad83ab-8119-448b-af8d-cca7cecb7360",
   "metadata": {},
   "outputs": [
    {
     "data": {
      "text/html": [
       "<table><tr><td><div><style>\n",
       ".dataframe > thead > tr,\n",
       ".dataframe > tbody > tr {\n",
       "  text-align: right;\n",
       "  white-space: pre-wrap;\n",
       "}\n",
       "</style>\n",
       "<small>shape: (10, 2)</small><table border=\"1\" class=\"dataframe\"><thead><tr><th>C</th><th>B</th></tr><tr><td>i32</td><td>f64</td></tr></thead><tbody><tr><td>8</td><td>0.499383</td></tr><tr><td>5</td><td>0.014106</td></tr><tr><td>1</td><td>-0.050324</td></tr><tr><td>2</td><td>0.080897</td></tr><tr><td>6</td><td>-0.328389</td></tr><tr><td>3</td><td>-0.350192</td></tr><tr><td>7</td><td>0.249191</td></tr><tr><td>0</td><td>0.149951</td></tr><tr><td>9</td><td>-0.077746</td></tr><tr><td>4</td><td>-0.140425</td></tr></tbody></table></div></td><td><div><style>\n",
       ".dataframe > thead > tr,\n",
       ".dataframe > tbody > tr {\n",
       "  text-align: right;\n",
       "  white-space: pre-wrap;\n",
       "}\n",
       "</style>\n",
       "<small>shape: (10, 2)</small><table border=\"1\" class=\"dataframe\"><thead><tr><th>C</th><th>B</th></tr><tr><td>i32</td><td>f64</td></tr></thead><tbody><tr><td>4</td><td>-0.140425</td></tr><tr><td>1</td><td>-0.050324</td></tr><tr><td>5</td><td>0.014106</td></tr><tr><td>3</td><td>-0.350192</td></tr><tr><td>8</td><td>0.499383</td></tr><tr><td>6</td><td>-0.328389</td></tr><tr><td>9</td><td>-0.077746</td></tr><tr><td>2</td><td>0.080897</td></tr><tr><td>0</td><td>0.149951</td></tr><tr><td>7</td><td>0.249191</td></tr></tbody></table></div></td></tr></table>"
      ]
     },
     "metadata": {},
     "output_type": "display_data"
    }
   ],
   "source": [
    "row(df2.collect(engine=\"streaming\"), df3.collect(engine=\"streaming\"))"
   ]
  },
  {
   "cell_type": "markdown",
   "id": "56ef42bf-e153-4ff1-9fef-902bf50c4640",
   "metadata": {},
   "source": [
    "## UDFでストリーミングを観察"
   ]
  },
  {
   "cell_type": "markdown",
   "id": "cde93ea2-4242-48ec-adfe-aa8df79b425e",
   "metadata": {},
   "source": [
    "ストリーミング処理を観察するには、`map_batches()` や `map_element()` などのユーザー定義関数 (UDF: User-Defined Function)を利用できます。ユーザー関数内でデータの長さや処理中のスレッドを出力することで、ストリーミング処理における分割や並列処理を直接観察できます。"
   ]
  },
  {
   "cell_type": "markdown",
   "id": "6a5ed63c-8ac0-4737-806b-7b5c6e5cb762",
   "metadata": {},
   "source": [
    "### `Expr.map_batches`"
   ]
  },
  {
   "cell_type": "markdown",
   "id": "a89de079-151d-4d50-8481-c3b2df16f43e",
   "metadata": {},
   "source": [
    "次のコードでは以下を行っています：\n",
    "\n",
    "* 複数のスレッドからの出力が混在しないように、`threading.Lock()` を使用しています。\n",
    "* `map_batches()` の `is_elementwise` 引数を `True` に設定し、分割と並列処理を有効にしています。"
   ]
  },
  {
   "cell_type": "code",
   "execution_count": 17,
   "id": "7967e95c-cd3a-4e1f-83ae-f97ce8c884d9",
   "metadata": {},
   "outputs": [
    {
     "data": {
      "image/svg+xml": [
       "<svg xmlns=\"http://www.w3.org/2000/svg\" xmlns:xlink=\"http://www.w3.org/1999/xlink\" width=\"447pt\" height=\"355pt\" viewBox=\"0.00 0.00 447.00 355.00\">\n",
       "<g id=\"graph0\" class=\"graph\" transform=\"scale(1 1) rotate(0) translate(4 350.5)\">\n",
       "<title>polars</title>\n",
       "<polygon fill=\"white\" stroke=\"none\" points=\"-4,4 -4,-350.5 443,-350.5 443,4 -4,4\"/>\n",
       "<text xml:space=\"preserve\" text-anchor=\"start\" x=\"202.25\" y=\"-25.5\" font-family=\"Helvetica,sans-Serif\" font-weight=\"bold\" font-size=\"10.00\">Legend</text>\n",
       "<text xml:space=\"preserve\" text-anchor=\"start\" x=\"8\" y=\"-5.5\" font-family=\"Helvetica,sans-Serif\" font-size=\"10.00\">◯ streaming engine node </text>\n",
       "<text xml:space=\"preserve\" text-anchor=\"start\" x=\"128\" y=\"-5.5\" font-family=\"Helvetica,sans-Serif\" font-size=\"10.00\" fill=\"#fffbb2\">⬤</text>\n",
       "<text xml:space=\"preserve\" text-anchor=\"start\" x=\"143.75\" y=\"-5.5\" font-family=\"Helvetica,sans-Serif\" font-size=\"10.00\"> potentially memory-intensive node </text>\n",
       "<text xml:space=\"preserve\" text-anchor=\"start\" x=\"298.25\" y=\"-5.5\" font-family=\"Helvetica,sans-Serif\" font-size=\"10.00\" fill=\"#ffb2b2\">⬤</text>\n",
       "<text xml:space=\"preserve\" text-anchor=\"start\" x=\"314\" y=\"-5.5\" font-family=\"Helvetica,sans-Serif\" font-size=\"10.00\"> in-memory engine fallback</text>\n",
       "<!-- 4294967300 -->\n",
       "<g id=\"node1\" class=\"node\">\n",
       "<title>4294967300</title>\n",
       "<polygon fill=\"none\" stroke=\"black\" points=\"326.5,-346.5 112.5,-346.5 112.5,-305.5 326.5,-305.5 326.5,-346.5\"/>\n",
       "<text xml:space=\"preserve\" text-anchor=\"middle\" x=\"219.5\" y=\"-329.2\" font-family=\"Monospace\" font-size=\"14.00\">filter</text>\n",
       "<text xml:space=\"preserve\" text-anchor=\"middle\" x=\"219.5\" y=\"-312.7\" font-family=\"Monospace\" font-size=\"14.00\">A = [(col(&quot;A&quot;)) &gt; (0.5)]</text>\n",
       "</g>\n",
       "<!-- 4294967299 -->\n",
       "<g id=\"node2\" class=\"node\">\n",
       "<title>4294967299</title>\n",
       "<polygon fill=\"none\" stroke=\"black\" points=\"330.62,-269.5 108.38,-269.5 108.38,-212 330.62,-212 330.62,-269.5\"/>\n",
       "<text xml:space=\"preserve\" text-anchor=\"middle\" x=\"219.5\" y=\"-252.2\" font-family=\"Monospace\" font-size=\"14.00\">select</text>\n",
       "<text xml:space=\"preserve\" text-anchor=\"middle\" x=\"219.5\" y=\"-235.7\" font-family=\"Monospace\" font-size=\"14.00\">A = col(&quot;A&quot;).python_udf()</text>\n",
       "<text xml:space=\"preserve\" text-anchor=\"middle\" x=\"219.5\" y=\"-219.2\" font-family=\"Monospace\" font-size=\"14.00\">B = col(&quot;B&quot;).python_udf()</text>\n",
       "</g>\n",
       "<!-- 4294967299&#45;&gt;4294967300 -->\n",
       "<g id=\"edge3\" class=\"edge\">\n",
       "<title>4294967299-&gt;4294967300</title>\n",
       "<path fill=\"none\" stroke=\"black\" d=\"M219.5,-269.93C219.5,-277.64 219.5,-286.03 219.5,-293.89\"/>\n",
       "<polygon fill=\"black\" stroke=\"black\" points=\"216,-293.74 219.5,-303.74 223,-293.74 216,-293.74\"/>\n",
       "</g>\n",
       "<!-- 4294967298 -->\n",
       "<g id=\"node3\" class=\"node\">\n",
       "<title>4294967298</title>\n",
       "<polygon fill=\"none\" stroke=\"black\" points=\"268.75,-176 170.25,-176 170.25,-135 268.75,-135 268.75,-176\"/>\n",
       "<text xml:space=\"preserve\" text-anchor=\"middle\" x=\"219.5\" y=\"-158.7\" font-family=\"Monospace\" font-size=\"14.00\">select</text>\n",
       "<text xml:space=\"preserve\" text-anchor=\"middle\" x=\"219.5\" y=\"-142.2\" font-family=\"Monospace\" font-size=\"14.00\">cols: A, B</text>\n",
       "</g>\n",
       "<!-- 4294967298&#45;&gt;4294967299 -->\n",
       "<g id=\"edge2\" class=\"edge\">\n",
       "<title>4294967298-&gt;4294967299</title>\n",
       "<path fill=\"none\" stroke=\"black\" d=\"M219.5,-176.23C219.5,-183.5 219.5,-192.02 219.5,-200.42\"/>\n",
       "<polygon fill=\"black\" stroke=\"black\" points=\"216,-200.14 219.5,-210.14 223,-200.14 216,-200.14\"/>\n",
       "</g>\n",
       "<!-- 4294967297 -->\n",
       "<g id=\"node4\" class=\"node\">\n",
       "<title>4294967297</title>\n",
       "<polygon fill=\"#fffbb2\" stroke=\"black\" points=\"293.5,-99 145.5,-99 145.5,-58 293.5,-58 293.5,-99\"/>\n",
       "<text xml:space=\"preserve\" text-anchor=\"middle\" x=\"219.5\" y=\"-81.7\" font-family=\"Monospace\" font-size=\"14.00\">in-memory-source</text>\n",
       "<text xml:space=\"preserve\" text-anchor=\"middle\" x=\"219.5\" y=\"-65.2\" font-family=\"Monospace\" font-size=\"14.00\">cols: A, B, C</text>\n",
       "</g>\n",
       "<!-- 4294967297&#45;&gt;4294967298 -->\n",
       "<g id=\"edge1\" class=\"edge\">\n",
       "<title>4294967297-&gt;4294967298</title>\n",
       "<path fill=\"none\" stroke=\"black\" d=\"M219.5,-99.21C219.5,-106.55 219.5,-115.09 219.5,-123.22\"/>\n",
       "<polygon fill=\"black\" stroke=\"black\" points=\"216,-123.15 219.5,-133.15 223,-123.15 216,-123.15\"/>\n",
       "</g>\n",
       "</g>\n",
       "</svg>"
      ],
      "text/plain": [
       "<IPython.core.display.SVG object>"
      ]
     },
     "metadata": {},
     "output_type": "display_data"
    }
   ],
   "source": [
    "lock = threading.Lock()\n",
    "def f(s):\n",
    "    with lock:\n",
    "        print(s.name, s.shape, threading.current_thread())\n",
    "        return s\n",
    "\n",
    "df4 = (\n",
    "    df\n",
    "    .select(\n",
    "        pl.col('A', 'B').map_batches(f, return_dtype=pl.self_dtype(), is_elementwise=True)\n",
    "    )\n",
    "    .filter(pl.col('A') > 0.5)\n",
    ")\n",
    "df4.show_graph(engine=\"streaming\", plan_stage=\"physical\")"
   ]
  },
  {
   "cell_type": "markdown",
   "id": "ac53b5b4-a993-4bee-a745-afdfa5424c65",
   "metadata": {},
   "source": [
    "`collect(engine=\"streaming\")`実行すると、以下のような出力から、A列とB列がそれぞれ長さ125のチャンクに分割され、異なるスレッドで並列処理されていることが確認できます。"
   ]
  },
  {
   "cell_type": "code",
   "execution_count": 18,
   "id": "72d52e27-29fe-4e06-ae21-5988f7c1c413",
   "metadata": {},
   "outputs": [
    {
     "name": "stdout",
     "output_type": "stream",
     "text": [
      "A (125,) <_DummyThread(Dummy-9, started daemon 9008)>\n",
      "A (125,) <_DummyThread(Dummy-10, started daemon 11520)>\n",
      "A (125,) <_DummyThread(Dummy-11, started daemon 19448)>\n",
      "A (125,) <_DummyThread(Dummy-12, started daemon 14368)>\n",
      "A (125,) <_DummyThread(Dummy-13, started daemon 6584)>\n",
      "A (125,) <_DummyThread(Dummy-14, started daemon 10912)>\n",
      "B (125,) <_DummyThread(Dummy-13, started daemon 6584)>\n",
      "B (125,) <_DummyThread(Dummy-9, started daemon 9008)>\n",
      "B (125,) <_DummyThread(Dummy-10, started daemon 11520)>\n",
      "B (125,) <_DummyThread(Dummy-12, started daemon 14368)>\n",
      "B (125,) <_DummyThread(Dummy-11, started daemon 19448)>\n",
      "A (125,) <_DummyThread(Dummy-15, started daemon 3192)>\n",
      "B (125,) <_DummyThread(Dummy-14, started daemon 10912)>\n",
      "A (125,) <_DummyThread(Dummy-16, started daemon 13200)>\n",
      "B (125,) <_DummyThread(Dummy-13, started daemon 6584)>\n",
      "B (125,) <_DummyThread(Dummy-9, started daemon 9008)>\n"
     ]
    }
   ],
   "source": [
    "df4.collect(engine=\"streaming\");"
   ]
  },
  {
   "cell_type": "markdown",
   "id": "80b1809d-eaf8-44b6-8b49-8ab3ab19d514",
   "metadata": {},
   "source": [
    "また、`in-memory`エンジンを使用する場合、A列とB列はチャンクに分割されず、それぞれ全体を別々のスレッドで処理することがわかります。"
   ]
  },
  {
   "cell_type": "code",
   "execution_count": 19,
   "id": "f6395f86-cbc8-466f-b049-891757dac647",
   "metadata": {},
   "outputs": [
    {
     "name": "stdout",
     "output_type": "stream",
     "text": [
      "A (1000,) <_DummyThread(Dummy-17, started daemon 12128)>\n",
      "B (1000,) <_DummyThread(Dummy-18, started daemon 1172)>\n"
     ]
    }
   ],
   "source": [
    "df4.collect(engine=\"in-memory\");"
   ]
  },
  {
   "cell_type": "markdown",
   "id": "7442b74b-d5f5-4be6-abc5-3c6fbc33d12d",
   "metadata": {},
   "source": [
    "`scan_*()`関数を使用してファイルからデータを読み込んで処理する場合、事前にデータの長さがわからないため、次のコードの出力からも分かるように、チャンクを均等に分割することができません。"
   ]
  },
  {
   "cell_type": "code",
   "execution_count": 22,
   "id": "5327a431-27af-43fb-9f69-a03726ed1a4f",
   "metadata": {},
   "outputs": [
    {
     "name": "stdout",
     "output_type": "stream",
     "text": [
      "A (99,) <_DummyThread(Dummy-27, started daemon 1060)>\n",
      "A (99,) <_DummyThread(Dummy-28, started daemon 10048)>\n",
      "A (99,) <_DummyThread(Dummy-29, started daemon 6640)>\n",
      "A (99,) <_DummyThread(Dummy-30, started daemon 11220)>\n",
      "A (99,) <_DummyThread(Dummy-31, started daemon 3560)>\n",
      "A (99,) <_DummyThread(Dummy-32, started daemon 18252)>\n",
      "A (99,) <_DummyThread(Dummy-33, started daemon 17372)>\n",
      "B (99,) <_DummyThread(Dummy-27, started daemon 1060)>\n",
      "B (99,) <_DummyThread(Dummy-28, started daemon 10048)>\n",
      "B (99,) <_DummyThread(Dummy-29, started daemon 6640)>\n",
      "B (99,) <_DummyThread(Dummy-30, started daemon 11220)>\n",
      "B (99,) <_DummyThread(Dummy-31, started daemon 3560)>\n",
      "B (99,) <_DummyThread(Dummy-32, started daemon 18252)>\n",
      "B (99,) <_DummyThread(Dummy-33, started daemon 17372)>\n",
      "A (99,) <_DummyThread(Dummy-34, started daemon 18328)>\n",
      "A (99,) <_DummyThread(Dummy-27, started daemon 1060)>\n",
      "A (10,) <_DummyThread(Dummy-28, started daemon 10048)>\n",
      "A (99,) <_DummyThread(Dummy-29, started daemon 6640)>\n",
      "B (99,) <_DummyThread(Dummy-30, started daemon 11220)>\n",
      "B (99,) <_DummyThread(Dummy-31, started daemon 3560)>\n",
      "B (10,) <_DummyThread(Dummy-32, started daemon 18252)>\n",
      "B (99,) <_DummyThread(Dummy-33, started daemon 17372)>\n"
     ]
    }
   ],
   "source": [
    "df.collect().write_csv('data/streaming_test.csv')\n",
    "df5 = (\n",
    "    pl\n",
    "    .scan_csv('data/streaming_test.csv', cache=False, )\n",
    "    .select(\n",
    "        pl.col('A', 'B').map_batches(f, return_dtype=pl.self_dtype(), is_elementwise=True)\n",
    "    )\n",
    "    .filter(pl.col('A') > 0.5)\n",
    ")\n",
    "df5.collect(engine=\"streaming\");"
   ]
  },
  {
   "cell_type": "markdown",
   "id": "96c27c17-fe3a-4eec-b25f-9ce255f06af8",
   "metadata": {},
   "source": [
    "### `LazyFrame.map_batches`"
   ]
  },
  {
   "cell_type": "markdown",
   "id": "faa7f651-fbd8-4908-817b-c74bdcaca67b",
   "metadata": {},
   "source": [
    "`LazyFrame` の `map_batches()` メソッドもストリーミング処理をサポートしています。有効にするには、`streamable` 引数を `True` に設定します。この場合、元のデータはチャンクに分割され、それぞれのチャンクが `DataFrame` オブジェクトとして UDF に渡されます。"
   ]
  },
  {
   "cell_type": "code",
   "execution_count": 25,
   "id": "1f7d35ef-7ec9-461b-87c2-d82469ef960f",
   "metadata": {},
   "outputs": [
    {
     "name": "stdout",
     "output_type": "stream",
     "text": [
      "DataFrame (125, 3) <_DummyThread(Dummy-35, started daemon 2580)>\n",
      "DataFrame (125, 3) <_DummyThread(Dummy-38, started daemon 13744)>\n",
      "DataFrame (125, 3) <_DummyThread(Dummy-39, started daemon 11508)>\n",
      "DataFrame (125, 3) <_DummyThread(Dummy-40, started daemon 13792)>\n",
      "DataFrame (125, 3) <_DummyThread(Dummy-41, started daemon 13700)>\n",
      "DataFrame (125, 3) <_DummyThread(Dummy-42, started daemon 14316)>\n",
      "DataFrame (125, 3) <_DummyThread(Dummy-36, started daemon 8640)>\n",
      "DataFrame (125, 3) <_DummyThread(Dummy-37, started daemon 8172)>\n"
     ]
    }
   ],
   "source": [
    "lock = threading.Lock()\n",
    "def f(df):\n",
    "    with lock:\n",
    "        print(type(df).__name__, df.shape, threading.current_thread())\n",
    "        return df\n",
    "\n",
    "df2 = df.map_batches(f, streamable=True)\n",
    "df2.collect(engine=\"streaming\");"
   ]
  },
  {
   "cell_type": "markdown",
   "id": "53794c87-e66c-4c97-a648-f7dfa09dec52",
   "metadata": {},
   "source": [
    "### `Expr.map_elements`"
   ]
  },
  {
   "cell_type": "markdown",
   "id": "caa84073-9817-46db-a276-87d57fe5388c",
   "metadata": {},
   "source": [
    "`map_elements()` は個々の値を UDF に渡し、その結果を収集します。ストリーミングエンジンを使用する場合、演算は複数のスレッドで並行して実行されます。"
   ]
  },
  {
   "cell_type": "code",
   "execution_count": 26,
   "id": "0fb94c95-f733-4dea-b03e-59331a6167cd",
   "metadata": {},
   "outputs": [],
   "source": [
    "lock = threading.Lock()\n",
    "def f(val):\n",
    "    with lock:\n",
    "        print(val, threading.current_thread())\n",
    "        return val\n",
    "\n",
    "n = 10\n",
    "\n",
    "df = pl.LazyFrame({\n",
    "    \"A\": np.random.randn(n),\n",
    "    \"B\": np.random.randn(n),\n",
    "    \"C\": np.random.randint(0, 10, n)\n",
    "})\n",
    "        \n",
    "df2 = df.select(\n",
    "    pl.col('A', 'B').map_elements(f, return_dtype=pl.self_dtype())\n",
    ")"
   ]
  },
  {
   "cell_type": "code",
   "execution_count": 27,
   "id": "fc273afa-8fbb-42b4-96a0-e1186dcbc750",
   "metadata": {},
   "outputs": [
    {
     "name": "stdout",
     "output_type": "stream",
     "text": [
      "-1.108559246221127 <_DummyThread(Dummy-43, started daemon 11236)>\n",
      "-1.4996460924229866 <_DummyThread(Dummy-43, started daemon 11236)>\n",
      "-1.1117041500948521 <_DummyThread(Dummy-44, started daemon 9144)>\n",
      "1.328385724900826 <_DummyThread(Dummy-44, started daemon 9144)>\n",
      "-1.4112473238996046 <_DummyThread(Dummy-45, started daemon 11784)>\n",
      "-1.5267976124012157 <_DummyThread(Dummy-45, started daemon 11784)>\n",
      "2.047594932686955 <_DummyThread(Dummy-46, started daemon 7056)>\n",
      "-0.8682594885868978 <_DummyThread(Dummy-46, started daemon 7056)>\n",
      "-0.6480673772761889 <_DummyThread(Dummy-47, started daemon 11728)>\n",
      "0.5322035399347776 <_DummyThread(Dummy-47, started daemon 11728)>\n",
      "0.7861824044589285 <_DummyThread(Dummy-47, started daemon 11728)>\n",
      "0.8684617127999552 <_DummyThread(Dummy-47, started daemon 11728)>\n",
      "0.3307972073348304 <_DummyThread(Dummy-45, started daemon 11784)>\n",
      "-0.15309985371146326 <_DummyThread(Dummy-45, started daemon 11784)>\n",
      "0.4025427281690959 <_DummyThread(Dummy-46, started daemon 7056)>\n",
      "-0.38156096891820207 <_DummyThread(Dummy-46, started daemon 7056)>\n",
      "0.16564419733378172 <_DummyThread(Dummy-44, started daemon 9144)>\n",
      "2.363639375538098 <_DummyThread(Dummy-44, started daemon 9144)>\n",
      "-0.5081061234693295 <_DummyThread(Dummy-43, started daemon 11236)>\n",
      "-0.09762470885619812 <_DummyThread(Dummy-43, started daemon 11236)>\n"
     ]
    }
   ],
   "source": [
    "df2.collect(engine=\"streaming\");"
   ]
  },
  {
   "cell_type": "code",
   "execution_count": 29,
   "id": "efadfdfb-a504-42d0-b20a-290dcd1e637f",
   "metadata": {},
   "outputs": [
    {
     "name": "stdout",
     "output_type": "stream",
     "text": [
      "-1.1117041500948521 <_DummyThread(Dummy-17, started daemon 12128)>\n",
      "1.328385724900826 <_DummyThread(Dummy-17, started daemon 12128)>\n",
      "-1.4112473238996046 <_DummyThread(Dummy-17, started daemon 12128)>\n",
      "-1.5267976124012157 <_DummyThread(Dummy-17, started daemon 12128)>\n",
      "-1.108559246221127 <_DummyThread(Dummy-17, started daemon 12128)>\n",
      "-1.4996460924229866 <_DummyThread(Dummy-17, started daemon 12128)>\n",
      "2.047594932686955 <_DummyThread(Dummy-17, started daemon 12128)>\n",
      "-0.8682594885868978 <_DummyThread(Dummy-17, started daemon 12128)>\n",
      "-0.6480673772761889 <_DummyThread(Dummy-17, started daemon 12128)>\n",
      "0.5322035399347776 <_DummyThread(Dummy-17, started daemon 12128)>\n",
      "0.16564419733378172 <_DummyThread(Dummy-18, started daemon 1172)>\n",
      "2.363639375538098 <_DummyThread(Dummy-18, started daemon 1172)>\n",
      "0.3307972073348304 <_DummyThread(Dummy-18, started daemon 1172)>\n",
      "-0.15309985371146326 <_DummyThread(Dummy-18, started daemon 1172)>\n",
      "-0.5081061234693295 <_DummyThread(Dummy-18, started daemon 1172)>\n",
      "-0.09762470885619812 <_DummyThread(Dummy-18, started daemon 1172)>\n",
      "0.4025427281690959 <_DummyThread(Dummy-18, started daemon 1172)>\n",
      "-0.38156096891820207 <_DummyThread(Dummy-18, started daemon 1172)>\n",
      "0.7861824044589285 <_DummyThread(Dummy-18, started daemon 1172)>\n",
      "0.8684617127999552 <_DummyThread(Dummy-18, started daemon 1172)>\n"
     ]
    }
   ],
   "source": [
    "df2.collect(engine=\"in-memory\");"
   ]
  }
 ],
 "metadata": {
  "kernelspec": {
   "display_name": "Python 3 (ipykernel)",
   "language": "python",
   "name": "python3"
  },
  "language_info": {
   "codemirror_mode": {
    "name": "ipython",
    "version": 3
   },
   "file_extension": ".py",
   "mimetype": "text/x-python",
   "name": "python",
   "nbconvert_exporter": "python",
   "pygments_lexer": "ipython3",
   "version": "3.11.8"
  }
 },
 "nbformat": 4,
 "nbformat_minor": 5
}

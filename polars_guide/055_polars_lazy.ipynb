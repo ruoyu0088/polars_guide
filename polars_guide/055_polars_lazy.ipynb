{
 "cells": [
  {
   "cell_type": "markdown",
   "id": "fb7f1a45-436e-46e9-8b5b-99a3870eaea7",
   "metadata": {},
   "source": [
    "# 遅延演算"
   ]
  },
  {
   "cell_type": "code",
   "execution_count": 13,
   "id": "9e1f3774-f6da-4b35-aa0e-35dc445b2e7e",
   "metadata": {},
   "outputs": [],
   "source": [
    "import polars as pl\n",
    "import numpy as np\n",
    "import threading\n",
    "from helper.jupyter import row"
   ]
  },
  {
   "cell_type": "markdown",
   "id": "8c6fed23-92ce-4144-8ba3-731a3955cfd7",
   "metadata": {},
   "source": [
    "## ストリーミング処理\n",
    "\n",
    "\n",
    "Polarsのストリーミング処理は、大規模なデータセットを効率的に処理するための仕組みで、データを「チャンク」と呼ばれる小さな部分に分割し、逐次処理を行います。この手法により、メモリ消費を抑えながら高速なデータ処理が可能です。"
   ]
  },
  {
   "cell_type": "code",
   "execution_count": 32,
   "id": "03da3c60-3d04-4021-95e3-0b5e9cf5ed45",
   "metadata": {},
   "outputs": [],
   "source": [
    "n = 1000\n",
    "df = pl.LazyFrame({\n",
    "    \"A\":np.random.randn(n),\n",
    "    \"B\":np.random.randn(n),\n",
    "    \"C\":np.random.randint(0, 10, n)\n",
    "})"
   ]
  },
  {
   "cell_type": "markdown",
   "id": "e9b01843-3baf-44a7-9876-05b7292c73db",
   "metadata": {},
   "source": [
    "演算をストリーミングで処理できるかどうかを調べるには、`.explain(streaming=True)`を使用します。`STREAMING:`の下に表示される演算は、すべてストリーミングで処理可能であることを示しています。"
   ]
  },
  {
   "cell_type": "code",
   "execution_count": 33,
   "id": "3272f0b3-1820-4e23-b036-7928ddd9b056",
   "metadata": {},
   "outputs": [
    {
     "name": "stdout",
     "output_type": "stream",
     "text": [
      "STREAMING:\n",
      "  AGGREGATE\n",
      "  \t[col(\"B\").mean()] BY [col(\"C\")] FROM\n",
      "    FILTER [(col(\"A\")) > (0.5)] FROM\n",
      "      DF [\"A\", \"B\", \"C\"]; PROJECT 3/3 COLUMNS\n"
     ]
    }
   ],
   "source": [
    "df2 = df.filter(pl.col('A') > 0.5).group_by('C').agg(pl.col('B').mean())\n",
    "print(df2.explain(streaming=True))"
   ]
  },
  {
   "cell_type": "markdown",
   "id": "6ff9f620-a9cc-46ea-b276-24ef50bce571",
   "metadata": {},
   "source": [
    "次の出力では、`group_by()`の`maintain_order=True`を設定した場合、`group_by()`がストリーミング処理できなくなることがわかります。"
   ]
  },
  {
   "cell_type": "code",
   "execution_count": 34,
   "id": "180c0705-e34a-4d56-866d-9447aa308f26",
   "metadata": {},
   "outputs": [
    {
     "name": "stdout",
     "output_type": "stream",
     "text": [
      "AGGREGATE\n",
      "\t[col(\"B\").mean()] BY [col(\"C\")] FROM\n",
      "  STREAMING:\n",
      "    FILTER [(col(\"A\")) > (0.5)] FROM\n",
      "      DF [\"A\", \"B\", \"C\"]; PROJECT 3/3 COLUMNS\n"
     ]
    }
   ],
   "source": [
    "df3 = df.filter(pl.col('A') > 0.5).group_by('C', maintain_order=True).agg(pl.col('B').mean())\n",
    "print(df3.explain(streaming=True))"
   ]
  },
  {
   "cell_type": "markdown",
   "id": "7f7f4cd8-6912-48b5-bdd2-e4df99db558c",
   "metadata": {},
   "source": [
    "ストリーミング処理を使って結果を計算する場合、`.collect(streaming=True)`を呼び出します。この方法では、可能であればストリーミング処理が適用され、効率的に結果を計算します。"
   ]
  },
  {
   "cell_type": "code",
   "execution_count": 35,
   "id": "0cad83ab-8119-448b-af8d-cca7cecb7360",
   "metadata": {},
   "outputs": [
    {
     "data": {
      "text/html": [
       "<table><tr><td><div><style>\n",
       ".dataframe > thead > tr,\n",
       ".dataframe > tbody > tr {\n",
       "  text-align: right;\n",
       "  white-space: pre-wrap;\n",
       "}\n",
       "</style>\n",
       "<small>shape: (10, 2)</small><table border=\"1\" class=\"dataframe\"><thead><tr><th>C</th><th>B</th></tr><tr><td>i32</td><td>f64</td></tr></thead><tbody><tr><td>4</td><td>-0.207007</td></tr><tr><td>7</td><td>0.241421</td></tr><tr><td>9</td><td>-0.114259</td></tr><tr><td>0</td><td>-0.081423</td></tr><tr><td>3</td><td>-0.15736</td></tr><tr><td>2</td><td>-0.22622</td></tr><tr><td>1</td><td>0.301292</td></tr><tr><td>5</td><td>-0.095738</td></tr><tr><td>6</td><td>-0.17092</td></tr><tr><td>8</td><td>0.130623</td></tr></tbody></table></div></td><td><div><style>\n",
       ".dataframe > thead > tr,\n",
       ".dataframe > tbody > tr {\n",
       "  text-align: right;\n",
       "  white-space: pre-wrap;\n",
       "}\n",
       "</style>\n",
       "<small>shape: (10, 2)</small><table border=\"1\" class=\"dataframe\"><thead><tr><th>C</th><th>B</th></tr><tr><td>i32</td><td>f64</td></tr></thead><tbody><tr><td>3</td><td>-0.15736</td></tr><tr><td>0</td><td>-0.081423</td></tr><tr><td>9</td><td>-0.114259</td></tr><tr><td>2</td><td>-0.22622</td></tr><tr><td>4</td><td>-0.207007</td></tr><tr><td>7</td><td>0.241421</td></tr><tr><td>8</td><td>0.130623</td></tr><tr><td>5</td><td>-0.095738</td></tr><tr><td>6</td><td>-0.17092</td></tr><tr><td>1</td><td>0.301292</td></tr></tbody></table></div></td></tr></table>"
      ]
     },
     "metadata": {},
     "output_type": "display_data"
    }
   ],
   "source": [
    "row(df2.collect(streaming=True), df3.collect(streaming=True))"
   ]
  },
  {
   "cell_type": "markdown",
   "id": "a89de079-151d-4d50-8481-c3b2df16f43e",
   "metadata": {},
   "source": [
    "次のコードでは、ストリーミング処理を観察するために、`map_batches()`を使用してデータをユーザー関数に渡します。このユーザー関数内で、データの名前、データの長さ、および処理しているスレッドを出力します。\n",
    "\n",
    "```{tip}\n",
    "`agg_list`引数がデフォルト値の`False`の場合、`map_batches()`の演算をストリーミング処理することはできません。\n",
    "```"
   ]
  },
  {
   "cell_type": "code",
   "execution_count": 36,
   "id": "7967e95c-cd3a-4e1f-83ae-f97ce8c884d9",
   "metadata": {},
   "outputs": [
    {
     "name": "stdout",
     "output_type": "stream",
     "text": [
      "STREAMING:\n",
      "  FILTER [(col(\"A\")) > (0.5)] FROM\n",
      "     SELECT [col(\"A\").map_list(), col(\"B\").map_list()] FROM\n",
      "      DF [\"A\", \"B\", \"C\"]; PROJECT 2/3 COLUMNS\n"
     ]
    }
   ],
   "source": [
    "lock = threading.Lock()\n",
    "def f(s):\n",
    "    with lock:\n",
    "        print(s.name, s.shape, threading.current_thread())\n",
    "        return s\n",
    "\n",
    "df4 = df.select(pl.col('A', 'B').map_batches(f, agg_list=True)).filter(pl.col('A') > 0.5)\n",
    "print(df4.explain(streaming=True))"
   ]
  },
  {
   "cell_type": "markdown",
   "id": "ac53b5b4-a993-4bee-a745-afdfa5424c65",
   "metadata": {},
   "source": [
    "次のコードを実行すると、以下のような出力から、A列とB列がそれぞれおよそ長さ83のチャンクに分割され、異なるスレッドで並列処理されていることが確認できます。"
   ]
  },
  {
   "cell_type": "code",
   "execution_count": 37,
   "id": "72d52e27-29fe-4e06-ae21-5988f7c1c413",
   "metadata": {},
   "outputs": [
    {
     "name": "stdout",
     "output_type": "stream",
     "text": [
      "A (83,) <_DummyThread(Dummy-13, started daemon 32484)>\n",
      "A (83,) <_DummyThread(Dummy-3, started daemon 5548)>\n",
      "A (83,) <_DummyThread(Dummy-11, started daemon 31196)>\n",
      "A (83,) <_DummyThread(Dummy-14, started daemon 29732)>\n",
      "B (83,) <_DummyThread(Dummy-14, started daemon 29732)>\n",
      "A (83,) <_DummyThread(Dummy-12, started daemon 32148)>\n",
      "A (83,) <_DummyThread(Dummy-6, started daemon 29448)>\n",
      "B (83,) <_DummyThread(Dummy-6, started daemon 29448)>\n",
      "A (83,) <_DummyThread(Dummy-10, started daemon 24416)>\n",
      "B (83,) <_DummyThread(Dummy-10, started daemon 24416)>\n",
      "A (83,) <_DummyThread(Dummy-9, started daemon 30848)>\n",
      "B (83,) <_DummyThread(Dummy-9, started daemon 30848)>\n",
      "B (83,) <_DummyThread(Dummy-13, started daemon 32484)>\n",
      "B (83,) <_DummyThread(Dummy-3, started daemon 5548)>\n",
      "B (83,) <_DummyThread(Dummy-11, started daemon 31196)>\n",
      "A (87,) <_DummyThread(Dummy-7, started daemon 25668)>\n",
      "B (87,) <_DummyThread(Dummy-7, started daemon 25668)>\n",
      "A (83,) <_DummyThread(Dummy-8, started daemon 32692)>\n",
      "A (83,) <_DummyThread(Dummy-4, started daemon 34336)>\n",
      "B (83,) <_DummyThread(Dummy-4, started daemon 34336)>\n",
      "A (83,) <_DummyThread(Dummy-5, started daemon 25324)>\n",
      "B (83,) <_DummyThread(Dummy-5, started daemon 25324)>\n",
      "B (83,) <_DummyThread(Dummy-12, started daemon 32148)>\n",
      "B (83,) <_DummyThread(Dummy-8, started daemon 32692)>\n"
     ]
    }
   ],
   "source": [
    "df4.collect(streaming=True);"
   ]
  },
  {
   "cell_type": "markdown",
   "id": "80b1809d-eaf8-44b6-8b49-8ab3ab19d514",
   "metadata": {},
   "source": [
    "また、`streaming`引数を省略した場合（デフォルト値は`False`）、A列とB列はチャンクに分割されず、それぞれ全体を別々のスレッドで処理することがわかります。"
   ]
  },
  {
   "cell_type": "code",
   "execution_count": 38,
   "id": "f6395f86-cbc8-466f-b049-891757dac647",
   "metadata": {},
   "outputs": [
    {
     "name": "stdout",
     "output_type": "stream",
     "text": [
      "A (1000,) <_DummyThread(Dummy-7, started daemon 25668)>\n",
      "B (1000,) <_DummyThread(Dummy-13, started daemon 32484)>\n"
     ]
    }
   ],
   "source": [
    "df4.collect();"
   ]
  },
  {
   "cell_type": "markdown",
   "id": "7442b74b-d5f5-4be6-abc5-3c6fbc33d12d",
   "metadata": {},
   "source": [
    "`scan_*()`関数を使用してファイルからデータを読み込んで処理する場合、事前にデータの長さがわからないため、次のコードの出力からも分かるように、チャンクを均等に分割することができません。"
   ]
  },
  {
   "cell_type": "code",
   "execution_count": 39,
   "id": "7a31b25c-79f4-4a10-b87d-ecdb21e7ca84",
   "metadata": {},
   "outputs": [
    {
     "name": "stdout",
     "output_type": "stream",
     "text": [
      "STREAMING:\n",
      "  FILTER [(col(\"A\")) > (0.5)] FROM\n",
      "     SELECT [col(\"A\").map_list(), col(\"B\").map_list()] FROM\n",
      "      Csv SCAN [data/streaming_test.csv]\n",
      "      PROJECT 2/3 COLUMNS\n",
      "A (99,) <_DummyThread(Dummy-6, started daemon 29448)>\n",
      "B (99,) <_DummyThread(Dummy-6, started daemon 29448)>\n",
      "A (99,) <_DummyThread(Dummy-10, started daemon 24416)>\n",
      "B (99,) <_DummyThread(Dummy-10, started daemon 24416)>\n",
      "A (98,) <_DummyThread(Dummy-4, started daemon 34336)>\n",
      "B (98,) <_DummyThread(Dummy-4, started daemon 34336)>\n",
      "A (99,) <_DummyThread(Dummy-7, started daemon 25668)>\n",
      "A (99,) <_DummyThread(Dummy-11, started daemon 31196)>\n",
      "B (99,) <_DummyThread(Dummy-11, started daemon 31196)>\n",
      "A (99,) <_DummyThread(Dummy-8, started daemon 32692)>\n",
      "B (99,) <_DummyThread(Dummy-8, started daemon 32692)>\n",
      "A (99,) <_DummyThread(Dummy-14, started daemon 29732)>\n",
      "B (99,) <_DummyThread(Dummy-14, started daemon 29732)>\n",
      "A (99,) <_DummyThread(Dummy-13, started daemon 32484)>\n",
      "B (99,) <_DummyThread(Dummy-13, started daemon 32484)>\n",
      "A (99,) <_DummyThread(Dummy-9, started daemon 30848)>\n",
      "B (99,) <_DummyThread(Dummy-9, started daemon 30848)>\n",
      "A (11,) <_DummyThread(Dummy-12, started daemon 32148)>\n",
      "B (11,) <_DummyThread(Dummy-12, started daemon 32148)>\n",
      "A (99,) <_DummyThread(Dummy-3, started daemon 5548)>\n",
      "B (99,) <_DummyThread(Dummy-3, started daemon 5548)>\n",
      "B (99,) <_DummyThread(Dummy-7, started daemon 25668)>\n"
     ]
    }
   ],
   "source": [
    "df.collect().write_csv('data/streaming_test.csv')\n",
    "df5 = pl.scan_csv('data/streaming_test.csv', cache=False, ).select(pl.col('A', 'B').map_batches(f, agg_list=True)).filter(pl.col('A') > 0.5)\n",
    "print(df5.explain(streaming=True))\n",
    "df5.collect(streaming=True, );"
   ]
  }
 ],
 "metadata": {
  "kernelspec": {
   "display_name": "Python 3 (ipykernel)",
   "language": "python",
   "name": "python3"
  },
  "language_info": {
   "codemirror_mode": {
    "name": "ipython",
    "version": 3
   },
   "file_extension": ".py",
   "mimetype": "text/x-python",
   "name": "python",
   "nbconvert_exporter": "python",
   "pygments_lexer": "ipython3",
   "version": "3.11.8"
  }
 },
 "nbformat": 4,
 "nbformat_minor": 5
}

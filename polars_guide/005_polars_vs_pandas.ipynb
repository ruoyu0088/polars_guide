{
 "cells": [
  {
   "cell_type": "markdown",
   "id": "dc81cda2-8d16-4256-a249-4b9d51d634e5",
   "metadata": {},
   "source": [
    "# Pandasとの比較"
   ]
  },
  {
   "cell_type": "markdown",
   "id": "89a2f5cb-e2ad-4cea-8417-6a81cb651f25",
   "metadata": {},
   "source": [
    "データ操作と分析の分野で広く利用されているライブラリとして、PolarsとPandasの二つがあります。これらのライブラリはどちらも強力なツールですが、その設計哲学やパフォーマンス特性にはいくつかの重要な違いがあります。以下では、PolarsとPandasの違いを比較し、Polarsの利点と欠点を明らかにします。"
   ]
  },
  {
   "cell_type": "code",
   "execution_count": 18,
   "id": "3a91e700-f5d8-4059-893c-257eca30a4c1",
   "metadata": {},
   "outputs": [],
   "source": [
    "from helper.jupyter import row"
   ]
  },
  {
   "cell_type": "markdown",
   "id": "6cc9e678-d21b-41a7-8dfe-25fed3c1b630",
   "metadata": {},
   "source": [
    "## 行のインデックス\n",
    "\n",
    "PandasとPolarsの行インデックスに関する違いは、両ライブラリの設計思想によるものです。以下に詳細を説明します。\n",
    "\n",
    "Pandasでは、行インデックス（`Index`オブジェクト）をサポートしています。インデックスはデータフレームの構造に組み込まれており、ラベル付きの行アクセスやデータ操作を効率化します。デフォルトでは整数インデックスが使用されますが、カスタムラベルや階層的なマルチインデックスを使用することも可能です。\n",
    "\n",
    "インデックスを利用した操作（例: `df.loc[...]`）は、ハッシュテーブルのような仕組みで高速に実行され、計算量は$O(1)$です。又、インデックスをキーとして使用することで、異なるデータセットを簡単に結合できます。"
   ]
  },
  {
   "cell_type": "code",
   "execution_count": 1,
   "id": "9aecbe2c-fb20-4956-82f7-01ee21a15fdc",
   "metadata": {},
   "outputs": [
    {
     "data": {
      "text/html": [
       "<div>\n",
       "<style scoped>\n",
       "    .dataframe tbody tr th:only-of-type {\n",
       "        vertical-align: middle;\n",
       "    }\n",
       "\n",
       "    .dataframe tbody tr th {\n",
       "        vertical-align: top;\n",
       "    }\n",
       "\n",
       "    .dataframe thead th {\n",
       "        text-align: right;\n",
       "    }\n",
       "</style>\n",
       "<table border=\"1\" class=\"dataframe\">\n",
       "  <thead>\n",
       "    <tr style=\"text-align: right;\">\n",
       "      <th></th>\n",
       "      <th>name</th>\n",
       "      <th>age</th>\n",
       "    </tr>\n",
       "    <tr>\n",
       "      <th>index</th>\n",
       "      <th></th>\n",
       "      <th></th>\n",
       "    </tr>\n",
       "  </thead>\n",
       "  <tbody>\n",
       "    <tr>\n",
       "      <th>a</th>\n",
       "      <td>Alice</td>\n",
       "      <td>25</td>\n",
       "    </tr>\n",
       "  </tbody>\n",
       "</table>\n",
       "</div>"
      ],
      "text/plain": [
       "        name  age\n",
       "index            \n",
       "a      Alice   25"
      ]
     },
     "execution_count": 1,
     "metadata": {},
     "output_type": "execute_result"
    }
   ],
   "source": [
    "import pandas as pd\n",
    "\n",
    "data = {'name': ['Alice', 'Bob', 'Charlie'], 'age': [25, 30, 35], 'index':['a', 'b', 'c']}\n",
    "df = pd.DataFrame(data).set_index('index')\n",
    "df.loc[['a']] #この計算はO(1)"
   ]
  },
  {
   "cell_type": "markdown",
   "id": "28e0001a-acee-4a96-a50b-f8a9ae701786",
   "metadata": {},
   "source": [
    "Polarsは、行インデックスをサポートせず、データは明確な列形式で処理されます。行の選択や操作は、列の値を基準として `filter()`メソッドなどを用いて行います。行インデックスのない設計により、メモリ効率や並列処理の最適化が可能です。欠点としては、行の選択は列の値に依存するため、計算量は$O(N)$です（線形探索を伴う）。"
   ]
  },
  {
   "cell_type": "code",
   "execution_count": 2,
   "id": "b0821734-89c5-4994-85d0-6671f6d4123e",
   "metadata": {},
   "outputs": [
    {
     "data": {
      "text/html": [
       "<div><style>\n",
       ".dataframe > thead > tr,\n",
       ".dataframe > tbody > tr {\n",
       "  text-align: right;\n",
       "  white-space: pre-wrap;\n",
       "}\n",
       "</style>\n",
       "<small>shape: (1, 3)</small><table border=\"1\" class=\"dataframe\"><thead><tr><th>name</th><th>age</th><th>index</th></tr><tr><td>str</td><td>i64</td><td>str</td></tr></thead><tbody><tr><td>&quot;Alice&quot;</td><td>25</td><td>&quot;a&quot;</td></tr></tbody></table></div>"
      ],
      "text/plain": [
       "shape: (1, 3)\n",
       "┌───────┬─────┬───────┐\n",
       "│ name  ┆ age ┆ index │\n",
       "│ ---   ┆ --- ┆ ---   │\n",
       "│ str   ┆ i64 ┆ str   │\n",
       "╞═══════╪═════╪═══════╡\n",
       "│ Alice ┆ 25  ┆ a     │\n",
       "└───────┴─────┴───────┘"
      ]
     },
     "execution_count": 2,
     "metadata": {},
     "output_type": "execute_result"
    }
   ],
   "source": [
    "import polars as pl\n",
    "\n",
    "df = pl.DataFrame(data)\n",
    "df.filter(pl.col.index == 'a') #この計算はO(N)"
   ]
  },
  {
   "cell_type": "markdown",
   "id": "f35c983e-0973-4ef3-9850-feacb3a8c29c",
   "metadata": {},
   "source": [
    "両者のインデックスに関する違いを次のテーブルでまとめます。\n",
    "\n",
    "| 特徴                 | Pandas                             | Polars                             |\n",
    "|----------------------|------------------------------------|------------------------------------|\n",
    "| **行インデックス**   | サポートあり                      | サポートなし                      |\n",
    "| **アクセス速度**     | \\( O(1) \\)（インデックス利用時） | \\( O(N) \\)（列ベースのフィルタリング） |\n",
    "| **設計思想**         | 行・列操作の柔軟性を重視          | 列指向・効率性を重視              |\n",
    "| **用途**             | 小～中規模データ処理              | 大規模データの高速処理            |\n"
   ]
  },
  {
   "cell_type": "markdown",
   "id": "683a0e05-ead4-4d98-bcff-a744cb923b71",
   "metadata": {},
   "source": [
    "## Polarsの列名は文字列のみ\n",
    "\n",
    "Pandasでは、列名として文字列以外にも整数やタプルなど、さまざまな型を使用することができます。これにより、データフレームを柔軟に構造化できます。"
   ]
  },
  {
   "cell_type": "code",
   "execution_count": 4,
   "id": "cb7096bc-dc48-49e2-8e9d-e8046479bf68",
   "metadata": {},
   "outputs": [
    {
     "name": "stdout",
     "output_type": "stream",
     "text": [
      "0      Alice\n",
      "1        Bob\n",
      "2    Charlie\n",
      "Name: 10, dtype: object\n"
     ]
    }
   ],
   "source": [
    "data = {10: ['Alice', 'Bob', 'Charlie'], 20: [25, 30, 35]}\n",
    "df = pd.DataFrame(data)\n",
    "print(df[10])"
   ]
  },
  {
   "cell_type": "markdown",
   "id": "b6b10b5f-584e-4163-9a62-b885a366a491",
   "metadata": {},
   "source": [
    "Polarsでは、すべての列名は文字列でなければなりません。これは設計の簡素化と一貫性のためであり、列名が明確に定義されていることを保証します。データ操作時に混乱が少なく、一貫したコードを書くことができます。"
   ]
  },
  {
   "cell_type": "code",
   "execution_count": 5,
   "id": "04f69669-0dab-4438-8b98-917d2e4ecbfb",
   "metadata": {},
   "outputs": [
    {
     "name": "stdout",
     "output_type": "stream",
     "text": [
      "shape: (3, 1)\n",
      "┌─────────┐\n",
      "│ 10      │\n",
      "│ ---     │\n",
      "│ str     │\n",
      "╞═════════╡\n",
      "│ Alice   │\n",
      "│ Bob     │\n",
      "│ Charlie │\n",
      "└─────────┘\n"
     ]
    }
   ],
   "source": [
    "df = pl.DataFrame({str(key):value for key, value in data.items()})\n",
    "print(df.select(pl.col('10')))"
   ]
  },
  {
   "cell_type": "markdown",
   "id": "d4725829-f8f5-4664-9ecc-7f6db89d31bf",
   "metadata": {},
   "source": [
    "## 演算式\n",
    "\n",
    "演算式は、データフレームの列に対する操作を表現するオブジェクトです。Polarsでは演算式を使用して、データ操作の一連の手続きを定義し、それを後で評価（実行）します。この仕組みにより、効率的で柔軟なデータ処理が可能になります。\n",
    "\n",
    "一方、Pandasには演算式の概念がありません。すべての操作は即時実行されます。例えば、以下のコードではすべての演算が即座に実行され、複数の中間結果がメモリに保存されます。"
   ]
  },
  {
   "cell_type": "code",
   "execution_count": 6,
   "id": "756d1b9a-c58f-4e6a-b7d6-27cf9c1acd19",
   "metadata": {},
   "outputs": [
    {
     "data": {
      "text/html": [
       "<div>\n",
       "<style scoped>\n",
       "    .dataframe tbody tr th:only-of-type {\n",
       "        vertical-align: middle;\n",
       "    }\n",
       "\n",
       "    .dataframe tbody tr th {\n",
       "        vertical-align: top;\n",
       "    }\n",
       "\n",
       "    .dataframe thead th {\n",
       "        text-align: right;\n",
       "    }\n",
       "</style>\n",
       "<table border=\"1\" class=\"dataframe\">\n",
       "  <thead>\n",
       "    <tr style=\"text-align: right;\">\n",
       "      <th></th>\n",
       "      <th>x</th>\n",
       "      <th>y</th>\n",
       "      <th>dist</th>\n",
       "    </tr>\n",
       "  </thead>\n",
       "  <tbody>\n",
       "    <tr>\n",
       "      <th>0</th>\n",
       "      <td>1</td>\n",
       "      <td>4</td>\n",
       "      <td>4.123106</td>\n",
       "    </tr>\n",
       "    <tr>\n",
       "      <th>1</th>\n",
       "      <td>2</td>\n",
       "      <td>5</td>\n",
       "      <td>5.385165</td>\n",
       "    </tr>\n",
       "    <tr>\n",
       "      <th>2</th>\n",
       "      <td>3</td>\n",
       "      <td>6</td>\n",
       "      <td>6.708204</td>\n",
       "    </tr>\n",
       "  </tbody>\n",
       "</table>\n",
       "</div>"
      ],
      "text/plain": [
       "   x  y      dist\n",
       "0  1  4  4.123106\n",
       "1  2  5  5.385165\n",
       "2  3  6  6.708204"
      ]
     },
     "execution_count": 6,
     "metadata": {},
     "output_type": "execute_result"
    }
   ],
   "source": [
    "df = pd.DataFrame(dict(\n",
    "    x=[1, 2, 3],\n",
    "    y=[4, 5, 6]\n",
    "))\n",
    "\n",
    "df['dist'] = (df['x']**2 + df['y']**2)**0.5\n",
    "df"
   ]
  },
  {
   "cell_type": "markdown",
   "id": "a56e9191-829f-4b98-b582-443ccd68a7b2",
   "metadata": {},
   "source": [
    "Pandasでまとめて計算をしたい場合、文字列を使って演算式を `eval()` に渡すことができます。ただし、この機能には限界があります。"
   ]
  },
  {
   "cell_type": "code",
   "execution_count": 8,
   "id": "8c04240f-9714-4b6d-815d-06c2e9e0897a",
   "metadata": {},
   "outputs": [
    {
     "data": {
      "text/html": [
       "<div>\n",
       "<style scoped>\n",
       "    .dataframe tbody tr th:only-of-type {\n",
       "        vertical-align: middle;\n",
       "    }\n",
       "\n",
       "    .dataframe tbody tr th {\n",
       "        vertical-align: top;\n",
       "    }\n",
       "\n",
       "    .dataframe thead th {\n",
       "        text-align: right;\n",
       "    }\n",
       "</style>\n",
       "<table border=\"1\" class=\"dataframe\">\n",
       "  <thead>\n",
       "    <tr style=\"text-align: right;\">\n",
       "      <th></th>\n",
       "      <th>x</th>\n",
       "      <th>y</th>\n",
       "      <th>dist</th>\n",
       "      <th>dist2</th>\n",
       "    </tr>\n",
       "  </thead>\n",
       "  <tbody>\n",
       "    <tr>\n",
       "      <th>0</th>\n",
       "      <td>1</td>\n",
       "      <td>4</td>\n",
       "      <td>4.123106</td>\n",
       "      <td>4.123106</td>\n",
       "    </tr>\n",
       "    <tr>\n",
       "      <th>1</th>\n",
       "      <td>2</td>\n",
       "      <td>5</td>\n",
       "      <td>5.385165</td>\n",
       "      <td>5.385165</td>\n",
       "    </tr>\n",
       "    <tr>\n",
       "      <th>2</th>\n",
       "      <td>3</td>\n",
       "      <td>6</td>\n",
       "      <td>6.708204</td>\n",
       "      <td>6.708204</td>\n",
       "    </tr>\n",
       "  </tbody>\n",
       "</table>\n",
       "</div>"
      ],
      "text/plain": [
       "   x  y      dist     dist2\n",
       "0  1  4  4.123106  4.123106\n",
       "1  2  5  5.385165  5.385165\n",
       "2  3  6  6.708204  6.708204"
      ]
     },
     "execution_count": 8,
     "metadata": {},
     "output_type": "execute_result"
    }
   ],
   "source": [
    "df['dist2'] = df.eval('(x**2 + y**2)**0.5')\n",
    "df"
   ]
  },
  {
   "cell_type": "markdown",
   "id": "464e5e82-1139-47c6-8962-e7ea0f7af970",
   "metadata": {},
   "source": [
    "Polarsでは、まず計算を表す演算式を構築し、それを `select()` や `with_columns()` などのメソッドに渡すことで、計算が開始されます。"
   ]
  },
  {
   "cell_type": "code",
   "execution_count": 10,
   "id": "acc116a1-04bd-41bb-9d03-5d99b8d5dfa7",
   "metadata": {},
   "outputs": [
    {
     "data": {
      "text/html": [
       "<div><style>\n",
       ".dataframe > thead > tr,\n",
       ".dataframe > tbody > tr {\n",
       "  text-align: right;\n",
       "  white-space: pre-wrap;\n",
       "}\n",
       "</style>\n",
       "<small>shape: (3, 3)</small><table border=\"1\" class=\"dataframe\"><thead><tr><th>x</th><th>y</th><th>dist</th></tr><tr><td>i64</td><td>i64</td><td>f64</td></tr></thead><tbody><tr><td>1</td><td>4</td><td>4.123106</td></tr><tr><td>2</td><td>5</td><td>5.385165</td></tr><tr><td>3</td><td>6</td><td>6.708204</td></tr></tbody></table></div>"
      ],
      "text/plain": [
       "shape: (3, 3)\n",
       "┌─────┬─────┬──────────┐\n",
       "│ x   ┆ y   ┆ dist     │\n",
       "│ --- ┆ --- ┆ ---      │\n",
       "│ i64 ┆ i64 ┆ f64      │\n",
       "╞═════╪═════╪══════════╡\n",
       "│ 1   ┆ 4   ┆ 4.123106 │\n",
       "│ 2   ┆ 5   ┆ 5.385165 │\n",
       "│ 3   ┆ 6   ┆ 6.708204 │\n",
       "└─────┴─────┴──────────┘"
      ]
     },
     "execution_count": 10,
     "metadata": {},
     "output_type": "execute_result"
    }
   ],
   "source": [
    "df = pl.DataFrame(dict(\n",
    "    x=[1, 2, 3],\n",
    "    y=[4, 5, 6]\n",
    "))\n",
    "\n",
    "df.with_columns(\n",
    "    dist = (pl.col('x')**2 + pl.col('y')**2).sqrt()\n",
    ")"
   ]
  },
  {
   "cell_type": "markdown",
   "id": "dffd6fcd-3762-41f1-abd1-3712b85338b7",
   "metadata": {},
   "source": [
    "さらに、`LazyDataFrame` を使用すると、`select()` や `with_columns()` などのメソッドでも即時計算は行われず、最終的に `collect()` を呼び出したタイミングで計算が実行されます。以下はその例です。\n"
   ]
  },
  {
   "cell_type": "code",
   "execution_count": 12,
   "id": "8b11ad70-8f9b-4e92-baf4-beea6f59e80c",
   "metadata": {},
   "outputs": [
    {
     "data": {
      "text/html": [
       "<div><style>\n",
       ".dataframe > thead > tr,\n",
       ".dataframe > tbody > tr {\n",
       "  text-align: right;\n",
       "  white-space: pre-wrap;\n",
       "}\n",
       "</style>\n",
       "<small>shape: (3, 1)</small><table border=\"1\" class=\"dataframe\"><thead><tr><th>dist</th></tr><tr><td>f64</td></tr></thead><tbody><tr><td>4.123106</td></tr><tr><td>5.385165</td></tr><tr><td>6.708204</td></tr></tbody></table></div>"
      ],
      "text/plain": [
       "shape: (3, 1)\n",
       "┌──────────┐\n",
       "│ dist     │\n",
       "│ ---      │\n",
       "│ f64      │\n",
       "╞══════════╡\n",
       "│ 4.123106 │\n",
       "│ 5.385165 │\n",
       "│ 6.708204 │\n",
       "└──────────┘"
      ]
     },
     "execution_count": 12,
     "metadata": {},
     "output_type": "execute_result"
    }
   ],
   "source": [
    "(df\n",
    ".lazy()\n",
    ".select(\n",
    "    x2 = pl.col('x')**2,\n",
    "    y2 = pl.col('y')**2\n",
    ")\n",
    ".select(\n",
    "    xy2 = pl.col('x2') + pl.col('y2')\n",
    ")\n",
    ".select(\n",
    "    dist = pl.col('xy2').sqrt()\n",
    ")\n",
    ".collect()\n",
    ")"
   ]
  },
  {
   "cell_type": "markdown",
   "id": "2e0705ac-2988-4803-a095-6a2bb016698f",
   "metadata": {},
   "source": [
    "演算式を使用することで、以下のようなメリットがあります：\n",
    "\n",
    "1. **遅延評価**  \n",
    "   Polarsの演算式（エクスプレッション）は、定義時には実行されず、明示的に評価（実行）されるまで待機します。これにより、必要のない計算を避け、効率的にデータ処理を行うことができます。\n",
    "\n",
    "2. **チェーン操作**  \n",
    "   複数の演算式をチェーンすることで、複雑なデータ操作を簡潔かつ読みやすく記述できます。これにより、コードの保守性が向上します。\n",
    "\n",
    "3. **パフォーマンス向上**  \n",
    "   Polarsは演算式を最適化し、一度に効率よく実行する仕組みを備えています。そのため、大規模データセットでも高速に処理を行うことができます。"
   ]
  },
  {
   "attachments": {},
   "cell_type": "markdown",
   "id": "8f1e7f5a-1ee3-492c-82b9-94479facfada",
   "metadata": {},
   "source": [
    "## データの不変性\n",
    "\n",
    "Pandasでは、**インプレース操作**（inplace）が頻繁に使用されます。例えば、以下のコードでは、条件に合った行を選択し、その場で給与を更新しています。"
   ]
  },
  {
   "cell_type": "code",
   "execution_count": 16,
   "id": "731e39c7-6e9b-41f5-97b4-c4d32ba80b67",
   "metadata": {},
   "outputs": [
    {
     "data": {
      "text/html": [
       "<div>\n",
       "<style scoped>\n",
       "    .dataframe tbody tr th:only-of-type {\n",
       "        vertical-align: middle;\n",
       "    }\n",
       "\n",
       "    .dataframe tbody tr th {\n",
       "        vertical-align: top;\n",
       "    }\n",
       "\n",
       "    .dataframe thead th {\n",
       "        text-align: right;\n",
       "    }\n",
       "</style>\n",
       "<table border=\"1\" class=\"dataframe\">\n",
       "  <thead>\n",
       "    <tr style=\"text-align: right;\">\n",
       "      <th></th>\n",
       "      <th>name</th>\n",
       "      <th>age</th>\n",
       "      <th>salary</th>\n",
       "    </tr>\n",
       "  </thead>\n",
       "  <tbody>\n",
       "    <tr>\n",
       "      <th>0</th>\n",
       "      <td>Alice</td>\n",
       "      <td>25</td>\n",
       "      <td>50000</td>\n",
       "    </tr>\n",
       "    <tr>\n",
       "      <th>1</th>\n",
       "      <td>Bob</td>\n",
       "      <td>30</td>\n",
       "      <td>65000</td>\n",
       "    </tr>\n",
       "    <tr>\n",
       "      <th>2</th>\n",
       "      <td>Charlie</td>\n",
       "      <td>35</td>\n",
       "      <td>75000</td>\n",
       "    </tr>\n",
       "  </tbody>\n",
       "</table>\n",
       "</div>"
      ],
      "text/plain": [
       "      name  age  salary\n",
       "0    Alice   25   50000\n",
       "1      Bob   30   65000\n",
       "2  Charlie   35   75000"
      ]
     },
     "execution_count": 16,
     "metadata": {},
     "output_type": "execute_result"
    }
   ],
   "source": [
    "data = {'name': ['Alice', 'Bob', 'Charlie'], 'age': [25, 30, 35], 'salary': [50000, 60000, 70000]}\n",
    "df = pd.DataFrame(data)\n",
    "\n",
    "# 年齢が30以上の人を選択し、給与を5000増加させる\n",
    "df.loc[df['age'] >= 30, 'salary'] += 5000\n",
    "df"
   ]
  },
  {
   "cell_type": "markdown",
   "id": "4521d2bf-a3e5-45e5-8fd7-df7a9b3c912c",
   "metadata": {},
   "source": [
    "一方、Polarsではデータフレームが不変（immutable）であるため、基本的に元のデータフレームを直接変更することはありません。代わりに、新しいデータフレームや列を生成します。以下はその例です。"
   ]
  },
  {
   "cell_type": "code",
   "execution_count": 19,
   "id": "97e1c294-2ccc-453f-a35f-e4c027b92976",
   "metadata": {},
   "outputs": [
    {
     "data": {
      "text/html": [
       "<table><tr><td><div><style>\n",
       ".dataframe > thead > tr,\n",
       ".dataframe > tbody > tr {\n",
       "  text-align: right;\n",
       "  white-space: pre-wrap;\n",
       "}\n",
       "</style>\n",
       "<small>shape: (3, 3)</small><table border=\"1\" class=\"dataframe\"><thead><tr><th>name</th><th>age</th><th>salary</th></tr><tr><td>str</td><td>i64</td><td>i64</td></tr></thead><tbody><tr><td>&quot;Alice&quot;</td><td>25</td><td>50000</td></tr><tr><td>&quot;Bob&quot;</td><td>30</td><td>60000</td></tr><tr><td>&quot;Charlie&quot;</td><td>35</td><td>70000</td></tr></tbody></table></div></td><td><div><style>\n",
       ".dataframe > thead > tr,\n",
       ".dataframe > tbody > tr {\n",
       "  text-align: right;\n",
       "  white-space: pre-wrap;\n",
       "}\n",
       "</style>\n",
       "<small>shape: (3, 4)</small><table border=\"1\" class=\"dataframe\"><thead><tr><th>name</th><th>age</th><th>salary</th><th>updated_salary</th></tr><tr><td>str</td><td>i64</td><td>i64</td><td>i64</td></tr></thead><tbody><tr><td>&quot;Alice&quot;</td><td>25</td><td>50000</td><td>50000</td></tr><tr><td>&quot;Bob&quot;</td><td>30</td><td>60000</td><td>65000</td></tr><tr><td>&quot;Charlie&quot;</td><td>35</td><td>70000</td><td>75000</td></tr></tbody></table></div></td></tr></table>"
      ]
     },
     "metadata": {},
     "output_type": "display_data"
    }
   ],
   "source": [
    "df = pl.DataFrame(data)\n",
    "\n",
    "# 年齢が30以上の人を選択し、給与を5000増加させるエクスプレッションを定義\n",
    "expr = (\n",
    "    pl.when(pl.col('age') >= 30)\n",
    "      .then(pl.col('salary') + 5000)\n",
    "      .otherwise(pl.col('salary'))\n",
    ")\n",
    "\n",
    "# エクスプレッションを適用して新しいデータフレームを作成\n",
    "df2 = df.with_columns(expr.alias('updated_salary'))\n",
    "row(df, df2)"
   ]
  },
  {
   "cell_type": "markdown",
   "id": "fb7331b4-8b40-4f56-a6ac-08125e3c71d3",
   "metadata": {},
   "source": [
    "非インプレース操作には、以下のようなメリットがあります：\n",
    "\n",
    "1. **安全性**  \n",
    "   元のデータフレームを変更しないため、データの保護が保証されます。これにより、意図しない変更やバグを防ぐことができます。\n",
    "\n",
    "2. **デバッグの容易さ**  \n",
    "   元のデータフレームがそのまま保持されるため、データの変化を簡単に追跡でき、問題の特定やデバッグが容易になります。\n",
    "\n",
    "3. **チェーン操作のサポート**  \n",
    "   各操作が新しいデータフレームを返すため、メソッドチェーンを使った直感的かつ効率的なデータ操作が可能です。これにより、コードの可読性と保守性が向上します。"
   ]
  }
 ],
 "metadata": {
  "kernelspec": {
   "display_name": "Python 3 (ipykernel)",
   "language": "python",
   "name": "python3"
  },
  "language_info": {
   "codemirror_mode": {
    "name": "ipython",
    "version": 3
   },
   "file_extension": ".py",
   "mimetype": "text/x-python",
   "name": "python",
   "nbconvert_exporter": "python",
   "pygments_lexer": "ipython3",
   "version": "3.12.2"
  }
 },
 "nbformat": 4,
 "nbformat_minor": 5
}

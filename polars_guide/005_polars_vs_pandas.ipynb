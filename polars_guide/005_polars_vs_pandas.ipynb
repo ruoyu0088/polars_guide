{
 "cells": [
  {
   "cell_type": "markdown",
   "id": "9f82bc60-5b31-4efc-aad9-2be39265272c",
   "metadata": {},
   "source": [
    "# Pandasとの比較\n",
    "\n",
    "データ操作と分析の分野で広く利用されているライブラリとして、PolarsとPandasの二つがあります。これらのライブラリはどちらも強力なツールですが、その設計哲学やパフォーマンス特性にはいくつかの重要な違いがあります。以下では、PolarsとPandasの違いを比較し、Polarsの利点と欠点を明らかにします。"
   ]
  },
  {
   "attachments": {},
   "cell_type": "markdown",
   "id": "3741b604-33fc-4ada-913a-580231295f64",
   "metadata": {},
   "source": [
    "## 行のインデックス\n",
    "\n",
    "DataFrameにおける行のインデックスの取り扱いに関して、PolarsとPandasには明確な違いがあります。"
   ]
  },
  {
   "cell_type": "markdown",
   "id": "09cf9ec6-3a19-434f-83a5-b07c81716fb5",
   "metadata": {},
   "source": [
    "**Pandas:**\n",
    "- **インデックス**: Pandasでは、DataFrameはインデックス（行ラベル）を持っています。デフォルトでは、インデックスは0から始まる整数ですが、カスタムのインデックスを指定することもできます。インデックスはデータ選択や操作を行う上で非常に便利です。\n",
    "- **インデックスの役割**: インデックスを使用すると、特定の行を迅速にアクセスしたり、データをマージ、結合、グループ化したりすることが簡単になります。"
   ]
  },
  {
   "cell_type": "code",
   "execution_count": 1,
   "id": "08bba8be-6be2-421d-8f1b-372651c5f850",
   "metadata": {},
   "outputs": [
    {
     "data": {
      "text/html": [
       "<div>\n",
       "<style scoped>\n",
       "    .dataframe tbody tr th:only-of-type {\n",
       "        vertical-align: middle;\n",
       "    }\n",
       "\n",
       "    .dataframe tbody tr th {\n",
       "        vertical-align: top;\n",
       "    }\n",
       "\n",
       "    .dataframe thead th {\n",
       "        text-align: right;\n",
       "    }\n",
       "</style>\n",
       "<table border=\"1\" class=\"dataframe\">\n",
       "  <thead>\n",
       "    <tr style=\"text-align: right;\">\n",
       "      <th></th>\n",
       "      <th>name</th>\n",
       "      <th>age</th>\n",
       "    </tr>\n",
       "    <tr>\n",
       "      <th>index</th>\n",
       "      <th></th>\n",
       "      <th></th>\n",
       "    </tr>\n",
       "  </thead>\n",
       "  <tbody>\n",
       "    <tr>\n",
       "      <th>a</th>\n",
       "      <td>Alice</td>\n",
       "      <td>25</td>\n",
       "    </tr>\n",
       "  </tbody>\n",
       "</table>\n",
       "</div>"
      ],
      "text/plain": [
       "        name  age\n",
       "index            \n",
       "a      Alice   25"
      ]
     },
     "execution_count": 1,
     "metadata": {},
     "output_type": "execute_result"
    }
   ],
   "source": [
    "import pandas as pd\n",
    "\n",
    "data = {'name': ['Alice', 'Bob', 'Charlie'], 'age': [25, 30, 35], 'index':['a', 'b', 'c']}\n",
    "df = pd.DataFrame(data).set_index('index')\n",
    "df.loc[['a']] #この計算はO(1)"
   ]
  },
  {
   "cell_type": "markdown",
   "id": "991005a7-11c1-42e5-a3e7-99e06288189d",
   "metadata": {},
   "source": [
    "**Polars:**\n",
    "- **インデックスなし**: Polarsではインデックスの概念がありません。すべての操作は明示的に行われ、行ラベルを使用せずに行を選択します。\n",
    "- **パフォーマンス**: インデックスを持たないため、Polarsはメモリ効率が高いです。"
   ]
  },
  {
   "cell_type": "code",
   "execution_count": 2,
   "id": "b0821734-89c5-4994-85d0-6671f6d4123e",
   "metadata": {},
   "outputs": [
    {
     "data": {
      "text/html": [
       "<div><style>\n",
       ".dataframe > thead > tr,\n",
       ".dataframe > tbody > tr {\n",
       "  text-align: right;\n",
       "  white-space: pre-wrap;\n",
       "}\n",
       "</style>\n",
       "<small>shape: (1, 3)</small><table border=\"1\" class=\"dataframe\"><thead><tr><th>name</th><th>age</th><th>index</th></tr><tr><td>str</td><td>i64</td><td>str</td></tr></thead><tbody><tr><td>&quot;Alice&quot;</td><td>25</td><td>&quot;a&quot;</td></tr></tbody></table></div>"
      ],
      "text/plain": [
       "shape: (1, 3)\n",
       "┌───────┬─────┬───────┐\n",
       "│ name  ┆ age ┆ index │\n",
       "│ ---   ┆ --- ┆ ---   │\n",
       "│ str   ┆ i64 ┆ str   │\n",
       "╞═══════╪═════╪═══════╡\n",
       "│ Alice ┆ 25  ┆ a     │\n",
       "└───────┴─────┴───────┘"
      ]
     },
     "execution_count": 2,
     "metadata": {},
     "output_type": "execute_result"
    }
   ],
   "source": [
    "import polars as pl\n",
    "\n",
    "df = pl.DataFrame(data)\n",
    "df.filter(pl.col.index == 'a') #この計算はO(N)"
   ]
  },
  {
   "cell_type": "markdown",
   "id": "683a0e05-ead4-4d98-bcff-a744cb923b71",
   "metadata": {},
   "source": [
    "## Polarsの列名は文字列のみ\n",
    "\n",
    "**Pandas:**\n",
    "\n",
    "Pandasでは、列名として文字列以外にも整数やタプルなど、さまざまな型を使用することができます。これにより、データフレームを柔軟に構造化できます。"
   ]
  },
  {
   "cell_type": "code",
   "execution_count": 16,
   "id": "cb7096bc-dc48-49e2-8e9d-e8046479bf68",
   "metadata": {},
   "outputs": [
    {
     "name": "stdout",
     "output_type": "stream",
     "text": [
      "0      Alice\n",
      "1        Bob\n",
      "2    Charlie\n",
      "Name: 10, dtype: object\n"
     ]
    }
   ],
   "source": [
    "data = {10: ['Alice', 'Bob', 'Charlie'], 20: [25, 30, 35]}\n",
    "df = pd.DataFrame(data)\n",
    "print(df[10])"
   ]
  },
  {
   "cell_type": "markdown",
   "id": "b6b10b5f-584e-4163-9a62-b885a366a491",
   "metadata": {},
   "source": [
    "**Polars:**\n",
    "\n",
    "Polarsでは、すべての列名は文字列でなければなりません。これは設計の簡素化と一貫性のためであり、列名が明確に定義されていることを保証します。すべての列名が文字列であるため、データ操作時に混乱が少なく、一貫したコードを書くことができます。"
   ]
  },
  {
   "cell_type": "code",
   "execution_count": 19,
   "id": "04f69669-0dab-4438-8b98-917d2e4ecbfb",
   "metadata": {},
   "outputs": [
    {
     "name": "stdout",
     "output_type": "stream",
     "text": [
      "shape: (3, 1)\n",
      "┌─────────┐\n",
      "│ 10      │\n",
      "│ ---     │\n",
      "│ str     │\n",
      "╞═════════╡\n",
      "│ Alice   │\n",
      "│ Bob     │\n",
      "│ Charlie │\n",
      "└─────────┘\n"
     ]
    }
   ],
   "source": [
    "df = pl.DataFrame({str(key):value for key, value in data.items()})\n",
    "print(df.select(pl.col('10')))"
   ]
  },
  {
   "cell_type": "markdown",
   "id": "598409c8-cc84-4b35-bd87-86f12334146e",
   "metadata": {},
   "source": [
    "## 演算式(Expression)\n",
    "\n",
    "演算式は、データフレームの列に対する操作を表現します。Polarsでは演算式を使って、データ操作の一連の手続きを定義し、それを後で評価（実行）します。これにより、効率的かつ柔軟なデータ処理が可能になります。"
   ]
  },
  {
   "cell_type": "markdown",
   "id": "23d26b31-81f8-46c7-8988-e0491d8dddff",
   "metadata": {},
   "source": [
    "**Pandas:**\n",
    "\n",
    "まず、Pandasでの操作を見てみましょう。Pandasでは、操作はすぐに実行されます。次コードでは、条件に合った行を選択し、その場で給与を更新しています。\n"
   ]
  },
  {
   "cell_type": "code",
   "execution_count": 21,
   "id": "731e39c7-6e9b-41f5-97b4-c4d32ba80b67",
   "metadata": {},
   "outputs": [
    {
     "name": "stdout",
     "output_type": "stream",
     "text": [
      "      name  age  salary\n",
      "0    Alice   25   50000\n",
      "1      Bob   30   65000\n",
      "2  Charlie   35   75000\n"
     ]
    }
   ],
   "source": [
    "data = {'name': ['Alice', 'Bob', 'Charlie'], 'age': [25, 30, 35], 'salary': [50000, 60000, 70000]}\n",
    "df = pd.DataFrame(data)\n",
    "\n",
    "# 年齢が30以上の人を選択し、給与を5000増加させる\n",
    "df.loc[df['age'] >= 30, 'salary'] += 5000\n",
    "print(df)"
   ]
  },
  {
   "cell_type": "markdown",
   "id": "4521d2bf-a3e5-45e5-8fd7-df7a9b3c912c",
   "metadata": {},
   "source": [
    "**Polars:**\n",
    "\n",
    "同じ操作をPolarsのエクスプレッションを使って行います。Polarsでは、データフレームの列を修正する際に「インプレース（inplace）」で変更するのではなく、新しい列を作成するという哲学を持っています。これは、データフレームが不変（immutable）であることを意味し、元のデータフレームは変更されず、新しいデータフレームや列が生成されます。"
   ]
  },
  {
   "cell_type": "code",
   "execution_count": 25,
   "id": "97e1c294-2ccc-453f-a35f-e4c027b92976",
   "metadata": {},
   "outputs": [
    {
     "name": "stdout",
     "output_type": "stream",
     "text": [
      "shape: (3, 4)\n",
      "┌─────────┬─────┬────────┬────────────────┐\n",
      "│ name    ┆ age ┆ salary ┆ updated_salary │\n",
      "│ ---     ┆ --- ┆ ---    ┆ ---            │\n",
      "│ str     ┆ i64 ┆ i64    ┆ i64            │\n",
      "╞═════════╪═════╪════════╪════════════════╡\n",
      "│ Alice   ┆ 25  ┆ 50000  ┆ 50000          │\n",
      "│ Bob     ┆ 30  ┆ 60000  ┆ 65000          │\n",
      "│ Charlie ┆ 35  ┆ 70000  ┆ 75000          │\n",
      "└─────────┴─────┴────────┴────────────────┘\n"
     ]
    }
   ],
   "source": [
    "df = pl.DataFrame(data)\n",
    "\n",
    "# 年齢が30以上の人を選択し、給与を5000増加させるエクスプレッションを定義\n",
    "expr = pl.when(pl.col('age') >= 30).then(pl.col('salary') + 5000).otherwise(pl.col('salary'))\n",
    "\n",
    "# エクスプレッションを適用して新しいデータフレームを作成\n",
    "df = df.with_columns(expr.alias('updated_salary'))\n",
    "print(df)"
   ]
  },
  {
   "cell_type": "markdown",
   "id": "fb7331b4-8b40-4f56-a6ac-08125e3c71d3",
   "metadata": {},
   "source": [
    "このコードでは、`expr`というエクスプレッションを定義し、それをデータフレームに適用しています。このエクスプレッションは「年齢が30以上なら給与を5000増やし、それ以外なら元の給与を保持する」という操作を表現しています。\n",
    "\n",
    "### 演算式の利点\n",
    "\n",
    "1. **遅延評価**: Polarsのエクスプレッションは定義時に実行されず、明示的に評価（実行）されるまで待機します。これにより、不要な計算を避け、効率的にデータ処理を行えます。\n",
    "2. **チェーン操作**: 複数のエクスプレッションをチェーンして、複雑なデータ操作を簡潔に記述できます。\n",
    "3. **パフォーマンス**: Polarsはエクスプレッションを最適化して一度に実行するため、大規模データセットでも高いパフォーマンスを発揮します。\n",
    "\n",
    "\n",
    "### 非インプレース操作の理由と利点\n",
    "\n",
    "1. 安全性: データフレームを変更しないことで、元のデータが保護されます。これにより、意図しない変更やバグを防ぐことができます。\n",
    "2. デバッグの容易さ: 元のデータフレームはそのまま残るため、データの変化を追跡しやすく、デバッグが容易になります。\n",
    "3. チェーン操作のサポート: 各操作が新しいデータフレームを返すため、メソッドチェーンを使った直感的なデータ操作が可能です。"
   ]
  },
  {
   "cell_type": "markdown",
   "id": "3c9d4d6c-115f-4d12-ae25-cc26d4b3af6a",
   "metadata": {},
   "source": [
    "## まとめ\n",
    "\n",
    "- **インデックス**: Pandasはインデックスを持ち、データ操作の柔軟性が高いが、Polarsはインデックスを持たず、シンプルで高速な操作が可能。\n",
    "- **列名**: Pandasは多様な列名をサポートし柔軟性が高いが、Polarsは列名を文字列に限定し一貫性を保つ。\n",
    "- **エクスプレッション**: Polarsの強力な機能であり、遅延評価とチェーン操作を活用することで、効率的かつ柔軟なデータ操作が可能になります。Pandasにはこのような中間表現の概念がないため、Polarsのエクスプレッションは特に大規模データセットの処理や複雑なデータ操作において有用です。\n",
    "\n",
    "PolarsとPandasのそれぞれの特性を理解することで、目的に応じて最適なライブラリを選択することができます。"
   ]
  }
 ],
 "metadata": {
  "kernelspec": {
   "display_name": "Python 3 (ipykernel)",
   "language": "python",
   "name": "python3"
  },
  "language_info": {
   "codemirror_mode": {
    "name": "ipython",
    "version": 3
   },
   "file_extension": ".py",
   "mimetype": "text/x-python",
   "name": "python",
   "nbconvert_exporter": "python",
   "pygments_lexer": "ipython3",
   "version": "3.11.8"
  }
 },
 "nbformat": 4,
 "nbformat_minor": 5
}

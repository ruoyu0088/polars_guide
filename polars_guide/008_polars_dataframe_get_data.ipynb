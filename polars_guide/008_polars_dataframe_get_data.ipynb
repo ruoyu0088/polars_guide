{
 "cells": [
  {
   "cell_type": "markdown",
   "id": "85070315-e811-42e8-a0a0-c8b3c406dab6",
   "metadata": {},
   "source": [
    "# PolarsとPython間のデータ変換"
   ]
  },
  {
   "cell_type": "code",
   "execution_count": 2,
   "id": "c7385efc-9537-4d82-8e7d-713f5d18ceb8",
   "metadata": {},
   "outputs": [],
   "source": [
    "import polars as pl\n",
    "from helper.jupyter import row"
   ]
  },
  {
   "cell_type": "markdown",
   "id": "ee1d168a-4f1d-4059-893c-4cbd4a9c298a",
   "metadata": {},
   "source": [
    "## PythonからPolarsに"
   ]
  },
  {
   "cell_type": "markdown",
   "id": "ecce10ba-a945-4330-ba37-dec30370210f",
   "metadata": {},
   "source": [
    "### リストと辞書の組み合わせ"
   ]
  },
  {
   "cell_type": "markdown",
   "id": "bf1572ab-1637-4453-b39f-e50600550191",
   "metadata": {},
   "source": [
    "次のプログラムは、異なるPythonのデータ構造（辞書のリスト、リストの辞書、リストのリスト）を使用して`DataFrame`を作成します。\n",
    "\n",
    "1. 辞書のリスト(`list[dict]`): 辞書のキーが列名となり、リスト内の各辞書が1行分のデータとなります。\n",
    "2. リストの辞書(`dict[list]`): 辞書のキーが列名となり、各リストの要素がその列に対応するデータになります。\n",
    "3. リストのリスト(`list[list]`): `schema`引数で列名を指定します。\n",
    "   * `orient`引数は`'row'`の場合は、データの方向が行単位であることを指定して、内部の一つリストが1行分のデータとなります。\n",
    "   * `orient`引数は`'col'`の場合は、データの方向が列単位であることを指定して、内部の一つリストが1列分のデータとなります。この例では内部リストのデータ型一致しないので、`strict=False`で自動型変換を有効にします。"
   ]
  },
  {
   "cell_type": "code",
   "execution_count": 15,
   "id": "1f3ce2fa-510e-4be0-a758-43d841ea8526",
   "metadata": {},
   "outputs": [
    {
     "data": {
      "text/html": [
       "<table><tr><td><div><style>\n",
       ".dataframe > thead > tr,\n",
       ".dataframe > tbody > tr {\n",
       "  text-align: right;\n",
       "  white-space: pre-wrap;\n",
       "}\n",
       "</style>\n",
       "<small>shape: (3, 2)</small><table border=\"1\" class=\"dataframe\"><thead><tr><th>name</th><th>age</th></tr><tr><td>str</td><td>i64</td></tr></thead><tbody><tr><td>&quot;Alice&quot;</td><td>30</td></tr><tr><td>&quot;Bob&quot;</td><td>25</td></tr><tr><td>&quot;Charlie&quot;</td><td>35</td></tr></tbody></table></div></td><td><div><style>\n",
       ".dataframe > thead > tr,\n",
       ".dataframe > tbody > tr {\n",
       "  text-align: right;\n",
       "  white-space: pre-wrap;\n",
       "}\n",
       "</style>\n",
       "<small>shape: (3, 2)</small><table border=\"1\" class=\"dataframe\"><thead><tr><th>name</th><th>age</th></tr><tr><td>str</td><td>i64</td></tr></thead><tbody><tr><td>&quot;Alice&quot;</td><td>30</td></tr><tr><td>&quot;Bob&quot;</td><td>25</td></tr><tr><td>&quot;Charlie&quot;</td><td>35</td></tr></tbody></table></div></td><td><div><style>\n",
       ".dataframe > thead > tr,\n",
       ".dataframe > tbody > tr {\n",
       "  text-align: right;\n",
       "  white-space: pre-wrap;\n",
       "}\n",
       "</style>\n",
       "<small>shape: (3, 2)</small><table border=\"1\" class=\"dataframe\"><thead><tr><th>name</th><th>age</th></tr><tr><td>str</td><td>i64</td></tr></thead><tbody><tr><td>&quot;Alice&quot;</td><td>30</td></tr><tr><td>&quot;Bob&quot;</td><td>25</td></tr><tr><td>&quot;Charlie&quot;</td><td>35</td></tr></tbody></table></div></td><td><div><style>\n",
       ".dataframe > thead > tr,\n",
       ".dataframe > tbody > tr {\n",
       "  text-align: right;\n",
       "  white-space: pre-wrap;\n",
       "}\n",
       "</style>\n",
       "<small>shape: (2, 3)</small><table border=\"1\" class=\"dataframe\"><thead><tr><th>p1</th><th>p2</th><th>p3</th></tr><tr><td>str</td><td>str</td><td>str</td></tr></thead><tbody><tr><td>&quot;Alice&quot;</td><td>&quot;Bob&quot;</td><td>&quot;Charlie&quot;</td></tr><tr><td>&quot;30&quot;</td><td>&quot;25&quot;</td><td>&quot;35&quot;</td></tr></tbody></table></div></td></tr></table>"
      ]
     },
     "metadata": {},
     "output_type": "display_data"
    }
   ],
   "source": [
    "# list[dict]\n",
    "dict_in_list = [\n",
    "    {\"name\": \"Alice\", \"age\": 30},\n",
    "    {\"name\": \"Bob\", \"age\": 25},\n",
    "    {\"name\": \"Charlie\", \"age\": 35}\n",
    "]\n",
    "df1 = pl.DataFrame(dict_in_list)\n",
    "\n",
    "# dict[list]\n",
    "list_in_dict = {\n",
    "    \"name\": [\"Alice\", \"Bob\", \"Charlie\"],\n",
    "    \"age\": [30, 25, 35],\n",
    "}\n",
    "df2 = pl.DataFrame(list_in_dict)\n",
    "\n",
    "# list[list]\n",
    "list_in_list = [\n",
    "    [\"Alice\", 30],\n",
    "    [\"Bob\", 25],\n",
    "    [\"Charlie\", 35]\n",
    "]\n",
    "columns = [\"name\", \"age\"]  # カラム名を指定\n",
    "df3 = pl.DataFrame(list_in_list, schema=columns, orient='row')\n",
    "df4 = pl.DataFrame(list_in_list, schema=['p1', 'p2', 'p3'], orient='col', strict=False)\n",
    "row(df1, df2, df3, df4)"
   ]
  },
  {
   "cell_type": "markdown",
   "id": "84ad5590-8224-4d0e-b55b-77d302fc6c81",
   "metadata": {},
   "source": [
    "次の`data` は辞書形式で、次のようなデータを持っています：\n",
    "\n",
    " - `\"point\"` キーの値は辞書のリスト (`list[dict]`) で、各辞書には`x` と `y` の2つのキーが含まれています。\n",
    " - `\"weight\"` キーの値は整数のリスト (`list[int]`) です。\n",
    "\n",
    "データフレームに変換するとき、外側の辞書のキーは列名になり、`point`列の要素は`Struct`型（構造体）に変換されます。"
   ]
  },
  {
   "cell_type": "code",
   "execution_count": 65,
   "id": "9f14e575-4397-4c4b-859f-db6c3970138b",
   "metadata": {},
   "outputs": [
    {
     "data": {
      "text/html": [
       "<div><style>\n",
       ".dataframe > thead > tr,\n",
       ".dataframe > tbody > tr {\n",
       "  text-align: right;\n",
       "  white-space: pre-wrap;\n",
       "}\n",
       "</style>\n",
       "<small>shape: (3, 2)</small><table border=\"1\" class=\"dataframe\"><thead><tr><th>point</th><th>weight</th></tr><tr><td>struct[2]</td><td>i64</td></tr></thead><tbody><tr><td>{1,2}</td><td>5</td></tr><tr><td>{3,4}</td><td>4</td></tr><tr><td>{5,6}</td><td>8</td></tr></tbody></table></div>"
      ],
      "text/plain": [
       "shape: (3, 2)\n",
       "┌───────────┬────────┐\n",
       "│ point     ┆ weight │\n",
       "│ ---       ┆ ---    │\n",
       "│ struct[2] ┆ i64    │\n",
       "╞═══════════╪════════╡\n",
       "│ {1,2}     ┆ 5      │\n",
       "│ {3,4}     ┆ 4      │\n",
       "│ {5,6}     ┆ 8      │\n",
       "└───────────┴────────┘"
      ]
     },
     "execution_count": 65,
     "metadata": {},
     "output_type": "execute_result"
    }
   ],
   "source": [
    "data = {\n",
    "    \"point\": [{\"x\": 1, \"y\": 2}, {\"x\": 3, \"y\": 4}, {\"x\": 5, \"y\": 6}],\n",
    "    \"weight\": [5, 4, 8],\n",
    "}\n",
    "pl.DataFrame(data)"
   ]
  },
  {
   "cell_type": "markdown",
   "id": "68739442-76a4-49cf-84de-3e666235504c",
   "metadata": {},
   "source": [
    "### NumPyの配列"
   ]
  },
  {
   "cell_type": "markdown",
   "id": "89dcd835-c290-4587-a174-7543ba5c9b32",
   "metadata": {},
   "source": [
    "NumPyの配列を扱う際、以下のようにlistとNumPy配列と互換性を持ちます。\n",
    "\n",
    "* `dict[list]`と`dict[1次元配列]`は同じ扱い\n",
    "* `list[list]`と２次元配列は同じ扱い"
   ]
  },
  {
   "cell_type": "code",
   "execution_count": 25,
   "id": "c761d1cb-c5d3-4669-ad59-da095ce5e16f",
   "metadata": {},
   "outputs": [
    {
     "data": {
      "text/html": [
       "<table><tr><td><div><style>\n",
       ".dataframe > thead > tr,\n",
       ".dataframe > tbody > tr {\n",
       "  text-align: right;\n",
       "  white-space: pre-wrap;\n",
       "}\n",
       "</style>\n",
       "<small>shape: (3, 2)</small><table border=\"1\" class=\"dataframe\"><thead><tr><th>x</th><th>y</th></tr><tr><td>i32</td><td>i32</td></tr></thead><tbody><tr><td>1</td><td>2</td></tr><tr><td>3</td><td>4</td></tr><tr><td>5</td><td>6</td></tr></tbody></table></div></td><td><div><style>\n",
       ".dataframe > thead > tr,\n",
       ".dataframe > tbody > tr {\n",
       "  text-align: right;\n",
       "  white-space: pre-wrap;\n",
       "}\n",
       "</style>\n",
       "<small>shape: (3, 2)</small><table border=\"1\" class=\"dataframe\"><thead><tr><th>x</th><th>y</th></tr><tr><td>i32</td><td>i32</td></tr></thead><tbody><tr><td>1</td><td>2</td></tr><tr><td>3</td><td>4</td></tr><tr><td>5</td><td>6</td></tr></tbody></table></div></td><td><div><style>\n",
       ".dataframe > thead > tr,\n",
       ".dataframe > tbody > tr {\n",
       "  text-align: right;\n",
       "  white-space: pre-wrap;\n",
       "}\n",
       "</style>\n",
       "<small>shape: (2, 3)</small><table border=\"1\" class=\"dataframe\"><thead><tr><th>p1</th><th>p2</th><th>p3</th></tr><tr><td>i32</td><td>i32</td><td>i32</td></tr></thead><tbody><tr><td>1</td><td>3</td><td>5</td></tr><tr><td>2</td><td>4</td><td>6</td></tr></tbody></table></div></td></tr></table>"
      ]
     },
     "metadata": {},
     "output_type": "display_data"
    }
   ],
   "source": [
    "import numpy as np\n",
    "array_in_dict = {\n",
    "    \"x\": np.array([1, 3, 5]),\n",
    "    \"y\": np.array([2, 4, 6]),\n",
    "}\n",
    "\n",
    "df1 = pl.DataFrame(array_in_dict)\n",
    "\n",
    "array_2d = np.array([[1, 2], [3, 4], [5, 6]])\n",
    "df2 = pl.DataFrame(array_2d, schema=['x', 'y'], orient='row')\n",
    "df3 = pl.DataFrame(array_2d, schema=['p1', 'p2', 'p3'], orient='col')\n",
    "row(df1, df2, df3)"
   ]
  },
  {
   "cell_type": "markdown",
   "id": "f21f1c4f-4539-4970-91f2-af6ca3cb244c",
   "metadata": {},
   "source": [
    "1次元の構造化配列をデータフレームに変換する場合は、配列の各フィールドはデータフレームの各列になります。"
   ]
  },
  {
   "cell_type": "code",
   "execution_count": 66,
   "id": "795cbc29-23a2-4dc2-9001-12d34cd35c67",
   "metadata": {},
   "outputs": [
    {
     "data": {
      "text/html": [
       "<div><style>\n",
       ".dataframe > thead > tr,\n",
       ".dataframe > tbody > tr {\n",
       "  text-align: right;\n",
       "  white-space: pre-wrap;\n",
       "}\n",
       "</style>\n",
       "<small>shape: (3, 2)</small><table border=\"1\" class=\"dataframe\"><thead><tr><th>x</th><th>y</th></tr><tr><td>i16</td><td>i16</td></tr></thead><tbody><tr><td>1</td><td>30</td></tr><tr><td>2</td><td>25</td></tr><tr><td>3</td><td>35</td></tr></tbody></table></div>"
      ],
      "text/plain": [
       "shape: (3, 2)\n",
       "┌─────┬─────┐\n",
       "│ x   ┆ y   │\n",
       "│ --- ┆ --- │\n",
       "│ i16 ┆ i16 │\n",
       "╞═════╪═════╡\n",
       "│ 1   ┆ 30  │\n",
       "│ 2   ┆ 25  │\n",
       "│ 3   ┆ 35  │\n",
       "└─────┴─────┘"
      ]
     },
     "execution_count": 66,
     "metadata": {},
     "output_type": "execute_result"
    }
   ],
   "source": [
    "arr = np.array([\n",
    "    (1, 30),\n",
    "    (2, 25),\n",
    "    (3, 35)], dtype=[('x', 'i2'), ('y', 'i2')])\n",
    "\n",
    "pl.DataFrame(arr)"
   ]
  },
  {
   "cell_type": "markdown",
   "id": "c3e7beb0-be74-4f65-aa78-4f9c0c0b5a69",
   "metadata": {},
   "source": [
    "### Seriesを含むデータ"
   ]
  },
  {
   "cell_type": "markdown",
   "id": "76949b0a-54b6-4134-9828-063d1ad1993d",
   "metadata": {},
   "source": [
    "`pl.Series` を扱う場合、`list[Series]` や `dict[Series]` の形式をデータフレームに変換することがよくあります。どちらの場合も、それぞれの `Series` はデータフレームの列になりますが、列名の扱いが異なります。\n",
    "\n",
    "- `list[Series]`: 列名は `Series` の名前がそのまま使われます。\n",
    "- `dict[Series]`: 列名は辞書のキーが使われます。"
   ]
  },
  {
   "cell_type": "code",
   "execution_count": 67,
   "id": "a3fe401b-d85c-4059-829f-6142f97d746e",
   "metadata": {},
   "outputs": [
    {
     "data": {
      "text/html": [
       "<table><tr><td><div><style>\n",
       ".dataframe > thead > tr,\n",
       ".dataframe > tbody > tr {\n",
       "  text-align: right;\n",
       "  white-space: pre-wrap;\n",
       "}\n",
       "</style>\n",
       "<small>shape: (3, 2)</small><table border=\"1\" class=\"dataframe\"><thead><tr><th>x</th><th>y</th></tr><tr><td>i64</td><td>i64</td></tr></thead><tbody><tr><td>1</td><td>4</td></tr><tr><td>2</td><td>5</td></tr><tr><td>3</td><td>6</td></tr></tbody></table></div></td><td><div><style>\n",
       ".dataframe > thead > tr,\n",
       ".dataframe > tbody > tr {\n",
       "  text-align: right;\n",
       "  white-space: pre-wrap;\n",
       "}\n",
       "</style>\n",
       "<small>shape: (3, 2)</small><table border=\"1\" class=\"dataframe\"><thead><tr><th>A</th><th>B</th></tr><tr><td>i64</td><td>i64</td></tr></thead><tbody><tr><td>1</td><td>4</td></tr><tr><td>2</td><td>5</td></tr><tr><td>3</td><td>6</td></tr></tbody></table></div></td></tr></table>"
      ]
     },
     "metadata": {},
     "output_type": "display_data"
    }
   ],
   "source": [
    "sx = pl.Series('x', [1, 2, 3])\n",
    "sy = pl.Series('y', [4, 5, 6])\n",
    "\n",
    "df1 = pl.DataFrame([sx, sy])\n",
    "df2 = pl.DataFrame({'A':sx, 'B':sy})\n",
    "row(df1, df2)"
   ]
  },
  {
   "cell_type": "markdown",
   "id": "a757d2c6-a311-4162-89ea-99b43e1e7ac1",
   "metadata": {},
   "source": [
    "### pl.from_*()関数"
   ]
  },
  {
   "cell_type": "markdown",
   "id": "add40361-d2d0-449c-9e35-bb982e9d5258",
   "metadata": {},
   "source": [
    "`from_` で始まる関数は、さまざまなデータ型をデータフレームに変換するために使用されます。これらの関数を利用すると、意図しないデータ変換が発生しにくく、コードのロバスト性を向上させることができます。\n",
    "\n",
    "- `pl.from_dict()`: `dict[list]` のデータから変換\n",
    "- `pl.from_dicts()`: `list[dict]` のデータから変換\n",
    "- `pl.from_numpy()`: NumPy の配列から変換\n",
    "- `pl.from_records()`: `list[list]` のデータから変換"
   ]
  },
  {
   "cell_type": "markdown",
   "id": "97789e60-d5ae-442f-a7d2-e9e6fdce8f0b",
   "metadata": {},
   "source": [
    "## PolarsからPythonに"
   ]
  },
  {
   "cell_type": "markdown",
   "id": "bee5cfbd-67ba-4111-94c9-2d0b8100ded8",
   "metadata": {},
   "source": [
    "本節は、データフレームから列、行、或いは単一の値を取得する方法について説明します。"
   ]
  },
  {
   "cell_type": "code",
   "execution_count": 3,
   "id": "90d8e5e2-9c1d-48a4-9e59-779a20c44bef",
   "metadata": {},
   "outputs": [],
   "source": [
    "df = pl.DataFrame(\n",
    "    {\n",
    "        \"a\": [3, 3, 3, 4],\n",
    "        \"b\": [4, 12, 6, 7],\n",
    "        \"g\": ['A', 'B', 'A', 'B']\n",
    "    }\n",
    ")"
   ]
  },
  {
   "cell_type": "markdown",
   "id": "cb3fb550-ab0d-4250-b798-986736c28adc",
   "metadata": {},
   "source": [
    "### 列を取得"
   ]
  },
  {
   "cell_type": "markdown",
   "id": "6da287a3-53b2-4e4c-853a-aa216630db8b",
   "metadata": {},
   "source": [
    "PolarsでDataFrameから列データをSeriesとして取得する方法はいくつかあります。\n",
    "\n",
    "* `DataFrame.to_series()`: インデックスで列を取得します。\n",
    "* `DataFrame.get_column()`: 列名で列を取得します。\n",
    "* `DataFrame.get_columns()`: すべての列を取得します。\n",
    "* `DataFrame.iter_columns()`: 列のイテレーターを取得します。\n",
    "\n",
    "`DataFrame.to_series()` メソッドを使用すると、指定したインデックスに基づいて列を Series として取得できます。`DataFrame.get_column()` メソッドを使用すると、列名を指定して Series を取得できます。`DataFrame[\"column_name\"]`のような辞書形式で列名を指定して Seriesを取得することもできます。"
   ]
  },
  {
   "cell_type": "code",
   "execution_count": 5,
   "id": "3dc0cb3a-d39d-42c2-bd2b-e0b63a8c851b",
   "metadata": {},
   "outputs": [
    {
     "data": {
      "text/html": [
       "<table><tr><td><div><style>\n",
       ".dataframe > thead > tr,\n",
       ".dataframe > tbody > tr {\n",
       "  text-align: right;\n",
       "  white-space: pre-wrap;\n",
       "}\n",
       "</style>\n",
       "<small>shape: (4,)</small><table border=\"1\" class=\"dataframe\"><thead><tr><th>a</th></tr><tr><td>i64</td></tr></thead><tbody><tr><td>3</td></tr><tr><td>3</td></tr><tr><td>3</td></tr><tr><td>4</td></tr></tbody></table></div></td><td><div><style>\n",
       ".dataframe > thead > tr,\n",
       ".dataframe > tbody > tr {\n",
       "  text-align: right;\n",
       "  white-space: pre-wrap;\n",
       "}\n",
       "</style>\n",
       "<small>shape: (4,)</small><table border=\"1\" class=\"dataframe\"><thead><tr><th>b</th></tr><tr><td>i64</td></tr></thead><tbody><tr><td>4</td></tr><tr><td>12</td></tr><tr><td>6</td></tr><tr><td>7</td></tr></tbody></table></div></td><td><div><style>\n",
       ".dataframe > thead > tr,\n",
       ".dataframe > tbody > tr {\n",
       "  text-align: right;\n",
       "  white-space: pre-wrap;\n",
       "}\n",
       "</style>\n",
       "<small>shape: (4,)</small><table border=\"1\" class=\"dataframe\"><thead><tr><th>g</th></tr><tr><td>str</td></tr></thead><tbody><tr><td>&quot;A&quot;</td></tr><tr><td>&quot;B&quot;</td></tr><tr><td>&quot;A&quot;</td></tr><tr><td>&quot;B&quot;</td></tr></tbody></table></div></td></tr></table>"
      ]
     },
     "metadata": {},
     "output_type": "display_data"
    }
   ],
   "source": [
    "s1 = df.to_series(0)\n",
    "s2 = df.get_column('b')\n",
    "s3 = df['g']\n",
    "row(s1, s2, s3)"
   ]
  },
  {
   "cell_type": "markdown",
   "id": "977a4de8-d3a1-4b90-a5d9-c7cab592670b",
   "metadata": {},
   "source": [
    "`DataFrame.get_columns()` メソッドは、DataFrame 内のすべての列を Series のリストとして取得します。"
   ]
  },
  {
   "cell_type": "code",
   "execution_count": 6,
   "id": "e4d3455e-7ac0-48b2-b2c6-128419babdb6",
   "metadata": {},
   "outputs": [
    {
     "data": {
      "text/html": [
       "<table><tr><td><div><style>\n",
       ".dataframe > thead > tr,\n",
       ".dataframe > tbody > tr {\n",
       "  text-align: right;\n",
       "  white-space: pre-wrap;\n",
       "}\n",
       "</style>\n",
       "<small>shape: (4,)</small><table border=\"1\" class=\"dataframe\"><thead><tr><th>a</th></tr><tr><td>i64</td></tr></thead><tbody><tr><td>3</td></tr><tr><td>3</td></tr><tr><td>3</td></tr><tr><td>4</td></tr></tbody></table></div></td><td><div><style>\n",
       ".dataframe > thead > tr,\n",
       ".dataframe > tbody > tr {\n",
       "  text-align: right;\n",
       "  white-space: pre-wrap;\n",
       "}\n",
       "</style>\n",
       "<small>shape: (4,)</small><table border=\"1\" class=\"dataframe\"><thead><tr><th>b</th></tr><tr><td>i64</td></tr></thead><tbody><tr><td>4</td></tr><tr><td>12</td></tr><tr><td>6</td></tr><tr><td>7</td></tr></tbody></table></div></td><td><div><style>\n",
       ".dataframe > thead > tr,\n",
       ".dataframe > tbody > tr {\n",
       "  text-align: right;\n",
       "  white-space: pre-wrap;\n",
       "}\n",
       "</style>\n",
       "<small>shape: (4,)</small><table border=\"1\" class=\"dataframe\"><thead><tr><th>g</th></tr><tr><td>str</td></tr></thead><tbody><tr><td>&quot;A&quot;</td></tr><tr><td>&quot;B&quot;</td></tr><tr><td>&quot;A&quot;</td></tr><tr><td>&quot;B&quot;</td></tr></tbody></table></div></td></tr></table>"
      ]
     },
     "metadata": {},
     "output_type": "display_data"
    }
   ],
   "source": [
    "sa, sb, sg = df.get_columns()\n",
    "row(sa, sb, sg)"
   ]
  },
  {
   "cell_type": "markdown",
   "id": "5215980b-6a4d-4d52-8d50-70a20cfb3b2f",
   "metadata": {},
   "source": [
    "`DataFrame.iter_columns()`は、DataFrame内のすべての列を一つずつ返します。"
   ]
  },
  {
   "cell_type": "code",
   "execution_count": 8,
   "id": "f1a5d14f-bbf1-4c31-b0ea-8a10aef5d399",
   "metadata": {},
   "outputs": [
    {
     "name": "stdout",
     "output_type": "stream",
     "text": [
      "a [3, 3, 3, 4]\n",
      "b [4, 12, 6, 7]\n",
      "g ['A', 'B', 'A', 'B']\n"
     ]
    }
   ],
   "source": [
    "for col in df.iter_columns():\n",
    "    print(col.name, col.to_list())"
   ]
  },
  {
   "cell_type": "markdown",
   "id": "a462d925-7ca0-41e1-afab-c34f6e8f811c",
   "metadata": {},
   "source": [
    "### to_*()メソッド"
   ]
  },
  {
   "cell_type": "markdown",
   "id": "34e926d3-f939-4863-82a6-ecdeffc38be3",
   "metadata": {},
   "source": [
    "`Series.to_numpy()`または`Series.to_list()`メソッドを使用すると、`Series`オブジェクトをNumPyの配列やリストに変換することができます。"
   ]
  },
  {
   "cell_type": "code",
   "execution_count": 16,
   "id": "3a795f08-d08f-48da-9307-8373286b2df9",
   "metadata": {},
   "outputs": [
    {
     "name": "stdout",
     "output_type": "stream",
     "text": [
      "sa.to_numpy() = array([3, 3, 3, 4], dtype=int64)\n",
      "sa.to_list() = [3, 3, 3, 4]\n"
     ]
    }
   ],
   "source": [
    "print(f'{sa.to_numpy() = }')\n",
    "print(f'{sa.to_list() = }')"
   ]
  },
  {
   "cell_type": "markdown",
   "id": "8fd6ac81-13c8-4e2e-b914-299a874b4e5c",
   "metadata": {},
   "source": [
    "`DataFrame.to_numpy()`でNumPyの配列に変換することができます。デフォルトはすべての値を一番上位のデータ型に変換します。数値と文字列混在のデータの場合は、`dtype=object`の配列になります。"
   ]
  },
  {
   "cell_type": "code",
   "execution_count": 15,
   "id": "0b1927c5-1127-44a8-9a06-dff3b298f1d2",
   "metadata": {},
   "outputs": [
    {
     "data": {
      "text/plain": [
       "array([[3, 4, 'A'],\n",
       "       [3, 12, 'B'],\n",
       "       [3, 6, 'A'],\n",
       "       [4, 7, 'B']], dtype=object)"
      ]
     },
     "execution_count": 15,
     "metadata": {},
     "output_type": "execute_result"
    }
   ],
   "source": [
    "df.to_numpy()"
   ]
  },
  {
   "cell_type": "markdown",
   "id": "9ac10ad4-0828-49a5-82da-316b55606115",
   "metadata": {},
   "source": [
    "`structured`引数を`True`にすれば、構造化配列に変換します。"
   ]
  },
  {
   "cell_type": "code",
   "execution_count": 14,
   "id": "15b6d758-3880-40bf-8240-4067a676dd59",
   "metadata": {},
   "outputs": [
    {
     "data": {
      "text/plain": [
       "array([(3,  4, 'A'), (3, 12, 'B'), (3,  6, 'A'), (4,  7, 'B')],\n",
       "      dtype=[('a', '<i8'), ('b', '<i8'), ('g', '<U1')])"
      ]
     },
     "execution_count": 14,
     "metadata": {},
     "output_type": "execute_result"
    }
   ],
   "source": [
    "df.to_numpy(structured=True)"
   ]
  },
  {
   "cell_type": "markdown",
   "id": "653e866d-75b0-4d36-bc6f-fe72409f2769",
   "metadata": {},
   "source": [
    "`to_dict()`メソッドで`dict[Series]`型の辞書に変換します。"
   ]
  },
  {
   "cell_type": "code",
   "execution_count": 29,
   "id": "2cb7d482-6491-48e4-b79c-468980cba074",
   "metadata": {},
   "outputs": [
    {
     "data": {
      "text/plain": [
       "{'a': shape: (4,)\n",
       " Series: 'a' [i64]\n",
       " [\n",
       " \t3\n",
       " \t3\n",
       " \t3\n",
       " \t4\n",
       " ],\n",
       " 'b': shape: (4,)\n",
       " Series: 'b' [i64]\n",
       " [\n",
       " \t4\n",
       " \t12\n",
       " \t6\n",
       " \t7\n",
       " ],\n",
       " 'g': shape: (4,)\n",
       " Series: 'g' [str]\n",
       " [\n",
       " \t\"A\"\n",
       " \t\"B\"\n",
       " \t\"A\"\n",
       " \t\"B\"\n",
       " ]}"
      ]
     },
     "execution_count": 29,
     "metadata": {},
     "output_type": "execute_result"
    }
   ],
   "source": [
    "df.to_dict()"
   ]
  },
  {
   "cell_type": "markdown",
   "id": "72bbb49d-19f6-4f28-86cd-40643a000ba5",
   "metadata": {},
   "source": [
    "`to_dicts()`メソッドで`list[dict]`型のリストに変換します。"
   ]
  },
  {
   "cell_type": "code",
   "execution_count": 30,
   "id": "58a547da-ab12-4b1d-97b9-83d4fc16d3e4",
   "metadata": {},
   "outputs": [
    {
     "data": {
      "text/plain": [
       "[{'a': 3, 'b': 4, 'g': 'A'},\n",
       " {'a': 3, 'b': 12, 'g': 'B'},\n",
       " {'a': 3, 'b': 6, 'g': 'A'},\n",
       " {'a': 4, 'b': 7, 'g': 'B'}]"
      ]
     },
     "execution_count": 30,
     "metadata": {},
     "output_type": "execute_result"
    }
   ],
   "source": [
    "df.to_dicts()"
   ]
  },
  {
   "cell_type": "markdown",
   "id": "cefe66c1-f001-4ea5-9909-282d987332e2",
   "metadata": {},
   "source": [
    "### 行を取得"
   ]
  },
  {
   "cell_type": "markdown",
   "id": "14b5ed3f-0b9e-40cd-b03d-1f354c884be2",
   "metadata": {},
   "source": [
    "- **`DataFrame.row(index)`**: 特定のインデックスにある行をタプルとして取得します。\n",
    "- **`DataFrame.rows()`**: DataFrame のすべての行をタプルのリストとして取得します。\n",
    "- **`DataFrame.iter_rows()`**: DataFrame の各行に対してイテレーションを行い、各行をタプルとして返します。\n",
    "- **`DataFrame.rows_by_key()`**: 指定したキーに基づいて行をグループ化し、各グループに属する行をタプルのリストとして返します。"
   ]
  },
  {
   "cell_type": "markdown",
   "id": "2e3c30c5-2797-4c48-b089-ee959710c50d",
   "metadata": {},
   "source": [
    "`DataFrame.row(index)` は、指定したインデックス（行番号）に対応する行を取得するためのメソッドです。このメソッドは、特定の行をタプル形式で返します。"
   ]
  },
  {
   "cell_type": "code",
   "execution_count": 17,
   "id": "702ff46e-4de9-4c13-bc8d-f83f8016ff5f",
   "metadata": {},
   "outputs": [
    {
     "data": {
      "text/plain": [
       "(3, 6, 'A')"
      ]
     },
     "execution_count": 17,
     "metadata": {},
     "output_type": "execute_result"
    }
   ],
   "source": [
    "df.row(2)"
   ]
  },
  {
   "cell_type": "markdown",
   "id": "872d97ce-a2f0-4dd8-86a6-bdce8d2b2b51",
   "metadata": {},
   "source": [
    "`named`引数を`True`にすることで、列名を含む辞書形式で返します。"
   ]
  },
  {
   "cell_type": "code",
   "execution_count": 18,
   "id": "4e4cc940-73ff-4425-9ada-220c39b1b2c4",
   "metadata": {},
   "outputs": [
    {
     "data": {
      "text/plain": [
       "{'a': 3, 'b': 6, 'g': 'A'}"
      ]
     },
     "execution_count": 18,
     "metadata": {},
     "output_type": "execute_result"
    }
   ],
   "source": [
    "df.row(2, named=True)"
   ]
  },
  {
   "cell_type": "markdown",
   "id": "683d4b9d-84ec-4756-b6aa-eb1661d93395",
   "metadata": {},
   "source": [
    "`by_predicate`で演算式がTrueになる行を取得することができます。複数の行は条件に満たす場合は、エラーになります。"
   ]
  },
  {
   "cell_type": "code",
   "execution_count": 19,
   "id": "b031ac7a-91a9-4e18-ad54-eca6bd226b91",
   "metadata": {},
   "outputs": [
    {
     "data": {
      "text/plain": [
       "(4, 7, 'B')"
      ]
     },
     "execution_count": 19,
     "metadata": {},
     "output_type": "execute_result"
    }
   ],
   "source": [
    "df.row(by_predicate=pl.col.a == pl.col.a.max())"
   ]
  },
  {
   "cell_type": "markdown",
   "id": "91013fc5-46f9-42f9-a8a8-e947ecd8c74c",
   "metadata": {},
   "source": [
    "`DataFrame.rows()` は、DataFrame 内のすべての行をタプルのリストとして取得するメソッドです。DataFrame 全体のデータを行単位で操作したい場合に便利です。又、`DataFrame.iter_rows()` は各行に対してイテレーションを行うためのメソッドです。"
   ]
  },
  {
   "cell_type": "code",
   "execution_count": 20,
   "id": "3acfe240-e1e7-4515-a7ca-6d8e2ac738ac",
   "metadata": {},
   "outputs": [
    {
     "data": {
      "text/plain": [
       "[(3, 4, 'A'), (3, 12, 'B'), (3, 6, 'A'), (4, 7, 'B')]"
      ]
     },
     "execution_count": 20,
     "metadata": {},
     "output_type": "execute_result"
    }
   ],
   "source": [
    "df.rows()"
   ]
  },
  {
   "cell_type": "code",
   "execution_count": 21,
   "id": "17992191-50bb-4f06-9d22-39cffd95fca9",
   "metadata": {},
   "outputs": [
    {
     "data": {
      "text/plain": [
       "[{'a': 3, 'b': 4, 'g': 'A'},\n",
       " {'a': 3, 'b': 12, 'g': 'B'},\n",
       " {'a': 3, 'b': 6, 'g': 'A'},\n",
       " {'a': 4, 'b': 7, 'g': 'B'}]"
      ]
     },
     "execution_count": 21,
     "metadata": {},
     "output_type": "execute_result"
    }
   ],
   "source": [
    "df.rows(named=True)"
   ]
  },
  {
   "cell_type": "code",
   "execution_count": 22,
   "id": "db29051a-b42a-4796-98f3-e92bc29ec344",
   "metadata": {},
   "outputs": [
    {
     "name": "stdout",
     "output_type": "stream",
     "text": [
      "(3, 4, 'A')\n",
      "(3, 12, 'B')\n",
      "(3, 6, 'A')\n",
      "(4, 7, 'B')\n"
     ]
    }
   ],
   "source": [
    "for row in df.iter_rows():\n",
    "    print(row)"
   ]
  },
  {
   "cell_type": "markdown",
   "id": "ca328a2c-4608-4b0a-a880-d94450117faa",
   "metadata": {},
   "source": [
    "`DataFrame.rows_by_key()` は、指定したキー（列）に基づいて DataFrame 内の行をグループ化し、そのキーに対応する行をタプルのリストとして返すメソッドです。"
   ]
  },
  {
   "cell_type": "code",
   "execution_count": 23,
   "id": "d5e5c679-464d-49c9-8f5b-bbee3a5f2f90",
   "metadata": {},
   "outputs": [
    {
     "data": {
      "text/plain": [
       "defaultdict(list, {'A': [(3, 4), (3, 6)], 'B': [(3, 12), (4, 7)]})"
      ]
     },
     "execution_count": 23,
     "metadata": {},
     "output_type": "execute_result"
    }
   ],
   "source": [
    "df.rows_by_key('g')"
   ]
  },
  {
   "cell_type": "code",
   "execution_count": 24,
   "id": "4eebfd2b-c0f1-48ef-a15a-58b52a8c2962",
   "metadata": {},
   "outputs": [
    {
     "data": {
      "text/plain": [
       "defaultdict(list,\n",
       "            {'A': [{'a': 3, 'b': 4}, {'a': 3, 'b': 6}],\n",
       "             'B': [{'a': 3, 'b': 12}, {'a': 4, 'b': 7}]})"
      ]
     },
     "execution_count": 24,
     "metadata": {},
     "output_type": "execute_result"
    }
   ],
   "source": [
    "df.rows_by_key('g', named=True)"
   ]
  },
  {
   "cell_type": "markdown",
   "id": "38cd53a7-abbe-4a30-a84a-84f83aef8488",
   "metadata": {},
   "source": [
    "### 単一の値"
   ]
  },
  {
   "cell_type": "markdown",
   "id": "2c0a77fd-3142-43ae-bc00-eb76959bd9a5",
   "metadata": {},
   "source": [
    "`DataFrame.item()`は、DataFrameから単一の値を取得するためのメソッドです。"
   ]
  },
  {
   "cell_type": "code",
   "execution_count": 25,
   "id": "8cc5efcb-bc32-43c3-8d8d-5910a341da04",
   "metadata": {},
   "outputs": [
    {
     "data": {
      "text/plain": [
       "3"
      ]
     },
     "execution_count": 25,
     "metadata": {},
     "output_type": "execute_result"
    }
   ],
   "source": [
    "df.item(2, 'a')"
   ]
  },
  {
   "cell_type": "markdown",
   "id": "a53396e1-56bd-48e5-a07b-a7672565f5f2",
   "metadata": {},
   "source": [
    "DataFrameに値が一つだけ含まれる場合、引数を省略できます。列の統計値を取得して、それを別の計算に利用する際によく使用されます。"
   ]
  },
  {
   "cell_type": "code",
   "execution_count": 33,
   "id": "b0dfd433-79ce-4f58-8af3-6dea054d2ce3",
   "metadata": {},
   "outputs": [
    {
     "data": {
      "text/plain": [
       "0.0325"
      ]
     },
     "execution_count": 33,
     "metadata": {},
     "output_type": "execute_result"
    }
   ],
   "source": [
    "df.select(pl.col('a').mean()).item() / 100"
   ]
  }
 ],
 "metadata": {
  "kernelspec": {
   "display_name": "Python 3 (ipykernel)",
   "language": "python",
   "name": "python3"
  },
  "language_info": {
   "codemirror_mode": {
    "name": "ipython",
    "version": 3
   },
   "file_extension": ".py",
   "mimetype": "text/x-python",
   "name": "python",
   "nbconvert_exporter": "python",
   "pygments_lexer": "ipython3",
   "version": "3.12.2"
  }
 },
 "nbformat": 4,
 "nbformat_minor": 5
}

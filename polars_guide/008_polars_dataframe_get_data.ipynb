{
 "cells": [
  {
   "cell_type": "markdown",
   "id": "85070315-e811-42e8-a0a0-c8b3c406dab6",
   "metadata": {},
   "source": [
    "# データフレーム"
   ]
  },
  {
   "cell_type": "markdown",
   "id": "c81bd7ed-68a5-49ac-96da-734973786932",
   "metadata": {},
   "source": [
    "データフレーム(DataFrame)はPolarsの中心的なデータ構造で、行と列からなる2次元のデータを表現します。各列は同じデータ型を持ち、列ごとに型が異なることが可能です。"
   ]
  },
  {
   "cell_type": "code",
   "execution_count": 2,
   "id": "c7385efc-9537-4d82-8e7d-713f5d18ceb8",
   "metadata": {},
   "outputs": [],
   "source": [
    "import polars as pl\n",
    "from helper.jupyter import row"
   ]
  },
  {
   "cell_type": "markdown",
   "id": "ee1d168a-4f1d-4059-893c-4cbd4a9c298a",
   "metadata": {},
   "source": [
    "## データフレームの作成\n",
    "\n",
    "本節では、Pythonの他のオブジェクトからデータフレームオブジェクトを作成する方法について説明します。"
   ]
  },
  {
   "cell_type": "markdown",
   "id": "ecce10ba-a945-4330-ba37-dec30370210f",
   "metadata": {},
   "source": [
    "### リストと辞書の組み合わせ"
   ]
  },
  {
   "cell_type": "markdown",
   "id": "bf1572ab-1637-4453-b39f-e50600550191",
   "metadata": {},
   "source": [
    "次のプログラムは、異なるPythonのデータ構造（辞書のリスト、リストの辞書、リストのリスト）を使用して`DataFrame`を作成します。\n",
    "\n",
    "1. 辞書のリスト(`list[dict]`): 辞書のキーが列名となり、リスト内の各辞書が1行分のデータとなります。\n",
    "2. リストの辞書(`dict[list]`): 辞書のキーが列名となり、各リストの要素がその列に対応するデータになります。\n",
    "3. リストのリスト(`list[list]`): `schema`引数で列名を指定します。\n",
    "   * `orient`引数は`'row'`の場合は、データの方向が行単位であることを指定して、内部の一つリストが1行分のデータとなります。\n",
    "   * `orient`引数は`'col'`の場合は、データの方向が列単位であることを指定して、内部の一つリストが1列分のデータとなります。この例では内部リストのデータ型一致しないので、`strict=False`で自動型変換を有効にします。"
   ]
  },
  {
   "cell_type": "code",
   "execution_count": 3,
   "id": "1f3ce2fa-510e-4be0-a758-43d841ea8526",
   "metadata": {},
   "outputs": [
    {
     "data": {
      "text/html": [
       "<table><tr><td><div><style>\n",
       ".dataframe > thead > tr,\n",
       ".dataframe > tbody > tr {\n",
       "  text-align: right;\n",
       "  white-space: pre-wrap;\n",
       "}\n",
       "</style>\n",
       "<small>shape: (3, 2)</small><table border=\"1\" class=\"dataframe\"><thead><tr><th>name</th><th>age</th></tr><tr><td>str</td><td>i64</td></tr></thead><tbody><tr><td>&quot;Alice&quot;</td><td>30</td></tr><tr><td>&quot;Bob&quot;</td><td>25</td></tr><tr><td>&quot;Charlie&quot;</td><td>35</td></tr></tbody></table></div></td><td><div><style>\n",
       ".dataframe > thead > tr,\n",
       ".dataframe > tbody > tr {\n",
       "  text-align: right;\n",
       "  white-space: pre-wrap;\n",
       "}\n",
       "</style>\n",
       "<small>shape: (3, 2)</small><table border=\"1\" class=\"dataframe\"><thead><tr><th>name</th><th>age</th></tr><tr><td>str</td><td>i64</td></tr></thead><tbody><tr><td>&quot;Alice&quot;</td><td>30</td></tr><tr><td>&quot;Bob&quot;</td><td>25</td></tr><tr><td>&quot;Charlie&quot;</td><td>35</td></tr></tbody></table></div></td><td><div><style>\n",
       ".dataframe > thead > tr,\n",
       ".dataframe > tbody > tr {\n",
       "  text-align: right;\n",
       "  white-space: pre-wrap;\n",
       "}\n",
       "</style>\n",
       "<small>shape: (3, 2)</small><table border=\"1\" class=\"dataframe\"><thead><tr><th>name</th><th>age</th></tr><tr><td>str</td><td>i64</td></tr></thead><tbody><tr><td>&quot;Alice&quot;</td><td>30</td></tr><tr><td>&quot;Bob&quot;</td><td>25</td></tr><tr><td>&quot;Charlie&quot;</td><td>35</td></tr></tbody></table></div></td><td><div><style>\n",
       ".dataframe > thead > tr,\n",
       ".dataframe > tbody > tr {\n",
       "  text-align: right;\n",
       "  white-space: pre-wrap;\n",
       "}\n",
       "</style>\n",
       "<small>shape: (2, 3)</small><table border=\"1\" class=\"dataframe\"><thead><tr><th>p1</th><th>p2</th><th>p3</th></tr><tr><td>str</td><td>str</td><td>str</td></tr></thead><tbody><tr><td>&quot;Alice&quot;</td><td>&quot;Bob&quot;</td><td>&quot;Charlie&quot;</td></tr><tr><td>&quot;30&quot;</td><td>&quot;25&quot;</td><td>&quot;35&quot;</td></tr></tbody></table></div></td></tr></table>"
      ]
     },
     "metadata": {},
     "output_type": "display_data"
    }
   ],
   "source": [
    "# list[dict]\n",
    "dict_in_list = [\n",
    "    {\"name\": \"Alice\", \"age\": 30},\n",
    "    {\"name\": \"Bob\", \"age\": 25},\n",
    "    {\"name\": \"Charlie\", \"age\": 35}\n",
    "]\n",
    "df1 = pl.DataFrame(dict_in_list)\n",
    "\n",
    "# dict[list]\n",
    "list_in_dict = {\n",
    "    \"name\": [\"Alice\", \"Bob\", \"Charlie\"],\n",
    "    \"age\": [30, 25, 35],\n",
    "}\n",
    "df2 = pl.DataFrame(list_in_dict)\n",
    "\n",
    "# list[list]\n",
    "list_in_list = [\n",
    "    [\"Alice\", 30],\n",
    "    [\"Bob\", 25],\n",
    "    [\"Charlie\", 35]\n",
    "]\n",
    "columns = [\"name\", \"age\"]  # カラム名を指定\n",
    "df3 = pl.DataFrame(list_in_list, schema=columns, orient='row')\n",
    "df4 = pl.DataFrame(list_in_list, schema=['p1', 'p2', 'p3'], orient='col', strict=False)\n",
    "row(df1, df2, df3, df4)"
   ]
  },
  {
   "cell_type": "markdown",
   "id": "84ad5590-8224-4d0e-b55b-77d302fc6c81",
   "metadata": {},
   "source": [
    "次の`data` は辞書形式で、次のようなデータを持っています：\n",
    "\n",
    " - `\"point\"` キーの値は辞書のリスト (`list[dict]`) で、各辞書には`x` と `y` の2つのキーが含まれています。\n",
    " - `\"weight\"` キーの値は整数のリスト (`list[int]`) です。\n",
    "\n",
    "データフレームに変換するとき、外側の辞書のキーは列名になり、`point`列の要素は`Struct`型（構造体）に変換されます。"
   ]
  },
  {
   "cell_type": "code",
   "execution_count": 4,
   "id": "9f14e575-4397-4c4b-859f-db6c3970138b",
   "metadata": {},
   "outputs": [
    {
     "data": {
      "text/html": [
       "<div><style>\n",
       ".dataframe > thead > tr,\n",
       ".dataframe > tbody > tr {\n",
       "  text-align: right;\n",
       "  white-space: pre-wrap;\n",
       "}\n",
       "</style>\n",
       "<small>shape: (3, 2)</small><table border=\"1\" class=\"dataframe\"><thead><tr><th>point</th><th>weight</th></tr><tr><td>struct[2]</td><td>i64</td></tr></thead><tbody><tr><td>{1,2}</td><td>5</td></tr><tr><td>{3,4}</td><td>4</td></tr><tr><td>{5,6}</td><td>8</td></tr></tbody></table></div>"
      ],
      "text/plain": [
       "shape: (3, 2)\n",
       "┌───────────┬────────┐\n",
       "│ point     ┆ weight │\n",
       "│ ---       ┆ ---    │\n",
       "│ struct[2] ┆ i64    │\n",
       "╞═══════════╪════════╡\n",
       "│ {1,2}     ┆ 5      │\n",
       "│ {3,4}     ┆ 4      │\n",
       "│ {5,6}     ┆ 8      │\n",
       "└───────────┴────────┘"
      ]
     },
     "execution_count": 4,
     "metadata": {},
     "output_type": "execute_result"
    }
   ],
   "source": [
    "data = {\n",
    "    \"point\": [{\"x\": 1, \"y\": 2}, {\"x\": 3, \"y\": 4}, {\"x\": 5, \"y\": 6}],\n",
    "    \"weight\": [5, 4, 8],\n",
    "}\n",
    "pl.DataFrame(data)"
   ]
  },
  {
   "cell_type": "markdown",
   "id": "68739442-76a4-49cf-84de-3e666235504c",
   "metadata": {},
   "source": [
    "### NumPyの配列"
   ]
  },
  {
   "cell_type": "markdown",
   "id": "89dcd835-c290-4587-a174-7543ba5c9b32",
   "metadata": {},
   "source": [
    "NumPyの配列を扱う際、以下のようにlistとNumPy配列と互換性を持ちます。\n",
    "\n",
    "* `dict[list]`と`dict[1次元配列]`は同じ扱い\n",
    "* `list[list]`と２次元配列は同じ扱い"
   ]
  },
  {
   "cell_type": "code",
   "execution_count": 5,
   "id": "c761d1cb-c5d3-4669-ad59-da095ce5e16f",
   "metadata": {},
   "outputs": [
    {
     "data": {
      "text/html": [
       "<table><tr><td><div><style>\n",
       ".dataframe > thead > tr,\n",
       ".dataframe > tbody > tr {\n",
       "  text-align: right;\n",
       "  white-space: pre-wrap;\n",
       "}\n",
       "</style>\n",
       "<small>shape: (3, 2)</small><table border=\"1\" class=\"dataframe\"><thead><tr><th>x</th><th>y</th></tr><tr><td>i32</td><td>i32</td></tr></thead><tbody><tr><td>1</td><td>2</td></tr><tr><td>3</td><td>4</td></tr><tr><td>5</td><td>6</td></tr></tbody></table></div></td><td><div><style>\n",
       ".dataframe > thead > tr,\n",
       ".dataframe > tbody > tr {\n",
       "  text-align: right;\n",
       "  white-space: pre-wrap;\n",
       "}\n",
       "</style>\n",
       "<small>shape: (3, 2)</small><table border=\"1\" class=\"dataframe\"><thead><tr><th>x</th><th>y</th></tr><tr><td>i32</td><td>i32</td></tr></thead><tbody><tr><td>1</td><td>2</td></tr><tr><td>3</td><td>4</td></tr><tr><td>5</td><td>6</td></tr></tbody></table></div></td><td><div><style>\n",
       ".dataframe > thead > tr,\n",
       ".dataframe > tbody > tr {\n",
       "  text-align: right;\n",
       "  white-space: pre-wrap;\n",
       "}\n",
       "</style>\n",
       "<small>shape: (2, 3)</small><table border=\"1\" class=\"dataframe\"><thead><tr><th>p1</th><th>p2</th><th>p3</th></tr><tr><td>i32</td><td>i32</td><td>i32</td></tr></thead><tbody><tr><td>1</td><td>3</td><td>5</td></tr><tr><td>2</td><td>4</td><td>6</td></tr></tbody></table></div></td></tr></table>"
      ]
     },
     "metadata": {},
     "output_type": "display_data"
    }
   ],
   "source": [
    "import numpy as np\n",
    "array_in_dict = {\n",
    "    \"x\": np.array([1, 3, 5]),\n",
    "    \"y\": np.array([2, 4, 6]),\n",
    "}\n",
    "\n",
    "df1 = pl.DataFrame(array_in_dict)\n",
    "\n",
    "array_2d = np.array([[1, 2], [3, 4], [5, 6]])\n",
    "df2 = pl.DataFrame(array_2d, schema=['x', 'y'], orient='row')\n",
    "df3 = pl.DataFrame(array_2d, schema=['p1', 'p2', 'p3'], orient='col')\n",
    "row(df1, df2, df3)"
   ]
  },
  {
   "cell_type": "markdown",
   "id": "f21f1c4f-4539-4970-91f2-af6ca3cb244c",
   "metadata": {},
   "source": [
    "1次元の構造化配列をデータフレームに変換する場合は、配列の各フィールドはデータフレームの各列になります。"
   ]
  },
  {
   "cell_type": "code",
   "execution_count": 6,
   "id": "795cbc29-23a2-4dc2-9001-12d34cd35c67",
   "metadata": {},
   "outputs": [
    {
     "data": {
      "text/html": [
       "<div><style>\n",
       ".dataframe > thead > tr,\n",
       ".dataframe > tbody > tr {\n",
       "  text-align: right;\n",
       "  white-space: pre-wrap;\n",
       "}\n",
       "</style>\n",
       "<small>shape: (3, 2)</small><table border=\"1\" class=\"dataframe\"><thead><tr><th>x</th><th>y</th></tr><tr><td>i16</td><td>i16</td></tr></thead><tbody><tr><td>1</td><td>30</td></tr><tr><td>2</td><td>25</td></tr><tr><td>3</td><td>35</td></tr></tbody></table></div>"
      ],
      "text/plain": [
       "shape: (3, 2)\n",
       "┌─────┬─────┐\n",
       "│ x   ┆ y   │\n",
       "│ --- ┆ --- │\n",
       "│ i16 ┆ i16 │\n",
       "╞═════╪═════╡\n",
       "│ 1   ┆ 30  │\n",
       "│ 2   ┆ 25  │\n",
       "│ 3   ┆ 35  │\n",
       "└─────┴─────┘"
      ]
     },
     "execution_count": 6,
     "metadata": {},
     "output_type": "execute_result"
    }
   ],
   "source": [
    "arr = np.array([\n",
    "    (1, 30),\n",
    "    (2, 25),\n",
    "    (3, 35)], dtype=[('x', 'i2'), ('y', 'i2')])\n",
    "\n",
    "pl.DataFrame(arr)"
   ]
  },
  {
   "cell_type": "markdown",
   "id": "c3e7beb0-be74-4f65-aa78-4f9c0c0b5a69",
   "metadata": {},
   "source": [
    "### Seriesを含むデータ"
   ]
  },
  {
   "cell_type": "markdown",
   "id": "76949b0a-54b6-4134-9828-063d1ad1993d",
   "metadata": {},
   "source": [
    "`pl.Series` を扱う場合、`list[Series]` や `dict[Series]` の形式をデータフレームに変換することがよくあります。どちらの場合も、それぞれの `Series` はデータフレームの列になりますが、列名の扱いが異なります。\n",
    "\n",
    "- `list[Series]`: 列名は `Series` の名前がそのまま使われます。\n",
    "- `dict[Series]`: 列名は辞書のキーが使われます。"
   ]
  },
  {
   "cell_type": "code",
   "execution_count": 7,
   "id": "a3fe401b-d85c-4059-829f-6142f97d746e",
   "metadata": {},
   "outputs": [
    {
     "data": {
      "text/html": [
       "<table><tr><td><div><style>\n",
       ".dataframe > thead > tr,\n",
       ".dataframe > tbody > tr {\n",
       "  text-align: right;\n",
       "  white-space: pre-wrap;\n",
       "}\n",
       "</style>\n",
       "<small>shape: (3, 2)</small><table border=\"1\" class=\"dataframe\"><thead><tr><th>x</th><th>y</th></tr><tr><td>i64</td><td>i64</td></tr></thead><tbody><tr><td>1</td><td>4</td></tr><tr><td>2</td><td>5</td></tr><tr><td>3</td><td>6</td></tr></tbody></table></div></td><td><div><style>\n",
       ".dataframe > thead > tr,\n",
       ".dataframe > tbody > tr {\n",
       "  text-align: right;\n",
       "  white-space: pre-wrap;\n",
       "}\n",
       "</style>\n",
       "<small>shape: (3, 2)</small><table border=\"1\" class=\"dataframe\"><thead><tr><th>A</th><th>B</th></tr><tr><td>i64</td><td>i64</td></tr></thead><tbody><tr><td>1</td><td>4</td></tr><tr><td>2</td><td>5</td></tr><tr><td>3</td><td>6</td></tr></tbody></table></div></td></tr></table>"
      ]
     },
     "metadata": {},
     "output_type": "display_data"
    }
   ],
   "source": [
    "sx = pl.Series('x', [1, 2, 3])\n",
    "sy = pl.Series('y', [4, 5, 6])\n",
    "\n",
    "df1 = pl.DataFrame([sx, sy])\n",
    "df2 = pl.DataFrame({'A':sx, 'B':sy})\n",
    "row(df1, df2)"
   ]
  },
  {
   "cell_type": "markdown",
   "id": "a757d2c6-a311-4162-89ea-99b43e1e7ac1",
   "metadata": {},
   "source": [
    "### pl.from_*()関数"
   ]
  },
  {
   "cell_type": "markdown",
   "id": "add40361-d2d0-449c-9e35-bb982e9d5258",
   "metadata": {},
   "source": [
    "`from_` で始まる関数は、さまざまなデータ型をデータフレームに変換するために使用されます。これらの関数を利用すると、意図しないデータ変換が発生しにくく、コードのロバスト性を向上させることができます。\n",
    "\n",
    "- `pl.from_dict()`: `dict[list]` のデータから変換\n",
    "- `pl.from_dicts()`: `list[dict]` のデータから変換\n",
    "- `pl.from_numpy()`: NumPy の配列から変換\n",
    "- `pl.from_records()`: `list[list]` のデータから変換\n",
    "- `pl.from_pandas()`: Pandasの`DataFrame`オブジェクトから変換\n",
    "- `pl.from_arrow()`: pyarrowの`Array`或いは`Table`オブジェクトから変換"
   ]
  },
  {
   "cell_type": "markdown",
   "id": "bc4968b1-6e92-44ae-94f4-a5073c90e4bb",
   "metadata": {},
   "source": [
    "## データフレームの属性"
   ]
  },
  {
   "cell_type": "code",
   "execution_count": 8,
   "id": "e3fca09d-55b2-48ff-8bdb-7574cbdc9b7e",
   "metadata": {},
   "outputs": [],
   "source": [
    "df = pl.DataFrame(\n",
    "    {\n",
    "        \"a\": [3, 3, 3, 4],\n",
    "        \"b\": [4.0, 12, 6, 7],\n",
    "        \"g\": ['A', 'B', 'A', 'B']\n",
    "    }\n",
    ")"
   ]
  },
  {
   "cell_type": "markdown",
   "id": "71c1bb23-cb89-4a3d-8181-8b674d09b574",
   "metadata": {},
   "source": [
    "`shape`属性でデータフレームの形状(高さ、幅)を取得できます。又`height`と`width`属性で高さと幅を取得することもできます。`len()`関数でも高さを取得できます。"
   ]
  },
  {
   "cell_type": "code",
   "execution_count": 9,
   "id": "bab3d3ae-fe6a-4d2d-9d29-ed522cf29614",
   "metadata": {},
   "outputs": [
    {
     "name": "stdout",
     "output_type": "stream",
     "text": [
      "df.shape = (4, 3)\n",
      "df.height = 4\n",
      "df.width = 3\n",
      "len(df) = 4\n"
     ]
    }
   ],
   "source": [
    "print(f\"{df.shape = }\")\n",
    "print(f\"{df.height = }\")\n",
    "print(f\"{df.width = }\")\n",
    "print(f\"{len(df) = }\")"
   ]
  },
  {
   "cell_type": "markdown",
   "id": "70e1a124-87d0-46fc-9e16-b9a9b49e410f",
   "metadata": {},
   "source": [
    "`columns`属性で列名のリストを取得できます。"
   ]
  },
  {
   "cell_type": "code",
   "execution_count": 10,
   "id": "b0351aa8-a032-442d-9751-14ba1f4f879d",
   "metadata": {},
   "outputs": [
    {
     "data": {
      "text/plain": [
       "['a', 'b', 'g']"
      ]
     },
     "execution_count": 10,
     "metadata": {},
     "output_type": "execute_result"
    }
   ],
   "source": [
    "df.columns"
   ]
  },
  {
   "cell_type": "markdown",
   "id": "8f0e1417-b9b0-4d2d-94c2-ba921ff471ee",
   "metadata": {},
   "source": [
    "`schema`属性で列名と列のデータ型を保存する辞書オブジェクトを取得できます。"
   ]
  },
  {
   "cell_type": "code",
   "execution_count": 11,
   "id": "c99da371-503f-4bf4-be58-def65766d4fd",
   "metadata": {},
   "outputs": [
    {
     "data": {
      "text/plain": [
       "Schema([('a', Int64), ('b', Float64), ('g', String)])"
      ]
     },
     "execution_count": 11,
     "metadata": {},
     "output_type": "execute_result"
    }
   ],
   "source": [
    "df.schema"
   ]
  },
  {
   "cell_type": "code",
   "execution_count": 12,
   "id": "05840e3d-318b-44b8-82fd-528ad7e2d28f",
   "metadata": {},
   "outputs": [
    {
     "data": {
      "text/plain": [
       "String"
      ]
     },
     "execution_count": 12,
     "metadata": {},
     "output_type": "execute_result"
    }
   ],
   "source": [
    "df.schema['g']"
   ]
  },
  {
   "cell_type": "markdown",
   "id": "54e739c7-ff40-42e1-ad4c-4079244db783",
   "metadata": {},
   "source": [
    "`dtypes`属性で、各個列のデータ型を保存するリストを取得できます。"
   ]
  },
  {
   "cell_type": "code",
   "execution_count": 13,
   "id": "d5c33b09-4580-41c9-963f-e34ff051e804",
   "metadata": {},
   "outputs": [
    {
     "data": {
      "text/plain": [
       "[Int64, Float64, String]"
      ]
     },
     "execution_count": 13,
     "metadata": {},
     "output_type": "execute_result"
    }
   ],
   "source": [
    "df.dtypes"
   ]
  },
  {
   "cell_type": "markdown",
   "id": "2d66602f-2c12-4b35-8b33-002fa668a37e",
   "metadata": {},
   "source": [
    "`flags`属性で各個列のソート状態を取得できます。"
   ]
  },
  {
   "cell_type": "code",
   "execution_count": 14,
   "id": "0a654663-e837-4adc-a834-ce760f52f50e",
   "metadata": {},
   "outputs": [
    {
     "data": {
      "text/plain": [
       "{'a': {'SORTED_ASC': False, 'SORTED_DESC': False},\n",
       " 'b': {'SORTED_ASC': False, 'SORTED_DESC': False},\n",
       " 'g': {'SORTED_ASC': False, 'SORTED_DESC': False}}"
      ]
     },
     "execution_count": 14,
     "metadata": {},
     "output_type": "execute_result"
    }
   ],
   "source": [
    "df.flags"
   ]
  },
  {
   "cell_type": "markdown",
   "id": "97789e60-d5ae-442f-a7d2-e9e6fdce8f0b",
   "metadata": {},
   "source": [
    "## データフレームからデータ取得"
   ]
  },
  {
   "cell_type": "markdown",
   "id": "bee5cfbd-67ba-4111-94c9-2d0b8100ded8",
   "metadata": {},
   "source": [
    "本節は、データフレームから列、行、或いは単一の値を取得する方法について説明します。"
   ]
  },
  {
   "cell_type": "markdown",
   "id": "cb3fb550-ab0d-4250-b798-986736c28adc",
   "metadata": {},
   "source": [
    "### 列を取得"
   ]
  },
  {
   "cell_type": "markdown",
   "id": "6da287a3-53b2-4e4c-853a-aa216630db8b",
   "metadata": {},
   "source": [
    "PolarsでDataFrameから列データをSeriesとして取得する方法はいくつかあります。\n",
    "\n",
    "* `DataFrame.to_series()`: インデックスで列を取得します。\n",
    "* `DataFrame.get_column()`: 列名で列を取得します。\n",
    "* `DataFrame.get_columns()`: すべての列を取得します。\n",
    "* `DataFrame.iter_columns()`: 列のイテレーターを取得します。\n",
    "\n",
    "`DataFrame.to_series()` メソッドを使用すると、指定したインデックスに基づいて列を Series として取得できます。`DataFrame.get_column()` メソッドを使用すると、列名を指定して Series を取得できます。`DataFrame[\"column_name\"]`のような辞書形式で列名を指定して Seriesを取得することもできます。"
   ]
  },
  {
   "cell_type": "code",
   "execution_count": 15,
   "id": "3dc0cb3a-d39d-42c2-bd2b-e0b63a8c851b",
   "metadata": {},
   "outputs": [
    {
     "data": {
      "text/html": [
       "<table><tr><td><div><style>\n",
       ".dataframe > thead > tr,\n",
       ".dataframe > tbody > tr {\n",
       "  text-align: right;\n",
       "  white-space: pre-wrap;\n",
       "}\n",
       "</style>\n",
       "<small>shape: (4,)</small><table border=\"1\" class=\"dataframe\"><thead><tr><th>a</th></tr><tr><td>i64</td></tr></thead><tbody><tr><td>3</td></tr><tr><td>3</td></tr><tr><td>3</td></tr><tr><td>4</td></tr></tbody></table></div></td><td><div><style>\n",
       ".dataframe > thead > tr,\n",
       ".dataframe > tbody > tr {\n",
       "  text-align: right;\n",
       "  white-space: pre-wrap;\n",
       "}\n",
       "</style>\n",
       "<small>shape: (4,)</small><table border=\"1\" class=\"dataframe\"><thead><tr><th>b</th></tr><tr><td>f64</td></tr></thead><tbody><tr><td>4.0</td></tr><tr><td>12.0</td></tr><tr><td>6.0</td></tr><tr><td>7.0</td></tr></tbody></table></div></td><td><div><style>\n",
       ".dataframe > thead > tr,\n",
       ".dataframe > tbody > tr {\n",
       "  text-align: right;\n",
       "  white-space: pre-wrap;\n",
       "}\n",
       "</style>\n",
       "<small>shape: (4,)</small><table border=\"1\" class=\"dataframe\"><thead><tr><th>g</th></tr><tr><td>str</td></tr></thead><tbody><tr><td>&quot;A&quot;</td></tr><tr><td>&quot;B&quot;</td></tr><tr><td>&quot;A&quot;</td></tr><tr><td>&quot;B&quot;</td></tr></tbody></table></div></td></tr></table>"
      ]
     },
     "metadata": {},
     "output_type": "display_data"
    }
   ],
   "source": [
    "s1 = df.to_series(0)\n",
    "s2 = df.get_column('b')\n",
    "s3 = df['g']\n",
    "row(s1, s2, s3)"
   ]
  },
  {
   "cell_type": "markdown",
   "id": "977a4de8-d3a1-4b90-a5d9-c7cab592670b",
   "metadata": {},
   "source": [
    "`DataFrame.get_columns()` メソッドは、DataFrame 内のすべての列を Series のリストとして取得します。"
   ]
  },
  {
   "cell_type": "code",
   "execution_count": 16,
   "id": "e4d3455e-7ac0-48b2-b2c6-128419babdb6",
   "metadata": {},
   "outputs": [
    {
     "data": {
      "text/html": [
       "<table><tr><td><div><style>\n",
       ".dataframe > thead > tr,\n",
       ".dataframe > tbody > tr {\n",
       "  text-align: right;\n",
       "  white-space: pre-wrap;\n",
       "}\n",
       "</style>\n",
       "<small>shape: (4,)</small><table border=\"1\" class=\"dataframe\"><thead><tr><th>a</th></tr><tr><td>i64</td></tr></thead><tbody><tr><td>3</td></tr><tr><td>3</td></tr><tr><td>3</td></tr><tr><td>4</td></tr></tbody></table></div></td><td><div><style>\n",
       ".dataframe > thead > tr,\n",
       ".dataframe > tbody > tr {\n",
       "  text-align: right;\n",
       "  white-space: pre-wrap;\n",
       "}\n",
       "</style>\n",
       "<small>shape: (4,)</small><table border=\"1\" class=\"dataframe\"><thead><tr><th>b</th></tr><tr><td>f64</td></tr></thead><tbody><tr><td>4.0</td></tr><tr><td>12.0</td></tr><tr><td>6.0</td></tr><tr><td>7.0</td></tr></tbody></table></div></td><td><div><style>\n",
       ".dataframe > thead > tr,\n",
       ".dataframe > tbody > tr {\n",
       "  text-align: right;\n",
       "  white-space: pre-wrap;\n",
       "}\n",
       "</style>\n",
       "<small>shape: (4,)</small><table border=\"1\" class=\"dataframe\"><thead><tr><th>g</th></tr><tr><td>str</td></tr></thead><tbody><tr><td>&quot;A&quot;</td></tr><tr><td>&quot;B&quot;</td></tr><tr><td>&quot;A&quot;</td></tr><tr><td>&quot;B&quot;</td></tr></tbody></table></div></td></tr></table>"
      ]
     },
     "metadata": {},
     "output_type": "display_data"
    }
   ],
   "source": [
    "sa, sb, sg = df.get_columns()\n",
    "row(sa, sb, sg)"
   ]
  },
  {
   "cell_type": "markdown",
   "id": "5215980b-6a4d-4d52-8d50-70a20cfb3b2f",
   "metadata": {},
   "source": [
    "`DataFrame.iter_columns()`は、DataFrame内のすべての列を一つずつ返します。"
   ]
  },
  {
   "cell_type": "code",
   "execution_count": 17,
   "id": "f1a5d14f-bbf1-4c31-b0ea-8a10aef5d399",
   "metadata": {},
   "outputs": [
    {
     "name": "stdout",
     "output_type": "stream",
     "text": [
      "a [3, 3, 3, 4]\n",
      "b [4.0, 12.0, 6.0, 7.0]\n",
      "g ['A', 'B', 'A', 'B']\n"
     ]
    }
   ],
   "source": [
    "for col in df.iter_columns():\n",
    "    print(col.name, col.to_list())"
   ]
  },
  {
   "cell_type": "markdown",
   "id": "c0ef13fe-d21f-469c-b9b3-524f7bc7f747",
   "metadata": {},
   "source": [
    "### Seriesオブジェクト"
   ]
  },
  {
   "cell_type": "code",
   "execution_count": 18,
   "id": "5b34d4dd-b56a-41ee-9556-1d4483ee7fdd",
   "metadata": {},
   "outputs": [
    {
     "name": "stdout",
     "output_type": "stream",
     "text": [
      "s1.name = 'a'\n",
      "s1.dtype = Int64\n",
      "s1.flags = {'SORTED_ASC': False, 'SORTED_DESC': False}\n",
      "s1.shape = (4,)\n",
      "len(s1) = 4\n"
     ]
    }
   ],
   "source": [
    "print(f\"{s1.name = }\")\n",
    "print(f\"{s1.dtype = }\")\n",
    "print(f\"{s1.flags = }\")\n",
    "print(f\"{s1.shape = }\")\n",
    "print(f\"{len(s1) = }\")"
   ]
  },
  {
   "cell_type": "markdown",
   "id": "a462d925-7ca0-41e1-afab-c34f6e8f811c",
   "metadata": {},
   "source": [
    "### to_numpy()メソッド"
   ]
  },
  {
   "cell_type": "markdown",
   "id": "34e926d3-f939-4863-82a6-ecdeffc38be3",
   "metadata": {},
   "source": [
    "`Series.to_numpy()`または`Series.to_list()`メソッドを使用すると、`Series`オブジェクトをNumPyの配列やリストに変換することができます。"
   ]
  },
  {
   "cell_type": "code",
   "execution_count": 19,
   "id": "3a795f08-d08f-48da-9307-8373286b2df9",
   "metadata": {},
   "outputs": [
    {
     "name": "stdout",
     "output_type": "stream",
     "text": [
      "sa.to_numpy() = array([3, 3, 3, 4], dtype=int64)\n",
      "sa.to_list() = [3, 3, 3, 4]\n"
     ]
    }
   ],
   "source": [
    "print(f'{sa.to_numpy() = }')\n",
    "print(f'{sa.to_list() = }')"
   ]
  },
  {
   "cell_type": "markdown",
   "id": "8fd6ac81-13c8-4e2e-b914-299a874b4e5c",
   "metadata": {},
   "source": [
    "`DataFrame.to_numpy()`でNumPyの配列に変換することができます。デフォルトはすべての値を一番上位のデータ型に変換します。数値と文字列混在のデータの場合は、`dtype=object`の配列になります。"
   ]
  },
  {
   "cell_type": "code",
   "execution_count": 20,
   "id": "0b1927c5-1127-44a8-9a06-dff3b298f1d2",
   "metadata": {},
   "outputs": [
    {
     "data": {
      "text/plain": [
       "array([[3, 4.0, 'A'],\n",
       "       [3, 12.0, 'B'],\n",
       "       [3, 6.0, 'A'],\n",
       "       [4, 7.0, 'B']], dtype=object)"
      ]
     },
     "execution_count": 20,
     "metadata": {},
     "output_type": "execute_result"
    }
   ],
   "source": [
    "df.to_numpy()"
   ]
  },
  {
   "cell_type": "markdown",
   "id": "9ac10ad4-0828-49a5-82da-316b55606115",
   "metadata": {},
   "source": [
    "`structured`引数を`True`にすれば、構造化配列に変換します。"
   ]
  },
  {
   "cell_type": "code",
   "execution_count": 21,
   "id": "15b6d758-3880-40bf-8240-4067a676dd59",
   "metadata": {},
   "outputs": [
    {
     "data": {
      "text/plain": [
       "array([(3,  4., 'A'), (3, 12., 'B'), (3,  6., 'A'), (4,  7., 'B')],\n",
       "      dtype=[('a', '<i8'), ('b', '<f8'), ('g', '<U1')])"
      ]
     },
     "execution_count": 21,
     "metadata": {},
     "output_type": "execute_result"
    }
   ],
   "source": [
    "df.to_numpy(structured=True)"
   ]
  },
  {
   "cell_type": "markdown",
   "id": "8ca85fea-4d99-45af-8c3e-d1ae755e41f5",
   "metadata": {},
   "source": [
    "`Series` オブジェクトの要素がリストの場合、`to_numpy()` メソッドを使用すると、`dtype=object` の配列が得られます。この配列の各要素は、さらに配列になっています。このような構造は、高速な処理には適していません。  "
   ]
  },
  {
   "cell_type": "code",
   "execution_count": 25,
   "id": "2a22a2a5-fbc3-46a9-b817-3ef5876b4002",
   "metadata": {},
   "outputs": [
    {
     "data": {
      "text/plain": [
       "array([array([1, 2, 3], dtype=int64), array([4, 5, 6], dtype=int64),\n",
       "       array([7, 8, 9], dtype=int64)], dtype=object)"
      ]
     },
     "execution_count": 25,
     "metadata": {},
     "output_type": "execute_result"
    }
   ],
   "source": [
    "s_list = pl.Series('s_list', [[1, 2, 3], [4, 5, 6], [7, 8, 9]])\n",
    "s_list.to_numpy()"
   ]
  },
  {
   "cell_type": "markdown",
   "id": "9c483798-6ae6-4153-b139-6e91a751fa4a",
   "metadata": {},
   "source": [
    "`Series` オブジェクトの要素が `Array` の場合、`to_numpy()` を使用すると、多次元配列になります。"
   ]
  },
  {
   "cell_type": "code",
   "execution_count": 26,
   "id": "000ba12d-9a55-4962-8454-008dd0d0c31e",
   "metadata": {},
   "outputs": [
    {
     "data": {
      "text/plain": [
       "array([[1, 2, 3],\n",
       "       [4, 5, 6],\n",
       "       [7, 8, 9]], dtype=int8)"
      ]
     },
     "execution_count": 26,
     "metadata": {},
     "output_type": "execute_result"
    }
   ],
   "source": [
    "s_arr = pl.Series('s_arr', [[1, 2, 3], [4, 5, 6], [7, 8, 9]], dtype=pl.Array(pl.Int8, 3))\n",
    "s_arr.to_numpy()"
   ]
  },
  {
   "cell_type": "markdown",
   "id": "b9a0277f-7ed4-460f-be91-e9b12cb3f2ce",
   "metadata": {},
   "source": [
    "`Series` オブジェクトの要素が `Struct` の場合、`to_numpy()` を使用すると 2 次元配列になり、各要素のデータ型は最も上位のデータ型に統一されます。次の例では、`Int64` と `Float64` が `Float64` に統一されています。"
   ]
  },
  {
   "cell_type": "code",
   "execution_count": 37,
   "id": "2b443fa3-f6fd-44ce-a3db-0deb7edebb1f",
   "metadata": {},
   "outputs": [
    {
     "data": {
      "text/plain": [
       "array([[1., 2.],\n",
       "       [3., 4.],\n",
       "       [5., 6.]])"
      ]
     },
     "execution_count": 37,
     "metadata": {},
     "output_type": "execute_result"
    }
   ],
   "source": [
    "s_struct = pl.Series('s_struct', [{\"x\": 1, \"y\": 2.0}, {\"x\": 3, \"y\": 4.0}, {\"x\": 5, \"y\": 6.0}])\n",
    "s_struct.to_numpy()"
   ]
  },
  {
   "cell_type": "markdown",
   "id": "04cd45be-275d-4939-bdf3-5a32d78b9ee3",
   "metadata": {},
   "source": [
    "NumPyの構造体配列に変換するには、まず `struct.unnest()` を使用して `DataFrame` に変換し、その後 `to_numpy(structured=True)` を使用します。"
   ]
  },
  {
   "cell_type": "code",
   "execution_count": 35,
   "id": "ed81cbdf-5566-4b24-8657-1b8b42ee3d46",
   "metadata": {},
   "outputs": [
    {
     "data": {
      "text/plain": [
       "array([(1, 2.), (3, 4.), (5, 6.)], dtype=[('x', '<i8'), ('y', '<f8')])"
      ]
     },
     "execution_count": 35,
     "metadata": {},
     "output_type": "execute_result"
    }
   ],
   "source": [
    "s_struct.struct.unnest().to_numpy(structured=True)"
   ]
  },
  {
   "attachments": {},
   "cell_type": "markdown",
   "id": "6ccfb061-25c0-43e3-8d35-f2ca55fdcfbd",
   "metadata": {},
   "source": [
    "### to_dict()メソッド\n",
    "\n",
    "`to_dict()`メソッドで`dict[Series]`型の辞書に変換します。"
   ]
  },
  {
   "cell_type": "code",
   "execution_count": 56,
   "id": "2cb7d482-6491-48e4-b79c-468980cba074",
   "metadata": {},
   "outputs": [
    {
     "data": {
      "text/plain": [
       "{'a': shape: (4,)\n",
       " Series: 'a' [i64]\n",
       " [\n",
       " \t3\n",
       " \t3\n",
       " \t3\n",
       " \t4\n",
       " ],\n",
       " 'b': shape: (4,)\n",
       " Series: 'b' [f64]\n",
       " [\n",
       " \t4.0\n",
       " \t12.0\n",
       " \t6.0\n",
       " \t7.0\n",
       " ],\n",
       " 'g': shape: (4,)\n",
       " Series: 'g' [str]\n",
       " [\n",
       " \t\"A\"\n",
       " \t\"B\"\n",
       " \t\"A\"\n",
       " \t\"B\"\n",
       " ]}"
      ]
     },
     "execution_count": 56,
     "metadata": {},
     "output_type": "execute_result"
    }
   ],
   "source": [
    "df.to_dict()"
   ]
  },
  {
   "cell_type": "markdown",
   "id": "5555a75a-3ab4-4317-91dd-57e2acba2d09",
   "metadata": {},
   "source": [
    "### to_dicts()メソッド"
   ]
  },
  {
   "cell_type": "markdown",
   "id": "72bbb49d-19f6-4f28-86cd-40643a000ba5",
   "metadata": {},
   "source": [
    "`to_dicts()`メソッドで`list[dict]`型のリストに変換します。"
   ]
  },
  {
   "cell_type": "code",
   "execution_count": 57,
   "id": "58a547da-ab12-4b1d-97b9-83d4fc16d3e4",
   "metadata": {},
   "outputs": [
    {
     "data": {
      "text/plain": [
       "[{'a': 3, 'b': 4.0, 'g': 'A'},\n",
       " {'a': 3, 'b': 12.0, 'g': 'B'},\n",
       " {'a': 3, 'b': 6.0, 'g': 'A'},\n",
       " {'a': 4, 'b': 7.0, 'g': 'B'}]"
      ]
     },
     "execution_count": 57,
     "metadata": {},
     "output_type": "execute_result"
    }
   ],
   "source": [
    "df.to_dicts()"
   ]
  },
  {
   "cell_type": "markdown",
   "id": "b9259516-9bd3-4353-8ff0-8e377da2f8fc",
   "metadata": {},
   "source": [
    "### to_arrow()メソッド"
   ]
  },
  {
   "cell_type": "markdown",
   "id": "b42ebf24-c616-485b-8182-c397fa33d573",
   "metadata": {},
   "source": [
    "`to_arrow()`メソッドでpyarrowの`Table`オブジェクトに変換します。この`Table`オブジェクトは`DataFrame`と同じデータメモリを使用するため、変換は高速です。"
   ]
  },
  {
   "cell_type": "code",
   "execution_count": 58,
   "id": "0cefbc13-478c-4e10-a204-37d77cbc8375",
   "metadata": {},
   "outputs": [
    {
     "data": {
      "text/plain": [
       "pyarrow.Table\n",
       "a: int64\n",
       "b: double\n",
       "g: large_string\n",
       "----\n",
       "a: [[3,3,3,4]]\n",
       "b: [[4,12,6,7]]\n",
       "g: [[\"A\",\"B\",\"A\",\"B\"]]"
      ]
     },
     "execution_count": 58,
     "metadata": {},
     "output_type": "execute_result"
    }
   ],
   "source": [
    "df.to_arrow()"
   ]
  },
  {
   "cell_type": "markdown",
   "id": "cefe66c1-f001-4ea5-9909-282d987332e2",
   "metadata": {},
   "source": [
    "### 行を取得"
   ]
  },
  {
   "cell_type": "markdown",
   "id": "14b5ed3f-0b9e-40cd-b03d-1f354c884be2",
   "metadata": {},
   "source": [
    "- **`DataFrame.row(index)`**: 特定のインデックスにある行をタプルとして取得します。\n",
    "- **`DataFrame.rows()`**: DataFrame のすべての行をタプルのリストとして取得します。\n",
    "- **`DataFrame.iter_rows()`**: DataFrame の各行に対してイテレーションを行い、各行をタプルとして返します。\n",
    "- **`DataFrame.rows_by_key()`**: 指定したキーに基づいて行をグループ化し、各グループに属する行をタプルのリストとして返します。"
   ]
  },
  {
   "cell_type": "markdown",
   "id": "2e3c30c5-2797-4c48-b089-ee959710c50d",
   "metadata": {},
   "source": [
    "`DataFrame.row(index)` は、指定したインデックス（行番号）に対応する行を取得するためのメソッドです。このメソッドは、特定の行をタプル形式で返します。"
   ]
  },
  {
   "cell_type": "code",
   "execution_count": 59,
   "id": "702ff46e-4de9-4c13-bc8d-f83f8016ff5f",
   "metadata": {},
   "outputs": [
    {
     "data": {
      "text/plain": [
       "(3, 6.0, 'A')"
      ]
     },
     "execution_count": 59,
     "metadata": {},
     "output_type": "execute_result"
    }
   ],
   "source": [
    "df.row(2)"
   ]
  },
  {
   "cell_type": "markdown",
   "id": "872d97ce-a2f0-4dd8-86a6-bdce8d2b2b51",
   "metadata": {},
   "source": [
    "`named`引数を`True`にすることで、列名を含む辞書形式で返します。"
   ]
  },
  {
   "cell_type": "code",
   "execution_count": 60,
   "id": "4e4cc940-73ff-4425-9ada-220c39b1b2c4",
   "metadata": {},
   "outputs": [
    {
     "data": {
      "text/plain": [
       "{'a': 3, 'b': 6.0, 'g': 'A'}"
      ]
     },
     "execution_count": 60,
     "metadata": {},
     "output_type": "execute_result"
    }
   ],
   "source": [
    "df.row(2, named=True)"
   ]
  },
  {
   "cell_type": "markdown",
   "id": "683d4b9d-84ec-4756-b6aa-eb1661d93395",
   "metadata": {},
   "source": [
    "`by_predicate`で演算式がTrueになる行を取得することができます。複数の行は条件に満たす場合は、エラーになります。"
   ]
  },
  {
   "cell_type": "code",
   "execution_count": 61,
   "id": "b031ac7a-91a9-4e18-ad54-eca6bd226b91",
   "metadata": {},
   "outputs": [
    {
     "data": {
      "text/plain": [
       "(4, 7.0, 'B')"
      ]
     },
     "execution_count": 61,
     "metadata": {},
     "output_type": "execute_result"
    }
   ],
   "source": [
    "df.row(by_predicate=pl.col.a == pl.col.a.max())"
   ]
  },
  {
   "cell_type": "markdown",
   "id": "91013fc5-46f9-42f9-a8a8-e947ecd8c74c",
   "metadata": {},
   "source": [
    "`DataFrame.rows()` は、DataFrame 内のすべての行をタプルのリストとして取得するメソッドです。DataFrame 全体のデータを行単位で操作したい場合に便利です。又、`DataFrame.iter_rows()` は各行に対してイテレーションを行うためのメソッドです。"
   ]
  },
  {
   "cell_type": "code",
   "execution_count": 62,
   "id": "3acfe240-e1e7-4515-a7ca-6d8e2ac738ac",
   "metadata": {},
   "outputs": [
    {
     "data": {
      "text/plain": [
       "[(3, 4.0, 'A'), (3, 12.0, 'B'), (3, 6.0, 'A'), (4, 7.0, 'B')]"
      ]
     },
     "execution_count": 62,
     "metadata": {},
     "output_type": "execute_result"
    }
   ],
   "source": [
    "df.rows()"
   ]
  },
  {
   "cell_type": "code",
   "execution_count": 63,
   "id": "17992191-50bb-4f06-9d22-39cffd95fca9",
   "metadata": {},
   "outputs": [
    {
     "data": {
      "text/plain": [
       "[{'a': 3, 'b': 4.0, 'g': 'A'},\n",
       " {'a': 3, 'b': 12.0, 'g': 'B'},\n",
       " {'a': 3, 'b': 6.0, 'g': 'A'},\n",
       " {'a': 4, 'b': 7.0, 'g': 'B'}]"
      ]
     },
     "execution_count": 63,
     "metadata": {},
     "output_type": "execute_result"
    }
   ],
   "source": [
    "df.rows(named=True)"
   ]
  },
  {
   "cell_type": "code",
   "execution_count": 64,
   "id": "db29051a-b42a-4796-98f3-e92bc29ec344",
   "metadata": {},
   "outputs": [
    {
     "name": "stdout",
     "output_type": "stream",
     "text": [
      "(3, 4.0, 'A')\n",
      "(3, 12.0, 'B')\n",
      "(3, 6.0, 'A')\n",
      "(4, 7.0, 'B')\n"
     ]
    }
   ],
   "source": [
    "for row_ in df.iter_rows():\n",
    "    print(row_)"
   ]
  },
  {
   "cell_type": "markdown",
   "id": "ca328a2c-4608-4b0a-a880-d94450117faa",
   "metadata": {},
   "source": [
    "`DataFrame.rows_by_key()` は、指定したキー（列）に基づいて DataFrame 内の行をグループ化し、そのキーに対応する行をタプルのリストとして返すメソッドです。"
   ]
  },
  {
   "cell_type": "code",
   "execution_count": 65,
   "id": "d5e5c679-464d-49c9-8f5b-bbee3a5f2f90",
   "metadata": {},
   "outputs": [
    {
     "data": {
      "text/plain": [
       "defaultdict(list, {'A': [(3, 4.0), (3, 6.0)], 'B': [(3, 12.0), (4, 7.0)]})"
      ]
     },
     "execution_count": 65,
     "metadata": {},
     "output_type": "execute_result"
    }
   ],
   "source": [
    "df.rows_by_key('g')"
   ]
  },
  {
   "cell_type": "code",
   "execution_count": 66,
   "id": "4eebfd2b-c0f1-48ef-a15a-58b52a8c2962",
   "metadata": {},
   "outputs": [
    {
     "data": {
      "text/plain": [
       "defaultdict(list,\n",
       "            {'A': [{'a': 3, 'b': 4.0}, {'a': 3, 'b': 6.0}],\n",
       "             'B': [{'a': 3, 'b': 12.0}, {'a': 4, 'b': 7.0}]})"
      ]
     },
     "execution_count": 66,
     "metadata": {},
     "output_type": "execute_result"
    }
   ],
   "source": [
    "df.rows_by_key('g', named=True)"
   ]
  },
  {
   "cell_type": "markdown",
   "id": "38cd53a7-abbe-4a30-a84a-84f83aef8488",
   "metadata": {},
   "source": [
    "### 単一の値"
   ]
  },
  {
   "cell_type": "markdown",
   "id": "2c0a77fd-3142-43ae-bc00-eb76959bd9a5",
   "metadata": {},
   "source": [
    "`DataFrame.item()`は、DataFrameから単一の値を取得するためのメソッドです。"
   ]
  },
  {
   "cell_type": "code",
   "execution_count": 67,
   "id": "8cc5efcb-bc32-43c3-8d8d-5910a341da04",
   "metadata": {},
   "outputs": [
    {
     "data": {
      "text/plain": [
       "3"
      ]
     },
     "execution_count": 67,
     "metadata": {},
     "output_type": "execute_result"
    }
   ],
   "source": [
    "df.item(2, 'a')"
   ]
  },
  {
   "cell_type": "markdown",
   "id": "a53396e1-56bd-48e5-a07b-a7672565f5f2",
   "metadata": {},
   "source": [
    "DataFrameに値が一つだけ含まれる場合、引数を省略できます。列の統計値を取得して、それを別の計算に利用する際によく使用されます。"
   ]
  },
  {
   "cell_type": "code",
   "execution_count": 68,
   "id": "b0dfd433-79ce-4f58-8af3-6dea054d2ce3",
   "metadata": {},
   "outputs": [
    {
     "data": {
      "text/plain": [
       "0.0325"
      ]
     },
     "execution_count": 68,
     "metadata": {},
     "output_type": "execute_result"
    }
   ],
   "source": [
    "df.select(pl.col('a').mean()).item() / 100"
   ]
  },
  {
   "cell_type": "markdown",
   "id": "90692795-f931-4f21-a146-df6f4f679c7e",
   "metadata": {},
   "source": [
    "### `[]`によるインデックス操作\n",
    "\n",
    "PolarsのDataFrameは、NumPyやPandasのように`[]`を使用したインデックス操作をサポートしています。\n",
    "\n",
    "```{warning}\n",
    "Polarsでは`[]`を使ったインデックス操作が可能ですが、推奨される方法ではありません。`filter()`や`select()`などのメソッドを使って演算式と組み合わせた操作を行う方が推奨されます。\n",
    "```\n",
    "\n",
    "以下の例では、サンプルデータを使用してインデックス操作を説明します。"
   ]
  },
  {
   "cell_type": "code",
   "execution_count": 69,
   "id": "dd18b97a-76d3-46eb-aa0e-e1d1e1597192",
   "metadata": {},
   "outputs": [],
   "source": [
    "df = pl.DataFrame({\n",
    "    \"a\": [1, 2, 3, 4],\n",
    "    \"b\": [5, 6, 7, 8],\n",
    "    \"c\": [\"x\", \"y\", \"z\", \"w\"],\n",
    "    \"d\": [\"a\", \"b\", \"c\", \"d\"]\n",
    "})"
   ]
  },
  {
   "cell_type": "markdown",
   "id": "5615ed4f-12c3-49df-af8c-f38903a3c534",
   "metadata": {},
   "source": [
    "#### 要素の取得\n",
    "\n",
    "**インデックスが1つの場合**\n",
    "\n",
    "インデックスが1つだけ指定される場合、その型によって挙動が異なります。\n",
    "\n",
    "1. 整数、整数のリスト、整数のスライスの場合: **行を選択**します。スライスの場合、終了値は含まれません。"
   ]
  },
  {
   "cell_type": "code",
   "execution_count": 70,
   "id": "f514f4bf-9188-4b22-a9d6-ee6ecb2a5e7c",
   "metadata": {},
   "outputs": [
    {
     "data": {
      "text/html": [
       "<table><tr><td><div><style>\n",
       ".dataframe > thead > tr,\n",
       ".dataframe > tbody > tr {\n",
       "  text-align: right;\n",
       "  white-space: pre-wrap;\n",
       "}\n",
       "</style>\n",
       "<small>shape: (1, 4)</small><table border=\"1\" class=\"dataframe\"><thead><tr><th>a</th><th>b</th><th>c</th><th>d</th></tr><tr><td>i64</td><td>i64</td><td>str</td><td>str</td></tr></thead><tbody><tr><td>1</td><td>5</td><td>&quot;x&quot;</td><td>&quot;a&quot;</td></tr></tbody></table></div></td><td><div><style>\n",
       ".dataframe > thead > tr,\n",
       ".dataframe > tbody > tr {\n",
       "  text-align: right;\n",
       "  white-space: pre-wrap;\n",
       "}\n",
       "</style>\n",
       "<small>shape: (2, 4)</small><table border=\"1\" class=\"dataframe\"><thead><tr><th>a</th><th>b</th><th>c</th><th>d</th></tr><tr><td>i64</td><td>i64</td><td>str</td><td>str</td></tr></thead><tbody><tr><td>1</td><td>5</td><td>&quot;x&quot;</td><td>&quot;a&quot;</td></tr><tr><td>3</td><td>7</td><td>&quot;z&quot;</td><td>&quot;c&quot;</td></tr></tbody></table></div></td><td><div><style>\n",
       ".dataframe > thead > tr,\n",
       ".dataframe > tbody > tr {\n",
       "  text-align: right;\n",
       "  white-space: pre-wrap;\n",
       "}\n",
       "</style>\n",
       "<small>shape: (2, 4)</small><table border=\"1\" class=\"dataframe\"><thead><tr><th>a</th><th>b</th><th>c</th><th>d</th></tr><tr><td>i64</td><td>i64</td><td>str</td><td>str</td></tr></thead><tbody><tr><td>2</td><td>6</td><td>&quot;y&quot;</td><td>&quot;b&quot;</td></tr><tr><td>3</td><td>7</td><td>&quot;z&quot;</td><td>&quot;c&quot;</td></tr></tbody></table></div></td></tr></table>"
      ]
     },
     "metadata": {},
     "output_type": "display_data"
    }
   ],
   "source": [
    "row(df[0], df[[0, 2]], df[1:3])"
   ]
  },
  {
   "cell_type": "markdown",
   "id": "66354118-a328-44d7-9d83-1ddcf04bec78",
   "metadata": {},
   "source": [
    "2. 文字列、文字列のリスト、文字列のスライスの場合: **列を選択**します。スライスの場合、終了値が含まれます。"
   ]
  },
  {
   "cell_type": "code",
   "execution_count": 71,
   "id": "bce620e0-6579-434d-858c-629a983931f2",
   "metadata": {},
   "outputs": [
    {
     "data": {
      "text/html": [
       "<table><tr><td><div><style>\n",
       ".dataframe > thead > tr,\n",
       ".dataframe > tbody > tr {\n",
       "  text-align: right;\n",
       "  white-space: pre-wrap;\n",
       "}\n",
       "</style>\n",
       "<small>shape: (4,)</small><table border=\"1\" class=\"dataframe\"><thead><tr><th>a</th></tr><tr><td>i64</td></tr></thead><tbody><tr><td>1</td></tr><tr><td>2</td></tr><tr><td>3</td></tr><tr><td>4</td></tr></tbody></table></div></td><td><div><style>\n",
       ".dataframe > thead > tr,\n",
       ".dataframe > tbody > tr {\n",
       "  text-align: right;\n",
       "  white-space: pre-wrap;\n",
       "}\n",
       "</style>\n",
       "<small>shape: (4, 2)</small><table border=\"1\" class=\"dataframe\"><thead><tr><th>a</th><th>d</th></tr><tr><td>i64</td><td>str</td></tr></thead><tbody><tr><td>1</td><td>&quot;a&quot;</td></tr><tr><td>2</td><td>&quot;b&quot;</td></tr><tr><td>3</td><td>&quot;c&quot;</td></tr><tr><td>4</td><td>&quot;d&quot;</td></tr></tbody></table></div></td><td><div><style>\n",
       ".dataframe > thead > tr,\n",
       ".dataframe > tbody > tr {\n",
       "  text-align: right;\n",
       "  white-space: pre-wrap;\n",
       "}\n",
       "</style>\n",
       "<small>shape: (4, 3)</small><table border=\"1\" class=\"dataframe\"><thead><tr><th>a</th><th>b</th><th>c</th></tr><tr><td>i64</td><td>i64</td><td>str</td></tr></thead><tbody><tr><td>1</td><td>5</td><td>&quot;x&quot;</td></tr><tr><td>2</td><td>6</td><td>&quot;y&quot;</td></tr><tr><td>3</td><td>7</td><td>&quot;z&quot;</td></tr><tr><td>4</td><td>8</td><td>&quot;w&quot;</td></tr></tbody></table></div></td></tr></table>"
      ]
     },
     "metadata": {},
     "output_type": "display_data"
    }
   ],
   "source": [
    "row(df[\"a\"], df[[\"a\", \"d\"]], df[\"a\":\"c\"])"
   ]
  },
  {
   "cell_type": "markdown",
   "id": "a5c0e9a9-370a-46b2-b2e4-c5f2ad2ad758",
   "metadata": {},
   "source": [
    "**インデックスが2つの場合**\n",
    "\n",
    "インデックスが2つ指定される場合、1つ目は**行**の選択、2つ目は**列**の選択に使われます。\n",
    "\n",
    "- 行のインデックスには整数、整数のリスト、またはスライスを使用します。\n",
    "- 列のインデックスには整数、文字列、整数のリスト、文字列のリスト、またはスライスを使用できます。\n",
    "\n",
    "1. 両方が単一の値の場合: 特定の要素を抽出します。結果はPythonの基本データ型となります。"
   ]
  },
  {
   "cell_type": "code",
   "execution_count": 72,
   "id": "9ef45906-1e83-431f-aa14-bbd1374fc2d0",
   "metadata": {},
   "outputs": [
    {
     "name": "stdout",
     "output_type": "stream",
     "text": [
      "df[0, 'b'] = 5\n",
      "df[0, 1] = 5\n"
     ]
    }
   ],
   "source": [
    "print(f\"{df[0, 'b'] = }\")  # 行0、列\"b\"の値を抽出\n",
    "print(f\"{df[0, 1] = }\")    # 行0、列インデックス1の値を抽出"
   ]
  },
  {
   "cell_type": "markdown",
   "id": "efe5010d-615b-4470-aee9-5f3ce20f7091",
   "metadata": {},
   "source": [
    "2. 列のインデックスがリストやスライスの場合: 結果は`DataFrame`オブジェクトになります。"
   ]
  },
  {
   "cell_type": "code",
   "execution_count": 73,
   "id": "097e8254-a4cd-4249-959d-b2e1e357aa17",
   "metadata": {},
   "outputs": [
    {
     "data": {
      "text/html": [
       "<table><tr><td><div><style>\n",
       ".dataframe > thead > tr,\n",
       ".dataframe > tbody > tr {\n",
       "  text-align: right;\n",
       "  white-space: pre-wrap;\n",
       "}\n",
       "</style>\n",
       "<small>shape: (1, 2)</small><table border=\"1\" class=\"dataframe\"><thead><tr><th>a</th><th>c</th></tr><tr><td>i64</td><td>str</td></tr></thead><tbody><tr><td>1</td><td>&quot;x&quot;</td></tr></tbody></table></div></td><td><div><style>\n",
       ".dataframe > thead > tr,\n",
       ".dataframe > tbody > tr {\n",
       "  text-align: right;\n",
       "  white-space: pre-wrap;\n",
       "}\n",
       "</style>\n",
       "<small>shape: (1, 3)</small><table border=\"1\" class=\"dataframe\"><thead><tr><th>a</th><th>b</th><th>c</th></tr><tr><td>i64</td><td>i64</td><td>str</td></tr></thead><tbody><tr><td>2</td><td>6</td><td>&quot;y&quot;</td></tr></tbody></table></div></td><td><div><style>\n",
       ".dataframe > thead > tr,\n",
       ".dataframe > tbody > tr {\n",
       "  text-align: right;\n",
       "  white-space: pre-wrap;\n",
       "}\n",
       "</style>\n",
       "<small>shape: (1, 3)</small><table border=\"1\" class=\"dataframe\"><thead><tr><th>a</th><th>b</th><th>d</th></tr><tr><td>i64</td><td>i64</td><td>str</td></tr></thead><tbody><tr><td>3</td><td>7</td><td>&quot;c&quot;</td></tr></tbody></table></div></td><td><div><style>\n",
       ".dataframe > thead > tr,\n",
       ".dataframe > tbody > tr {\n",
       "  text-align: right;\n",
       "  white-space: pre-wrap;\n",
       "}\n",
       "</style>\n",
       "<small>shape: (1, 2)</small><table border=\"1\" class=\"dataframe\"><thead><tr><th>a</th><th>c</th></tr><tr><td>i64</td><td>str</td></tr></thead><tbody><tr><td>4</td><td>&quot;w&quot;</td></tr></tbody></table></div></td></tr></table>"
      ]
     },
     "metadata": {},
     "output_type": "display_data"
    }
   ],
   "source": [
    "row(df[0, [\"a\", \"c\"]], df[1, \"a\":\"c\"], df[2, [0, 1, 3]], df[3, ::2])"
   ]
  },
  {
   "cell_type": "code",
   "execution_count": 74,
   "id": "93c1e743-d11c-4bbf-bdfd-196bc927575c",
   "metadata": {},
   "outputs": [
    {
     "data": {
      "text/html": [
       "<table><tr><td><div><style>\n",
       ".dataframe > thead > tr,\n",
       ".dataframe > tbody > tr {\n",
       "  text-align: right;\n",
       "  white-space: pre-wrap;\n",
       "}\n",
       "</style>\n",
       "<small>shape: (2, 2)</small><table border=\"1\" class=\"dataframe\"><thead><tr><th>a</th><th>c</th></tr><tr><td>i64</td><td>str</td></tr></thead><tbody><tr><td>2</td><td>&quot;y&quot;</td></tr><tr><td>3</td><td>&quot;z&quot;</td></tr></tbody></table></div></td><td><div><style>\n",
       ".dataframe > thead > tr,\n",
       ".dataframe > tbody > tr {\n",
       "  text-align: right;\n",
       "  white-space: pre-wrap;\n",
       "}\n",
       "</style>\n",
       "<small>shape: (2, 3)</small><table border=\"1\" class=\"dataframe\"><thead><tr><th>a</th><th>b</th><th>c</th></tr><tr><td>i64</td><td>i64</td><td>str</td></tr></thead><tbody><tr><td>2</td><td>6</td><td>&quot;y&quot;</td></tr><tr><td>3</td><td>7</td><td>&quot;z&quot;</td></tr></tbody></table></div></td><td><div><style>\n",
       ".dataframe > thead > tr,\n",
       ".dataframe > tbody > tr {\n",
       "  text-align: right;\n",
       "  white-space: pre-wrap;\n",
       "}\n",
       "</style>\n",
       "<small>shape: (2, 3)</small><table border=\"1\" class=\"dataframe\"><thead><tr><th>a</th><th>b</th><th>d</th></tr><tr><td>i64</td><td>i64</td><td>str</td></tr></thead><tbody><tr><td>3</td><td>7</td><td>&quot;c&quot;</td></tr><tr><td>4</td><td>8</td><td>&quot;d&quot;</td></tr></tbody></table></div></td><td><div><style>\n",
       ".dataframe > thead > tr,\n",
       ".dataframe > tbody > tr {\n",
       "  text-align: right;\n",
       "  white-space: pre-wrap;\n",
       "}\n",
       "</style>\n",
       "<small>shape: (2, 2)</small><table border=\"1\" class=\"dataframe\"><thead><tr><th>a</th><th>c</th></tr><tr><td>i64</td><td>str</td></tr></thead><tbody><tr><td>3</td><td>&quot;z&quot;</td></tr><tr><td>4</td><td>&quot;w&quot;</td></tr></tbody></table></div></td></tr></table>"
      ]
     },
     "metadata": {},
     "output_type": "display_data"
    }
   ],
   "source": [
    "row(df[[1, 2], [\"a\", \"c\"]], df[[1, 2], \"a\":\"c\"], df[2:, [0, 1, 3]], df[2:, ::2])"
   ]
  },
  {
   "cell_type": "markdown",
   "id": "4897e81a-26eb-4bf5-9108-c8fb007a409e",
   "metadata": {},
   "source": [
    "3. 行のインデックスがリストやスライスで、列のインデックスが単独の要素の場合: **`Series`オブジェクト**が返されます。`Series`は、選択された特定の列の行データを保持します。"
   ]
  },
  {
   "cell_type": "code",
   "execution_count": 75,
   "id": "663aa2e2-f9bc-46ca-8c24-db9c9bd224f0",
   "metadata": {},
   "outputs": [
    {
     "data": {
      "text/html": [
       "<table><tr><td><div><style>\n",
       ".dataframe > thead > tr,\n",
       ".dataframe > tbody > tr {\n",
       "  text-align: right;\n",
       "  white-space: pre-wrap;\n",
       "}\n",
       "</style>\n",
       "<small>shape: (2,)</small><table border=\"1\" class=\"dataframe\"><thead><tr><th>a</th></tr><tr><td>i64</td></tr></thead><tbody><tr><td>2</td></tr><tr><td>3</td></tr></tbody></table></div></td><td><div><style>\n",
       ".dataframe > thead > tr,\n",
       ".dataframe > tbody > tr {\n",
       "  text-align: right;\n",
       "  white-space: pre-wrap;\n",
       "}\n",
       "</style>\n",
       "<small>shape: (3,)</small><table border=\"1\" class=\"dataframe\"><thead><tr><th>c</th></tr><tr><td>str</td></tr></thead><tbody><tr><td>&quot;y&quot;</td></tr><tr><td>&quot;z&quot;</td></tr><tr><td>&quot;w&quot;</td></tr></tbody></table></div></td></tr></table>"
      ]
     },
     "metadata": {},
     "output_type": "display_data"
    }
   ],
   "source": [
    "row(df[[1, 2], \"a\"], df[1:, 2])"
   ]
  },
  {
   "cell_type": "markdown",
   "id": "408ad418-cce6-4ad0-a987-5b0d5f81f4cf",
   "metadata": {},
   "source": [
    "#### 要素の変更\n",
    "\n",
    "Polarsでは、`[]`演算を使用してDataFrame内のデータを変更することができます。これには以下の2つの方法があります。\n",
    "\n",
    "1. **列リストでデータを設定する場合**: 列をリストで指定し、それに対応するデータを設定します。設定するデータは、形状が一致するNumPy配列である必要があります。"
   ]
  },
  {
   "cell_type": "code",
   "execution_count": 77,
   "id": "9788c8b9-347f-42ce-aa4d-a6ab0d1c3a5e",
   "metadata": {},
   "outputs": [
    {
     "data": {
      "text/html": [
       "<div><style>\n",
       ".dataframe > thead > tr,\n",
       ".dataframe > tbody > tr {\n",
       "  text-align: right;\n",
       "  white-space: pre-wrap;\n",
       "}\n",
       "</style>\n",
       "<small>shape: (4, 4)</small><table border=\"1\" class=\"dataframe\"><thead><tr><th>a</th><th>b</th><th>c</th><th>d</th></tr><tr><td>i32</td><td>i64</td><td>str</td><td>str</td></tr></thead><tbody><tr><td>10</td><td>5</td><td>&quot;x&quot;</td><td>&quot;a&quot;</td></tr><tr><td>20</td><td>6</td><td>&quot;y&quot;</td><td>&quot;b&quot;</td></tr><tr><td>30</td><td>7</td><td>&quot;z&quot;</td><td>&quot;c&quot;</td></tr><tr><td>40</td><td>8</td><td>&quot;w&quot;</td><td>&quot;d&quot;</td></tr></tbody></table></div>"
      ],
      "text/plain": [
       "shape: (4, 4)\n",
       "┌─────┬─────┬─────┬─────┐\n",
       "│ a   ┆ b   ┆ c   ┆ d   │\n",
       "│ --- ┆ --- ┆ --- ┆ --- │\n",
       "│ i32 ┆ i64 ┆ str ┆ str │\n",
       "╞═════╪═════╪═════╪═════╡\n",
       "│ 10  ┆ 5   ┆ x   ┆ a   │\n",
       "│ 20  ┆ 6   ┆ y   ┆ b   │\n",
       "│ 30  ┆ 7   ┆ z   ┆ c   │\n",
       "│ 40  ┆ 8   ┆ w   ┆ d   │\n",
       "└─────┴─────┴─────┴─────┘"
      ]
     },
     "execution_count": 77,
     "metadata": {},
     "output_type": "execute_result"
    }
   ],
   "source": [
    "# 列\"a\"のデータを設定\n",
    "df[[\"a\"]] = np.array([[10], [20], [30], [40]])\n",
    "df"
   ]
  },
  {
   "cell_type": "code",
   "execution_count": 78,
   "id": "88fda4c4-2fa3-42f6-8283-ca610467cb4d",
   "metadata": {},
   "outputs": [
    {
     "data": {
      "text/html": [
       "<div><style>\n",
       ".dataframe > thead > tr,\n",
       ".dataframe > tbody > tr {\n",
       "  text-align: right;\n",
       "  white-space: pre-wrap;\n",
       "}\n",
       "</style>\n",
       "<small>shape: (4, 4)</small><table border=\"1\" class=\"dataframe\"><thead><tr><th>a</th><th>b</th><th>c</th><th>d</th></tr><tr><td>i32</td><td>i32</td><td>str</td><td>str</td></tr></thead><tbody><tr><td>100</td><td>50</td><td>&quot;x&quot;</td><td>&quot;a&quot;</td></tr><tr><td>200</td><td>60</td><td>&quot;y&quot;</td><td>&quot;b&quot;</td></tr><tr><td>300</td><td>70</td><td>&quot;z&quot;</td><td>&quot;c&quot;</td></tr><tr><td>400</td><td>80</td><td>&quot;w&quot;</td><td>&quot;d&quot;</td></tr></tbody></table></div>"
      ],
      "text/plain": [
       "shape: (4, 4)\n",
       "┌─────┬─────┬─────┬─────┐\n",
       "│ a   ┆ b   ┆ c   ┆ d   │\n",
       "│ --- ┆ --- ┆ --- ┆ --- │\n",
       "│ i32 ┆ i32 ┆ str ┆ str │\n",
       "╞═════╪═════╪═════╪═════╡\n",
       "│ 100 ┆ 50  ┆ x   ┆ a   │\n",
       "│ 200 ┆ 60  ┆ y   ┆ b   │\n",
       "│ 300 ┆ 70  ┆ z   ┆ c   │\n",
       "│ 400 ┆ 80  ┆ w   ┆ d   │\n",
       "└─────┴─────┴─────┴─────┘"
      ]
     },
     "execution_count": 78,
     "metadata": {},
     "output_type": "execute_result"
    }
   ],
   "source": [
    "# 列\"a\"と列\"b\"のデータを同時に設定\n",
    "df[[\"a\", \"b\"]] = np.array([[100, 200, 300, 400], [50, 60, 70, 80]]).T\n",
    "df"
   ]
  },
  {
   "cell_type": "markdown",
   "id": "d3e5d9b3-9401-4ed3-a124-0eedb4d7c386",
   "metadata": {},
   "source": [
    "2. 行・列を指定して特定の要素を変更する場合\n",
    "\n",
    "- **行のインデックス**: 整数または整数のリストで指定します。\n",
    "- **列のインデックス**: 整数または文字列で指定します。"
   ]
  },
  {
   "cell_type": "code",
   "execution_count": 79,
   "id": "e3dc5710-fdb7-43b9-8c9e-f618c3d5b3b5",
   "metadata": {},
   "outputs": [
    {
     "data": {
      "text/html": [
       "<div><style>\n",
       ".dataframe > thead > tr,\n",
       ".dataframe > tbody > tr {\n",
       "  text-align: right;\n",
       "  white-space: pre-wrap;\n",
       "}\n",
       "</style>\n",
       "<small>shape: (4, 4)</small><table border=\"1\" class=\"dataframe\"><thead><tr><th>a</th><th>b</th><th>c</th><th>d</th></tr><tr><td>i32</td><td>i32</td><td>str</td><td>str</td></tr></thead><tbody><tr><td>100</td><td>50</td><td>&quot;x&quot;</td><td>&quot;a&quot;</td></tr><tr><td>-1</td><td>60</td><td>&quot;y&quot;</td><td>&quot;b&quot;</td></tr><tr><td>300</td><td>70</td><td>&quot;z&quot;</td><td>&quot;c&quot;</td></tr><tr><td>400</td><td>80</td><td>&quot;w&quot;</td><td>&quot;d&quot;</td></tr></tbody></table></div>"
      ],
      "text/plain": [
       "shape: (4, 4)\n",
       "┌─────┬─────┬─────┬─────┐\n",
       "│ a   ┆ b   ┆ c   ┆ d   │\n",
       "│ --- ┆ --- ┆ --- ┆ --- │\n",
       "│ i32 ┆ i32 ┆ str ┆ str │\n",
       "╞═════╪═════╪═════╪═════╡\n",
       "│ 100 ┆ 50  ┆ x   ┆ a   │\n",
       "│ -1  ┆ 60  ┆ y   ┆ b   │\n",
       "│ 300 ┆ 70  ┆ z   ┆ c   │\n",
       "│ 400 ┆ 80  ┆ w   ┆ d   │\n",
       "└─────┴─────┴─────┴─────┘"
      ]
     },
     "execution_count": 79,
     "metadata": {},
     "output_type": "execute_result"
    }
   ],
   "source": [
    "# 単一の行と列のデータを変更\n",
    "df[1, \"a\"] = -1\n",
    "df"
   ]
  },
  {
   "cell_type": "code",
   "execution_count": 81,
   "id": "ddc2172e-0442-44c4-a06e-5156eb64534b",
   "metadata": {},
   "outputs": [
    {
     "data": {
      "text/html": [
       "<div><style>\n",
       ".dataframe > thead > tr,\n",
       ".dataframe > tbody > tr {\n",
       "  text-align: right;\n",
       "  white-space: pre-wrap;\n",
       "}\n",
       "</style>\n",
       "<small>shape: (4, 4)</small><table border=\"1\" class=\"dataframe\"><thead><tr><th>a</th><th>b</th><th>c</th><th>d</th></tr><tr><td>i32</td><td>i32</td><td>str</td><td>str</td></tr></thead><tbody><tr><td>100</td><td>50</td><td>&quot;x&quot;</td><td>&quot;a&quot;</td></tr><tr><td>-1</td><td>-1</td><td>&quot;y&quot;</td><td>&quot;b&quot;</td></tr><tr><td>300</td><td>70</td><td>&quot;z&quot;</td><td>&quot;c&quot;</td></tr><tr><td>400</td><td>-2</td><td>&quot;w&quot;</td><td>&quot;d&quot;</td></tr></tbody></table></div>"
      ],
      "text/plain": [
       "shape: (4, 4)\n",
       "┌─────┬─────┬─────┬─────┐\n",
       "│ a   ┆ b   ┆ c   ┆ d   │\n",
       "│ --- ┆ --- ┆ --- ┆ --- │\n",
       "│ i32 ┆ i32 ┆ str ┆ str │\n",
       "╞═════╪═════╪═════╪═════╡\n",
       "│ 100 ┆ 50  ┆ x   ┆ a   │\n",
       "│ -1  ┆ -1  ┆ y   ┆ b   │\n",
       "│ 300 ┆ 70  ┆ z   ┆ c   │\n",
       "│ 400 ┆ -2  ┆ w   ┆ d   │\n",
       "└─────┴─────┴─────┴─────┘"
      ]
     },
     "execution_count": 81,
     "metadata": {},
     "output_type": "execute_result"
    }
   ],
   "source": [
    "# 複数の行のデータを変更\n",
    "df[[1, 3], \"b\"] = -1, -2\n",
    "df"
   ]
  }
 ],
 "metadata": {
  "kernelspec": {
   "display_name": "Python 3 (ipykernel)",
   "language": "python",
   "name": "python3"
  },
  "language_info": {
   "codemirror_mode": {
    "name": "ipython",
    "version": 3
   },
   "file_extension": ".py",
   "mimetype": "text/x-python",
   "name": "python",
   "nbconvert_exporter": "python",
   "pygments_lexer": "ipython3",
   "version": "3.11.8"
  }
 },
 "nbformat": 4,
 "nbformat_minor": 5
}

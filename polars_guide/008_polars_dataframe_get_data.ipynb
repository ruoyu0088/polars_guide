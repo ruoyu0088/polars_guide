{
 "cells": [
  {
   "cell_type": "markdown",
   "id": "97789e60-d5ae-442f-a7d2-e9e6fdce8f0b",
   "metadata": {},
   "source": [
    "# データ取得"
   ]
  },
  {
   "cell_type": "markdown",
   "id": "bee5cfbd-67ba-4111-94c9-2d0b8100ded8",
   "metadata": {},
   "source": [
    "本章は、DataFrameから列、行、或いは単一の値を取得する方法について説明します。"
   ]
  },
  {
   "cell_type": "code",
   "execution_count": 32,
   "id": "90d8e5e2-9c1d-48a4-9e59-779a20c44bef",
   "metadata": {},
   "outputs": [],
   "source": [
    "import polars as pl\n",
    "from helper.jupyter import row\n",
    "\n",
    "df = pl.DataFrame(\n",
    "    {\n",
    "        \"a\": [3, 3, 3, 4],\n",
    "        \"b\": [4, 12, 6, 7],\n",
    "        \"g\": ['A', 'B', 'A', 'B']\n",
    "    }\n",
    ")"
   ]
  },
  {
   "cell_type": "markdown",
   "id": "cb3fb550-ab0d-4250-b798-986736c28adc",
   "metadata": {},
   "source": [
    "## 列"
   ]
  },
  {
   "cell_type": "markdown",
   "id": "6da287a3-53b2-4e4c-853a-aa216630db8b",
   "metadata": {},
   "source": [
    "PolarsでDataFrameから列データをSeriesとして取得する方法はいくつかあります。\n",
    "\n",
    "* `DataFrame.to_series()`: インデックスで列を取得します。\n",
    "* `DataFrame.get_column()`: 列名で列を取得します。\n",
    "* `DataFrame.get_columns()`: すべての列を取得します。\n",
    "* `DataFrame.iter_columns()`: 列のイテレーターを取得します。\n",
    "\n",
    "`DataFrame.to_series()` メソッドを使用すると、指定したインデックスに基づいて列を Series として取得できます。"
   ]
  },
  {
   "cell_type": "code",
   "execution_count": 10,
   "id": "eec6c778-68d0-44c6-93a3-5524fbc113dd",
   "metadata": {},
   "outputs": [
    {
     "data": {
      "text/html": [
       "<div><style>\n",
       ".dataframe > thead > tr,\n",
       ".dataframe > tbody > tr {\n",
       "  text-align: right;\n",
       "  white-space: pre-wrap;\n",
       "}\n",
       "</style>\n",
       "<small>shape: (4,)</small><table border=\"1\" class=\"dataframe\"><thead><tr><th>a</th></tr><tr><td>i64</td></tr></thead><tbody><tr><td>3</td></tr><tr><td>3</td></tr><tr><td>3</td></tr><tr><td>4</td></tr></tbody></table></div>"
      ],
      "text/plain": [
       "shape: (4,)\n",
       "Series: 'a' [i64]\n",
       "[\n",
       "\t3\n",
       "\t3\n",
       "\t3\n",
       "\t4\n",
       "]"
      ]
     },
     "execution_count": 10,
     "metadata": {},
     "output_type": "execute_result"
    }
   ],
   "source": [
    "df.to_series(0)"
   ]
  },
  {
   "cell_type": "markdown",
   "id": "e9d5f153-0081-4450-bb7a-b86964d5cfe0",
   "metadata": {},
   "source": [
    "`DataFrame.get_column()` メソッドを使用すると、列名を指定して Series を取得できます。`DataFrame[\"column_name\"]`のような辞書形式で列名を指定して Seriesを取得することもできます。"
   ]
  },
  {
   "cell_type": "code",
   "execution_count": 14,
   "id": "3dc0cb3a-d39d-42c2-bd2b-e0b63a8c851b",
   "metadata": {},
   "outputs": [
    {
     "data": {
      "text/html": [
       "<table><tr><td><div><style>\n",
       ".dataframe > thead > tr,\n",
       ".dataframe > tbody > tr {\n",
       "  text-align: right;\n",
       "  white-space: pre-wrap;\n",
       "}\n",
       "</style>\n",
       "<small>shape: (4,)</small><table border=\"1\" class=\"dataframe\"><thead><tr><th>b</th></tr><tr><td>i64</td></tr></thead><tbody><tr><td>4</td></tr><tr><td>12</td></tr><tr><td>6</td></tr><tr><td>7</td></tr></tbody></table></div></td><td><div><style>\n",
       ".dataframe > thead > tr,\n",
       ".dataframe > tbody > tr {\n",
       "  text-align: right;\n",
       "  white-space: pre-wrap;\n",
       "}\n",
       "</style>\n",
       "<small>shape: (4,)</small><table border=\"1\" class=\"dataframe\"><thead><tr><th>g</th></tr><tr><td>str</td></tr></thead><tbody><tr><td>&quot;A&quot;</td></tr><tr><td>&quot;B&quot;</td></tr><tr><td>&quot;A&quot;</td></tr><tr><td>&quot;B&quot;</td></tr></tbody></table></div></td></tr></table>"
      ]
     },
     "metadata": {},
     "output_type": "display_data"
    }
   ],
   "source": [
    "row(df.get_column('b'), df['g'])"
   ]
  },
  {
   "cell_type": "markdown",
   "id": "977a4de8-d3a1-4b90-a5d9-c7cab592670b",
   "metadata": {},
   "source": [
    "`DataFrame.get_columns()` メソッドは、DataFrame 内のすべての列を Series のリストとして取得します。"
   ]
  },
  {
   "cell_type": "code",
   "execution_count": 12,
   "id": "e4d3455e-7ac0-48b2-b2c6-128419babdb6",
   "metadata": {},
   "outputs": [
    {
     "data": {
      "text/html": [
       "<div><style>\n",
       ".dataframe > thead > tr,\n",
       ".dataframe > tbody > tr {\n",
       "  text-align: right;\n",
       "  white-space: pre-wrap;\n",
       "}\n",
       "</style>\n",
       "<small>shape: (4,)</small><table border=\"1\" class=\"dataframe\"><thead><tr><th>a</th></tr><tr><td>i64</td></tr></thead><tbody><tr><td>3</td></tr><tr><td>3</td></tr><tr><td>3</td></tr><tr><td>4</td></tr></tbody></table></div>"
      ],
      "text/plain": [
       "shape: (4,)\n",
       "Series: 'a' [i64]\n",
       "[\n",
       "\t3\n",
       "\t3\n",
       "\t3\n",
       "\t4\n",
       "]"
      ]
     },
     "execution_count": 12,
     "metadata": {},
     "output_type": "execute_result"
    }
   ],
   "source": [
    "a, b, g = df.get_columns()\n",
    "a"
   ]
  },
  {
   "cell_type": "markdown",
   "id": "5215980b-6a4d-4d52-8d50-70a20cfb3b2f",
   "metadata": {},
   "source": [
    "`DataFrame.iter_columns()`は、DataFrame内のすべての列を一つずつ返します。"
   ]
  },
  {
   "cell_type": "code",
   "execution_count": 16,
   "id": "f1a5d14f-bbf1-4c31-b0ea-8a10aef5d399",
   "metadata": {},
   "outputs": [
    {
     "name": "stdout",
     "output_type": "stream",
     "text": [
      "a [3, 3, 3, 4]\n",
      "b [4, 12, 6, 7]\n",
      "g ['A', 'B', 'A', 'B']\n"
     ]
    }
   ],
   "source": [
    "for col in df.iter_columns():\n",
    "    print(col.name, col.to_list())"
   ]
  },
  {
   "cell_type": "markdown",
   "id": "e24d0c14-cee1-4042-8801-e9e4f983f7f8",
   "metadata": {},
   "source": [
    "Seriesオブジェクトの`to_numpy()`または`to_list()`メソッドを使用すると、NumPyの配列やリストに変換することができます。"
   ]
  },
  {
   "cell_type": "code",
   "execution_count": 7,
   "id": "3a795f08-d08f-48da-9307-8373286b2df9",
   "metadata": {},
   "outputs": [
    {
     "data": {
      "text/plain": [
       "array([3, 3, 3, 4], dtype=int64)"
      ]
     },
     "execution_count": 7,
     "metadata": {},
     "output_type": "execute_result"
    }
   ],
   "source": [
    "a.to_numpy()"
   ]
  },
  {
   "cell_type": "code",
   "execution_count": 8,
   "id": "c12bdbdd-a4de-45d3-9ce5-68383576891a",
   "metadata": {},
   "outputs": [
    {
     "data": {
      "text/plain": [
       "[3, 3, 3, 4]"
      ]
     },
     "execution_count": 8,
     "metadata": {},
     "output_type": "execute_result"
    }
   ],
   "source": [
    "a.to_list()"
   ]
  },
  {
   "cell_type": "markdown",
   "id": "cefe66c1-f001-4ea5-9909-282d987332e2",
   "metadata": {},
   "source": [
    "## 行"
   ]
  },
  {
   "cell_type": "markdown",
   "id": "14b5ed3f-0b9e-40cd-b03d-1f354c884be2",
   "metadata": {},
   "source": [
    "- **`DataFrame.row(index)`**: 特定のインデックスにある行をタプルとして取得します。\n",
    "- **`DataFrame.rows()`**: DataFrame のすべての行をタプルのリストとして取得します。\n",
    "- **`DataFrame.iter_rows()`**: DataFrame の各行に対してイテレーションを行い、各行をタプルとして返します。\n",
    "- **`DataFrame.rows_by_key()`**: 指定したキーに基づいて行をグループ化し、各グループに属する行をタプルのリストとして返します。"
   ]
  },
  {
   "cell_type": "markdown",
   "id": "2e3c30c5-2797-4c48-b089-ee959710c50d",
   "metadata": {},
   "source": [
    "`DataFrame.row(index)` は、指定したインデックス（行番号）に対応する行を取得するためのメソッドです。このメソッドは、特定の行をタプル形式で返します。"
   ]
  },
  {
   "cell_type": "code",
   "execution_count": 17,
   "id": "702ff46e-4de9-4c13-bc8d-f83f8016ff5f",
   "metadata": {},
   "outputs": [
    {
     "data": {
      "text/plain": [
       "(3, 6, 'A')"
      ]
     },
     "execution_count": 17,
     "metadata": {},
     "output_type": "execute_result"
    }
   ],
   "source": [
    "df.row(2)"
   ]
  },
  {
   "cell_type": "markdown",
   "id": "872d97ce-a2f0-4dd8-86a6-bdce8d2b2b51",
   "metadata": {},
   "source": [
    "`named`引数を`True`にすることで、列名を含む辞書形式で返します。"
   ]
  },
  {
   "cell_type": "code",
   "execution_count": 22,
   "id": "4e4cc940-73ff-4425-9ada-220c39b1b2c4",
   "metadata": {},
   "outputs": [
    {
     "data": {
      "text/plain": [
       "{'a': 3, 'b': 6, 'g': 'A'}"
      ]
     },
     "execution_count": 22,
     "metadata": {},
     "output_type": "execute_result"
    }
   ],
   "source": [
    "df.row(2, named=True)"
   ]
  },
  {
   "cell_type": "markdown",
   "id": "683d4b9d-84ec-4756-b6aa-eb1661d93395",
   "metadata": {},
   "source": [
    "`by_predicate`で演算式がTrueになる行を取得することができます。複数の行は条件に満たす場合は、エラーになります。"
   ]
  },
  {
   "cell_type": "code",
   "execution_count": 23,
   "id": "b031ac7a-91a9-4e18-ad54-eca6bd226b91",
   "metadata": {},
   "outputs": [
    {
     "data": {
      "text/plain": [
       "(4, 7, 'B')"
      ]
     },
     "execution_count": 23,
     "metadata": {},
     "output_type": "execute_result"
    }
   ],
   "source": [
    "df.row(by_predicate=pl.col.a == pl.col.a.max())"
   ]
  },
  {
   "cell_type": "markdown",
   "id": "91013fc5-46f9-42f9-a8a8-e947ecd8c74c",
   "metadata": {},
   "source": [
    "`DataFrame.rows()` は、DataFrame 内のすべての行をタプルのリストとして取得するメソッドです。DataFrame 全体のデータを行単位で操作したい場合に便利です。又、`DataFrame.iter_rows()` は各行に対してイテレーションを行うためのメソッドです。"
   ]
  },
  {
   "cell_type": "code",
   "execution_count": 24,
   "id": "3acfe240-e1e7-4515-a7ca-6d8e2ac738ac",
   "metadata": {},
   "outputs": [
    {
     "data": {
      "text/plain": [
       "[(3, 4, 'A'), (3, 12, 'B'), (3, 6, 'A'), (4, 7, 'B')]"
      ]
     },
     "execution_count": 24,
     "metadata": {},
     "output_type": "execute_result"
    }
   ],
   "source": [
    "df.rows()"
   ]
  },
  {
   "cell_type": "code",
   "execution_count": 25,
   "id": "17992191-50bb-4f06-9d22-39cffd95fca9",
   "metadata": {},
   "outputs": [
    {
     "data": {
      "text/plain": [
       "[{'a': 3, 'b': 4, 'g': 'A'},\n",
       " {'a': 3, 'b': 12, 'g': 'B'},\n",
       " {'a': 3, 'b': 6, 'g': 'A'},\n",
       " {'a': 4, 'b': 7, 'g': 'B'}]"
      ]
     },
     "execution_count": 25,
     "metadata": {},
     "output_type": "execute_result"
    }
   ],
   "source": [
    "df.rows(named=True)"
   ]
  },
  {
   "cell_type": "code",
   "execution_count": 28,
   "id": "db29051a-b42a-4796-98f3-e92bc29ec344",
   "metadata": {},
   "outputs": [
    {
     "name": "stdout",
     "output_type": "stream",
     "text": [
      "(3, 4, 'A')\n",
      "(3, 12, 'B')\n",
      "(3, 6, 'A')\n",
      "(4, 7, 'B')\n"
     ]
    }
   ],
   "source": [
    "for row in df.iter_rows():\n",
    "    print(row)"
   ]
  },
  {
   "cell_type": "markdown",
   "id": "ca328a2c-4608-4b0a-a880-d94450117faa",
   "metadata": {},
   "source": [
    "`DataFrame.rows_by_key()` は、指定したキー（列）に基づいて DataFrame 内の行をグループ化し、そのキーに対応する行をタプルのリストとして返すメソッドです。"
   ]
  },
  {
   "cell_type": "code",
   "execution_count": 26,
   "id": "d5e5c679-464d-49c9-8f5b-bbee3a5f2f90",
   "metadata": {},
   "outputs": [
    {
     "data": {
      "text/plain": [
       "defaultdict(list, {'A': [(3, 4), (3, 6)], 'B': [(3, 12), (4, 7)]})"
      ]
     },
     "execution_count": 26,
     "metadata": {},
     "output_type": "execute_result"
    }
   ],
   "source": [
    "df.rows_by_key('g')"
   ]
  },
  {
   "cell_type": "code",
   "execution_count": 27,
   "id": "4eebfd2b-c0f1-48ef-a15a-58b52a8c2962",
   "metadata": {},
   "outputs": [
    {
     "data": {
      "text/plain": [
       "defaultdict(list,\n",
       "            {'A': [{'a': 3, 'b': 4}, {'a': 3, 'b': 6}],\n",
       "             'B': [{'a': 3, 'b': 12}, {'a': 4, 'b': 7}]})"
      ]
     },
     "execution_count": 27,
     "metadata": {},
     "output_type": "execute_result"
    }
   ],
   "source": [
    "df.rows_by_key('g', named=True)"
   ]
  },
  {
   "cell_type": "markdown",
   "id": "38cd53a7-abbe-4a30-a84a-84f83aef8488",
   "metadata": {},
   "source": [
    "## 単一の値"
   ]
  },
  {
   "cell_type": "markdown",
   "id": "2c0a77fd-3142-43ae-bc00-eb76959bd9a5",
   "metadata": {},
   "source": [
    "`DataFrame.item()`は、DataFrameから単一の値を取得するためのメソッドです。"
   ]
  },
  {
   "cell_type": "code",
   "execution_count": 25,
   "id": "8cc5efcb-bc32-43c3-8d8d-5910a341da04",
   "metadata": {},
   "outputs": [
    {
     "data": {
      "text/plain": [
       "3"
      ]
     },
     "execution_count": 25,
     "metadata": {},
     "output_type": "execute_result"
    }
   ],
   "source": [
    "df.item(2, 'a')"
   ]
  },
  {
   "cell_type": "markdown",
   "id": "a53396e1-56bd-48e5-a07b-a7672565f5f2",
   "metadata": {},
   "source": [
    "DataFrameに値が一つだけ含まれる場合、引数を省略できます。列の統計値を取得して、それを別の計算に利用する際によく使用されます。"
   ]
  },
  {
   "cell_type": "code",
   "execution_count": 31,
   "id": "b0dfd433-79ce-4f58-8af3-6dea054d2ce3",
   "metadata": {},
   "outputs": [
    {
     "data": {
      "text/plain": [
       "0.0325"
      ]
     },
     "execution_count": 31,
     "metadata": {},
     "output_type": "execute_result"
    }
   ],
   "source": [
    "df.select(pl.col.a.mean()).item() / 100"
   ]
  }
 ],
 "metadata": {
  "kernelspec": {
   "display_name": "Python 3 (ipykernel)",
   "language": "python",
   "name": "python3"
  },
  "language_info": {
   "codemirror_mode": {
    "name": "ipython",
    "version": 3
   },
   "file_extension": ".py",
   "mimetype": "text/x-python",
   "name": "python",
   "nbconvert_exporter": "python",
   "pygments_lexer": "ipython3",
   "version": "3.12.2"
  }
 },
 "nbformat": 4,
 "nbformat_minor": 5
}

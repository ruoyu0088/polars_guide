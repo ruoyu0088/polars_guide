{
 "cells": [
  {
   "cell_type": "markdown",
   "id": "e94a41dd-08dd-4a1e-9f87-b0f33a0f77e9",
   "metadata": {},
   "source": [
    "# 形状変更"
   ]
  },
  {
   "cell_type": "markdown",
   "id": "0973412d-0339-4fcc-8e9f-cc0d5c5b7529",
   "metadata": {},
   "source": [
    "データの形状を変更する操作は、データ分析や加工において重要なステップです。Polarsでは効率的に形状を変更するための様々な方法を提供しています。この章では、その中でも特に重要な操作について説明します。"
   ]
  },
  {
   "cell_type": "code",
   "execution_count": 7,
   "id": "c7a609c5-66dc-45bb-b292-38b54c5877d8",
   "metadata": {},
   "outputs": [],
   "source": [
    "import polars as pl\n",
    "from helper.jupyter import row"
   ]
  },
  {
   "cell_type": "markdown",
   "id": "fb03c36b-1efd-4d3c-8af6-e3b3121ee1f1",
   "metadata": {},
   "source": [
    "## ピボットテーブル\n",
    "\n",
    "`pivot`メソッドを使用すると、データフレームをピボットテーブルの形式に変換できます。この操作では、指定した列を基準にしてデータを集計し、行列形式で再構築します。\n",
    "\n",
    "以下の例では、`name`列を新しい列ラベルとして使用し、`index`列を行ラベル（インデックス）として設定しています。また、`value`列の値を新しいテーブルのセルに挿入し、同じ行と列の組み合わせが複数存在する場合には`aggregate_function`で指定した方法（この場合は`first`）で値を集約します。\n"
   ]
  },
  {
   "cell_type": "code",
   "execution_count": 8,
   "id": "6c853587-1288-4f2d-97f3-e8f4ebd98863",
   "metadata": {},
   "outputs": [
    {
     "data": {
      "text/html": [
       "<table><tr><td><div><style>\n",
       ".dataframe > thead > tr,\n",
       ".dataframe > tbody > tr {\n",
       "  text-align: right;\n",
       "  white-space: pre-wrap;\n",
       "}\n",
       "</style>\n",
       "<small>shape: (10, 4)</small><table border=\"1\" class=\"dataframe\"><thead><tr><th>index</th><th>name</th><th>value</th><th>score</th></tr><tr><td>i64</td><td>str</td><td>i64</td><td>i64</td></tr></thead><tbody><tr><td>0</td><td>&quot;A&quot;</td><td>10</td><td>1</td></tr><tr><td>1</td><td>&quot;A&quot;</td><td>20</td><td>3</td></tr><tr><td>2</td><td>&quot;A&quot;</td><td>30</td><td>5</td></tr><tr><td>0</td><td>&quot;B&quot;</td><td>40</td><td>4</td></tr><tr><td>1</td><td>&quot;B&quot;</td><td>50</td><td>3</td></tr><tr><td>2</td><td>&quot;B&quot;</td><td>60</td><td>2</td></tr><tr><td>0</td><td>&quot;C&quot;</td><td>70</td><td>1</td></tr><tr><td>1</td><td>&quot;C&quot;</td><td>80</td><td>2</td></tr><tr><td>2</td><td>&quot;C&quot;</td><td>90</td><td>3</td></tr><tr><td>1</td><td>&quot;A&quot;</td><td>100</td><td>4</td></tr></tbody></table></div></td><td><div><style>\n",
       ".dataframe > thead > tr,\n",
       ".dataframe > tbody > tr {\n",
       "  text-align: right;\n",
       "  white-space: pre-wrap;\n",
       "}\n",
       "</style>\n",
       "<small>shape: (3, 4)</small><table border=\"1\" class=\"dataframe\"><thead><tr><th>index</th><th>A</th><th>B</th><th>C</th></tr><tr><td>i64</td><td>i64</td><td>i64</td><td>i64</td></tr></thead><tbody><tr><td>0</td><td>10</td><td>40</td><td>70</td></tr><tr><td>1</td><td>20</td><td>50</td><td>80</td></tr><tr><td>2</td><td>30</td><td>60</td><td>90</td></tr></tbody></table></div></td></tr></table>"
      ]
     },
     "metadata": {},
     "output_type": "display_data"
    }
   ],
   "source": [
    "df = pl.DataFrame(\n",
    "    dict(\n",
    "        index=[0, 1, 2, 0, 1, 2, 0, 1, 2, 1],\n",
    "        name=['A', 'A', 'A', 'B', 'B', 'B', 'C', 'C', 'C', 'A'],\n",
    "        value=[10, 20, 30, 40, 50, 60, 70, 80, 90, 100],\n",
    "        score=[1, 3, 5, 4, 3, 2, 1, 2, 3, 4],\n",
    "    )\n",
    ")\n",
    "\n",
    "df2 = df.pivot('name', index='index', values='value', aggregate_function='first')\n",
    "row(df, df2)"
   ]
  },
  {
   "cell_type": "markdown",
   "id": "c3919b38-0489-4ca0-baa2-ffc4e156e7e8",
   "metadata": {},
   "source": [
    "`aggregate_function`引数を使用して、同じ行列の組み合わせに対応する複数の値をどのように集約するかを指定できます。Polarsはこの引数に以下のような標準的な関数を受け付けます：\n",
    "\n",
    "1. **`sum`**: 値を合計します。\n",
    "2. **`mean`**: 値の平均を計算します。\n",
    "3. **カスタム演算式**: ユーザー定義の集約演算式を適用可能です。ここでは`pl.element()`ですべての値をリストに集約します。\n",
    "\n",
    "以下の例を通して、異なる`aggregate_function`を使用したピボットの結果を確認します。"
   ]
  },
  {
   "cell_type": "code",
   "execution_count": 9,
   "id": "9ac8c298-3d88-45cc-b3b9-3de5b97939e7",
   "metadata": {},
   "outputs": [
    {
     "data": {
      "text/html": [
       "<table><tr><td><div><style>\n",
       ".dataframe > thead > tr,\n",
       ".dataframe > tbody > tr {\n",
       "  text-align: right;\n",
       "  white-space: pre-wrap;\n",
       "}\n",
       "</style>\n",
       "<small>shape: (3, 4)</small><table border=\"1\" class=\"dataframe\"><thead><tr><th>index</th><th>A</th><th>B</th><th>C</th></tr><tr><td>i64</td><td>i64</td><td>i64</td><td>i64</td></tr></thead><tbody><tr><td>0</td><td>10</td><td>40</td><td>70</td></tr><tr><td>1</td><td>120</td><td>50</td><td>80</td></tr><tr><td>2</td><td>30</td><td>60</td><td>90</td></tr></tbody></table></div></td><td><div><style>\n",
       ".dataframe > thead > tr,\n",
       ".dataframe > tbody > tr {\n",
       "  text-align: right;\n",
       "  white-space: pre-wrap;\n",
       "}\n",
       "</style>\n",
       "<small>shape: (3, 4)</small><table border=\"1\" class=\"dataframe\"><thead><tr><th>index</th><th>A</th><th>B</th><th>C</th></tr><tr><td>i64</td><td>f64</td><td>f64</td><td>f64</td></tr></thead><tbody><tr><td>0</td><td>10.0</td><td>40.0</td><td>70.0</td></tr><tr><td>1</td><td>60.0</td><td>50.0</td><td>80.0</td></tr><tr><td>2</td><td>30.0</td><td>60.0</td><td>90.0</td></tr></tbody></table></div></td><td><div><style>\n",
       ".dataframe > thead > tr,\n",
       ".dataframe > tbody > tr {\n",
       "  text-align: right;\n",
       "  white-space: pre-wrap;\n",
       "}\n",
       "</style>\n",
       "<small>shape: (3, 4)</small><table border=\"1\" class=\"dataframe\"><thead><tr><th>index</th><th>A</th><th>B</th><th>C</th></tr><tr><td>i64</td><td>list[i64]</td><td>list[i64]</td><td>list[i64]</td></tr></thead><tbody><tr><td>0</td><td>[10]</td><td>[40]</td><td>[70]</td></tr><tr><td>1</td><td>[20, 100]</td><td>[50]</td><td>[80]</td></tr><tr><td>2</td><td>[30]</td><td>[60]</td><td>[90]</td></tr></tbody></table></div></td></tr></table>"
      ]
     },
     "metadata": {},
     "output_type": "display_data"
    }
   ],
   "source": [
    "df3 = df.pivot('name', index='index', values='value', aggregate_function='sum')\n",
    "df4 = df.pivot('name', index='index', values='value', aggregate_function='mean')\n",
    "df5 = df.pivot('name', index='index', values='value', aggregate_function=pl.element())\n",
    "row(df3, df4, df5)"
   ]
  },
  {
   "cell_type": "markdown",
   "id": "978a4ade-edfc-4561-bb22-e945e22c680b",
   "metadata": {},
   "source": [
    "`values`引数に複数の列を渡すことで、指定した複数の列がピボットテーブルの中で展開されます。この場合、結果のテーブルでは、列ラベルが`name`列の値に基づき、各ラベルに対応するサブ列として指定された値の列が表示されます。"
   ]
  },
  {
   "cell_type": "code",
   "execution_count": 10,
   "id": "4fbff1a4-9fc1-4eaa-8430-d33466f31064",
   "metadata": {},
   "outputs": [
    {
     "data": {
      "text/html": [
       "<div><style>\n",
       ".dataframe > thead > tr,\n",
       ".dataframe > tbody > tr {\n",
       "  text-align: right;\n",
       "  white-space: pre-wrap;\n",
       "}\n",
       "</style>\n",
       "<small>shape: (3, 7)</small><table border=\"1\" class=\"dataframe\"><thead><tr><th>index</th><th>value_A</th><th>value_B</th><th>value_C</th><th>score_A</th><th>score_B</th><th>score_C</th></tr><tr><td>i64</td><td>list[i64]</td><td>list[i64]</td><td>list[i64]</td><td>list[i64]</td><td>list[i64]</td><td>list[i64]</td></tr></thead><tbody><tr><td>0</td><td>[10]</td><td>[40]</td><td>[70]</td><td>[1]</td><td>[4]</td><td>[1]</td></tr><tr><td>1</td><td>[20, 100]</td><td>[50]</td><td>[80]</td><td>[3, 4]</td><td>[3]</td><td>[2]</td></tr><tr><td>2</td><td>[30]</td><td>[60]</td><td>[90]</td><td>[5]</td><td>[2]</td><td>[3]</td></tr></tbody></table></div>"
      ],
      "text/plain": [
       "shape: (3, 7)\n",
       "┌───────┬───────────┬───────────┬───────────┬───────────┬───────────┬───────────┐\n",
       "│ index ┆ value_A   ┆ value_B   ┆ value_C   ┆ score_A   ┆ score_B   ┆ score_C   │\n",
       "│ ---   ┆ ---       ┆ ---       ┆ ---       ┆ ---       ┆ ---       ┆ ---       │\n",
       "│ i64   ┆ list[i64] ┆ list[i64] ┆ list[i64] ┆ list[i64] ┆ list[i64] ┆ list[i64] │\n",
       "╞═══════╪═══════════╪═══════════╪═══════════╪═══════════╪═══════════╪═══════════╡\n",
       "│ 0     ┆ [10]      ┆ [40]      ┆ [70]      ┆ [1]       ┆ [4]       ┆ [1]       │\n",
       "│ 1     ┆ [20, 100] ┆ [50]      ┆ [80]      ┆ [3, 4]    ┆ [3]       ┆ [2]       │\n",
       "│ 2     ┆ [30]      ┆ [60]      ┆ [90]      ┆ [5]       ┆ [2]       ┆ [3]       │\n",
       "└───────┴───────────┴───────────┴───────────┴───────────┴───────────┴───────────┘"
      ]
     },
     "execution_count": 10,
     "metadata": {},
     "output_type": "execute_result"
    }
   ],
   "source": [
    "df.pivot('name', index='index', values=['value', 'score'], aggregate_function=pl.element())"
   ]
  },
  {
   "cell_type": "markdown",
   "id": "d0f5d843-2648-485b-8308-1de57089c824",
   "metadata": {},
   "source": [
    "`separator`引数を指定することで、列名と値の結合文字を自由に変更できます。"
   ]
  },
  {
   "cell_type": "code",
   "execution_count": 11,
   "id": "4c37d313-b8bb-4fbf-8f6e-0c79c2310d5a",
   "metadata": {},
   "outputs": [
    {
     "data": {
      "text/html": [
       "<div><style>\n",
       ".dataframe > thead > tr,\n",
       ".dataframe > tbody > tr {\n",
       "  text-align: right;\n",
       "  white-space: pre-wrap;\n",
       "}\n",
       "</style>\n",
       "<small>shape: (3, 7)</small><table border=\"1\" class=\"dataframe\"><thead><tr><th>index</th><th>value:A</th><th>value:B</th><th>value:C</th><th>score:A</th><th>score:B</th><th>score:C</th></tr><tr><td>i64</td><td>i64</td><td>i64</td><td>i64</td><td>i64</td><td>i64</td><td>i64</td></tr></thead><tbody><tr><td>0</td><td>10</td><td>40</td><td>70</td><td>1</td><td>4</td><td>1</td></tr><tr><td>1</td><td>100</td><td>50</td><td>80</td><td>4</td><td>3</td><td>2</td></tr><tr><td>2</td><td>30</td><td>60</td><td>90</td><td>5</td><td>2</td><td>3</td></tr></tbody></table></div>"
      ],
      "text/plain": [
       "shape: (3, 7)\n",
       "┌───────┬─────────┬─────────┬─────────┬─────────┬─────────┬─────────┐\n",
       "│ index ┆ value:A ┆ value:B ┆ value:C ┆ score:A ┆ score:B ┆ score:C │\n",
       "│ ---   ┆ ---     ┆ ---     ┆ ---     ┆ ---     ┆ ---     ┆ ---     │\n",
       "│ i64   ┆ i64     ┆ i64     ┆ i64     ┆ i64     ┆ i64     ┆ i64     │\n",
       "╞═══════╪═════════╪═════════╪═════════╪═════════╪═════════╪═════════╡\n",
       "│ 0     ┆ 10      ┆ 40      ┆ 70      ┆ 1       ┆ 4       ┆ 1       │\n",
       "│ 1     ┆ 100     ┆ 50      ┆ 80      ┆ 4       ┆ 3       ┆ 2       │\n",
       "│ 2     ┆ 30      ┆ 60      ┆ 90      ┆ 5       ┆ 2       ┆ 3       │\n",
       "└───────┴─────────┴─────────┴─────────┴─────────┴─────────┴─────────┘"
      ]
     },
     "execution_count": 11,
     "metadata": {},
     "output_type": "execute_result"
    }
   ],
   "source": [
    "df.pivot('name', index='index', values=['value', 'score'], aggregate_function=\"max\", separator=\":\")"
   ]
  },
  {
   "cell_type": "markdown",
   "id": "b9596d85-8f33-4392-8457-89e260175a35",
   "metadata": {},
   "source": [
    "## TODO"
   ]
  },
  {
   "cell_type": "code",
   "execution_count": 26,
   "id": "45132ce3-ea2a-4574-9199-6663f0dba833",
   "metadata": {},
   "outputs": [],
   "source": [
    "def unpivot_by_prefix(df, column_name_sep, group_name=\"group\"):\n",
    "    sep = column_name_sep\n",
    "    groups = [name.split(sep)[0] for name in df.columns]\n",
    "    dfs = []\n",
    "    for group in dict.fromkeys(groups):\n",
    "        index = [i for i, name in enumerate(groups) if name == group]\n",
    "        dfs.append(\n",
    "            df.select(\n",
    "                pl.lit(group).alias(group_name),\n",
    "                pl.nth(index).name.map(lambda name:name.split(sep)[-1]))\n",
    "        )\n",
    "    \n",
    "    df_long = pl.concat(dfs)\n",
    "    return df_long"
   ]
  },
  {
   "cell_type": "code",
   "execution_count": 28,
   "id": "230d016c-470f-4ef5-949e-196cff6b50a3",
   "metadata": {},
   "outputs": [
    {
     "data": {
      "text/html": [
       "<div><style>\n",
       ".dataframe > thead > tr,\n",
       ".dataframe > tbody > tr {\n",
       "  text-align: right;\n",
       "  white-space: pre-wrap;\n",
       "}\n",
       "</style>\n",
       "<small>shape: (6, 4)</small><table border=\"1\" class=\"dataframe\"><thead><tr><th>group</th><th>A</th><th>B</th><th>C</th></tr><tr><td>str</td><td>i64</td><td>i64</td><td>i64</td></tr></thead><tbody><tr><td>&quot;value&quot;</td><td>10</td><td>40</td><td>70</td></tr><tr><td>&quot;value&quot;</td><td>100</td><td>50</td><td>80</td></tr><tr><td>&quot;value&quot;</td><td>30</td><td>60</td><td>90</td></tr><tr><td>&quot;score&quot;</td><td>1</td><td>4</td><td>1</td></tr><tr><td>&quot;score&quot;</td><td>4</td><td>3</td><td>2</td></tr><tr><td>&quot;score&quot;</td><td>5</td><td>2</td><td>3</td></tr></tbody></table></div>"
      ],
      "text/plain": [
       "shape: (6, 4)\n",
       "┌───────┬─────┬─────┬─────┐\n",
       "│ group ┆ A   ┆ B   ┆ C   │\n",
       "│ ---   ┆ --- ┆ --- ┆ --- │\n",
       "│ str   ┆ i64 ┆ i64 ┆ i64 │\n",
       "╞═══════╪═════╪═════╪═════╡\n",
       "│ value ┆ 10  ┆ 40  ┆ 70  │\n",
       "│ value ┆ 100 ┆ 50  ┆ 80  │\n",
       "│ value ┆ 30  ┆ 60  ┆ 90  │\n",
       "│ score ┆ 1   ┆ 4   ┆ 1   │\n",
       "│ score ┆ 4   ┆ 3   ┆ 2   │\n",
       "│ score ┆ 5   ┆ 2   ┆ 3   │\n",
       "└───────┴─────┴─────┴─────┘"
      ]
     },
     "execution_count": 28,
     "metadata": {},
     "output_type": "execute_result"
    }
   ],
   "source": [
    "unpivot_by_prefix(wide_df.select(pl.exclude(\"index\")), \":\")"
   ]
  },
  {
   "cell_type": "code",
   "execution_count": 21,
   "id": "98af516d-74cf-489b-9db4-fa91aa26ee3f",
   "metadata": {},
   "outputs": [],
   "source": [
    "from polars import selectors as cs"
   ]
  },
  {
   "cell_type": "code",
   "execution_count": 22,
   "id": "f11eb9d4-0551-42ae-a399-11bf69a0dcf2",
   "metadata": {},
   "outputs": [
    {
     "data": {
      "text/html": [
       "<div><style>\n",
       ".dataframe > thead > tr,\n",
       ".dataframe > tbody > tr {\n",
       "  text-align: right;\n",
       "  white-space: pre-wrap;\n",
       "}\n",
       "</style>\n",
       "<small>shape: (6, 3)</small><table border=\"1\" class=\"dataframe\"><thead><tr><th>index</th><th>variable</th><th>value</th></tr><tr><td>i64</td><td>str</td><td>i64</td></tr></thead><tbody><tr><td>0</td><td>&quot;value_A&quot;</td><td>10</td></tr><tr><td>1</td><td>&quot;value_A&quot;</td><td>100</td></tr><tr><td>2</td><td>&quot;value_A&quot;</td><td>30</td></tr><tr><td>0</td><td>&quot;score_A&quot;</td><td>1</td></tr><tr><td>1</td><td>&quot;score_A&quot;</td><td>4</td></tr><tr><td>2</td><td>&quot;score_A&quot;</td><td>5</td></tr></tbody></table></div>"
      ],
      "text/plain": [
       "shape: (6, 3)\n",
       "┌───────┬──────────┬───────┐\n",
       "│ index ┆ variable ┆ value │\n",
       "│ ---   ┆ ---      ┆ ---   │\n",
       "│ i64   ┆ str      ┆ i64   │\n",
       "╞═══════╪══════════╪═══════╡\n",
       "│ 0     ┆ value_A  ┆ 10    │\n",
       "│ 1     ┆ value_A  ┆ 100   │\n",
       "│ 2     ┆ value_A  ┆ 30    │\n",
       "│ 0     ┆ score_A  ┆ 1     │\n",
       "│ 1     ┆ score_A  ┆ 4     │\n",
       "│ 2     ┆ score_A  ┆ 5     │\n",
       "└───────┴──────────┴───────┘"
      ]
     },
     "execution_count": 22,
     "metadata": {},
     "output_type": "execute_result"
    }
   ],
   "source": [
    "wide_df.unpivot(on=cs.ends_with(\"A\"), index=\"index\")"
   ]
  },
  {
   "cell_type": "markdown",
   "id": "f4057fee-5ab8-45e0-b18e-bbadce2be445",
   "metadata": {},
   "source": [
    "`unstack()`はNumPyのreshapeと似ています。一つの列を複数の列に分けます。"
   ]
  },
  {
   "cell_type": "code",
   "execution_count": 10,
   "id": "6a026b14-4cec-4e23-9cd9-9200b4781bf8",
   "metadata": {},
   "outputs": [
    {
     "data": {
      "text/html": [
       "<div><style>\n",
       ".dataframe > thead > tr,\n",
       ".dataframe > tbody > tr {\n",
       "  text-align: right;\n",
       "  white-space: pre-wrap;\n",
       "}\n",
       "</style>\n",
       "<small>shape: (3, 3)</small><table border=\"1\" class=\"dataframe\"><thead><tr><th>value_0</th><th>value_1</th><th>value_2</th></tr><tr><td>i64</td><td>i64</td><td>i64</td></tr></thead><tbody><tr><td>10</td><td>40</td><td>70</td></tr><tr><td>20</td><td>50</td><td>80</td></tr><tr><td>30</td><td>60</td><td>90</td></tr></tbody></table></div>"
      ],
      "text/plain": [
       "shape: (3, 3)\n",
       "┌─────────┬─────────┬─────────┐\n",
       "│ value_0 ┆ value_1 ┆ value_2 │\n",
       "│ ---     ┆ ---     ┆ ---     │\n",
       "│ i64     ┆ i64     ┆ i64     │\n",
       "╞═════════╪═════════╪═════════╡\n",
       "│ 10      ┆ 40      ┆ 70      │\n",
       "│ 20      ┆ 50      ┆ 80      │\n",
       "│ 30      ┆ 60      ┆ 90      │\n",
       "└─────────┴─────────┴─────────┘"
      ]
     },
     "execution_count": 10,
     "metadata": {},
     "output_type": "execute_result"
    }
   ],
   "source": [
    "long_df[:-1].unstack(3, how='vertical', columns='value')"
   ]
  },
  {
   "cell_type": "code",
   "execution_count": 11,
   "id": "f2fc80ba-3695-4f44-84ad-b5ddfc21b181",
   "metadata": {},
   "outputs": [
    {
     "data": {
      "text/html": [
       "<div><style>\n",
       ".dataframe > thead > tr,\n",
       ".dataframe > tbody > tr {\n",
       "  text-align: right;\n",
       "  white-space: pre-wrap;\n",
       "}\n",
       "</style>\n",
       "<small>shape: (3, 3)</small><table border=\"1\" class=\"dataframe\"><thead><tr><th>value_0</th><th>value_1</th><th>value_2</th></tr><tr><td>i64</td><td>i64</td><td>i64</td></tr></thead><tbody><tr><td>10</td><td>20</td><td>30</td></tr><tr><td>40</td><td>50</td><td>60</td></tr><tr><td>70</td><td>80</td><td>90</td></tr></tbody></table></div>"
      ],
      "text/plain": [
       "shape: (3, 3)\n",
       "┌─────────┬─────────┬─────────┐\n",
       "│ value_0 ┆ value_1 ┆ value_2 │\n",
       "│ ---     ┆ ---     ┆ ---     │\n",
       "│ i64     ┆ i64     ┆ i64     │\n",
       "╞═════════╪═════════╪═════════╡\n",
       "│ 10      ┆ 20      ┆ 30      │\n",
       "│ 40      ┆ 50      ┆ 60      │\n",
       "│ 70      ┆ 80      ┆ 90      │\n",
       "└─────────┴─────────┴─────────┘"
      ]
     },
     "execution_count": 11,
     "metadata": {},
     "output_type": "execute_result"
    }
   ],
   "source": [
    "long_df[:-1].unstack(3, how='horizontal', columns=['value'])"
   ]
  }
 ],
 "metadata": {
  "kernelspec": {
   "display_name": "Python 3 (ipykernel)",
   "language": "python",
   "name": "python3"
  },
  "language_info": {
   "codemirror_mode": {
    "name": "ipython",
    "version": 3
   },
   "file_extension": ".py",
   "mimetype": "text/x-python",
   "name": "python",
   "nbconvert_exporter": "python",
   "pygments_lexer": "ipython3",
   "version": "3.12.2"
  }
 },
 "nbformat": 4,
 "nbformat_minor": 5
}

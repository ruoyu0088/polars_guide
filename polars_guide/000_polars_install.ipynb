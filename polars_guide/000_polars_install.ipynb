{
 "cells": [
  {
   "cell_type": "markdown",
   "id": "e3ad0a10-7668-47ca-b9eb-60ff79079458",
   "metadata": {},
   "source": [
    "# インストールと学習資料"
   ]
  },
  {
   "cell_type": "markdown",
   "id": "57c5be3a-4db2-4ecd-83eb-10ae702d9d57",
   "metadata": {},
   "source": [
    "## インストール"
   ]
  },
  {
   "cell_type": "markdown",
   "id": "84cde17a-f508-4d90-b822-a42861423d23",
   "metadata": {},
   "source": [
    "`conda`を使用する場合は、次のコマンドでPolarsをインストールします。\n",
    "\n",
    "```\n",
    "conda install -c conda-forge polars \n",
    "```\n",
    "\n",
    "グラフ出力機能を使う場合は以下のコマンドで`hvplot`と`geoviews`をインストールしてください。\n",
    "\n",
    "```\n",
    "conda install -c conda-forge hvplot geoviews \n",
    "```\n",
    "\n",
    "Polars内部で使用しているデータ構造を観察するためには、次のライブラリをインストールしてください。\n",
    "\n",
    "```\n",
    "conda install -c conda-forge pyarrow \n",
    "```\n",
    "\n",
    "高速でExcelのファイルからデータを読み込み場合は、次のライブラリをインストールしてください。\n",
    "\n",
    "```\n",
    "conda install -c conda-forge python-calamine\n",
    "```"
   ]
  },
  {
   "cell_type": "markdown",
   "id": "21a8ba0d-7a26-41c2-897d-b12c048599d5",
   "metadata": {},
   "source": [
    "## 学習資料"
   ]
  },
  {
   "cell_type": "markdown",
   "id": "26449bdb-eaaa-40cc-b578-46715fce58e5",
   "metadata": {},
   "source": [
    "* [本家のドキュメント](https://docs.pola.rs/)\n",
    "* [Modern Polars](https://kevinheavey.github.io/modern-polars/)\n",
    "* [Python Polars: The Definitive Guide](https://github.com/jeroenjanssens/python-polars-the-definitive-guide)\n",
    "* [Data Analysis with Polars](https://github.com/PacktPublishing/Data-Analysis-with-Polars)\n",
    "* [Polars Cookbook](https://github.com/escobar-west/polars-cookbook)\n",
    "* [Awesome Polars](https://github.com/ddotta/awesome-polars)"
   ]
  }
 ],
 "metadata": {
  "kernelspec": {
   "display_name": "Python 3 (ipykernel)",
   "language": "python",
   "name": "python3"
  },
  "language_info": {
   "codemirror_mode": {
    "name": "ipython",
    "version": 3
   },
   "file_extension": ".py",
   "mimetype": "text/x-python",
   "name": "python",
   "nbconvert_exporter": "python",
   "pygments_lexer": "ipython3",
   "version": "3.12.2"
  }
 },
 "nbformat": 4,
 "nbformat_minor": 5
}

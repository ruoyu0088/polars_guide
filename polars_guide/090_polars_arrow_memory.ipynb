{
 "cells": [
  {
   "cell_type": "markdown",
   "id": "77bddd6e-a6bd-4653-81e0-f1247cacd158",
   "metadata": {},
   "source": [
    "# メモリ構造\n",
    "\n",
    "PolarsのDataFrameの裏側には、Apache Arrow形式の配列が存在します。これにより、メモリ効率が高く、同時に高速なデータアクセスと操作が可能になります。Apache Arrowは、データ分析や処理に特化した列指向のメモリ形式であり、以下の特徴を持ちます。\n",
    "\n",
    "1. メモリ効率: Apache Arrowは、データを連続したメモリブロックに格納するため、キャッシュ効率が高くなります。これにより、大量のデータを扱う際にもメモリの使用量が最小限に抑えられます。\n",
    "\n",
    "2. 互換性: Arrow形式は、多くのデータ分析ツールやライブラリと互換性があります。これにより、異なるツール間でのデータの移動がシームレスに行えます。\n",
    "\n",
    "3. 高速なデータアクセス: 列指向のデータ格納形式は、特定の列へのアクセスや操作を非常に高速に行うことができます。これは、大規模なデータセットに対して特定の列を頻繁に操作する場合に特に有効です。\n",
    "\n",
    "4. 豊富なデータ型のサポート: Arrowは、NULL、リスト、構造体、文字列など、多種多様なデータ型をサポートしています。これにより、複雑なデータ構造を簡単に表現し、操作することができます。\n",
    "\n",
    "本章では、NULL、文字列、配列、リスト、構造体などのデータ型を表現するためのメモリ構造について詳述します。"
   ]
  },
  {
   "cell_type": "code",
   "execution_count": 1,
   "id": "a1f6de87-1d90-46c0-9c3b-d83310071acd",
   "metadata": {},
   "outputs": [],
   "source": [
    "import struct\n",
    "import polars as pl"
   ]
  },
  {
   "cell_type": "markdown",
   "id": "70f51358-5053-43aa-b6ba-bf49c4442480",
   "metadata": {},
   "source": [
    "## データの管理\n",
    "\n",
    "Polarsでは、最も低レベルのデータ管理に`pyarrow`の`Buffer`を使用しています。以下のコードでは、`df['A']`を2回実行して、それぞれの`Series`オブジェクトが同一かどうかを`id()`関数で確認します。"
   ]
  },
  {
   "cell_type": "code",
   "execution_count": 2,
   "id": "dc2c8004-1bb8-46e7-b457-195a81849e92",
   "metadata": {},
   "outputs": [
    {
     "name": "stdout",
     "output_type": "stream",
     "text": [
      "2105964530064 2105964497872\n"
     ]
    }
   ],
   "source": [
    "df = pl.DataFrame({\n",
    "    \"A\": [1, 2, 3, 4],\n",
    "    \"B\": [5, 6, 7, 8]\n",
    "})\n",
    "\n",
    "# Seriesオブジェクトを2回取得\n",
    "s1 = df['A']\n",
    "s2 = df['A']\n",
    "print(id(s1), id(s2))"
   ]
  },
  {
   "cell_type": "markdown",
   "id": "8c3efc79-a976-4b45-9a6a-62c51e236cb5",
   "metadata": {},
   "source": [
    "結果として、取得した2つの`Series`オブジェクトは**同一ではありません**。Polarsの`Series`内部では、Rustで実装された`PySeries`が使用されています。しかし、この`PySeries`もそれぞれ異なるオブジェクトです。"
   ]
  },
  {
   "cell_type": "code",
   "execution_count": 3,
   "id": "c3bd6915-906f-422e-8bb2-601c150cb1b6",
   "metadata": {},
   "outputs": [
    {
     "name": "stdout",
     "output_type": "stream",
     "text": [
      "2105964328640 2105968588192\n"
     ]
    }
   ],
   "source": [
    "print(id(s1._s), id(s2._s))"
   ]
  },
  {
   "cell_type": "markdown",
   "id": "5f1f987c-3e68-4219-8ce8-304b996729f0",
   "metadata": {},
   "source": [
    "各`Series`オブジェクトをPyArrowの配列に変換しても、取得した配列は**同一ではありません**。"
   ]
  },
  {
   "cell_type": "code",
   "execution_count": 4,
   "id": "cae5bb64-c5fa-4c97-ac68-62f5659b66dd",
   "metadata": {},
   "outputs": [
    {
     "name": "stdout",
     "output_type": "stream",
     "text": [
      "2105897255552 2105897255360\n"
     ]
    }
   ],
   "source": [
    "a1 = s1.to_arrow()\n",
    "a2 = s2.to_arrow()\n",
    "print(id(a1), id(a2))"
   ]
  },
  {
   "cell_type": "markdown",
   "id": "cd3e08ef-18bf-4c65-bb81-14cbdc272f49",
   "metadata": {},
   "source": [
    "PyArrow配列が内部で使用する`Buffer`オブジェクトを取得し、IDが異なるので、`Buffer`オブジェクト自体も同一ではありません。`address`属性でそのデータアドレスを確認すると、**アドレスは同一**であることが分かります。次のグラフは各個オブジェクト間の関係を示します。\n",
    "\n",
    "```mermaid\n",
    "flowchart LR\n",
    "    s1(Series s1) -->|_s| s1s(PySeries)\n",
    "    s2(Series s2) -->|_s| s2s(PySeries)\n",
    "    s1s -->|\"to_arrow(False)\"| s1sa(pyarrow.Array)\n",
    "    s2s -->|\"to_arrow(False)\"| s2sa(pyarrow.Array)\n",
    "    s1 -->|\"to_arrow()\"| s1sa\n",
    "    s2 -->|\"to_arrow()\"| s2sa\n",
    "    s1sa -->|\"buffers()[1]\"| s1sab(pyarrow.Buffer)\n",
    "    s2sa -->|\"buffers()[1]\"| s2sab(pyarrow.Buffer)\n",
    "    s1sab -->|address| memory(Data Memory)\n",
    "    s2sab -->|address| memory(Data Memory)\n",
    "```"
   ]
  },
  {
   "cell_type": "code",
   "execution_count": 5,
   "id": "203d6f79-e29e-4413-bec4-8d0869b1b1c2",
   "metadata": {},
   "outputs": [
    {
     "name": "stdout",
     "output_type": "stream",
     "text": [
      "2109216777072 2109217188080\n",
      "5940410323808 5940410323808\n"
     ]
    }
   ],
   "source": [
    "b1 = a1.buffers()[1]\n",
    "b2 = a2.buffers()[1]\n",
    "print(id(b1), id(b2))\n",
    "print(b1.address, b2.address)"
   ]
  },
  {
   "cell_type": "markdown",
   "id": "ecc946fc-ee18-46f1-8be8-c81a36819c53",
   "metadata": {},
   "source": [
    "次に、インデックス操作で`Series`オブジェクトの要素を変更した後、`Buffer`オブジェクトのデータアドレスを再確認します。"
   ]
  },
  {
   "cell_type": "code",
   "execution_count": 6,
   "id": "870b3be4-71d3-4fa4-a34f-27c56dfc47aa",
   "metadata": {},
   "outputs": [
    {
     "name": "stdout",
     "output_type": "stream",
     "text": [
      "5940410323968\n"
     ]
    }
   ],
   "source": [
    "s1[1] = 100\n",
    "print(s1.to_arrow().buffers()[1].address)"
   ]
  },
  {
   "cell_type": "markdown",
   "id": "331a9e28-4f25-4703-99d8-e01f37710429",
   "metadata": {},
   "source": [
    "結果として、データのアドレスが**変更されている**ことが分かります。つまり、この操作では、同じアドレス上のデータが上書きされるのではなく、新しいアドレスにデータが保存されるように更新されています。このため、`s2`や`df`は元のデータを保持しており、`s1`の変更内容が反映されないことが分かります。"
   ]
  },
  {
   "cell_type": "markdown",
   "id": "bfff1aa2-92e4-4b5b-932a-5b8c39481572",
   "metadata": {},
   "source": [
    "## NULLの保存方法"
   ]
  },
  {
   "cell_type": "markdown",
   "id": "242f5189-a368-43ba-ba96-87c5e297454d",
   "metadata": {},
   "source": [
    "Polarsは、PyArrowsのデータ型を使用してデータを保存します。特に、NULL値を含む配列の保存には、二つのバッファ（buffer）が使用されます。これにより、NULL値を効率的に管理しつつ、実際のデータも確実に保持することが可能です。\n",
    "\n",
    "* **マスクバッファ**: このバッファは、各データ要素がNULLかどうかをビット単位で記録します。具体的には、各ビットがデータ要素に対応し、ビットが1の場合その要素は非NULL、0の場合はNULLを示します。この方法はメモリ効率が良く、大量のデータにおいてもNULL情報を最小限のメモリで管理できます。\n",
    "\n",
    "* **データバッファ**: こちらのバッファには実際のデータが格納されます。NULL値の代わりに、一般的には0やその他のプレースホルダーが用いられ、実際のデータ要素が連続して保存されます。\n",
    "\n",
    "以下に、具体的な例を示します。"
   ]
  },
  {
   "cell_type": "code",
   "execution_count": 12,
   "id": "b2126baa-6dca-411a-8a05-fc3095f7086c",
   "metadata": {},
   "outputs": [],
   "source": [
    "s = pl.Series([1, None, None, 3, 4, None, 8, 9], dtype=pl.Int16)\n",
    "a = s.to_arrow()\n",
    "buf_mask, buf_data = a.buffers()"
   ]
  },
  {
   "cell_type": "markdown",
   "id": "19c21c7b-0620-4c1d-b358-acb190084d38",
   "metadata": {},
   "source": [
    "`buf_mask`はNULL値のフラグをビット列で表現しており、`0b11011001`は、各ビットが対応するデータ要素のNULL状態を示しています。最初のビット(一番右側)から順に`1, 0, 0, 1, 1, 0, 1, 1`となっており、2、3と6番目の要素がNULLであることが分かります。"
   ]
  },
  {
   "cell_type": "code",
   "execution_count": 14,
   "id": "c8dbb4e4-32ac-4ad4-aec9-f2dd551eb13b",
   "metadata": {},
   "outputs": [
    {
     "data": {
      "text/plain": [
       "'0b11011001'"
      ]
     },
     "execution_count": 14,
     "metadata": {},
     "output_type": "execute_result"
    }
   ],
   "source": [
    "bin(bytes(buf_mask)[0])"
   ]
  },
  {
   "cell_type": "code",
   "execution_count": 15,
   "id": "ba24bdbe-0866-4959-8eae-a2e3771a960d",
   "metadata": {},
   "outputs": [
    {
     "data": {
      "text/plain": [
       "(1, 0, 0, 3, 4, 0, 8, 9)"
      ]
     },
     "execution_count": 15,
     "metadata": {},
     "output_type": "execute_result"
    }
   ],
   "source": [
    "struct.unpack('<8h', buf_data)"
   ]
  },
  {
   "cell_type": "markdown",
   "id": "471fc788-e9a7-4248-9c82-e792a0f07857",
   "metadata": {},
   "source": [
    "以下のコードでは、`buf_data`と`s`が同じメモリ領域を共有していることを確認します。このコードでは`ctypes`モジュールを使用して、`buf_data.address`をポインタ型の`pbuf`に変換し、`pbuf`を介して4番目の値を99に変更します。最後に、`s`の内容を出力して変更が反映されていることを確認します。"
   ]
  },
  {
   "cell_type": "code",
   "execution_count": 16,
   "id": "7c5da89b-563c-49af-aaab-4d15a45a86e4",
   "metadata": {},
   "outputs": [
    {
     "name": "stdout",
     "output_type": "stream",
     "text": [
      "shape: (8,)\n",
      "Series: '' [i16]\n",
      "[\n",
      "\t1\n",
      "\tnull\n",
      "\tnull\n",
      "\t99\n",
      "\t4\n",
      "\tnull\n",
      "\t8\n",
      "\t9\n",
      "]\n"
     ]
    }
   ],
   "source": [
    "from ctypes import POINTER, c_int16, cast\n",
    "pbuf = cast(buf_data.address, POINTER(c_int16))\n",
    "pbuf[3] = 99\n",
    "print(s)"
   ]
  },
  {
   "cell_type": "markdown",
   "id": "ea679ef7-a45e-477e-add4-e0d7b249058c",
   "metadata": {},
   "source": [
    "## String\n",
    "\n",
    "Polarsでは、文字列のデータ列は、メモリ効率を最大限に引き出すために、三つのバッファを使用してデータを保存します。これにより、文字列データの高速なアクセスと操作が可能になります。具体的には、以下の三つのバッファを用います。\n",
    "\n",
    "**マスクバッファ**: このバッファは、各文字列要素がNULLかどうかをビット単位で記録します。各ビットは文字列要素に対応し、1がNULLでないことを、0がNULLであることを示します。これにより、NULL値の存在を効率的に管理できます。\n",
    "\n",
    "**インデックスバッファｂ**: このバッファには、各文字列要素の開始インデックスと終了インデックスが保存されます。これにより、連続した文字列データから各要素を迅速に抽出することができます。具体的には、i番目の文字列の開始インデックスは`buf_index[i]`、終了インデックスは`buf_index[i+1]`に格納されます。\n",
    "\n",
    "**データバッファ**: すべての文字列はこのバッファに連続して保存されます。文字列データを連続的に保存することで、メモリ使用量が最小化され、データアクセスが高速化されます。\n",
    "\n",
    "以下に具体的な例を示します。"
   ]
  },
  {
   "cell_type": "code",
   "execution_count": 17,
   "id": "2570cb96-6d61-4e59-8c8e-af1368616019",
   "metadata": {},
   "outputs": [],
   "source": [
    "s = pl.Series([\"abc\", \"defghi\", \"xyz\", None, \"123\"])\n",
    "a = s.to_arrow()\n",
    "buf_mask, buf_index, buf_data = a.buffers()"
   ]
  },
  {
   "cell_type": "markdown",
   "id": "250cef7b-62be-4bdd-85e3-5f7684f85dd2",
   "metadata": {},
   "source": [
    "`buf_mask`は、各ビットが文字列要素のNULL状態を示しています。最初の三つの要素はNULLではなく、4番目の要素がNULLであることを示しています。"
   ]
  },
  {
   "cell_type": "code",
   "execution_count": 18,
   "id": "953d511d-c1a5-4bf3-8369-ae3b0e909343",
   "metadata": {},
   "outputs": [
    {
     "data": {
      "text/plain": [
       "'0b11110111'"
      ]
     },
     "execution_count": 18,
     "metadata": {},
     "output_type": "execute_result"
    }
   ],
   "source": [
    "bin(bytes(buf_mask)[0])"
   ]
  },
  {
   "cell_type": "markdown",
   "id": "64d3ab59-7af8-4f6d-8d2f-9bed1309bca8",
   "metadata": {},
   "source": [
    "`buf_index`に保存されているデータは`[0, 3, 9, 12, 12, 15]`となっています。これは、以下のように各文字列要素の開始インデックスと終了インデックスを示しています。\n",
    "\n",
    "* \"abc\"の開始インデックスは0、終了インデックスは3\n",
    "* \"defghi\"の開始インデックスは3、終了インデックスは9\n",
    "* NULL要素のため開始インデックスと終了インデックスは同じ12"
   ]
  },
  {
   "cell_type": "code",
   "execution_count": 19,
   "id": "bda39793-1d41-4d17-aa62-2ce5b93e1be1",
   "metadata": {},
   "outputs": [
    {
     "data": {
      "text/plain": [
       "(0, 3, 9, 12, 12, 15)"
      ]
     },
     "execution_count": 19,
     "metadata": {},
     "output_type": "execute_result"
    }
   ],
   "source": [
    "struct.unpack('<6q', buf_index)"
   ]
  },
  {
   "cell_type": "markdown",
   "id": "ccdce539-6617-4e91-8381-280bef13570b",
   "metadata": {},
   "source": [
    "`buf_data`にはすべての文字列データが連続して保存されています。インデックスバッファを用いることで、この連続データから各文字列要素を迅速に抽出することが可能です。"
   ]
  },
  {
   "cell_type": "code",
   "execution_count": 20,
   "id": "e2c9a51f-3f75-40bb-852b-4409efd80a65",
   "metadata": {},
   "outputs": [
    {
     "data": {
      "text/plain": [
       "b'abcdefghixyz123'"
      ]
     },
     "execution_count": 20,
     "metadata": {},
     "output_type": "execute_result"
    }
   ],
   "source": [
    "buf_data.to_pybytes()"
   ]
  },
  {
   "cell_type": "markdown",
   "id": "f6da83d5-3864-4129-98fc-9121bcf7ab2b",
   "metadata": {},
   "source": [
    "例えば、`s[2]`の開始インデックスは9、終了インデックスは12で、次のように`buf_data`から`s[2]`のデータを取り出します。"
   ]
  },
  {
   "cell_type": "code",
   "execution_count": 21,
   "id": "0875b986-9295-41a4-a11e-7dfce3a21032",
   "metadata": {},
   "outputs": [
    {
     "data": {
      "text/plain": [
       "b'xyz'"
      ]
     },
     "execution_count": 21,
     "metadata": {},
     "output_type": "execute_result"
    }
   ],
   "source": [
    "buf_data[9:12].to_pybytes()"
   ]
  },
  {
   "cell_type": "markdown",
   "id": "55a42684-5013-476a-9a51-58e8899b92ff",
   "metadata": {},
   "source": [
    "## Array"
   ]
  },
  {
   "cell_type": "markdown",
   "id": "c7041af2-748d-4c02-874f-e654dfb3e800",
   "metadata": {},
   "source": [
    "PolarsのArray列は、固定サイズのリストを格納するためのデータ構造であり、そのメモリ構造は他の列といくつかの共通点を持ちながらも、特有の要素があります。特に、`list_size`属性は重要な役割を果たします。以下のコード例を用いて、Array列のメモリ構造を詳しく説明します。"
   ]
  },
  {
   "cell_type": "code",
   "execution_count": 10,
   "id": "e202e23f-df22-49d7-a2bb-85f74d9295cd",
   "metadata": {},
   "outputs": [],
   "source": [
    "s = pl.Series([\n",
    "    [1,   None, 3   ], \n",
    "    [4,   5,    None], \n",
    "    [6,   7,    8   ], \n",
    "    [9,   10,   11  ]], \n",
    "    dtype=pl.Array(pl.Int16, 3))\n",
    "a = s.to_arrow()"
   ]
  },
  {
   "cell_type": "markdown",
   "id": "26988997-4214-4158-adc7-a3f716048a0f",
   "metadata": {},
   "source": [
    "`list_size`属性は各要素のサイズを表します。ます。"
   ]
  },
  {
   "cell_type": "code",
   "execution_count": null,
   "id": "41422bc8-b83a-4cc0-aee1-f0a360567c40",
   "metadata": {},
   "outputs": [
    {
     "name": "stdout",
     "output_type": "stream",
     "text": [
      "a.type.list_size=3\n"
     ]
    }
   ],
   "source": [
    "print(f\"{a.type.list_size=}\")"
   ]
  },
  {
   "cell_type": "markdown",
   "id": "ba964957-4fde-4af5-9786-3df4d59fd35a",
   "metadata": {},
   "source": [
    "`buf_mask`と`buf_data`はそれぞれNULLとデータを保存するバッファです。この二つのバッファは一般列と同じです。"
   ]
  },
  {
   "cell_type": "code",
   "execution_count": 36,
   "id": "c0757833-e881-438c-b520-bbb71ed88e7e",
   "metadata": {},
   "outputs": [
    {
     "data": {
      "text/plain": [
       "'0b11011101'"
      ]
     },
     "execution_count": 36,
     "metadata": {},
     "output_type": "execute_result"
    }
   ],
   "source": [
    "_, buf_mask, buf_data = a.buffers()\n",
    "bin(bytes(buf_mask)[0])"
   ]
  },
  {
   "cell_type": "code",
   "execution_count": 37,
   "id": "8301a75b-6709-480f-96fd-0aaa2ae653b7",
   "metadata": {},
   "outputs": [
    {
     "data": {
      "text/plain": [
       "(1, 0, 3, 4, 5, 0, 6, 7, 8, 9, 10, 11)"
      ]
     },
     "execution_count": 37,
     "metadata": {},
     "output_type": "execute_result"
    }
   ],
   "source": [
    "struct.unpack('<12h', buf_data)"
   ]
  },
  {
   "cell_type": "markdown",
   "id": "2d8c8bfc-6a6a-413c-afcf-96f2dc87de57",
   "metadata": {},
   "source": [
    "(list_memory)=\n",
    "## List"
   ]
  },
  {
   "cell_type": "markdown",
   "id": "ac4ad870-c478-4c92-99ac-ff4fe373e554",
   "metadata": {},
   "source": [
    "PolarsのList列のメモリ構造は、効率的なデータ管理を実現するために設計されており、特に可変長のリストを格納するための特定のバッファを使用します。この構造は、文字列列（str列）といくつかの点で類似しています。以下に、具体的なコード例と出力を用いて説明します。"
   ]
  },
  {
   "cell_type": "code",
   "execution_count": 2,
   "id": "6e1fdf40-cbd9-45e2-b200-994d30c27101",
   "metadata": {},
   "outputs": [],
   "source": [
    "s = pl.Series([\n",
    "    [1, None, 3], \n",
    "    [10, 20], \n",
    "    None, \n",
    "    [100, 200, 300]], \n",
    "    dtype=pl.List(pl.Int16))\n",
    "a = s.to_arrow()\n",
    "buf_mask1, buf_index, buf_mask2, buf_data = a.buffers()"
   ]
  },
  {
   "cell_type": "markdown",
   "id": "4341f995-08ba-4e9f-9618-a4fcb92647d6",
   "metadata": {},
   "source": [
    "次の`buf_mask1`は、各リスト要素がNULLかどうかをビット単位で記録します。ビットが1の場合、そのリストはNULLではなく、0の場合、そのリストはNULLであることを示します。3ビット目は0であるので、3番目の要素がNULLであることを示しています。"
   ]
  },
  {
   "cell_type": "code",
   "execution_count": 13,
   "id": "767258fa-81c2-411e-826e-b2623e8fd46e",
   "metadata": {},
   "outputs": [
    {
     "data": {
      "text/plain": [
       "'0b11111011'"
      ]
     },
     "execution_count": 13,
     "metadata": {},
     "output_type": "execute_result"
    }
   ],
   "source": [
    "bin(bytes(buf_mask1)[0])"
   ]
  },
  {
   "cell_type": "markdown",
   "id": "19b615de-bb73-43b4-a71f-5b29f0926822",
   "metadata": {},
   "source": [
    "次のバッファ`buf_index`は、各リスト要素の開始インデックスと終了インデックスを記録します。文字列列（str列）と同様に、このバッファを使用して、連続したデータから各リスト要素を抽出します。\n",
    "\n",
    "`s[0]`のデータのインデックスは0~3、つまり、`buf_data`中の`[1, 0, 3]`です。`s[1]`のデータインデックスは3~5、`buf_data`中の`[10, 20]`です。"
   ]
  },
  {
   "cell_type": "code",
   "execution_count": 14,
   "id": "e62cffee-f161-497c-a4dc-ae6486de6169",
   "metadata": {},
   "outputs": [
    {
     "data": {
      "text/plain": [
       "(0, 3, 5, 5, 8)"
      ]
     },
     "execution_count": 14,
     "metadata": {},
     "output_type": "execute_result"
    }
   ],
   "source": [
    "struct.unpack('<5Q', buf_index)"
   ]
  },
  {
   "cell_type": "markdown",
   "id": "9a3fa607-e848-4404-bbcb-495c92870e1a",
   "metadata": {},
   "source": [
    "次のバッファは、リスト内の各要素がNULLかどうかをビット単位で記録します。2ビット目は0なので、2番目の要素（None）がNULLであることを示しています。"
   ]
  },
  {
   "cell_type": "code",
   "execution_count": 15,
   "id": "e10758d3-229b-4ebd-ae3c-16f305683601",
   "metadata": {},
   "outputs": [
    {
     "data": {
      "text/plain": [
       "'0b11111101'"
      ]
     },
     "execution_count": 15,
     "metadata": {},
     "output_type": "execute_result"
    }
   ],
   "source": [
    "bin(bytes(buf_mask2)[0])"
   ]
  },
  {
   "cell_type": "markdown",
   "id": "a55fbf85-bbe7-439a-9cda-c3a80b365692",
   "metadata": {},
   "source": [
    "すべてのリスト要素の実際のデータが`buf_data`に連続して格納されています。NULL値はプレースホルダー（この例では0）で表現されます。"
   ]
  },
  {
   "cell_type": "code",
   "execution_count": 16,
   "id": "0d4dc6ef-2d92-4ad1-9ff7-8f88674d25bd",
   "metadata": {},
   "outputs": [
    {
     "data": {
      "text/plain": [
       "(1, 0, 3, 10, 20, 100, 200, 300)"
      ]
     },
     "execution_count": 16,
     "metadata": {},
     "output_type": "execute_result"
    }
   ],
   "source": [
    "struct.unpack('<8h', buf_data)"
   ]
  },
  {
   "cell_type": "markdown",
   "id": "b1ccb9b0-5dc0-4320-9c1b-d5994be0b9a0",
   "metadata": {},
   "source": [
    "## Struct"
   ]
  },
  {
   "cell_type": "markdown",
   "id": "8af088e2-6f3d-4edd-91de-d0bd41eca16a",
   "metadata": {},
   "source": [
    "Struct列は、複数のフィールドを持つデータを格納するためのデータ構造です。各フィールドは独自のデータ型とメモリ構造を持ち、これらを効率的に管理するためにいくつかのバッファを使用します。以下のコード例を用いて、Struct列のメモリ構造を詳しく説明します。"
   ]
  },
  {
   "cell_type": "code",
   "execution_count": 4,
   "id": "0ea1b535-fc37-42a6-9b7c-92afd4898d66",
   "metadata": {},
   "outputs": [
    {
     "data": {
      "text/plain": [
       "[None,\n",
       " <pyarrow.Buffer address=0x2f78c020ae0 size=1 is_cpu=True is_mutable=False>,\n",
       " <pyarrow.Buffer address=0x2f78c0c0360 size=32 is_cpu=True is_mutable=False>,\n",
       " <pyarrow.Buffer address=0x2f78c020ae8 size=1 is_cpu=True is_mutable=False>,\n",
       " <pyarrow.Buffer address=0x2f78c0c0340 size=32 is_cpu=True is_mutable=False>]"
      ]
     },
     "execution_count": 4,
     "metadata": {},
     "output_type": "execute_result"
    }
   ],
   "source": [
    "s = pl.Series([{\"A\": 1, \"B\": None}, {\"A\": None, \"B\": 20}, {\"A\": 3, \"B\": 30}, None])\n",
    "a = s.to_arrow()\n",
    "a.buffers()"
   ]
  },
  {
   "cell_type": "markdown",
   "id": "a7e0de97-798b-404b-827a-9f53d523241f",
   "metadata": {},
   "source": [
    "一つのフィールドに対して、マスクと値を保存する二つのバッファを使用します。このメモリ構造により、各フィールドの値がメモリ上で連続して保存されていることがわかります。"
   ]
  },
  {
   "cell_type": "code",
   "execution_count": 7,
   "id": "142a245e-a2f2-494c-85d5-64b8e357b8b9",
   "metadata": {},
   "outputs": [
    {
     "name": "stdout",
     "output_type": "stream",
     "text": [
      "0b11110101\n",
      "(1, 0, 3, 0)\n"
     ]
    }
   ],
   "source": [
    "buf_mask_A, buf_value_A = a.buffers()[1:3]\n",
    "print(bin(bytes(buf_mask_A)[0]))\n",
    "print(struct.unpack('<4Q', buf_value_A))"
   ]
  },
  {
   "cell_type": "code",
   "execution_count": 8,
   "id": "3b583c6e-06bf-44e9-8cc0-8078b634dd9e",
   "metadata": {},
   "outputs": [
    {
     "name": "stdout",
     "output_type": "stream",
     "text": [
      "0b11110110\n",
      "(0, 20, 30, 0)\n"
     ]
    }
   ],
   "source": [
    "buf_mask_B, buf_value_B = a.buffers()[3:5]\n",
    "print(bin(bytes(buf_mask_B)[0]))\n",
    "print(struct.unpack('<4Q', buf_value_B))"
   ]
  }
 ],
 "metadata": {
  "kernelspec": {
   "display_name": "Python 3 (ipykernel)",
   "language": "python",
   "name": "python3"
  },
  "language_info": {
   "codemirror_mode": {
    "name": "ipython",
    "version": 3
   },
   "file_extension": ".py",
   "mimetype": "text/x-python",
   "name": "python",
   "nbconvert_exporter": "python",
   "pygments_lexer": "ipython3",
   "version": "3.11.8"
  }
 },
 "nbformat": 4,
 "nbformat_minor": 5
}

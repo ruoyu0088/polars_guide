{
 "cells": [
  {
   "cell_type": "markdown",
   "id": "01a71042-e4e0-48cc-bb4e-ab233bc60155",
   "metadata": {},
   "source": [
    "# Intro to data structures"
   ]
  },
  {
   "cell_type": "code",
   "execution_count": 333,
   "id": "bac3f2b0-b22a-4f89-a3f3-3f659bc6b49d",
   "metadata": {},
   "outputs": [],
   "source": [
    "import numpy as np\n",
    "import polars as pl\n",
    "from helper.jupyter import row"
   ]
  },
  {
   "cell_type": "markdown",
   "id": "3576ca1a-6060-42e3-9f6c-7782a559166d",
   "metadata": {},
   "source": [
    "## Series"
   ]
  },
  {
   "cell_type": "markdown",
   "id": "31340fc5-e7c0-4d47-8439-475d47f2eb86",
   "metadata": {},
   "source": [
    "In Polars, the Series object has no index, so we need to use a two-column DataFrame to simulate the functions of a Series in Pandas."
   ]
  },
  {
   "cell_type": "code",
   "execution_count": 334,
   "id": "2ca4467d-021b-4325-8e9d-053625d97423",
   "metadata": {},
   "outputs": [
    {
     "data": {
      "text/html": [
       "<div><style>\n",
       ".dataframe > thead > tr,\n",
       ".dataframe > tbody > tr {\n",
       "  text-align: right;\n",
       "  white-space: pre-wrap;\n",
       "}\n",
       "</style>\n",
       "<small>shape: (5, 2)</small><table border=\"1\" class=\"dataframe\"><thead><tr><th>index</th><th>value</th></tr><tr><td>str</td><td>f64</td></tr></thead><tbody><tr><td>&quot;a&quot;</td><td>-1.163544</td></tr><tr><td>&quot;b&quot;</td><td>-0.900663</td></tr><tr><td>&quot;c&quot;</td><td>1.657318</td></tr><tr><td>&quot;d&quot;</td><td>-1.240945</td></tr><tr><td>&quot;e&quot;</td><td>0.964103</td></tr></tbody></table></div>"
      ],
      "text/plain": [
       "shape: (5, 2)\n",
       "┌───────┬───────────┐\n",
       "│ index ┆ value     │\n",
       "│ ---   ┆ ---       │\n",
       "│ str   ┆ f64       │\n",
       "╞═══════╪═══════════╡\n",
       "│ a     ┆ -1.163544 │\n",
       "│ b     ┆ -0.900663 │\n",
       "│ c     ┆ 1.657318  │\n",
       "│ d     ┆ -1.240945 │\n",
       "│ e     ┆ 0.964103  │\n",
       "└───────┴───────────┘"
      ]
     },
     "execution_count": 334,
     "metadata": {},
     "output_type": "execute_result"
    }
   ],
   "source": [
    "s = pl.DataFrame(dict(\n",
    "    index=[\"a\", \"b\", \"c\", \"d\", \"e\"],\n",
    "    value=np.random.randn(5)\n",
    "))\n",
    "s"
   ]
  },
  {
   "cell_type": "code",
   "execution_count": 335,
   "id": "66f6f8dd-7bcd-4220-9c60-e7851ffe94f8",
   "metadata": {},
   "outputs": [
    {
     "data": {
      "text/html": [
       "<div><style>\n",
       ".dataframe > thead > tr,\n",
       ".dataframe > tbody > tr {\n",
       "  text-align: right;\n",
       "  white-space: pre-wrap;\n",
       "}\n",
       "</style>\n",
       "<small>shape: (5,)</small><table border=\"1\" class=\"dataframe\"><thead><tr><th>index</th></tr><tr><td>str</td></tr></thead><tbody><tr><td>&quot;a&quot;</td></tr><tr><td>&quot;b&quot;</td></tr><tr><td>&quot;c&quot;</td></tr><tr><td>&quot;d&quot;</td></tr><tr><td>&quot;e&quot;</td></tr></tbody></table></div>"
      ],
      "text/plain": [
       "shape: (5,)\n",
       "Series: 'index' [str]\n",
       "[\n",
       "\t\"a\"\n",
       "\t\"b\"\n",
       "\t\"c\"\n",
       "\t\"d\"\n",
       "\t\"e\"\n",
       "]"
      ]
     },
     "execution_count": 335,
     "metadata": {},
     "output_type": "execute_result"
    }
   ],
   "source": [
    "s['index']"
   ]
  },
  {
   "cell_type": "code",
   "execution_count": 336,
   "id": "9ae388d4-93aa-47f0-871e-3c1d4795b521",
   "metadata": {},
   "outputs": [
    {
     "data": {
      "text/html": [
       "<div><style>\n",
       ".dataframe > thead > tr,\n",
       ".dataframe > tbody > tr {\n",
       "  text-align: right;\n",
       "  white-space: pre-wrap;\n",
       "}\n",
       "</style>\n",
       "<small>shape: (5,)</small><table border=\"1\" class=\"dataframe\"><thead><tr><th></th></tr><tr><td>f64</td></tr></thead><tbody><tr><td>0.083327</td></tr><tr><td>-1.077013</td></tr><tr><td>0.120624</td></tr><tr><td>-0.480749</td></tr><tr><td>-1.196976</td></tr></tbody></table></div>"
      ],
      "text/plain": [
       "shape: (5,)\n",
       "Series: '' [f64]\n",
       "[\n",
       "\t0.083327\n",
       "\t-1.077013\n",
       "\t0.120624\n",
       "\t-0.480749\n",
       "\t-1.196976\n",
       "]"
      ]
     },
     "execution_count": 336,
     "metadata": {},
     "output_type": "execute_result"
    }
   ],
   "source": [
    "pl.Series(np.random.randn(5))"
   ]
  },
  {
   "cell_type": "code",
   "execution_count": 337,
   "id": "77027cce-70cb-4928-9d3d-c36fd6f13ef1",
   "metadata": {},
   "outputs": [
    {
     "data": {
      "text/html": [
       "<div><style>\n",
       ".dataframe > thead > tr,\n",
       ".dataframe > tbody > tr {\n",
       "  text-align: right;\n",
       "  white-space: pre-wrap;\n",
       "}\n",
       "</style>\n",
       "<small>shape: (3, 2)</small><table border=\"1\" class=\"dataframe\"><thead><tr><th>index</th><th>value</th></tr><tr><td>str</td><td>i64</td></tr></thead><tbody><tr><td>&quot;b&quot;</td><td>1</td></tr><tr><td>&quot;a&quot;</td><td>0</td></tr><tr><td>&quot;c&quot;</td><td>2</td></tr></tbody></table></div>"
      ],
      "text/plain": [
       "shape: (3, 2)\n",
       "┌───────┬───────┐\n",
       "│ index ┆ value │\n",
       "│ ---   ┆ ---   │\n",
       "│ str   ┆ i64   │\n",
       "╞═══════╪═══════╡\n",
       "│ b     ┆ 1     │\n",
       "│ a     ┆ 0     │\n",
       "│ c     ┆ 2     │\n",
       "└───────┴───────┘"
      ]
     },
     "execution_count": 337,
     "metadata": {},
     "output_type": "execute_result"
    }
   ],
   "source": [
    "# pd.Series(d)\n",
    "d = {\"b\": 1, \"a\": 0, \"c\": 2}\n",
    "pl.DataFrame(list(d.items()), schema=['index', 'value'], orient='row')"
   ]
  },
  {
   "cell_type": "code",
   "execution_count": 338,
   "id": "944c723f-5087-4ab0-be05-a66da0ed8588",
   "metadata": {},
   "outputs": [
    {
     "data": {
      "text/html": [
       "<div><style>\n",
       ".dataframe > thead > tr,\n",
       ".dataframe > tbody > tr {\n",
       "  text-align: right;\n",
       "  white-space: pre-wrap;\n",
       "}\n",
       "</style>\n",
       "<small>shape: (5, 2)</small><table border=\"1\" class=\"dataframe\"><thead><tr><th>index</th><th>value</th></tr><tr><td>str</td><td>f64</td></tr></thead><tbody><tr><td>&quot;a&quot;</td><td>5.0</td></tr><tr><td>&quot;b&quot;</td><td>5.0</td></tr><tr><td>&quot;c&quot;</td><td>5.0</td></tr><tr><td>&quot;d&quot;</td><td>5.0</td></tr><tr><td>&quot;e&quot;</td><td>5.0</td></tr></tbody></table></div>"
      ],
      "text/plain": [
       "shape: (5, 2)\n",
       "┌───────┬───────┐\n",
       "│ index ┆ value │\n",
       "│ ---   ┆ ---   │\n",
       "│ str   ┆ f64   │\n",
       "╞═══════╪═══════╡\n",
       "│ a     ┆ 5.0   │\n",
       "│ b     ┆ 5.0   │\n",
       "│ c     ┆ 5.0   │\n",
       "│ d     ┆ 5.0   │\n",
       "│ e     ┆ 5.0   │\n",
       "└───────┴───────┘"
      ]
     },
     "execution_count": 338,
     "metadata": {},
     "output_type": "execute_result"
    }
   ],
   "source": [
    "pl.select(\n",
    "    index=pl.Series([\"a\", \"b\", \"c\", \"d\", \"e\"]),\n",
    "    value=5.0\n",
    ")"
   ]
  },
  {
   "cell_type": "markdown",
   "id": "aabd1673-8419-4232-86f6-966413daf342",
   "metadata": {},
   "source": [
    "### Series is ndarray-like "
   ]
  },
  {
   "cell_type": "code",
   "execution_count": 339,
   "id": "a1c37ace-405d-4405-86f7-d0db0c283c61",
   "metadata": {},
   "outputs": [
    {
     "data": {
      "text/plain": [
       "-1.163544306576043"
      ]
     },
     "execution_count": 339,
     "metadata": {},
     "output_type": "execute_result"
    }
   ],
   "source": [
    "s['value'][0]"
   ]
  },
  {
   "cell_type": "code",
   "execution_count": 340,
   "id": "ae6a4a67-9385-4fa3-8ad4-dd38b1ba8eac",
   "metadata": {},
   "outputs": [
    {
     "data": {
      "text/html": [
       "<div><style>\n",
       ".dataframe > thead > tr,\n",
       ".dataframe > tbody > tr {\n",
       "  text-align: right;\n",
       "  white-space: pre-wrap;\n",
       "}\n",
       "</style>\n",
       "<small>shape: (3,)</small><table border=\"1\" class=\"dataframe\"><thead><tr><th>value</th></tr><tr><td>f64</td></tr></thead><tbody><tr><td>-1.163544</td></tr><tr><td>-0.900663</td></tr><tr><td>1.657318</td></tr></tbody></table></div>"
      ],
      "text/plain": [
       "shape: (3,)\n",
       "Series: 'value' [f64]\n",
       "[\n",
       "\t-1.163544\n",
       "\t-0.900663\n",
       "\t1.657318\n",
       "]"
      ]
     },
     "execution_count": 340,
     "metadata": {},
     "output_type": "execute_result"
    }
   ],
   "source": [
    "s['value'][:3]"
   ]
  },
  {
   "cell_type": "code",
   "execution_count": 341,
   "id": "b61f4afc-99a2-424e-80cb-7b91e6a642b2",
   "metadata": {},
   "outputs": [
    {
     "data": {
      "text/html": [
       "<div><style>\n",
       ".dataframe > thead > tr,\n",
       ".dataframe > tbody > tr {\n",
       "  text-align: right;\n",
       "  white-space: pre-wrap;\n",
       "}\n",
       "</style>\n",
       "<small>shape: (2, 2)</small><table border=\"1\" class=\"dataframe\"><thead><tr><th>index</th><th>value</th></tr><tr><td>str</td><td>f64</td></tr></thead><tbody><tr><td>&quot;c&quot;</td><td>1.657318</td></tr><tr><td>&quot;e&quot;</td><td>0.964103</td></tr></tbody></table></div>"
      ],
      "text/plain": [
       "shape: (2, 2)\n",
       "┌───────┬──────────┐\n",
       "│ index ┆ value    │\n",
       "│ ---   ┆ ---      │\n",
       "│ str   ┆ f64      │\n",
       "╞═══════╪══════════╡\n",
       "│ c     ┆ 1.657318 │\n",
       "│ e     ┆ 0.964103 │\n",
       "└───────┴──────────┘"
      ]
     },
     "execution_count": 341,
     "metadata": {},
     "output_type": "execute_result"
    }
   ],
   "source": [
    "# s[s > s.median()]\n",
    "s.filter(pl.col('value') > pl.col('value').median())"
   ]
  },
  {
   "cell_type": "code",
   "execution_count": 342,
   "id": "d9e0872d-5a3b-43ce-b936-afd052ca8b50",
   "metadata": {},
   "outputs": [
    {
     "data": {
      "text/html": [
       "<div><style>\n",
       ".dataframe > thead > tr,\n",
       ".dataframe > tbody > tr {\n",
       "  text-align: right;\n",
       "  white-space: pre-wrap;\n",
       "}\n",
       "</style>\n",
       "<small>shape: (3, 2)</small><table border=\"1\" class=\"dataframe\"><thead><tr><th>index</th><th>value</th></tr><tr><td>str</td><td>f64</td></tr></thead><tbody><tr><td>&quot;e&quot;</td><td>0.964103</td></tr><tr><td>&quot;d&quot;</td><td>-1.240945</td></tr><tr><td>&quot;b&quot;</td><td>-0.900663</td></tr></tbody></table></div>"
      ],
      "text/plain": [
       "shape: (3, 2)\n",
       "┌───────┬───────────┐\n",
       "│ index ┆ value     │\n",
       "│ ---   ┆ ---       │\n",
       "│ str   ┆ f64       │\n",
       "╞═══════╪═══════════╡\n",
       "│ e     ┆ 0.964103  │\n",
       "│ d     ┆ -1.240945 │\n",
       "│ b     ┆ -0.900663 │\n",
       "└───────┴───────────┘"
      ]
     },
     "execution_count": 342,
     "metadata": {},
     "output_type": "execute_result"
    }
   ],
   "source": [
    "# s.iloc[[4, 3, 1]]\n",
    "s[[4, 3, 1]]"
   ]
  },
  {
   "cell_type": "code",
   "execution_count": 343,
   "id": "3e41e238-f421-476f-b7ff-ff5815c11e21",
   "metadata": {},
   "outputs": [
    {
     "data": {
      "text/html": [
       "<div><style>\n",
       ".dataframe > thead > tr,\n",
       ".dataframe > tbody > tr {\n",
       "  text-align: right;\n",
       "  white-space: pre-wrap;\n",
       "}\n",
       "</style>\n",
       "<small>shape: (5, 2)</small><table border=\"1\" class=\"dataframe\"><thead><tr><th>index</th><th>value</th></tr><tr><td>str</td><td>f64</td></tr></thead><tbody><tr><td>&quot;a&quot;</td><td>0.312377</td></tr><tr><td>&quot;b&quot;</td><td>0.4063</td></tr><tr><td>&quot;c&quot;</td><td>5.245225</td></tr><tr><td>&quot;d&quot;</td><td>0.289111</td></tr><tr><td>&quot;e&quot;</td><td>2.622434</td></tr></tbody></table></div>"
      ],
      "text/plain": [
       "shape: (5, 2)\n",
       "┌───────┬──────────┐\n",
       "│ index ┆ value    │\n",
       "│ ---   ┆ ---      │\n",
       "│ str   ┆ f64      │\n",
       "╞═══════╪══════════╡\n",
       "│ a     ┆ 0.312377 │\n",
       "│ b     ┆ 0.4063   │\n",
       "│ c     ┆ 5.245225 │\n",
       "│ d     ┆ 0.289111 │\n",
       "│ e     ┆ 2.622434 │\n",
       "└───────┴──────────┘"
      ]
     },
     "execution_count": 343,
     "metadata": {},
     "output_type": "execute_result"
    }
   ],
   "source": [
    "s.with_columns(\n",
    "    pl.col('value').exp()\n",
    ")"
   ]
  },
  {
   "cell_type": "code",
   "execution_count": 344,
   "id": "ac8a0b86-fe2a-4e4d-97b8-61853df4b52c",
   "metadata": {},
   "outputs": [
    {
     "data": {
      "text/plain": [
       "Float64"
      ]
     },
     "execution_count": 344,
     "metadata": {},
     "output_type": "execute_result"
    }
   ],
   "source": [
    "s['value'].dtype"
   ]
  },
  {
   "cell_type": "code",
   "execution_count": 345,
   "id": "1511c955-d697-4da2-bb75-f18181b91762",
   "metadata": {},
   "outputs": [
    {
     "data": {
      "text/plain": [
       "array([-1.16354431, -0.90066273,  1.65731812, -1.24094468,  0.96410308])"
      ]
     },
     "execution_count": 345,
     "metadata": {},
     "output_type": "execute_result"
    }
   ],
   "source": [
    "# s.array\n",
    "s['value'].to_numpy()"
   ]
  },
  {
   "cell_type": "markdown",
   "id": "215944e9-4f6e-4516-9c31-361429b8cbae",
   "metadata": {},
   "source": [
    "### Series is dict-like"
   ]
  },
  {
   "cell_type": "code",
   "execution_count": 346,
   "id": "ebad929e-8eb0-43bc-aa00-da766f1bedec",
   "metadata": {},
   "outputs": [
    {
     "data": {
      "text/plain": [
       "-1.163544306576043"
      ]
     },
     "execution_count": 346,
     "metadata": {},
     "output_type": "execute_result"
    }
   ],
   "source": [
    "# s[\"a\"]\n",
    "s.select(pl.col('value').filter(pl.col('index') == 'a')).item()"
   ]
  },
  {
   "cell_type": "code",
   "execution_count": 347,
   "id": "b1d78aa2-7529-476e-a89a-0f978a61e79d",
   "metadata": {},
   "outputs": [],
   "source": [
    "# s[\"e\"] = 12.0\n",
    "s = s.with_columns(\n",
    "    pl.when(pl.col('index') == 'e')\n",
    "      .then(12.0)\n",
    "      .otherwise(pl.col('value'))\n",
    "      .name.keep()\n",
    ")"
   ]
  },
  {
   "cell_type": "code",
   "execution_count": 348,
   "id": "e19d5441-29de-46d6-8d8a-cb0b335bf5c1",
   "metadata": {},
   "outputs": [
    {
     "data": {
      "text/plain": [
       "True"
      ]
     },
     "execution_count": 348,
     "metadata": {},
     "output_type": "execute_result"
    }
   ],
   "source": [
    "# \"e\" in s\n",
    "\"e\" in s['index']"
   ]
  },
  {
   "cell_type": "code",
   "execution_count": 349,
   "id": "87a5c4a5-6a8d-4d44-a58e-1b18d7471de7",
   "metadata": {},
   "outputs": [
    {
     "data": {
      "text/plain": [
       "False"
      ]
     },
     "execution_count": 349,
     "metadata": {},
     "output_type": "execute_result"
    }
   ],
   "source": [
    "\"f\" in s['index']"
   ]
  },
  {
   "cell_type": "markdown",
   "id": "eb0bfd4b-3784-4776-beb9-fb506c733d1e",
   "metadata": {},
   "source": [
    "### Vectorized operations and label alignment with Series"
   ]
  },
  {
   "cell_type": "code",
   "execution_count": 350,
   "id": "394752c6-714b-44b0-8566-448a8c961394",
   "metadata": {},
   "outputs": [
    {
     "data": {
      "text/html": [
       "<div><style>\n",
       ".dataframe > thead > tr,\n",
       ".dataframe > tbody > tr {\n",
       "  text-align: right;\n",
       "  white-space: pre-wrap;\n",
       "}\n",
       "</style>\n",
       "<small>shape: (5, 2)</small><table border=\"1\" class=\"dataframe\"><thead><tr><th>index</th><th>value</th></tr><tr><td>str</td><td>f64</td></tr></thead><tbody><tr><td>&quot;a&quot;</td><td>-2.327089</td></tr><tr><td>&quot;b&quot;</td><td>-1.801325</td></tr><tr><td>&quot;c&quot;</td><td>3.314636</td></tr><tr><td>&quot;d&quot;</td><td>-2.481889</td></tr><tr><td>&quot;e&quot;</td><td>24.0</td></tr></tbody></table></div>"
      ],
      "text/plain": [
       "shape: (5, 2)\n",
       "┌───────┬───────────┐\n",
       "│ index ┆ value     │\n",
       "│ ---   ┆ ---       │\n",
       "│ str   ┆ f64       │\n",
       "╞═══════╪═══════════╡\n",
       "│ a     ┆ -2.327089 │\n",
       "│ b     ┆ -1.801325 │\n",
       "│ c     ┆ 3.314636  │\n",
       "│ d     ┆ -2.481889 │\n",
       "│ e     ┆ 24.0      │\n",
       "└───────┴───────────┘"
      ]
     },
     "execution_count": 350,
     "metadata": {},
     "output_type": "execute_result"
    }
   ],
   "source": [
    "# s + s\n",
    "from helper.polars import align_op\n",
    "align_op(s, s, op=pl.Expr.add)"
   ]
  },
  {
   "cell_type": "code",
   "execution_count": 351,
   "id": "31c9f84a-9b0c-420f-a7de-f7618bc220b9",
   "metadata": {},
   "outputs": [
    {
     "data": {
      "text/html": [
       "<div><style>\n",
       ".dataframe > thead > tr,\n",
       ".dataframe > tbody > tr {\n",
       "  text-align: right;\n",
       "  white-space: pre-wrap;\n",
       "}\n",
       "</style>\n",
       "<small>shape: (5, 2)</small><table border=\"1\" class=\"dataframe\"><thead><tr><th>index</th><th>value</th></tr><tr><td>str</td><td>f64</td></tr></thead><tbody><tr><td>&quot;a&quot;</td><td>-2.327089</td></tr><tr><td>&quot;b&quot;</td><td>-1.801325</td></tr><tr><td>&quot;c&quot;</td><td>3.314636</td></tr><tr><td>&quot;d&quot;</td><td>-2.481889</td></tr><tr><td>&quot;e&quot;</td><td>24.0</td></tr></tbody></table></div>"
      ],
      "text/plain": [
       "shape: (5, 2)\n",
       "┌───────┬───────────┐\n",
       "│ index ┆ value     │\n",
       "│ ---   ┆ ---       │\n",
       "│ str   ┆ f64       │\n",
       "╞═══════╪═══════════╡\n",
       "│ a     ┆ -2.327089 │\n",
       "│ b     ┆ -1.801325 │\n",
       "│ c     ┆ 3.314636  │\n",
       "│ d     ┆ -2.481889 │\n",
       "│ e     ┆ 24.0      │\n",
       "└───────┴───────────┘"
      ]
     },
     "execution_count": 351,
     "metadata": {},
     "output_type": "execute_result"
    }
   ],
   "source": [
    "# s * 2\n",
    "s.select(\n",
    "    'index',\n",
    "    pl.col('value') * 2\n",
    ")"
   ]
  },
  {
   "cell_type": "code",
   "execution_count": 352,
   "id": "ee7ad564-aa27-4c71-8ad3-62f41c292123",
   "metadata": {},
   "outputs": [
    {
     "data": {
      "text/html": [
       "<div><style>\n",
       ".dataframe > thead > tr,\n",
       ".dataframe > tbody > tr {\n",
       "  text-align: right;\n",
       "  white-space: pre-wrap;\n",
       "}\n",
       "</style>\n",
       "<small>shape: (5, 2)</small><table border=\"1\" class=\"dataframe\"><thead><tr><th>index</th><th>value</th></tr><tr><td>str</td><td>f64</td></tr></thead><tbody><tr><td>&quot;a&quot;</td><td>0.312377</td></tr><tr><td>&quot;b&quot;</td><td>0.4063</td></tr><tr><td>&quot;c&quot;</td><td>5.245225</td></tr><tr><td>&quot;d&quot;</td><td>0.289111</td></tr><tr><td>&quot;e&quot;</td><td>162754.791419</td></tr></tbody></table></div>"
      ],
      "text/plain": [
       "shape: (5, 2)\n",
       "┌───────┬───────────────┐\n",
       "│ index ┆ value         │\n",
       "│ ---   ┆ ---           │\n",
       "│ str   ┆ f64           │\n",
       "╞═══════╪═══════════════╡\n",
       "│ a     ┆ 0.312377      │\n",
       "│ b     ┆ 0.4063        │\n",
       "│ c     ┆ 5.245225      │\n",
       "│ d     ┆ 0.289111      │\n",
       "│ e     ┆ 162754.791419 │\n",
       "└───────┴───────────────┘"
      ]
     },
     "execution_count": 352,
     "metadata": {},
     "output_type": "execute_result"
    }
   ],
   "source": [
    "# np.exp(s)\n",
    "s.select(\n",
    "    \"index\",\n",
    "    pl.col(\"value\").exp()\n",
    ")"
   ]
  },
  {
   "cell_type": "code",
   "execution_count": 353,
   "id": "fefbc23f-f33a-444e-9b7d-2a60d166f84f",
   "metadata": {},
   "outputs": [
    {
     "data": {
      "text/html": [
       "<div><style>\n",
       ".dataframe > thead > tr,\n",
       ".dataframe > tbody > tr {\n",
       "  text-align: right;\n",
       "  white-space: pre-wrap;\n",
       "}\n",
       "</style>\n",
       "<small>shape: (5, 2)</small><table border=\"1\" class=\"dataframe\"><thead><tr><th>index</th><th>value</th></tr><tr><td>str</td><td>f64</td></tr></thead><tbody><tr><td>&quot;a&quot;</td><td>null</td></tr><tr><td>&quot;b&quot;</td><td>-1.801325</td></tr><tr><td>&quot;c&quot;</td><td>3.314636</td></tr><tr><td>&quot;d&quot;</td><td>-2.481889</td></tr><tr><td>&quot;e&quot;</td><td>null</td></tr></tbody></table></div>"
      ],
      "text/plain": [
       "shape: (5, 2)\n",
       "┌───────┬───────────┐\n",
       "│ index ┆ value     │\n",
       "│ ---   ┆ ---       │\n",
       "│ str   ┆ f64       │\n",
       "╞═══════╪═══════════╡\n",
       "│ a     ┆ null      │\n",
       "│ b     ┆ -1.801325 │\n",
       "│ c     ┆ 3.314636  │\n",
       "│ d     ┆ -2.481889 │\n",
       "│ e     ┆ null      │\n",
       "└───────┴───────────┘"
      ]
     },
     "execution_count": 353,
     "metadata": {},
     "output_type": "execute_result"
    }
   ],
   "source": [
    "# s.iloc[1:] + s.iloc[:-1]\n",
    "align_op(\n",
    "    s.slice(1), \n",
    "    s.slice(0, len(s) - 1), \n",
    "    op=pl.Expr.add, \n",
    "    fill_value=None, \n",
    "    how=\"full\")"
   ]
  },
  {
   "cell_type": "markdown",
   "id": "bcb43e01-b857-435f-b761-5c04353c994d",
   "metadata": {},
   "source": [
    "### Name attribute"
   ]
  },
  {
   "cell_type": "code",
   "execution_count": 354,
   "id": "0be666d2-02a6-428a-9811-db799a3c0fae",
   "metadata": {},
   "outputs": [
    {
     "data": {
      "text/html": [
       "<div><style>\n",
       ".dataframe > thead > tr,\n",
       ".dataframe > tbody > tr {\n",
       "  text-align: right;\n",
       "  white-space: pre-wrap;\n",
       "}\n",
       "</style>\n",
       "<small>shape: (5,)</small><table border=\"1\" class=\"dataframe\"><thead><tr><th>something</th></tr><tr><td>f64</td></tr></thead><tbody><tr><td>1.879844</td></tr><tr><td>1.553987</td></tr><tr><td>-1.190783</td></tr><tr><td>-1.452195</td></tr><tr><td>-0.553582</td></tr></tbody></table></div>"
      ],
      "text/plain": [
       "shape: (5,)\n",
       "Series: 'something' [f64]\n",
       "[\n",
       "\t1.879844\n",
       "\t1.553987\n",
       "\t-1.190783\n",
       "\t-1.452195\n",
       "\t-0.553582\n",
       "]"
      ]
     },
     "execution_count": 354,
     "metadata": {},
     "output_type": "execute_result"
    }
   ],
   "source": [
    "s = pl.Series(\"something\", np.random.randn(5))\n",
    "s"
   ]
  },
  {
   "cell_type": "code",
   "execution_count": 355,
   "id": "6f8ecbb0-ca48-4712-a6af-1c89cf0c954e",
   "metadata": {},
   "outputs": [
    {
     "data": {
      "text/plain": [
       "'something'"
      ]
     },
     "execution_count": 355,
     "metadata": {},
     "output_type": "execute_result"
    }
   ],
   "source": [
    "s.name"
   ]
  },
  {
   "cell_type": "code",
   "execution_count": 356,
   "id": "29398f27-6770-4d07-ad27-0ae1d4d3d887",
   "metadata": {},
   "outputs": [
    {
     "data": {
      "text/plain": [
       "'different'"
      ]
     },
     "execution_count": 356,
     "metadata": {},
     "output_type": "execute_result"
    }
   ],
   "source": [
    "s2 = s.rename('different')\n",
    "s2.name"
   ]
  },
  {
   "cell_type": "markdown",
   "id": "06a08088-3a8c-443b-8852-d3c91d32e9b6",
   "metadata": {},
   "source": [
    "## DataFrame"
   ]
  },
  {
   "cell_type": "code",
   "execution_count": 357,
   "id": "c0893511-65d5-4662-83b5-5fac76c00462",
   "metadata": {},
   "outputs": [
    {
     "data": {
      "text/html": [
       "<div><style>\n",
       ".dataframe > thead > tr,\n",
       ".dataframe > tbody > tr {\n",
       "  text-align: right;\n",
       "  white-space: pre-wrap;\n",
       "}\n",
       "</style>\n",
       "<small>shape: (4, 3)</small><table border=\"1\" class=\"dataframe\"><thead><tr><th>index</th><th>one</th><th>two</th></tr><tr><td>str</td><td>f64</td><td>f64</td></tr></thead><tbody><tr><td>&quot;a&quot;</td><td>1.0</td><td>1.0</td></tr><tr><td>&quot;b&quot;</td><td>2.0</td><td>2.0</td></tr><tr><td>&quot;c&quot;</td><td>3.0</td><td>3.0</td></tr><tr><td>&quot;d&quot;</td><td>null</td><td>4.0</td></tr></tbody></table></div>"
      ],
      "text/plain": [
       "shape: (4, 3)\n",
       "┌───────┬──────┬─────┐\n",
       "│ index ┆ one  ┆ two │\n",
       "│ ---   ┆ ---  ┆ --- │\n",
       "│ str   ┆ f64  ┆ f64 │\n",
       "╞═══════╪══════╪═════╡\n",
       "│ a     ┆ 1.0  ┆ 1.0 │\n",
       "│ b     ┆ 2.0  ┆ 2.0 │\n",
       "│ c     ┆ 3.0  ┆ 3.0 │\n",
       "│ d     ┆ null ┆ 4.0 │\n",
       "└───────┴──────┴─────┘"
      ]
     },
     "execution_count": 357,
     "metadata": {},
     "output_type": "execute_result"
    }
   ],
   "source": [
    "s1 = pl.DataFrame(dict(index=[\"a\", \"b\", \"c\"], one=[1.0, 2.0, 3.0]))\n",
    "s2 = pl.DataFrame(dict(index=[\"a\", \"b\", \"c\", \"d\"], two=[1.0, 2.0, 3.0, 4.0]))\n",
    "df = s1.join(s2, on='index', how='full', coalesce=True)\n",
    "df"
   ]
  },
  {
   "cell_type": "code",
   "execution_count": 358,
   "id": "37ee0b5f-48b8-4961-8a92-407ed512eaac",
   "metadata": {},
   "outputs": [
    {
     "data": {
      "text/html": [
       "<div><style>\n",
       ".dataframe > thead > tr,\n",
       ".dataframe > tbody > tr {\n",
       "  text-align: right;\n",
       "  white-space: pre-wrap;\n",
       "}\n",
       "</style>\n",
       "<small>shape: (4,)</small><table border=\"1\" class=\"dataframe\"><thead><tr><th>index</th></tr><tr><td>str</td></tr></thead><tbody><tr><td>&quot;a&quot;</td></tr><tr><td>&quot;b&quot;</td></tr><tr><td>&quot;c&quot;</td></tr><tr><td>&quot;d&quot;</td></tr></tbody></table></div>"
      ],
      "text/plain": [
       "shape: (4,)\n",
       "Series: 'index' [str]\n",
       "[\n",
       "\t\"a\"\n",
       "\t\"b\"\n",
       "\t\"c\"\n",
       "\t\"d\"\n",
       "]"
      ]
     },
     "execution_count": 358,
     "metadata": {},
     "output_type": "execute_result"
    }
   ],
   "source": [
    "df['index']"
   ]
  },
  {
   "cell_type": "code",
   "execution_count": 359,
   "id": "20b9d7f7-3556-4494-9221-d204ef48fffc",
   "metadata": {},
   "outputs": [
    {
     "data": {
      "text/plain": [
       "['index', 'one', 'two']"
      ]
     },
     "execution_count": 359,
     "metadata": {},
     "output_type": "execute_result"
    }
   ],
   "source": [
    "df.columns"
   ]
  },
  {
   "cell_type": "code",
   "execution_count": 360,
   "id": "6453b26e-2972-49e9-8673-1c49f5f144b9",
   "metadata": {},
   "outputs": [
    {
     "data": {
      "text/plain": [
       "['one', 'two']"
      ]
     },
     "execution_count": 360,
     "metadata": {},
     "output_type": "execute_result"
    }
   ],
   "source": [
    "df.drop('index').columns"
   ]
  },
  {
   "cell_type": "markdown",
   "id": "7260ead1-9795-4d4e-be66-ec509d4b2252",
   "metadata": {},
   "source": [
    "### From dict of ndarrays / lists"
   ]
  },
  {
   "cell_type": "code",
   "execution_count": 361,
   "id": "92a4a508-4d26-4323-8594-ab61ba3ece12",
   "metadata": {},
   "outputs": [
    {
     "data": {
      "text/html": [
       "<div><style>\n",
       ".dataframe > thead > tr,\n",
       ".dataframe > tbody > tr {\n",
       "  text-align: right;\n",
       "  white-space: pre-wrap;\n",
       "}\n",
       "</style>\n",
       "<small>shape: (4, 2)</small><table border=\"1\" class=\"dataframe\"><thead><tr><th>one</th><th>two</th></tr><tr><td>f64</td><td>f64</td></tr></thead><tbody><tr><td>1.0</td><td>4.0</td></tr><tr><td>2.0</td><td>3.0</td></tr><tr><td>3.0</td><td>2.0</td></tr><tr><td>4.0</td><td>1.0</td></tr></tbody></table></div>"
      ],
      "text/plain": [
       "shape: (4, 2)\n",
       "┌─────┬─────┐\n",
       "│ one ┆ two │\n",
       "│ --- ┆ --- │\n",
       "│ f64 ┆ f64 │\n",
       "╞═════╪═════╡\n",
       "│ 1.0 ┆ 4.0 │\n",
       "│ 2.0 ┆ 3.0 │\n",
       "│ 3.0 ┆ 2.0 │\n",
       "│ 4.0 ┆ 1.0 │\n",
       "└─────┴─────┘"
      ]
     },
     "execution_count": 361,
     "metadata": {},
     "output_type": "execute_result"
    }
   ],
   "source": [
    "d = {\"one\": [1.0, 2.0, 3.0, 4.0], \"two\": [4.0, 3.0, 2.0, 1.0]}\n",
    "pl.DataFrame(d)"
   ]
  },
  {
   "cell_type": "code",
   "execution_count": 362,
   "id": "aef1a07a-ba62-4a0f-8a9d-4fa4e97ca984",
   "metadata": {},
   "outputs": [
    {
     "data": {
      "text/html": [
       "<div><style>\n",
       ".dataframe > thead > tr,\n",
       ".dataframe > tbody > tr {\n",
       "  text-align: right;\n",
       "  white-space: pre-wrap;\n",
       "}\n",
       "</style>\n",
       "<small>shape: (4, 3)</small><table border=\"1\" class=\"dataframe\"><thead><tr><th>index</th><th>one</th><th>two</th></tr><tr><td>str</td><td>f64</td><td>f64</td></tr></thead><tbody><tr><td>&quot;a&quot;</td><td>1.0</td><td>4.0</td></tr><tr><td>&quot;b&quot;</td><td>2.0</td><td>3.0</td></tr><tr><td>&quot;c&quot;</td><td>3.0</td><td>2.0</td></tr><tr><td>&quot;d&quot;</td><td>4.0</td><td>1.0</td></tr></tbody></table></div>"
      ],
      "text/plain": [
       "shape: (4, 3)\n",
       "┌───────┬─────┬─────┐\n",
       "│ index ┆ one ┆ two │\n",
       "│ ---   ┆ --- ┆ --- │\n",
       "│ str   ┆ f64 ┆ f64 │\n",
       "╞═══════╪═════╪═════╡\n",
       "│ a     ┆ 1.0 ┆ 4.0 │\n",
       "│ b     ┆ 2.0 ┆ 3.0 │\n",
       "│ c     ┆ 3.0 ┆ 2.0 │\n",
       "│ d     ┆ 4.0 ┆ 1.0 │\n",
       "└───────┴─────┴─────┘"
      ]
     },
     "execution_count": 362,
     "metadata": {},
     "output_type": "execute_result"
    }
   ],
   "source": [
    "pl.DataFrame(d).insert_column(0, pl.Series('index', [\"a\", \"b\", \"c\", \"d\"]))"
   ]
  },
  {
   "cell_type": "markdown",
   "id": "45d357db-45ad-4c90-b05f-149cc479a3bd",
   "metadata": {},
   "source": [
    "### From structured or record array"
   ]
  },
  {
   "cell_type": "code",
   "execution_count": 363,
   "id": "a0746ca5-4543-4ee3-9c1d-281332d93481",
   "metadata": {},
   "outputs": [
    {
     "data": {
      "text/html": [
       "<div><style>\n",
       ".dataframe > thead > tr,\n",
       ".dataframe > tbody > tr {\n",
       "  text-align: right;\n",
       "  white-space: pre-wrap;\n",
       "}\n",
       "</style>\n",
       "<small>shape: (2, 3)</small><table border=\"1\" class=\"dataframe\"><thead><tr><th>A</th><th>B</th><th>C</th></tr><tr><td>i32</td><td>f32</td><td>binary</td></tr></thead><tbody><tr><td>1</td><td>2.0</td><td>b&quot;Hello&quot;</td></tr><tr><td>2</td><td>3.0</td><td>b&quot;World&quot;</td></tr></tbody></table></div>"
      ],
      "text/plain": [
       "shape: (2, 3)\n",
       "┌─────┬─────┬──────────┐\n",
       "│ A   ┆ B   ┆ C        │\n",
       "│ --- ┆ --- ┆ ---      │\n",
       "│ i32 ┆ f32 ┆ binary   │\n",
       "╞═════╪═════╪══════════╡\n",
       "│ 1   ┆ 2.0 ┆ b\"Hello\" │\n",
       "│ 2   ┆ 3.0 ┆ b\"World\" │\n",
       "└─────┴─────┴──────────┘"
      ]
     },
     "execution_count": 363,
     "metadata": {},
     "output_type": "execute_result"
    }
   ],
   "source": [
    "data = np.zeros((2,), dtype=[(\"A\", \"i4\"), (\"B\", \"f4\"), (\"C\", \"a10\")])\n",
    "data[:] = [(1, 2.0, \"Hello\"), (2, 3.0, \"World\")]\n",
    "pl.DataFrame(data)"
   ]
  },
  {
   "cell_type": "code",
   "execution_count": 364,
   "id": "0111e1c6-cd1d-477e-824a-d6f5705db324",
   "metadata": {},
   "outputs": [
    {
     "data": {
      "text/html": [
       "<div><style>\n",
       ".dataframe > thead > tr,\n",
       ".dataframe > tbody > tr {\n",
       "  text-align: right;\n",
       "  white-space: pre-wrap;\n",
       "}\n",
       "</style>\n",
       "<small>shape: (2, 4)</small><table border=\"1\" class=\"dataframe\"><thead><tr><th>index</th><th>A</th><th>B</th><th>C</th></tr><tr><td>str</td><td>i32</td><td>f32</td><td>binary</td></tr></thead><tbody><tr><td>&quot;first&quot;</td><td>1</td><td>2.0</td><td>b&quot;Hello&quot;</td></tr><tr><td>&quot;second&quot;</td><td>2</td><td>3.0</td><td>b&quot;World&quot;</td></tr></tbody></table></div>"
      ],
      "text/plain": [
       "shape: (2, 4)\n",
       "┌────────┬─────┬─────┬──────────┐\n",
       "│ index  ┆ A   ┆ B   ┆ C        │\n",
       "│ ---    ┆ --- ┆ --- ┆ ---      │\n",
       "│ str    ┆ i32 ┆ f32 ┆ binary   │\n",
       "╞════════╪═════╪═════╪══════════╡\n",
       "│ first  ┆ 1   ┆ 2.0 ┆ b\"Hello\" │\n",
       "│ second ┆ 2   ┆ 3.0 ┆ b\"World\" │\n",
       "└────────┴─────┴─────┴──────────┘"
      ]
     },
     "execution_count": 364,
     "metadata": {},
     "output_type": "execute_result"
    }
   ],
   "source": [
    "pl.DataFrame(data).insert_column(0, pl.Series('index', ['first', 'second']))"
   ]
  },
  {
   "cell_type": "code",
   "execution_count": 365,
   "id": "797697c8-a0f6-4f82-bf27-8b0688246c74",
   "metadata": {},
   "outputs": [
    {
     "data": {
      "text/html": [
       "<div><style>\n",
       ".dataframe > thead > tr,\n",
       ".dataframe > tbody > tr {\n",
       "  text-align: right;\n",
       "  white-space: pre-wrap;\n",
       "}\n",
       "</style>\n",
       "<small>shape: (2, 3)</small><table border=\"1\" class=\"dataframe\"><thead><tr><th>C</th><th>A</th><th>B</th></tr><tr><td>binary</td><td>i32</td><td>f32</td></tr></thead><tbody><tr><td>b&quot;Hello&quot;</td><td>1</td><td>2.0</td></tr><tr><td>b&quot;World&quot;</td><td>2</td><td>3.0</td></tr></tbody></table></div>"
      ],
      "text/plain": [
       "shape: (2, 3)\n",
       "┌──────────┬─────┬─────┐\n",
       "│ C        ┆ A   ┆ B   │\n",
       "│ ---      ┆ --- ┆ --- │\n",
       "│ binary   ┆ i32 ┆ f32 │\n",
       "╞══════════╪═════╪═════╡\n",
       "│ b\"Hello\" ┆ 1   ┆ 2.0 │\n",
       "│ b\"World\" ┆ 2   ┆ 3.0 │\n",
       "└──────────┴─────┴─────┘"
      ]
     },
     "execution_count": 365,
     "metadata": {},
     "output_type": "execute_result"
    }
   ],
   "source": [
    "pl.DataFrame(data).select(\"C\", \"A\", \"B\")"
   ]
  },
  {
   "cell_type": "markdown",
   "id": "ebb1baa1-83fa-4b62-823a-ab6bf92549d7",
   "metadata": {},
   "source": [
    "### From a list of dicts"
   ]
  },
  {
   "cell_type": "code",
   "execution_count": 366,
   "id": "5399a765-4929-4b4e-be33-af1a04459bbd",
   "metadata": {},
   "outputs": [
    {
     "data": {
      "text/html": [
       "<div><style>\n",
       ".dataframe > thead > tr,\n",
       ".dataframe > tbody > tr {\n",
       "  text-align: right;\n",
       "  white-space: pre-wrap;\n",
       "}\n",
       "</style>\n",
       "<small>shape: (2, 3)</small><table border=\"1\" class=\"dataframe\"><thead><tr><th>a</th><th>b</th><th>c</th></tr><tr><td>i64</td><td>i64</td><td>i64</td></tr></thead><tbody><tr><td>1</td><td>2</td><td>null</td></tr><tr><td>5</td><td>10</td><td>20</td></tr></tbody></table></div>"
      ],
      "text/plain": [
       "shape: (2, 3)\n",
       "┌─────┬─────┬──────┐\n",
       "│ a   ┆ b   ┆ c    │\n",
       "│ --- ┆ --- ┆ ---  │\n",
       "│ i64 ┆ i64 ┆ i64  │\n",
       "╞═════╪═════╪══════╡\n",
       "│ 1   ┆ 2   ┆ null │\n",
       "│ 5   ┆ 10  ┆ 20   │\n",
       "└─────┴─────┴──────┘"
      ]
     },
     "execution_count": 366,
     "metadata": {},
     "output_type": "execute_result"
    }
   ],
   "source": [
    "data2 = [{\"a\": 1, \"b\": 2}, {\"a\": 5, \"b\": 10, \"c\": 20}]\n",
    "pl.DataFrame(data2)"
   ]
  },
  {
   "cell_type": "code",
   "execution_count": 367,
   "id": "1c37287f-f1ad-419b-bccd-3b8cdd889b22",
   "metadata": {},
   "outputs": [
    {
     "data": {
      "text/html": [
       "<div><style>\n",
       ".dataframe > thead > tr,\n",
       ".dataframe > tbody > tr {\n",
       "  text-align: right;\n",
       "  white-space: pre-wrap;\n",
       "}\n",
       "</style>\n",
       "<small>shape: (2, 4)</small><table border=\"1\" class=\"dataframe\"><thead><tr><th>index</th><th>a</th><th>b</th><th>c</th></tr><tr><td>str</td><td>i64</td><td>i64</td><td>i64</td></tr></thead><tbody><tr><td>&quot;first&quot;</td><td>1</td><td>2</td><td>null</td></tr><tr><td>&quot;second&quot;</td><td>5</td><td>10</td><td>20</td></tr></tbody></table></div>"
      ],
      "text/plain": [
       "shape: (2, 4)\n",
       "┌────────┬─────┬─────┬──────┐\n",
       "│ index  ┆ a   ┆ b   ┆ c    │\n",
       "│ ---    ┆ --- ┆ --- ┆ ---  │\n",
       "│ str    ┆ i64 ┆ i64 ┆ i64  │\n",
       "╞════════╪═════╪═════╪══════╡\n",
       "│ first  ┆ 1   ┆ 2   ┆ null │\n",
       "│ second ┆ 5   ┆ 10  ┆ 20   │\n",
       "└────────┴─────┴─────┴──────┘"
      ]
     },
     "execution_count": 367,
     "metadata": {},
     "output_type": "execute_result"
    }
   ],
   "source": [
    "pl.DataFrame(data2).insert_column(0, pl.Series('index', ['first', 'second']))"
   ]
  },
  {
   "cell_type": "code",
   "execution_count": 368,
   "id": "770967f6-b780-45dc-8f7d-c16d26f3115f",
   "metadata": {},
   "outputs": [
    {
     "data": {
      "text/html": [
       "<div><style>\n",
       ".dataframe > thead > tr,\n",
       ".dataframe > tbody > tr {\n",
       "  text-align: right;\n",
       "  white-space: pre-wrap;\n",
       "}\n",
       "</style>\n",
       "<small>shape: (2, 2)</small><table border=\"1\" class=\"dataframe\"><thead><tr><th>a</th><th>b</th></tr><tr><td>i64</td><td>i64</td></tr></thead><tbody><tr><td>1</td><td>2</td></tr><tr><td>5</td><td>10</td></tr></tbody></table></div>"
      ],
      "text/plain": [
       "shape: (2, 2)\n",
       "┌─────┬─────┐\n",
       "│ a   ┆ b   │\n",
       "│ --- ┆ --- │\n",
       "│ i64 ┆ i64 │\n",
       "╞═════╪═════╡\n",
       "│ 1   ┆ 2   │\n",
       "│ 5   ┆ 10  │\n",
       "└─────┴─────┘"
      ]
     },
     "execution_count": 368,
     "metadata": {},
     "output_type": "execute_result"
    }
   ],
   "source": [
    "pl.DataFrame(data2).select('a', 'b')"
   ]
  },
  {
   "cell_type": "markdown",
   "id": "5b9e0ce8-8a38-48ee-978a-361b8b34c7c1",
   "metadata": {},
   "source": [
    "### From a dict of tuples"
   ]
  },
  {
   "cell_type": "code",
   "execution_count": 369,
   "id": "727c9f44-6027-44b7-9849-476741515a0d",
   "metadata": {},
   "outputs": [
    {
     "data": {
      "text/html": [
       "<div><style>\n",
       ".dataframe > thead > tr,\n",
       ".dataframe > tbody > tr {\n",
       "  text-align: right;\n",
       "  white-space: pre-wrap;\n",
       "}\n",
       "</style>\n",
       "<small>shape: (3, 7)</small><table border=\"1\" class=\"dataframe\"><thead><tr><th>index0</th><th>index1</th><th>a-b</th><th>a-a</th><th>a-c</th><th>b-a</th><th>b-b</th></tr><tr><td>str</td><td>str</td><td>i64</td><td>i64</td><td>i64</td><td>i64</td><td>i64</td></tr></thead><tbody><tr><td>&quot;A&quot;</td><td>&quot;B&quot;</td><td>1</td><td>4</td><td>5</td><td>8</td><td>10</td></tr><tr><td>&quot;A&quot;</td><td>&quot;C&quot;</td><td>2</td><td>3</td><td>6</td><td>7</td><td>null</td></tr><tr><td>&quot;A&quot;</td><td>&quot;D&quot;</td><td>null</td><td>null</td><td>null</td><td>null</td><td>9</td></tr></tbody></table></div>"
      ],
      "text/plain": [
       "shape: (3, 7)\n",
       "┌────────┬────────┬──────┬──────┬──────┬──────┬──────┐\n",
       "│ index0 ┆ index1 ┆ a-b  ┆ a-a  ┆ a-c  ┆ b-a  ┆ b-b  │\n",
       "│ ---    ┆ ---    ┆ ---  ┆ ---  ┆ ---  ┆ ---  ┆ ---  │\n",
       "│ str    ┆ str    ┆ i64  ┆ i64  ┆ i64  ┆ i64  ┆ i64  │\n",
       "╞════════╪════════╪══════╪══════╪══════╪══════╪══════╡\n",
       "│ A      ┆ B      ┆ 1    ┆ 4    ┆ 5    ┆ 8    ┆ 10   │\n",
       "│ A      ┆ C      ┆ 2    ┆ 3    ┆ 6    ┆ 7    ┆ null │\n",
       "│ A      ┆ D      ┆ null ┆ null ┆ null ┆ null ┆ 9    │\n",
       "└────────┴────────┴──────┴──────┴──────┴──────┴──────┘"
      ]
     },
     "execution_count": 369,
     "metadata": {},
     "output_type": "execute_result"
    }
   ],
   "source": [
    "data = {\n",
    "    (\"a\", \"b\"): {(\"A\", \"B\"): 1, (\"A\", \"C\"): 2},\n",
    "    (\"a\", \"a\"): {(\"A\", \"C\"): 3, (\"A\", \"B\"): 4},\n",
    "    (\"a\", \"c\"): {(\"A\", \"B\"): 5, (\"A\", \"C\"): 6},\n",
    "    (\"b\", \"a\"): {(\"A\", \"C\"): 7, (\"A\", \"B\"): 8},\n",
    "    (\"b\", \"b\"): {(\"A\", \"D\"): 9, (\"A\", \"B\"): 10},\n",
    "}\n",
    "\n",
    "dfs = []\n",
    "for key, value in data.items():\n",
    "    rows = []\n",
    "    for key2, value2 in value.items():\n",
    "        data_row = list(key2) + [value2]\n",
    "        rows.append(data_row)\n",
    "    dfs.append(\n",
    "        pl.DataFrame(rows, orient='row', schema=['index0', 'index1', '-'.join(key)])\n",
    "    )\n",
    "    \n",
    "pl.concat(dfs, how=\"align\")    "
   ]
  },
  {
   "cell_type": "markdown",
   "id": "e719e7c0-d54d-4373-9f63-79263852375f",
   "metadata": {},
   "source": [
    "### From a Series"
   ]
  },
  {
   "cell_type": "code",
   "execution_count": 370,
   "id": "3e24739c-f6ad-4053-b918-5ea374c2fe2a",
   "metadata": {},
   "outputs": [
    {
     "data": {
      "text/html": [
       "<div><style>\n",
       ".dataframe > thead > tr,\n",
       ".dataframe > tbody > tr {\n",
       "  text-align: right;\n",
       "  white-space: pre-wrap;\n",
       "}\n",
       "</style>\n",
       "<small>shape: (3, 2)</small><table border=\"1\" class=\"dataframe\"><thead><tr><th>index</th><th>ser</th></tr><tr><td>str</td><td>i64</td></tr></thead><tbody><tr><td>&quot;a&quot;</td><td>0</td></tr><tr><td>&quot;b&quot;</td><td>1</td></tr><tr><td>&quot;c&quot;</td><td>2</td></tr></tbody></table></div>"
      ],
      "text/plain": [
       "shape: (3, 2)\n",
       "┌───────┬─────┐\n",
       "│ index ┆ ser │\n",
       "│ ---   ┆ --- │\n",
       "│ str   ┆ i64 │\n",
       "╞═══════╪═════╡\n",
       "│ a     ┆ 0   │\n",
       "│ b     ┆ 1   │\n",
       "│ c     ┆ 2   │\n",
       "└───────┴─────┘"
      ]
     },
     "execution_count": 370,
     "metadata": {},
     "output_type": "execute_result"
    }
   ],
   "source": [
    "ser = pl.Series('ser', range(3))\n",
    "pl.DataFrame(ser).insert_column(0, pl.Series('index', list(\"abc\")))"
   ]
  },
  {
   "cell_type": "markdown",
   "id": "46e919a5-8360-4710-b492-86eb49ee24c4",
   "metadata": {},
   "source": [
    "### From a list of namedtuples"
   ]
  },
  {
   "cell_type": "code",
   "execution_count": 371,
   "id": "b41c6f70-feff-4573-b1b5-4e1d150d08e5",
   "metadata": {},
   "outputs": [
    {
     "data": {
      "text/html": [
       "<div><style>\n",
       ".dataframe > thead > tr,\n",
       ".dataframe > tbody > tr {\n",
       "  text-align: right;\n",
       "  white-space: pre-wrap;\n",
       "}\n",
       "</style>\n",
       "<small>shape: (3, 2)</small><table border=\"1\" class=\"dataframe\"><thead><tr><th>x</th><th>y</th></tr><tr><td>i64</td><td>i64</td></tr></thead><tbody><tr><td>0</td><td>0</td></tr><tr><td>0</td><td>3</td></tr><tr><td>2</td><td>3</td></tr></tbody></table></div>"
      ],
      "text/plain": [
       "shape: (3, 2)\n",
       "┌─────┬─────┐\n",
       "│ x   ┆ y   │\n",
       "│ --- ┆ --- │\n",
       "│ i64 ┆ i64 │\n",
       "╞═════╪═════╡\n",
       "│ 0   ┆ 0   │\n",
       "│ 0   ┆ 3   │\n",
       "│ 2   ┆ 3   │\n",
       "└─────┴─────┘"
      ]
     },
     "execution_count": 371,
     "metadata": {},
     "output_type": "execute_result"
    }
   ],
   "source": [
    "from collections import namedtuple\n",
    "Point = namedtuple(\"Point\", \"x y\")\n",
    "pl.DataFrame([Point(0, 0), Point(0, 3), (2, 3)])"
   ]
  },
  {
   "cell_type": "code",
   "execution_count": 372,
   "id": "4201b810-f48a-4bd5-a60a-77797c9c34b0",
   "metadata": {},
   "outputs": [
    {
     "data": {
      "text/html": [
       "<div><style>\n",
       ".dataframe > thead > tr,\n",
       ".dataframe > tbody > tr {\n",
       "  text-align: right;\n",
       "  white-space: pre-wrap;\n",
       "}\n",
       "</style>\n",
       "<small>shape: (3, 3)</small><table border=\"1\" class=\"dataframe\"><thead><tr><th>x</th><th>y</th><th>z</th></tr><tr><td>i64</td><td>i64</td><td>i64</td></tr></thead><tbody><tr><td>0</td><td>0</td><td>0</td></tr><tr><td>0</td><td>3</td><td>5</td></tr><tr><td>2</td><td>3</td><td>null</td></tr></tbody></table></div>"
      ],
      "text/plain": [
       "shape: (3, 3)\n",
       "┌─────┬─────┬──────┐\n",
       "│ x   ┆ y   ┆ z    │\n",
       "│ --- ┆ --- ┆ ---  │\n",
       "│ i64 ┆ i64 ┆ i64  │\n",
       "╞═════╪═════╪══════╡\n",
       "│ 0   ┆ 0   ┆ 0    │\n",
       "│ 0   ┆ 3   ┆ 5    │\n",
       "│ 2   ┆ 3   ┆ null │\n",
       "└─────┴─────┴──────┘"
      ]
     },
     "execution_count": 372,
     "metadata": {},
     "output_type": "execute_result"
    }
   ],
   "source": [
    "Point3D = namedtuple(\"Point3D\", \"x y z\")\n",
    "data = [Point3D(0, 0, 0), Point3D(0, 3, 5), Point(2, 3)]\n",
    "pl.DataFrame([p._asdict() for p in data])"
   ]
  },
  {
   "cell_type": "markdown",
   "id": "c41a3dc8-5043-4507-87c8-4f49b06e8686",
   "metadata": {},
   "source": [
    "### From a list of dataclasses"
   ]
  },
  {
   "cell_type": "code",
   "execution_count": 373,
   "id": "6dbfc181-384f-4896-940e-a8975a9fbb4b",
   "metadata": {},
   "outputs": [
    {
     "data": {
      "text/html": [
       "<div><style>\n",
       ".dataframe > thead > tr,\n",
       ".dataframe > tbody > tr {\n",
       "  text-align: right;\n",
       "  white-space: pre-wrap;\n",
       "}\n",
       "</style>\n",
       "<small>shape: (3, 2)</small><table border=\"1\" class=\"dataframe\"><thead><tr><th>x</th><th>y</th></tr><tr><td>i64</td><td>i64</td></tr></thead><tbody><tr><td>0</td><td>0</td></tr><tr><td>0</td><td>3</td></tr><tr><td>2</td><td>3</td></tr></tbody></table></div>"
      ],
      "text/plain": [
       "shape: (3, 2)\n",
       "┌─────┬─────┐\n",
       "│ x   ┆ y   │\n",
       "│ --- ┆ --- │\n",
       "│ i64 ┆ i64 │\n",
       "╞═════╪═════╡\n",
       "│ 0   ┆ 0   │\n",
       "│ 0   ┆ 3   │\n",
       "│ 2   ┆ 3   │\n",
       "└─────┴─────┘"
      ]
     },
     "execution_count": 373,
     "metadata": {},
     "output_type": "execute_result"
    }
   ],
   "source": [
    "from dataclasses import make_dataclass\n",
    "Point = make_dataclass(\"Point\", [(\"x\", int), (\"y\", int)])\n",
    "pl.DataFrame([Point(0, 0), Point(0, 3), Point(2, 3)])"
   ]
  },
  {
   "cell_type": "markdown",
   "id": "947db500-e0e4-495e-9d3c-7f4c8a9f1c93",
   "metadata": {},
   "source": [
    "### Alternate constructors"
   ]
  },
  {
   "cell_type": "markdown",
   "id": "0e964439-0ec3-439e-a3ef-7100ff1f26a0",
   "metadata": {},
   "source": [
    "#### DataFrame.from_dict"
   ]
  },
  {
   "cell_type": "code",
   "execution_count": 374,
   "id": "bf32ca20-a8f5-4582-ab8f-8cab709c3fe7",
   "metadata": {},
   "outputs": [
    {
     "data": {
      "text/html": [
       "<div><style>\n",
       ".dataframe > thead > tr,\n",
       ".dataframe > tbody > tr {\n",
       "  text-align: right;\n",
       "  white-space: pre-wrap;\n",
       "}\n",
       "</style>\n",
       "<small>shape: (3, 2)</small><table border=\"1\" class=\"dataframe\"><thead><tr><th>A</th><th>B</th></tr><tr><td>i64</td><td>i64</td></tr></thead><tbody><tr><td>1</td><td>4</td></tr><tr><td>2</td><td>5</td></tr><tr><td>3</td><td>6</td></tr></tbody></table></div>"
      ],
      "text/plain": [
       "shape: (3, 2)\n",
       "┌─────┬─────┐\n",
       "│ A   ┆ B   │\n",
       "│ --- ┆ --- │\n",
       "│ i64 ┆ i64 │\n",
       "╞═════╪═════╡\n",
       "│ 1   ┆ 4   │\n",
       "│ 2   ┆ 5   │\n",
       "│ 3   ┆ 6   │\n",
       "└─────┴─────┘"
      ]
     },
     "execution_count": 374,
     "metadata": {},
     "output_type": "execute_result"
    }
   ],
   "source": [
    "pl.DataFrame(dict([(\"A\", [1, 2, 3]), (\"B\", [4, 5, 6])]))"
   ]
  },
  {
   "cell_type": "code",
   "execution_count": 375,
   "id": "a7b8f7b5-5421-43d5-908a-f6057321425a",
   "metadata": {},
   "outputs": [
    {
     "data": {
      "text/html": [
       "<div><style>\n",
       ".dataframe > thead > tr,\n",
       ".dataframe > tbody > tr {\n",
       "  text-align: right;\n",
       "  white-space: pre-wrap;\n",
       "}\n",
       "</style>\n",
       "<small>shape: (2, 4)</small><table border=\"1\" class=\"dataframe\"><thead><tr><th>index</th><th>one</th><th>two</th><th>three</th></tr><tr><td>str</td><td>i64</td><td>i64</td><td>i64</td></tr></thead><tbody><tr><td>&quot;A&quot;</td><td>1</td><td>2</td><td>3</td></tr><tr><td>&quot;B&quot;</td><td>4</td><td>5</td><td>6</td></tr></tbody></table></div>"
      ],
      "text/plain": [
       "shape: (2, 4)\n",
       "┌───────┬─────┬─────┬───────┐\n",
       "│ index ┆ one ┆ two ┆ three │\n",
       "│ ---   ┆ --- ┆ --- ┆ ---   │\n",
       "│ str   ┆ i64 ┆ i64 ┆ i64   │\n",
       "╞═══════╪═════╪═════╪═══════╡\n",
       "│ A     ┆ 1   ┆ 2   ┆ 3     │\n",
       "│ B     ┆ 4   ┆ 5   ┆ 6     │\n",
       "└───────┴─────┴─────┴───────┘"
      ]
     },
     "execution_count": 375,
     "metadata": {},
     "output_type": "execute_result"
    }
   ],
   "source": [
    "data = dict([(\"A\", [1, 2, 3]), (\"B\", [4, 5, 6])])\n",
    "pl.DataFrame(\n",
    "    list(data.values()), schema=['one', 'two', 'three'], orient='row'\n",
    ").insert_column(0, pl.Series('index', data.keys()))"
   ]
  },
  {
   "cell_type": "markdown",
   "id": "284afd22-b8ca-4ed0-9d2c-c4e2f61cde3c",
   "metadata": {},
   "source": [
    "#### DataFrame.from_records"
   ]
  },
  {
   "cell_type": "code",
   "execution_count": 376,
   "id": "1a02d357-773e-402a-8ac0-50050b9b2aab",
   "metadata": {},
   "outputs": [
    {
     "data": {
      "text/html": [
       "<div><style>\n",
       ".dataframe > thead > tr,\n",
       ".dataframe > tbody > tr {\n",
       "  text-align: right;\n",
       "  white-space: pre-wrap;\n",
       "}\n",
       "</style>\n",
       "<small>shape: (2, 3)</small><table border=\"1\" class=\"dataframe\"><thead><tr><th>A</th><th>B</th><th>C</th></tr><tr><td>i32</td><td>f32</td><td>binary</td></tr></thead><tbody><tr><td>1</td><td>2.0</td><td>b&quot;Hello&quot;</td></tr><tr><td>2</td><td>3.0</td><td>b&quot;World&quot;</td></tr></tbody></table></div>"
      ],
      "text/plain": [
       "shape: (2, 3)\n",
       "┌─────┬─────┬──────────┐\n",
       "│ A   ┆ B   ┆ C        │\n",
       "│ --- ┆ --- ┆ ---      │\n",
       "│ i32 ┆ f32 ┆ binary   │\n",
       "╞═════╪═════╪══════════╡\n",
       "│ 1   ┆ 2.0 ┆ b\"Hello\" │\n",
       "│ 2   ┆ 3.0 ┆ b\"World\" │\n",
       "└─────┴─────┴──────────┘"
      ]
     },
     "execution_count": 376,
     "metadata": {},
     "output_type": "execute_result"
    }
   ],
   "source": [
    "data = np.zeros((2,), dtype=[(\"A\", \"i4\"), (\"B\", \"f4\"), (\"C\", \"a10\")])\n",
    "data[:] = [(1, 2.0, \"Hello\"), (2, 3.0, \"World\")]\n",
    "pl.DataFrame(data)"
   ]
  },
  {
   "cell_type": "markdown",
   "id": "20222785-9460-42f6-ade9-a372555885ef",
   "metadata": {},
   "source": [
    "### Column selection, addition, deletion"
   ]
  },
  {
   "cell_type": "code",
   "execution_count": 377,
   "id": "87831144-1c70-48d7-9888-dacc495bdb11",
   "metadata": {},
   "outputs": [
    {
     "data": {
      "text/html": [
       "<div><style>\n",
       ".dataframe > thead > tr,\n",
       ".dataframe > tbody > tr {\n",
       "  text-align: right;\n",
       "  white-space: pre-wrap;\n",
       "}\n",
       "</style>\n",
       "<small>shape: (4,)</small><table border=\"1\" class=\"dataframe\"><thead><tr><th>one</th></tr><tr><td>f64</td></tr></thead><tbody><tr><td>1.0</td></tr><tr><td>2.0</td></tr><tr><td>3.0</td></tr><tr><td>null</td></tr></tbody></table></div>"
      ],
      "text/plain": [
       "shape: (4,)\n",
       "Series: 'one' [f64]\n",
       "[\n",
       "\t1.0\n",
       "\t2.0\n",
       "\t3.0\n",
       "\tnull\n",
       "]"
      ]
     },
     "execution_count": 377,
     "metadata": {},
     "output_type": "execute_result"
    }
   ],
   "source": [
    "df['one']"
   ]
  },
  {
   "cell_type": "code",
   "execution_count": 378,
   "id": "7b5089b5-d007-4dca-b924-78b80f25562a",
   "metadata": {},
   "outputs": [],
   "source": [
    "df = df.with_columns(\n",
    "    three=pl.col('one') * pl.col('two'),\n",
    "    flag=pl.col('one') > 2\n",
    ")"
   ]
  },
  {
   "cell_type": "code",
   "execution_count": 379,
   "id": "e1832ed6-f46a-4782-be90-50887ded2f1c",
   "metadata": {},
   "outputs": [],
   "source": [
    "# del df[\"two\"]\n",
    "df = df.drop('two')"
   ]
  },
  {
   "cell_type": "code",
   "execution_count": 380,
   "id": "b2520e50-49bd-400c-8a00-9e934132043e",
   "metadata": {},
   "outputs": [
    {
     "data": {
      "text/html": [
       "<div><style>\n",
       ".dataframe > thead > tr,\n",
       ".dataframe > tbody > tr {\n",
       "  text-align: right;\n",
       "  white-space: pre-wrap;\n",
       "}\n",
       "</style>\n",
       "<small>shape: (4, 3)</small><table border=\"1\" class=\"dataframe\"><thead><tr><th>index</th><th>one</th><th>flag</th></tr><tr><td>str</td><td>f64</td><td>bool</td></tr></thead><tbody><tr><td>&quot;a&quot;</td><td>1.0</td><td>false</td></tr><tr><td>&quot;b&quot;</td><td>2.0</td><td>false</td></tr><tr><td>&quot;c&quot;</td><td>3.0</td><td>true</td></tr><tr><td>&quot;d&quot;</td><td>null</td><td>null</td></tr></tbody></table></div>"
      ],
      "text/plain": [
       "shape: (4, 3)\n",
       "┌───────┬──────┬───────┐\n",
       "│ index ┆ one  ┆ flag  │\n",
       "│ ---   ┆ ---  ┆ ---   │\n",
       "│ str   ┆ f64  ┆ bool  │\n",
       "╞═══════╪══════╪═══════╡\n",
       "│ a     ┆ 1.0  ┆ false │\n",
       "│ b     ┆ 2.0  ┆ false │\n",
       "│ c     ┆ 3.0  ┆ true  │\n",
       "│ d     ┆ null ┆ null  │\n",
       "└───────┴──────┴───────┘"
      ]
     },
     "execution_count": 380,
     "metadata": {},
     "output_type": "execute_result"
    }
   ],
   "source": [
    "#three = df.pop(\"three\")\n",
    "three = df['three']\n",
    "df = df.drop('three')\n",
    "df"
   ]
  },
  {
   "cell_type": "code",
   "execution_count": 381,
   "id": "dbc0e570-7235-42e5-92fc-3f09761bfc25",
   "metadata": {},
   "outputs": [
    {
     "data": {
      "text/html": [
       "<div><style>\n",
       ".dataframe > thead > tr,\n",
       ".dataframe > tbody > tr {\n",
       "  text-align: right;\n",
       "  white-space: pre-wrap;\n",
       "}\n",
       "</style>\n",
       "<small>shape: (4, 4)</small><table border=\"1\" class=\"dataframe\"><thead><tr><th>index</th><th>one</th><th>flag</th><th>foo</th></tr><tr><td>str</td><td>f64</td><td>bool</td><td>str</td></tr></thead><tbody><tr><td>&quot;a&quot;</td><td>1.0</td><td>false</td><td>&quot;bar&quot;</td></tr><tr><td>&quot;b&quot;</td><td>2.0</td><td>false</td><td>&quot;bar&quot;</td></tr><tr><td>&quot;c&quot;</td><td>3.0</td><td>true</td><td>&quot;bar&quot;</td></tr><tr><td>&quot;d&quot;</td><td>null</td><td>null</td><td>&quot;bar&quot;</td></tr></tbody></table></div>"
      ],
      "text/plain": [
       "shape: (4, 4)\n",
       "┌───────┬──────┬───────┬─────┐\n",
       "│ index ┆ one  ┆ flag  ┆ foo │\n",
       "│ ---   ┆ ---  ┆ ---   ┆ --- │\n",
       "│ str   ┆ f64  ┆ bool  ┆ str │\n",
       "╞═══════╪══════╪═══════╪═════╡\n",
       "│ a     ┆ 1.0  ┆ false ┆ bar │\n",
       "│ b     ┆ 2.0  ┆ false ┆ bar │\n",
       "│ c     ┆ 3.0  ┆ true  ┆ bar │\n",
       "│ d     ┆ null ┆ null  ┆ bar │\n",
       "└───────┴──────┴───────┴─────┘"
      ]
     },
     "execution_count": 381,
     "metadata": {},
     "output_type": "execute_result"
    }
   ],
   "source": [
    "df = df.with_columns(foo=pl.lit('bar'))\n",
    "df"
   ]
  },
  {
   "cell_type": "code",
   "execution_count": 382,
   "id": "62f699d2-1c7a-41fb-b0ff-09b76e66c51c",
   "metadata": {},
   "outputs": [
    {
     "data": {
      "text/html": [
       "<div><style>\n",
       ".dataframe > thead > tr,\n",
       ".dataframe > tbody > tr {\n",
       "  text-align: right;\n",
       "  white-space: pre-wrap;\n",
       "}\n",
       "</style>\n",
       "<small>shape: (4, 5)</small><table border=\"1\" class=\"dataframe\"><thead><tr><th>index</th><th>one</th><th>flag</th><th>foo</th><th>one_trunc</th></tr><tr><td>str</td><td>f64</td><td>bool</td><td>str</td><td>f64</td></tr></thead><tbody><tr><td>&quot;a&quot;</td><td>1.0</td><td>false</td><td>&quot;bar&quot;</td><td>1.0</td></tr><tr><td>&quot;b&quot;</td><td>2.0</td><td>false</td><td>&quot;bar&quot;</td><td>2.0</td></tr><tr><td>&quot;c&quot;</td><td>3.0</td><td>true</td><td>&quot;bar&quot;</td><td>null</td></tr><tr><td>&quot;d&quot;</td><td>null</td><td>null</td><td>&quot;bar&quot;</td><td>null</td></tr></tbody></table></div>"
      ],
      "text/plain": [
       "shape: (4, 5)\n",
       "┌───────┬──────┬───────┬─────┬───────────┐\n",
       "│ index ┆ one  ┆ flag  ┆ foo ┆ one_trunc │\n",
       "│ ---   ┆ ---  ┆ ---   ┆ --- ┆ ---       │\n",
       "│ str   ┆ f64  ┆ bool  ┆ str ┆ f64       │\n",
       "╞═══════╪══════╪═══════╪═════╪═══════════╡\n",
       "│ a     ┆ 1.0  ┆ false ┆ bar ┆ 1.0       │\n",
       "│ b     ┆ 2.0  ┆ false ┆ bar ┆ 2.0       │\n",
       "│ c     ┆ 3.0  ┆ true  ┆ bar ┆ null      │\n",
       "│ d     ┆ null ┆ null  ┆ bar ┆ null      │\n",
       "└───────┴──────┴───────┴─────┴───────────┘"
      ]
     },
     "execution_count": 382,
     "metadata": {},
     "output_type": "execute_result"
    }
   ],
   "source": [
    "# df[\"one_trunc\"] = df[\"one\"][:2]\n",
    "df = df.with_columns(\n",
    "    one_trunc=pl.col('one').slice(0, 2).append(pl.repeat(None, pl.len() - 2))\n",
    ")\n",
    "df"
   ]
  },
  {
   "cell_type": "code",
   "execution_count": 383,
   "id": "642cd941-0eeb-439c-ae66-aeb5a1ee3f6d",
   "metadata": {},
   "outputs": [
    {
     "data": {
      "text/html": [
       "<div><style>\n",
       ".dataframe > thead > tr,\n",
       ".dataframe > tbody > tr {\n",
       "  text-align: right;\n",
       "  white-space: pre-wrap;\n",
       "}\n",
       "</style>\n",
       "<small>shape: (4, 6)</small><table border=\"1\" class=\"dataframe\"><thead><tr><th>index</th><th>bar</th><th>one</th><th>flag</th><th>foo</th><th>one_trunc</th></tr><tr><td>str</td><td>f64</td><td>f64</td><td>bool</td><td>str</td><td>f64</td></tr></thead><tbody><tr><td>&quot;a&quot;</td><td>1.0</td><td>1.0</td><td>false</td><td>&quot;bar&quot;</td><td>1.0</td></tr><tr><td>&quot;b&quot;</td><td>2.0</td><td>2.0</td><td>false</td><td>&quot;bar&quot;</td><td>2.0</td></tr><tr><td>&quot;c&quot;</td><td>3.0</td><td>3.0</td><td>true</td><td>&quot;bar&quot;</td><td>null</td></tr><tr><td>&quot;d&quot;</td><td>null</td><td>null</td><td>null</td><td>&quot;bar&quot;</td><td>null</td></tr></tbody></table></div>"
      ],
      "text/plain": [
       "shape: (4, 6)\n",
       "┌───────┬──────┬──────┬───────┬─────┬───────────┐\n",
       "│ index ┆ bar  ┆ one  ┆ flag  ┆ foo ┆ one_trunc │\n",
       "│ ---   ┆ ---  ┆ ---  ┆ ---   ┆ --- ┆ ---       │\n",
       "│ str   ┆ f64  ┆ f64  ┆ bool  ┆ str ┆ f64       │\n",
       "╞═══════╪══════╪══════╪═══════╪═════╪═══════════╡\n",
       "│ a     ┆ 1.0  ┆ 1.0  ┆ false ┆ bar ┆ 1.0       │\n",
       "│ b     ┆ 2.0  ┆ 2.0  ┆ false ┆ bar ┆ 2.0       │\n",
       "│ c     ┆ 3.0  ┆ 3.0  ┆ true  ┆ bar ┆ null      │\n",
       "│ d     ┆ null ┆ null ┆ null  ┆ bar ┆ null      │\n",
       "└───────┴──────┴──────┴───────┴─────┴───────────┘"
      ]
     },
     "execution_count": 383,
     "metadata": {},
     "output_type": "execute_result"
    }
   ],
   "source": [
    "df.insert_column(1, df[\"one\"].rename('bar'))\n",
    "df"
   ]
  },
  {
   "cell_type": "markdown",
   "id": "0eb600bf-9d23-461d-9ff4-4a939fc9b753",
   "metadata": {},
   "source": [
    "### Assigning new columns in method chains"
   ]
  },
  {
   "cell_type": "code",
   "execution_count": 384,
   "id": "2daee1ec-23fd-4e8c-a52a-3941f143c0ce",
   "metadata": {},
   "outputs": [
    {
     "data": {
      "text/html": [
       "<div><style>\n",
       ".dataframe > thead > tr,\n",
       ".dataframe > tbody > tr {\n",
       "  text-align: right;\n",
       "  white-space: pre-wrap;\n",
       "}\n",
       "</style>\n",
       "<small>shape: (5, 5)</small><table border=\"1\" class=\"dataframe\"><thead><tr><th>SepalLength</th><th>SepalWidth</th><th>PetalLength</th><th>PetalWidth</th><th>Name</th></tr><tr><td>f64</td><td>f64</td><td>f64</td><td>f64</td><td>str</td></tr></thead><tbody><tr><td>5.1</td><td>3.5</td><td>1.4</td><td>0.2</td><td>&quot;Iris-setosa&quot;</td></tr><tr><td>4.9</td><td>3.0</td><td>1.4</td><td>0.2</td><td>&quot;Iris-setosa&quot;</td></tr><tr><td>4.7</td><td>3.2</td><td>1.3</td><td>0.2</td><td>&quot;Iris-setosa&quot;</td></tr><tr><td>4.6</td><td>3.1</td><td>1.5</td><td>0.2</td><td>&quot;Iris-setosa&quot;</td></tr><tr><td>5.0</td><td>3.6</td><td>1.4</td><td>0.2</td><td>&quot;Iris-setosa&quot;</td></tr></tbody></table></div>"
      ],
      "text/plain": [
       "shape: (5, 5)\n",
       "┌─────────────┬────────────┬─────────────┬────────────┬─────────────┐\n",
       "│ SepalLength ┆ SepalWidth ┆ PetalLength ┆ PetalWidth ┆ Name        │\n",
       "│ ---         ┆ ---        ┆ ---         ┆ ---        ┆ ---         │\n",
       "│ f64         ┆ f64        ┆ f64         ┆ f64        ┆ str         │\n",
       "╞═════════════╪════════════╪═════════════╪════════════╪═════════════╡\n",
       "│ 5.1         ┆ 3.5        ┆ 1.4         ┆ 0.2        ┆ Iris-setosa │\n",
       "│ 4.9         ┆ 3.0        ┆ 1.4         ┆ 0.2        ┆ Iris-setosa │\n",
       "│ 4.7         ┆ 3.2        ┆ 1.3         ┆ 0.2        ┆ Iris-setosa │\n",
       "│ 4.6         ┆ 3.1        ┆ 1.5         ┆ 0.2        ┆ Iris-setosa │\n",
       "│ 5.0         ┆ 3.6        ┆ 1.4         ┆ 0.2        ┆ Iris-setosa │\n",
       "└─────────────┴────────────┴─────────────┴────────────┴─────────────┘"
      ]
     },
     "execution_count": 384,
     "metadata": {},
     "output_type": "execute_result"
    }
   ],
   "source": [
    "iris = pl.read_csv('data/iris.data')\n",
    "iris.head()"
   ]
  },
  {
   "cell_type": "code",
   "execution_count": 385,
   "id": "3f1fb844-8c32-40f3-9082-e84a43d887ad",
   "metadata": {},
   "outputs": [
    {
     "data": {
      "text/html": [
       "<div><style>\n",
       ".dataframe > thead > tr,\n",
       ".dataframe > tbody > tr {\n",
       "  text-align: right;\n",
       "  white-space: pre-wrap;\n",
       "}\n",
       "</style>\n",
       "<small>shape: (5, 6)</small><table border=\"1\" class=\"dataframe\"><thead><tr><th>SepalLength</th><th>SepalWidth</th><th>PetalLength</th><th>PetalWidth</th><th>Name</th><th>sepal_ratio</th></tr><tr><td>f64</td><td>f64</td><td>f64</td><td>f64</td><td>str</td><td>f64</td></tr></thead><tbody><tr><td>5.1</td><td>3.5</td><td>1.4</td><td>0.2</td><td>&quot;Iris-setosa&quot;</td><td>0.686275</td></tr><tr><td>4.9</td><td>3.0</td><td>1.4</td><td>0.2</td><td>&quot;Iris-setosa&quot;</td><td>0.612245</td></tr><tr><td>4.7</td><td>3.2</td><td>1.3</td><td>0.2</td><td>&quot;Iris-setosa&quot;</td><td>0.680851</td></tr><tr><td>4.6</td><td>3.1</td><td>1.5</td><td>0.2</td><td>&quot;Iris-setosa&quot;</td><td>0.673913</td></tr><tr><td>5.0</td><td>3.6</td><td>1.4</td><td>0.2</td><td>&quot;Iris-setosa&quot;</td><td>0.72</td></tr></tbody></table></div>"
      ],
      "text/plain": [
       "shape: (5, 6)\n",
       "┌─────────────┬────────────┬─────────────┬────────────┬─────────────┬─────────────┐\n",
       "│ SepalLength ┆ SepalWidth ┆ PetalLength ┆ PetalWidth ┆ Name        ┆ sepal_ratio │\n",
       "│ ---         ┆ ---        ┆ ---         ┆ ---        ┆ ---         ┆ ---         │\n",
       "│ f64         ┆ f64        ┆ f64         ┆ f64        ┆ str         ┆ f64         │\n",
       "╞═════════════╪════════════╪═════════════╪════════════╪═════════════╪═════════════╡\n",
       "│ 5.1         ┆ 3.5        ┆ 1.4         ┆ 0.2        ┆ Iris-setosa ┆ 0.686275    │\n",
       "│ 4.9         ┆ 3.0        ┆ 1.4         ┆ 0.2        ┆ Iris-setosa ┆ 0.612245    │\n",
       "│ 4.7         ┆ 3.2        ┆ 1.3         ┆ 0.2        ┆ Iris-setosa ┆ 0.680851    │\n",
       "│ 4.6         ┆ 3.1        ┆ 1.5         ┆ 0.2        ┆ Iris-setosa ┆ 0.673913    │\n",
       "│ 5.0         ┆ 3.6        ┆ 1.4         ┆ 0.2        ┆ Iris-setosa ┆ 0.72        │\n",
       "└─────────────┴────────────┴─────────────┴────────────┴─────────────┴─────────────┘"
      ]
     },
     "execution_count": 385,
     "metadata": {},
     "output_type": "execute_result"
    }
   ],
   "source": [
    "iris.with_columns(\n",
    "    sepal_ratio=pl.col('SepalWidth') / pl.col('SepalLength')\n",
    ").head()"
   ]
  },
  {
   "cell_type": "code",
   "execution_count": 386,
   "id": "10a436d9-33ab-4d4a-8dda-7eb2b9ef2f24",
   "metadata": {},
   "outputs": [
    {
     "data": {
      "text/html": [
       "<script type=\"esms-options\">{\"shimMode\": true}</script><style>*[data-root-id],\n",
       "*[data-root-id] > * {\n",
       "  box-sizing: border-box;\n",
       "  font-family: var(--jp-ui-font-family);\n",
       "  font-size: var(--jp-ui-font-size1);\n",
       "  color: var(--vscode-editor-foreground, var(--jp-ui-font-color1));\n",
       "}\n",
       "\n",
       "/* Override VSCode background color */\n",
       ".cell-output-ipywidget-background:has(\n",
       "    > .cell-output-ipywidget-background > .lm-Widget > *[data-root-id]\n",
       "  ),\n",
       ".cell-output-ipywidget-background:has(> .lm-Widget > *[data-root-id]) {\n",
       "  background-color: transparent !important;\n",
       "}\n",
       "</style>"
      ]
     },
     "metadata": {},
     "output_type": "display_data"
    },
    {
     "data": {
      "application/javascript": [
       "(function(root) {\n",
       "  function now() {\n",
       "    return new Date();\n",
       "  }\n",
       "\n",
       "  const force = true;\n",
       "  const py_version = '3.6.2'.replace('rc', '-rc.').replace('.dev', '-dev.');\n",
       "  const reloading = false;\n",
       "  const Bokeh = root.Bokeh;\n",
       "\n",
       "  // Set a timeout for this load but only if we are not already initializing\n",
       "  if (typeof (root._bokeh_timeout) === \"undefined\" || (force || !root._bokeh_is_initializing)) {\n",
       "    root._bokeh_timeout = Date.now() + 5000;\n",
       "    root._bokeh_failed_load = false;\n",
       "  }\n",
       "\n",
       "  function run_callbacks() {\n",
       "    try {\n",
       "      root._bokeh_onload_callbacks.forEach(function(callback) {\n",
       "        if (callback != null)\n",
       "          callback();\n",
       "      });\n",
       "    } finally {\n",
       "      delete root._bokeh_onload_callbacks;\n",
       "    }\n",
       "    console.debug(\"Bokeh: all callbacks have finished\");\n",
       "  }\n",
       "\n",
       "  function load_libs(css_urls, js_urls, js_modules, js_exports, callback) {\n",
       "    if (css_urls == null) css_urls = [];\n",
       "    if (js_urls == null) js_urls = [];\n",
       "    if (js_modules == null) js_modules = [];\n",
       "    if (js_exports == null) js_exports = {};\n",
       "\n",
       "    root._bokeh_onload_callbacks.push(callback);\n",
       "\n",
       "    if (root._bokeh_is_loading > 0) {\n",
       "      // Don't load bokeh if it is still initializing\n",
       "      console.debug(\"Bokeh: BokehJS is being loaded, scheduling callback at\", now());\n",
       "      return null;\n",
       "    } else if (js_urls.length === 0 && js_modules.length === 0 && Object.keys(js_exports).length === 0) {\n",
       "      // There is nothing to load\n",
       "      run_callbacks();\n",
       "      return null;\n",
       "    }\n",
       "\n",
       "    function on_load() {\n",
       "      root._bokeh_is_loading--;\n",
       "      if (root._bokeh_is_loading === 0) {\n",
       "        console.debug(\"Bokeh: all BokehJS libraries/stylesheets loaded\");\n",
       "        run_callbacks()\n",
       "      }\n",
       "    }\n",
       "    window._bokeh_on_load = on_load\n",
       "\n",
       "    function on_error(e) {\n",
       "      const src_el = e.srcElement\n",
       "      console.error(\"failed to load \" + (src_el.href || src_el.src));\n",
       "    }\n",
       "\n",
       "    const skip = [];\n",
       "    if (window.requirejs) {\n",
       "      window.requirejs.config({'packages': {}, 'paths': {}, 'shim': {}});\n",
       "      root._bokeh_is_loading = css_urls.length + 0;\n",
       "    } else {\n",
       "      root._bokeh_is_loading = css_urls.length + js_urls.length + js_modules.length + Object.keys(js_exports).length;\n",
       "    }\n",
       "\n",
       "    const existing_stylesheets = []\n",
       "    const links = document.getElementsByTagName('link')\n",
       "    for (let i = 0; i < links.length; i++) {\n",
       "      const link = links[i]\n",
       "      if (link.href != null) {\n",
       "        existing_stylesheets.push(link.href)\n",
       "      }\n",
       "    }\n",
       "    for (let i = 0; i < css_urls.length; i++) {\n",
       "      const url = css_urls[i];\n",
       "      const escaped = encodeURI(url)\n",
       "      if (existing_stylesheets.indexOf(escaped) !== -1) {\n",
       "        on_load()\n",
       "        continue;\n",
       "      }\n",
       "      const element = document.createElement(\"link\");\n",
       "      element.onload = on_load;\n",
       "      element.onerror = on_error;\n",
       "      element.rel = \"stylesheet\";\n",
       "      element.type = \"text/css\";\n",
       "      element.href = url;\n",
       "      console.debug(\"Bokeh: injecting link tag for BokehJS stylesheet: \", url);\n",
       "      document.body.appendChild(element);\n",
       "    }    var existing_scripts = []\n",
       "    const scripts = document.getElementsByTagName('script')\n",
       "    for (let i = 0; i < scripts.length; i++) {\n",
       "      var script = scripts[i]\n",
       "      if (script.src != null) {\n",
       "        existing_scripts.push(script.src)\n",
       "      }\n",
       "    }\n",
       "    for (let i = 0; i < js_urls.length; i++) {\n",
       "      const url = js_urls[i];\n",
       "      const escaped = encodeURI(url)\n",
       "      if (skip.indexOf(escaped) !== -1 || existing_scripts.indexOf(escaped) !== -1) {\n",
       "        if (!window.requirejs) {\n",
       "          on_load();\n",
       "        }\n",
       "        continue;\n",
       "      }\n",
       "      const element = document.createElement('script');\n",
       "      element.onload = on_load;\n",
       "      element.onerror = on_error;\n",
       "      element.async = false;\n",
       "      element.src = url;\n",
       "      console.debug(\"Bokeh: injecting script tag for BokehJS library: \", url);\n",
       "      document.head.appendChild(element);\n",
       "    }\n",
       "    for (let i = 0; i < js_modules.length; i++) {\n",
       "      const url = js_modules[i];\n",
       "      const escaped = encodeURI(url)\n",
       "      if (skip.indexOf(escaped) !== -1 || existing_scripts.indexOf(escaped) !== -1) {\n",
       "        if (!window.requirejs) {\n",
       "          on_load();\n",
       "        }\n",
       "        continue;\n",
       "      }\n",
       "      var element = document.createElement('script');\n",
       "      element.onload = on_load;\n",
       "      element.onerror = on_error;\n",
       "      element.async = false;\n",
       "      element.src = url;\n",
       "      element.type = \"module\";\n",
       "      console.debug(\"Bokeh: injecting script tag for BokehJS library: \", url);\n",
       "      document.head.appendChild(element);\n",
       "    }\n",
       "    for (const name in js_exports) {\n",
       "      const url = js_exports[name];\n",
       "      const escaped = encodeURI(url)\n",
       "      if (skip.indexOf(escaped) >= 0 || root[name] != null) {\n",
       "        if (!window.requirejs) {\n",
       "          on_load();\n",
       "        }\n",
       "        continue;\n",
       "      }\n",
       "      var element = document.createElement('script');\n",
       "      element.onerror = on_error;\n",
       "      element.async = false;\n",
       "      element.type = \"module\";\n",
       "      console.debug(\"Bokeh: injecting script tag for BokehJS library: \", url);\n",
       "      element.textContent = `\n",
       "      import ${name} from \"${url}\"\n",
       "      window.${name} = ${name}\n",
       "      window._bokeh_on_load()\n",
       "      `\n",
       "      document.head.appendChild(element);\n",
       "    }\n",
       "    if (!js_urls.length && !js_modules.length) {\n",
       "      on_load()\n",
       "    }\n",
       "  };\n",
       "\n",
       "  function inject_raw_css(css) {\n",
       "    const element = document.createElement(\"style\");\n",
       "    element.appendChild(document.createTextNode(css));\n",
       "    document.body.appendChild(element);\n",
       "  }\n",
       "\n",
       "  const js_urls = [\"https://cdn.holoviz.org/panel/1.5.4/dist/bundled/reactiveesm/es-module-shims@^1.10.0/dist/es-module-shims.min.js\", \"https://cdn.bokeh.org/bokeh/release/bokeh-3.6.2.min.js\", \"https://cdn.bokeh.org/bokeh/release/bokeh-gl-3.6.2.min.js\", \"https://cdn.bokeh.org/bokeh/release/bokeh-widgets-3.6.2.min.js\", \"https://cdn.bokeh.org/bokeh/release/bokeh-tables-3.6.2.min.js\", \"https://cdn.holoviz.org/panel/1.5.4/dist/panel.min.js\"];\n",
       "  const js_modules = [];\n",
       "  const js_exports = {};\n",
       "  const css_urls = [];\n",
       "  const inline_js = [    function(Bokeh) {\n",
       "      Bokeh.set_log_level(\"info\");\n",
       "    },\n",
       "function(Bokeh) {} // ensure no trailing comma for IE\n",
       "  ];\n",
       "\n",
       "  function run_inline_js() {\n",
       "    if ((root.Bokeh !== undefined) || (force === true)) {\n",
       "      for (let i = 0; i < inline_js.length; i++) {\n",
       "        try {\n",
       "          inline_js[i].call(root, root.Bokeh);\n",
       "        } catch(e) {\n",
       "          if (!reloading) {\n",
       "            throw e;\n",
       "          }\n",
       "        }\n",
       "      }\n",
       "      // Cache old bokeh versions\n",
       "      if (Bokeh != undefined && !reloading) {\n",
       "        var NewBokeh = root.Bokeh;\n",
       "        if (Bokeh.versions === undefined) {\n",
       "          Bokeh.versions = new Map();\n",
       "        }\n",
       "        if (NewBokeh.version !== Bokeh.version) {\n",
       "          Bokeh.versions.set(NewBokeh.version, NewBokeh)\n",
       "        }\n",
       "        root.Bokeh = Bokeh;\n",
       "      }\n",
       "    } else if (Date.now() < root._bokeh_timeout) {\n",
       "      setTimeout(run_inline_js, 100);\n",
       "    } else if (!root._bokeh_failed_load) {\n",
       "      console.log(\"Bokeh: BokehJS failed to load within specified timeout.\");\n",
       "      root._bokeh_failed_load = true;\n",
       "    }\n",
       "    root._bokeh_is_initializing = false\n",
       "  }\n",
       "\n",
       "  function load_or_wait() {\n",
       "    // Implement a backoff loop that tries to ensure we do not load multiple\n",
       "    // versions of Bokeh and its dependencies at the same time.\n",
       "    // In recent versions we use the root._bokeh_is_initializing flag\n",
       "    // to determine whether there is an ongoing attempt to initialize\n",
       "    // bokeh, however for backward compatibility we also try to ensure\n",
       "    // that we do not start loading a newer (Panel>=1.0 and Bokeh>3) version\n",
       "    // before older versions are fully initialized.\n",
       "    if (root._bokeh_is_initializing && Date.now() > root._bokeh_timeout) {\n",
       "      // If the timeout and bokeh was not successfully loaded we reset\n",
       "      // everything and try loading again\n",
       "      root._bokeh_timeout = Date.now() + 5000;\n",
       "      root._bokeh_is_initializing = false;\n",
       "      root._bokeh_onload_callbacks = undefined;\n",
       "      root._bokeh_is_loading = 0\n",
       "      console.log(\"Bokeh: BokehJS was loaded multiple times but one version failed to initialize.\");\n",
       "      load_or_wait();\n",
       "    } else if (root._bokeh_is_initializing || (typeof root._bokeh_is_initializing === \"undefined\" && root._bokeh_onload_callbacks !== undefined)) {\n",
       "      setTimeout(load_or_wait, 100);\n",
       "    } else {\n",
       "      root._bokeh_is_initializing = true\n",
       "      root._bokeh_onload_callbacks = []\n",
       "      const bokeh_loaded = root.Bokeh != null && (root.Bokeh.version === py_version || (root.Bokeh.versions !== undefined && root.Bokeh.versions.has(py_version)));\n",
       "      if (!reloading && !bokeh_loaded) {\n",
       "        if (root.Bokeh) {\n",
       "          root.Bokeh = undefined;\n",
       "        }\n",
       "        console.debug(\"Bokeh: BokehJS not loaded, scheduling load and callback at\", now());\n",
       "      }\n",
       "      load_libs(css_urls, js_urls, js_modules, js_exports, function() {\n",
       "        console.debug(\"Bokeh: BokehJS plotting callback run at\", now());\n",
       "        run_inline_js();\n",
       "      });\n",
       "    }\n",
       "  }\n",
       "  // Give older versions of the autoload script a head-start to ensure\n",
       "  // they initialize before we start loading newer version.\n",
       "  setTimeout(load_or_wait, 100)\n",
       "}(window));"
      ],
      "application/vnd.holoviews_load.v0+json": "(function(root) {\n  function now() {\n    return new Date();\n  }\n\n  const force = true;\n  const py_version = '3.6.2'.replace('rc', '-rc.').replace('.dev', '-dev.');\n  const reloading = false;\n  const Bokeh = root.Bokeh;\n\n  // Set a timeout for this load but only if we are not already initializing\n  if (typeof (root._bokeh_timeout) === \"undefined\" || (force || !root._bokeh_is_initializing)) {\n    root._bokeh_timeout = Date.now() + 5000;\n    root._bokeh_failed_load = false;\n  }\n\n  function run_callbacks() {\n    try {\n      root._bokeh_onload_callbacks.forEach(function(callback) {\n        if (callback != null)\n          callback();\n      });\n    } finally {\n      delete root._bokeh_onload_callbacks;\n    }\n    console.debug(\"Bokeh: all callbacks have finished\");\n  }\n\n  function load_libs(css_urls, js_urls, js_modules, js_exports, callback) {\n    if (css_urls == null) css_urls = [];\n    if (js_urls == null) js_urls = [];\n    if (js_modules == null) js_modules = [];\n    if (js_exports == null) js_exports = {};\n\n    root._bokeh_onload_callbacks.push(callback);\n\n    if (root._bokeh_is_loading > 0) {\n      // Don't load bokeh if it is still initializing\n      console.debug(\"Bokeh: BokehJS is being loaded, scheduling callback at\", now());\n      return null;\n    } else if (js_urls.length === 0 && js_modules.length === 0 && Object.keys(js_exports).length === 0) {\n      // There is nothing to load\n      run_callbacks();\n      return null;\n    }\n\n    function on_load() {\n      root._bokeh_is_loading--;\n      if (root._bokeh_is_loading === 0) {\n        console.debug(\"Bokeh: all BokehJS libraries/stylesheets loaded\");\n        run_callbacks()\n      }\n    }\n    window._bokeh_on_load = on_load\n\n    function on_error(e) {\n      const src_el = e.srcElement\n      console.error(\"failed to load \" + (src_el.href || src_el.src));\n    }\n\n    const skip = [];\n    if (window.requirejs) {\n      window.requirejs.config({'packages': {}, 'paths': {}, 'shim': {}});\n      root._bokeh_is_loading = css_urls.length + 0;\n    } else {\n      root._bokeh_is_loading = css_urls.length + js_urls.length + js_modules.length + Object.keys(js_exports).length;\n    }\n\n    const existing_stylesheets = []\n    const links = document.getElementsByTagName('link')\n    for (let i = 0; i < links.length; i++) {\n      const link = links[i]\n      if (link.href != null) {\n        existing_stylesheets.push(link.href)\n      }\n    }\n    for (let i = 0; i < css_urls.length; i++) {\n      const url = css_urls[i];\n      const escaped = encodeURI(url)\n      if (existing_stylesheets.indexOf(escaped) !== -1) {\n        on_load()\n        continue;\n      }\n      const element = document.createElement(\"link\");\n      element.onload = on_load;\n      element.onerror = on_error;\n      element.rel = \"stylesheet\";\n      element.type = \"text/css\";\n      element.href = url;\n      console.debug(\"Bokeh: injecting link tag for BokehJS stylesheet: \", url);\n      document.body.appendChild(element);\n    }    var existing_scripts = []\n    const scripts = document.getElementsByTagName('script')\n    for (let i = 0; i < scripts.length; i++) {\n      var script = scripts[i]\n      if (script.src != null) {\n        existing_scripts.push(script.src)\n      }\n    }\n    for (let i = 0; i < js_urls.length; i++) {\n      const url = js_urls[i];\n      const escaped = encodeURI(url)\n      if (skip.indexOf(escaped) !== -1 || existing_scripts.indexOf(escaped) !== -1) {\n        if (!window.requirejs) {\n          on_load();\n        }\n        continue;\n      }\n      const element = document.createElement('script');\n      element.onload = on_load;\n      element.onerror = on_error;\n      element.async = false;\n      element.src = url;\n      console.debug(\"Bokeh: injecting script tag for BokehJS library: \", url);\n      document.head.appendChild(element);\n    }\n    for (let i = 0; i < js_modules.length; i++) {\n      const url = js_modules[i];\n      const escaped = encodeURI(url)\n      if (skip.indexOf(escaped) !== -1 || existing_scripts.indexOf(escaped) !== -1) {\n        if (!window.requirejs) {\n          on_load();\n        }\n        continue;\n      }\n      var element = document.createElement('script');\n      element.onload = on_load;\n      element.onerror = on_error;\n      element.async = false;\n      element.src = url;\n      element.type = \"module\";\n      console.debug(\"Bokeh: injecting script tag for BokehJS library: \", url);\n      document.head.appendChild(element);\n    }\n    for (const name in js_exports) {\n      const url = js_exports[name];\n      const escaped = encodeURI(url)\n      if (skip.indexOf(escaped) >= 0 || root[name] != null) {\n        if (!window.requirejs) {\n          on_load();\n        }\n        continue;\n      }\n      var element = document.createElement('script');\n      element.onerror = on_error;\n      element.async = false;\n      element.type = \"module\";\n      console.debug(\"Bokeh: injecting script tag for BokehJS library: \", url);\n      element.textContent = `\n      import ${name} from \"${url}\"\n      window.${name} = ${name}\n      window._bokeh_on_load()\n      `\n      document.head.appendChild(element);\n    }\n    if (!js_urls.length && !js_modules.length) {\n      on_load()\n    }\n  };\n\n  function inject_raw_css(css) {\n    const element = document.createElement(\"style\");\n    element.appendChild(document.createTextNode(css));\n    document.body.appendChild(element);\n  }\n\n  const js_urls = [\"https://cdn.holoviz.org/panel/1.5.4/dist/bundled/reactiveesm/es-module-shims@^1.10.0/dist/es-module-shims.min.js\", \"https://cdn.bokeh.org/bokeh/release/bokeh-3.6.2.min.js\", \"https://cdn.bokeh.org/bokeh/release/bokeh-gl-3.6.2.min.js\", \"https://cdn.bokeh.org/bokeh/release/bokeh-widgets-3.6.2.min.js\", \"https://cdn.bokeh.org/bokeh/release/bokeh-tables-3.6.2.min.js\", \"https://cdn.holoviz.org/panel/1.5.4/dist/panel.min.js\"];\n  const js_modules = [];\n  const js_exports = {};\n  const css_urls = [];\n  const inline_js = [    function(Bokeh) {\n      Bokeh.set_log_level(\"info\");\n    },\nfunction(Bokeh) {} // ensure no trailing comma for IE\n  ];\n\n  function run_inline_js() {\n    if ((root.Bokeh !== undefined) || (force === true)) {\n      for (let i = 0; i < inline_js.length; i++) {\n        try {\n          inline_js[i].call(root, root.Bokeh);\n        } catch(e) {\n          if (!reloading) {\n            throw e;\n          }\n        }\n      }\n      // Cache old bokeh versions\n      if (Bokeh != undefined && !reloading) {\n        var NewBokeh = root.Bokeh;\n        if (Bokeh.versions === undefined) {\n          Bokeh.versions = new Map();\n        }\n        if (NewBokeh.version !== Bokeh.version) {\n          Bokeh.versions.set(NewBokeh.version, NewBokeh)\n        }\n        root.Bokeh = Bokeh;\n      }\n    } else if (Date.now() < root._bokeh_timeout) {\n      setTimeout(run_inline_js, 100);\n    } else if (!root._bokeh_failed_load) {\n      console.log(\"Bokeh: BokehJS failed to load within specified timeout.\");\n      root._bokeh_failed_load = true;\n    }\n    root._bokeh_is_initializing = false\n  }\n\n  function load_or_wait() {\n    // Implement a backoff loop that tries to ensure we do not load multiple\n    // versions of Bokeh and its dependencies at the same time.\n    // In recent versions we use the root._bokeh_is_initializing flag\n    // to determine whether there is an ongoing attempt to initialize\n    // bokeh, however for backward compatibility we also try to ensure\n    // that we do not start loading a newer (Panel>=1.0 and Bokeh>3) version\n    // before older versions are fully initialized.\n    if (root._bokeh_is_initializing && Date.now() > root._bokeh_timeout) {\n      // If the timeout and bokeh was not successfully loaded we reset\n      // everything and try loading again\n      root._bokeh_timeout = Date.now() + 5000;\n      root._bokeh_is_initializing = false;\n      root._bokeh_onload_callbacks = undefined;\n      root._bokeh_is_loading = 0\n      console.log(\"Bokeh: BokehJS was loaded multiple times but one version failed to initialize.\");\n      load_or_wait();\n    } else if (root._bokeh_is_initializing || (typeof root._bokeh_is_initializing === \"undefined\" && root._bokeh_onload_callbacks !== undefined)) {\n      setTimeout(load_or_wait, 100);\n    } else {\n      root._bokeh_is_initializing = true\n      root._bokeh_onload_callbacks = []\n      const bokeh_loaded = root.Bokeh != null && (root.Bokeh.version === py_version || (root.Bokeh.versions !== undefined && root.Bokeh.versions.has(py_version)));\n      if (!reloading && !bokeh_loaded) {\n        if (root.Bokeh) {\n          root.Bokeh = undefined;\n        }\n        console.debug(\"Bokeh: BokehJS not loaded, scheduling load and callback at\", now());\n      }\n      load_libs(css_urls, js_urls, js_modules, js_exports, function() {\n        console.debug(\"Bokeh: BokehJS plotting callback run at\", now());\n        run_inline_js();\n      });\n    }\n  }\n  // Give older versions of the autoload script a head-start to ensure\n  // they initialize before we start loading newer version.\n  setTimeout(load_or_wait, 100)\n}(window));"
     },
     "metadata": {},
     "output_type": "display_data"
    },
    {
     "data": {
      "application/javascript": [
       "\n",
       "if ((window.PyViz === undefined) || (window.PyViz instanceof HTMLElement)) {\n",
       "  window.PyViz = {comms: {}, comm_status:{}, kernels:{}, receivers: {}, plot_index: []}\n",
       "}\n",
       "\n",
       "\n",
       "    function JupyterCommManager() {\n",
       "    }\n",
       "\n",
       "    JupyterCommManager.prototype.register_target = function(plot_id, comm_id, msg_handler) {\n",
       "      if (window.comm_manager || ((window.Jupyter !== undefined) && (Jupyter.notebook.kernel != null))) {\n",
       "        var comm_manager = window.comm_manager || Jupyter.notebook.kernel.comm_manager;\n",
       "        comm_manager.register_target(comm_id, function(comm) {\n",
       "          comm.on_msg(msg_handler);\n",
       "        });\n",
       "      } else if ((plot_id in window.PyViz.kernels) && (window.PyViz.kernels[plot_id])) {\n",
       "        window.PyViz.kernels[plot_id].registerCommTarget(comm_id, function(comm) {\n",
       "          comm.onMsg = msg_handler;\n",
       "        });\n",
       "      } else if (typeof google != 'undefined' && google.colab.kernel != null) {\n",
       "        google.colab.kernel.comms.registerTarget(comm_id, (comm) => {\n",
       "          var messages = comm.messages[Symbol.asyncIterator]();\n",
       "          function processIteratorResult(result) {\n",
       "            var message = result.value;\n",
       "            console.log(message)\n",
       "            var content = {data: message.data, comm_id};\n",
       "            var buffers = []\n",
       "            for (var buffer of message.buffers || []) {\n",
       "              buffers.push(new DataView(buffer))\n",
       "            }\n",
       "            var metadata = message.metadata || {};\n",
       "            var msg = {content, buffers, metadata}\n",
       "            msg_handler(msg);\n",
       "            return messages.next().then(processIteratorResult);\n",
       "          }\n",
       "          return messages.next().then(processIteratorResult);\n",
       "        })\n",
       "      }\n",
       "    }\n",
       "\n",
       "    JupyterCommManager.prototype.get_client_comm = function(plot_id, comm_id, msg_handler) {\n",
       "      if (comm_id in window.PyViz.comms) {\n",
       "        return window.PyViz.comms[comm_id];\n",
       "      } else if (window.comm_manager || ((window.Jupyter !== undefined) && (Jupyter.notebook.kernel != null))) {\n",
       "        var comm_manager = window.comm_manager || Jupyter.notebook.kernel.comm_manager;\n",
       "        var comm = comm_manager.new_comm(comm_id, {}, {}, {}, comm_id);\n",
       "        if (msg_handler) {\n",
       "          comm.on_msg(msg_handler);\n",
       "        }\n",
       "      } else if ((plot_id in window.PyViz.kernels) && (window.PyViz.kernels[plot_id])) {\n",
       "        var comm = window.PyViz.kernels[plot_id].connectToComm(comm_id);\n",
       "        comm.open();\n",
       "        if (msg_handler) {\n",
       "          comm.onMsg = msg_handler;\n",
       "        }\n",
       "      } else if (typeof google != 'undefined' && google.colab.kernel != null) {\n",
       "        var comm_promise = google.colab.kernel.comms.open(comm_id)\n",
       "        comm_promise.then((comm) => {\n",
       "          window.PyViz.comms[comm_id] = comm;\n",
       "          if (msg_handler) {\n",
       "            var messages = comm.messages[Symbol.asyncIterator]();\n",
       "            function processIteratorResult(result) {\n",
       "              var message = result.value;\n",
       "              var content = {data: message.data};\n",
       "              var metadata = message.metadata || {comm_id};\n",
       "              var msg = {content, metadata}\n",
       "              msg_handler(msg);\n",
       "              return messages.next().then(processIteratorResult);\n",
       "            }\n",
       "            return messages.next().then(processIteratorResult);\n",
       "          }\n",
       "        }) \n",
       "        var sendClosure = (data, metadata, buffers, disposeOnDone) => {\n",
       "          return comm_promise.then((comm) => {\n",
       "            comm.send(data, metadata, buffers, disposeOnDone);\n",
       "          });\n",
       "        };\n",
       "        var comm = {\n",
       "          send: sendClosure\n",
       "        };\n",
       "      }\n",
       "      window.PyViz.comms[comm_id] = comm;\n",
       "      return comm;\n",
       "    }\n",
       "    window.PyViz.comm_manager = new JupyterCommManager();\n",
       "    \n",
       "\n",
       "\n",
       "var JS_MIME_TYPE = 'application/javascript';\n",
       "var HTML_MIME_TYPE = 'text/html';\n",
       "var EXEC_MIME_TYPE = 'application/vnd.holoviews_exec.v0+json';\n",
       "var CLASS_NAME = 'output';\n",
       "\n",
       "/**\n",
       " * Render data to the DOM node\n",
       " */\n",
       "function render(props, node) {\n",
       "  var div = document.createElement(\"div\");\n",
       "  var script = document.createElement(\"script\");\n",
       "  node.appendChild(div);\n",
       "  node.appendChild(script);\n",
       "}\n",
       "\n",
       "/**\n",
       " * Handle when a new output is added\n",
       " */\n",
       "function handle_add_output(event, handle) {\n",
       "  var output_area = handle.output_area;\n",
       "  var output = handle.output;\n",
       "  if ((output.data == undefined) || (!output.data.hasOwnProperty(EXEC_MIME_TYPE))) {\n",
       "    return\n",
       "  }\n",
       "  var id = output.metadata[EXEC_MIME_TYPE][\"id\"];\n",
       "  var toinsert = output_area.element.find(\".\" + CLASS_NAME.split(' ')[0]);\n",
       "  if (id !== undefined) {\n",
       "    var nchildren = toinsert.length;\n",
       "    var html_node = toinsert[nchildren-1].children[0];\n",
       "    html_node.innerHTML = output.data[HTML_MIME_TYPE];\n",
       "    var scripts = [];\n",
       "    var nodelist = html_node.querySelectorAll(\"script\");\n",
       "    for (var i in nodelist) {\n",
       "      if (nodelist.hasOwnProperty(i)) {\n",
       "        scripts.push(nodelist[i])\n",
       "      }\n",
       "    }\n",
       "\n",
       "    scripts.forEach( function (oldScript) {\n",
       "      var newScript = document.createElement(\"script\");\n",
       "      var attrs = [];\n",
       "      var nodemap = oldScript.attributes;\n",
       "      for (var j in nodemap) {\n",
       "        if (nodemap.hasOwnProperty(j)) {\n",
       "          attrs.push(nodemap[j])\n",
       "        }\n",
       "      }\n",
       "      attrs.forEach(function(attr) { newScript.setAttribute(attr.name, attr.value) });\n",
       "      newScript.appendChild(document.createTextNode(oldScript.innerHTML));\n",
       "      oldScript.parentNode.replaceChild(newScript, oldScript);\n",
       "    });\n",
       "    if (JS_MIME_TYPE in output.data) {\n",
       "      toinsert[nchildren-1].children[1].textContent = output.data[JS_MIME_TYPE];\n",
       "    }\n",
       "    output_area._hv_plot_id = id;\n",
       "    if ((window.Bokeh !== undefined) && (id in Bokeh.index)) {\n",
       "      window.PyViz.plot_index[id] = Bokeh.index[id];\n",
       "    } else {\n",
       "      window.PyViz.plot_index[id] = null;\n",
       "    }\n",
       "  } else if (output.metadata[EXEC_MIME_TYPE][\"server_id\"] !== undefined) {\n",
       "    var bk_div = document.createElement(\"div\");\n",
       "    bk_div.innerHTML = output.data[HTML_MIME_TYPE];\n",
       "    var script_attrs = bk_div.children[0].attributes;\n",
       "    for (var i = 0; i < script_attrs.length; i++) {\n",
       "      toinsert[toinsert.length - 1].childNodes[1].setAttribute(script_attrs[i].name, script_attrs[i].value);\n",
       "    }\n",
       "    // store reference to server id on output_area\n",
       "    output_area._bokeh_server_id = output.metadata[EXEC_MIME_TYPE][\"server_id\"];\n",
       "  }\n",
       "}\n",
       "\n",
       "/**\n",
       " * Handle when an output is cleared or removed\n",
       " */\n",
       "function handle_clear_output(event, handle) {\n",
       "  var id = handle.cell.output_area._hv_plot_id;\n",
       "  var server_id = handle.cell.output_area._bokeh_server_id;\n",
       "  if (((id === undefined) || !(id in PyViz.plot_index)) && (server_id !== undefined)) { return; }\n",
       "  var comm = window.PyViz.comm_manager.get_client_comm(\"hv-extension-comm\", \"hv-extension-comm\", function () {});\n",
       "  if (server_id !== null) {\n",
       "    comm.send({event_type: 'server_delete', 'id': server_id});\n",
       "    return;\n",
       "  } else if (comm !== null) {\n",
       "    comm.send({event_type: 'delete', 'id': id});\n",
       "  }\n",
       "  delete PyViz.plot_index[id];\n",
       "  if ((window.Bokeh !== undefined) & (id in window.Bokeh.index)) {\n",
       "    var doc = window.Bokeh.index[id].model.document\n",
       "    doc.clear();\n",
       "    const i = window.Bokeh.documents.indexOf(doc);\n",
       "    if (i > -1) {\n",
       "      window.Bokeh.documents.splice(i, 1);\n",
       "    }\n",
       "  }\n",
       "}\n",
       "\n",
       "/**\n",
       " * Handle kernel restart event\n",
       " */\n",
       "function handle_kernel_cleanup(event, handle) {\n",
       "  delete PyViz.comms[\"hv-extension-comm\"];\n",
       "  window.PyViz.plot_index = {}\n",
       "}\n",
       "\n",
       "/**\n",
       " * Handle update_display_data messages\n",
       " */\n",
       "function handle_update_output(event, handle) {\n",
       "  handle_clear_output(event, {cell: {output_area: handle.output_area}})\n",
       "  handle_add_output(event, handle)\n",
       "}\n",
       "\n",
       "function register_renderer(events, OutputArea) {\n",
       "  function append_mime(data, metadata, element) {\n",
       "    // create a DOM node to render to\n",
       "    var toinsert = this.create_output_subarea(\n",
       "    metadata,\n",
       "    CLASS_NAME,\n",
       "    EXEC_MIME_TYPE\n",
       "    );\n",
       "    this.keyboard_manager.register_events(toinsert);\n",
       "    // Render to node\n",
       "    var props = {data: data, metadata: metadata[EXEC_MIME_TYPE]};\n",
       "    render(props, toinsert[0]);\n",
       "    element.append(toinsert);\n",
       "    return toinsert\n",
       "  }\n",
       "\n",
       "  events.on('output_added.OutputArea', handle_add_output);\n",
       "  events.on('output_updated.OutputArea', handle_update_output);\n",
       "  events.on('clear_output.CodeCell', handle_clear_output);\n",
       "  events.on('delete.Cell', handle_clear_output);\n",
       "  events.on('kernel_ready.Kernel', handle_kernel_cleanup);\n",
       "\n",
       "  OutputArea.prototype.register_mime_type(EXEC_MIME_TYPE, append_mime, {\n",
       "    safe: true,\n",
       "    index: 0\n",
       "  });\n",
       "}\n",
       "\n",
       "if (window.Jupyter !== undefined) {\n",
       "  try {\n",
       "    var events = require('base/js/events');\n",
       "    var OutputArea = require('notebook/js/outputarea').OutputArea;\n",
       "    if (OutputArea.prototype.mime_types().indexOf(EXEC_MIME_TYPE) == -1) {\n",
       "      register_renderer(events, OutputArea);\n",
       "    }\n",
       "  } catch(err) {\n",
       "  }\n",
       "}\n"
      ],
      "application/vnd.holoviews_load.v0+json": "\nif ((window.PyViz === undefined) || (window.PyViz instanceof HTMLElement)) {\n  window.PyViz = {comms: {}, comm_status:{}, kernels:{}, receivers: {}, plot_index: []}\n}\n\n\n    function JupyterCommManager() {\n    }\n\n    JupyterCommManager.prototype.register_target = function(plot_id, comm_id, msg_handler) {\n      if (window.comm_manager || ((window.Jupyter !== undefined) && (Jupyter.notebook.kernel != null))) {\n        var comm_manager = window.comm_manager || Jupyter.notebook.kernel.comm_manager;\n        comm_manager.register_target(comm_id, function(comm) {\n          comm.on_msg(msg_handler);\n        });\n      } else if ((plot_id in window.PyViz.kernels) && (window.PyViz.kernels[plot_id])) {\n        window.PyViz.kernels[plot_id].registerCommTarget(comm_id, function(comm) {\n          comm.onMsg = msg_handler;\n        });\n      } else if (typeof google != 'undefined' && google.colab.kernel != null) {\n        google.colab.kernel.comms.registerTarget(comm_id, (comm) => {\n          var messages = comm.messages[Symbol.asyncIterator]();\n          function processIteratorResult(result) {\n            var message = result.value;\n            console.log(message)\n            var content = {data: message.data, comm_id};\n            var buffers = []\n            for (var buffer of message.buffers || []) {\n              buffers.push(new DataView(buffer))\n            }\n            var metadata = message.metadata || {};\n            var msg = {content, buffers, metadata}\n            msg_handler(msg);\n            return messages.next().then(processIteratorResult);\n          }\n          return messages.next().then(processIteratorResult);\n        })\n      }\n    }\n\n    JupyterCommManager.prototype.get_client_comm = function(plot_id, comm_id, msg_handler) {\n      if (comm_id in window.PyViz.comms) {\n        return window.PyViz.comms[comm_id];\n      } else if (window.comm_manager || ((window.Jupyter !== undefined) && (Jupyter.notebook.kernel != null))) {\n        var comm_manager = window.comm_manager || Jupyter.notebook.kernel.comm_manager;\n        var comm = comm_manager.new_comm(comm_id, {}, {}, {}, comm_id);\n        if (msg_handler) {\n          comm.on_msg(msg_handler);\n        }\n      } else if ((plot_id in window.PyViz.kernels) && (window.PyViz.kernels[plot_id])) {\n        var comm = window.PyViz.kernels[plot_id].connectToComm(comm_id);\n        comm.open();\n        if (msg_handler) {\n          comm.onMsg = msg_handler;\n        }\n      } else if (typeof google != 'undefined' && google.colab.kernel != null) {\n        var comm_promise = google.colab.kernel.comms.open(comm_id)\n        comm_promise.then((comm) => {\n          window.PyViz.comms[comm_id] = comm;\n          if (msg_handler) {\n            var messages = comm.messages[Symbol.asyncIterator]();\n            function processIteratorResult(result) {\n              var message = result.value;\n              var content = {data: message.data};\n              var metadata = message.metadata || {comm_id};\n              var msg = {content, metadata}\n              msg_handler(msg);\n              return messages.next().then(processIteratorResult);\n            }\n            return messages.next().then(processIteratorResult);\n          }\n        }) \n        var sendClosure = (data, metadata, buffers, disposeOnDone) => {\n          return comm_promise.then((comm) => {\n            comm.send(data, metadata, buffers, disposeOnDone);\n          });\n        };\n        var comm = {\n          send: sendClosure\n        };\n      }\n      window.PyViz.comms[comm_id] = comm;\n      return comm;\n    }\n    window.PyViz.comm_manager = new JupyterCommManager();\n    \n\n\nvar JS_MIME_TYPE = 'application/javascript';\nvar HTML_MIME_TYPE = 'text/html';\nvar EXEC_MIME_TYPE = 'application/vnd.holoviews_exec.v0+json';\nvar CLASS_NAME = 'output';\n\n/**\n * Render data to the DOM node\n */\nfunction render(props, node) {\n  var div = document.createElement(\"div\");\n  var script = document.createElement(\"script\");\n  node.appendChild(div);\n  node.appendChild(script);\n}\n\n/**\n * Handle when a new output is added\n */\nfunction handle_add_output(event, handle) {\n  var output_area = handle.output_area;\n  var output = handle.output;\n  if ((output.data == undefined) || (!output.data.hasOwnProperty(EXEC_MIME_TYPE))) {\n    return\n  }\n  var id = output.metadata[EXEC_MIME_TYPE][\"id\"];\n  var toinsert = output_area.element.find(\".\" + CLASS_NAME.split(' ')[0]);\n  if (id !== undefined) {\n    var nchildren = toinsert.length;\n    var html_node = toinsert[nchildren-1].children[0];\n    html_node.innerHTML = output.data[HTML_MIME_TYPE];\n    var scripts = [];\n    var nodelist = html_node.querySelectorAll(\"script\");\n    for (var i in nodelist) {\n      if (nodelist.hasOwnProperty(i)) {\n        scripts.push(nodelist[i])\n      }\n    }\n\n    scripts.forEach( function (oldScript) {\n      var newScript = document.createElement(\"script\");\n      var attrs = [];\n      var nodemap = oldScript.attributes;\n      for (var j in nodemap) {\n        if (nodemap.hasOwnProperty(j)) {\n          attrs.push(nodemap[j])\n        }\n      }\n      attrs.forEach(function(attr) { newScript.setAttribute(attr.name, attr.value) });\n      newScript.appendChild(document.createTextNode(oldScript.innerHTML));\n      oldScript.parentNode.replaceChild(newScript, oldScript);\n    });\n    if (JS_MIME_TYPE in output.data) {\n      toinsert[nchildren-1].children[1].textContent = output.data[JS_MIME_TYPE];\n    }\n    output_area._hv_plot_id = id;\n    if ((window.Bokeh !== undefined) && (id in Bokeh.index)) {\n      window.PyViz.plot_index[id] = Bokeh.index[id];\n    } else {\n      window.PyViz.plot_index[id] = null;\n    }\n  } else if (output.metadata[EXEC_MIME_TYPE][\"server_id\"] !== undefined) {\n    var bk_div = document.createElement(\"div\");\n    bk_div.innerHTML = output.data[HTML_MIME_TYPE];\n    var script_attrs = bk_div.children[0].attributes;\n    for (var i = 0; i < script_attrs.length; i++) {\n      toinsert[toinsert.length - 1].childNodes[1].setAttribute(script_attrs[i].name, script_attrs[i].value);\n    }\n    // store reference to server id on output_area\n    output_area._bokeh_server_id = output.metadata[EXEC_MIME_TYPE][\"server_id\"];\n  }\n}\n\n/**\n * Handle when an output is cleared or removed\n */\nfunction handle_clear_output(event, handle) {\n  var id = handle.cell.output_area._hv_plot_id;\n  var server_id = handle.cell.output_area._bokeh_server_id;\n  if (((id === undefined) || !(id in PyViz.plot_index)) && (server_id !== undefined)) { return; }\n  var comm = window.PyViz.comm_manager.get_client_comm(\"hv-extension-comm\", \"hv-extension-comm\", function () {});\n  if (server_id !== null) {\n    comm.send({event_type: 'server_delete', 'id': server_id});\n    return;\n  } else if (comm !== null) {\n    comm.send({event_type: 'delete', 'id': id});\n  }\n  delete PyViz.plot_index[id];\n  if ((window.Bokeh !== undefined) & (id in window.Bokeh.index)) {\n    var doc = window.Bokeh.index[id].model.document\n    doc.clear();\n    const i = window.Bokeh.documents.indexOf(doc);\n    if (i > -1) {\n      window.Bokeh.documents.splice(i, 1);\n    }\n  }\n}\n\n/**\n * Handle kernel restart event\n */\nfunction handle_kernel_cleanup(event, handle) {\n  delete PyViz.comms[\"hv-extension-comm\"];\n  window.PyViz.plot_index = {}\n}\n\n/**\n * Handle update_display_data messages\n */\nfunction handle_update_output(event, handle) {\n  handle_clear_output(event, {cell: {output_area: handle.output_area}})\n  handle_add_output(event, handle)\n}\n\nfunction register_renderer(events, OutputArea) {\n  function append_mime(data, metadata, element) {\n    // create a DOM node to render to\n    var toinsert = this.create_output_subarea(\n    metadata,\n    CLASS_NAME,\n    EXEC_MIME_TYPE\n    );\n    this.keyboard_manager.register_events(toinsert);\n    // Render to node\n    var props = {data: data, metadata: metadata[EXEC_MIME_TYPE]};\n    render(props, toinsert[0]);\n    element.append(toinsert);\n    return toinsert\n  }\n\n  events.on('output_added.OutputArea', handle_add_output);\n  events.on('output_updated.OutputArea', handle_update_output);\n  events.on('clear_output.CodeCell', handle_clear_output);\n  events.on('delete.Cell', handle_clear_output);\n  events.on('kernel_ready.Kernel', handle_kernel_cleanup);\n\n  OutputArea.prototype.register_mime_type(EXEC_MIME_TYPE, append_mime, {\n    safe: true,\n    index: 0\n  });\n}\n\nif (window.Jupyter !== undefined) {\n  try {\n    var events = require('base/js/events');\n    var OutputArea = require('notebook/js/outputarea').OutputArea;\n    if (OutputArea.prototype.mime_types().indexOf(EXEC_MIME_TYPE) == -1) {\n      register_renderer(events, OutputArea);\n    }\n  } catch(err) {\n  }\n}\n"
     },
     "metadata": {},
     "output_type": "display_data"
    },
    {
     "data": {
      "application/vnd.holoviews_exec.v0+json": "",
      "text/html": [
       "<div id='aa2ce072-9ef1-4947-a226-77b5bf9f211e'>\n",
       "  <div id=\"f480b841-e128-4210-a9d5-47138aad3239\" data-root-id=\"aa2ce072-9ef1-4947-a226-77b5bf9f211e\" style=\"display: contents;\"></div>\n",
       "</div>\n",
       "<script type=\"application/javascript\">(function(root) {\n",
       "  var docs_json = {\"12a99868-da4a-438f-9f27-9823cc69bba9\":{\"version\":\"3.6.2\",\"title\":\"Bokeh Application\",\"roots\":[{\"type\":\"object\",\"name\":\"panel.models.browser.BrowserInfo\",\"id\":\"aa2ce072-9ef1-4947-a226-77b5bf9f211e\"},{\"type\":\"object\",\"name\":\"panel.models.comm_manager.CommManager\",\"id\":\"4f7a5666-8de8-43a6-9e0d-46fa718d5daa\",\"attributes\":{\"plot_id\":\"aa2ce072-9ef1-4947-a226-77b5bf9f211e\",\"comm_id\":\"fdde8a803335494dabcb1e0451a19bdc\",\"client_comm_id\":\"8d8e9f16087949178c1e89748956303d\"}}],\"defs\":[{\"type\":\"model\",\"name\":\"ReactiveHTML1\"},{\"type\":\"model\",\"name\":\"FlexBox1\",\"properties\":[{\"name\":\"align_content\",\"kind\":\"Any\",\"default\":\"flex-start\"},{\"name\":\"align_items\",\"kind\":\"Any\",\"default\":\"flex-start\"},{\"name\":\"flex_direction\",\"kind\":\"Any\",\"default\":\"row\"},{\"name\":\"flex_wrap\",\"kind\":\"Any\",\"default\":\"wrap\"},{\"name\":\"gap\",\"kind\":\"Any\",\"default\":\"\"},{\"name\":\"justify_content\",\"kind\":\"Any\",\"default\":\"flex-start\"}]},{\"type\":\"model\",\"name\":\"FloatPanel1\",\"properties\":[{\"name\":\"config\",\"kind\":\"Any\",\"default\":{\"type\":\"map\"}},{\"name\":\"contained\",\"kind\":\"Any\",\"default\":true},{\"name\":\"position\",\"kind\":\"Any\",\"default\":\"right-top\"},{\"name\":\"offsetx\",\"kind\":\"Any\",\"default\":null},{\"name\":\"offsety\",\"kind\":\"Any\",\"default\":null},{\"name\":\"theme\",\"kind\":\"Any\",\"default\":\"primary\"},{\"name\":\"status\",\"kind\":\"Any\",\"default\":\"normalized\"}]},{\"type\":\"model\",\"name\":\"GridStack1\",\"properties\":[{\"name\":\"mode\",\"kind\":\"Any\",\"default\":\"warn\"},{\"name\":\"ncols\",\"kind\":\"Any\",\"default\":null},{\"name\":\"nrows\",\"kind\":\"Any\",\"default\":null},{\"name\":\"allow_resize\",\"kind\":\"Any\",\"default\":true},{\"name\":\"allow_drag\",\"kind\":\"Any\",\"default\":true},{\"name\":\"state\",\"kind\":\"Any\",\"default\":[]}]},{\"type\":\"model\",\"name\":\"drag1\",\"properties\":[{\"name\":\"slider_width\",\"kind\":\"Any\",\"default\":5},{\"name\":\"slider_color\",\"kind\":\"Any\",\"default\":\"black\"},{\"name\":\"value\",\"kind\":\"Any\",\"default\":50}]},{\"type\":\"model\",\"name\":\"click1\",\"properties\":[{\"name\":\"terminal_output\",\"kind\":\"Any\",\"default\":\"\"},{\"name\":\"debug_name\",\"kind\":\"Any\",\"default\":\"\"},{\"name\":\"clears\",\"kind\":\"Any\",\"default\":0}]},{\"type\":\"model\",\"name\":\"FastWrapper1\",\"properties\":[{\"name\":\"object\",\"kind\":\"Any\",\"default\":null},{\"name\":\"style\",\"kind\":\"Any\",\"default\":null}]},{\"type\":\"model\",\"name\":\"NotificationAreaBase1\",\"properties\":[{\"name\":\"js_events\",\"kind\":\"Any\",\"default\":{\"type\":\"map\"}},{\"name\":\"position\",\"kind\":\"Any\",\"default\":\"bottom-right\"},{\"name\":\"_clear\",\"kind\":\"Any\",\"default\":0}]},{\"type\":\"model\",\"name\":\"NotificationArea1\",\"properties\":[{\"name\":\"js_events\",\"kind\":\"Any\",\"default\":{\"type\":\"map\"}},{\"name\":\"notifications\",\"kind\":\"Any\",\"default\":[]},{\"name\":\"position\",\"kind\":\"Any\",\"default\":\"bottom-right\"},{\"name\":\"_clear\",\"kind\":\"Any\",\"default\":0},{\"name\":\"types\",\"kind\":\"Any\",\"default\":[{\"type\":\"map\",\"entries\":[[\"type\",\"warning\"],[\"background\",\"#ffc107\"],[\"icon\",{\"type\":\"map\",\"entries\":[[\"className\",\"fas fa-exclamation-triangle\"],[\"tagName\",\"i\"],[\"color\",\"white\"]]}]]},{\"type\":\"map\",\"entries\":[[\"type\",\"info\"],[\"background\",\"#007bff\"],[\"icon\",{\"type\":\"map\",\"entries\":[[\"className\",\"fas fa-info-circle\"],[\"tagName\",\"i\"],[\"color\",\"white\"]]}]]}]}]},{\"type\":\"model\",\"name\":\"Notification\",\"properties\":[{\"name\":\"background\",\"kind\":\"Any\",\"default\":null},{\"name\":\"duration\",\"kind\":\"Any\",\"default\":3000},{\"name\":\"icon\",\"kind\":\"Any\",\"default\":null},{\"name\":\"message\",\"kind\":\"Any\",\"default\":\"\"},{\"name\":\"notification_type\",\"kind\":\"Any\",\"default\":null},{\"name\":\"_destroyed\",\"kind\":\"Any\",\"default\":false}]},{\"type\":\"model\",\"name\":\"TemplateActions1\",\"properties\":[{\"name\":\"open_modal\",\"kind\":\"Any\",\"default\":0},{\"name\":\"close_modal\",\"kind\":\"Any\",\"default\":0}]},{\"type\":\"model\",\"name\":\"BootstrapTemplateActions1\",\"properties\":[{\"name\":\"open_modal\",\"kind\":\"Any\",\"default\":0},{\"name\":\"close_modal\",\"kind\":\"Any\",\"default\":0}]},{\"type\":\"model\",\"name\":\"TemplateEditor1\",\"properties\":[{\"name\":\"layout\",\"kind\":\"Any\",\"default\":[]}]},{\"type\":\"model\",\"name\":\"MaterialTemplateActions1\",\"properties\":[{\"name\":\"open_modal\",\"kind\":\"Any\",\"default\":0},{\"name\":\"close_modal\",\"kind\":\"Any\",\"default\":0}]},{\"type\":\"model\",\"name\":\"ReactiveESM1\",\"properties\":[{\"name\":\"esm_constants\",\"kind\":\"Any\",\"default\":{\"type\":\"map\"}}]},{\"type\":\"model\",\"name\":\"JSComponent1\",\"properties\":[{\"name\":\"esm_constants\",\"kind\":\"Any\",\"default\":{\"type\":\"map\"}}]},{\"type\":\"model\",\"name\":\"ReactComponent1\",\"properties\":[{\"name\":\"esm_constants\",\"kind\":\"Any\",\"default\":{\"type\":\"map\"}}]},{\"type\":\"model\",\"name\":\"AnyWidgetComponent1\",\"properties\":[{\"name\":\"esm_constants\",\"kind\":\"Any\",\"default\":{\"type\":\"map\"}}]},{\"type\":\"model\",\"name\":\"request_value1\",\"properties\":[{\"name\":\"fill\",\"kind\":\"Any\",\"default\":\"none\"},{\"name\":\"_synced\",\"kind\":\"Any\",\"default\":null},{\"name\":\"_request_sync\",\"kind\":\"Any\",\"default\":0}]}]}};\n",
       "  var render_items = [{\"docid\":\"12a99868-da4a-438f-9f27-9823cc69bba9\",\"roots\":{\"aa2ce072-9ef1-4947-a226-77b5bf9f211e\":\"f480b841-e128-4210-a9d5-47138aad3239\"},\"root_ids\":[\"aa2ce072-9ef1-4947-a226-77b5bf9f211e\"]}];\n",
       "  var docs = Object.values(docs_json)\n",
       "  if (!docs) {\n",
       "    return\n",
       "  }\n",
       "  const py_version = docs[0].version.replace('rc', '-rc.').replace('.dev', '-dev.')\n",
       "  async function embed_document(root) {\n",
       "    var Bokeh = get_bokeh(root)\n",
       "    await Bokeh.embed.embed_items_notebook(docs_json, render_items);\n",
       "    for (const render_item of render_items) {\n",
       "      for (const root_id of render_item.root_ids) {\n",
       "\tconst id_el = document.getElementById(root_id)\n",
       "\tif (id_el.children.length && id_el.children[0].hasAttribute('data-root-id')) {\n",
       "\t  const root_el = id_el.children[0]\n",
       "\t  root_el.id = root_el.id + '-rendered'\n",
       "\t  for (const child of root_el.children) {\n",
       "            // Ensure JupyterLab does not capture keyboard shortcuts\n",
       "            // see: https://jupyterlab.readthedocs.io/en/4.1.x/extension/notebook.html#keyboard-interaction-model\n",
       "\t    child.setAttribute('data-lm-suppress-shortcuts', 'true')\n",
       "\t  }\n",
       "\t}\n",
       "      }\n",
       "    }\n",
       "  }\n",
       "  function get_bokeh(root) {\n",
       "    if (root.Bokeh === undefined) {\n",
       "      return null\n",
       "    } else if (root.Bokeh.version !== py_version) {\n",
       "      if (root.Bokeh.versions === undefined || !root.Bokeh.versions.has(py_version)) {\n",
       "\treturn null\n",
       "      }\n",
       "      return root.Bokeh.versions.get(py_version);\n",
       "    } else if (root.Bokeh.version === py_version) {\n",
       "      return root.Bokeh\n",
       "    }\n",
       "    return null\n",
       "  }\n",
       "  function is_loaded(root) {\n",
       "    var Bokeh = get_bokeh(root)\n",
       "    return (Bokeh != null && Bokeh.Panel !== undefined)\n",
       "  }\n",
       "  if (is_loaded(root)) {\n",
       "    embed_document(root);\n",
       "  } else {\n",
       "    var attempts = 0;\n",
       "    var timer = setInterval(function(root) {\n",
       "      if (is_loaded(root)) {\n",
       "        clearInterval(timer);\n",
       "        embed_document(root);\n",
       "      } else if (document.readyState == \"complete\") {\n",
       "        attempts++;\n",
       "        if (attempts > 200) {\n",
       "          clearInterval(timer);\n",
       "\t  var Bokeh = get_bokeh(root)\n",
       "\t  if (Bokeh == null || Bokeh.Panel == null) {\n",
       "            console.warn(\"Panel: ERROR: Unable to run Panel code because Bokeh or Panel library is missing\");\n",
       "\t  } else {\n",
       "\t    console.warn(\"Panel: WARNING: Attempting to render but not all required libraries could be resolved.\")\n",
       "\t    embed_document(root)\n",
       "\t  }\n",
       "        }\n",
       "      }\n",
       "    }, 25, root)\n",
       "  }\n",
       "})(window);</script>"
      ]
     },
     "metadata": {
      "application/vnd.holoviews_exec.v0+json": {
       "id": "aa2ce072-9ef1-4947-a226-77b5bf9f211e"
      }
     },
     "output_type": "display_data"
    }
   ],
   "source": [
    "import hvplot.polars"
   ]
  },
  {
   "cell_type": "code",
   "execution_count": 387,
   "id": "3404064a-8ed3-47ff-9042-7a6d95b75378",
   "metadata": {},
   "outputs": [
    {
     "data": {},
     "metadata": {},
     "output_type": "display_data"
    },
    {
     "data": {
      "application/vnd.holoviews_exec.v0+json": "",
      "text/html": [
       "<div id='2b09b27e-d22d-460b-a686-160c9c624267'>\n",
       "  <div id=\"f3bfaaff-7878-44da-9c19-6610e95a29f2\" data-root-id=\"2b09b27e-d22d-460b-a686-160c9c624267\" style=\"display: contents;\"></div>\n",
       "</div>\n",
       "<script type=\"application/javascript\">(function(root) {\n",
       "  var docs_json = {\"9e3817e8-0109-47fd-a291-e0ec6f97c66b\":{\"version\":\"3.6.2\",\"title\":\"Bokeh Application\",\"roots\":[{\"type\":\"object\",\"name\":\"Row\",\"id\":\"2b09b27e-d22d-460b-a686-160c9c624267\",\"attributes\":{\"name\":\"Row00374\",\"tags\":[\"embedded\"],\"stylesheets\":[\"\\n:host(.pn-loading):before, .pn-loading:before {\\n  background-color: #c3c3c3;\\n  mask-size: auto calc(min(50%, 400px));\\n  -webkit-mask-size: auto calc(min(50%, 400px));\\n}\",{\"type\":\"object\",\"name\":\"ImportedStyleSheet\",\"id\":\"049d2ad1-e054-4b7a-b477-5eb4667a729d\",\"attributes\":{\"url\":\"https://cdn.holoviz.org/panel/1.5.4/dist/css/loading.css\"}},{\"type\":\"object\",\"name\":\"ImportedStyleSheet\",\"id\":\"96178a81-413c-49df-8f5c-56419a0d0e0d\",\"attributes\":{\"url\":\"https://cdn.holoviz.org/panel/1.5.4/dist/css/listpanel.css\"}},{\"type\":\"object\",\"name\":\"ImportedStyleSheet\",\"id\":\"5862189d-4d38-40d6-a540-bc8d9760e1aa\",\"attributes\":{\"url\":\"https://cdn.holoviz.org/panel/1.5.4/dist/bundled/theme/default.css\"}},{\"type\":\"object\",\"name\":\"ImportedStyleSheet\",\"id\":\"bfdf5b57-df71-4327-a785-61ca4ff0a42c\",\"attributes\":{\"url\":\"https://cdn.holoviz.org/panel/1.5.4/dist/bundled/theme/native.css\"}}],\"min_width\":700,\"margin\":0,\"sizing_mode\":\"stretch_width\",\"align\":\"start\",\"children\":[{\"type\":\"object\",\"name\":\"Spacer\",\"id\":\"cd9e138c-85f4-4765-9745-d000699cb58d\",\"attributes\":{\"name\":\"HSpacer00378\",\"stylesheets\":[\"\\n:host(.pn-loading):before, .pn-loading:before {\\n  background-color: #c3c3c3;\\n  mask-size: auto calc(min(50%, 400px));\\n  -webkit-mask-size: auto calc(min(50%, 400px));\\n}\",{\"id\":\"049d2ad1-e054-4b7a-b477-5eb4667a729d\"},{\"id\":\"5862189d-4d38-40d6-a540-bc8d9760e1aa\"},{\"id\":\"bfdf5b57-df71-4327-a785-61ca4ff0a42c\"}],\"margin\":0,\"sizing_mode\":\"stretch_width\",\"align\":\"start\"}},{\"type\":\"object\",\"name\":\"Figure\",\"id\":\"8d70ef8d-ac03-40bc-9fd0-f27c4cc40971\",\"attributes\":{\"width\":700,\"height\":300,\"margin\":[5,10],\"sizing_mode\":\"fixed\",\"align\":\"start\",\"x_range\":{\"type\":\"object\",\"name\":\"Range1d\",\"id\":\"0b82922d-bdd4-4978-b0d0-dd6b1b4d90fd\",\"attributes\":{\"name\":\"SepalRatio\",\"tags\":[[[\"SepalRatio\",null]],[]],\"start\":0.3183423719138005,\"end\":0.8077815042100756,\"reset_start\":0.3183423719138005,\"reset_end\":0.8077815042100756}},\"y_range\":{\"type\":\"object\",\"name\":\"Range1d\",\"id\":\"bf0821f4-1736-48c0-b745-18c3c7d25a15\",\"attributes\":{\"name\":\"PetalRatio\",\"tags\":[[[\"PetalRatio\",null]],{\"type\":\"map\",\"entries\":[[\"invert_yaxis\",false],[\"autorange\",false]]}],\"start\":0.026274509803921563,\"end\":0.5109803921568628,\"reset_start\":0.026274509803921563,\"reset_end\":0.5109803921568628}},\"x_scale\":{\"type\":\"object\",\"name\":\"LinearScale\",\"id\":\"f1cc53ed-df3e-4c31-aa8d-691fd68744c9\"},\"y_scale\":{\"type\":\"object\",\"name\":\"LinearScale\",\"id\":\"737d80fc-77d1-4cad-ba32-b8f82523423c\"},\"title\":{\"type\":\"object\",\"name\":\"Title\",\"id\":\"c86d2ec9-5943-4a34-abeb-d30ae8e2a23f\",\"attributes\":{\"text_color\":\"black\",\"text_font_size\":\"12pt\"}},\"renderers\":[{\"type\":\"object\",\"name\":\"GlyphRenderer\",\"id\":\"21853c5c-0dbf-4280-b1a9-2da1c1cfcc76\",\"attributes\":{\"data_source\":{\"type\":\"object\",\"name\":\"ColumnDataSource\",\"id\":\"eb0c63b1-8791-414f-b786-ed47e1a9a5fd\",\"attributes\":{\"selected\":{\"type\":\"object\",\"name\":\"Selection\",\"id\":\"4bfa947c-e05d-477b-bf26-3f7e17770ff3\",\"attributes\":{\"indices\":[],\"line_indices\":[]}},\"selection_policy\":{\"type\":\"object\",\"name\":\"UnionRenderers\",\"id\":\"1da1b65a-a4dc-465c-bc52-a32b9dc80c3e\"},\"data\":{\"type\":\"map\",\"entries\":[[\"SepalRatio\",{\"type\":\"ndarray\",\"array\":{\"type\":\"bytes\",\"data\":\"9vX19fX15T/HcRzHcRznP9BeQnsJ7eU/fBphuacR5j87i+ksprPoP8dxHMdxHOc/9vX19fX15T9VVVVVVVXlP9jX19fX1+c/XkJ7Ce0l5D84Nzc3NzfnP7W0tLS0tOQ/ndiJndiJ5T/FTuzETuzkP15CewntJeQ/sBM7sRM76T9wWPuGtW/oP1100UUXXeQ/VlVVVVVV5T/Y19fX19fnP9jX19fX1+c/oENqgvFW5j8e1EEd1EHdPwAAAAAAAOA/zLUDc+3A3D/D2jesfcPaPxu5kRu5kds/BPcR3Edw3z8xDMMwDMPgPx988MEHH9w/2Ymd2Imd4D+c1H15bEXgP3h3d3d3d9c/i0uGYB1t3j8lSZIkSZLgP6wxkR6onN0/SZIkSZIk4T+OsNzTCMvdP7bWWmuttdY/JUmSJEmS3D8NJ3VfHlvhP+d9ikuGYN0/WpZlWZZl2T/nfYpLhmDdP////////9w/GF100UUX3T9aWlpaWlraP/GrMZEeqNw/7+7u7u7u3j8W01lMZzHdP+0b1r5h7ds/7RvWvmHt2z+OsNzTCMvdP83MzMzMzNw/cRzHcRzH4T8iIiIiIiLiP6wxkR6onN0/13Vd13Vd1z9JkiRJkiThPxdddNFFF90/QZ4S5ClB3j8vGYJ1tHnfP9QIyz2NsNw/uG3btm3b3j95DeU1lNfgP30E9xHcR+A/77333nvv3T9gX19fX1/fPwT3EdxHcN8/MQzDMAzD4D+OsNzTCMvdP1thcyDRCts/Xdd1Xdd13T+e2Imd2IndPzaU11BeQ9k/y5YtW7Zs2T9ID1TObuHXPwAAAAAAAOA/IPiBH/iB3z8AAAAAAADbPzw8PDw8PNw/H8F9BPcR3D9GWO5phOXePwAAAAAAAOA/ntiJndiJ3T9wVn5CnJXfPwpxVn5CnNU/eHd3d3d31z/bgbl2YK7dPwAAAAAAAOA/RRdddNFF1z/ctm3btm3bPyI9UDm7hd8/HcdxHMdx3D/mnHPOOefcPy8ZgnW0ed8/////////2z+qqqqqqqraP3WDKfJZN9g/kT0DUenI3j/////////bPxzHcRzHcdw/oOKSIVhH2z+CvWNqYO/YP1EURVEUReE/AAAAAAAA3z8AAAAAAADgP8y1A3PtwNw/rDGRHqic3T/MtQNz7cDcP46w3NMIy90/Hx4eHh4e3j8iPVA5u4XfP/GrMZEeqNw/WpZlWZZl2T+e2Imd2IndP4wxxhhjjOE/nNR9eWxF4D8=\"},\"shape\":[118],\"dtype\":\"float64\",\"order\":\"little\"}],[\"PetalRatio\",{\"type\":\"ndarray\",\"array\":{\"type\":\"bytes\",\"data\":\"kyRJkiRJwj8fHh4eHh7OPxEREREREcE/VlVVVVVVxT8RERERERHRPxQ7sRM7sdM/3LZt27Ztyz+XlpaWlpbGP5mZmZmZmck/Hx4eHh4evj8RERERERHRP9PS0tLS0tI/ERERERERwT+TJEmSJEnCPxEREREREdE/ERERERERsT+TJEmSJEnCPxQ7sRM7scM/ERERERERwT8pr6G8hvLKPwAAAAAAAMA/ERERERERwT9MriAmVxDTP1VVVVVVVdU/5RS8nIKX0z/NzMzMzMzUP05vetOb3tQ/0yd90id90j9XEJMriMnVPyILWchCFtI/l2/5lm/51j+3bdu2bdvWPwAAAAAAANA/TK4gJlcQ0z/HcRzHcRzXP1x00UUXXdQ/VVVVVVVV1T85H4PzMTjPP1VVVVVVVdU/0yAN0iAN0j8AAAAAAADYP83MzMzMzNQ/5RS8nIKX0z9BTK4gJlfQP9eUNWVNWdM/XHTRRRdd1D+rqqqqqqrSP8L1KFyPwtU/VVVVVVVV1T+SJEmSJEnSP2wor6G8htI/wRT5rBtM0T8UO7ETO7HTPxUUFBQUFNQ/VVVVVVVV1T8XbMEWbMHWP1Hf2ajvbNQ/6KKLLrro0j9M1K5E7UrUP83MzMzMzNQ/dNFFF1100T84velNb3rTPzMzMzMzM9M/9DzP8zzP0z+SJEmSJEnSP/Q8z/M8z9M/15Q1ZU1Z0z94d3d3d3fXP0zUrkTtStQ/q6qqqqqq2j/Y19fX19fXP0HDSd2Xx9Y/JUmSJEmS1D/vaYTlnkbYP1500UUXXdQ/kyRJkiRJ0j8Jyz2NsNzTP/wUlwzBOto/GhkZGRkZ2T9ln0NqgvHWP3BY+4a1b9g/mpmZmZmZ2T8eHh4eHh7eP5V9DqkJxts/8pQgTwny1D8XfjUm0gPVP1VVVVVVVdU/MzMzMzMz0z8xncV0FtPZP4fG+tBYH9o/oHJ2C78a0z/g5RS8nILXP0N5DeU1lNc/MzMzMzMz0z8AAAAAAADYP+DlFLycgtc/AQAAAAAA2D+WexphuafRPyZDsI4279M/AAAAAAAA1D9KkiRJkiTZP9PS0tLS0tI/AAAAAAAA0D+0eZ/ikiHYP9y2bdu2bds/8pQgTwny1D8AAAAAAADYPzmO4ziO49g/3LZt27Zt2z/d3Nzc3NzcP9jX19fX19c/Img4qfvy2D8fwX0E9xHcP+vETuzETtw/UrgehetR2D/YiZ3YiZ3YPyW0l9BeQts/l5aWlpaW1j8=\"},\"shape\":[118],\"dtype\":\"float64\",\"order\":\"little\"}]]}}},\"view\":{\"type\":\"object\",\"name\":\"CDSView\",\"id\":\"c303badb-240d-4d4a-93f5-6c0a445438e6\",\"attributes\":{\"filter\":{\"type\":\"object\",\"name\":\"AllIndices\",\"id\":\"68a0a978-eb8d-497f-806a-fb0b17cad01d\"}}},\"glyph\":{\"type\":\"object\",\"name\":\"Scatter\",\"id\":\"1122b16d-2b29-4e2b-ad1c-f3c069d827f1\",\"attributes\":{\"tags\":[\"apply_ranges\"],\"x\":{\"type\":\"field\",\"field\":\"SepalRatio\"},\"y\":{\"type\":\"field\",\"field\":\"PetalRatio\"},\"size\":{\"type\":\"value\",\"value\":5.477225575051661},\"line_color\":{\"type\":\"value\",\"value\":\"#30a2da\"},\"fill_color\":{\"type\":\"value\",\"value\":\"#30a2da\"},\"hatch_color\":{\"type\":\"value\",\"value\":\"#30a2da\"}}},\"selection_glyph\":{\"type\":\"object\",\"name\":\"Scatter\",\"id\":\"0ab74cf0-7339-4073-887f-29dc1469246c\",\"attributes\":{\"tags\":[\"apply_ranges\"],\"x\":{\"type\":\"field\",\"field\":\"SepalRatio\"},\"y\":{\"type\":\"field\",\"field\":\"PetalRatio\"},\"size\":{\"type\":\"value\",\"value\":5.477225575051661},\"angle\":{\"type\":\"value\",\"value\":0.0},\"line_color\":{\"type\":\"value\",\"value\":\"#30a2da\"},\"line_alpha\":{\"type\":\"value\",\"value\":1.0},\"line_width\":{\"type\":\"value\",\"value\":1},\"line_join\":{\"type\":\"value\",\"value\":\"bevel\"},\"line_cap\":{\"type\":\"value\",\"value\":\"butt\"},\"line_dash\":{\"type\":\"value\",\"value\":[]},\"line_dash_offset\":{\"type\":\"value\",\"value\":0},\"fill_color\":{\"type\":\"value\",\"value\":\"#30a2da\"},\"fill_alpha\":{\"type\":\"value\",\"value\":1.0},\"hatch_color\":{\"type\":\"value\",\"value\":\"#30a2da\"},\"hatch_alpha\":{\"type\":\"value\",\"value\":1.0},\"hatch_scale\":{\"type\":\"value\",\"value\":12.0},\"hatch_pattern\":{\"type\":\"value\",\"value\":null},\"hatch_weight\":{\"type\":\"value\",\"value\":1.0},\"marker\":{\"type\":\"value\",\"value\":\"circle\"}}},\"nonselection_glyph\":{\"type\":\"object\",\"name\":\"Scatter\",\"id\":\"8d58bdc1-863f-4c15-acba-e066427ba277\",\"attributes\":{\"tags\":[\"apply_ranges\"],\"x\":{\"type\":\"field\",\"field\":\"SepalRatio\"},\"y\":{\"type\":\"field\",\"field\":\"PetalRatio\"},\"size\":{\"type\":\"value\",\"value\":5.477225575051661},\"line_color\":{\"type\":\"value\",\"value\":\"#30a2da\"},\"line_alpha\":{\"type\":\"value\",\"value\":0.1},\"fill_color\":{\"type\":\"value\",\"value\":\"#30a2da\"},\"fill_alpha\":{\"type\":\"value\",\"value\":0.1},\"hatch_color\":{\"type\":\"value\",\"value\":\"#30a2da\"},\"hatch_alpha\":{\"type\":\"value\",\"value\":0.1}}},\"muted_glyph\":{\"type\":\"object\",\"name\":\"Scatter\",\"id\":\"8ac89247-6fee-4c55-9cd2-7c413f59b034\",\"attributes\":{\"tags\":[\"apply_ranges\"],\"x\":{\"type\":\"field\",\"field\":\"SepalRatio\"},\"y\":{\"type\":\"field\",\"field\":\"PetalRatio\"},\"size\":{\"type\":\"value\",\"value\":5.477225575051661},\"line_color\":{\"type\":\"value\",\"value\":\"#30a2da\"},\"line_alpha\":{\"type\":\"value\",\"value\":0.2},\"fill_color\":{\"type\":\"value\",\"value\":\"#30a2da\"},\"fill_alpha\":{\"type\":\"value\",\"value\":0.2},\"hatch_color\":{\"type\":\"value\",\"value\":\"#30a2da\"},\"hatch_alpha\":{\"type\":\"value\",\"value\":0.2}}}}}],\"toolbar\":{\"type\":\"object\",\"name\":\"Toolbar\",\"id\":\"39d1da8d-c5e9-4ad2-96ea-0526ba68b0c6\",\"attributes\":{\"tools\":[{\"type\":\"object\",\"name\":\"WheelZoomTool\",\"id\":\"6816c244-54a1-4975-9faa-48564b627efb\",\"attributes\":{\"tags\":[\"hv_created\"],\"renderers\":\"auto\",\"zoom_together\":\"none\"}},{\"type\":\"object\",\"name\":\"HoverTool\",\"id\":\"fcda5524-a648-4cde-97ab-10dfd4c6f6fe\",\"attributes\":{\"tags\":[\"hv_created\"],\"renderers\":[{\"id\":\"21853c5c-0dbf-4280-b1a9-2da1c1cfcc76\"}],\"tooltips\":[[\"SepalRatio\",\"@{SepalRatio}\"],[\"PetalRatio\",\"@{PetalRatio}\"]]}},{\"type\":\"object\",\"name\":\"SaveTool\",\"id\":\"0e136d04-50e0-4573-b83b-915eb691c0ea\"},{\"type\":\"object\",\"name\":\"PanTool\",\"id\":\"f22e1e17-b7a7-4fc2-a076-467d73e42d94\"},{\"type\":\"object\",\"name\":\"BoxZoomTool\",\"id\":\"a58fe839-c17a-4777-9c5f-e75577eceaaf\",\"attributes\":{\"overlay\":{\"type\":\"object\",\"name\":\"BoxAnnotation\",\"id\":\"f9c1b5b1-f5dd-4b49-b187-67b47dc7f443\",\"attributes\":{\"syncable\":false,\"line_color\":\"black\",\"line_alpha\":1.0,\"line_width\":2,\"line_dash\":[4,4],\"fill_color\":\"lightgrey\",\"fill_alpha\":0.5,\"level\":\"overlay\",\"visible\":false,\"left\":{\"type\":\"number\",\"value\":\"nan\"},\"right\":{\"type\":\"number\",\"value\":\"nan\"},\"top\":{\"type\":\"number\",\"value\":\"nan\"},\"bottom\":{\"type\":\"number\",\"value\":\"nan\"},\"left_units\":\"canvas\",\"right_units\":\"canvas\",\"top_units\":\"canvas\",\"bottom_units\":\"canvas\",\"handles\":{\"type\":\"object\",\"name\":\"BoxInteractionHandles\",\"id\":\"cdbf3e44-7dc0-4de5-b03d-457705d04a56\",\"attributes\":{\"all\":{\"type\":\"object\",\"name\":\"AreaVisuals\",\"id\":\"6c7a1bab-1c1d-42d8-8ef4-d67266d5eaa9\",\"attributes\":{\"fill_color\":\"white\",\"hover_fill_color\":\"lightgray\"}}}}}}}},{\"type\":\"object\",\"name\":\"ResetTool\",\"id\":\"76ed97c4-5a37-48b6-a0d3-089b56725052\"}],\"active_drag\":{\"id\":\"f22e1e17-b7a7-4fc2-a076-467d73e42d94\"},\"active_scroll\":{\"id\":\"6816c244-54a1-4975-9faa-48564b627efb\"}}},\"left\":[{\"type\":\"object\",\"name\":\"LinearAxis\",\"id\":\"8af969c1-411b-4df4-b3ef-eba745a2e7ac\",\"attributes\":{\"ticker\":{\"type\":\"object\",\"name\":\"BasicTicker\",\"id\":\"14fe9c38-e57f-40b9-b3c2-a8411a8af545\",\"attributes\":{\"mantissas\":[1,2,5]}},\"formatter\":{\"type\":\"object\",\"name\":\"BasicTickFormatter\",\"id\":\"d1323fa6-1e5e-4f5f-a463-9be2d7f131f9\"},\"axis_label\":\"PetalRatio\",\"major_label_policy\":{\"type\":\"object\",\"name\":\"AllLabels\",\"id\":\"6f2207ca-9023-4abc-991c-7ff98f1f4821\"}}}],\"below\":[{\"type\":\"object\",\"name\":\"LinearAxis\",\"id\":\"50fae36d-e5ff-486d-a384-6c1d3ea59f45\",\"attributes\":{\"ticker\":{\"type\":\"object\",\"name\":\"BasicTicker\",\"id\":\"5eb911f0-d1c5-4ffe-9ae6-fe28f3b908b3\",\"attributes\":{\"mantissas\":[1,2,5]}},\"formatter\":{\"type\":\"object\",\"name\":\"BasicTickFormatter\",\"id\":\"e32f31cd-860e-4cfc-9740-172cafe4e3d4\"},\"axis_label\":\"SepalRatio\",\"major_label_policy\":{\"type\":\"object\",\"name\":\"AllLabels\",\"id\":\"1e6316a8-071a-43fd-8a2b-9d9f72bf052e\"}}}],\"center\":[{\"type\":\"object\",\"name\":\"Grid\",\"id\":\"e062b2f9-75f1-4f52-b730-dccde154abfd\",\"attributes\":{\"axis\":{\"id\":\"50fae36d-e5ff-486d-a384-6c1d3ea59f45\"},\"grid_line_color\":null}},{\"type\":\"object\",\"name\":\"Grid\",\"id\":\"585c174d-0c2e-4740-b2df-e92d274da72c\",\"attributes\":{\"dimension\":1,\"axis\":{\"id\":\"8af969c1-411b-4df4-b3ef-eba745a2e7ac\"},\"grid_line_color\":null}}],\"min_border_top\":10,\"min_border_bottom\":10,\"min_border_left\":10,\"min_border_right\":10,\"output_backend\":\"webgl\"}},{\"type\":\"object\",\"name\":\"Spacer\",\"id\":\"307101aa-ddfb-4b17-8d2b-f0248e231114\",\"attributes\":{\"name\":\"HSpacer00379\",\"stylesheets\":[\"\\n:host(.pn-loading):before, .pn-loading:before {\\n  background-color: #c3c3c3;\\n  mask-size: auto calc(min(50%, 400px));\\n  -webkit-mask-size: auto calc(min(50%, 400px));\\n}\",{\"id\":\"049d2ad1-e054-4b7a-b477-5eb4667a729d\"},{\"id\":\"5862189d-4d38-40d6-a540-bc8d9760e1aa\"},{\"id\":\"bfdf5b57-df71-4327-a785-61ca4ff0a42c\"}],\"margin\":0,\"sizing_mode\":\"stretch_width\",\"align\":\"start\"}}]}}],\"defs\":[{\"type\":\"model\",\"name\":\"ReactiveHTML1\"},{\"type\":\"model\",\"name\":\"FlexBox1\",\"properties\":[{\"name\":\"align_content\",\"kind\":\"Any\",\"default\":\"flex-start\"},{\"name\":\"align_items\",\"kind\":\"Any\",\"default\":\"flex-start\"},{\"name\":\"flex_direction\",\"kind\":\"Any\",\"default\":\"row\"},{\"name\":\"flex_wrap\",\"kind\":\"Any\",\"default\":\"wrap\"},{\"name\":\"gap\",\"kind\":\"Any\",\"default\":\"\"},{\"name\":\"justify_content\",\"kind\":\"Any\",\"default\":\"flex-start\"}]},{\"type\":\"model\",\"name\":\"FloatPanel1\",\"properties\":[{\"name\":\"config\",\"kind\":\"Any\",\"default\":{\"type\":\"map\"}},{\"name\":\"contained\",\"kind\":\"Any\",\"default\":true},{\"name\":\"position\",\"kind\":\"Any\",\"default\":\"right-top\"},{\"name\":\"offsetx\",\"kind\":\"Any\",\"default\":null},{\"name\":\"offsety\",\"kind\":\"Any\",\"default\":null},{\"name\":\"theme\",\"kind\":\"Any\",\"default\":\"primary\"},{\"name\":\"status\",\"kind\":\"Any\",\"default\":\"normalized\"}]},{\"type\":\"model\",\"name\":\"GridStack1\",\"properties\":[{\"name\":\"mode\",\"kind\":\"Any\",\"default\":\"warn\"},{\"name\":\"ncols\",\"kind\":\"Any\",\"default\":null},{\"name\":\"nrows\",\"kind\":\"Any\",\"default\":null},{\"name\":\"allow_resize\",\"kind\":\"Any\",\"default\":true},{\"name\":\"allow_drag\",\"kind\":\"Any\",\"default\":true},{\"name\":\"state\",\"kind\":\"Any\",\"default\":[]}]},{\"type\":\"model\",\"name\":\"drag1\",\"properties\":[{\"name\":\"slider_width\",\"kind\":\"Any\",\"default\":5},{\"name\":\"slider_color\",\"kind\":\"Any\",\"default\":\"black\"},{\"name\":\"value\",\"kind\":\"Any\",\"default\":50}]},{\"type\":\"model\",\"name\":\"click1\",\"properties\":[{\"name\":\"terminal_output\",\"kind\":\"Any\",\"default\":\"\"},{\"name\":\"debug_name\",\"kind\":\"Any\",\"default\":\"\"},{\"name\":\"clears\",\"kind\":\"Any\",\"default\":0}]},{\"type\":\"model\",\"name\":\"FastWrapper1\",\"properties\":[{\"name\":\"object\",\"kind\":\"Any\",\"default\":null},{\"name\":\"style\",\"kind\":\"Any\",\"default\":null}]},{\"type\":\"model\",\"name\":\"NotificationAreaBase1\",\"properties\":[{\"name\":\"js_events\",\"kind\":\"Any\",\"default\":{\"type\":\"map\"}},{\"name\":\"position\",\"kind\":\"Any\",\"default\":\"bottom-right\"},{\"name\":\"_clear\",\"kind\":\"Any\",\"default\":0}]},{\"type\":\"model\",\"name\":\"NotificationArea1\",\"properties\":[{\"name\":\"js_events\",\"kind\":\"Any\",\"default\":{\"type\":\"map\"}},{\"name\":\"notifications\",\"kind\":\"Any\",\"default\":[]},{\"name\":\"position\",\"kind\":\"Any\",\"default\":\"bottom-right\"},{\"name\":\"_clear\",\"kind\":\"Any\",\"default\":0},{\"name\":\"types\",\"kind\":\"Any\",\"default\":[{\"type\":\"map\",\"entries\":[[\"type\",\"warning\"],[\"background\",\"#ffc107\"],[\"icon\",{\"type\":\"map\",\"entries\":[[\"className\",\"fas fa-exclamation-triangle\"],[\"tagName\",\"i\"],[\"color\",\"white\"]]}]]},{\"type\":\"map\",\"entries\":[[\"type\",\"info\"],[\"background\",\"#007bff\"],[\"icon\",{\"type\":\"map\",\"entries\":[[\"className\",\"fas fa-info-circle\"],[\"tagName\",\"i\"],[\"color\",\"white\"]]}]]}]}]},{\"type\":\"model\",\"name\":\"Notification\",\"properties\":[{\"name\":\"background\",\"kind\":\"Any\",\"default\":null},{\"name\":\"duration\",\"kind\":\"Any\",\"default\":3000},{\"name\":\"icon\",\"kind\":\"Any\",\"default\":null},{\"name\":\"message\",\"kind\":\"Any\",\"default\":\"\"},{\"name\":\"notification_type\",\"kind\":\"Any\",\"default\":null},{\"name\":\"_destroyed\",\"kind\":\"Any\",\"default\":false}]},{\"type\":\"model\",\"name\":\"TemplateActions1\",\"properties\":[{\"name\":\"open_modal\",\"kind\":\"Any\",\"default\":0},{\"name\":\"close_modal\",\"kind\":\"Any\",\"default\":0}]},{\"type\":\"model\",\"name\":\"BootstrapTemplateActions1\",\"properties\":[{\"name\":\"open_modal\",\"kind\":\"Any\",\"default\":0},{\"name\":\"close_modal\",\"kind\":\"Any\",\"default\":0}]},{\"type\":\"model\",\"name\":\"TemplateEditor1\",\"properties\":[{\"name\":\"layout\",\"kind\":\"Any\",\"default\":[]}]},{\"type\":\"model\",\"name\":\"MaterialTemplateActions1\",\"properties\":[{\"name\":\"open_modal\",\"kind\":\"Any\",\"default\":0},{\"name\":\"close_modal\",\"kind\":\"Any\",\"default\":0}]},{\"type\":\"model\",\"name\":\"ReactiveESM1\",\"properties\":[{\"name\":\"esm_constants\",\"kind\":\"Any\",\"default\":{\"type\":\"map\"}}]},{\"type\":\"model\",\"name\":\"JSComponent1\",\"properties\":[{\"name\":\"esm_constants\",\"kind\":\"Any\",\"default\":{\"type\":\"map\"}}]},{\"type\":\"model\",\"name\":\"ReactComponent1\",\"properties\":[{\"name\":\"esm_constants\",\"kind\":\"Any\",\"default\":{\"type\":\"map\"}}]},{\"type\":\"model\",\"name\":\"AnyWidgetComponent1\",\"properties\":[{\"name\":\"esm_constants\",\"kind\":\"Any\",\"default\":{\"type\":\"map\"}}]},{\"type\":\"model\",\"name\":\"request_value1\",\"properties\":[{\"name\":\"fill\",\"kind\":\"Any\",\"default\":\"none\"},{\"name\":\"_synced\",\"kind\":\"Any\",\"default\":null},{\"name\":\"_request_sync\",\"kind\":\"Any\",\"default\":0}]}]}};\n",
       "  var render_items = [{\"docid\":\"9e3817e8-0109-47fd-a291-e0ec6f97c66b\",\"roots\":{\"2b09b27e-d22d-460b-a686-160c9c624267\":\"f3bfaaff-7878-44da-9c19-6610e95a29f2\"},\"root_ids\":[\"2b09b27e-d22d-460b-a686-160c9c624267\"]}];\n",
       "  var docs = Object.values(docs_json)\n",
       "  if (!docs) {\n",
       "    return\n",
       "  }\n",
       "  const py_version = docs[0].version.replace('rc', '-rc.').replace('.dev', '-dev.')\n",
       "  async function embed_document(root) {\n",
       "    var Bokeh = get_bokeh(root)\n",
       "    await Bokeh.embed.embed_items_notebook(docs_json, render_items);\n",
       "    for (const render_item of render_items) {\n",
       "      for (const root_id of render_item.root_ids) {\n",
       "\tconst id_el = document.getElementById(root_id)\n",
       "\tif (id_el.children.length && id_el.children[0].hasAttribute('data-root-id')) {\n",
       "\t  const root_el = id_el.children[0]\n",
       "\t  root_el.id = root_el.id + '-rendered'\n",
       "\t  for (const child of root_el.children) {\n",
       "            // Ensure JupyterLab does not capture keyboard shortcuts\n",
       "            // see: https://jupyterlab.readthedocs.io/en/4.1.x/extension/notebook.html#keyboard-interaction-model\n",
       "\t    child.setAttribute('data-lm-suppress-shortcuts', 'true')\n",
       "\t  }\n",
       "\t}\n",
       "      }\n",
       "    }\n",
       "  }\n",
       "  function get_bokeh(root) {\n",
       "    if (root.Bokeh === undefined) {\n",
       "      return null\n",
       "    } else if (root.Bokeh.version !== py_version) {\n",
       "      if (root.Bokeh.versions === undefined || !root.Bokeh.versions.has(py_version)) {\n",
       "\treturn null\n",
       "      }\n",
       "      return root.Bokeh.versions.get(py_version);\n",
       "    } else if (root.Bokeh.version === py_version) {\n",
       "      return root.Bokeh\n",
       "    }\n",
       "    return null\n",
       "  }\n",
       "  function is_loaded(root) {\n",
       "    var Bokeh = get_bokeh(root)\n",
       "    return (Bokeh != null && Bokeh.Panel !== undefined)\n",
       "  }\n",
       "  if (is_loaded(root)) {\n",
       "    embed_document(root);\n",
       "  } else {\n",
       "    var attempts = 0;\n",
       "    var timer = setInterval(function(root) {\n",
       "      if (is_loaded(root)) {\n",
       "        clearInterval(timer);\n",
       "        embed_document(root);\n",
       "      } else if (document.readyState == \"complete\") {\n",
       "        attempts++;\n",
       "        if (attempts > 200) {\n",
       "          clearInterval(timer);\n",
       "\t  var Bokeh = get_bokeh(root)\n",
       "\t  if (Bokeh == null || Bokeh.Panel == null) {\n",
       "            console.warn(\"Panel: ERROR: Unable to run Panel code because Bokeh or Panel library is missing\");\n",
       "\t  } else {\n",
       "\t    console.warn(\"Panel: WARNING: Attempting to render but not all required libraries could be resolved.\")\n",
       "\t    embed_document(root)\n",
       "\t  }\n",
       "        }\n",
       "      }\n",
       "    }, 25, root)\n",
       "  }\n",
       "})(window);</script>"
      ],
      "text/plain": [
       ":Scatter   [SepalRatio]   (PetalRatio)"
      ]
     },
     "execution_count": 387,
     "metadata": {
      "application/vnd.holoviews_exec.v0+json": {
       "id": "2b09b27e-d22d-460b-a686-160c9c624267"
      }
     },
     "output_type": "execute_result"
    }
   ],
   "source": [
    "(\n",
    "iris\n",
    ".filter(pl.col('SepalLength') > 5)\n",
    ".with_columns(\n",
    "    SepalRatio=pl.col('SepalWidth') / pl.col('SepalLength'),\n",
    "    PetalRatio=pl.col('PetalWidth') / pl.col('PetalLength')\n",
    ")\n",
    ".hvplot.scatter(x='SepalRatio', y='PetalRatio')\n",
    ")"
   ]
  },
  {
   "cell_type": "code",
   "execution_count": 388,
   "id": "81cefd81-fa8c-431d-a2a6-a1adbf6bbd2b",
   "metadata": {},
   "outputs": [
    {
     "data": {
      "text/html": [
       "<div><style>\n",
       ".dataframe > thead > tr,\n",
       ".dataframe > tbody > tr {\n",
       "  text-align: right;\n",
       "  white-space: pre-wrap;\n",
       "}\n",
       "</style>\n",
       "<small>shape: (3, 4)</small><table border=\"1\" class=\"dataframe\"><thead><tr><th>A</th><th>B</th><th>C</th><th>D</th></tr><tr><td>i64</td><td>i64</td><td>i64</td><td>i64</td></tr></thead><tbody><tr><td>1</td><td>4</td><td>5</td><td>6</td></tr><tr><td>2</td><td>5</td><td>7</td><td>9</td></tr><tr><td>3</td><td>6</td><td>9</td><td>12</td></tr></tbody></table></div>"
      ],
      "text/plain": [
       "shape: (3, 4)\n",
       "┌─────┬─────┬─────┬─────┐\n",
       "│ A   ┆ B   ┆ C   ┆ D   │\n",
       "│ --- ┆ --- ┆ --- ┆ --- │\n",
       "│ i64 ┆ i64 ┆ i64 ┆ i64 │\n",
       "╞═════╪═════╪═════╪═════╡\n",
       "│ 1   ┆ 4   ┆ 5   ┆ 6   │\n",
       "│ 2   ┆ 5   ┆ 7   ┆ 9   │\n",
       "│ 3   ┆ 6   ┆ 9   ┆ 12  │\n",
       "└─────┴─────┴─────┴─────┘"
      ]
     },
     "execution_count": 388,
     "metadata": {},
     "output_type": "execute_result"
    }
   ],
   "source": [
    "dfa = pl.DataFrame({\"A\": [1, 2, 3], \"B\": [4, 5, 6]})\n",
    "(\n",
    "dfa\n",
    ".with_columns(C = pl.col('A') + pl.col('B'))\n",
    ".with_columns(D = pl.col('A') + pl.col('C'))\n",
    ")"
   ]
  },
  {
   "cell_type": "markdown",
   "id": "54bc640b-d56f-4990-8ecd-3d5d5ff0a6f8",
   "metadata": {},
   "source": [
    "### Indexing / selection"
   ]
  },
  {
   "cell_type": "code",
   "execution_count": 389,
   "id": "8cf234e3-84bb-4423-bfde-e54ab7b78792",
   "metadata": {},
   "outputs": [
    {
     "data": {
      "text/html": [
       "<div><style>\n",
       ".dataframe > thead > tr,\n",
       ".dataframe > tbody > tr {\n",
       "  text-align: right;\n",
       "  white-space: pre-wrap;\n",
       "}\n",
       "</style>\n",
       "<small>shape: (1, 6)</small><table border=\"1\" class=\"dataframe\"><thead><tr><th>index</th><th>bar</th><th>one</th><th>flag</th><th>foo</th><th>one_trunc</th></tr><tr><td>str</td><td>f64</td><td>f64</td><td>bool</td><td>str</td><td>f64</td></tr></thead><tbody><tr><td>&quot;b&quot;</td><td>2.0</td><td>2.0</td><td>false</td><td>&quot;bar&quot;</td><td>2.0</td></tr></tbody></table></div>"
      ],
      "text/plain": [
       "shape: (1, 6)\n",
       "┌───────┬─────┬─────┬───────┬─────┬───────────┐\n",
       "│ index ┆ bar ┆ one ┆ flag  ┆ foo ┆ one_trunc │\n",
       "│ ---   ┆ --- ┆ --- ┆ ---   ┆ --- ┆ ---       │\n",
       "│ str   ┆ f64 ┆ f64 ┆ bool  ┆ str ┆ f64       │\n",
       "╞═══════╪═════╪═════╪═══════╪═════╪═══════════╡\n",
       "│ b     ┆ 2.0 ┆ 2.0 ┆ false ┆ bar ┆ 2.0       │\n",
       "└───────┴─────┴─────┴───────┴─────┴───────────┘"
      ]
     },
     "execution_count": 389,
     "metadata": {},
     "output_type": "execute_result"
    }
   ],
   "source": [
    "# df.loc[\"b\"]\n",
    "df.filter(pl.col('index') == 'b')"
   ]
  },
  {
   "cell_type": "code",
   "execution_count": 390,
   "id": "17f2b709-93d3-4bee-a496-1a9665ca1194",
   "metadata": {},
   "outputs": [
    {
     "data": {
      "text/html": [
       "<div><style>\n",
       ".dataframe > thead > tr,\n",
       ".dataframe > tbody > tr {\n",
       "  text-align: right;\n",
       "  white-space: pre-wrap;\n",
       "}\n",
       "</style>\n",
       "<small>shape: (1, 6)</small><table border=\"1\" class=\"dataframe\"><thead><tr><th>index</th><th>bar</th><th>one</th><th>flag</th><th>foo</th><th>one_trunc</th></tr><tr><td>str</td><td>f64</td><td>f64</td><td>bool</td><td>str</td><td>f64</td></tr></thead><tbody><tr><td>&quot;c&quot;</td><td>3.0</td><td>3.0</td><td>true</td><td>&quot;bar&quot;</td><td>null</td></tr></tbody></table></div>"
      ],
      "text/plain": [
       "shape: (1, 6)\n",
       "┌───────┬─────┬─────┬──────┬─────┬───────────┐\n",
       "│ index ┆ bar ┆ one ┆ flag ┆ foo ┆ one_trunc │\n",
       "│ ---   ┆ --- ┆ --- ┆ ---  ┆ --- ┆ ---       │\n",
       "│ str   ┆ f64 ┆ f64 ┆ bool ┆ str ┆ f64       │\n",
       "╞═══════╪═════╪═════╪══════╪═════╪═══════════╡\n",
       "│ c     ┆ 3.0 ┆ 3.0 ┆ true ┆ bar ┆ null      │\n",
       "└───────┴─────┴─────┴──────┴─────┴───────────┘"
      ]
     },
     "execution_count": 390,
     "metadata": {},
     "output_type": "execute_result"
    }
   ],
   "source": [
    "# df.iloc[2]\n",
    "df.slice(2, 1)"
   ]
  },
  {
   "cell_type": "markdown",
   "id": "00546c12-931a-4f0a-8d18-80e8e45fc646",
   "metadata": {},
   "source": [
    "### Data alignment and arithmetic"
   ]
  },
  {
   "cell_type": "code",
   "execution_count": 391,
   "id": "b977f5d6-962a-4cac-9234-1f331a8b88c0",
   "metadata": {},
   "outputs": [
    {
     "data": {
      "text/html": [
       "<div><style>\n",
       ".dataframe > thead > tr,\n",
       ".dataframe > tbody > tr {\n",
       "  text-align: right;\n",
       "  white-space: pre-wrap;\n",
       "}\n",
       "</style>\n",
       "<small>shape: (10, 5)</small><table border=\"1\" class=\"dataframe\"><thead><tr><th>index</th><th>A</th><th>B</th><th>C</th><th>D</th></tr><tr><td>u32</td><td>f64</td><td>f64</td><td>f64</td><td>f64</td></tr></thead><tbody><tr><td>0</td><td>0.779298</td><td>0.901811</td><td>0.091126</td><td>1.41107</td></tr><tr><td>1</td><td>-0.936034</td><td>-2.621484</td><td>0.237825</td><td>1.146001</td></tr><tr><td>2</td><td>-1.192351</td><td>-3.360748</td><td>1.563503</td><td>0.1362</td></tr><tr><td>3</td><td>0.933616</td><td>-0.613897</td><td>-1.318911</td><td>0.193137</td></tr><tr><td>4</td><td>-0.195308</td><td>-0.5624</td><td>0.118895</td><td>0.222491</td></tr><tr><td>5</td><td>0.876072</td><td>-0.813732</td><td>1.367814</td><td>0.554935</td></tr><tr><td>6</td><td>0.73751</td><td>0.994505</td><td>1.104228</td><td>0.4458</td></tr><tr><td>7</td><td>null</td><td>null</td><td>null</td><td>0.959163</td></tr><tr><td>8</td><td>null</td><td>null</td><td>null</td><td>1.144944</td></tr><tr><td>9</td><td>null</td><td>null</td><td>null</td><td>0.158198</td></tr></tbody></table></div>"
      ],
      "text/plain": [
       "shape: (10, 5)\n",
       "┌───────┬───────────┬───────────┬───────────┬──────────┐\n",
       "│ index ┆ A         ┆ B         ┆ C         ┆ D        │\n",
       "│ ---   ┆ ---       ┆ ---       ┆ ---       ┆ ---      │\n",
       "│ u32   ┆ f64       ┆ f64       ┆ f64       ┆ f64      │\n",
       "╞═══════╪═══════════╪═══════════╪═══════════╪══════════╡\n",
       "│ 0     ┆ 0.779298  ┆ 0.901811  ┆ 0.091126  ┆ 1.41107  │\n",
       "│ 1     ┆ -0.936034 ┆ -2.621484 ┆ 0.237825  ┆ 1.146001 │\n",
       "│ 2     ┆ -1.192351 ┆ -3.360748 ┆ 1.563503  ┆ 0.1362   │\n",
       "│ 3     ┆ 0.933616  ┆ -0.613897 ┆ -1.318911 ┆ 0.193137 │\n",
       "│ 4     ┆ -0.195308 ┆ -0.5624   ┆ 0.118895  ┆ 0.222491 │\n",
       "│ 5     ┆ 0.876072  ┆ -0.813732 ┆ 1.367814  ┆ 0.554935 │\n",
       "│ 6     ┆ 0.73751   ┆ 0.994505  ┆ 1.104228  ┆ 0.4458   │\n",
       "│ 7     ┆ null      ┆ null      ┆ null      ┆ 0.959163 │\n",
       "│ 8     ┆ null      ┆ null      ┆ null      ┆ 1.144944 │\n",
       "│ 9     ┆ null      ┆ null      ┆ null      ┆ 0.158198 │\n",
       "└───────┴───────────┴───────────┴───────────┴──────────┘"
      ]
     },
     "execution_count": 391,
     "metadata": {},
     "output_type": "execute_result"
    }
   ],
   "source": [
    "# df + df2\n",
    "df = pl.DataFrame(np.random.randn(10, 4), schema=[\"A\", \"B\", \"C\", \"D\"])\n",
    "df2 = pl.DataFrame(np.random.randn(7, 3), schema=[\"A\", \"B\", \"C\"])\n",
    "align_op(df.with_row_index(), df2.with_row_index(), pl.Expr.add, fill_value=None)"
   ]
  },
  {
   "cell_type": "code",
   "execution_count": 392,
   "id": "7bc4f733-f1c9-4970-9379-c7c87ab01c58",
   "metadata": {},
   "outputs": [
    {
     "data": {
      "text/html": [
       "<div><style>\n",
       ".dataframe > thead > tr,\n",
       ".dataframe > tbody > tr {\n",
       "  text-align: right;\n",
       "  white-space: pre-wrap;\n",
       "}\n",
       "</style>\n",
       "<small>shape: (10, 4)</small><table border=\"1\" class=\"dataframe\"><thead><tr><th>A</th><th>B</th><th>C</th><th>D</th></tr><tr><td>f64</td><td>f64</td><td>f64</td><td>f64</td></tr></thead><tbody><tr><td>0.0</td><td>0.0</td><td>0.0</td><td>0.0</td></tr><tr><td>-0.755136</td><td>-2.481002</td><td>0.449509</td><td>-0.265068</td></tr><tr><td>-0.660488</td><td>-3.696891</td><td>1.680688</td><td>-1.27487</td></tr><tr><td>1.186271</td><td>-2.438415</td><td>-0.240415</td><td>-1.217932</td></tr><tr><td>-0.508953</td><td>-1.89029</td><td>1.344603</td><td>-1.188579</td></tr><tr><td>-0.631357</td><td>-2.716706</td><td>0.657985</td><td>-0.856135</td></tr><tr><td>0.117999</td><td>-1.390857</td><td>0.727739</td><td>-0.96527</td></tr><tr><td>0.549259</td><td>-1.176227</td><td>2.202544</td><td>-0.451907</td></tr><tr><td>0.772859</td><td>-1.250499</td><td>2.459803</td><td>-0.266126</td></tr><tr><td>-0.366154</td><td>-0.029816</td><td>1.599533</td><td>-1.252872</td></tr></tbody></table></div>"
      ],
      "text/plain": [
       "shape: (10, 4)\n",
       "┌───────────┬───────────┬───────────┬───────────┐\n",
       "│ A         ┆ B         ┆ C         ┆ D         │\n",
       "│ ---       ┆ ---       ┆ ---       ┆ ---       │\n",
       "│ f64       ┆ f64       ┆ f64       ┆ f64       │\n",
       "╞═══════════╪═══════════╪═══════════╪═══════════╡\n",
       "│ 0.0       ┆ 0.0       ┆ 0.0       ┆ 0.0       │\n",
       "│ -0.755136 ┆ -2.481002 ┆ 0.449509  ┆ -0.265068 │\n",
       "│ -0.660488 ┆ -3.696891 ┆ 1.680688  ┆ -1.27487  │\n",
       "│ 1.186271  ┆ -2.438415 ┆ -0.240415 ┆ -1.217932 │\n",
       "│ -0.508953 ┆ -1.89029  ┆ 1.344603  ┆ -1.188579 │\n",
       "│ -0.631357 ┆ -2.716706 ┆ 0.657985  ┆ -0.856135 │\n",
       "│ 0.117999  ┆ -1.390857 ┆ 0.727739  ┆ -0.96527  │\n",
       "│ 0.549259  ┆ -1.176227 ┆ 2.202544  ┆ -0.451907 │\n",
       "│ 0.772859  ┆ -1.250499 ┆ 2.459803  ┆ -0.266126 │\n",
       "│ -0.366154 ┆ -0.029816 ┆ 1.599533  ┆ -1.252872 │\n",
       "└───────────┴───────────┴───────────┴───────────┘"
      ]
     },
     "execution_count": 392,
     "metadata": {},
     "output_type": "execute_result"
    }
   ],
   "source": [
    "# df - df.iloc[0]\n",
    "df.select(pl.all() - pl.all().first())"
   ]
  },
  {
   "cell_type": "code",
   "execution_count": 393,
   "id": "d0899303-ad74-4436-ad20-b6bf64278269",
   "metadata": {},
   "outputs": [
    {
     "data": {
      "text/html": [
       "<div><style>\n",
       ".dataframe > thead > tr,\n",
       ".dataframe > tbody > tr {\n",
       "  text-align: right;\n",
       "  white-space: pre-wrap;\n",
       "}\n",
       "</style>\n",
       "<small>shape: (10, 4)</small><table border=\"1\" class=\"dataframe\"><thead><tr><th>A</th><th>B</th><th>C</th><th>D</th></tr><tr><td>f64</td><td>f64</td><td>f64</td><td>f64</td></tr></thead><tbody><tr><td>0.646731</td><td>10.257392</td><td>-3.479233</td><td>9.055349</td></tr><tr><td>-3.128947</td><td>-2.147616</td><td>-1.231688</td><td>7.730007</td></tr><tr><td>-2.65571</td><td>-8.227061</td><td>4.924206</td><td>2.681001</td></tr><tr><td>6.578087</td><td>-1.934685</td><td>-4.681306</td><td>2.965687</td></tr><tr><td>-1.898036</td><td>0.80594</td><td>3.243782</td><td>3.112453</td></tr><tr><td>-2.510055</td><td>-3.32614</td><td>-0.189309</td><td>4.774675</td></tr><tr><td>1.236725</td><td>3.303107</td><td>0.159463</td><td>4.228999</td></tr><tr><td>3.393025</td><td>4.376257</td><td>7.533488</td><td>6.795814</td></tr><tr><td>4.511027</td><td>4.004899</td><td>8.819779</td><td>7.724719</td></tr><tr><td>-1.184039</td><td>10.108311</td><td>4.518431</td><td>2.790988</td></tr></tbody></table></div>"
      ],
      "text/plain": [
       "shape: (10, 4)\n",
       "┌───────────┬───────────┬───────────┬──────────┐\n",
       "│ A         ┆ B         ┆ C         ┆ D        │\n",
       "│ ---       ┆ ---       ┆ ---       ┆ ---      │\n",
       "│ f64       ┆ f64       ┆ f64       ┆ f64      │\n",
       "╞═══════════╪═══════════╪═══════════╪══════════╡\n",
       "│ 0.646731  ┆ 10.257392 ┆ -3.479233 ┆ 9.055349 │\n",
       "│ -3.128947 ┆ -2.147616 ┆ -1.231688 ┆ 7.730007 │\n",
       "│ -2.65571  ┆ -8.227061 ┆ 4.924206  ┆ 2.681001 │\n",
       "│ 6.578087  ┆ -1.934685 ┆ -4.681306 ┆ 2.965687 │\n",
       "│ -1.898036 ┆ 0.80594   ┆ 3.243782  ┆ 3.112453 │\n",
       "│ -2.510055 ┆ -3.32614  ┆ -0.189309 ┆ 4.774675 │\n",
       "│ 1.236725  ┆ 3.303107  ┆ 0.159463  ┆ 4.228999 │\n",
       "│ 3.393025  ┆ 4.376257  ┆ 7.533488  ┆ 6.795814 │\n",
       "│ 4.511027  ┆ 4.004899  ┆ 8.819779  ┆ 7.724719 │\n",
       "│ -1.184039 ┆ 10.108311 ┆ 4.518431  ┆ 2.790988 │\n",
       "└───────────┴───────────┴───────────┴──────────┘"
      ]
     },
     "execution_count": 393,
     "metadata": {},
     "output_type": "execute_result"
    }
   ],
   "source": [
    "df * 5 + 2\n",
    "df.select(pl.all() * 5 + 2) # or this"
   ]
  },
  {
   "cell_type": "code",
   "execution_count": 394,
   "id": "26b483f5-a539-4ab4-bd45-5591f24f514c",
   "metadata": {},
   "outputs": [
    {
     "data": {
      "text/html": [
       "<div><style>\n",
       ".dataframe > thead > tr,\n",
       ".dataframe > tbody > tr {\n",
       "  text-align: right;\n",
       "  white-space: pre-wrap;\n",
       "}\n",
       "</style>\n",
       "<small>shape: (10, 4)</small><table border=\"1\" class=\"dataframe\"><thead><tr><th>A</th><th>B</th><th>C</th><th>D</th></tr><tr><td>f64</td><td>f64</td><td>f64</td><td>f64</td></tr></thead><tbody><tr><td>-3.694757</td><td>0.605518</td><td>-0.912536</td><td>0.708682</td></tr><tr><td>-0.974859</td><td>-1.205512</td><td>-1.547179</td><td>0.872599</td></tr><tr><td>-1.07395</td><td>-0.488899</td><td>1.709866</td><td>7.342137</td></tr><tr><td>1.092159</td><td>-1.27075</td><td>-0.748357</td><td>5.177661</td></tr><tr><td>-1.282697</td><td>-4.187395</td><td>4.019998</td><td>4.494571</td></tr><tr><td>-1.108634</td><td>-0.938766</td><td>-2.283826</td><td>1.802013</td></tr><tr><td>-6.550721</td><td>3.836984</td><td>-2.716598</td><td>2.243159</td></tr><tr><td>3.58931</td><td>2.104149</td><td>0.903589</td><td>1.042576</td></tr><tr><td>1.991217</td><td>2.493891</td><td>0.733162</td><td>0.873405</td></tr><tr><td>-1.570332</td><td>0.616651</td><td>1.985363</td><td>6.321207</td></tr></tbody></table></div>"
      ],
      "text/plain": [
       "shape: (10, 4)\n",
       "┌───────────┬───────────┬───────────┬──────────┐\n",
       "│ A         ┆ B         ┆ C         ┆ D        │\n",
       "│ ---       ┆ ---       ┆ ---       ┆ ---      │\n",
       "│ f64       ┆ f64       ┆ f64       ┆ f64      │\n",
       "╞═══════════╪═══════════╪═══════════╪══════════╡\n",
       "│ -3.694757 ┆ 0.605518  ┆ -0.912536 ┆ 0.708682 │\n",
       "│ -0.974859 ┆ -1.205512 ┆ -1.547179 ┆ 0.872599 │\n",
       "│ -1.07395  ┆ -0.488899 ┆ 1.709866  ┆ 7.342137 │\n",
       "│ 1.092159  ┆ -1.27075  ┆ -0.748357 ┆ 5.177661 │\n",
       "│ -1.282697 ┆ -4.187395 ┆ 4.019998  ┆ 4.494571 │\n",
       "│ -1.108634 ┆ -0.938766 ┆ -2.283826 ┆ 1.802013 │\n",
       "│ -6.550721 ┆ 3.836984  ┆ -2.716598 ┆ 2.243159 │\n",
       "│ 3.58931   ┆ 2.104149  ┆ 0.903589  ┆ 1.042576 │\n",
       "│ 1.991217  ┆ 2.493891  ┆ 0.733162  ┆ 0.873405 │\n",
       "│ -1.570332 ┆ 0.616651  ┆ 1.985363  ┆ 6.321207 │\n",
       "└───────────┴───────────┴───────────┴──────────┘"
      ]
     },
     "execution_count": 394,
     "metadata": {},
     "output_type": "execute_result"
    }
   ],
   "source": [
    "df.select((1 / pl.all()).name.keep())"
   ]
  },
  {
   "cell_type": "code",
   "execution_count": 395,
   "id": "84dbebb7-0775-4838-904d-d3c740224a6c",
   "metadata": {},
   "outputs": [
    {
     "data": {
      "text/html": [
       "<div><style>\n",
       ".dataframe > thead > tr,\n",
       ".dataframe > tbody > tr {\n",
       "  text-align: right;\n",
       "  white-space: pre-wrap;\n",
       "}\n",
       "</style>\n",
       "<small>shape: (10, 4)</small><table border=\"1\" class=\"dataframe\"><thead><tr><th>A</th><th>B</th><th>C</th><th>D</th></tr><tr><td>f64</td><td>f64</td><td>f64</td><td>f64</td></tr></thead><tbody><tr><td>0.005366</td><td>7.438608</td><td>1.442113</td><td>3.964551</td></tr><tr><td>1.107218</td><td>0.473494</td><td>0.174517</td><td>1.724807</td></tr><tr><td>0.751733</td><td>17.503438</td><td>0.116991</td><td>0.000344</td></tr><tr><td>0.702839</td><td>0.383495</td><td>3.188347</td><td>0.001391</td></tr><tr><td>0.369406</td><td>0.003253</td><td>0.003829</td><td>0.00245</td></tr><tr><td>0.661984</td><td>1.287568</td><td>0.036758</td><td>0.094835</td></tr><tr><td>0.000543</td><td>0.004614</td><td>0.018361</td><td>0.039497</td></tr><tr><td>0.006025</td><td>0.051015</td><td>1.500085</td><td>0.846387</td></tr><tr><td>0.06361</td><td>0.025852</td><td>3.460997</td><td>1.718449</td></tr><tr><td>0.16445</td><td>6.915785</td><td>0.064364</td><td>0.000626</td></tr></tbody></table></div>"
      ],
      "text/plain": [
       "shape: (10, 4)\n",
       "┌──────────┬───────────┬──────────┬──────────┐\n",
       "│ A        ┆ B         ┆ C        ┆ D        │\n",
       "│ ---      ┆ ---       ┆ ---      ┆ ---      │\n",
       "│ f64      ┆ f64       ┆ f64      ┆ f64      │\n",
       "╞══════════╪═══════════╪══════════╪══════════╡\n",
       "│ 0.005366 ┆ 7.438608  ┆ 1.442113 ┆ 3.964551 │\n",
       "│ 1.107218 ┆ 0.473494  ┆ 0.174517 ┆ 1.724807 │\n",
       "│ 0.751733 ┆ 17.503438 ┆ 0.116991 ┆ 0.000344 │\n",
       "│ 0.702839 ┆ 0.383495  ┆ 3.188347 ┆ 0.001391 │\n",
       "│ 0.369406 ┆ 0.003253  ┆ 0.003829 ┆ 0.00245  │\n",
       "│ 0.661984 ┆ 1.287568  ┆ 0.036758 ┆ 0.094835 │\n",
       "│ 0.000543 ┆ 0.004614  ┆ 0.018361 ┆ 0.039497 │\n",
       "│ 0.006025 ┆ 0.051015  ┆ 1.500085 ┆ 0.846387 │\n",
       "│ 0.06361  ┆ 0.025852  ┆ 3.460997 ┆ 1.718449 │\n",
       "│ 0.16445  ┆ 6.915785  ┆ 0.064364 ┆ 0.000626 │\n",
       "└──────────┴───────────┴──────────┴──────────┘"
      ]
     },
     "execution_count": 395,
     "metadata": {},
     "output_type": "execute_result"
    }
   ],
   "source": [
    "df.select(pl.all() ** 4)"
   ]
  },
  {
   "cell_type": "code",
   "execution_count": 396,
   "id": "c878bcc2-478d-41ef-bae7-14e755469f2e",
   "metadata": {},
   "outputs": [],
   "source": [
    "df1 = pl.DataFrame({\"a\": [1, 0, 1], \"b\": [0, 1, 1]}).cast(pl.Boolean)\n",
    "df2 = pl.DataFrame({\"a\": [0, 1, 1], \"b\": [1, 1, 0]}).cast(pl.Boolean)"
   ]
  },
  {
   "cell_type": "code",
   "execution_count": 397,
   "id": "4386501a-83ab-441d-88a8-26ee08bd376b",
   "metadata": {},
   "outputs": [
    {
     "data": {
      "text/html": [
       "<div><style>\n",
       ".dataframe > thead > tr,\n",
       ".dataframe > tbody > tr {\n",
       "  text-align: right;\n",
       "  white-space: pre-wrap;\n",
       "}\n",
       "</style>\n",
       "<small>shape: (3, 3)</small><table border=\"1\" class=\"dataframe\"><thead><tr><th>index</th><th>a</th><th>b</th></tr><tr><td>u32</td><td>bool</td><td>bool</td></tr></thead><tbody><tr><td>0</td><td>false</td><td>false</td></tr><tr><td>1</td><td>false</td><td>true</td></tr><tr><td>2</td><td>true</td><td>false</td></tr></tbody></table></div>"
      ],
      "text/plain": [
       "shape: (3, 3)\n",
       "┌───────┬───────┬───────┐\n",
       "│ index ┆ a     ┆ b     │\n",
       "│ ---   ┆ ---   ┆ ---   │\n",
       "│ u32   ┆ bool  ┆ bool  │\n",
       "╞═══════╪═══════╪═══════╡\n",
       "│ 0     ┆ false ┆ false │\n",
       "│ 1     ┆ false ┆ true  │\n",
       "│ 2     ┆ true  ┆ false │\n",
       "└───────┴───────┴───────┘"
      ]
     },
     "execution_count": 397,
     "metadata": {},
     "output_type": "execute_result"
    }
   ],
   "source": [
    "# df1 & df2\n",
    "align_op(df1.with_row_index(), df2.with_row_index(), pl.Expr.and_)"
   ]
  },
  {
   "cell_type": "code",
   "execution_count": 398,
   "id": "c5003633-2de5-4a26-8c20-64f85589e402",
   "metadata": {},
   "outputs": [
    {
     "data": {
      "text/html": [
       "<div><style>\n",
       ".dataframe > thead > tr,\n",
       ".dataframe > tbody > tr {\n",
       "  text-align: right;\n",
       "  white-space: pre-wrap;\n",
       "}\n",
       "</style>\n",
       "<small>shape: (3, 3)</small><table border=\"1\" class=\"dataframe\"><thead><tr><th>index</th><th>a</th><th>b</th></tr><tr><td>u32</td><td>bool</td><td>bool</td></tr></thead><tbody><tr><td>0</td><td>true</td><td>true</td></tr><tr><td>1</td><td>true</td><td>true</td></tr><tr><td>2</td><td>true</td><td>true</td></tr></tbody></table></div>"
      ],
      "text/plain": [
       "shape: (3, 3)\n",
       "┌───────┬──────┬──────┐\n",
       "│ index ┆ a    ┆ b    │\n",
       "│ ---   ┆ ---  ┆ ---  │\n",
       "│ u32   ┆ bool ┆ bool │\n",
       "╞═══════╪══════╪══════╡\n",
       "│ 0     ┆ true ┆ true │\n",
       "│ 1     ┆ true ┆ true │\n",
       "│ 2     ┆ true ┆ true │\n",
       "└───────┴──────┴──────┘"
      ]
     },
     "execution_count": 398,
     "metadata": {},
     "output_type": "execute_result"
    }
   ],
   "source": [
    "# df1 | df2\n",
    "align_op(df1.with_row_index(), df2.with_row_index(), pl.Expr.or_)"
   ]
  },
  {
   "cell_type": "code",
   "execution_count": 399,
   "id": "9dcb3e5f-ca32-4625-ab87-fb0a6cd9e30e",
   "metadata": {},
   "outputs": [
    {
     "data": {
      "text/html": [
       "<div><style>\n",
       ".dataframe > thead > tr,\n",
       ".dataframe > tbody > tr {\n",
       "  text-align: right;\n",
       "  white-space: pre-wrap;\n",
       "}\n",
       "</style>\n",
       "<small>shape: (3, 3)</small><table border=\"1\" class=\"dataframe\"><thead><tr><th>index</th><th>a</th><th>b</th></tr><tr><td>u32</td><td>bool</td><td>bool</td></tr></thead><tbody><tr><td>0</td><td>true</td><td>true</td></tr><tr><td>1</td><td>true</td><td>false</td></tr><tr><td>2</td><td>false</td><td>true</td></tr></tbody></table></div>"
      ],
      "text/plain": [
       "shape: (3, 3)\n",
       "┌───────┬───────┬───────┐\n",
       "│ index ┆ a     ┆ b     │\n",
       "│ ---   ┆ ---   ┆ ---   │\n",
       "│ u32   ┆ bool  ┆ bool  │\n",
       "╞═══════╪═══════╪═══════╡\n",
       "│ 0     ┆ true  ┆ true  │\n",
       "│ 1     ┆ true  ┆ false │\n",
       "│ 2     ┆ false ┆ true  │\n",
       "└───────┴───────┴───────┘"
      ]
     },
     "execution_count": 399,
     "metadata": {},
     "output_type": "execute_result"
    }
   ],
   "source": [
    "# df1 ^ df2\n",
    "align_op(df1.with_row_index(), df2.with_row_index(), pl.Expr.xor)"
   ]
  },
  {
   "cell_type": "code",
   "execution_count": 400,
   "id": "5e7e2f60-6c03-4f93-ab54-be1e1c573774",
   "metadata": {},
   "outputs": [
    {
     "data": {
      "text/html": [
       "<div><style>\n",
       ".dataframe > thead > tr,\n",
       ".dataframe > tbody > tr {\n",
       "  text-align: right;\n",
       "  white-space: pre-wrap;\n",
       "}\n",
       "</style>\n",
       "<small>shape: (3, 2)</small><table border=\"1\" class=\"dataframe\"><thead><tr><th>a</th><th>b</th></tr><tr><td>bool</td><td>bool</td></tr></thead><tbody><tr><td>false</td><td>true</td></tr><tr><td>true</td><td>false</td></tr><tr><td>false</td><td>false</td></tr></tbody></table></div>"
      ],
      "text/plain": [
       "shape: (3, 2)\n",
       "┌───────┬───────┐\n",
       "│ a     ┆ b     │\n",
       "│ ---   ┆ ---   │\n",
       "│ bool  ┆ bool  │\n",
       "╞═══════╪═══════╡\n",
       "│ false ┆ true  │\n",
       "│ true  ┆ false │\n",
       "│ false ┆ false │\n",
       "└───────┴───────┘"
      ]
     },
     "execution_count": 400,
     "metadata": {},
     "output_type": "execute_result"
    }
   ],
   "source": [
    "# -df1\n",
    "df1.select(pl.all().not_())"
   ]
  },
  {
   "cell_type": "markdown",
   "id": "a6e74e35-aaa9-447c-b1d6-e4563c505408",
   "metadata": {},
   "source": [
    "### Transposing"
   ]
  },
  {
   "cell_type": "code",
   "execution_count": 401,
   "id": "4f752c20-fa32-42ad-a63c-5cd7f347f895",
   "metadata": {},
   "outputs": [
    {
     "data": {
      "text/html": [
       "<div><style>\n",
       ".dataframe > thead > tr,\n",
       ".dataframe > tbody > tr {\n",
       "  text-align: right;\n",
       "  white-space: pre-wrap;\n",
       "}\n",
       "</style>\n",
       "<small>shape: (4, 6)</small><table border=\"1\" class=\"dataframe\"><thead><tr><th>index</th><th>column_0</th><th>column_1</th><th>column_2</th><th>column_3</th><th>column_4</th></tr><tr><td>str</td><td>f64</td><td>f64</td><td>f64</td><td>f64</td><td>f64</td></tr></thead><tbody><tr><td>&quot;A&quot;</td><td>-0.270654</td><td>-1.025789</td><td>-0.931142</td><td>0.915617</td><td>-0.779607</td></tr><tr><td>&quot;B&quot;</td><td>1.651478</td><td>-0.829523</td><td>-2.045412</td><td>-0.786937</td><td>-0.238812</td></tr><tr><td>&quot;C&quot;</td><td>-1.095847</td><td>-0.646338</td><td>0.584841</td><td>-1.336261</td><td>0.248756</td></tr><tr><td>&quot;D&quot;</td><td>1.41107</td><td>1.146001</td><td>0.1362</td><td>0.193137</td><td>0.222491</td></tr></tbody></table></div>"
      ],
      "text/plain": [
       "shape: (4, 6)\n",
       "┌───────┬───────────┬───────────┬───────────┬───────────┬───────────┐\n",
       "│ index ┆ column_0  ┆ column_1  ┆ column_2  ┆ column_3  ┆ column_4  │\n",
       "│ ---   ┆ ---       ┆ ---       ┆ ---       ┆ ---       ┆ ---       │\n",
       "│ str   ┆ f64       ┆ f64       ┆ f64       ┆ f64       ┆ f64       │\n",
       "╞═══════╪═══════════╪═══════════╪═══════════╪═══════════╪═══════════╡\n",
       "│ A     ┆ -0.270654 ┆ -1.025789 ┆ -0.931142 ┆ 0.915617  ┆ -0.779607 │\n",
       "│ B     ┆ 1.651478  ┆ -0.829523 ┆ -2.045412 ┆ -0.786937 ┆ -0.238812 │\n",
       "│ C     ┆ -1.095847 ┆ -0.646338 ┆ 0.584841  ┆ -1.336261 ┆ 0.248756  │\n",
       "│ D     ┆ 1.41107   ┆ 1.146001  ┆ 0.1362    ┆ 0.193137  ┆ 0.222491  │\n",
       "└───────┴───────────┴───────────┴───────────┴───────────┴───────────┘"
      ]
     },
     "execution_count": 401,
     "metadata": {},
     "output_type": "execute_result"
    }
   ],
   "source": [
    "df.slice(0, 5).transpose(include_header=True, header_name='index')"
   ]
  },
  {
   "cell_type": "markdown",
   "id": "fde7671d-70d7-4afd-abb8-8590458e0b56",
   "metadata": {},
   "source": [
    "### DataFrame interoperability with NumPy functions"
   ]
  },
  {
   "cell_type": "code",
   "execution_count": 402,
   "id": "a34197b6-6b7a-406f-ac47-257079465cbb",
   "metadata": {},
   "outputs": [
    {
     "data": {
      "text/plain": [
       "array([[0.76288056, 5.2146839 , 0.33425647, 4.10033964],\n",
       "       [0.35851332, 0.43625722, 0.52396123, 3.14558954],\n",
       "       [0.39410336, 0.12932687, 1.79470589, 1.14591119],\n",
       "       [2.49831716, 0.45523708, 0.26282647, 1.21304945],\n",
       "       [0.4585861 , 0.78756298, 1.28242953, 1.24918415],\n",
       "       [0.4057529 , 0.34464929, 0.64541498, 1.74182763],\n",
       "       [0.85842587, 1.29773619, 0.69204278, 1.56173886],\n",
       "       [1.32128542, 1.60841852, 3.02435428, 2.60951072],\n",
       "       [1.65236152, 1.49328708, 3.91163667, 3.14226478],\n",
       "       [0.52897833, 5.06149624, 1.65480988, 1.17139769]])"
      ]
     },
     "execution_count": 402,
     "metadata": {},
     "output_type": "execute_result"
    }
   ],
   "source": [
    "np.exp(df)"
   ]
  },
  {
   "cell_type": "code",
   "execution_count": 403,
   "id": "ccd80ad9-a9d1-4b89-ac4c-1daa895c7a2c",
   "metadata": {},
   "outputs": [
    {
     "data": {
      "text/plain": [
       "array([[-0.27065379,  1.65147847, -1.0958467 ,  1.41106981],\n",
       "       [-1.02578947, -0.82952326, -0.64633759,  1.14600133],\n",
       "       [-0.93114207, -2.04541218,  0.58484116,  0.13620012],\n",
       "       [ 0.91561737, -0.78693694, -1.33626128,  0.19313739],\n",
       "       [-0.77960722, -0.23881194,  0.24875635,  0.22249066],\n",
       "       [-0.90201093, -1.06522792, -0.4378618 ,  0.55493493],\n",
       "       [-0.15265495,  0.26062136, -0.3681075 ,  0.44579985],\n",
       "       [ 0.27860506,  0.47525141,  1.10669761,  0.95916274],\n",
       "       [ 0.50220549,  0.40097979,  1.36395587,  1.14494381],\n",
       "       [-0.63680781,  1.62166214,  0.50368613,  0.15819764]])"
      ]
     },
     "execution_count": 403,
     "metadata": {},
     "output_type": "execute_result"
    }
   ],
   "source": [
    "np.asarray(df)"
   ]
  },
  {
   "cell_type": "code",
   "execution_count": 404,
   "id": "d7152ec2-b29b-4bbd-8c76-47eced83c852",
   "metadata": {},
   "outputs": [
    {
     "data": {
      "text/html": [
       "<div><style>\n",
       ".dataframe > thead > tr,\n",
       ".dataframe > tbody > tr {\n",
       "  text-align: right;\n",
       "  white-space: pre-wrap;\n",
       "}\n",
       "</style>\n",
       "<small>shape: (4,)</small><table border=\"1\" class=\"dataframe\"><thead><tr><th></th></tr><tr><td>f64</td></tr></thead><tbody><tr><td>2.718282</td></tr><tr><td>7.389056</td></tr><tr><td>20.085537</td></tr><tr><td>54.59815</td></tr></tbody></table></div>"
      ],
      "text/plain": [
       "shape: (4,)\n",
       "Series: '' [f64]\n",
       "[\n",
       "\t2.718282\n",
       "\t7.389056\n",
       "\t20.085537\n",
       "\t54.59815\n",
       "]"
      ]
     },
     "execution_count": 404,
     "metadata": {},
     "output_type": "execute_result"
    }
   ],
   "source": [
    "ser = pl.Series([1, 2, 3, 4])\n",
    "np.exp(ser)"
   ]
  },
  {
   "cell_type": "code",
   "execution_count": 405,
   "id": "c13aff6c-114b-4994-89bf-53e5cd6cc3d8",
   "metadata": {},
   "outputs": [
    {
     "data": {
      "text/html": [
       "<table><tr><td><div><style>\n",
       ".dataframe > thead > tr,\n",
       ".dataframe > tbody > tr {\n",
       "  text-align: right;\n",
       "  white-space: pre-wrap;\n",
       "}\n",
       "</style>\n",
       "<small>shape: (3, 2)</small><table border=\"1\" class=\"dataframe\"><thead><tr><th>value</th><th>index</th></tr><tr><td>i64</td><td>str</td></tr></thead><tbody><tr><td>1</td><td>&quot;a&quot;</td></tr><tr><td>2</td><td>&quot;b&quot;</td></tr><tr><td>3</td><td>&quot;c&quot;</td></tr></tbody></table></div></td><td><div><style>\n",
       ".dataframe > thead > tr,\n",
       ".dataframe > tbody > tr {\n",
       "  text-align: right;\n",
       "  white-space: pre-wrap;\n",
       "}\n",
       "</style>\n",
       "<small>shape: (3, 2)</small><table border=\"1\" class=\"dataframe\"><thead><tr><th>value</th><th>index</th></tr><tr><td>i64</td><td>str</td></tr></thead><tbody><tr><td>1</td><td>&quot;b&quot;</td></tr><tr><td>3</td><td>&quot;a&quot;</td></tr><tr><td>5</td><td>&quot;c&quot;</td></tr></tbody></table></div></td></tr></table>"
      ]
     },
     "metadata": {},
     "output_type": "display_data"
    }
   ],
   "source": [
    "ser1 = pl.DataFrame(dict(value=[1, 2, 3], index=[\"a\", \"b\", \"c\"]))\n",
    "ser2 = pl.DataFrame(dict(value=[1, 3, 5], index=[\"b\", \"a\", \"c\"]))\n",
    "row(ser1, ser2)"
   ]
  },
  {
   "cell_type": "code",
   "execution_count": 411,
   "id": "1fb0d0d4-e3d5-46ec-b55c-8cfef4e0777e",
   "metadata": {},
   "outputs": [
    {
     "data": {
      "text/html": [
       "<table><tr><td><div><style>\n",
       ".dataframe > thead > tr,\n",
       ".dataframe > tbody > tr {\n",
       "  text-align: right;\n",
       "  white-space: pre-wrap;\n",
       "}\n",
       "</style>\n",
       "<small>shape: (3, 2)</small><table border=\"1\" class=\"dataframe\"><thead><tr><th>value</th><th>index</th></tr><tr><td>i64</td><td>str</td></tr></thead><tbody><tr><td>1</td><td>&quot;a&quot;</td></tr><tr><td>2</td><td>&quot;b&quot;</td></tr><tr><td>3</td><td>&quot;c&quot;</td></tr></tbody></table></div></td><td><div><style>\n",
       ".dataframe > thead > tr,\n",
       ".dataframe > tbody > tr {\n",
       "  text-align: right;\n",
       "  white-space: pre-wrap;\n",
       "}\n",
       "</style>\n",
       "<small>shape: (3, 2)</small><table border=\"1\" class=\"dataframe\"><thead><tr><th>value</th><th>index</th></tr><tr><td>i64</td><td>str</td></tr></thead><tbody><tr><td>3</td><td>&quot;a&quot;</td></tr><tr><td>1</td><td>&quot;b&quot;</td></tr><tr><td>5</td><td>&quot;c&quot;</td></tr></tbody></table></div></td><td><div><style>\n",
       ".dataframe > thead > tr,\n",
       ".dataframe > tbody > tr {\n",
       "  text-align: right;\n",
       "  white-space: pre-wrap;\n",
       "}\n",
       "</style>\n",
       "<small>shape: (3, 2)</small><table border=\"1\" class=\"dataframe\"><thead><tr><th>index</th><th>value</th></tr><tr><td>str</td><td>i64</td></tr></thead><tbody><tr><td>&quot;a&quot;</td><td>1</td></tr><tr><td>&quot;b&quot;</td><td>0</td></tr><tr><td>&quot;c&quot;</td><td>3</td></tr></tbody></table></div></td></tr></table>"
      ]
     },
     "metadata": {},
     "output_type": "display_data"
    }
   ],
   "source": [
    "# np.remainder(ser1, ser2)\n",
    "ser1_a, ser2_a = pl.align_frames(ser1, ser2, on='index')\n",
    "row(ser1_a, ser2_a, pl.select(\n",
    "    index=ser1_a['index'],\n",
    "    value=np.remainder(ser1_a['value'], ser2_a['value']))   \n",
    ")"
   ]
  },
  {
   "cell_type": "markdown",
   "id": "a825998e-fb2f-4ce0-8c6a-eb3f88572d4e",
   "metadata": {},
   "source": [
    "### Console display"
   ]
  },
  {
   "cell_type": "code",
   "execution_count": 412,
   "id": "107465f3-4340-4bb4-9f4b-b2cbb92d364b",
   "metadata": {},
   "outputs": [
    {
     "name": "stdout",
     "output_type": "stream",
     "text": [
      "shape: (100, 23)\n",
      "┌───────┬───────────┬──────┬───────┬───┬─────┬─────┬─────┬──────┐\n",
      "│ id    ┆ player    ┆ year ┆ stint ┆ … ┆ hbp ┆ sh  ┆ sf  ┆ gidp │\n",
      "│ ---   ┆ ---       ┆ ---  ┆ ---   ┆   ┆ --- ┆ --- ┆ --- ┆ ---  │\n",
      "│ i64   ┆ str       ┆ i64  ┆ i64   ┆   ┆ f64 ┆ f64 ┆ f64 ┆ f64  │\n",
      "╞═══════╪═══════════╪══════╪═══════╪═══╪═════╪═════╪═════╪══════╡\n",
      "│ 88641 ┆ womacto01 ┆ 2006 ┆ 2     ┆ … ┆ 0.0 ┆ 3.0 ┆ 0.0 ┆ 0.0  │\n",
      "│ 88643 ┆ schilcu01 ┆ 2006 ┆ 1     ┆ … ┆ 0.0 ┆ 0.0 ┆ 0.0 ┆ 0.0  │\n",
      "│ 88645 ┆ myersmi01 ┆ 2006 ┆ 1     ┆ … ┆ 0.0 ┆ 0.0 ┆ 0.0 ┆ 0.0  │\n",
      "│ 88649 ┆ helliri01 ┆ 2006 ┆ 1     ┆ … ┆ 0.0 ┆ 0.0 ┆ 0.0 ┆ 0.0  │\n",
      "│ 88650 ┆ johnsra05 ┆ 2006 ┆ 1     ┆ … ┆ 0.0 ┆ 0.0 ┆ 0.0 ┆ 0.0  │\n",
      "│ …     ┆ …         ┆ …    ┆ …     ┆ … ┆ …   ┆ …   ┆ …   ┆ …    │\n",
      "│ 89525 ┆ benitar01 ┆ 2007 ┆ 2     ┆ … ┆ 0.0 ┆ 0.0 ┆ 0.0 ┆ 0.0  │\n",
      "│ 89526 ┆ benitar01 ┆ 2007 ┆ 1     ┆ … ┆ 0.0 ┆ 0.0 ┆ 0.0 ┆ 0.0  │\n",
      "│ 89530 ┆ ausmubr01 ┆ 2007 ┆ 1     ┆ … ┆ 6.0 ┆ 4.0 ┆ 1.0 ┆ 11.0 │\n",
      "│ 89533 ┆ aloumo01  ┆ 2007 ┆ 1     ┆ … ┆ 2.0 ┆ 0.0 ┆ 3.0 ┆ 13.0 │\n",
      "│ 89534 ┆ alomasa02 ┆ 2007 ┆ 1     ┆ … ┆ 0.0 ┆ 0.0 ┆ 0.0 ┆ 0.0  │\n",
      "└───────┴───────────┴──────┴───────┴───┴─────┴─────┴─────┴──────┘\n"
     ]
    }
   ],
   "source": [
    "baseball = pl.read_csv('data/baseball.csv')\n",
    "print(baseball)"
   ]
  },
  {
   "cell_type": "code",
   "execution_count": 414,
   "id": "2a4375d0-9853-4702-a4ba-7b69c118e1f0",
   "metadata": {},
   "outputs": [
    {
     "name": "stdout",
     "output_type": "stream",
     "text": [
      "Rows: 100\n",
      "Columns: 23\n",
      "$ id     <i64> 88641, 88643, 88645, 88649, 88650, 88652, 88653, 88662, 89177, 89178\n",
      "$ player <str> 'womacto01', 'schilcu01', 'myersmi01', 'helliri01', 'johnsra05', 'finlest01', 'gonzalu01', 'seleaa01', 'francju01', 'francju01'\n",
      "$ year   <i64> 2006, 2006, 2006, 2006, 2006, 2006, 2006, 2006, 2007, 2007\n",
      "$ stint  <i64> 2, 1, 1, 1, 1, 1, 1, 1, 2, 1\n",
      "$ team   <str> 'CHN', 'BOS', 'NYA', 'MIL', 'NYA', 'SFN', 'ARI', 'LAN', 'ATL', 'NYN'\n",
      "$ lg     <str> 'NL', 'AL', 'AL', 'NL', 'AL', 'NL', 'NL', 'NL', 'NL', 'NL'\n",
      "$ g      <i64> 19, 31, 62, 20, 33, 139, 153, 28, 15, 40\n",
      "$ ab     <i64> 50, 2, 0, 3, 6, 426, 586, 26, 40, 50\n",
      "$ r      <i64> 6, 0, 0, 0, 0, 66, 93, 2, 1, 7\n",
      "$ h      <i64> 14, 1, 0, 0, 1, 105, 159, 5, 10, 10\n",
      "$ X2b    <i64> 1, 0, 0, 0, 0, 21, 52, 1, 3, 0\n",
      "$ X3b    <i64> 0, 0, 0, 0, 0, 12, 2, 0, 0, 0\n",
      "$ hr     <i64> 1, 0, 0, 0, 0, 6, 15, 0, 0, 1\n",
      "$ rbi    <f64> 2.0, 0.0, 0.0, 0.0, 0.0, 40.0, 73.0, 0.0, 8.0, 8.0\n",
      "$ sb     <f64> 1.0, 0.0, 0.0, 0.0, 0.0, 7.0, 0.0, 0.0, 0.0, 2.0\n",
      "$ cs     <f64> 1.0, 0.0, 0.0, 0.0, 0.0, 0.0, 1.0, 0.0, 0.0, 1.0\n",
      "$ bb     <i64> 4, 0, 0, 0, 0, 46, 69, 1, 4, 10\n",
      "$ so     <f64> 4.0, 1.0, 0.0, 2.0, 4.0, 55.0, 58.0, 7.0, 10.0, 13.0\n",
      "$ ibb    <f64> 0.0, 0.0, 0.0, 0.0, 0.0, 2.0, 10.0, 0.0, 1.0, 0.0\n",
      "$ hbp    <f64> 0.0, 0.0, 0.0, 0.0, 0.0, 2.0, 7.0, 0.0, 0.0, 0.0\n",
      "$ sh     <f64> 3.0, 0.0, 0.0, 0.0, 0.0, 3.0, 0.0, 6.0, 0.0, 0.0\n",
      "$ sf     <f64> 0.0, 0.0, 0.0, 0.0, 0.0, 4.0, 6.0, 0.0, 1.0, 1.0\n",
      "$ gidp   <f64> 0.0, 0.0, 0.0, 0.0, 0.0, 6.0, 14.0, 1.0, 1.0, 1.0\n",
      "\n"
     ]
    }
   ],
   "source": [
    "baseball.glimpse()"
   ]
  },
  {
   "cell_type": "code",
   "execution_count": 419,
   "id": "fdcdae5f-88e6-410f-bba6-2304dedc7824",
   "metadata": {},
   "outputs": [
    {
     "name": "stdout",
     "output_type": "stream",
     "text": [
      "shape: (20, 12)\n",
      "┌───────┬───────────┬──────┬───────┬───┬─────┬─────┬─────┬─────┐\n",
      "│ id    ┆ player    ┆ year ┆ stint ┆ … ┆ r   ┆ h   ┆ X2b ┆ X3b │\n",
      "│ ---   ┆ ---       ┆ ---  ┆ ---   ┆   ┆ --- ┆ --- ┆ --- ┆ --- │\n",
      "│ i64   ┆ str       ┆ i64  ┆ i64   ┆   ┆ i64 ┆ i64 ┆ i64 ┆ i64 │\n",
      "╞═══════╪═══════════╪══════╪═══════╪═══╪═════╪═════╪═════╪═════╡\n",
      "│ 89474 ┆ finlest01 ┆ 2007 ┆ 1     ┆ … ┆ 9   ┆ 17  ┆ 3   ┆ 0   │\n",
      "│ 89480 ┆ embreal01 ┆ 2007 ┆ 1     ┆ … ┆ 0   ┆ 0   ┆ 0   ┆ 0   │\n",
      "│ 89481 ┆ edmonji01 ┆ 2007 ┆ 1     ┆ … ┆ 39  ┆ 92  ┆ 15  ┆ 2   │\n",
      "│ 89482 ┆ easleda01 ┆ 2007 ┆ 1     ┆ … ┆ 24  ┆ 54  ┆ 6   ┆ 0   │\n",
      "│ 89489 ┆ delgaca01 ┆ 2007 ┆ 1     ┆ … ┆ 71  ┆ 139 ┆ 30  ┆ 0   │\n",
      "│ …     ┆ …         ┆ …    ┆ …     ┆ … ┆ …   ┆ …   ┆ …   ┆ …   │\n",
      "│ 89525 ┆ benitar01 ┆ 2007 ┆ 2     ┆ … ┆ 0   ┆ 0   ┆ 0   ┆ 0   │\n",
      "│ 89526 ┆ benitar01 ┆ 2007 ┆ 1     ┆ … ┆ 0   ┆ 0   ┆ 0   ┆ 0   │\n",
      "│ 89530 ┆ ausmubr01 ┆ 2007 ┆ 1     ┆ … ┆ 38  ┆ 82  ┆ 16  ┆ 3   │\n",
      "│ 89533 ┆ aloumo01  ┆ 2007 ┆ 1     ┆ … ┆ 51  ┆ 112 ┆ 19  ┆ 1   │\n",
      "│ 89534 ┆ alomasa02 ┆ 2007 ┆ 1     ┆ … ┆ 1   ┆ 3   ┆ 1   ┆ 0   │\n",
      "└───────┴───────────┴──────┴───────┴───┴─────┴─────┴─────┴─────┘\n"
     ]
    }
   ],
   "source": [
    "print(\n",
    "    baseball.select(pl.nth(range(0, 12)).tail(20))\n",
    ")"
   ]
  },
  {
   "cell_type": "code",
   "execution_count": 422,
   "id": "ceacf4e9-2259-4bcc-b9ee-a343286c36f6",
   "metadata": {},
   "outputs": [
    {
     "name": "stdout",
     "output_type": "stream",
     "text": [
      "shape: (3, 12)\n",
      "┌──────────┬───────────┬───────────┬───────────┬───┬───────────┬───────────┬───────────┬───────────┐\n",
      "│ column_0 ┆ column_1  ┆ column_2  ┆ column_3  ┆ … ┆ column_8  ┆ column_9  ┆ column_10 ┆ column_11 │\n",
      "│ ---      ┆ ---       ┆ ---       ┆ ---       ┆   ┆ ---       ┆ ---       ┆ ---       ┆ ---       │\n",
      "│ f64      ┆ f64       ┆ f64       ┆ f64       ┆   ┆ f64       ┆ f64       ┆ f64       ┆ f64       │\n",
      "╞══════════╪═══════════╪═══════════╪═══════════╪═══╪═══════════╪═══════════╪═══════════╪═══════════╡\n",
      "│ 0.545788 ┆ -0.786944 ┆ 0.511419  ┆ -1.465452 ┆ … ┆ 0.103465  ┆ 1.25846   ┆ -1.961481 ┆ -0.892518 │\n",
      "│ 0.828004 ┆ 0.291711  ┆ -0.666151 ┆ -0.056065 ┆ … ┆ -1.487244 ┆ -0.325992 ┆ -0.25713  ┆ -0.381324 │\n",
      "│ 0.44002  ┆ 0.21451   ┆ 0.285626  ┆ -0.689011 ┆ … ┆ -0.06698  ┆ 1.482008  ┆ 1.288873  ┆ -1.12619  │\n",
      "└──────────┴───────────┴───────────┴───────────┴───┴───────────┴───────────┴───────────┴───────────┘\n"
     ]
    }
   ],
   "source": [
    "print(pl.DataFrame(np.random.randn(3, 12)))"
   ]
  },
  {
   "cell_type": "code",
   "execution_count": 423,
   "id": "57ee1cf9-b23a-41a4-865d-db99607a77e0",
   "metadata": {},
   "outputs": [
    {
     "name": "stdout",
     "output_type": "stream",
     "text": [
      "shape: (3, 12)\n",
      "┌─────┬─────┬─────┬─────┬───┬─────┬─────┬─────┬─────┐\n",
      "│ col ┆ col ┆ col ┆ col ┆ … ┆ col ┆ col ┆ col ┆ col │\n",
      "│ umn ┆ umn ┆ umn ┆ umn ┆   ┆ umn ┆ umn ┆ umn ┆ umn │\n",
      "│ _0  ┆ _1  ┆ _2  ┆ _3  ┆   ┆ _8  ┆ _9  ┆ _10 ┆ _11 │\n",
      "│ --- ┆ --- ┆ --- ┆ --- ┆   ┆ --- ┆ --- ┆ --- ┆ --- │\n",
      "│ f64 ┆ f64 ┆ f64 ┆ f64 ┆   ┆ f64 ┆ f64 ┆ f64 ┆ f64 │\n",
      "╞═════╪═════╪═════╪═════╪═══╪═════╪═════╪═════╪═════╡\n",
      "│ -1. ┆ 0.0 ┆ -0. ┆ 1.7 ┆ … ┆ 0.8 ┆ 0.3 ┆ -1. ┆ -1. │\n",
      "│ 593 ┆ 321 ┆ 382 ┆ 495 ┆   ┆ 431 ┆ 008 ┆ 529 ┆ 861 │\n",
      "│ 329 ┆ 95  ┆ 463 ┆ 8   ┆   ┆ 73  ┆ 16  ┆ 093 ┆ 916 │\n",
      "│ 0.5 ┆ -0. ┆ 0.5 ┆ -0. ┆ … ┆ -0. ┆ -0. ┆ -1. ┆ 0.6 │\n",
      "│ 488 ┆ 337 ┆ 436 ┆ 509 ┆   ┆ 462 ┆ 292 ┆ 385 ┆ 538 │\n",
      "│ 96  ┆ 439 ┆ 99  ┆ 815 ┆   ┆ 243 ┆ 441 ┆ 327 ┆ 87  │\n",
      "│ -1. ┆ -0. ┆ 0.7 ┆ -0. ┆ … ┆ 0.1 ┆ -0. ┆ -0. ┆ 0.5 │\n",
      "│ 150 ┆ 856 ┆ 171 ┆ 110 ┆   ┆ 902 ┆ 484 ┆ 245 ┆ 015 │\n",
      "│ 248 ┆ 766 ┆ 96  ┆ 738 ┆   ┆ 8   ┆ 427 ┆ 482 ┆ 93  │\n",
      "└─────┴─────┴─────┴─────┴───┴─────┴─────┴─────┴─────┘\n"
     ]
    }
   ],
   "source": [
    "with pl.Config() as cfg:\n",
    "    cfg.set_tbl_width_chars(40)\n",
    "    print(pl.DataFrame(np.random.randn(3, 12)))"
   ]
  },
  {
   "cell_type": "code",
   "execution_count": 424,
   "id": "e1c51e82-1ed2-4b53-9315-f5465710219b",
   "metadata": {},
   "outputs": [
    {
     "name": "stdout",
     "output_type": "stream",
     "text": [
      "shape: (2, 2)\n",
      "┌─────────────┬──────────────┐\n",
      "│ filename    ┆ path         │\n",
      "│ ---         ┆ ---          │\n",
      "│ str         ┆ str          │\n",
      "╞═════════════╪══════════════╡\n",
      "│ filename_01 ┆ media/user_n │\n",
      "│             ┆ ame/storage/ │\n",
      "│             ┆ folder…      │\n",
      "│ filename_02 ┆ media/user_n │\n",
      "│             ┆ ame/storage/ │\n",
      "│             ┆ folder…      │\n",
      "└─────────────┴──────────────┘\n"
     ]
    }
   ],
   "source": [
    "datafile = {\n",
    "    \"filename\": [\"filename_01\", \"filename_02\"],\n",
    "    \"path\": [\n",
    "        \"media/user_name/storage/folder_01/filename_01\",\n",
    "        \"media/user_name/storage/folder_02/filename_02\",\n",
    "    ],\n",
    "}\n",
    "with pl.Config() as cfg:\n",
    "    cfg.set_tbl_width_chars(30)\n",
    "    print(pl.DataFrame(datafile))"
   ]
  },
  {
   "cell_type": "code",
   "execution_count": 425,
   "id": "01846bec-7998-491c-84b9-df7dfea964d5",
   "metadata": {},
   "outputs": [
    {
     "name": "stdout",
     "output_type": "stream",
     "text": [
      "shape: (2, 2)\n",
      "┌─────────────┬─────────────────────────────────┐\n",
      "│ filename    ┆ path                            │\n",
      "│ ---         ┆ ---                             │\n",
      "│ str         ┆ str                             │\n",
      "╞═════════════╪═════════════════════════════════╡\n",
      "│ filename_01 ┆ media/user_name/storage/folder… │\n",
      "│ filename_02 ┆ media/user_name/storage/folder… │\n",
      "└─────────────┴─────────────────────────────────┘\n"
     ]
    }
   ],
   "source": [
    "with pl.Config() as cfg:\n",
    "    cfg.set_tbl_width_chars(100)\n",
    "    print(pl.DataFrame(datafile))"
   ]
  },
  {
   "cell_type": "markdown",
   "id": "8d5da449-149c-47eb-a5cd-5ddea1147ff3",
   "metadata": {},
   "source": [
    "### DataFrame column attribute access and IPython completion"
   ]
  },
  {
   "cell_type": "markdown",
   "id": "484e82d1-745f-4943-8855-59e068956312",
   "metadata": {},
   "source": [
    "There is no such function in polars."
   ]
  }
 ],
 "metadata": {
  "kernelspec": {
   "display_name": "Python 3 (ipykernel)",
   "language": "python",
   "name": "python3"
  },
  "language_info": {
   "codemirror_mode": {
    "name": "ipython",
    "version": 3
   },
   "file_extension": ".py",
   "mimetype": "text/x-python",
   "name": "python",
   "nbconvert_exporter": "python",
   "pygments_lexer": "ipython3",
   "version": "3.11.8"
  }
 },
 "nbformat": 4,
 "nbformat_minor": 5
}

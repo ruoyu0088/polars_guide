{
 "cells": [
  {
   "cell_type": "markdown",
   "id": "01a71042-e4e0-48cc-bb4e-ab233bc60155",
   "metadata": {},
   "source": [
    "# Intro to data structures"
   ]
  },
  {
   "cell_type": "code",
   "execution_count": 1,
   "id": "bac3f2b0-b22a-4f89-a3f3-3f659bc6b49d",
   "metadata": {},
   "outputs": [],
   "source": [
    "import numpy as np\n",
    "import polars as pl"
   ]
  },
  {
   "cell_type": "markdown",
   "id": "3576ca1a-6060-42e3-9f6c-7782a559166d",
   "metadata": {},
   "source": [
    "## Series"
   ]
  },
  {
   "cell_type": "markdown",
   "id": "31340fc5-e7c0-4d47-8439-475d47f2eb86",
   "metadata": {},
   "source": [
    "In Polars, the Series object has no index, so we need to use a two-column DataFrame to simulate the functions of a Series in Pandas."
   ]
  },
  {
   "cell_type": "code",
   "execution_count": 4,
   "id": "2ca4467d-021b-4325-8e9d-053625d97423",
   "metadata": {},
   "outputs": [
    {
     "data": {
      "text/html": [
       "<div><style>\n",
       ".dataframe > thead > tr,\n",
       ".dataframe > tbody > tr {\n",
       "  text-align: right;\n",
       "  white-space: pre-wrap;\n",
       "}\n",
       "</style>\n",
       "<small>shape: (5, 2)</small><table border=\"1\" class=\"dataframe\"><thead><tr><th>index</th><th>value</th></tr><tr><td>str</td><td>f64</td></tr></thead><tbody><tr><td>&quot;a&quot;</td><td>0.781795</td></tr><tr><td>&quot;b&quot;</td><td>-1.873919</td></tr><tr><td>&quot;c&quot;</td><td>1.425785</td></tr><tr><td>&quot;d&quot;</td><td>0.318918</td></tr><tr><td>&quot;e&quot;</td><td>0.322132</td></tr></tbody></table></div>"
      ],
      "text/plain": [
       "shape: (5, 2)\n",
       "┌───────┬───────────┐\n",
       "│ index ┆ value     │\n",
       "│ ---   ┆ ---       │\n",
       "│ str   ┆ f64       │\n",
       "╞═══════╪═══════════╡\n",
       "│ a     ┆ 0.781795  │\n",
       "│ b     ┆ -1.873919 │\n",
       "│ c     ┆ 1.425785  │\n",
       "│ d     ┆ 0.318918  │\n",
       "│ e     ┆ 0.322132  │\n",
       "└───────┴───────────┘"
      ]
     },
     "execution_count": 4,
     "metadata": {},
     "output_type": "execute_result"
    }
   ],
   "source": [
    "s = pl.DataFrame(dict(\n",
    "    index=[\"a\", \"b\", \"c\", \"d\", \"e\"],\n",
    "    value=np.random.randn(5)\n",
    "))\n",
    "s"
   ]
  },
  {
   "cell_type": "code",
   "execution_count": 5,
   "id": "66f6f8dd-7bcd-4220-9c60-e7851ffe94f8",
   "metadata": {},
   "outputs": [
    {
     "data": {
      "text/html": [
       "<div><style>\n",
       ".dataframe > thead > tr,\n",
       ".dataframe > tbody > tr {\n",
       "  text-align: right;\n",
       "  white-space: pre-wrap;\n",
       "}\n",
       "</style>\n",
       "<small>shape: (5,)</small><table border=\"1\" class=\"dataframe\"><thead><tr><th>index</th></tr><tr><td>str</td></tr></thead><tbody><tr><td>&quot;a&quot;</td></tr><tr><td>&quot;b&quot;</td></tr><tr><td>&quot;c&quot;</td></tr><tr><td>&quot;d&quot;</td></tr><tr><td>&quot;e&quot;</td></tr></tbody></table></div>"
      ],
      "text/plain": [
       "shape: (5,)\n",
       "Series: 'index' [str]\n",
       "[\n",
       "\t\"a\"\n",
       "\t\"b\"\n",
       "\t\"c\"\n",
       "\t\"d\"\n",
       "\t\"e\"\n",
       "]"
      ]
     },
     "execution_count": 5,
     "metadata": {},
     "output_type": "execute_result"
    }
   ],
   "source": [
    "s['index']"
   ]
  },
  {
   "cell_type": "code",
   "execution_count": 6,
   "id": "9ae388d4-93aa-47f0-871e-3c1d4795b521",
   "metadata": {},
   "outputs": [
    {
     "data": {
      "text/html": [
       "<div><style>\n",
       ".dataframe > thead > tr,\n",
       ".dataframe > tbody > tr {\n",
       "  text-align: right;\n",
       "  white-space: pre-wrap;\n",
       "}\n",
       "</style>\n",
       "<small>shape: (5,)</small><table border=\"1\" class=\"dataframe\"><thead><tr><th></th></tr><tr><td>f64</td></tr></thead><tbody><tr><td>2.868949</td></tr><tr><td>0.129001</td></tr><tr><td>-0.303931</td></tr><tr><td>0.733275</td></tr><tr><td>0.376526</td></tr></tbody></table></div>"
      ],
      "text/plain": [
       "shape: (5,)\n",
       "Series: '' [f64]\n",
       "[\n",
       "\t2.868949\n",
       "\t0.129001\n",
       "\t-0.303931\n",
       "\t0.733275\n",
       "\t0.376526\n",
       "]"
      ]
     },
     "execution_count": 6,
     "metadata": {},
     "output_type": "execute_result"
    }
   ],
   "source": [
    "pl.Series(np.random.randn(5))"
   ]
  },
  {
   "cell_type": "code",
   "execution_count": 11,
   "id": "77027cce-70cb-4928-9d3d-c36fd6f13ef1",
   "metadata": {},
   "outputs": [
    {
     "data": {
      "text/html": [
       "<div><style>\n",
       ".dataframe > thead > tr,\n",
       ".dataframe > tbody > tr {\n",
       "  text-align: right;\n",
       "  white-space: pre-wrap;\n",
       "}\n",
       "</style>\n",
       "<small>shape: (3, 2)</small><table border=\"1\" class=\"dataframe\"><thead><tr><th>index</th><th>value</th></tr><tr><td>str</td><td>i64</td></tr></thead><tbody><tr><td>&quot;b&quot;</td><td>1</td></tr><tr><td>&quot;a&quot;</td><td>0</td></tr><tr><td>&quot;c&quot;</td><td>2</td></tr></tbody></table></div>"
      ],
      "text/plain": [
       "shape: (3, 2)\n",
       "┌───────┬───────┐\n",
       "│ index ┆ value │\n",
       "│ ---   ┆ ---   │\n",
       "│ str   ┆ i64   │\n",
       "╞═══════╪═══════╡\n",
       "│ b     ┆ 1     │\n",
       "│ a     ┆ 0     │\n",
       "│ c     ┆ 2     │\n",
       "└───────┴───────┘"
      ]
     },
     "execution_count": 11,
     "metadata": {},
     "output_type": "execute_result"
    }
   ],
   "source": [
    "# pd.Series(d)\n",
    "d = {\"b\": 1, \"a\": 0, \"c\": 2}\n",
    "pl.DataFrame(list(d.items()), schema=['index', 'value'], orient='row')"
   ]
  },
  {
   "cell_type": "code",
   "execution_count": 12,
   "id": "944c723f-5087-4ab0-be05-a66da0ed8588",
   "metadata": {},
   "outputs": [
    {
     "data": {
      "text/html": [
       "<div><style>\n",
       ".dataframe > thead > tr,\n",
       ".dataframe > tbody > tr {\n",
       "  text-align: right;\n",
       "  white-space: pre-wrap;\n",
       "}\n",
       "</style>\n",
       "<small>shape: (5, 2)</small><table border=\"1\" class=\"dataframe\"><thead><tr><th>index</th><th>value</th></tr><tr><td>str</td><td>f64</td></tr></thead><tbody><tr><td>&quot;a&quot;</td><td>5.0</td></tr><tr><td>&quot;b&quot;</td><td>5.0</td></tr><tr><td>&quot;c&quot;</td><td>5.0</td></tr><tr><td>&quot;d&quot;</td><td>5.0</td></tr><tr><td>&quot;e&quot;</td><td>5.0</td></tr></tbody></table></div>"
      ],
      "text/plain": [
       "shape: (5, 2)\n",
       "┌───────┬───────┐\n",
       "│ index ┆ value │\n",
       "│ ---   ┆ ---   │\n",
       "│ str   ┆ f64   │\n",
       "╞═══════╪═══════╡\n",
       "│ a     ┆ 5.0   │\n",
       "│ b     ┆ 5.0   │\n",
       "│ c     ┆ 5.0   │\n",
       "│ d     ┆ 5.0   │\n",
       "│ e     ┆ 5.0   │\n",
       "└───────┴───────┘"
      ]
     },
     "execution_count": 12,
     "metadata": {},
     "output_type": "execute_result"
    }
   ],
   "source": [
    "pl.select(\n",
    "    index=pl.Series([\"a\", \"b\", \"c\", \"d\", \"e\"]),\n",
    "    value=5.0\n",
    ")"
   ]
  },
  {
   "cell_type": "markdown",
   "id": "aabd1673-8419-4232-86f6-966413daf342",
   "metadata": {},
   "source": [
    "### Series is ndarray-like "
   ]
  },
  {
   "cell_type": "code",
   "execution_count": 13,
   "id": "a1c37ace-405d-4405-86f7-d0db0c283c61",
   "metadata": {},
   "outputs": [
    {
     "data": {
      "text/plain": [
       "0.7817950540050607"
      ]
     },
     "execution_count": 13,
     "metadata": {},
     "output_type": "execute_result"
    }
   ],
   "source": [
    "s['value'][0]"
   ]
  },
  {
   "cell_type": "code",
   "execution_count": 14,
   "id": "ae6a4a67-9385-4fa3-8ad4-dd38b1ba8eac",
   "metadata": {},
   "outputs": [
    {
     "data": {
      "text/html": [
       "<div><style>\n",
       ".dataframe > thead > tr,\n",
       ".dataframe > tbody > tr {\n",
       "  text-align: right;\n",
       "  white-space: pre-wrap;\n",
       "}\n",
       "</style>\n",
       "<small>shape: (3,)</small><table border=\"1\" class=\"dataframe\"><thead><tr><th>value</th></tr><tr><td>f64</td></tr></thead><tbody><tr><td>0.781795</td></tr><tr><td>-1.873919</td></tr><tr><td>1.425785</td></tr></tbody></table></div>"
      ],
      "text/plain": [
       "shape: (3,)\n",
       "Series: 'value' [f64]\n",
       "[\n",
       "\t0.781795\n",
       "\t-1.873919\n",
       "\t1.425785\n",
       "]"
      ]
     },
     "execution_count": 14,
     "metadata": {},
     "output_type": "execute_result"
    }
   ],
   "source": [
    "s['value'][:3]"
   ]
  },
  {
   "cell_type": "code",
   "execution_count": 16,
   "id": "b61f4afc-99a2-424e-80cb-7b91e6a642b2",
   "metadata": {},
   "outputs": [
    {
     "data": {
      "text/html": [
       "<div><style>\n",
       ".dataframe > thead > tr,\n",
       ".dataframe > tbody > tr {\n",
       "  text-align: right;\n",
       "  white-space: pre-wrap;\n",
       "}\n",
       "</style>\n",
       "<small>shape: (2, 2)</small><table border=\"1\" class=\"dataframe\"><thead><tr><th>index</th><th>value</th></tr><tr><td>str</td><td>f64</td></tr></thead><tbody><tr><td>&quot;a&quot;</td><td>0.781795</td></tr><tr><td>&quot;c&quot;</td><td>1.425785</td></tr></tbody></table></div>"
      ],
      "text/plain": [
       "shape: (2, 2)\n",
       "┌───────┬──────────┐\n",
       "│ index ┆ value    │\n",
       "│ ---   ┆ ---      │\n",
       "│ str   ┆ f64      │\n",
       "╞═══════╪══════════╡\n",
       "│ a     ┆ 0.781795 │\n",
       "│ c     ┆ 1.425785 │\n",
       "└───────┴──────────┘"
      ]
     },
     "execution_count": 16,
     "metadata": {},
     "output_type": "execute_result"
    }
   ],
   "source": [
    "# s[s > s.median()]\n",
    "s.filter(pl.col('value') > pl.col('value').median())"
   ]
  },
  {
   "cell_type": "code",
   "execution_count": 18,
   "id": "d9e0872d-5a3b-43ce-b936-afd052ca8b50",
   "metadata": {},
   "outputs": [
    {
     "data": {
      "text/html": [
       "<div><style>\n",
       ".dataframe > thead > tr,\n",
       ".dataframe > tbody > tr {\n",
       "  text-align: right;\n",
       "  white-space: pre-wrap;\n",
       "}\n",
       "</style>\n",
       "<small>shape: (3, 2)</small><table border=\"1\" class=\"dataframe\"><thead><tr><th>index</th><th>value</th></tr><tr><td>str</td><td>f64</td></tr></thead><tbody><tr><td>&quot;e&quot;</td><td>0.322132</td></tr><tr><td>&quot;d&quot;</td><td>0.318918</td></tr><tr><td>&quot;b&quot;</td><td>-1.873919</td></tr></tbody></table></div>"
      ],
      "text/plain": [
       "shape: (3, 2)\n",
       "┌───────┬───────────┐\n",
       "│ index ┆ value     │\n",
       "│ ---   ┆ ---       │\n",
       "│ str   ┆ f64       │\n",
       "╞═══════╪═══════════╡\n",
       "│ e     ┆ 0.322132  │\n",
       "│ d     ┆ 0.318918  │\n",
       "│ b     ┆ -1.873919 │\n",
       "└───────┴───────────┘"
      ]
     },
     "execution_count": 18,
     "metadata": {},
     "output_type": "execute_result"
    }
   ],
   "source": [
    "# s.iloc[[4, 3, 1]]\n",
    "s[[4, 3, 1]]"
   ]
  },
  {
   "cell_type": "code",
   "execution_count": 19,
   "id": "3e41e238-f421-476f-b7ff-ff5815c11e21",
   "metadata": {},
   "outputs": [
    {
     "data": {
      "text/html": [
       "<div><style>\n",
       ".dataframe > thead > tr,\n",
       ".dataframe > tbody > tr {\n",
       "  text-align: right;\n",
       "  white-space: pre-wrap;\n",
       "}\n",
       "</style>\n",
       "<small>shape: (5, 2)</small><table border=\"1\" class=\"dataframe\"><thead><tr><th>index</th><th>value</th></tr><tr><td>str</td><td>f64</td></tr></thead><tbody><tr><td>&quot;a&quot;</td><td>2.185392</td></tr><tr><td>&quot;b&quot;</td><td>0.153521</td></tr><tr><td>&quot;c&quot;</td><td>4.161125</td></tr><tr><td>&quot;d&quot;</td><td>1.375639</td></tr><tr><td>&quot;e&quot;</td><td>1.380066</td></tr></tbody></table></div>"
      ],
      "text/plain": [
       "shape: (5, 2)\n",
       "┌───────┬──────────┐\n",
       "│ index ┆ value    │\n",
       "│ ---   ┆ ---      │\n",
       "│ str   ┆ f64      │\n",
       "╞═══════╪══════════╡\n",
       "│ a     ┆ 2.185392 │\n",
       "│ b     ┆ 0.153521 │\n",
       "│ c     ┆ 4.161125 │\n",
       "│ d     ┆ 1.375639 │\n",
       "│ e     ┆ 1.380066 │\n",
       "└───────┴──────────┘"
      ]
     },
     "execution_count": 19,
     "metadata": {},
     "output_type": "execute_result"
    }
   ],
   "source": [
    "s.with_columns(\n",
    "    pl.col('value').exp()\n",
    ")"
   ]
  },
  {
   "cell_type": "code",
   "execution_count": 20,
   "id": "ac8a0b86-fe2a-4e4d-97b8-61853df4b52c",
   "metadata": {},
   "outputs": [
    {
     "data": {
      "text/plain": [
       "Float64"
      ]
     },
     "execution_count": 20,
     "metadata": {},
     "output_type": "execute_result"
    }
   ],
   "source": [
    "s['value'].dtype"
   ]
  },
  {
   "cell_type": "code",
   "execution_count": 22,
   "id": "1511c955-d697-4da2-bb75-f18181b91762",
   "metadata": {},
   "outputs": [
    {
     "data": {
      "text/plain": [
       "array([ 0.78179505, -1.87391946,  1.42578542,  0.31891839,  0.32213168])"
      ]
     },
     "execution_count": 22,
     "metadata": {},
     "output_type": "execute_result"
    }
   ],
   "source": [
    "# s.array\n",
    "s['value'].to_numpy()"
   ]
  },
  {
   "cell_type": "markdown",
   "id": "215944e9-4f6e-4516-9c31-361429b8cbae",
   "metadata": {},
   "source": [
    "### Series is dict-like"
   ]
  },
  {
   "cell_type": "code",
   "execution_count": 25,
   "id": "ebad929e-8eb0-43bc-aa00-da766f1bedec",
   "metadata": {},
   "outputs": [
    {
     "data": {
      "text/plain": [
       "0.7817950540050607"
      ]
     },
     "execution_count": 25,
     "metadata": {},
     "output_type": "execute_result"
    }
   ],
   "source": [
    "# s[\"a\"]\n",
    "s.select(pl.col('value').filter(pl.col('index') == 'a')).item()"
   ]
  },
  {
   "cell_type": "code",
   "execution_count": 30,
   "id": "b1d78aa2-7529-476e-a89a-0f978a61e79d",
   "metadata": {},
   "outputs": [],
   "source": [
    "# s[\"e\"] = 12.0\n",
    "s = s.with_columns(\n",
    "    pl.when(pl.col('index') == 'e')\n",
    "      .then(12.0)\n",
    "      .otherwise(pl.col('value'))\n",
    "      .name.keep()\n",
    ")"
   ]
  },
  {
   "cell_type": "code",
   "execution_count": 36,
   "id": "e19d5441-29de-46d6-8d8a-cb0b335bf5c1",
   "metadata": {},
   "outputs": [
    {
     "data": {
      "text/plain": [
       "True"
      ]
     },
     "execution_count": 36,
     "metadata": {},
     "output_type": "execute_result"
    }
   ],
   "source": [
    "# \"e\" in s\n",
    "\"e\" in s['index']"
   ]
  },
  {
   "cell_type": "code",
   "execution_count": 37,
   "id": "87a5c4a5-6a8d-4d44-a58e-1b18d7471de7",
   "metadata": {},
   "outputs": [
    {
     "data": {
      "text/plain": [
       "False"
      ]
     },
     "execution_count": 37,
     "metadata": {},
     "output_type": "execute_result"
    }
   ],
   "source": [
    "\"f\" in s['index']"
   ]
  },
  {
   "cell_type": "markdown",
   "id": "eb0bfd4b-3784-4776-beb9-fb506c733d1e",
   "metadata": {},
   "source": [
    "### Vectorized operations and label alignment with Series"
   ]
  },
  {
   "cell_type": "code",
   "execution_count": 39,
   "id": "394752c6-714b-44b0-8566-448a8c961394",
   "metadata": {},
   "outputs": [
    {
     "data": {
      "text/html": [
       "<div><style>\n",
       ".dataframe > thead > tr,\n",
       ".dataframe > tbody > tr {\n",
       "  text-align: right;\n",
       "  white-space: pre-wrap;\n",
       "}\n",
       "</style>\n",
       "<small>shape: (5, 2)</small><table border=\"1\" class=\"dataframe\"><thead><tr><th>index</th><th>value</th></tr><tr><td>str</td><td>f64</td></tr></thead><tbody><tr><td>&quot;a&quot;</td><td>1.56359</td></tr><tr><td>&quot;b&quot;</td><td>-3.747839</td></tr><tr><td>&quot;c&quot;</td><td>2.851571</td></tr><tr><td>&quot;d&quot;</td><td>0.637837</td></tr><tr><td>&quot;e&quot;</td><td>24.0</td></tr></tbody></table></div>"
      ],
      "text/plain": [
       "shape: (5, 2)\n",
       "┌───────┬───────────┐\n",
       "│ index ┆ value     │\n",
       "│ ---   ┆ ---       │\n",
       "│ str   ┆ f64       │\n",
       "╞═══════╪═══════════╡\n",
       "│ a     ┆ 1.56359   │\n",
       "│ b     ┆ -3.747839 │\n",
       "│ c     ┆ 2.851571  │\n",
       "│ d     ┆ 0.637837  │\n",
       "│ e     ┆ 24.0      │\n",
       "└───────┴───────────┘"
      ]
     },
     "execution_count": 39,
     "metadata": {},
     "output_type": "execute_result"
    }
   ],
   "source": [
    "# s + s\n",
    "from helper.polars import align_op\n",
    "align_op(s, s, op=pl.Expr.add)"
   ]
  },
  {
   "cell_type": "code",
   "execution_count": 41,
   "id": "31c9f84a-9b0c-420f-a7de-f7618bc220b9",
   "metadata": {},
   "outputs": [
    {
     "data": {
      "text/html": [
       "<div><style>\n",
       ".dataframe > thead > tr,\n",
       ".dataframe > tbody > tr {\n",
       "  text-align: right;\n",
       "  white-space: pre-wrap;\n",
       "}\n",
       "</style>\n",
       "<small>shape: (5, 2)</small><table border=\"1\" class=\"dataframe\"><thead><tr><th>index</th><th>value</th></tr><tr><td>str</td><td>f64</td></tr></thead><tbody><tr><td>&quot;a&quot;</td><td>1.56359</td></tr><tr><td>&quot;b&quot;</td><td>-3.747839</td></tr><tr><td>&quot;c&quot;</td><td>2.851571</td></tr><tr><td>&quot;d&quot;</td><td>0.637837</td></tr><tr><td>&quot;e&quot;</td><td>24.0</td></tr></tbody></table></div>"
      ],
      "text/plain": [
       "shape: (5, 2)\n",
       "┌───────┬───────────┐\n",
       "│ index ┆ value     │\n",
       "│ ---   ┆ ---       │\n",
       "│ str   ┆ f64       │\n",
       "╞═══════╪═══════════╡\n",
       "│ a     ┆ 1.56359   │\n",
       "│ b     ┆ -3.747839 │\n",
       "│ c     ┆ 2.851571  │\n",
       "│ d     ┆ 0.637837  │\n",
       "│ e     ┆ 24.0      │\n",
       "└───────┴───────────┘"
      ]
     },
     "execution_count": 41,
     "metadata": {},
     "output_type": "execute_result"
    }
   ],
   "source": [
    "# s * 2\n",
    "s.select(\n",
    "    'index',\n",
    "    pl.col('value') * 2\n",
    ")"
   ]
  },
  {
   "cell_type": "code",
   "execution_count": 42,
   "id": "ee7ad564-aa27-4c71-8ad3-62f41c292123",
   "metadata": {},
   "outputs": [
    {
     "data": {
      "text/html": [
       "<div><style>\n",
       ".dataframe > thead > tr,\n",
       ".dataframe > tbody > tr {\n",
       "  text-align: right;\n",
       "  white-space: pre-wrap;\n",
       "}\n",
       "</style>\n",
       "<small>shape: (5, 2)</small><table border=\"1\" class=\"dataframe\"><thead><tr><th>index</th><th>value</th></tr><tr><td>str</td><td>f64</td></tr></thead><tbody><tr><td>&quot;a&quot;</td><td>2.185392</td></tr><tr><td>&quot;b&quot;</td><td>0.153521</td></tr><tr><td>&quot;c&quot;</td><td>4.161125</td></tr><tr><td>&quot;d&quot;</td><td>1.375639</td></tr><tr><td>&quot;e&quot;</td><td>162754.791419</td></tr></tbody></table></div>"
      ],
      "text/plain": [
       "shape: (5, 2)\n",
       "┌───────┬───────────────┐\n",
       "│ index ┆ value         │\n",
       "│ ---   ┆ ---           │\n",
       "│ str   ┆ f64           │\n",
       "╞═══════╪═══════════════╡\n",
       "│ a     ┆ 2.185392      │\n",
       "│ b     ┆ 0.153521      │\n",
       "│ c     ┆ 4.161125      │\n",
       "│ d     ┆ 1.375639      │\n",
       "│ e     ┆ 162754.791419 │\n",
       "└───────┴───────────────┘"
      ]
     },
     "execution_count": 42,
     "metadata": {},
     "output_type": "execute_result"
    }
   ],
   "source": [
    "# np.exp(s)\n",
    "s.select(\n",
    "    \"index\",\n",
    "    pl.col(\"value\").exp()\n",
    ")"
   ]
  },
  {
   "cell_type": "code",
   "execution_count": 48,
   "id": "fefbc23f-f33a-444e-9b7d-2a60d166f84f",
   "metadata": {},
   "outputs": [
    {
     "data": {
      "text/html": [
       "<div><style>\n",
       ".dataframe > thead > tr,\n",
       ".dataframe > tbody > tr {\n",
       "  text-align: right;\n",
       "  white-space: pre-wrap;\n",
       "}\n",
       "</style>\n",
       "<small>shape: (5, 2)</small><table border=\"1\" class=\"dataframe\"><thead><tr><th>index</th><th>value</th></tr><tr><td>str</td><td>f64</td></tr></thead><tbody><tr><td>&quot;a&quot;</td><td>null</td></tr><tr><td>&quot;b&quot;</td><td>-3.747839</td></tr><tr><td>&quot;c&quot;</td><td>2.851571</td></tr><tr><td>&quot;d&quot;</td><td>0.637837</td></tr><tr><td>&quot;e&quot;</td><td>null</td></tr></tbody></table></div>"
      ],
      "text/plain": [
       "shape: (5, 2)\n",
       "┌───────┬───────────┐\n",
       "│ index ┆ value     │\n",
       "│ ---   ┆ ---       │\n",
       "│ str   ┆ f64       │\n",
       "╞═══════╪═══════════╡\n",
       "│ a     ┆ null      │\n",
       "│ b     ┆ -3.747839 │\n",
       "│ c     ┆ 2.851571  │\n",
       "│ d     ┆ 0.637837  │\n",
       "│ e     ┆ null      │\n",
       "└───────┴───────────┘"
      ]
     },
     "execution_count": 48,
     "metadata": {},
     "output_type": "execute_result"
    }
   ],
   "source": [
    "# s.iloc[1:] + s.iloc[:-1]\n",
    "align_op(\n",
    "    s.slice(1), \n",
    "    s.slice(0, len(s) - 1), \n",
    "    op=pl.Expr.add, \n",
    "    fill_value=None, \n",
    "    how=\"full\")"
   ]
  },
  {
   "cell_type": "markdown",
   "id": "bcb43e01-b857-435f-b761-5c04353c994d",
   "metadata": {},
   "source": [
    "### Name attribute"
   ]
  },
  {
   "cell_type": "code",
   "execution_count": 50,
   "id": "0be666d2-02a6-428a-9811-db799a3c0fae",
   "metadata": {},
   "outputs": [
    {
     "data": {
      "text/html": [
       "<div><style>\n",
       ".dataframe > thead > tr,\n",
       ".dataframe > tbody > tr {\n",
       "  text-align: right;\n",
       "  white-space: pre-wrap;\n",
       "}\n",
       "</style>\n",
       "<small>shape: (5,)</small><table border=\"1\" class=\"dataframe\"><thead><tr><th>something</th></tr><tr><td>f64</td></tr></thead><tbody><tr><td>0.946659</td></tr><tr><td>-0.22496</td></tr><tr><td>1.0293</td></tr><tr><td>0.13003</td></tr><tr><td>-0.660966</td></tr></tbody></table></div>"
      ],
      "text/plain": [
       "shape: (5,)\n",
       "Series: 'something' [f64]\n",
       "[\n",
       "\t0.946659\n",
       "\t-0.22496\n",
       "\t1.0293\n",
       "\t0.13003\n",
       "\t-0.660966\n",
       "]"
      ]
     },
     "execution_count": 50,
     "metadata": {},
     "output_type": "execute_result"
    }
   ],
   "source": [
    "s = pl.Series(\"something\", np.random.randn(5))\n",
    "s"
   ]
  },
  {
   "cell_type": "code",
   "execution_count": 51,
   "id": "6f8ecbb0-ca48-4712-a6af-1c89cf0c954e",
   "metadata": {},
   "outputs": [
    {
     "data": {
      "text/plain": [
       "'something'"
      ]
     },
     "execution_count": 51,
     "metadata": {},
     "output_type": "execute_result"
    }
   ],
   "source": [
    "s.name"
   ]
  },
  {
   "cell_type": "code",
   "execution_count": 52,
   "id": "29398f27-6770-4d07-ad27-0ae1d4d3d887",
   "metadata": {},
   "outputs": [
    {
     "data": {
      "text/plain": [
       "'different'"
      ]
     },
     "execution_count": 52,
     "metadata": {},
     "output_type": "execute_result"
    }
   ],
   "source": [
    "s2 = s.rename('different')\n",
    "s2.name"
   ]
  },
  {
   "cell_type": "markdown",
   "id": "06a08088-3a8c-443b-8852-d3c91d32e9b6",
   "metadata": {},
   "source": [
    "## DataFrame"
   ]
  },
  {
   "cell_type": "code",
   "execution_count": 54,
   "id": "c0893511-65d5-4662-83b5-5fac76c00462",
   "metadata": {},
   "outputs": [
    {
     "data": {
      "text/html": [
       "<div><style>\n",
       ".dataframe > thead > tr,\n",
       ".dataframe > tbody > tr {\n",
       "  text-align: right;\n",
       "  white-space: pre-wrap;\n",
       "}\n",
       "</style>\n",
       "<small>shape: (4, 3)</small><table border=\"1\" class=\"dataframe\"><thead><tr><th>index</th><th>one</th><th>two</th></tr><tr><td>str</td><td>f64</td><td>f64</td></tr></thead><tbody><tr><td>&quot;a&quot;</td><td>1.0</td><td>1.0</td></tr><tr><td>&quot;b&quot;</td><td>2.0</td><td>2.0</td></tr><tr><td>&quot;c&quot;</td><td>3.0</td><td>3.0</td></tr><tr><td>&quot;d&quot;</td><td>null</td><td>4.0</td></tr></tbody></table></div>"
      ],
      "text/plain": [
       "shape: (4, 3)\n",
       "┌───────┬──────┬─────┐\n",
       "│ index ┆ one  ┆ two │\n",
       "│ ---   ┆ ---  ┆ --- │\n",
       "│ str   ┆ f64  ┆ f64 │\n",
       "╞═══════╪══════╪═════╡\n",
       "│ a     ┆ 1.0  ┆ 1.0 │\n",
       "│ b     ┆ 2.0  ┆ 2.0 │\n",
       "│ c     ┆ 3.0  ┆ 3.0 │\n",
       "│ d     ┆ null ┆ 4.0 │\n",
       "└───────┴──────┴─────┘"
      ]
     },
     "execution_count": 54,
     "metadata": {},
     "output_type": "execute_result"
    }
   ],
   "source": [
    "s1 = pl.DataFrame(dict(index=[\"a\", \"b\", \"c\"], one=[1.0, 2.0, 3.0]))\n",
    "s2 = pl.DataFrame(dict(index=[\"a\", \"b\", \"c\", \"d\"], two=[1.0, 2.0, 3.0, 4.0]))\n",
    "df = s1.join(s2, on='index', how='full', coalesce=True)\n",
    "df"
   ]
  },
  {
   "cell_type": "code",
   "execution_count": 55,
   "id": "37ee0b5f-48b8-4961-8a92-407ed512eaac",
   "metadata": {},
   "outputs": [
    {
     "data": {
      "text/html": [
       "<div><style>\n",
       ".dataframe > thead > tr,\n",
       ".dataframe > tbody > tr {\n",
       "  text-align: right;\n",
       "  white-space: pre-wrap;\n",
       "}\n",
       "</style>\n",
       "<small>shape: (4,)</small><table border=\"1\" class=\"dataframe\"><thead><tr><th>index</th></tr><tr><td>str</td></tr></thead><tbody><tr><td>&quot;a&quot;</td></tr><tr><td>&quot;b&quot;</td></tr><tr><td>&quot;c&quot;</td></tr><tr><td>&quot;d&quot;</td></tr></tbody></table></div>"
      ],
      "text/plain": [
       "shape: (4,)\n",
       "Series: 'index' [str]\n",
       "[\n",
       "\t\"a\"\n",
       "\t\"b\"\n",
       "\t\"c\"\n",
       "\t\"d\"\n",
       "]"
      ]
     },
     "execution_count": 55,
     "metadata": {},
     "output_type": "execute_result"
    }
   ],
   "source": [
    "df['index']"
   ]
  },
  {
   "cell_type": "code",
   "execution_count": 56,
   "id": "20b9d7f7-3556-4494-9221-d204ef48fffc",
   "metadata": {},
   "outputs": [
    {
     "data": {
      "text/plain": [
       "['index', 'one', 'two']"
      ]
     },
     "execution_count": 56,
     "metadata": {},
     "output_type": "execute_result"
    }
   ],
   "source": [
    "df.columns"
   ]
  },
  {
   "cell_type": "code",
   "execution_count": 57,
   "id": "6453b26e-2972-49e9-8673-1c49f5f144b9",
   "metadata": {},
   "outputs": [
    {
     "data": {
      "text/plain": [
       "['one', 'two']"
      ]
     },
     "execution_count": 57,
     "metadata": {},
     "output_type": "execute_result"
    }
   ],
   "source": [
    "df.drop('index').columns"
   ]
  },
  {
   "cell_type": "markdown",
   "id": "7260ead1-9795-4d4e-be66-ec509d4b2252",
   "metadata": {},
   "source": [
    "### From dict of ndarrays / lists"
   ]
  },
  {
   "cell_type": "code",
   "execution_count": 59,
   "id": "92a4a508-4d26-4323-8594-ab61ba3ece12",
   "metadata": {},
   "outputs": [
    {
     "data": {
      "text/html": [
       "<div><style>\n",
       ".dataframe > thead > tr,\n",
       ".dataframe > tbody > tr {\n",
       "  text-align: right;\n",
       "  white-space: pre-wrap;\n",
       "}\n",
       "</style>\n",
       "<small>shape: (4, 2)</small><table border=\"1\" class=\"dataframe\"><thead><tr><th>one</th><th>two</th></tr><tr><td>f64</td><td>f64</td></tr></thead><tbody><tr><td>1.0</td><td>4.0</td></tr><tr><td>2.0</td><td>3.0</td></tr><tr><td>3.0</td><td>2.0</td></tr><tr><td>4.0</td><td>1.0</td></tr></tbody></table></div>"
      ],
      "text/plain": [
       "shape: (4, 2)\n",
       "┌─────┬─────┐\n",
       "│ one ┆ two │\n",
       "│ --- ┆ --- │\n",
       "│ f64 ┆ f64 │\n",
       "╞═════╪═════╡\n",
       "│ 1.0 ┆ 4.0 │\n",
       "│ 2.0 ┆ 3.0 │\n",
       "│ 3.0 ┆ 2.0 │\n",
       "│ 4.0 ┆ 1.0 │\n",
       "└─────┴─────┘"
      ]
     },
     "execution_count": 59,
     "metadata": {},
     "output_type": "execute_result"
    }
   ],
   "source": [
    "d = {\"one\": [1.0, 2.0, 3.0, 4.0], \"two\": [4.0, 3.0, 2.0, 1.0]}\n",
    "pl.DataFrame(d)"
   ]
  },
  {
   "cell_type": "code",
   "execution_count": 60,
   "id": "aef1a07a-ba62-4a0f-8a9d-4fa4e97ca984",
   "metadata": {},
   "outputs": [
    {
     "data": {
      "text/html": [
       "<div><style>\n",
       ".dataframe > thead > tr,\n",
       ".dataframe > tbody > tr {\n",
       "  text-align: right;\n",
       "  white-space: pre-wrap;\n",
       "}\n",
       "</style>\n",
       "<small>shape: (4, 3)</small><table border=\"1\" class=\"dataframe\"><thead><tr><th>index</th><th>one</th><th>two</th></tr><tr><td>str</td><td>f64</td><td>f64</td></tr></thead><tbody><tr><td>&quot;a&quot;</td><td>1.0</td><td>4.0</td></tr><tr><td>&quot;b&quot;</td><td>2.0</td><td>3.0</td></tr><tr><td>&quot;c&quot;</td><td>3.0</td><td>2.0</td></tr><tr><td>&quot;d&quot;</td><td>4.0</td><td>1.0</td></tr></tbody></table></div>"
      ],
      "text/plain": [
       "shape: (4, 3)\n",
       "┌───────┬─────┬─────┐\n",
       "│ index ┆ one ┆ two │\n",
       "│ ---   ┆ --- ┆ --- │\n",
       "│ str   ┆ f64 ┆ f64 │\n",
       "╞═══════╪═════╪═════╡\n",
       "│ a     ┆ 1.0 ┆ 4.0 │\n",
       "│ b     ┆ 2.0 ┆ 3.0 │\n",
       "│ c     ┆ 3.0 ┆ 2.0 │\n",
       "│ d     ┆ 4.0 ┆ 1.0 │\n",
       "└───────┴─────┴─────┘"
      ]
     },
     "execution_count": 60,
     "metadata": {},
     "output_type": "execute_result"
    }
   ],
   "source": [
    "pl.DataFrame(d).insert_column(0, pl.Series('index', [\"a\", \"b\", \"c\", \"d\"]))"
   ]
  },
  {
   "cell_type": "markdown",
   "id": "45d357db-45ad-4c90-b05f-149cc479a3bd",
   "metadata": {},
   "source": [
    "### From structured or record array"
   ]
  },
  {
   "cell_type": "code",
   "execution_count": null,
   "id": "4cc6c739-bf33-440d-83a9-1cb9faf0fc4f",
   "metadata": {},
   "outputs": [],
   "source": []
  }
 ],
 "metadata": {
  "kernelspec": {
   "display_name": "Python 3 (ipykernel)",
   "language": "python",
   "name": "python3"
  },
  "language_info": {
   "codemirror_mode": {
    "name": "ipython",
    "version": 3
   },
   "file_extension": ".py",
   "mimetype": "text/x-python",
   "name": "python",
   "nbconvert_exporter": "python",
   "pygments_lexer": "ipython3",
   "version": "3.12.2"
  }
 },
 "nbformat": 4,
 "nbformat_minor": 5
}

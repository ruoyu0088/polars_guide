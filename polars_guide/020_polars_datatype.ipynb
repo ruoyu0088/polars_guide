{
 "cells": [
  {
   "cell_type": "markdown",
   "id": "992f83f9-8bc6-47e0-9ba2-ed0881fbca64",
   "metadata": {},
   "source": [
    "# データ型"
   ]
  },
  {
   "cell_type": "code",
   "execution_count": 1,
   "id": "7d29a5f3-a89c-4e45-a94a-8a44fe9ce075",
   "metadata": {},
   "outputs": [],
   "source": [
    "from helper.python import print_subclasses\n",
    "from helper.jupyter import row\n",
    "import numpy as np\n",
    "import polars as pl"
   ]
  },
  {
   "cell_type": "markdown",
   "id": "226f29c1-dee9-4e9f-bde4-d95ca19d54c3",
   "metadata": {},
   "source": [
    "Polarsは、データの効率的な管理と操作を可能にするため、多様なデータ型をサポートしています。この章では、Polarsで利用可能なデータ型を詳細に紹介し、各データ型の特性と用途について説明します。数値型、時系列型、ネスト型など、さまざまなデータ型がどのように構造化され、データ処理にどのように役立つかを理解することで、Polarsの強力なデータ処理機能を最大限に活用できるようになります。"
   ]
  },
  {
   "cell_type": "markdown",
   "id": "d9782d47-7a80-4700-a057-012461223109",
   "metadata": {},
   "source": [
    "## データ型の継承木"
   ]
  },
  {
   "cell_type": "markdown",
   "id": "2f0d47e5-2166-48fb-a3d7-29f15bcf4eb6",
   "metadata": {},
   "source": [
    "Polarsのデータ型は、非常に多様で柔軟性があります。次の継承木の構造と各データ型の詳細について説明します。この継承木は、各データ型がどのように構造化されているかを示し、各データ型の特性や用途を理解するのに役立ちます。NumericTypeやTemporalTypeのような主要なデータ型は、さらに細かいデータ型に分かれており、それぞれが特定のデータ処理ニーズに応じて最適化されています。NestedTypeは複雑なデータ構造をサポートし、BooleanやStringなどの基本的なデータ型も広範なデータ処理を可能にします。"
   ]
  },
  {
   "cell_type": "code",
   "execution_count": 2,
   "id": "10ba9192-3d10-4224-8992-490d3307fa44",
   "metadata": {},
   "outputs": [
    {
     "name": "stdout",
     "output_type": "stream",
     "text": [
      "└──DataType\n",
      "   ├──NumericType\n",
      "   │  ├──IntegerType\n",
      "   │  │  ├──SignedIntegerType\n",
      "   │  │  │  ├──Int8\n",
      "   │  │  │  ├──Int16\n",
      "   │  │  │  ├──Int32\n",
      "   │  │  │  ├──Int64\n",
      "   │  │  │  └──Int128\n",
      "   │  │  └──UnsignedIntegerType\n",
      "   │  │     ├──UInt8\n",
      "   │  │     ├──UInt16\n",
      "   │  │     ├──UInt32\n",
      "   │  │     └──UInt64\n",
      "   │  ├──FloatType\n",
      "   │  │  ├──Float32\n",
      "   │  │  └──Float64\n",
      "   │  └──Decimal\n",
      "   ├──TemporalType\n",
      "   │  ├──Date\n",
      "   │  ├──Time\n",
      "   │  ├──Datetime\n",
      "   │  └──Duration\n",
      "   ├──NestedType\n",
      "   │  ├──List\n",
      "   │  ├──Array\n",
      "   │  └──Struct\n",
      "   ├──ObjectType\n",
      "   │  └──Object\n",
      "   ├──Boolean\n",
      "   ├──String\n",
      "   ├──Binary\n",
      "   ├──Categorical\n",
      "   ├──Enum\n",
      "   ├──Null\n",
      "   └──Unknown\n"
     ]
    }
   ],
   "source": [
    "print_subclasses(pl.DataType)"
   ]
  },
  {
   "cell_type": "markdown",
   "id": "0ffdf483-2422-4043-be14-3457b7005d28",
   "metadata": {},
   "source": [
    "**数値型**\n",
    "\n",
    "- **NumericType**: 数値型の基底クラス。整数型や浮動小数点型などの数値データを扱います。\n",
    "\n",
    "  - **IntegerType**: 整数データを表すクラスの基底クラス。\n",
    "    - **SignedIntegerType**: 符号付き整数データ(Int8、Int16、Int32、Int64)\n",
    "    - **UnsignedIntegerType**: 符号なし整数データ(UInt8、UInt16、UInt32、UInt64)\n",
    "\n",
    "  - **FloatType**: 浮動小数点データを表すクラスの基底クラス(Float32、Float64)\n",
    "\n",
    "  - **Decimal**: 固定小数点数データを扱います。高精度の数値計算に使用されます。\n",
    "\n",
    "**時系列型**\n",
    "\n",
    "- **TemporalType**: 時間に関連するデータ型の基底クラス。\n",
    "  - **Date**: 日付データを扱います（例: 2024-07-18）。\n",
    "  - **Time**: 時刻データを扱います（例: 12:34:56）。\n",
    "  - **Datetime**: 日時データを扱います（例: 2024-07-18 12:34:56）。\n",
    "  - **Duration**: 時間の期間を扱います（例: 5分、2時間）。\n",
    "\n",
    "**ネスト型**\n",
    "\n",
    "- **NestedType**: ネスト構造を持つデータ型の基底クラス。\n",
    "  - **List**: 要素のリストを扱います。リスト内の要素は同じデータ型でなければなりません。\n",
    "  - **Array**: 固定長の配列を扱います。\n",
    "  - **Struct**: 構造体データを扱います。異なるデータ型を持つ複数のフィールドを持つことができます。\n",
    "\n",
    "**その他のデータ型**\n",
    "\n",
    "- **Boolean**: 真偽値データを扱います（TrueまたはFalse）。\n",
    "- **String**: 文字列データを扱います。\n",
    "- **Binary**: バイナリデータを扱います。\n",
    "- **Categorical**: カテゴリカルデータを扱います。効率的にカテゴリ値を管理します。\n",
    "- **Enum**: 列挙型データを扱います。\n",
    "- **Object**: 任意のPythonオブジェクトを扱います。特定のデータ型に適合しないデータを格納するために使用されます。\n",
    "- **Null**: NULL値を扱います。欠損値を示すために使用されます。\n",
    "- **Unknown**: 未知のデータ型を扱います。"
   ]
  },
  {
   "cell_type": "markdown",
   "id": "59679605-9305-4cdd-9283-81cb506fbcc8",
   "metadata": {},
   "source": [
    "## データ型変換"
   ]
  },
  {
   "cell_type": "markdown",
   "id": "d81ae0d5-ff46-4267-9292-e799f3c41c45",
   "metadata": {},
   "source": [
    "### Cast"
   ]
  },
  {
   "cell_type": "markdown",
   "id": "dc37a5a3-4de8-44f6-868c-65c9d83b7533",
   "metadata": {},
   "source": [
    "Polarsは、データ型の変換を簡単に行うための便利な関数を提供しています。特に、`cast()` と `shrink_dtype()` の2つの関数は、データ型のキャストや縮小に使用されます。以下に、それぞれの関数について詳しく説明します。"
   ]
  },
  {
   "cell_type": "code",
   "execution_count": 3,
   "id": "1ab51fd8-3ae9-48af-bf0e-3813cf7de945",
   "metadata": {},
   "outputs": [
    {
     "data": {
      "text/html": [
       "<div><style>\n",
       ".dataframe > thead > tr,\n",
       ".dataframe > tbody > tr {\n",
       "  text-align: right;\n",
       "  white-space: pre-wrap;\n",
       "}\n",
       "</style>\n",
       "<small>shape: (4, 3)</small><table border=\"1\" class=\"dataframe\"><thead><tr><th>a</th><th>b</th><th>g</th></tr><tr><td>i64</td><td>i64</td><td>str</td></tr></thead><tbody><tr><td>3</td><td>4</td><td>&quot;B&quot;</td></tr><tr><td>3</td><td>12</td><td>&quot;A&quot;</td></tr><tr><td>3</td><td>6</td><td>&quot;A&quot;</td></tr><tr><td>4</td><td>7</td><td>&quot;C&quot;</td></tr></tbody></table></div>"
      ],
      "text/plain": [
       "shape: (4, 3)\n",
       "┌─────┬─────┬─────┐\n",
       "│ a   ┆ b   ┆ g   │\n",
       "│ --- ┆ --- ┆ --- │\n",
       "│ i64 ┆ i64 ┆ str │\n",
       "╞═════╪═════╪═════╡\n",
       "│ 3   ┆ 4   ┆ B   │\n",
       "│ 3   ┆ 12  ┆ A   │\n",
       "│ 3   ┆ 6   ┆ A   │\n",
       "│ 4   ┆ 7   ┆ C   │\n",
       "└─────┴─────┴─────┘"
      ]
     },
     "execution_count": 3,
     "metadata": {},
     "output_type": "execute_result"
    }
   ],
   "source": [
    "df = pl.DataFrame(\n",
    "    {\n",
    "        \"a\": [3, 3, 3, 4],\n",
    "        \"b\": [4, 12, 6, 7],\n",
    "        \"g\": ['B', 'A', 'A', 'C']\n",
    "    }\n",
    ")\n",
    "df"
   ]
  },
  {
   "cell_type": "markdown",
   "id": "6156fc56-cc0c-4080-9850-8af0d93fa006",
   "metadata": {},
   "source": [
    "`cast()`は、指定されたデータ型に列をキャストするために使用されます。この関数は、データの表現形式を変える際に非常に便利です。例えば、整数型の列を浮動小数点型に変換したり、文字列型の列を日付型に変換したりすることができます。"
   ]
  },
  {
   "cell_type": "code",
   "execution_count": 4,
   "id": "6fda7fc8-9184-4409-91e4-f79a49a2f9b2",
   "metadata": {},
   "outputs": [
    {
     "data": {
      "text/html": [
       "<div><style>\n",
       ".dataframe > thead > tr,\n",
       ".dataframe > tbody > tr {\n",
       "  text-align: right;\n",
       "  white-space: pre-wrap;\n",
       "}\n",
       "</style>\n",
       "<small>shape: (4, 3)</small><table border=\"1\" class=\"dataframe\"><thead><tr><th>a</th><th>b</th><th>g</th></tr><tr><td>u8</td><td>str</td><td>str</td></tr></thead><tbody><tr><td>3</td><td>&quot;4&quot;</td><td>&quot;B&quot;</td></tr><tr><td>3</td><td>&quot;12&quot;</td><td>&quot;A&quot;</td></tr><tr><td>3</td><td>&quot;6&quot;</td><td>&quot;A&quot;</td></tr><tr><td>4</td><td>&quot;7&quot;</td><td>&quot;C&quot;</td></tr></tbody></table></div>"
      ],
      "text/plain": [
       "shape: (4, 3)\n",
       "┌─────┬─────┬─────┐\n",
       "│ a   ┆ b   ┆ g   │\n",
       "│ --- ┆ --- ┆ --- │\n",
       "│ u8  ┆ str ┆ str │\n",
       "╞═════╪═════╪═════╡\n",
       "│ 3   ┆ 4   ┆ B   │\n",
       "│ 3   ┆ 12  ┆ A   │\n",
       "│ 3   ┆ 6   ┆ A   │\n",
       "│ 4   ┆ 7   ┆ C   │\n",
       "└─────┴─────┴─────┘"
      ]
     },
     "execution_count": 4,
     "metadata": {},
     "output_type": "execute_result"
    }
   ],
   "source": [
    "df.with_columns(\n",
    "    pl.col.a.cast(pl.UInt8),\n",
    "    pl.col.b.cast(pl.String)\n",
    ")"
   ]
  },
  {
   "cell_type": "markdown",
   "id": "f023af51-eb7a-49d0-a0ec-bc4de1b3f05c",
   "metadata": {},
   "source": [
    "`shrink_dtype()`は、データ型を必要最小限のサイズに縮小するために使用されます。例えば、Int64 型の列が実際には Int32 で十分な場合、この関数を使用してデータ型を自動的に縮小することができます。これにより、メモリ使用量を削減し、効率的なデータ管理が可能になります。"
   ]
  },
  {
   "cell_type": "code",
   "execution_count": 5,
   "id": "42ad2b9a-abb2-44ea-8fed-d14b575b6b2c",
   "metadata": {},
   "outputs": [
    {
     "data": {
      "text/html": [
       "<div><style>\n",
       ".dataframe > thead > tr,\n",
       ".dataframe > tbody > tr {\n",
       "  text-align: right;\n",
       "  white-space: pre-wrap;\n",
       "}\n",
       "</style>\n",
       "<small>shape: (4, 3)</small><table border=\"1\" class=\"dataframe\"><thead><tr><th>a</th><th>b</th><th>g</th></tr><tr><td>i8</td><td>i8</td><td>str</td></tr></thead><tbody><tr><td>3</td><td>4</td><td>&quot;B&quot;</td></tr><tr><td>3</td><td>12</td><td>&quot;A&quot;</td></tr><tr><td>3</td><td>6</td><td>&quot;A&quot;</td></tr><tr><td>4</td><td>7</td><td>&quot;C&quot;</td></tr></tbody></table></div>"
      ],
      "text/plain": [
       "shape: (4, 3)\n",
       "┌─────┬─────┬─────┐\n",
       "│ a   ┆ b   ┆ g   │\n",
       "│ --- ┆ --- ┆ --- │\n",
       "│ i8  ┆ i8  ┆ str │\n",
       "╞═════╪═════╪═════╡\n",
       "│ 3   ┆ 4   ┆ B   │\n",
       "│ 3   ┆ 12  ┆ A   │\n",
       "│ 3   ┆ 6   ┆ A   │\n",
       "│ 4   ┆ 7   ┆ C   │\n",
       "└─────┴─────┴─────┘"
      ]
     },
     "execution_count": 5,
     "metadata": {},
     "output_type": "execute_result"
    }
   ],
   "source": [
    "df.select(pl.all().shrink_dtype())"
   ]
  },
  {
   "cell_type": "markdown",
   "id": "48365f47-5af2-4008-b5c0-84f4fe880bac",
   "metadata": {},
   "source": [
    "### データ型再定義"
   ]
  },
  {
   "cell_type": "markdown",
   "id": "d03226cf-c9d2-4f10-9ef5-ffa08069f2a4",
   "metadata": {},
   "source": [
    "`cast`ではなく、NumPyの`.view()`のように、データをそのままにして、別の型に切り替えたい場合は、次のプログラムのように、`.to_arrow()`で一旦PyArrowの配列に変換し、その配列の`.view()`メソッドでデータ型を変更します。最後にその結果を`Series`に変換します。\n",
    "\n",
    "※ `Expr.reinterpret()`と`Series.reinterpret()`もがありますが、これは整数int64とuint64間の切り替えしかできません。\n",
    "\n",
    "データ型を変更する際に、データそのものは変更せずに型だけを切り替えたい場合があります。NumPyの `.view()` メソッドのように、データの内容をそのままにして別の型に変更するには、以下の方法を使用します。\n",
    "\n",
    "1. `to_arrow()` を使用してPyArrowの配列に変換\n",
    "2. PyArrowの配列の `.view()` メソッドでデータ型を変更\n",
    "3. 変更後の結果を `Series` に変換\n",
    "\n",
    "次の例では、`UInt64`のデータを`Float64`として再定義します。"
   ]
  },
  {
   "cell_type": "code",
   "execution_count": 6,
   "id": "f8349c9a-6d70-4cfe-9192-8fd31f09e9f4",
   "metadata": {},
   "outputs": [
    {
     "data": {
      "text/html": [
       "<table><tr><td><div><style>\n",
       ".dataframe > thead > tr,\n",
       ".dataframe > tbody > tr {\n",
       "  text-align: right;\n",
       "  white-space: pre-wrap;\n",
       "}\n",
       "</style>\n",
       "<small>shape: (3, 1)</small><table border=\"1\" class=\"dataframe\"><thead><tr><th>nums</th></tr><tr><td>u64</td></tr></thead><tbody><tr><td>4837362400224322580</td></tr><tr><td>null</td></tr><tr><td>4837362400224322584</td></tr></tbody></table></div></td><td><div><style>\n",
       ".dataframe > thead > tr,\n",
       ".dataframe > tbody > tr {\n",
       "  text-align: right;\n",
       "  white-space: pre-wrap;\n",
       "}\n",
       "</style>\n",
       "<small>shape: (3, 1)</small><table border=\"1\" class=\"dataframe\"><thead><tr><th>nums</th></tr><tr><td>f64</td></tr></thead><tbody><tr><td>2.5000e15</td></tr><tr><td>null</td></tr><tr><td>2.5000e15</td></tr></tbody></table></div></td></tr></table>"
      ]
     },
     "metadata": {},
     "output_type": "display_data"
    }
   ],
   "source": [
    "df_wrong = pl.DataFrame({\"nums\": [4837362400224322580,None,4837362400224322584]}, {\"nums\":pl.UInt64})\n",
    "df_fixed = df_wrong.select(pl.col(\"nums\").map_batches(lambda s:pl.Series(s.to_arrow().view(\"f8\"))))\n",
    "row(df_wrong, df_fixed)"
   ]
  },
  {
   "cell_type": "markdown",
   "id": "b7d54d19-9c99-45bb-ac4e-60bee575b5f5",
   "metadata": {},
   "source": [
    "Polarsには `Expr.reinterpret()` および `Series.reinterpret()` というメソッドもありますが、これらは主に `int64` と `uint64` の間で型を切り替えるためのもので、他のデータ型への変更には使用できません。"
   ]
  },
  {
   "cell_type": "markdown",
   "id": "4a0be4eb-4008-4fe7-9df8-0e390a4eb99b",
   "metadata": {},
   "source": [
    "バイナリ文字列から同じバイト数のデータ型に変換するには、`bin.reinterpret()`を使えます。`dtype`引数で変換後のデータ型を指定し、`endianness`引数でバイトオーダー（\"big\" または \"little\"）を指定できます。次の例では、バイナリデータが4バイトの符号なし整数（UInt32）に変換され、ビッグエンディアン（big-endian）として解釈されます。"
   ]
  },
  {
   "cell_type": "code",
   "execution_count": 7,
   "id": "2633b168-7f8d-47ea-8c1f-ad9bb1e4df5d",
   "metadata": {},
   "outputs": [
    {
     "data": {
      "text/html": [
       "<div><style>\n",
       ".dataframe > thead > tr,\n",
       ".dataframe > tbody > tr {\n",
       "  text-align: right;\n",
       "  white-space: pre-wrap;\n",
       "}\n",
       "</style>\n",
       "<small>shape: (4, 1)</small><table border=\"1\" class=\"dataframe\"><thead><tr><th>binary_column</th></tr><tr><td>u32</td></tr></thead><tbody><tr><td>1</td></tr><tr><td>2</td></tr><tr><td>3</td></tr><tr><td>16449</td></tr></tbody></table></div>"
      ],
      "text/plain": [
       "shape: (4, 1)\n",
       "┌───────────────┐\n",
       "│ binary_column │\n",
       "│ ---           │\n",
       "│ u32           │\n",
       "╞═══════════════╡\n",
       "│ 1             │\n",
       "│ 2             │\n",
       "│ 3             │\n",
       "│ 16449         │\n",
       "└───────────────┘"
      ]
     },
     "execution_count": 7,
     "metadata": {},
     "output_type": "execute_result"
    }
   ],
   "source": [
    "df = pl.DataFrame({\n",
    "    'binary_column': [b'\\x00\\x00\\x00\\x01', b'\\x00\\x00\\x00\\x02', b'\\x00\\x00\\x00\\x03', b'\\x00\\x00@A']\n",
    "})\n",
    "\n",
    "df.select(pl.col('binary_column').bin.reinterpret(dtype=pl.UInt32, endianness=\"big\"))"
   ]
  },
  {
   "cell_type": "markdown",
   "id": "66ccb18c-7668-413c-88f6-eb9aa0a77dd9",
   "metadata": {},
   "source": [
    "## 文字列"
   ]
  },
  {
   "cell_type": "markdown",
   "id": "66cb4f8b-4b80-4772-9667-ed9377f019dc",
   "metadata": {},
   "source": [
    "Polarsは文字列データの処理にも強力な機能を備えています。文字列処理関連の演算式関数はネーミングスペース`.str` の下にあります。"
   ]
  },
  {
   "cell_type": "markdown",
   "id": "063b618f-337a-4c8d-a458-6ead08e24c9a",
   "metadata": {},
   "source": [
    "### 文字列の長さ\n",
    "\n",
    "* `str.len_chars()`: 文字列のキャラクター数（文字数）を測定します。これは、文字列内に含まれる実際の文字の数を返します。たとえば、マルチバイト文字（日本語のような2バイト文字）も1文字としてカウントされます。\n",
    "* `str.len_bytes()`: 文字列のバイト数を測定します。これは、各文字がエンコードされる際に占めるバイト数の合計を返します。マルチバイト文字は複数バイトとしてカウントされます。"
   ]
  },
  {
   "cell_type": "code",
   "execution_count": 8,
   "id": "4b1bb622-b5d7-4e5a-9774-eb9f4dad32c0",
   "metadata": {},
   "outputs": [
    {
     "data": {
      "text/html": [
       "<div><style>\n",
       ".dataframe > thead > tr,\n",
       ".dataframe > tbody > tr {\n",
       "  text-align: right;\n",
       "  white-space: pre-wrap;\n",
       "}\n",
       "</style>\n",
       "<small>shape: (4, 3)</small><table border=\"1\" class=\"dataframe\"><thead><tr><th>lib</th><th>len_char</th><th>len_byte</th></tr><tr><td>str</td><td>u32</td><td>u32</td></tr></thead><tbody><tr><td>&quot;pandas&quot;</td><td>6</td><td>6</td></tr><tr><td>&quot;numpy&quot;</td><td>5</td><td>5</td></tr><tr><td>&quot;polars&quot;</td><td>6</td><td>6</td></tr><tr><td>&quot;図形&quot;</td><td>2</td><td>6</td></tr></tbody></table></div>"
      ],
      "text/plain": [
       "shape: (4, 3)\n",
       "┌────────┬──────────┬──────────┐\n",
       "│ lib    ┆ len_char ┆ len_byte │\n",
       "│ ---    ┆ ---      ┆ ---      │\n",
       "│ str    ┆ u32      ┆ u32      │\n",
       "╞════════╪══════════╪══════════╡\n",
       "│ pandas ┆ 6        ┆ 6        │\n",
       "│ numpy  ┆ 5        ┆ 5        │\n",
       "│ polars ┆ 6        ┆ 6        │\n",
       "│ 図形   ┆ 2        ┆ 6        │\n",
       "└────────┴──────────┴──────────┘"
      ]
     },
     "execution_count": 8,
     "metadata": {},
     "output_type": "execute_result"
    }
   ],
   "source": [
    "df = pl.DataFrame({\n",
    "    \"lib\": [\"pandas\", \"numpy\", \"polars\", \"図形\"],\n",
    "    \"ver\": [\"2.0\", \"1.1.4\", \"1.2.1\", \"4.0\"]\n",
    "})\n",
    "\n",
    "df.select(\n",
    "    \"lib\",\n",
    "    len_char=pl.col(\"lib\").str.len_chars(),\n",
    "    len_byte=pl.col(\"lib\").str.len_bytes()\n",
    ")"
   ]
  },
  {
   "cell_type": "markdown",
   "id": "fb1a8a7c-0f0e-45f0-b0f2-5d6fcacd1e81",
   "metadata": {},
   "source": [
    "### 文字列の部分一致検索"
   ]
  },
  {
   "cell_type": "markdown",
   "id": "8b5c61c4-60ad-4bbf-b80d-4333f5451073",
   "metadata": {},
   "source": [
    "`str.contains()`、`str.starts_with()`、`str.ends_with()`などの関数で、特定の部分文字列が含まれるか、指定された文字列で始まるか、終わるかをチェックできます。"
   ]
  },
  {
   "cell_type": "code",
   "execution_count": 9,
   "id": "c6c4ac6c-2ad0-458c-9b03-059910ef710c",
   "metadata": {},
   "outputs": [
    {
     "data": {
      "text/html": [
       "<div><style>\n",
       ".dataframe > thead > tr,\n",
       ".dataframe > tbody > tr {\n",
       "  text-align: right;\n",
       "  white-space: pre-wrap;\n",
       "}\n",
       "</style>\n",
       "<small>shape: (2, 2)</small><table border=\"1\" class=\"dataframe\"><thead><tr><th>lib</th><th>ver</th></tr><tr><td>str</td><td>str</td></tr></thead><tbody><tr><td>&quot;pandas&quot;</td><td>&quot;2.0&quot;</td></tr><tr><td>&quot;polars&quot;</td><td>&quot;1.2.1&quot;</td></tr></tbody></table></div>"
      ],
      "text/plain": [
       "shape: (2, 2)\n",
       "┌────────┬───────┐\n",
       "│ lib    ┆ ver   │\n",
       "│ ---    ┆ ---   │\n",
       "│ str    ┆ str   │\n",
       "╞════════╪═══════╡\n",
       "│ pandas ┆ 2.0   │\n",
       "│ polars ┆ 1.2.1 │\n",
       "└────────┴───────┘"
      ]
     },
     "execution_count": 9,
     "metadata": {},
     "output_type": "execute_result"
    }
   ],
   "source": [
    "df.filter(pl.col.lib.str.starts_with(\"p\"))"
   ]
  },
  {
   "cell_type": "code",
   "execution_count": 10,
   "id": "c39be1d8-0e03-4117-b26a-d7fcee14b674",
   "metadata": {},
   "outputs": [
    {
     "data": {
      "text/html": [
       "<div><style>\n",
       ".dataframe > thead > tr,\n",
       ".dataframe > tbody > tr {\n",
       "  text-align: right;\n",
       "  white-space: pre-wrap;\n",
       "}\n",
       "</style>\n",
       "<small>shape: (2, 2)</small><table border=\"1\" class=\"dataframe\"><thead><tr><th>lib</th><th>ver</th></tr><tr><td>str</td><td>str</td></tr></thead><tbody><tr><td>&quot;pandas&quot;</td><td>&quot;2.0&quot;</td></tr><tr><td>&quot;図形&quot;</td><td>&quot;4.0&quot;</td></tr></tbody></table></div>"
      ],
      "text/plain": [
       "shape: (2, 2)\n",
       "┌────────┬─────┐\n",
       "│ lib    ┆ ver │\n",
       "│ ---    ┆ --- │\n",
       "│ str    ┆ str │\n",
       "╞════════╪═════╡\n",
       "│ pandas ┆ 2.0 │\n",
       "│ 図形   ┆ 4.0 │\n",
       "└────────┴─────┘"
      ]
     },
     "execution_count": 10,
     "metadata": {},
     "output_type": "execute_result"
    }
   ],
   "source": [
    "df.filter(pl.col.ver.str.ends_with(\"0\"))"
   ]
  },
  {
   "cell_type": "code",
   "execution_count": 11,
   "id": "c88ee8aa-cfa1-4916-a00b-9bd40fc4ca48",
   "metadata": {},
   "outputs": [
    {
     "data": {
      "text/html": [
       "<div><style>\n",
       ".dataframe > thead > tr,\n",
       ".dataframe > tbody > tr {\n",
       "  text-align: right;\n",
       "  white-space: pre-wrap;\n",
       "}\n",
       "</style>\n",
       "<small>shape: (3, 2)</small><table border=\"1\" class=\"dataframe\"><thead><tr><th>lib</th><th>ver</th></tr><tr><td>str</td><td>str</td></tr></thead><tbody><tr><td>&quot;pandas&quot;</td><td>&quot;2.0&quot;</td></tr><tr><td>&quot;numpy&quot;</td><td>&quot;1.1.4&quot;</td></tr><tr><td>&quot;polars&quot;</td><td>&quot;1.2.1&quot;</td></tr></tbody></table></div>"
      ],
      "text/plain": [
       "shape: (3, 2)\n",
       "┌────────┬───────┐\n",
       "│ lib    ┆ ver   │\n",
       "│ ---    ┆ ---   │\n",
       "│ str    ┆ str   │\n",
       "╞════════╪═══════╡\n",
       "│ pandas ┆ 2.0   │\n",
       "│ numpy  ┆ 1.1.4 │\n",
       "│ polars ┆ 1.2.1 │\n",
       "└────────┴───────┘"
      ]
     },
     "execution_count": 11,
     "metadata": {},
     "output_type": "execute_result"
    }
   ],
   "source": [
    "df.filter(pl.col.lib.str.contains('p'))"
   ]
  },
  {
   "cell_type": "markdown",
   "id": "08a2e519-5033-45d4-b8fb-d21baf12882d",
   "metadata": {},
   "source": [
    "`.contains()`には正規表現が使えます。次のコードは二つの点があるバージョンの行を取得します。"
   ]
  },
  {
   "cell_type": "code",
   "execution_count": 12,
   "id": "3439eb25-eae0-46e6-a8e9-cf802c93952b",
   "metadata": {},
   "outputs": [
    {
     "name": "stderr",
     "output_type": "stream",
     "text": [
      "<>:1: SyntaxWarning: invalid escape sequence '\\d'\n",
      "<>:1: SyntaxWarning: invalid escape sequence '\\d'\n",
      "C:\\Users\\ruoyu\\AppData\\Local\\Temp\\ipykernel_2988\\1031424121.py:1: SyntaxWarning: invalid escape sequence '\\d'\n",
      "  df.filter(pl.col.ver.str.contains(\"^\\d+\\.\\d+\\.\\d+$\"))\n"
     ]
    },
    {
     "data": {
      "text/html": [
       "<div><style>\n",
       ".dataframe > thead > tr,\n",
       ".dataframe > tbody > tr {\n",
       "  text-align: right;\n",
       "  white-space: pre-wrap;\n",
       "}\n",
       "</style>\n",
       "<small>shape: (2, 2)</small><table border=\"1\" class=\"dataframe\"><thead><tr><th>lib</th><th>ver</th></tr><tr><td>str</td><td>str</td></tr></thead><tbody><tr><td>&quot;numpy&quot;</td><td>&quot;1.1.4&quot;</td></tr><tr><td>&quot;polars&quot;</td><td>&quot;1.2.1&quot;</td></tr></tbody></table></div>"
      ],
      "text/plain": [
       "shape: (2, 2)\n",
       "┌────────┬───────┐\n",
       "│ lib    ┆ ver   │\n",
       "│ ---    ┆ ---   │\n",
       "│ str    ┆ str   │\n",
       "╞════════╪═══════╡\n",
       "│ numpy  ┆ 1.1.4 │\n",
       "│ polars ┆ 1.2.1 │\n",
       "└────────┴───────┘"
      ]
     },
     "execution_count": 12,
     "metadata": {},
     "output_type": "execute_result"
    }
   ],
   "source": [
    "df.filter(pl.col.ver.str.contains(\"^\\d+\\.\\d+\\.\\d+$\"))"
   ]
  },
  {
   "cell_type": "markdown",
   "id": "27cbc0b9-6747-4c10-b505-671b289e90de",
   "metadata": {},
   "source": [
    "`.str.contains_any()` は特定の文字列やパターンのリストのいずれかが含まれているかを判定するために使用されます。このメソッドは、複数のキーワードが含まれているかどうかを一度にチェックしたい場合に非常に便利です。"
   ]
  },
  {
   "cell_type": "code",
   "execution_count": 13,
   "id": "7f510965-b73c-40fe-a6e3-9ebaa5c1a57a",
   "metadata": {},
   "outputs": [
    {
     "data": {
      "text/html": [
       "<div><style>\n",
       ".dataframe > thead > tr,\n",
       ".dataframe > tbody > tr {\n",
       "  text-align: right;\n",
       "  white-space: pre-wrap;\n",
       "}\n",
       "</style>\n",
       "<small>shape: (2, 1)</small><table border=\"1\" class=\"dataframe\"><thead><tr><th>text</th></tr><tr><td>str</td></tr></thead><tbody><tr><td>&quot;data science&quot;</td></tr><tr><td>&quot;machine learning&quot;</td></tr></tbody></table></div>"
      ],
      "text/plain": [
       "shape: (2, 1)\n",
       "┌──────────────────┐\n",
       "│ text             │\n",
       "│ ---              │\n",
       "│ str              │\n",
       "╞══════════════════╡\n",
       "│ data science     │\n",
       "│ machine learning │\n",
       "└──────────────────┘"
      ]
     },
     "execution_count": 13,
     "metadata": {},
     "output_type": "execute_result"
    }
   ],
   "source": [
    "df2 = pl.DataFrame({\n",
    "    \"text\": [\"hello world\", \"data process library\", \"data science\", \"machine learning\", \"plot library\"]\n",
    "})\n",
    "\n",
    "df2.filter(\n",
    "    pl.col(\"text\").str.contains_any([\"science\", \"machine\"])\n",
    ")"
   ]
  },
  {
   "cell_type": "markdown",
   "id": "6c5590b4-ca55-41f1-8085-77c42f9912d1",
   "metadata": {},
   "source": [
    "`.str.contains_any()` の引数には、演算式も使用できます。以下のプログラムは、`text` 列に含まれる単語の中で、出現頻度が上位2つの単語を含む行を抽出します。"
   ]
  },
  {
   "cell_type": "code",
   "execution_count": 14,
   "id": "18fff21f-6f54-4033-9948-9ec48b4b8ddd",
   "metadata": {},
   "outputs": [
    {
     "data": {
      "text/html": [
       "<table><tr><td><div><style>\n",
       ".dataframe > thead > tr,\n",
       ".dataframe > tbody > tr {\n",
       "  text-align: right;\n",
       "  white-space: pre-wrap;\n",
       "}\n",
       "</style>\n",
       "<small>shape: (2, 1)</small><table border=\"1\" class=\"dataframe\"><thead><tr><th>text</th></tr><tr><td>str</td></tr></thead><tbody><tr><td>&quot;data&quot;</td></tr><tr><td>&quot;library&quot;</td></tr></tbody></table></div></td><td><div><style>\n",
       ".dataframe > thead > tr,\n",
       ".dataframe > tbody > tr {\n",
       "  text-align: right;\n",
       "  white-space: pre-wrap;\n",
       "}\n",
       "</style>\n",
       "<small>shape: (3, 1)</small><table border=\"1\" class=\"dataframe\"><thead><tr><th>text</th></tr><tr><td>str</td></tr></thead><tbody><tr><td>&quot;data process library&quot;</td></tr><tr><td>&quot;data science&quot;</td></tr><tr><td>&quot;plot library&quot;</td></tr></tbody></table></div></td></tr></table>"
      ]
     },
     "metadata": {},
     "output_type": "display_data"
    }
   ],
   "source": [
    "expr = pl.col.text.str.split(' ').explode().value_counts(sort=True).head(2).struct.field('text')\n",
    "row(df2.select(expr), df2.filter(pl.col.text.str.contains_any(expr)))"
   ]
  },
  {
   "cell_type": "markdown",
   "id": "d981760d-a206-4d07-b1c7-7056afc6bbb7",
   "metadata": {},
   "source": [
    "### 文字列の置換\n",
    "\n",
    "`.str.replace()`, `.str.replace_all()`で特定の部分文字列を置換します。\n",
    "\n",
    "- `str.replace()`: は最初に見つかったN個の一致のみを置換します。\n",
    "- `str.replace_all()`: はすべての一致を置換します。"
   ]
  },
  {
   "cell_type": "code",
   "execution_count": 15,
   "id": "9e7b5648-4e15-493b-a5ac-211b910da62e",
   "metadata": {},
   "outputs": [
    {
     "data": {
      "text/html": [
       "<div><style>\n",
       ".dataframe > thead > tr,\n",
       ".dataframe > tbody > tr {\n",
       "  text-align: right;\n",
       "  white-space: pre-wrap;\n",
       "}\n",
       "</style>\n",
       "<small>shape: (5, 1)</small><table border=\"1\" class=\"dataframe\"><thead><tr><th>text</th></tr><tr><td>str</td></tr></thead><tbody><tr><td>&quot;hello world&quot;</td></tr><tr><td>&quot;DATA process library&quot;</td></tr><tr><td>&quot;DATA science&quot;</td></tr><tr><td>&quot;machine learning&quot;</td></tr><tr><td>&quot;plot library&quot;</td></tr></tbody></table></div>"
      ],
      "text/plain": [
       "shape: (5, 1)\n",
       "┌──────────────────────┐\n",
       "│ text                 │\n",
       "│ ---                  │\n",
       "│ str                  │\n",
       "╞══════════════════════╡\n",
       "│ hello world          │\n",
       "│ DATA process library │\n",
       "│ DATA science         │\n",
       "│ machine learning     │\n",
       "│ plot library         │\n",
       "└──────────────────────┘"
      ]
     },
     "execution_count": 15,
     "metadata": {},
     "output_type": "execute_result"
    }
   ],
   "source": [
    "df2.select(pl.col.text.str.replace_all('data', 'DATA'))"
   ]
  },
  {
   "cell_type": "markdown",
   "id": "0d26f169-2c30-454a-84b8-733da156f19b",
   "metadata": {},
   "source": [
    "### 文字列の分割\n",
    "\n",
    "文字列を特定の区切り文字で分割できます。"
   ]
  },
  {
   "cell_type": "code",
   "execution_count": 16,
   "id": "7b617ad7-1087-4dc6-976d-403713874e4d",
   "metadata": {},
   "outputs": [
    {
     "data": {
      "text/html": [
       "<div><style>\n",
       ".dataframe > thead > tr,\n",
       ".dataframe > tbody > tr {\n",
       "  text-align: right;\n",
       "  white-space: pre-wrap;\n",
       "}\n",
       "</style>\n",
       "<small>shape: (5, 2)</small><table border=\"1\" class=\"dataframe\"><thead><tr><th>text</th><th>split</th></tr><tr><td>str</td><td>list[str]</td></tr></thead><tbody><tr><td>&quot;hello world&quot;</td><td>[&quot;hello&quot;, &quot;world&quot;]</td></tr><tr><td>&quot;data process library&quot;</td><td>[&quot;data&quot;, &quot;process&quot;, &quot;library&quot;]</td></tr><tr><td>&quot;data science&quot;</td><td>[&quot;data&quot;, &quot;science&quot;]</td></tr><tr><td>&quot;machine learning&quot;</td><td>[&quot;machine&quot;, &quot;learning&quot;]</td></tr><tr><td>&quot;plot library&quot;</td><td>[&quot;plot&quot;, &quot;library&quot;]</td></tr></tbody></table></div>"
      ],
      "text/plain": [
       "shape: (5, 2)\n",
       "┌──────────────────────┬────────────────────────────────┐\n",
       "│ text                 ┆ split                          │\n",
       "│ ---                  ┆ ---                            │\n",
       "│ str                  ┆ list[str]                      │\n",
       "╞══════════════════════╪════════════════════════════════╡\n",
       "│ hello world          ┆ [\"hello\", \"world\"]             │\n",
       "│ data process library ┆ [\"data\", \"process\", \"library\"] │\n",
       "│ data science         ┆ [\"data\", \"science\"]            │\n",
       "│ machine learning     ┆ [\"machine\", \"learning\"]        │\n",
       "│ plot library         ┆ [\"plot\", \"library\"]            │\n",
       "└──────────────────────┴────────────────────────────────┘"
      ]
     },
     "execution_count": 16,
     "metadata": {},
     "output_type": "execute_result"
    }
   ],
   "source": [
    "df2.with_columns([\n",
    "    pl.col(\"text\").str.split(\" \").alias(\"split\")\n",
    "])"
   ]
  },
  {
   "cell_type": "code",
   "execution_count": 17,
   "id": "ae75d75c-cfc6-4690-b798-dc9399d68da2",
   "metadata": {},
   "outputs": [
    {
     "data": {
      "text/html": [
       "<div><style>\n",
       ".dataframe > thead > tr,\n",
       ".dataframe > tbody > tr {\n",
       "  text-align: right;\n",
       "  white-space: pre-wrap;\n",
       "}\n",
       "</style>\n",
       "<small>shape: (5, 2)</small><table border=\"1\" class=\"dataframe\"><thead><tr><th>text</th><th>split_exact</th></tr><tr><td>str</td><td>struct[2]</td></tr></thead><tbody><tr><td>&quot;hello world&quot;</td><td>{&quot;hello&quot;,&quot;world&quot;}</td></tr><tr><td>&quot;data process library&quot;</td><td>{&quot;data&quot;,&quot;process&quot;}</td></tr><tr><td>&quot;data science&quot;</td><td>{&quot;data&quot;,&quot;science&quot;}</td></tr><tr><td>&quot;machine learning&quot;</td><td>{&quot;machine&quot;,&quot;learning&quot;}</td></tr><tr><td>&quot;plot library&quot;</td><td>{&quot;plot&quot;,&quot;library&quot;}</td></tr></tbody></table></div>"
      ],
      "text/plain": [
       "shape: (5, 2)\n",
       "┌──────────────────────┬────────────────────────┐\n",
       "│ text                 ┆ split_exact            │\n",
       "│ ---                  ┆ ---                    │\n",
       "│ str                  ┆ struct[2]              │\n",
       "╞══════════════════════╪════════════════════════╡\n",
       "│ hello world          ┆ {\"hello\",\"world\"}      │\n",
       "│ data process library ┆ {\"data\",\"process\"}     │\n",
       "│ data science         ┆ {\"data\",\"science\"}     │\n",
       "│ machine learning     ┆ {\"machine\",\"learning\"} │\n",
       "│ plot library         ┆ {\"plot\",\"library\"}     │\n",
       "└──────────────────────┴────────────────────────┘"
      ]
     },
     "execution_count": 17,
     "metadata": {},
     "output_type": "execute_result"
    }
   ],
   "source": [
    "df2.with_columns([\n",
    "    pl.col(\"text\").str.split_exact(\" \", 1).alias(\"split_exact\")\n",
    "])"
   ]
  },
  {
   "cell_type": "markdown",
   "id": "6e305fd5-b602-4703-9672-cbd4096efd86",
   "metadata": {},
   "source": [
    "### 文字列のトリミング\n",
    "\n",
    "文字列の前後の空白や特定の文字を除去します。"
   ]
  },
  {
   "cell_type": "code",
   "execution_count": 18,
   "id": "a86c7db2-1f15-48dd-bafd-a97a128f7f72",
   "metadata": {},
   "outputs": [
    {
     "data": {
      "text/html": [
       "<div><style>\n",
       ".dataframe > thead > tr,\n",
       ".dataframe > tbody > tr {\n",
       "  text-align: right;\n",
       "  white-space: pre-wrap;\n",
       "}\n",
       "</style>\n",
       "<small>shape: (5, 4)</small><table border=\"1\" class=\"dataframe\"><thead><tr><th>text</th><th>stripped</th><th>no_prefix</th><th>no_suffix</th></tr><tr><td>str</td><td>str</td><td>str</td><td>str</td></tr></thead><tbody><tr><td>&quot; hello &quot;</td><td>&quot;hello&quot;</td><td>&quot;hello &quot;</td><td>&quot; hello&quot;</td></tr><tr><td>&quot; world&quot;</td><td>&quot;world&quot;</td><td>&quot;world&quot;</td><td>&quot; world&quot;</td></tr><tr><td>&quot;polars &quot;</td><td>&quot;polars&quot;</td><td>&quot;polars &quot;</td><td>&quot;polars&quot;</td></tr><tr><td>&quot;is &quot;</td><td>&quot;is&quot;</td><td>&quot;is &quot;</td><td>&quot;is&quot;</td></tr><tr><td>&quot; awesome&quot;</td><td>&quot;awesome&quot;</td><td>&quot;awesome&quot;</td><td>&quot; awesome&quot;</td></tr></tbody></table></div>"
      ],
      "text/plain": [
       "shape: (5, 4)\n",
       "┌──────────┬──────────┬───────────┬───────────┐\n",
       "│ text     ┆ stripped ┆ no_prefix ┆ no_suffix │\n",
       "│ ---      ┆ ---      ┆ ---       ┆ ---       │\n",
       "│ str      ┆ str      ┆ str       ┆ str       │\n",
       "╞══════════╪══════════╪═══════════╪═══════════╡\n",
       "│  hello   ┆ hello    ┆ hello     ┆  hello    │\n",
       "│  world   ┆ world    ┆ world     ┆  world    │\n",
       "│ polars   ┆ polars   ┆ polars    ┆ polars    │\n",
       "│ is       ┆ is       ┆ is        ┆ is        │\n",
       "│  awesome ┆ awesome  ┆ awesome   ┆  awesome  │\n",
       "└──────────┴──────────┴───────────┴───────────┘"
      ]
     },
     "execution_count": 18,
     "metadata": {},
     "output_type": "execute_result"
    }
   ],
   "source": [
    "df3 = pl.DataFrame({\n",
    "    \"text\": [\" hello \", \" world\", \"polars \", \"is \", \" awesome\"]\n",
    "})\n",
    "\n",
    "df3.with_columns([\n",
    "    pl.col(\"text\").str.strip_chars(\" \").alias(\"stripped\"),\n",
    "    pl.col(\"text\").str.strip_prefix(\" \").alias(\"no_prefix\"),\n",
    "    pl.col(\"text\").str.strip_suffix(\" \").alias(\"no_suffix\")\n",
    "    \n",
    "])"
   ]
  },
  {
   "cell_type": "markdown",
   "id": "bbcab02d-161c-41f2-b1d9-1b31ca140d69",
   "metadata": {},
   "source": [
    "- **`str.strip_chars()`**: 両端の空白を削除。\n",
    "- **`str.strip_prefix()`**: 左端の空白を削除。\n",
    "- **`str.strip_suffix()`**: 右端の空白を削除。"
   ]
  },
  {
   "cell_type": "markdown",
   "id": "23ef7a07-74f3-46aa-bcdf-5140431ae279",
   "metadata": {},
   "source": [
    "### 文字列のパディング\n",
    "\n",
    "文字列の左右、または片方に特定の文字で埋めてパディングを行います。"
   ]
  },
  {
   "cell_type": "code",
   "execution_count": 19,
   "id": "78a9b7cb-2748-4659-a3f8-1c0556f2e75a",
   "metadata": {},
   "outputs": [
    {
     "data": {
      "text/html": [
       "<div><style>\n",
       ".dataframe > thead > tr,\n",
       ".dataframe > tbody > tr {\n",
       "  text-align: right;\n",
       "  white-space: pre-wrap;\n",
       "}\n",
       "</style>\n",
       "<small>shape: (5, 2)</small><table border=\"1\" class=\"dataframe\"><thead><tr><th>text</th><th>padded</th></tr><tr><td>str</td><td>str</td></tr></thead><tbody><tr><td>&quot;hello world&quot;</td><td>&quot;---------hello world&quot;</td></tr><tr><td>&quot;data process library&quot;</td><td>&quot;data process library&quot;</td></tr><tr><td>&quot;data science&quot;</td><td>&quot;--------data science&quot;</td></tr><tr><td>&quot;machine learning&quot;</td><td>&quot;----machine learning&quot;</td></tr><tr><td>&quot;plot library&quot;</td><td>&quot;--------plot library&quot;</td></tr></tbody></table></div>"
      ],
      "text/plain": [
       "shape: (5, 2)\n",
       "┌──────────────────────┬──────────────────────┐\n",
       "│ text                 ┆ padded               │\n",
       "│ ---                  ┆ ---                  │\n",
       "│ str                  ┆ str                  │\n",
       "╞══════════════════════╪══════════════════════╡\n",
       "│ hello world          ┆ ---------hello world │\n",
       "│ data process library ┆ data process library │\n",
       "│ data science         ┆ --------data science │\n",
       "│ machine learning     ┆ ----machine learning │\n",
       "│ plot library         ┆ --------plot library │\n",
       "└──────────────────────┴──────────────────────┘"
      ]
     },
     "execution_count": 19,
     "metadata": {},
     "output_type": "execute_result"
    }
   ],
   "source": [
    "df2.with_columns([\n",
    "    pl.col(\"text\").str.pad_start(20, \"-\").alias(\"padded\")\n",
    "])\n"
   ]
  },
  {
   "attachments": {},
   "cell_type": "markdown",
   "id": "b2c3e5c8-ff80-4945-a52c-839672a4858d",
   "metadata": {},
   "source": [
    "### 文字列の抽出\n",
    "\n",
    "文字列データからパターンにマッチした部分を抽出するには、`str.extract`、`str.extract_all`、`str.extract_groups`、`str.extract_many` などの関数を使用します。  \n",
    "\n",
    "`str.extract(pattern, group_index)` は、正規表現に基づいてマッチした **特定のキャプチャグループ** を返します。  \n",
    "この関数には以下の2つの引数があります：  \n",
    "\n",
    "- **`pattern`**： **正規表現パターン** を指定します。文字列から特定の部分を抽出するために、`()` で囲んだ **キャプチャグループ** を用います。キャプチャグループは、マッチした部分を取得するための括弧で、複数のグループを作ることも可能です。その場合、それぞれのグループには **1, 2, 3...** の番号が割り当てられます。  \n",
    "\n",
    "- **`group_index`**：**キャプチャグループの番号** を指定します。正規表現内でどのグループを抽出するかを決定します。\n",
    "\n",
    "以下のコードでは、`pattern` に2つのキャプチャグループを定義し、`group_index` を指定して **アイテムA** と **アイテムB** の数値を抽出します。  "
   ]
  },
  {
   "cell_type": "code",
   "execution_count": 20,
   "id": "9676c8cf-0655-41c1-98a9-6913394d6d89",
   "metadata": {},
   "outputs": [
    {
     "data": {
      "text/html": [
       "<div><style>\n",
       ".dataframe > thead > tr,\n",
       ".dataframe > tbody > tr {\n",
       "  text-align: right;\n",
       "  white-space: pre-wrap;\n",
       "}\n",
       "</style>\n",
       "<small>shape: (2, 2)</small><table border=\"1\" class=\"dataframe\"><thead><tr><th>A_value</th><th>B_value</th></tr><tr><td>str</td><td>str</td></tr></thead><tbody><tr><td>&quot;50&quot;</td><td>&quot;30&quot;</td></tr><tr><td>&quot;70&quot;</td><td>&quot;45&quot;</td></tr></tbody></table></div>"
      ],
      "text/plain": [
       "shape: (2, 2)\n",
       "┌─────────┬─────────┐\n",
       "│ A_value ┆ B_value │\n",
       "│ ---     ┆ ---     │\n",
       "│ str     ┆ str     │\n",
       "╞═════════╪═════════╡\n",
       "│ 50      ┆ 30      │\n",
       "│ 70      ┆ 45      │\n",
       "└─────────┴─────────┘"
      ]
     },
     "execution_count": 20,
     "metadata": {},
     "output_type": "execute_result"
    }
   ],
   "source": [
    "df = pl.DataFrame({\n",
    "    \"text\": [\"Item A: 50, Item B: 30\", \"Item A: 70, Item B: 45\"]\n",
    "})\n",
    "\n",
    "pattern = r'Item A: (\\d+), Item B: (\\d+)'\n",
    "\n",
    "df.select(\n",
    "    pl.col(\"text\").str.extract(pattern, 1).alias(\"A_value\"),\n",
    "    pl.col(\"text\").str.extract(pattern, 2).alias(\"B_value\"),\n",
    ")"
   ]
  },
  {
   "cell_type": "markdown",
   "id": "796f3cb8-357b-4133-b988-38501d72cd17",
   "metadata": {},
   "source": [
    "**`str.extract_groups()`** は、正規表現の **すべてのキャプチャグループ** を抽出し、それらを **構造体（Struct）列** として返します。  \n",
    " \n",
    "  - グループ名が指定されていない場合、**グループ番号**（1, 2, 3, ...）がフィールド名になります。  "
   ]
  },
  {
   "cell_type": "code",
   "execution_count": 21,
   "id": "c1dde18e-c79c-425c-8c40-f6b3196e209e",
   "metadata": {},
   "outputs": [
    {
     "data": {
      "text/html": [
       "<div><style>\n",
       ".dataframe > thead > tr,\n",
       ".dataframe > tbody > tr {\n",
       "  text-align: right;\n",
       "  white-space: pre-wrap;\n",
       "}\n",
       "</style>\n",
       "<small>shape: (2, 2)</small><table border=\"1\" class=\"dataframe\"><thead><tr><th>1</th><th>2</th></tr><tr><td>str</td><td>str</td></tr></thead><tbody><tr><td>&quot;50&quot;</td><td>&quot;30&quot;</td></tr><tr><td>&quot;70&quot;</td><td>&quot;45&quot;</td></tr></tbody></table></div>"
      ],
      "text/plain": [
       "shape: (2, 2)\n",
       "┌─────┬─────┐\n",
       "│ 1   ┆ 2   │\n",
       "│ --- ┆ --- │\n",
       "│ str ┆ str │\n",
       "╞═════╪═════╡\n",
       "│ 50  ┆ 30  │\n",
       "│ 70  ┆ 45  │\n",
       "└─────┴─────┘"
      ]
     },
     "execution_count": 21,
     "metadata": {},
     "output_type": "execute_result"
    }
   ],
   "source": [
    "(\n",
    "df.select(\n",
    "    pl.col('text').str.extract_groups(pattern).alias('values')\n",
    ")\n",
    ".unnest('values')\n",
    ")"
   ]
  },
  {
   "cell_type": "markdown",
   "id": "6dd56301-fd09-4052-bf06-63fa3c14689d",
   "metadata": {},
   "source": [
    "- 正規表現内で **名前付きキャプチャグループ** (`?P<name>...`)を使用した場合、その名前がフィールド名になります。"
   ]
  },
  {
   "cell_type": "code",
   "execution_count": 22,
   "id": "77539e0f-0f4c-403f-a286-2b0b824eafc4",
   "metadata": {},
   "outputs": [
    {
     "data": {
      "text/html": [
       "<div><style>\n",
       ".dataframe > thead > tr,\n",
       ".dataframe > tbody > tr {\n",
       "  text-align: right;\n",
       "  white-space: pre-wrap;\n",
       "}\n",
       "</style>\n",
       "<small>shape: (2, 2)</small><table border=\"1\" class=\"dataframe\"><thead><tr><th>A_value</th><th>B_value</th></tr><tr><td>str</td><td>str</td></tr></thead><tbody><tr><td>&quot;50&quot;</td><td>&quot;30&quot;</td></tr><tr><td>&quot;70&quot;</td><td>&quot;45&quot;</td></tr></tbody></table></div>"
      ],
      "text/plain": [
       "shape: (2, 2)\n",
       "┌─────────┬─────────┐\n",
       "│ A_value ┆ B_value │\n",
       "│ ---     ┆ ---     │\n",
       "│ str     ┆ str     │\n",
       "╞═════════╪═════════╡\n",
       "│ 50      ┆ 30      │\n",
       "│ 70      ┆ 45      │\n",
       "└─────────┴─────────┘"
      ]
     },
     "execution_count": 22,
     "metadata": {},
     "output_type": "execute_result"
    }
   ],
   "source": [
    "pattern_named = r'Item A: (?P<A_value>\\d+), Item B: (?P<B_value>\\d+)'\n",
    "\n",
    "(\n",
    "df.select(\n",
    "    pl.col(\"text\").str.extract_groups(pattern_named).alias('values')\n",
    ")\n",
    ".unnest('values')\n",
    ")"
   ]
  },
  {
   "cell_type": "markdown",
   "id": "131b60aa-828b-4ef6-8b42-581f95a9bc94",
   "metadata": {},
   "source": [
    "**`str.extract_all()`** は、正規表現に基づいてマッチしたすべての部分をリストとして返します。"
   ]
  },
  {
   "cell_type": "code",
   "execution_count": 23,
   "id": "40245353-68b3-4227-92c1-b2da98c8789d",
   "metadata": {},
   "outputs": [
    {
     "data": {
      "text/html": [
       "<div><style>\n",
       ".dataframe > thead > tr,\n",
       ".dataframe > tbody > tr {\n",
       "  text-align: right;\n",
       "  white-space: pre-wrap;\n",
       "}\n",
       "</style>\n",
       "<small>shape: (2, 1)</small><table border=\"1\" class=\"dataframe\"><thead><tr><th>values</th></tr><tr><td>list[str]</td></tr></thead><tbody><tr><td>[&quot;50&quot;, &quot;30&quot;]</td></tr><tr><td>[&quot;70&quot;, &quot;45&quot;]</td></tr></tbody></table></div>"
      ],
      "text/plain": [
       "shape: (2, 1)\n",
       "┌──────────────┐\n",
       "│ values       │\n",
       "│ ---          │\n",
       "│ list[str]    │\n",
       "╞══════════════╡\n",
       "│ [\"50\", \"30\"] │\n",
       "│ [\"70\", \"45\"] │\n",
       "└──────────────┘"
      ]
     },
     "execution_count": 23,
     "metadata": {},
     "output_type": "execute_result"
    }
   ],
   "source": [
    "df.select(\n",
    "    pl.col(\"text\").str.extract_all(r'\\d+').alias('values')\n",
    ")"
   ]
  },
  {
   "cell_type": "markdown",
   "id": "9f15dbf2-d6d2-4186-9bdb-5ddadf5a6c13",
   "metadata": {},
   "source": [
    "Polarsには、`re.split()` のように正規表現を使って文字列を分割する関数が用意されていません。その代わりに、以下のコードでは `extract_all()` を用いて分割パターンを含むすべての部分を抽出し、`list.eval()` を使用して各文字列から分割パターンを削除することで、同様の機能を実装しています。  \n",
    "\n",
    "次のコードでは、  \n",
    "\n",
    "1. `extract_all()` を使って、分割パターン (`and|after|or|then`) を含むすべての部分を抽出します。  \n",
    "2. `list.eval()` を使い、`str.replace()` で分割パターンを空文字 (`\"\"`) に置き換えます。  \n",
    "\n",
    "こうすることで、Polars で `re.split()` のような文字列分割を実現できます。"
   ]
  },
  {
   "cell_type": "code",
   "execution_count": 24,
   "id": "094aa37b-f835-4fbf-8f7d-7d0e11d8b455",
   "metadata": {},
   "outputs": [
    {
     "data": {
      "text/plain": [
       "[['DOG', 'CAT', 'FISH', 'BIRD', 'MOUSE'], ['a ', ' b ', ' c']]"
      ]
     },
     "execution_count": 24,
     "metadata": {},
     "output_type": "execute_result"
    }
   ],
   "source": [
    "df = pl.DataFrame(\n",
    "    {\"text\": [\n",
    "        \"DOGandCATafterFISHorBIRDthenMOUSE\",\n",
    "        \"a or b or c\"\n",
    "    ]})\n",
    "\n",
    "pattern = \"and|after|or|then\"\n",
    "\n",
    "def split(expr, pattern):\n",
    "    return expr.str.extract_all(rf\".*?({pattern}|$)\").list.eval(pl.element().str.replace(pattern, ''))\n",
    "\n",
    "df.select(pl.col('text').pipe(split, pattern)).get_column('text').to_list()"
   ]
  },
  {
   "cell_type": "markdown",
   "id": "82cc92d8-1f68-40e7-bc29-c180ce8211df",
   "metadata": {},
   "source": [
    "**`str.extract_many()`** は、**Aho-Corasickアルゴリズム**を使用して、文字列内から指定されたパターンに一致するすべての部分を抽出するための関数です。このメソッドは、正規表現ではなく、文字列リテラルのみに基づいてマッチングを行います。このメソッドは、文字列検索に対して非常に効率的であり、大量のデータセットでもパフォーマンスを発揮します。引数は以下のようです。\n",
    "\n",
    "* `patterns`: 検索する文字列パターンのリストを指定します。`[\"apple\", \"banana\", \"orange\"]` のように、探したい特定の単語や文字列をリスト形式で与えます。\n",
    "* `ascii_case_insensitive`: 大文字・小文字を区別しないマッチングを有効にするかどうかを指定します。\n",
    "* `overlapping`: オーバーラップするマッチを許可するかどうかを指定します。`True` にすると、同じ文字列内で複数のパターンが重複している場合、それぞれを独立したマッチとして扱います。"
   ]
  },
  {
   "cell_type": "code",
   "execution_count": 25,
   "id": "cb21f018-b61c-4003-b021-d7d1d0d239f8",
   "metadata": {},
   "outputs": [
    {
     "data": {
      "text/html": [
       "<div><style>\n",
       ".dataframe > thead > tr,\n",
       ".dataframe > tbody > tr {\n",
       "  text-align: right;\n",
       "  white-space: pre-wrap;\n",
       "}\n",
       "</style>\n",
       "<small>shape: (2, 1)</small><table border=\"1\" class=\"dataframe\"><thead><tr><th>matches</th></tr><tr><td>list[str]</td></tr></thead><tbody><tr><td>[&quot;apple&quot;, &quot;banana&quot;]</td></tr><tr><td>[&quot;apple&quot;]</td></tr></tbody></table></div>"
      ],
      "text/plain": [
       "shape: (2, 1)\n",
       "┌─────────────────────┐\n",
       "│ matches             │\n",
       "│ ---                 │\n",
       "│ list[str]           │\n",
       "╞═════════════════════╡\n",
       "│ [\"apple\", \"banana\"] │\n",
       "│ [\"apple\"]           │\n",
       "└─────────────────────┘"
      ]
     },
     "execution_count": 25,
     "metadata": {},
     "output_type": "execute_result"
    }
   ],
   "source": [
    "df = pl.DataFrame({\n",
    "    \"text\": [\"I like apples and bananas\", \"I prefer oranges and pineapples\"]\n",
    "})\n",
    "\n",
    "# \"apple\"と\"banana\"を検索\n",
    "df.select(\n",
    "    pl.col(\"text\").str.extract_many([\"apple\", \"banana\"]).alias(\"matches\")\n",
    ")"
   ]
  },
  {
   "cell_type": "markdown",
   "id": "5c33e948-7c26-436a-8235-2f7d5e87caab",
   "metadata": {},
   "source": [
    "## EnumとCategorical"
   ]
  },
  {
   "cell_type": "markdown",
   "id": "f8ca337d-e59f-4608-a114-8054af04fe68",
   "metadata": {},
   "source": [
    "Enum型（列挙型）は、特定の固定された値の集合から選択されるデータ型です。これは、データの一貫性を確保し、誤った値が入力されるのを防ぐのに役立ちます。Enum型を使用することで、プログラム内で定義された値以外の入力を防ぐことができ、データの整合性を維持することができます。\n",
    "\n",
    "Categorical型（カテゴリカル型）は、有限個のカテゴリーを持つデータ型で、データの重複を避け、メモリ効率を向上させるために使用されます。Categorical型は、各カテゴリに整数のインデックスを割り当てることで、メモリ使用量を削減します。\n",
    "\n",
    "Enumは事前に作成され、要素とその順番が固定されています。一方、Categoricalは事前作成の必要がなく、要素の順番はデータ内での出現順になります。"
   ]
  },
  {
   "cell_type": "code",
   "execution_count": 26,
   "id": "00c7b412-f51a-4a47-835d-f3b1a6c4550e",
   "metadata": {},
   "outputs": [
    {
     "data": {
      "text/html": [
       "<div><style>\n",
       ".dataframe > thead > tr,\n",
       ".dataframe > tbody > tr {\n",
       "  text-align: right;\n",
       "  white-space: pre-wrap;\n",
       "}\n",
       "</style>\n",
       "<small>shape: (4, 2)</small><table border=\"1\" class=\"dataframe\"><thead><tr><th>g_enum</th><th>g_cat</th></tr><tr><td>enum</td><td>cat</td></tr></thead><tbody><tr><td>&quot;B&quot;</td><td>&quot;B&quot;</td></tr><tr><td>&quot;A&quot;</td><td>&quot;A&quot;</td></tr><tr><td>&quot;A&quot;</td><td>&quot;A&quot;</td></tr><tr><td>&quot;C&quot;</td><td>&quot;C&quot;</td></tr></tbody></table></div>"
      ],
      "text/plain": [
       "shape: (4, 2)\n",
       "┌────────┬───────┐\n",
       "│ g_enum ┆ g_cat │\n",
       "│ ---    ┆ ---   │\n",
       "│ enum   ┆ cat   │\n",
       "╞════════╪═══════╡\n",
       "│ B      ┆ B     │\n",
       "│ A      ┆ A     │\n",
       "│ A      ┆ A     │\n",
       "│ C      ┆ C     │\n",
       "└────────┴───────┘"
      ]
     },
     "execution_count": 26,
     "metadata": {},
     "output_type": "execute_result"
    }
   ],
   "source": [
    "score = pl.Enum(['A', 'B', 'C', 'D'])\n",
    "df = pl.DataFrame(\n",
    "    {\n",
    "        \"a\": [3, 3, 3, 4],\n",
    "        \"b\": [4, 12, 6, 7],\n",
    "        \"g\": ['B', 'A', 'A', 'C']\n",
    "    }\n",
    ")\n",
    "df2 = df.select(\n",
    "    pl.col.g.cast(score).alias('g_enum'),\n",
    "    pl.col.g.cast(pl.Categorical).alias('g_cat')\n",
    ")\n",
    "df2"
   ]
  },
  {
   "cell_type": "markdown",
   "id": "b1bd98e9-518e-4e65-9561-4026447d219f",
   "metadata": {},
   "source": [
    "`to_physical()`を使用すると、内部で保存されている番号を取得できます。次の結果では、`g_enum` の番号は `score` で定義された番号であり、`g_cat`の番号は元の列の値が出現する順番に基づいています。"
   ]
  },
  {
   "cell_type": "code",
   "execution_count": 27,
   "id": "d23be903-1a72-416d-bca5-0fc93115a859",
   "metadata": {},
   "outputs": [
    {
     "data": {
      "text/html": [
       "<div><style>\n",
       ".dataframe > thead > tr,\n",
       ".dataframe > tbody > tr {\n",
       "  text-align: right;\n",
       "  white-space: pre-wrap;\n",
       "}\n",
       "</style>\n",
       "<small>shape: (4, 2)</small><table border=\"1\" class=\"dataframe\"><thead><tr><th>g_enum</th><th>g_cat</th></tr><tr><td>u32</td><td>u32</td></tr></thead><tbody><tr><td>1</td><td>0</td></tr><tr><td>0</td><td>1</td></tr><tr><td>0</td><td>1</td></tr><tr><td>2</td><td>2</td></tr></tbody></table></div>"
      ],
      "text/plain": [
       "shape: (4, 2)\n",
       "┌────────┬───────┐\n",
       "│ g_enum ┆ g_cat │\n",
       "│ ---    ┆ ---   │\n",
       "│ u32    ┆ u32   │\n",
       "╞════════╪═══════╡\n",
       "│ 1      ┆ 0     │\n",
       "│ 0      ┆ 1     │\n",
       "│ 0      ┆ 1     │\n",
       "│ 2      ┆ 2     │\n",
       "└────────┴───────┘"
      ]
     },
     "execution_count": 27,
     "metadata": {},
     "output_type": "execute_result"
    }
   ],
   "source": [
    "df2.select(pl.all().to_physical())"
   ]
  },
  {
   "cell_type": "markdown",
   "id": "bdcd7958-771b-46e3-8cba-3b3fe3169bdd",
   "metadata": {},
   "source": [
    "次のコードは、Categorical型の列で異なるコードが使用される場合の違いを示しています。異なるコードが使用される二つのCategorical列同士で計算を行うと、処理が遅くなる可能性があります。"
   ]
  },
  {
   "cell_type": "code",
   "execution_count": 28,
   "id": "60460865-86c9-4af3-a7c2-3faa1b610c97",
   "metadata": {},
   "outputs": [
    {
     "data": {
      "text/html": [
       "<div><style>\n",
       ".dataframe > thead > tr,\n",
       ".dataframe > tbody > tr {\n",
       "  text-align: right;\n",
       "  white-space: pre-wrap;\n",
       "}\n",
       "</style>\n",
       "<small>shape: (5, 4)</small><table border=\"1\" class=\"dataframe\"><thead><tr><th>c1</th><th>c2</th><th>c1_code</th><th>c2_code</th></tr><tr><td>cat</td><td>cat</td><td>u32</td><td>u32</td></tr></thead><tbody><tr><td>&quot;Polar&quot;</td><td>&quot;Panda&quot;</td><td>0</td><td>0</td></tr><tr><td>&quot;Panda&quot;</td><td>&quot;Brown&quot;</td><td>1</td><td>1</td></tr><tr><td>&quot;Brown&quot;</td><td>&quot;Brown&quot;</td><td>2</td><td>1</td></tr><tr><td>&quot;Brown&quot;</td><td>&quot;Polar&quot;</td><td>2</td><td>2</td></tr><tr><td>&quot;Polar&quot;</td><td>&quot;Polar&quot;</td><td>0</td><td>2</td></tr></tbody></table></div>"
      ],
      "text/plain": [
       "shape: (5, 4)\n",
       "┌───────┬───────┬─────────┬─────────┐\n",
       "│ c1    ┆ c2    ┆ c1_code ┆ c2_code │\n",
       "│ ---   ┆ ---   ┆ ---     ┆ ---     │\n",
       "│ cat   ┆ cat   ┆ u32     ┆ u32     │\n",
       "╞═══════╪═══════╪═════════╪═════════╡\n",
       "│ Polar ┆ Panda ┆ 0       ┆ 0       │\n",
       "│ Panda ┆ Brown ┆ 1       ┆ 1       │\n",
       "│ Brown ┆ Brown ┆ 2       ┆ 1       │\n",
       "│ Brown ┆ Polar ┆ 2       ┆ 2       │\n",
       "│ Polar ┆ Polar ┆ 0       ┆ 2       │\n",
       "└───────┴───────┴─────────┴─────────┘"
      ]
     },
     "execution_count": 28,
     "metadata": {},
     "output_type": "execute_result"
    }
   ],
   "source": [
    "df3 = pl.DataFrame(dict(\n",
    "    c1 = pl.Series([\"Polar\", \"Panda\", \"Brown\", \"Brown\", \"Polar\"], dtype=pl.Categorical),\n",
    "    c2 = pl.Series([\"Panda\", \"Brown\", \"Brown\", \"Polar\", \"Polar\"], dtype=pl.Categorical),\n",
    "))\n",
    "\n",
    "df3.with_columns(pl.all().to_physical().name.suffix('_code'))"
   ]
  },
  {
   "cell_type": "markdown",
   "id": "a36b8ed5-07f9-4cda-96a9-50dc78a2ca68",
   "metadata": {},
   "source": [
    "次に、`pl.StringCache()`を使用して、同じコードが使われるCategorical列を作成します。"
   ]
  },
  {
   "cell_type": "code",
   "execution_count": 29,
   "id": "32c27484-e795-49ce-949f-b3488e265609",
   "metadata": {},
   "outputs": [
    {
     "data": {
      "text/html": [
       "<div><style>\n",
       ".dataframe > thead > tr,\n",
       ".dataframe > tbody > tr {\n",
       "  text-align: right;\n",
       "  white-space: pre-wrap;\n",
       "}\n",
       "</style>\n",
       "<small>shape: (5, 4)</small><table border=\"1\" class=\"dataframe\"><thead><tr><th>c1</th><th>c2</th><th>c1_code</th><th>c2_code</th></tr><tr><td>cat</td><td>cat</td><td>u32</td><td>u32</td></tr></thead><tbody><tr><td>&quot;Polar&quot;</td><td>&quot;Panda&quot;</td><td>0</td><td>1</td></tr><tr><td>&quot;Panda&quot;</td><td>&quot;Brown&quot;</td><td>1</td><td>2</td></tr><tr><td>&quot;Brown&quot;</td><td>&quot;Brown&quot;</td><td>2</td><td>2</td></tr><tr><td>&quot;Brown&quot;</td><td>&quot;Polar&quot;</td><td>2</td><td>0</td></tr><tr><td>&quot;Polar&quot;</td><td>&quot;Polar&quot;</td><td>0</td><td>0</td></tr></tbody></table></div>"
      ],
      "text/plain": [
       "shape: (5, 4)\n",
       "┌───────┬───────┬─────────┬─────────┐\n",
       "│ c1    ┆ c2    ┆ c1_code ┆ c2_code │\n",
       "│ ---   ┆ ---   ┆ ---     ┆ ---     │\n",
       "│ cat   ┆ cat   ┆ u32     ┆ u32     │\n",
       "╞═══════╪═══════╪═════════╪═════════╡\n",
       "│ Polar ┆ Panda ┆ 0       ┆ 1       │\n",
       "│ Panda ┆ Brown ┆ 1       ┆ 2       │\n",
       "│ Brown ┆ Brown ┆ 2       ┆ 2       │\n",
       "│ Brown ┆ Polar ┆ 2       ┆ 0       │\n",
       "│ Polar ┆ Polar ┆ 0       ┆ 0       │\n",
       "└───────┴───────┴─────────┴─────────┘"
      ]
     },
     "execution_count": 29,
     "metadata": {},
     "output_type": "execute_result"
    }
   ],
   "source": [
    "with pl.StringCache() as s:\n",
    "    df4 = pl.DataFrame(dict(\n",
    "        c1 = pl.Series([\"Polar\", \"Panda\", \"Brown\", \"Brown\", \"Polar\"], dtype=pl.Categorical),\n",
    "        c2 = pl.Series([\"Panda\", \"Brown\", \"Brown\", \"Polar\", \"Polar\"], dtype=pl.Categorical),\n",
    "    ))\n",
    "    \n",
    "df4.with_columns(pl.all().to_physical().name.suffix('_code'))"
   ]
  },
  {
   "cell_type": "markdown",
   "id": "ee0a92f9-d127-46f0-8413-e00dc73f30bf",
   "metadata": {},
   "source": [
    "## DateTime"
   ]
  },
  {
   "cell_type": "markdown",
   "id": "e75b69ff-a375-4098-9537-a2ae71beb7f4",
   "metadata": {},
   "source": [
    "## ListとArray"
   ]
  },
  {
   "cell_type": "markdown",
   "id": "1896b274-59f8-4f69-bb67-8beb6b730e4a",
   "metadata": {},
   "source": [
    "一つの要素に複数の値を保存する場合は、`List` 列または `Array` 列を使用します。`Array` 列では、各要素の長さが一定でなければなりませんが、`List` 列では要素の長さが異なっても問題ありません。`Array` 列と `List` 列の要素を処理するための式関数は、それぞれ `array` および `list` ネームスペース内にあります。  \n",
    "\n",
    ":::{seealso}\n",
    "[list 列のメモリレイアウト](list_memory)  \n",
    "[各リスト要素を処理する式](list_context)  \n",
    ":::\n",
    "\n",
    "次のコードでは、`a_list` と `b_arr` という列を持つ `DataFrame` を作成し、それぞれのデータ型を `schema` で `pl.List(pl.Int8)` と `pl.Array(pl.Int8, 3)` に定義します。`List` 列のデータ型は `pl.List(element_dtype)` で、`Array` 列のデータ型は `pl.Array(element_dtype, length)` で定義されます。`element_dtype` は要素のデータ型を、`length` は各配列の長さを表します。  "
   ]
  },
  {
   "cell_type": "code",
   "execution_count": 30,
   "id": "4f9a2fdc-fbbd-4f6a-842f-d9e82bdca58e",
   "metadata": {},
   "outputs": [
    {
     "data": {
      "text/html": [
       "<div><style>\n",
       ".dataframe > thead > tr,\n",
       ".dataframe > tbody > tr {\n",
       "  text-align: right;\n",
       "  white-space: pre-wrap;\n",
       "}\n",
       "</style>\n",
       "<small>shape: (3, 2)</small><table border=\"1\" class=\"dataframe\"><thead><tr><th>a_list</th><th>b_arr</th></tr><tr><td>list[i8]</td><td>array[i8, 3]</td></tr></thead><tbody><tr><td>[1, 2]</td><td>[1, 2, 3]</td></tr><tr><td>[3, 4]</td><td>[3, 4, 5]</td></tr><tr><td>[5, 6, 7]</td><td>[5, 6, 7]</td></tr></tbody></table></div>"
      ],
      "text/plain": [
       "shape: (3, 2)\n",
       "┌───────────┬──────────────┐\n",
       "│ a_list    ┆ b_arr        │\n",
       "│ ---       ┆ ---          │\n",
       "│ list[i8]  ┆ array[i8, 3] │\n",
       "╞═══════════╪══════════════╡\n",
       "│ [1, 2]    ┆ [1, 2, 3]    │\n",
       "│ [3, 4]    ┆ [3, 4, 5]    │\n",
       "│ [5, 6, 7] ┆ [5, 6, 7]    │\n",
       "└───────────┴──────────────┘"
      ]
     },
     "execution_count": 30,
     "metadata": {},
     "output_type": "execute_result"
    }
   ],
   "source": [
    "df = pl.DataFrame(\n",
    "    dict(\n",
    "        a_list=[[1, 2], [3, 4], [5, 6, 7]],\n",
    "        b_arr=[[1, 2, 3], [3, 4, 5], [5, 6, 7]]\n",
    "    ),\n",
    "    schema=dict(a_list=pl.List(pl.Int8), b_arr=pl.Array(pl.Int8, 3))\n",
    ")\n",
    "df"
   ]
  },
  {
   "cell_type": "markdown",
   "id": "96eb1a06-c8e2-4ffd-b0ee-9026c52c3d27",
   "metadata": {},
   "source": [
    "次のコードでは、`list` ネームスペース内の `max()`、`mean()`、`len()` を使用して、`a_list` 列の各リストの最大値、平均値、要素数を計算し、新しい列として追加します。 また、`b_arr` 列の各配列の最大値を `arr.max()` で計算します。`arr` ネームスペースは比較的新しく、バージョン `1.24.0` では `arr.len()` と `arr.mean()` はまだサポートされていません。  "
   ]
  },
  {
   "cell_type": "code",
   "execution_count": 31,
   "id": "216c5856-2e0f-4a9a-99cd-d37251565ecd",
   "metadata": {},
   "outputs": [
    {
     "data": {
      "text/html": [
       "<div><style>\n",
       ".dataframe > thead > tr,\n",
       ".dataframe > tbody > tr {\n",
       "  text-align: right;\n",
       "  white-space: pre-wrap;\n",
       "}\n",
       "</style>\n",
       "<small>shape: (3, 6)</small><table border=\"1\" class=\"dataframe\"><thead><tr><th>a_list</th><th>b_arr</th><th>a_max</th><th>a_mean</th><th>a_len</th><th>b_max</th></tr><tr><td>list[i8]</td><td>array[i8, 3]</td><td>i8</td><td>f64</td><td>u32</td><td>i8</td></tr></thead><tbody><tr><td>[1, 2]</td><td>[1, 2, 3]</td><td>2</td><td>1.5</td><td>2</td><td>3</td></tr><tr><td>[3, 4]</td><td>[3, 4, 5]</td><td>4</td><td>3.5</td><td>2</td><td>5</td></tr><tr><td>[5, 6, 7]</td><td>[5, 6, 7]</td><td>7</td><td>6.0</td><td>3</td><td>7</td></tr></tbody></table></div>"
      ],
      "text/plain": [
       "shape: (3, 6)\n",
       "┌───────────┬──────────────┬───────┬────────┬───────┬───────┐\n",
       "│ a_list    ┆ b_arr        ┆ a_max ┆ a_mean ┆ a_len ┆ b_max │\n",
       "│ ---       ┆ ---          ┆ ---   ┆ ---    ┆ ---   ┆ ---   │\n",
       "│ list[i8]  ┆ array[i8, 3] ┆ i8    ┆ f64    ┆ u32   ┆ i8    │\n",
       "╞═══════════╪══════════════╪═══════╪════════╪═══════╪═══════╡\n",
       "│ [1, 2]    ┆ [1, 2, 3]    ┆ 2     ┆ 1.5    ┆ 2     ┆ 3     │\n",
       "│ [3, 4]    ┆ [3, 4, 5]    ┆ 4     ┆ 3.5    ┆ 2     ┆ 5     │\n",
       "│ [5, 6, 7] ┆ [5, 6, 7]    ┆ 7     ┆ 6.0    ┆ 3     ┆ 7     │\n",
       "└───────────┴──────────────┴───────┴────────┴───────┴───────┘"
      ]
     },
     "execution_count": 31,
     "metadata": {},
     "output_type": "execute_result"
    }
   ],
   "source": [
    "df.with_columns(\n",
    "    a_max=pl.col(\"a_list\").list.max(),\n",
    "    a_mean=pl.col(\"a_list\").list.mean(),\n",
    "    a_len=pl.col(\"a_list\").list.len(),\n",
    "    b_max=pl.col(\"b_arr\").arr.max(),\n",
    ")"
   ]
  },
  {
   "cell_type": "markdown",
   "id": "ee97dc77-f1f1-430d-9475-926f7b996093",
   "metadata": {},
   "source": [
    "### `get`と`gather`"
   ]
  },
  {
   "cell_type": "markdown",
   "id": "72aa7610-d524-43de-af73-011fd13b283f",
   "metadata": {},
   "source": [
    "`list.get(index)` または `arr.get(index)` を使用すると、指定した `index` の要素を取得できます。次のコードでは、`a_list` 列の各リストの最初の要素と最後の要素の合計を計算します。`b_arr` 列に対しても同様の処理を行います。  "
   ]
  },
  {
   "cell_type": "code",
   "execution_count": 32,
   "id": "c1961aaf-c6a5-4ca4-88e1-3625eb272f19",
   "metadata": {},
   "outputs": [
    {
     "data": {
      "text/html": [
       "<div><style>\n",
       ".dataframe > thead > tr,\n",
       ".dataframe > tbody > tr {\n",
       "  text-align: right;\n",
       "  white-space: pre-wrap;\n",
       "}\n",
       "</style>\n",
       "<small>shape: (3, 4)</small><table border=\"1\" class=\"dataframe\"><thead><tr><th>a_list</th><th>b_arr</th><th>a_first_plus_last</th><th>b_first_plus_last</th></tr><tr><td>list[i8]</td><td>array[i8, 3]</td><td>i8</td><td>i8</td></tr></thead><tbody><tr><td>[1, 2]</td><td>[1, 2, 3]</td><td>3</td><td>4</td></tr><tr><td>[3, 4]</td><td>[3, 4, 5]</td><td>7</td><td>8</td></tr><tr><td>[5, 6, 7]</td><td>[5, 6, 7]</td><td>12</td><td>12</td></tr></tbody></table></div>"
      ],
      "text/plain": [
       "shape: (3, 4)\n",
       "┌───────────┬──────────────┬───────────────────┬───────────────────┐\n",
       "│ a_list    ┆ b_arr        ┆ a_first_plus_last ┆ b_first_plus_last │\n",
       "│ ---       ┆ ---          ┆ ---               ┆ ---               │\n",
       "│ list[i8]  ┆ array[i8, 3] ┆ i8                ┆ i8                │\n",
       "╞═══════════╪══════════════╪═══════════════════╪═══════════════════╡\n",
       "│ [1, 2]    ┆ [1, 2, 3]    ┆ 3                 ┆ 4                 │\n",
       "│ [3, 4]    ┆ [3, 4, 5]    ┆ 7                 ┆ 8                 │\n",
       "│ [5, 6, 7] ┆ [5, 6, 7]    ┆ 12                ┆ 12                │\n",
       "└───────────┴──────────────┴───────────────────┴───────────────────┘"
      ]
     },
     "execution_count": 32,
     "metadata": {},
     "output_type": "execute_result"
    }
   ],
   "source": [
    "df.with_columns(\n",
    "    a_first_plus_last = pl.col('a_list').list.get(0) + pl.col('a_list').list.get(-1),\n",
    "    b_first_plus_last =pl.col('b_arr').arr.get(0) + pl.col('b_arr').arr.get(-1), \n",
    ")"
   ]
  },
  {
   "cell_type": "markdown",
   "id": "870e7841-d3cf-42bc-8fde-be35faa3c07b",
   "metadata": {},
   "source": [
    "`list.gather(indices)` を使用すると、複数のインデックスを指定して要素を取得し、新しいリスト列に保存できます。`null_on_oob` 引数のデフォルト値は `False` で、この場合、範囲外のインデックスを指定するとエラーが発生します。一方、`True` に設定すると、範囲外のインデックスは `Null` で埋められます。次のコードは、リスト `a_list` の各要素に対して、インデックス `[2, 1, 0]` の順に要素を取得し、範囲外のインデックスがある場合は `Null` で埋める処理を行います。"
   ]
  },
  {
   "cell_type": "code",
   "execution_count": 33,
   "id": "e25888c3-188c-461a-90ab-f1e58f97e623",
   "metadata": {},
   "outputs": [
    {
     "data": {
      "text/html": [
       "<div><style>\n",
       ".dataframe > thead > tr,\n",
       ".dataframe > tbody > tr {\n",
       "  text-align: right;\n",
       "  white-space: pre-wrap;\n",
       "}\n",
       "</style>\n",
       "<small>shape: (3, 2)</small><table border=\"1\" class=\"dataframe\"><thead><tr><th>a_list</th><th>gather</th></tr><tr><td>list[i8]</td><td>list[i8]</td></tr></thead><tbody><tr><td>[1, 2]</td><td>[null, 2, 1]</td></tr><tr><td>[3, 4]</td><td>[null, 4, 3]</td></tr><tr><td>[5, 6, 7]</td><td>[7, 6, 5]</td></tr></tbody></table></div>"
      ],
      "text/plain": [
       "shape: (3, 2)\n",
       "┌───────────┬──────────────┐\n",
       "│ a_list    ┆ gather       │\n",
       "│ ---       ┆ ---          │\n",
       "│ list[i8]  ┆ list[i8]     │\n",
       "╞═══════════╪══════════════╡\n",
       "│ [1, 2]    ┆ [null, 2, 1] │\n",
       "│ [3, 4]    ┆ [null, 4, 3] │\n",
       "│ [5, 6, 7] ┆ [7, 6, 5]    │\n",
       "└───────────┴──────────────┘"
      ]
     },
     "execution_count": 33,
     "metadata": {},
     "output_type": "execute_result"
    }
   ],
   "source": [
    "df.select(\n",
    "    'a_list',\n",
    "    gather=pl.col('a_list').list.gather([2, 1, 0], null_on_oob=True)\n",
    ")"
   ]
  },
  {
   "attachments": {},
   "cell_type": "markdown",
   "id": "6e776724-c27e-4d6b-811b-ee0451d61ad7",
   "metadata": {},
   "source": [
    "### `concat_list` と `concat_arr`  \n",
    "\n",
    "`pl.concat_list()` 関数は、指定した列や式の結果をリストとして結合するために使用されます。この関数を使用すると、複数の列の値を 1 つのリスト列にまとめることができます。一方、`pl.concat_arr()` は、複数の式の結果を配列として結合します。  "
   ]
  },
  {
   "cell_type": "code",
   "execution_count": 34,
   "id": "e034f2ab-2209-4286-ba6c-cc0f5fcb57e6",
   "metadata": {},
   "outputs": [
    {
     "data": {
      "text/html": [
       "<div><style>\n",
       ".dataframe > thead > tr,\n",
       ".dataframe > tbody > tr {\n",
       "  text-align: right;\n",
       "  white-space: pre-wrap;\n",
       "}\n",
       "</style>\n",
       "<small>shape: (4, 5)</small><table border=\"1\" class=\"dataframe\"><thead><tr><th>a</th><th>b</th><th>g</th><th>ab_list</th><th>ab_arr</th></tr><tr><td>i64</td><td>i64</td><td>str</td><td>list[i64]</td><td>array[i64, 3]</td></tr></thead><tbody><tr><td>3</td><td>4</td><td>&quot;B&quot;</td><td>[3, 4, 7]</td><td>[3, 4, 7]</td></tr><tr><td>3</td><td>12</td><td>&quot;A&quot;</td><td>[3, 12, 15]</td><td>[3, 12, 15]</td></tr><tr><td>3</td><td>6</td><td>&quot;A&quot;</td><td>[3, 6, 9]</td><td>[3, 6, 9]</td></tr><tr><td>4</td><td>7</td><td>&quot;C&quot;</td><td>[4, 7, 11]</td><td>[4, 7, 11]</td></tr></tbody></table></div>"
      ],
      "text/plain": [
       "shape: (4, 5)\n",
       "┌─────┬─────┬─────┬─────────────┬───────────────┐\n",
       "│ a   ┆ b   ┆ g   ┆ ab_list     ┆ ab_arr        │\n",
       "│ --- ┆ --- ┆ --- ┆ ---         ┆ ---           │\n",
       "│ i64 ┆ i64 ┆ str ┆ list[i64]   ┆ array[i64, 3] │\n",
       "╞═════╪═════╪═════╪═════════════╪═══════════════╡\n",
       "│ 3   ┆ 4   ┆ B   ┆ [3, 4, 7]   ┆ [3, 4, 7]     │\n",
       "│ 3   ┆ 12  ┆ A   ┆ [3, 12, 15] ┆ [3, 12, 15]   │\n",
       "│ 3   ┆ 6   ┆ A   ┆ [3, 6, 9]   ┆ [3, 6, 9]     │\n",
       "│ 4   ┆ 7   ┆ C   ┆ [4, 7, 11]  ┆ [4, 7, 11]    │\n",
       "└─────┴─────┴─────┴─────────────┴───────────────┘"
      ]
     },
     "execution_count": 34,
     "metadata": {},
     "output_type": "execute_result"
    }
   ],
   "source": [
    "df = pl.DataFrame(\n",
    "    {\n",
    "        \"a\": [3, 3, 3, 4],\n",
    "        \"b\": [4, 12, 6, 7],\n",
    "        \"g\": ['B', 'A', 'A', 'C']\n",
    "    }\n",
    ")\n",
    "\n",
    "df.with_columns(\n",
    "    pl.concat_list(['a', 'b', pl.col('a') + pl.col('b')]).alias('ab_list'),\n",
    "    pl.concat_arr(['a', 'b', pl.col('a') + pl.col('b')]).alias('ab_arr'),\n",
    ")"
   ]
  },
  {
   "cell_type": "markdown",
   "id": "0a79cc8b-b5f5-4f48-8159-ecaee9cbe404",
   "metadata": {},
   "source": [
    "`pl.concat_list()`で複数の列を一つのリスト列に変換した後、`.list`下のメソッドを使って様々な計算を行うことができます。例えば、次のプログラムでは、この方法で次の計算を行います。\n",
    "\n",
    "* `A`, `C`, `E`列の行毎の総和。行毎の総和を計算する場合は、`pl.sum_horizontal()`も使えます。\n",
    "* 行毎の中間値"
   ]
  },
  {
   "cell_type": "code",
   "execution_count": 35,
   "id": "e2108003-be94-4ff1-901e-6c7d800e49f0",
   "metadata": {},
   "outputs": [
    {
     "data": {
      "text/html": [
       "<div><style>\n",
       ".dataframe > thead > tr,\n",
       ".dataframe > tbody > tr {\n",
       "  text-align: right;\n",
       "  white-space: pre-wrap;\n",
       "}\n",
       "</style>\n",
       "<small>shape: (6, 8)</small><table border=\"1\" class=\"dataframe\"><thead><tr><th>A</th><th>B</th><th>C</th><th>D</th><th>E</th><th>sum_ACE</th><th>sum_ACE2</th><th>median_all</th></tr><tr><td>i32</td><td>i32</td><td>i32</td><td>i32</td><td>i32</td><td>i32</td><td>i32</td><td>f64</td></tr></thead><tbody><tr><td>6</td><td>1</td><td>9</td><td>9</td><td>8</td><td>23</td><td>23</td><td>8.0</td></tr><tr><td>2</td><td>6</td><td>8</td><td>4</td><td>1</td><td>11</td><td>11</td><td>4.0</td></tr><tr><td>5</td><td>8</td><td>0</td><td>6</td><td>5</td><td>10</td><td>10</td><td>5.0</td></tr><tr><td>8</td><td>1</td><td>5</td><td>7</td><td>3</td><td>16</td><td>16</td><td>5.0</td></tr><tr><td>5</td><td>8</td><td>8</td><td>6</td><td>9</td><td>22</td><td>22</td><td>8.0</td></tr><tr><td>7</td><td>0</td><td>2</td><td>8</td><td>1</td><td>10</td><td>10</td><td>2.0</td></tr></tbody></table></div>"
      ],
      "text/plain": [
       "shape: (6, 8)\n",
       "┌─────┬─────┬─────┬─────┬─────┬─────────┬──────────┬────────────┐\n",
       "│ A   ┆ B   ┆ C   ┆ D   ┆ E   ┆ sum_ACE ┆ sum_ACE2 ┆ median_all │\n",
       "│ --- ┆ --- ┆ --- ┆ --- ┆ --- ┆ ---     ┆ ---      ┆ ---        │\n",
       "│ i32 ┆ i32 ┆ i32 ┆ i32 ┆ i32 ┆ i32     ┆ i32      ┆ f64        │\n",
       "╞═════╪═════╪═════╪═════╪═════╪═════════╪══════════╪════════════╡\n",
       "│ 6   ┆ 1   ┆ 9   ┆ 9   ┆ 8   ┆ 23      ┆ 23       ┆ 8.0        │\n",
       "│ 2   ┆ 6   ┆ 8   ┆ 4   ┆ 1   ┆ 11      ┆ 11       ┆ 4.0        │\n",
       "│ 5   ┆ 8   ┆ 0   ┆ 6   ┆ 5   ┆ 10      ┆ 10       ┆ 5.0        │\n",
       "│ 8   ┆ 1   ┆ 5   ┆ 7   ┆ 3   ┆ 16      ┆ 16       ┆ 5.0        │\n",
       "│ 5   ┆ 8   ┆ 8   ┆ 6   ┆ 9   ┆ 22      ┆ 22       ┆ 8.0        │\n",
       "│ 7   ┆ 0   ┆ 2   ┆ 8   ┆ 1   ┆ 10      ┆ 10       ┆ 2.0        │\n",
       "└─────┴─────┴─────┴─────┴─────┴─────────┴──────────┴────────────┘"
      ]
     },
     "execution_count": 35,
     "metadata": {},
     "output_type": "execute_result"
    }
   ],
   "source": [
    "df_numbers = pl.DataFrame(\n",
    "    np.random.randint(0, 10, size=(6, 5)), schema=list(\"ABCDE\")\n",
    ")\n",
    "df_numbers.with_columns(\n",
    "    pl.concat_list('A', 'C', 'E').list.sum().alias('sum_ACE'),\n",
    "    pl.sum_horizontal(pl.col('A', 'C', 'E')).alias('sum_ACE2'),\n",
    "    pl.concat_list('*').list.median().alias('median_all')\n",
    ")"
   ]
  },
  {
   "cell_type": "markdown",
   "id": "e0de3f5f-0e85-4715-a071-3c94435e8640",
   "metadata": {},
   "source": [
    "### reshape"
   ]
  },
  {
   "cell_type": "markdown",
   "id": "766df9fc-455a-4dff-bc76-33a525968d60",
   "metadata": {},
   "source": [
    "`Expr.reshape()`は`numpy.reshape()`と似ています。1つの列の要素を指定した数で横向きに並べる関数です。以下の例では、`reshape()`を使ってデータフレームの列の形状を変更しています。"
   ]
  },
  {
   "cell_type": "code",
   "execution_count": 36,
   "id": "47b0af20-60b2-43ce-a44f-3192b6bb8dfe",
   "metadata": {},
   "outputs": [
    {
     "data": {
      "text/html": [
       "<table><tr><td><div><style>\n",
       ".dataframe > thead > tr,\n",
       ".dataframe > tbody > tr {\n",
       "  text-align: right;\n",
       "  white-space: pre-wrap;\n",
       "}\n",
       "</style>\n",
       "<small>shape: (2, 5)</small><table border=\"1\" class=\"dataframe\"><thead><tr><th>A</th><th>B</th><th>C</th><th>D</th><th>E</th></tr><tr><td>array[i32, 3]</td><td>array[i32, 3]</td><td>array[i32, 3]</td><td>array[i32, 3]</td><td>array[i32, 3]</td></tr></thead><tbody><tr><td>[6, 2, 5]</td><td>[1, 6, 8]</td><td>[9, 8, 0]</td><td>[9, 4, 6]</td><td>[8, 1, 5]</td></tr><tr><td>[8, 5, 7]</td><td>[1, 8, 0]</td><td>[5, 8, 2]</td><td>[7, 6, 8]</td><td>[3, 9, 1]</td></tr></tbody></table></div></td><td><div><style>\n",
       ".dataframe > thead > tr,\n",
       ".dataframe > tbody > tr {\n",
       "  text-align: right;\n",
       "  white-space: pre-wrap;\n",
       "}\n",
       "</style>\n",
       "<small>shape: (3, 5)</small><table border=\"1\" class=\"dataframe\"><thead><tr><th>A</th><th>B</th><th>C</th><th>D</th><th>E</th></tr><tr><td>array[i32, 2]</td><td>array[i32, 2]</td><td>array[i32, 2]</td><td>array[i32, 2]</td><td>array[i32, 2]</td></tr></thead><tbody><tr><td>[6, 2]</td><td>[1, 6]</td><td>[9, 8]</td><td>[9, 4]</td><td>[8, 1]</td></tr><tr><td>[5, 8]</td><td>[8, 1]</td><td>[0, 5]</td><td>[6, 7]</td><td>[5, 3]</td></tr><tr><td>[5, 7]</td><td>[8, 0]</td><td>[8, 2]</td><td>[6, 8]</td><td>[9, 1]</td></tr></tbody></table></div></td></tr></table>"
      ]
     },
     "metadata": {},
     "output_type": "display_data"
    }
   ],
   "source": [
    "row(\n",
    "    df_numbers.select(pl.col('*').reshape((-1, 3))),\n",
    "    df_numbers.select(pl.col('*').reshape((-1, 2))),\n",
    ")"
   ]
  },
  {
   "cell_type": "markdown",
   "id": "4edcbc1e-8c9f-47cd-bfae-e16f41cea26c",
   "metadata": {},
   "source": [
    "### implode と explode"
   ]
  },
  {
   "cell_type": "markdown",
   "id": "3aeb601d-e709-48c3-b1d9-2bde691b7bd1",
   "metadata": {},
   "source": [
    "`Expr.implode()`は、式の出力を1つのリスト列に変換します。以下のプログラムは、各列の最初の3行のデータをリストとして保存します。"
   ]
  },
  {
   "cell_type": "code",
   "execution_count": 37,
   "id": "bde549e2-7139-44bd-a2c5-8fcad24b9c64",
   "metadata": {},
   "outputs": [
    {
     "data": {
      "text/html": [
       "<div><style>\n",
       ".dataframe > thead > tr,\n",
       ".dataframe > tbody > tr {\n",
       "  text-align: right;\n",
       "  white-space: pre-wrap;\n",
       "}\n",
       "</style>\n",
       "<small>shape: (1, 2)</small><table border=\"1\" class=\"dataframe\"><thead><tr><th>A</th><th>B</th></tr><tr><td>list[i64]</td><td>list[str]</td></tr></thead><tbody><tr><td>[1, 2, 3]</td><td>[&quot;X&quot;, &quot;Y&quot;, &quot;X&quot;]</td></tr></tbody></table></div>"
      ],
      "text/plain": [
       "shape: (1, 2)\n",
       "┌───────────┬─────────────────┐\n",
       "│ A         ┆ B               │\n",
       "│ ---       ┆ ---             │\n",
       "│ list[i64] ┆ list[str]       │\n",
       "╞═══════════╪═════════════════╡\n",
       "│ [1, 2, 3] ┆ [\"X\", \"Y\", \"X\"] │\n",
       "└───────────┴─────────────────┘"
      ]
     },
     "execution_count": 37,
     "metadata": {},
     "output_type": "execute_result"
    }
   ],
   "source": [
    "df = pl.DataFrame(dict(A=[1, 2, 3, 4], B=[\"X\", \"Y\", \"X\", \"Z\"]))\n",
    "df.select(pl.col('*').head(3).implode())"
   ]
  },
  {
   "cell_type": "markdown",
   "id": "3463c09b-9335-4ffc-b65e-642e88e5fab5",
   "metadata": {},
   "source": [
    "`Expr.explode()`は、リスト内の要素を縦に展開します。次のプログラムでは、リスト列`value`の要素を縦に並べ、`group`列の各要素を`Expr.repeat_by()`を使って`value`の各リストの長さ回繰り返します。\n",
    "\n",
    "- `pl.col(\"group\").repeat_by(pl.col(\"value\").list.lengths())` は、`group`列の各要素を`value`列の各リストの長さ回繰り返します。\n",
    "- `pl.col(\"value\").explode()` は、`value`列のリストを縦に展開します。\n",
    "\n",
    "結果として、`group`列の各要素は対応する`value`列の要素に合わせて繰り返されます。\n",
    "\n"
   ]
  },
  {
   "cell_type": "code",
   "execution_count": 38,
   "id": "646578a8-37cb-4005-99a8-5575c80b1c01",
   "metadata": {},
   "outputs": [
    {
     "data": {
      "text/html": [
       "<div><style>\n",
       ".dataframe > thead > tr,\n",
       ".dataframe > tbody > tr {\n",
       "  text-align: right;\n",
       "  white-space: pre-wrap;\n",
       "}\n",
       "</style>\n",
       "<small>shape: (8, 2)</small><table border=\"1\" class=\"dataframe\"><thead><tr><th>group</th><th>value</th></tr><tr><td>str</td><td>i64</td></tr></thead><tbody><tr><td>&quot;B&quot;</td><td>3</td></tr><tr><td>&quot;B&quot;</td><td>4</td></tr><tr><td>&quot;A&quot;</td><td>1</td></tr><tr><td>&quot;A&quot;</td><td>2</td></tr><tr><td>&quot;A&quot;</td><td>6</td></tr><tr><td>&quot;A&quot;</td><td>1</td></tr><tr><td>&quot;C&quot;</td><td>2</td></tr><tr><td>&quot;C&quot;</td><td>3</td></tr></tbody></table></div>"
      ],
      "text/plain": [
       "shape: (8, 2)\n",
       "┌───────┬───────┐\n",
       "│ group ┆ value │\n",
       "│ ---   ┆ ---   │\n",
       "│ str   ┆ i64   │\n",
       "╞═══════╪═══════╡\n",
       "│ B     ┆ 3     │\n",
       "│ B     ┆ 4     │\n",
       "│ A     ┆ 1     │\n",
       "│ A     ┆ 2     │\n",
       "│ A     ┆ 6     │\n",
       "│ A     ┆ 1     │\n",
       "│ C     ┆ 2     │\n",
       "│ C     ┆ 3     │\n",
       "└───────┴───────┘"
      ]
     },
     "execution_count": 38,
     "metadata": {},
     "output_type": "execute_result"
    }
   ],
   "source": [
    "df = pl.DataFrame(dict(group=[\"B\", \"A\", \"A\", \"C\"], value=[[3, 4], [1, 2, 6], [1], [2, 3]]))\n",
    "\n",
    "df.select(\n",
    "    pl.col.group.repeat_by(pl.col.value.list.len()).explode(),\n",
    "    pl.col.value.list.explode()\n",
    ")"
   ]
  },
  {
   "cell_type": "markdown",
   "id": "ced7192c-94e3-4485-9601-517bcbaa514f",
   "metadata": {},
   "source": [
    "`DataFrame.explode()`は、`Expr.explode()`と同じ処理を行いますが、他の列のデータを自動的に繰り返します。次のプログラムでは、リスト列`value`の要素を縦に並べ、他の列(`group`列)のデータを自動的に繰り返します。"
   ]
  },
  {
   "cell_type": "code",
   "execution_count": 39,
   "id": "18afcc4a-8193-493d-b36c-469426c1f848",
   "metadata": {},
   "outputs": [
    {
     "data": {
      "text/html": [
       "<div><style>\n",
       ".dataframe > thead > tr,\n",
       ".dataframe > tbody > tr {\n",
       "  text-align: right;\n",
       "  white-space: pre-wrap;\n",
       "}\n",
       "</style>\n",
       "<small>shape: (8, 2)</small><table border=\"1\" class=\"dataframe\"><thead><tr><th>group</th><th>value</th></tr><tr><td>str</td><td>i64</td></tr></thead><tbody><tr><td>&quot;B&quot;</td><td>3</td></tr><tr><td>&quot;B&quot;</td><td>4</td></tr><tr><td>&quot;A&quot;</td><td>1</td></tr><tr><td>&quot;A&quot;</td><td>2</td></tr><tr><td>&quot;A&quot;</td><td>6</td></tr><tr><td>&quot;A&quot;</td><td>1</td></tr><tr><td>&quot;C&quot;</td><td>2</td></tr><tr><td>&quot;C&quot;</td><td>3</td></tr></tbody></table></div>"
      ],
      "text/plain": [
       "shape: (8, 2)\n",
       "┌───────┬───────┐\n",
       "│ group ┆ value │\n",
       "│ ---   ┆ ---   │\n",
       "│ str   ┆ i64   │\n",
       "╞═══════╪═══════╡\n",
       "│ B     ┆ 3     │\n",
       "│ B     ┆ 4     │\n",
       "│ A     ┆ 1     │\n",
       "│ A     ┆ 2     │\n",
       "│ A     ┆ 6     │\n",
       "│ A     ┆ 1     │\n",
       "│ C     ┆ 2     │\n",
       "│ C     ┆ 3     │\n",
       "└───────┴───────┘"
      ]
     },
     "execution_count": 39,
     "metadata": {},
     "output_type": "execute_result"
    }
   ],
   "source": [
    "df.explode('value')"
   ]
  },
  {
   "attachments": {},
   "cell_type": "markdown",
   "id": "a26058ef-5c9f-41c8-b8cf-669cfa668fb4",
   "metadata": {},
   "source": [
    "### List列とArray列同士の変換\n",
    "\n",
    "`list.to_array()` と `arr.to_list()` を使用すると、List列とArray列同士の変換ができます。`arr.to_list()` はそのまま変換できますが、`list.to_array()` の場合、要素の長さを引数として渡す必要があり、List列の要素の長さが一致しない場合はエラーになります。"
   ]
  },
  {
   "cell_type": "code",
   "execution_count": 40,
   "id": "3dfeb600-0a0d-4786-b94c-498a3a7ceeff",
   "metadata": {},
   "outputs": [
    {
     "data": {
      "text/html": [
       "<div><style>\n",
       ".dataframe > thead > tr,\n",
       ".dataframe > tbody > tr {\n",
       "  text-align: right;\n",
       "  white-space: pre-wrap;\n",
       "}\n",
       "</style>\n",
       "<small>shape: (3, 4)</small><table border=\"1\" class=\"dataframe\"><thead><tr><th>a</th><th>b</th><th>a_to_arr</th><th>b_to_list</th></tr><tr><td>list[i8]</td><td>array[i8, 3]</td><td>array[i8, 2]</td><td>list[i8]</td></tr></thead><tbody><tr><td>[1, 2]</td><td>[1, 2, 3]</td><td>[1, 2]</td><td>[1, 2, 3]</td></tr><tr><td>[3, 4]</td><td>[3, 4, 5]</td><td>[3, 4]</td><td>[3, 4, 5]</td></tr><tr><td>[5, 6]</td><td>[5, 6, 7]</td><td>[5, 6]</td><td>[5, 6, 7]</td></tr></tbody></table></div>"
      ],
      "text/plain": [
       "shape: (3, 4)\n",
       "┌──────────┬──────────────┬──────────────┬───────────┐\n",
       "│ a        ┆ b            ┆ a_to_arr     ┆ b_to_list │\n",
       "│ ---      ┆ ---          ┆ ---          ┆ ---       │\n",
       "│ list[i8] ┆ array[i8, 3] ┆ array[i8, 2] ┆ list[i8]  │\n",
       "╞══════════╪══════════════╪══════════════╪═══════════╡\n",
       "│ [1, 2]   ┆ [1, 2, 3]    ┆ [1, 2]       ┆ [1, 2, 3] │\n",
       "│ [3, 4]   ┆ [3, 4, 5]    ┆ [3, 4]       ┆ [3, 4, 5] │\n",
       "│ [5, 6]   ┆ [5, 6, 7]    ┆ [5, 6]       ┆ [5, 6, 7] │\n",
       "└──────────┴──────────────┴──────────────┴───────────┘"
      ]
     },
     "execution_count": 40,
     "metadata": {},
     "output_type": "execute_result"
    }
   ],
   "source": [
    "df = pl.DataFrame(\n",
    "    dict(\n",
    "        a=[[1, 2], [3, 4], [5, 6]],\n",
    "        b=[[1, 2, 3], [3, 4, 5], [5, 6, 7]]\n",
    "    ),\n",
    "    schema=dict(a=pl.List(pl.Int8), b=pl.Array(pl.Int8, 3))\n",
    ")\n",
    "\n",
    "df.with_columns(\n",
    "    a_to_arr=pl.col('a').list.to_array(2),\n",
    "    b_to_list=pl.col('b').arr.to_list()\n",
    ")"
   ]
  },
  {
   "cell_type": "markdown",
   "id": "74338308-0c88-4c7b-ad52-5b775e1cb35e",
   "metadata": {},
   "source": [
    "長さがバラバラのList列をArray列に変換するには、次の方法で `list.gather()` を使用してNullを埋め値として長さを揃え、その後Array列に変換します。"
   ]
  },
  {
   "cell_type": "code",
   "execution_count": 41,
   "id": "c44c944a-428d-4616-a0e9-4b69100d43e0",
   "metadata": {},
   "outputs": [
    {
     "data": {
      "text/html": [
       "<div><style>\n",
       ".dataframe > thead > tr,\n",
       ".dataframe > tbody > tr {\n",
       "  text-align: right;\n",
       "  white-space: pre-wrap;\n",
       "}\n",
       "</style>\n",
       "<small>shape: (4, 2)</small><table border=\"1\" class=\"dataframe\"><thead><tr><th>a</th><th>a_arr</th></tr><tr><td>list[i8]</td><td>array[i8, 4]</td></tr></thead><tbody><tr><td>[1, 2]</td><td>[1, 2, … null]</td></tr><tr><td>[3, 4]</td><td>[3, 4, … null]</td></tr><tr><td>[5, 6, 7]</td><td>[5, 6, … null]</td></tr><tr><td>[8, 9, … 11]</td><td>[8, 9, … 11]</td></tr></tbody></table></div>"
      ],
      "text/plain": [
       "shape: (4, 2)\n",
       "┌──────────────┬────────────────┐\n",
       "│ a            ┆ a_arr          │\n",
       "│ ---          ┆ ---            │\n",
       "│ list[i8]     ┆ array[i8, 4]   │\n",
       "╞══════════════╪════════════════╡\n",
       "│ [1, 2]       ┆ [1, 2, … null] │\n",
       "│ [3, 4]       ┆ [3, 4, … null] │\n",
       "│ [5, 6, 7]    ┆ [5, 6, … null] │\n",
       "│ [8, 9, … 11] ┆ [8, 9, … 11]   │\n",
       "└──────────────┴────────────────┘"
      ]
     },
     "execution_count": 41,
     "metadata": {},
     "output_type": "execute_result"
    }
   ],
   "source": [
    "df = pl.DataFrame(\n",
    "    dict(\n",
    "        a=[[1, 2], [3, 4], [5, 6, 7], [8, 9, 10, 11]],\n",
    "    ),\n",
    "    schema=dict(a=pl.List(pl.Int8))\n",
    ")\n",
    "df.with_columns(\n",
    "    a_arr=pl.col('a').list.gather(pl.int_range(end=4), null_on_oob=True).list.to_array(4)\n",
    ")"
   ]
  },
  {
   "cell_type": "markdown",
   "id": "252d0e0f-0e50-44ce-9f46-0cd16b305c2a",
   "metadata": {},
   "source": [
    "### Struct列への変換"
   ]
  },
  {
   "cell_type": "markdown",
   "id": "a451a7bc-fdc2-44bc-9c69-4e1fbd264752",
   "metadata": {},
   "source": [
    "`list.to_struct()`は、リスト列の各要素を構造化データ（構造体）に変換します。このメソッドでは、リスト内の各値を個別のフィールドとして持つ構造体に変換し、フィールド数は引数`n_field_strategy`にｎ基づいて決定されます。`'max_width'`は、最長のリストの長さに基づいてフィールド数を設定するために使用されます。`fields`引数でフィールド名を指定します。"
   ]
  },
  {
   "cell_type": "code",
   "execution_count": 42,
   "id": "e7cb4009-ce0f-4f65-a782-da52f0bbdcc3",
   "metadata": {},
   "outputs": [
    {
     "data": {
      "text/html": [
       "<table><tr><td><div><style>\n",
       ".dataframe > thead > tr,\n",
       ".dataframe > tbody > tr {\n",
       "  text-align: right;\n",
       "  white-space: pre-wrap;\n",
       "}\n",
       "</style>\n",
       "<small>shape: (3, 1)</small><table border=\"1\" class=\"dataframe\"><thead><tr><th>values</th></tr><tr><td>list[i64]</td></tr></thead><tbody><tr><td>[1, 2]</td></tr><tr><td>[2, 3, 4]</td></tr><tr><td>[1, 10]</td></tr></tbody></table></div></td><td><div><style>\n",
       ".dataframe > thead > tr,\n",
       ".dataframe > tbody > tr {\n",
       "  text-align: right;\n",
       "  white-space: pre-wrap;\n",
       "}\n",
       "</style>\n",
       "<small>shape: (3, 1)</small><table border=\"1\" class=\"dataframe\"><thead><tr><th>values</th></tr><tr><td>struct[2]</td></tr></thead><tbody><tr><td>{1,2}</td></tr><tr><td>{2,3}</td></tr><tr><td>{1,10}</td></tr></tbody></table></div></td></tr></table>"
      ]
     },
     "metadata": {},
     "output_type": "display_data"
    },
    {
     "name": "stdout",
     "output_type": "stream",
     "text": [
      "Schema({'values': Struct({'a': Int64, 'b': Int64})})\n"
     ]
    }
   ],
   "source": [
    "df = pl.DataFrame(dict(values=[[1, 2], [2, 3, 4], [1, 10]]))\n",
    "df2 = df.select(pl.col.values.list.to_struct(n_field_strategy='max_width', fields=[\"a\", \"b\"]))\n",
    "row(df, df2)\n",
    "print(df2.schema)"
   ]
  },
  {
   "cell_type": "markdown",
   "id": "2f48f887-8c22-4523-8a16-246c3dabb874",
   "metadata": {},
   "source": [
    "### リスト列同士の計算"
   ]
  },
  {
   "cell_type": "markdown",
   "id": "a14eda9f-a899-4b0e-beda-2122fea705c7",
   "metadata": {},
   "source": [
    "Polarsでは、リスト列同士、またはリスト列と数値列の間で算術演算を行うことができます。\n",
    "\n",
    "- **リスト列同士の演算**: 各行において、対応するリストの要素ごとに演算が行われます。\n",
    "- **リスト列と数値列の演算**: 数値列の値が各リストの全要素に適用されます。\n",
    "\n",
    "以下は具体的な例です。このデータフレームでは、`x`列と`y`列の要素がリストで、各行のリストの長さは一致しています。また、`z`列は数値列です。"
   ]
  },
  {
   "cell_type": "code",
   "execution_count": 43,
   "id": "2d42328b-a0c2-46eb-be14-0f841937b28a",
   "metadata": {},
   "outputs": [
    {
     "data": {
      "text/html": [
       "<div><style>\n",
       ".dataframe > thead > tr,\n",
       ".dataframe > tbody > tr {\n",
       "  text-align: right;\n",
       "  white-space: pre-wrap;\n",
       "}\n",
       "</style>\n",
       "<small>shape: (2, 5)</small><table border=\"1\" class=\"dataframe\"><thead><tr><th>x</th><th>y</th><th>z</th><th>x_plus_y</th><th>x_plus_z</th></tr><tr><td>list[i64]</td><td>list[i64]</td><td>i64</td><td>list[i64]</td><td>list[i64]</td></tr></thead><tbody><tr><td>[1, 3, 3]</td><td>[10, 20, 30]</td><td>10</td><td>[11, 23, 33]</td><td>[11, 13, 13]</td></tr><tr><td>[4, 5, … 8]</td><td>[40, 50, … 80]</td><td>20</td><td>[44, 55, … 88]</td><td>[24, 25, … 28]</td></tr></tbody></table></div>"
      ],
      "text/plain": [
       "shape: (2, 5)\n",
       "┌─────────────┬────────────────┬─────┬────────────────┬────────────────┐\n",
       "│ x           ┆ y              ┆ z   ┆ x_plus_y       ┆ x_plus_z       │\n",
       "│ ---         ┆ ---            ┆ --- ┆ ---            ┆ ---            │\n",
       "│ list[i64]   ┆ list[i64]      ┆ i64 ┆ list[i64]      ┆ list[i64]      │\n",
       "╞═════════════╪════════════════╪═════╪════════════════╪════════════════╡\n",
       "│ [1, 3, 3]   ┆ [10, 20, 30]   ┆ 10  ┆ [11, 23, 33]   ┆ [11, 13, 13]   │\n",
       "│ [4, 5, … 8] ┆ [40, 50, … 80] ┆ 20  ┆ [44, 55, … 88] ┆ [24, 25, … 28] │\n",
       "└─────────────┴────────────────┴─────┴────────────────┴────────────────┘"
      ]
     },
     "execution_count": 43,
     "metadata": {},
     "output_type": "execute_result"
    }
   ],
   "source": [
    "df = pl.DataFrame(dict(\n",
    "    x=[[1, 3, 3], [4, 5, 7, 8]], \n",
    "    y=[[10, 20, 30], [40, 50, 60, 80]],\n",
    "    z=[10, 20]    \n",
    "))\n",
    "\n",
    "df.with_columns(\n",
    "    x_plus_y = pl.col('x') + pl.col('y'),\n",
    "    x_plus_z = pl.col('x') + pl.col('z'),\n",
    ")"
   ]
  },
  {
   "cell_type": "markdown",
   "id": "8afabc02-5493-41d0-8806-ee2669425b96",
   "metadata": {},
   "source": [
    "#### ビットのリストから整数に変換"
   ]
  },
  {
   "cell_type": "markdown",
   "id": "997573dd-dabf-475c-abfc-3ae19f19a2c6",
   "metadata": {},
   "source": [
    "リスト型の列内の各リストの要素と、単一のリストの要素を対応させて計算するために、単一のリストを持つ `Series` を作成するか、またはリストを直接計算する演算式を使用します。以下は、ビットのリストを整数に変換するプログラムで、この計算方法について説明します。  \n",
    "\n",
    "このコードでは、`df_bits` に格納されたビットのリストを整数値に変換します。ビット列 `[b7, b6, ..., b0]` を `b7 * 2**7 + b6 * 2**6 + ... + b0 * 2**0` のように計算し、対応する整数値を求めます。  \n",
    "\n",
    "❶事前に `2**i` のリストを `Series` に変換し、それを `bits` の各要素と掛け算した後、`.list.sum()` で合計を求めます。  \n",
    "❷`pl.int_range(7, -1, -1)` を使って `2**i` の列を生成し、それを `implode()` で単一のリストを持つ列に変換した後、`bits` と掛け算して合計を求めます。"
   ]
  },
  {
   "cell_type": "code",
   "execution_count": 44,
   "id": "c70bb374-88b7-46fc-84ae-ff916da915ea",
   "metadata": {},
   "outputs": [
    {
     "data": {
      "text/html": [
       "<table><tr><td><div><style>\n",
       ".dataframe > thead > tr,\n",
       ".dataframe > tbody > tr {\n",
       "  text-align: right;\n",
       "  white-space: pre-wrap;\n",
       "}\n",
       "</style>\n",
       "<small>shape: (3, 1)</small><table border=\"1\" class=\"dataframe\"><thead><tr><th>bits</th></tr><tr><td>list[i64]</td></tr></thead><tbody><tr><td>[0, 1, 1, 0, 1, 1, 0, 0]</td></tr><tr><td>[1, 0, 0, 1, 1, 0, 0, 1]</td></tr><tr><td>[1, 1, 1, 1, 1, 1, 1, 1]</td></tr></tbody></table></div></td><td><div><style>\n",
       ".dataframe > thead > tr,\n",
       ".dataframe > tbody > tr {\n",
       "  text-align: right;\n",
       "  white-space: pre-wrap;\n",
       "}\n",
       "</style>\n",
       "<small>shape: (3, 1)</small><table border=\"1\" class=\"dataframe\"><thead><tr><th>value</th></tr><tr><td>i64</td></tr></thead><tbody><tr><td>108</td></tr><tr><td>153</td></tr><tr><td>255</td></tr></tbody></table></div></td><td><div><style>\n",
       ".dataframe > thead > tr,\n",
       ".dataframe > tbody > tr {\n",
       "  text-align: right;\n",
       "  white-space: pre-wrap;\n",
       "}\n",
       "</style>\n",
       "<small>shape: (3, 1)</small><table border=\"1\" class=\"dataframe\"><thead><tr><th>value</th></tr><tr><td>i64</td></tr></thead><tbody><tr><td>108</td></tr><tr><td>153</td></tr><tr><td>255</td></tr></tbody></table></div></td></tr></table>"
      ]
     },
     "metadata": {},
     "output_type": "display_data"
    }
   ],
   "source": [
    "df_bits = pl.DataFrame(dict(\n",
    "    bits=[\n",
    "        [0, 1, 1, 0, 1, 1, 0, 0],\n",
    "        [1, 0, 0, 1, 1, 0, 0, 1],\n",
    "        [1, 1, 1, 1, 1, 1, 1, 1]\n",
    "    ]\n",
    "))\n",
    "\n",
    "df_val1 = df_bits.select(\n",
    "    value=(pl.col('bits') * pl.Series(values=[[2**i for i in range(7, -1, -1)]])).list.sum() #❶\n",
    ")\n",
    "\n",
    "df_val2 = df_bits.select(\n",
    "    value=(pl.col('bits') * (2 ** pl.int_range(7, -1, -1)).implode()).list.sum() #❷\n",
    ")\n",
    "with pl.Config() as conf:\n",
    "    conf.set_fmt_table_cell_list_len(10)\n",
    "    row(df_bits, df_val1, df_val2)"
   ]
  },
  {
   "cell_type": "markdown",
   "id": "87348fbb-31c7-434a-9470-073025d0ea6c",
   "metadata": {},
   "source": [
    "次のように、各ビットのリストの長さが異なる場合、int_ranges() を用いて各リストの長さに対応する指数のリストを作成し、ビット列を整数に変換します。\n",
    "\n",
    "* `pl.col('bits').list.len() - 1`: 各リストの長さを取得し、最上位ビットの指数を決定します。\n",
    "* `pl.int_ranges(..., -1, -1)`: 各リストの長さに対応する`2**i`の指数部分のリストを作成します。\n",
    "* `.list.eval(2 ** pl.element())`: 各要素を`2**i`に変換します。"
   ]
  },
  {
   "cell_type": "code",
   "execution_count": 45,
   "id": "7ac7ce6b-401c-448f-82f1-94f6e975fa16",
   "metadata": {},
   "outputs": [
    {
     "data": {
      "text/html": [
       "<table><tr><td><div><style>\n",
       ".dataframe > thead > tr,\n",
       ".dataframe > tbody > tr {\n",
       "  text-align: right;\n",
       "  white-space: pre-wrap;\n",
       "}\n",
       "</style>\n",
       "<small>shape: (3, 1)</small><table border=\"1\" class=\"dataframe\"><thead><tr><th>bits</th></tr><tr><td>list[i64]</td></tr></thead><tbody><tr><td>[0, 1, 1, 0, 1, 1, 0, 0]</td></tr><tr><td>[1, 0, 0, 1, 1, 0, 0]</td></tr><tr><td>[1, 1, 1, 1]</td></tr></tbody></table></div></td><td><div><style>\n",
       ".dataframe > thead > tr,\n",
       ".dataframe > tbody > tr {\n",
       "  text-align: right;\n",
       "  white-space: pre-wrap;\n",
       "}\n",
       "</style>\n",
       "<small>shape: (3, 1)</small><table border=\"1\" class=\"dataframe\"><thead><tr><th>bits</th></tr><tr><td>i64</td></tr></thead><tbody><tr><td>108</td></tr><tr><td>76</td></tr><tr><td>15</td></tr></tbody></table></div></td></tr></table>"
      ]
     },
     "metadata": {},
     "output_type": "display_data"
    }
   ],
   "source": [
    "df_bits = pl.DataFrame(dict(\n",
    "    bits=[\n",
    "        [0, 1, 1, 0, 1, 1, 0, 0],\n",
    "        [1, 0, 0, 1, 1, 0, 0],\n",
    "        [1, 1, 1, 1]\n",
    "    ]\n",
    "))\n",
    "\n",
    "df_val = df_bits.select(\n",
    "    (\n",
    "        (\n",
    "            pl.col('bits') * \n",
    "            pl.int_ranges(pl.col('bits').list.len() - 1, -1, -1).list.eval(2 ** pl.element())\n",
    "        )\n",
    "    ).list.sum()\n",
    ")\n",
    "with pl.Config() as conf:\n",
    "    conf.set_fmt_table_cell_list_len(10)\n",
    "    row(df_bits, df_val)"
   ]
  },
  {
   "cell_type": "markdown",
   "id": "df9e23f1-c6fd-45f0-9153-297a4fc3f7b0",
   "metadata": {},
   "source": [
    "#### サポートされていない演算"
   ]
  },
  {
   "cell_type": "markdown",
   "id": "bf62175b-1707-45be-aad4-8511eeceb593",
   "metadata": {},
   "source": [
    "Polars 1.24.0時点では、リスト列間の演算として算術演算（加算、減算、乗算、除算など）はサポートされていますが、それ以外の演算（例: 比較演算や論理演算）はサポートされていません。そのため、次のコードはエラーになります。"
   ]
  },
  {
   "cell_type": "code",
   "execution_count": 46,
   "id": "962b89e6-f5ef-43ae-bc20-9c183909ce72",
   "metadata": {},
   "outputs": [
    {
     "name": "stdout",
     "output_type": "stream",
     "text": [
      "InvalidOperationError: cannot perform '>' comparison between series 'x' of dtype: list[i64] and series 'y' of dtype: list[i64]\n"
     ]
    }
   ],
   "source": [
    "%%capture_except\n",
    "df.select(\n",
    "    pl.col('x') * 10 > pl.col('y')\n",
    ")"
   ]
  },
  {
   "cell_type": "markdown",
   "id": "64ad14fa-ac46-477a-ba87-79b8f103a066",
   "metadata": {},
   "source": [
    "次の方法を使えば、リスト列の要素同士の計算が可能です。\n",
    "\n",
    "1. `with_row_index()`: 各行に一意のインデックスを追加します。このインデックスは後でグループ化に使用されます。\n",
    "2. `explode('x', 'y')`: `x`列と`y`列のリストを展開して、各リストの要素を縦方向に並べます。これにより、リスト要素の対応が維持されます。\n",
    "3. `group_by('index')`: 行ごとの演算結果を元の形に戻すため、インデックス列を基準にデータをグループ化します。\n",
    "4. `agg()`: 各グループ内で演算を行います。ここでは、`x`列の要素を10倍し、`y`列の対応する要素と比較します。\n",
    "5. `drop('index')`: 最後にインデックス列を削除して不要な列を取り除きます。"
   ]
  },
  {
   "cell_type": "code",
   "execution_count": 47,
   "id": "21f5fc21-6481-4816-b003-973098f389e1",
   "metadata": {},
   "outputs": [
    {
     "data": {
      "text/html": [
       "<div><style>\n",
       ".dataframe > thead > tr,\n",
       ".dataframe > tbody > tr {\n",
       "  text-align: right;\n",
       "  white-space: pre-wrap;\n",
       "}\n",
       "</style>\n",
       "<small>shape: (2, 1)</small><table border=\"1\" class=\"dataframe\"><thead><tr><th>x</th></tr><tr><td>list[bool]</td></tr></thead><tbody><tr><td>[false, true, false]</td></tr><tr><td>[false, false, … false]</td></tr></tbody></table></div>"
      ],
      "text/plain": [
       "shape: (2, 1)\n",
       "┌─────────────────────────┐\n",
       "│ x                       │\n",
       "│ ---                     │\n",
       "│ list[bool]              │\n",
       "╞═════════════════════════╡\n",
       "│ [false, true, false]    │\n",
       "│ [false, false, … false] │\n",
       "└─────────────────────────┘"
      ]
     },
     "execution_count": 47,
     "metadata": {},
     "output_type": "execute_result"
    }
   ],
   "source": [
    "(\n",
    "df\n",
    ".with_row_index()\n",
    ".explode('x', 'y')\n",
    ".group_by('index')\n",
    ".agg(\n",
    "    pl.col('x') * 10 > pl.col('y')\n",
    ")\n",
    ".drop('index')\n",
    ")"
   ]
  },
  {
   "cell_type": "markdown",
   "id": "3997db2f-62d1-44ad-b8fd-e610932b6be1",
   "metadata": {},
   "source": [
    "本書の`helper.polars`モジュールをインポートすると、`list_eval()`メソッドが`DataFrame`クラスに追加されます。このメソッドは、リスト列を含むデータフレームに対して要素ごとの演算を簡潔に実行するためのラッパーとして機能します。"
   ]
  },
  {
   "cell_type": "code",
   "execution_count": 48,
   "id": "59cb6fa4-eeed-47af-93f6-34bbaccb2f83",
   "metadata": {},
   "outputs": [
    {
     "data": {
      "text/html": [
       "<div><style>\n",
       ".dataframe > thead > tr,\n",
       ".dataframe > tbody > tr {\n",
       "  text-align: right;\n",
       "  white-space: pre-wrap;\n",
       "}\n",
       "</style>\n",
       "<small>shape: (2, 1)</small><table border=\"1\" class=\"dataframe\"><thead><tr><th>flag</th></tr><tr><td>list[bool]</td></tr></thead><tbody><tr><td>[false, true, false]</td></tr><tr><td>[false, false, … false]</td></tr></tbody></table></div>"
      ],
      "text/plain": [
       "shape: (2, 1)\n",
       "┌─────────────────────────┐\n",
       "│ flag                    │\n",
       "│ ---                     │\n",
       "│ list[bool]              │\n",
       "╞═════════════════════════╡\n",
       "│ [false, true, false]    │\n",
       "│ [false, false, … false] │\n",
       "└─────────────────────────┘"
      ]
     },
     "execution_count": 48,
     "metadata": {},
     "output_type": "execute_result"
    }
   ],
   "source": [
    "import helper.polars\n",
    "\n",
    "df.list_eval(\n",
    "    (pl.col('x') * 10 > pl.col('y')).alias('flag')\n",
    ")"
   ]
  },
  {
   "cell_type": "markdown",
   "id": "eb001b94-78ce-4496-aeef-f66c4ee7bf92",
   "metadata": {},
   "source": [
    "## 構造体(struct)\n",
    "\n",
    "polarsの構造体列は、複数のフィールドを持つ複合データ型で、複数の異なる型のデータを1つの列にまとめて格納することができます。構造体列は、データを整理して、より複雑なデータ構造を表現するのに役立ちます。データフレームを作成する際に、Pythonの辞書のリストを構造体列に変換することができます。"
   ]
  },
  {
   "cell_type": "code",
   "execution_count": 49,
   "id": "d34cf9b8-09c2-408b-a641-93085efaaa67",
   "metadata": {},
   "outputs": [
    {
     "data": {
      "text/html": [
       "<div><style>\n",
       ".dataframe > thead > tr,\n",
       ".dataframe > tbody > tr {\n",
       "  text-align: right;\n",
       "  white-space: pre-wrap;\n",
       "}\n",
       "</style>\n",
       "<small>shape: (5, 2)</small><table border=\"1\" class=\"dataframe\"><thead><tr><th>person</th><th>num</th></tr><tr><td>struct[3]</td><td>i64</td></tr></thead><tbody><tr><td>{&quot;John&quot;,30,&quot;ABC&quot;}</td><td>1</td></tr><tr><td>{&quot;Alice&quot;,65,&quot;VOX&quot;}</td><td>2</td></tr><tr><td>{&quot;Tom&quot;,25,&quot;ABC&quot;}</td><td>3</td></tr><tr><td>{&quot;Bob&quot;,45,&quot;KTL&quot;}</td><td>4</td></tr><tr><td>{&quot;Fun&quot;,18,null}</td><td>5</td></tr></tbody></table></div>"
      ],
      "text/plain": [
       "shape: (5, 2)\n",
       "┌────────────────────┬─────┐\n",
       "│ person             ┆ num │\n",
       "│ ---                ┆ --- │\n",
       "│ struct[3]          ┆ i64 │\n",
       "╞════════════════════╪═════╡\n",
       "│ {\"John\",30,\"ABC\"}  ┆ 1   │\n",
       "│ {\"Alice\",65,\"VOX\"} ┆ 2   │\n",
       "│ {\"Tom\",25,\"ABC\"}   ┆ 3   │\n",
       "│ {\"Bob\",45,\"KTL\"}   ┆ 4   │\n",
       "│ {\"Fun\",18,null}    ┆ 5   │\n",
       "└────────────────────┴─────┘"
      ]
     },
     "execution_count": 49,
     "metadata": {},
     "output_type": "execute_result"
    }
   ],
   "source": [
    "df = pl.DataFrame({\n",
    "    \"person\": [\n",
    "        {\"name\": \"John\", \"age\": 30, \"car\": \"ABC\"},\n",
    "        {\"name\": \"Alice\", \"age\": 65, \"car\": \"VOX\"},\n",
    "        {\"name\": \"Tom\", \"age\": 25, \"car\": \"ABC\"},\n",
    "        {\"name\": \"Bob\", \"age\": 45, \"car\": \"KTL\"},\n",
    "        {\"name\": \"Fun\", \"age\": 18, \"car\": None},\n",
    "    ],\n",
    "    \"num\": [1, 2, 3, 4, 5],\n",
    "})\n",
    "\n",
    "df"
   ]
  },
  {
   "cell_type": "markdown",
   "id": "20328c37-0c92-413a-a7a4-6c3a83ab5013",
   "metadata": {},
   "source": [
    "### フィールドと列の変換"
   ]
  },
  {
   "cell_type": "markdown",
   "id": "e15fb0f9-a04c-45b3-abe2-4320be2190d6",
   "metadata": {},
   "source": [
    "構造体列を処理する関数は、`struct`ネームスペースにあります。たとえば、`.struct.field()`メソッドを使用して、構造体列から複数のフィールドを個別の列として取り出すことができます。"
   ]
  },
  {
   "cell_type": "code",
   "execution_count": 50,
   "id": "38a5e5fa-d01e-452d-b5bf-aed8ee45aed1",
   "metadata": {},
   "outputs": [
    {
     "data": {
      "text/html": [
       "<div><style>\n",
       ".dataframe > thead > tr,\n",
       ".dataframe > tbody > tr {\n",
       "  text-align: right;\n",
       "  white-space: pre-wrap;\n",
       "}\n",
       "</style>\n",
       "<small>shape: (5, 2)</small><table border=\"1\" class=\"dataframe\"><thead><tr><th>name</th><th>age</th></tr><tr><td>str</td><td>i64</td></tr></thead><tbody><tr><td>&quot;John&quot;</td><td>30</td></tr><tr><td>&quot;Alice&quot;</td><td>65</td></tr><tr><td>&quot;Tom&quot;</td><td>25</td></tr><tr><td>&quot;Bob&quot;</td><td>45</td></tr><tr><td>&quot;Fun&quot;</td><td>18</td></tr></tbody></table></div>"
      ],
      "text/plain": [
       "shape: (5, 2)\n",
       "┌───────┬─────┐\n",
       "│ name  ┆ age │\n",
       "│ ---   ┆ --- │\n",
       "│ str   ┆ i64 │\n",
       "╞═══════╪═════╡\n",
       "│ John  ┆ 30  │\n",
       "│ Alice ┆ 65  │\n",
       "│ Tom   ┆ 25  │\n",
       "│ Bob   ┆ 45  │\n",
       "│ Fun   ┆ 18  │\n",
       "└───────┴─────┘"
      ]
     },
     "execution_count": 50,
     "metadata": {},
     "output_type": "execute_result"
    }
   ],
   "source": [
    "df2 = df.select(\n",
    "    pl.col('person').struct.field('name', 'age')\n",
    ")\n",
    "\n",
    "df2"
   ]
  },
  {
   "cell_type": "markdown",
   "id": "ccc9840f-a794-4f5d-a683-8e6feb532fbf",
   "metadata": {},
   "source": [
    "`.struct.field()`の逆の操作は、`pl.struct()`を使用することです。`pl.struct()`を使うことで、複数の列を構造体列に変換することができます。次のコードでは、`name`と`age`の2つの列を構造体としてまとめ、`person`という名前の構造体列を作成しています。"
   ]
  },
  {
   "cell_type": "code",
   "execution_count": 51,
   "id": "d8b4bf7e-860d-4614-81e2-6fc74a789714",
   "metadata": {},
   "outputs": [
    {
     "data": {
      "text/html": [
       "<div><style>\n",
       ".dataframe > thead > tr,\n",
       ".dataframe > tbody > tr {\n",
       "  text-align: right;\n",
       "  white-space: pre-wrap;\n",
       "}\n",
       "</style>\n",
       "<small>shape: (5, 1)</small><table border=\"1\" class=\"dataframe\"><thead><tr><th>person</th></tr><tr><td>struct[2]</td></tr></thead><tbody><tr><td>{&quot;John&quot;,30}</td></tr><tr><td>{&quot;Alice&quot;,65}</td></tr><tr><td>{&quot;Tom&quot;,25}</td></tr><tr><td>{&quot;Bob&quot;,45}</td></tr><tr><td>{&quot;Fun&quot;,18}</td></tr></tbody></table></div>"
      ],
      "text/plain": [
       "shape: (5, 1)\n",
       "┌──────────────┐\n",
       "│ person       │\n",
       "│ ---          │\n",
       "│ struct[2]    │\n",
       "╞══════════════╡\n",
       "│ {\"John\",30}  │\n",
       "│ {\"Alice\",65} │\n",
       "│ {\"Tom\",25}   │\n",
       "│ {\"Bob\",45}   │\n",
       "│ {\"Fun\",18}   │\n",
       "└──────────────┘"
      ]
     },
     "execution_count": 51,
     "metadata": {},
     "output_type": "execute_result"
    }
   ],
   "source": [
    "df2.select(\n",
    "    pl.struct('name', 'age').alias('person')\n",
    ")"
   ]
  },
  {
   "attachments": {},
   "cell_type": "markdown",
   "id": "db096f58-1f2c-4737-9dcd-2b227f640808",
   "metadata": {},
   "source": [
    "### フィールドの演算式\n",
    "\n",
    "`.struct.with_fields()` メソッドを使うと、構造体列に対してフィールドの追加や変換ができます。演算式では、`pl.col()` の代わりに `pl.field()` を使ってフィールドを指定します。これにより、構造体内の特定のフィールドに対して操作を実行できます。\n",
    "\n",
    "次の例では、`person` 列内の `name` フィールドの文字列を大文字に変換した新しい `name_upper` フィールドを追加し、`car` フィールドの null 値を `\"Mazda\"` に置き換えます。また、`age` フィールドと `num` 列の値を足し算して、新しい `age` フィールドを更新します。"
   ]
  },
  {
   "cell_type": "code",
   "execution_count": 52,
   "id": "b4d1ce3b-cc04-4a26-803a-5e1ab3eb621b",
   "metadata": {},
   "outputs": [
    {
     "data": {
      "text/html": [
       "<div><style>\n",
       ".dataframe > thead > tr,\n",
       ".dataframe > tbody > tr {\n",
       "  text-align: right;\n",
       "  white-space: pre-wrap;\n",
       "}\n",
       "</style>\n",
       "<small>shape: (5, 1)</small><table border=\"1\" class=\"dataframe\"><thead><tr><th>person</th></tr><tr><td>struct[4]</td></tr></thead><tbody><tr><td>{&quot;John&quot;,31,&quot;ABC&quot;,&quot;JOHN&quot;}</td></tr><tr><td>{&quot;Alice&quot;,67,&quot;VOX&quot;,&quot;ALICE&quot;}</td></tr><tr><td>{&quot;Tom&quot;,28,&quot;ABC&quot;,&quot;TOM&quot;}</td></tr><tr><td>{&quot;Bob&quot;,49,&quot;KTL&quot;,&quot;BOB&quot;}</td></tr><tr><td>{&quot;Fun&quot;,23,&quot;Mazda&quot;,&quot;FUN&quot;}</td></tr></tbody></table></div>"
      ],
      "text/plain": [
       "shape: (5, 1)\n",
       "┌────────────────────────────┐\n",
       "│ person                     │\n",
       "│ ---                        │\n",
       "│ struct[4]                  │\n",
       "╞════════════════════════════╡\n",
       "│ {\"John\",31,\"ABC\",\"JOHN\"}   │\n",
       "│ {\"Alice\",67,\"VOX\",\"ALICE\"} │\n",
       "│ {\"Tom\",28,\"ABC\",\"TOM\"}     │\n",
       "│ {\"Bob\",49,\"KTL\",\"BOB\"}     │\n",
       "│ {\"Fun\",23,\"Mazda\",\"FUN\"}   │\n",
       "└────────────────────────────┘"
      ]
     },
     "execution_count": 52,
     "metadata": {},
     "output_type": "execute_result"
    }
   ],
   "source": [
    "df2 = df.select(\n",
    "    pl.col(\"person\").struct.with_fields(\n",
    "        pl.field(\"name\").str.to_uppercase().alias('name_upper'),\n",
    "        pl.field(\"car\").fill_null(\"Mazda\"),\n",
    "        pl.field(\"age\") + pl.col(\"num\")\n",
    "    )\n",
    ")\n",
    "df2"
   ]
  },
  {
   "cell_type": "markdown",
   "id": "28904e22-dba1-439e-afba-b0470d78b53f",
   "metadata": {},
   "source": [
    "`DataFrame.unnest()`は構造体列を複数の列に展開することができます。"
   ]
  },
  {
   "cell_type": "code",
   "execution_count": 53,
   "id": "442b87a4-a63c-432d-b590-ff3fec09d672",
   "metadata": {},
   "outputs": [
    {
     "data": {
      "text/html": [
       "<div><style>\n",
       ".dataframe > thead > tr,\n",
       ".dataframe > tbody > tr {\n",
       "  text-align: right;\n",
       "  white-space: pre-wrap;\n",
       "}\n",
       "</style>\n",
       "<small>shape: (5, 4)</small><table border=\"1\" class=\"dataframe\"><thead><tr><th>name</th><th>age</th><th>car</th><th>name_upper</th></tr><tr><td>str</td><td>i64</td><td>str</td><td>str</td></tr></thead><tbody><tr><td>&quot;John&quot;</td><td>31</td><td>&quot;ABC&quot;</td><td>&quot;JOHN&quot;</td></tr><tr><td>&quot;Alice&quot;</td><td>67</td><td>&quot;VOX&quot;</td><td>&quot;ALICE&quot;</td></tr><tr><td>&quot;Tom&quot;</td><td>28</td><td>&quot;ABC&quot;</td><td>&quot;TOM&quot;</td></tr><tr><td>&quot;Bob&quot;</td><td>49</td><td>&quot;KTL&quot;</td><td>&quot;BOB&quot;</td></tr><tr><td>&quot;Fun&quot;</td><td>23</td><td>&quot;Mazda&quot;</td><td>&quot;FUN&quot;</td></tr></tbody></table></div>"
      ],
      "text/plain": [
       "shape: (5, 4)\n",
       "┌───────┬─────┬───────┬────────────┐\n",
       "│ name  ┆ age ┆ car   ┆ name_upper │\n",
       "│ ---   ┆ --- ┆ ---   ┆ ---        │\n",
       "│ str   ┆ i64 ┆ str   ┆ str        │\n",
       "╞═══════╪═════╪═══════╪════════════╡\n",
       "│ John  ┆ 31  ┆ ABC   ┆ JOHN       │\n",
       "│ Alice ┆ 67  ┆ VOX   ┆ ALICE      │\n",
       "│ Tom   ┆ 28  ┆ ABC   ┆ TOM        │\n",
       "│ Bob   ┆ 49  ┆ KTL   ┆ BOB        │\n",
       "│ Fun   ┆ 23  ┆ Mazda ┆ FUN        │\n",
       "└───────┴─────┴───────┴────────────┘"
      ]
     },
     "execution_count": 53,
     "metadata": {},
     "output_type": "execute_result"
    }
   ],
   "source": [
    "df2.unnest('person')"
   ]
  },
  {
   "cell_type": "markdown",
   "id": "5ec9bfb2-be6a-4b5b-93cd-e00b33247d7b",
   "metadata": {},
   "source": [
    "### 出力は構造体の演算式"
   ]
  },
  {
   "cell_type": "markdown",
   "id": "49ad60f4-f39a-4831-a7bf-0a74d879a6e9",
   "metadata": {},
   "source": [
    "一部の演算式の出力は構造体になることがあります。例えば、`value_count()` は："
   ]
  },
  {
   "cell_type": "code",
   "execution_count": 54,
   "id": "e714c4a5-1d90-4136-bd61-0fedef9ee4c5",
   "metadata": {},
   "outputs": [
    {
     "name": "stdout",
     "output_type": "stream",
     "text": [
      "Schema({'car': Struct({'car': String, 'count': UInt32})})\n"
     ]
    },
    {
     "data": {
      "text/html": [
       "<div><style>\n",
       ".dataframe > thead > tr,\n",
       ".dataframe > tbody > tr {\n",
       "  text-align: right;\n",
       "  white-space: pre-wrap;\n",
       "}\n",
       "</style>\n",
       "<small>shape: (4, 1)</small><table border=\"1\" class=\"dataframe\"><thead><tr><th>car</th></tr><tr><td>struct[2]</td></tr></thead><tbody><tr><td>{&quot;Mazda&quot;,1}</td></tr><tr><td>{&quot;KTL&quot;,1}</td></tr><tr><td>{&quot;ABC&quot;,2}</td></tr><tr><td>{&quot;VOX&quot;,1}</td></tr></tbody></table></div>"
      ],
      "text/plain": [
       "shape: (4, 1)\n",
       "┌─────────────┐\n",
       "│ car         │\n",
       "│ ---         │\n",
       "│ struct[2]   │\n",
       "╞═════════════╡\n",
       "│ {\"Mazda\",1} │\n",
       "│ {\"KTL\",1}   │\n",
       "│ {\"ABC\",2}   │\n",
       "│ {\"VOX\",1}   │\n",
       "└─────────────┘"
      ]
     },
     "execution_count": 54,
     "metadata": {},
     "output_type": "execute_result"
    }
   ],
   "source": [
    "df_car_count = df2.select(pl.col(\"person\").struct.field(\"car\").value_counts())\n",
    "print(df_car_count.schema)\n",
    "df_car_count"
   ]
  },
  {
   "cell_type": "markdown",
   "id": "efd2b918-6e22-47d0-8ed8-1ad94c5bd2b1",
   "metadata": {},
   "source": [
    "### List または Array 列への変換\n",
    "\n",
    "次の方法で、構造体列を List 列または Array 列に変換できます。\n",
    "\n",
    "1. まず、`struct.field('*')` を使って全フィールドを選択するか、フィールド名のリストを指定して一部のフィールドを選択します。  \n",
    "2. 各フィールドのデータ型が異なる場合は、必要に応じて `cast()` を使い、最も上位のデータ型に変換します。  \n",
    "3. `concat_list()` または `concat_arr()` を使用して、1 つの List 列または Array 列に変換します。"
   ]
  },
  {
   "cell_type": "code",
   "execution_count": 55,
   "id": "f7d54c4a-4559-40fb-8963-f43dac7fa4be",
   "metadata": {},
   "outputs": [
    {
     "data": {
      "text/html": [
       "<div><style>\n",
       ".dataframe > thead > tr,\n",
       ".dataframe > tbody > tr {\n",
       "  text-align: right;\n",
       "  white-space: pre-wrap;\n",
       "}\n",
       "</style>\n",
       "<small>shape: (2, 4)</small><table border=\"1\" class=\"dataframe\"><thead><tr><th>point</th><th>point_list</th><th>point_list_2d</th><th>point_arr</th></tr><tr><td>struct[3]</td><td>list[f64]</td><td>list[f64]</td><td>array[f64, 3]</td></tr></thead><tbody><tr><td>{1.0,2,3}</td><td>[1.0, 2.0, 3.0]</td><td>[1.0, 2.0]</td><td>[1.0, 2.0, 3.0]</td></tr><tr><td>{4.0,5,6}</td><td>[4.0, 5.0, 6.0]</td><td>[4.0, 5.0]</td><td>[4.0, 5.0, 6.0]</td></tr></tbody></table></div>"
      ],
      "text/plain": [
       "shape: (2, 4)\n",
       "┌───────────┬─────────────────┬───────────────┬─────────────────┐\n",
       "│ point     ┆ point_list      ┆ point_list_2d ┆ point_arr       │\n",
       "│ ---       ┆ ---             ┆ ---           ┆ ---             │\n",
       "│ struct[3] ┆ list[f64]       ┆ list[f64]     ┆ array[f64, 3]   │\n",
       "╞═══════════╪═════════════════╪═══════════════╪═════════════════╡\n",
       "│ {1.0,2,3} ┆ [1.0, 2.0, 3.0] ┆ [1.0, 2.0]    ┆ [1.0, 2.0, 3.0] │\n",
       "│ {4.0,5,6} ┆ [4.0, 5.0, 6.0] ┆ [4.0, 5.0]    ┆ [4.0, 5.0, 6.0] │\n",
       "└───────────┴─────────────────┴───────────────┴─────────────────┘"
      ]
     },
     "execution_count": 55,
     "metadata": {},
     "output_type": "execute_result"
    }
   ],
   "source": [
    "df = pl.DataFrame(dict(\n",
    "    point=[{\"x\":1.0, \"y\":2, \"z\":3}, {\"x\":4.0, \"y\":5, \"z\":6}]\n",
    "))\n",
    "\n",
    "df2 = df.with_columns(\n",
    "    point_list=pl.concat_list(pl.col('point').struct.field('*').cast(pl.Float64)),\n",
    "    point_list_2d=pl.concat_list(pl.col('point').struct.field('x', 'y').cast(pl.Float64)),\n",
    "    point_arr=pl.concat_arr(pl.col('point').struct.field('*').cast(pl.Float64)),\n",
    ")\n",
    "df2"
   ]
  },
  {
   "cell_type": "markdown",
   "id": "c902ae43-ccbc-46e0-a8d2-1466881533ab",
   "metadata": {},
   "source": [
    "### 複数の列を一緒に処理"
   ]
  },
  {
   "cell_type": "markdown",
   "id": "2437393c-c3b3-432a-918d-605cf4d8fad9",
   "metadata": {},
   "source": [
    "複数の列を一緒に処理するには、構造体を利用すると便利です。たとえば、次のコードでは、`A`と`B`列の値が同じ行に対して、最初の行だけを残します。"
   ]
  },
  {
   "cell_type": "code",
   "execution_count": 56,
   "id": "5b672eae-1a7d-4186-8ebe-dd24dc15bc75",
   "metadata": {},
   "outputs": [
    {
     "data": {
      "text/html": [
       "<div><style>\n",
       ".dataframe > thead > tr,\n",
       ".dataframe > tbody > tr {\n",
       "  text-align: right;\n",
       "  white-space: pre-wrap;\n",
       "}\n",
       "</style>\n",
       "<small>shape: (3, 3)</small><table border=\"1\" class=\"dataframe\"><thead><tr><th>A</th><th>B</th><th>C</th></tr><tr><td>i64</td><td>i64</td><td>i64</td></tr></thead><tbody><tr><td>1</td><td>2</td><td>1</td></tr><tr><td>2</td><td>4</td><td>2</td></tr><tr><td>2</td><td>5</td><td>4</td></tr></tbody></table></div>"
      ],
      "text/plain": [
       "shape: (3, 3)\n",
       "┌─────┬─────┬─────┐\n",
       "│ A   ┆ B   ┆ C   │\n",
       "│ --- ┆ --- ┆ --- │\n",
       "│ i64 ┆ i64 ┆ i64 │\n",
       "╞═════╪═════╪═════╡\n",
       "│ 1   ┆ 2   ┆ 1   │\n",
       "│ 2   ┆ 4   ┆ 2   │\n",
       "│ 2   ┆ 5   ┆ 4   │\n",
       "└─────┴─────┴─────┘"
      ]
     },
     "execution_count": 56,
     "metadata": {},
     "output_type": "execute_result"
    }
   ],
   "source": [
    "df = pl.DataFrame(\n",
    "    dict(\n",
    "        A = [1, 2, 1, 2, 1, 2],\n",
    "        B = [2, 4, 2, 5, 2, 4],\n",
    "        C = [1, 2, 3, 4, 5, 6]\n",
    "    )\n",
    ")\n",
    "\n",
    "df.filter(\n",
    "    pl.struct('A', 'B').is_first_distinct()\n",
    ")"
   ]
  },
  {
   "cell_type": "markdown",
   "id": "8321c1d5-5653-4a4b-9bf1-47db86973e8e",
   "metadata": {},
   "source": [
    "上のコードは、`DataFrame.unique()`と同じ結果を得られます。"
   ]
  },
  {
   "cell_type": "code",
   "execution_count": 57,
   "id": "6db88df8-0c3f-4a66-9ae6-69bdd80d8a44",
   "metadata": {},
   "outputs": [
    {
     "data": {
      "text/html": [
       "<div><style>\n",
       ".dataframe > thead > tr,\n",
       ".dataframe > tbody > tr {\n",
       "  text-align: right;\n",
       "  white-space: pre-wrap;\n",
       "}\n",
       "</style>\n",
       "<small>shape: (3, 3)</small><table border=\"1\" class=\"dataframe\"><thead><tr><th>A</th><th>B</th><th>C</th></tr><tr><td>i64</td><td>i64</td><td>i64</td></tr></thead><tbody><tr><td>1</td><td>2</td><td>1</td></tr><tr><td>2</td><td>4</td><td>2</td></tr><tr><td>2</td><td>5</td><td>4</td></tr></tbody></table></div>"
      ],
      "text/plain": [
       "shape: (3, 3)\n",
       "┌─────┬─────┬─────┐\n",
       "│ A   ┆ B   ┆ C   │\n",
       "│ --- ┆ --- ┆ --- │\n",
       "│ i64 ┆ i64 ┆ i64 │\n",
       "╞═════╪═════╪═════╡\n",
       "│ 1   ┆ 2   ┆ 1   │\n",
       "│ 2   ┆ 4   ┆ 2   │\n",
       "│ 2   ┆ 5   ┆ 4   │\n",
       "└─────┴─────┴─────┘"
      ]
     },
     "execution_count": 57,
     "metadata": {},
     "output_type": "execute_result"
    }
   ],
   "source": [
    "df.unique(['A', 'B'], maintain_order=True, keep='first')"
   ]
  },
  {
   "cell_type": "markdown",
   "id": "37ce7444-d4c7-4e30-9134-d06e1996bd09",
   "metadata": {},
   "source": [
    "`pl.when().then().otherwise()` で同じ条件に基づいて複数の演算式を計算する際は、次のように構造体を使うことでコードを短くできます。\n",
    "\n",
    "次のコードでは、`A`列の値に基づいて`B`と`C`列の値を操作します。\n",
    "\n",
    "* `A`列の値は`1`の場合は、`B`列の値に`10`を加算し、`C`列の値に`100`を加算します。\n",
    "* `A`列の値は`1`ではない場合は、`B`列から`10`を減算し、`C`列から`100`を減算します。\n",
    "\n",
    "`pl.struct()`で複数の演算式を一つの構造体に纏め、最後に`.struct.field()`で構造体のフィールドを列に戻ります。"
   ]
  },
  {
   "cell_type": "code",
   "execution_count": 58,
   "id": "41fe83d7-fe0b-45e0-9e24-b564acb18d66",
   "metadata": {},
   "outputs": [
    {
     "data": {
      "text/html": [
       "<div><style>\n",
       ".dataframe > thead > tr,\n",
       ".dataframe > tbody > tr {\n",
       "  text-align: right;\n",
       "  white-space: pre-wrap;\n",
       "}\n",
       "</style>\n",
       "<small>shape: (6, 3)</small><table border=\"1\" class=\"dataframe\"><thead><tr><th>A</th><th>B</th><th>C</th></tr><tr><td>i64</td><td>i64</td><td>i64</td></tr></thead><tbody><tr><td>1</td><td>12</td><td>101</td></tr><tr><td>2</td><td>-6</td><td>-98</td></tr><tr><td>1</td><td>12</td><td>103</td></tr><tr><td>2</td><td>-5</td><td>-96</td></tr><tr><td>1</td><td>12</td><td>105</td></tr><tr><td>2</td><td>-6</td><td>-94</td></tr></tbody></table></div>"
      ],
      "text/plain": [
       "shape: (6, 3)\n",
       "┌─────┬─────┬─────┐\n",
       "│ A   ┆ B   ┆ C   │\n",
       "│ --- ┆ --- ┆ --- │\n",
       "│ i64 ┆ i64 ┆ i64 │\n",
       "╞═════╪═════╪═════╡\n",
       "│ 1   ┆ 12  ┆ 101 │\n",
       "│ 2   ┆ -6  ┆ -98 │\n",
       "│ 1   ┆ 12  ┆ 103 │\n",
       "│ 2   ┆ -5  ┆ -96 │\n",
       "│ 1   ┆ 12  ┆ 105 │\n",
       "│ 2   ┆ -6  ┆ -94 │\n",
       "└─────┴─────┴─────┘"
      ]
     },
     "execution_count": 58,
     "metadata": {},
     "output_type": "execute_result"
    }
   ],
   "source": [
    "df.with_columns(\n",
    "    pl.when(pl.col('A') == 1)\n",
    "    .then(\n",
    "        pl.struct(\n",
    "            pl.col('B') + 10, \n",
    "            pl.col('C') + 100\n",
    "        )\n",
    "    )\n",
    "    .otherwise(\n",
    "         pl.struct(\n",
    "             pl.col('B') - 10, \n",
    "             pl.col('C') - 100\n",
    "         )   \n",
    "    )\n",
    "    .struct.field('B', 'C')\n",
    ")"
   ]
  }
 ],
 "metadata": {
  "kernelspec": {
   "display_name": "Python 3 (ipykernel)",
   "language": "python",
   "name": "python3"
  },
  "language_info": {
   "codemirror_mode": {
    "name": "ipython",
    "version": 3
   },
   "file_extension": ".py",
   "mimetype": "text/x-python",
   "name": "python",
   "nbconvert_exporter": "python",
   "pygments_lexer": "ipython3",
   "version": "3.12.2"
  }
 },
 "nbformat": 4,
 "nbformat_minor": 5
}

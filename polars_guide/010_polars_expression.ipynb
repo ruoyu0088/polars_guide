{
 "cells": [
  {
   "cell_type": "markdown",
   "id": "293d1723-2d36-4cc6-96f9-0114a723bc65",
   "metadata": {},
   "source": [
    "(expression)=\n",
    "# 演算式"
   ]
  },
  {
   "cell_type": "markdown",
   "id": "8d2b8282-a1ab-4421-9a4c-cee1de3c0942",
   "metadata": {},
   "source": [
    "演算式（またはエクスプレッション）は、データフレームの操作や変換を行うための重要な要素です。Polarsの演算式は、データフレーム内の各列に対して適用される計算や操作を定義します。"
   ]
  },
  {
   "cell_type": "code",
   "execution_count": 2,
   "id": "357b1d7c-2b16-4e03-9cde-0cab19c67baa",
   "metadata": {},
   "outputs": [],
   "source": [
    "import polars as pl\n",
    "import numpy as np\n",
    "from polars import selectors as cs\n",
    "from helper.jupyter import row, capture_except"
   ]
  },
  {
   "cell_type": "markdown",
   "id": "aae1e83a-e252-488d-810f-96700543def8",
   "metadata": {},
   "source": [
    "## 演算式を使用するメソッド"
   ]
  },
  {
   "cell_type": "markdown",
   "id": "29c49d06-97ea-4656-b8d8-3c5cad9b8e1b",
   "metadata": {},
   "source": [
    "演算式はさまざまな場面で使用されています。本節では、特によく使われる以下の三つのメソッドについて簡単に説明します。演算式の詳細については後の節で解説します。\n",
    "\n",
    "- `select`, `select_seq`: 必要な列を選択したり、計算結果のみを取得します。\n",
    "- `with_columns`, `with_columns_seq`: 新しい列を追加したり、既存の列を変換します。\n",
    "- `filter`: 条件を満たす行を抽出します。\n",
    "\n",
    "これらのメソッドはすべて、元のデータフレームを変更せず、新しいデータフレームを返します。"
   ]
  },
  {
   "cell_type": "markdown",
   "id": "8641368f-063b-4cde-b972-aeb5e8a890b7",
   "metadata": {},
   "source": [
    "### select\n",
    "\n",
    "`DataFrame.select()` は、データフレームから特定の列を選択したり、新しい列を計算した結果を取得するためのメソッドです。`select()` の引数として渡した各演算式が、結果のデータフレーム内の列として表現されます。演算式はリスト、位置引数、またはキーワード引数で指定できます。\n",
    "\n",
    "`select()` と `select_seq()` の両方とも、元のデータフレームのデータを利用して演算式を計算します。ただし、`select()` は並列で演算式を計算するのに対し、`select_seq()` は演算式を順番に計算します。\n",
    "\n",
    "以下の例では、`select()` および `select_seq()` の使用例を示します。"
   ]
  },
  {
   "cell_type": "code",
   "execution_count": 2,
   "id": "75a825f8-0ae7-4411-ac32-22c76b2d4e13",
   "metadata": {},
   "outputs": [
    {
     "data": {
      "text/html": [
       "<table><tr><td><div><style>\n",
       ".dataframe > thead > tr,\n",
       ".dataframe > tbody > tr {\n",
       "  text-align: right;\n",
       "  white-space: pre-wrap;\n",
       "}\n",
       "</style>\n",
       "<small>shape: (3, 3)</small><table border=\"1\" class=\"dataframe\"><thead><tr><th>a</th><th>b</th><th>c</th></tr><tr><td>i64</td><td>i64</td><td>i64</td></tr></thead><tbody><tr><td>1</td><td>4</td><td>7</td></tr><tr><td>2</td><td>5</td><td>8</td></tr><tr><td>3</td><td>6</td><td>9</td></tr></tbody></table></div></td><td><div><style>\n",
       ".dataframe > thead > tr,\n",
       ".dataframe > tbody > tr {\n",
       "  text-align: right;\n",
       "  white-space: pre-wrap;\n",
       "}\n",
       "</style>\n",
       "<small>shape: (3, 2)</small><table border=\"1\" class=\"dataframe\"><thead><tr><th>a</th><th>c</th></tr><tr><td>i64</td><td>i64</td></tr></thead><tbody><tr><td>1</td><td>14</td></tr><tr><td>2</td><td>16</td></tr><tr><td>3</td><td>18</td></tr></tbody></table></div></td><td><div><style>\n",
       ".dataframe > thead > tr,\n",
       ".dataframe > tbody > tr {\n",
       "  text-align: right;\n",
       "  white-space: pre-wrap;\n",
       "}\n",
       "</style>\n",
       "<small>shape: (3, 2)</small><table border=\"1\" class=\"dataframe\"><thead><tr><th>a</th><th>c</th></tr><tr><td>i64</td><td>i64</td></tr></thead><tbody><tr><td>1</td><td>14</td></tr><tr><td>2</td><td>16</td></tr><tr><td>3</td><td>18</td></tr></tbody></table></div></td><td><div><style>\n",
       ".dataframe > thead > tr,\n",
       ".dataframe > tbody > tr {\n",
       "  text-align: right;\n",
       "  white-space: pre-wrap;\n",
       "}\n",
       "</style>\n",
       "<small>shape: (3, 2)</small><table border=\"1\" class=\"dataframe\"><thead><tr><th>a</th><th>a_plus_c</th></tr><tr><td>i64</td><td>i64</td></tr></thead><tbody><tr><td>2</td><td>8</td></tr><tr><td>4</td><td>10</td></tr><tr><td>6</td><td>12</td></tr></tbody></table></div></td></tr></table>"
      ]
     },
     "metadata": {},
     "output_type": "display_data"
    }
   ],
   "source": [
    "df = pl.DataFrame({\n",
    "    \"a\": [1, 2, 3],\n",
    "    \"b\": [4, 5, 6],\n",
    "    \"c\": [7, 8, 9]\n",
    "})\n",
    "\n",
    "df1 = df.select([\"a\", pl.col(\"c\") * 2])\n",
    "df2 = df.select(\"a\", pl.col(\"c\") * 2)\n",
    "df3 = df.select_seq(\n",
    "    a = pl.col(\"a\") * 2,         # \"a\" を2倍\n",
    "    a_plus_c = pl.col(\"a\") + pl.col(\"c\") #❶\n",
    ") \n",
    "row(df, df1, df2, df3)"
   ]
  },
  {
   "cell_type": "markdown",
   "id": "c8ea4980-d7ce-4d21-b428-4d999cf407fc",
   "metadata": {},
   "source": [
    "❶ 上記の例では、`select_seq()` で`a_plus_c`列の計算に使用する `pl.col(\"a\")`は、元データの`a`列を参照しています。この計算は、`a` 列を2倍した結果ではなく、元のデータを基に行われます。"
   ]
  },
  {
   "cell_type": "markdown",
   "id": "d468d914-0909-4ace-8254-734af30d3c0b",
   "metadata": {},
   "source": [
    "### with_columns\n",
    "\n",
    "`DataFrame.with_columns()` は、`DataFrame.select()` と似た使い方をしますが、計算によって生成された新しい列を元の列と一緒に返します。これにより、既存のデータフレームに新しい列を追加するような操作が可能です。\n",
    "\n",
    "以下の例では、`with_columns()` を使った列の追加方法を示しています。`df1` に新しい列 `a_plus_b` と `const` が追加され、`df2` では既存の `a` 列が更新され、新しい列 `a_plus_c` が追加されています。"
   ]
  },
  {
   "cell_type": "code",
   "execution_count": 3,
   "id": "0cb1291f-8b64-4646-aa25-56a4c50459b9",
   "metadata": {},
   "outputs": [
    {
     "data": {
      "text/html": [
       "<table><tr><td><div><style>\n",
       ".dataframe > thead > tr,\n",
       ".dataframe > tbody > tr {\n",
       "  text-align: right;\n",
       "  white-space: pre-wrap;\n",
       "}\n",
       "</style>\n",
       "<small>shape: (3, 5)</small><table border=\"1\" class=\"dataframe\"><thead><tr><th>a</th><th>b</th><th>c</th><th>a_plus_b</th><th>const</th></tr><tr><td>i64</td><td>i64</td><td>i64</td><td>i64</td><td>i32</td></tr></thead><tbody><tr><td>1</td><td>4</td><td>7</td><td>5</td><td>10</td></tr><tr><td>2</td><td>5</td><td>8</td><td>7</td><td>10</td></tr><tr><td>3</td><td>6</td><td>9</td><td>9</td><td>10</td></tr></tbody></table></div></td><td><div><style>\n",
       ".dataframe > thead > tr,\n",
       ".dataframe > tbody > tr {\n",
       "  text-align: right;\n",
       "  white-space: pre-wrap;\n",
       "}\n",
       "</style>\n",
       "<small>shape: (3, 4)</small><table border=\"1\" class=\"dataframe\"><thead><tr><th>a</th><th>b</th><th>c</th><th>a_plus_c</th></tr><tr><td>i64</td><td>i64</td><td>i64</td><td>i64</td></tr></thead><tbody><tr><td>2</td><td>4</td><td>7</td><td>8</td></tr><tr><td>4</td><td>5</td><td>8</td><td>10</td></tr><tr><td>6</td><td>6</td><td>9</td><td>12</td></tr></tbody></table></div></td></tr></table>"
      ]
     },
     "metadata": {},
     "output_type": "display_data"
    }
   ],
   "source": [
    "df1 = df.with_columns(\n",
    "    a_plus_b = pl.col(\"a\") + pl.col(\"b\"),  # \"a\" + \"b\" の列を追加\n",
    "    const = 10  # 定数列を追加\n",
    ")\n",
    "\n",
    "df2 = df.with_columns(\n",
    "    a = pl.col(\"a\") * 2,\n",
    "    a_plus_c = pl.col(\"a\") + pl.col(\"c\")\n",
    ")\n",
    "\n",
    "row(df1, df2)"
   ]
  },
  {
   "cell_type": "markdown",
   "id": "5540153d-1259-4ac2-91c5-50ab6bf0a09a",
   "metadata": {},
   "source": [
    "### filter\n",
    "\n",
    "`DataFrame.filter()` は、指定した演算式がブール値を返す条件に基づいて、`True` に合致する行をフィルタリングして返します。以下は、`filter()` を使用した例です。"
   ]
  },
  {
   "cell_type": "code",
   "execution_count": 4,
   "id": "a8471aab-ec22-462e-a69f-5dfa789e397d",
   "metadata": {},
   "outputs": [
    {
     "data": {
      "text/html": [
       "<table><tr><td><div><style>\n",
       ".dataframe > thead > tr,\n",
       ".dataframe > tbody > tr {\n",
       "  text-align: right;\n",
       "  white-space: pre-wrap;\n",
       "}\n",
       "</style>\n",
       "<small>shape: (3, 3)</small><table border=\"1\" class=\"dataframe\"><thead><tr><th>a</th><th>b</th><th>c</th></tr><tr><td>i64</td><td>i64</td><td>i64</td></tr></thead><tbody><tr><td>1</td><td>4</td><td>7</td></tr><tr><td>2</td><td>5</td><td>8</td></tr><tr><td>3</td><td>6</td><td>9</td></tr></tbody></table></div></td><td><div><style>\n",
       ".dataframe > thead > tr,\n",
       ".dataframe > tbody > tr {\n",
       "  text-align: right;\n",
       "  white-space: pre-wrap;\n",
       "}\n",
       "</style>\n",
       "<small>shape: (2, 3)</small><table border=\"1\" class=\"dataframe\"><thead><tr><th>a</th><th>b</th><th>c</th></tr><tr><td>i64</td><td>i64</td><td>i64</td></tr></thead><tbody><tr><td>2</td><td>5</td><td>8</td></tr><tr><td>3</td><td>6</td><td>9</td></tr></tbody></table></div></td><td><div><style>\n",
       ".dataframe > thead > tr,\n",
       ".dataframe > tbody > tr {\n",
       "  text-align: right;\n",
       "  white-space: pre-wrap;\n",
       "}\n",
       "</style>\n",
       "<small>shape: (1, 3)</small><table border=\"1\" class=\"dataframe\"><thead><tr><th>a</th><th>b</th><th>c</th></tr><tr><td>i64</td><td>i64</td><td>i64</td></tr></thead><tbody><tr><td>2</td><td>5</td><td>8</td></tr></tbody></table></div></td><td><div><style>\n",
       ".dataframe > thead > tr,\n",
       ".dataframe > tbody > tr {\n",
       "  text-align: right;\n",
       "  white-space: pre-wrap;\n",
       "}\n",
       "</style>\n",
       "<small>shape: (2, 3)</small><table border=\"1\" class=\"dataframe\"><thead><tr><th>a</th><th>b</th><th>c</th></tr><tr><td>i64</td><td>i64</td><td>i64</td></tr></thead><tbody><tr><td>1</td><td>4</td><td>7</td></tr><tr><td>3</td><td>6</td><td>9</td></tr></tbody></table></div></td><td><div><style>\n",
       ".dataframe > thead > tr,\n",
       ".dataframe > tbody > tr {\n",
       "  text-align: right;\n",
       "  white-space: pre-wrap;\n",
       "}\n",
       "</style>\n",
       "<small>shape: (1, 3)</small><table border=\"1\" class=\"dataframe\"><thead><tr><th>a</th><th>b</th><th>c</th></tr><tr><td>i64</td><td>i64</td><td>i64</td></tr></thead><tbody><tr><td>2</td><td>5</td><td>8</td></tr></tbody></table></div></td></tr></table>"
      ]
     },
     "metadata": {},
     "output_type": "display_data"
    }
   ],
   "source": [
    "df1 = df.filter(pl.col(\"a\") > 1)  # \"a\" > 1 の行を選択\n",
    "df2 = df.filter((pl.col(\"a\") > 1) & (pl.col(\"b\") < 6)) # 条件のAND\n",
    "df3 = df.filter((pl.col(\"a\") >= 3) |  (pl.col(\"b\") <= 4)) # 条件のOR\n",
    "df4 = df.filter(pl.col(\"a\") > 1, pl.col(\"b\") < 6) # 複数の式の場合は &で結合と同じ\n",
    "row(df, df1, df2, df3, df4)"
   ]
  },
  {
   "cell_type": "markdown",
   "id": "ed6443f9-0160-44fb-816e-99223316e826",
   "metadata": {},
   "source": [
    "## 列の選択\n",
    "\n",
    "ほとんどの演算式は列の選択文から始まります。データフレーム内の列を選択するための方法はいくつかあり、それぞれ異なる用途や状況に適しています。以下に、それぞれの方法について詳しく説明します。\n",
    "\n",
    "* `pl.col()`: 列名やデータ型で列を選択します。\n",
    "* `pl.nth()`: N番目の列を選択します。\n",
    "* `pl.selectors`: 複雑なロジックで列を選択します。"
   ]
  },
  {
   "cell_type": "markdown",
   "id": "379a8e3e-7194-44ea-b6a6-5be2fb7317b3",
   "metadata": {},
   "source": [
    "### pl.col()"
   ]
  },
  {
   "cell_type": "markdown",
   "id": "58c27bb5-5015-4bbd-a4d3-5d070dc69651",
   "metadata": {},
   "source": [
    "`pl.col()` は、特定の列名や列のデータ型に基づいて列を選択するために使用されます。\n",
    "\n",
    "- **列名での選択:**\n",
    "  列名を指定してその列を選択します。列名は文字列として指定します。"
   ]
  },
  {
   "cell_type": "code",
   "execution_count": 5,
   "id": "bac3933c-699f-48f3-b318-0f6eb129ffaa",
   "metadata": {},
   "outputs": [
    {
     "name": "stdout",
     "output_type": "stream",
     "text": [
      "['a']\n"
     ]
    }
   ],
   "source": [
    "df = pl.DataFrame({\n",
    "    \"a\": [1], \"b\": [4.0], \"c\": [7], \"x1\":[10.0], \"y1\":[20.0], \"x2\":[4], \"y2\":[10], \"xyz\":[10.0]})\n",
    "selected_df = df.select(pl.col(\"a\"))\n",
    "print(selected_df.columns)"
   ]
  },
  {
   "cell_type": "markdown",
   "id": "b4698331-acfc-49b3-8647-daf38479bc08",
   "metadata": {},
   "source": [
    "- **複数の列名での選択:**\n",
    "  リストで複数の列名を指定することも可能です。"
   ]
  },
  {
   "cell_type": "code",
   "execution_count": 6,
   "id": "b47d2d30-7010-4104-9dca-a9a1fc0c6600",
   "metadata": {},
   "outputs": [
    {
     "name": "stdout",
     "output_type": "stream",
     "text": [
      "['a', 'b']\n"
     ]
    }
   ],
   "source": [
    "selected_df = df.select(pl.col([\"a\", \"b\"]))\n",
    "print(selected_df.columns)"
   ]
  },
  {
   "cell_type": "markdown",
   "id": "11d4ff03-d903-4f2a-a11f-6aeaa7695c94",
   "metadata": {},
   "source": [
    "- **データ型での選択:**\n",
    "  データ型を指定して、そのデータ型を持つ全ての列を選択することもできます。\n",
    "  "
   ]
  },
  {
   "cell_type": "code",
   "execution_count": 7,
   "id": "e85b185c-e6db-41d5-9e1c-ade8c2727243",
   "metadata": {},
   "outputs": [
    {
     "name": "stdout",
     "output_type": "stream",
     "text": [
      "['a', 'c', 'x2', 'y2']\n"
     ]
    }
   ],
   "source": [
    "selected_df = df.select(pl.col(pl.Int64))\n",
    "print(selected_df.columns)"
   ]
  },
  {
   "cell_type": "markdown",
   "id": "2980d77f-350c-4500-9ff5-2d10fde448b6",
   "metadata": {},
   "source": [
    "### pl.nth()"
   ]
  },
  {
   "cell_type": "markdown",
   "id": "9709e766-6800-41c5-84b1-1b9529aee6a6",
   "metadata": {},
   "source": [
    "`pl.nth()` は、データフレーム内の N 番目の列を選択するために使用されます。インデックスは 0 から始まります。\n",
    "\n",
    "- **N番目の列の選択:**\n",
    "  インデックスを指定して、そのインデックスに対応する列を選択します。\n",
    "\n",
    "  "
   ]
  },
  {
   "cell_type": "code",
   "execution_count": 8,
   "id": "b81de563-59db-4ed3-b7fa-d7d50f5deb18",
   "metadata": {},
   "outputs": [
    {
     "name": "stdout",
     "output_type": "stream",
     "text": [
      "['a']\n"
     ]
    }
   ],
   "source": [
    "selected_df = df.select(pl.nth(0))\n",
    "print(selected_df.columns)"
   ]
  },
  {
   "cell_type": "markdown",
   "id": "7fbbfd2c-86a6-493d-a12d-78e48cf195e6",
   "metadata": {},
   "source": [
    "- **複数のインデックスでの選択:**\n",
    "  複数のインデックスをリストで指定して、それらに対応する列を選択することも可能です。  "
   ]
  },
  {
   "cell_type": "code",
   "execution_count": 9,
   "id": "4102e9c6-62a6-4e03-a88e-854fe777276e",
   "metadata": {},
   "outputs": [
    {
     "name": "stdout",
     "output_type": "stream",
     "text": [
      "['a', 'c']\n"
     ]
    }
   ],
   "source": [
    "selected_df = df.select(pl.nth([0, 2]))\n",
    "print(selected_df.columns)"
   ]
  },
  {
   "cell_type": "markdown",
   "id": "933ae78f-0a95-4acc-b111-a4ea90837f56",
   "metadata": {},
   "source": [
    "### pl.all()\n",
    "\n",
    "`pl.all()` 関数はデータフレーム内のすべての列を選択するために使用されます。これは、データフレーム全体を操作したい場合や他の選択条件と組み合わせて使用するのに便利です。"
   ]
  },
  {
   "cell_type": "code",
   "execution_count": 10,
   "id": "f740e907-65f5-4e40-bb30-801bb142521a",
   "metadata": {},
   "outputs": [
    {
     "name": "stdout",
     "output_type": "stream",
     "text": [
      "['a', 'b', 'c', 'x1', 'y1', 'x2', 'y2', 'xyz']\n"
     ]
    }
   ],
   "source": [
    "selected_df = df.select(pl.all())\n",
    "print(selected_df.columns)"
   ]
  },
  {
   "cell_type": "markdown",
   "id": "fde1e479-752a-48ec-b9aa-99721f095474",
   "metadata": {},
   "source": [
    "### pl.exclude()\n",
    "`pl.exclude()`関数は指定した列を除外するために使用されます。これにより、特定の列を除いたデータフレームを簡単に作成できます。"
   ]
  },
  {
   "cell_type": "markdown",
   "id": "41675ed6-e76e-46ff-910a-aa8c46b28ca3",
   "metadata": {},
   "source": [
    "- **特定の列を除外:**"
   ]
  },
  {
   "cell_type": "code",
   "execution_count": 11,
   "id": "b9aebfac-22e2-4fdd-b593-d45294f71bc8",
   "metadata": {},
   "outputs": [
    {
     "name": "stdout",
     "output_type": "stream",
     "text": [
      "['a', 'c', 'x1', 'y1', 'x2', 'y2', 'xyz']\n"
     ]
    }
   ],
   "source": [
    "selected_df = df.select(pl.exclude(\"b\"))\n",
    "print(selected_df.columns)"
   ]
  },
  {
   "cell_type": "markdown",
   "id": "9d329f16-e4a0-484a-ac77-6f736278e247",
   "metadata": {},
   "source": [
    "- **複数の列を除外:**"
   ]
  },
  {
   "cell_type": "code",
   "execution_count": 12,
   "id": "1ae0ae4c-f9fc-4c56-af86-3898a8857c4f",
   "metadata": {},
   "outputs": [
    {
     "name": "stdout",
     "output_type": "stream",
     "text": [
      "['b', 'x1', 'y1', 'x2', 'y2', 'xyz']\n"
     ]
    }
   ],
   "source": [
    "selected_df = df.select(pl.exclude([\"a\", \"c\"]))\n",
    "print(selected_df.columns)"
   ]
  },
  {
   "cell_type": "markdown",
   "id": "e68670fc-4e54-4935-b135-0e74921b9231",
   "metadata": {},
   "source": [
    "### selectors"
   ]
  },
  {
   "cell_type": "markdown",
   "id": "756b9187-a587-4150-a273-cbf04da0b222",
   "metadata": {},
   "source": [
    "`polars.selectors` (imported as `cs`) モジュールは、Polarsでデータフレームの列を選択するための高度な機能を提供します。これを使用すると、特定の条件に基づいて列を簡単に選択することができます。以下に、主要な関数とその使用方法について説明します。"
   ]
  },
  {
   "cell_type": "markdown",
   "id": "dcea8d4b-cfcf-43ae-b5db-cda7ebc77014",
   "metadata": {},
   "source": [
    "#### データ型で列を選択\n",
    "\n",
    "`cs.by_dtype()`で特定のデータ型に基づいて列を選択します。"
   ]
  },
  {
   "cell_type": "code",
   "execution_count": 13,
   "id": "8aa36e58-db59-41f0-8db5-6037985d2daf",
   "metadata": {},
   "outputs": [
    {
     "name": "stdout",
     "output_type": "stream",
     "text": [
      "['a', 'c', 'x2', 'y2']\n"
     ]
    }
   ],
   "source": [
    "selected_df = df.select(cs.by_dtype(pl.Int64))\n",
    "print(selected_df.columns)"
   ]
  },
  {
   "cell_type": "markdown",
   "id": "dfb4fe9b-4094-4603-ac0c-f2bb6a989377",
   "metadata": {},
   "source": [
    "`cs.integer()` は、データフレーム内のすべての整数型の列を選択するために使用されます。Polars では、整数型には `Int8`, `Int16`, `Int32`, `Int64`, `UInt8`, `UInt16`, `UInt32`, `UInt64` などが含まれます。\n",
    "\n",
    "`cs.float()` は、データフレーム内のすべての浮動小数点型の列を選択するために使用されます。Polars では、浮動小数点型には `Float32` と `Float64` があります。"
   ]
  },
  {
   "cell_type": "code",
   "execution_count": 14,
   "id": "5616efeb-9672-4391-8915-225636f1626e",
   "metadata": {},
   "outputs": [
    {
     "name": "stdout",
     "output_type": "stream",
     "text": [
      "['a', 'c', 'x2', 'y2']\n"
     ]
    }
   ],
   "source": [
    "selected_df = df.select(cs.integer())\n",
    "print(selected_df.columns)"
   ]
  },
  {
   "cell_type": "code",
   "execution_count": 15,
   "id": "827eecce-8758-44a4-8756-d5c6257a3966",
   "metadata": {},
   "outputs": [
    {
     "name": "stdout",
     "output_type": "stream",
     "text": [
      "['b', 'x1', 'y1', 'xyz']\n"
     ]
    }
   ],
   "source": [
    "selected_df = df.select(cs.float())\n",
    "print(selected_df.columns)"
   ]
  },
  {
   "cell_type": "markdown",
   "id": "db5cb52f-2277-4239-a83a-6a17968fa3c7",
   "metadata": {},
   "source": [
    "#### `cs.by_name()`\n",
    "正規表現で特定の名前パターンに基づいて列を選択します。"
   ]
  },
  {
   "cell_type": "code",
   "execution_count": 16,
   "id": "efdcb21c-ef03-4e61-91f4-ffa6a3965db4",
   "metadata": {},
   "outputs": [
    {
     "name": "stdout",
     "output_type": "stream",
     "text": [
      "['x1', 'y1', 'x2', 'y2', 'xyz']\n"
     ]
    }
   ],
   "source": [
    "selected_df = df.select(cs.by_name(\"^x|y\\d$\"))\n",
    "print(selected_df.columns)"
   ]
  },
  {
   "cell_type": "markdown",
   "id": "0b3c1ec8-77eb-475c-a25a-7a4876f1d941",
   "metadata": {},
   "source": [
    "#### `cs.starts_with()`と`cs.ends_with()`\n",
    "特定の接頭辞と接尾辞を持つ列を選択します。"
   ]
  },
  {
   "cell_type": "code",
   "execution_count": 17,
   "id": "fe3d23f8-8261-4284-8c45-78ee2d32505a",
   "metadata": {},
   "outputs": [
    {
     "name": "stdout",
     "output_type": "stream",
     "text": [
      "['x1', 'x2', 'xyz']\n"
     ]
    }
   ],
   "source": [
    "selected_df = df.select(cs.starts_with(\"x\"))\n",
    "print(selected_df.columns)"
   ]
  },
  {
   "cell_type": "code",
   "execution_count": 18,
   "id": "d484cfef-6262-4748-89e8-130254add8ac",
   "metadata": {},
   "outputs": [
    {
     "name": "stdout",
     "output_type": "stream",
     "text": [
      "['x1', 'y1']\n"
     ]
    }
   ],
   "source": [
    "selected_df = df.select(cs.ends_with(\"1\"))\n",
    "print(selected_df.columns)"
   ]
  },
  {
   "cell_type": "markdown",
   "id": "c58d7377-1446-40a6-ad70-2d6e6d9bc01c",
   "metadata": {},
   "source": [
    "#### 集合演算\n",
    "\n",
    "上で説明した関数を組み合わせて、以下のような集合演算を行うことができます。\n",
    "\n",
    "* 結合（`|`）: 複数の列選択を結合して、選択範囲を広げます。例えば、特定の列とすべての列の組み合わせを選択することができます。\n",
    "* 差集合（`-`）: 特定の列を除外するために使用します。例えば、すべての列から特定の列を除外します。\n",
    "* 交差（`&`）: 複数の条件に一致する列を選択します。例えば、特定のパターンに一致し、特定のデータ型を持つ列を選択します。\n",
    "* 補集合（`~`）: 特定の条件に一致しない列を選択します。例えば、特定のパターンに一致しない列を選択します。"
   ]
  },
  {
   "cell_type": "markdown",
   "id": "155ae01b-def2-4438-9ba9-493129b4b51d",
   "metadata": {},
   "source": [
    "次の選択文は、'x'で始まる列を選択し、その中から'2'で終わる列を除外しています。"
   ]
  },
  {
   "cell_type": "code",
   "execution_count": 19,
   "id": "aaac675f-b0df-4bdd-8a24-3fb5313edfb2",
   "metadata": {},
   "outputs": [
    {
     "name": "stdout",
     "output_type": "stream",
     "text": [
      "['x1', 'xyz']\n"
     ]
    }
   ],
   "source": [
    "selected_df = df.select(cs.starts_with('x') - cs.ends_with('2'))\n",
    "print(selected_df.columns)"
   ]
  },
  {
   "cell_type": "markdown",
   "id": "8c3e1947-bd1a-4e82-89cd-5ecf26522876",
   "metadata": {},
   "source": [
    "次の選択文は、整数列或いは'1'で終わる列を選択します。"
   ]
  },
  {
   "cell_type": "code",
   "execution_count": 20,
   "id": "42534185-36ba-4e87-90cf-31305e4bfca1",
   "metadata": {},
   "outputs": [
    {
     "name": "stdout",
     "output_type": "stream",
     "text": [
      "['a', 'c', 'x1', 'y1', 'x2', 'y2']\n"
     ]
    }
   ],
   "source": [
    "selected_df = df.select(cs.integer() | cs.ends_with('1'))\n",
    "print(selected_df.columns)"
   ]
  },
  {
   "cell_type": "markdown",
   "id": "78f2dde9-e58c-41ea-979d-b8fd5175cbf7",
   "metadata": {},
   "source": [
    "## 列同士の演算式"
   ]
  },
  {
   "cell_type": "markdown",
   "id": "368bb58f-af11-4580-870c-43e0e8ea8d34",
   "metadata": {},
   "source": [
    "次の三つの演算式はそれぞれ、\n",
    "\n",
    "* `e1`: 1列と1列同士の演算です。具体的には、列 A と列 B の対応する要素を加算します。\n",
    "* `e2`: 2列と1列の間の演算です。実際に計算するときは、`pl.col('A') + pl.col('B'), pl.col('B') + pl.col('B')`を同時に計算します。\n",
    "* `e3`: 動的に生成された式で、数値型のすべての列と列 B を加算します。実際のデータによって計算される式の数は未定です。"
   ]
  },
  {
   "cell_type": "code",
   "execution_count": 21,
   "id": "ad00eec7-9012-4778-806c-56b973a51b3c",
   "metadata": {},
   "outputs": [
    {
     "name": "stdout",
     "output_type": "stream",
     "text": [
      "[(col(\"A\")) + (col(\"B\"))]\n",
      "[(cols([\"A\", \"B\"])) + (col(\"B\"))]\n",
      "[(dtype_columns([Int32, Float64, UInt32, Float32, UInt16, Int64, Int8, Decimal(None, None), UInt64, Int16, UInt8])) + (col(\"B\"))]\n"
     ]
    }
   ],
   "source": [
    "e1 = pl.col('A') + pl.col('B')\n",
    "e2 = pl.col('A', 'B') + pl.col('B')\n",
    "e3 = (cs.numeric() + pl.col('B')).as_expr()\n",
    "\n",
    "print(e1)\n",
    "print(e2)\n",
    "print(e3)"
   ]
  },
  {
   "cell_type": "markdown",
   "id": "4a5eafe3-a99e-4fd6-a4eb-eb781eaa1f27",
   "metadata": {},
   "source": [
    "次のプログラムは、`LazyDataFrame.explain()`を使って、式の演算の中身を表示します。"
   ]
  },
  {
   "cell_type": "code",
   "execution_count": 22,
   "id": "298f7f08-9264-4f5c-826d-bd2cab553e82",
   "metadata": {},
   "outputs": [
    {
     "name": "stdout",
     "output_type": "stream",
     "text": [
      " WITH_COLUMNS:\n",
      " [[(col(\"A\")) + (col(\"B\"))].alias(\"C\")] \n",
      "  DF [\"A\", \"B\", \"C\", \"X\"]; PROJECT */5 COLUMNS; SELECTION: None\n"
     ]
    }
   ],
   "source": [
    "df = pl.DataFrame(dict(A=[1, 2], B=[10, 20], C=[100, 200], X=[1, 1], Y=[2, 2]))\n",
    "ldf = df.lazy()\n",
    "query = ldf.with_columns(C=e1)\n",
    "print(query.explain())"
   ]
  },
  {
   "cell_type": "markdown",
   "id": "5e6176d6-b353-45f8-a3ee-c03cf3ceddad",
   "metadata": {},
   "source": [
    "複数列のセレクタがある場合、複数の式が作成されます。"
   ]
  },
  {
   "cell_type": "code",
   "execution_count": 23,
   "id": "ea7b8e91-1d1f-4628-9590-459ba920eb7c",
   "metadata": {},
   "outputs": [
    {
     "name": "stdout",
     "output_type": "stream",
     "text": [
      " SELECT [[(col(\"A\")) + (col(\"B\"))], [(col(\"B\")) + (col(\"B\"))]] FROM\n",
      "  DF [\"A\", \"B\", \"C\", \"X\"]; PROJECT 2/5 COLUMNS; SELECTION: None\n"
     ]
    }
   ],
   "source": [
    "query = ldf.select(e2)\n",
    "print(query.explain())"
   ]
  },
  {
   "cell_type": "code",
   "execution_count": 24,
   "id": "3f08c706-10ea-4853-8689-aff65dc6090f",
   "metadata": {},
   "outputs": [
    {
     "name": "stdout",
     "output_type": "stream",
     "text": [
      " SELECT [[(col(\"A\")) + (col(\"B\"))], [(col(\"B\")) + (col(\"B\"))], [(col(\"C\")) + (col(\"B\"))], [(col(\"X\")) + (col(\"B\"))], [(col(\"Y\")) + (col(\"B\"))]] FROM\n",
      "  DF [\"A\", \"B\", \"C\", \"X\"]; PROJECT 5/5 COLUMNS; SELECTION: None\n"
     ]
    }
   ],
   "source": [
    "query = ldf.select(e3)\n",
    "print(query.explain())"
   ]
  },
  {
   "cell_type": "markdown",
   "id": "522b67ec-e3ba-445c-94f6-ed1e7e09a83a",
   "metadata": {},
   "source": [
    "式の中には複数列のセレクタは一つしか存在することができません。例えば、以下の文は`A - B`と`B - A`を計算しようとしますが、エラーが発生します。"
   ]
  },
  {
   "cell_type": "code",
   "execution_count": 25,
   "id": "d748c598-0db7-4b2f-9440-c2f52d653964",
   "metadata": {},
   "outputs": [
    {
     "name": "stdout",
     "output_type": "stream",
     "text": [
      "ComputeError: expanding more than one `col` is not allowed\n",
      "\n",
      "Resolved plan until failure:\n",
      "\n",
      "\t---> FAILED HERE RESOLVING 'select' <---\n",
      "DF [\"A\", \"B\", \"C\", \"X\"]; PROJECT */5 COLUMNS; SELECTION: None\n"
     ]
    }
   ],
   "source": [
    "%%capture_except\n",
    "query = ldf.select(pl.col('A', 'B') - pl.col('B', 'A'))\n",
    "print(query.explain())"
   ]
  },
  {
   "attachments": {},
   "cell_type": "markdown",
   "id": "f9c9632d-340a-4c20-ad91-c3408aa108b7",
   "metadata": {},
   "source": [
    "この問題について、GitHubに以下の提案があります。\n",
    "\n",
    "* [Allow expanding and renaming multiple columns ](https://github.com/pola-rs/polars/issues/13225)\n",
    "\n",
    "現段階は、次のように、`pl.struct()`を使って複数の列を一つの`struct`列に変更して処理すれば、複数列同士の計算をすることができます。"
   ]
  },
  {
   "cell_type": "code",
   "execution_count": 26,
   "id": "6cdba309-5bbf-4c59-b99a-a45aa7a1ee19",
   "metadata": {},
   "outputs": [
    {
     "data": {
      "text/html": [
       "<div><style>\n",
       ".dataframe > thead > tr,\n",
       ".dataframe > tbody > tr {\n",
       "  text-align: right;\n",
       "  white-space: pre-wrap;\n",
       "}\n",
       "</style>\n",
       "<small>shape: (2, 7)</small><table border=\"1\" class=\"dataframe\"><thead><tr><th>A</th><th>B</th><th>C</th><th>X</th><th>Y</th><th>AB</th><th>BA</th></tr><tr><td>i64</td><td>i64</td><td>i64</td><td>i64</td><td>i64</td><td>i64</td><td>i64</td></tr></thead><tbody><tr><td>1</td><td>10</td><td>100</td><td>1</td><td>2</td><td>-9</td><td>9</td></tr><tr><td>2</td><td>20</td><td>200</td><td>1</td><td>2</td><td>-18</td><td>18</td></tr></tbody></table></div>"
      ],
      "text/plain": [
       "shape: (2, 7)\n",
       "┌─────┬─────┬─────┬─────┬─────┬─────┬─────┐\n",
       "│ A   ┆ B   ┆ C   ┆ X   ┆ Y   ┆ AB  ┆ BA  │\n",
       "│ --- ┆ --- ┆ --- ┆ --- ┆ --- ┆ --- ┆ --- │\n",
       "│ i64 ┆ i64 ┆ i64 ┆ i64 ┆ i64 ┆ i64 ┆ i64 │\n",
       "╞═════╪═════╪═════╪═════╪═════╪═════╪═════╡\n",
       "│ 1   ┆ 10  ┆ 100 ┆ 1   ┆ 2   ┆ -9  ┆ 9   │\n",
       "│ 2   ┆ 20  ┆ 200 ┆ 1   ┆ 2   ┆ -18 ┆ 18  │\n",
       "└─────┴─────┴─────┴─────┴─────┴─────┴─────┘"
      ]
     },
     "execution_count": 26,
     "metadata": {},
     "output_type": "execute_result"
    }
   ],
   "source": [
    "df.with_columns(\n",
    "    (pl.struct('A', 'B') - pl.struct('B', 'A'))\n",
    "       .struct.rename_fields(['AB', 'BA'])\n",
    "       .struct.field('*')\n",
    ")"
   ]
  },
  {
   "cell_type": "markdown",
   "id": "65904015-2c26-44e5-9241-4b0653217686",
   "metadata": {},
   "source": [
    "## 式の出力名"
   ]
  },
  {
   "cell_type": "markdown",
   "id": "f4391701-1550-43fc-a80e-f96e53239ac5",
   "metadata": {},
   "source": [
    "`DataFrame`に新しい列を追加する場合や列の計算結果を取得する場合、通常その結果に対して名前を付けることができます。この名前を「式の出力名」と呼びます。式の出力名を指定することで、計算結果を明示的に識別し、後で参照したり、他の操作に使用したりすることができます。"
   ]
  },
  {
   "cell_type": "markdown",
   "id": "82a1e998-0fe7-43e9-9694-1cca72f975df",
   "metadata": {},
   "source": [
    "### ルート名と出力名"
   ]
  },
  {
   "cell_type": "markdown",
   "id": "f1830936-2426-4918-8d00-44eee42739e1",
   "metadata": {},
   "source": [
    "式の出力名が指定されていない場合は、式で最初に使用された項の名を出力名とします。式で使用した列名のリストは、式のルート名として知られています。ルート名と出力名はそれぞれ`.meta.root_names()`と`.meta.output_name()`で取得することができます。"
   ]
  },
  {
   "cell_type": "code",
   "execution_count": 27,
   "id": "d0f97753-0905-4c60-b6e7-bd44e61d4697",
   "metadata": {},
   "outputs": [],
   "source": [
    "def show_names(expr):\n",
    "    print(f'root_names={expr.meta.root_names()}, output_name={expr.meta.output_name()}')"
   ]
  },
  {
   "cell_type": "code",
   "execution_count": 28,
   "id": "cefa7dbb-ccf2-4e07-a497-f387e3a477dc",
   "metadata": {},
   "outputs": [
    {
     "name": "stdout",
     "output_type": "stream",
     "text": [
      "root_names=['A', 'B'], output_name=A\n"
     ]
    }
   ],
   "source": [
    "expr1 = pl.col(\"A\") * pl.col(\"B\") + 1\n",
    "show_names(expr1)"
   ]
  },
  {
   "cell_type": "code",
   "execution_count": 29,
   "id": "f41c3d81-3b05-47c8-95f5-6321a279d2d4",
   "metadata": {},
   "outputs": [
    {
     "name": "stdout",
     "output_type": "stream",
     "text": [
      "root_names=['B', 'A'], output_name=literal\n"
     ]
    }
   ],
   "source": [
    "expr2 = 1 + pl.col(\"B\") * pl.col(\"A\")\n",
    "show_names(expr2)"
   ]
  },
  {
   "cell_type": "code",
   "execution_count": 30,
   "id": "4faaf0dd-2e3e-4a74-bfdf-60c86b4ff3b0",
   "metadata": {},
   "outputs": [],
   "source": [
    "expr3 = (pl.col(\"A\") * pl.col(\"B\") + 1).alias(\"Z\")"
   ]
  },
  {
   "cell_type": "markdown",
   "id": "bb02ae15-2e6c-4aaf-922c-0f306d3cc53e",
   "metadata": {},
   "source": [
    "`output_name`は`literal`の場合は、`.name.keep()`で`root_names`の初めての名前に変更できます。"
   ]
  },
  {
   "cell_type": "code",
   "execution_count": 31,
   "id": "53c4ee25-3a09-406f-ac9a-6e626eb63816",
   "metadata": {},
   "outputs": [
    {
     "data": {
      "text/html": [
       "<table><tr><td><div><style>\n",
       ".dataframe > thead > tr,\n",
       ".dataframe > tbody > tr {\n",
       "  text-align: right;\n",
       "  white-space: pre-wrap;\n",
       "}\n",
       "</style>\n",
       "<small>shape: (2, 1)</small><table border=\"1\" class=\"dataframe\"><thead><tr><th>A</th></tr><tr><td>i64</td></tr></thead><tbody><tr><td>11</td></tr><tr><td>41</td></tr></tbody></table></div></td><td><div><style>\n",
       ".dataframe > thead > tr,\n",
       ".dataframe > tbody > tr {\n",
       "  text-align: right;\n",
       "  white-space: pre-wrap;\n",
       "}\n",
       "</style>\n",
       "<small>shape: (2, 1)</small><table border=\"1\" class=\"dataframe\"><thead><tr><th>literal</th></tr><tr><td>i64</td></tr></thead><tbody><tr><td>11</td></tr><tr><td>41</td></tr></tbody></table></div></td><td><div><style>\n",
       ".dataframe > thead > tr,\n",
       ".dataframe > tbody > tr {\n",
       "  text-align: right;\n",
       "  white-space: pre-wrap;\n",
       "}\n",
       "</style>\n",
       "<small>shape: (2, 1)</small><table border=\"1\" class=\"dataframe\"><thead><tr><th>B</th></tr><tr><td>i64</td></tr></thead><tbody><tr><td>11</td></tr><tr><td>41</td></tr></tbody></table></div></td><td><div><style>\n",
       ".dataframe > thead > tr,\n",
       ".dataframe > tbody > tr {\n",
       "  text-align: right;\n",
       "  white-space: pre-wrap;\n",
       "}\n",
       "</style>\n",
       "<small>shape: (2, 1)</small><table border=\"1\" class=\"dataframe\"><thead><tr><th>Z</th></tr><tr><td>i64</td></tr></thead><tbody><tr><td>11</td></tr><tr><td>41</td></tr></tbody></table></div></td></tr></table>"
      ]
     },
     "metadata": {},
     "output_type": "display_data"
    }
   ],
   "source": [
    "row(df.select(expr1), df.select(expr2), df.select(expr2.name.keep()), df.select(expr3))"
   ]
  },
  {
   "cell_type": "markdown",
   "id": "8a35e9c1-1389-4723-afa5-8c7ed962fe57",
   "metadata": {},
   "source": [
    "複数の式の出力名が同じ場合、計算時にエラーが発生します。例えば、次の pl.all() は df 中の A と B 列に対して式を計算します。これにより、両方の式の出力名はが同じ\"literal\"になるため、エラーが発生しました。"
   ]
  },
  {
   "cell_type": "code",
   "execution_count": 32,
   "id": "d5dbe47b-adad-492b-889d-bfad01b1584c",
   "metadata": {},
   "outputs": [
    {
     "name": "stdout",
     "output_type": "stream",
     "text": [
      "DuplicateError: the name 'literal' is duplicate\n",
      "\n",
      "It's possible that multiple expressions are returning the same default column name. If this is the case, try renaming the columns with `.alias(\"new_name\")` to avoid duplicate column names.\n"
     ]
    }
   ],
   "source": [
    "%%capture_except\n",
    "expr = 10 + pl.col('A', 'B')\n",
    "df.select(expr)"
   ]
  },
  {
   "cell_type": "markdown",
   "id": "bd766bac-ed0a-4656-aef3-a58d6a001bae",
   "metadata": {},
   "source": [
    "式中の列の現れる順番を変更するか、或いは次のように`.name.keep()`で名前を`root_names[0]`に変更します。"
   ]
  },
  {
   "cell_type": "code",
   "execution_count": 33,
   "id": "80ad4a46-606c-48bc-840f-2c2b7879e834",
   "metadata": {},
   "outputs": [
    {
     "data": {
      "text/html": [
       "<div><style>\n",
       ".dataframe > thead > tr,\n",
       ".dataframe > tbody > tr {\n",
       "  text-align: right;\n",
       "  white-space: pre-wrap;\n",
       "}\n",
       "</style>\n",
       "<small>shape: (2, 2)</small><table border=\"1\" class=\"dataframe\"><thead><tr><th>A</th><th>B</th></tr><tr><td>i64</td><td>i64</td></tr></thead><tbody><tr><td>11</td><td>20</td></tr><tr><td>12</td><td>30</td></tr></tbody></table></div>"
      ],
      "text/plain": [
       "shape: (2, 2)\n",
       "┌─────┬─────┐\n",
       "│ A   ┆ B   │\n",
       "│ --- ┆ --- │\n",
       "│ i64 ┆ i64 │\n",
       "╞═════╪═════╡\n",
       "│ 11  ┆ 20  │\n",
       "│ 12  ┆ 30  │\n",
       "└─────┴─────┘"
      ]
     },
     "execution_count": 33,
     "metadata": {},
     "output_type": "execute_result"
    }
   ],
   "source": [
    "df.select(expr.name.keep())"
   ]
  },
  {
   "cell_type": "markdown",
   "id": "c6a46ce2-3ac1-48f1-a102-64ce5bad523b",
   "metadata": {},
   "source": [
    "或いは、`.name.suffix()`などを使って、各個列の名前をベースに、新しい列名を算出します。"
   ]
  },
  {
   "cell_type": "code",
   "execution_count": 34,
   "id": "53ada9dd-3168-407e-bfe8-d7790223e94e",
   "metadata": {},
   "outputs": [
    {
     "data": {
      "text/html": [
       "<div><style>\n",
       ".dataframe > thead > tr,\n",
       ".dataframe > tbody > tr {\n",
       "  text-align: right;\n",
       "  white-space: pre-wrap;\n",
       "}\n",
       "</style>\n",
       "<small>shape: (2, 2)</small><table border=\"1\" class=\"dataframe\"><thead><tr><th>A_calc</th><th>B_calc</th></tr><tr><td>i64</td><td>i64</td></tr></thead><tbody><tr><td>11</td><td>20</td></tr><tr><td>12</td><td>30</td></tr></tbody></table></div>"
      ],
      "text/plain": [
       "shape: (2, 2)\n",
       "┌────────┬────────┐\n",
       "│ A_calc ┆ B_calc │\n",
       "│ ---    ┆ ---    │\n",
       "│ i64    ┆ i64    │\n",
       "╞════════╪════════╡\n",
       "│ 11     ┆ 20     │\n",
       "│ 12     ┆ 30     │\n",
       "└────────┴────────┘"
      ]
     },
     "execution_count": 34,
     "metadata": {},
     "output_type": "execute_result"
    }
   ],
   "source": [
    "df.select(expr.name.suffix(\"_calc\"))"
   ]
  },
  {
   "cell_type": "markdown",
   "id": "82517395-cefe-498c-95e0-68353323f41d",
   "metadata": {},
   "source": [
    "#### ルート名の順番を変更"
   ]
  },
  {
   "cell_type": "markdown",
   "id": "3d43f9e4-be13-43a3-afbc-a2cf2ea6ff4b",
   "metadata": {},
   "source": [
    "次の`pl.when().then().otherwise()`の式では、`root_names`中の列名の表す順番は`then()`, `otherwise()`, `when()`の順になります。例えば、以下のような式では、`expr.meta.root_names`は `['x', 'y', 'j']` となります。"
   ]
  },
  {
   "cell_type": "code",
   "execution_count": 35,
   "id": "cc134008-ddb5-4683-bfe8-31638298eff4",
   "metadata": {},
   "outputs": [
    {
     "name": "stdout",
     "output_type": "stream",
     "text": [
      "['x', 'y', 'j']\n"
     ]
    }
   ],
   "source": [
    "expr = pl.when(pl.col('j') > 50).then('x').otherwise('y')\n",
    "print(expr.meta.root_names())"
   ]
  },
  {
   "cell_type": "markdown",
   "id": "a5be509c-6a77-4338-ae29-a5a3b25c52ff",
   "metadata": {},
   "source": [
    "`when()`中に複数の列がある場合は、すべての式の出力名は'x'なので、実際の計算を行うと、名前重複の`DuplicateError`エラーが発生します。"
   ]
  },
  {
   "cell_type": "code",
   "execution_count": 36,
   "id": "719652a8-25ae-4dbc-91f5-b1e6b31c591e",
   "metadata": {},
   "outputs": [
    {
     "name": "stdout",
     "output_type": "stream",
     "text": [
      "ColumnNotFoundError: x\n",
      "\n",
      "Resolved plan until failure:\n",
      "\n",
      "\t---> FAILED HERE RESOLVING 'select' <---\n",
      "DF [\"A\", \"B\", \"C\", \"X\"]; PROJECT */5 COLUMNS; SELECTION: None\n"
     ]
    }
   ],
   "source": [
    "%%capture_except\n",
    "cols = pl.col(['j', 'k', 'l'])\n",
    "expr = pl.when(cols > 50).then('x').otherwise('y')\n",
    "df.select(expr)"
   ]
  },
  {
   "cell_type": "markdown",
   "id": "c4e185eb-0271-40b4-abec-2e64fbb31182",
   "metadata": {},
   "source": [
    "この場合、式の先頭に計算結果を影響しない、ルート名の順番だけを影響する式を追加すれば、解決できます。"
   ]
  },
  {
   "cell_type": "code",
   "execution_count": 37,
   "id": "29dece5a-6f52-4921-a147-0b5f70cc13ac",
   "metadata": {},
   "outputs": [
    {
     "data": {
      "text/html": [
       "<div><style>\n",
       ".dataframe > thead > tr,\n",
       ".dataframe > tbody > tr {\n",
       "  text-align: right;\n",
       "  white-space: pre-wrap;\n",
       "}\n",
       "</style>\n",
       "<small>shape: (2, 3)</small><table border=\"1\" class=\"dataframe\"><thead><tr><th>j</th><th>k</th><th>l</th></tr><tr><td>i32</td><td>i32</td><td>i32</td></tr></thead><tbody><tr><td>20</td><td>20</td><td>20</td></tr><tr><td>10</td><td>10</td><td>10</td></tr></tbody></table></div>"
      ],
      "text/plain": [
       "shape: (2, 3)\n",
       "┌─────┬─────┬─────┐\n",
       "│ j   ┆ k   ┆ l   │\n",
       "│ --- ┆ --- ┆ --- │\n",
       "│ i32 ┆ i32 ┆ i32 │\n",
       "╞═════╪═════╪═════╡\n",
       "│ 20  ┆ 20  ┆ 20  │\n",
       "│ 10  ┆ 10  ┆ 10  │\n",
       "└─────┴─────┴─────┘"
      ]
     },
     "execution_count": 37,
     "metadata": {},
     "output_type": "execute_result"
    }
   ],
   "source": [
    "df2 = pl.DataFrame(dict(\n",
    "    j=np.random.randint(10, 99, 2),\n",
    "    k=np.random.randint(10, 99, 2),\n",
    "    l=np.random.randint(10, 99, 2),\n",
    "    x=10,\n",
    "    y=20,\n",
    "))\n",
    "\n",
    "df2.select(\n",
    "    cols * 0 + pl.when(cols > 50).then('x').otherwise('y')\n",
    ")"
   ]
  },
  {
   "cell_type": "markdown",
   "id": "1a716378-e5bd-4e4a-9a2e-3fb83f813687",
   "metadata": {},
   "source": [
    "### 出力名を指定する"
   ]
  },
  {
   "attachments": {},
   "cell_type": "markdown",
   "id": "af71af57-492f-4f2a-a642-7b1822ca1fea",
   "metadata": {},
   "source": [
    "#### `alias()`\n",
    "\n",
    "`alias()` メソッドを使用して、計算結果に名前を付けることができます。"
   ]
  },
  {
   "cell_type": "code",
   "execution_count": 38,
   "id": "8b31cb48-5f5c-48e8-9a46-416cd8da1d28",
   "metadata": {},
   "outputs": [
    {
     "name": "stdout",
     "output_type": "stream",
     "text": [
      "['A_plus_B']\n"
     ]
    }
   ],
   "source": [
    "result = df.select((pl.col('A') + pl.col('B')).alias(\"A_plus_B\"))\n",
    "print(result.columns)"
   ]
  },
  {
   "cell_type": "markdown",
   "id": "18f0d2f6-0b63-41e3-a6f9-11beb63d9395",
   "metadata": {},
   "source": [
    "#### キーワード引数"
   ]
  },
  {
   "cell_type": "markdown",
   "id": "f590f831-e92f-48bc-82be-86e9f30da617",
   "metadata": {},
   "source": [
    "`select()`や`with_columns()`などのメソッドを使用して、新しい列を追加する際に、キーワード引数その列に名前を付けることができます。"
   ]
  },
  {
   "cell_type": "code",
   "execution_count": 39,
   "id": "05d7423c-6c90-42df-8b8b-a781c2ed5723",
   "metadata": {},
   "outputs": [
    {
     "name": "stdout",
     "output_type": "stream",
     "text": [
      "['A_plus_B']\n"
     ]
    }
   ],
   "source": [
    "result = df.select(A_plus_B=pl.col('A') + pl.col('B'))\n",
    "print(result.columns)"
   ]
  },
  {
   "cell_type": "markdown",
   "id": "e1b2739c-dfdc-46e5-8226-d97d27eefe8d",
   "metadata": {},
   "source": [
    "### 出力名を変換\n",
    "\n",
    "`.name`の下には出力名を操作するためのメソッドがいくつか提供されています。以下はよく使う三つの関数を紹介します。\n",
    "\n",
    "**`map`**\n",
    "\n",
    "ルート名に関数を適用して式の出力名を変更します。"
   ]
  },
  {
   "cell_type": "code",
   "execution_count": 40,
   "id": "333173d4-ad33-408b-9ba7-7801b1e6716b",
   "metadata": {},
   "outputs": [
    {
     "name": "stdout",
     "output_type": "stream",
     "text": [
      "['AAA', 'BBB', 'CCC']\n"
     ]
    }
   ],
   "source": [
    "result_df = df.select(\n",
    "    (pl.col('A', 'B', 'C') + pl.col('B')).name.map(lambda name: name * 3)\n",
    ")\n",
    "print(result_df.columns)"
   ]
  },
  {
   "cell_type": "markdown",
   "id": "2abf7527-941f-406a-9495-6c1a4a2b0faf",
   "metadata": {},
   "source": [
    "**`prefix`と`suffix`**\n",
    "\n",
    "ルート列名の先頭と末尾に接頭辞を追加します。"
   ]
  },
  {
   "cell_type": "code",
   "execution_count": 41,
   "id": "e38a818f-9a1b-49aa-91d6-3fc50dc5de50",
   "metadata": {},
   "outputs": [
    {
     "name": "stdout",
     "output_type": "stream",
     "text": [
      "['A_res', 'B_res', 'C_res']\n"
     ]
    }
   ],
   "source": [
    "result_df = df.select(\n",
    "    (pl.col('A', 'B', 'C') + pl.col('B')).name.suffix(\"_res\")\n",
    ")\n",
    "print(result_df.columns)"
   ]
  },
  {
   "cell_type": "markdown",
   "id": "a6abab45-b533-4623-bab7-9a8729297900",
   "metadata": {},
   "source": [
    "## 式の出力値"
   ]
  },
  {
   "cell_type": "markdown",
   "id": "26a74eff-dde9-4cd7-9577-a8e6864da00d",
   "metadata": {},
   "source": [
    "### 式は独立で実行する"
   ]
  },
  {
   "cell_type": "markdown",
   "id": "cc4b1f60-6928-44e9-8082-a32de490cfac",
   "metadata": {},
   "source": [
    "Polars の式が独立して実行されることについて、以下のプログラムを使用して説明します。"
   ]
  },
  {
   "cell_type": "code",
   "execution_count": 42,
   "id": "a2109f15-07d4-48ba-9da3-c5270e5cd6d8",
   "metadata": {},
   "outputs": [
    {
     "data": {
      "text/html": [
       "<div><style>\n",
       ".dataframe > thead > tr,\n",
       ".dataframe > tbody > tr {\n",
       "  text-align: right;\n",
       "  white-space: pre-wrap;\n",
       "}\n",
       "</style>\n",
       "<small>shape: (4, 2)</small><table border=\"1\" class=\"dataframe\"><thead><tr><th>x</th><th>y</th></tr><tr><td>i64</td><td>i64</td></tr></thead><tbody><tr><td>4</td><td>6</td></tr><tr><td>8</td><td>7</td></tr><tr><td>9</td><td>3</td></tr><tr><td>0</td><td>2</td></tr></tbody></table></div>"
      ],
      "text/plain": [
       "shape: (4, 2)\n",
       "┌─────┬─────┐\n",
       "│ x   ┆ y   │\n",
       "│ --- ┆ --- │\n",
       "│ i64 ┆ i64 │\n",
       "╞═════╪═════╡\n",
       "│ 4   ┆ 6   │\n",
       "│ 8   ┆ 7   │\n",
       "│ 9   ┆ 3   │\n",
       "│ 0   ┆ 2   │\n",
       "└─────┴─────┘"
      ]
     },
     "execution_count": 42,
     "metadata": {},
     "output_type": "execute_result"
    }
   ],
   "source": [
    "df = pl.DataFrame(\n",
    "    dict(x=range(10), y=range(10))\n",
    ")\n",
    "\n",
    "result = df.select(pl.all().sample(4))\n",
    "result"
   ]
  },
  {
   "cell_type": "markdown",
   "id": "9ff50ac9-8325-443f-b733-8ec0f4df29b7",
   "metadata": {},
   "source": [
    "このプログラムでは、`pl.all()` を使ってデータフレーム `df` のすべての列に対して `sample(4)` を適用しています。これにより、各列からランダムに4行が選択されます。Polarsの式は、DataFrameの各列に対して独立して適用されます。このため、`pl.all().sample(4)` を使った場合、各列から独立して4行がランダムに選ばれます。各列に対して同じ操作が適用されますが、操作は独立して実行されるため、異なる列で選ばれる行は必ずしも一致しません。\n",
    "\n",
    "`seed`引数で、すべての列の乱数は同じシードを使います。独立で実行しても、同じ行のデータを取り出すことができます。"
   ]
  },
  {
   "cell_type": "code",
   "execution_count": 43,
   "id": "c24d0116-f3c0-446a-8bab-9a2c2b2fc35a",
   "metadata": {},
   "outputs": [
    {
     "data": {
      "text/html": [
       "<div><style>\n",
       ".dataframe > thead > tr,\n",
       ".dataframe > tbody > tr {\n",
       "  text-align: right;\n",
       "  white-space: pre-wrap;\n",
       "}\n",
       "</style>\n",
       "<small>shape: (4, 2)</small><table border=\"1\" class=\"dataframe\"><thead><tr><th>x</th><th>y</th></tr><tr><td>i64</td><td>i64</td></tr></thead><tbody><tr><td>3</td><td>3</td></tr><tr><td>5</td><td>5</td></tr><tr><td>0</td><td>0</td></tr><tr><td>2</td><td>2</td></tr></tbody></table></div>"
      ],
      "text/plain": [
       "shape: (4, 2)\n",
       "┌─────┬─────┐\n",
       "│ x   ┆ y   │\n",
       "│ --- ┆ --- │\n",
       "│ i64 ┆ i64 │\n",
       "╞═════╪═════╡\n",
       "│ 3   ┆ 3   │\n",
       "│ 5   ┆ 5   │\n",
       "│ 0   ┆ 0   │\n",
       "│ 2   ┆ 2   │\n",
       "└─────┴─────┘"
      ]
     },
     "execution_count": 43,
     "metadata": {},
     "output_type": "execute_result"
    }
   ],
   "source": [
    "df.select(pl.all().sample(4, seed=10))"
   ]
  },
  {
   "cell_type": "markdown",
   "id": "63796921-3dc8-48b7-bd74-bd3195fdb167",
   "metadata": {},
   "source": [
    "ちなみに、ランダム行を抽出するには`DataFrame.sample()`を使うのは一番進めです。"
   ]
  },
  {
   "cell_type": "code",
   "execution_count": 44,
   "id": "d0c49222-16fc-4a20-84ce-2801cd6d92d0",
   "metadata": {},
   "outputs": [
    {
     "data": {
      "text/html": [
       "<div><style>\n",
       ".dataframe > thead > tr,\n",
       ".dataframe > tbody > tr {\n",
       "  text-align: right;\n",
       "  white-space: pre-wrap;\n",
       "}\n",
       "</style>\n",
       "<small>shape: (4, 2)</small><table border=\"1\" class=\"dataframe\"><thead><tr><th>x</th><th>y</th></tr><tr><td>i64</td><td>i64</td></tr></thead><tbody><tr><td>6</td><td>6</td></tr><tr><td>1</td><td>1</td></tr><tr><td>5</td><td>5</td></tr><tr><td>4</td><td>4</td></tr></tbody></table></div>"
      ],
      "text/plain": [
       "shape: (4, 2)\n",
       "┌─────┬─────┐\n",
       "│ x   ┆ y   │\n",
       "│ --- ┆ --- │\n",
       "│ i64 ┆ i64 │\n",
       "╞═════╪═════╡\n",
       "│ 6   ┆ 6   │\n",
       "│ 1   ┆ 1   │\n",
       "│ 5   ┆ 5   │\n",
       "│ 4   ┆ 4   │\n",
       "└─────┴─────┘"
      ]
     },
     "execution_count": 44,
     "metadata": {},
     "output_type": "execute_result"
    }
   ],
   "source": [
    "df.sample(4)"
   ]
  },
  {
   "cell_type": "markdown",
   "id": "0e7376d0-b3ed-432e-9705-9680b2fc1296",
   "metadata": {},
   "source": [
    "`.sort()`は各個列の値を独立で並び替えます。"
   ]
  },
  {
   "cell_type": "code",
   "execution_count": 45,
   "id": "c4a2d965-4a0e-4303-8e65-ff65cee53160",
   "metadata": {},
   "outputs": [],
   "source": [
    "df = pl.DataFrame(\n",
    "    dict(x=[1, 3, 2], y=[9, 8, 7])\n",
    ")"
   ]
  },
  {
   "cell_type": "markdown",
   "id": "a654b969-4303-4765-baab-840115758ff8",
   "metadata": {},
   "source": [
    "複数の列を処理する式は各列を処理する式に変更されてから独立で実行されいます。下の例はx列とy列をそれぞれ並び替えます。"
   ]
  },
  {
   "cell_type": "code",
   "execution_count": 46,
   "id": "fb0755e7-b910-4ec8-9fcf-68d99e629d0f",
   "metadata": {},
   "outputs": [
    {
     "data": {
      "text/html": [
       "<div><style>\n",
       ".dataframe > thead > tr,\n",
       ".dataframe > tbody > tr {\n",
       "  text-align: right;\n",
       "  white-space: pre-wrap;\n",
       "}\n",
       "</style>\n",
       "<small>shape: (3, 2)</small><table border=\"1\" class=\"dataframe\"><thead><tr><th>x</th><th>y</th></tr><tr><td>i64</td><td>i64</td></tr></thead><tbody><tr><td>1</td><td>7</td></tr><tr><td>2</td><td>8</td></tr><tr><td>3</td><td>9</td></tr></tbody></table></div>"
      ],
      "text/plain": [
       "shape: (3, 2)\n",
       "┌─────┬─────┐\n",
       "│ x   ┆ y   │\n",
       "│ --- ┆ --- │\n",
       "│ i64 ┆ i64 │\n",
       "╞═════╪═════╡\n",
       "│ 1   ┆ 7   │\n",
       "│ 2   ┆ 8   │\n",
       "│ 3   ┆ 9   │\n",
       "└─────┴─────┘"
      ]
     },
     "execution_count": 46,
     "metadata": {},
     "output_type": "execute_result"
    }
   ],
   "source": [
    "df.select(pl.col('x', 'y').sort())"
   ]
  },
  {
   "cell_type": "markdown",
   "id": "16075541-50c2-4ec0-8a59-060f0893155c",
   "metadata": {},
   "source": [
    "ペアで並び替えするには、`DataFrame.sort()`を使います。"
   ]
  },
  {
   "cell_type": "code",
   "execution_count": 47,
   "id": "b50977cf-f293-4311-98a2-1398ba415d9d",
   "metadata": {},
   "outputs": [
    {
     "data": {
      "text/html": [
       "<table><tr><td><div><style>\n",
       ".dataframe > thead > tr,\n",
       ".dataframe > tbody > tr {\n",
       "  text-align: right;\n",
       "  white-space: pre-wrap;\n",
       "}\n",
       "</style>\n",
       "<small>shape: (3, 2)</small><table border=\"1\" class=\"dataframe\"><thead><tr><th>x</th><th>y</th></tr><tr><td>i64</td><td>i64</td></tr></thead><tbody><tr><td>1</td><td>9</td></tr><tr><td>2</td><td>7</td></tr><tr><td>3</td><td>8</td></tr></tbody></table></div></td><td><div><style>\n",
       ".dataframe > thead > tr,\n",
       ".dataframe > tbody > tr {\n",
       "  text-align: right;\n",
       "  white-space: pre-wrap;\n",
       "}\n",
       "</style>\n",
       "<small>shape: (3, 2)</small><table border=\"1\" class=\"dataframe\"><thead><tr><th>x</th><th>y</th></tr><tr><td>i64</td><td>i64</td></tr></thead><tbody><tr><td>2</td><td>7</td></tr><tr><td>3</td><td>8</td></tr><tr><td>1</td><td>9</td></tr></tbody></table></div></td></tr></table>"
      ]
     },
     "metadata": {},
     "output_type": "display_data"
    }
   ],
   "source": [
    "row(df.sort('x', 'y'), df.sort('y', 'x'))"
   ]
  },
  {
   "cell_type": "markdown",
   "id": "906d283b-ea2d-4794-be63-19ca21a2241e",
   "metadata": {},
   "source": [
    "式でペア並び替えの場合は、`struct`を使います。"
   ]
  },
  {
   "cell_type": "code",
   "execution_count": 48,
   "id": "c34f7898-0591-4838-b7da-f6cbba2e8e33",
   "metadata": {},
   "outputs": [
    {
     "data": {
      "text/html": [
       "<div><style>\n",
       ".dataframe > thead > tr,\n",
       ".dataframe > tbody > tr {\n",
       "  text-align: right;\n",
       "  white-space: pre-wrap;\n",
       "}\n",
       "</style>\n",
       "<small>shape: (3, 2)</small><table border=\"1\" class=\"dataframe\"><thead><tr><th>y</th><th>x</th></tr><tr><td>i64</td><td>i64</td></tr></thead><tbody><tr><td>7</td><td>2</td></tr><tr><td>8</td><td>3</td></tr><tr><td>9</td><td>1</td></tr></tbody></table></div>"
      ],
      "text/plain": [
       "shape: (3, 2)\n",
       "┌─────┬─────┐\n",
       "│ y   ┆ x   │\n",
       "│ --- ┆ --- │\n",
       "│ i64 ┆ i64 │\n",
       "╞═════╪═════╡\n",
       "│ 7   ┆ 2   │\n",
       "│ 8   ┆ 3   │\n",
       "│ 9   ┆ 1   │\n",
       "└─────┴─────┘"
      ]
     },
     "execution_count": 48,
     "metadata": {},
     "output_type": "execute_result"
    }
   ],
   "source": [
    "df.select(\n",
    "    pl.struct('y', 'x').sort().struct.field('*')\n",
    ")"
   ]
  },
  {
   "cell_type": "markdown",
   "id": "ad08bd2b-5bb4-469a-a4d0-73323283dde9",
   "metadata": {},
   "source": [
    "或いは`sort_by()`でソートする列を指定します。各個列は独立で演算しますが、順番を決める列は同じなので、結果には行の関係は残ります。"
   ]
  },
  {
   "cell_type": "code",
   "execution_count": 49,
   "id": "b8d63398-9bbd-4ff5-b0cf-dfb88ea30be2",
   "metadata": {},
   "outputs": [
    {
     "data": {
      "text/html": [
       "<div><style>\n",
       ".dataframe > thead > tr,\n",
       ".dataframe > tbody > tr {\n",
       "  text-align: right;\n",
       "  white-space: pre-wrap;\n",
       "}\n",
       "</style>\n",
       "<small>shape: (3, 2)</small><table border=\"1\" class=\"dataframe\"><thead><tr><th>x</th><th>y</th></tr><tr><td>i64</td><td>i64</td></tr></thead><tbody><tr><td>2</td><td>7</td></tr><tr><td>3</td><td>8</td></tr><tr><td>1</td><td>9</td></tr></tbody></table></div>"
      ],
      "text/plain": [
       "shape: (3, 2)\n",
       "┌─────┬─────┐\n",
       "│ x   ┆ y   │\n",
       "│ --- ┆ --- │\n",
       "│ i64 ┆ i64 │\n",
       "╞═════╪═════╡\n",
       "│ 2   ┆ 7   │\n",
       "│ 3   ┆ 8   │\n",
       "│ 1   ┆ 9   │\n",
       "└─────┴─────┘"
      ]
     },
     "execution_count": 49,
     "metadata": {},
     "output_type": "execute_result"
    }
   ],
   "source": [
    "df.select(\n",
    "    pl.all().sort_by(\"y\", \"x\")\n",
    ")"
   ]
  },
  {
   "cell_type": "markdown",
   "id": "fccb1ea1-c00f-4ebe-8707-67604086beb9",
   "metadata": {},
   "source": [
    "### 式の出力データ数"
   ]
  },
  {
   "cell_type": "markdown",
   "id": "87cb80d0-5008-404a-9c21-703fe26928ef",
   "metadata": {},
   "source": [
    "長さNの入力に対して、式の出力長さは以下の3種類になります：1、NおよびX。それぞれの例を使って説明します。\n",
    "\n",
    "#### 出力長さが1\n",
    "\n",
    "出力長さが1の場合、式はデータフレーム全体に対して集計操作を行い、単一の結果を返します。例えば、列の合計や平均などです。次のコードでは、`x` 列の合計が計算され、単一の値 `45` が返されます。"
   ]
  },
  {
   "cell_type": "code",
   "execution_count": 50,
   "id": "9980be72-a32d-4a12-b8fa-168045f24e1f",
   "metadata": {},
   "outputs": [
    {
     "data": {
      "text/html": [
       "<div><style>\n",
       ".dataframe > thead > tr,\n",
       ".dataframe > tbody > tr {\n",
       "  text-align: right;\n",
       "  white-space: pre-wrap;\n",
       "}\n",
       "</style>\n",
       "<small>shape: (1, 1)</small><table border=\"1\" class=\"dataframe\"><thead><tr><th>x</th></tr><tr><td>i64</td></tr></thead><tbody><tr><td>10</td></tr></tbody></table></div>"
      ],
      "text/plain": [
       "shape: (1, 1)\n",
       "┌─────┐\n",
       "│ x   │\n",
       "│ --- │\n",
       "│ i64 │\n",
       "╞═════╡\n",
       "│ 10  │\n",
       "└─────┘"
      ]
     },
     "execution_count": 50,
     "metadata": {},
     "output_type": "execute_result"
    }
   ],
   "source": [
    "df = pl.DataFrame({\n",
    "    \"x\": range(5),\n",
    "})\n",
    "\n",
    "result = df.select(pl.col(\"x\").sum())\n",
    "result"
   ]
  },
  {
   "cell_type": "markdown",
   "id": "a9245841-a3a7-4518-8b29-bea20d614963",
   "metadata": {},
   "source": [
    "#### 出力長さがN\n",
    "\n",
    "出力長さがNの場合、式は各行に対して独立に操作を行い、元のデータフレームと同じ長さの結果を返します。例えば、各列の要素に対するスカラー操作などです。次のコードでは、`x` 列の各要素に `1` が加えられ、元のデータフレームと同じ長さの結果が返されます。"
   ]
  },
  {
   "cell_type": "code",
   "execution_count": 51,
   "id": "345eae15-1099-438e-9c61-de50202dfe8c",
   "metadata": {},
   "outputs": [
    {
     "data": {
      "text/html": [
       "<div><style>\n",
       ".dataframe > thead > tr,\n",
       ".dataframe > tbody > tr {\n",
       "  text-align: right;\n",
       "  white-space: pre-wrap;\n",
       "}\n",
       "</style>\n",
       "<small>shape: (5, 1)</small><table border=\"1\" class=\"dataframe\"><thead><tr><th>x</th></tr><tr><td>i64</td></tr></thead><tbody><tr><td>1</td></tr><tr><td>2</td></tr><tr><td>3</td></tr><tr><td>4</td></tr><tr><td>5</td></tr></tbody></table></div>"
      ],
      "text/plain": [
       "shape: (5, 1)\n",
       "┌─────┐\n",
       "│ x   │\n",
       "│ --- │\n",
       "│ i64 │\n",
       "╞═════╡\n",
       "│ 1   │\n",
       "│ 2   │\n",
       "│ 3   │\n",
       "│ 4   │\n",
       "│ 5   │\n",
       "└─────┘"
      ]
     },
     "execution_count": 51,
     "metadata": {},
     "output_type": "execute_result"
    }
   ],
   "source": [
    "result = df.select(pl.col(\"x\") + 1)\n",
    "result"
   ]
  },
  {
   "cell_type": "markdown",
   "id": "ae94da11-bd68-4459-b758-6016132ea919",
   "metadata": {},
   "source": [
    "#### 出力長さがX\n",
    "\n",
    "出力長さがXの場合、特定の操作により元の長さNと異なる長さの結果が返されます。例えば、サンプリングやフィルタリングなどです。次のコードでは、X列の3以上の値を出力します。"
   ]
  },
  {
   "cell_type": "code",
   "execution_count": 52,
   "id": "877781b7-a592-4fdf-b450-5518a24b2024",
   "metadata": {},
   "outputs": [
    {
     "data": {
      "text/html": [
       "<div><style>\n",
       ".dataframe > thead > tr,\n",
       ".dataframe > tbody > tr {\n",
       "  text-align: right;\n",
       "  white-space: pre-wrap;\n",
       "}\n",
       "</style>\n",
       "<small>shape: (2, 1)</small><table border=\"1\" class=\"dataframe\"><thead><tr><th>x</th></tr><tr><td>i64</td></tr></thead><tbody><tr><td>3</td></tr><tr><td>4</td></tr></tbody></table></div>"
      ],
      "text/plain": [
       "shape: (2, 1)\n",
       "┌─────┐\n",
       "│ x   │\n",
       "│ --- │\n",
       "│ i64 │\n",
       "╞═════╡\n",
       "│ 3   │\n",
       "│ 4   │\n",
       "└─────┘"
      ]
     },
     "execution_count": 52,
     "metadata": {},
     "output_type": "execute_result"
    }
   ],
   "source": [
    "result = df.select(pl.col('x').filter(pl.col('x') >=3))\n",
    "result"
   ]
  },
  {
   "cell_type": "markdown",
   "id": "937d8062-1e40-4c09-91b0-95670522e8f4",
   "metadata": {},
   "source": [
    "#### 異なる長さの出力がある場合の動作"
   ]
  },
  {
   "cell_type": "markdown",
   "id": "0b81641b-6699-4bd7-9ede-cbcb5951646d",
   "metadata": {},
   "source": [
    "長さが1の列は、その値がリピートされ、他の列と同じ長さに拡張されます。これにより、DataFrameの整合性が保たれます。"
   ]
  },
  {
   "cell_type": "code",
   "execution_count": 53,
   "id": "386439ec-f619-438c-a49c-5397763be3dc",
   "metadata": {},
   "outputs": [
    {
     "data": {
      "text/html": [
       "<div><style>\n",
       ".dataframe > thead > tr,\n",
       ".dataframe > tbody > tr {\n",
       "  text-align: right;\n",
       "  white-space: pre-wrap;\n",
       "}\n",
       "</style>\n",
       "<small>shape: (3, 2)</small><table border=\"1\" class=\"dataframe\"><thead><tr><th>x_mean</th><th>x_plus_y</th></tr><tr><td>f64</td><td>i64</td></tr></thead><tbody><tr><td>2.0</td><td>10</td></tr><tr><td>2.0</td><td>11</td></tr><tr><td>2.0</td><td>9</td></tr></tbody></table></div>"
      ],
      "text/plain": [
       "shape: (3, 2)\n",
       "┌────────┬──────────┐\n",
       "│ x_mean ┆ x_plus_y │\n",
       "│ ---    ┆ ---      │\n",
       "│ f64    ┆ i64      │\n",
       "╞════════╪══════════╡\n",
       "│ 2.0    ┆ 10       │\n",
       "│ 2.0    ┆ 11       │\n",
       "│ 2.0    ┆ 9        │\n",
       "└────────┴──────────┘"
      ]
     },
     "execution_count": 53,
     "metadata": {},
     "output_type": "execute_result"
    }
   ],
   "source": [
    "df = pl.DataFrame(\n",
    "    dict(x=[1, 3, 2], y=[9, 8, 7])\n",
    ")\n",
    "\n",
    "df.select(\n",
    "    x_mean = pl.col('x').mean(),\n",
    "    x_plus_y = pl.col('x') + pl.col('y')\n",
    ")"
   ]
  },
  {
   "cell_type": "markdown",
   "id": "80730607-1163-4544-9637-f902f3a9d551",
   "metadata": {},
   "source": [
    "次の二つ式の出力長さは1と2です。"
   ]
  },
  {
   "cell_type": "code",
   "execution_count": 54,
   "id": "b92d6a78-ac3e-4895-8bd1-c9b0472f88b0",
   "metadata": {},
   "outputs": [
    {
     "data": {
      "text/html": [
       "<div><style>\n",
       ".dataframe > thead > tr,\n",
       ".dataframe > tbody > tr {\n",
       "  text-align: right;\n",
       "  white-space: pre-wrap;\n",
       "}\n",
       "</style>\n",
       "<small>shape: (2, 2)</small><table border=\"1\" class=\"dataframe\"><thead><tr><th>x_mean</th><th>x_top2</th></tr><tr><td>f64</td><td>i64</td></tr></thead><tbody><tr><td>2.0</td><td>2</td></tr><tr><td>2.0</td><td>3</td></tr></tbody></table></div>"
      ],
      "text/plain": [
       "shape: (2, 2)\n",
       "┌────────┬────────┐\n",
       "│ x_mean ┆ x_top2 │\n",
       "│ ---    ┆ ---    │\n",
       "│ f64    ┆ i64    │\n",
       "╞════════╪════════╡\n",
       "│ 2.0    ┆ 2      │\n",
       "│ 2.0    ┆ 3      │\n",
       "└────────┴────────┘"
      ]
     },
     "execution_count": 54,
     "metadata": {},
     "output_type": "execute_result"
    }
   ],
   "source": [
    "df.select(\n",
    "    x_mean = pl.col('x').mean(),\n",
    "    x_top2 = pl.col('x').top_k(2)\n",
    ")"
   ]
  },
  {
   "cell_type": "markdown",
   "id": "d5fb23fc-26bb-4974-aeec-f501037964b0",
   "metadata": {},
   "source": [
    "出力の長さが異なる複数の列を含む操作を行うと、Polarsはエラーを発生させます。"
   ]
  },
  {
   "cell_type": "code",
   "execution_count": 55,
   "id": "bd9feb69-8e1e-434a-8710-da94b25b780f",
   "metadata": {},
   "outputs": [
    {
     "name": "stdout",
     "output_type": "stream",
     "text": [
      "ShapeError: Series length 2 doesn't match the DataFrame height of 3\n"
     ]
    }
   ],
   "source": [
    "%%capture_except\n",
    "df.select(\n",
    "    x_sq = pl.col('x')**2,\n",
    "    x_top2 = pl.col('x').top_k(2)\n",
    ")"
   ]
  },
  {
   "cell_type": "markdown",
   "id": "90d27fdd-d896-4003-aeaf-15ff8c353ccd",
   "metadata": {},
   "source": [
    "同じ計算式でも、列の中身によって出力の長さは変わります。次の式ではx列に対しての出力長さは2、y列の出力長さは3になるので、エラーになります。"
   ]
  },
  {
   "cell_type": "code",
   "execution_count": 56,
   "id": "afbbe8ea-4812-44f3-904a-6249b8c1721a",
   "metadata": {},
   "outputs": [
    {
     "name": "stdout",
     "output_type": "stream",
     "text": [
      "ShapeError: Series length 2 doesn't match the DataFrame height of 3\n"
     ]
    }
   ],
   "source": [
    "%%capture_except\n",
    "df.select(\n",
    "    pl.col('x', 'y').filter(pl.col('x', 'y') >= 2)\n",
    ")"
   ]
  },
  {
   "cell_type": "markdown",
   "id": "f654ebae-8ac7-4866-8e9b-9cdffa7ba689",
   "metadata": {},
   "source": [
    "`Expr.implode()` を使って複数の値を一つのリストに変換すれば、式の出力長さはすべて1になり、エラーを防ぐことができます。"
   ]
  },
  {
   "cell_type": "code",
   "execution_count": 57,
   "id": "10a5194e-99a4-4cb6-98e8-90e29a0426d3",
   "metadata": {},
   "outputs": [
    {
     "data": {
      "text/html": [
       "<div><style>\n",
       ".dataframe > thead > tr,\n",
       ".dataframe > tbody > tr {\n",
       "  text-align: right;\n",
       "  white-space: pre-wrap;\n",
       "}\n",
       "</style>\n",
       "<small>shape: (1, 2)</small><table border=\"1\" class=\"dataframe\"><thead><tr><th>x</th><th>y</th></tr><tr><td>list[i64]</td><td>list[i64]</td></tr></thead><tbody><tr><td>[3, 2]</td><td>[9, 8, 7]</td></tr></tbody></table></div>"
      ],
      "text/plain": [
       "shape: (1, 2)\n",
       "┌───────────┬───────────┐\n",
       "│ x         ┆ y         │\n",
       "│ ---       ┆ ---       │\n",
       "│ list[i64] ┆ list[i64] │\n",
       "╞═══════════╪═══════════╡\n",
       "│ [3, 2]    ┆ [9, 8, 7] │\n",
       "└───────────┴───────────┘"
      ]
     },
     "execution_count": 57,
     "metadata": {},
     "output_type": "execute_result"
    }
   ],
   "source": [
    "df.select(\n",
    "    pl.col('x', 'y').filter(pl.col('x', 'y') >= 2).implode()\n",
    ")"
   ]
  },
  {
   "cell_type": "markdown",
   "id": "612030b5-a931-4793-964c-9bc21c631682",
   "metadata": {},
   "source": [
    "## 式のコンテキスト"
   ]
  },
  {
   "cell_type": "markdown",
   "id": "20fdb865-5c32-441b-9ece-da491c64c57d",
   "metadata": {},
   "source": [
    "式の実行環境(コンテキスト)によって、式は処理するデータが異なります。`select(), with_columns()`の場合、１列のすべてのデータを式に渡します。`group_by().agg()`の場合は、各個グループの列を式に渡します。"
   ]
  },
  {
   "cell_type": "code",
   "execution_count": 58,
   "id": "b1cf778e-6c5d-4c95-b47d-2ed3cc3d681e",
   "metadata": {},
   "outputs": [],
   "source": [
    "df = pl.DataFrame(dict(x=[1, 2, 1, 2, 3, 3], y=[10, 20, 30, 40, 50, 60]))"
   ]
  },
  {
   "cell_type": "markdown",
   "id": "5182627b-1cbb-4c14-b373-a7c446205361",
   "metadata": {},
   "source": [
    "### aggコンテキスト"
   ]
  },
  {
   "cell_type": "markdown",
   "id": "e56ea747-94c2-4bce-80e6-ab063447c211",
   "metadata": {},
   "source": [
    "次の`.agg()`中の式はx列で分けられた三つのグループのデータに対して処理します。式の出力は複数の値がある場合、listで保存します。"
   ]
  },
  {
   "cell_type": "code",
   "execution_count": 59,
   "id": "56f99b47-d8b3-4418-b107-9c53ce868642",
   "metadata": {},
   "outputs": [
    {
     "data": {
      "text/html": [
       "<div><style>\n",
       ".dataframe > thead > tr,\n",
       ".dataframe > tbody > tr {\n",
       "  text-align: right;\n",
       "  white-space: pre-wrap;\n",
       "}\n",
       "</style>\n",
       "<small>shape: (3, 4)</small><table border=\"1\" class=\"dataframe\"><thead><tr><th>x</th><th>y</th><th>y_mult_x</th><th>sum_y_mult_x</th></tr><tr><td>i64</td><td>list[i64]</td><td>list[i64]</td><td>i64</td></tr></thead><tbody><tr><td>3</td><td>[50, 60]</td><td>[150, 180]</td><td>330</td></tr><tr><td>2</td><td>[20, 40]</td><td>[40, 80]</td><td>120</td></tr><tr><td>1</td><td>[10, 30]</td><td>[10, 30]</td><td>40</td></tr></tbody></table></div>"
      ],
      "text/plain": [
       "shape: (3, 4)\n",
       "┌─────┬───────────┬────────────┬──────────────┐\n",
       "│ x   ┆ y         ┆ y_mult_x   ┆ sum_y_mult_x │\n",
       "│ --- ┆ ---       ┆ ---        ┆ ---          │\n",
       "│ i64 ┆ list[i64] ┆ list[i64]  ┆ i64          │\n",
       "╞═════╪═══════════╪════════════╪══════════════╡\n",
       "│ 3   ┆ [50, 60]  ┆ [150, 180] ┆ 330          │\n",
       "│ 2   ┆ [20, 40]  ┆ [40, 80]   ┆ 120          │\n",
       "│ 1   ┆ [10, 30]  ┆ [10, 30]   ┆ 40           │\n",
       "└─────┴───────────┴────────────┴──────────────┘"
      ]
     },
     "execution_count": 59,
     "metadata": {},
     "output_type": "execute_result"
    }
   ],
   "source": [
    "df.group_by('x').agg(\n",
    "    y = pl.col('y'),\n",
    "    y_mult_x = pl.col('y') * pl.col('x'),\n",
    "    sum_y_mult_x = (pl.col('y') * pl.col('x')).sum()\n",
    ")"
   ]
  },
  {
   "cell_type": "markdown",
   "id": "1e7ea544-e3d7-4947-95ec-f08afc8ffa73",
   "metadata": {},
   "source": [
    "(list_context)=\n",
    "### listコンテキスト"
   ]
  },
  {
   "cell_type": "markdown",
   "id": "6f850bd3-abca-433d-bd2e-155f0c28331c",
   "metadata": {},
   "source": [
    "`.list.eval()` の式のコンテキストは、処理対象の各リストとなります。以下のプログラムでは、`x`列中の各リストの平均値を計算し、それを用いて各リストを調整します。\n",
    "\n",
    "- **式❶**では、`list.mean()` を使って各リストの平均値を計算し、その平均値を各リストの要素から引き算します。\n",
    "- **式❷**では、`list.eval()` を使って `x`列の各リストを処理し、式❸を適用します。\n",
    "- **式❸**では、`pl.element()` が現在処理中のリストの各要素を表し、その要素からリスト全体の平均値を引き算します。"
   ]
  },
  {
   "cell_type": "code",
   "execution_count": 60,
   "id": "751568b6-dde9-4f48-81b3-ca649c33f0df",
   "metadata": {},
   "outputs": [
    {
     "data": {
      "text/html": [
       "<div><style>\n",
       ".dataframe > thead > tr,\n",
       ".dataframe > tbody > tr {\n",
       "  text-align: right;\n",
       "  white-space: pre-wrap;\n",
       "}\n",
       "</style>\n",
       "<small>shape: (3, 3)</small><table border=\"1\" class=\"dataframe\"><thead><tr><th>x</th><th>x1</th><th>x2</th></tr><tr><td>list[i64]</td><td>list[f64]</td><td>list[f64]</td></tr></thead><tbody><tr><td>[1, 2]</td><td>[-0.5, 0.5]</td><td>[-0.5, 0.5]</td></tr><tr><td>[3, 4, … 6]</td><td>[-1.5, -0.5, … 1.5]</td><td>[-1.5, -0.5, … 1.5]</td></tr><tr><td>[7, 8, 9]</td><td>[-1.0, 0.0, 1.0]</td><td>[-1.0, 0.0, 1.0]</td></tr></tbody></table></div>"
      ],
      "text/plain": [
       "shape: (3, 3)\n",
       "┌─────────────┬─────────────────────┬─────────────────────┐\n",
       "│ x           ┆ x1                  ┆ x2                  │\n",
       "│ ---         ┆ ---                 ┆ ---                 │\n",
       "│ list[i64]   ┆ list[f64]           ┆ list[f64]           │\n",
       "╞═════════════╪═════════════════════╪═════════════════════╡\n",
       "│ [1, 2]      ┆ [-0.5, 0.5]         ┆ [-0.5, 0.5]         │\n",
       "│ [3, 4, … 6] ┆ [-1.5, -0.5, … 1.5] ┆ [-1.5, -0.5, … 1.5] │\n",
       "│ [7, 8, 9]   ┆ [-1.0, 0.0, 1.0]    ┆ [-1.0, 0.0, 1.0]    │\n",
       "└─────────────┴─────────────────────┴─────────────────────┘"
      ]
     },
     "execution_count": 60,
     "metadata": {},
     "output_type": "execute_result"
    }
   ],
   "source": [
    "df = pl.DataFrame(dict(x=[[1, 2], [3, 4, 5, 6], [7, 8, 9]]))\n",
    "df.with_columns(\n",
    "    x1 = pl.col('x') - pl.col('x').list.mean(), #❶\n",
    "    x2 = pl.col('x').list.eval(                 #❷\n",
    "        pl.element() - pl.element().mean()      #❸\n",
    "    )\n",
    ")"
   ]
  },
  {
   "cell_type": "markdown",
   "id": "542a5188-931b-4028-bbe4-dbf04c7cd538",
   "metadata": {},
   "source": [
    "次のコードは、各リストの要素の中から、そのリストの平均値より大きい値を抽出します。このような処理は、`list.eval()` を使用することで簡潔に実装できます。`list.eval()` を使わない場合、リスト全体に対する要素ごとの条件処理を実現するのが難しくなります。\n",
    "\n",
    "- **式❹**では、`pl.element()` がリスト内の各要素を表します。\n",
    "- `pl.element().mean()` は現在処理中のリスト全体の平均値を計算します。\n",
    "- `filter` メソッドにより、各要素がリストの平均値より大きいかどうかを判定し、条件を満たす要素だけを抽出します。"
   ]
  },
  {
   "cell_type": "code",
   "execution_count": 61,
   "id": "0aa9eb8c-6b3d-4aa5-909e-9c6252598f3d",
   "metadata": {},
   "outputs": [
    {
     "data": {
      "text/html": [
       "<div><style>\n",
       ".dataframe > thead > tr,\n",
       ".dataframe > tbody > tr {\n",
       "  text-align: right;\n",
       "  white-space: pre-wrap;\n",
       "}\n",
       "</style>\n",
       "<small>shape: (3, 2)</small><table border=\"1\" class=\"dataframe\"><thead><tr><th>x</th><th>x_large</th></tr><tr><td>list[i64]</td><td>list[i64]</td></tr></thead><tbody><tr><td>[1, 2]</td><td>[2]</td></tr><tr><td>[3, 4, … 6]</td><td>[5, 6]</td></tr><tr><td>[7, 8, 9]</td><td>[9]</td></tr></tbody></table></div>"
      ],
      "text/plain": [
       "shape: (3, 2)\n",
       "┌─────────────┬───────────┐\n",
       "│ x           ┆ x_large   │\n",
       "│ ---         ┆ ---       │\n",
       "│ list[i64]   ┆ list[i64] │\n",
       "╞═════════════╪═══════════╡\n",
       "│ [1, 2]      ┆ [2]       │\n",
       "│ [3, 4, … 6] ┆ [5, 6]    │\n",
       "│ [7, 8, 9]   ┆ [9]       │\n",
       "└─────────────┴───────────┘"
      ]
     },
     "execution_count": 61,
     "metadata": {},
     "output_type": "execute_result"
    }
   ],
   "source": [
    "df.with_columns(\n",
    "    x_large = pl.col('x').list.eval(\n",
    "        pl.element().filter(pl.element() > pl.element().mean()) #❹\n",
    "    )    \n",
    ")"
   ]
  },
  {
   "cell_type": "markdown",
   "id": "7e81c4ce-f45d-4cdd-a622-976ffc8f6458",
   "metadata": {},
   "source": [
    "式❹の`pl.element()`を具体的なリストに置き換えることで、この計算の仕組みをより直感的に理解できます。たとえば、リスト`[7, 8, 9]`に対して、次のような計算を行います。"
   ]
  },
  {
   "cell_type": "code",
   "execution_count": 62,
   "id": "2753431d-a88c-4ad9-a47b-8d2b35608951",
   "metadata": {},
   "outputs": [
    {
     "data": {
      "text/plain": [
       "[9]"
      ]
     },
     "execution_count": 62,
     "metadata": {},
     "output_type": "execute_result"
    }
   ],
   "source": [
    "s = pl.Series([7, 8, 9])\n",
    "s.filter(s > s.mean()).to_list()"
   ]
  },
  {
   "cell_type": "markdown",
   "id": "509b5b19-4b15-45d9-bd13-3335ad263576",
   "metadata": {},
   "source": [
    "- この場合、`s.mean()` はリストの平均値を計算します (`8.0`)。\n",
    "- `s > s.mean()` は各要素が平均値より大きいかどうかを判定し、ブール値の配列 `[False, False, True]` を生成します。\n",
    "- `filter` メソッドを使うと、このブール条件を満たす要素（`9`）だけが抽出されます。"
   ]
  },
  {
   "cell_type": "markdown",
   "id": "cf688ab4-1eb0-4b30-b418-d8df8b7dd8f8",
   "metadata": {},
   "source": [
    "### fieldコンテキスト"
   ]
  },
  {
   "cell_type": "markdown",
   "id": "d4e54b9f-9db3-43fc-81ab-7bb0012190db",
   "metadata": {},
   "source": [
    "`.struct.with_fields()`中の式は、struct列の各個fieldに対して計算を行います。"
   ]
  },
  {
   "cell_type": "code",
   "execution_count": 63,
   "id": "92aaaee3-0b9a-442a-9ca5-ea79cf78d9e5",
   "metadata": {},
   "outputs": [
    {
     "data": {
      "text/html": [
       "<div><style>\n",
       ".dataframe > thead > tr,\n",
       ".dataframe > tbody > tr {\n",
       "  text-align: right;\n",
       "  white-space: pre-wrap;\n",
       "}\n",
       "</style>\n",
       "<small>shape: (3, 2)</small><table border=\"1\" class=\"dataframe\"><thead><tr><th>coords</th><th>multiply</th></tr><tr><td>struct[2]</td><td>i64</td></tr></thead><tbody><tr><td>{1,4}</td><td>10</td></tr><tr><td>{4,9}</td><td>2</td></tr><tr><td>{9,16}</td><td>3</td></tr></tbody></table></div>"
      ],
      "text/plain": [
       "shape: (3, 2)\n",
       "┌───────────┬──────────┐\n",
       "│ coords    ┆ multiply │\n",
       "│ ---       ┆ ---      │\n",
       "│ struct[2] ┆ i64      │\n",
       "╞═══════════╪══════════╡\n",
       "│ {1,4}     ┆ 10       │\n",
       "│ {4,9}     ┆ 2        │\n",
       "│ {9,16}    ┆ 3        │\n",
       "└───────────┴──────────┘"
      ]
     },
     "execution_count": 63,
     "metadata": {},
     "output_type": "execute_result"
    }
   ],
   "source": [
    "df = pl.DataFrame(\n",
    "    {\n",
    "        \"coords\": [{\"x\": 1, \"y\": 4}, {\"x\": 4, \"y\": 9}, {\"x\": 9, \"y\": 16}],\n",
    "        \"multiply\": [10, 2, 3],\n",
    "    }\n",
    ")\n",
    "df"
   ]
  },
  {
   "cell_type": "markdown",
   "id": "348ffc8b-2ff4-43f2-bfeb-ab9478fc734d",
   "metadata": {},
   "source": [
    "次の`.struct.with_fields()`の中の式では、`pl.field(name)`でstruct列のnameフィールドのデータを表します。"
   ]
  },
  {
   "cell_type": "code",
   "execution_count": 64,
   "id": "d1a9fb0f-0fbd-4b36-9c29-b55ab02f5fd7",
   "metadata": {},
   "outputs": [
    {
     "data": {
      "text/html": [
       "<div><style>\n",
       ".dataframe > thead > tr,\n",
       ".dataframe > tbody > tr {\n",
       "  text-align: right;\n",
       "  white-space: pre-wrap;\n",
       "}\n",
       "</style>\n",
       "<small>shape: (3, 3)</small><table border=\"1\" class=\"dataframe\"><thead><tr><th>x</th><th>y</th><th>dist</th></tr><tr><td>i64</td><td>i64</td><td>f64</td></tr></thead><tbody><tr><td>1</td><td>4</td><td>41.231056</td></tr><tr><td>4</td><td>9</td><td>19.697716</td></tr><tr><td>9</td><td>16</td><td>55.072679</td></tr></tbody></table></div>"
      ],
      "text/plain": [
       "shape: (3, 3)\n",
       "┌─────┬─────┬───────────┐\n",
       "│ x   ┆ y   ┆ dist      │\n",
       "│ --- ┆ --- ┆ ---       │\n",
       "│ i64 ┆ i64 ┆ f64       │\n",
       "╞═════╪═════╪═══════════╡\n",
       "│ 1   ┆ 4   ┆ 41.231056 │\n",
       "│ 4   ┆ 9   ┆ 19.697716 │\n",
       "│ 9   ┆ 16  ┆ 55.072679 │\n",
       "└─────┴─────┴───────────┘"
      ]
     },
     "execution_count": 64,
     "metadata": {},
     "output_type": "execute_result"
    }
   ],
   "source": [
    "df.select(\n",
    "    pl.col('coords').struct.with_fields(\n",
    "        dist = (pl.field('x') ** 2 + pl.field('y') ** 2).sqrt() * pl.col('multiply')      \n",
    "    ).struct.field('*')\n",
    ")"
   ]
  },
  {
   "attachments": {},
   "cell_type": "markdown",
   "id": "54451e3f-7b40-4853-aecc-d48b22aedcb5",
   "metadata": {},
   "source": [
    "## よく使われる演算式\n",
    "\n",
    "Polarsでは、グローバル関数や演算式メソッドを使って演算式を作成します。本節では、よく使われる演算式について説明します。"
   ]
  },
  {
   "attachments": {},
   "cell_type": "markdown",
   "id": "e5a4e5dd-b211-4aba-aaa1-476311433abb",
   "metadata": {},
   "source": [
    "### 演算子\n",
    "\n",
    "`+`, `-`, `*`, `/`などの演算子には、対応する演算式のメソッドも用意されています。たとえば、次のコードでは、`+` 演算子と `add()` メソッドを使用して `x` 列と `y` 列の和を求めています。また、`>=` 演算子と `ge()` メソッドを使用して列と数値の比較を行っています。"
   ]
  },
  {
   "cell_type": "code",
   "execution_count": 4,
   "id": "b84f2ad0-c8f7-4134-8c0c-4e27c0a14891",
   "metadata": {},
   "outputs": [
    {
     "data": {
      "text/html": [
       "<div><style>\n",
       ".dataframe > thead > tr,\n",
       ".dataframe > tbody > tr {\n",
       "  text-align: right;\n",
       "  white-space: pre-wrap;\n",
       "}\n",
       "</style>\n",
       "<small>shape: (4, 6)</small><table border=\"1\" class=\"dataframe\"><thead><tr><th>x</th><th>y</th><th>add1</th><th>add2</th><th>cond1</th><th>cond2</th></tr><tr><td>i64</td><td>i64</td><td>i64</td><td>i64</td><td>bool</td><td>bool</td></tr></thead><tbody><tr><td>1</td><td>40</td><td>41</td><td>41</td><td>false</td><td>false</td></tr><tr><td>2</td><td>30</td><td>32</td><td>32</td><td>false</td><td>false</td></tr><tr><td>3</td><td>20</td><td>23</td><td>23</td><td>true</td><td>true</td></tr><tr><td>4</td><td>10</td><td>14</td><td>14</td><td>true</td><td>true</td></tr></tbody></table></div>"
      ],
      "text/plain": [
       "shape: (4, 6)\n",
       "┌─────┬─────┬──────┬──────┬───────┬───────┐\n",
       "│ x   ┆ y   ┆ add1 ┆ add2 ┆ cond1 ┆ cond2 │\n",
       "│ --- ┆ --- ┆ ---  ┆ ---  ┆ ---   ┆ ---   │\n",
       "│ i64 ┆ i64 ┆ i64  ┆ i64  ┆ bool  ┆ bool  │\n",
       "╞═════╪═════╪══════╪══════╪═══════╪═══════╡\n",
       "│ 1   ┆ 40  ┆ 41   ┆ 41   ┆ false ┆ false │\n",
       "│ 2   ┆ 30  ┆ 32   ┆ 32   ┆ false ┆ false │\n",
       "│ 3   ┆ 20  ┆ 23   ┆ 23   ┆ true  ┆ true  │\n",
       "│ 4   ┆ 10  ┆ 14   ┆ 14   ┆ true  ┆ true  │\n",
       "└─────┴─────┴──────┴──────┴───────┴───────┘"
      ]
     },
     "execution_count": 4,
     "metadata": {},
     "output_type": "execute_result"
    }
   ],
   "source": [
    "df = pl.DataFrame(dict(\n",
    "    x=[1, 2, 3, 4],\n",
    "    y=[40, 30, 20, 10]\n",
    "))\n",
    "\n",
    "df.with_columns(\n",
    "    add1=pl.col('x') + pl.col('y'),\n",
    "    add2=pl.col('x').add(pl.col('y')),\n",
    "    cond1=pl.col('x') >= 3,\n",
    "    cond2=pl.col('x').ge(3)\n",
    ")"
   ]
  },
  {
   "cell_type": "markdown",
   "id": "4d6437cd-0d56-4f08-ae7e-aa447c6e6d47",
   "metadata": {},
   "source": [
    "`&` と `|` に対しては、それぞれ `and_` と `or_` メソッドが対応します。次のコードでは、`|` 演算子と `or_()` メソッドを使って2つの条件の論理和 (OR) を計算しています。"
   ]
  },
  {
   "cell_type": "code",
   "execution_count": 5,
   "id": "4a6e0c50-2ca5-47ae-9e92-9d02f225d3ed",
   "metadata": {},
   "outputs": [
    {
     "data": {
      "text/html": [
       "<div><style>\n",
       ".dataframe > thead > tr,\n",
       ".dataframe > tbody > tr {\n",
       "  text-align: right;\n",
       "  white-space: pre-wrap;\n",
       "}\n",
       "</style>\n",
       "<small>shape: (4, 4)</small><table border=\"1\" class=\"dataframe\"><thead><tr><th>x</th><th>y</th><th>cond1</th><th>cond2</th></tr><tr><td>i64</td><td>i64</td><td>bool</td><td>bool</td></tr></thead><tbody><tr><td>1</td><td>40</td><td>false</td><td>false</td></tr><tr><td>2</td><td>30</td><td>false</td><td>false</td></tr><tr><td>3</td><td>20</td><td>false</td><td>false</td></tr><tr><td>4</td><td>10</td><td>true</td><td>true</td></tr></tbody></table></div>"
      ],
      "text/plain": [
       "shape: (4, 4)\n",
       "┌─────┬─────┬───────┬───────┐\n",
       "│ x   ┆ y   ┆ cond1 ┆ cond2 │\n",
       "│ --- ┆ --- ┆ ---   ┆ ---   │\n",
       "│ i64 ┆ i64 ┆ bool  ┆ bool  │\n",
       "╞═════╪═════╪═══════╪═══════╡\n",
       "│ 1   ┆ 40  ┆ false ┆ false │\n",
       "│ 2   ┆ 30  ┆ false ┆ false │\n",
       "│ 3   ┆ 20  ┆ false ┆ false │\n",
       "│ 4   ┆ 10  ┆ true  ┆ true  │\n",
       "└─────┴─────┴───────┴───────┘"
      ]
     },
     "execution_count": 5,
     "metadata": {},
     "output_type": "execute_result"
    }
   ],
   "source": [
    "df.with_columns(\n",
    "    cond1=(pl.col('x') > 3) | (pl.col('y') < 10),\n",
    "    cond2=pl.col('x').gt(3).or_(pl.col('y').lt(10))\n",
    ")"
   ]
  },
  {
   "attachments": {},
   "cell_type": "markdown",
   "id": "a10e1355-7bb0-46c5-a9d7-3d4e3741725a",
   "metadata": {},
   "source": [
    "### 数学関数\n",
    "\n",
    "`sin` や `sqrt` といった単項関数は、対応するメソッドを使用して計算します。一方、`arctan2` のような二項関数は、グローバル関数を使用して計算します。"
   ]
  },
  {
   "cell_type": "code",
   "execution_count": 6,
   "id": "af553af9-a8f4-4390-b45e-a0c1085f5bc4",
   "metadata": {},
   "outputs": [
    {
     "data": {
      "text/html": [
       "<div><style>\n",
       ".dataframe > thead > tr,\n",
       ".dataframe > tbody > tr {\n",
       "  text-align: right;\n",
       "  white-space: pre-wrap;\n",
       "}\n",
       "</style>\n",
       "<small>shape: (4, 5)</small><table border=\"1\" class=\"dataframe\"><thead><tr><th>x</th><th>y</th><th>sin</th><th>sqrt</th><th>arctan</th></tr><tr><td>i64</td><td>i64</td><td>f64</td><td>f64</td><td>f64</td></tr></thead><tbody><tr><td>1</td><td>40</td><td>0.841471</td><td>6.324555</td><td>1.545802</td></tr><tr><td>2</td><td>30</td><td>0.909297</td><td>5.477226</td><td>1.504228</td></tr><tr><td>3</td><td>20</td><td>0.14112</td><td>4.472136</td><td>1.421906</td></tr><tr><td>4</td><td>10</td><td>-0.756802</td><td>3.162278</td><td>1.19029</td></tr></tbody></table></div>"
      ],
      "text/plain": [
       "shape: (4, 5)\n",
       "┌─────┬─────┬───────────┬──────────┬──────────┐\n",
       "│ x   ┆ y   ┆ sin       ┆ sqrt     ┆ arctan   │\n",
       "│ --- ┆ --- ┆ ---       ┆ ---      ┆ ---      │\n",
       "│ i64 ┆ i64 ┆ f64       ┆ f64      ┆ f64      │\n",
       "╞═════╪═════╪═══════════╪══════════╪══════════╡\n",
       "│ 1   ┆ 40  ┆ 0.841471  ┆ 6.324555 ┆ 1.545802 │\n",
       "│ 2   ┆ 30  ┆ 0.909297  ┆ 5.477226 ┆ 1.504228 │\n",
       "│ 3   ┆ 20  ┆ 0.14112   ┆ 4.472136 ┆ 1.421906 │\n",
       "│ 4   ┆ 10  ┆ -0.756802 ┆ 3.162278 ┆ 1.19029  │\n",
       "└─────┴─────┴───────────┴──────────┴──────────┘"
      ]
     },
     "execution_count": 6,
     "metadata": {},
     "output_type": "execute_result"
    }
   ],
   "source": [
    "df.with_columns(\n",
    "    sin=pl.col('x').sin(),\n",
    "    sqrt=pl.col('y').sqrt(),\n",
    "    arctan=pl.arctan2(pl.col('y'), pl.col('x')),\n",
    ")"
   ]
  },
  {
   "attachments": {},
   "cell_type": "markdown",
   "id": "1dbaaaaa-1ef4-449e-bc76-ec6e55a26435",
   "metadata": {},
   "source": [
    "### 条件分岐\n",
    "\n",
    "条件分岐は、`pl.when(cond)` を起点とし、その後に `.then()` や `.when()`、`.otherwise()` などのメソッドを組み合わせて表現します。たとえば、次のコードは以下の条件分岐を実現します。\n",
    "\n",
    "```python\n",
    "if x > 4:\n",
    "    result = 'very good'\n",
    "elif x > 3:\n",
    "    result = 'good'\n",
    "elif x > 2:\n",
    "    result = 'fair'\n",
    "elif x > 1:\n",
    "    result = 'bad'\n",
    "else:\n",
    "    result = 'very bad'\n",
    "```"
   ]
  },
  {
   "cell_type": "code",
   "execution_count": 7,
   "id": "7bc99bc3-f298-448b-beeb-ef8428e45222",
   "metadata": {},
   "outputs": [
    {
     "data": {
      "text/html": [
       "<div><style>\n",
       ".dataframe > thead > tr,\n",
       ".dataframe > tbody > tr {\n",
       "  text-align: right;\n",
       "  white-space: pre-wrap;\n",
       "}\n",
       "</style>\n",
       "<small>shape: (4, 3)</small><table border=\"1\" class=\"dataframe\"><thead><tr><th>x</th><th>y</th><th>level</th></tr><tr><td>i64</td><td>i64</td><td>str</td></tr></thead><tbody><tr><td>1</td><td>40</td><td>&quot;very bad&quot;</td></tr><tr><td>2</td><td>30</td><td>&quot;bad&quot;</td></tr><tr><td>3</td><td>20</td><td>&quot;fair&quot;</td></tr><tr><td>4</td><td>10</td><td>&quot;good&quot;</td></tr></tbody></table></div>"
      ],
      "text/plain": [
       "shape: (4, 3)\n",
       "┌─────┬─────┬──────────┐\n",
       "│ x   ┆ y   ┆ level    │\n",
       "│ --- ┆ --- ┆ ---      │\n",
       "│ i64 ┆ i64 ┆ str      │\n",
       "╞═════╪═════╪══════════╡\n",
       "│ 1   ┆ 40  ┆ very bad │\n",
       "│ 2   ┆ 30  ┆ bad      │\n",
       "│ 3   ┆ 20  ┆ fair     │\n",
       "│ 4   ┆ 10  ┆ good     │\n",
       "└─────┴─────┴──────────┘"
      ]
     },
     "execution_count": 7,
     "metadata": {},
     "output_type": "execute_result"
    }
   ],
   "source": [
    "df.with_columns(\n",
    "    pl.when(pl.col('x') > 4)\n",
    "      .then(pl.lit('very good'))\n",
    "      .when(pl.col('x') > 3)\n",
    "      .then(pl.lit('good'))\n",
    "      .when(pl.col('x') > 2)    \n",
    "      .then(pl.lit('fair'))\n",
    "      .when(pl.col('x') > 1)    \n",
    "      .then(pl.lit('bad'))    \n",
    "      .otherwise(pl.lit('very bad'))\n",
    "      .alias('level')\n",
    ")"
   ]
  },
  {
   "cell_type": "markdown",
   "id": "d775ac46-9fd1-4eef-87c4-185f956f750d",
   "metadata": {},
   "source": [
    "`when-then-otherwise` の各式は並列に実行され、条件にかかわらずすべて評価されます。そのため、`then` や `otherwise` に渡される式は、列全体に対して常に有効である必要があります。次のコードは'D'から始まる文字列の後ろの部分を整数に変換しますが、 `\"HAB\"` や `\"HFF\"` など、`\"D\"` で始まらない値にも `str.slice(1).str.to_integer()` が適用されようとするため、数値に変換できずエラーになります。\n",
    "\n",
    "[この件にかんするイシュー](https://github.com/pola-rs/polars/issues/17601)"
   ]
  },
  {
   "cell_type": "code",
   "execution_count": 10,
   "id": "6c017d4f-061c-4bb7-aee7-f88064e26482",
   "metadata": {},
   "outputs": [
    {
     "name": "stdout",
     "output_type": "stream",
     "text": [
      "ComputeError: strict integer parsing failed for 2 value(s): [\"AB\", \"FF\"]; error message for the first shown value: 'invalid digit found in string' (consider non-strict parsing)\n"
     ]
    }
   ],
   "source": [
    "%%capture_except\n",
    "df_s = pl.DataFrame(dict(val=[\"D12\", \"D32\", \"HAB\", \"HFF\", \"D100\"]))\n",
    "\n",
    "df_s.select(\n",
    "    pl.when(pl.col(\"val\").str.starts_with(\"D\"))\n",
    "    .then(pl.col(\"val\").str.slice(1).str.to_integer())\n",
    "    .otherwise(None)\n",
    ")"
   ]
  },
  {
   "cell_type": "markdown",
   "id": "597b5556-913f-4199-8b4d-20f1931352bf",
   "metadata": {},
   "source": [
    "次のように`str.to_integer(strict=False)`を使うことで、整数に変換できない文字列を`null`にするようにして、エラーを回避することができます。"
   ]
  },
  {
   "cell_type": "code",
   "execution_count": 11,
   "id": "35d45c4b-fa85-4670-ac0c-704006e88816",
   "metadata": {},
   "outputs": [],
   "source": [
    "df_s1 = df_s.select(\n",
    "    pl.when(pl.col(\"val\").str.starts_with(\"D\"))\n",
    "    .then(pl.col(\"val\").str.slice(1).str.to_integer(strict=False))\n",
    "    .otherwise(None)\n",
    ")"
   ]
  },
  {
   "cell_type": "markdown",
   "id": "e2004ead-36ca-4fd3-abca-67c0054f90ad",
   "metadata": {},
   "source": [
    "または、`when-then-otherwise` で条件を満たさない値を `null` に変換してから、データの変換を行います。"
   ]
  },
  {
   "cell_type": "code",
   "execution_count": 12,
   "id": "24a0e06d-badc-427d-a389-d91338414b51",
   "metadata": {},
   "outputs": [
    {
     "data": {
      "text/html": [
       "<table><tr><td><div><style>\n",
       ".dataframe > thead > tr,\n",
       ".dataframe > tbody > tr {\n",
       "  text-align: right;\n",
       "  white-space: pre-wrap;\n",
       "}\n",
       "</style>\n",
       "<small>shape: (5, 1)</small><table border=\"1\" class=\"dataframe\"><thead><tr><th>val</th></tr><tr><td>i64</td></tr></thead><tbody><tr><td>12</td></tr><tr><td>32</td></tr><tr><td>null</td></tr><tr><td>null</td></tr><tr><td>100</td></tr></tbody></table></div></td><td><div><style>\n",
       ".dataframe > thead > tr,\n",
       ".dataframe > tbody > tr {\n",
       "  text-align: right;\n",
       "  white-space: pre-wrap;\n",
       "}\n",
       "</style>\n",
       "<small>shape: (5, 1)</small><table border=\"1\" class=\"dataframe\"><thead><tr><th>val</th></tr><tr><td>i64</td></tr></thead><tbody><tr><td>12</td></tr><tr><td>32</td></tr><tr><td>null</td></tr><tr><td>null</td></tr><tr><td>100</td></tr></tbody></table></div></td></tr></table>"
      ]
     },
     "metadata": {},
     "output_type": "display_data"
    }
   ],
   "source": [
    "df_s2 = df_s.select(\n",
    "    pl.when(pl.col(\"val\").str.starts_with(\"D\"))\n",
    "    .then(\"val\")\n",
    "    .otherwise(None)\n",
    "    .str.slice(1)\n",
    "    .str.to_integer()\n",
    ")\n",
    "\n",
    "row(df_s1, df_s2)"
   ]
  },
  {
   "cell_type": "markdown",
   "id": "00970cb5-5309-4e1d-9579-bd3aeb9db8da",
   "metadata": {},
   "source": [
    "`.cut()` は、指定された境界値に基づいてデータを切り分け、各区間にラベルを付けることができる関数です。\n",
    "\n",
    "- `breaks` 引数には、N 個の境界値を指定します。  \n",
    "- `labels` 引数には、N+1 個のラベルを指定します。  \n",
    "- `left_closed` 引数で、区間が**左側閉区間**か**右側閉区間**かを指定します。\n",
    "\n",
    "以下のコードは、`x` 列を `cut()` を使ってラベル付けする例です\n",
    "\n",
    "- `left_closed=False`: 右側が閉区間の場合\n",
    "  - `x <= 1` → very bad\n",
    "  - `1 < x <= 2` → bad\n",
    "  - `2 < x <= 3` → fair\n",
    "  - `3 < x <= 4` → good\n",
    "  - `4 < x` → very good\n",
    "\n",
    "- `left_closed=True`: 左側が閉区間の場合\n",
    "  - `x < 1` → very bad\n",
    "  - `1 <= x < 2` → bad\n",
    "  - `2 <= x < 3` → fair\n",
    "  - `3 <= x < 4` → good  \n",
    "  - `4 <= x` → very good\n"
   ]
  },
  {
   "cell_type": "code",
   "execution_count": 136,
   "id": "723d521f-5268-46f9-93db-5225c4269988",
   "metadata": {},
   "outputs": [
    {
     "data": {
      "text/html": [
       "<div><style>\n",
       ".dataframe > thead > tr,\n",
       ".dataframe > tbody > tr {\n",
       "  text-align: right;\n",
       "  white-space: pre-wrap;\n",
       "}\n",
       "</style>\n",
       "<small>shape: (4, 4)</small><table border=\"1\" class=\"dataframe\"><thead><tr><th>x</th><th>y</th><th>level_right</th><th>leve_left</th></tr><tr><td>i64</td><td>i64</td><td>cat</td><td>cat</td></tr></thead><tbody><tr><td>1</td><td>40</td><td>&quot;very bad&quot;</td><td>&quot;bad&quot;</td></tr><tr><td>2</td><td>30</td><td>&quot;bad&quot;</td><td>&quot;fair&quot;</td></tr><tr><td>3</td><td>20</td><td>&quot;fair&quot;</td><td>&quot;good&quot;</td></tr><tr><td>4</td><td>10</td><td>&quot;good&quot;</td><td>&quot;very good&quot;</td></tr></tbody></table></div>"
      ],
      "text/plain": [
       "shape: (4, 4)\n",
       "┌─────┬─────┬─────────────┬───────────┐\n",
       "│ x   ┆ y   ┆ level_right ┆ leve_left │\n",
       "│ --- ┆ --- ┆ ---         ┆ ---       │\n",
       "│ i64 ┆ i64 ┆ cat         ┆ cat       │\n",
       "╞═════╪═════╪═════════════╪═══════════╡\n",
       "│ 1   ┆ 40  ┆ very bad    ┆ bad       │\n",
       "│ 2   ┆ 30  ┆ bad         ┆ fair      │\n",
       "│ 3   ┆ 20  ┆ fair        ┆ good      │\n",
       "│ 4   ┆ 10  ┆ good        ┆ very good │\n",
       "└─────┴─────┴─────────────┴───────────┘"
      ]
     },
     "execution_count": 136,
     "metadata": {},
     "output_type": "execute_result"
    }
   ],
   "source": [
    "labels = ['very bad', 'bad', 'fair', 'good', 'very good']\n",
    "df.with_columns(\n",
    "    level_right=pl.col('x').cut(breaks=[1, 2, 3, 4], labels=labels, left_closed=False),\n",
    "    leve_left=pl.col('x').cut(breaks=[1, 2, 3, 4], labels=labels, left_closed=True),\n",
    ")"
   ]
  },
  {
   "cell_type": "markdown",
   "id": "a3a9bf0f-d1a3-40cf-9cb9-14516844bf9b",
   "metadata": {},
   "source": [
    "`.clip()` は、指定した最小値や最大値を境界として、値がその範囲を超えた場合に境界値へ変換することができる関数です。以下の例では、`y` 列を様々な境界条件でクリップ処理しています。\n",
    "\n",
    "- `y1` 列: `y` 列の値を 20 ～ 30 の範囲内に収めます。  \n",
    "- `y2` 列: 下限値のみを 30 に設定し、それより小さい値を 30 にクリップします。  \n",
    "- `y3` 列: 上限値のみを 20 に設定し、それより大きい値を 20 にクリップします。  \n",
    "- `y4` 列: 上限値と下限値を演算式で指定します。この場合、各要素ごとに個別の境界値が計算され、それを基準にクリップされます。"
   ]
  },
  {
   "cell_type": "code",
   "execution_count": 117,
   "id": "053eb9e6-dea8-4497-9083-56265e6a25c4",
   "metadata": {},
   "outputs": [
    {
     "data": {
      "text/html": [
       "<div><style>\n",
       ".dataframe > thead > tr,\n",
       ".dataframe > tbody > tr {\n",
       "  text-align: right;\n",
       "  white-space: pre-wrap;\n",
       "}\n",
       "</style>\n",
       "<small>shape: (4, 6)</small><table border=\"1\" class=\"dataframe\"><thead><tr><th>x</th><th>y</th><th>y1</th><th>y2</th><th>y3</th><th>y4</th></tr><tr><td>i64</td><td>i64</td><td>i64</td><td>i64</td><td>i64</td><td>i64</td></tr></thead><tbody><tr><td>1</td><td>40</td><td>30</td><td>40</td><td>20</td><td>20</td></tr><tr><td>2</td><td>30</td><td>30</td><td>30</td><td>20</td><td>30</td></tr><tr><td>3</td><td>20</td><td>20</td><td>30</td><td>20</td><td>30</td></tr><tr><td>4</td><td>10</td><td>20</td><td>30</td><td>10</td><td>40</td></tr></tbody></table></div>"
      ],
      "text/plain": [
       "shape: (4, 6)\n",
       "┌─────┬─────┬─────┬─────┬─────┬─────┐\n",
       "│ x   ┆ y   ┆ y1  ┆ y2  ┆ y3  ┆ y4  │\n",
       "│ --- ┆ --- ┆ --- ┆ --- ┆ --- ┆ --- │\n",
       "│ i64 ┆ i64 ┆ i64 ┆ i64 ┆ i64 ┆ i64 │\n",
       "╞═════╪═════╪═════╪═════╪═════╪═════╡\n",
       "│ 1   ┆ 40  ┆ 30  ┆ 40  ┆ 20  ┆ 20  │\n",
       "│ 2   ┆ 30  ┆ 30  ┆ 30  ┆ 20  ┆ 30  │\n",
       "│ 3   ┆ 20  ┆ 20  ┆ 30  ┆ 20  ┆ 30  │\n",
       "│ 4   ┆ 10  ┆ 20  ┆ 30  ┆ 10  ┆ 40  │\n",
       "└─────┴─────┴─────┴─────┴─────┴─────┘"
      ]
     },
     "execution_count": 117,
     "metadata": {},
     "output_type": "execute_result"
    }
   ],
   "source": [
    "df.with_columns(\n",
    "    y1=pl.col('y').clip(20, 30),\n",
    "    y2=pl.col('y').clip(lower_bound=30),\n",
    "    y3=pl.col('y').clip(upper_bound=20),\n",
    "    y4=pl.col('y').clip(pl.col('x') * 10, pl.col('x') * 20)\n",
    ")"
   ]
  },
  {
   "attachments": {},
   "cell_type": "markdown",
   "id": "9dfa82a9-523c-4ff8-b0db-82c09ec408b1",
   "metadata": {},
   "source": [
    "### 要素の置き換え\n",
    "\n",
    "`.replace()` と `.replace_strict()` を使用すると、要素を置き換えることができます。置き換え前後の値を、二つのリストまたは一つの辞書として渡すことができます。両者の違いは以下の通りです：\n",
    "\n",
    "- **`.replace()`**: 一部の要素を置き換えます。結果は元のデータ型のままとなります。\n",
    "- **`.replace_strict()`**: すべての要素を置き換えます。結果は置き換え後のデータ型に変わります。\n",
    "\n",
    "次のコードでは、`x` 列の値は置き換え後に文字列型 (`x2`列) に変わり、`y` 列の値は元のデータ型のまま (`y2`列) です。"
   ]
  },
  {
   "cell_type": "code",
   "execution_count": 141,
   "id": "4d091491-c8bd-41e7-bf44-4afd6ba2cd5d",
   "metadata": {},
   "outputs": [
    {
     "data": {
      "text/html": [
       "<div><style>\n",
       ".dataframe > thead > tr,\n",
       ".dataframe > tbody > tr {\n",
       "  text-align: right;\n",
       "  white-space: pre-wrap;\n",
       "}\n",
       "</style>\n",
       "<small>shape: (4, 4)</small><table border=\"1\" class=\"dataframe\"><thead><tr><th>x</th><th>y</th><th>x2</th><th>y2</th></tr><tr><td>i64</td><td>i64</td><td>str</td><td>i64</td></tr></thead><tbody><tr><td>1</td><td>40</td><td>&quot;very bad&quot;</td><td>40</td></tr><tr><td>2</td><td>30</td><td>&quot;bad&quot;</td><td>30</td></tr><tr><td>3</td><td>20</td><td>&quot;fair&quot;</td><td>200</td></tr><tr><td>4</td><td>10</td><td>&quot;unknown&quot;</td><td>100</td></tr></tbody></table></div>"
      ],
      "text/plain": [
       "shape: (4, 4)\n",
       "┌─────┬─────┬──────────┬─────┐\n",
       "│ x   ┆ y   ┆ x2       ┆ y2  │\n",
       "│ --- ┆ --- ┆ ---      ┆ --- │\n",
       "│ i64 ┆ i64 ┆ str      ┆ i64 │\n",
       "╞═════╪═════╪══════════╪═════╡\n",
       "│ 1   ┆ 40  ┆ very bad ┆ 40  │\n",
       "│ 2   ┆ 30  ┆ bad      ┆ 30  │\n",
       "│ 3   ┆ 20  ┆ fair     ┆ 200 │\n",
       "│ 4   ┆ 10  ┆ unknown  ┆ 100 │\n",
       "└─────┴─────┴──────────┴─────┘"
      ]
     },
     "execution_count": 141,
     "metadata": {},
     "output_type": "execute_result"
    }
   ],
   "source": [
    "df.with_columns(\n",
    "    x2=pl.col('x').replace_strict({1:'very bad', 2:'bad', 3:'fair'}, default='unknown'),\n",
    "    y2=pl.col('y').replace([10, 20], [100, 200]),\n",
    ")"
   ]
  },
  {
   "cell_type": "markdown",
   "id": "f5837fa3-7da5-469d-a359-04f493993c69",
   "metadata": {},
   "source": [
    "### データの選択"
   ]
  },
  {
   "cell_type": "markdown",
   "id": "5f0d580e-6557-4db3-8459-7990be399e33",
   "metadata": {},
   "source": [
    "Polars の演算式メソッドを使用して、特定の条件に基づいたデータの抽出や処理が可能です。以下は代表的なメソッドとその用途を示します。\n",
    "\n",
    "| **メソッド**       | **説明**                                                                                  |\n",
    "|--------------------|-----------------------------------------------------------------------------------------|\n",
    "| `.head(n)`         | 最初の `n` 行を取得します。                                                             |\n",
    "| `.tail(n)`         | 最後の `n` 行を取得します。                                                             |\n",
    "| `.slice(offset, n)`| 指定したオフセットから `n` 行を取得します。                                               |\n",
    "| `.get(index)`      | 指定したインデックスの値を取得します。                                                   |\n",
    "| `.gather(indices)` | 指定したインデックスリストに基づいて行を取得します。                                      |\n",
    "| `.gather_every(n, offset=0)` | 指定したステップ間隔で行を取得します。                                            |\n",
    "| `.filter(condition)`| 条件を満たす行を取得します。                                                           |\n",
    "| `.top_k(k)`        | 値が上位 `k` 個の行を取得します。                                                       |\n",
    "| `.top_k_by(col, k)`| 指定した列に基づいて値が上位 `k` 個の行を取得します。                                      |\n",
    "| `.bottom_k(k)`     | 値が下位 `k` 個の行を取得します。                                                       |\n",
    "| `.bottom_k_by(col, k)`| 指定した列に基づいて値が下位 `k` 個の行を取得します。                                    |\n",
    "| `.sample(n)`       | ランダムに `n` 行を取得します。                                                         |"
   ]
  },
  {
   "cell_type": "code",
   "execution_count": 69,
   "id": "1a3fdfc7-2b48-437f-aa60-544bc1479669",
   "metadata": {},
   "outputs": [
    {
     "data": {
      "text/html": [
       "<table><tr><td><div><style>\n",
       ".dataframe > thead > tr,\n",
       ".dataframe > tbody > tr {\n",
       "  text-align: right;\n",
       "  white-space: pre-wrap;\n",
       "}\n",
       "</style>\n",
       "<small>shape: (4, 2)</small><table border=\"1\" class=\"dataframe\"><thead><tr><th>x</th><th>y</th></tr><tr><td>i64</td><td>i64</td></tr></thead><tbody><tr><td>1</td><td>40</td></tr><tr><td>2</td><td>30</td></tr><tr><td>3</td><td>20</td></tr><tr><td>4</td><td>10</td></tr></tbody></table></div></td><td><div><style>\n",
       ".dataframe > thead > tr,\n",
       ".dataframe > tbody > tr {\n",
       "  text-align: right;\n",
       "  white-space: pre-wrap;\n",
       "}\n",
       "</style>\n",
       "<small>shape: (2, 12)</small><table border=\"1\" class=\"dataframe\"><thead><tr><th>head</th><th>tail</th><th>slice</th><th>get</th><th>gather</th><th>gather_every</th><th>filter</th><th>top_k</th><th>top_k_by</th><th>bottom_k</th><th>bottom_k_by</th><th>sample</th></tr><tr><td>i64</td><td>i64</td><td>i64</td><td>i64</td><td>i64</td><td>i64</td><td>i64</td><td>i64</td><td>i64</td><td>i64</td><td>i64</td><td>i64</td></tr></thead><tbody><tr><td>1</td><td>3</td><td>2</td><td>4</td><td>1</td><td>2</td><td>1</td><td>4</td><td>1</td><td>1</td><td>4</td><td>2</td></tr><tr><td>2</td><td>4</td><td>3</td><td>4</td><td>4</td><td>4</td><td>3</td><td>3</td><td>2</td><td>2</td><td>3</td><td>1</td></tr></tbody></table></div></td></tr></table>"
      ]
     },
     "metadata": {},
     "output_type": "display_data"
    }
   ],
   "source": [
    "df_res = df.select(\n",
    "    head=pl.col(\"x\").head(2),                       # 最初の2行\n",
    "    tail=pl.col(\"x\").tail(2),                       # 最後の2行\n",
    "    slice=pl.col(\"x\").slice(1, 2),                  # オフセット1から2行\n",
    "    get=pl.col(\"x\").get(3),                         # インデックス3の値\n",
    "    gather=pl.col(\"x\").gather([0, 3]),              # インデックス0と3の行\n",
    "    gather_every=pl.col(\"x\").gather_every(2, offset=1), # 1オフセットで2ステップごと\n",
    "    filter=pl.col(\"x\").filter(pl.col(\"y\") // 10 % 2 == 0), # 条件でフィルタ\n",
    "    top_k=pl.col(\"x\").top_k(2),                     # 上位2件\n",
    "    top_k_by=pl.col(\"x\").top_k_by(pl.col(\"y\"), 2),  # y列に基づく上位2件\n",
    "    bottom_k=pl.col(\"x\").bottom_k(2),               # 下位2件\n",
    "    bottom_k_by=pl.col(\"x\").bottom_k_by(pl.col(\"y\"), 2), # y列に基づく下位2件\n",
    "    sample=pl.col(\"x\").sample(2),                   # ランダム2行\n",
    ")\n",
    "row(df, df_res)"
   ]
  },
  {
   "cell_type": "markdown",
   "id": "aaff647d-69cc-478c-8238-6d07318bae02",
   "metadata": {},
   "source": [
    "Polars の多くのメソッドでは、単なる値だけでなく、演算式を引数として渡すことができます。これにより、柔軟で動的なデータ操作が可能になります。例えば、`.get()` メソッドに演算式を渡すことで、複数の要素を動的に取得することができます。\n",
    "\n",
    "次のコードでは、\n",
    "\n",
    "- `pl.len()` でデータフレームの行数を取得します。\n",
    "- `(pl.col(\"x\") + 1) % pl.len()`で、列 `x` の各要素に 1 を足し、データフレームの行数で割った余りをインデックスとします。\n",
    "- `.get()` で上の式で計算したインデックスを使用し、要素を取得します。"
   ]
  },
  {
   "cell_type": "code",
   "execution_count": 70,
   "id": "624900a1-3cfa-4c13-af22-6050af5dd43c",
   "metadata": {},
   "outputs": [
    {
     "data": {
      "text/html": [
       "<div><style>\n",
       ".dataframe > thead > tr,\n",
       ".dataframe > tbody > tr {\n",
       "  text-align: right;\n",
       "  white-space: pre-wrap;\n",
       "}\n",
       "</style>\n",
       "<small>shape: (4, 3)</small><table border=\"1\" class=\"dataframe\"><thead><tr><th>x</th><th>y</th><th>get</th></tr><tr><td>i64</td><td>i64</td><td>i64</td></tr></thead><tbody><tr><td>1</td><td>40</td><td>20</td></tr><tr><td>2</td><td>30</td><td>10</td></tr><tr><td>3</td><td>20</td><td>40</td></tr><tr><td>4</td><td>10</td><td>30</td></tr></tbody></table></div>"
      ],
      "text/plain": [
       "shape: (4, 3)\n",
       "┌─────┬─────┬─────┐\n",
       "│ x   ┆ y   ┆ get │\n",
       "│ --- ┆ --- ┆ --- │\n",
       "│ i64 ┆ i64 ┆ i64 │\n",
       "╞═════╪═════╪═════╡\n",
       "│ 1   ┆ 40  ┆ 20  │\n",
       "│ 2   ┆ 30  ┆ 10  │\n",
       "│ 3   ┆ 20  ┆ 40  │\n",
       "│ 4   ┆ 10  ┆ 30  │\n",
       "└─────┴─────┴─────┘"
      ]
     },
     "execution_count": 70,
     "metadata": {},
     "output_type": "execute_result"
    }
   ],
   "source": [
    "df.with_columns(\n",
    "    get=pl.col('y').get((pl.col('x') + 1) % pl.len())\n",
    ")"
   ]
  },
  {
   "attachments": {},
   "cell_type": "markdown",
   "id": "4858ae31-cce2-4ee9-80f0-164e0d0ef4b2",
   "metadata": {},
   "source": [
    "### データの結合\n",
    "\n",
    "`concat()` や `.append()` を使用すると、複数の演算結果を縦方向に結合することができます。一方、`.extend_constant()` を使用すると、定数を複数回追加することができます。\n",
    "\n",
    "以下のプログラムは、`x` 列と `y` 列の一部或いは定数を結合する例を示しています。"
   ]
  },
  {
   "cell_type": "code",
   "execution_count": 104,
   "id": "252e862b-7a59-4a71-832f-adbefd983fb8",
   "metadata": {},
   "outputs": [
    {
     "data": {
      "text/html": [
       "<table><tr><td><div><style>\n",
       ".dataframe > thead > tr,\n",
       ".dataframe > tbody > tr {\n",
       "  text-align: right;\n",
       "  white-space: pre-wrap;\n",
       "}\n",
       "</style>\n",
       "<small>shape: (4, 2)</small><table border=\"1\" class=\"dataframe\"><thead><tr><th>x</th><th>y</th></tr><tr><td>i64</td><td>i64</td></tr></thead><tbody><tr><td>1</td><td>40</td></tr><tr><td>2</td><td>30</td></tr><tr><td>3</td><td>20</td></tr><tr><td>4</td><td>10</td></tr></tbody></table></div></td><td><div><style>\n",
       ".dataframe > thead > tr,\n",
       ".dataframe > tbody > tr {\n",
       "  text-align: right;\n",
       "  white-space: pre-wrap;\n",
       "}\n",
       "</style>\n",
       "<small>shape: (6, 3)</small><table border=\"1\" class=\"dataframe\"><thead><tr><th>append</th><th>concat</th><th>extend</th></tr><tr><td>i64</td><td>i64</td><td>i64</td></tr></thead><tbody><tr><td>1</td><td>1</td><td>1</td></tr><tr><td>2</td><td>2</td><td>2</td></tr><tr><td>3</td><td>3</td><td>3</td></tr><tr><td>4</td><td>4</td><td>4</td></tr><tr><td>30</td><td>30</td><td>99</td></tr><tr><td>20</td><td>20</td><td>99</td></tr></tbody></table></div></td></tr></table>"
      ]
     },
     "metadata": {},
     "output_type": "display_data"
    }
   ],
   "source": [
    "df2 = df.select(\n",
    "    append=pl.col('x').append(pl.col('y').slice(1, 2)),\n",
    "    concat=pl.concat([pl.col('x'), pl.col('y').slice(1, 2)]),\n",
    "    extend=pl.col('x').extend_constant(99, 2),\n",
    ")\n",
    "row(df, df2)"
   ]
  },
  {
   "cell_type": "markdown",
   "id": "792d2463-67ed-4978-b78a-9e12439766b8",
   "metadata": {},
   "source": [
    "`concat_list()`、`concat_arr()`、および `struct()` を使用して、複数の演算結果を横方向に結合します。それぞれ、`List` 型、`Array` 型、`Struct` 型の列を作成します。以下のプログラムは、`x` 列、`y` 列、そして `x` 列と `y` 列の商を横方向に結合する例です。\n",
    "\n",
    "- `List` 型と `Array` 型では、すべての要素のデータ型が一致している必要があります。\n",
    "  - `concat_list()` は自動的に上位のデータ型にキャストします。\n",
    "  - `concat_arr()` を使用する場合は、手動で同じデータ型にキャストする必要があります。\n",
    "- `Struct` 型では、各フィールドが独自のデータ型を持つことができます。"
   ]
  },
  {
   "cell_type": "code",
   "execution_count": 88,
   "id": "b3954f38-419c-4d0f-a8eb-3a7bd282c339",
   "metadata": {},
   "outputs": [
    {
     "data": {
      "text/html": [
       "<table><tr><td><div><style>\n",
       ".dataframe > thead > tr,\n",
       ".dataframe > tbody > tr {\n",
       "  text-align: right;\n",
       "  white-space: pre-wrap;\n",
       "}\n",
       "</style>\n",
       "<small>shape: (4, 2)</small><table border=\"1\" class=\"dataframe\"><thead><tr><th>x</th><th>y</th></tr><tr><td>i64</td><td>i64</td></tr></thead><tbody><tr><td>1</td><td>40</td></tr><tr><td>2</td><td>30</td></tr><tr><td>3</td><td>20</td></tr><tr><td>4</td><td>10</td></tr></tbody></table></div></td><td><div><style>\n",
       ".dataframe > thead > tr,\n",
       ".dataframe > tbody > tr {\n",
       "  text-align: right;\n",
       "  white-space: pre-wrap;\n",
       "}\n",
       "</style>\n",
       "<small>shape: (4, 3)</small><table border=\"1\" class=\"dataframe\"><thead><tr><th>list</th><th>arr</th><th>struct</th></tr><tr><td>list[f64]</td><td>array[f64, 2]</td><td>struct[2]</td></tr></thead><tbody><tr><td>[1.0, 40.0]</td><td>[1.0, 40.0]</td><td>{1,40.0}</td></tr><tr><td>[2.0, 15.0]</td><td>[2.0, 15.0]</td><td>{2,15.0}</td></tr><tr><td>[3.0, 6.666667]</td><td>[3.0, 6.666667]</td><td>{3,6.666667}</td></tr><tr><td>[4.0, 2.5]</td><td>[4.0, 2.5]</td><td>{4,2.5}</td></tr></tbody></table></div></td></tr></table>"
      ]
     },
     "metadata": {},
     "output_type": "display_data"
    }
   ],
   "source": [
    "df3 = df.select(\n",
    "    list=pl.concat_list('x', pl.col('y') / pl.col('x')),\n",
    "    arr=pl.concat_arr(pl.col('x').cast(pl.Float64), pl.col('y') / pl.col('x')),\n",
    "    struct=pl.struct('x', pl.col('y') / pl.col('x')),\n",
    ")\n",
    "\n",
    "row(df, df3)"
   ]
  },
  {
   "cell_type": "markdown",
   "id": "48fe6cc3-ebc4-47cb-9615-4031fa0a4a72",
   "metadata": {},
   "source": [
    "`.explode()` を使用すると、`List` 型および `Array` 型の列の要素を**行優先**で縦方向に結合することができます。また、`.list.explode()` と `.arr.explode()` は同じ処理を行います。\n",
    "\n",
    "次のプログラムは、上記の結果で作成した `list` 列と `arr` 列の要素を縦方向に結合する例を示しています。又、`Struct` 型の列を行優先で結合する場合は、まず、`concat_list()` を使用して `.struct.unnest()` の結果を `List` 型に変換します。その後、`.explode()` を適用して縦方向に結合します。列優先で結合する場合は`.struct.unnest()` の結果を `concat()` を用いて結合します。"
   ]
  },
  {
   "cell_type": "code",
   "execution_count": 103,
   "id": "7196e4b4-1853-4cd9-b82f-c4dd6251515d",
   "metadata": {},
   "outputs": [
    {
     "data": {
      "text/html": [
       "<table><tr><td><div><style>\n",
       ".dataframe > thead > tr,\n",
       ".dataframe > tbody > tr {\n",
       "  text-align: right;\n",
       "  white-space: pre-wrap;\n",
       "}\n",
       "</style>\n",
       "<small>shape: (4, 3)</small><table border=\"1\" class=\"dataframe\"><thead><tr><th>list</th><th>arr</th><th>struct</th></tr><tr><td>list[f64]</td><td>array[f64, 2]</td><td>struct[2]</td></tr></thead><tbody><tr><td>[1.0, 40.0]</td><td>[1.0, 40.0]</td><td>{1,40.0}</td></tr><tr><td>[2.0, 15.0]</td><td>[2.0, 15.0]</td><td>{2,15.0}</td></tr><tr><td>[3.0, 6.666667]</td><td>[3.0, 6.666667]</td><td>{3,6.666667}</td></tr><tr><td>[4.0, 2.5]</td><td>[4.0, 2.5]</td><td>{4,2.5}</td></tr></tbody></table></div></td><td><div><style>\n",
       ".dataframe > thead > tr,\n",
       ".dataframe > tbody > tr {\n",
       "  text-align: right;\n",
       "  white-space: pre-wrap;\n",
       "}\n",
       "</style>\n",
       "<small>shape: (8, 4)</small><table border=\"1\" class=\"dataframe\"><thead><tr><th>list</th><th>arr</th><th>struct_row</th><th>struct_col</th></tr><tr><td>f64</td><td>f64</td><td>f64</td><td>f64</td></tr></thead><tbody><tr><td>1.0</td><td>1.0</td><td>1.0</td><td>1.0</td></tr><tr><td>40.0</td><td>40.0</td><td>40.0</td><td>2.0</td></tr><tr><td>2.0</td><td>2.0</td><td>2.0</td><td>3.0</td></tr><tr><td>15.0</td><td>15.0</td><td>15.0</td><td>4.0</td></tr><tr><td>3.0</td><td>3.0</td><td>3.0</td><td>40.0</td></tr><tr><td>6.666667</td><td>6.666667</td><td>6.666667</td><td>15.0</td></tr><tr><td>4.0</td><td>4.0</td><td>4.0</td><td>6.666667</td></tr><tr><td>2.5</td><td>2.5</td><td>2.5</td><td>2.5</td></tr></tbody></table></div></td></tr></table>"
      ]
     },
     "metadata": {},
     "output_type": "display_data"
    }
   ],
   "source": [
    "df4 = df3.select(\n",
    "    pl.col('list').explode(), \n",
    "    pl.col('arr').explode(),\n",
    "    struct_row=pl.concat_list(pl.col('struct').struct.unnest()).explode(),\n",
    "    struct_col=pl.concat([pl.col('struct').struct.unnest()])\n",
    ")\n",
    "row(df3, df4)"
   ]
  },
  {
   "cell_type": "markdown",
   "id": "0438fe40-5656-4614-8713-36c59a6475a4",
   "metadata": {},
   "source": [
    "### 順番替え"
   ]
  },
  {
   "cell_type": "markdown",
   "id": "b0ccc2d6-0497-43da-8d48-eab74cf22bbe",
   "metadata": {},
   "source": [
    "`.shift()` は、1 列の値を上向きまたは下向きに N 個ずらす関数です。N が正数の場合は下向きにシフトし、負数の場合は上向きにシフトします。元の位置には、`fill_value` 引数で指定した値で埋められます。デフォルトでは `NULL` が使われます。また、循環シフトを行いたい場合は、`.append()` で先頭または最後の値を結合してからシフトを行います。"
   ]
  },
  {
   "cell_type": "code",
   "execution_count": 157,
   "id": "45dbc37c-60e5-4c30-ba66-f29b1f3f61f3",
   "metadata": {},
   "outputs": [
    {
     "data": {
      "text/html": [
       "<table><tr><td><div><style>\n",
       ".dataframe > thead > tr,\n",
       ".dataframe > tbody > tr {\n",
       "  text-align: right;\n",
       "  white-space: pre-wrap;\n",
       "}\n",
       "</style>\n",
       "<small>shape: (4, 4)</small><table border=\"1\" class=\"dataframe\"><thead><tr><th>x</th><th>y</th><th>x_shift1</th><th>x_shift2</th></tr><tr><td>i64</td><td>i64</td><td>i64</td><td>i64</td></tr></thead><tbody><tr><td>1</td><td>40</td><td>null</td><td>3</td></tr><tr><td>2</td><td>30</td><td>1</td><td>4</td></tr><tr><td>3</td><td>20</td><td>2</td><td>null</td></tr><tr><td>4</td><td>10</td><td>3</td><td>null</td></tr></tbody></table></div></td><td><div><style>\n",
       ".dataframe > thead > tr,\n",
       ".dataframe > tbody > tr {\n",
       "  text-align: right;\n",
       "  white-space: pre-wrap;\n",
       "}\n",
       "</style>\n",
       "<small>shape: (4, 2)</small><table border=\"1\" class=\"dataframe\"><thead><tr><th>x_shift1</th><th>x_shift2</th></tr><tr><td>i64</td><td>i64</td></tr></thead><tbody><tr><td>4</td><td>3</td></tr><tr><td>1</td><td>4</td></tr><tr><td>2</td><td>1</td></tr><tr><td>3</td><td>2</td></tr></tbody></table></div></td></tr></table>"
      ]
     },
     "metadata": {},
     "output_type": "display_data"
    }
   ],
   "source": [
    "df1 = df.with_columns(\n",
    "    x_shift1=pl.col(\"x\").shift(1),\n",
    "    x_shift2=pl.col(\"x\").shift(-2),\n",
    ")\n",
    "\n",
    "df2 = df.select(\n",
    "    x_shift1=pl.col('x').tail(1).append(pl.col('x')).shift(1).tail(pl.len()),\n",
    "    x_shift2=pl.col('x').append(pl.col('x').head(2)).shift(-2).head(pl.len())\n",
    ")\n",
    "\n",
    "row(df1, df2)"
   ]
  },
  {
   "cell_type": "markdown",
   "id": "942107c3-09db-4f93-9dd9-87039a211735",
   "metadata": {},
   "source": [
    "`.reverse()` は、列の値を逆向きに並べ替える関数です。"
   ]
  },
  {
   "cell_type": "code",
   "execution_count": 160,
   "id": "6168c1fb-7ab7-44e4-8363-6946ea0abf1b",
   "metadata": {},
   "outputs": [
    {
     "data": {
      "text/html": [
       "<div><style>\n",
       ".dataframe > thead > tr,\n",
       ".dataframe > tbody > tr {\n",
       "  text-align: right;\n",
       "  white-space: pre-wrap;\n",
       "}\n",
       "</style>\n",
       "<small>shape: (4, 3)</small><table border=\"1\" class=\"dataframe\"><thead><tr><th>x</th><th>y</th><th>x_reverse</th></tr><tr><td>i64</td><td>i64</td><td>i64</td></tr></thead><tbody><tr><td>1</td><td>40</td><td>4</td></tr><tr><td>2</td><td>30</td><td>3</td></tr><tr><td>3</td><td>20</td><td>2</td></tr><tr><td>4</td><td>10</td><td>1</td></tr></tbody></table></div>"
      ],
      "text/plain": [
       "shape: (4, 3)\n",
       "┌─────┬─────┬───────────┐\n",
       "│ x   ┆ y   ┆ x_reverse │\n",
       "│ --- ┆ --- ┆ ---       │\n",
       "│ i64 ┆ i64 ┆ i64       │\n",
       "╞═════╪═════╪═══════════╡\n",
       "│ 1   ┆ 40  ┆ 4         │\n",
       "│ 2   ┆ 30  ┆ 3         │\n",
       "│ 3   ┆ 20  ┆ 2         │\n",
       "│ 4   ┆ 10  ┆ 1         │\n",
       "└─────┴─────┴───────────┘"
      ]
     },
     "execution_count": 160,
     "metadata": {},
     "output_type": "execute_result"
    }
   ],
   "source": [
    "df.with_columns(x_reverse=pl.col('x').reverse())"
   ]
  },
  {
   "cell_type": "markdown",
   "id": "edaec16d-8742-4823-b477-eaf99d6bd25f",
   "metadata": {},
   "source": [
    "`.sort()` と `.sort_by()` は、列の値を大小関係で並べ替える関数です。  `descending=True` の場合は降順で並べ替えます。デフォルトでは昇順（`False`）になります。  \n",
    "\n",
    "- `.sort()`: 指定した列を昇順または降順で並べ替えます。  \n",
    "- `.sort_by()`:並べ替えの基準となる演算式を複数指定できます。\n",
    "\n",
    "次のコードでは、`x` 列を降順で並べ替えた結果を `x_sort` 列として追加し、`y` 列を昇順で並べ替えた結果を `y_sort` 列として追加しています。また、`x` と `y` 列を、`y` 列と 24 の距離を基準に昇順で並べ替えた結果を `x_sort_by` と `y_sort_by` 列として追加します。"
   ]
  },
  {
   "cell_type": "code",
   "execution_count": 165,
   "id": "0a710910-dc97-4d43-92e1-9171a5e65f87",
   "metadata": {},
   "outputs": [
    {
     "data": {
      "text/html": [
       "<div><style>\n",
       ".dataframe > thead > tr,\n",
       ".dataframe > tbody > tr {\n",
       "  text-align: right;\n",
       "  white-space: pre-wrap;\n",
       "}\n",
       "</style>\n",
       "<small>shape: (4, 6)</small><table border=\"1\" class=\"dataframe\"><thead><tr><th>x</th><th>y</th><th>x_sort</th><th>y_sort</th><th>x_sort_by</th><th>y_sort_by</th></tr><tr><td>i64</td><td>i64</td><td>i64</td><td>i64</td><td>i64</td><td>i64</td></tr></thead><tbody><tr><td>1</td><td>40</td><td>4</td><td>10</td><td>3</td><td>20</td></tr><tr><td>2</td><td>30</td><td>3</td><td>20</td><td>2</td><td>30</td></tr><tr><td>3</td><td>20</td><td>2</td><td>30</td><td>4</td><td>10</td></tr><tr><td>4</td><td>10</td><td>1</td><td>40</td><td>1</td><td>40</td></tr></tbody></table></div>"
      ],
      "text/plain": [
       "shape: (4, 6)\n",
       "┌─────┬─────┬────────┬────────┬───────────┬───────────┐\n",
       "│ x   ┆ y   ┆ x_sort ┆ y_sort ┆ x_sort_by ┆ y_sort_by │\n",
       "│ --- ┆ --- ┆ ---    ┆ ---    ┆ ---       ┆ ---       │\n",
       "│ i64 ┆ i64 ┆ i64    ┆ i64    ┆ i64       ┆ i64       │\n",
       "╞═════╪═════╪════════╪════════╪═══════════╪═══════════╡\n",
       "│ 1   ┆ 40  ┆ 4      ┆ 10     ┆ 3         ┆ 20        │\n",
       "│ 2   ┆ 30  ┆ 3      ┆ 20     ┆ 2         ┆ 30        │\n",
       "│ 3   ┆ 20  ┆ 2      ┆ 30     ┆ 4         ┆ 10        │\n",
       "│ 4   ┆ 10  ┆ 1      ┆ 40     ┆ 1         ┆ 40        │\n",
       "└─────┴─────┴────────┴────────┴───────────┴───────────┘"
      ]
     },
     "execution_count": 165,
     "metadata": {},
     "output_type": "execute_result"
    }
   ],
   "source": [
    "df.with_columns(\n",
    "    pl.col('x').sort(descending=True).alias('x_sort'),\n",
    "    pl.col('y').sort().alias('y_sort'),\n",
    "    pl.all().sort_by((pl.col('y') - 24).abs()).name.suffix('_sort_by')\n",
    ")"
   ]
  },
  {
   "attachments": {},
   "cell_type": "markdown",
   "id": "e4f14418-207b-4934-b968-944c78f29d7e",
   "metadata": {},
   "source": [
    "### NULL処理\n",
    "\n",
    "NULLに関するの演算式は[NULL処理](#null)で詳しく説明します。"
   ]
  },
  {
   "attachments": {},
   "cell_type": "markdown",
   "id": "d0e37c69-9602-46fe-a164-08a3466180ff",
   "metadata": {},
   "source": [
    "### 横向き演算\n",
    "\n",
    "関数名に `horizontal` が含まれる関数は、複数の列間で横方向の演算を行います。次のコードは、これらの関数をすべて出力します。"
   ]
  },
  {
   "cell_type": "code",
   "execution_count": 60,
   "id": "6a7d0c3b-5b04-4f0d-a175-9290723d8c06",
   "metadata": {},
   "outputs": [
    {
     "name": "stdout",
     "output_type": "stream",
     "text": [
      "all_horizontal\n",
      "any_horizontal\n",
      "cum_sum_horizontal\n",
      "max_horizontal\n",
      "mean_horizontal\n",
      "min_horizontal\n",
      "sum_horizontal\n"
     ]
    }
   ],
   "source": [
    "for name in dir(pl):\n",
    "    if 'horizontal' in name:\n",
    "        print(name)"
   ]
  },
  {
   "cell_type": "markdown",
   "id": "d084c642-bb47-423b-92d5-a709c101627a",
   "metadata": {},
   "source": [
    "次のコードは、`tag` 列以外のすべての列の総和を計算し、その結果を新しい列 `sum` として追加します。"
   ]
  },
  {
   "cell_type": "code",
   "execution_count": null,
   "id": "758ceb59-c03d-4b3f-a8e6-257b79677638",
   "metadata": {},
   "outputs": [],
   "source": [
    "df = pl.DataFrame(\n",
    "    {\n",
    "     'tag': ['a', 'b', 'a', 'b', 'c', 'e'],        \n",
    "     'A': [5, 1, 4, 5, 4, 6],\n",
    "     'B': [3, 1, 1, 6, 4, 9],\n",
    "     'C': [5, 6, 3, 7, 0, 9],\n",
    "     'D': [0, 8, 0, 1, 0, 5],\n",
    "     'E': [7, 7, 6, 2, 2, 8],\n",
    "    }\n",
    ")\n",
    "\n",
    "df.with_columns(\n",
    "    pl.sum_horizontal(pl.exclude(\"tag\")).alias(\"sum\")\n",
    ")"
   ]
  },
  {
   "cell_type": "markdown",
   "id": "c994abd9-fef0-4e24-a2a2-f00fb9c503c6",
   "metadata": {},
   "source": [
    "`horizontal` 関数が利用できない場合、`concat_list()` を使用して複数の列を 1 つのリスト列に変換し、その後 `list.xxx` 関数を使って計算する方法もあります。以下の例では、すべての列の中央値を計算し、新しい列 `median` として追加しています（`tag` 列を除く）。"
   ]
  },
  {
   "cell_type": "code",
   "execution_count": 63,
   "id": "4a4ee6de-f83a-44a2-a5c9-5b00cb3eb6cf",
   "metadata": {},
   "outputs": [
    {
     "data": {
      "text/html": [
       "<div><style>\n",
       ".dataframe > thead > tr,\n",
       ".dataframe > tbody > tr {\n",
       "  text-align: right;\n",
       "  white-space: pre-wrap;\n",
       "}\n",
       "</style>\n",
       "<small>shape: (6, 7)</small><table border=\"1\" class=\"dataframe\"><thead><tr><th>tag</th><th>A</th><th>B</th><th>C</th><th>D</th><th>E</th><th>median</th></tr><tr><td>str</td><td>i64</td><td>i64</td><td>i64</td><td>i64</td><td>i64</td><td>f64</td></tr></thead><tbody><tr><td>&quot;a&quot;</td><td>5</td><td>3</td><td>5</td><td>0</td><td>7</td><td>5.0</td></tr><tr><td>&quot;b&quot;</td><td>1</td><td>1</td><td>6</td><td>8</td><td>7</td><td>6.0</td></tr><tr><td>&quot;a&quot;</td><td>4</td><td>1</td><td>3</td><td>0</td><td>6</td><td>3.0</td></tr><tr><td>&quot;b&quot;</td><td>5</td><td>6</td><td>7</td><td>1</td><td>2</td><td>5.0</td></tr><tr><td>&quot;c&quot;</td><td>4</td><td>4</td><td>0</td><td>0</td><td>2</td><td>2.0</td></tr><tr><td>&quot;e&quot;</td><td>6</td><td>9</td><td>9</td><td>5</td><td>8</td><td>8.0</td></tr></tbody></table></div>"
      ],
      "text/plain": [
       "shape: (6, 7)\n",
       "┌─────┬─────┬─────┬─────┬─────┬─────┬────────┐\n",
       "│ tag ┆ A   ┆ B   ┆ C   ┆ D   ┆ E   ┆ median │\n",
       "│ --- ┆ --- ┆ --- ┆ --- ┆ --- ┆ --- ┆ ---    │\n",
       "│ str ┆ i64 ┆ i64 ┆ i64 ┆ i64 ┆ i64 ┆ f64    │\n",
       "╞═════╪═════╪═════╪═════╪═════╪═════╪════════╡\n",
       "│ a   ┆ 5   ┆ 3   ┆ 5   ┆ 0   ┆ 7   ┆ 5.0    │\n",
       "│ b   ┆ 1   ┆ 1   ┆ 6   ┆ 8   ┆ 7   ┆ 6.0    │\n",
       "│ a   ┆ 4   ┆ 1   ┆ 3   ┆ 0   ┆ 6   ┆ 3.0    │\n",
       "│ b   ┆ 5   ┆ 6   ┆ 7   ┆ 1   ┆ 2   ┆ 5.0    │\n",
       "│ c   ┆ 4   ┆ 4   ┆ 0   ┆ 0   ┆ 2   ┆ 2.0    │\n",
       "│ e   ┆ 6   ┆ 9   ┆ 9   ┆ 5   ┆ 8   ┆ 8.0    │\n",
       "└─────┴─────┴─────┴─────┴─────┴─────┴────────┘"
      ]
     },
     "execution_count": 63,
     "metadata": {},
     "output_type": "execute_result"
    }
   ],
   "source": [
    "df.with_columns(\n",
    "    pl.concat_list(pl.exclude(\"tag\"))\n",
    "    .list.median()\n",
    "    .alias(\"median\")\n",
    ")"
   ]
  },
  {
   "cell_type": "markdown",
   "id": "e9dba268-1128-4a43-aad8-25f9901c1510",
   "metadata": {},
   "source": [
    "`list.xxx` で実現できない複雑な計算は、`list.eval()` を使用して柔軟に計算できます。以下のコードは、各行のトップ 2 の値を抽出し、それらの総和を計算して新しい列 `sum_top_2` として追加する例です。"
   ]
  },
  {
   "cell_type": "code",
   "execution_count": 64,
   "id": "7f96cde7-0722-47f3-b91d-dc517f2da378",
   "metadata": {},
   "outputs": [
    {
     "data": {
      "text/html": [
       "<div><style>\n",
       ".dataframe > thead > tr,\n",
       ".dataframe > tbody > tr {\n",
       "  text-align: right;\n",
       "  white-space: pre-wrap;\n",
       "}\n",
       "</style>\n",
       "<small>shape: (6, 7)</small><table border=\"1\" class=\"dataframe\"><thead><tr><th>tag</th><th>A</th><th>B</th><th>C</th><th>D</th><th>E</th><th>sum_top_2</th></tr><tr><td>str</td><td>i64</td><td>i64</td><td>i64</td><td>i64</td><td>i64</td><td>i64</td></tr></thead><tbody><tr><td>&quot;a&quot;</td><td>5</td><td>3</td><td>5</td><td>0</td><td>7</td><td>12</td></tr><tr><td>&quot;b&quot;</td><td>1</td><td>1</td><td>6</td><td>8</td><td>7</td><td>15</td></tr><tr><td>&quot;a&quot;</td><td>4</td><td>1</td><td>3</td><td>0</td><td>6</td><td>10</td></tr><tr><td>&quot;b&quot;</td><td>5</td><td>6</td><td>7</td><td>1</td><td>2</td><td>13</td></tr><tr><td>&quot;c&quot;</td><td>4</td><td>4</td><td>0</td><td>0</td><td>2</td><td>8</td></tr><tr><td>&quot;e&quot;</td><td>6</td><td>9</td><td>9</td><td>5</td><td>8</td><td>18</td></tr></tbody></table></div>"
      ],
      "text/plain": [
       "shape: (6, 7)\n",
       "┌─────┬─────┬─────┬─────┬─────┬─────┬───────────┐\n",
       "│ tag ┆ A   ┆ B   ┆ C   ┆ D   ┆ E   ┆ sum_top_2 │\n",
       "│ --- ┆ --- ┆ --- ┆ --- ┆ --- ┆ --- ┆ ---       │\n",
       "│ str ┆ i64 ┆ i64 ┆ i64 ┆ i64 ┆ i64 ┆ i64       │\n",
       "╞═════╪═════╪═════╪═════╪═════╪═════╪═══════════╡\n",
       "│ a   ┆ 5   ┆ 3   ┆ 5   ┆ 0   ┆ 7   ┆ 12        │\n",
       "│ b   ┆ 1   ┆ 1   ┆ 6   ┆ 8   ┆ 7   ┆ 15        │\n",
       "│ a   ┆ 4   ┆ 1   ┆ 3   ┆ 0   ┆ 6   ┆ 10        │\n",
       "│ b   ┆ 5   ┆ 6   ┆ 7   ┆ 1   ┆ 2   ┆ 13        │\n",
       "│ c   ┆ 4   ┆ 4   ┆ 0   ┆ 0   ┆ 2   ┆ 8         │\n",
       "│ e   ┆ 6   ┆ 9   ┆ 9   ┆ 5   ┆ 8   ┆ 18        │\n",
       "└─────┴─────┴─────┴─────┴─────┴─────┴───────────┘"
      ]
     },
     "execution_count": 64,
     "metadata": {},
     "output_type": "execute_result"
    }
   ],
   "source": [
    "df.with_columns(\n",
    "    pl.concat_list(pl.exclude(\"tag\"))\n",
    "    .list.eval(\n",
    "        pl.element()\n",
    "        .sort(descending=True)\n",
    "        .head(2)\n",
    "        .sum())\n",
    "    .flatten().alias(\"sum_top_2\")\n",
    ")"
   ]
  }
 ],
 "metadata": {
  "kernelspec": {
   "display_name": "Python 3 (ipykernel)",
   "language": "python",
   "name": "python3"
  },
  "language_info": {
   "codemirror_mode": {
    "name": "ipython",
    "version": 3
   },
   "file_extension": ".py",
   "mimetype": "text/x-python",
   "name": "python",
   "nbconvert_exporter": "python",
   "pygments_lexer": "ipython3",
   "version": "3.13.2"
  },
  "widgets": {
   "application/vnd.jupyter.widget-state+json": {
    "state": {},
    "version_major": 2,
    "version_minor": 0
   }
  }
 },
 "nbformat": 4,
 "nbformat_minor": 5
}

{
 "cells": [
  {
   "cell_type": "markdown",
   "id": "41fb9eda-8d3e-43e6-ac29-ed5bb545f0e3",
   "metadata": {},
   "source": [
    "# データサイエンス100本ノック 91~100"
   ]
  },
  {
   "cell_type": "code",
   "execution_count": 2,
   "id": "bfa0c462-fa3a-443e-b011-1094b8e3d629",
   "metadata": {},
   "outputs": [],
   "source": [
    "import polars as pl\n",
    "from helper.polars import load_100knocks_data\n",
    "pl.Config.set_fmt_str_lengths(100)\n",
    "df_customer, df_category, df_product, df_receipt, df_store, df_geocode = load_100knocks_data()"
   ]
  },
  {
   "cell_type": "markdown",
   "id": "b1543941-903d-4602-bb0a-68b9e31fd886",
   "metadata": {},
   "source": [
    "## P-091\n",
    "\n",
    "顧客データ（df_customer）の各顧客に対し、売上実績がある顧客数と売上実績がない顧客数が1:1となるようにアンダーサンプリングで抽出せよ。"
   ]
  },
  {
   "cell_type": "code",
   "execution_count": 3,
   "id": "847c05ab-de99-44e7-9c03-9ddf2c9febda",
   "metadata": {},
   "outputs": [
    {
     "data": {
      "text/html": [
       "<div><style>\n",
       ".dataframe > thead > tr,\n",
       ".dataframe > tbody > tr {\n",
       "  text-align: right;\n",
       "  white-space: pre-wrap;\n",
       "}\n",
       "</style>\n",
       "<small>shape: (2, 2)</small><table border=\"1\" class=\"dataframe\"><thead><tr><th>sum_amount</th><th>count</th></tr><tr><td>u8</td><td>u32</td></tr></thead><tbody><tr><td>0</td><td>8306</td></tr><tr><td>1</td><td>8306</td></tr></tbody></table></div>"
      ],
      "text/plain": [
       "shape: (2, 2)\n",
       "┌────────────┬───────┐\n",
       "│ sum_amount ┆ count │\n",
       "│ ---        ┆ ---   │\n",
       "│ u8         ┆ u32   │\n",
       "╞════════════╪═══════╡\n",
       "│ 0          ┆ 8306  │\n",
       "│ 1          ┆ 8306  │\n",
       "└────────────┴───────┘"
      ]
     },
     "execution_count": 3,
     "metadata": {},
     "output_type": "execute_result"
    }
   ],
   "source": [
    "df_tmp = (\n",
    "df_customer\n",
    ".join(\n",
    "    df_receipt\n",
    "    .group_by(pl.col.customer_id)\n",
    "    .agg(sum_amount=pl.col.amount.sum()),\n",
    "    on='customer_id',\n",
    "    how='left'\n",
    ")\n",
    ")\n",
    "\n",
    "flag = pl.col.sum_amount.is_null().cast(pl.UInt8)\n",
    "\n",
    "df_result = df_tmp.filter(\n",
    "    pl.int_range(pl.len()).shuffle().over(flag) < pl.len().over(flag).min()\n",
    ")\n",
    "\n",
    "(\n",
    "df_result\n",
    ".group_by(flag)\n",
    ".agg(count=pl.col.customer_id.count())\n",
    ")"
   ]
  },
  {
   "cell_type": "markdown",
   "id": "eb1b3496-8104-43af-98d3-8014f28847e7",
   "metadata": {},
   "source": [
    "## P-092\n",
    "\n",
    "顧客データ（df_customer）の性別について、第三正規形へと正規化せよ。"
   ]
  },
  {
   "cell_type": "code",
   "execution_count": 4,
   "id": "99989bed-3557-460c-8634-376e9c8e1cba",
   "metadata": {},
   "outputs": [
    {
     "data": {
      "text/html": [
       "<div><style>\n",
       ".dataframe > thead > tr,\n",
       ".dataframe > tbody > tr {\n",
       "  text-align: right;\n",
       "  white-space: pre-wrap;\n",
       "}\n",
       "</style>\n",
       "<small>shape: (3, 2)</small><table border=\"1\" class=\"dataframe\"><thead><tr><th>gender_cd</th><th>gender</th></tr><tr><td>str</td><td>str</td></tr></thead><tbody><tr><td>&quot;9&quot;</td><td>&quot;不明&quot;</td></tr><tr><td>&quot;1&quot;</td><td>&quot;女性&quot;</td></tr><tr><td>&quot;0&quot;</td><td>&quot;男性&quot;</td></tr></tbody></table></div>"
      ],
      "text/plain": [
       "shape: (3, 2)\n",
       "┌───────────┬────────┐\n",
       "│ gender_cd ┆ gender │\n",
       "│ ---       ┆ ---    │\n",
       "│ str       ┆ str    │\n",
       "╞═══════════╪════════╡\n",
       "│ 9         ┆ 不明   │\n",
       "│ 1         ┆ 女性   │\n",
       "│ 0         ┆ 男性   │\n",
       "└───────────┴────────┘"
      ]
     },
     "execution_count": 4,
     "metadata": {},
     "output_type": "execute_result"
    }
   ],
   "source": [
    "df_gender_std = df_customer.select('gender_cd', 'gender').unique()\n",
    "df_gender_std"
   ]
  },
  {
   "cell_type": "code",
   "execution_count": 5,
   "id": "8601cb91-a4b3-4710-a23e-d09b837757c9",
   "metadata": {},
   "outputs": [
    {
     "data": {
      "text/html": [
       "<div><style>\n",
       ".dataframe > thead > tr,\n",
       ".dataframe > tbody > tr {\n",
       "  text-align: right;\n",
       "  white-space: pre-wrap;\n",
       "}\n",
       "</style>\n",
       "<small>shape: (5, 9)</small><table border=\"1\" class=\"dataframe\"><thead><tr><th>customer_id</th><th>customer_name</th><th>gender_cd</th><th>birth_day</th><th>age</th><th>postal_cd</th><th>application_store_cd</th><th>application_date</th><th>status_cd</th></tr><tr><td>str</td><td>str</td><td>str</td><td>str</td><td>i64</td><td>str</td><td>str</td><td>i64</td><td>str</td></tr></thead><tbody><tr><td>&quot;CS021313000114&quot;</td><td>&quot;大野 あや子&quot;</td><td>&quot;1&quot;</td><td>&quot;1981-04-29&quot;</td><td>37</td><td>&quot;259-1113&quot;</td><td>&quot;S14021&quot;</td><td>20150905</td><td>&quot;0-00000000-0&quot;</td></tr><tr><td>&quot;CS037613000071&quot;</td><td>&quot;六角 雅彦&quot;</td><td>&quot;9&quot;</td><td>&quot;1952-04-01&quot;</td><td>66</td><td>&quot;136-0076&quot;</td><td>&quot;S13037&quot;</td><td>20150414</td><td>&quot;0-00000000-0&quot;</td></tr><tr><td>&quot;CS031415000172&quot;</td><td>&quot;宇多田 貴美子&quot;</td><td>&quot;1&quot;</td><td>&quot;1976-10-04&quot;</td><td>42</td><td>&quot;151-0053&quot;</td><td>&quot;S13031&quot;</td><td>20150529</td><td>&quot;D-20100325-C&quot;</td></tr><tr><td>&quot;CS028811000001&quot;</td><td>&quot;堀井 かおり&quot;</td><td>&quot;1&quot;</td><td>&quot;1933-03-27&quot;</td><td>86</td><td>&quot;245-0016&quot;</td><td>&quot;S14028&quot;</td><td>20160115</td><td>&quot;0-00000000-0&quot;</td></tr><tr><td>&quot;CS001215000145&quot;</td><td>&quot;田崎 美紀&quot;</td><td>&quot;1&quot;</td><td>&quot;1995-03-29&quot;</td><td>24</td><td>&quot;144-0055&quot;</td><td>&quot;S13001&quot;</td><td>20170605</td><td>&quot;6-20090929-2&quot;</td></tr></tbody></table></div>"
      ],
      "text/plain": [
       "shape: (5, 9)\n",
       "┌────────────────┬───────────────┬───────────┬────────────┬───┬───────────┬──────────────────────┬──────────────────┬──────────────┐\n",
       "│ customer_id    ┆ customer_name ┆ gender_cd ┆ birth_day  ┆ … ┆ postal_cd ┆ application_store_cd ┆ application_date ┆ status_cd    │\n",
       "│ ---            ┆ ---           ┆ ---       ┆ ---        ┆   ┆ ---       ┆ ---                  ┆ ---              ┆ ---          │\n",
       "│ str            ┆ str           ┆ str       ┆ str        ┆   ┆ str       ┆ str                  ┆ i64              ┆ str          │\n",
       "╞════════════════╪═══════════════╪═══════════╪════════════╪═══╪═══════════╪══════════════════════╪══════════════════╪══════════════╡\n",
       "│ CS021313000114 ┆ 大野 あや子   ┆ 1         ┆ 1981-04-29 ┆ … ┆ 259-1113  ┆ S14021               ┆ 20150905         ┆ 0-00000000-0 │\n",
       "│ CS037613000071 ┆ 六角 雅彦     ┆ 9         ┆ 1952-04-01 ┆ … ┆ 136-0076  ┆ S13037               ┆ 20150414         ┆ 0-00000000-0 │\n",
       "│ CS031415000172 ┆ 宇多田 貴美子 ┆ 1         ┆ 1976-10-04 ┆ … ┆ 151-0053  ┆ S13031               ┆ 20150529         ┆ D-20100325-C │\n",
       "│ CS028811000001 ┆ 堀井 かおり   ┆ 1         ┆ 1933-03-27 ┆ … ┆ 245-0016  ┆ S14028               ┆ 20160115         ┆ 0-00000000-0 │\n",
       "│ CS001215000145 ┆ 田崎 美紀     ┆ 1         ┆ 1995-03-29 ┆ … ┆ 144-0055  ┆ S13001               ┆ 20170605         ┆ 6-20090929-2 │\n",
       "└────────────────┴───────────────┴───────────┴────────────┴───┴───────────┴──────────────────────┴──────────────────┴──────────────┘"
      ]
     },
     "execution_count": 5,
     "metadata": {},
     "output_type": "execute_result"
    }
   ],
   "source": [
    "df_customer_std = df_customer.select(\n",
    "    'customer_id',\n",
    "    'customer_name',\n",
    "    'gender_cd',\n",
    "    'birth_day',\n",
    "    'age',\n",
    "    'postal_cd',\n",
    "    'application_store_cd',\n",
    "    'application_date',\n",
    "    'status_cd'\n",
    ")\n",
    "df_customer_std.head()"
   ]
  },
  {
   "cell_type": "markdown",
   "id": "ad7948c9-5dc0-4252-8a90-9f0513b1bab4",
   "metadata": {},
   "source": [
    "## P-093\n",
    "\n",
    "商品データ（df_product）では各カテゴリのコード値だけを保有し、カテゴリ名は保有していない。カテゴリデータ（df_category）と組み合わせて非正規化し、カテゴリ名を保有した新たな商品データを作成せよ。"
   ]
  },
  {
   "cell_type": "code",
   "execution_count": 6,
   "id": "9e635808-5f7e-40ec-8b7c-12e62326c799",
   "metadata": {},
   "outputs": [
    {
     "data": {
      "text/html": [
       "<div><style>\n",
       ".dataframe > thead > tr,\n",
       ".dataframe > tbody > tr {\n",
       "  text-align: right;\n",
       "  white-space: pre-wrap;\n",
       "}\n",
       "</style>\n",
       "<small>shape: (5, 9)</small><table border=\"1\" class=\"dataframe\"><thead><tr><th>product_cd</th><th>category_major_cd</th><th>category_major_name</th><th>category_medium_cd</th><th>category_medium_name</th><th>category_small_cd</th><th>category_small_name</th><th>unit_price</th><th>unit_cost</th></tr><tr><td>str</td><td>str</td><td>str</td><td>str</td><td>str</td><td>str</td><td>str</td><td>i64</td><td>i64</td></tr></thead><tbody><tr><td>&quot;P040101001&quot;</td><td>&quot;04&quot;</td><td>&quot;惣菜&quot;</td><td>&quot;0401&quot;</td><td>&quot;御飯類&quot;</td><td>&quot;040101&quot;</td><td>&quot;弁当類&quot;</td><td>198</td><td>149</td></tr><tr><td>&quot;P040101002&quot;</td><td>&quot;04&quot;</td><td>&quot;惣菜&quot;</td><td>&quot;0401&quot;</td><td>&quot;御飯類&quot;</td><td>&quot;040101&quot;</td><td>&quot;弁当類&quot;</td><td>218</td><td>164</td></tr><tr><td>&quot;P040101003&quot;</td><td>&quot;04&quot;</td><td>&quot;惣菜&quot;</td><td>&quot;0401&quot;</td><td>&quot;御飯類&quot;</td><td>&quot;040101&quot;</td><td>&quot;弁当類&quot;</td><td>230</td><td>173</td></tr><tr><td>&quot;P040101004&quot;</td><td>&quot;04&quot;</td><td>&quot;惣菜&quot;</td><td>&quot;0401&quot;</td><td>&quot;御飯類&quot;</td><td>&quot;040101&quot;</td><td>&quot;弁当類&quot;</td><td>248</td><td>186</td></tr><tr><td>&quot;P040101005&quot;</td><td>&quot;04&quot;</td><td>&quot;惣菜&quot;</td><td>&quot;0401&quot;</td><td>&quot;御飯類&quot;</td><td>&quot;040101&quot;</td><td>&quot;弁当類&quot;</td><td>268</td><td>201</td></tr></tbody></table></div>"
      ],
      "text/plain": [
       "shape: (5, 9)\n",
       "┌────────────┬───────────────────┬─────────────────────┬────────────────────┬───┬───────────────────┬─────────────────────┬────────────┬───────────┐\n",
       "│ product_cd ┆ category_major_cd ┆ category_major_name ┆ category_medium_cd ┆ … ┆ category_small_cd ┆ category_small_name ┆ unit_price ┆ unit_cost │\n",
       "│ ---        ┆ ---               ┆ ---                 ┆ ---                ┆   ┆ ---               ┆ ---                 ┆ ---        ┆ ---       │\n",
       "│ str        ┆ str               ┆ str                 ┆ str                ┆   ┆ str               ┆ str                 ┆ i64        ┆ i64       │\n",
       "╞════════════╪═══════════════════╪═════════════════════╪════════════════════╪═══╪═══════════════════╪═════════════════════╪════════════╪═══════════╡\n",
       "│ P040101001 ┆ 04                ┆ 惣菜                ┆ 0401               ┆ … ┆ 040101            ┆ 弁当類              ┆ 198        ┆ 149       │\n",
       "│ P040101002 ┆ 04                ┆ 惣菜                ┆ 0401               ┆ … ┆ 040101            ┆ 弁当類              ┆ 218        ┆ 164       │\n",
       "│ P040101003 ┆ 04                ┆ 惣菜                ┆ 0401               ┆ … ┆ 040101            ┆ 弁当類              ┆ 230        ┆ 173       │\n",
       "│ P040101004 ┆ 04                ┆ 惣菜                ┆ 0401               ┆ … ┆ 040101            ┆ 弁当類              ┆ 248        ┆ 186       │\n",
       "│ P040101005 ┆ 04                ┆ 惣菜                ┆ 0401               ┆ … ┆ 040101            ┆ 弁当類              ┆ 268        ┆ 201       │\n",
       "└────────────┴───────────────────┴─────────────────────┴────────────────────┴───┴───────────────────┴─────────────────────┴────────────┴───────────┘"
      ]
     },
     "execution_count": 6,
     "metadata": {},
     "output_type": "execute_result"
    }
   ],
   "source": [
    "df_product_full = (\n",
    "df_product.join(\n",
    "    df_category,\n",
    "    on='category_small_cd',\n",
    "    how='inner'\n",
    ")\n",
    ".select(\n",
    "    'product_cd',\n",
    "    'category_major_cd',\n",
    "    'category_major_name',\n",
    "    'category_medium_cd',\n",
    "    'category_medium_name',\n",
    "    'category_small_cd',\n",
    "    'category_small_name',\n",
    "    'unit_price',\n",
    "    'unit_cost'\n",
    ")\n",
    ")\n",
    "df_product_full.head()"
   ]
  },
  {
   "cell_type": "markdown",
   "id": "8f0bce3b-618e-4b78-abc0-0048eb8e6991",
   "metadata": {},
   "source": [
    "## P-094\n",
    "\n",
    "093で作成したカテゴリ名付き商品データを以下の仕様でファイル出力せよ。\n",
    ">\n",
    "> |ファイル形式|ヘッダ有無|文字エンコーディング|\n",
    "> |:--:|:--:|:--:|\n",
    "> |CSV（カンマ区切り）|有り|UTF-8|\n",
    "> \n",
    "> ファイル出力先のパスは以下のようにすること\n",
    "> \n",
    "> |出力先|\n",
    "> |:--:|\n",
    "> |./data|"
   ]
  },
  {
   "cell_type": "code",
   "execution_count": 7,
   "id": "0050f4e1-5450-41e3-95d2-18012a45c83f",
   "metadata": {},
   "outputs": [],
   "source": [
    "df_product_full.write_csv('./data/product_full.csv')"
   ]
  },
  {
   "cell_type": "markdown",
   "id": "2cacbd24-6f83-4c07-b9fc-420c63b6b9d0",
   "metadata": {},
   "source": [
    "## P-095\n",
    "\n",
    "093で作成したカテゴリ名付き商品データを以下の仕様でファイル出力せよ。\n",
    ">\n",
    "> |ファイル形式|ヘッダ有無|文字エンコーディング|\n",
    "> |:--:|:--:|:--:|\n",
    "> |CSV（カンマ区切り）|有り|CP932|\n",
    "> \n",
    "> ファイル出力先のパスは以下のようにすること。\n",
    "> \n",
    "> |出力先|\n",
    "> |:--:|\n",
    "> |./data|"
   ]
  },
  {
   "cell_type": "code",
   "execution_count": 8,
   "id": "67040827-8b90-4ae3-a492-0919610f40de",
   "metadata": {},
   "outputs": [],
   "source": [
    "import io\n",
    "buf = io.BytesIO()\n",
    "df_product_full.write_csv(buf)\n",
    "with open('./data/product_full_cp932.csv', 'wb') as f:\n",
    "    f.write(buf.getvalue().decode('utf-8').encode('cp932'))"
   ]
  },
  {
   "cell_type": "markdown",
   "id": "f2e84aeb-6b99-4197-b689-a9d04ff629d2",
   "metadata": {},
   "source": [
    "## P-096\n",
    "\n",
    "093で作成したカテゴリ名付き商品データを以下の仕様でファイル出力せよ。\n",
    ">\n",
    "> |ファイル形式|ヘッダ有無|文字エンコーディング|\n",
    "> |:--:|:--:|:--:|\n",
    "> |CSV（カンマ区切り）|無し|UTF-8|\n",
    "> \n",
    "> ファイル出力先のパスは以下のようにすること。\n",
    "> \n",
    "> |出力先|\n",
    "> |:--:|\n",
    "> |./data|"
   ]
  },
  {
   "cell_type": "code",
   "execution_count": 9,
   "id": "b82a6239-233d-47d9-a991-a28293c7c53b",
   "metadata": {},
   "outputs": [],
   "source": [
    "df_product_full.write_csv('./data/product_full_nohead.csv', include_header=False)"
   ]
  },
  {
   "cell_type": "markdown",
   "id": "12b022ce-0cd7-425e-9c27-12a9153a45ca",
   "metadata": {},
   "source": [
    "## P-097\n",
    "\n",
    "094で作成した以下形式のファイルを読み込み、データを3件を表示させて正しく取り込まれていることを確認せよ。\n",
    "> \n",
    "> |ファイル形式|ヘッダ有無|文字エンコーディング|\n",
    "> |:--:|:--:|:--:|\n",
    "> |CSV（カンマ区切り）|有り|UTF-8|"
   ]
  },
  {
   "cell_type": "code",
   "execution_count": 10,
   "id": "dd302488-ff7d-4910-9c0d-b6c721ad241e",
   "metadata": {},
   "outputs": [
    {
     "data": {
      "text/html": [
       "<div><style>\n",
       ".dataframe > thead > tr,\n",
       ".dataframe > tbody > tr {\n",
       "  text-align: right;\n",
       "  white-space: pre-wrap;\n",
       "}\n",
       "</style>\n",
       "<small>shape: (5, 9)</small><table border=\"1\" class=\"dataframe\"><thead><tr><th>product_cd</th><th>category_major_cd</th><th>category_major_name</th><th>category_medium_cd</th><th>category_medium_name</th><th>category_small_cd</th><th>category_small_name</th><th>unit_price</th><th>unit_cost</th></tr><tr><td>str</td><td>i64</td><td>str</td><td>i64</td><td>str</td><td>i64</td><td>str</td><td>i64</td><td>i64</td></tr></thead><tbody><tr><td>&quot;P040101001&quot;</td><td>4</td><td>&quot;惣菜&quot;</td><td>401</td><td>&quot;御飯類&quot;</td><td>40101</td><td>&quot;弁当類&quot;</td><td>198</td><td>149</td></tr><tr><td>&quot;P040101002&quot;</td><td>4</td><td>&quot;惣菜&quot;</td><td>401</td><td>&quot;御飯類&quot;</td><td>40101</td><td>&quot;弁当類&quot;</td><td>218</td><td>164</td></tr><tr><td>&quot;P040101003&quot;</td><td>4</td><td>&quot;惣菜&quot;</td><td>401</td><td>&quot;御飯類&quot;</td><td>40101</td><td>&quot;弁当類&quot;</td><td>230</td><td>173</td></tr><tr><td>&quot;P040101004&quot;</td><td>4</td><td>&quot;惣菜&quot;</td><td>401</td><td>&quot;御飯類&quot;</td><td>40101</td><td>&quot;弁当類&quot;</td><td>248</td><td>186</td></tr><tr><td>&quot;P040101005&quot;</td><td>4</td><td>&quot;惣菜&quot;</td><td>401</td><td>&quot;御飯類&quot;</td><td>40101</td><td>&quot;弁当類&quot;</td><td>268</td><td>201</td></tr></tbody></table></div>"
      ],
      "text/plain": [
       "shape: (5, 9)\n",
       "┌────────────┬───────────────────┬─────────────────────┬────────────────────┬───┬───────────────────┬─────────────────────┬────────────┬───────────┐\n",
       "│ product_cd ┆ category_major_cd ┆ category_major_name ┆ category_medium_cd ┆ … ┆ category_small_cd ┆ category_small_name ┆ unit_price ┆ unit_cost │\n",
       "│ ---        ┆ ---               ┆ ---                 ┆ ---                ┆   ┆ ---               ┆ ---                 ┆ ---        ┆ ---       │\n",
       "│ str        ┆ i64               ┆ str                 ┆ i64                ┆   ┆ i64               ┆ str                 ┆ i64        ┆ i64       │\n",
       "╞════════════╪═══════════════════╪═════════════════════╪════════════════════╪═══╪═══════════════════╪═════════════════════╪════════════╪═══════════╡\n",
       "│ P040101001 ┆ 4                 ┆ 惣菜                ┆ 401                ┆ … ┆ 40101             ┆ 弁当類              ┆ 198        ┆ 149       │\n",
       "│ P040101002 ┆ 4                 ┆ 惣菜                ┆ 401                ┆ … ┆ 40101             ┆ 弁当類              ┆ 218        ┆ 164       │\n",
       "│ P040101003 ┆ 4                 ┆ 惣菜                ┆ 401                ┆ … ┆ 40101             ┆ 弁当類              ┆ 230        ┆ 173       │\n",
       "│ P040101004 ┆ 4                 ┆ 惣菜                ┆ 401                ┆ … ┆ 40101             ┆ 弁当類              ┆ 248        ┆ 186       │\n",
       "│ P040101005 ┆ 4                 ┆ 惣菜                ┆ 401                ┆ … ┆ 40101             ┆ 弁当類              ┆ 268        ┆ 201       │\n",
       "└────────────┴───────────────────┴─────────────────────┴────────────────────┴───┴───────────────────┴─────────────────────┴────────────┴───────────┘"
      ]
     },
     "execution_count": 10,
     "metadata": {},
     "output_type": "execute_result"
    }
   ],
   "source": [
    "pl.read_csv('./data/product_full.csv').head()"
   ]
  },
  {
   "cell_type": "markdown",
   "id": "9746d31f-b825-4626-8ab3-8085aebcbd38",
   "metadata": {},
   "source": [
    "## P-098\n",
    "\n",
    "096で作成した以下形式のファイルを読み込み、データを3件を表示させて正しく取り込まれていることを確認せよ。\n",
    "> \n",
    "> |ファイル形式|ヘッダ有無|文字エンコーディング|\n",
    "> |:--:|:--:|:--:|\n",
    "> |CSV（カンマ区切り）|ヘッダ無し|UTF-8|"
   ]
  },
  {
   "cell_type": "code",
   "execution_count": 11,
   "id": "8bcb6cf1-5c3f-40af-a91d-7896a26efd04",
   "metadata": {},
   "outputs": [
    {
     "data": {
      "text/plain": [
       "['product_cd',\n",
       " 'category_major_cd',\n",
       " 'category_major_name',\n",
       " 'category_medium_cd',\n",
       " 'category_medium_name',\n",
       " 'category_small_cd',\n",
       " 'category_small_name',\n",
       " 'unit_price',\n",
       " 'unit_cost']"
      ]
     },
     "execution_count": 11,
     "metadata": {},
     "output_type": "execute_result"
    }
   ],
   "source": [
    "df_product_full.columns"
   ]
  },
  {
   "cell_type": "code",
   "execution_count": 12,
   "id": "c0895a80-8409-4211-bc24-ba9b07337b4a",
   "metadata": {},
   "outputs": [
    {
     "data": {
      "text/html": [
       "<div><style>\n",
       ".dataframe > thead > tr,\n",
       ".dataframe > tbody > tr {\n",
       "  text-align: right;\n",
       "  white-space: pre-wrap;\n",
       "}\n",
       "</style>\n",
       "<small>shape: (5, 9)</small><table border=\"1\" class=\"dataframe\"><thead><tr><th>product_cd</th><th>category_major_cd</th><th>category_major_name</th><th>category_medium_cd</th><th>category_medium_name</th><th>category_small_cd</th><th>category_small_name</th><th>unit_price</th><th>unit_cost</th></tr><tr><td>str</td><td>i64</td><td>str</td><td>i64</td><td>str</td><td>i64</td><td>str</td><td>i64</td><td>i64</td></tr></thead><tbody><tr><td>&quot;P040101001&quot;</td><td>4</td><td>&quot;惣菜&quot;</td><td>401</td><td>&quot;御飯類&quot;</td><td>40101</td><td>&quot;弁当類&quot;</td><td>198</td><td>149</td></tr><tr><td>&quot;P040101002&quot;</td><td>4</td><td>&quot;惣菜&quot;</td><td>401</td><td>&quot;御飯類&quot;</td><td>40101</td><td>&quot;弁当類&quot;</td><td>218</td><td>164</td></tr><tr><td>&quot;P040101003&quot;</td><td>4</td><td>&quot;惣菜&quot;</td><td>401</td><td>&quot;御飯類&quot;</td><td>40101</td><td>&quot;弁当類&quot;</td><td>230</td><td>173</td></tr><tr><td>&quot;P040101004&quot;</td><td>4</td><td>&quot;惣菜&quot;</td><td>401</td><td>&quot;御飯類&quot;</td><td>40101</td><td>&quot;弁当類&quot;</td><td>248</td><td>186</td></tr><tr><td>&quot;P040101005&quot;</td><td>4</td><td>&quot;惣菜&quot;</td><td>401</td><td>&quot;御飯類&quot;</td><td>40101</td><td>&quot;弁当類&quot;</td><td>268</td><td>201</td></tr></tbody></table></div>"
      ],
      "text/plain": [
       "shape: (5, 9)\n",
       "┌────────────┬───────────────────┬─────────────────────┬────────────────────┬───┬───────────────────┬─────────────────────┬────────────┬───────────┐\n",
       "│ product_cd ┆ category_major_cd ┆ category_major_name ┆ category_medium_cd ┆ … ┆ category_small_cd ┆ category_small_name ┆ unit_price ┆ unit_cost │\n",
       "│ ---        ┆ ---               ┆ ---                 ┆ ---                ┆   ┆ ---               ┆ ---                 ┆ ---        ┆ ---       │\n",
       "│ str        ┆ i64               ┆ str                 ┆ i64                ┆   ┆ i64               ┆ str                 ┆ i64        ┆ i64       │\n",
       "╞════════════╪═══════════════════╪═════════════════════╪════════════════════╪═══╪═══════════════════╪═════════════════════╪════════════╪═══════════╡\n",
       "│ P040101001 ┆ 4                 ┆ 惣菜                ┆ 401                ┆ … ┆ 40101             ┆ 弁当類              ┆ 198        ┆ 149       │\n",
       "│ P040101002 ┆ 4                 ┆ 惣菜                ┆ 401                ┆ … ┆ 40101             ┆ 弁当類              ┆ 218        ┆ 164       │\n",
       "│ P040101003 ┆ 4                 ┆ 惣菜                ┆ 401                ┆ … ┆ 40101             ┆ 弁当類              ┆ 230        ┆ 173       │\n",
       "│ P040101004 ┆ 4                 ┆ 惣菜                ┆ 401                ┆ … ┆ 40101             ┆ 弁当類              ┆ 248        ┆ 186       │\n",
       "│ P040101005 ┆ 4                 ┆ 惣菜                ┆ 401                ┆ … ┆ 40101             ┆ 弁当類              ┆ 268        ┆ 201       │\n",
       "└────────────┴───────────────────┴─────────────────────┴────────────────────┴───┴───────────────────┴─────────────────────┴────────────┴───────────┘"
      ]
     },
     "execution_count": 12,
     "metadata": {},
     "output_type": "execute_result"
    }
   ],
   "source": [
    "cols = ['product_cd',\n",
    " 'category_major_cd',\n",
    " 'category_major_name',\n",
    " 'category_medium_cd',\n",
    " 'category_medium_name',\n",
    " 'category_small_cd',\n",
    " 'category_small_name',\n",
    " 'unit_price',\n",
    " 'unit_cost']\n",
    "\n",
    "pl.read_csv('./data/product_full_nohead.csv', has_header=False, new_columns=cols).head()"
   ]
  },
  {
   "cell_type": "markdown",
   "id": "7bf71845-6069-4101-a54a-977f57d1f1ee",
   "metadata": {},
   "source": [
    "## P-099\n",
    "\n",
    "093で作成したカテゴリ名付き商品データを以下の仕様でファイル出力せよ。\n",
    ">\n",
    "> |ファイル形式|ヘッダ有無|文字エンコーディング|\n",
    "> |:--:|:--:|:--:|\n",
    "> |TSV（タブ区切り）|有り|UTF-8|\n",
    "> \n",
    "> ファイル出力先のパスは以下のようにすること\n",
    "> \n",
    "> |出力先|\n",
    "> |:--:|\n",
    "> |./data|"
   ]
  },
  {
   "cell_type": "code",
   "execution_count": 13,
   "id": "2d38521c-196b-4b28-a4ad-63d37c56bb71",
   "metadata": {},
   "outputs": [],
   "source": [
    "df_product_full.write_csv('./data/product_full.tsv', separator='\\t')"
   ]
  },
  {
   "cell_type": "markdown",
   "id": "0e296150-26d0-4e7a-8924-66b001049b00",
   "metadata": {},
   "source": [
    "## P-100\n",
    "\n",
    "099で作成した以下形式のファイルを読み込み、データを3件を表示させて正しく取り込まれていることを確認せよ。\n",
    "\n",
    "> \n",
    "> |ファイル形式|ヘッダ有無|文字エンコーディング|\n",
    "> |:--:|:--:|:--:|\n",
    "> |TSV（タブ区切り）|有り|UTF-8|"
   ]
  },
  {
   "cell_type": "code",
   "execution_count": 14,
   "id": "44110bbd-834f-4569-b1c0-3b0eba9ec9c7",
   "metadata": {},
   "outputs": [
    {
     "data": {
      "text/html": [
       "<div><style>\n",
       ".dataframe > thead > tr,\n",
       ".dataframe > tbody > tr {\n",
       "  text-align: right;\n",
       "  white-space: pre-wrap;\n",
       "}\n",
       "</style>\n",
       "<small>shape: (5, 9)</small><table border=\"1\" class=\"dataframe\"><thead><tr><th>product_cd</th><th>category_major_cd</th><th>category_major_name</th><th>category_medium_cd</th><th>category_medium_name</th><th>category_small_cd</th><th>category_small_name</th><th>unit_price</th><th>unit_cost</th></tr><tr><td>str</td><td>i64</td><td>str</td><td>i64</td><td>str</td><td>i64</td><td>str</td><td>i64</td><td>i64</td></tr></thead><tbody><tr><td>&quot;P040101001&quot;</td><td>4</td><td>&quot;惣菜&quot;</td><td>401</td><td>&quot;御飯類&quot;</td><td>40101</td><td>&quot;弁当類&quot;</td><td>198</td><td>149</td></tr><tr><td>&quot;P040101002&quot;</td><td>4</td><td>&quot;惣菜&quot;</td><td>401</td><td>&quot;御飯類&quot;</td><td>40101</td><td>&quot;弁当類&quot;</td><td>218</td><td>164</td></tr><tr><td>&quot;P040101003&quot;</td><td>4</td><td>&quot;惣菜&quot;</td><td>401</td><td>&quot;御飯類&quot;</td><td>40101</td><td>&quot;弁当類&quot;</td><td>230</td><td>173</td></tr><tr><td>&quot;P040101004&quot;</td><td>4</td><td>&quot;惣菜&quot;</td><td>401</td><td>&quot;御飯類&quot;</td><td>40101</td><td>&quot;弁当類&quot;</td><td>248</td><td>186</td></tr><tr><td>&quot;P040101005&quot;</td><td>4</td><td>&quot;惣菜&quot;</td><td>401</td><td>&quot;御飯類&quot;</td><td>40101</td><td>&quot;弁当類&quot;</td><td>268</td><td>201</td></tr></tbody></table></div>"
      ],
      "text/plain": [
       "shape: (5, 9)\n",
       "┌────────────┬───────────────────┬─────────────────────┬────────────────────┬───┬───────────────────┬─────────────────────┬────────────┬───────────┐\n",
       "│ product_cd ┆ category_major_cd ┆ category_major_name ┆ category_medium_cd ┆ … ┆ category_small_cd ┆ category_small_name ┆ unit_price ┆ unit_cost │\n",
       "│ ---        ┆ ---               ┆ ---                 ┆ ---                ┆   ┆ ---               ┆ ---                 ┆ ---        ┆ ---       │\n",
       "│ str        ┆ i64               ┆ str                 ┆ i64                ┆   ┆ i64               ┆ str                 ┆ i64        ┆ i64       │\n",
       "╞════════════╪═══════════════════╪═════════════════════╪════════════════════╪═══╪═══════════════════╪═════════════════════╪════════════╪═══════════╡\n",
       "│ P040101001 ┆ 4                 ┆ 惣菜                ┆ 401                ┆ … ┆ 40101             ┆ 弁当類              ┆ 198        ┆ 149       │\n",
       "│ P040101002 ┆ 4                 ┆ 惣菜                ┆ 401                ┆ … ┆ 40101             ┆ 弁当類              ┆ 218        ┆ 164       │\n",
       "│ P040101003 ┆ 4                 ┆ 惣菜                ┆ 401                ┆ … ┆ 40101             ┆ 弁当類              ┆ 230        ┆ 173       │\n",
       "│ P040101004 ┆ 4                 ┆ 惣菜                ┆ 401                ┆ … ┆ 40101             ┆ 弁当類              ┆ 248        ┆ 186       │\n",
       "│ P040101005 ┆ 4                 ┆ 惣菜                ┆ 401                ┆ … ┆ 40101             ┆ 弁当類              ┆ 268        ┆ 201       │\n",
       "└────────────┴───────────────────┴─────────────────────┴────────────────────┴───┴───────────────────┴─────────────────────┴────────────┴───────────┘"
      ]
     },
     "execution_count": 14,
     "metadata": {},
     "output_type": "execute_result"
    }
   ],
   "source": [
    "pl.read_csv('./data/product_full.tsv', separator='\\t').head()"
   ]
  }
 ],
 "metadata": {
  "kernelspec": {
   "display_name": "Python 3 (ipykernel)",
   "language": "python",
   "name": "python3"
  },
  "language_info": {
   "codemirror_mode": {
    "name": "ipython",
    "version": 3
   },
   "file_extension": ".py",
   "mimetype": "text/x-python",
   "name": "python",
   "nbconvert_exporter": "python",
   "pygments_lexer": "ipython3",
   "version": "3.12.8"
  }
 },
 "nbformat": 4,
 "nbformat_minor": 5
}

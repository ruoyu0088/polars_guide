{
 "cells": [
  {
   "cell_type": "markdown",
   "id": "ed9490e5-0e99-42eb-8b33-4a602ec28673",
   "metadata": {},
   "source": [
    "# 10 minutes to pandas"
   ]
  },
  {
   "cell_type": "code",
   "execution_count": 1,
   "id": "54d11b1c-d290-4364-bdbe-1f8d11e53c97",
   "metadata": {},
   "outputs": [],
   "source": [
    "import numpy as np\n",
    "import polars as pl\n",
    "from helper.jupyter import row"
   ]
  },
  {
   "cell_type": "code",
   "execution_count": 131,
   "id": "22ee56ae-4767-447f-b46c-641c0f321c96",
   "metadata": {},
   "outputs": [],
   "source": [
    "def to_dataframe(data):\n",
    "    import re\n",
    "    from io import StringIO\n",
    "    data = re.sub(r'[ \\t]+', ',', data.strip())\n",
    "    return pl.read_csv(StringIO(data))"
   ]
  },
  {
   "cell_type": "markdown",
   "id": "a353bf66-d7ec-4f09-8351-34cf5e470e1a",
   "metadata": {},
   "source": [
    "## Object creation"
   ]
  },
  {
   "cell_type": "code",
   "execution_count": 2,
   "id": "9b2c0c9b-acd9-4c34-b43f-e8f9e5e18db0",
   "metadata": {},
   "outputs": [
    {
     "data": {
      "text/html": [
       "<table><tr><td><div><style>\n",
       ".dataframe > thead > tr,\n",
       ".dataframe > tbody > tr {\n",
       "  text-align: right;\n",
       "  white-space: pre-wrap;\n",
       "}\n",
       "</style>\n",
       "<small>shape: (6,)</small><table border=\"1\" class=\"dataframe\"><thead><tr><th></th></tr><tr><td>f64</td></tr></thead><tbody><tr><td>1.0</td></tr><tr><td>3.0</td></tr><tr><td>5.0</td></tr><tr><td>NaN</td></tr><tr><td>6.0</td></tr><tr><td>8.0</td></tr></tbody></table></div></td><td><div><style>\n",
       ".dataframe > thead > tr,\n",
       ".dataframe > tbody > tr {\n",
       "  text-align: right;\n",
       "  white-space: pre-wrap;\n",
       "}\n",
       "</style>\n",
       "<small>shape: (6,)</small><table border=\"1\" class=\"dataframe\"><thead><tr><th></th></tr><tr><td>i64</td></tr></thead><tbody><tr><td>1</td></tr><tr><td>3</td></tr><tr><td>5</td></tr><tr><td>null</td></tr><tr><td>6</td></tr><tr><td>8</td></tr></tbody></table></div></td></tr></table>"
      ]
     },
     "metadata": {},
     "output_type": "display_data"
    }
   ],
   "source": [
    "s = pl.Series([1, 3, 5, np.nan, 6, 8], strict=False)\n",
    "s2 = pl.Series([1, 3, 5, None, 6, 8])\n",
    "row(s, s2)"
   ]
  },
  {
   "cell_type": "code",
   "execution_count": 3,
   "id": "94d83c8a-180d-4af3-a485-02faced33d18",
   "metadata": {},
   "outputs": [
    {
     "data": {
      "text/html": [
       "<div><style>\n",
       ".dataframe > thead > tr,\n",
       ".dataframe > tbody > tr {\n",
       "  text-align: right;\n",
       "  white-space: pre-wrap;\n",
       "}\n",
       "</style>\n",
       "<small>shape: (6,)</small><table border=\"1\" class=\"dataframe\"><thead><tr><th>index</th></tr><tr><td>date</td></tr></thead><tbody><tr><td>2013-01-01</td></tr><tr><td>2013-01-02</td></tr><tr><td>2013-01-03</td></tr><tr><td>2013-01-04</td></tr><tr><td>2013-01-05</td></tr><tr><td>2013-01-06</td></tr></tbody></table></div>"
      ],
      "text/plain": [
       "shape: (6,)\n",
       "Series: 'index' [date]\n",
       "[\n",
       "\t2013-01-01\n",
       "\t2013-01-02\n",
       "\t2013-01-03\n",
       "\t2013-01-04\n",
       "\t2013-01-05\n",
       "\t2013-01-06\n",
       "]"
      ]
     },
     "execution_count": 3,
     "metadata": {},
     "output_type": "execute_result"
    }
   ],
   "source": [
    "dates = pl.date_range(\n",
    "    pl.date(2013, 1, 1), \n",
    "    pl.date(2013, 1, 6), \n",
    "    interval='1d', eager=True).alias('index')\n",
    "dates"
   ]
  },
  {
   "cell_type": "code",
   "execution_count": 4,
   "id": "67635ded-bf92-471a-a567-a62e51d308f2",
   "metadata": {},
   "outputs": [
    {
     "data": {
      "text/html": [
       "<div><style>\n",
       ".dataframe > thead > tr,\n",
       ".dataframe > tbody > tr {\n",
       "  text-align: right;\n",
       "  white-space: pre-wrap;\n",
       "}\n",
       "</style>\n",
       "<small>shape: (6, 5)</small><table border=\"1\" class=\"dataframe\"><thead><tr><th>index</th><th>A</th><th>B</th><th>C</th><th>D</th></tr><tr><td>date</td><td>f64</td><td>f64</td><td>f64</td><td>f64</td></tr></thead><tbody><tr><td>2013-01-01</td><td>-1.281556</td><td>-0.976005</td><td>-0.44965</td><td>1.508403</td></tr><tr><td>2013-01-02</td><td>2.299578</td><td>0.450922</td><td>-0.758744</td><td>-0.762308</td></tr><tr><td>2013-01-03</td><td>0.489373</td><td>-0.124009</td><td>0.597175</td><td>-0.365254</td></tr><tr><td>2013-01-04</td><td>-0.689202</td><td>0.040563</td><td>0.883405</td><td>0.400285</td></tr><tr><td>2013-01-05</td><td>0.972164</td><td>1.596552</td><td>1.191523</td><td>-1.907236</td></tr><tr><td>2013-01-06</td><td>0.830918</td><td>0.211487</td><td>0.91045</td><td>1.73558</td></tr></tbody></table></div>"
      ],
      "text/plain": [
       "shape: (6, 5)\n",
       "┌────────────┬───────────┬───────────┬───────────┬───────────┐\n",
       "│ index      ┆ A         ┆ B         ┆ C         ┆ D         │\n",
       "│ ---        ┆ ---       ┆ ---       ┆ ---       ┆ ---       │\n",
       "│ date       ┆ f64       ┆ f64       ┆ f64       ┆ f64       │\n",
       "╞════════════╪═══════════╪═══════════╪═══════════╪═══════════╡\n",
       "│ 2013-01-01 ┆ -1.281556 ┆ -0.976005 ┆ -0.44965  ┆ 1.508403  │\n",
       "│ 2013-01-02 ┆ 2.299578  ┆ 0.450922  ┆ -0.758744 ┆ -0.762308 │\n",
       "│ 2013-01-03 ┆ 0.489373  ┆ -0.124009 ┆ 0.597175  ┆ -0.365254 │\n",
       "│ 2013-01-04 ┆ -0.689202 ┆ 0.040563  ┆ 0.883405  ┆ 0.400285  │\n",
       "│ 2013-01-05 ┆ 0.972164  ┆ 1.596552  ┆ 1.191523  ┆ -1.907236 │\n",
       "│ 2013-01-06 ┆ 0.830918  ┆ 0.211487  ┆ 0.91045   ┆ 1.73558   │\n",
       "└────────────┴───────────┴───────────┴───────────┴───────────┘"
      ]
     },
     "execution_count": 4,
     "metadata": {},
     "output_type": "execute_result"
    }
   ],
   "source": [
    "df = pl.DataFrame(np.random.randn(6, 4), schema=list(\"ABCD\"))\n",
    "df.insert_column(0, dates)\n",
    "df"
   ]
  },
  {
   "cell_type": "code",
   "execution_count": 5,
   "id": "e6513760-b0b2-4876-9185-b5d47524fc2f",
   "metadata": {},
   "outputs": [
    {
     "data": {
      "text/html": [
       "<div><style>\n",
       ".dataframe > thead > tr,\n",
       ".dataframe > tbody > tr {\n",
       "  text-align: right;\n",
       "  white-space: pre-wrap;\n",
       "}\n",
       "</style>\n",
       "<small>shape: (6, 5)</small><table border=\"1\" class=\"dataframe\"><thead><tr><th>index</th><th>A</th><th>B</th><th>C</th><th>D</th></tr><tr><td>date</td><td>f64</td><td>f64</td><td>f64</td><td>f64</td></tr></thead><tbody><tr><td>2013-01-01</td><td>0.4691</td><td>-0.2829</td><td>-1.5091</td><td>-1.1356</td></tr><tr><td>2013-01-02</td><td>1.2121</td><td>-0.1732</td><td>0.1192</td><td>-1.0442</td></tr><tr><td>2013-01-03</td><td>-0.8618</td><td>-2.1046</td><td>-0.4949</td><td>1.0718</td></tr><tr><td>2013-01-04</td><td>0.7216</td><td>-0.7068</td><td>-1.0396</td><td>0.2719</td></tr><tr><td>2013-01-05</td><td>-0.425</td><td>0.567</td><td>0.2762</td><td>-1.0874</td></tr><tr><td>2013-01-06</td><td>-0.6737</td><td>0.1136</td><td>-1.4784</td><td>0.525</td></tr></tbody></table></div>"
      ],
      "text/plain": [
       "shape: (6, 5)\n",
       "┌────────────┬─────────┬─────────┬─────────┬─────────┐\n",
       "│ index      ┆ A       ┆ B       ┆ C       ┆ D       │\n",
       "│ ---        ┆ ---     ┆ ---     ┆ ---     ┆ ---     │\n",
       "│ date       ┆ f64     ┆ f64     ┆ f64     ┆ f64     │\n",
       "╞════════════╪═════════╪═════════╪═════════╪═════════╡\n",
       "│ 2013-01-01 ┆ 0.4691  ┆ -0.2829 ┆ -1.5091 ┆ -1.1356 │\n",
       "│ 2013-01-02 ┆ 1.2121  ┆ -0.1732 ┆ 0.1192  ┆ -1.0442 │\n",
       "│ 2013-01-03 ┆ -0.8618 ┆ -2.1046 ┆ -0.4949 ┆ 1.0718  │\n",
       "│ 2013-01-04 ┆ 0.7216  ┆ -0.7068 ┆ -1.0396 ┆ 0.2719  │\n",
       "│ 2013-01-05 ┆ -0.425  ┆ 0.567   ┆ 0.2762  ┆ -1.0874 │\n",
       "│ 2013-01-06 ┆ -0.6737 ┆ 0.1136  ┆ -1.4784 ┆ 0.525   │\n",
       "└────────────┴─────────┴─────────┴─────────┴─────────┘"
      ]
     },
     "execution_count": 5,
     "metadata": {},
     "output_type": "execute_result"
    }
   ],
   "source": [
    "arr = np.array([[ 0.4691, -0.2829, -1.5091, -1.1356],\n",
    "       [ 1.2121, -0.1732,  0.1192, -1.0442],\n",
    "       [-0.8618, -2.1046, -0.4949,  1.0718],\n",
    "       [ 0.7216, -0.7068, -1.0396,  0.2719],\n",
    "       [-0.425 ,  0.567 ,  0.2762, -1.0874],\n",
    "       [-0.6737,  0.1136, -1.4784,  0.525 ]])\n",
    "df = pl.DataFrame(arr, schema=list(\"ABCD\"))\n",
    "df.insert_column(0, dates)"
   ]
  },
  {
   "cell_type": "code",
   "execution_count": 6,
   "id": "929d7c44-1256-4bb8-b32a-5be6d31ee574",
   "metadata": {},
   "outputs": [
    {
     "data": {
      "text/html": [
       "<div><style>\n",
       ".dataframe > thead > tr,\n",
       ".dataframe > tbody > tr {\n",
       "  text-align: right;\n",
       "  white-space: pre-wrap;\n",
       "}\n",
       "</style>\n",
       "<small>shape: (4, 5)</small><table border=\"1\" class=\"dataframe\"><thead><tr><th>A</th><th>B</th><th>D</th><th>E</th><th>F</th></tr><tr><td>f64</td><td>date</td><td>i32</td><td>cat</td><td>str</td></tr></thead><tbody><tr><td>1.0</td><td>2013-01-02</td><td>3</td><td>&quot;test&quot;</td><td>&quot;foo&quot;</td></tr><tr><td>1.0</td><td>2013-01-02</td><td>3</td><td>&quot;train&quot;</td><td>&quot;foo&quot;</td></tr><tr><td>1.0</td><td>2013-01-02</td><td>3</td><td>&quot;test&quot;</td><td>&quot;foo&quot;</td></tr><tr><td>1.0</td><td>2013-01-02</td><td>3</td><td>&quot;train&quot;</td><td>&quot;foo&quot;</td></tr></tbody></table></div>"
      ],
      "text/plain": [
       "shape: (4, 5)\n",
       "┌─────┬────────────┬─────┬───────┬─────┐\n",
       "│ A   ┆ B          ┆ D   ┆ E     ┆ F   │\n",
       "│ --- ┆ ---        ┆ --- ┆ ---   ┆ --- │\n",
       "│ f64 ┆ date       ┆ i32 ┆ cat   ┆ str │\n",
       "╞═════╪════════════╪═════╪═══════╪═════╡\n",
       "│ 1.0 ┆ 2013-01-02 ┆ 3   ┆ test  ┆ foo │\n",
       "│ 1.0 ┆ 2013-01-02 ┆ 3   ┆ train ┆ foo │\n",
       "│ 1.0 ┆ 2013-01-02 ┆ 3   ┆ test  ┆ foo │\n",
       "│ 1.0 ┆ 2013-01-02 ┆ 3   ┆ train ┆ foo │\n",
       "└─────┴────────────┴─────┴───────┴─────┘"
      ]
     },
     "execution_count": 6,
     "metadata": {},
     "output_type": "execute_result"
    }
   ],
   "source": [
    "df2 = pl.select(\n",
    "    A=1.0,\n",
    "    B=pl.date(2013, 1, 2),\n",
    "    D=np.array([3] * 4, dtype=\"int32\"),\n",
    "    E=pl.lit(pl.Series(['test', 'train', 'test', 'train'], dtype=pl.Categorical)),\n",
    "    F=pl.lit(\"foo\"),\n",
    ")\n",
    "df2"
   ]
  },
  {
   "cell_type": "code",
   "execution_count": 7,
   "id": "e52df712-08d4-460f-b55e-a1bf4762b24f",
   "metadata": {},
   "outputs": [
    {
     "data": {
      "text/plain": [
       "[Float64, Date, Int32, Categorical(ordering='physical'), String]"
      ]
     },
     "execution_count": 7,
     "metadata": {},
     "output_type": "execute_result"
    }
   ],
   "source": [
    "df2.dtypes"
   ]
  },
  {
   "cell_type": "code",
   "execution_count": 8,
   "id": "0437ea69-342f-447d-b1cb-63f9426bcb6f",
   "metadata": {},
   "outputs": [
    {
     "data": {
      "text/plain": [
       "Schema([('A', Float64),\n",
       "        ('B', Date),\n",
       "        ('D', Int32),\n",
       "        ('E', Categorical(ordering='physical')),\n",
       "        ('F', String)])"
      ]
     },
     "execution_count": 8,
     "metadata": {},
     "output_type": "execute_result"
    }
   ],
   "source": [
    "df2.schema"
   ]
  },
  {
   "cell_type": "markdown",
   "id": "b6f5274d-b19b-46f1-b5d3-4b0da9276e36",
   "metadata": {},
   "source": [
    "## Viewing data"
   ]
  },
  {
   "cell_type": "code",
   "execution_count": 9,
   "id": "a526539d-a6ba-437c-a33b-1244d12cac29",
   "metadata": {},
   "outputs": [
    {
     "data": {
      "text/html": [
       "<div><style>\n",
       ".dataframe > thead > tr,\n",
       ".dataframe > tbody > tr {\n",
       "  text-align: right;\n",
       "  white-space: pre-wrap;\n",
       "}\n",
       "</style>\n",
       "<small>shape: (5, 5)</small><table border=\"1\" class=\"dataframe\"><thead><tr><th>index</th><th>A</th><th>B</th><th>C</th><th>D</th></tr><tr><td>date</td><td>f64</td><td>f64</td><td>f64</td><td>f64</td></tr></thead><tbody><tr><td>2013-01-01</td><td>0.4691</td><td>-0.2829</td><td>-1.5091</td><td>-1.1356</td></tr><tr><td>2013-01-02</td><td>1.2121</td><td>-0.1732</td><td>0.1192</td><td>-1.0442</td></tr><tr><td>2013-01-03</td><td>-0.8618</td><td>-2.1046</td><td>-0.4949</td><td>1.0718</td></tr><tr><td>2013-01-04</td><td>0.7216</td><td>-0.7068</td><td>-1.0396</td><td>0.2719</td></tr><tr><td>2013-01-05</td><td>-0.425</td><td>0.567</td><td>0.2762</td><td>-1.0874</td></tr></tbody></table></div>"
      ],
      "text/plain": [
       "shape: (5, 5)\n",
       "┌────────────┬─────────┬─────────┬─────────┬─────────┐\n",
       "│ index      ┆ A       ┆ B       ┆ C       ┆ D       │\n",
       "│ ---        ┆ ---     ┆ ---     ┆ ---     ┆ ---     │\n",
       "│ date       ┆ f64     ┆ f64     ┆ f64     ┆ f64     │\n",
       "╞════════════╪═════════╪═════════╪═════════╪═════════╡\n",
       "│ 2013-01-01 ┆ 0.4691  ┆ -0.2829 ┆ -1.5091 ┆ -1.1356 │\n",
       "│ 2013-01-02 ┆ 1.2121  ┆ -0.1732 ┆ 0.1192  ┆ -1.0442 │\n",
       "│ 2013-01-03 ┆ -0.8618 ┆ -2.1046 ┆ -0.4949 ┆ 1.0718  │\n",
       "│ 2013-01-04 ┆ 0.7216  ┆ -0.7068 ┆ -1.0396 ┆ 0.2719  │\n",
       "│ 2013-01-05 ┆ -0.425  ┆ 0.567   ┆ 0.2762  ┆ -1.0874 │\n",
       "└────────────┴─────────┴─────────┴─────────┴─────────┘"
      ]
     },
     "execution_count": 9,
     "metadata": {},
     "output_type": "execute_result"
    }
   ],
   "source": [
    "df.head(5)"
   ]
  },
  {
   "cell_type": "code",
   "execution_count": 10,
   "id": "f589cece-7220-4c6d-b7f2-33aad5fad693",
   "metadata": {},
   "outputs": [
    {
     "data": {
      "text/html": [
       "<div><style>\n",
       ".dataframe > thead > tr,\n",
       ".dataframe > tbody > tr {\n",
       "  text-align: right;\n",
       "  white-space: pre-wrap;\n",
       "}\n",
       "</style>\n",
       "<small>shape: (3, 5)</small><table border=\"1\" class=\"dataframe\"><thead><tr><th>index</th><th>A</th><th>B</th><th>C</th><th>D</th></tr><tr><td>date</td><td>f64</td><td>f64</td><td>f64</td><td>f64</td></tr></thead><tbody><tr><td>2013-01-04</td><td>0.7216</td><td>-0.7068</td><td>-1.0396</td><td>0.2719</td></tr><tr><td>2013-01-05</td><td>-0.425</td><td>0.567</td><td>0.2762</td><td>-1.0874</td></tr><tr><td>2013-01-06</td><td>-0.6737</td><td>0.1136</td><td>-1.4784</td><td>0.525</td></tr></tbody></table></div>"
      ],
      "text/plain": [
       "shape: (3, 5)\n",
       "┌────────────┬─────────┬─────────┬─────────┬─────────┐\n",
       "│ index      ┆ A       ┆ B       ┆ C       ┆ D       │\n",
       "│ ---        ┆ ---     ┆ ---     ┆ ---     ┆ ---     │\n",
       "│ date       ┆ f64     ┆ f64     ┆ f64     ┆ f64     │\n",
       "╞════════════╪═════════╪═════════╪═════════╪═════════╡\n",
       "│ 2013-01-04 ┆ 0.7216  ┆ -0.7068 ┆ -1.0396 ┆ 0.2719  │\n",
       "│ 2013-01-05 ┆ -0.425  ┆ 0.567   ┆ 0.2762  ┆ -1.0874 │\n",
       "│ 2013-01-06 ┆ -0.6737 ┆ 0.1136  ┆ -1.4784 ┆ 0.525   │\n",
       "└────────────┴─────────┴─────────┴─────────┴─────────┘"
      ]
     },
     "execution_count": 10,
     "metadata": {},
     "output_type": "execute_result"
    }
   ],
   "source": [
    "df.tail(3)"
   ]
  },
  {
   "cell_type": "code",
   "execution_count": 11,
   "id": "abb533e6-f0db-4ec0-9cee-f99878777eca",
   "metadata": {},
   "outputs": [
    {
     "data": {
      "text/html": [
       "<div><style>\n",
       ".dataframe > thead > tr,\n",
       ".dataframe > tbody > tr {\n",
       "  text-align: right;\n",
       "  white-space: pre-wrap;\n",
       "}\n",
       "</style>\n",
       "<small>shape: (6,)</small><table border=\"1\" class=\"dataframe\"><thead><tr><th>index</th></tr><tr><td>date</td></tr></thead><tbody><tr><td>2013-01-01</td></tr><tr><td>2013-01-02</td></tr><tr><td>2013-01-03</td></tr><tr><td>2013-01-04</td></tr><tr><td>2013-01-05</td></tr><tr><td>2013-01-06</td></tr></tbody></table></div>"
      ],
      "text/plain": [
       "shape: (6,)\n",
       "Series: 'index' [date]\n",
       "[\n",
       "\t2013-01-01\n",
       "\t2013-01-02\n",
       "\t2013-01-03\n",
       "\t2013-01-04\n",
       "\t2013-01-05\n",
       "\t2013-01-06\n",
       "]"
      ]
     },
     "execution_count": 11,
     "metadata": {},
     "output_type": "execute_result"
    }
   ],
   "source": [
    "df.get_column('index')"
   ]
  },
  {
   "cell_type": "code",
   "execution_count": 12,
   "id": "65271b5e-e0a2-4e76-a88a-8f840151f4d8",
   "metadata": {},
   "outputs": [
    {
     "data": {
      "text/plain": [
       "['index', 'A', 'B', 'C', 'D']"
      ]
     },
     "execution_count": 12,
     "metadata": {},
     "output_type": "execute_result"
    }
   ],
   "source": [
    "df.columns"
   ]
  },
  {
   "cell_type": "code",
   "execution_count": 13,
   "id": "f2c6f01c-ba4c-46c8-99a3-32f818852e06",
   "metadata": {},
   "outputs": [
    {
     "data": {
      "text/plain": [
       "array([[ 0.4691, -0.2829, -1.5091, -1.1356],\n",
       "       [ 1.2121, -0.1732,  0.1192, -1.0442],\n",
       "       [-0.8618, -2.1046, -0.4949,  1.0718],\n",
       "       [ 0.7216, -0.7068, -1.0396,  0.2719],\n",
       "       [-0.425 ,  0.567 ,  0.2762, -1.0874],\n",
       "       [-0.6737,  0.1136, -1.4784,  0.525 ]])"
      ]
     },
     "execution_count": 13,
     "metadata": {},
     "output_type": "execute_result"
    }
   ],
   "source": [
    "df.drop('index').to_numpy()"
   ]
  },
  {
   "cell_type": "code",
   "execution_count": 14,
   "id": "6b86da6c-0f6a-470d-a244-cc49d1762ca7",
   "metadata": {},
   "outputs": [
    {
     "data": {
      "text/plain": [
       "[Float64, Date, Int32, Categorical(ordering='physical'), String]"
      ]
     },
     "execution_count": 14,
     "metadata": {},
     "output_type": "execute_result"
    }
   ],
   "source": [
    "df2.dtypes"
   ]
  },
  {
   "cell_type": "code",
   "execution_count": 15,
   "id": "7302b3b0-f20e-4f10-83a0-332127c79485",
   "metadata": {},
   "outputs": [
    {
     "data": {
      "text/plain": [
       "Schema([('A', Float64),\n",
       "        ('B', Date),\n",
       "        ('D', Int32),\n",
       "        ('E', Categorical(ordering='physical')),\n",
       "        ('F', String)])"
      ]
     },
     "execution_count": 15,
     "metadata": {},
     "output_type": "execute_result"
    }
   ],
   "source": [
    "df2.schema"
   ]
  },
  {
   "cell_type": "code",
   "execution_count": 16,
   "id": "d4947218-5d35-48ff-8107-e08af5fcc4c0",
   "metadata": {},
   "outputs": [
    {
     "data": {
      "text/plain": [
       "array([[1.0, datetime.date(2013, 1, 2), 3, 'test', 'foo'],\n",
       "       [1.0, datetime.date(2013, 1, 2), 3, 'train', 'foo'],\n",
       "       [1.0, datetime.date(2013, 1, 2), 3, 'test', 'foo'],\n",
       "       [1.0, datetime.date(2013, 1, 2), 3, 'train', 'foo']], dtype=object)"
      ]
     },
     "execution_count": 16,
     "metadata": {},
     "output_type": "execute_result"
    }
   ],
   "source": [
    "df2.to_numpy()"
   ]
  },
  {
   "cell_type": "code",
   "execution_count": 17,
   "id": "96018407-870c-483c-ad9b-7e1a311a68a6",
   "metadata": {},
   "outputs": [
    {
     "data": {
      "text/plain": [
       "array([(1., '2013-01-02', 3, 'test', 'foo'),\n",
       "       (1., '2013-01-02', 3, 'train', 'foo'),\n",
       "       (1., '2013-01-02', 3, 'test', 'foo'),\n",
       "       (1., '2013-01-02', 3, 'train', 'foo')],\n",
       "      dtype=[('A', '<f8'), ('B', '<M8[D]'), ('D', '<i4'), ('E', 'O'), ('F', '<U3')])"
      ]
     },
     "execution_count": 17,
     "metadata": {},
     "output_type": "execute_result"
    }
   ],
   "source": [
    "df2.to_numpy(structured=True)"
   ]
  },
  {
   "cell_type": "code",
   "execution_count": 18,
   "id": "16c29e5b-22e6-46ea-abb2-4c82a2f77ab0",
   "metadata": {},
   "outputs": [
    {
     "data": {
      "text/html": [
       "<div><style>\n",
       ".dataframe > thead > tr,\n",
       ".dataframe > tbody > tr {\n",
       "  text-align: right;\n",
       "  white-space: pre-wrap;\n",
       "}\n",
       "</style>\n",
       "<small>shape: (9, 6)</small><table border=\"1\" class=\"dataframe\"><thead><tr><th>statistic</th><th>index</th><th>A</th><th>B</th><th>C</th><th>D</th></tr><tr><td>str</td><td>str</td><td>f64</td><td>f64</td><td>f64</td><td>f64</td></tr></thead><tbody><tr><td>&quot;count&quot;</td><td>&quot;6&quot;</td><td>6.0</td><td>6.0</td><td>6.0</td><td>6.0</td></tr><tr><td>&quot;null_count&quot;</td><td>&quot;0&quot;</td><td>0.0</td><td>0.0</td><td>0.0</td><td>0.0</td></tr><tr><td>&quot;mean&quot;</td><td>&quot;2013-01-03 12:00:00&quot;</td><td>0.073717</td><td>-0.43115</td><td>-0.687767</td><td>-0.233083</td></tr><tr><td>&quot;std&quot;</td><td>null</td><td>0.843153</td><td>0.922821</td><td>0.779885</td><td>0.973111</td></tr><tr><td>&quot;min&quot;</td><td>&quot;2013-01-01&quot;</td><td>-0.8618</td><td>-2.1046</td><td>-1.5091</td><td>-1.1356</td></tr><tr><td>&quot;25%&quot;</td><td>&quot;2013-01-02&quot;</td><td>-0.6737</td><td>-0.7068</td><td>-1.4784</td><td>-1.0874</td></tr><tr><td>&quot;50%&quot;</td><td>&quot;2013-01-04&quot;</td><td>0.4691</td><td>-0.1732</td><td>-0.4949</td><td>0.2719</td></tr><tr><td>&quot;75%&quot;</td><td>&quot;2013-01-05&quot;</td><td>0.7216</td><td>0.1136</td><td>0.1192</td><td>0.525</td></tr><tr><td>&quot;max&quot;</td><td>&quot;2013-01-06&quot;</td><td>1.2121</td><td>0.567</td><td>0.2762</td><td>1.0718</td></tr></tbody></table></div>"
      ],
      "text/plain": [
       "shape: (9, 6)\n",
       "┌────────────┬─────────────────────┬──────────┬──────────┬───────────┬───────────┐\n",
       "│ statistic  ┆ index               ┆ A        ┆ B        ┆ C         ┆ D         │\n",
       "│ ---        ┆ ---                 ┆ ---      ┆ ---      ┆ ---       ┆ ---       │\n",
       "│ str        ┆ str                 ┆ f64      ┆ f64      ┆ f64       ┆ f64       │\n",
       "╞════════════╪═════════════════════╪══════════╪══════════╪═══════════╪═══════════╡\n",
       "│ count      ┆ 6                   ┆ 6.0      ┆ 6.0      ┆ 6.0       ┆ 6.0       │\n",
       "│ null_count ┆ 0                   ┆ 0.0      ┆ 0.0      ┆ 0.0       ┆ 0.0       │\n",
       "│ mean       ┆ 2013-01-03 12:00:00 ┆ 0.073717 ┆ -0.43115 ┆ -0.687767 ┆ -0.233083 │\n",
       "│ std        ┆ null                ┆ 0.843153 ┆ 0.922821 ┆ 0.779885  ┆ 0.973111  │\n",
       "│ min        ┆ 2013-01-01          ┆ -0.8618  ┆ -2.1046  ┆ -1.5091   ┆ -1.1356   │\n",
       "│ 25%        ┆ 2013-01-02          ┆ -0.6737  ┆ -0.7068  ┆ -1.4784   ┆ -1.0874   │\n",
       "│ 50%        ┆ 2013-01-04          ┆ 0.4691   ┆ -0.1732  ┆ -0.4949   ┆ 0.2719    │\n",
       "│ 75%        ┆ 2013-01-05          ┆ 0.7216   ┆ 0.1136   ┆ 0.1192    ┆ 0.525     │\n",
       "│ max        ┆ 2013-01-06          ┆ 1.2121   ┆ 0.567    ┆ 0.2762    ┆ 1.0718    │\n",
       "└────────────┴─────────────────────┴──────────┴──────────┴───────────┴───────────┘"
      ]
     },
     "execution_count": 18,
     "metadata": {},
     "output_type": "execute_result"
    }
   ],
   "source": [
    "df.describe()"
   ]
  },
  {
   "cell_type": "code",
   "execution_count": 19,
   "id": "f937e415-fe03-4f9c-93ae-dc82d7de11d3",
   "metadata": {},
   "outputs": [
    {
     "data": {
      "text/html": [
       "<div><style>\n",
       ".dataframe > thead > tr,\n",
       ".dataframe > tbody > tr {\n",
       "  text-align: right;\n",
       "  white-space: pre-wrap;\n",
       "}\n",
       "</style>\n",
       "<small>shape: (4, 7)</small><table border=\"1\" class=\"dataframe\"><thead><tr><th>column</th><th>2013-01-01</th><th>2013-01-02</th><th>2013-01-03</th><th>2013-01-04</th><th>2013-01-05</th><th>2013-01-06</th></tr><tr><td>str</td><td>f64</td><td>f64</td><td>f64</td><td>f64</td><td>f64</td><td>f64</td></tr></thead><tbody><tr><td>&quot;A&quot;</td><td>0.4691</td><td>1.2121</td><td>-0.8618</td><td>0.7216</td><td>-0.425</td><td>-0.6737</td></tr><tr><td>&quot;B&quot;</td><td>-0.2829</td><td>-0.1732</td><td>-2.1046</td><td>-0.7068</td><td>0.567</td><td>0.1136</td></tr><tr><td>&quot;C&quot;</td><td>-1.5091</td><td>0.1192</td><td>-0.4949</td><td>-1.0396</td><td>0.2762</td><td>-1.4784</td></tr><tr><td>&quot;D&quot;</td><td>-1.1356</td><td>-1.0442</td><td>1.0718</td><td>0.2719</td><td>-1.0874</td><td>0.525</td></tr></tbody></table></div>"
      ],
      "text/plain": [
       "shape: (4, 7)\n",
       "┌────────┬────────────┬────────────┬────────────┬────────────┬────────────┬────────────┐\n",
       "│ column ┆ 2013-01-01 ┆ 2013-01-02 ┆ 2013-01-03 ┆ 2013-01-04 ┆ 2013-01-05 ┆ 2013-01-06 │\n",
       "│ ---    ┆ ---        ┆ ---        ┆ ---        ┆ ---        ┆ ---        ┆ ---        │\n",
       "│ str    ┆ f64        ┆ f64        ┆ f64        ┆ f64        ┆ f64        ┆ f64        │\n",
       "╞════════╪════════════╪════════════╪════════════╪════════════╪════════════╪════════════╡\n",
       "│ A      ┆ 0.4691     ┆ 1.2121     ┆ -0.8618    ┆ 0.7216     ┆ -0.425     ┆ -0.6737    │\n",
       "│ B      ┆ -0.2829    ┆ -0.1732    ┆ -2.1046    ┆ -0.7068    ┆ 0.567      ┆ 0.1136     │\n",
       "│ C      ┆ -1.5091    ┆ 0.1192     ┆ -0.4949    ┆ -1.0396    ┆ 0.2762     ┆ -1.4784    │\n",
       "│ D      ┆ -1.1356    ┆ -1.0442    ┆ 1.0718     ┆ 0.2719     ┆ -1.0874    ┆ 0.525      │\n",
       "└────────┴────────────┴────────────┴────────────┴────────────┴────────────┴────────────┘"
      ]
     },
     "execution_count": 19,
     "metadata": {},
     "output_type": "execute_result"
    }
   ],
   "source": [
    "df.drop('index').transpose(\n",
    "    include_header=True, \n",
    "    column_names=df.get_column('index').cast(pl.String))"
   ]
  },
  {
   "cell_type": "code",
   "execution_count": 20,
   "id": "4f4ba7e5-cfb0-45d6-8c1b-33265c8589a8",
   "metadata": {},
   "outputs": [
    {
     "data": {
      "text/html": [
       "<div><style>\n",
       ".dataframe > thead > tr,\n",
       ".dataframe > tbody > tr {\n",
       "  text-align: right;\n",
       "  white-space: pre-wrap;\n",
       "}\n",
       "</style>\n",
       "<small>shape: (6, 5)</small><table border=\"1\" class=\"dataframe\"><thead><tr><th>index</th><th>D</th><th>C</th><th>B</th><th>A</th></tr><tr><td>date</td><td>f64</td><td>f64</td><td>f64</td><td>f64</td></tr></thead><tbody><tr><td>2013-01-01</td><td>-1.1356</td><td>-1.5091</td><td>-0.2829</td><td>0.4691</td></tr><tr><td>2013-01-02</td><td>-1.0442</td><td>0.1192</td><td>-0.1732</td><td>1.2121</td></tr><tr><td>2013-01-03</td><td>1.0718</td><td>-0.4949</td><td>-2.1046</td><td>-0.8618</td></tr><tr><td>2013-01-04</td><td>0.2719</td><td>-1.0396</td><td>-0.7068</td><td>0.7216</td></tr><tr><td>2013-01-05</td><td>-1.0874</td><td>0.2762</td><td>0.567</td><td>-0.425</td></tr><tr><td>2013-01-06</td><td>0.525</td><td>-1.4784</td><td>0.1136</td><td>-0.6737</td></tr></tbody></table></div>"
      ],
      "text/plain": [
       "shape: (6, 5)\n",
       "┌────────────┬─────────┬─────────┬─────────┬─────────┐\n",
       "│ index      ┆ D       ┆ C       ┆ B       ┆ A       │\n",
       "│ ---        ┆ ---     ┆ ---     ┆ ---     ┆ ---     │\n",
       "│ date       ┆ f64     ┆ f64     ┆ f64     ┆ f64     │\n",
       "╞════════════╪═════════╪═════════╪═════════╪═════════╡\n",
       "│ 2013-01-01 ┆ -1.1356 ┆ -1.5091 ┆ -0.2829 ┆ 0.4691  │\n",
       "│ 2013-01-02 ┆ -1.0442 ┆ 0.1192  ┆ -0.1732 ┆ 1.2121  │\n",
       "│ 2013-01-03 ┆ 1.0718  ┆ -0.4949 ┆ -2.1046 ┆ -0.8618 │\n",
       "│ 2013-01-04 ┆ 0.2719  ┆ -1.0396 ┆ -0.7068 ┆ 0.7216  │\n",
       "│ 2013-01-05 ┆ -1.0874 ┆ 0.2762  ┆ 0.567   ┆ -0.425  │\n",
       "│ 2013-01-06 ┆ 0.525   ┆ -1.4784 ┆ 0.1136  ┆ -0.6737 │\n",
       "└────────────┴─────────┴─────────┴─────────┴─────────┘"
      ]
     },
     "execution_count": 20,
     "metadata": {},
     "output_type": "execute_result"
    }
   ],
   "source": [
    "df.select('index', *sorted(df.columns[1:], reverse=True))"
   ]
  },
  {
   "cell_type": "code",
   "execution_count": 21,
   "id": "a30e2966-dffa-4c5d-9801-df3bdec44342",
   "metadata": {},
   "outputs": [
    {
     "data": {
      "text/html": [
       "<div><style>\n",
       ".dataframe > thead > tr,\n",
       ".dataframe > tbody > tr {\n",
       "  text-align: right;\n",
       "  white-space: pre-wrap;\n",
       "}\n",
       "</style>\n",
       "<small>shape: (6, 5)</small><table border=\"1\" class=\"dataframe\"><thead><tr><th>index</th><th>A</th><th>B</th><th>C</th><th>D</th></tr><tr><td>date</td><td>f64</td><td>f64</td><td>f64</td><td>f64</td></tr></thead><tbody><tr><td>2013-01-03</td><td>-0.8618</td><td>-2.1046</td><td>-0.4949</td><td>1.0718</td></tr><tr><td>2013-01-04</td><td>0.7216</td><td>-0.7068</td><td>-1.0396</td><td>0.2719</td></tr><tr><td>2013-01-01</td><td>0.4691</td><td>-0.2829</td><td>-1.5091</td><td>-1.1356</td></tr><tr><td>2013-01-02</td><td>1.2121</td><td>-0.1732</td><td>0.1192</td><td>-1.0442</td></tr><tr><td>2013-01-06</td><td>-0.6737</td><td>0.1136</td><td>-1.4784</td><td>0.525</td></tr><tr><td>2013-01-05</td><td>-0.425</td><td>0.567</td><td>0.2762</td><td>-1.0874</td></tr></tbody></table></div>"
      ],
      "text/plain": [
       "shape: (6, 5)\n",
       "┌────────────┬─────────┬─────────┬─────────┬─────────┐\n",
       "│ index      ┆ A       ┆ B       ┆ C       ┆ D       │\n",
       "│ ---        ┆ ---     ┆ ---     ┆ ---     ┆ ---     │\n",
       "│ date       ┆ f64     ┆ f64     ┆ f64     ┆ f64     │\n",
       "╞════════════╪═════════╪═════════╪═════════╪═════════╡\n",
       "│ 2013-01-03 ┆ -0.8618 ┆ -2.1046 ┆ -0.4949 ┆ 1.0718  │\n",
       "│ 2013-01-04 ┆ 0.7216  ┆ -0.7068 ┆ -1.0396 ┆ 0.2719  │\n",
       "│ 2013-01-01 ┆ 0.4691  ┆ -0.2829 ┆ -1.5091 ┆ -1.1356 │\n",
       "│ 2013-01-02 ┆ 1.2121  ┆ -0.1732 ┆ 0.1192  ┆ -1.0442 │\n",
       "│ 2013-01-06 ┆ -0.6737 ┆ 0.1136  ┆ -1.4784 ┆ 0.525   │\n",
       "│ 2013-01-05 ┆ -0.425  ┆ 0.567   ┆ 0.2762  ┆ -1.0874 │\n",
       "└────────────┴─────────┴─────────┴─────────┴─────────┘"
      ]
     },
     "execution_count": 21,
     "metadata": {},
     "output_type": "execute_result"
    }
   ],
   "source": [
    "df.sort('B')"
   ]
  },
  {
   "cell_type": "markdown",
   "id": "eac5045a-acba-4423-94bd-fc77203373e5",
   "metadata": {},
   "source": [
    "## Selection"
   ]
  },
  {
   "cell_type": "markdown",
   "id": "687c9d00-c6b5-47bc-bfef-a96ecd9f1a10",
   "metadata": {},
   "source": [
    "### Getitem ([])"
   ]
  },
  {
   "cell_type": "code",
   "execution_count": 22,
   "id": "1202feaf-b222-4c19-b318-76dd9e37945a",
   "metadata": {},
   "outputs": [
    {
     "data": {
      "text/html": [
       "<div><style>\n",
       ".dataframe > thead > tr,\n",
       ".dataframe > tbody > tr {\n",
       "  text-align: right;\n",
       "  white-space: pre-wrap;\n",
       "}\n",
       "</style>\n",
       "<small>shape: (6,)</small><table border=\"1\" class=\"dataframe\"><thead><tr><th>A</th></tr><tr><td>f64</td></tr></thead><tbody><tr><td>0.4691</td></tr><tr><td>1.2121</td></tr><tr><td>-0.8618</td></tr><tr><td>0.7216</td></tr><tr><td>-0.425</td></tr><tr><td>-0.6737</td></tr></tbody></table></div>"
      ],
      "text/plain": [
       "shape: (6,)\n",
       "Series: 'A' [f64]\n",
       "[\n",
       "\t0.4691\n",
       "\t1.2121\n",
       "\t-0.8618\n",
       "\t0.7216\n",
       "\t-0.425\n",
       "\t-0.6737\n",
       "]"
      ]
     },
     "execution_count": 22,
     "metadata": {},
     "output_type": "execute_result"
    }
   ],
   "source": [
    "df['A']"
   ]
  },
  {
   "cell_type": "code",
   "execution_count": 23,
   "id": "a2ae2b7b-70d1-4b5c-8e81-d5caaeeed526",
   "metadata": {},
   "outputs": [
    {
     "data": {
      "text/html": [
       "<div><style>\n",
       ".dataframe > thead > tr,\n",
       ".dataframe > tbody > tr {\n",
       "  text-align: right;\n",
       "  white-space: pre-wrap;\n",
       "}\n",
       "</style>\n",
       "<small>shape: (3, 5)</small><table border=\"1\" class=\"dataframe\"><thead><tr><th>index</th><th>A</th><th>B</th><th>C</th><th>D</th></tr><tr><td>date</td><td>f64</td><td>f64</td><td>f64</td><td>f64</td></tr></thead><tbody><tr><td>2013-01-01</td><td>0.4691</td><td>-0.2829</td><td>-1.5091</td><td>-1.1356</td></tr><tr><td>2013-01-02</td><td>1.2121</td><td>-0.1732</td><td>0.1192</td><td>-1.0442</td></tr><tr><td>2013-01-03</td><td>-0.8618</td><td>-2.1046</td><td>-0.4949</td><td>1.0718</td></tr></tbody></table></div>"
      ],
      "text/plain": [
       "shape: (3, 5)\n",
       "┌────────────┬─────────┬─────────┬─────────┬─────────┐\n",
       "│ index      ┆ A       ┆ B       ┆ C       ┆ D       │\n",
       "│ ---        ┆ ---     ┆ ---     ┆ ---     ┆ ---     │\n",
       "│ date       ┆ f64     ┆ f64     ┆ f64     ┆ f64     │\n",
       "╞════════════╪═════════╪═════════╪═════════╪═════════╡\n",
       "│ 2013-01-01 ┆ 0.4691  ┆ -0.2829 ┆ -1.5091 ┆ -1.1356 │\n",
       "│ 2013-01-02 ┆ 1.2121  ┆ -0.1732 ┆ 0.1192  ┆ -1.0442 │\n",
       "│ 2013-01-03 ┆ -0.8618 ┆ -2.1046 ┆ -0.4949 ┆ 1.0718  │\n",
       "└────────────┴─────────┴─────────┴─────────┴─────────┘"
      ]
     },
     "execution_count": 23,
     "metadata": {},
     "output_type": "execute_result"
    }
   ],
   "source": [
    "df.slice(0, 3)"
   ]
  },
  {
   "cell_type": "code",
   "execution_count": 24,
   "id": "885792d5-ad76-4007-b045-4b151f95146f",
   "metadata": {},
   "outputs": [
    {
     "data": {
      "text/html": [
       "<div><style>\n",
       ".dataframe > thead > tr,\n",
       ".dataframe > tbody > tr {\n",
       "  text-align: right;\n",
       "  white-space: pre-wrap;\n",
       "}\n",
       "</style>\n",
       "<small>shape: (3, 5)</small><table border=\"1\" class=\"dataframe\"><thead><tr><th>index</th><th>A</th><th>B</th><th>C</th><th>D</th></tr><tr><td>date</td><td>f64</td><td>f64</td><td>f64</td><td>f64</td></tr></thead><tbody><tr><td>2013-01-02</td><td>1.2121</td><td>-0.1732</td><td>0.1192</td><td>-1.0442</td></tr><tr><td>2013-01-03</td><td>-0.8618</td><td>-2.1046</td><td>-0.4949</td><td>1.0718</td></tr><tr><td>2013-01-04</td><td>0.7216</td><td>-0.7068</td><td>-1.0396</td><td>0.2719</td></tr></tbody></table></div>"
      ],
      "text/plain": [
       "shape: (3, 5)\n",
       "┌────────────┬─────────┬─────────┬─────────┬─────────┐\n",
       "│ index      ┆ A       ┆ B       ┆ C       ┆ D       │\n",
       "│ ---        ┆ ---     ┆ ---     ┆ ---     ┆ ---     │\n",
       "│ date       ┆ f64     ┆ f64     ┆ f64     ┆ f64     │\n",
       "╞════════════╪═════════╪═════════╪═════════╪═════════╡\n",
       "│ 2013-01-02 ┆ 1.2121  ┆ -0.1732 ┆ 0.1192  ┆ -1.0442 │\n",
       "│ 2013-01-03 ┆ -0.8618 ┆ -2.1046 ┆ -0.4949 ┆ 1.0718  │\n",
       "│ 2013-01-04 ┆ 0.7216  ┆ -0.7068 ┆ -1.0396 ┆ 0.2719  │\n",
       "└────────────┴─────────┴─────────┴─────────┴─────────┘"
      ]
     },
     "execution_count": 24,
     "metadata": {},
     "output_type": "execute_result"
    }
   ],
   "source": [
    "df.filter(\n",
    "    pl.col('index').is_between(\n",
    "        pl.date(2013, 1, 2), \n",
    "        pl.date(2013, 1, 4)\n",
    "    )\n",
    ")"
   ]
  },
  {
   "cell_type": "markdown",
   "id": "e6cf3012-cd49-4ae2-84ac-883a3806b420",
   "metadata": {},
   "source": [
    "### Selection by label"
   ]
  },
  {
   "cell_type": "code",
   "execution_count": 25,
   "id": "b15c6a0c-edf9-45ca-aa18-34259d5dad3d",
   "metadata": {},
   "outputs": [
    {
     "data": {
      "text/html": [
       "<div><style>\n",
       ".dataframe > thead > tr,\n",
       ".dataframe > tbody > tr {\n",
       "  text-align: right;\n",
       "  white-space: pre-wrap;\n",
       "}\n",
       "</style>\n",
       "<small>shape: (1, 5)</small><table border=\"1\" class=\"dataframe\"><thead><tr><th>index</th><th>A</th><th>B</th><th>C</th><th>D</th></tr><tr><td>date</td><td>f64</td><td>f64</td><td>f64</td><td>f64</td></tr></thead><tbody><tr><td>2013-01-01</td><td>0.4691</td><td>-0.2829</td><td>-1.5091</td><td>-1.1356</td></tr></tbody></table></div>"
      ],
      "text/plain": [
       "shape: (1, 5)\n",
       "┌────────────┬────────┬─────────┬─────────┬─────────┐\n",
       "│ index      ┆ A      ┆ B       ┆ C       ┆ D       │\n",
       "│ ---        ┆ ---    ┆ ---     ┆ ---     ┆ ---     │\n",
       "│ date       ┆ f64    ┆ f64     ┆ f64     ┆ f64     │\n",
       "╞════════════╪════════╪═════════╪═════════╪═════════╡\n",
       "│ 2013-01-01 ┆ 0.4691 ┆ -0.2829 ┆ -1.5091 ┆ -1.1356 │\n",
       "└────────────┴────────┴─────────┴─────────┴─────────┘"
      ]
     },
     "execution_count": 25,
     "metadata": {},
     "output_type": "execute_result"
    }
   ],
   "source": [
    "df.filter(pl.col('index') == pl.col('index').first())"
   ]
  },
  {
   "cell_type": "code",
   "execution_count": 26,
   "id": "259035b4-6743-41a6-876e-c3f9b1120ceb",
   "metadata": {},
   "outputs": [
    {
     "data": {
      "text/html": [
       "<div><style>\n",
       ".dataframe > thead > tr,\n",
       ".dataframe > tbody > tr {\n",
       "  text-align: right;\n",
       "  white-space: pre-wrap;\n",
       "}\n",
       "</style>\n",
       "<small>shape: (6, 3)</small><table border=\"1\" class=\"dataframe\"><thead><tr><th>index</th><th>A</th><th>B</th></tr><tr><td>date</td><td>f64</td><td>f64</td></tr></thead><tbody><tr><td>2013-01-01</td><td>0.4691</td><td>-0.2829</td></tr><tr><td>2013-01-02</td><td>1.2121</td><td>-0.1732</td></tr><tr><td>2013-01-03</td><td>-0.8618</td><td>-2.1046</td></tr><tr><td>2013-01-04</td><td>0.7216</td><td>-0.7068</td></tr><tr><td>2013-01-05</td><td>-0.425</td><td>0.567</td></tr><tr><td>2013-01-06</td><td>-0.6737</td><td>0.1136</td></tr></tbody></table></div>"
      ],
      "text/plain": [
       "shape: (6, 3)\n",
       "┌────────────┬─────────┬─────────┐\n",
       "│ index      ┆ A       ┆ B       │\n",
       "│ ---        ┆ ---     ┆ ---     │\n",
       "│ date       ┆ f64     ┆ f64     │\n",
       "╞════════════╪═════════╪═════════╡\n",
       "│ 2013-01-01 ┆ 0.4691  ┆ -0.2829 │\n",
       "│ 2013-01-02 ┆ 1.2121  ┆ -0.1732 │\n",
       "│ 2013-01-03 ┆ -0.8618 ┆ -2.1046 │\n",
       "│ 2013-01-04 ┆ 0.7216  ┆ -0.7068 │\n",
       "│ 2013-01-05 ┆ -0.425  ┆ 0.567   │\n",
       "│ 2013-01-06 ┆ -0.6737 ┆ 0.1136  │\n",
       "└────────────┴─────────┴─────────┘"
      ]
     },
     "execution_count": 26,
     "metadata": {},
     "output_type": "execute_result"
    }
   ],
   "source": [
    "df.select('index', 'A', 'B')"
   ]
  },
  {
   "cell_type": "code",
   "execution_count": 27,
   "id": "f7bfe1a4-4148-4d1d-b3ea-673438c63f04",
   "metadata": {},
   "outputs": [
    {
     "data": {
      "text/html": [
       "<div><style>\n",
       ".dataframe > thead > tr,\n",
       ".dataframe > tbody > tr {\n",
       "  text-align: right;\n",
       "  white-space: pre-wrap;\n",
       "}\n",
       "</style>\n",
       "<small>shape: (3, 3)</small><table border=\"1\" class=\"dataframe\"><thead><tr><th>index</th><th>A</th><th>B</th></tr><tr><td>date</td><td>f64</td><td>f64</td></tr></thead><tbody><tr><td>2013-01-02</td><td>1.2121</td><td>-0.1732</td></tr><tr><td>2013-01-03</td><td>-0.8618</td><td>-2.1046</td></tr><tr><td>2013-01-04</td><td>0.7216</td><td>-0.7068</td></tr></tbody></table></div>"
      ],
      "text/plain": [
       "shape: (3, 3)\n",
       "┌────────────┬─────────┬─────────┐\n",
       "│ index      ┆ A       ┆ B       │\n",
       "│ ---        ┆ ---     ┆ ---     │\n",
       "│ date       ┆ f64     ┆ f64     │\n",
       "╞════════════╪═════════╪═════════╡\n",
       "│ 2013-01-02 ┆ 1.2121  ┆ -0.1732 │\n",
       "│ 2013-01-03 ┆ -0.8618 ┆ -2.1046 │\n",
       "│ 2013-01-04 ┆ 0.7216  ┆ -0.7068 │\n",
       "└────────────┴─────────┴─────────┘"
      ]
     },
     "execution_count": 27,
     "metadata": {},
     "output_type": "execute_result"
    }
   ],
   "source": [
    "(df\n",
    ".filter(\n",
    "    pl.col('index').is_between(\n",
    "        pl.date(2013, 1, 2), \n",
    "        pl.date(2013, 1, 4)\n",
    "    )\n",
    ")\n",
    ".select('index', 'A', 'B')\n",
    ")"
   ]
  },
  {
   "cell_type": "code",
   "execution_count": 28,
   "id": "d7aea6fb-4aca-49e1-99cb-f67f8e682f7e",
   "metadata": {},
   "outputs": [
    {
     "data": {
      "text/plain": [
       "0.4691"
      ]
     },
     "execution_count": 28,
     "metadata": {},
     "output_type": "execute_result"
    }
   ],
   "source": [
    "(\n",
    "df\n",
    ".filter(pl.col('index') == pl.col('index').first())\n",
    ".select('A')\n",
    ".item()\n",
    ")"
   ]
  },
  {
   "cell_type": "code",
   "execution_count": 29,
   "id": "a9e0ebd8-2a01-4bb0-ac2d-946d0e0d8888",
   "metadata": {},
   "outputs": [
    {
     "data": {
      "text/plain": [
       "0.4691"
      ]
     },
     "execution_count": 29,
     "metadata": {},
     "output_type": "execute_result"
    }
   ],
   "source": [
    "df.row(0, named=True)['A']"
   ]
  },
  {
   "cell_type": "markdown",
   "id": "1a144d91-c6ec-459b-976c-55442b25e001",
   "metadata": {},
   "source": [
    "### Selection by position"
   ]
  },
  {
   "cell_type": "code",
   "execution_count": 30,
   "id": "c12fdcd6-161a-4135-8496-3bdc34a621dd",
   "metadata": {},
   "outputs": [
    {
     "data": {
      "text/html": [
       "<div><style>\n",
       ".dataframe > thead > tr,\n",
       ".dataframe > tbody > tr {\n",
       "  text-align: right;\n",
       "  white-space: pre-wrap;\n",
       "}\n",
       "</style>\n",
       "<small>shape: (1, 5)</small><table border=\"1\" class=\"dataframe\"><thead><tr><th>index</th><th>A</th><th>B</th><th>C</th><th>D</th></tr><tr><td>date</td><td>f64</td><td>f64</td><td>f64</td><td>f64</td></tr></thead><tbody><tr><td>2013-01-04</td><td>0.7216</td><td>-0.7068</td><td>-1.0396</td><td>0.2719</td></tr></tbody></table></div>"
      ],
      "text/plain": [
       "shape: (1, 5)\n",
       "┌────────────┬────────┬─────────┬─────────┬────────┐\n",
       "│ index      ┆ A      ┆ B       ┆ C       ┆ D      │\n",
       "│ ---        ┆ ---    ┆ ---     ┆ ---     ┆ ---    │\n",
       "│ date       ┆ f64    ┆ f64     ┆ f64     ┆ f64    │\n",
       "╞════════════╪════════╪═════════╪═════════╪════════╡\n",
       "│ 2013-01-04 ┆ 0.7216 ┆ -0.7068 ┆ -1.0396 ┆ 0.2719 │\n",
       "└────────────┴────────┴─────────┴─────────┴────────┘"
      ]
     },
     "execution_count": 30,
     "metadata": {},
     "output_type": "execute_result"
    }
   ],
   "source": [
    "df.slice(3, 1)"
   ]
  },
  {
   "cell_type": "code",
   "execution_count": 31,
   "id": "ab1a5828-556f-4efc-aea7-c67b231a13a2",
   "metadata": {},
   "outputs": [
    {
     "data": {
      "text/html": [
       "<div><style>\n",
       ".dataframe > thead > tr,\n",
       ".dataframe > tbody > tr {\n",
       "  text-align: right;\n",
       "  white-space: pre-wrap;\n",
       "}\n",
       "</style>\n",
       "<small>shape: (2, 3)</small><table border=\"1\" class=\"dataframe\"><thead><tr><th>index</th><th>A</th><th>B</th></tr><tr><td>date</td><td>f64</td><td>f64</td></tr></thead><tbody><tr><td>2013-01-04</td><td>0.7216</td><td>-0.7068</td></tr><tr><td>2013-01-05</td><td>-0.425</td><td>0.567</td></tr></tbody></table></div>"
      ],
      "text/plain": [
       "shape: (2, 3)\n",
       "┌────────────┬────────┬─────────┐\n",
       "│ index      ┆ A      ┆ B       │\n",
       "│ ---        ┆ ---    ┆ ---     │\n",
       "│ date       ┆ f64    ┆ f64     │\n",
       "╞════════════╪════════╪═════════╡\n",
       "│ 2013-01-04 ┆ 0.7216 ┆ -0.7068 │\n",
       "│ 2013-01-05 ┆ -0.425 ┆ 0.567   │\n",
       "└────────────┴────────┴─────────┘"
      ]
     },
     "execution_count": 31,
     "metadata": {},
     "output_type": "execute_result"
    }
   ],
   "source": [
    "df.select(pl.nth(range(3)).slice(3, 2))"
   ]
  },
  {
   "cell_type": "code",
   "execution_count": 32,
   "id": "16ffa980-4ce1-4bb4-968c-a84107eb498b",
   "metadata": {},
   "outputs": [
    {
     "data": {
      "text/html": [
       "<div><style>\n",
       ".dataframe > thead > tr,\n",
       ".dataframe > tbody > tr {\n",
       "  text-align: right;\n",
       "  white-space: pre-wrap;\n",
       "}\n",
       "</style>\n",
       "<small>shape: (3, 3)</small><table border=\"1\" class=\"dataframe\"><thead><tr><th>index</th><th>A</th><th>C</th></tr><tr><td>date</td><td>f64</td><td>f64</td></tr></thead><tbody><tr><td>2013-01-02</td><td>1.2121</td><td>0.1192</td></tr><tr><td>2013-01-03</td><td>-0.8618</td><td>-0.4949</td></tr><tr><td>2013-01-05</td><td>-0.425</td><td>0.2762</td></tr></tbody></table></div>"
      ],
      "text/plain": [
       "shape: (3, 3)\n",
       "┌────────────┬─────────┬─────────┐\n",
       "│ index      ┆ A       ┆ C       │\n",
       "│ ---        ┆ ---     ┆ ---     │\n",
       "│ date       ┆ f64     ┆ f64     │\n",
       "╞════════════╪═════════╪═════════╡\n",
       "│ 2013-01-02 ┆ 1.2121  ┆ 0.1192  │\n",
       "│ 2013-01-03 ┆ -0.8618 ┆ -0.4949 │\n",
       "│ 2013-01-05 ┆ -0.425  ┆ 0.2762  │\n",
       "└────────────┴─────────┴─────────┘"
      ]
     },
     "execution_count": 32,
     "metadata": {},
     "output_type": "execute_result"
    }
   ],
   "source": [
    "df.select(pl.nth([0, 1, 3]).gather([1, 2, 4]))"
   ]
  },
  {
   "cell_type": "code",
   "execution_count": 33,
   "id": "4fda0470-8b97-4eb7-88f7-01b3f7bde19a",
   "metadata": {},
   "outputs": [
    {
     "data": {
      "text/html": [
       "<div><style>\n",
       ".dataframe > thead > tr,\n",
       ".dataframe > tbody > tr {\n",
       "  text-align: right;\n",
       "  white-space: pre-wrap;\n",
       "}\n",
       "</style>\n",
       "<small>shape: (2, 5)</small><table border=\"1\" class=\"dataframe\"><thead><tr><th>index</th><th>A</th><th>B</th><th>C</th><th>D</th></tr><tr><td>date</td><td>f64</td><td>f64</td><td>f64</td><td>f64</td></tr></thead><tbody><tr><td>2013-01-02</td><td>1.2121</td><td>-0.1732</td><td>0.1192</td><td>-1.0442</td></tr><tr><td>2013-01-03</td><td>-0.8618</td><td>-2.1046</td><td>-0.4949</td><td>1.0718</td></tr></tbody></table></div>"
      ],
      "text/plain": [
       "shape: (2, 5)\n",
       "┌────────────┬─────────┬─────────┬─────────┬─────────┐\n",
       "│ index      ┆ A       ┆ B       ┆ C       ┆ D       │\n",
       "│ ---        ┆ ---     ┆ ---     ┆ ---     ┆ ---     │\n",
       "│ date       ┆ f64     ┆ f64     ┆ f64     ┆ f64     │\n",
       "╞════════════╪═════════╪═════════╪═════════╪═════════╡\n",
       "│ 2013-01-02 ┆ 1.2121  ┆ -0.1732 ┆ 0.1192  ┆ -1.0442 │\n",
       "│ 2013-01-03 ┆ -0.8618 ┆ -2.1046 ┆ -0.4949 ┆ 1.0718  │\n",
       "└────────────┴─────────┴─────────┴─────────┴─────────┘"
      ]
     },
     "execution_count": 33,
     "metadata": {},
     "output_type": "execute_result"
    }
   ],
   "source": [
    "df.slice(1, 2)"
   ]
  },
  {
   "cell_type": "code",
   "execution_count": 34,
   "id": "79b3dccf-3e52-4b1a-bfe2-c9ba1cf5d56a",
   "metadata": {},
   "outputs": [
    {
     "data": {
      "text/html": [
       "<div><style>\n",
       ".dataframe > thead > tr,\n",
       ".dataframe > tbody > tr {\n",
       "  text-align: right;\n",
       "  white-space: pre-wrap;\n",
       "}\n",
       "</style>\n",
       "<small>shape: (6, 3)</small><table border=\"1\" class=\"dataframe\"><thead><tr><th>index</th><th>B</th><th>C</th></tr><tr><td>date</td><td>f64</td><td>f64</td></tr></thead><tbody><tr><td>2013-01-01</td><td>-0.2829</td><td>-1.5091</td></tr><tr><td>2013-01-02</td><td>-0.1732</td><td>0.1192</td></tr><tr><td>2013-01-03</td><td>-2.1046</td><td>-0.4949</td></tr><tr><td>2013-01-04</td><td>-0.7068</td><td>-1.0396</td></tr><tr><td>2013-01-05</td><td>0.567</td><td>0.2762</td></tr><tr><td>2013-01-06</td><td>0.1136</td><td>-1.4784</td></tr></tbody></table></div>"
      ],
      "text/plain": [
       "shape: (6, 3)\n",
       "┌────────────┬─────────┬─────────┐\n",
       "│ index      ┆ B       ┆ C       │\n",
       "│ ---        ┆ ---     ┆ ---     │\n",
       "│ date       ┆ f64     ┆ f64     │\n",
       "╞════════════╪═════════╪═════════╡\n",
       "│ 2013-01-01 ┆ -0.2829 ┆ -1.5091 │\n",
       "│ 2013-01-02 ┆ -0.1732 ┆ 0.1192  │\n",
       "│ 2013-01-03 ┆ -2.1046 ┆ -0.4949 │\n",
       "│ 2013-01-04 ┆ -0.7068 ┆ -1.0396 │\n",
       "│ 2013-01-05 ┆ 0.567   ┆ 0.2762  │\n",
       "│ 2013-01-06 ┆ 0.1136  ┆ -1.4784 │\n",
       "└────────────┴─────────┴─────────┘"
      ]
     },
     "execution_count": 34,
     "metadata": {},
     "output_type": "execute_result"
    }
   ],
   "source": [
    "df.select(pl.nth(0), pl.nth(range(2, 4)))"
   ]
  },
  {
   "cell_type": "code",
   "execution_count": 35,
   "id": "060e27a9-802a-4889-86b0-88556adb14ec",
   "metadata": {},
   "outputs": [
    {
     "data": {
      "text/plain": [
       "-0.1732"
      ]
     },
     "execution_count": 35,
     "metadata": {},
     "output_type": "execute_result"
    }
   ],
   "source": [
    "df.row(1)[2]"
   ]
  },
  {
   "cell_type": "markdown",
   "id": "754097a1-ff7b-4c89-80a9-ea3fa27bac47",
   "metadata": {},
   "source": [
    "## Boolean indexing"
   ]
  },
  {
   "cell_type": "code",
   "execution_count": 36,
   "id": "5d6eac7c-fd35-49bb-b7c3-e84d8b571ec9",
   "metadata": {},
   "outputs": [
    {
     "data": {
      "text/html": [
       "<div><style>\n",
       ".dataframe > thead > tr,\n",
       ".dataframe > tbody > tr {\n",
       "  text-align: right;\n",
       "  white-space: pre-wrap;\n",
       "}\n",
       "</style>\n",
       "<small>shape: (3, 5)</small><table border=\"1\" class=\"dataframe\"><thead><tr><th>index</th><th>A</th><th>B</th><th>C</th><th>D</th></tr><tr><td>date</td><td>f64</td><td>f64</td><td>f64</td><td>f64</td></tr></thead><tbody><tr><td>2013-01-01</td><td>0.4691</td><td>-0.2829</td><td>-1.5091</td><td>-1.1356</td></tr><tr><td>2013-01-02</td><td>1.2121</td><td>-0.1732</td><td>0.1192</td><td>-1.0442</td></tr><tr><td>2013-01-04</td><td>0.7216</td><td>-0.7068</td><td>-1.0396</td><td>0.2719</td></tr></tbody></table></div>"
      ],
      "text/plain": [
       "shape: (3, 5)\n",
       "┌────────────┬────────┬─────────┬─────────┬─────────┐\n",
       "│ index      ┆ A      ┆ B       ┆ C       ┆ D       │\n",
       "│ ---        ┆ ---    ┆ ---     ┆ ---     ┆ ---     │\n",
       "│ date       ┆ f64    ┆ f64     ┆ f64     ┆ f64     │\n",
       "╞════════════╪════════╪═════════╪═════════╪═════════╡\n",
       "│ 2013-01-01 ┆ 0.4691 ┆ -0.2829 ┆ -1.5091 ┆ -1.1356 │\n",
       "│ 2013-01-02 ┆ 1.2121 ┆ -0.1732 ┆ 0.1192  ┆ -1.0442 │\n",
       "│ 2013-01-04 ┆ 0.7216 ┆ -0.7068 ┆ -1.0396 ┆ 0.2719  │\n",
       "└────────────┴────────┴─────────┴─────────┴─────────┘"
      ]
     },
     "execution_count": 36,
     "metadata": {},
     "output_type": "execute_result"
    }
   ],
   "source": [
    "df.filter(pl.col('A') > 0)"
   ]
  },
  {
   "cell_type": "code",
   "execution_count": 37,
   "id": "02dc9fc0-8da1-492e-b3e5-ecc1470ca63b",
   "metadata": {},
   "outputs": [
    {
     "data": {
      "text/html": [
       "<div><style>\n",
       ".dataframe > thead > tr,\n",
       ".dataframe > tbody > tr {\n",
       "  text-align: right;\n",
       "  white-space: pre-wrap;\n",
       "}\n",
       "</style>\n",
       "<small>shape: (6, 5)</small><table border=\"1\" class=\"dataframe\"><thead><tr><th>index</th><th>A</th><th>B</th><th>C</th><th>D</th></tr><tr><td>date</td><td>f64</td><td>f64</td><td>f64</td><td>f64</td></tr></thead><tbody><tr><td>2013-01-01</td><td>0.4691</td><td>null</td><td>null</td><td>null</td></tr><tr><td>2013-01-02</td><td>1.2121</td><td>null</td><td>0.1192</td><td>null</td></tr><tr><td>2013-01-03</td><td>null</td><td>null</td><td>null</td><td>1.0718</td></tr><tr><td>2013-01-04</td><td>0.7216</td><td>null</td><td>null</td><td>0.2719</td></tr><tr><td>2013-01-05</td><td>null</td><td>0.567</td><td>0.2762</td><td>null</td></tr><tr><td>2013-01-06</td><td>null</td><td>0.1136</td><td>null</td><td>0.525</td></tr></tbody></table></div>"
      ],
      "text/plain": [
       "shape: (6, 5)\n",
       "┌────────────┬────────┬────────┬────────┬────────┐\n",
       "│ index      ┆ A      ┆ B      ┆ C      ┆ D      │\n",
       "│ ---        ┆ ---    ┆ ---    ┆ ---    ┆ ---    │\n",
       "│ date       ┆ f64    ┆ f64    ┆ f64    ┆ f64    │\n",
       "╞════════════╪════════╪════════╪════════╪════════╡\n",
       "│ 2013-01-01 ┆ 0.4691 ┆ null   ┆ null   ┆ null   │\n",
       "│ 2013-01-02 ┆ 1.2121 ┆ null   ┆ 0.1192 ┆ null   │\n",
       "│ 2013-01-03 ┆ null   ┆ null   ┆ null   ┆ 1.0718 │\n",
       "│ 2013-01-04 ┆ 0.7216 ┆ null   ┆ null   ┆ 0.2719 │\n",
       "│ 2013-01-05 ┆ null   ┆ 0.567  ┆ 0.2762 ┆ null   │\n",
       "│ 2013-01-06 ┆ null   ┆ 0.1136 ┆ null   ┆ 0.525  │\n",
       "└────────────┴────────┴────────┴────────┴────────┘"
      ]
     },
     "execution_count": 37,
     "metadata": {},
     "output_type": "execute_result"
    }
   ],
   "source": [
    "df.select(\n",
    "    pl.col('index'),\n",
    "    pl.when(pl.exclude('index') > 0)\n",
    "      .then(pl.exclude('index'))\n",
    "      .otherwise(None)\n",
    ")"
   ]
  },
  {
   "cell_type": "code",
   "execution_count": 38,
   "id": "66fbbe1d-e460-40cc-8514-824915a3ca1f",
   "metadata": {},
   "outputs": [
    {
     "data": {
      "text/html": [
       "<div><style>\n",
       ".dataframe > thead > tr,\n",
       ".dataframe > tbody > tr {\n",
       "  text-align: right;\n",
       "  white-space: pre-wrap;\n",
       "}\n",
       "</style>\n",
       "<small>shape: (6, 6)</small><table border=\"1\" class=\"dataframe\"><thead><tr><th>index</th><th>A</th><th>B</th><th>C</th><th>D</th><th>E</th></tr><tr><td>date</td><td>f64</td><td>f64</td><td>f64</td><td>f64</td><td>str</td></tr></thead><tbody><tr><td>2013-01-01</td><td>0.4691</td><td>-0.2829</td><td>-1.5091</td><td>-1.1356</td><td>&quot;one&quot;</td></tr><tr><td>2013-01-02</td><td>1.2121</td><td>-0.1732</td><td>0.1192</td><td>-1.0442</td><td>&quot;one&quot;</td></tr><tr><td>2013-01-03</td><td>-0.8618</td><td>-2.1046</td><td>-0.4949</td><td>1.0718</td><td>&quot;two&quot;</td></tr><tr><td>2013-01-04</td><td>0.7216</td><td>-0.7068</td><td>-1.0396</td><td>0.2719</td><td>&quot;three&quot;</td></tr><tr><td>2013-01-05</td><td>-0.425</td><td>0.567</td><td>0.2762</td><td>-1.0874</td><td>&quot;four&quot;</td></tr><tr><td>2013-01-06</td><td>-0.6737</td><td>0.1136</td><td>-1.4784</td><td>0.525</td><td>&quot;three&quot;</td></tr></tbody></table></div>"
      ],
      "text/plain": [
       "shape: (6, 6)\n",
       "┌────────────┬─────────┬─────────┬─────────┬─────────┬───────┐\n",
       "│ index      ┆ A       ┆ B       ┆ C       ┆ D       ┆ E     │\n",
       "│ ---        ┆ ---     ┆ ---     ┆ ---     ┆ ---     ┆ ---   │\n",
       "│ date       ┆ f64     ┆ f64     ┆ f64     ┆ f64     ┆ str   │\n",
       "╞════════════╪═════════╪═════════╪═════════╪═════════╪═══════╡\n",
       "│ 2013-01-01 ┆ 0.4691  ┆ -0.2829 ┆ -1.5091 ┆ -1.1356 ┆ one   │\n",
       "│ 2013-01-02 ┆ 1.2121  ┆ -0.1732 ┆ 0.1192  ┆ -1.0442 ┆ one   │\n",
       "│ 2013-01-03 ┆ -0.8618 ┆ -2.1046 ┆ -0.4949 ┆ 1.0718  ┆ two   │\n",
       "│ 2013-01-04 ┆ 0.7216  ┆ -0.7068 ┆ -1.0396 ┆ 0.2719  ┆ three │\n",
       "│ 2013-01-05 ┆ -0.425  ┆ 0.567   ┆ 0.2762  ┆ -1.0874 ┆ four  │\n",
       "│ 2013-01-06 ┆ -0.6737 ┆ 0.1136  ┆ -1.4784 ┆ 0.525   ┆ three │\n",
       "└────────────┴─────────┴─────────┴─────────┴─────────┴───────┘"
      ]
     },
     "execution_count": 38,
     "metadata": {},
     "output_type": "execute_result"
    }
   ],
   "source": [
    "df2 = df.with_columns(\n",
    "    E=pl.Series(['one', 'one', 'two', 'three', 'four', 'three'])\n",
    ")\n",
    "df2"
   ]
  },
  {
   "cell_type": "code",
   "execution_count": 39,
   "id": "454a8fed-36a7-4811-990f-76739bb06605",
   "metadata": {},
   "outputs": [
    {
     "data": {
      "text/html": [
       "<div><style>\n",
       ".dataframe > thead > tr,\n",
       ".dataframe > tbody > tr {\n",
       "  text-align: right;\n",
       "  white-space: pre-wrap;\n",
       "}\n",
       "</style>\n",
       "<small>shape: (2, 6)</small><table border=\"1\" class=\"dataframe\"><thead><tr><th>index</th><th>A</th><th>B</th><th>C</th><th>D</th><th>E</th></tr><tr><td>date</td><td>f64</td><td>f64</td><td>f64</td><td>f64</td><td>str</td></tr></thead><tbody><tr><td>2013-01-03</td><td>-0.8618</td><td>-2.1046</td><td>-0.4949</td><td>1.0718</td><td>&quot;two&quot;</td></tr><tr><td>2013-01-05</td><td>-0.425</td><td>0.567</td><td>0.2762</td><td>-1.0874</td><td>&quot;four&quot;</td></tr></tbody></table></div>"
      ],
      "text/plain": [
       "shape: (2, 6)\n",
       "┌────────────┬─────────┬─────────┬─────────┬─────────┬──────┐\n",
       "│ index      ┆ A       ┆ B       ┆ C       ┆ D       ┆ E    │\n",
       "│ ---        ┆ ---     ┆ ---     ┆ ---     ┆ ---     ┆ ---  │\n",
       "│ date       ┆ f64     ┆ f64     ┆ f64     ┆ f64     ┆ str  │\n",
       "╞════════════╪═════════╪═════════╪═════════╪═════════╪══════╡\n",
       "│ 2013-01-03 ┆ -0.8618 ┆ -2.1046 ┆ -0.4949 ┆ 1.0718  ┆ two  │\n",
       "│ 2013-01-05 ┆ -0.425  ┆ 0.567   ┆ 0.2762  ┆ -1.0874 ┆ four │\n",
       "└────────────┴─────────┴─────────┴─────────┴─────────┴──────┘"
      ]
     },
     "execution_count": 39,
     "metadata": {},
     "output_type": "execute_result"
    }
   ],
   "source": [
    "df2.filter(pl.col('E').is_in(['two', 'four']))"
   ]
  },
  {
   "cell_type": "markdown",
   "id": "0bc4f05c-b38d-4356-8b3e-5a20cae3e55c",
   "metadata": {},
   "source": [
    "### Setting"
   ]
  },
  {
   "cell_type": "code",
   "execution_count": 40,
   "id": "56a90504-e14d-4087-9a18-0a87eb05a6a9",
   "metadata": {},
   "outputs": [
    {
     "data": {
      "text/html": [
       "<div><style>\n",
       ".dataframe > thead > tr,\n",
       ".dataframe > tbody > tr {\n",
       "  text-align: right;\n",
       "  white-space: pre-wrap;\n",
       "}\n",
       "</style>\n",
       "<small>shape: (6, 2)</small><table border=\"1\" class=\"dataframe\"><thead><tr><th>index</th><th>value</th></tr><tr><td>date</td><td>i64</td></tr></thead><tbody><tr><td>2013-01-02</td><td>1</td></tr><tr><td>2013-01-03</td><td>2</td></tr><tr><td>2013-01-04</td><td>3</td></tr><tr><td>2013-01-05</td><td>4</td></tr><tr><td>2013-01-06</td><td>5</td></tr><tr><td>2013-01-07</td><td>6</td></tr></tbody></table></div>"
      ],
      "text/plain": [
       "shape: (6, 2)\n",
       "┌────────────┬───────┐\n",
       "│ index      ┆ value │\n",
       "│ ---        ┆ ---   │\n",
       "│ date       ┆ i64   │\n",
       "╞════════════╪═══════╡\n",
       "│ 2013-01-02 ┆ 1     │\n",
       "│ 2013-01-03 ┆ 2     │\n",
       "│ 2013-01-04 ┆ 3     │\n",
       "│ 2013-01-05 ┆ 4     │\n",
       "│ 2013-01-06 ┆ 5     │\n",
       "│ 2013-01-07 ┆ 6     │\n",
       "└────────────┴───────┘"
      ]
     },
     "execution_count": 40,
     "metadata": {},
     "output_type": "execute_result"
    }
   ],
   "source": [
    "# s1 = pd.Series([1, 2, 3, 4, 5, 6], index=pd.date_range(\"20130102\", periods=6))\n",
    "s1 = pl.select(\n",
    "    index=pl.date_range(pl.date(2013, 1, 2), pl.date(2013, 1, 7)),\n",
    "    value=pl.Series([1, 2, 3, 4, 5, 6])\n",
    ")\n",
    "s1"
   ]
  },
  {
   "cell_type": "code",
   "execution_count": 41,
   "id": "f54a636a-5d05-47eb-9fff-80285b9fef4d",
   "metadata": {},
   "outputs": [],
   "source": [
    "# df[\"F\"] = s1\n",
    "df = df.join(s1.select('index', F='value'), on='index', how='left')"
   ]
  },
  {
   "cell_type": "code",
   "execution_count": 42,
   "id": "56d5770d-9b88-41b0-b7a6-a7695d345559",
   "metadata": {},
   "outputs": [],
   "source": [
    "# df.at[dates[0], \"A\"] = 0\n",
    "df = df.with_columns(\n",
    "    pl.when(pl.col('index') == dates[0])\n",
    "      .then(0)\n",
    "      .otherwise('A')\n",
    "      .alias('A')\n",
    ")"
   ]
  },
  {
   "cell_type": "code",
   "execution_count": 43,
   "id": "cf7e216a-95bc-4205-9961-77e61b03ce3d",
   "metadata": {},
   "outputs": [],
   "source": [
    "# df.iat[0, 1] = 0\n",
    "df = df.with_columns(\n",
    "    pl.when(pl.int_range(pl.len()) == 0)\n",
    "      .then(0)\n",
    "      .otherwise(pl.nth(2))\n",
    "      .name.keep()\n",
    ")"
   ]
  },
  {
   "cell_type": "code",
   "execution_count": 44,
   "id": "80734813-c1d1-4fae-8921-a9423cbe45af",
   "metadata": {},
   "outputs": [
    {
     "data": {
      "text/html": [
       "<div><style>\n",
       ".dataframe > thead > tr,\n",
       ".dataframe > tbody > tr {\n",
       "  text-align: right;\n",
       "  white-space: pre-wrap;\n",
       "}\n",
       "</style>\n",
       "<small>shape: (6, 6)</small><table border=\"1\" class=\"dataframe\"><thead><tr><th>index</th><th>A</th><th>B</th><th>C</th><th>D</th><th>F</th></tr><tr><td>date</td><td>f64</td><td>f64</td><td>f64</td><td>i32</td><td>i64</td></tr></thead><tbody><tr><td>2013-01-01</td><td>0.0</td><td>0.0</td><td>-1.5091</td><td>5</td><td>null</td></tr><tr><td>2013-01-02</td><td>1.2121</td><td>-0.1732</td><td>0.1192</td><td>5</td><td>1</td></tr><tr><td>2013-01-03</td><td>-0.8618</td><td>-2.1046</td><td>-0.4949</td><td>5</td><td>2</td></tr><tr><td>2013-01-04</td><td>0.7216</td><td>-0.7068</td><td>-1.0396</td><td>5</td><td>3</td></tr><tr><td>2013-01-05</td><td>-0.425</td><td>0.567</td><td>0.2762</td><td>5</td><td>4</td></tr><tr><td>2013-01-06</td><td>-0.6737</td><td>0.1136</td><td>-1.4784</td><td>5</td><td>5</td></tr></tbody></table></div>"
      ],
      "text/plain": [
       "shape: (6, 6)\n",
       "┌────────────┬─────────┬─────────┬─────────┬─────┬──────┐\n",
       "│ index      ┆ A       ┆ B       ┆ C       ┆ D   ┆ F    │\n",
       "│ ---        ┆ ---     ┆ ---     ┆ ---     ┆ --- ┆ ---  │\n",
       "│ date       ┆ f64     ┆ f64     ┆ f64     ┆ i32 ┆ i64  │\n",
       "╞════════════╪═════════╪═════════╪═════════╪═════╪══════╡\n",
       "│ 2013-01-01 ┆ 0.0     ┆ 0.0     ┆ -1.5091 ┆ 5   ┆ null │\n",
       "│ 2013-01-02 ┆ 1.2121  ┆ -0.1732 ┆ 0.1192  ┆ 5   ┆ 1    │\n",
       "│ 2013-01-03 ┆ -0.8618 ┆ -2.1046 ┆ -0.4949 ┆ 5   ┆ 2    │\n",
       "│ 2013-01-04 ┆ 0.7216  ┆ -0.7068 ┆ -1.0396 ┆ 5   ┆ 3    │\n",
       "│ 2013-01-05 ┆ -0.425  ┆ 0.567   ┆ 0.2762  ┆ 5   ┆ 4    │\n",
       "│ 2013-01-06 ┆ -0.6737 ┆ 0.1136  ┆ -1.4784 ┆ 5   ┆ 5    │\n",
       "└────────────┴─────────┴─────────┴─────────┴─────┴──────┘"
      ]
     },
     "execution_count": 44,
     "metadata": {},
     "output_type": "execute_result"
    }
   ],
   "source": [
    "# df.loc[:, \"D\"] = np.array([5] * len(df))\n",
    "df = df.with_columns(D=5)\n",
    "df"
   ]
  },
  {
   "cell_type": "code",
   "execution_count": 45,
   "id": "5f093610-59ae-4b99-b8ec-f02d7e223495",
   "metadata": {},
   "outputs": [
    {
     "data": {
      "text/html": [
       "<div><style>\n",
       ".dataframe > thead > tr,\n",
       ".dataframe > tbody > tr {\n",
       "  text-align: right;\n",
       "  white-space: pre-wrap;\n",
       "}\n",
       "</style>\n",
       "<small>shape: (6, 6)</small><table border=\"1\" class=\"dataframe\"><thead><tr><th>index</th><th>A</th><th>B</th><th>C</th><th>D</th><th>F</th></tr><tr><td>date</td><td>f64</td><td>f64</td><td>f64</td><td>i32</td><td>i64</td></tr></thead><tbody><tr><td>2013-01-01</td><td>0.0</td><td>0.0</td><td>-1.5091</td><td>-5</td><td>null</td></tr><tr><td>2013-01-02</td><td>-1.2121</td><td>-0.1732</td><td>-0.1192</td><td>-5</td><td>-1</td></tr><tr><td>2013-01-03</td><td>-0.8618</td><td>-2.1046</td><td>-0.4949</td><td>-5</td><td>-2</td></tr><tr><td>2013-01-04</td><td>-0.7216</td><td>-0.7068</td><td>-1.0396</td><td>-5</td><td>-3</td></tr><tr><td>2013-01-05</td><td>-0.425</td><td>-0.567</td><td>-0.2762</td><td>-5</td><td>-4</td></tr><tr><td>2013-01-06</td><td>-0.6737</td><td>-0.1136</td><td>-1.4784</td><td>-5</td><td>-5</td></tr></tbody></table></div>"
      ],
      "text/plain": [
       "shape: (6, 6)\n",
       "┌────────────┬─────────┬─────────┬─────────┬─────┬──────┐\n",
       "│ index      ┆ A       ┆ B       ┆ C       ┆ D   ┆ F    │\n",
       "│ ---        ┆ ---     ┆ ---     ┆ ---     ┆ --- ┆ ---  │\n",
       "│ date       ┆ f64     ┆ f64     ┆ f64     ┆ i32 ┆ i64  │\n",
       "╞════════════╪═════════╪═════════╪═════════╪═════╪══════╡\n",
       "│ 2013-01-01 ┆ 0.0     ┆ 0.0     ┆ -1.5091 ┆ -5  ┆ null │\n",
       "│ 2013-01-02 ┆ -1.2121 ┆ -0.1732 ┆ -0.1192 ┆ -5  ┆ -1   │\n",
       "│ 2013-01-03 ┆ -0.8618 ┆ -2.1046 ┆ -0.4949 ┆ -5  ┆ -2   │\n",
       "│ 2013-01-04 ┆ -0.7216 ┆ -0.7068 ┆ -1.0396 ┆ -5  ┆ -3   │\n",
       "│ 2013-01-05 ┆ -0.425  ┆ -0.567  ┆ -0.2762 ┆ -5  ┆ -4   │\n",
       "│ 2013-01-06 ┆ -0.6737 ┆ -0.1136 ┆ -1.4784 ┆ -5  ┆ -5   │\n",
       "└────────────┴─────────┴─────────┴─────────┴─────┴──────┘"
      ]
     },
     "execution_count": 45,
     "metadata": {},
     "output_type": "execute_result"
    }
   ],
   "source": [
    "# df2[df2 > 0] = -df2\n",
    "df2 = df.select(pl.all())\n",
    "\n",
    "others = pl.exclude('index')\n",
    "df2 = df2.select(\n",
    "    'index',\n",
    "    pl.when(others > 0)\n",
    "      .then(-others)\n",
    "      .otherwise(others)\n",
    ")\n",
    "df2"
   ]
  },
  {
   "cell_type": "markdown",
   "id": "03ecf958-84e9-4999-9ee8-a1072b92f49d",
   "metadata": {},
   "source": [
    "## Missing data"
   ]
  },
  {
   "cell_type": "code",
   "execution_count": 46,
   "id": "f14c3fce-deea-42c2-a31f-57c79903a803",
   "metadata": {},
   "outputs": [
    {
     "data": {
      "text/html": [
       "<div><style>\n",
       ".dataframe > thead > tr,\n",
       ".dataframe > tbody > tr {\n",
       "  text-align: right;\n",
       "  white-space: pre-wrap;\n",
       "}\n",
       "</style>\n",
       "<small>shape: (4, 7)</small><table border=\"1\" class=\"dataframe\"><thead><tr><th>index</th><th>A</th><th>B</th><th>C</th><th>D</th><th>F</th><th>E</th></tr><tr><td>date</td><td>f64</td><td>f64</td><td>f64</td><td>i32</td><td>i64</td><td>f64</td></tr></thead><tbody><tr><td>2013-01-01</td><td>0.0</td><td>0.0</td><td>-1.5091</td><td>5</td><td>null</td><td>1.0</td></tr><tr><td>2013-01-02</td><td>1.2121</td><td>-0.1732</td><td>0.1192</td><td>5</td><td>1</td><td>1.0</td></tr><tr><td>2013-01-03</td><td>-0.8618</td><td>-2.1046</td><td>-0.4949</td><td>5</td><td>2</td><td>null</td></tr><tr><td>2013-01-04</td><td>0.7216</td><td>-0.7068</td><td>-1.0396</td><td>5</td><td>3</td><td>null</td></tr></tbody></table></div>"
      ],
      "text/plain": [
       "shape: (4, 7)\n",
       "┌────────────┬─────────┬─────────┬─────────┬─────┬──────┬──────┐\n",
       "│ index      ┆ A       ┆ B       ┆ C       ┆ D   ┆ F    ┆ E    │\n",
       "│ ---        ┆ ---     ┆ ---     ┆ ---     ┆ --- ┆ ---  ┆ ---  │\n",
       "│ date       ┆ f64     ┆ f64     ┆ f64     ┆ i32 ┆ i64  ┆ f64  │\n",
       "╞════════════╪═════════╪═════════╪═════════╪═════╪══════╪══════╡\n",
       "│ 2013-01-01 ┆ 0.0     ┆ 0.0     ┆ -1.5091 ┆ 5   ┆ null ┆ 1.0  │\n",
       "│ 2013-01-02 ┆ 1.2121  ┆ -0.1732 ┆ 0.1192  ┆ 5   ┆ 1    ┆ 1.0  │\n",
       "│ 2013-01-03 ┆ -0.8618 ┆ -2.1046 ┆ -0.4949 ┆ 5   ┆ 2    ┆ null │\n",
       "│ 2013-01-04 ┆ 0.7216  ┆ -0.7068 ┆ -1.0396 ┆ 5   ┆ 3    ┆ null │\n",
       "└────────────┴─────────┴─────────┴─────────┴─────┴──────┴──────┘"
      ]
     },
     "execution_count": 46,
     "metadata": {},
     "output_type": "execute_result"
    }
   ],
   "source": [
    "df1 = df.select(\n",
    "    pl.all().slice(0, 4),\n",
    "    E=pl.Series([1.0, 1.0, None, None])\n",
    ")\n",
    "df1"
   ]
  },
  {
   "cell_type": "code",
   "execution_count": 47,
   "id": "24f0b02e-104f-49a3-8bb9-9b760ce8219b",
   "metadata": {},
   "outputs": [
    {
     "data": {
      "text/html": [
       "<div><style>\n",
       ".dataframe > thead > tr,\n",
       ".dataframe > tbody > tr {\n",
       "  text-align: right;\n",
       "  white-space: pre-wrap;\n",
       "}\n",
       "</style>\n",
       "<small>shape: (1, 7)</small><table border=\"1\" class=\"dataframe\"><thead><tr><th>index</th><th>A</th><th>B</th><th>C</th><th>D</th><th>F</th><th>E</th></tr><tr><td>date</td><td>f64</td><td>f64</td><td>f64</td><td>i32</td><td>i64</td><td>f64</td></tr></thead><tbody><tr><td>2013-01-02</td><td>1.2121</td><td>-0.1732</td><td>0.1192</td><td>5</td><td>1</td><td>1.0</td></tr></tbody></table></div>"
      ],
      "text/plain": [
       "shape: (1, 7)\n",
       "┌────────────┬────────┬─────────┬────────┬─────┬─────┬─────┐\n",
       "│ index      ┆ A      ┆ B       ┆ C      ┆ D   ┆ F   ┆ E   │\n",
       "│ ---        ┆ ---    ┆ ---     ┆ ---    ┆ --- ┆ --- ┆ --- │\n",
       "│ date       ┆ f64    ┆ f64     ┆ f64    ┆ i32 ┆ i64 ┆ f64 │\n",
       "╞════════════╪════════╪═════════╪════════╪═════╪═════╪═════╡\n",
       "│ 2013-01-02 ┆ 1.2121 ┆ -0.1732 ┆ 0.1192 ┆ 5   ┆ 1   ┆ 1.0 │\n",
       "└────────────┴────────┴─────────┴────────┴─────┴─────┴─────┘"
      ]
     },
     "execution_count": 47,
     "metadata": {},
     "output_type": "execute_result"
    }
   ],
   "source": [
    "df1.drop_nulls()"
   ]
  },
  {
   "cell_type": "code",
   "execution_count": 48,
   "id": "cdcdf594-3d63-4590-a8de-4406df3bf7eb",
   "metadata": {},
   "outputs": [
    {
     "data": {
      "text/html": [
       "<div><style>\n",
       ".dataframe > thead > tr,\n",
       ".dataframe > tbody > tr {\n",
       "  text-align: right;\n",
       "  white-space: pre-wrap;\n",
       "}\n",
       "</style>\n",
       "<small>shape: (4, 7)</small><table border=\"1\" class=\"dataframe\"><thead><tr><th>index</th><th>A</th><th>B</th><th>C</th><th>D</th><th>F</th><th>E</th></tr><tr><td>date</td><td>f64</td><td>f64</td><td>f64</td><td>i32</td><td>i64</td><td>f64</td></tr></thead><tbody><tr><td>2013-01-01</td><td>0.0</td><td>0.0</td><td>-1.5091</td><td>5</td><td>5</td><td>1.0</td></tr><tr><td>2013-01-02</td><td>1.2121</td><td>-0.1732</td><td>0.1192</td><td>5</td><td>1</td><td>1.0</td></tr><tr><td>2013-01-03</td><td>-0.8618</td><td>-2.1046</td><td>-0.4949</td><td>5</td><td>2</td><td>5.0</td></tr><tr><td>2013-01-04</td><td>0.7216</td><td>-0.7068</td><td>-1.0396</td><td>5</td><td>3</td><td>5.0</td></tr></tbody></table></div>"
      ],
      "text/plain": [
       "shape: (4, 7)\n",
       "┌────────────┬─────────┬─────────┬─────────┬─────┬─────┬─────┐\n",
       "│ index      ┆ A       ┆ B       ┆ C       ┆ D   ┆ F   ┆ E   │\n",
       "│ ---        ┆ ---     ┆ ---     ┆ ---     ┆ --- ┆ --- ┆ --- │\n",
       "│ date       ┆ f64     ┆ f64     ┆ f64     ┆ i32 ┆ i64 ┆ f64 │\n",
       "╞════════════╪═════════╪═════════╪═════════╪═════╪═════╪═════╡\n",
       "│ 2013-01-01 ┆ 0.0     ┆ 0.0     ┆ -1.5091 ┆ 5   ┆ 5   ┆ 1.0 │\n",
       "│ 2013-01-02 ┆ 1.2121  ┆ -0.1732 ┆ 0.1192  ┆ 5   ┆ 1   ┆ 1.0 │\n",
       "│ 2013-01-03 ┆ -0.8618 ┆ -2.1046 ┆ -0.4949 ┆ 5   ┆ 2   ┆ 5.0 │\n",
       "│ 2013-01-04 ┆ 0.7216  ┆ -0.7068 ┆ -1.0396 ┆ 5   ┆ 3   ┆ 5.0 │\n",
       "└────────────┴─────────┴─────────┴─────────┴─────┴─────┴─────┘"
      ]
     },
     "execution_count": 48,
     "metadata": {},
     "output_type": "execute_result"
    }
   ],
   "source": [
    "df1.fill_null(5)"
   ]
  },
  {
   "cell_type": "code",
   "execution_count": 49,
   "id": "50658e53-9665-4e47-9e08-56509f250f15",
   "metadata": {},
   "outputs": [
    {
     "data": {
      "text/html": [
       "<div><style>\n",
       ".dataframe > thead > tr,\n",
       ".dataframe > tbody > tr {\n",
       "  text-align: right;\n",
       "  white-space: pre-wrap;\n",
       "}\n",
       "</style>\n",
       "<small>shape: (4, 7)</small><table border=\"1\" class=\"dataframe\"><thead><tr><th>index</th><th>A</th><th>B</th><th>C</th><th>D</th><th>F</th><th>E</th></tr><tr><td>date</td><td>bool</td><td>bool</td><td>bool</td><td>bool</td><td>bool</td><td>bool</td></tr></thead><tbody><tr><td>2013-01-01</td><td>false</td><td>false</td><td>false</td><td>false</td><td>true</td><td>false</td></tr><tr><td>2013-01-02</td><td>false</td><td>false</td><td>false</td><td>false</td><td>false</td><td>false</td></tr><tr><td>2013-01-03</td><td>false</td><td>false</td><td>false</td><td>false</td><td>false</td><td>true</td></tr><tr><td>2013-01-04</td><td>false</td><td>false</td><td>false</td><td>false</td><td>false</td><td>true</td></tr></tbody></table></div>"
      ],
      "text/plain": [
       "shape: (4, 7)\n",
       "┌────────────┬───────┬───────┬───────┬───────┬───────┬───────┐\n",
       "│ index      ┆ A     ┆ B     ┆ C     ┆ D     ┆ F     ┆ E     │\n",
       "│ ---        ┆ ---   ┆ ---   ┆ ---   ┆ ---   ┆ ---   ┆ ---   │\n",
       "│ date       ┆ bool  ┆ bool  ┆ bool  ┆ bool  ┆ bool  ┆ bool  │\n",
       "╞════════════╪═══════╪═══════╪═══════╪═══════╪═══════╪═══════╡\n",
       "│ 2013-01-01 ┆ false ┆ false ┆ false ┆ false ┆ true  ┆ false │\n",
       "│ 2013-01-02 ┆ false ┆ false ┆ false ┆ false ┆ false ┆ false │\n",
       "│ 2013-01-03 ┆ false ┆ false ┆ false ┆ false ┆ false ┆ true  │\n",
       "│ 2013-01-04 ┆ false ┆ false ┆ false ┆ false ┆ false ┆ true  │\n",
       "└────────────┴───────┴───────┴───────┴───────┴───────┴───────┘"
      ]
     },
     "execution_count": 49,
     "metadata": {},
     "output_type": "execute_result"
    }
   ],
   "source": [
    "df1.select(\n",
    "    'index',\n",
    "    pl.exclude('index').is_null()\n",
    ")"
   ]
  },
  {
   "cell_type": "markdown",
   "id": "38ae812f-f6b8-44d6-8fb8-398a5431464d",
   "metadata": {},
   "source": [
    "## Operations"
   ]
  },
  {
   "cell_type": "markdown",
   "id": "92b9393d-cf8f-4403-8cad-0a499e8efd17",
   "metadata": {},
   "source": [
    "### Stats"
   ]
  },
  {
   "cell_type": "code",
   "execution_count": 50,
   "id": "21fbcf7c-2fda-409a-b58a-b4b043fca57c",
   "metadata": {},
   "outputs": [
    {
     "data": {
      "text/html": [
       "<div><style>\n",
       ".dataframe > thead > tr,\n",
       ".dataframe > tbody > tr {\n",
       "  text-align: right;\n",
       "  white-space: pre-wrap;\n",
       "}\n",
       "</style>\n",
       "<small>shape: (1, 5)</small><table border=\"1\" class=\"dataframe\"><thead><tr><th>A</th><th>B</th><th>C</th><th>D</th><th>F</th></tr><tr><td>f64</td><td>f64</td><td>f64</td><td>f64</td><td>f64</td></tr></thead><tbody><tr><td>-0.004467</td><td>-0.384</td><td>-0.687767</td><td>5.0</td><td>3.0</td></tr></tbody></table></div>"
      ],
      "text/plain": [
       "shape: (1, 5)\n",
       "┌───────────┬────────┬───────────┬─────┬─────┐\n",
       "│ A         ┆ B      ┆ C         ┆ D   ┆ F   │\n",
       "│ ---       ┆ ---    ┆ ---       ┆ --- ┆ --- │\n",
       "│ f64       ┆ f64    ┆ f64       ┆ f64 ┆ f64 │\n",
       "╞═══════════╪════════╪═══════════╪═════╪═════╡\n",
       "│ -0.004467 ┆ -0.384 ┆ -0.687767 ┆ 5.0 ┆ 3.0 │\n",
       "└───────────┴────────┴───────────┴─────┴─────┘"
      ]
     },
     "execution_count": 50,
     "metadata": {},
     "output_type": "execute_result"
    }
   ],
   "source": [
    "df.select(pl.exclude('index').mean())"
   ]
  },
  {
   "cell_type": "code",
   "execution_count": 51,
   "id": "ee82dde4-5947-4fbe-8f1c-0f2a88d33dbb",
   "metadata": {},
   "outputs": [
    {
     "data": {
      "text/html": [
       "<div><style>\n",
       ".dataframe > thead > tr,\n",
       ".dataframe > tbody > tr {\n",
       "  text-align: right;\n",
       "  white-space: pre-wrap;\n",
       "}\n",
       "</style>\n",
       "<small>shape: (6, 2)</small><table border=\"1\" class=\"dataframe\"><thead><tr><th>index</th><th>A</th></tr><tr><td>date</td><td>f64</td></tr></thead><tbody><tr><td>2013-01-01</td><td>0.872725</td></tr><tr><td>2013-01-02</td><td>1.43162</td></tr><tr><td>2013-01-03</td><td>0.70774</td></tr><tr><td>2013-01-04</td><td>1.39504</td></tr><tr><td>2013-01-05</td><td>1.88364</td></tr><tr><td>2013-01-06</td><td>1.5923</td></tr></tbody></table></div>"
      ],
      "text/plain": [
       "shape: (6, 2)\n",
       "┌────────────┬──────────┐\n",
       "│ index      ┆ A        │\n",
       "│ ---        ┆ ---      │\n",
       "│ date       ┆ f64      │\n",
       "╞════════════╪══════════╡\n",
       "│ 2013-01-01 ┆ 0.872725 │\n",
       "│ 2013-01-02 ┆ 1.43162  │\n",
       "│ 2013-01-03 ┆ 0.70774  │\n",
       "│ 2013-01-04 ┆ 1.39504  │\n",
       "│ 2013-01-05 ┆ 1.88364  │\n",
       "│ 2013-01-06 ┆ 1.5923   │\n",
       "└────────────┴──────────┘"
      ]
     },
     "execution_count": 51,
     "metadata": {},
     "output_type": "execute_result"
    }
   ],
   "source": [
    "df.select(\n",
    "    'index',\n",
    "    pl.mean_horizontal(pl.exclude('index'))\n",
    ")"
   ]
  },
  {
   "cell_type": "code",
   "execution_count": 52,
   "id": "c32f2057-cfcb-440d-a877-e5658344e5eb",
   "metadata": {},
   "outputs": [
    {
     "data": {
      "text/html": [
       "<div><style>\n",
       ".dataframe > thead > tr,\n",
       ".dataframe > tbody > tr {\n",
       "  text-align: right;\n",
       "  white-space: pre-wrap;\n",
       "}\n",
       "</style>\n",
       "<small>shape: (6, 2)</small><table border=\"1\" class=\"dataframe\"><thead><tr><th>index</th><th>value</th></tr><tr><td>date</td><td>i64</td></tr></thead><tbody><tr><td>2013-01-01</td><td>null</td></tr><tr><td>2013-01-02</td><td>null</td></tr><tr><td>2013-01-03</td><td>1</td></tr><tr><td>2013-01-04</td><td>3</td></tr><tr><td>2013-01-05</td><td>5</td></tr><tr><td>2013-01-06</td><td>null</td></tr></tbody></table></div>"
      ],
      "text/plain": [
       "shape: (6, 2)\n",
       "┌────────────┬───────┐\n",
       "│ index      ┆ value │\n",
       "│ ---        ┆ ---   │\n",
       "│ date       ┆ i64   │\n",
       "╞════════════╪═══════╡\n",
       "│ 2013-01-01 ┆ null  │\n",
       "│ 2013-01-02 ┆ null  │\n",
       "│ 2013-01-03 ┆ 1     │\n",
       "│ 2013-01-04 ┆ 3     │\n",
       "│ 2013-01-05 ┆ 5     │\n",
       "│ 2013-01-06 ┆ null  │\n",
       "└────────────┴───────┘"
      ]
     },
     "execution_count": 52,
     "metadata": {},
     "output_type": "execute_result"
    }
   ],
   "source": [
    "s = pl.select(\n",
    "    index=df.get_column('index'),\n",
    "    value=pl.Series([1, 3, 5, None, 6, 8]).shift(2)\n",
    ")\n",
    "s"
   ]
  },
  {
   "cell_type": "code",
   "execution_count": 53,
   "id": "fec33dde-22aa-411f-9c9c-335dbbb740ab",
   "metadata": {},
   "outputs": [
    {
     "data": {
      "text/html": [
       "<div><style>\n",
       ".dataframe > thead > tr,\n",
       ".dataframe > tbody > tr {\n",
       "  text-align: right;\n",
       "  white-space: pre-wrap;\n",
       "}\n",
       "</style>\n",
       "<small>shape: (6, 6)</small><table border=\"1\" class=\"dataframe\"><thead><tr><th>index</th><th>A</th><th>B</th><th>C</th><th>D</th><th>F</th></tr><tr><td>date</td><td>f64</td><td>f64</td><td>f64</td><td>i64</td><td>i64</td></tr></thead><tbody><tr><td>2013-01-01</td><td>null</td><td>null</td><td>null</td><td>null</td><td>null</td></tr><tr><td>2013-01-02</td><td>null</td><td>null</td><td>null</td><td>null</td><td>null</td></tr><tr><td>2013-01-03</td><td>-1.8618</td><td>-3.1046</td><td>-1.4949</td><td>4</td><td>1</td></tr><tr><td>2013-01-04</td><td>-2.2784</td><td>-3.7068</td><td>-4.0396</td><td>2</td><td>0</td></tr><tr><td>2013-01-05</td><td>-5.425</td><td>-4.433</td><td>-4.7238</td><td>0</td><td>-1</td></tr><tr><td>2013-01-06</td><td>null</td><td>null</td><td>null</td><td>null</td><td>null</td></tr></tbody></table></div>"
      ],
      "text/plain": [
       "shape: (6, 6)\n",
       "┌────────────┬─────────┬─────────┬─────────┬──────┬──────┐\n",
       "│ index      ┆ A       ┆ B       ┆ C       ┆ D    ┆ F    │\n",
       "│ ---        ┆ ---     ┆ ---     ┆ ---     ┆ ---  ┆ ---  │\n",
       "│ date       ┆ f64     ┆ f64     ┆ f64     ┆ i64  ┆ i64  │\n",
       "╞════════════╪═════════╪═════════╪═════════╪══════╪══════╡\n",
       "│ 2013-01-01 ┆ null    ┆ null    ┆ null    ┆ null ┆ null │\n",
       "│ 2013-01-02 ┆ null    ┆ null    ┆ null    ┆ null ┆ null │\n",
       "│ 2013-01-03 ┆ -1.8618 ┆ -3.1046 ┆ -1.4949 ┆ 4    ┆ 1    │\n",
       "│ 2013-01-04 ┆ -2.2784 ┆ -3.7068 ┆ -4.0396 ┆ 2    ┆ 0    │\n",
       "│ 2013-01-05 ┆ -5.425  ┆ -4.433  ┆ -4.7238 ┆ 0    ┆ -1   │\n",
       "│ 2013-01-06 ┆ null    ┆ null    ┆ null    ┆ null ┆ null │\n",
       "└────────────┴─────────┴─────────┴─────────┴──────┴──────┘"
      ]
     },
     "execution_count": 53,
     "metadata": {},
     "output_type": "execute_result"
    }
   ],
   "source": [
    "df_l, df_r = pl.align_frames(df, s, on='index')\n",
    "df_l.select(\n",
    "    'index',\n",
    "    pl.exclude('index') - df_r.get_column('value')\n",
    ")"
   ]
  },
  {
   "cell_type": "markdown",
   "id": "406f9279-9e5a-4d5c-ac82-64a5a87a13d0",
   "metadata": {},
   "source": [
    "### User defined functions"
   ]
  },
  {
   "cell_type": "code",
   "execution_count": 54,
   "id": "4c55607a-7ccd-4901-91a4-b9ec0c0860d4",
   "metadata": {},
   "outputs": [
    {
     "data": {
      "text/html": [
       "<div><style>\n",
       ".dataframe > thead > tr,\n",
       ".dataframe > tbody > tr {\n",
       "  text-align: right;\n",
       "  white-space: pre-wrap;\n",
       "}\n",
       "</style>\n",
       "<small>shape: (1, 5)</small><table border=\"1\" class=\"dataframe\"><thead><tr><th>A</th><th>B</th><th>C</th><th>D</th><th>F</th></tr><tr><td>f64</td><td>f64</td><td>f64</td><td>f64</td><td>f64</td></tr></thead><tbody><tr><td>-0.025013</td><td>-2.1504</td><td>-3.851493</td><td>28.0</td><td>16.8</td></tr></tbody></table></div>"
      ],
      "text/plain": [
       "shape: (1, 5)\n",
       "┌───────────┬─────────┬───────────┬──────┬──────┐\n",
       "│ A         ┆ B       ┆ C         ┆ D    ┆ F    │\n",
       "│ ---       ┆ ---     ┆ ---       ┆ ---  ┆ ---  │\n",
       "│ f64       ┆ f64     ┆ f64       ┆ f64  ┆ f64  │\n",
       "╞═══════════╪═════════╪═══════════╪══════╪══════╡\n",
       "│ -0.025013 ┆ -2.1504 ┆ -3.851493 ┆ 28.0 ┆ 16.8 │\n",
       "└───────────┴─────────┴───────────┴──────┴──────┘"
      ]
     },
     "execution_count": 54,
     "metadata": {},
     "output_type": "execute_result"
    }
   ],
   "source": [
    "# df.agg(lambda x: np.mean(x) * 5.6)\n",
    "df.select(\n",
    "    pl.exclude('index').mean() * 5.6\n",
    ")"
   ]
  },
  {
   "cell_type": "code",
   "execution_count": 56,
   "id": "a224c75d-33e3-40c2-978c-98df7b6dc04a",
   "metadata": {},
   "outputs": [
    {
     "data": {
      "text/html": [
       "<div><style>\n",
       ".dataframe > thead > tr,\n",
       ".dataframe > tbody > tr {\n",
       "  text-align: right;\n",
       "  white-space: pre-wrap;\n",
       "}\n",
       "</style>\n",
       "<small>shape: (6, 5)</small><table border=\"1\" class=\"dataframe\"><thead><tr><th>A</th><th>B</th><th>C</th><th>D</th><th>F</th></tr><tr><td>f64</td><td>f64</td><td>f64</td><td>f64</td><td>f64</td></tr></thead><tbody><tr><td>0.0</td><td>0.0</td><td>-152.72092</td><td>506.0</td><td>null</td></tr><tr><td>122.66452</td><td>-17.52784</td><td>12.06304</td><td>506.0</td><td>101.2</td></tr><tr><td>-87.21416</td><td>-212.98552</td><td>-50.08388</td><td>506.0</td><td>202.4</td></tr><tr><td>73.02592</td><td>-71.52816</td><td>-105.20752</td><td>506.0</td><td>303.6</td></tr><tr><td>-43.01</td><td>57.3804</td><td>27.95144</td><td>506.0</td><td>404.8</td></tr><tr><td>-68.17844</td><td>11.49632</td><td>-149.61408</td><td>506.0</td><td>506.0</td></tr></tbody></table></div>"
      ],
      "text/plain": [
       "shape: (6, 5)\n",
       "┌───────────┬────────────┬────────────┬───────┬───────┐\n",
       "│ A         ┆ B          ┆ C          ┆ D     ┆ F     │\n",
       "│ ---       ┆ ---        ┆ ---        ┆ ---   ┆ ---   │\n",
       "│ f64       ┆ f64        ┆ f64        ┆ f64   ┆ f64   │\n",
       "╞═══════════╪════════════╪════════════╪═══════╪═══════╡\n",
       "│ 0.0       ┆ 0.0        ┆ -152.72092 ┆ 506.0 ┆ null  │\n",
       "│ 122.66452 ┆ -17.52784  ┆ 12.06304   ┆ 506.0 ┆ 101.2 │\n",
       "│ -87.21416 ┆ -212.98552 ┆ -50.08388  ┆ 506.0 ┆ 202.4 │\n",
       "│ 73.02592  ┆ -71.52816  ┆ -105.20752 ┆ 506.0 ┆ 303.6 │\n",
       "│ -43.01    ┆ 57.3804    ┆ 27.95144   ┆ 506.0 ┆ 404.8 │\n",
       "│ -68.17844 ┆ 11.49632   ┆ -149.61408 ┆ 506.0 ┆ 506.0 │\n",
       "└───────────┴────────────┴────────────┴───────┴───────┘"
      ]
     },
     "execution_count": 56,
     "metadata": {},
     "output_type": "execute_result"
    }
   ],
   "source": [
    "# df.transform(lambda x: x * 101.2)\n",
    "df.select(\n",
    "    pl.exclude('index') * 101.2\n",
    ")"
   ]
  },
  {
   "cell_type": "markdown",
   "id": "c2cd2f26-ca5d-4110-8f1a-7adf15a38a50",
   "metadata": {},
   "source": [
    "### Value Counts"
   ]
  },
  {
   "cell_type": "code",
   "execution_count": 58,
   "id": "ca4c3f90-6b7c-4241-b22c-ec99d0aa8a1a",
   "metadata": {},
   "outputs": [
    {
     "data": {
      "text/html": [
       "<div><style>\n",
       ".dataframe > thead > tr,\n",
       ".dataframe > tbody > tr {\n",
       "  text-align: right;\n",
       "  white-space: pre-wrap;\n",
       "}\n",
       "</style>\n",
       "<small>shape: (5, 2)</small><table border=\"1\" class=\"dataframe\"><thead><tr><th></th><th>count</th></tr><tr><td>i32</td><td>u32</td></tr></thead><tbody><tr><td>6</td><td>2</td></tr><tr><td>4</td><td>1</td></tr><tr><td>0</td><td>1</td></tr><tr><td>5</td><td>3</td></tr><tr><td>2</td><td>3</td></tr></tbody></table></div>"
      ],
      "text/plain": [
       "shape: (5, 2)\n",
       "┌─────┬───────┐\n",
       "│     ┆ count │\n",
       "│ --- ┆ ---   │\n",
       "│ i32 ┆ u32   │\n",
       "╞═════╪═══════╡\n",
       "│ 6   ┆ 2     │\n",
       "│ 4   ┆ 1     │\n",
       "│ 0   ┆ 1     │\n",
       "│ 5   ┆ 3     │\n",
       "│ 2   ┆ 3     │\n",
       "└─────┴───────┘"
      ]
     },
     "execution_count": 58,
     "metadata": {},
     "output_type": "execute_result"
    }
   ],
   "source": [
    "s = pl.Series(np.random.randint(0, 7, size=10))\n",
    "s.value_counts()"
   ]
  },
  {
   "cell_type": "markdown",
   "id": "85d2b979-547a-41b2-902e-2777602ee956",
   "metadata": {},
   "source": [
    "### String Methods"
   ]
  },
  {
   "cell_type": "code",
   "execution_count": 59,
   "id": "9f34ddd7-cc1c-4c17-8071-a3769a9cafc7",
   "metadata": {},
   "outputs": [],
   "source": [
    "s = pl.Series([\"A\", \"B\", \"C\", \"Aaba\", \"Baca\", None, \"CABA\", \"dog\", \"cat\"])"
   ]
  },
  {
   "cell_type": "code",
   "execution_count": 60,
   "id": "75c9e2cc-bba8-469e-8655-96c7b567d01d",
   "metadata": {},
   "outputs": [
    {
     "data": {
      "text/html": [
       "<div><style>\n",
       ".dataframe > thead > tr,\n",
       ".dataframe > tbody > tr {\n",
       "  text-align: right;\n",
       "  white-space: pre-wrap;\n",
       "}\n",
       "</style>\n",
       "<small>shape: (9,)</small><table border=\"1\" class=\"dataframe\"><thead><tr><th></th></tr><tr><td>str</td></tr></thead><tbody><tr><td>&quot;a&quot;</td></tr><tr><td>&quot;b&quot;</td></tr><tr><td>&quot;c&quot;</td></tr><tr><td>&quot;aaba&quot;</td></tr><tr><td>&quot;baca&quot;</td></tr><tr><td>null</td></tr><tr><td>&quot;caba&quot;</td></tr><tr><td>&quot;dog&quot;</td></tr><tr><td>&quot;cat&quot;</td></tr></tbody></table></div>"
      ],
      "text/plain": [
       "shape: (9,)\n",
       "Series: '' [str]\n",
       "[\n",
       "\t\"a\"\n",
       "\t\"b\"\n",
       "\t\"c\"\n",
       "\t\"aaba\"\n",
       "\t\"baca\"\n",
       "\tnull\n",
       "\t\"caba\"\n",
       "\t\"dog\"\n",
       "\t\"cat\"\n",
       "]"
      ]
     },
     "execution_count": 60,
     "metadata": {},
     "output_type": "execute_result"
    }
   ],
   "source": [
    "s.str.to_lowercase()"
   ]
  },
  {
   "cell_type": "markdown",
   "id": "9fdd74ec-6466-47e0-a0ce-00ea1e906397",
   "metadata": {},
   "source": [
    "## Merge"
   ]
  },
  {
   "cell_type": "markdown",
   "id": "7431721f-98e5-4637-90ad-c91d31a6cb83",
   "metadata": {},
   "source": [
    "### Concat"
   ]
  },
  {
   "cell_type": "code",
   "execution_count": 133,
   "id": "ba4a917f-9477-4a2e-b900-071ac56607e0",
   "metadata": {},
   "outputs": [
    {
     "data": {
      "text/html": [
       "<div><style>\n",
       ".dataframe > thead > tr,\n",
       ".dataframe > tbody > tr {\n",
       "  text-align: right;\n",
       "  white-space: pre-wrap;\n",
       "}\n",
       "</style>\n",
       "<small>shape: (10, 5)</small><table border=\"1\" class=\"dataframe\"><thead><tr><th>index</th><th>0</th><th>1</th><th>2</th><th>3</th></tr><tr><td>i64</td><td>f64</td><td>f64</td><td>f64</td><td>f64</td></tr></thead><tbody><tr><td>0</td><td>-0.548702</td><td>1.467327</td><td>-1.015962</td><td>-0.483075</td></tr><tr><td>1</td><td>1.63755</td><td>-1.217659</td><td>-0.291519</td><td>-1.745505</td></tr><tr><td>2</td><td>-0.263952</td><td>0.99146</td><td>-0.919069</td><td>0.266046</td></tr><tr><td>3</td><td>-0.709661</td><td>1.669052</td><td>1.037882</td><td>-1.705775</td></tr><tr><td>4</td><td>-0.919854</td><td>-0.042379</td><td>1.247642</td><td>-0.00992</td></tr><tr><td>5</td><td>0.290213</td><td>0.495767</td><td>0.362949</td><td>1.548106</td></tr><tr><td>6</td><td>-1.131345</td><td>-0.089329</td><td>0.337863</td><td>-0.945867</td></tr><tr><td>7</td><td>-0.932132</td><td>1.95603</td><td>0.017587</td><td>-0.016692</td></tr><tr><td>8</td><td>-0.575247</td><td>0.254161</td><td>-1.143704</td><td>0.215897</td></tr><tr><td>9</td><td>1.193555</td><td>-0.077118</td><td>-0.40853</td><td>-0.862495</td></tr></tbody></table></div>"
      ],
      "text/plain": [
       "shape: (10, 5)\n",
       "┌───────┬───────────┬───────────┬───────────┬───────────┐\n",
       "│ index ┆ 0         ┆ 1         ┆ 2         ┆ 3         │\n",
       "│ ---   ┆ ---       ┆ ---       ┆ ---       ┆ ---       │\n",
       "│ i64   ┆ f64       ┆ f64       ┆ f64       ┆ f64       │\n",
       "╞═══════╪═══════════╪═══════════╪═══════════╪═══════════╡\n",
       "│ 0     ┆ -0.548702 ┆ 1.467327  ┆ -1.015962 ┆ -0.483075 │\n",
       "│ 1     ┆ 1.63755   ┆ -1.217659 ┆ -0.291519 ┆ -1.745505 │\n",
       "│ 2     ┆ -0.263952 ┆ 0.99146   ┆ -0.919069 ┆ 0.266046  │\n",
       "│ 3     ┆ -0.709661 ┆ 1.669052  ┆ 1.037882  ┆ -1.705775 │\n",
       "│ 4     ┆ -0.919854 ┆ -0.042379 ┆ 1.247642  ┆ -0.00992  │\n",
       "│ 5     ┆ 0.290213  ┆ 0.495767  ┆ 0.362949  ┆ 1.548106  │\n",
       "│ 6     ┆ -1.131345 ┆ -0.089329 ┆ 0.337863  ┆ -0.945867 │\n",
       "│ 7     ┆ -0.932132 ┆ 1.95603   ┆ 0.017587  ┆ -0.016692 │\n",
       "│ 8     ┆ -0.575247 ┆ 0.254161  ┆ -1.143704 ┆ 0.215897  │\n",
       "│ 9     ┆ 1.193555  ┆ -0.077118 ┆ -0.40853  ┆ -0.862495 │\n",
       "└───────┴───────────┴───────────┴───────────┴───────────┘"
      ]
     },
     "execution_count": 133,
     "metadata": {},
     "output_type": "execute_result"
    }
   ],
   "source": [
    "data = \"\"\"\n",
    "index     0         1         2         3\n",
    "0 -0.548702  1.467327 -1.015962 -0.483075\n",
    "1  1.637550 -1.217659 -0.291519 -1.745505\n",
    "2 -0.263952  0.991460 -0.919069  0.266046\n",
    "3 -0.709661  1.669052  1.037882 -1.705775\n",
    "4 -0.919854 -0.042379  1.247642 -0.009920\n",
    "5  0.290213  0.495767  0.362949  1.548106\n",
    "6 -1.131345 -0.089329  0.337863 -0.945867\n",
    "7 -0.932132  1.956030  0.017587 -0.016692\n",
    "8 -0.575247  0.254161 -1.143704  0.215897\n",
    "9  1.193555 -0.077118 -0.408530 -0.862495\n",
    "\"\"\"\n",
    "df = to_dataframe(data)\n",
    "df"
   ]
  },
  {
   "cell_type": "code",
   "execution_count": 134,
   "id": "045af9b0-54f6-4785-9840-e331072e2c77",
   "metadata": {},
   "outputs": [
    {
     "data": {
      "text/html": [
       "<div><style>\n",
       ".dataframe > thead > tr,\n",
       ".dataframe > tbody > tr {\n",
       "  text-align: right;\n",
       "  white-space: pre-wrap;\n",
       "}\n",
       "</style>\n",
       "<small>shape: (10, 5)</small><table border=\"1\" class=\"dataframe\"><thead><tr><th>index</th><th>0</th><th>1</th><th>2</th><th>3</th></tr><tr><td>i64</td><td>f64</td><td>f64</td><td>f64</td><td>f64</td></tr></thead><tbody><tr><td>0</td><td>-0.548702</td><td>1.467327</td><td>-1.015962</td><td>-0.483075</td></tr><tr><td>1</td><td>1.63755</td><td>-1.217659</td><td>-0.291519</td><td>-1.745505</td></tr><tr><td>2</td><td>-0.263952</td><td>0.99146</td><td>-0.919069</td><td>0.266046</td></tr><tr><td>3</td><td>-0.709661</td><td>1.669052</td><td>1.037882</td><td>-1.705775</td></tr><tr><td>4</td><td>-0.919854</td><td>-0.042379</td><td>1.247642</td><td>-0.00992</td></tr><tr><td>5</td><td>0.290213</td><td>0.495767</td><td>0.362949</td><td>1.548106</td></tr><tr><td>6</td><td>-1.131345</td><td>-0.089329</td><td>0.337863</td><td>-0.945867</td></tr><tr><td>7</td><td>-0.932132</td><td>1.95603</td><td>0.017587</td><td>-0.016692</td></tr><tr><td>8</td><td>-0.575247</td><td>0.254161</td><td>-1.143704</td><td>0.215897</td></tr><tr><td>9</td><td>1.193555</td><td>-0.077118</td><td>-0.40853</td><td>-0.862495</td></tr></tbody></table></div>"
      ],
      "text/plain": [
       "shape: (10, 5)\n",
       "┌───────┬───────────┬───────────┬───────────┬───────────┐\n",
       "│ index ┆ 0         ┆ 1         ┆ 2         ┆ 3         │\n",
       "│ ---   ┆ ---       ┆ ---       ┆ ---       ┆ ---       │\n",
       "│ i64   ┆ f64       ┆ f64       ┆ f64       ┆ f64       │\n",
       "╞═══════╪═══════════╪═══════════╪═══════════╪═══════════╡\n",
       "│ 0     ┆ -0.548702 ┆ 1.467327  ┆ -1.015962 ┆ -0.483075 │\n",
       "│ 1     ┆ 1.63755   ┆ -1.217659 ┆ -0.291519 ┆ -1.745505 │\n",
       "│ 2     ┆ -0.263952 ┆ 0.99146   ┆ -0.919069 ┆ 0.266046  │\n",
       "│ 3     ┆ -0.709661 ┆ 1.669052  ┆ 1.037882  ┆ -1.705775 │\n",
       "│ 4     ┆ -0.919854 ┆ -0.042379 ┆ 1.247642  ┆ -0.00992  │\n",
       "│ 5     ┆ 0.290213  ┆ 0.495767  ┆ 0.362949  ┆ 1.548106  │\n",
       "│ 6     ┆ -1.131345 ┆ -0.089329 ┆ 0.337863  ┆ -0.945867 │\n",
       "│ 7     ┆ -0.932132 ┆ 1.95603   ┆ 0.017587  ┆ -0.016692 │\n",
       "│ 8     ┆ -0.575247 ┆ 0.254161  ┆ -1.143704 ┆ 0.215897  │\n",
       "│ 9     ┆ 1.193555  ┆ -0.077118 ┆ -0.40853  ┆ -0.862495 │\n",
       "└───────┴───────────┴───────────┴───────────┴───────────┘"
      ]
     },
     "execution_count": 134,
     "metadata": {},
     "output_type": "execute_result"
    }
   ],
   "source": [
    "pl.concat([df.slice(0, 3), df.slice(3, 4), df.slice(7)])"
   ]
  },
  {
   "cell_type": "markdown",
   "id": "608ede70-c9e6-4443-b7c5-b67540957838",
   "metadata": {},
   "source": [
    "### join"
   ]
  },
  {
   "cell_type": "code",
   "execution_count": 74,
   "id": "7a974e32-8c60-4180-a46a-92502925751b",
   "metadata": {},
   "outputs": [
    {
     "data": {
      "text/html": [
       "<table><tr><td><div><style>\n",
       ".dataframe > thead > tr,\n",
       ".dataframe > tbody > tr {\n",
       "  text-align: right;\n",
       "  white-space: pre-wrap;\n",
       "}\n",
       "</style>\n",
       "<small>shape: (2, 2)</small><table border=\"1\" class=\"dataframe\"><thead><tr><th>key</th><th>lval</th></tr><tr><td>str</td><td>i64</td></tr></thead><tbody><tr><td>&quot;foo&quot;</td><td>1</td></tr><tr><td>&quot;foo&quot;</td><td>2</td></tr></tbody></table></div></td><td><div><style>\n",
       ".dataframe > thead > tr,\n",
       ".dataframe > tbody > tr {\n",
       "  text-align: right;\n",
       "  white-space: pre-wrap;\n",
       "}\n",
       "</style>\n",
       "<small>shape: (2, 2)</small><table border=\"1\" class=\"dataframe\"><thead><tr><th>key</th><th>rval</th></tr><tr><td>str</td><td>i64</td></tr></thead><tbody><tr><td>&quot;foo&quot;</td><td>4</td></tr><tr><td>&quot;foo&quot;</td><td>5</td></tr></tbody></table></div></td></tr></table>"
      ]
     },
     "metadata": {},
     "output_type": "display_data"
    }
   ],
   "source": [
    "left = pl.DataFrame({\"key\": [\"foo\", \"foo\"], \"lval\": [1, 2]})\n",
    "right = pl.DataFrame({\"key\": [\"foo\", \"foo\"], \"rval\": [4, 5]})\n",
    "row(left, right)"
   ]
  },
  {
   "cell_type": "code",
   "execution_count": 76,
   "id": "9f0feacf-67db-4ac4-bfe8-6e14f06ef970",
   "metadata": {},
   "outputs": [
    {
     "data": {
      "text/html": [
       "<div><style>\n",
       ".dataframe > thead > tr,\n",
       ".dataframe > tbody > tr {\n",
       "  text-align: right;\n",
       "  white-space: pre-wrap;\n",
       "}\n",
       "</style>\n",
       "<small>shape: (4, 3)</small><table border=\"1\" class=\"dataframe\"><thead><tr><th>key</th><th>lval</th><th>rval</th></tr><tr><td>str</td><td>i64</td><td>i64</td></tr></thead><tbody><tr><td>&quot;foo&quot;</td><td>1</td><td>4</td></tr><tr><td>&quot;foo&quot;</td><td>2</td><td>4</td></tr><tr><td>&quot;foo&quot;</td><td>1</td><td>5</td></tr><tr><td>&quot;foo&quot;</td><td>2</td><td>5</td></tr></tbody></table></div>"
      ],
      "text/plain": [
       "shape: (4, 3)\n",
       "┌─────┬──────┬──────┐\n",
       "│ key ┆ lval ┆ rval │\n",
       "│ --- ┆ ---  ┆ ---  │\n",
       "│ str ┆ i64  ┆ i64  │\n",
       "╞═════╪══════╪══════╡\n",
       "│ foo ┆ 1    ┆ 4    │\n",
       "│ foo ┆ 2    ┆ 4    │\n",
       "│ foo ┆ 1    ┆ 5    │\n",
       "│ foo ┆ 2    ┆ 5    │\n",
       "└─────┴──────┴──────┘"
      ]
     },
     "execution_count": 76,
     "metadata": {},
     "output_type": "execute_result"
    }
   ],
   "source": [
    "left.join(right, on='key')"
   ]
  },
  {
   "cell_type": "code",
   "execution_count": 78,
   "id": "aa0dfa1f-7dc1-4454-aff9-78e4002dc85a",
   "metadata": {},
   "outputs": [
    {
     "data": {
      "text/html": [
       "<table><tr><td><div><style>\n",
       ".dataframe > thead > tr,\n",
       ".dataframe > tbody > tr {\n",
       "  text-align: right;\n",
       "  white-space: pre-wrap;\n",
       "}\n",
       "</style>\n",
       "<small>shape: (2, 2)</small><table border=\"1\" class=\"dataframe\"><thead><tr><th>key</th><th>lval</th></tr><tr><td>str</td><td>i64</td></tr></thead><tbody><tr><td>&quot;foo&quot;</td><td>1</td></tr><tr><td>&quot;bar&quot;</td><td>2</td></tr></tbody></table></div></td><td><div><style>\n",
       ".dataframe > thead > tr,\n",
       ".dataframe > tbody > tr {\n",
       "  text-align: right;\n",
       "  white-space: pre-wrap;\n",
       "}\n",
       "</style>\n",
       "<small>shape: (2, 2)</small><table border=\"1\" class=\"dataframe\"><thead><tr><th>key</th><th>rval</th></tr><tr><td>str</td><td>i64</td></tr></thead><tbody><tr><td>&quot;foo&quot;</td><td>4</td></tr><tr><td>&quot;bar&quot;</td><td>5</td></tr></tbody></table></div></td></tr></table>"
      ]
     },
     "metadata": {},
     "output_type": "display_data"
    }
   ],
   "source": [
    "left = pl.DataFrame({\"key\": [\"foo\", \"bar\"], \"lval\": [1, 2]})\n",
    "right = pl.DataFrame({\"key\": [\"foo\", \"bar\"], \"rval\": [4, 5]})\n",
    "row(left, right)"
   ]
  },
  {
   "cell_type": "code",
   "execution_count": 79,
   "id": "e0f7891d-873e-4a61-9487-9cb2e8df416f",
   "metadata": {},
   "outputs": [
    {
     "data": {
      "text/html": [
       "<div><style>\n",
       ".dataframe > thead > tr,\n",
       ".dataframe > tbody > tr {\n",
       "  text-align: right;\n",
       "  white-space: pre-wrap;\n",
       "}\n",
       "</style>\n",
       "<small>shape: (2, 3)</small><table border=\"1\" class=\"dataframe\"><thead><tr><th>key</th><th>lval</th><th>rval</th></tr><tr><td>str</td><td>i64</td><td>i64</td></tr></thead><tbody><tr><td>&quot;foo&quot;</td><td>1</td><td>4</td></tr><tr><td>&quot;bar&quot;</td><td>2</td><td>5</td></tr></tbody></table></div>"
      ],
      "text/plain": [
       "shape: (2, 3)\n",
       "┌─────┬──────┬──────┐\n",
       "│ key ┆ lval ┆ rval │\n",
       "│ --- ┆ ---  ┆ ---  │\n",
       "│ str ┆ i64  ┆ i64  │\n",
       "╞═════╪══════╪══════╡\n",
       "│ foo ┆ 1    ┆ 4    │\n",
       "│ bar ┆ 2    ┆ 5    │\n",
       "└─────┴──────┴──────┘"
      ]
     },
     "execution_count": 79,
     "metadata": {},
     "output_type": "execute_result"
    }
   ],
   "source": [
    "left.join(right, on='key')"
   ]
  },
  {
   "cell_type": "markdown",
   "id": "b919d32b-7228-4f3e-b0e8-7ae39e6b2b07",
   "metadata": {},
   "source": [
    "## Grouping"
   ]
  },
  {
   "cell_type": "code",
   "execution_count": 120,
   "id": "b4a4f528-a272-4e30-81ba-3a0046d2edb4",
   "metadata": {},
   "outputs": [],
   "source": [
    "data = \"\"\"\n",
    "A      B         C         D\n",
    "foo    one  1.346061 -1.577585\n",
    "bar    one  1.511763  0.396823\n",
    "foo    two  1.627081 -0.105381\n",
    "bar  three -0.990582 -0.532532\n",
    "foo    two -0.441652  1.453749\n",
    "bar    two  1.211526  1.208843\n",
    "foo    one  0.268520 -0.080952\n",
    "foo  three  0.024580 -0.264610\n",
    "\"\"\"\n",
    "df = to_dataframe(data)"
   ]
  },
  {
   "cell_type": "code",
   "execution_count": 121,
   "id": "99927dee-5cf9-48ab-8169-4c8f50ac88c1",
   "metadata": {},
   "outputs": [
    {
     "data": {
      "text/html": [
       "<div><style>\n",
       ".dataframe > thead > tr,\n",
       ".dataframe > tbody > tr {\n",
       "  text-align: right;\n",
       "  white-space: pre-wrap;\n",
       "}\n",
       "</style>\n",
       "<small>shape: (2, 3)</small><table border=\"1\" class=\"dataframe\"><thead><tr><th>A</th><th>C</th><th>D</th></tr><tr><td>str</td><td>f64</td><td>f64</td></tr></thead><tbody><tr><td>&quot;foo&quot;</td><td>2.82459</td><td>-0.574779</td></tr><tr><td>&quot;bar&quot;</td><td>1.732707</td><td>1.073134</td></tr></tbody></table></div>"
      ],
      "text/plain": [
       "shape: (2, 3)\n",
       "┌─────┬──────────┬───────────┐\n",
       "│ A   ┆ C        ┆ D         │\n",
       "│ --- ┆ ---      ┆ ---       │\n",
       "│ str ┆ f64      ┆ f64       │\n",
       "╞═════╪══════════╪═══════════╡\n",
       "│ foo ┆ 2.82459  ┆ -0.574779 │\n",
       "│ bar ┆ 1.732707 ┆ 1.073134  │\n",
       "└─────┴──────────┴───────────┘"
      ]
     },
     "execution_count": 121,
     "metadata": {},
     "output_type": "execute_result"
    }
   ],
   "source": [
    "# df.groupby(\"A\")[[\"C\", \"D\"]].sum()\n",
    "df.group_by('A').agg(\n",
    "    pl.col('C', 'D').sum()\n",
    ")"
   ]
  },
  {
   "cell_type": "code",
   "execution_count": 91,
   "id": "9e3cf0ce-90f0-4a07-b9fe-fb15be820f61",
   "metadata": {},
   "outputs": [
    {
     "data": {
      "text/html": [
       "<div><style>\n",
       ".dataframe > thead > tr,\n",
       ".dataframe > tbody > tr {\n",
       "  text-align: right;\n",
       "  white-space: pre-wrap;\n",
       "}\n",
       "</style>\n",
       "<small>shape: (6, 4)</small><table border=\"1\" class=\"dataframe\"><thead><tr><th>A</th><th>B</th><th>C</th><th>D</th></tr><tr><td>str</td><td>str</td><td>f64</td><td>f64</td></tr></thead><tbody><tr><td>&quot;bar&quot;</td><td>&quot;one&quot;</td><td>1.511763</td><td>0.396823</td></tr><tr><td>&quot;bar&quot;</td><td>&quot;three&quot;</td><td>-0.990582</td><td>-0.532532</td></tr><tr><td>&quot;bar&quot;</td><td>&quot;two&quot;</td><td>1.211526</td><td>1.208843</td></tr><tr><td>&quot;foo&quot;</td><td>&quot;one&quot;</td><td>1.614581</td><td>-1.658537</td></tr><tr><td>&quot;foo&quot;</td><td>&quot;three&quot;</td><td>0.02458</td><td>-0.26461</td></tr><tr><td>&quot;foo&quot;</td><td>&quot;two&quot;</td><td>1.185429</td><td>1.348368</td></tr></tbody></table></div>"
      ],
      "text/plain": [
       "shape: (6, 4)\n",
       "┌─────┬───────┬───────────┬───────────┐\n",
       "│ A   ┆ B     ┆ C         ┆ D         │\n",
       "│ --- ┆ ---   ┆ ---       ┆ ---       │\n",
       "│ str ┆ str   ┆ f64       ┆ f64       │\n",
       "╞═════╪═══════╪═══════════╪═══════════╡\n",
       "│ bar ┆ one   ┆ 1.511763  ┆ 0.396823  │\n",
       "│ bar ┆ three ┆ -0.990582 ┆ -0.532532 │\n",
       "│ bar ┆ two   ┆ 1.211526  ┆ 1.208843  │\n",
       "│ foo ┆ one   ┆ 1.614581  ┆ -1.658537 │\n",
       "│ foo ┆ three ┆ 0.02458   ┆ -0.26461  │\n",
       "│ foo ┆ two   ┆ 1.185429  ┆ 1.348368  │\n",
       "└─────┴───────┴───────────┴───────────┘"
      ]
     },
     "execution_count": 91,
     "metadata": {},
     "output_type": "execute_result"
    }
   ],
   "source": [
    "# df.groupby([\"A\", \"B\"]).sum()\n",
    "(\n",
    "df\n",
    ".group_by('A', 'B')\n",
    ".agg(pl.all().sum())\n",
    ".sort('A', 'B')\n",
    ")"
   ]
  },
  {
   "cell_type": "markdown",
   "id": "55706dd6-4e40-4780-9130-245ec6ee6421",
   "metadata": {},
   "source": [
    "## Reshaping"
   ]
  },
  {
   "cell_type": "markdown",
   "id": "5dc506c2-9cb0-4c36-9c33-f941b2f6073d",
   "metadata": {},
   "source": [
    "### Stack"
   ]
  },
  {
   "cell_type": "code",
   "execution_count": 113,
   "id": "e3623c85-6bd4-4d57-acc0-7f4bdb15c38e",
   "metadata": {},
   "outputs": [
    {
     "data": {
      "text/html": [
       "<div><style>\n",
       ".dataframe > thead > tr,\n",
       ".dataframe > tbody > tr {\n",
       "  text-align: right;\n",
       "  white-space: pre-wrap;\n",
       "}\n",
       "</style>\n",
       "<small>shape: (4, 4)</small><table border=\"1\" class=\"dataframe\"><thead><tr><th>first</th><th>second</th><th>A</th><th>B</th></tr><tr><td>str</td><td>str</td><td>f64</td><td>f64</td></tr></thead><tbody><tr><td>&quot;bar&quot;</td><td>&quot;one&quot;</td><td>-0.727965</td><td>-0.589346</td></tr><tr><td>&quot;bar&quot;</td><td>&quot;two&quot;</td><td>0.339969</td><td>-0.693205</td></tr><tr><td>&quot;baz&quot;</td><td>&quot;one&quot;</td><td>-0.339355</td><td>0.593616</td></tr><tr><td>&quot;baz&quot;</td><td>&quot;two&quot;</td><td>0.884345</td><td>1.591431</td></tr></tbody></table></div>"
      ],
      "text/plain": [
       "shape: (4, 4)\n",
       "┌───────┬────────┬───────────┬───────────┐\n",
       "│ first ┆ second ┆ A         ┆ B         │\n",
       "│ ---   ┆ ---    ┆ ---       ┆ ---       │\n",
       "│ str   ┆ str    ┆ f64       ┆ f64       │\n",
       "╞═══════╪════════╪═══════════╪═══════════╡\n",
       "│ bar   ┆ one    ┆ -0.727965 ┆ -0.589346 │\n",
       "│ bar   ┆ two    ┆ 0.339969  ┆ -0.693205 │\n",
       "│ baz   ┆ one    ┆ -0.339355 ┆ 0.593616  │\n",
       "│ baz   ┆ two    ┆ 0.884345  ┆ 1.591431  │\n",
       "└───────┴────────┴───────────┴───────────┘"
      ]
     },
     "execution_count": 113,
     "metadata": {},
     "output_type": "execute_result"
    }
   ],
   "source": [
    "data = '''\n",
    "first second         A         B\n",
    "bar   one    -0.727965 -0.589346\n",
    "bar   two     0.339969 -0.693205\n",
    "baz   one    -0.339355  0.593616\n",
    "baz   two     0.884345  1.591431\n",
    "'''\n",
    "df2 = to_dataframe(data)\n",
    "df2"
   ]
  },
  {
   "cell_type": "code",
   "execution_count": 114,
   "id": "abd21832-d190-44e5-a006-f4a8404ae149",
   "metadata": {},
   "outputs": [
    {
     "data": {
      "text/html": [
       "<div><style>\n",
       ".dataframe > thead > tr,\n",
       ".dataframe > tbody > tr {\n",
       "  text-align: right;\n",
       "  white-space: pre-wrap;\n",
       "}\n",
       "</style>\n",
       "<small>shape: (8, 4)</small><table border=\"1\" class=\"dataframe\"><thead><tr><th>first</th><th>second</th><th>variable</th><th>value</th></tr><tr><td>str</td><td>str</td><td>str</td><td>f64</td></tr></thead><tbody><tr><td>&quot;bar&quot;</td><td>&quot;one&quot;</td><td>&quot;A&quot;</td><td>-0.727965</td></tr><tr><td>&quot;bar&quot;</td><td>&quot;two&quot;</td><td>&quot;A&quot;</td><td>0.339969</td></tr><tr><td>&quot;baz&quot;</td><td>&quot;one&quot;</td><td>&quot;A&quot;</td><td>-0.339355</td></tr><tr><td>&quot;baz&quot;</td><td>&quot;two&quot;</td><td>&quot;A&quot;</td><td>0.884345</td></tr><tr><td>&quot;bar&quot;</td><td>&quot;one&quot;</td><td>&quot;B&quot;</td><td>-0.589346</td></tr><tr><td>&quot;bar&quot;</td><td>&quot;two&quot;</td><td>&quot;B&quot;</td><td>-0.693205</td></tr><tr><td>&quot;baz&quot;</td><td>&quot;one&quot;</td><td>&quot;B&quot;</td><td>0.593616</td></tr><tr><td>&quot;baz&quot;</td><td>&quot;two&quot;</td><td>&quot;B&quot;</td><td>1.591431</td></tr></tbody></table></div>"
      ],
      "text/plain": [
       "shape: (8, 4)\n",
       "┌───────┬────────┬──────────┬───────────┐\n",
       "│ first ┆ second ┆ variable ┆ value     │\n",
       "│ ---   ┆ ---    ┆ ---      ┆ ---       │\n",
       "│ str   ┆ str    ┆ str      ┆ f64       │\n",
       "╞═══════╪════════╪══════════╪═══════════╡\n",
       "│ bar   ┆ one    ┆ A        ┆ -0.727965 │\n",
       "│ bar   ┆ two    ┆ A        ┆ 0.339969  │\n",
       "│ baz   ┆ one    ┆ A        ┆ -0.339355 │\n",
       "│ baz   ┆ two    ┆ A        ┆ 0.884345  │\n",
       "│ bar   ┆ one    ┆ B        ┆ -0.589346 │\n",
       "│ bar   ┆ two    ┆ B        ┆ -0.693205 │\n",
       "│ baz   ┆ one    ┆ B        ┆ 0.593616  │\n",
       "│ baz   ┆ two    ┆ B        ┆ 1.591431  │\n",
       "└───────┴────────┴──────────┴───────────┘"
      ]
     },
     "execution_count": 114,
     "metadata": {},
     "output_type": "execute_result"
    }
   ],
   "source": [
    "stacked = df2.unpivot(['A', 'B'], index=['first', 'second'])\n",
    "stacked"
   ]
  },
  {
   "cell_type": "code",
   "execution_count": 115,
   "id": "b6444976-0ed0-4f44-a85f-573f2880c80b",
   "metadata": {},
   "outputs": [
    {
     "data": {
      "text/html": [
       "<div><style>\n",
       ".dataframe > thead > tr,\n",
       ".dataframe > tbody > tr {\n",
       "  text-align: right;\n",
       "  white-space: pre-wrap;\n",
       "}\n",
       "</style>\n",
       "<small>shape: (4, 4)</small><table border=\"1\" class=\"dataframe\"><thead><tr><th>first</th><th>second</th><th>A</th><th>B</th></tr><tr><td>str</td><td>str</td><td>f64</td><td>f64</td></tr></thead><tbody><tr><td>&quot;bar&quot;</td><td>&quot;one&quot;</td><td>-0.727965</td><td>-0.589346</td></tr><tr><td>&quot;bar&quot;</td><td>&quot;two&quot;</td><td>0.339969</td><td>-0.693205</td></tr><tr><td>&quot;baz&quot;</td><td>&quot;one&quot;</td><td>-0.339355</td><td>0.593616</td></tr><tr><td>&quot;baz&quot;</td><td>&quot;two&quot;</td><td>0.884345</td><td>1.591431</td></tr></tbody></table></div>"
      ],
      "text/plain": [
       "shape: (4, 4)\n",
       "┌───────┬────────┬───────────┬───────────┐\n",
       "│ first ┆ second ┆ A         ┆ B         │\n",
       "│ ---   ┆ ---    ┆ ---       ┆ ---       │\n",
       "│ str   ┆ str    ┆ f64       ┆ f64       │\n",
       "╞═══════╪════════╪═══════════╪═══════════╡\n",
       "│ bar   ┆ one    ┆ -0.727965 ┆ -0.589346 │\n",
       "│ bar   ┆ two    ┆ 0.339969  ┆ -0.693205 │\n",
       "│ baz   ┆ one    ┆ -0.339355 ┆ 0.593616  │\n",
       "│ baz   ┆ two    ┆ 0.884345  ┆ 1.591431  │\n",
       "└───────┴────────┴───────────┴───────────┘"
      ]
     },
     "execution_count": 115,
     "metadata": {},
     "output_type": "execute_result"
    }
   ],
   "source": [
    "stacked.pivot('variable', index=['first', 'second'])"
   ]
  },
  {
   "cell_type": "code",
   "execution_count": 116,
   "id": "2b1f9eff-65fc-470c-8b69-ecd83c35f77b",
   "metadata": {},
   "outputs": [
    {
     "data": {
      "text/html": [
       "<div><style>\n",
       ".dataframe > thead > tr,\n",
       ".dataframe > tbody > tr {\n",
       "  text-align: right;\n",
       "  white-space: pre-wrap;\n",
       "}\n",
       "</style>\n",
       "<small>shape: (4, 4)</small><table border=\"1\" class=\"dataframe\"><thead><tr><th>first</th><th>variable</th><th>one</th><th>two</th></tr><tr><td>str</td><td>str</td><td>f64</td><td>f64</td></tr></thead><tbody><tr><td>&quot;bar&quot;</td><td>&quot;A&quot;</td><td>-0.727965</td><td>0.339969</td></tr><tr><td>&quot;baz&quot;</td><td>&quot;A&quot;</td><td>-0.339355</td><td>0.884345</td></tr><tr><td>&quot;bar&quot;</td><td>&quot;B&quot;</td><td>-0.589346</td><td>-0.693205</td></tr><tr><td>&quot;baz&quot;</td><td>&quot;B&quot;</td><td>0.593616</td><td>1.591431</td></tr></tbody></table></div>"
      ],
      "text/plain": [
       "shape: (4, 4)\n",
       "┌───────┬──────────┬───────────┬───────────┐\n",
       "│ first ┆ variable ┆ one       ┆ two       │\n",
       "│ ---   ┆ ---      ┆ ---       ┆ ---       │\n",
       "│ str   ┆ str      ┆ f64       ┆ f64       │\n",
       "╞═══════╪══════════╪═══════════╪═══════════╡\n",
       "│ bar   ┆ A        ┆ -0.727965 ┆ 0.339969  │\n",
       "│ baz   ┆ A        ┆ -0.339355 ┆ 0.884345  │\n",
       "│ bar   ┆ B        ┆ -0.589346 ┆ -0.693205 │\n",
       "│ baz   ┆ B        ┆ 0.593616  ┆ 1.591431  │\n",
       "└───────┴──────────┴───────────┴───────────┘"
      ]
     },
     "execution_count": 116,
     "metadata": {},
     "output_type": "execute_result"
    }
   ],
   "source": [
    "stacked.pivot('second', index=['first', 'variable'])"
   ]
  },
  {
   "cell_type": "code",
   "execution_count": 117,
   "id": "73ad5854-8b09-434c-ae29-c5481c23f32a",
   "metadata": {},
   "outputs": [
    {
     "data": {
      "text/html": [
       "<div><style>\n",
       ".dataframe > thead > tr,\n",
       ".dataframe > tbody > tr {\n",
       "  text-align: right;\n",
       "  white-space: pre-wrap;\n",
       "}\n",
       "</style>\n",
       "<small>shape: (4, 4)</small><table border=\"1\" class=\"dataframe\"><thead><tr><th>second</th><th>variable</th><th>bar</th><th>baz</th></tr><tr><td>str</td><td>str</td><td>f64</td><td>f64</td></tr></thead><tbody><tr><td>&quot;one&quot;</td><td>&quot;A&quot;</td><td>-0.727965</td><td>-0.339355</td></tr><tr><td>&quot;two&quot;</td><td>&quot;A&quot;</td><td>0.339969</td><td>0.884345</td></tr><tr><td>&quot;one&quot;</td><td>&quot;B&quot;</td><td>-0.589346</td><td>0.593616</td></tr><tr><td>&quot;two&quot;</td><td>&quot;B&quot;</td><td>-0.693205</td><td>1.591431</td></tr></tbody></table></div>"
      ],
      "text/plain": [
       "shape: (4, 4)\n",
       "┌────────┬──────────┬───────────┬───────────┐\n",
       "│ second ┆ variable ┆ bar       ┆ baz       │\n",
       "│ ---    ┆ ---      ┆ ---       ┆ ---       │\n",
       "│ str    ┆ str      ┆ f64       ┆ f64       │\n",
       "╞════════╪══════════╪═══════════╪═══════════╡\n",
       "│ one    ┆ A        ┆ -0.727965 ┆ -0.339355 │\n",
       "│ two    ┆ A        ┆ 0.339969  ┆ 0.884345  │\n",
       "│ one    ┆ B        ┆ -0.589346 ┆ 0.593616  │\n",
       "│ two    ┆ B        ┆ -0.693205 ┆ 1.591431  │\n",
       "└────────┴──────────┴───────────┴───────────┘"
      ]
     },
     "execution_count": 117,
     "metadata": {},
     "output_type": "execute_result"
    }
   ],
   "source": [
    "stacked.pivot('first', index=['second', 'variable'])"
   ]
  },
  {
   "cell_type": "markdown",
   "id": "98cc1cdb-5d1d-4b08-912b-8d282d49258e",
   "metadata": {},
   "source": [
    "### Pivot tables"
   ]
  },
  {
   "cell_type": "code",
   "execution_count": 118,
   "id": "6a932bb2-7d42-4036-bb0a-b6b0fd524070",
   "metadata": {},
   "outputs": [],
   "source": [
    "data = '''\n",
    "index A  B    C         D         E\n",
    "0     one  A  foo -1.202872  0.047609\n",
    "1     one  B  foo -1.814470 -0.136473\n",
    "2     two  C  foo  1.018601 -0.561757\n",
    "3   three  A  bar -0.595447 -1.623033\n",
    "4     one  B  bar  1.395433  0.029399\n",
    "5     one  C  bar -0.392670 -0.542108\n",
    "6     two  A  foo  0.007207  0.282696\n",
    "7   three  B  foo  1.928123 -0.087302\n",
    "8     one  C  foo -0.055224 -1.575170\n",
    "9     one  A  bar  2.395985  1.771208\n",
    "10    two  B  bar  1.552825  0.816482\n",
    "11  three  C  bar  0.166599  1.100230\n",
    "'''\n",
    "df = to_dataframe(data)"
   ]
  },
  {
   "cell_type": "code",
   "execution_count": 119,
   "id": "728f4113-5710-477f-94be-eaa46ead1e78",
   "metadata": {},
   "outputs": [
    {
     "data": {
      "text/html": [
       "<div><style>\n",
       ".dataframe > thead > tr,\n",
       ".dataframe > tbody > tr {\n",
       "  text-align: right;\n",
       "  white-space: pre-wrap;\n",
       "}\n",
       "</style>\n",
       "<small>shape: (9, 4)</small><table border=\"1\" class=\"dataframe\"><thead><tr><th>A</th><th>B</th><th>foo</th><th>bar</th></tr><tr><td>str</td><td>str</td><td>f64</td><td>f64</td></tr></thead><tbody><tr><td>&quot;one&quot;</td><td>&quot;A&quot;</td><td>-1.202872</td><td>2.395985</td></tr><tr><td>&quot;one&quot;</td><td>&quot;B&quot;</td><td>-1.81447</td><td>1.395433</td></tr><tr><td>&quot;one&quot;</td><td>&quot;C&quot;</td><td>-0.055224</td><td>-0.39267</td></tr><tr><td>&quot;three&quot;</td><td>&quot;A&quot;</td><td>null</td><td>-0.595447</td></tr><tr><td>&quot;three&quot;</td><td>&quot;B&quot;</td><td>1.928123</td><td>null</td></tr><tr><td>&quot;three&quot;</td><td>&quot;C&quot;</td><td>null</td><td>0.166599</td></tr><tr><td>&quot;two&quot;</td><td>&quot;A&quot;</td><td>0.007207</td><td>null</td></tr><tr><td>&quot;two&quot;</td><td>&quot;B&quot;</td><td>null</td><td>1.552825</td></tr><tr><td>&quot;two&quot;</td><td>&quot;C&quot;</td><td>1.018601</td><td>null</td></tr></tbody></table></div>"
      ],
      "text/plain": [
       "shape: (9, 4)\n",
       "┌───────┬─────┬───────────┬───────────┐\n",
       "│ A     ┆ B   ┆ foo       ┆ bar       │\n",
       "│ ---   ┆ --- ┆ ---       ┆ ---       │\n",
       "│ str   ┆ str ┆ f64       ┆ f64       │\n",
       "╞═══════╪═════╪═══════════╪═══════════╡\n",
       "│ one   ┆ A   ┆ -1.202872 ┆ 2.395985  │\n",
       "│ one   ┆ B   ┆ -1.81447  ┆ 1.395433  │\n",
       "│ one   ┆ C   ┆ -0.055224 ┆ -0.39267  │\n",
       "│ three ┆ A   ┆ null      ┆ -0.595447 │\n",
       "│ three ┆ B   ┆ 1.928123  ┆ null      │\n",
       "│ three ┆ C   ┆ null      ┆ 0.166599  │\n",
       "│ two   ┆ A   ┆ 0.007207  ┆ null      │\n",
       "│ two   ┆ B   ┆ null      ┆ 1.552825  │\n",
       "│ two   ┆ C   ┆ 1.018601  ┆ null      │\n",
       "└───────┴─────┴───────────┴───────────┘"
      ]
     },
     "execution_count": 119,
     "metadata": {},
     "output_type": "execute_result"
    }
   ],
   "source": [
    "df.pivot('C', index=['A', 'B'], values=\"D\").sort('A', 'B')"
   ]
  },
  {
   "cell_type": "markdown",
   "id": "abfced00-ee04-4078-bc7d-d1f0e8ea66dc",
   "metadata": {},
   "source": [
    "## Time series"
   ]
  },
  {
   "cell_type": "code",
   "execution_count": null,
   "id": "aec5afe0-ddc9-4527-b73c-0484eca28375",
   "metadata": {},
   "outputs": [],
   "source": []
  },
  {
   "cell_type": "code",
   "execution_count": 144,
   "id": "eb1c61e1-03b9-419d-808f-de57cd6c45c1",
   "metadata": {},
   "outputs": [
    {
     "data": {
      "text/html": [
       "<div><style>\n",
       ".dataframe > thead > tr,\n",
       ".dataframe > tbody > tr {\n",
       "  text-align: right;\n",
       "  white-space: pre-wrap;\n",
       "}\n",
       "</style>\n",
       "<small>shape: (4, 2)</small><table border=\"1\" class=\"dataframe\"><thead><tr><th>index</th><th>value</th></tr><tr><td>datetime[μs]</td><td>i32</td></tr></thead><tbody><tr><td>2012-01-01 00:00:00</td><td>72130</td></tr><tr><td>2012-01-01 00:05:00</td><td>76640</td></tr><tr><td>2012-01-01 00:10:00</td><td>71218</td></tr><tr><td>2012-01-01 00:15:00</td><td>25874</td></tr></tbody></table></div>"
      ],
      "text/plain": [
       "shape: (4, 2)\n",
       "┌─────────────────────┬───────┐\n",
       "│ index               ┆ value │\n",
       "│ ---                 ┆ ---   │\n",
       "│ datetime[μs]        ┆ i32   │\n",
       "╞═════════════════════╪═══════╡\n",
       "│ 2012-01-01 00:00:00 ┆ 72130 │\n",
       "│ 2012-01-01 00:05:00 ┆ 76640 │\n",
       "│ 2012-01-01 00:10:00 ┆ 71218 │\n",
       "│ 2012-01-01 00:15:00 ┆ 25874 │\n",
       "└─────────────────────┴───────┘"
      ]
     },
     "execution_count": 144,
     "metadata": {},
     "output_type": "execute_result"
    }
   ],
   "source": [
    "n = 1000\n",
    "rng = pl.datetime(2012, 1, 1) + pl.duration(seconds=pl.int_range(0, n))\n",
    "ts = pl.select(\n",
    "    index=rng,\n",
    "    value=np.random.randint(0, 500, n)\n",
    ")\n",
    "(\n",
    "ts\n",
    ".group_by(pl.col('index').dt.truncate('5m'), maintain_order=True)\n",
    ".agg(pl.col('value').sum())\n",
    ")"
   ]
  },
  {
   "cell_type": "code",
   "execution_count": 145,
   "id": "f590b159-854f-463a-bdf0-ff105fdb3403",
   "metadata": {},
   "outputs": [
    {
     "data": {
      "text/html": [
       "<div><style>\n",
       ".dataframe > thead > tr,\n",
       ".dataframe > tbody > tr {\n",
       "  text-align: right;\n",
       "  white-space: pre-wrap;\n",
       "}\n",
       "</style>\n",
       "<small>shape: (5, 2)</small><table border=\"1\" class=\"dataframe\"><thead><tr><th>index</th><th>value</th></tr><tr><td>datetime[μs]</td><td>f64</td></tr></thead><tbody><tr><td>2012-03-06 00:00:00</td><td>-0.037589</td></tr><tr><td>2012-03-07 00:00:00</td><td>-0.422765</td></tr><tr><td>2012-03-08 00:00:00</td><td>0.148907</td></tr><tr><td>2012-03-09 00:00:00</td><td>-0.02686</td></tr><tr><td>2012-03-10 00:00:00</td><td>0.813454</td></tr></tbody></table></div>"
      ],
      "text/plain": [
       "shape: (5, 2)\n",
       "┌─────────────────────┬───────────┐\n",
       "│ index               ┆ value     │\n",
       "│ ---                 ┆ ---       │\n",
       "│ datetime[μs]        ┆ f64       │\n",
       "╞═════════════════════╪═══════════╡\n",
       "│ 2012-03-06 00:00:00 ┆ -0.037589 │\n",
       "│ 2012-03-07 00:00:00 ┆ -0.422765 │\n",
       "│ 2012-03-08 00:00:00 ┆ 0.148907  │\n",
       "│ 2012-03-09 00:00:00 ┆ -0.02686  │\n",
       "│ 2012-03-10 00:00:00 ┆ 0.813454  │\n",
       "└─────────────────────┴───────────┘"
      ]
     },
     "execution_count": 145,
     "metadata": {},
     "output_type": "execute_result"
    }
   ],
   "source": [
    "rng = pl.datetime(2012, 3, 6) + pl.duration(days=pl.int_range(0, 5))\n",
    "ts = pl.select(\n",
    "    index=rng,\n",
    "    value=np.random.randn(5)\n",
    ")\n",
    "ts"
   ]
  },
  {
   "cell_type": "code",
   "execution_count": 148,
   "id": "a18370c2-3896-45e1-aa9b-6a3018374edd",
   "metadata": {},
   "outputs": [],
   "source": [
    "ts_utc = ts.with_columns(\n",
    "    pl.col('index').dt.replace_time_zone(\"UTC\")\n",
    ")"
   ]
  },
  {
   "cell_type": "code",
   "execution_count": 149,
   "id": "49863e28-4aa6-4e6b-99e5-017dc5d2005d",
   "metadata": {},
   "outputs": [
    {
     "data": {
      "text/html": [
       "<div><style>\n",
       ".dataframe > thead > tr,\n",
       ".dataframe > tbody > tr {\n",
       "  text-align: right;\n",
       "  white-space: pre-wrap;\n",
       "}\n",
       "</style>\n",
       "<small>shape: (5, 2)</small><table border=\"1\" class=\"dataframe\"><thead><tr><th>index</th><th>value</th></tr><tr><td>datetime[μs, US/Eastern]</td><td>f64</td></tr></thead><tbody><tr><td>2012-03-05 19:00:00 EST</td><td>-0.037589</td></tr><tr><td>2012-03-06 19:00:00 EST</td><td>-0.422765</td></tr><tr><td>2012-03-07 19:00:00 EST</td><td>0.148907</td></tr><tr><td>2012-03-08 19:00:00 EST</td><td>-0.02686</td></tr><tr><td>2012-03-09 19:00:00 EST</td><td>0.813454</td></tr></tbody></table></div>"
      ],
      "text/plain": [
       "shape: (5, 2)\n",
       "┌──────────────────────────┬───────────┐\n",
       "│ index                    ┆ value     │\n",
       "│ ---                      ┆ ---       │\n",
       "│ datetime[μs, US/Eastern] ┆ f64       │\n",
       "╞══════════════════════════╪═══════════╡\n",
       "│ 2012-03-05 19:00:00 EST  ┆ -0.037589 │\n",
       "│ 2012-03-06 19:00:00 EST  ┆ -0.422765 │\n",
       "│ 2012-03-07 19:00:00 EST  ┆ 0.148907  │\n",
       "│ 2012-03-08 19:00:00 EST  ┆ -0.02686  │\n",
       "│ 2012-03-09 19:00:00 EST  ┆ 0.813454  │\n",
       "└──────────────────────────┴───────────┘"
      ]
     },
     "execution_count": 149,
     "metadata": {},
     "output_type": "execute_result"
    }
   ],
   "source": [
    "ts_utc.with_columns(\n",
    "    pl.col('index').dt.convert_time_zone('US/Eastern')\n",
    ")"
   ]
  },
  {
   "cell_type": "code",
   "execution_count": 152,
   "id": "807d69d7-65a2-4d41-9172-0ef71fd86f74",
   "metadata": {},
   "outputs": [
    {
     "data": {
      "text/html": [
       "<div><style>\n",
       ".dataframe > thead > tr,\n",
       ".dataframe > tbody > tr {\n",
       "  text-align: right;\n",
       "  white-space: pre-wrap;\n",
       "}\n",
       "</style>\n",
       "<small>shape: (5, 2)</small><table border=\"1\" class=\"dataframe\"><thead><tr><th>index</th><th>value</th></tr><tr><td>datetime[μs]</td><td>f64</td></tr></thead><tbody><tr><td>2012-03-13 00:00:00</td><td>-0.037589</td></tr><tr><td>2012-03-14 00:00:00</td><td>-0.422765</td></tr><tr><td>2012-03-15 00:00:00</td><td>0.148907</td></tr><tr><td>2012-03-16 00:00:00</td><td>-0.02686</td></tr><tr><td>2012-03-16 00:00:00</td><td>0.813454</td></tr></tbody></table></div>"
      ],
      "text/plain": [
       "shape: (5, 2)\n",
       "┌─────────────────────┬───────────┐\n",
       "│ index               ┆ value     │\n",
       "│ ---                 ┆ ---       │\n",
       "│ datetime[μs]        ┆ f64       │\n",
       "╞═════════════════════╪═══════════╡\n",
       "│ 2012-03-13 00:00:00 ┆ -0.037589 │\n",
       "│ 2012-03-14 00:00:00 ┆ -0.422765 │\n",
       "│ 2012-03-15 00:00:00 ┆ 0.148907  │\n",
       "│ 2012-03-16 00:00:00 ┆ -0.02686  │\n",
       "│ 2012-03-16 00:00:00 ┆ 0.813454  │\n",
       "└─────────────────────┴───────────┘"
      ]
     },
     "execution_count": 152,
     "metadata": {},
     "output_type": "execute_result"
    }
   ],
   "source": [
    "ts.with_columns(\n",
    "    pl.col('index').dt.add_business_days(5, roll=\"backward\")\n",
    ")"
   ]
  },
  {
   "cell_type": "markdown",
   "id": "97cfaf35-917c-4fca-a03a-ea9c59166da5",
   "metadata": {},
   "source": [
    "## Categoricals"
   ]
  },
  {
   "cell_type": "code",
   "execution_count": 153,
   "id": "4fdd08ef-e254-4dbe-8d40-21dc23a583da",
   "metadata": {},
   "outputs": [],
   "source": [
    "df = pl.DataFrame({\n",
    "    \"id\": [1, 2, 3, 4, 5, 6], \n",
    "    \"raw_grade\": [\"a\", \"b\", \"b\", \"a\", \"a\", \"e\"]\n",
    "})"
   ]
  },
  {
   "cell_type": "code",
   "execution_count": 167,
   "id": "962ad60b-b560-4f72-9a60-9818d64374f5",
   "metadata": {},
   "outputs": [
    {
     "data": {
      "text/html": [
       "<div><style>\n",
       ".dataframe > thead > tr,\n",
       ".dataframe > tbody > tr {\n",
       "  text-align: right;\n",
       "  white-space: pre-wrap;\n",
       "}\n",
       "</style>\n",
       "<small>shape: (6, 3)</small><table border=\"1\" class=\"dataframe\"><thead><tr><th>id</th><th>raw_grade</th><th>grade</th></tr><tr><td>i64</td><td>str</td><td>cat</td></tr></thead><tbody><tr><td>1</td><td>&quot;a&quot;</td><td>&quot;a&quot;</td></tr><tr><td>2</td><td>&quot;b&quot;</td><td>&quot;b&quot;</td></tr><tr><td>3</td><td>&quot;b&quot;</td><td>&quot;b&quot;</td></tr><tr><td>4</td><td>&quot;a&quot;</td><td>&quot;a&quot;</td></tr><tr><td>5</td><td>&quot;a&quot;</td><td>&quot;a&quot;</td></tr><tr><td>6</td><td>&quot;e&quot;</td><td>&quot;e&quot;</td></tr></tbody></table></div>"
      ],
      "text/plain": [
       "shape: (6, 3)\n",
       "┌─────┬───────────┬───────┐\n",
       "│ id  ┆ raw_grade ┆ grade │\n",
       "│ --- ┆ ---       ┆ ---   │\n",
       "│ i64 ┆ str       ┆ cat   │\n",
       "╞═════╪═══════════╪═══════╡\n",
       "│ 1   ┆ a         ┆ a     │\n",
       "│ 2   ┆ b         ┆ b     │\n",
       "│ 3   ┆ b         ┆ b     │\n",
       "│ 4   ┆ a         ┆ a     │\n",
       "│ 5   ┆ a         ┆ a     │\n",
       "│ 6   ┆ e         ┆ e     │\n",
       "└─────┴───────────┴───────┘"
      ]
     },
     "execution_count": 167,
     "metadata": {},
     "output_type": "execute_result"
    }
   ],
   "source": [
    "df = df.with_columns(\n",
    "    grade=pl.col('raw_grade').cast(pl.Categorical)\n",
    ")\n",
    "df"
   ]
  },
  {
   "cell_type": "code",
   "execution_count": 168,
   "id": "b68df977-1d76-456f-a377-f6ca7d96cab4",
   "metadata": {},
   "outputs": [],
   "source": [
    "df = df.with_columns(\n",
    "    pl.col('grade')\n",
    "      .cast(pl.String)\n",
    "      .replace(dict(a='very good', b='good', e=\"very bad\"))\n",
    "      .cast(pl.Categorical)\n",
    ")"
   ]
  },
  {
   "cell_type": "code",
   "execution_count": 170,
   "id": "e2677f69-3b0c-4389-8932-370939b917df",
   "metadata": {},
   "outputs": [],
   "source": [
    "grades = pl.Enum([\"very bad\", \"bad\", \"medium\", \"good\", \"very good\"])\n",
    "df = df.with_columns(\n",
    "    pl.col('grade').cast(grades)\n",
    ")"
   ]
  },
  {
   "cell_type": "code",
   "execution_count": 171,
   "id": "fd6d4b16-2af0-4006-9081-3dc8a251e830",
   "metadata": {},
   "outputs": [
    {
     "data": {
      "text/html": [
       "<div><style>\n",
       ".dataframe > thead > tr,\n",
       ".dataframe > tbody > tr {\n",
       "  text-align: right;\n",
       "  white-space: pre-wrap;\n",
       "}\n",
       "</style>\n",
       "<small>shape: (6, 3)</small><table border=\"1\" class=\"dataframe\"><thead><tr><th>id</th><th>raw_grade</th><th>grade</th></tr><tr><td>i64</td><td>str</td><td>enum</td></tr></thead><tbody><tr><td>6</td><td>&quot;e&quot;</td><td>&quot;very bad&quot;</td></tr><tr><td>2</td><td>&quot;b&quot;</td><td>&quot;good&quot;</td></tr><tr><td>3</td><td>&quot;b&quot;</td><td>&quot;good&quot;</td></tr><tr><td>1</td><td>&quot;a&quot;</td><td>&quot;very good&quot;</td></tr><tr><td>4</td><td>&quot;a&quot;</td><td>&quot;very good&quot;</td></tr><tr><td>5</td><td>&quot;a&quot;</td><td>&quot;very good&quot;</td></tr></tbody></table></div>"
      ],
      "text/plain": [
       "shape: (6, 3)\n",
       "┌─────┬───────────┬───────────┐\n",
       "│ id  ┆ raw_grade ┆ grade     │\n",
       "│ --- ┆ ---       ┆ ---       │\n",
       "│ i64 ┆ str       ┆ enum      │\n",
       "╞═════╪═══════════╪═══════════╡\n",
       "│ 6   ┆ e         ┆ very bad  │\n",
       "│ 2   ┆ b         ┆ good      │\n",
       "│ 3   ┆ b         ┆ good      │\n",
       "│ 1   ┆ a         ┆ very good │\n",
       "│ 4   ┆ a         ┆ very good │\n",
       "│ 5   ┆ a         ┆ very good │\n",
       "└─────┴───────────┴───────────┘"
      ]
     },
     "execution_count": 171,
     "metadata": {},
     "output_type": "execute_result"
    }
   ],
   "source": [
    "df.sort('grade')"
   ]
  },
  {
   "cell_type": "code",
   "execution_count": 182,
   "id": "eef95d13-ffff-462c-95ff-ea2724d3c771",
   "metadata": {},
   "outputs": [
    {
     "data": {
      "text/html": [
       "<div><style>\n",
       ".dataframe > thead > tr,\n",
       ".dataframe > tbody > tr {\n",
       "  text-align: right;\n",
       "  white-space: pre-wrap;\n",
       "}\n",
       "</style>\n",
       "<small>shape: (5, 2)</small><table border=\"1\" class=\"dataframe\"><thead><tr><th>len</th><th>grade</th></tr><tr><td>u32</td><td>enum</td></tr></thead><tbody><tr><td>1</td><td>&quot;very bad&quot;</td></tr><tr><td>0</td><td>&quot;bad&quot;</td></tr><tr><td>0</td><td>&quot;medium&quot;</td></tr><tr><td>2</td><td>&quot;good&quot;</td></tr><tr><td>3</td><td>&quot;very good&quot;</td></tr></tbody></table></div>"
      ],
      "text/plain": [
       "shape: (5, 2)\n",
       "┌─────┬───────────┐\n",
       "│ len ┆ grade     │\n",
       "│ --- ┆ ---       │\n",
       "│ u32 ┆ enum      │\n",
       "╞═════╪═══════════╡\n",
       "│ 1   ┆ very bad  │\n",
       "│ 0   ┆ bad       │\n",
       "│ 0   ┆ medium    │\n",
       "│ 2   ┆ good      │\n",
       "│ 3   ┆ very good │\n",
       "└─────┴───────────┘"
      ]
     },
     "execution_count": 182,
     "metadata": {},
     "output_type": "execute_result"
    }
   ],
   "source": [
    "# df.groupby(\"grade\", observed=False).size()\n",
    "(\n",
    "df\n",
    ".group_by('grade')\n",
    ".agg(pl.len())\n",
    ".join(pl.select(grade=grades.categories.cast(grades)), on='grade', how='right')\n",
    ".with_columns(pl.col('len').fill_null(0))\n",
    ")"
   ]
  },
  {
   "cell_type": "markdown",
   "id": "f39be3e0-0926-48f3-850d-adf3cf4b9937",
   "metadata": {},
   "source": [
    "## Plotting"
   ]
  },
  {
   "cell_type": "code",
   "execution_count": 185,
   "id": "7d859427-ca0e-4433-b9ec-2fb7ec5fcff7",
   "metadata": {},
   "outputs": [
    {
     "data": {
      "application/javascript": [
       "(function(root) {\n",
       "  function now() {\n",
       "    return new Date();\n",
       "  }\n",
       "\n",
       "  var force = true;\n",
       "  var py_version = '3.4.2'.replace('rc', '-rc.').replace('.dev', '-dev.');\n",
       "  var reloading = false;\n",
       "  var Bokeh = root.Bokeh;\n",
       "\n",
       "  if (typeof (root._bokeh_timeout) === \"undefined\" || force) {\n",
       "    root._bokeh_timeout = Date.now() + 5000;\n",
       "    root._bokeh_failed_load = false;\n",
       "  }\n",
       "\n",
       "  function run_callbacks() {\n",
       "    try {\n",
       "      root._bokeh_onload_callbacks.forEach(function(callback) {\n",
       "        if (callback != null)\n",
       "          callback();\n",
       "      });\n",
       "    } finally {\n",
       "      delete root._bokeh_onload_callbacks;\n",
       "    }\n",
       "    console.debug(\"Bokeh: all callbacks have finished\");\n",
       "  }\n",
       "\n",
       "  function load_libs(css_urls, js_urls, js_modules, js_exports, callback) {\n",
       "    if (css_urls == null) css_urls = [];\n",
       "    if (js_urls == null) js_urls = [];\n",
       "    if (js_modules == null) js_modules = [];\n",
       "    if (js_exports == null) js_exports = {};\n",
       "\n",
       "    root._bokeh_onload_callbacks.push(callback);\n",
       "\n",
       "    if (root._bokeh_is_loading > 0) {\n",
       "      console.debug(\"Bokeh: BokehJS is being loaded, scheduling callback at\", now());\n",
       "      return null;\n",
       "    }\n",
       "    if (js_urls.length === 0 && js_modules.length === 0 && Object.keys(js_exports).length === 0) {\n",
       "      run_callbacks();\n",
       "      return null;\n",
       "    }\n",
       "    if (!reloading) {\n",
       "      console.debug(\"Bokeh: BokehJS not loaded, scheduling load and callback at\", now());\n",
       "    }\n",
       "\n",
       "    function on_load() {\n",
       "      root._bokeh_is_loading--;\n",
       "      if (root._bokeh_is_loading === 0) {\n",
       "        console.debug(\"Bokeh: all BokehJS libraries/stylesheets loaded\");\n",
       "        run_callbacks()\n",
       "      }\n",
       "    }\n",
       "    window._bokeh_on_load = on_load\n",
       "\n",
       "    function on_error() {\n",
       "      console.error(\"failed to load \" + url);\n",
       "    }\n",
       "\n",
       "    var skip = [];\n",
       "    if (window.requirejs) {\n",
       "      window.requirejs.config({'packages': {}, 'paths': {}, 'shim': {}});\n",
       "      root._bokeh_is_loading = css_urls.length + 0;\n",
       "    } else {\n",
       "      root._bokeh_is_loading = css_urls.length + js_urls.length + js_modules.length + Object.keys(js_exports).length;\n",
       "    }\n",
       "\n",
       "    var existing_stylesheets = []\n",
       "    var links = document.getElementsByTagName('link')\n",
       "    for (var i = 0; i < links.length; i++) {\n",
       "      var link = links[i]\n",
       "      if (link.href != null) {\n",
       "\texisting_stylesheets.push(link.href)\n",
       "      }\n",
       "    }\n",
       "    for (var i = 0; i < css_urls.length; i++) {\n",
       "      var url = css_urls[i];\n",
       "      if (existing_stylesheets.indexOf(url) !== -1) {\n",
       "\ton_load()\n",
       "\tcontinue;\n",
       "      }\n",
       "      const element = document.createElement(\"link\");\n",
       "      element.onload = on_load;\n",
       "      element.onerror = on_error;\n",
       "      element.rel = \"stylesheet\";\n",
       "      element.type = \"text/css\";\n",
       "      element.href = url;\n",
       "      console.debug(\"Bokeh: injecting link tag for BokehJS stylesheet: \", url);\n",
       "      document.body.appendChild(element);\n",
       "    }    var existing_scripts = []\n",
       "    var scripts = document.getElementsByTagName('script')\n",
       "    for (var i = 0; i < scripts.length; i++) {\n",
       "      var script = scripts[i]\n",
       "      if (script.src != null) {\n",
       "\texisting_scripts.push(script.src)\n",
       "      }\n",
       "    }\n",
       "    for (var i = 0; i < js_urls.length; i++) {\n",
       "      var url = js_urls[i];\n",
       "      if (skip.indexOf(url) !== -1 || existing_scripts.indexOf(url) !== -1) {\n",
       "\tif (!window.requirejs) {\n",
       "\t  on_load();\n",
       "\t}\n",
       "\tcontinue;\n",
       "      }\n",
       "      var element = document.createElement('script');\n",
       "      element.onload = on_load;\n",
       "      element.onerror = on_error;\n",
       "      element.async = false;\n",
       "      element.src = url;\n",
       "      console.debug(\"Bokeh: injecting script tag for BokehJS library: \", url);\n",
       "      document.head.appendChild(element);\n",
       "    }\n",
       "    for (var i = 0; i < js_modules.length; i++) {\n",
       "      var url = js_modules[i];\n",
       "      if (skip.indexOf(url) !== -1 || existing_scripts.indexOf(url) !== -1) {\n",
       "\tif (!window.requirejs) {\n",
       "\t  on_load();\n",
       "\t}\n",
       "\tcontinue;\n",
       "      }\n",
       "      var element = document.createElement('script');\n",
       "      element.onload = on_load;\n",
       "      element.onerror = on_error;\n",
       "      element.async = false;\n",
       "      element.src = url;\n",
       "      element.type = \"module\";\n",
       "      console.debug(\"Bokeh: injecting script tag for BokehJS library: \", url);\n",
       "      document.head.appendChild(element);\n",
       "    }\n",
       "    for (const name in js_exports) {\n",
       "      var url = js_exports[name];\n",
       "      if (skip.indexOf(url) >= 0 || root[name] != null) {\n",
       "\tif (!window.requirejs) {\n",
       "\t  on_load();\n",
       "\t}\n",
       "\tcontinue;\n",
       "      }\n",
       "      var element = document.createElement('script');\n",
       "      element.onerror = on_error;\n",
       "      element.async = false;\n",
       "      element.type = \"module\";\n",
       "      console.debug(\"Bokeh: injecting script tag for BokehJS library: \", url);\n",
       "      element.textContent = `\n",
       "      import ${name} from \"${url}\"\n",
       "      window.${name} = ${name}\n",
       "      window._bokeh_on_load()\n",
       "      `\n",
       "      document.head.appendChild(element);\n",
       "    }\n",
       "    if (!js_urls.length && !js_modules.length) {\n",
       "      on_load()\n",
       "    }\n",
       "  };\n",
       "\n",
       "  function inject_raw_css(css) {\n",
       "    const element = document.createElement(\"style\");\n",
       "    element.appendChild(document.createTextNode(css));\n",
       "    document.body.appendChild(element);\n",
       "  }\n",
       "\n",
       "  var js_urls = [\"https://cdn.bokeh.org/bokeh/release/bokeh-3.4.2.min.js\", \"https://cdn.bokeh.org/bokeh/release/bokeh-gl-3.4.2.min.js\", \"https://cdn.bokeh.org/bokeh/release/bokeh-widgets-3.4.2.min.js\", \"https://cdn.bokeh.org/bokeh/release/bokeh-tables-3.4.2.min.js\", \"https://cdn.holoviz.org/panel/1.4.4/dist/panel.min.js\"];\n",
       "  var js_modules = [];\n",
       "  var js_exports = {};\n",
       "  var css_urls = [];\n",
       "  var inline_js = [    function(Bokeh) {\n",
       "      Bokeh.set_log_level(\"info\");\n",
       "    },\n",
       "function(Bokeh) {} // ensure no trailing comma for IE\n",
       "  ];\n",
       "\n",
       "  function run_inline_js() {\n",
       "    if ((root.Bokeh !== undefined) || (force === true)) {\n",
       "      for (var i = 0; i < inline_js.length; i++) {\n",
       "\ttry {\n",
       "          inline_js[i].call(root, root.Bokeh);\n",
       "\t} catch(e) {\n",
       "\t  if (!reloading) {\n",
       "\t    throw e;\n",
       "\t  }\n",
       "\t}\n",
       "      }\n",
       "      // Cache old bokeh versions\n",
       "      if (Bokeh != undefined && !reloading) {\n",
       "\tvar NewBokeh = root.Bokeh;\n",
       "\tif (Bokeh.versions === undefined) {\n",
       "\t  Bokeh.versions = new Map();\n",
       "\t}\n",
       "\tif (NewBokeh.version !== Bokeh.version) {\n",
       "\t  Bokeh.versions.set(NewBokeh.version, NewBokeh)\n",
       "\t}\n",
       "\troot.Bokeh = Bokeh;\n",
       "      }} else if (Date.now() < root._bokeh_timeout) {\n",
       "      setTimeout(run_inline_js, 100);\n",
       "    } else if (!root._bokeh_failed_load) {\n",
       "      console.log(\"Bokeh: BokehJS failed to load within specified timeout.\");\n",
       "      root._bokeh_failed_load = true;\n",
       "    }\n",
       "    root._bokeh_is_initializing = false\n",
       "  }\n",
       "\n",
       "  function load_or_wait() {\n",
       "    // Implement a backoff loop that tries to ensure we do not load multiple\n",
       "    // versions of Bokeh and its dependencies at the same time.\n",
       "    // In recent versions we use the root._bokeh_is_initializing flag\n",
       "    // to determine whether there is an ongoing attempt to initialize\n",
       "    // bokeh, however for backward compatibility we also try to ensure\n",
       "    // that we do not start loading a newer (Panel>=1.0 and Bokeh>3) version\n",
       "    // before older versions are fully initialized.\n",
       "    if (root._bokeh_is_initializing && Date.now() > root._bokeh_timeout) {\n",
       "      root._bokeh_is_initializing = false;\n",
       "      root._bokeh_onload_callbacks = undefined;\n",
       "      console.log(\"Bokeh: BokehJS was loaded multiple times but one version failed to initialize.\");\n",
       "      load_or_wait();\n",
       "    } else if (root._bokeh_is_initializing || (typeof root._bokeh_is_initializing === \"undefined\" && root._bokeh_onload_callbacks !== undefined)) {\n",
       "      setTimeout(load_or_wait, 100);\n",
       "    } else {\n",
       "      root._bokeh_is_initializing = true\n",
       "      root._bokeh_onload_callbacks = []\n",
       "      var bokeh_loaded = Bokeh != null && (Bokeh.version === py_version || (Bokeh.versions !== undefined && Bokeh.versions.has(py_version)));\n",
       "      if (!reloading && !bokeh_loaded) {\n",
       "\troot.Bokeh = undefined;\n",
       "      }\n",
       "      load_libs(css_urls, js_urls, js_modules, js_exports, function() {\n",
       "\tconsole.debug(\"Bokeh: BokehJS plotting callback run at\", now());\n",
       "\trun_inline_js();\n",
       "      });\n",
       "    }\n",
       "  }\n",
       "  // Give older versions of the autoload script a head-start to ensure\n",
       "  // they initialize before we start loading newer version.\n",
       "  setTimeout(load_or_wait, 100)\n",
       "}(window));"
      ],
      "application/vnd.holoviews_load.v0+json": "(function(root) {\n  function now() {\n    return new Date();\n  }\n\n  var force = true;\n  var py_version = '3.4.2'.replace('rc', '-rc.').replace('.dev', '-dev.');\n  var reloading = false;\n  var Bokeh = root.Bokeh;\n\n  if (typeof (root._bokeh_timeout) === \"undefined\" || force) {\n    root._bokeh_timeout = Date.now() + 5000;\n    root._bokeh_failed_load = false;\n  }\n\n  function run_callbacks() {\n    try {\n      root._bokeh_onload_callbacks.forEach(function(callback) {\n        if (callback != null)\n          callback();\n      });\n    } finally {\n      delete root._bokeh_onload_callbacks;\n    }\n    console.debug(\"Bokeh: all callbacks have finished\");\n  }\n\n  function load_libs(css_urls, js_urls, js_modules, js_exports, callback) {\n    if (css_urls == null) css_urls = [];\n    if (js_urls == null) js_urls = [];\n    if (js_modules == null) js_modules = [];\n    if (js_exports == null) js_exports = {};\n\n    root._bokeh_onload_callbacks.push(callback);\n\n    if (root._bokeh_is_loading > 0) {\n      console.debug(\"Bokeh: BokehJS is being loaded, scheduling callback at\", now());\n      return null;\n    }\n    if (js_urls.length === 0 && js_modules.length === 0 && Object.keys(js_exports).length === 0) {\n      run_callbacks();\n      return null;\n    }\n    if (!reloading) {\n      console.debug(\"Bokeh: BokehJS not loaded, scheduling load and callback at\", now());\n    }\n\n    function on_load() {\n      root._bokeh_is_loading--;\n      if (root._bokeh_is_loading === 0) {\n        console.debug(\"Bokeh: all BokehJS libraries/stylesheets loaded\");\n        run_callbacks()\n      }\n    }\n    window._bokeh_on_load = on_load\n\n    function on_error() {\n      console.error(\"failed to load \" + url);\n    }\n\n    var skip = [];\n    if (window.requirejs) {\n      window.requirejs.config({'packages': {}, 'paths': {}, 'shim': {}});\n      root._bokeh_is_loading = css_urls.length + 0;\n    } else {\n      root._bokeh_is_loading = css_urls.length + js_urls.length + js_modules.length + Object.keys(js_exports).length;\n    }\n\n    var existing_stylesheets = []\n    var links = document.getElementsByTagName('link')\n    for (var i = 0; i < links.length; i++) {\n      var link = links[i]\n      if (link.href != null) {\n\texisting_stylesheets.push(link.href)\n      }\n    }\n    for (var i = 0; i < css_urls.length; i++) {\n      var url = css_urls[i];\n      if (existing_stylesheets.indexOf(url) !== -1) {\n\ton_load()\n\tcontinue;\n      }\n      const element = document.createElement(\"link\");\n      element.onload = on_load;\n      element.onerror = on_error;\n      element.rel = \"stylesheet\";\n      element.type = \"text/css\";\n      element.href = url;\n      console.debug(\"Bokeh: injecting link tag for BokehJS stylesheet: \", url);\n      document.body.appendChild(element);\n    }    var existing_scripts = []\n    var scripts = document.getElementsByTagName('script')\n    for (var i = 0; i < scripts.length; i++) {\n      var script = scripts[i]\n      if (script.src != null) {\n\texisting_scripts.push(script.src)\n      }\n    }\n    for (var i = 0; i < js_urls.length; i++) {\n      var url = js_urls[i];\n      if (skip.indexOf(url) !== -1 || existing_scripts.indexOf(url) !== -1) {\n\tif (!window.requirejs) {\n\t  on_load();\n\t}\n\tcontinue;\n      }\n      var element = document.createElement('script');\n      element.onload = on_load;\n      element.onerror = on_error;\n      element.async = false;\n      element.src = url;\n      console.debug(\"Bokeh: injecting script tag for BokehJS library: \", url);\n      document.head.appendChild(element);\n    }\n    for (var i = 0; i < js_modules.length; i++) {\n      var url = js_modules[i];\n      if (skip.indexOf(url) !== -1 || existing_scripts.indexOf(url) !== -1) {\n\tif (!window.requirejs) {\n\t  on_load();\n\t}\n\tcontinue;\n      }\n      var element = document.createElement('script');\n      element.onload = on_load;\n      element.onerror = on_error;\n      element.async = false;\n      element.src = url;\n      element.type = \"module\";\n      console.debug(\"Bokeh: injecting script tag for BokehJS library: \", url);\n      document.head.appendChild(element);\n    }\n    for (const name in js_exports) {\n      var url = js_exports[name];\n      if (skip.indexOf(url) >= 0 || root[name] != null) {\n\tif (!window.requirejs) {\n\t  on_load();\n\t}\n\tcontinue;\n      }\n      var element = document.createElement('script');\n      element.onerror = on_error;\n      element.async = false;\n      element.type = \"module\";\n      console.debug(\"Bokeh: injecting script tag for BokehJS library: \", url);\n      element.textContent = `\n      import ${name} from \"${url}\"\n      window.${name} = ${name}\n      window._bokeh_on_load()\n      `\n      document.head.appendChild(element);\n    }\n    if (!js_urls.length && !js_modules.length) {\n      on_load()\n    }\n  };\n\n  function inject_raw_css(css) {\n    const element = document.createElement(\"style\");\n    element.appendChild(document.createTextNode(css));\n    document.body.appendChild(element);\n  }\n\n  var js_urls = [\"https://cdn.bokeh.org/bokeh/release/bokeh-3.4.2.min.js\", \"https://cdn.bokeh.org/bokeh/release/bokeh-gl-3.4.2.min.js\", \"https://cdn.bokeh.org/bokeh/release/bokeh-widgets-3.4.2.min.js\", \"https://cdn.bokeh.org/bokeh/release/bokeh-tables-3.4.2.min.js\", \"https://cdn.holoviz.org/panel/1.4.4/dist/panel.min.js\"];\n  var js_modules = [];\n  var js_exports = {};\n  var css_urls = [];\n  var inline_js = [    function(Bokeh) {\n      Bokeh.set_log_level(\"info\");\n    },\nfunction(Bokeh) {} // ensure no trailing comma for IE\n  ];\n\n  function run_inline_js() {\n    if ((root.Bokeh !== undefined) || (force === true)) {\n      for (var i = 0; i < inline_js.length; i++) {\n\ttry {\n          inline_js[i].call(root, root.Bokeh);\n\t} catch(e) {\n\t  if (!reloading) {\n\t    throw e;\n\t  }\n\t}\n      }\n      // Cache old bokeh versions\n      if (Bokeh != undefined && !reloading) {\n\tvar NewBokeh = root.Bokeh;\n\tif (Bokeh.versions === undefined) {\n\t  Bokeh.versions = new Map();\n\t}\n\tif (NewBokeh.version !== Bokeh.version) {\n\t  Bokeh.versions.set(NewBokeh.version, NewBokeh)\n\t}\n\troot.Bokeh = Bokeh;\n      }} else if (Date.now() < root._bokeh_timeout) {\n      setTimeout(run_inline_js, 100);\n    } else if (!root._bokeh_failed_load) {\n      console.log(\"Bokeh: BokehJS failed to load within specified timeout.\");\n      root._bokeh_failed_load = true;\n    }\n    root._bokeh_is_initializing = false\n  }\n\n  function load_or_wait() {\n    // Implement a backoff loop that tries to ensure we do not load multiple\n    // versions of Bokeh and its dependencies at the same time.\n    // In recent versions we use the root._bokeh_is_initializing flag\n    // to determine whether there is an ongoing attempt to initialize\n    // bokeh, however for backward compatibility we also try to ensure\n    // that we do not start loading a newer (Panel>=1.0 and Bokeh>3) version\n    // before older versions are fully initialized.\n    if (root._bokeh_is_initializing && Date.now() > root._bokeh_timeout) {\n      root._bokeh_is_initializing = false;\n      root._bokeh_onload_callbacks = undefined;\n      console.log(\"Bokeh: BokehJS was loaded multiple times but one version failed to initialize.\");\n      load_or_wait();\n    } else if (root._bokeh_is_initializing || (typeof root._bokeh_is_initializing === \"undefined\" && root._bokeh_onload_callbacks !== undefined)) {\n      setTimeout(load_or_wait, 100);\n    } else {\n      root._bokeh_is_initializing = true\n      root._bokeh_onload_callbacks = []\n      var bokeh_loaded = Bokeh != null && (Bokeh.version === py_version || (Bokeh.versions !== undefined && Bokeh.versions.has(py_version)));\n      if (!reloading && !bokeh_loaded) {\n\troot.Bokeh = undefined;\n      }\n      load_libs(css_urls, js_urls, js_modules, js_exports, function() {\n\tconsole.debug(\"Bokeh: BokehJS plotting callback run at\", now());\n\trun_inline_js();\n      });\n    }\n  }\n  // Give older versions of the autoload script a head-start to ensure\n  // they initialize before we start loading newer version.\n  setTimeout(load_or_wait, 100)\n}(window));"
     },
     "metadata": {},
     "output_type": "display_data"
    },
    {
     "data": {
      "application/javascript": [
       "\n",
       "if ((window.PyViz === undefined) || (window.PyViz instanceof HTMLElement)) {\n",
       "  window.PyViz = {comms: {}, comm_status:{}, kernels:{}, receivers: {}, plot_index: []}\n",
       "}\n",
       "\n",
       "\n",
       "    function JupyterCommManager() {\n",
       "    }\n",
       "\n",
       "    JupyterCommManager.prototype.register_target = function(plot_id, comm_id, msg_handler) {\n",
       "      if (window.comm_manager || ((window.Jupyter !== undefined) && (Jupyter.notebook.kernel != null))) {\n",
       "        var comm_manager = window.comm_manager || Jupyter.notebook.kernel.comm_manager;\n",
       "        comm_manager.register_target(comm_id, function(comm) {\n",
       "          comm.on_msg(msg_handler);\n",
       "        });\n",
       "      } else if ((plot_id in window.PyViz.kernels) && (window.PyViz.kernels[plot_id])) {\n",
       "        window.PyViz.kernels[plot_id].registerCommTarget(comm_id, function(comm) {\n",
       "          comm.onMsg = msg_handler;\n",
       "        });\n",
       "      } else if (typeof google != 'undefined' && google.colab.kernel != null) {\n",
       "        google.colab.kernel.comms.registerTarget(comm_id, (comm) => {\n",
       "          var messages = comm.messages[Symbol.asyncIterator]();\n",
       "          function processIteratorResult(result) {\n",
       "            var message = result.value;\n",
       "            console.log(message)\n",
       "            var content = {data: message.data, comm_id};\n",
       "            var buffers = []\n",
       "            for (var buffer of message.buffers || []) {\n",
       "              buffers.push(new DataView(buffer))\n",
       "            }\n",
       "            var metadata = message.metadata || {};\n",
       "            var msg = {content, buffers, metadata}\n",
       "            msg_handler(msg);\n",
       "            return messages.next().then(processIteratorResult);\n",
       "          }\n",
       "          return messages.next().then(processIteratorResult);\n",
       "        })\n",
       "      }\n",
       "    }\n",
       "\n",
       "    JupyterCommManager.prototype.get_client_comm = function(plot_id, comm_id, msg_handler) {\n",
       "      if (comm_id in window.PyViz.comms) {\n",
       "        return window.PyViz.comms[comm_id];\n",
       "      } else if (window.comm_manager || ((window.Jupyter !== undefined) && (Jupyter.notebook.kernel != null))) {\n",
       "        var comm_manager = window.comm_manager || Jupyter.notebook.kernel.comm_manager;\n",
       "        var comm = comm_manager.new_comm(comm_id, {}, {}, {}, comm_id);\n",
       "        if (msg_handler) {\n",
       "          comm.on_msg(msg_handler);\n",
       "        }\n",
       "      } else if ((plot_id in window.PyViz.kernels) && (window.PyViz.kernels[plot_id])) {\n",
       "        var comm = window.PyViz.kernels[plot_id].connectToComm(comm_id);\n",
       "        comm.open();\n",
       "        if (msg_handler) {\n",
       "          comm.onMsg = msg_handler;\n",
       "        }\n",
       "      } else if (typeof google != 'undefined' && google.colab.kernel != null) {\n",
       "        var comm_promise = google.colab.kernel.comms.open(comm_id)\n",
       "        comm_promise.then((comm) => {\n",
       "          window.PyViz.comms[comm_id] = comm;\n",
       "          if (msg_handler) {\n",
       "            var messages = comm.messages[Symbol.asyncIterator]();\n",
       "            function processIteratorResult(result) {\n",
       "              var message = result.value;\n",
       "              var content = {data: message.data};\n",
       "              var metadata = message.metadata || {comm_id};\n",
       "              var msg = {content, metadata}\n",
       "              msg_handler(msg);\n",
       "              return messages.next().then(processIteratorResult);\n",
       "            }\n",
       "            return messages.next().then(processIteratorResult);\n",
       "          }\n",
       "        }) \n",
       "        var sendClosure = (data, metadata, buffers, disposeOnDone) => {\n",
       "          return comm_promise.then((comm) => {\n",
       "            comm.send(data, metadata, buffers, disposeOnDone);\n",
       "          });\n",
       "        };\n",
       "        var comm = {\n",
       "          send: sendClosure\n",
       "        };\n",
       "      }\n",
       "      window.PyViz.comms[comm_id] = comm;\n",
       "      return comm;\n",
       "    }\n",
       "    window.PyViz.comm_manager = new JupyterCommManager();\n",
       "    \n",
       "\n",
       "\n",
       "var JS_MIME_TYPE = 'application/javascript';\n",
       "var HTML_MIME_TYPE = 'text/html';\n",
       "var EXEC_MIME_TYPE = 'application/vnd.holoviews_exec.v0+json';\n",
       "var CLASS_NAME = 'output';\n",
       "\n",
       "/**\n",
       " * Render data to the DOM node\n",
       " */\n",
       "function render(props, node) {\n",
       "  var div = document.createElement(\"div\");\n",
       "  var script = document.createElement(\"script\");\n",
       "  node.appendChild(div);\n",
       "  node.appendChild(script);\n",
       "}\n",
       "\n",
       "/**\n",
       " * Handle when a new output is added\n",
       " */\n",
       "function handle_add_output(event, handle) {\n",
       "  var output_area = handle.output_area;\n",
       "  var output = handle.output;\n",
       "  if ((output.data == undefined) || (!output.data.hasOwnProperty(EXEC_MIME_TYPE))) {\n",
       "    return\n",
       "  }\n",
       "  var id = output.metadata[EXEC_MIME_TYPE][\"id\"];\n",
       "  var toinsert = output_area.element.find(\".\" + CLASS_NAME.split(' ')[0]);\n",
       "  if (id !== undefined) {\n",
       "    var nchildren = toinsert.length;\n",
       "    var html_node = toinsert[nchildren-1].children[0];\n",
       "    html_node.innerHTML = output.data[HTML_MIME_TYPE];\n",
       "    var scripts = [];\n",
       "    var nodelist = html_node.querySelectorAll(\"script\");\n",
       "    for (var i in nodelist) {\n",
       "      if (nodelist.hasOwnProperty(i)) {\n",
       "        scripts.push(nodelist[i])\n",
       "      }\n",
       "    }\n",
       "\n",
       "    scripts.forEach( function (oldScript) {\n",
       "      var newScript = document.createElement(\"script\");\n",
       "      var attrs = [];\n",
       "      var nodemap = oldScript.attributes;\n",
       "      for (var j in nodemap) {\n",
       "        if (nodemap.hasOwnProperty(j)) {\n",
       "          attrs.push(nodemap[j])\n",
       "        }\n",
       "      }\n",
       "      attrs.forEach(function(attr) { newScript.setAttribute(attr.name, attr.value) });\n",
       "      newScript.appendChild(document.createTextNode(oldScript.innerHTML));\n",
       "      oldScript.parentNode.replaceChild(newScript, oldScript);\n",
       "    });\n",
       "    if (JS_MIME_TYPE in output.data) {\n",
       "      toinsert[nchildren-1].children[1].textContent = output.data[JS_MIME_TYPE];\n",
       "    }\n",
       "    output_area._hv_plot_id = id;\n",
       "    if ((window.Bokeh !== undefined) && (id in Bokeh.index)) {\n",
       "      window.PyViz.plot_index[id] = Bokeh.index[id];\n",
       "    } else {\n",
       "      window.PyViz.plot_index[id] = null;\n",
       "    }\n",
       "  } else if (output.metadata[EXEC_MIME_TYPE][\"server_id\"] !== undefined) {\n",
       "    var bk_div = document.createElement(\"div\");\n",
       "    bk_div.innerHTML = output.data[HTML_MIME_TYPE];\n",
       "    var script_attrs = bk_div.children[0].attributes;\n",
       "    for (var i = 0; i < script_attrs.length; i++) {\n",
       "      toinsert[toinsert.length - 1].childNodes[1].setAttribute(script_attrs[i].name, script_attrs[i].value);\n",
       "    }\n",
       "    // store reference to server id on output_area\n",
       "    output_area._bokeh_server_id = output.metadata[EXEC_MIME_TYPE][\"server_id\"];\n",
       "  }\n",
       "}\n",
       "\n",
       "/**\n",
       " * Handle when an output is cleared or removed\n",
       " */\n",
       "function handle_clear_output(event, handle) {\n",
       "  var id = handle.cell.output_area._hv_plot_id;\n",
       "  var server_id = handle.cell.output_area._bokeh_server_id;\n",
       "  if (((id === undefined) || !(id in PyViz.plot_index)) && (server_id !== undefined)) { return; }\n",
       "  var comm = window.PyViz.comm_manager.get_client_comm(\"hv-extension-comm\", \"hv-extension-comm\", function () {});\n",
       "  if (server_id !== null) {\n",
       "    comm.send({event_type: 'server_delete', 'id': server_id});\n",
       "    return;\n",
       "  } else if (comm !== null) {\n",
       "    comm.send({event_type: 'delete', 'id': id});\n",
       "  }\n",
       "  delete PyViz.plot_index[id];\n",
       "  if ((window.Bokeh !== undefined) & (id in window.Bokeh.index)) {\n",
       "    var doc = window.Bokeh.index[id].model.document\n",
       "    doc.clear();\n",
       "    const i = window.Bokeh.documents.indexOf(doc);\n",
       "    if (i > -1) {\n",
       "      window.Bokeh.documents.splice(i, 1);\n",
       "    }\n",
       "  }\n",
       "}\n",
       "\n",
       "/**\n",
       " * Handle kernel restart event\n",
       " */\n",
       "function handle_kernel_cleanup(event, handle) {\n",
       "  delete PyViz.comms[\"hv-extension-comm\"];\n",
       "  window.PyViz.plot_index = {}\n",
       "}\n",
       "\n",
       "/**\n",
       " * Handle update_display_data messages\n",
       " */\n",
       "function handle_update_output(event, handle) {\n",
       "  handle_clear_output(event, {cell: {output_area: handle.output_area}})\n",
       "  handle_add_output(event, handle)\n",
       "}\n",
       "\n",
       "function register_renderer(events, OutputArea) {\n",
       "  function append_mime(data, metadata, element) {\n",
       "    // create a DOM node to render to\n",
       "    var toinsert = this.create_output_subarea(\n",
       "    metadata,\n",
       "    CLASS_NAME,\n",
       "    EXEC_MIME_TYPE\n",
       "    );\n",
       "    this.keyboard_manager.register_events(toinsert);\n",
       "    // Render to node\n",
       "    var props = {data: data, metadata: metadata[EXEC_MIME_TYPE]};\n",
       "    render(props, toinsert[0]);\n",
       "    element.append(toinsert);\n",
       "    return toinsert\n",
       "  }\n",
       "\n",
       "  events.on('output_added.OutputArea', handle_add_output);\n",
       "  events.on('output_updated.OutputArea', handle_update_output);\n",
       "  events.on('clear_output.CodeCell', handle_clear_output);\n",
       "  events.on('delete.Cell', handle_clear_output);\n",
       "  events.on('kernel_ready.Kernel', handle_kernel_cleanup);\n",
       "\n",
       "  OutputArea.prototype.register_mime_type(EXEC_MIME_TYPE, append_mime, {\n",
       "    safe: true,\n",
       "    index: 0\n",
       "  });\n",
       "}\n",
       "\n",
       "if (window.Jupyter !== undefined) {\n",
       "  try {\n",
       "    var events = require('base/js/events');\n",
       "    var OutputArea = require('notebook/js/outputarea').OutputArea;\n",
       "    if (OutputArea.prototype.mime_types().indexOf(EXEC_MIME_TYPE) == -1) {\n",
       "      register_renderer(events, OutputArea);\n",
       "    }\n",
       "  } catch(err) {\n",
       "  }\n",
       "}\n"
      ],
      "application/vnd.holoviews_load.v0+json": "\nif ((window.PyViz === undefined) || (window.PyViz instanceof HTMLElement)) {\n  window.PyViz = {comms: {}, comm_status:{}, kernels:{}, receivers: {}, plot_index: []}\n}\n\n\n    function JupyterCommManager() {\n    }\n\n    JupyterCommManager.prototype.register_target = function(plot_id, comm_id, msg_handler) {\n      if (window.comm_manager || ((window.Jupyter !== undefined) && (Jupyter.notebook.kernel != null))) {\n        var comm_manager = window.comm_manager || Jupyter.notebook.kernel.comm_manager;\n        comm_manager.register_target(comm_id, function(comm) {\n          comm.on_msg(msg_handler);\n        });\n      } else if ((plot_id in window.PyViz.kernels) && (window.PyViz.kernels[plot_id])) {\n        window.PyViz.kernels[plot_id].registerCommTarget(comm_id, function(comm) {\n          comm.onMsg = msg_handler;\n        });\n      } else if (typeof google != 'undefined' && google.colab.kernel != null) {\n        google.colab.kernel.comms.registerTarget(comm_id, (comm) => {\n          var messages = comm.messages[Symbol.asyncIterator]();\n          function processIteratorResult(result) {\n            var message = result.value;\n            console.log(message)\n            var content = {data: message.data, comm_id};\n            var buffers = []\n            for (var buffer of message.buffers || []) {\n              buffers.push(new DataView(buffer))\n            }\n            var metadata = message.metadata || {};\n            var msg = {content, buffers, metadata}\n            msg_handler(msg);\n            return messages.next().then(processIteratorResult);\n          }\n          return messages.next().then(processIteratorResult);\n        })\n      }\n    }\n\n    JupyterCommManager.prototype.get_client_comm = function(plot_id, comm_id, msg_handler) {\n      if (comm_id in window.PyViz.comms) {\n        return window.PyViz.comms[comm_id];\n      } else if (window.comm_manager || ((window.Jupyter !== undefined) && (Jupyter.notebook.kernel != null))) {\n        var comm_manager = window.comm_manager || Jupyter.notebook.kernel.comm_manager;\n        var comm = comm_manager.new_comm(comm_id, {}, {}, {}, comm_id);\n        if (msg_handler) {\n          comm.on_msg(msg_handler);\n        }\n      } else if ((plot_id in window.PyViz.kernels) && (window.PyViz.kernels[plot_id])) {\n        var comm = window.PyViz.kernels[plot_id].connectToComm(comm_id);\n        comm.open();\n        if (msg_handler) {\n          comm.onMsg = msg_handler;\n        }\n      } else if (typeof google != 'undefined' && google.colab.kernel != null) {\n        var comm_promise = google.colab.kernel.comms.open(comm_id)\n        comm_promise.then((comm) => {\n          window.PyViz.comms[comm_id] = comm;\n          if (msg_handler) {\n            var messages = comm.messages[Symbol.asyncIterator]();\n            function processIteratorResult(result) {\n              var message = result.value;\n              var content = {data: message.data};\n              var metadata = message.metadata || {comm_id};\n              var msg = {content, metadata}\n              msg_handler(msg);\n              return messages.next().then(processIteratorResult);\n            }\n            return messages.next().then(processIteratorResult);\n          }\n        }) \n        var sendClosure = (data, metadata, buffers, disposeOnDone) => {\n          return comm_promise.then((comm) => {\n            comm.send(data, metadata, buffers, disposeOnDone);\n          });\n        };\n        var comm = {\n          send: sendClosure\n        };\n      }\n      window.PyViz.comms[comm_id] = comm;\n      return comm;\n    }\n    window.PyViz.comm_manager = new JupyterCommManager();\n    \n\n\nvar JS_MIME_TYPE = 'application/javascript';\nvar HTML_MIME_TYPE = 'text/html';\nvar EXEC_MIME_TYPE = 'application/vnd.holoviews_exec.v0+json';\nvar CLASS_NAME = 'output';\n\n/**\n * Render data to the DOM node\n */\nfunction render(props, node) {\n  var div = document.createElement(\"div\");\n  var script = document.createElement(\"script\");\n  node.appendChild(div);\n  node.appendChild(script);\n}\n\n/**\n * Handle when a new output is added\n */\nfunction handle_add_output(event, handle) {\n  var output_area = handle.output_area;\n  var output = handle.output;\n  if ((output.data == undefined) || (!output.data.hasOwnProperty(EXEC_MIME_TYPE))) {\n    return\n  }\n  var id = output.metadata[EXEC_MIME_TYPE][\"id\"];\n  var toinsert = output_area.element.find(\".\" + CLASS_NAME.split(' ')[0]);\n  if (id !== undefined) {\n    var nchildren = toinsert.length;\n    var html_node = toinsert[nchildren-1].children[0];\n    html_node.innerHTML = output.data[HTML_MIME_TYPE];\n    var scripts = [];\n    var nodelist = html_node.querySelectorAll(\"script\");\n    for (var i in nodelist) {\n      if (nodelist.hasOwnProperty(i)) {\n        scripts.push(nodelist[i])\n      }\n    }\n\n    scripts.forEach( function (oldScript) {\n      var newScript = document.createElement(\"script\");\n      var attrs = [];\n      var nodemap = oldScript.attributes;\n      for (var j in nodemap) {\n        if (nodemap.hasOwnProperty(j)) {\n          attrs.push(nodemap[j])\n        }\n      }\n      attrs.forEach(function(attr) { newScript.setAttribute(attr.name, attr.value) });\n      newScript.appendChild(document.createTextNode(oldScript.innerHTML));\n      oldScript.parentNode.replaceChild(newScript, oldScript);\n    });\n    if (JS_MIME_TYPE in output.data) {\n      toinsert[nchildren-1].children[1].textContent = output.data[JS_MIME_TYPE];\n    }\n    output_area._hv_plot_id = id;\n    if ((window.Bokeh !== undefined) && (id in Bokeh.index)) {\n      window.PyViz.plot_index[id] = Bokeh.index[id];\n    } else {\n      window.PyViz.plot_index[id] = null;\n    }\n  } else if (output.metadata[EXEC_MIME_TYPE][\"server_id\"] !== undefined) {\n    var bk_div = document.createElement(\"div\");\n    bk_div.innerHTML = output.data[HTML_MIME_TYPE];\n    var script_attrs = bk_div.children[0].attributes;\n    for (var i = 0; i < script_attrs.length; i++) {\n      toinsert[toinsert.length - 1].childNodes[1].setAttribute(script_attrs[i].name, script_attrs[i].value);\n    }\n    // store reference to server id on output_area\n    output_area._bokeh_server_id = output.metadata[EXEC_MIME_TYPE][\"server_id\"];\n  }\n}\n\n/**\n * Handle when an output is cleared or removed\n */\nfunction handle_clear_output(event, handle) {\n  var id = handle.cell.output_area._hv_plot_id;\n  var server_id = handle.cell.output_area._bokeh_server_id;\n  if (((id === undefined) || !(id in PyViz.plot_index)) && (server_id !== undefined)) { return; }\n  var comm = window.PyViz.comm_manager.get_client_comm(\"hv-extension-comm\", \"hv-extension-comm\", function () {});\n  if (server_id !== null) {\n    comm.send({event_type: 'server_delete', 'id': server_id});\n    return;\n  } else if (comm !== null) {\n    comm.send({event_type: 'delete', 'id': id});\n  }\n  delete PyViz.plot_index[id];\n  if ((window.Bokeh !== undefined) & (id in window.Bokeh.index)) {\n    var doc = window.Bokeh.index[id].model.document\n    doc.clear();\n    const i = window.Bokeh.documents.indexOf(doc);\n    if (i > -1) {\n      window.Bokeh.documents.splice(i, 1);\n    }\n  }\n}\n\n/**\n * Handle kernel restart event\n */\nfunction handle_kernel_cleanup(event, handle) {\n  delete PyViz.comms[\"hv-extension-comm\"];\n  window.PyViz.plot_index = {}\n}\n\n/**\n * Handle update_display_data messages\n */\nfunction handle_update_output(event, handle) {\n  handle_clear_output(event, {cell: {output_area: handle.output_area}})\n  handle_add_output(event, handle)\n}\n\nfunction register_renderer(events, OutputArea) {\n  function append_mime(data, metadata, element) {\n    // create a DOM node to render to\n    var toinsert = this.create_output_subarea(\n    metadata,\n    CLASS_NAME,\n    EXEC_MIME_TYPE\n    );\n    this.keyboard_manager.register_events(toinsert);\n    // Render to node\n    var props = {data: data, metadata: metadata[EXEC_MIME_TYPE]};\n    render(props, toinsert[0]);\n    element.append(toinsert);\n    return toinsert\n  }\n\n  events.on('output_added.OutputArea', handle_add_output);\n  events.on('output_updated.OutputArea', handle_update_output);\n  events.on('clear_output.CodeCell', handle_clear_output);\n  events.on('delete.Cell', handle_clear_output);\n  events.on('kernel_ready.Kernel', handle_kernel_cleanup);\n\n  OutputArea.prototype.register_mime_type(EXEC_MIME_TYPE, append_mime, {\n    safe: true,\n    index: 0\n  });\n}\n\nif (window.Jupyter !== undefined) {\n  try {\n    var events = require('base/js/events');\n    var OutputArea = require('notebook/js/outputarea').OutputArea;\n    if (OutputArea.prototype.mime_types().indexOf(EXEC_MIME_TYPE) == -1) {\n      register_renderer(events, OutputArea);\n    }\n  } catch(err) {\n  }\n}\n"
     },
     "metadata": {},
     "output_type": "display_data"
    },
    {
     "data": {
      "text/html": [
       "<style>*[data-root-id],\n",
       "*[data-root-id] > * {\n",
       "  box-sizing: border-box;\n",
       "  font-family: var(--jp-ui-font-family);\n",
       "  font-size: var(--jp-ui-font-size1);\n",
       "  color: var(--vscode-editor-foreground, var(--jp-ui-font-color1));\n",
       "}\n",
       "\n",
       "/* Override VSCode background color */\n",
       ".cell-output-ipywidget-background:has(\n",
       "    > .cell-output-ipywidget-background > .lm-Widget > *[data-root-id]\n",
       "  ),\n",
       ".cell-output-ipywidget-background:has(> .lm-Widget > *[data-root-id]) {\n",
       "  background-color: transparent !important;\n",
       "}\n",
       "</style>"
      ]
     },
     "metadata": {},
     "output_type": "display_data"
    },
    {
     "data": {
      "application/vnd.holoviews_exec.v0+json": "",
      "text/html": [
       "<div id='p1002'>\n",
       "  <div id=\"e2e7363e-8c48-419c-91da-3b30e5803b0a\" data-root-id=\"p1002\" style=\"display: contents;\"></div>\n",
       "</div>\n",
       "<script type=\"application/javascript\">(function(root) {\n",
       "  var docs_json = {\"82fc9ac0-cadd-414d-871c-4ad66a779956\":{\"version\":\"3.4.2\",\"title\":\"Bokeh Application\",\"roots\":[{\"type\":\"object\",\"name\":\"panel.models.browser.BrowserInfo\",\"id\":\"p1002\"},{\"type\":\"object\",\"name\":\"panel.models.comm_manager.CommManager\",\"id\":\"p1003\",\"attributes\":{\"plot_id\":\"p1002\",\"comm_id\":\"ffc15699508a4776a98324673c923cbf\",\"client_comm_id\":\"eb7b1eb8bf8142769bca97d315fb216a\"}}],\"defs\":[{\"type\":\"model\",\"name\":\"ReactiveHTML1\"},{\"type\":\"model\",\"name\":\"FlexBox1\",\"properties\":[{\"name\":\"align_content\",\"kind\":\"Any\",\"default\":\"flex-start\"},{\"name\":\"align_items\",\"kind\":\"Any\",\"default\":\"flex-start\"},{\"name\":\"flex_direction\",\"kind\":\"Any\",\"default\":\"row\"},{\"name\":\"flex_wrap\",\"kind\":\"Any\",\"default\":\"wrap\"},{\"name\":\"gap\",\"kind\":\"Any\",\"default\":\"\"},{\"name\":\"justify_content\",\"kind\":\"Any\",\"default\":\"flex-start\"}]},{\"type\":\"model\",\"name\":\"FloatPanel1\",\"properties\":[{\"name\":\"config\",\"kind\":\"Any\",\"default\":{\"type\":\"map\"}},{\"name\":\"contained\",\"kind\":\"Any\",\"default\":true},{\"name\":\"position\",\"kind\":\"Any\",\"default\":\"right-top\"},{\"name\":\"offsetx\",\"kind\":\"Any\",\"default\":null},{\"name\":\"offsety\",\"kind\":\"Any\",\"default\":null},{\"name\":\"theme\",\"kind\":\"Any\",\"default\":\"primary\"},{\"name\":\"status\",\"kind\":\"Any\",\"default\":\"normalized\"}]},{\"type\":\"model\",\"name\":\"GridStack1\",\"properties\":[{\"name\":\"mode\",\"kind\":\"Any\",\"default\":\"warn\"},{\"name\":\"ncols\",\"kind\":\"Any\",\"default\":null},{\"name\":\"nrows\",\"kind\":\"Any\",\"default\":null},{\"name\":\"allow_resize\",\"kind\":\"Any\",\"default\":true},{\"name\":\"allow_drag\",\"kind\":\"Any\",\"default\":true},{\"name\":\"state\",\"kind\":\"Any\",\"default\":[]}]},{\"type\":\"model\",\"name\":\"drag1\",\"properties\":[{\"name\":\"slider_width\",\"kind\":\"Any\",\"default\":5},{\"name\":\"slider_color\",\"kind\":\"Any\",\"default\":\"black\"},{\"name\":\"value\",\"kind\":\"Any\",\"default\":50}]},{\"type\":\"model\",\"name\":\"click1\",\"properties\":[{\"name\":\"terminal_output\",\"kind\":\"Any\",\"default\":\"\"},{\"name\":\"debug_name\",\"kind\":\"Any\",\"default\":\"\"},{\"name\":\"clears\",\"kind\":\"Any\",\"default\":0}]},{\"type\":\"model\",\"name\":\"FastWrapper1\",\"properties\":[{\"name\":\"object\",\"kind\":\"Any\",\"default\":null},{\"name\":\"style\",\"kind\":\"Any\",\"default\":null}]},{\"type\":\"model\",\"name\":\"NotificationAreaBase1\",\"properties\":[{\"name\":\"js_events\",\"kind\":\"Any\",\"default\":{\"type\":\"map\"}},{\"name\":\"position\",\"kind\":\"Any\",\"default\":\"bottom-right\"},{\"name\":\"_clear\",\"kind\":\"Any\",\"default\":0}]},{\"type\":\"model\",\"name\":\"NotificationArea1\",\"properties\":[{\"name\":\"js_events\",\"kind\":\"Any\",\"default\":{\"type\":\"map\"}},{\"name\":\"notifications\",\"kind\":\"Any\",\"default\":[]},{\"name\":\"position\",\"kind\":\"Any\",\"default\":\"bottom-right\"},{\"name\":\"_clear\",\"kind\":\"Any\",\"default\":0},{\"name\":\"types\",\"kind\":\"Any\",\"default\":[{\"type\":\"map\",\"entries\":[[\"type\",\"warning\"],[\"background\",\"#ffc107\"],[\"icon\",{\"type\":\"map\",\"entries\":[[\"className\",\"fas fa-exclamation-triangle\"],[\"tagName\",\"i\"],[\"color\",\"white\"]]}]]},{\"type\":\"map\",\"entries\":[[\"type\",\"info\"],[\"background\",\"#007bff\"],[\"icon\",{\"type\":\"map\",\"entries\":[[\"className\",\"fas fa-info-circle\"],[\"tagName\",\"i\"],[\"color\",\"white\"]]}]]}]}]},{\"type\":\"model\",\"name\":\"Notification\",\"properties\":[{\"name\":\"background\",\"kind\":\"Any\",\"default\":null},{\"name\":\"duration\",\"kind\":\"Any\",\"default\":3000},{\"name\":\"icon\",\"kind\":\"Any\",\"default\":null},{\"name\":\"message\",\"kind\":\"Any\",\"default\":\"\"},{\"name\":\"notification_type\",\"kind\":\"Any\",\"default\":null},{\"name\":\"_destroyed\",\"kind\":\"Any\",\"default\":false}]},{\"type\":\"model\",\"name\":\"TemplateActions1\",\"properties\":[{\"name\":\"open_modal\",\"kind\":\"Any\",\"default\":0},{\"name\":\"close_modal\",\"kind\":\"Any\",\"default\":0}]},{\"type\":\"model\",\"name\":\"BootstrapTemplateActions1\",\"properties\":[{\"name\":\"open_modal\",\"kind\":\"Any\",\"default\":0},{\"name\":\"close_modal\",\"kind\":\"Any\",\"default\":0}]},{\"type\":\"model\",\"name\":\"TemplateEditor1\",\"properties\":[{\"name\":\"layout\",\"kind\":\"Any\",\"default\":[]}]},{\"type\":\"model\",\"name\":\"MaterialTemplateActions1\",\"properties\":[{\"name\":\"open_modal\",\"kind\":\"Any\",\"default\":0},{\"name\":\"close_modal\",\"kind\":\"Any\",\"default\":0}]},{\"type\":\"model\",\"name\":\"copy_to_clipboard1\",\"properties\":[{\"name\":\"fill\",\"kind\":\"Any\",\"default\":\"none\"},{\"name\":\"value\",\"kind\":\"Any\",\"default\":null}]}]}};\n",
       "  var render_items = [{\"docid\":\"82fc9ac0-cadd-414d-871c-4ad66a779956\",\"roots\":{\"p1002\":\"e2e7363e-8c48-419c-91da-3b30e5803b0a\"},\"root_ids\":[\"p1002\"]}];\n",
       "  var docs = Object.values(docs_json)\n",
       "  if (!docs) {\n",
       "    return\n",
       "  }\n",
       "  const py_version = docs[0].version.replace('rc', '-rc.').replace('.dev', '-dev.')\n",
       "  async function embed_document(root) {\n",
       "    var Bokeh = get_bokeh(root)\n",
       "    await Bokeh.embed.embed_items_notebook(docs_json, render_items);\n",
       "    for (const render_item of render_items) {\n",
       "      for (const root_id of render_item.root_ids) {\n",
       "\tconst id_el = document.getElementById(root_id)\n",
       "\tif (id_el.children.length && id_el.children[0].hasAttribute('data-root-id')) {\n",
       "\t  const root_el = id_el.children[0]\n",
       "\t  root_el.id = root_el.id + '-rendered'\n",
       "\t  for (const child of root_el.children) {\n",
       "            // Ensure JupyterLab does not capture keyboard shortcuts\n",
       "            // see: https://jupyterlab.readthedocs.io/en/4.1.x/extension/notebook.html#keyboard-interaction-model\n",
       "\t    child.setAttribute('data-lm-suppress-shortcuts', 'true')\n",
       "\t  }\n",
       "\t}\n",
       "      }\n",
       "    }\n",
       "  }\n",
       "  function get_bokeh(root) {\n",
       "    if (root.Bokeh === undefined) {\n",
       "      return null\n",
       "    } else if (root.Bokeh.version !== py_version) {\n",
       "      if (root.Bokeh.versions === undefined || !root.Bokeh.versions.has(py_version)) {\n",
       "\treturn null\n",
       "      }\n",
       "      return root.Bokeh.versions.get(py_version);\n",
       "    } else if (root.Bokeh.version === py_version) {\n",
       "      return root.Bokeh\n",
       "    }\n",
       "    return null\n",
       "  }\n",
       "  function is_loaded(root) {\n",
       "    var Bokeh = get_bokeh(root)\n",
       "    return (Bokeh != null && Bokeh.Panel !== undefined)\n",
       "  }\n",
       "  if (is_loaded(root)) {\n",
       "    embed_document(root);\n",
       "  } else {\n",
       "    var attempts = 0;\n",
       "    var timer = setInterval(function(root) {\n",
       "      if (is_loaded(root)) {\n",
       "        clearInterval(timer);\n",
       "        embed_document(root);\n",
       "      } else if (document.readyState == \"complete\") {\n",
       "        attempts++;\n",
       "        if (attempts > 200) {\n",
       "          clearInterval(timer);\n",
       "\t  var Bokeh = get_bokeh(root)\n",
       "\t  if (Bokeh == null || Bokeh.Panel == null) {\n",
       "            console.warn(\"Panel: ERROR: Unable to run Panel code because Bokeh or Panel library is missing\");\n",
       "\t  } else {\n",
       "\t    console.warn(\"Panel: WARNING: Attempting to render but not all required libraries could be resolved.\")\n",
       "\t    embed_document(root)\n",
       "\t  }\n",
       "        }\n",
       "      }\n",
       "    }, 25, root)\n",
       "  }\n",
       "})(window);</script>"
      ]
     },
     "metadata": {
      "application/vnd.holoviews_exec.v0+json": {
       "id": "p1002"
      }
     },
     "output_type": "display_data"
    }
   ],
   "source": [
    "import hvplot.polars"
   ]
  },
  {
   "cell_type": "code",
   "execution_count": 184,
   "id": "25df41f9-cb76-4002-a65c-b5439b1c0ecd",
   "metadata": {},
   "outputs": [],
   "source": [
    "ts = pl.select(\n",
    "    index=pl.datetime(2000, 1, 1) + pl.duration(days=pl.int_range(1000)),\n",
    "    value=np.random.randn(1000)\n",
    ")\n",
    "ts = ts.with_columns(pl.col('value').cum_sum())"
   ]
  },
  {
   "cell_type": "code",
   "execution_count": 186,
   "id": "181b931f-441b-493b-ac3d-bad0b470f0cd",
   "metadata": {},
   "outputs": [
    {
     "data": {},
     "metadata": {},
     "output_type": "display_data"
    },
    {
     "data": {
      "application/vnd.holoviews_exec.v0+json": "",
      "text/html": [
       "<div id='p1004'>\n",
       "  <div id=\"d7516837-d131-49bf-a0e7-5258d86fc304\" data-root-id=\"p1004\" style=\"display: contents;\"></div>\n",
       "</div>\n",
       "<script type=\"application/javascript\">(function(root) {\n",
       "  var docs_json = {\"5ab31057-4d2e-4f72-bf56-ef6a9228a4cd\":{\"version\":\"3.4.2\",\"title\":\"Bokeh Application\",\"roots\":[{\"type\":\"object\",\"name\":\"Row\",\"id\":\"p1004\",\"attributes\":{\"name\":\"Row00938\",\"tags\":[\"embedded\"],\"stylesheets\":[\"\\n:host(.pn-loading):before, .pn-loading:before {\\n  background-color: #c3c3c3;\\n  mask-size: auto calc(min(50%, 400px));\\n  -webkit-mask-size: auto calc(min(50%, 400px));\\n}\",{\"type\":\"object\",\"name\":\"ImportedStyleSheet\",\"id\":\"p1007\",\"attributes\":{\"url\":\"https://cdn.holoviz.org/panel/1.4.4/dist/css/loading.css\"}},{\"type\":\"object\",\"name\":\"ImportedStyleSheet\",\"id\":\"p1075\",\"attributes\":{\"url\":\"https://cdn.holoviz.org/panel/1.4.4/dist/css/listpanel.css\"}},{\"type\":\"object\",\"name\":\"ImportedStyleSheet\",\"id\":\"p1005\",\"attributes\":{\"url\":\"https://cdn.holoviz.org/panel/1.4.4/dist/bundled/theme/default.css\"}},{\"type\":\"object\",\"name\":\"ImportedStyleSheet\",\"id\":\"p1006\",\"attributes\":{\"url\":\"https://cdn.holoviz.org/panel/1.4.4/dist/bundled/theme/native.css\"}}],\"min_width\":700,\"margin\":0,\"sizing_mode\":\"stretch_width\",\"align\":\"start\",\"children\":[{\"type\":\"object\",\"name\":\"Spacer\",\"id\":\"p1008\",\"attributes\":{\"name\":\"HSpacer00945\",\"stylesheets\":[\"\\n:host(.pn-loading):before, .pn-loading:before {\\n  background-color: #c3c3c3;\\n  mask-size: auto calc(min(50%, 400px));\\n  -webkit-mask-size: auto calc(min(50%, 400px));\\n}\",{\"id\":\"p1007\"},{\"id\":\"p1005\"},{\"id\":\"p1006\"}],\"margin\":0,\"sizing_mode\":\"stretch_width\",\"align\":\"start\"}},{\"type\":\"object\",\"name\":\"Figure\",\"id\":\"p1016\",\"attributes\":{\"width\":700,\"height\":300,\"margin\":[5,10],\"sizing_mode\":\"fixed\",\"align\":\"start\",\"x_range\":{\"type\":\"object\",\"name\":\"Range1d\",\"id\":\"p1009\",\"attributes\":{\"tags\":[[[\"index\",null]],[]],\"start\":946684800000.0,\"end\":1032998400000.0,\"reset_start\":946684800000.0,\"reset_end\":1032998400000.0}},\"y_range\":{\"type\":\"object\",\"name\":\"Range1d\",\"id\":\"p1010\",\"attributes\":{\"tags\":[[[\"value\",null]],{\"type\":\"map\",\"entries\":[[\"invert_yaxis\",false],[\"autorange\",false]]}],\"start\":-19.829511370799406,\"end\":14.19175337130723,\"reset_start\":-19.829511370799406,\"reset_end\":14.19175337130723}},\"x_scale\":{\"type\":\"object\",\"name\":\"LinearScale\",\"id\":\"p1026\"},\"y_scale\":{\"type\":\"object\",\"name\":\"LinearScale\",\"id\":\"p1027\"},\"title\":{\"type\":\"object\",\"name\":\"Title\",\"id\":\"p1019\",\"attributes\":{\"text_color\":\"black\",\"text_font_size\":\"12pt\"}},\"renderers\":[{\"type\":\"object\",\"name\":\"GlyphRenderer\",\"id\":\"p1068\",\"attributes\":{\"data_source\":{\"type\":\"object\",\"name\":\"ColumnDataSource\",\"id\":\"p1059\",\"attributes\":{\"selected\":{\"type\":\"object\",\"name\":\"Selection\",\"id\":\"p1060\",\"attributes\":{\"indices\":[],\"line_indices\":[]}},\"selection_policy\":{\"type\":\"object\",\"name\":\"UnionRenderers\",\"id\":\"p1061\"},\"data\":{\"type\":\"map\",\"entries\":[[\"index\",{\"type\":\"ndarray\",\"array\":{\"type\":\"bytes\",\"data\":\"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\"},\"shape\":[1000],\"dtype\":\"float64\",\"order\":\"little\"}],[\"value\",{\"type\":\"ndarray\",\"array\":{\"type\":\"bytes\",\"data\":\"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\"},\"shape\":[1000],\"dtype\":\"float64\",\"order\":\"little\"}]]}}},\"view\":{\"type\":\"object\",\"name\":\"CDSView\",\"id\":\"p1069\",\"attributes\":{\"filter\":{\"type\":\"object\",\"name\":\"AllIndices\",\"id\":\"p1070\"}}},\"glyph\":{\"type\":\"object\",\"name\":\"Line\",\"id\":\"p1065\",\"attributes\":{\"tags\":[\"apply_ranges\"],\"x\":{\"type\":\"field\",\"field\":\"index\"},\"y\":{\"type\":\"field\",\"field\":\"value\"},\"line_color\":\"#30a2da\",\"line_width\":2}},\"selection_glyph\":{\"type\":\"object\",\"name\":\"Line\",\"id\":\"p1071\",\"attributes\":{\"tags\":[\"apply_ranges\"],\"x\":{\"type\":\"field\",\"field\":\"index\"},\"y\":{\"type\":\"field\",\"field\":\"value\"},\"line_color\":\"#30a2da\",\"line_width\":2}},\"nonselection_glyph\":{\"type\":\"object\",\"name\":\"Line\",\"id\":\"p1066\",\"attributes\":{\"tags\":[\"apply_ranges\"],\"x\":{\"type\":\"field\",\"field\":\"index\"},\"y\":{\"type\":\"field\",\"field\":\"value\"},\"line_color\":\"#30a2da\",\"line_alpha\":0.1,\"line_width\":2}},\"muted_glyph\":{\"type\":\"object\",\"name\":\"Line\",\"id\":\"p1067\",\"attributes\":{\"tags\":[\"apply_ranges\"],\"x\":{\"type\":\"field\",\"field\":\"index\"},\"y\":{\"type\":\"field\",\"field\":\"value\"},\"line_color\":\"#30a2da\",\"line_alpha\":0.2,\"line_width\":2}}}}],\"toolbar\":{\"type\":\"object\",\"name\":\"Toolbar\",\"id\":\"p1025\",\"attributes\":{\"tools\":[{\"type\":\"object\",\"name\":\"WheelZoomTool\",\"id\":\"p1014\",\"attributes\":{\"tags\":[\"hv_created\"],\"renderers\":\"auto\",\"zoom_together\":\"none\"}},{\"type\":\"object\",\"name\":\"HoverTool\",\"id\":\"p1015\",\"attributes\":{\"tags\":[\"hv_created\"],\"renderers\":[{\"id\":\"p1068\"}],\"tooltips\":[[\"index\",\"@{index}{%F %T}\"],[\"value\",\"@{value}\"]],\"formatters\":{\"type\":\"map\",\"entries\":[[\"@{index}\",\"datetime\"]]}}},{\"type\":\"object\",\"name\":\"SaveTool\",\"id\":\"p1050\"},{\"type\":\"object\",\"name\":\"PanTool\",\"id\":\"p1051\"},{\"type\":\"object\",\"name\":\"BoxZoomTool\",\"id\":\"p1052\",\"attributes\":{\"overlay\":{\"type\":\"object\",\"name\":\"BoxAnnotation\",\"id\":\"p1053\",\"attributes\":{\"syncable\":false,\"level\":\"overlay\",\"visible\":false,\"left\":{\"type\":\"number\",\"value\":\"nan\"},\"right\":{\"type\":\"number\",\"value\":\"nan\"},\"top\":{\"type\":\"number\",\"value\":\"nan\"},\"bottom\":{\"type\":\"number\",\"value\":\"nan\"},\"left_units\":\"canvas\",\"right_units\":\"canvas\",\"top_units\":\"canvas\",\"bottom_units\":\"canvas\",\"line_color\":\"black\",\"line_alpha\":1.0,\"line_width\":2,\"line_dash\":[4,4],\"fill_color\":\"lightgrey\",\"fill_alpha\":0.5}}}},{\"type\":\"object\",\"name\":\"ResetTool\",\"id\":\"p1058\"}],\"active_drag\":{\"id\":\"p1051\"},\"active_scroll\":{\"id\":\"p1014\"}}},\"left\":[{\"type\":\"object\",\"name\":\"LinearAxis\",\"id\":\"p1045\",\"attributes\":{\"ticker\":{\"type\":\"object\",\"name\":\"BasicTicker\",\"id\":\"p1046\",\"attributes\":{\"mantissas\":[1,2,5]}},\"formatter\":{\"type\":\"object\",\"name\":\"BasicTickFormatter\",\"id\":\"p1047\"},\"axis_label\":\"value\",\"major_label_policy\":{\"type\":\"object\",\"name\":\"AllLabels\",\"id\":\"p1048\"}}}],\"below\":[{\"type\":\"object\",\"name\":\"DatetimeAxis\",\"id\":\"p1028\",\"attributes\":{\"ticker\":{\"type\":\"object\",\"name\":\"DatetimeTicker\",\"id\":\"p1029\",\"attributes\":{\"num_minor_ticks\":5,\"tickers\":[{\"type\":\"object\",\"name\":\"AdaptiveTicker\",\"id\":\"p1030\",\"attributes\":{\"num_minor_ticks\":0,\"mantissas\":[1,2,5],\"max_interval\":500.0}},{\"type\":\"object\",\"name\":\"AdaptiveTicker\",\"id\":\"p1031\",\"attributes\":{\"num_minor_ticks\":0,\"base\":60,\"mantissas\":[1,2,5,10,15,20,30],\"min_interval\":1000.0,\"max_interval\":1800000.0}},{\"type\":\"object\",\"name\":\"AdaptiveTicker\",\"id\":\"p1032\",\"attributes\":{\"num_minor_ticks\":0,\"base\":24,\"mantissas\":[1,2,4,6,8,12],\"min_interval\":3600000.0,\"max_interval\":43200000.0}},{\"type\":\"object\",\"name\":\"DaysTicker\",\"id\":\"p1033\",\"attributes\":{\"days\":[1,2,3,4,5,6,7,8,9,10,11,12,13,14,15,16,17,18,19,20,21,22,23,24,25,26,27,28,29,30,31]}},{\"type\":\"object\",\"name\":\"DaysTicker\",\"id\":\"p1034\",\"attributes\":{\"days\":[1,4,7,10,13,16,19,22,25,28]}},{\"type\":\"object\",\"name\":\"DaysTicker\",\"id\":\"p1035\",\"attributes\":{\"days\":[1,8,15,22]}},{\"type\":\"object\",\"name\":\"DaysTicker\",\"id\":\"p1036\",\"attributes\":{\"days\":[1,15]}},{\"type\":\"object\",\"name\":\"MonthsTicker\",\"id\":\"p1037\",\"attributes\":{\"months\":[0,1,2,3,4,5,6,7,8,9,10,11]}},{\"type\":\"object\",\"name\":\"MonthsTicker\",\"id\":\"p1038\",\"attributes\":{\"months\":[0,2,4,6,8,10]}},{\"type\":\"object\",\"name\":\"MonthsTicker\",\"id\":\"p1039\",\"attributes\":{\"months\":[0,4,8]}},{\"type\":\"object\",\"name\":\"MonthsTicker\",\"id\":\"p1040\",\"attributes\":{\"months\":[0,6]}},{\"type\":\"object\",\"name\":\"YearsTicker\",\"id\":\"p1041\"}]}},\"formatter\":{\"type\":\"object\",\"name\":\"DatetimeTickFormatter\",\"id\":\"p1042\"},\"axis_label\":\"\",\"major_label_policy\":{\"type\":\"object\",\"name\":\"AllLabels\",\"id\":\"p1043\"}}}],\"center\":[{\"type\":\"object\",\"name\":\"Grid\",\"id\":\"p1044\",\"attributes\":{\"axis\":{\"id\":\"p1028\"},\"grid_line_color\":null}},{\"type\":\"object\",\"name\":\"Grid\",\"id\":\"p1049\",\"attributes\":{\"dimension\":1,\"axis\":{\"id\":\"p1045\"},\"grid_line_color\":null}}],\"min_border_top\":10,\"min_border_bottom\":10,\"min_border_left\":10,\"min_border_right\":10,\"output_backend\":\"webgl\"}},{\"type\":\"object\",\"name\":\"Spacer\",\"id\":\"p1073\",\"attributes\":{\"name\":\"HSpacer00946\",\"stylesheets\":[\"\\n:host(.pn-loading):before, .pn-loading:before {\\n  background-color: #c3c3c3;\\n  mask-size: auto calc(min(50%, 400px));\\n  -webkit-mask-size: auto calc(min(50%, 400px));\\n}\",{\"id\":\"p1007\"},{\"id\":\"p1005\"},{\"id\":\"p1006\"}],\"margin\":0,\"sizing_mode\":\"stretch_width\",\"align\":\"start\"}}]}}],\"defs\":[{\"type\":\"model\",\"name\":\"ReactiveHTML1\"},{\"type\":\"model\",\"name\":\"FlexBox1\",\"properties\":[{\"name\":\"align_content\",\"kind\":\"Any\",\"default\":\"flex-start\"},{\"name\":\"align_items\",\"kind\":\"Any\",\"default\":\"flex-start\"},{\"name\":\"flex_direction\",\"kind\":\"Any\",\"default\":\"row\"},{\"name\":\"flex_wrap\",\"kind\":\"Any\",\"default\":\"wrap\"},{\"name\":\"gap\",\"kind\":\"Any\",\"default\":\"\"},{\"name\":\"justify_content\",\"kind\":\"Any\",\"default\":\"flex-start\"}]},{\"type\":\"model\",\"name\":\"FloatPanel1\",\"properties\":[{\"name\":\"config\",\"kind\":\"Any\",\"default\":{\"type\":\"map\"}},{\"name\":\"contained\",\"kind\":\"Any\",\"default\":true},{\"name\":\"position\",\"kind\":\"Any\",\"default\":\"right-top\"},{\"name\":\"offsetx\",\"kind\":\"Any\",\"default\":null},{\"name\":\"offsety\",\"kind\":\"Any\",\"default\":null},{\"name\":\"theme\",\"kind\":\"Any\",\"default\":\"primary\"},{\"name\":\"status\",\"kind\":\"Any\",\"default\":\"normalized\"}]},{\"type\":\"model\",\"name\":\"GridStack1\",\"properties\":[{\"name\":\"mode\",\"kind\":\"Any\",\"default\":\"warn\"},{\"name\":\"ncols\",\"kind\":\"Any\",\"default\":null},{\"name\":\"nrows\",\"kind\":\"Any\",\"default\":null},{\"name\":\"allow_resize\",\"kind\":\"Any\",\"default\":true},{\"name\":\"allow_drag\",\"kind\":\"Any\",\"default\":true},{\"name\":\"state\",\"kind\":\"Any\",\"default\":[]}]},{\"type\":\"model\",\"name\":\"drag1\",\"properties\":[{\"name\":\"slider_width\",\"kind\":\"Any\",\"default\":5},{\"name\":\"slider_color\",\"kind\":\"Any\",\"default\":\"black\"},{\"name\":\"value\",\"kind\":\"Any\",\"default\":50}]},{\"type\":\"model\",\"name\":\"click1\",\"properties\":[{\"name\":\"terminal_output\",\"kind\":\"Any\",\"default\":\"\"},{\"name\":\"debug_name\",\"kind\":\"Any\",\"default\":\"\"},{\"name\":\"clears\",\"kind\":\"Any\",\"default\":0}]},{\"type\":\"model\",\"name\":\"FastWrapper1\",\"properties\":[{\"name\":\"object\",\"kind\":\"Any\",\"default\":null},{\"name\":\"style\",\"kind\":\"Any\",\"default\":null}]},{\"type\":\"model\",\"name\":\"NotificationAreaBase1\",\"properties\":[{\"name\":\"js_events\",\"kind\":\"Any\",\"default\":{\"type\":\"map\"}},{\"name\":\"position\",\"kind\":\"Any\",\"default\":\"bottom-right\"},{\"name\":\"_clear\",\"kind\":\"Any\",\"default\":0}]},{\"type\":\"model\",\"name\":\"NotificationArea1\",\"properties\":[{\"name\":\"js_events\",\"kind\":\"Any\",\"default\":{\"type\":\"map\"}},{\"name\":\"notifications\",\"kind\":\"Any\",\"default\":[]},{\"name\":\"position\",\"kind\":\"Any\",\"default\":\"bottom-right\"},{\"name\":\"_clear\",\"kind\":\"Any\",\"default\":0},{\"name\":\"types\",\"kind\":\"Any\",\"default\":[{\"type\":\"map\",\"entries\":[[\"type\",\"warning\"],[\"background\",\"#ffc107\"],[\"icon\",{\"type\":\"map\",\"entries\":[[\"className\",\"fas fa-exclamation-triangle\"],[\"tagName\",\"i\"],[\"color\",\"white\"]]}]]},{\"type\":\"map\",\"entries\":[[\"type\",\"info\"],[\"background\",\"#007bff\"],[\"icon\",{\"type\":\"map\",\"entries\":[[\"className\",\"fas fa-info-circle\"],[\"tagName\",\"i\"],[\"color\",\"white\"]]}]]}]}]},{\"type\":\"model\",\"name\":\"Notification\",\"properties\":[{\"name\":\"background\",\"kind\":\"Any\",\"default\":null},{\"name\":\"duration\",\"kind\":\"Any\",\"default\":3000},{\"name\":\"icon\",\"kind\":\"Any\",\"default\":null},{\"name\":\"message\",\"kind\":\"Any\",\"default\":\"\"},{\"name\":\"notification_type\",\"kind\":\"Any\",\"default\":null},{\"name\":\"_destroyed\",\"kind\":\"Any\",\"default\":false}]},{\"type\":\"model\",\"name\":\"TemplateActions1\",\"properties\":[{\"name\":\"open_modal\",\"kind\":\"Any\",\"default\":0},{\"name\":\"close_modal\",\"kind\":\"Any\",\"default\":0}]},{\"type\":\"model\",\"name\":\"BootstrapTemplateActions1\",\"properties\":[{\"name\":\"open_modal\",\"kind\":\"Any\",\"default\":0},{\"name\":\"close_modal\",\"kind\":\"Any\",\"default\":0}]},{\"type\":\"model\",\"name\":\"TemplateEditor1\",\"properties\":[{\"name\":\"layout\",\"kind\":\"Any\",\"default\":[]}]},{\"type\":\"model\",\"name\":\"MaterialTemplateActions1\",\"properties\":[{\"name\":\"open_modal\",\"kind\":\"Any\",\"default\":0},{\"name\":\"close_modal\",\"kind\":\"Any\",\"default\":0}]},{\"type\":\"model\",\"name\":\"copy_to_clipboard1\",\"properties\":[{\"name\":\"fill\",\"kind\":\"Any\",\"default\":\"none\"},{\"name\":\"value\",\"kind\":\"Any\",\"default\":null}]}]}};\n",
       "  var render_items = [{\"docid\":\"5ab31057-4d2e-4f72-bf56-ef6a9228a4cd\",\"roots\":{\"p1004\":\"d7516837-d131-49bf-a0e7-5258d86fc304\"},\"root_ids\":[\"p1004\"]}];\n",
       "  var docs = Object.values(docs_json)\n",
       "  if (!docs) {\n",
       "    return\n",
       "  }\n",
       "  const py_version = docs[0].version.replace('rc', '-rc.').replace('.dev', '-dev.')\n",
       "  async function embed_document(root) {\n",
       "    var Bokeh = get_bokeh(root)\n",
       "    await Bokeh.embed.embed_items_notebook(docs_json, render_items);\n",
       "    for (const render_item of render_items) {\n",
       "      for (const root_id of render_item.root_ids) {\n",
       "\tconst id_el = document.getElementById(root_id)\n",
       "\tif (id_el.children.length && id_el.children[0].hasAttribute('data-root-id')) {\n",
       "\t  const root_el = id_el.children[0]\n",
       "\t  root_el.id = root_el.id + '-rendered'\n",
       "\t  for (const child of root_el.children) {\n",
       "            // Ensure JupyterLab does not capture keyboard shortcuts\n",
       "            // see: https://jupyterlab.readthedocs.io/en/4.1.x/extension/notebook.html#keyboard-interaction-model\n",
       "\t    child.setAttribute('data-lm-suppress-shortcuts', 'true')\n",
       "\t  }\n",
       "\t}\n",
       "      }\n",
       "    }\n",
       "  }\n",
       "  function get_bokeh(root) {\n",
       "    if (root.Bokeh === undefined) {\n",
       "      return null\n",
       "    } else if (root.Bokeh.version !== py_version) {\n",
       "      if (root.Bokeh.versions === undefined || !root.Bokeh.versions.has(py_version)) {\n",
       "\treturn null\n",
       "      }\n",
       "      return root.Bokeh.versions.get(py_version);\n",
       "    } else if (root.Bokeh.version === py_version) {\n",
       "      return root.Bokeh\n",
       "    }\n",
       "    return null\n",
       "  }\n",
       "  function is_loaded(root) {\n",
       "    var Bokeh = get_bokeh(root)\n",
       "    return (Bokeh != null && Bokeh.Panel !== undefined)\n",
       "  }\n",
       "  if (is_loaded(root)) {\n",
       "    embed_document(root);\n",
       "  } else {\n",
       "    var attempts = 0;\n",
       "    var timer = setInterval(function(root) {\n",
       "      if (is_loaded(root)) {\n",
       "        clearInterval(timer);\n",
       "        embed_document(root);\n",
       "      } else if (document.readyState == \"complete\") {\n",
       "        attempts++;\n",
       "        if (attempts > 200) {\n",
       "          clearInterval(timer);\n",
       "\t  var Bokeh = get_bokeh(root)\n",
       "\t  if (Bokeh == null || Bokeh.Panel == null) {\n",
       "            console.warn(\"Panel: ERROR: Unable to run Panel code because Bokeh or Panel library is missing\");\n",
       "\t  } else {\n",
       "\t    console.warn(\"Panel: WARNING: Attempting to render but not all required libraries could be resolved.\")\n",
       "\t    embed_document(root)\n",
       "\t  }\n",
       "        }\n",
       "      }\n",
       "    }, 25, root)\n",
       "  }\n",
       "})(window);</script>"
      ],
      "text/plain": [
       ":Curve   [index]   (value)"
      ]
     },
     "execution_count": 186,
     "metadata": {
      "application/vnd.holoviews_exec.v0+json": {
       "id": "p1004"
      }
     },
     "output_type": "execute_result"
    }
   ],
   "source": [
    "ts.hvplot.line(x='index')"
   ]
  },
  {
   "cell_type": "code",
   "execution_count": 188,
   "id": "a430b004-3961-4246-9949-26dd93a6f2e3",
   "metadata": {},
   "outputs": [
    {
     "data": {},
     "metadata": {},
     "output_type": "display_data"
    },
    {
     "data": {
      "application/vnd.holoviews_exec.v0+json": "",
      "text/html": [
       "<div id='p1079'>\n",
       "  <div id=\"c1c13ebf-8762-46da-8a19-aa1e276ab23f\" data-root-id=\"p1079\" style=\"display: contents;\"></div>\n",
       "</div>\n",
       "<script type=\"application/javascript\">(function(root) {\n",
       "  var docs_json = {\"2f9191ac-c049-465e-983c-1b1eda33dadf\":{\"version\":\"3.4.2\",\"title\":\"Bokeh Application\",\"roots\":[{\"type\":\"object\",\"name\":\"Row\",\"id\":\"p1079\",\"attributes\":{\"name\":\"Row01141\",\"tags\":[\"embedded\"],\"stylesheets\":[\"\\n:host(.pn-loading):before, .pn-loading:before {\\n  background-color: #c3c3c3;\\n  mask-size: auto calc(min(50%, 400px));\\n  -webkit-mask-size: auto calc(min(50%, 400px));\\n}\",{\"type\":\"object\",\"name\":\"ImportedStyleSheet\",\"id\":\"p1082\",\"attributes\":{\"url\":\"https://cdn.holoviz.org/panel/1.4.4/dist/css/loading.css\"}},{\"type\":\"object\",\"name\":\"ImportedStyleSheet\",\"id\":\"p1203\",\"attributes\":{\"url\":\"https://cdn.holoviz.org/panel/1.4.4/dist/css/listpanel.css\"}},{\"type\":\"object\",\"name\":\"ImportedStyleSheet\",\"id\":\"p1080\",\"attributes\":{\"url\":\"https://cdn.holoviz.org/panel/1.4.4/dist/bundled/theme/default.css\"}},{\"type\":\"object\",\"name\":\"ImportedStyleSheet\",\"id\":\"p1081\",\"attributes\":{\"url\":\"https://cdn.holoviz.org/panel/1.4.4/dist/bundled/theme/native.css\"}}],\"min_width\":700,\"margin\":0,\"sizing_mode\":\"stretch_width\",\"align\":\"start\",\"children\":[{\"type\":\"object\",\"name\":\"Spacer\",\"id\":\"p1083\",\"attributes\":{\"name\":\"HSpacer01148\",\"stylesheets\":[\"\\n:host(.pn-loading):before, .pn-loading:before {\\n  background-color: #c3c3c3;\\n  mask-size: auto calc(min(50%, 400px));\\n  -webkit-mask-size: auto calc(min(50%, 400px));\\n}\",{\"id\":\"p1082\"},{\"id\":\"p1080\"},{\"id\":\"p1081\"}],\"margin\":0,\"sizing_mode\":\"stretch_width\",\"align\":\"start\"}},{\"type\":\"object\",\"name\":\"Figure\",\"id\":\"p1100\",\"attributes\":{\"width\":700,\"height\":300,\"margin\":[5,10],\"sizing_mode\":\"fixed\",\"align\":\"start\",\"x_range\":{\"type\":\"object\",\"name\":\"Range1d\",\"id\":\"p1084\",\"attributes\":{\"tags\":[[[\"index\",null]],[]],\"start\":946684800000.0,\"end\":1032998400000.0,\"reset_start\":946684800000.0,\"reset_end\":1032998400000.0}},\"y_range\":{\"type\":\"object\",\"name\":\"Range1d\",\"id\":\"p1085\",\"attributes\":{\"tags\":[[[\"value\",null]],{\"type\":\"map\",\"entries\":[[\"invert_yaxis\",false],[\"autorange\",false]]}],\"start\":-33.753594553408035,\"end\":82.3056216646486,\"reset_start\":-33.753594553408035,\"reset_end\":82.3056216646486}},\"x_scale\":{\"type\":\"object\",\"name\":\"LinearScale\",\"id\":\"p1110\"},\"y_scale\":{\"type\":\"object\",\"name\":\"LinearScale\",\"id\":\"p1111\"},\"title\":{\"type\":\"object\",\"name\":\"Title\",\"id\":\"p1103\",\"attributes\":{\"text_color\":\"black\",\"text_font_size\":\"12pt\"}},\"renderers\":[{\"type\":\"object\",\"name\":\"GlyphRenderer\",\"id\":\"p1152\",\"attributes\":{\"name\":\"A\",\"data_source\":{\"type\":\"object\",\"name\":\"ColumnDataSource\",\"id\":\"p1143\",\"attributes\":{\"selected\":{\"type\":\"object\",\"name\":\"Selection\",\"id\":\"p1144\",\"attributes\":{\"indices\":[],\"line_indices\":[]}},\"selection_policy\":{\"type\":\"object\",\"name\":\"UnionRenderers\",\"id\":\"p1145\"},\"data\":{\"type\":\"map\",\"entries\":[[\"index\",{\"type\":\"ndarray\",\"array\":{\"type\":\"bytes\",\"data\":\"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\"},\"shape\":[1000],\"dtype\":\"float64\",\"order\":\"little\"}],[\"value\",{\"type\":\"ndarray\",\"array\":{\"type\":\"bytes\",\"data\":\"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\"},\"shape\":[1000],\"dtype\":\"float64\",\"order\":\"little\"}],[\"Variable\",[\"A\",\"A\",\"A\",\"A\",\"A\",\"A\",\"A\",\"A\",\"A\",\"A\",\"A\",\"A\",\"A\",\"A\",\"A\",\"A\",\"A\",\"A\",\"A\",\"A\",\"A\",\"A\",\"A\",\"A\",\"A\",\"A\",\"A\",\"A\",\"A\",\"A\",\"A\",\"A\",\"A\",\"A\",\"A\",\"A\",\"A\",\"A\",\"A\",\"A\",\"A\",\"A\",\"A\",\"A\",\"A\",\"A\",\"A\",\"A\",\"A\",\"A\",\"A\",\"A\",\"A\",\"A\",\"A\",\"A\",\"A\",\"A\",\"A\",\"A\",\"A\",\"A\",\"A\",\"A\",\"A\",\"A\",\"A\",\"A\",\"A\",\"A\",\"A\",\"A\",\"A\",\"A\",\"A\",\"A\",\"A\",\"A\",\"A\",\"A\",\"A\",\"A\",\"A\",\"A\",\"A\",\"A\",\"A\",\"A\",\"A\",\"A\",\"A\",\"A\",\"A\",\"A\",\"A\",\"A\",\"A\",\"A\",\"A\",\"A\",\"A\",\"A\",\"A\",\"A\",\"A\",\"A\",\"A\",\"A\",\"A\",\"A\",\"A\",\"A\",\"A\",\"A\",\"A\",\"A\",\"A\",\"A\",\"A\",\"A\",\"A\",\"A\",\"A\",\"A\",\"A\",\"A\",\"A\",\"A\",\"A\",\"A\",\"A\",\"A\",\"A\",\"A\",\"A\",\"A\",\"A\",\"A\",\"A\",\"A\",\"A\",\"A\",\"A\",\"A\",\"A\",\"A\",\"A\",\"A\",\"A\",\"A\",\"A\",\"A\",\"A\",\"A\",\"A\",\"A\",\"A\",\"A\",\"A\",\"A\",\"A\",\"A\",\"A\",\"A\",\"A\",\"A\",\"A\",\"A\",\"A\",\"A\",\"A\",\"A\",\"A\",\"A\",\"A\",\"A\",\"A\",\"A\",\"A\",\"A\",\"A\",\"A\",\"A\",\"A\",\"A\",\"A\",\"A\",\"A\",\"A\",\"A\",\"A\",\"A\",\"A\",\"A\",\"A\",\"A\",\"A\",\"A\",\"A\",\"A\",\"A\",\"A\",\"A\",\"A\",\"A\",\"A\",\"A\",\"A\",\"A\",\"A\",\"A\",\"A\",\"A\",\"A\",\"A\",\"A\",\"A\",\"A\",\"A\",\"A\",\"A\",\"A\",\"A\",\"A\",\"A\",\"A\",\"A\",\"A\",\"A\",\"A\",\"A\",\"A\",\"A\",\"A\",\"A\",\"A\",\"A\",\"A\",\"A\",\"A\",\"A\",\"A\",\"A\",\"A\",\"A\",\"A\",\"A\",\"A\",\"A\",\"A\",\"A\",\"A\",\"A\",\"A\",\"A\",\"A\",\"A\",\"A\",\"A\",\"A\",\"A\",\"A\",\"A\",\"A\",\"A\",\"A\",\"A\",\"A\",\"A\",\"A\",\"A\",\"A\",\"A\",\"A\",\"A\",\"A\",\"A\",\"A\",\"A\",\"A\",\"A\",\"A\",\"A\",\"A\",\"A\",\"A\",\"A\",\"A\",\"A\",\"A\",\"A\",\"A\",\"A\",\"A\",\"A\",\"A\",\"A\",\"A\",\"A\",\"A\",\"A\",\"A\",\"A\",\"A\",\"A\",\"A\",\"A\",\"A\",\"A\",\"A\",\"A\",\"A\",\"A\",\"A\",\"A\",\"A\",\"A\",\"A\",\"A\",\"A\",\"A\",\"A\",\"A\",\"A\",\"A\",\"A\",\"A\",\"A\",\"A\",\"A\",\"A\",\"A\",\"A\",\"A\",\"A\",\"A\",\"A\",\"A\",\"A\",\"A\",\"A\",\"A\",\"A\",\"A\",\"A\",\"A\",\"A\",\"A\",\"A\",\"A\",\"A\",\"A\",\"A\",\"A\",\"A\",\"A\",\"A\",\"A\",\"A\",\"A\",\"A\",\"A\",\"A\",\"A\",\"A\",\"A\",\"A\",\"A\",\"A\",\"A\",\"A\",\"A\",\"A\",\"A\",\"A\",\"A\",\"A\",\"A\",\"A\",\"A\",\"A\",\"A\",\"A\",\"A\",\"A\",\"A\",\"A\",\"A\",\"A\",\"A\",\"A\",\"A\",\"A\",\"A\",\"A\",\"A\",\"A\",\"A\",\"A\",\"A\",\"A\",\"A\",\"A\",\"A\",\"A\",\"A\",\"A\",\"A\",\"A\",\"A\",\"A\",\"A\",\"A\",\"A\",\"A\",\"A\",\"A\",\"A\",\"A\",\"A\",\"A\",\"A\",\"A\",\"A\",\"A\",\"A\",\"A\",\"A\",\"A\",\"A\",\"A\",\"A\",\"A\",\"A\",\"A\",\"A\",\"A\",\"A\",\"A\",\"A\",\"A\",\"A\",\"A\",\"A\",\"A\",\"A\",\"A\",\"A\",\"A\",\"A\",\"A\",\"A\",\"A\",\"A\",\"A\",\"A\",\"A\",\"A\",\"A\",\"A\",\"A\",\"A\",\"A\",\"A\",\"A\",\"A\",\"A\",\"A\",\"A\",\"A\",\"A\",\"A\",\"A\",\"A\",\"A\",\"A\",\"A\",\"A\",\"A\",\"A\",\"A\",\"A\",\"A\",\"A\",\"A\",\"A\",\"A\",\"A\",\"A\",\"A\",\"A\",\"A\",\"A\",\"A\",\"A\",\"A\",\"A\",\"A\",\"A\",\"A\",\"A\",\"A\",\"A\",\"A\",\"A\",\"A\",\"A\",\"A\",\"A\",\"A\",\"A\",\"A\",\"A\",\"A\",\"A\",\"A\",\"A\",\"A\",\"A\",\"A\",\"A\",\"A\",\"A\",\"A\",\"A\",\"A\",\"A\",\"A\",\"A\",\"A\",\"A\",\"A\",\"A\",\"A\",\"A\",\"A\",\"A\",\"A\",\"A\",\"A\",\"A\",\"A\",\"A\",\"A\",\"A\",\"A\",\"A\",\"A\",\"A\",\"A\",\"A\",\"A\",\"A\",\"A\",\"A\",\"A\",\"A\",\"A\",\"A\",\"A\",\"A\",\"A\",\"A\",\"A\",\"A\",\"A\",\"A\",\"A\",\"A\",\"A\",\"A\",\"A\",\"A\",\"A\",\"A\",\"A\",\"A\",\"A\",\"A\",\"A\",\"A\",\"A\",\"A\",\"A\",\"A\",\"A\",\"A\",\"A\",\"A\",\"A\",\"A\",\"A\",\"A\",\"A\",\"A\",\"A\",\"A\",\"A\",\"A\",\"A\",\"A\",\"A\",\"A\",\"A\",\"A\",\"A\",\"A\",\"A\",\"A\",\"A\",\"A\",\"A\",\"A\",\"A\",\"A\",\"A\",\"A\",\"A\",\"A\",\"A\",\"A\",\"A\",\"A\",\"A\",\"A\",\"A\",\"A\",\"A\",\"A\",\"A\",\"A\",\"A\",\"A\",\"A\",\"A\",\"A\",\"A\",\"A\",\"A\",\"A\",\"A\",\"A\",\"A\",\"A\",\"A\",\"A\",\"A\",\"A\",\"A\",\"A\",\"A\",\"A\",\"A\",\"A\",\"A\",\"A\",\"A\",\"A\",\"A\",\"A\",\"A\",\"A\",\"A\",\"A\",\"A\",\"A\",\"A\",\"A\",\"A\",\"A\",\"A\",\"A\",\"A\",\"A\",\"A\",\"A\",\"A\",\"A\",\"A\",\"A\",\"A\",\"A\",\"A\",\"A\",\"A\",\"A\",\"A\",\"A\",\"A\",\"A\",\"A\",\"A\",\"A\",\"A\",\"A\",\"A\",\"A\",\"A\",\"A\",\"A\",\"A\",\"A\",\"A\",\"A\",\"A\",\"A\",\"A\",\"A\",\"A\",\"A\",\"A\",\"A\",\"A\",\"A\",\"A\",\"A\",\"A\",\"A\",\"A\",\"A\",\"A\",\"A\",\"A\",\"A\",\"A\",\"A\",\"A\",\"A\",\"A\",\"A\",\"A\",\"A\",\"A\",\"A\",\"A\",\"A\",\"A\",\"A\",\"A\",\"A\",\"A\",\"A\",\"A\",\"A\",\"A\",\"A\",\"A\",\"A\",\"A\",\"A\",\"A\",\"A\",\"A\",\"A\",\"A\",\"A\",\"A\",\"A\",\"A\",\"A\",\"A\",\"A\",\"A\",\"A\",\"A\",\"A\",\"A\",\"A\",\"A\",\"A\",\"A\",\"A\",\"A\",\"A\",\"A\",\"A\",\"A\",\"A\",\"A\",\"A\",\"A\",\"A\",\"A\",\"A\",\"A\",\"A\",\"A\",\"A\",\"A\",\"A\",\"A\",\"A\",\"A\",\"A\",\"A\",\"A\",\"A\",\"A\",\"A\",\"A\",\"A\",\"A\",\"A\",\"A\",\"A\",\"A\",\"A\",\"A\",\"A\",\"A\",\"A\",\"A\",\"A\",\"A\",\"A\",\"A\",\"A\",\"A\",\"A\",\"A\",\"A\",\"A\",\"A\",\"A\",\"A\",\"A\",\"A\",\"A\",\"A\",\"A\",\"A\",\"A\",\"A\",\"A\",\"A\",\"A\",\"A\",\"A\",\"A\",\"A\",\"A\",\"A\",\"A\",\"A\",\"A\",\"A\",\"A\",\"A\",\"A\",\"A\",\"A\",\"A\",\"A\",\"A\",\"A\",\"A\",\"A\",\"A\",\"A\",\"A\",\"A\",\"A\",\"A\",\"A\",\"A\",\"A\",\"A\",\"A\",\"A\",\"A\",\"A\",\"A\",\"A\",\"A\",\"A\",\"A\",\"A\",\"A\",\"A\",\"A\",\"A\",\"A\",\"A\",\"A\",\"A\",\"A\",\"A\",\"A\",\"A\",\"A\",\"A\",\"A\",\"A\",\"A\",\"A\",\"A\",\"A\",\"A\",\"A\",\"A\",\"A\",\"A\",\"A\",\"A\",\"A\",\"A\",\"A\",\"A\",\"A\",\"A\",\"A\",\"A\",\"A\",\"A\",\"A\",\"A\",\"A\",\"A\",\"A\",\"A\",\"A\",\"A\",\"A\",\"A\",\"A\",\"A\",\"A\",\"A\",\"A\",\"A\",\"A\",\"A\",\"A\",\"A\",\"A\",\"A\",\"A\",\"A\",\"A\",\"A\",\"A\",\"A\",\"A\",\"A\",\"A\",\"A\",\"A\",\"A\",\"A\",\"A\",\"A\",\"A\",\"A\",\"A\",\"A\",\"A\",\"A\",\"A\",\"A\",\"A\",\"A\",\"A\",\"A\",\"A\",\"A\",\"A\",\"A\",\"A\",\"A\",\"A\",\"A\",\"A\",\"A\",\"A\",\"A\",\"A\",\"A\",\"A\",\"A\",\"A\",\"A\",\"A\",\"A\",\"A\",\"A\",\"A\",\"A\",\"A\",\"A\",\"A\",\"A\",\"A\",\"A\",\"A\",\"A\",\"A\",\"A\",\"A\",\"A\",\"A\"]]]}}},\"view\":{\"type\":\"object\",\"name\":\"CDSView\",\"id\":\"p1153\",\"attributes\":{\"filter\":{\"type\":\"object\",\"name\":\"AllIndices\",\"id\":\"p1154\"}}},\"glyph\":{\"type\":\"object\",\"name\":\"Line\",\"id\":\"p1149\",\"attributes\":{\"tags\":[\"apply_ranges\"],\"x\":{\"type\":\"field\",\"field\":\"index\"},\"y\":{\"type\":\"field\",\"field\":\"value\"},\"line_color\":\"#30a2da\",\"line_width\":2}},\"selection_glyph\":{\"type\":\"object\",\"name\":\"Line\",\"id\":\"p1157\",\"attributes\":{\"tags\":[\"apply_ranges\"],\"x\":{\"type\":\"field\",\"field\":\"index\"},\"y\":{\"type\":\"field\",\"field\":\"value\"},\"line_color\":\"#30a2da\",\"line_width\":2}},\"nonselection_glyph\":{\"type\":\"object\",\"name\":\"Line\",\"id\":\"p1150\",\"attributes\":{\"tags\":[\"apply_ranges\"],\"x\":{\"type\":\"field\",\"field\":\"index\"},\"y\":{\"type\":\"field\",\"field\":\"value\"},\"line_color\":\"#30a2da\",\"line_alpha\":0.1,\"line_width\":2}},\"muted_glyph\":{\"type\":\"object\",\"name\":\"Line\",\"id\":\"p1151\",\"attributes\":{\"tags\":[\"apply_ranges\"],\"x\":{\"type\":\"field\",\"field\":\"index\"},\"y\":{\"type\":\"field\",\"field\":\"value\"},\"line_color\":\"#30a2da\",\"line_alpha\":0.2,\"line_width\":2}}}},{\"type\":\"object\",\"name\":\"GlyphRenderer\",\"id\":\"p1167\",\"attributes\":{\"name\":\"B\",\"data_source\":{\"type\":\"object\",\"name\":\"ColumnDataSource\",\"id\":\"p1158\",\"attributes\":{\"selected\":{\"type\":\"object\",\"name\":\"Selection\",\"id\":\"p1159\",\"attributes\":{\"indices\":[],\"line_indices\":[]}},\"selection_policy\":{\"type\":\"object\",\"name\":\"UnionRenderers\",\"id\":\"p1160\"},\"data\":{\"type\":\"map\",\"entries\":[[\"index\",{\"type\":\"ndarray\",\"array\":{\"type\":\"bytes\",\"data\":\"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\"},\"shape\":[1000],\"dtype\":\"float64\",\"order\":\"little\"}],[\"value\",{\"type\":\"ndarray\",\"array\":{\"type\":\"bytes\",\"data\":\"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\"},\"shape\":[1000],\"dtype\":\"float64\",\"order\":\"little\"}],[\"Variable\",[\"B\",\"B\",\"B\",\"B\",\"B\",\"B\",\"B\",\"B\",\"B\",\"B\",\"B\",\"B\",\"B\",\"B\",\"B\",\"B\",\"B\",\"B\",\"B\",\"B\",\"B\",\"B\",\"B\",\"B\",\"B\",\"B\",\"B\",\"B\",\"B\",\"B\",\"B\",\"B\",\"B\",\"B\",\"B\",\"B\",\"B\",\"B\",\"B\",\"B\",\"B\",\"B\",\"B\",\"B\",\"B\",\"B\",\"B\",\"B\",\"B\",\"B\",\"B\",\"B\",\"B\",\"B\",\"B\",\"B\",\"B\",\"B\",\"B\",\"B\",\"B\",\"B\",\"B\",\"B\",\"B\",\"B\",\"B\",\"B\",\"B\",\"B\",\"B\",\"B\",\"B\",\"B\",\"B\",\"B\",\"B\",\"B\",\"B\",\"B\",\"B\",\"B\",\"B\",\"B\",\"B\",\"B\",\"B\",\"B\",\"B\",\"B\",\"B\",\"B\",\"B\",\"B\",\"B\",\"B\",\"B\",\"B\",\"B\",\"B\",\"B\",\"B\",\"B\",\"B\",\"B\",\"B\",\"B\",\"B\",\"B\",\"B\",\"B\",\"B\",\"B\",\"B\",\"B\",\"B\",\"B\",\"B\",\"B\",\"B\",\"B\",\"B\",\"B\",\"B\",\"B\",\"B\",\"B\",\"B\",\"B\",\"B\",\"B\",\"B\",\"B\",\"B\",\"B\",\"B\",\"B\",\"B\",\"B\",\"B\",\"B\",\"B\",\"B\",\"B\",\"B\",\"B\",\"B\",\"B\",\"B\",\"B\",\"B\",\"B\",\"B\",\"B\",\"B\",\"B\",\"B\",\"B\",\"B\",\"B\",\"B\",\"B\",\"B\",\"B\",\"B\",\"B\",\"B\",\"B\",\"B\",\"B\",\"B\",\"B\",\"B\",\"B\",\"B\",\"B\",\"B\",\"B\",\"B\",\"B\",\"B\",\"B\",\"B\",\"B\",\"B\",\"B\",\"B\",\"B\",\"B\",\"B\",\"B\",\"B\",\"B\",\"B\",\"B\",\"B\",\"B\",\"B\",\"B\",\"B\",\"B\",\"B\",\"B\",\"B\",\"B\",\"B\",\"B\",\"B\",\"B\",\"B\",\"B\",\"B\",\"B\",\"B\",\"B\",\"B\",\"B\",\"B\",\"B\",\"B\",\"B\",\"B\",\"B\",\"B\",\"B\",\"B\",\"B\",\"B\",\"B\",\"B\",\"B\",\"B\",\"B\",\"B\",\"B\",\"B\",\"B\",\"B\",\"B\",\"B\",\"B\",\"B\",\"B\",\"B\",\"B\",\"B\",\"B\",\"B\",\"B\",\"B\",\"B\",\"B\",\"B\",\"B\",\"B\",\"B\",\"B\",\"B\",\"B\",\"B\",\"B\",\"B\",\"B\",\"B\",\"B\",\"B\",\"B\",\"B\",\"B\",\"B\",\"B\",\"B\",\"B\",\"B\",\"B\",\"B\",\"B\",\"B\",\"B\",\"B\",\"B\",\"B\",\"B\",\"B\",\"B\",\"B\",\"B\",\"B\",\"B\",\"B\",\"B\",\"B\",\"B\",\"B\",\"B\",\"B\",\"B\",\"B\",\"B\",\"B\",\"B\",\"B\",\"B\",\"B\",\"B\",\"B\",\"B\",\"B\",\"B\",\"B\",\"B\",\"B\",\"B\",\"B\",\"B\",\"B\",\"B\",\"B\",\"B\",\"B\",\"B\",\"B\",\"B\",\"B\",\"B\",\"B\",\"B\",\"B\",\"B\",\"B\",\"B\",\"B\",\"B\",\"B\",\"B\",\"B\",\"B\",\"B\",\"B\",\"B\",\"B\",\"B\",\"B\",\"B\",\"B\",\"B\",\"B\",\"B\",\"B\",\"B\",\"B\",\"B\",\"B\",\"B\",\"B\",\"B\",\"B\",\"B\",\"B\",\"B\",\"B\",\"B\",\"B\",\"B\",\"B\",\"B\",\"B\",\"B\",\"B\",\"B\",\"B\",\"B\",\"B\",\"B\",\"B\",\"B\",\"B\",\"B\",\"B\",\"B\",\"B\",\"B\",\"B\",\"B\",\"B\",\"B\",\"B\",\"B\",\"B\",\"B\",\"B\",\"B\",\"B\",\"B\",\"B\",\"B\",\"B\",\"B\",\"B\",\"B\",\"B\",\"B\",\"B\",\"B\",\"B\",\"B\",\"B\",\"B\",\"B\",\"B\",\"B\",\"B\",\"B\",\"B\",\"B\",\"B\",\"B\",\"B\",\"B\",\"B\",\"B\",\"B\",\"B\",\"B\",\"B\",\"B\",\"B\",\"B\",\"B\",\"B\",\"B\",\"B\",\"B\",\"B\",\"B\",\"B\",\"B\",\"B\",\"B\",\"B\",\"B\",\"B\",\"B\",\"B\",\"B\",\"B\",\"B\",\"B\",\"B\",\"B\",\"B\",\"B\",\"B\",\"B\",\"B\",\"B\",\"B\",\"B\",\"B\",\"B\",\"B\",\"B\",\"B\",\"B\",\"B\",\"B\",\"B\",\"B\",\"B\",\"B\",\"B\",\"B\",\"B\",\"B\",\"B\",\"B\",\"B\",\"B\",\"B\",\"B\",\"B\",\"B\",\"B\",\"B\",\"B\",\"B\",\"B\",\"B\",\"B\",\"B\",\"B\",\"B\",\"B\",\"B\",\"B\",\"B\",\"B\",\"B\",\"B\",\"B\",\"B\",\"B\",\"B\",\"B\",\"B\",\"B\",\"B\",\"B\",\"B\",\"B\",\"B\",\"B\",\"B\",\"B\",\"B\",\"B\",\"B\",\"B\",\"B\",\"B\",\"B\",\"B\",\"B\",\"B\",\"B\",\"B\",\"B\",\"B\",\"B\",\"B\",\"B\",\"B\",\"B\",\"B\",\"B\",\"B\",\"B\",\"B\",\"B\",\"B\",\"B\",\"B\",\"B\",\"B\",\"B\",\"B\",\"B\",\"B\",\"B\",\"B\",\"B\",\"B\",\"B\",\"B\",\"B\",\"B\",\"B\",\"B\",\"B\",\"B\",\"B\",\"B\",\"B\",\"B\",\"B\",\"B\",\"B\",\"B\",\"B\",\"B\",\"B\",\"B\",\"B\",\"B\",\"B\",\"B\",\"B\",\"B\",\"B\",\"B\",\"B\",\"B\",\"B\",\"B\",\"B\",\"B\",\"B\",\"B\",\"B\",\"B\",\"B\",\"B\",\"B\",\"B\",\"B\",\"B\",\"B\",\"B\",\"B\",\"B\",\"B\",\"B\",\"B\",\"B\",\"B\",\"B\",\"B\",\"B\",\"B\",\"B\",\"B\",\"B\",\"B\",\"B\",\"B\",\"B\",\"B\",\"B\",\"B\",\"B\",\"B\",\"B\",\"B\",\"B\",\"B\",\"B\",\"B\",\"B\",\"B\",\"B\",\"B\",\"B\",\"B\",\"B\",\"B\",\"B\",\"B\",\"B\",\"B\",\"B\",\"B\",\"B\",\"B\",\"B\",\"B\",\"B\",\"B\",\"B\",\"B\",\"B\",\"B\",\"B\",\"B\",\"B\",\"B\",\"B\",\"B\",\"B\",\"B\",\"B\",\"B\",\"B\",\"B\",\"B\",\"B\",\"B\",\"B\",\"B\",\"B\",\"B\",\"B\",\"B\",\"B\",\"B\",\"B\",\"B\",\"B\",\"B\",\"B\",\"B\",\"B\",\"B\",\"B\",\"B\",\"B\",\"B\",\"B\",\"B\",\"B\",\"B\",\"B\",\"B\",\"B\",\"B\",\"B\",\"B\",\"B\",\"B\",\"B\",\"B\",\"B\",\"B\",\"B\",\"B\",\"B\",\"B\",\"B\",\"B\",\"B\",\"B\",\"B\",\"B\",\"B\",\"B\",\"B\",\"B\",\"B\",\"B\",\"B\",\"B\",\"B\",\"B\",\"B\",\"B\",\"B\",\"B\",\"B\",\"B\",\"B\",\"B\",\"B\",\"B\",\"B\",\"B\",\"B\",\"B\",\"B\",\"B\",\"B\",\"B\",\"B\",\"B\",\"B\",\"B\",\"B\",\"B\",\"B\",\"B\",\"B\",\"B\",\"B\",\"B\",\"B\",\"B\",\"B\",\"B\",\"B\",\"B\",\"B\",\"B\",\"B\",\"B\",\"B\",\"B\",\"B\",\"B\",\"B\",\"B\",\"B\",\"B\",\"B\",\"B\",\"B\",\"B\",\"B\",\"B\",\"B\",\"B\",\"B\",\"B\",\"B\",\"B\",\"B\",\"B\",\"B\",\"B\",\"B\",\"B\",\"B\",\"B\",\"B\",\"B\",\"B\",\"B\",\"B\",\"B\",\"B\",\"B\",\"B\",\"B\",\"B\",\"B\",\"B\",\"B\",\"B\",\"B\",\"B\",\"B\",\"B\",\"B\",\"B\",\"B\",\"B\",\"B\",\"B\",\"B\",\"B\",\"B\",\"B\",\"B\",\"B\",\"B\",\"B\",\"B\",\"B\",\"B\",\"B\",\"B\",\"B\",\"B\",\"B\",\"B\",\"B\",\"B\",\"B\",\"B\",\"B\",\"B\",\"B\",\"B\",\"B\",\"B\",\"B\",\"B\",\"B\",\"B\",\"B\",\"B\",\"B\",\"B\",\"B\",\"B\",\"B\",\"B\",\"B\",\"B\",\"B\",\"B\",\"B\",\"B\",\"B\",\"B\",\"B\",\"B\",\"B\",\"B\",\"B\",\"B\",\"B\",\"B\",\"B\",\"B\",\"B\",\"B\",\"B\",\"B\",\"B\",\"B\",\"B\",\"B\",\"B\",\"B\",\"B\",\"B\",\"B\",\"B\",\"B\",\"B\",\"B\",\"B\",\"B\",\"B\",\"B\",\"B\",\"B\",\"B\",\"B\",\"B\",\"B\",\"B\",\"B\",\"B\",\"B\",\"B\",\"B\",\"B\",\"B\",\"B\",\"B\",\"B\",\"B\",\"B\",\"B\",\"B\",\"B\",\"B\",\"B\",\"B\",\"B\",\"B\",\"B\",\"B\",\"B\",\"B\",\"B\",\"B\",\"B\",\"B\",\"B\",\"B\",\"B\",\"B\",\"B\",\"B\",\"B\",\"B\",\"B\",\"B\",\"B\",\"B\",\"B\",\"B\",\"B\",\"B\",\"B\",\"B\",\"B\",\"B\",\"B\",\"B\",\"B\",\"B\",\"B\",\"B\",\"B\",\"B\",\"B\",\"B\",\"B\",\"B\",\"B\",\"B\",\"B\",\"B\",\"B\",\"B\",\"B\",\"B\",\"B\",\"B\",\"B\",\"B\",\"B\",\"B\",\"B\",\"B\",\"B\",\"B\",\"B\",\"B\",\"B\",\"B\",\"B\",\"B\",\"B\",\"B\",\"B\",\"B\",\"B\",\"B\",\"B\",\"B\",\"B\",\"B\",\"B\",\"B\",\"B\",\"B\",\"B\",\"B\"]]]}}},\"view\":{\"type\":\"object\",\"name\":\"CDSView\",\"id\":\"p1168\",\"attributes\":{\"filter\":{\"type\":\"object\",\"name\":\"AllIndices\",\"id\":\"p1169\"}}},\"glyph\":{\"type\":\"object\",\"name\":\"Line\",\"id\":\"p1164\",\"attributes\":{\"tags\":[\"apply_ranges\"],\"x\":{\"type\":\"field\",\"field\":\"index\"},\"y\":{\"type\":\"field\",\"field\":\"value\"},\"line_color\":\"#fc4f30\",\"line_width\":2}},\"selection_glyph\":{\"type\":\"object\",\"name\":\"Line\",\"id\":\"p1171\",\"attributes\":{\"tags\":[\"apply_ranges\"],\"x\":{\"type\":\"field\",\"field\":\"index\"},\"y\":{\"type\":\"field\",\"field\":\"value\"},\"line_color\":\"#fc4f30\",\"line_width\":2}},\"nonselection_glyph\":{\"type\":\"object\",\"name\":\"Line\",\"id\":\"p1165\",\"attributes\":{\"tags\":[\"apply_ranges\"],\"x\":{\"type\":\"field\",\"field\":\"index\"},\"y\":{\"type\":\"field\",\"field\":\"value\"},\"line_color\":\"#fc4f30\",\"line_alpha\":0.1,\"line_width\":2}},\"muted_glyph\":{\"type\":\"object\",\"name\":\"Line\",\"id\":\"p1166\",\"attributes\":{\"tags\":[\"apply_ranges\"],\"x\":{\"type\":\"field\",\"field\":\"index\"},\"y\":{\"type\":\"field\",\"field\":\"value\"},\"line_color\":\"#fc4f30\",\"line_alpha\":0.2,\"line_width\":2}}}},{\"type\":\"object\",\"name\":\"GlyphRenderer\",\"id\":\"p1181\",\"attributes\":{\"name\":\"C\",\"data_source\":{\"type\":\"object\",\"name\":\"ColumnDataSource\",\"id\":\"p1172\",\"attributes\":{\"selected\":{\"type\":\"object\",\"name\":\"Selection\",\"id\":\"p1173\",\"attributes\":{\"indices\":[],\"line_indices\":[]}},\"selection_policy\":{\"type\":\"object\",\"name\":\"UnionRenderers\",\"id\":\"p1174\"},\"data\":{\"type\":\"map\",\"entries\":[[\"index\",{\"type\":\"ndarray\",\"array\":{\"type\":\"bytes\",\"data\":\"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\"},\"shape\":[1000],\"dtype\":\"float64\",\"order\":\"little\"}],[\"value\",{\"type\":\"ndarray\",\"array\":{\"type\":\"bytes\",\"data\":\"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\"},\"shape\":[1000],\"dtype\":\"float64\",\"order\":\"little\"}],[\"Variable\",[\"C\",\"C\",\"C\",\"C\",\"C\",\"C\",\"C\",\"C\",\"C\",\"C\",\"C\",\"C\",\"C\",\"C\",\"C\",\"C\",\"C\",\"C\",\"C\",\"C\",\"C\",\"C\",\"C\",\"C\",\"C\",\"C\",\"C\",\"C\",\"C\",\"C\",\"C\",\"C\",\"C\",\"C\",\"C\",\"C\",\"C\",\"C\",\"C\",\"C\",\"C\",\"C\",\"C\",\"C\",\"C\",\"C\",\"C\",\"C\",\"C\",\"C\",\"C\",\"C\",\"C\",\"C\",\"C\",\"C\",\"C\",\"C\",\"C\",\"C\",\"C\",\"C\",\"C\",\"C\",\"C\",\"C\",\"C\",\"C\",\"C\",\"C\",\"C\",\"C\",\"C\",\"C\",\"C\",\"C\",\"C\",\"C\",\"C\",\"C\",\"C\",\"C\",\"C\",\"C\",\"C\",\"C\",\"C\",\"C\",\"C\",\"C\",\"C\",\"C\",\"C\",\"C\",\"C\",\"C\",\"C\",\"C\",\"C\",\"C\",\"C\",\"C\",\"C\",\"C\",\"C\",\"C\",\"C\",\"C\",\"C\",\"C\",\"C\",\"C\",\"C\",\"C\",\"C\",\"C\",\"C\",\"C\",\"C\",\"C\",\"C\",\"C\",\"C\",\"C\",\"C\",\"C\",\"C\",\"C\",\"C\",\"C\",\"C\",\"C\",\"C\",\"C\",\"C\",\"C\",\"C\",\"C\",\"C\",\"C\",\"C\",\"C\",\"C\",\"C\",\"C\",\"C\",\"C\",\"C\",\"C\",\"C\",\"C\",\"C\",\"C\",\"C\",\"C\",\"C\",\"C\",\"C\",\"C\",\"C\",\"C\",\"C\",\"C\",\"C\",\"C\",\"C\",\"C\",\"C\",\"C\",\"C\",\"C\",\"C\",\"C\",\"C\",\"C\",\"C\",\"C\",\"C\",\"C\",\"C\",\"C\",\"C\",\"C\",\"C\",\"C\",\"C\",\"C\",\"C\",\"C\",\"C\",\"C\",\"C\",\"C\",\"C\",\"C\",\"C\",\"C\",\"C\",\"C\",\"C\",\"C\",\"C\",\"C\",\"C\",\"C\",\"C\",\"C\",\"C\",\"C\",\"C\",\"C\",\"C\",\"C\",\"C\",\"C\",\"C\",\"C\",\"C\",\"C\",\"C\",\"C\",\"C\",\"C\",\"C\",\"C\",\"C\",\"C\",\"C\",\"C\",\"C\",\"C\",\"C\",\"C\",\"C\",\"C\",\"C\",\"C\",\"C\",\"C\",\"C\",\"C\",\"C\",\"C\",\"C\",\"C\",\"C\",\"C\",\"C\",\"C\",\"C\",\"C\",\"C\",\"C\",\"C\",\"C\",\"C\",\"C\",\"C\",\"C\",\"C\",\"C\",\"C\",\"C\",\"C\",\"C\",\"C\",\"C\",\"C\",\"C\",\"C\",\"C\",\"C\",\"C\",\"C\",\"C\",\"C\",\"C\",\"C\",\"C\",\"C\",\"C\",\"C\",\"C\",\"C\",\"C\",\"C\",\"C\",\"C\",\"C\",\"C\",\"C\",\"C\",\"C\",\"C\",\"C\",\"C\",\"C\",\"C\",\"C\",\"C\",\"C\",\"C\",\"C\",\"C\",\"C\",\"C\",\"C\",\"C\",\"C\",\"C\",\"C\",\"C\",\"C\",\"C\",\"C\",\"C\",\"C\",\"C\",\"C\",\"C\",\"C\",\"C\",\"C\",\"C\",\"C\",\"C\",\"C\",\"C\",\"C\",\"C\",\"C\",\"C\",\"C\",\"C\",\"C\",\"C\",\"C\",\"C\",\"C\",\"C\",\"C\",\"C\",\"C\",\"C\",\"C\",\"C\",\"C\",\"C\",\"C\",\"C\",\"C\",\"C\",\"C\",\"C\",\"C\",\"C\",\"C\",\"C\",\"C\",\"C\",\"C\",\"C\",\"C\",\"C\",\"C\",\"C\",\"C\",\"C\",\"C\",\"C\",\"C\",\"C\",\"C\",\"C\",\"C\",\"C\",\"C\",\"C\",\"C\",\"C\",\"C\",\"C\",\"C\",\"C\",\"C\",\"C\",\"C\",\"C\",\"C\",\"C\",\"C\",\"C\",\"C\",\"C\",\"C\",\"C\",\"C\",\"C\",\"C\",\"C\",\"C\",\"C\",\"C\",\"C\",\"C\",\"C\",\"C\",\"C\",\"C\",\"C\",\"C\",\"C\",\"C\",\"C\",\"C\",\"C\",\"C\",\"C\",\"C\",\"C\",\"C\",\"C\",\"C\",\"C\",\"C\",\"C\",\"C\",\"C\",\"C\",\"C\",\"C\",\"C\",\"C\",\"C\",\"C\",\"C\",\"C\",\"C\",\"C\",\"C\",\"C\",\"C\",\"C\",\"C\",\"C\",\"C\",\"C\",\"C\",\"C\",\"C\",\"C\",\"C\",\"C\",\"C\",\"C\",\"C\",\"C\",\"C\",\"C\",\"C\",\"C\",\"C\",\"C\",\"C\",\"C\",\"C\",\"C\",\"C\",\"C\",\"C\",\"C\",\"C\",\"C\",\"C\",\"C\",\"C\",\"C\",\"C\",\"C\",\"C\",\"C\",\"C\",\"C\",\"C\",\"C\",\"C\",\"C\",\"C\",\"C\",\"C\",\"C\",\"C\",\"C\",\"C\",\"C\",\"C\",\"C\",\"C\",\"C\",\"C\",\"C\",\"C\",\"C\",\"C\",\"C\",\"C\",\"C\",\"C\",\"C\",\"C\",\"C\",\"C\",\"C\",\"C\",\"C\",\"C\",\"C\",\"C\",\"C\",\"C\",\"C\",\"C\",\"C\",\"C\",\"C\",\"C\",\"C\",\"C\",\"C\",\"C\",\"C\",\"C\",\"C\",\"C\",\"C\",\"C\",\"C\",\"C\",\"C\",\"C\",\"C\",\"C\",\"C\",\"C\",\"C\",\"C\",\"C\",\"C\",\"C\",\"C\",\"C\",\"C\",\"C\",\"C\",\"C\",\"C\",\"C\",\"C\",\"C\",\"C\",\"C\",\"C\",\"C\",\"C\",\"C\",\"C\",\"C\",\"C\",\"C\",\"C\",\"C\",\"C\",\"C\",\"C\",\"C\",\"C\",\"C\",\"C\",\"C\",\"C\",\"C\",\"C\",\"C\",\"C\",\"C\",\"C\",\"C\",\"C\",\"C\",\"C\",\"C\",\"C\",\"C\",\"C\",\"C\",\"C\",\"C\",\"C\",\"C\",\"C\",\"C\",\"C\",\"C\",\"C\",\"C\",\"C\",\"C\",\"C\",\"C\",\"C\",\"C\",\"C\",\"C\",\"C\",\"C\",\"C\",\"C\",\"C\",\"C\",\"C\",\"C\",\"C\",\"C\",\"C\",\"C\",\"C\",\"C\",\"C\",\"C\",\"C\",\"C\",\"C\",\"C\",\"C\",\"C\",\"C\",\"C\",\"C\",\"C\",\"C\",\"C\",\"C\",\"C\",\"C\",\"C\",\"C\",\"C\",\"C\",\"C\",\"C\",\"C\",\"C\",\"C\",\"C\",\"C\",\"C\",\"C\",\"C\",\"C\",\"C\",\"C\",\"C\",\"C\",\"C\",\"C\",\"C\",\"C\",\"C\",\"C\",\"C\",\"C\",\"C\",\"C\",\"C\",\"C\",\"C\",\"C\",\"C\",\"C\",\"C\",\"C\",\"C\",\"C\",\"C\",\"C\",\"C\",\"C\",\"C\",\"C\",\"C\",\"C\",\"C\",\"C\",\"C\",\"C\",\"C\",\"C\",\"C\",\"C\",\"C\",\"C\",\"C\",\"C\",\"C\",\"C\",\"C\",\"C\",\"C\",\"C\",\"C\",\"C\",\"C\",\"C\",\"C\",\"C\",\"C\",\"C\",\"C\",\"C\",\"C\",\"C\",\"C\",\"C\",\"C\",\"C\",\"C\",\"C\",\"C\",\"C\",\"C\",\"C\",\"C\",\"C\",\"C\",\"C\",\"C\",\"C\",\"C\",\"C\",\"C\",\"C\",\"C\",\"C\",\"C\",\"C\",\"C\",\"C\",\"C\",\"C\",\"C\",\"C\",\"C\",\"C\",\"C\",\"C\",\"C\",\"C\",\"C\",\"C\",\"C\",\"C\",\"C\",\"C\",\"C\",\"C\",\"C\",\"C\",\"C\",\"C\",\"C\",\"C\",\"C\",\"C\",\"C\",\"C\",\"C\",\"C\",\"C\",\"C\",\"C\",\"C\",\"C\",\"C\",\"C\",\"C\",\"C\",\"C\",\"C\",\"C\",\"C\",\"C\",\"C\",\"C\",\"C\",\"C\",\"C\",\"C\",\"C\",\"C\",\"C\",\"C\",\"C\",\"C\",\"C\",\"C\",\"C\",\"C\",\"C\",\"C\",\"C\",\"C\",\"C\",\"C\",\"C\",\"C\",\"C\",\"C\",\"C\",\"C\",\"C\",\"C\",\"C\",\"C\",\"C\",\"C\",\"C\",\"C\",\"C\",\"C\",\"C\",\"C\",\"C\",\"C\",\"C\",\"C\",\"C\",\"C\",\"C\",\"C\",\"C\",\"C\",\"C\",\"C\",\"C\",\"C\",\"C\",\"C\",\"C\",\"C\",\"C\",\"C\",\"C\",\"C\",\"C\",\"C\",\"C\",\"C\",\"C\",\"C\",\"C\",\"C\",\"C\",\"C\",\"C\",\"C\",\"C\",\"C\",\"C\",\"C\",\"C\",\"C\",\"C\",\"C\",\"C\",\"C\",\"C\",\"C\",\"C\",\"C\",\"C\",\"C\",\"C\",\"C\",\"C\",\"C\",\"C\",\"C\",\"C\",\"C\",\"C\",\"C\",\"C\",\"C\",\"C\",\"C\",\"C\",\"C\",\"C\",\"C\",\"C\",\"C\",\"C\",\"C\",\"C\",\"C\",\"C\",\"C\",\"C\",\"C\",\"C\",\"C\",\"C\",\"C\",\"C\",\"C\",\"C\",\"C\",\"C\",\"C\",\"C\",\"C\",\"C\",\"C\",\"C\",\"C\",\"C\",\"C\",\"C\",\"C\",\"C\",\"C\",\"C\",\"C\",\"C\",\"C\",\"C\",\"C\",\"C\",\"C\",\"C\",\"C\",\"C\",\"C\",\"C\",\"C\",\"C\",\"C\",\"C\",\"C\",\"C\",\"C\",\"C\",\"C\",\"C\",\"C\",\"C\",\"C\",\"C\",\"C\",\"C\",\"C\",\"C\",\"C\",\"C\",\"C\",\"C\",\"C\",\"C\",\"C\",\"C\",\"C\",\"C\",\"C\",\"C\",\"C\",\"C\",\"C\",\"C\",\"C\",\"C\",\"C\",\"C\",\"C\",\"C\",\"C\",\"C\",\"C\",\"C\",\"C\",\"C\",\"C\",\"C\",\"C\",\"C\",\"C\",\"C\",\"C\",\"C\",\"C\",\"C\"]]]}}},\"view\":{\"type\":\"object\",\"name\":\"CDSView\",\"id\":\"p1182\",\"attributes\":{\"filter\":{\"type\":\"object\",\"name\":\"AllIndices\",\"id\":\"p1183\"}}},\"glyph\":{\"type\":\"object\",\"name\":\"Line\",\"id\":\"p1178\",\"attributes\":{\"tags\":[\"apply_ranges\"],\"x\":{\"type\":\"field\",\"field\":\"index\"},\"y\":{\"type\":\"field\",\"field\":\"value\"},\"line_color\":\"#e5ae38\",\"line_width\":2}},\"selection_glyph\":{\"type\":\"object\",\"name\":\"Line\",\"id\":\"p1185\",\"attributes\":{\"tags\":[\"apply_ranges\"],\"x\":{\"type\":\"field\",\"field\":\"index\"},\"y\":{\"type\":\"field\",\"field\":\"value\"},\"line_color\":\"#e5ae38\",\"line_width\":2}},\"nonselection_glyph\":{\"type\":\"object\",\"name\":\"Line\",\"id\":\"p1179\",\"attributes\":{\"tags\":[\"apply_ranges\"],\"x\":{\"type\":\"field\",\"field\":\"index\"},\"y\":{\"type\":\"field\",\"field\":\"value\"},\"line_color\":\"#e5ae38\",\"line_alpha\":0.1,\"line_width\":2}},\"muted_glyph\":{\"type\":\"object\",\"name\":\"Line\",\"id\":\"p1180\",\"attributes\":{\"tags\":[\"apply_ranges\"],\"x\":{\"type\":\"field\",\"field\":\"index\"},\"y\":{\"type\":\"field\",\"field\":\"value\"},\"line_color\":\"#e5ae38\",\"line_alpha\":0.2,\"line_width\":2}}}},{\"type\":\"object\",\"name\":\"GlyphRenderer\",\"id\":\"p1195\",\"attributes\":{\"name\":\"D\",\"data_source\":{\"type\":\"object\",\"name\":\"ColumnDataSource\",\"id\":\"p1186\",\"attributes\":{\"selected\":{\"type\":\"object\",\"name\":\"Selection\",\"id\":\"p1187\",\"attributes\":{\"indices\":[],\"line_indices\":[]}},\"selection_policy\":{\"type\":\"object\",\"name\":\"UnionRenderers\",\"id\":\"p1188\"},\"data\":{\"type\":\"map\",\"entries\":[[\"index\",{\"type\":\"ndarray\",\"array\":{\"type\":\"bytes\",\"data\":\"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\"},\"shape\":[1000],\"dtype\":\"float64\",\"order\":\"little\"}],[\"value\",{\"type\":\"ndarray\",\"array\":{\"type\":\"bytes\",\"data\":\"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\"},\"shape\":[1000],\"dtype\":\"float64\",\"order\":\"little\"}],[\"Variable\",[\"D\",\"D\",\"D\",\"D\",\"D\",\"D\",\"D\",\"D\",\"D\",\"D\",\"D\",\"D\",\"D\",\"D\",\"D\",\"D\",\"D\",\"D\",\"D\",\"D\",\"D\",\"D\",\"D\",\"D\",\"D\",\"D\",\"D\",\"D\",\"D\",\"D\",\"D\",\"D\",\"D\",\"D\",\"D\",\"D\",\"D\",\"D\",\"D\",\"D\",\"D\",\"D\",\"D\",\"D\",\"D\",\"D\",\"D\",\"D\",\"D\",\"D\",\"D\",\"D\",\"D\",\"D\",\"D\",\"D\",\"D\",\"D\",\"D\",\"D\",\"D\",\"D\",\"D\",\"D\",\"D\",\"D\",\"D\",\"D\",\"D\",\"D\",\"D\",\"D\",\"D\",\"D\",\"D\",\"D\",\"D\",\"D\",\"D\",\"D\",\"D\",\"D\",\"D\",\"D\",\"D\",\"D\",\"D\",\"D\",\"D\",\"D\",\"D\",\"D\",\"D\",\"D\",\"D\",\"D\",\"D\",\"D\",\"D\",\"D\",\"D\",\"D\",\"D\",\"D\",\"D\",\"D\",\"D\",\"D\",\"D\",\"D\",\"D\",\"D\",\"D\",\"D\",\"D\",\"D\",\"D\",\"D\",\"D\",\"D\",\"D\",\"D\",\"D\",\"D\",\"D\",\"D\",\"D\",\"D\",\"D\",\"D\",\"D\",\"D\",\"D\",\"D\",\"D\",\"D\",\"D\",\"D\",\"D\",\"D\",\"D\",\"D\",\"D\",\"D\",\"D\",\"D\",\"D\",\"D\",\"D\",\"D\",\"D\",\"D\",\"D\",\"D\",\"D\",\"D\",\"D\",\"D\",\"D\",\"D\",\"D\",\"D\",\"D\",\"D\",\"D\",\"D\",\"D\",\"D\",\"D\",\"D\",\"D\",\"D\",\"D\",\"D\",\"D\",\"D\",\"D\",\"D\",\"D\",\"D\",\"D\",\"D\",\"D\",\"D\",\"D\",\"D\",\"D\",\"D\",\"D\",\"D\",\"D\",\"D\",\"D\",\"D\",\"D\",\"D\",\"D\",\"D\",\"D\",\"D\",\"D\",\"D\",\"D\",\"D\",\"D\",\"D\",\"D\",\"D\",\"D\",\"D\",\"D\",\"D\",\"D\",\"D\",\"D\",\"D\",\"D\",\"D\",\"D\",\"D\",\"D\",\"D\",\"D\",\"D\",\"D\",\"D\",\"D\",\"D\",\"D\",\"D\",\"D\",\"D\",\"D\",\"D\",\"D\",\"D\",\"D\",\"D\",\"D\",\"D\",\"D\",\"D\",\"D\",\"D\",\"D\",\"D\",\"D\",\"D\",\"D\",\"D\",\"D\",\"D\",\"D\",\"D\",\"D\",\"D\",\"D\",\"D\",\"D\",\"D\",\"D\",\"D\",\"D\",\"D\",\"D\",\"D\",\"D\",\"D\",\"D\",\"D\",\"D\",\"D\",\"D\",\"D\",\"D\",\"D\",\"D\",\"D\",\"D\",\"D\",\"D\",\"D\",\"D\",\"D\",\"D\",\"D\",\"D\",\"D\",\"D\",\"D\",\"D\",\"D\",\"D\",\"D\",\"D\",\"D\",\"D\",\"D\",\"D\",\"D\",\"D\",\"D\",\"D\",\"D\",\"D\",\"D\",\"D\",\"D\",\"D\",\"D\",\"D\",\"D\",\"D\",\"D\",\"D\",\"D\",\"D\",\"D\",\"D\",\"D\",\"D\",\"D\",\"D\",\"D\",\"D\",\"D\",\"D\",\"D\",\"D\",\"D\",\"D\",\"D\",\"D\",\"D\",\"D\",\"D\",\"D\",\"D\",\"D\",\"D\",\"D\",\"D\",\"D\",\"D\",\"D\",\"D\",\"D\",\"D\",\"D\",\"D\",\"D\",\"D\",\"D\",\"D\",\"D\",\"D\",\"D\",\"D\",\"D\",\"D\",\"D\",\"D\",\"D\",\"D\",\"D\",\"D\",\"D\",\"D\",\"D\",\"D\",\"D\",\"D\",\"D\",\"D\",\"D\",\"D\",\"D\",\"D\",\"D\",\"D\",\"D\",\"D\",\"D\",\"D\",\"D\",\"D\",\"D\",\"D\",\"D\",\"D\",\"D\",\"D\",\"D\",\"D\",\"D\",\"D\",\"D\",\"D\",\"D\",\"D\",\"D\",\"D\",\"D\",\"D\",\"D\",\"D\",\"D\",\"D\",\"D\",\"D\",\"D\",\"D\",\"D\",\"D\",\"D\",\"D\",\"D\",\"D\",\"D\",\"D\",\"D\",\"D\",\"D\",\"D\",\"D\",\"D\",\"D\",\"D\",\"D\",\"D\",\"D\",\"D\",\"D\",\"D\",\"D\",\"D\",\"D\",\"D\",\"D\",\"D\",\"D\",\"D\",\"D\",\"D\",\"D\",\"D\",\"D\",\"D\",\"D\",\"D\",\"D\",\"D\",\"D\",\"D\",\"D\",\"D\",\"D\",\"D\",\"D\",\"D\",\"D\",\"D\",\"D\",\"D\",\"D\",\"D\",\"D\",\"D\",\"D\",\"D\",\"D\",\"D\",\"D\",\"D\",\"D\",\"D\",\"D\",\"D\",\"D\",\"D\",\"D\",\"D\",\"D\",\"D\",\"D\",\"D\",\"D\",\"D\",\"D\",\"D\",\"D\",\"D\",\"D\",\"D\",\"D\",\"D\",\"D\",\"D\",\"D\",\"D\",\"D\",\"D\",\"D\",\"D\",\"D\",\"D\",\"D\",\"D\",\"D\",\"D\",\"D\",\"D\",\"D\",\"D\",\"D\",\"D\",\"D\",\"D\",\"D\",\"D\",\"D\",\"D\",\"D\",\"D\",\"D\",\"D\",\"D\",\"D\",\"D\",\"D\",\"D\",\"D\",\"D\",\"D\",\"D\",\"D\",\"D\",\"D\",\"D\",\"D\",\"D\",\"D\",\"D\",\"D\",\"D\",\"D\",\"D\",\"D\",\"D\",\"D\",\"D\",\"D\",\"D\",\"D\",\"D\",\"D\",\"D\",\"D\",\"D\",\"D\",\"D\",\"D\",\"D\",\"D\",\"D\",\"D\",\"D\",\"D\",\"D\",\"D\",\"D\",\"D\",\"D\",\"D\",\"D\",\"D\",\"D\",\"D\",\"D\",\"D\",\"D\",\"D\",\"D\",\"D\",\"D\",\"D\",\"D\",\"D\",\"D\",\"D\",\"D\",\"D\",\"D\",\"D\",\"D\",\"D\",\"D\",\"D\",\"D\",\"D\",\"D\",\"D\",\"D\",\"D\",\"D\",\"D\",\"D\",\"D\",\"D\",\"D\",\"D\",\"D\",\"D\",\"D\",\"D\",\"D\",\"D\",\"D\",\"D\",\"D\",\"D\",\"D\",\"D\",\"D\",\"D\",\"D\",\"D\",\"D\",\"D\",\"D\",\"D\",\"D\",\"D\",\"D\",\"D\",\"D\",\"D\",\"D\",\"D\",\"D\",\"D\",\"D\",\"D\",\"D\",\"D\",\"D\",\"D\",\"D\",\"D\",\"D\",\"D\",\"D\",\"D\",\"D\",\"D\",\"D\",\"D\",\"D\",\"D\",\"D\",\"D\",\"D\",\"D\",\"D\",\"D\",\"D\",\"D\",\"D\",\"D\",\"D\",\"D\",\"D\",\"D\",\"D\",\"D\",\"D\",\"D\",\"D\",\"D\",\"D\",\"D\",\"D\",\"D\",\"D\",\"D\",\"D\",\"D\",\"D\",\"D\",\"D\",\"D\",\"D\",\"D\",\"D\",\"D\",\"D\",\"D\",\"D\",\"D\",\"D\",\"D\",\"D\",\"D\",\"D\",\"D\",\"D\",\"D\",\"D\",\"D\",\"D\",\"D\",\"D\",\"D\",\"D\",\"D\",\"D\",\"D\",\"D\",\"D\",\"D\",\"D\",\"D\",\"D\",\"D\",\"D\",\"D\",\"D\",\"D\",\"D\",\"D\",\"D\",\"D\",\"D\",\"D\",\"D\",\"D\",\"D\",\"D\",\"D\",\"D\",\"D\",\"D\",\"D\",\"D\",\"D\",\"D\",\"D\",\"D\",\"D\",\"D\",\"D\",\"D\",\"D\",\"D\",\"D\",\"D\",\"D\",\"D\",\"D\",\"D\",\"D\",\"D\",\"D\",\"D\",\"D\",\"D\",\"D\",\"D\",\"D\",\"D\",\"D\",\"D\",\"D\",\"D\",\"D\",\"D\",\"D\",\"D\",\"D\",\"D\",\"D\",\"D\",\"D\",\"D\",\"D\",\"D\",\"D\",\"D\",\"D\",\"D\",\"D\",\"D\",\"D\",\"D\",\"D\",\"D\",\"D\",\"D\",\"D\",\"D\",\"D\",\"D\",\"D\",\"D\",\"D\",\"D\",\"D\",\"D\",\"D\",\"D\",\"D\",\"D\",\"D\",\"D\",\"D\",\"D\",\"D\",\"D\",\"D\",\"D\",\"D\",\"D\",\"D\",\"D\",\"D\",\"D\",\"D\",\"D\",\"D\",\"D\",\"D\",\"D\",\"D\",\"D\",\"D\",\"D\",\"D\",\"D\",\"D\",\"D\",\"D\",\"D\",\"D\",\"D\",\"D\",\"D\",\"D\",\"D\",\"D\",\"D\",\"D\",\"D\",\"D\",\"D\",\"D\",\"D\",\"D\",\"D\",\"D\",\"D\",\"D\",\"D\",\"D\",\"D\",\"D\",\"D\",\"D\",\"D\",\"D\",\"D\",\"D\",\"D\",\"D\",\"D\",\"D\",\"D\",\"D\",\"D\",\"D\",\"D\",\"D\",\"D\",\"D\",\"D\",\"D\",\"D\",\"D\",\"D\",\"D\",\"D\",\"D\",\"D\",\"D\",\"D\",\"D\",\"D\",\"D\",\"D\",\"D\",\"D\",\"D\",\"D\",\"D\",\"D\",\"D\",\"D\",\"D\",\"D\",\"D\",\"D\",\"D\",\"D\",\"D\",\"D\",\"D\",\"D\",\"D\",\"D\",\"D\",\"D\",\"D\",\"D\",\"D\",\"D\",\"D\",\"D\",\"D\",\"D\",\"D\",\"D\",\"D\",\"D\",\"D\",\"D\",\"D\",\"D\",\"D\",\"D\",\"D\",\"D\",\"D\",\"D\",\"D\",\"D\",\"D\",\"D\",\"D\",\"D\",\"D\",\"D\",\"D\",\"D\",\"D\",\"D\",\"D\",\"D\",\"D\",\"D\",\"D\",\"D\",\"D\",\"D\",\"D\",\"D\",\"D\",\"D\",\"D\",\"D\",\"D\",\"D\",\"D\",\"D\",\"D\",\"D\",\"D\",\"D\",\"D\",\"D\",\"D\",\"D\",\"D\",\"D\",\"D\",\"D\",\"D\",\"D\",\"D\",\"D\",\"D\",\"D\",\"D\",\"D\",\"D\",\"D\",\"D\",\"D\",\"D\",\"D\",\"D\",\"D\"]]]}}},\"view\":{\"type\":\"object\",\"name\":\"CDSView\",\"id\":\"p1196\",\"attributes\":{\"filter\":{\"type\":\"object\",\"name\":\"AllIndices\",\"id\":\"p1197\"}}},\"glyph\":{\"type\":\"object\",\"name\":\"Line\",\"id\":\"p1192\",\"attributes\":{\"tags\":[\"apply_ranges\"],\"x\":{\"type\":\"field\",\"field\":\"index\"},\"y\":{\"type\":\"field\",\"field\":\"value\"},\"line_color\":\"#6d904f\",\"line_width\":2}},\"selection_glyph\":{\"type\":\"object\",\"name\":\"Line\",\"id\":\"p1199\",\"attributes\":{\"tags\":[\"apply_ranges\"],\"x\":{\"type\":\"field\",\"field\":\"index\"},\"y\":{\"type\":\"field\",\"field\":\"value\"},\"line_color\":\"#6d904f\",\"line_width\":2}},\"nonselection_glyph\":{\"type\":\"object\",\"name\":\"Line\",\"id\":\"p1193\",\"attributes\":{\"tags\":[\"apply_ranges\"],\"x\":{\"type\":\"field\",\"field\":\"index\"},\"y\":{\"type\":\"field\",\"field\":\"value\"},\"line_color\":\"#6d904f\",\"line_alpha\":0.1,\"line_width\":2}},\"muted_glyph\":{\"type\":\"object\",\"name\":\"Line\",\"id\":\"p1194\",\"attributes\":{\"tags\":[\"apply_ranges\"],\"x\":{\"type\":\"field\",\"field\":\"index\"},\"y\":{\"type\":\"field\",\"field\":\"value\"},\"line_color\":\"#6d904f\",\"line_alpha\":0.2,\"line_width\":2}}}}],\"toolbar\":{\"type\":\"object\",\"name\":\"Toolbar\",\"id\":\"p1109\",\"attributes\":{\"tools\":[{\"type\":\"object\",\"name\":\"WheelZoomTool\",\"id\":\"p1089\",\"attributes\":{\"tags\":[\"hv_created\"],\"renderers\":\"auto\",\"zoom_together\":\"none\"}},{\"type\":\"object\",\"name\":\"HoverTool\",\"id\":\"p1090\",\"attributes\":{\"tags\":[\"hv_created\"],\"renderers\":[{\"id\":\"p1152\"},{\"id\":\"p1167\"},{\"id\":\"p1181\"},{\"id\":\"p1195\"}],\"tooltips\":[[\"Variable\",\"@{Variable}\"],[\"index\",\"@{index}{%F %T}\"],[\"value\",\"@{value}\"]],\"formatters\":{\"type\":\"map\",\"entries\":[[\"@{index}\",\"datetime\"]]}}},{\"type\":\"object\",\"name\":\"SaveTool\",\"id\":\"p1134\"},{\"type\":\"object\",\"name\":\"PanTool\",\"id\":\"p1135\"},{\"type\":\"object\",\"name\":\"BoxZoomTool\",\"id\":\"p1136\",\"attributes\":{\"overlay\":{\"type\":\"object\",\"name\":\"BoxAnnotation\",\"id\":\"p1137\",\"attributes\":{\"syncable\":false,\"level\":\"overlay\",\"visible\":false,\"left\":{\"type\":\"number\",\"value\":\"nan\"},\"right\":{\"type\":\"number\",\"value\":\"nan\"},\"top\":{\"type\":\"number\",\"value\":\"nan\"},\"bottom\":{\"type\":\"number\",\"value\":\"nan\"},\"left_units\":\"canvas\",\"right_units\":\"canvas\",\"top_units\":\"canvas\",\"bottom_units\":\"canvas\",\"line_color\":\"black\",\"line_alpha\":1.0,\"line_width\":2,\"line_dash\":[4,4],\"fill_color\":\"lightgrey\",\"fill_alpha\":0.5}}}},{\"type\":\"object\",\"name\":\"ResetTool\",\"id\":\"p1142\"}],\"active_drag\":{\"id\":\"p1135\"},\"active_scroll\":{\"id\":\"p1089\"}}},\"left\":[{\"type\":\"object\",\"name\":\"LinearAxis\",\"id\":\"p1129\",\"attributes\":{\"ticker\":{\"type\":\"object\",\"name\":\"BasicTicker\",\"id\":\"p1130\",\"attributes\":{\"mantissas\":[1,2,5]}},\"formatter\":{\"type\":\"object\",\"name\":\"BasicTickFormatter\",\"id\":\"p1131\"},\"axis_label\":\"\",\"major_label_policy\":{\"type\":\"object\",\"name\":\"AllLabels\",\"id\":\"p1132\"}}}],\"right\":[{\"type\":\"object\",\"name\":\"Legend\",\"id\":\"p1155\",\"attributes\":{\"location\":[0,0],\"title\":\"Variable\",\"click_policy\":\"mute\",\"items\":[{\"type\":\"object\",\"name\":\"LegendItem\",\"id\":\"p1156\",\"attributes\":{\"label\":{\"type\":\"value\",\"value\":\"A\"},\"renderers\":[{\"id\":\"p1152\"}]}},{\"type\":\"object\",\"name\":\"LegendItem\",\"id\":\"p1170\",\"attributes\":{\"label\":{\"type\":\"value\",\"value\":\"B\"},\"renderers\":[{\"id\":\"p1167\"}]}},{\"type\":\"object\",\"name\":\"LegendItem\",\"id\":\"p1184\",\"attributes\":{\"label\":{\"type\":\"value\",\"value\":\"C\"},\"renderers\":[{\"id\":\"p1181\"}]}},{\"type\":\"object\",\"name\":\"LegendItem\",\"id\":\"p1198\",\"attributes\":{\"label\":{\"type\":\"value\",\"value\":\"D\"},\"renderers\":[{\"id\":\"p1195\"}]}}]}}],\"below\":[{\"type\":\"object\",\"name\":\"DatetimeAxis\",\"id\":\"p1112\",\"attributes\":{\"ticker\":{\"type\":\"object\",\"name\":\"DatetimeTicker\",\"id\":\"p1113\",\"attributes\":{\"num_minor_ticks\":5,\"tickers\":[{\"type\":\"object\",\"name\":\"AdaptiveTicker\",\"id\":\"p1114\",\"attributes\":{\"num_minor_ticks\":0,\"mantissas\":[1,2,5],\"max_interval\":500.0}},{\"type\":\"object\",\"name\":\"AdaptiveTicker\",\"id\":\"p1115\",\"attributes\":{\"num_minor_ticks\":0,\"base\":60,\"mantissas\":[1,2,5,10,15,20,30],\"min_interval\":1000.0,\"max_interval\":1800000.0}},{\"type\":\"object\",\"name\":\"AdaptiveTicker\",\"id\":\"p1116\",\"attributes\":{\"num_minor_ticks\":0,\"base\":24,\"mantissas\":[1,2,4,6,8,12],\"min_interval\":3600000.0,\"max_interval\":43200000.0}},{\"type\":\"object\",\"name\":\"DaysTicker\",\"id\":\"p1117\",\"attributes\":{\"days\":[1,2,3,4,5,6,7,8,9,10,11,12,13,14,15,16,17,18,19,20,21,22,23,24,25,26,27,28,29,30,31]}},{\"type\":\"object\",\"name\":\"DaysTicker\",\"id\":\"p1118\",\"attributes\":{\"days\":[1,4,7,10,13,16,19,22,25,28]}},{\"type\":\"object\",\"name\":\"DaysTicker\",\"id\":\"p1119\",\"attributes\":{\"days\":[1,8,15,22]}},{\"type\":\"object\",\"name\":\"DaysTicker\",\"id\":\"p1120\",\"attributes\":{\"days\":[1,15]}},{\"type\":\"object\",\"name\":\"MonthsTicker\",\"id\":\"p1121\",\"attributes\":{\"months\":[0,1,2,3,4,5,6,7,8,9,10,11]}},{\"type\":\"object\",\"name\":\"MonthsTicker\",\"id\":\"p1122\",\"attributes\":{\"months\":[0,2,4,6,8,10]}},{\"type\":\"object\",\"name\":\"MonthsTicker\",\"id\":\"p1123\",\"attributes\":{\"months\":[0,4,8]}},{\"type\":\"object\",\"name\":\"MonthsTicker\",\"id\":\"p1124\",\"attributes\":{\"months\":[0,6]}},{\"type\":\"object\",\"name\":\"YearsTicker\",\"id\":\"p1125\"}]}},\"formatter\":{\"type\":\"object\",\"name\":\"DatetimeTickFormatter\",\"id\":\"p1126\"},\"axis_label\":\"\",\"major_label_policy\":{\"type\":\"object\",\"name\":\"AllLabels\",\"id\":\"p1127\"}}}],\"center\":[{\"type\":\"object\",\"name\":\"Grid\",\"id\":\"p1128\",\"attributes\":{\"axis\":{\"id\":\"p1112\"},\"grid_line_color\":null}},{\"type\":\"object\",\"name\":\"Grid\",\"id\":\"p1133\",\"attributes\":{\"dimension\":1,\"axis\":{\"id\":\"p1129\"},\"grid_line_color\":null}}],\"min_border_top\":10,\"min_border_bottom\":10,\"min_border_left\":10,\"min_border_right\":10,\"output_backend\":\"webgl\"}},{\"type\":\"object\",\"name\":\"Spacer\",\"id\":\"p1201\",\"attributes\":{\"name\":\"HSpacer01149\",\"stylesheets\":[\"\\n:host(.pn-loading):before, .pn-loading:before {\\n  background-color: #c3c3c3;\\n  mask-size: auto calc(min(50%, 400px));\\n  -webkit-mask-size: auto calc(min(50%, 400px));\\n}\",{\"id\":\"p1082\"},{\"id\":\"p1080\"},{\"id\":\"p1081\"}],\"margin\":0,\"sizing_mode\":\"stretch_width\",\"align\":\"start\"}}]}}],\"defs\":[{\"type\":\"model\",\"name\":\"ReactiveHTML1\"},{\"type\":\"model\",\"name\":\"FlexBox1\",\"properties\":[{\"name\":\"align_content\",\"kind\":\"Any\",\"default\":\"flex-start\"},{\"name\":\"align_items\",\"kind\":\"Any\",\"default\":\"flex-start\"},{\"name\":\"flex_direction\",\"kind\":\"Any\",\"default\":\"row\"},{\"name\":\"flex_wrap\",\"kind\":\"Any\",\"default\":\"wrap\"},{\"name\":\"gap\",\"kind\":\"Any\",\"default\":\"\"},{\"name\":\"justify_content\",\"kind\":\"Any\",\"default\":\"flex-start\"}]},{\"type\":\"model\",\"name\":\"FloatPanel1\",\"properties\":[{\"name\":\"config\",\"kind\":\"Any\",\"default\":{\"type\":\"map\"}},{\"name\":\"contained\",\"kind\":\"Any\",\"default\":true},{\"name\":\"position\",\"kind\":\"Any\",\"default\":\"right-top\"},{\"name\":\"offsetx\",\"kind\":\"Any\",\"default\":null},{\"name\":\"offsety\",\"kind\":\"Any\",\"default\":null},{\"name\":\"theme\",\"kind\":\"Any\",\"default\":\"primary\"},{\"name\":\"status\",\"kind\":\"Any\",\"default\":\"normalized\"}]},{\"type\":\"model\",\"name\":\"GridStack1\",\"properties\":[{\"name\":\"mode\",\"kind\":\"Any\",\"default\":\"warn\"},{\"name\":\"ncols\",\"kind\":\"Any\",\"default\":null},{\"name\":\"nrows\",\"kind\":\"Any\",\"default\":null},{\"name\":\"allow_resize\",\"kind\":\"Any\",\"default\":true},{\"name\":\"allow_drag\",\"kind\":\"Any\",\"default\":true},{\"name\":\"state\",\"kind\":\"Any\",\"default\":[]}]},{\"type\":\"model\",\"name\":\"drag1\",\"properties\":[{\"name\":\"slider_width\",\"kind\":\"Any\",\"default\":5},{\"name\":\"slider_color\",\"kind\":\"Any\",\"default\":\"black\"},{\"name\":\"value\",\"kind\":\"Any\",\"default\":50}]},{\"type\":\"model\",\"name\":\"click1\",\"properties\":[{\"name\":\"terminal_output\",\"kind\":\"Any\",\"default\":\"\"},{\"name\":\"debug_name\",\"kind\":\"Any\",\"default\":\"\"},{\"name\":\"clears\",\"kind\":\"Any\",\"default\":0}]},{\"type\":\"model\",\"name\":\"FastWrapper1\",\"properties\":[{\"name\":\"object\",\"kind\":\"Any\",\"default\":null},{\"name\":\"style\",\"kind\":\"Any\",\"default\":null}]},{\"type\":\"model\",\"name\":\"NotificationAreaBase1\",\"properties\":[{\"name\":\"js_events\",\"kind\":\"Any\",\"default\":{\"type\":\"map\"}},{\"name\":\"position\",\"kind\":\"Any\",\"default\":\"bottom-right\"},{\"name\":\"_clear\",\"kind\":\"Any\",\"default\":0}]},{\"type\":\"model\",\"name\":\"NotificationArea1\",\"properties\":[{\"name\":\"js_events\",\"kind\":\"Any\",\"default\":{\"type\":\"map\"}},{\"name\":\"notifications\",\"kind\":\"Any\",\"default\":[]},{\"name\":\"position\",\"kind\":\"Any\",\"default\":\"bottom-right\"},{\"name\":\"_clear\",\"kind\":\"Any\",\"default\":0},{\"name\":\"types\",\"kind\":\"Any\",\"default\":[{\"type\":\"map\",\"entries\":[[\"type\",\"warning\"],[\"background\",\"#ffc107\"],[\"icon\",{\"type\":\"map\",\"entries\":[[\"className\",\"fas fa-exclamation-triangle\"],[\"tagName\",\"i\"],[\"color\",\"white\"]]}]]},{\"type\":\"map\",\"entries\":[[\"type\",\"info\"],[\"background\",\"#007bff\"],[\"icon\",{\"type\":\"map\",\"entries\":[[\"className\",\"fas fa-info-circle\"],[\"tagName\",\"i\"],[\"color\",\"white\"]]}]]}]}]},{\"type\":\"model\",\"name\":\"Notification\",\"properties\":[{\"name\":\"background\",\"kind\":\"Any\",\"default\":null},{\"name\":\"duration\",\"kind\":\"Any\",\"default\":3000},{\"name\":\"icon\",\"kind\":\"Any\",\"default\":null},{\"name\":\"message\",\"kind\":\"Any\",\"default\":\"\"},{\"name\":\"notification_type\",\"kind\":\"Any\",\"default\":null},{\"name\":\"_destroyed\",\"kind\":\"Any\",\"default\":false}]},{\"type\":\"model\",\"name\":\"TemplateActions1\",\"properties\":[{\"name\":\"open_modal\",\"kind\":\"Any\",\"default\":0},{\"name\":\"close_modal\",\"kind\":\"Any\",\"default\":0}]},{\"type\":\"model\",\"name\":\"BootstrapTemplateActions1\",\"properties\":[{\"name\":\"open_modal\",\"kind\":\"Any\",\"default\":0},{\"name\":\"close_modal\",\"kind\":\"Any\",\"default\":0}]},{\"type\":\"model\",\"name\":\"TemplateEditor1\",\"properties\":[{\"name\":\"layout\",\"kind\":\"Any\",\"default\":[]}]},{\"type\":\"model\",\"name\":\"MaterialTemplateActions1\",\"properties\":[{\"name\":\"open_modal\",\"kind\":\"Any\",\"default\":0},{\"name\":\"close_modal\",\"kind\":\"Any\",\"default\":0}]},{\"type\":\"model\",\"name\":\"copy_to_clipboard1\",\"properties\":[{\"name\":\"fill\",\"kind\":\"Any\",\"default\":\"none\"},{\"name\":\"value\",\"kind\":\"Any\",\"default\":null}]}]}};\n",
       "  var render_items = [{\"docid\":\"2f9191ac-c049-465e-983c-1b1eda33dadf\",\"roots\":{\"p1079\":\"c1c13ebf-8762-46da-8a19-aa1e276ab23f\"},\"root_ids\":[\"p1079\"]}];\n",
       "  var docs = Object.values(docs_json)\n",
       "  if (!docs) {\n",
       "    return\n",
       "  }\n",
       "  const py_version = docs[0].version.replace('rc', '-rc.').replace('.dev', '-dev.')\n",
       "  async function embed_document(root) {\n",
       "    var Bokeh = get_bokeh(root)\n",
       "    await Bokeh.embed.embed_items_notebook(docs_json, render_items);\n",
       "    for (const render_item of render_items) {\n",
       "      for (const root_id of render_item.root_ids) {\n",
       "\tconst id_el = document.getElementById(root_id)\n",
       "\tif (id_el.children.length && id_el.children[0].hasAttribute('data-root-id')) {\n",
       "\t  const root_el = id_el.children[0]\n",
       "\t  root_el.id = root_el.id + '-rendered'\n",
       "\t  for (const child of root_el.children) {\n",
       "            // Ensure JupyterLab does not capture keyboard shortcuts\n",
       "            // see: https://jupyterlab.readthedocs.io/en/4.1.x/extension/notebook.html#keyboard-interaction-model\n",
       "\t    child.setAttribute('data-lm-suppress-shortcuts', 'true')\n",
       "\t  }\n",
       "\t}\n",
       "      }\n",
       "    }\n",
       "  }\n",
       "  function get_bokeh(root) {\n",
       "    if (root.Bokeh === undefined) {\n",
       "      return null\n",
       "    } else if (root.Bokeh.version !== py_version) {\n",
       "      if (root.Bokeh.versions === undefined || !root.Bokeh.versions.has(py_version)) {\n",
       "\treturn null\n",
       "      }\n",
       "      return root.Bokeh.versions.get(py_version);\n",
       "    } else if (root.Bokeh.version === py_version) {\n",
       "      return root.Bokeh\n",
       "    }\n",
       "    return null\n",
       "  }\n",
       "  function is_loaded(root) {\n",
       "    var Bokeh = get_bokeh(root)\n",
       "    return (Bokeh != null && Bokeh.Panel !== undefined)\n",
       "  }\n",
       "  if (is_loaded(root)) {\n",
       "    embed_document(root);\n",
       "  } else {\n",
       "    var attempts = 0;\n",
       "    var timer = setInterval(function(root) {\n",
       "      if (is_loaded(root)) {\n",
       "        clearInterval(timer);\n",
       "        embed_document(root);\n",
       "      } else if (document.readyState == \"complete\") {\n",
       "        attempts++;\n",
       "        if (attempts > 200) {\n",
       "          clearInterval(timer);\n",
       "\t  var Bokeh = get_bokeh(root)\n",
       "\t  if (Bokeh == null || Bokeh.Panel == null) {\n",
       "            console.warn(\"Panel: ERROR: Unable to run Panel code because Bokeh or Panel library is missing\");\n",
       "\t  } else {\n",
       "\t    console.warn(\"Panel: WARNING: Attempting to render but not all required libraries could be resolved.\")\n",
       "\t    embed_document(root)\n",
       "\t  }\n",
       "        }\n",
       "      }\n",
       "    }, 25, root)\n",
       "  }\n",
       "})(window);</script>"
      ],
      "text/plain": [
       ":NdOverlay   [Variable]\n",
       "   :Curve   [index]   (value)"
      ]
     },
     "execution_count": 188,
     "metadata": {
      "application/vnd.holoviews_exec.v0+json": {
       "id": "p1079"
      }
     },
     "output_type": "execute_result"
    }
   ],
   "source": [
    "df = pl.DataFrame(\n",
    "    np.random.randn(1000, 4), schema=['A', 'B', 'C', 'D']\n",
    ")\n",
    "df = df.with_columns(\n",
    "    ts['index'],\n",
    "    pl.all().cum_sum()\n",
    ")\n",
    "df.hvplot.line(x='index')"
   ]
  },
  {
   "cell_type": "markdown",
   "id": "b35f5ab5-3660-4fc7-a0c9-a1b599a7a2cf",
   "metadata": {},
   "source": [
    "## Importing and exporting data"
   ]
  },
  {
   "cell_type": "markdown",
   "id": "253febe9-b988-4999-94aa-0777caf1d6a1",
   "metadata": {},
   "source": [
    "### CSV"
   ]
  },
  {
   "cell_type": "code",
   "execution_count": 191,
   "id": "0ffeab03-9631-4ef6-b3fc-aab665ac9952",
   "metadata": {},
   "outputs": [],
   "source": [
    "df = pl.DataFrame(np.random.randint(0, 5, (10, 5)))\n",
    "df.write_csv('data/pandas_foo.csv')"
   ]
  },
  {
   "cell_type": "code",
   "execution_count": 192,
   "id": "3f781026-2b16-4ecf-bb43-11cbce70b4dc",
   "metadata": {},
   "outputs": [
    {
     "data": {
      "text/html": [
       "<div><style>\n",
       ".dataframe > thead > tr,\n",
       ".dataframe > tbody > tr {\n",
       "  text-align: right;\n",
       "  white-space: pre-wrap;\n",
       "}\n",
       "</style>\n",
       "<small>shape: (10, 5)</small><table border=\"1\" class=\"dataframe\"><thead><tr><th>column_0</th><th>column_1</th><th>column_2</th><th>column_3</th><th>column_4</th></tr><tr><td>i64</td><td>i64</td><td>i64</td><td>i64</td><td>i64</td></tr></thead><tbody><tr><td>1</td><td>2</td><td>0</td><td>0</td><td>1</td></tr><tr><td>3</td><td>1</td><td>0</td><td>4</td><td>1</td></tr><tr><td>3</td><td>1</td><td>0</td><td>1</td><td>2</td></tr><tr><td>2</td><td>1</td><td>1</td><td>0</td><td>0</td></tr><tr><td>0</td><td>3</td><td>0</td><td>4</td><td>4</td></tr><tr><td>4</td><td>4</td><td>4</td><td>3</td><td>0</td></tr><tr><td>2</td><td>0</td><td>2</td><td>2</td><td>4</td></tr><tr><td>0</td><td>2</td><td>1</td><td>3</td><td>3</td></tr><tr><td>4</td><td>0</td><td>3</td><td>2</td><td>4</td></tr><tr><td>2</td><td>1</td><td>4</td><td>1</td><td>1</td></tr></tbody></table></div>"
      ],
      "text/plain": [
       "shape: (10, 5)\n",
       "┌──────────┬──────────┬──────────┬──────────┬──────────┐\n",
       "│ column_0 ┆ column_1 ┆ column_2 ┆ column_3 ┆ column_4 │\n",
       "│ ---      ┆ ---      ┆ ---      ┆ ---      ┆ ---      │\n",
       "│ i64      ┆ i64      ┆ i64      ┆ i64      ┆ i64      │\n",
       "╞══════════╪══════════╪══════════╪══════════╪══════════╡\n",
       "│ 1        ┆ 2        ┆ 0        ┆ 0        ┆ 1        │\n",
       "│ 3        ┆ 1        ┆ 0        ┆ 4        ┆ 1        │\n",
       "│ 3        ┆ 1        ┆ 0        ┆ 1        ┆ 2        │\n",
       "│ 2        ┆ 1        ┆ 1        ┆ 0        ┆ 0        │\n",
       "│ 0        ┆ 3        ┆ 0        ┆ 4        ┆ 4        │\n",
       "│ 4        ┆ 4        ┆ 4        ┆ 3        ┆ 0        │\n",
       "│ 2        ┆ 0        ┆ 2        ┆ 2        ┆ 4        │\n",
       "│ 0        ┆ 2        ┆ 1        ┆ 3        ┆ 3        │\n",
       "│ 4        ┆ 0        ┆ 3        ┆ 2        ┆ 4        │\n",
       "│ 2        ┆ 1        ┆ 4        ┆ 1        ┆ 1        │\n",
       "└──────────┴──────────┴──────────┴──────────┴──────────┘"
      ]
     },
     "execution_count": 192,
     "metadata": {},
     "output_type": "execute_result"
    }
   ],
   "source": [
    "pl.read_csv('data/pandas_foo.csv')"
   ]
  },
  {
   "cell_type": "markdown",
   "id": "d8d1668a-63c8-4670-b7f3-a1f516d5b7c1",
   "metadata": {},
   "source": [
    "### Parquet"
   ]
  },
  {
   "cell_type": "code",
   "execution_count": 193,
   "id": "4cb89697-e557-419a-828f-4c02e35a666d",
   "metadata": {},
   "outputs": [],
   "source": [
    "df.write_parquet('data/pandas_foo.parquet')"
   ]
  },
  {
   "cell_type": "code",
   "execution_count": 194,
   "id": "92a784d2-1d63-45bd-a4b1-6c2957c8e665",
   "metadata": {},
   "outputs": [
    {
     "data": {
      "text/html": [
       "<div><style>\n",
       ".dataframe > thead > tr,\n",
       ".dataframe > tbody > tr {\n",
       "  text-align: right;\n",
       "  white-space: pre-wrap;\n",
       "}\n",
       "</style>\n",
       "<small>shape: (10, 5)</small><table border=\"1\" class=\"dataframe\"><thead><tr><th>column_0</th><th>column_1</th><th>column_2</th><th>column_3</th><th>column_4</th></tr><tr><td>i32</td><td>i32</td><td>i32</td><td>i32</td><td>i32</td></tr></thead><tbody><tr><td>1</td><td>2</td><td>0</td><td>0</td><td>1</td></tr><tr><td>3</td><td>1</td><td>0</td><td>4</td><td>1</td></tr><tr><td>3</td><td>1</td><td>0</td><td>1</td><td>2</td></tr><tr><td>2</td><td>1</td><td>1</td><td>0</td><td>0</td></tr><tr><td>0</td><td>3</td><td>0</td><td>4</td><td>4</td></tr><tr><td>4</td><td>4</td><td>4</td><td>3</td><td>0</td></tr><tr><td>2</td><td>0</td><td>2</td><td>2</td><td>4</td></tr><tr><td>0</td><td>2</td><td>1</td><td>3</td><td>3</td></tr><tr><td>4</td><td>0</td><td>3</td><td>2</td><td>4</td></tr><tr><td>2</td><td>1</td><td>4</td><td>1</td><td>1</td></tr></tbody></table></div>"
      ],
      "text/plain": [
       "shape: (10, 5)\n",
       "┌──────────┬──────────┬──────────┬──────────┬──────────┐\n",
       "│ column_0 ┆ column_1 ┆ column_2 ┆ column_3 ┆ column_4 │\n",
       "│ ---      ┆ ---      ┆ ---      ┆ ---      ┆ ---      │\n",
       "│ i32      ┆ i32      ┆ i32      ┆ i32      ┆ i32      │\n",
       "╞══════════╪══════════╪══════════╪══════════╪══════════╡\n",
       "│ 1        ┆ 2        ┆ 0        ┆ 0        ┆ 1        │\n",
       "│ 3        ┆ 1        ┆ 0        ┆ 4        ┆ 1        │\n",
       "│ 3        ┆ 1        ┆ 0        ┆ 1        ┆ 2        │\n",
       "│ 2        ┆ 1        ┆ 1        ┆ 0        ┆ 0        │\n",
       "│ 0        ┆ 3        ┆ 0        ┆ 4        ┆ 4        │\n",
       "│ 4        ┆ 4        ┆ 4        ┆ 3        ┆ 0        │\n",
       "│ 2        ┆ 0        ┆ 2        ┆ 2        ┆ 4        │\n",
       "│ 0        ┆ 2        ┆ 1        ┆ 3        ┆ 3        │\n",
       "│ 4        ┆ 0        ┆ 3        ┆ 2        ┆ 4        │\n",
       "│ 2        ┆ 1        ┆ 4        ┆ 1        ┆ 1        │\n",
       "└──────────┴──────────┴──────────┴──────────┴──────────┘"
      ]
     },
     "execution_count": 194,
     "metadata": {},
     "output_type": "execute_result"
    }
   ],
   "source": [
    "pl.read_parquet('data/pandas_foo.parquet')"
   ]
  },
  {
   "cell_type": "markdown",
   "id": "dde3275e-17c4-4c80-8ae5-a32d2a054d8f",
   "metadata": {},
   "source": [
    "### Excel"
   ]
  },
  {
   "cell_type": "code",
   "execution_count": 195,
   "id": "c736010e-1988-4477-9fc6-82d2c0c6a58b",
   "metadata": {},
   "outputs": [
    {
     "data": {
      "text/plain": [
       "<xlsxwriter.workbook.Workbook at 0x17dbc86c950>"
      ]
     },
     "execution_count": 195,
     "metadata": {},
     "output_type": "execute_result"
    }
   ],
   "source": [
    "df.write_excel('data/pandas_foo.xlsx', 'Sheet1')"
   ]
  },
  {
   "cell_type": "code",
   "execution_count": 198,
   "id": "d9132530-0ec8-40e3-aeec-dc949d0196fc",
   "metadata": {},
   "outputs": [
    {
     "data": {
      "text/html": [
       "<div><style>\n",
       ".dataframe > thead > tr,\n",
       ".dataframe > tbody > tr {\n",
       "  text-align: right;\n",
       "  white-space: pre-wrap;\n",
       "}\n",
       "</style>\n",
       "<small>shape: (10, 5)</small><table border=\"1\" class=\"dataframe\"><thead><tr><th>column_0</th><th>column_1</th><th>column_2</th><th>column_3</th><th>column_4</th></tr><tr><td>i64</td><td>i64</td><td>i64</td><td>i64</td><td>i64</td></tr></thead><tbody><tr><td>1</td><td>2</td><td>0</td><td>0</td><td>1</td></tr><tr><td>3</td><td>1</td><td>0</td><td>4</td><td>1</td></tr><tr><td>3</td><td>1</td><td>0</td><td>1</td><td>2</td></tr><tr><td>2</td><td>1</td><td>1</td><td>0</td><td>0</td></tr><tr><td>0</td><td>3</td><td>0</td><td>4</td><td>4</td></tr><tr><td>4</td><td>4</td><td>4</td><td>3</td><td>0</td></tr><tr><td>2</td><td>0</td><td>2</td><td>2</td><td>4</td></tr><tr><td>0</td><td>2</td><td>1</td><td>3</td><td>3</td></tr><tr><td>4</td><td>0</td><td>3</td><td>2</td><td>4</td></tr><tr><td>2</td><td>1</td><td>4</td><td>1</td><td>1</td></tr></tbody></table></div>"
      ],
      "text/plain": [
       "shape: (10, 5)\n",
       "┌──────────┬──────────┬──────────┬──────────┬──────────┐\n",
       "│ column_0 ┆ column_1 ┆ column_2 ┆ column_3 ┆ column_4 │\n",
       "│ ---      ┆ ---      ┆ ---      ┆ ---      ┆ ---      │\n",
       "│ i64      ┆ i64      ┆ i64      ┆ i64      ┆ i64      │\n",
       "╞══════════╪══════════╪══════════╪══════════╪══════════╡\n",
       "│ 1        ┆ 2        ┆ 0        ┆ 0        ┆ 1        │\n",
       "│ 3        ┆ 1        ┆ 0        ┆ 4        ┆ 1        │\n",
       "│ 3        ┆ 1        ┆ 0        ┆ 1        ┆ 2        │\n",
       "│ 2        ┆ 1        ┆ 1        ┆ 0        ┆ 0        │\n",
       "│ 0        ┆ 3        ┆ 0        ┆ 4        ┆ 4        │\n",
       "│ 4        ┆ 4        ┆ 4        ┆ 3        ┆ 0        │\n",
       "│ 2        ┆ 0        ┆ 2        ┆ 2        ┆ 4        │\n",
       "│ 0        ┆ 2        ┆ 1        ┆ 3        ┆ 3        │\n",
       "│ 4        ┆ 0        ┆ 3        ┆ 2        ┆ 4        │\n",
       "│ 2        ┆ 1        ┆ 4        ┆ 1        ┆ 1        │\n",
       "└──────────┴──────────┴──────────┴──────────┴──────────┘"
      ]
     },
     "execution_count": 198,
     "metadata": {},
     "output_type": "execute_result"
    }
   ],
   "source": [
    "pl.read_excel('data/pandas_foo.xlsx', sheet_name='Sheet1')"
   ]
  },
  {
   "cell_type": "markdown",
   "id": "f28d6f45-6887-4fb0-bd66-0561ee055ba1",
   "metadata": {},
   "source": [
    "## Gotchas"
   ]
  },
  {
   "cell_type": "code",
   "execution_count": 199,
   "id": "9c47f09c-c53a-40c1-aca4-d1bbc2412c51",
   "metadata": {},
   "outputs": [
    {
     "ename": "TypeError",
     "evalue": "the truth value of a Series is ambiguous\n\nHere are some things you might want to try:\n- instead of `if s`, use `if not s.is_empty()`\n- instead of `s1 and s2`, use `s1 & s2`\n- instead of `s1 or s2`, use `s1 | s2`\n- instead of `s in [y, z]`, use `s.is_in([y, z])`\n",
     "output_type": "error",
     "traceback": [
      "\u001b[1;31m---------------------------------------------------------------------------\u001b[0m",
      "\u001b[1;31mTypeError\u001b[0m                                 Traceback (most recent call last)",
      "Cell \u001b[1;32mIn[199], line 1\u001b[0m\n\u001b[1;32m----> 1\u001b[0m \u001b[38;5;28;01mif\u001b[39;00m pl\u001b[38;5;241m.\u001b[39mSeries([\u001b[38;5;28;01mFalse\u001b[39;00m, \u001b[38;5;28;01mTrue\u001b[39;00m, \u001b[38;5;28;01mFalse\u001b[39;00m]):\n\u001b[0;32m      2\u001b[0m      \u001b[38;5;28mprint\u001b[39m(\u001b[38;5;124m\"\u001b[39m\u001b[38;5;124mI was true\u001b[39m\u001b[38;5;124m\"\u001b[39m)\n",
      "File \u001b[1;32mC:\\mamba\\envs\\py312\\Lib\\site-packages\\polars\\series\\series.py:636\u001b[0m, in \u001b[0;36mSeries.__bool__\u001b[1;34m(self)\u001b[0m\n\u001b[0;32m    626\u001b[0m \u001b[38;5;28;01mdef\u001b[39;00m \u001b[38;5;21m__bool__\u001b[39m(\u001b[38;5;28mself\u001b[39m) \u001b[38;5;241m-\u001b[39m\u001b[38;5;241m>\u001b[39m NoReturn:\n\u001b[0;32m    627\u001b[0m     msg \u001b[38;5;241m=\u001b[39m (\n\u001b[0;32m    628\u001b[0m         \u001b[38;5;124m\"\u001b[39m\u001b[38;5;124mthe truth value of a Series is ambiguous\u001b[39m\u001b[38;5;124m\"\u001b[39m\n\u001b[0;32m    629\u001b[0m         \u001b[38;5;124m\"\u001b[39m\u001b[38;5;130;01m\\n\u001b[39;00m\u001b[38;5;130;01m\\n\u001b[39;00m\u001b[38;5;124m\"\u001b[39m\n\u001b[1;32m   (...)\u001b[0m\n\u001b[0;32m    634\u001b[0m         \u001b[38;5;124m\"\u001b[39m\u001b[38;5;124m- instead of `s in [y, z]`, use `s.is_in([y, z])`\u001b[39m\u001b[38;5;130;01m\\n\u001b[39;00m\u001b[38;5;124m\"\u001b[39m\n\u001b[0;32m    635\u001b[0m     )\n\u001b[1;32m--> 636\u001b[0m     \u001b[38;5;28;01mraise\u001b[39;00m \u001b[38;5;167;01mTypeError\u001b[39;00m(msg)\n",
      "\u001b[1;31mTypeError\u001b[0m: the truth value of a Series is ambiguous\n\nHere are some things you might want to try:\n- instead of `if s`, use `if not s.is_empty()`\n- instead of `s1 and s2`, use `s1 & s2`\n- instead of `s1 or s2`, use `s1 | s2`\n- instead of `s in [y, z]`, use `s.is_in([y, z])`\n"
     ]
    }
   ],
   "source": [
    "if pl.Series([False, True, False]):\n",
    "     print(\"I was true\")"
   ]
  }
 ],
 "metadata": {
  "kernelspec": {
   "display_name": "Python 3 (ipykernel)",
   "language": "python",
   "name": "python3"
  },
  "language_info": {
   "codemirror_mode": {
    "name": "ipython",
    "version": 3
   },
   "file_extension": ".py",
   "mimetype": "text/x-python",
   "name": "python",
   "nbconvert_exporter": "python",
   "pygments_lexer": "ipython3",
   "version": "3.12.2"
  }
 },
 "nbformat": 4,
 "nbformat_minor": 5
}

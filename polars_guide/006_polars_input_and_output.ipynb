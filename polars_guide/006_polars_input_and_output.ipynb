{
 "cells": [
  {
   "cell_type": "markdown",
   "id": "0fbe3ea6-cadb-43fb-8882-a3afd92fd45e",
   "metadata": {},
   "source": [
    "# ファイルの入出力"
   ]
  },
  {
   "cell_type": "markdown",
   "id": "4d1a198b-7111-460d-86d9-f6ec8b9471d3",
   "metadata": {},
   "source": [
    "Polarsでは、大規模なデータセットを効率的に扱うための高速なファイル入出力操作が提供されています。データを読み込んだり書き出したりする際に、さまざまなフォーマットに対応しており、迅速なデータ処理をサポートします。この章では、Polarsを使用したファイルの入出力操作方法について詳しく説明します。"
   ]
  },
  {
   "cell_type": "code",
   "execution_count": 29,
   "id": "3eb54039-f99e-433a-9672-ece59d69c915",
   "metadata": {},
   "outputs": [],
   "source": [
    "import polars as pl\n",
    "from helper.jupyter import row, capture_except"
   ]
  },
  {
   "cell_type": "markdown",
   "id": "fe6aaf98-5efb-4b20-b668-f2c722e3bd63",
   "metadata": {},
   "source": [
    "## CSVファイル"
   ]
  },
  {
   "cell_type": "markdown",
   "id": "b2a8ef23-35b2-4543-b2b3-87f53df99260",
   "metadata": {},
   "source": [
    "CSVファイルを読み込む際には、ファイル構造やデータの特性に応じて柔軟に操作する必要があります。本セクションでは、Polarsを使用してさまざまなCSVファイルを読み込む方法を紹介します。"
   ]
  },
  {
   "cell_type": "markdown",
   "id": "99530210-ddb2-4ce9-9d28-036749738586",
   "metadata": {},
   "source": [
    "### ヘッダー"
   ]
  },
  {
   "cell_type": "markdown",
   "id": "a3454217-a299-4663-ab73-e0de8208a1b0",
   "metadata": {},
   "source": [
    "CSVファイルには、ヘッダーの有無や、ヘッダーが複数行にわたる場合があります。以下のデータを例に、ヘッダーの扱い方について説明します。"
   ]
  },
  {
   "cell_type": "code",
   "execution_count": null,
   "id": "d5d194fc-dd60-42da-9fd5-99e43f0487da",
   "metadata": {},
   "outputs": [],
   "source": [
    "%%writefile data/csv_header.csv\n",
    "A,B\n",
    "a,b\n",
    "0,1\n",
    "2,3\n",
    "4,5"
   ]
  },
  {
   "cell_type": "markdown",
   "id": "4545bf8f-004d-4055-a788-3c89bd14761c",
   "metadata": {},
   "source": [
    "- `df1`: デフォルト設定では、CSVファイルをヘッダー付きとして読み込みます。この場合、データの先頭行が列の名前として解釈されます。\n",
    "- `df2`: `has_header=False`を指定することで、CSVの先頭行をデータとして扱います。この場合、`new_columns`引数を使用して列名を自分で指定できます。\n",
    "- `df3`: `skip_rows`引数を指定することで、最初のN行をスキップしてからデータを読み込むことができます。\n",
    "- `df4`: `skip_rows_after_header`引数を指定することで、ヘッダー行の次のN行をスキップしてデータを読み込みます。\n",
    "- `df5`: 最初の2行をヘッダーなしで読み込んで、それぞれの列を結合した結果を`new_columns`引数に渡し、新しい列名として適用します。この方法を使うことで、複数行のヘッダーを柔軟に扱うことができます。\n",
    "\n",
    "これらの方法を活用することで、CSVデータの構造に応じた柔軟な読み込みが可能になります。"
   ]
  },
  {
   "cell_type": "code",
   "execution_count": 30,
   "id": "806a8b8a-a184-4514-b7ce-ef9fccb95b99",
   "metadata": {},
   "outputs": [
    {
     "data": {
      "text/html": [
       "<table><tr><td><div><style>\n",
       ".dataframe > thead > tr,\n",
       ".dataframe > tbody > tr {\n",
       "  text-align: right;\n",
       "  white-space: pre-wrap;\n",
       "}\n",
       "</style>\n",
       "<small>shape: (4, 2)</small><table border=\"1\" class=\"dataframe\"><thead><tr><th>A</th><th>B</th></tr><tr><td>str</td><td>str</td></tr></thead><tbody><tr><td>&quot;a&quot;</td><td>&quot;b&quot;</td></tr><tr><td>&quot;0&quot;</td><td>&quot;1&quot;</td></tr><tr><td>&quot;2&quot;</td><td>&quot;3&quot;</td></tr><tr><td>&quot;4&quot;</td><td>&quot;5&quot;</td></tr></tbody></table></div></td><td><div><style>\n",
       ".dataframe > thead > tr,\n",
       ".dataframe > tbody > tr {\n",
       "  text-align: right;\n",
       "  white-space: pre-wrap;\n",
       "}\n",
       "</style>\n",
       "<small>shape: (5, 2)</small><table border=\"1\" class=\"dataframe\"><thead><tr><th>x</th><th>y</th></tr><tr><td>str</td><td>str</td></tr></thead><tbody><tr><td>&quot;A&quot;</td><td>&quot;B&quot;</td></tr><tr><td>&quot;a&quot;</td><td>&quot;b&quot;</td></tr><tr><td>&quot;0&quot;</td><td>&quot;1&quot;</td></tr><tr><td>&quot;2&quot;</td><td>&quot;3&quot;</td></tr><tr><td>&quot;4&quot;</td><td>&quot;5&quot;</td></tr></tbody></table></div></td><td><div><style>\n",
       ".dataframe > thead > tr,\n",
       ".dataframe > tbody > tr {\n",
       "  text-align: right;\n",
       "  white-space: pre-wrap;\n",
       "}\n",
       "</style>\n",
       "<small>shape: (3, 2)</small><table border=\"1\" class=\"dataframe\"><thead><tr><th>a</th><th>b</th></tr><tr><td>i64</td><td>i64</td></tr></thead><tbody><tr><td>0</td><td>1</td></tr><tr><td>2</td><td>3</td></tr><tr><td>4</td><td>5</td></tr></tbody></table></div></td><td><div><style>\n",
       ".dataframe > thead > tr,\n",
       ".dataframe > tbody > tr {\n",
       "  text-align: right;\n",
       "  white-space: pre-wrap;\n",
       "}\n",
       "</style>\n",
       "<small>shape: (3, 2)</small><table border=\"1\" class=\"dataframe\"><thead><tr><th>A</th><th>B</th></tr><tr><td>i64</td><td>i64</td></tr></thead><tbody><tr><td>0</td><td>1</td></tr><tr><td>2</td><td>3</td></tr><tr><td>4</td><td>5</td></tr></tbody></table></div></td><td><div><style>\n",
       ".dataframe > thead > tr,\n",
       ".dataframe > tbody > tr {\n",
       "  text-align: right;\n",
       "  white-space: pre-wrap;\n",
       "}\n",
       "</style>\n",
       "<small>shape: (3, 2)</small><table border=\"1\" class=\"dataframe\"><thead><tr><th>A-a</th><th>B-b</th></tr><tr><td>i64</td><td>i64</td></tr></thead><tbody><tr><td>0</td><td>1</td></tr><tr><td>2</td><td>3</td></tr><tr><td>4</td><td>5</td></tr></tbody></table></div></td></tr></table>"
      ]
     },
     "metadata": {},
     "output_type": "display_data"
    }
   ],
   "source": [
    "fn = 'data/csv_header.csv'\n",
    "df1 = pl.read_csv(fn)\n",
    "df2 = pl.read_csv(fn, has_header=False, new_columns=['x', 'y'])\n",
    "df3 = pl.read_csv(fn, skip_rows=1)\n",
    "df4 = pl.read_csv(fn, skip_rows_after_header=1)\n",
    "\n",
    "df_header = pl.read_csv(fn, n_rows=2, has_header=False)\n",
    "columns = df_header.select(pl.all().str.join('-')).row(0)\n",
    "df5 = pl.read_csv(fn, has_header=False, skip_rows=2, new_columns=columns)\n",
    "row(df1, df2, df3, df4, df5)"
   ]
  },
  {
   "cell_type": "markdown",
   "id": "f2367125-0f7d-4a17-9750-ed5e7e9f315c",
   "metadata": {},
   "source": [
    "### 列のデータ型\n",
    "\n",
    "`infer_schema`引数がデフォルト値`True`の場合、`infer_schema_length`引数で指定された先頭の行数を使用して各列のデータ型を推定します。この範囲を超えて異なるデータ型の値が出現した場合、エラーが発生します。以下のデータを例に、データ型の扱い方について説明します。"
   ]
  },
  {
   "cell_type": "code",
   "execution_count": null,
   "id": "37b78585-296a-42b4-87ba-2e3a4f758625",
   "metadata": {},
   "outputs": [],
   "source": [
    "%%writefile data/csv_different_type.csv\n",
    "A,B\n",
    "0,1\n",
    "2,3\n",
    "4,5\n",
    "a,5.5\n",
    "10,20"
   ]
  },
  {
   "cell_type": "markdown",
   "id": "5cd7fc12-bfee-484f-96b5-aa816863a8d7",
   "metadata": {},
   "source": [
    "`infer_schema_length`のデフォルト値は100ですが、以下のコードでは、`infer_schema_length`を2行に設定してエラーを発生させます。"
   ]
  },
  {
   "cell_type": "code",
   "execution_count": 32,
   "id": "0ca758e6-f638-43a6-96a5-88ae52fc5344",
   "metadata": {},
   "outputs": [
    {
     "name": "stdout",
     "output_type": "stream",
     "text": [
      "ComputeError: could not parse `a` as dtype `i64` at column 'A' (column number 1)\n",
      "\n",
      "The current offset in the file is 15 bytes.\n",
      "\n",
      "You might want to try:\n",
      "- increasing `infer_schema_length` (e.g. `infer_schema_length=10000`),\n",
      "- specifying correct dtype with the `schema_overrides` argument\n",
      "- setting `ignore_errors` to `True`,\n",
      "- adding `a` to the `null_values` list.\n",
      "\n",
      "Original error: ```remaining bytes non-empty```\n"
     ]
    }
   ],
   "source": [
    "%%capture_except\n",
    "df = pl.read_csv('data/csv_different_type.csv', infer_schema_length=2)"
   ]
  },
  {
   "cell_type": "markdown",
   "id": "29586b17-bcc5-4404-8dab-414e083740c1",
   "metadata": {},
   "source": [
    "エラーメッセージにはいくつかの解決方法が示されています。以下はそれらの方法を使用してデータを読み込む例です。\n",
    "\n",
    "- **`df1`**: `infer_schema_length`引数で推定行数を増やすことで、A列のデータ型を`str`、B列を`f64`として読み込みます。\n",
    "\n",
    "- **`df2`**: `infer_schema_length=None`を指定すると、すべての行を使用してデータ型を推定します。また、`null_values`引数を使用して特定の値をnullと見なすことで、A列を`i64`として読み込みます。\n",
    "\n",
    "- **`df3`**: `ignore_errors=True`を指定すると、推定データ型に一致しない値をnullとして読み込みます。この場合、A列とB列はどちらも`i64`になります。\n",
    "\n",
    "- **`df4`**: `schema_overrides`引数を使用して、各列のデータ型を明示的に指定します。さらに、`ignore_errors=True`を指定して不正な値を除外します。`schema_overrides`を使用すると、効率的なデータ型を選択でき、メモリ使用量を削減できます。\n",
    "\n",
    "これらの方法を使用することで、データ型の推定やエラー処理に柔軟に対応できます。"
   ]
  },
  {
   "cell_type": "code",
   "execution_count": 33,
   "id": "56a8f4a5-b9ea-4ef3-bcaa-9dc3405e119e",
   "metadata": {},
   "outputs": [
    {
     "data": {
      "text/html": [
       "<table><tr><td><div><style>\n",
       ".dataframe > thead > tr,\n",
       ".dataframe > tbody > tr {\n",
       "  text-align: right;\n",
       "  white-space: pre-wrap;\n",
       "}\n",
       "</style>\n",
       "<small>shape: (5, 2)</small><table border=\"1\" class=\"dataframe\"><thead><tr><th>A</th><th>B</th></tr><tr><td>str</td><td>f64</td></tr></thead><tbody><tr><td>&quot;0&quot;</td><td>1.0</td></tr><tr><td>&quot;2&quot;</td><td>3.0</td></tr><tr><td>&quot;4&quot;</td><td>5.0</td></tr><tr><td>&quot;a&quot;</td><td>5.5</td></tr><tr><td>&quot;10&quot;</td><td>20.0</td></tr></tbody></table></div></td><td><div><style>\n",
       ".dataframe > thead > tr,\n",
       ".dataframe > tbody > tr {\n",
       "  text-align: right;\n",
       "  white-space: pre-wrap;\n",
       "}\n",
       "</style>\n",
       "<small>shape: (5, 2)</small><table border=\"1\" class=\"dataframe\"><thead><tr><th>A</th><th>B</th></tr><tr><td>i64</td><td>f64</td></tr></thead><tbody><tr><td>0</td><td>1.0</td></tr><tr><td>2</td><td>3.0</td></tr><tr><td>4</td><td>5.0</td></tr><tr><td>null</td><td>5.5</td></tr><tr><td>10</td><td>20.0</td></tr></tbody></table></div></td><td><div><style>\n",
       ".dataframe > thead > tr,\n",
       ".dataframe > tbody > tr {\n",
       "  text-align: right;\n",
       "  white-space: pre-wrap;\n",
       "}\n",
       "</style>\n",
       "<small>shape: (5, 2)</small><table border=\"1\" class=\"dataframe\"><thead><tr><th>A</th><th>B</th></tr><tr><td>i64</td><td>i64</td></tr></thead><tbody><tr><td>0</td><td>1</td></tr><tr><td>2</td><td>3</td></tr><tr><td>4</td><td>5</td></tr><tr><td>null</td><td>null</td></tr><tr><td>10</td><td>20</td></tr></tbody></table></div></td><td><div><style>\n",
       ".dataframe > thead > tr,\n",
       ".dataframe > tbody > tr {\n",
       "  text-align: right;\n",
       "  white-space: pre-wrap;\n",
       "}\n",
       "</style>\n",
       "<small>shape: (5, 2)</small><table border=\"1\" class=\"dataframe\"><thead><tr><th>A</th><th>B</th></tr><tr><td>i16</td><td>f32</td></tr></thead><tbody><tr><td>0</td><td>1.0</td></tr><tr><td>2</td><td>3.0</td></tr><tr><td>4</td><td>5.0</td></tr><tr><td>null</td><td>5.5</td></tr><tr><td>10</td><td>20.0</td></tr></tbody></table></div></td></tr></table>"
      ]
     },
     "metadata": {},
     "output_type": "display_data"
    }
   ],
   "source": [
    "fn = 'data/csv_different_type.csv'\n",
    "df1 = pl.read_csv(fn, infer_schema_length=1000)\n",
    "df2 = pl.read_csv(fn, infer_schema_length=None, null_values=['a'])\n",
    "df3 = pl.read_csv(fn, infer_schema_length=2, ignore_errors=True)\n",
    "df4 = pl.read_csv(fn, schema_overrides={'A':pl.Int16, 'B':pl.Float32}, ignore_errors=True)\n",
    "row(df1, df2, df3, df4)"
   ]
  },
  {
   "cell_type": "markdown",
   "id": "083fc595-eabd-4273-aae2-d352fa5f3686",
   "metadata": {},
   "source": [
    "### スペース処理\n",
    "\n",
    "CSVデータ内の列値に末尾のスペースが含まれている場合、Polarsの標準CSVエンジンはこれをそのまま取り込み、列データ型を`str`として解釈します。例えば、次のようなCSVデータを読み込む場合を考えます："
   ]
  },
  {
   "cell_type": "code",
   "execution_count": null,
   "id": "abbd1bbf-3693-4131-9112-2fd798e27ef5",
   "metadata": {},
   "outputs": [],
   "source": [
    "%%writefile data/csv_trailing_space.csv\n",
    "str,int,float\n",
    "abc ,4 ,5.67 \n",
    "def ,5 ,1.23 "
   ]
  },
  {
   "cell_type": "markdown",
   "id": "4b64e71e-c51f-4708-aaa3-2d33e376a64f",
   "metadata": {},
   "source": [
    "このデータを読み込むと、Polarsの標準エンジンと`use_pyarrow=True`を指定した場合で動作が異なります：\n",
    "\n",
    "* `df1`: Polarsの標準エンジンでは、すべての列が文字列(`str`)として扱われます。\n",
    "* `df2`: `use_pyarrow=True`を指定すると、数値列(`int`, `float`)が適切に解釈されます。"
   ]
  },
  {
   "cell_type": "code",
   "execution_count": 35,
   "id": "0960cef2-d7c0-4a0d-859f-9704ba0ee71a",
   "metadata": {},
   "outputs": [
    {
     "data": {
      "text/html": [
       "<table><tr><td><div><style>\n",
       ".dataframe > thead > tr,\n",
       ".dataframe > tbody > tr {\n",
       "  text-align: right;\n",
       "  white-space: pre-wrap;\n",
       "}\n",
       "</style>\n",
       "<small>shape: (2, 3)</small><table border=\"1\" class=\"dataframe\"><thead><tr><th>str</th><th>int</th><th>float</th></tr><tr><td>str</td><td>str</td><td>str</td></tr></thead><tbody><tr><td>&quot;abc &quot;</td><td>&quot;4 &quot;</td><td>&quot;5.67 &quot;</td></tr><tr><td>&quot;def &quot;</td><td>&quot;5 &quot;</td><td>&quot;1.23 &quot;</td></tr></tbody></table></div></td><td><div><style>\n",
       ".dataframe > thead > tr,\n",
       ".dataframe > tbody > tr {\n",
       "  text-align: right;\n",
       "  white-space: pre-wrap;\n",
       "}\n",
       "</style>\n",
       "<small>shape: (2, 3)</small><table border=\"1\" class=\"dataframe\"><thead><tr><th>str</th><th>int</th><th>float</th></tr><tr><td>str</td><td>i64</td><td>f64</td></tr></thead><tbody><tr><td>&quot;abc &quot;</td><td>4</td><td>5.67</td></tr><tr><td>&quot;def &quot;</td><td>5</td><td>1.23</td></tr></tbody></table></div></td></tr></table>"
      ]
     },
     "metadata": {},
     "output_type": "display_data"
    }
   ],
   "source": [
    "fn = 'data/csv_trailing_space.csv'\n",
    "df1 = pl.read_csv(fn)\n",
    "df2 = pl.read_csv(fn, use_pyarrow=True)\n",
    "row(df1, df2)"
   ]
  },
  {
   "cell_type": "markdown",
   "id": "e8bfb66e-15dd-451e-86fd-a7e1a4067a9e",
   "metadata": {},
   "source": [
    "Polarsでは文字列列を自動的に数値型に変換するカスタム関数を作成することで、スペースを取り除きつつ適切にキャストできます。以下はその例です。\n",
    "\n",
    "1. `s.str.strip_chars()` を使用して余分なスペースを削除。\n",
    "2. `.cast(int_type)` を試みて、整数型に変換できるかを確認。\n",
    "3. 整数型への変換が失敗した場合は `.cast(float_type)` を試みて、浮動小数型に変換。\n",
    "4. どちらのキャストも失敗した場合には元の文字列型を返す。"
   ]
  },
  {
   "cell_type": "code",
   "execution_count": 37,
   "id": "751d575f-140c-4fb6-ba82-77be361d9ba4",
   "metadata": {},
   "outputs": [
    {
     "data": {
      "text/html": [
       "<div><style>\n",
       ".dataframe > thead > tr,\n",
       ".dataframe > tbody > tr {\n",
       "  text-align: right;\n",
       "  white-space: pre-wrap;\n",
       "}\n",
       "</style>\n",
       "<small>shape: (2, 3)</small><table border=\"1\" class=\"dataframe\"><thead><tr><th>str</th><th>int</th><th>float</th></tr><tr><td>str</td><td>i64</td><td>f64</td></tr></thead><tbody><tr><td>&quot;abc &quot;</td><td>4</td><td>5.67</td></tr><tr><td>&quot;def &quot;</td><td>5</td><td>1.23</td></tr></tbody></table></div>"
      ],
      "text/plain": [
       "shape: (2, 3)\n",
       "┌──────┬─────┬───────┐\n",
       "│ str  ┆ int ┆ float │\n",
       "│ ---  ┆ --- ┆ ---   │\n",
       "│ str  ┆ i64 ┆ f64   │\n",
       "╞══════╪═════╪═══════╡\n",
       "│ abc  ┆ 4   ┆ 5.67  │\n",
       "│ def  ┆ 5   ┆ 1.23  │\n",
       "└──────┴─────┴───────┘"
      ]
     },
     "execution_count": 37,
     "metadata": {},
     "output_type": "execute_result"
    }
   ],
   "source": [
    "from polars import selectors as cs\n",
    "from polars.exceptions import InvalidOperationError\n",
    "\n",
    "# この関数はhelper/polars.pyにあります。\n",
    "def try_cast_to_number(s, int_type=pl.Int64, float_type=pl.Float64):\n",
    "    try:\n",
    "        return s.str.strip_chars().cast(int_type)\n",
    "    except InvalidOperationError:\n",
    "        try:\n",
    "            return s.str.strip_chars().cast(float_type)\n",
    "        except InvalidOperationError:\n",
    "            return s\n",
    "\n",
    "df1.with_columns(cs.string().map_batches(try_cast_to_number))"
   ]
  }
 ],
 "metadata": {
  "kernelspec": {
   "display_name": "Python 3 (ipykernel)",
   "language": "python",
   "name": "python3"
  },
  "language_info": {
   "codemirror_mode": {
    "name": "ipython",
    "version": 3
   },
   "file_extension": ".py",
   "mimetype": "text/x-python",
   "name": "python",
   "nbconvert_exporter": "python",
   "pygments_lexer": "ipython3",
   "version": "3.12.2"
  }
 },
 "nbformat": 4,
 "nbformat_minor": 5
}

{
 "cells": [
  {
   "cell_type": "markdown",
   "id": "b24a169f-86c6-44c0-b9a0-15d926146de9",
   "metadata": {},
   "source": [
    "# 時間データ処理"
   ]
  },
  {
   "cell_type": "markdown",
   "id": "8ffde00d-cfc4-49c3-9680-b31eeed06bbc",
   "metadata": {},
   "source": [
    "この章では、時間データの処理に焦点を当て、時間データについての計算、時間ベースのグループ化や集計、時間ウィンドウの操作方法について説明します。"
   ]
  },
  {
   "cell_type": "code",
   "execution_count": 1,
   "id": "ff8604ab-fa1c-4778-876f-154f5d884bff",
   "metadata": {},
   "outputs": [],
   "source": [
    "import polars as pl\n",
    "from helper.jupyter import row"
   ]
  },
  {
   "cell_type": "markdown",
   "id": "e42d4745-1f81-41da-bb0c-16f8e6027c61",
   "metadata": {},
   "source": [
    "## 時間のデータ型"
   ]
  },
  {
   "cell_type": "markdown",
   "id": "6b6ce893-cd49-4bc1-90c8-1f8f99fb0a5f",
   "metadata": {},
   "source": [
    "時間データを効率的に扱うために、Polarsでは日付や時刻、時間間隔に関連する4つのデータ型を提供しています。それぞれのデータ型には異なる特徴と用途があり、時間ベースのデータ処理において重要な役割を果たします。\n",
    "\n",
    "| データ型   | 概要                                | 最小単位    | ゼロ点                                       | 用途                                       | 例                           |\n",
    "|------------|-------------------------------------|-------------|---------------------------------------------|--------------------------------------------|------------------------------|\n",
    "| **`Date`** | 日付を表すデータ型、時刻情報なし   | 日          | Unix epoch (1970-01-01)                    | 日付のみが重要なデータの管理や処理          | `2024-07-15`                 |\n",
    "| **`Time`** | 1日の中の時刻を表すデータ型        | ナノ秒(ns)| 00:00:00（1日の開始時刻）                  | 1日の中の時刻や時間間隔を扱う               | `12:30:45.123456789`         |\n",
    "| **`Datetime`** | 日付と時刻を組み合わせたデータ型 | ミリ秒(ms)・マイクロ秒(us)・ナノ秒(ns) | Unix epoch (1970-01-01 00:00:00)          | 時系列データやタイムスタンプの処理          | `2024-07-15 12:30:45.123456` |\n",
    "| **`Duration`** | 時間の長さや間隔を表すデータ型    | ミリ秒(ms)・マイクロ秒(us)・ナノ秒(ns) | -                                           | 2つの時点間の差分や時間間隔の計算          | `2 days`, `3 hours`, `45 minutes` |"
   ]
  },
  {
   "cell_type": "markdown",
   "id": "d6f2d624-f3d9-420b-9f9c-7e45d97fbda2",
   "metadata": {},
   "source": [
    "次の演算式関数で、複数の整数列から時間列に変換することができます。\n",
    "\n",
    "\n",
    "- `pl.date()`は、年、月、日を指定して`Date`型を作成します。これにより、`year`、`month`、`day`の列を使用して日付データを作成します。\n",
    "- `pl.time()`は、時、分、秒などを指定して`Time`型を作成します。\n",
    "- `pl.datetime()`は、年、月、日、時、分、秒などを指定して`Datetime`型を作成します。\n",
    "- `pl.duration()`は、時間の長さを`Duration`型として表現します。"
   ]
  },
  {
   "cell_type": "code",
   "execution_count": 2,
   "id": "a2fc03bb-2a03-49cd-94c3-c0010aa15656",
   "metadata": {},
   "outputs": [],
   "source": [
    "df_numbers = pl.DataFrame(\n",
    "    dict(\n",
    "        year=[2022, 2023, 2024],\n",
    "        month=[11, 10, 12],\n",
    "        day=[4, 31, 2],\n",
    "        hour=[1, 6, 16],\n",
    "        minute=[10, 50, 34],\n",
    "        second=[12.2, 20.5, 21],\n",
    "    )\n",
    ")\n",
    "\n",
    "df_numbers = df_numbers.with_columns(\n",
    "    total_seconds=pl.col('hour') * 3600 + pl.col('minute') * 60 + pl.col('second')\n",
    ")"
   ]
  },
  {
   "cell_type": "markdown",
   "id": "8b8f04ed-4a56-477b-9dc9-7ed65e31b890",
   "metadata": {},
   "source": [
    "次のコードでは、複数の数値列を持つデータフレームに対して、`pl.date()`、`pl.time()`、`pl.datetime()`、`pl.duration()`を使用し、整数列から時間列への変換を行っています。それぞれの関数は対応する時間データ型の列を生成します。\n",
    "\n",
    "`Date`、`Time`、`Datetime`の場合、各フィールドには値の範囲があるため、上限を超えないよう注意する必要があります。また、各フィールドが整数でない場合、整数部分のみを使用します。さらに、❶ 秒のデータが浮動小数点で表現されている場合は、小数部分を取り出してマイクロ秒に換算する必要があります。\n",
    "\n",
    "❷ 一方、`Duration`の場合は各フィールドに上限がないため、一番小さい単位である`microseconds`引数を利用して列を作成するのが便利です。"
   ]
  },
  {
   "cell_type": "code",
   "execution_count": 3,
   "id": "381723f3-cc41-4b81-834b-fa92b1172b37",
   "metadata": {},
   "outputs": [
    {
     "data": {
      "text/html": [
       "<table><tr><td><div><style>\n",
       ".dataframe > thead > tr,\n",
       ".dataframe > tbody > tr {\n",
       "  text-align: right;\n",
       "  white-space: pre-wrap;\n",
       "}\n",
       "</style>\n",
       "<small>shape: (3, 7)</small><table border=\"1\" class=\"dataframe\"><thead><tr><th>year</th><th>month</th><th>day</th><th>hour</th><th>minute</th><th>second</th><th>total_seconds</th></tr><tr><td>i64</td><td>i64</td><td>i64</td><td>i64</td><td>i64</td><td>f64</td><td>f64</td></tr></thead><tbody><tr><td>2022</td><td>11</td><td>4</td><td>1</td><td>10</td><td>12.2</td><td>4212.2</td></tr><tr><td>2023</td><td>10</td><td>31</td><td>6</td><td>50</td><td>20.5</td><td>24620.5</td></tr><tr><td>2024</td><td>12</td><td>2</td><td>16</td><td>34</td><td>21.0</td><td>59661.0</td></tr></tbody></table></div></td><td><div><style>\n",
       ".dataframe > thead > tr,\n",
       ".dataframe > tbody > tr {\n",
       "  text-align: right;\n",
       "  white-space: pre-wrap;\n",
       "}\n",
       "</style>\n",
       "<small>shape: (3, 4)</small><table border=\"1\" class=\"dataframe\"><thead><tr><th>date</th><th>time</th><th>datetime</th><th>duration</th></tr><tr><td>date</td><td>time</td><td>datetime[μs]</td><td>duration[μs]</td></tr></thead><tbody><tr><td>2022-11-04</td><td>01:10:12.200</td><td>2022-11-04 01:10:12.200</td><td>1h 10m 12s 200ms</td></tr><tr><td>2023-10-31</td><td>06:50:20.500</td><td>2023-10-31 06:50:20.500</td><td>6h 50m 20s 500ms</td></tr><tr><td>2024-12-02</td><td>16:34:21</td><td>2024-12-02 16:34:21</td><td>16h 34m 21s</td></tr></tbody></table></div></td></tr></table>"
      ]
     },
     "metadata": {},
     "output_type": "display_data"
    }
   ],
   "source": [
    "df_times = df_numbers.select(\n",
    "    date=pl.date('year', 'month', 'day'),\n",
    "    time=pl.time('hour', 'minute', 'second', microsecond=pl.col('second').mod(1).mul(1e6).round()), #❶\n",
    "    datetime=pl.datetime('year', 'month', 'day', 'hour', 'minute', 'second', \n",
    "                         microsecond=pl.col('second').mod(1).mul(1e6).round()),\n",
    "    duration=pl.duration(microseconds=pl.col('total_seconds').mul(1e6)), #❷\n",
    ")\n",
    "\n",
    "row(df_numbers, df_times)"
   ]
  },
  {
   "cell_type": "markdown",
   "id": "af62bf0a-8c36-46bd-beb8-ec3a73d3b88d",
   "metadata": {},
   "source": [
    "`Datetime`型および`Duration`型では、時間データの最小単位（例えば、ナノ秒やミリ秒）を変更することができます。`dt.cast_time_unit()`関数を使用することで、時間単位を任意の精度にキャストすることが可能です。**大きい単位に変換する場合**、端数は切り捨てられます。たとえば、ナノ秒（ns）からミリ秒（ms）へ変換する際、小数点以下の部分は失われます。  "
   ]
  },
  {
   "cell_type": "code",
   "execution_count": 4,
   "id": "0f522a57-ad11-421c-a980-d464e5d4eb13",
   "metadata": {},
   "outputs": [
    {
     "data": {
      "text/html": [
       "<div><style>\n",
       ".dataframe > thead > tr,\n",
       ".dataframe > tbody > tr {\n",
       "  text-align: right;\n",
       "  white-space: pre-wrap;\n",
       "}\n",
       "</style>\n",
       "<small>shape: (3, 6)</small><table border=\"1\" class=\"dataframe\"><thead><tr><th>datetime</th><th>datetime_ms</th><th>datetime_ns</th><th>duration</th><th>duration_ms</th><th>duration_ns</th></tr><tr><td>datetime[μs]</td><td>datetime[ms]</td><td>datetime[ns]</td><td>duration[μs]</td><td>duration[ms]</td><td>duration[ns]</td></tr></thead><tbody><tr><td>2022-11-04 01:10:12.200</td><td>2022-11-04 01:10:12.200</td><td>2022-11-04 01:10:12.200</td><td>1h 10m 12s 200ms</td><td>1h 10m 12s 200ms</td><td>1h 10m 12s 200ms</td></tr><tr><td>2023-10-31 06:50:20.500</td><td>2023-10-31 06:50:20.500</td><td>2023-10-31 06:50:20.500</td><td>6h 50m 20s 500ms</td><td>6h 50m 20s 500ms</td><td>6h 50m 20s 500ms</td></tr><tr><td>2024-12-02 16:34:21</td><td>2024-12-02 16:34:21</td><td>2024-12-02 16:34:21</td><td>16h 34m 21s</td><td>16h 34m 21s</td><td>16h 34m 21s</td></tr></tbody></table></div>"
      ],
      "text/plain": [
       "shape: (3, 6)\n",
       "┌─────────────────────────┬─────────────────────────┬─────────────────────────┬──────────────────┬──────────────────┬──────────────────┐\n",
       "│ datetime                ┆ datetime_ms             ┆ datetime_ns             ┆ duration         ┆ duration_ms      ┆ duration_ns      │\n",
       "│ ---                     ┆ ---                     ┆ ---                     ┆ ---              ┆ ---              ┆ ---              │\n",
       "│ datetime[μs]            ┆ datetime[ms]            ┆ datetime[ns]            ┆ duration[μs]     ┆ duration[ms]     ┆ duration[ns]     │\n",
       "╞═════════════════════════╪═════════════════════════╪═════════════════════════╪══════════════════╪══════════════════╪══════════════════╡\n",
       "│ 2022-11-04 01:10:12.200 ┆ 2022-11-04 01:10:12.200 ┆ 2022-11-04 01:10:12.200 ┆ 1h 10m 12s 200ms ┆ 1h 10m 12s 200ms ┆ 1h 10m 12s 200ms │\n",
       "│ 2023-10-31 06:50:20.500 ┆ 2023-10-31 06:50:20.500 ┆ 2023-10-31 06:50:20.500 ┆ 6h 50m 20s 500ms ┆ 6h 50m 20s 500ms ┆ 6h 50m 20s 500ms │\n",
       "│ 2024-12-02 16:34:21     ┆ 2024-12-02 16:34:21     ┆ 2024-12-02 16:34:21     ┆ 16h 34m 21s      ┆ 16h 34m 21s      ┆ 16h 34m 21s      │\n",
       "└─────────────────────────┴─────────────────────────┴─────────────────────────┴──────────────────┴──────────────────┴──────────────────┘"
      ]
     },
     "execution_count": 4,
     "metadata": {},
     "output_type": "execute_result"
    }
   ],
   "source": [
    "df_times.select(\n",
    "    'datetime',\n",
    "    pl.col('datetime').dt.cast_time_unit('ms').alias('datetime_ms'),\n",
    "    pl.col('datetime').dt.cast_time_unit('ns').alias('datetime_ns'),\n",
    "    'duration',\n",
    "    pl.col('duration').dt.cast_time_unit('ms').alias('duration_ms'),\n",
    "    pl.col('duration').dt.cast_time_unit('ns').alias('duration_ns'),    \n",
    ")"
   ]
  },
  {
   "cell_type": "markdown",
   "id": "102caf07-dfa5-4a33-842e-8b6cc5090bab",
   "metadata": {},
   "source": [
    "## 時間型の演算式"
   ]
  },
  {
   "cell_type": "markdown",
   "id": "419f18db-3986-400e-bb74-c58339636317",
   "metadata": {},
   "source": [
    "### 時間型同士の変換"
   ]
  },
  {
   "cell_type": "markdown",
   "id": "534169e5-c7a2-4785-b79e-a5f92938dc2e",
   "metadata": {},
   "source": [
    "次のコードでは、異なる時間型を変換および操作する例です。以下に各部分の説明を示します。\n",
    "\n",
    "❶ `dt.combine()`で`date`列と`time`列を結合して、`Datetime`型の列を作成します。<br>\n",
    "❷ `dt.date()`で`datetime`列から日付部分だけを抽出し、`Date`型の列を作成します。<br>\n",
    "❸ `dt.time()`で`datetime`列から時刻部分だけを抽出し、`Time`型の列を作成します。<br>\n",
    "❹ `cast(pl.Duration)`で`time`列を`Duration`型にキャストします。<br>\n",
    "❺ `Duration`型を直接`Time`型に変換する関数がないため、一旦列`dt.cast_time_unit('ns')`を使用してをナノ秒単位の`Duration`型に変換し、`to_physical()`で`Int64`型に変換後、`cast(pl.Time)`で`Time`型に変換します。"
   ]
  },
  {
   "cell_type": "code",
   "execution_count": 5,
   "id": "469f0429-60c5-4bea-bff3-eac61799d386",
   "metadata": {},
   "outputs": [
    {
     "data": {
      "text/html": [
       "<div><style>\n",
       ".dataframe > thead > tr,\n",
       ".dataframe > tbody > tr {\n",
       "  text-align: right;\n",
       "  white-space: pre-wrap;\n",
       "}\n",
       "</style>\n",
       "<small>shape: (3, 5)</small><table border=\"1\" class=\"dataframe\"><thead><tr><th>datetime</th><th>date</th><th>time</th><th>duration</th><th>time2</th></tr><tr><td>datetime[μs]</td><td>date</td><td>time</td><td>duration[μs]</td><td>time</td></tr></thead><tbody><tr><td>2022-11-04 01:10:12.200</td><td>2022-11-04</td><td>01:10:12.200</td><td>1h 10m 12s 200ms</td><td>01:10:12.200</td></tr><tr><td>2023-10-31 06:50:20.500</td><td>2023-10-31</td><td>06:50:20.500</td><td>6h 50m 20s 500ms</td><td>06:50:20.500</td></tr><tr><td>2024-12-02 16:34:21</td><td>2024-12-02</td><td>16:34:21</td><td>16h 34m 21s</td><td>16:34:21</td></tr></tbody></table></div>"
      ],
      "text/plain": [
       "shape: (3, 5)\n",
       "┌─────────────────────────┬────────────┬──────────────┬──────────────────┬──────────────┐\n",
       "│ datetime                ┆ date       ┆ time         ┆ duration         ┆ time2        │\n",
       "│ ---                     ┆ ---        ┆ ---          ┆ ---              ┆ ---          │\n",
       "│ datetime[μs]            ┆ date       ┆ time         ┆ duration[μs]     ┆ time         │\n",
       "╞═════════════════════════╪════════════╪══════════════╪══════════════════╪══════════════╡\n",
       "│ 2022-11-04 01:10:12.200 ┆ 2022-11-04 ┆ 01:10:12.200 ┆ 1h 10m 12s 200ms ┆ 01:10:12.200 │\n",
       "│ 2023-10-31 06:50:20.500 ┆ 2023-10-31 ┆ 06:50:20.500 ┆ 6h 50m 20s 500ms ┆ 06:50:20.500 │\n",
       "│ 2024-12-02 16:34:21     ┆ 2024-12-02 ┆ 16:34:21     ┆ 16h 34m 21s      ┆ 16:34:21     │\n",
       "└─────────────────────────┴────────────┴──────────────┴──────────────────┴──────────────┘"
      ]
     },
     "execution_count": 5,
     "metadata": {},
     "output_type": "execute_result"
    }
   ],
   "source": [
    "df_times.select(\n",
    "    datetime=pl.col('date').dt.combine(pl.col('time')), #❶\n",
    "    date=pl.col('datetime').dt.date(), #❷\n",
    "    time=pl.col('datetime').dt.time(), #❸\n",
    "    duration=pl.col('time').cast(pl.Duration), #❹\n",
    "    time2=pl.col('duration').dt.cast_time_unit('ns').to_physical().cast(pl.Time), #❺\n",
    ")"
   ]
  },
  {
   "cell_type": "markdown",
   "id": "c97d9832-5b02-46db-be1d-8e458f65518e",
   "metadata": {},
   "source": [
    "### 時間のフィールド"
   ]
  },
  {
   "cell_type": "markdown",
   "id": "24e4c48b-89ee-4995-a26b-4f9f1d907c4e",
   "metadata": {},
   "source": [
    "次のコードは、ネームスペース`dt`の下にある関数を使用して、`Datetime`型の列から日付や時間の各フィールドを取り出します。また、`Date`型や`Time`型の列に対しても、同様の関数を使用することができます。"
   ]
  },
  {
   "cell_type": "code",
   "execution_count": 6,
   "id": "b5c729df-7355-4450-b353-c641d50ea95a",
   "metadata": {},
   "outputs": [
    {
     "data": {
      "text/html": [
       "<div><style>\n",
       ".dataframe > thead > tr,\n",
       ".dataframe > tbody > tr {\n",
       "  text-align: right;\n",
       "  white-space: pre-wrap;\n",
       "}\n",
       "</style>\n",
       "<small>shape: (3, 9)</small><table border=\"1\" class=\"dataframe\"><thead><tr><th>year</th><th>month</th><th>day</th><th>hour</th><th>minute</th><th>second</th><th>microsecond</th><th>week</th><th>weekday</th></tr><tr><td>i32</td><td>i8</td><td>i8</td><td>i8</td><td>i8</td><td>i8</td><td>i32</td><td>i8</td><td>i8</td></tr></thead><tbody><tr><td>2022</td><td>11</td><td>4</td><td>1</td><td>10</td><td>12</td><td>200000</td><td>44</td><td>5</td></tr><tr><td>2023</td><td>10</td><td>31</td><td>6</td><td>50</td><td>20</td><td>500000</td><td>44</td><td>2</td></tr><tr><td>2024</td><td>12</td><td>2</td><td>16</td><td>34</td><td>21</td><td>0</td><td>49</td><td>1</td></tr></tbody></table></div>"
      ],
      "text/plain": [
       "shape: (3, 9)\n",
       "┌──────┬───────┬─────┬──────┬───┬────────┬─────────────┬──────┬─────────┐\n",
       "│ year ┆ month ┆ day ┆ hour ┆ … ┆ second ┆ microsecond ┆ week ┆ weekday │\n",
       "│ ---  ┆ ---   ┆ --- ┆ ---  ┆   ┆ ---    ┆ ---         ┆ ---  ┆ ---     │\n",
       "│ i32  ┆ i8    ┆ i8  ┆ i8   ┆   ┆ i8     ┆ i32         ┆ i8   ┆ i8      │\n",
       "╞══════╪═══════╪═════╪══════╪═══╪════════╪═════════════╪══════╪═════════╡\n",
       "│ 2022 ┆ 11    ┆ 4   ┆ 1    ┆ … ┆ 12     ┆ 200000      ┆ 44   ┆ 5       │\n",
       "│ 2023 ┆ 10    ┆ 31  ┆ 6    ┆ … ┆ 20     ┆ 500000      ┆ 44   ┆ 2       │\n",
       "│ 2024 ┆ 12    ┆ 2   ┆ 16   ┆ … ┆ 21     ┆ 0           ┆ 49   ┆ 1       │\n",
       "└──────┴───────┴─────┴──────┴───┴────────┴─────────────┴──────┴─────────┘"
      ]
     },
     "execution_count": 6,
     "metadata": {},
     "output_type": "execute_result"
    }
   ],
   "source": [
    "df_times.select(\n",
    "    year=pl.col('datetime').dt.year(),\n",
    "    month=pl.col('datetime').dt.month(),\n",
    "    day=pl.col('datetime').dt.day(),\n",
    "    hour=pl.col('datetime').dt.hour(),\n",
    "    minute=pl.col('datetime').dt.minute(),\n",
    "    second=pl.col('datetime').dt.second(),\n",
    "    microsecond=pl.col('datetime').dt.microsecond(),\n",
    "    week=pl.col('datetime').dt.week(),\n",
    "    weekday=pl.col('datetime').dt.weekday()    \n",
    ")"
   ]
  },
  {
   "cell_type": "markdown",
   "id": "36780da1-9377-4e61-a4d8-29951b94bbd8",
   "metadata": {},
   "source": [
    "次のコードは、`Duration`型の列から総日数、総時間数などを整数型に変換します。このとき、注意点として、結果の値は整数であり、小数部分は切り捨てられます。損失なく正確に数値を変換したい場合は、一番小さい単位（例えば、マイクロ秒）に変換して使用する必要があります。"
   ]
  },
  {
   "cell_type": "code",
   "execution_count": 7,
   "id": "75b03649-f7a7-4d4f-b5bd-09b2edd6b847",
   "metadata": {},
   "outputs": [
    {
     "data": {
      "text/html": [
       "<div><style>\n",
       ".dataframe > thead > tr,\n",
       ".dataframe > tbody > tr {\n",
       "  text-align: right;\n",
       "  white-space: pre-wrap;\n",
       "}\n",
       "</style>\n",
       "<small>shape: (3, 6)</small><table border=\"1\" class=\"dataframe\"><thead><tr><th>duration</th><th>days</th><th>hours</th><th>minutes</th><th>seconds</th><th>microseconds</th></tr><tr><td>duration[μs]</td><td>i64</td><td>i64</td><td>i64</td><td>i64</td><td>i64</td></tr></thead><tbody><tr><td>1h 10m 12s 200ms</td><td>0</td><td>1</td><td>70</td><td>4212</td><td>4212200000</td></tr><tr><td>6h 50m 20s 500ms</td><td>0</td><td>6</td><td>410</td><td>24620</td><td>24620500000</td></tr><tr><td>16h 34m 21s</td><td>0</td><td>16</td><td>994</td><td>59661</td><td>59661000000</td></tr></tbody></table></div>"
      ],
      "text/plain": [
       "shape: (3, 6)\n",
       "┌──────────────────┬──────┬───────┬─────────┬─────────┬──────────────┐\n",
       "│ duration         ┆ days ┆ hours ┆ minutes ┆ seconds ┆ microseconds │\n",
       "│ ---              ┆ ---  ┆ ---   ┆ ---     ┆ ---     ┆ ---          │\n",
       "│ duration[μs]     ┆ i64  ┆ i64   ┆ i64     ┆ i64     ┆ i64          │\n",
       "╞══════════════════╪══════╪═══════╪═════════╪═════════╪══════════════╡\n",
       "│ 1h 10m 12s 200ms ┆ 0    ┆ 1     ┆ 70      ┆ 4212    ┆ 4212200000   │\n",
       "│ 6h 50m 20s 500ms ┆ 0    ┆ 6     ┆ 410     ┆ 24620   ┆ 24620500000  │\n",
       "│ 16h 34m 21s      ┆ 0    ┆ 16    ┆ 994     ┆ 59661   ┆ 59661000000  │\n",
       "└──────────────────┴──────┴───────┴─────────┴─────────┴──────────────┘"
      ]
     },
     "execution_count": 7,
     "metadata": {},
     "output_type": "execute_result"
    }
   ],
   "source": [
    "df_times.select(\n",
    "    pl.col('duration'),\n",
    "    days=pl.col('duration').dt.total_days(),\n",
    "    hours=pl.col('duration').dt.total_hours(),\n",
    "    minutes=pl.col('duration').dt.total_minutes(),\n",
    "    seconds=pl.col('duration').dt.total_seconds(),\n",
    "    microseconds=pl.col('duration').dt.total_microseconds()\n",
    ")"
   ]
  },
  {
   "attachments": {},
   "cell_type": "markdown",
   "id": "c257cf8b-8ff4-4b2d-8a58-29f779f33da3",
   "metadata": {},
   "source": [
    "### 時間の移動\n",
    "\n",
    "時間データの処理では、特定の単位に基づいて日付や時間を移動、丸め、または切り捨てる操作が頻繁に必要になります。このセクションでは、Polarsの便利な時間操作関数を活用し、`Datetime`型列の操作方法を紹介します。\n",
    "\n",
    "次のコードは、`dt.month_start()`と`dt.month_end()`で、指定された日時が含まれる月の**開始日**や**終了日**を取得します。これにより、特定の月の範囲を効率よく計算できます。"
   ]
  },
  {
   "cell_type": "code",
   "execution_count": 8,
   "id": "90ff7c49-0b3e-421a-aa2e-13fd1a9e08d0",
   "metadata": {},
   "outputs": [
    {
     "data": {
      "text/html": [
       "<div><style>\n",
       ".dataframe > thead > tr,\n",
       ".dataframe > tbody > tr {\n",
       "  text-align: right;\n",
       "  white-space: pre-wrap;\n",
       "}\n",
       "</style>\n",
       "<small>shape: (3, 3)</small><table border=\"1\" class=\"dataframe\"><thead><tr><th>datetime</th><th>month_start</th><th>month_end</th></tr><tr><td>datetime[μs]</td><td>datetime[μs]</td><td>datetime[μs]</td></tr></thead><tbody><tr><td>2022-11-04 01:10:12.200</td><td>2022-11-01 01:10:12.200</td><td>2022-11-30 01:10:12.200</td></tr><tr><td>2023-10-31 06:50:20.500</td><td>2023-10-01 06:50:20.500</td><td>2023-10-31 06:50:20.500</td></tr><tr><td>2024-12-02 16:34:21</td><td>2024-12-01 16:34:21</td><td>2024-12-31 16:34:21</td></tr></tbody></table></div>"
      ],
      "text/plain": [
       "shape: (3, 3)\n",
       "┌─────────────────────────┬─────────────────────────┬─────────────────────────┐\n",
       "│ datetime                ┆ month_start             ┆ month_end               │\n",
       "│ ---                     ┆ ---                     ┆ ---                     │\n",
       "│ datetime[μs]            ┆ datetime[μs]            ┆ datetime[μs]            │\n",
       "╞═════════════════════════╪═════════════════════════╪═════════════════════════╡\n",
       "│ 2022-11-04 01:10:12.200 ┆ 2022-11-01 01:10:12.200 ┆ 2022-11-30 01:10:12.200 │\n",
       "│ 2023-10-31 06:50:20.500 ┆ 2023-10-01 06:50:20.500 ┆ 2023-10-31 06:50:20.500 │\n",
       "│ 2024-12-02 16:34:21     ┆ 2024-12-01 16:34:21     ┆ 2024-12-31 16:34:21     │\n",
       "└─────────────────────────┴─────────────────────────┴─────────────────────────┘"
      ]
     },
     "execution_count": 8,
     "metadata": {},
     "output_type": "execute_result"
    }
   ],
   "source": [
    "df_times.select(    \n",
    "    'datetime',\n",
    "    month_start=pl.col('datetime').dt.month_start(),  # 月初の日時\n",
    "    month_end=pl.col('datetime').dt.month_end(),      # 月末の日時\n",
    ")"
   ]
  },
  {
   "cell_type": "markdown",
   "id": "c5b17656-b2a3-4c84-9506-7cfc8cc656de",
   "metadata": {},
   "source": [
    "次のコードは、`dt.truncate()`で指定された単位（例: 秒、分、時間、日、月）で日時を切り捨てます。これは、データを集計や分析のために時間軸で正規化したい場合に役立ちます。"
   ]
  },
  {
   "cell_type": "code",
   "execution_count": 9,
   "id": "613030a6-affe-4a5f-97c5-79b13d649aff",
   "metadata": {},
   "outputs": [
    {
     "data": {
      "text/html": [
       "<div><style>\n",
       ".dataframe > thead > tr,\n",
       ".dataframe > tbody > tr {\n",
       "  text-align: right;\n",
       "  white-space: pre-wrap;\n",
       "}\n",
       "</style>\n",
       "<small>shape: (3, 6)</small><table border=\"1\" class=\"dataframe\"><thead><tr><th>datetime</th><th>t_1s</th><th>t_30s</th><th>t_1h</th><th>t_1d</th><th>t_1mo</th></tr><tr><td>datetime[μs]</td><td>datetime[μs]</td><td>datetime[μs]</td><td>datetime[μs]</td><td>datetime[μs]</td><td>datetime[μs]</td></tr></thead><tbody><tr><td>2022-11-04 01:10:12.200</td><td>2022-11-04 01:10:12</td><td>2022-11-04 01:10:00</td><td>2022-11-04 01:00:00</td><td>2022-11-04 00:00:00</td><td>2022-11-01 00:00:00</td></tr><tr><td>2023-10-31 06:50:20.500</td><td>2023-10-31 06:50:20</td><td>2023-10-31 06:50:00</td><td>2023-10-31 06:00:00</td><td>2023-10-31 00:00:00</td><td>2023-10-01 00:00:00</td></tr><tr><td>2024-12-02 16:34:21</td><td>2024-12-02 16:34:21</td><td>2024-12-02 16:34:00</td><td>2024-12-02 16:00:00</td><td>2024-12-02 00:00:00</td><td>2024-12-01 00:00:00</td></tr></tbody></table></div>"
      ],
      "text/plain": [
       "shape: (3, 6)\n",
       "┌─────────────────────────┬─────────────────────┬─────────────────────┬─────────────────────┬─────────────────────┬─────────────────────┐\n",
       "│ datetime                ┆ t_1s                ┆ t_30s               ┆ t_1h                ┆ t_1d                ┆ t_1mo               │\n",
       "│ ---                     ┆ ---                 ┆ ---                 ┆ ---                 ┆ ---                 ┆ ---                 │\n",
       "│ datetime[μs]            ┆ datetime[μs]        ┆ datetime[μs]        ┆ datetime[μs]        ┆ datetime[μs]        ┆ datetime[μs]        │\n",
       "╞═════════════════════════╪═════════════════════╪═════════════════════╪═════════════════════╪═════════════════════╪═════════════════════╡\n",
       "│ 2022-11-04 01:10:12.200 ┆ 2022-11-04 01:10:12 ┆ 2022-11-04 01:10:00 ┆ 2022-11-04 01:00:00 ┆ 2022-11-04 00:00:00 ┆ 2022-11-01 00:00:00 │\n",
       "│ 2023-10-31 06:50:20.500 ┆ 2023-10-31 06:50:20 ┆ 2023-10-31 06:50:00 ┆ 2023-10-31 06:00:00 ┆ 2023-10-31 00:00:00 ┆ 2023-10-01 00:00:00 │\n",
       "│ 2024-12-02 16:34:21     ┆ 2024-12-02 16:34:21 ┆ 2024-12-02 16:34:00 ┆ 2024-12-02 16:00:00 ┆ 2024-12-02 00:00:00 ┆ 2024-12-01 00:00:00 │\n",
       "└─────────────────────────┴─────────────────────┴─────────────────────┴─────────────────────┴─────────────────────┴─────────────────────┘"
      ]
     },
     "execution_count": 9,
     "metadata": {},
     "output_type": "execute_result"
    }
   ],
   "source": [
    "df_times.select(    \n",
    "    'datetime', \n",
    "    t_1s=pl.col('datetime').dt.truncate('1s'),  # 1秒単位に切り捨て\n",
    "    t_30s=pl.col('datetime').dt.truncate('30s'), # 30秒単位に切り捨て\n",
    "    t_1h=pl.col('datetime').dt.truncate('1h'),  # 1時間単位に切り捨て\n",
    "    t_1d=pl.col('datetime').dt.truncate('1d'),  # 1日単位に切り捨て\n",
    "    t_1mo=pl.col('datetime').dt.truncate('1mo') # 1ヶ月単位に切り捨て\n",
    ")"
   ]
  },
  {
   "cell_type": "markdown",
   "id": "3533ac73-8ccd-4c24-a204-c8cef7a3b3e9",
   "metadata": {},
   "source": [
    "次のコードは、`dt.round()`で指定された単位で日時を**切り上げまたは切り下げ**ます。この操作は、切り捨てよりも柔軟で、データを最も近い時間単位に揃えたい場合に適しています。"
   ]
  },
  {
   "cell_type": "code",
   "execution_count": 10,
   "id": "68c687a1-0fa3-45e6-ad8c-ba261b6f910f",
   "metadata": {},
   "outputs": [
    {
     "data": {
      "text/html": [
       "<div><style>\n",
       ".dataframe > thead > tr,\n",
       ".dataframe > tbody > tr {\n",
       "  text-align: right;\n",
       "  white-space: pre-wrap;\n",
       "}\n",
       "</style>\n",
       "<small>shape: (3, 6)</small><table border=\"1\" class=\"dataframe\"><thead><tr><th>datetime</th><th>r_1s</th><th>r_30s</th><th>r_1h</th><th>r_1d</th><th>r_1mo</th></tr><tr><td>datetime[μs]</td><td>datetime[μs]</td><td>datetime[μs]</td><td>datetime[μs]</td><td>datetime[μs]</td><td>datetime[μs]</td></tr></thead><tbody><tr><td>2022-11-04 01:10:12.200</td><td>2022-11-04 01:10:12</td><td>2022-11-04 01:10:00</td><td>2022-11-04 01:00:00</td><td>2022-11-04 00:00:00</td><td>2022-11-01 00:00:00</td></tr><tr><td>2023-10-31 06:50:20.500</td><td>2023-10-31 06:50:21</td><td>2023-10-31 06:50:30</td><td>2023-10-31 07:00:00</td><td>2023-10-31 00:00:00</td><td>2023-11-01 00:00:00</td></tr><tr><td>2024-12-02 16:34:21</td><td>2024-12-02 16:34:21</td><td>2024-12-02 16:34:30</td><td>2024-12-02 17:00:00</td><td>2024-12-03 00:00:00</td><td>2024-12-01 00:00:00</td></tr></tbody></table></div>"
      ],
      "text/plain": [
       "shape: (3, 6)\n",
       "┌─────────────────────────┬─────────────────────┬─────────────────────┬─────────────────────┬─────────────────────┬─────────────────────┐\n",
       "│ datetime                ┆ r_1s                ┆ r_30s               ┆ r_1h                ┆ r_1d                ┆ r_1mo               │\n",
       "│ ---                     ┆ ---                 ┆ ---                 ┆ ---                 ┆ ---                 ┆ ---                 │\n",
       "│ datetime[μs]            ┆ datetime[μs]        ┆ datetime[μs]        ┆ datetime[μs]        ┆ datetime[μs]        ┆ datetime[μs]        │\n",
       "╞═════════════════════════╪═════════════════════╪═════════════════════╪═════════════════════╪═════════════════════╪═════════════════════╡\n",
       "│ 2022-11-04 01:10:12.200 ┆ 2022-11-04 01:10:12 ┆ 2022-11-04 01:10:00 ┆ 2022-11-04 01:00:00 ┆ 2022-11-04 00:00:00 ┆ 2022-11-01 00:00:00 │\n",
       "│ 2023-10-31 06:50:20.500 ┆ 2023-10-31 06:50:21 ┆ 2023-10-31 06:50:30 ┆ 2023-10-31 07:00:00 ┆ 2023-10-31 00:00:00 ┆ 2023-11-01 00:00:00 │\n",
       "│ 2024-12-02 16:34:21     ┆ 2024-12-02 16:34:21 ┆ 2024-12-02 16:34:30 ┆ 2024-12-02 17:00:00 ┆ 2024-12-03 00:00:00 ┆ 2024-12-01 00:00:00 │\n",
       "└─────────────────────────┴─────────────────────┴─────────────────────┴─────────────────────┴─────────────────────┴─────────────────────┘"
      ]
     },
     "execution_count": 10,
     "metadata": {},
     "output_type": "execute_result"
    }
   ],
   "source": [
    "df_times.select(\n",
    "    'datetime',\n",
    "    r_1s=pl.col('datetime').dt.round('1s'),\n",
    "    r_30s=pl.col('datetime').dt.round('30s'),\n",
    "    r_1h=pl.col('datetime').dt.round('1h'),\n",
    "    r_1d=pl.col('datetime').dt.round('1d'),\n",
    "    r_1mo=pl.col('datetime').dt.round('1mo'),\n",
    ")"
   ]
  },
  {
   "cell_type": "markdown",
   "id": "28b13860-6aba-4620-a550-f8167924a3a4",
   "metadata": {},
   "source": [
    "次のコードは、`dt.offset_by()`で指定された単位分だけ日時を**移動**します。正の値を指定すると将来の日時に、負の値を指定すると過去の日時に移動します。"
   ]
  },
  {
   "cell_type": "code",
   "execution_count": 11,
   "id": "fe240b18-1dde-4c7c-b095-dd9c0cccec6b",
   "metadata": {},
   "outputs": [
    {
     "data": {
      "text/html": [
       "<div><style>\n",
       ".dataframe > thead > tr,\n",
       ".dataframe > tbody > tr {\n",
       "  text-align: right;\n",
       "  white-space: pre-wrap;\n",
       "}\n",
       "</style>\n",
       "<small>shape: (3, 6)</small><table border=\"1\" class=\"dataframe\"><thead><tr><th>datetime</th><th>o_1s</th><th>o_30s</th><th>o_1h</th><th>o_1d</th><th>o_1mo</th></tr><tr><td>datetime[μs]</td><td>datetime[μs]</td><td>datetime[μs]</td><td>datetime[μs]</td><td>datetime[μs]</td><td>datetime[μs]</td></tr></thead><tbody><tr><td>2022-11-04 01:10:12.200</td><td>2022-11-04 01:10:13.200</td><td>2022-11-04 01:10:42.200</td><td>2022-11-04 02:10:12.200</td><td>2022-11-05 01:10:12.200</td><td>2022-12-04 01:10:12.200</td></tr><tr><td>2023-10-31 06:50:20.500</td><td>2023-10-31 06:50:21.500</td><td>2023-10-31 06:50:50.500</td><td>2023-10-31 07:50:20.500</td><td>2023-11-01 06:50:20.500</td><td>2023-11-30 06:50:20.500</td></tr><tr><td>2024-12-02 16:34:21</td><td>2024-12-02 16:34:22</td><td>2024-12-02 16:34:51</td><td>2024-12-02 17:34:21</td><td>2024-12-03 16:34:21</td><td>2025-01-02 16:34:21</td></tr></tbody></table></div>"
      ],
      "text/plain": [
       "shape: (3, 6)\n",
       "┌────────────────────────┬────────────────────────┬────────────────────────┬────────────────────────┬────────────────────────┬───────────────────────┐\n",
       "│ datetime               ┆ o_1s                   ┆ o_30s                  ┆ o_1h                   ┆ o_1d                   ┆ o_1mo                 │\n",
       "│ ---                    ┆ ---                    ┆ ---                    ┆ ---                    ┆ ---                    ┆ ---                   │\n",
       "│ datetime[μs]           ┆ datetime[μs]           ┆ datetime[μs]           ┆ datetime[μs]           ┆ datetime[μs]           ┆ datetime[μs]          │\n",
       "╞════════════════════════╪════════════════════════╪════════════════════════╪════════════════════════╪════════════════════════╪═══════════════════════╡\n",
       "│ 2022-11-04             ┆ 2022-11-04             ┆ 2022-11-04             ┆ 2022-11-04             ┆ 2022-11-05             ┆ 2022-12-04            │\n",
       "│ 01:10:12.200           ┆ 01:10:13.200           ┆ 01:10:42.200           ┆ 02:10:12.200           ┆ 01:10:12.200           ┆ 01:10:12.200          │\n",
       "│ 2023-10-31             ┆ 2023-10-31             ┆ 2023-10-31             ┆ 2023-10-31             ┆ 2023-11-01             ┆ 2023-11-30            │\n",
       "│ 06:50:20.500           ┆ 06:50:21.500           ┆ 06:50:50.500           ┆ 07:50:20.500           ┆ 06:50:20.500           ┆ 06:50:20.500          │\n",
       "│ 2024-12-02 16:34:21    ┆ 2024-12-02 16:34:22    ┆ 2024-12-02 16:34:51    ┆ 2024-12-02 17:34:21    ┆ 2024-12-03 16:34:21    ┆ 2025-01-02 16:34:21   │\n",
       "└────────────────────────┴────────────────────────┴────────────────────────┴────────────────────────┴────────────────────────┴───────────────────────┘"
      ]
     },
     "execution_count": 11,
     "metadata": {},
     "output_type": "execute_result"
    }
   ],
   "source": [
    "df_times.select(\n",
    "    'datetime',\n",
    "    o_1s=pl.col('datetime').dt.offset_by('1s'),\n",
    "    o_30s=pl.col('datetime').dt.offset_by('30s'),\n",
    "    o_1h=pl.col('datetime').dt.offset_by('1h'),\n",
    "    o_1d=pl.col('datetime').dt.offset_by('1d'),\n",
    "    o_1mo=pl.col('datetime').dt.offset_by('1mo'),\n",
    ")"
   ]
  },
  {
   "cell_type": "markdown",
   "id": "aafa68e2-2aef-40d6-bf3d-cfe34918b263",
   "metadata": {},
   "source": [
    "### リサンプリング  \n",
    "\n",
    "リサンプリングとは、時系列データの時間間隔を変更する処理のことです。  \n",
    "\n",
    "- **ダウンサンプリング**: より長い時間間隔にデータを集約すること（例：1分ごとのデータを1時間ごとに要約）。  \n",
    "- **アップサンプリング**: より短い時間間隔にデータを補間または再配置すること（例：1時間ごとのデータを1分ごとに拡張）。  \n",
    "\n",
    "`DataFrame.group_by_dynamic()` を使用すると、時系列データをダウンサンプリングできます。次のコードでは、`air_quality_long.csv` ファイルを読み込みます。このファイルには、複数の場所 (`location`)、複数のパラメータ (`parameter`) の時間データが含まれています。場所とパラメータごとにダウンサンプリングを行うために、以下の手順を実行します。  \n",
    "\n",
    "❶ **データの並び替え**: まず、`location`、`parameter`、`date.utc` の順にデータを並び替えます。これにより、各グループのデータが時間の昇順に整列されます。  \n",
    "   \n",
    "❷ **`group_by_dynamic()`を適用**: `date.utc` 列を基準に `group_by_dynamic()` を使用してダウンサンプリングします。この例では、8時間ごとにグループを作成します。`group_by` 引数で、時間列のグループ列名を指定します。\n",
    "   \n",
    "❸ **集計処理**: 各グループ内で、`value` 列の最小値、平均値、および最大値を計算します。  \n",
    "\n",
    "このように、`group_by_dynamic()` を活用することで、時系列データを効率的に集約できます。"
   ]
  },
  {
   "cell_type": "code",
   "execution_count": 32,
   "id": "ac3873ce-7c68-464f-a1a1-c3b62c18d4a8",
   "metadata": {},
   "outputs": [
    {
     "data": {
      "text/html": [
       "<table><tr><td><div><style>\n",
       ".dataframe > thead > tr,\n",
       ".dataframe > tbody > tr {\n",
       "  text-align: right;\n",
       "  white-space: pre-wrap;\n",
       "}\n",
       "</style>\n",
       "<small>shape: (5_272, 4)</small><table border=\"1\" class=\"dataframe\"><thead><tr><th>date.utc</th><th>location</th><th>parameter</th><th>value</th></tr><tr><td>datetime[μs, UTC]</td><td>str</td><td>str</td><td>f64</td></tr></thead><tbody><tr><td>2019-04-09 01:00:00 UTC</td><td>&quot;BETR801&quot;</td><td>&quot;no2&quot;</td><td>22.5</td></tr><tr><td>2019-04-09 02:00:00 UTC</td><td>&quot;BETR801&quot;</td><td>&quot;no2&quot;</td><td>53.5</td></tr><tr><td>2019-04-09 03:00:00 UTC</td><td>&quot;BETR801&quot;</td><td>&quot;no2&quot;</td><td>54.5</td></tr><tr><td>2019-04-09 04:00:00 UTC</td><td>&quot;BETR801&quot;</td><td>&quot;no2&quot;</td><td>34.5</td></tr><tr><td>2019-04-09 05:00:00 UTC</td><td>&quot;BETR801&quot;</td><td>&quot;no2&quot;</td><td>46.5</td></tr><tr><td>&hellip;</td><td>&hellip;</td><td>&hellip;</td><td>&hellip;</td></tr><tr><td>2019-06-20 20:00:00 UTC</td><td>&quot;London Westminster&quot;</td><td>&quot;pm25&quot;</td><td>8.0</td></tr><tr><td>2019-06-20 21:00:00 UTC</td><td>&quot;London Westminster&quot;</td><td>&quot;pm25&quot;</td><td>8.0</td></tr><tr><td>2019-06-20 22:00:00 UTC</td><td>&quot;London Westminster&quot;</td><td>&quot;pm25&quot;</td><td>7.0</td></tr><tr><td>2019-06-20 23:00:00 UTC</td><td>&quot;London Westminster&quot;</td><td>&quot;pm25&quot;</td><td>7.0</td></tr><tr><td>2019-06-21 00:00:00 UTC</td><td>&quot;London Westminster&quot;</td><td>&quot;pm25&quot;</td><td>7.0</td></tr></tbody></table></div></td><td><div><style>\n",
       ".dataframe > thead > tr,\n",
       ".dataframe > tbody > tr {\n",
       "  text-align: right;\n",
       "  white-space: pre-wrap;\n",
       "}\n",
       "</style>\n",
       "<small>shape: (780, 6)</small><table border=\"1\" class=\"dataframe\"><thead><tr><th>location</th><th>parameter</th><th>date.utc</th><th>value_min</th><th>value_mean</th><th>value_max</th></tr><tr><td>str</td><td>str</td><td>datetime[μs, UTC]</td><td>f64</td><td>f64</td><td>f64</td></tr></thead><tbody><tr><td>&quot;BETR801&quot;</td><td>&quot;no2&quot;</td><td>2019-04-09 00:00:00 UTC</td><td>22.5</td><td>42.857143</td><td>54.5</td></tr><tr><td>&quot;BETR801&quot;</td><td>&quot;no2&quot;</td><td>2019-04-09 08:00:00 UTC</td><td>27.5</td><td>32.25</td><td>39.0</td></tr><tr><td>&quot;BETR801&quot;</td><td>&quot;no2&quot;</td><td>2019-04-10 00:00:00 UTC</td><td>11.5</td><td>12.5</td><td>13.5</td></tr><tr><td>&quot;BETR801&quot;</td><td>&quot;no2&quot;</td><td>2019-04-11 00:00:00 UTC</td><td>13.5</td><td>13.75</td><td>14.0</td></tr><tr><td>&quot;BETR801&quot;</td><td>&quot;no2&quot;</td><td>2019-04-12 00:00:00 UTC</td><td>22.5</td><td>23.75</td><td>25.0</td></tr><tr><td>&hellip;</td><td>&hellip;</td><td>&hellip;</td><td>&hellip;</td><td>&hellip;</td><td>&hellip;</td></tr><tr><td>&quot;London Westminster&quot;</td><td>&quot;pm25&quot;</td><td>2019-06-19 00:00:00 UTC</td><td>11.0</td><td>11.0</td><td>11.0</td></tr><tr><td>&quot;London Westminster&quot;</td><td>&quot;pm25&quot;</td><td>2019-06-19 08:00:00 UTC</td><td>12.0</td><td>12.0</td><td>12.0</td></tr><tr><td>&quot;London Westminster&quot;</td><td>&quot;pm25&quot;</td><td>2019-06-20 08:00:00 UTC</td><td>8.0</td><td>8.0</td><td>8.0</td></tr><tr><td>&quot;London Westminster&quot;</td><td>&quot;pm25&quot;</td><td>2019-06-20 16:00:00 UTC</td><td>7.0</td><td>7.75</td><td>8.0</td></tr><tr><td>&quot;London Westminster&quot;</td><td>&quot;pm25&quot;</td><td>2019-06-21 00:00:00 UTC</td><td>7.0</td><td>7.0</td><td>7.0</td></tr></tbody></table></div></td></tr></table>"
      ]
     },
     "metadata": {},
     "output_type": "display_data"
    }
   ],
   "source": [
    "df = pl.read_csv('data/air_quality_long.csv', try_parse_dates=True).drop('city', 'country', 'unit')\n",
    "df = df.sort('location', 'parameter', 'date.utc') #❶\n",
    "df_down = df.group_by_dynamic('date.utc', every='8h', group_by=['location', 'parameter']).agg( #❷\n",
    "    pl.col('value').min().alias('value_min'),  #❸\n",
    "    pl.col('value').mean().alias('value_mean'),#❸\n",
    "    pl.col('value').max().alias('value_max')   #❸\n",
    ")\n",
    "row(df, df_down)"
   ]
  },
  {
   "cell_type": "markdown",
   "id": "f16b663e-ea37-4448-afea-989558def071",
   "metadata": {},
   "source": [
    "`DataFrame.upsample()` を使用すると、時系列データをアップサンプリングできます。引数は `group_by_dynamic()` と同じですが、出力はアップサンプリングされたデータフレームとなり、もともと存在しない時間のデータはすべて `NULL` で埋められます。  \n",
    "\n",
    "一般的には、`forward_fill()` を適用して、直前のデータで `NULL` を埋めることで、データの連続性を保ちます。"
   ]
  },
  {
   "cell_type": "code",
   "execution_count": 37,
   "id": "4e2f382f-df2e-4269-b563-98939c3e8fbd",
   "metadata": {},
   "outputs": [
    {
     "data": {
      "text/html": [
       "<table><tr><td><div><style>\n",
       ".dataframe > thead > tr,\n",
       ".dataframe > tbody > tr {\n",
       "  text-align: right;\n",
       "  white-space: pre-wrap;\n",
       "}\n",
       "</style>\n",
       "<small>shape: (25_547, 4)</small><table border=\"1\" class=\"dataframe\"><thead><tr><th>date.utc</th><th>location</th><th>parameter</th><th>value</th></tr><tr><td>datetime[μs, UTC]</td><td>str</td><td>str</td><td>f64</td></tr></thead><tbody><tr><td>2019-04-09 01:00:00 UTC</td><td>&quot;BETR801&quot;</td><td>&quot;pm25&quot;</td><td>76.0</td></tr><tr><td>2019-04-09 01:20:00 UTC</td><td>null</td><td>null</td><td>null</td></tr><tr><td>2019-04-09 01:40:00 UTC</td><td>null</td><td>null</td><td>null</td></tr><tr><td>2019-04-09 02:00:00 UTC</td><td>&quot;BETR801&quot;</td><td>&quot;pm25&quot;</td><td>91.5</td></tr><tr><td>2019-04-09 02:20:00 UTC</td><td>null</td><td>null</td><td>null</td></tr><tr><td>&hellip;</td><td>&hellip;</td><td>&hellip;</td><td>&hellip;</td></tr><tr><td>2019-06-20 22:40:00 UTC</td><td>null</td><td>null</td><td>null</td></tr><tr><td>2019-06-20 23:00:00 UTC</td><td>&quot;FR04014&quot;</td><td>&quot;no2&quot;</td><td>21.8</td></tr><tr><td>2019-06-20 23:20:00 UTC</td><td>null</td><td>null</td><td>null</td></tr><tr><td>2019-06-20 23:40:00 UTC</td><td>null</td><td>null</td><td>null</td></tr><tr><td>2019-06-21 00:00:00 UTC</td><td>&quot;FR04014&quot;</td><td>&quot;no2&quot;</td><td>20.0</td></tr></tbody></table></div></td><td><div><style>\n",
       ".dataframe > thead > tr,\n",
       ".dataframe > tbody > tr {\n",
       "  text-align: right;\n",
       "  white-space: pre-wrap;\n",
       "}\n",
       "</style>\n",
       "<small>shape: (25_547, 4)</small><table border=\"1\" class=\"dataframe\"><thead><tr><th>date.utc</th><th>location</th><th>parameter</th><th>value</th></tr><tr><td>datetime[μs, UTC]</td><td>str</td><td>str</td><td>f64</td></tr></thead><tbody><tr><td>2019-04-09 01:00:00 UTC</td><td>&quot;BETR801&quot;</td><td>&quot;pm25&quot;</td><td>76.0</td></tr><tr><td>2019-04-09 01:20:00 UTC</td><td>&quot;BETR801&quot;</td><td>&quot;pm25&quot;</td><td>76.0</td></tr><tr><td>2019-04-09 01:40:00 UTC</td><td>&quot;BETR801&quot;</td><td>&quot;pm25&quot;</td><td>76.0</td></tr><tr><td>2019-04-09 02:00:00 UTC</td><td>&quot;BETR801&quot;</td><td>&quot;pm25&quot;</td><td>91.5</td></tr><tr><td>2019-04-09 02:20:00 UTC</td><td>&quot;BETR801&quot;</td><td>&quot;pm25&quot;</td><td>91.5</td></tr><tr><td>&hellip;</td><td>&hellip;</td><td>&hellip;</td><td>&hellip;</td></tr><tr><td>2019-06-20 22:40:00 UTC</td><td>&quot;FR04014&quot;</td><td>&quot;no2&quot;</td><td>26.5</td></tr><tr><td>2019-06-20 23:00:00 UTC</td><td>&quot;FR04014&quot;</td><td>&quot;no2&quot;</td><td>21.8</td></tr><tr><td>2019-06-20 23:20:00 UTC</td><td>&quot;FR04014&quot;</td><td>&quot;no2&quot;</td><td>21.8</td></tr><tr><td>2019-06-20 23:40:00 UTC</td><td>&quot;FR04014&quot;</td><td>&quot;no2&quot;</td><td>21.8</td></tr><tr><td>2019-06-21 00:00:00 UTC</td><td>&quot;FR04014&quot;</td><td>&quot;no2&quot;</td><td>20.0</td></tr></tbody></table></div></td></tr></table>"
      ]
     },
     "metadata": {},
     "output_type": "display_data"
    }
   ],
   "source": [
    "df_up = df.upsample('date.utc', every='20m', group_by=['location', 'parameter'])\n",
    "df_up_fill = df_up.with_columns(pl.col('location', 'parameter', 'value').forward_fill())\n",
    "row(df_up, df_up_fill)"
   ]
  },
  {
   "cell_type": "markdown",
   "id": "7b97406c-9265-4624-a33f-9227c7479a76",
   "metadata": {},
   "source": [
    "## 他のデータとの変換"
   ]
  },
  {
   "cell_type": "markdown",
   "id": "24aed349-3aaa-48f6-954b-4d4bb094ba70",
   "metadata": {},
   "source": [
    "### 文字列との変換\n",
    "\n",
    "時間データの処理では、文字列と日時型を相互に変換する操作が非常に重要です。Polarsでは、`Datetime`型や`Date`型、`Time`型と文字列を効率的に変換するための多くの関数が用意されています。以下に、代表的な方法と例を示します。"
   ]
  },
  {
   "cell_type": "markdown",
   "id": "c5101150-bbf9-42e4-b035-8e921f732292",
   "metadata": {},
   "source": [
    "#### 文字列から時間型へ"
   ]
  },
  {
   "cell_type": "markdown",
   "id": "7b1a1dca-6001-4c1f-a318-16902d1df5b5",
   "metadata": {},
   "source": [
    "`pl.read_csv()`関数の`try_parse_dates=True`オプションを指定すると、日時として解釈可能な列を自動的に`Datetime`型に変換します。  \n",
    "\n",
    "例: 次のCSVデータでは、`start`列は自動的に日時型に変換されます。"
   ]
  },
  {
   "cell_type": "code",
   "execution_count": 47,
   "id": "8c2684f9-9fb3-4c7c-969a-2c4ef2f8d6c7",
   "metadata": {},
   "outputs": [
    {
     "name": "stdout",
     "output_type": "stream",
     "text": [
      "Overwriting data/test_time.csv\n"
     ]
    }
   ],
   "source": [
    "%%writefile data/test_time.csv\n",
    "start,end,category\n",
    "2024-12-10 10:32:14.200,20241210_103715.1,B\n",
    "2024-12-11 02:40:02.340,20241211_024628.2,A\n",
    "2024-12-11 15:40:30.550,20241211_154317.6,A\n",
    "2024-12-12 05:48:19.000,20241212_054905.9,B\n",
    "2024-12-12 13:42:35.990,20241212_135252.98,B"
   ]
  },
  {
   "cell_type": "code",
   "execution_count": 48,
   "id": "39bcac78-282e-4fe3-ae21-6459826e3571",
   "metadata": {},
   "outputs": [
    {
     "data": {
      "text/html": [
       "<div><style>\n",
       ".dataframe > thead > tr,\n",
       ".dataframe > tbody > tr {\n",
       "  text-align: right;\n",
       "  white-space: pre-wrap;\n",
       "}\n",
       "</style>\n",
       "<small>shape: (5, 3)</small><table border=\"1\" class=\"dataframe\"><thead><tr><th>start</th><th>end</th><th>category</th></tr><tr><td>datetime[μs]</td><td>str</td><td>str</td></tr></thead><tbody><tr><td>2024-12-10 10:32:14.200</td><td>&quot;20241210_103715.1&quot;</td><td>&quot;B&quot;</td></tr><tr><td>2024-12-11 02:40:02.340</td><td>&quot;20241211_024628.2&quot;</td><td>&quot;A&quot;</td></tr><tr><td>2024-12-11 15:40:30.550</td><td>&quot;20241211_154317.6&quot;</td><td>&quot;A&quot;</td></tr><tr><td>2024-12-12 05:48:19</td><td>&quot;20241212_054905.9&quot;</td><td>&quot;B&quot;</td></tr><tr><td>2024-12-12 13:42:35.990</td><td>&quot;20241212_135252.98&quot;</td><td>&quot;B&quot;</td></tr></tbody></table></div>"
      ],
      "text/plain": [
       "shape: (5, 3)\n",
       "┌─────────────────────────┬────────────────────┬──────────┐\n",
       "│ start                   ┆ end                ┆ category │\n",
       "│ ---                     ┆ ---                ┆ ---      │\n",
       "│ datetime[μs]            ┆ str                ┆ str      │\n",
       "╞═════════════════════════╪════════════════════╪══════════╡\n",
       "│ 2024-12-10 10:32:14.200 ┆ 20241210_103715.1  ┆ B        │\n",
       "│ 2024-12-11 02:40:02.340 ┆ 20241211_024628.2  ┆ A        │\n",
       "│ 2024-12-11 15:40:30.550 ┆ 20241211_154317.6  ┆ A        │\n",
       "│ 2024-12-12 05:48:19     ┆ 20241212_054905.9  ┆ B        │\n",
       "│ 2024-12-12 13:42:35.990 ┆ 20241212_135252.98 ┆ B        │\n",
       "└─────────────────────────┴────────────────────┴──────────┘"
      ]
     },
     "execution_count": 48,
     "metadata": {},
     "output_type": "execute_result"
    }
   ],
   "source": [
    "df = pl.read_csv('data/test_time.csv', try_parse_dates=True)\n",
    "df"
   ]
  },
  {
   "cell_type": "markdown",
   "id": "5398bd74-9c06-43fc-8c15-7ec633e82a3a",
   "metadata": {},
   "source": [
    "`end`列のような特殊な形式の文字列の場合、`str.to_datetime()`を使用して、文字列を`Datetime`型に変換できます。フォーマット指定子（例: `%Y%m%d_%H%M%S`）を指定することで、適切に変換が行えます。各個フィールドのフォーマットを指定する方法は次のURLに参考してください。\n",
    "\n",
    "https://docs.rs/chrono/latest/chrono/format/strftime/index.html"
   ]
  },
  {
   "cell_type": "code",
   "execution_count": 49,
   "id": "fc4f18b6-0e1d-426a-a905-bf34f1b03fb7",
   "metadata": {},
   "outputs": [
    {
     "data": {
      "text/html": [
       "<table><tr><td><div><style>\n",
       ".dataframe > thead > tr,\n",
       ".dataframe > tbody > tr {\n",
       "  text-align: right;\n",
       "  white-space: pre-wrap;\n",
       "}\n",
       "</style>\n",
       "<small>shape: (5, 1)</small><table border=\"1\" class=\"dataframe\"><thead><tr><th>end</th></tr><tr><td>str</td></tr></thead><tbody><tr><td>&quot;20241210_103715.1&quot;</td></tr><tr><td>&quot;20241211_024628.2&quot;</td></tr><tr><td>&quot;20241211_154317.6&quot;</td></tr><tr><td>&quot;20241212_054905.9&quot;</td></tr><tr><td>&quot;20241212_135252.98&quot;</td></tr></tbody></table></div></td><td><div><style>\n",
       ".dataframe > thead > tr,\n",
       ".dataframe > tbody > tr {\n",
       "  text-align: right;\n",
       "  white-space: pre-wrap;\n",
       "}\n",
       "</style>\n",
       "<small>shape: (5, 1)</small><table border=\"1\" class=\"dataframe\"><thead><tr><th>end</th></tr><tr><td>datetime[μs]</td></tr></thead><tbody><tr><td>2024-12-10 10:37:15.100</td></tr><tr><td>2024-12-11 02:46:28.200</td></tr><tr><td>2024-12-11 15:43:17.600</td></tr><tr><td>2024-12-12 05:49:05.900</td></tr><tr><td>2024-12-12 13:52:52.980</td></tr></tbody></table></div></td></tr></table>"
      ]
     },
     "metadata": {},
     "output_type": "display_data"
    }
   ],
   "source": [
    "df2 = df.with_columns(\n",
    "    end=pl.col('end').str.to_datetime('%Y%m%d_%H%M%S%.f')\n",
    ")\n",
    "row(df.select('end'), df2.select('end'))"
   ]
  },
  {
   "cell_type": "markdown",
   "id": "e6859420-bdc4-47f8-9fc6-36de7fef0277",
   "metadata": {},
   "source": [
    "他には、`str.to_date()`や`str.to_time()`を使用して文字列を`Date`型または`Time`型に変換することもできます。`Duration`型に変換する場合は、一旦`Time`型に変換してから、`Duration`型にキャストすることができます。"
   ]
  },
  {
   "cell_type": "markdown",
   "id": "8f1939d1-ddac-4671-a568-edc9804df57b",
   "metadata": {},
   "source": [
    "#### 時間型から文字列へ\n",
    "\n",
    "時間型データを特定のフォーマットで文字列に変換したい場合は、`dt.strftime()`を使用します。フォーマット指定子を指定することで、必要な形式の文字列を生成できます。"
   ]
  },
  {
   "cell_type": "code",
   "execution_count": 50,
   "id": "11dae2f8-ca00-4016-8e95-f7b3ae6808d1",
   "metadata": {},
   "outputs": [
    {
     "data": {
      "text/html": [
       "<table><tr><td><div><style>\n",
       ".dataframe > thead > tr,\n",
       ".dataframe > tbody > tr {\n",
       "  text-align: right;\n",
       "  white-space: pre-wrap;\n",
       "}\n",
       "</style>\n",
       "<small>shape: (5, 1)</small><table border=\"1\" class=\"dataframe\"><thead><tr><th>start</th></tr><tr><td>datetime[μs]</td></tr></thead><tbody><tr><td>2024-12-10 10:32:14.200</td></tr><tr><td>2024-12-11 02:40:02.340</td></tr><tr><td>2024-12-11 15:40:30.550</td></tr><tr><td>2024-12-12 05:48:19</td></tr><tr><td>2024-12-12 13:42:35.990</td></tr></tbody></table></div></td><td><div><style>\n",
       ".dataframe > thead > tr,\n",
       ".dataframe > tbody > tr {\n",
       "  text-align: right;\n",
       "  white-space: pre-wrap;\n",
       "}\n",
       "</style>\n",
       "<small>shape: (5, 1)</small><table border=\"1\" class=\"dataframe\"><thead><tr><th>formatted_start</th></tr><tr><td>str</td></tr></thead><tbody><tr><td>&quot;2024/12/10 10:32:14&quot;</td></tr><tr><td>&quot;2024/12/11 02:40:02&quot;</td></tr><tr><td>&quot;2024/12/11 15:40:30&quot;</td></tr><tr><td>&quot;2024/12/12 05:48:19&quot;</td></tr><tr><td>&quot;2024/12/12 13:42:35&quot;</td></tr></tbody></table></div></td></tr></table>"
      ]
     },
     "metadata": {},
     "output_type": "display_data"
    }
   ],
   "source": [
    "df3 = df2.select(\n",
    "    formatted_start=pl.col('start').dt.strftime('%Y/%m/%d %H:%M:%S')\n",
    ")\n",
    "\n",
    "row(df2.select('start'), df3)"
   ]
  },
  {
   "cell_type": "markdown",
   "id": "3aeda40b-5685-4753-b918-858d43bc6b19",
   "metadata": {},
   "source": [
    "`Duration`型を文字列に変換する際には、最小単位を利用して値を計算し、その後`pl.format()`を使って必要な形式の文字列に整形します。この方法は、カスタムフォーマットを作成したい場合や、単位を変更して表示したい場合に便利です。\n",
    "\n",
    "以下のコードでは、最小単位の値を適切に計算するために、`cast()`メソッドを使って十進数型(`Decimal`)にキャストします。これにより、より精度の高い計算が可能になります。"
   ]
  },
  {
   "cell_type": "code",
   "execution_count": 56,
   "id": "75d6a441-6254-4625-bccb-9b11a0e805b6",
   "metadata": {},
   "outputs": [
    {
     "data": {
      "text/html": [
       "<div><style>\n",
       ".dataframe > thead > tr,\n",
       ".dataframe > tbody > tr {\n",
       "  text-align: right;\n",
       "  white-space: pre-wrap;\n",
       "}\n",
       "</style>\n",
       "<small>shape: (5, 2)</small><table border=\"1\" class=\"dataframe\"><thead><tr><th>duration</th><th>duration_str</th></tr><tr><td>duration[μs]</td><td>str</td></tr></thead><tbody><tr><td>5m 900ms</td><td>&quot;300.9000 secs&quot;</td></tr><tr><td>6m 25s 860ms</td><td>&quot;385.8600 secs&quot;</td></tr><tr><td>2m 47s 50ms</td><td>&quot;167.0500 secs&quot;</td></tr><tr><td>46s 900ms</td><td>&quot;46.9000 secs&quot;</td></tr><tr><td>10m 16s 990ms</td><td>&quot;616.9900 secs&quot;</td></tr></tbody></table></div>"
      ],
      "text/plain": [
       "shape: (5, 2)\n",
       "┌───────────────┬───────────────┐\n",
       "│ duration      ┆ duration_str  │\n",
       "│ ---           ┆ ---           │\n",
       "│ duration[μs]  ┆ str           │\n",
       "╞═══════════════╪═══════════════╡\n",
       "│ 5m 900ms      ┆ 300.9000 secs │\n",
       "│ 6m 25s 860ms  ┆ 385.8600 secs │\n",
       "│ 2m 47s 50ms   ┆ 167.0500 secs │\n",
       "│ 46s 900ms     ┆ 46.9000 secs  │\n",
       "│ 10m 16s 990ms ┆ 616.9900 secs │\n",
       "└───────────────┴───────────────┘"
      ]
     },
     "execution_count": 56,
     "metadata": {},
     "output_type": "execute_result"
    }
   ],
   "source": [
    "(\n",
    "df2\n",
    ".select(duration=pl.col('end') - pl.col('start'))\n",
    ".select(\n",
    "    'duration',\n",
    "    pl.format('{} secs', \n",
    "              pl.col('duration')\n",
    "              .dt.total_microseconds()\n",
    "              .cast(pl.Decimal) / 1e6)\n",
    "      .alias('duration_str')\n",
    ")\n",
    ")"
   ]
  },
  {
   "cell_type": "markdown",
   "id": "a47f1213-6783-490e-87f8-278db2ea9519",
   "metadata": {},
   "source": [
    "### Pythonの時間との変換"
   ]
  },
  {
   "cell_type": "markdown",
   "id": "3584827e-a12b-40ea-9078-7c854bf9652f",
   "metadata": {},
   "source": [
    "### Epochとの変換\n",
    "\n",
    "`Polars`では、`Datetime`型とエポック（1970年1月1日00:00:00 UTCからの経過時間）との相互変換を簡単に行うことができます。エポック時間は秒、ミリ秒、マイクロ秒といった単位で表されることが多く、データ処理や統計解析において広く使用されています。\n",
    "\n",
    "1. **`dt.epoch()`**  \n",
    "   `Datetime`型の列をエポック時間に変換します。単位（例: 秒`'s'`、ナノ秒`'ns'`）を指定可能です。\n",
    "\n",
    "2. **`pl.from_epoch()`**  \n",
    "   エポック時間の列を`Datetime`型に変換します。単位を指定して、対応する時間を生成します。\n",
    "\n",
    "以下のコードは、エポック時間との変換を実行します。"
   ]
  },
  {
   "cell_type": "code",
   "execution_count": 58,
   "id": "51a1c5ee-27ce-46ef-a99c-d5f293cd87a4",
   "metadata": {},
   "outputs": [
    {
     "data": {
      "text/html": [
       "<table><tr><td><div><style>\n",
       ".dataframe > thead > tr,\n",
       ".dataframe > tbody > tr {\n",
       "  text-align: right;\n",
       "  white-space: pre-wrap;\n",
       "}\n",
       "</style>\n",
       "<small>shape: (5, 1)</small><table border=\"1\" class=\"dataframe\"><thead><tr><th>start</th></tr><tr><td>datetime[μs]</td></tr></thead><tbody><tr><td>2024-12-10 10:32:14.200</td></tr><tr><td>2024-12-11 02:40:02.340</td></tr><tr><td>2024-12-11 15:40:30.550</td></tr><tr><td>2024-12-12 05:48:19</td></tr><tr><td>2024-12-12 13:42:35.990</td></tr></tbody></table></div></td><td><div><style>\n",
       ".dataframe > thead > tr,\n",
       ".dataframe > tbody > tr {\n",
       "  text-align: right;\n",
       "  white-space: pre-wrap;\n",
       "}\n",
       "</style>\n",
       "<small>shape: (5, 2)</small><table border=\"1\" class=\"dataframe\"><thead><tr><th>epoch_s</th><th>epoch_ns</th></tr><tr><td>i64</td><td>i64</td></tr></thead><tbody><tr><td>1733826734</td><td>1733826734200000000</td></tr><tr><td>1733884802</td><td>1733884802340000000</td></tr><tr><td>1733931630</td><td>1733931630550000000</td></tr><tr><td>1733982499</td><td>1733982499000000000</td></tr><tr><td>1734010955</td><td>1734010955990000000</td></tr></tbody></table></div></td><td><div><style>\n",
       ".dataframe > thead > tr,\n",
       ".dataframe > tbody > tr {\n",
       "  text-align: right;\n",
       "  white-space: pre-wrap;\n",
       "}\n",
       "</style>\n",
       "<small>shape: (5, 2)</small><table border=\"1\" class=\"dataframe\"><thead><tr><th>start_s</th><th>start_ns</th></tr><tr><td>datetime[μs]</td><td>datetime[ns]</td></tr></thead><tbody><tr><td>2024-12-10 10:32:14</td><td>2024-12-10 10:32:14.200</td></tr><tr><td>2024-12-11 02:40:02</td><td>2024-12-11 02:40:02.340</td></tr><tr><td>2024-12-11 15:40:30</td><td>2024-12-11 15:40:30.550</td></tr><tr><td>2024-12-12 05:48:19</td><td>2024-12-12 05:48:19</td></tr><tr><td>2024-12-12 13:42:35</td><td>2024-12-12 13:42:35.990</td></tr></tbody></table></div></td></tr></table>"
      ]
     },
     "metadata": {},
     "output_type": "display_data"
    }
   ],
   "source": [
    "df2 = df.select(\n",
    "    epoch_s=pl.col('start').dt.epoch('s'),\n",
    "    epoch_ns=pl.col('start').dt.epoch('ns'),\n",
    ")\n",
    "df3 = df2.select(\n",
    "    start_s = pl.from_epoch('epoch_s', 's'),\n",
    "    start_ns = pl.from_epoch('epoch_ns', 'ns')\n",
    ")\n",
    "row(df.select('start'), df2, df3)"
   ]
  }
 ],
 "metadata": {
  "kernelspec": {
   "display_name": "Python 3 (ipykernel)",
   "language": "python",
   "name": "python3"
  },
  "language_info": {
   "codemirror_mode": {
    "name": "ipython",
    "version": 3
   },
   "file_extension": ".py",
   "mimetype": "text/x-python",
   "name": "python",
   "nbconvert_exporter": "python",
   "pygments_lexer": "ipython3",
   "version": "3.12.2"
  }
 },
 "nbformat": 4,
 "nbformat_minor": 5
}

{
 "cells": [
  {
   "cell_type": "markdown",
   "id": "b24a169f-86c6-44c0-b9a0-15d926146de9",
   "metadata": {},
   "source": [
    "# 時間データ処理"
   ]
  },
  {
   "cell_type": "markdown",
   "id": "8ffde00d-cfc4-49c3-9680-b31eeed06bbc",
   "metadata": {},
   "source": [
    "この章では、時間データの処理に焦点を当て、時間ベースのグループ化や集計、時間ウィンドウの操作方法について説明します。"
   ]
  },
  {
   "cell_type": "code",
   "execution_count": 2,
   "id": "ff8604ab-fa1c-4778-876f-154f5d884bff",
   "metadata": {},
   "outputs": [],
   "source": [
    "import polars as pl\n",
    "from helper.jupyter import row"
   ]
  },
  {
   "cell_type": "markdown",
   "id": "6b6ce893-cd49-4bc1-90c8-1f8f99fb0a5f",
   "metadata": {},
   "source": [
    "時間データを効率的に扱うために、Polarsでは日付や時刻、時間間隔に関連する4つのデータ型を提供しています。それぞれのデータ型には異なる特徴と用途があり、時間ベースのデータ処理において重要な役割を果たします。このセクションでは、以下の4つの時間データ型について説明します。\n",
    "\n",
    "| データ型   | 概要                                | 最小単位    | ゼロ点                                       | 用途                                       | 例                           |\n",
    "|------------|-------------------------------------|-------------|---------------------------------------------|--------------------------------------------|------------------------------|\n",
    "| **`Date`** | 日付を表すデータ型、時刻情報なし   | 日          | Unix epoch (1970-01-01)                    | 日付のみが重要なデータの管理や処理          | `2024-07-15`                 |\n",
    "| **`Time`** | 1日の中の時刻を表すデータ型        | ナノ秒(ns)| 00:00:00（1日の開始時刻）                  | 1日の中の時刻や時間間隔を扱う               | `12:30:45.123456789`         |\n",
    "| **`Datetime`** | 日付と時刻を組み合わせたデータ型 | ミリ秒(ms)・マイクロ秒(us)・ナノ秒(ns) | Unix epoch (1970-01-01 00:00:00)          | 時系列データやタイムスタンプの処理          | `2024-07-15 12:30:45.123456` |\n",
    "| **`Duration`** | 時間の長さや間隔を表すデータ型    | ミリ秒(ms)・マイクロ秒(us)・ナノ秒(ns) | -                                           | 2つの時点間の差分や時間間隔の計算          | `2 days`, `3 hours`, `45 minutes` |"
   ]
  },
  {
   "cell_type": "markdown",
   "id": "d6f2d624-f3d9-420b-9f9c-7e45d97fbda2",
   "metadata": {},
   "source": [
    "次の演算式関数で、複数の整数列から時間列に変換することができます。\n",
    "\n",
    "\n",
    "- **`pl.date()`**  \n",
    "  `pl.date()`は、年、月、日を指定して`Date`型を作成します。これにより、`year`、`month`、`day`の列を使用して日付データを作成します。\n",
    "\n",
    "- **`pl.time()`**  \n",
    "  `pl.time()`は、時、分、秒を指定して`Time`型を作成します。ここでの演算式は、秒数をマイクロ秒に変換し、`microsecond`引数に適切に丸めて渡しています。これにより、`hour`、`minute`、`second`を使って`Time`型のデータを生成します。\n",
    "\n",
    "  - `microsecond=pl.col('second').mod(1).mul(1e6).round()`: `second`列の小数部を取得し、それをマイクロ秒単位に変換しています。\n",
    "\n",
    "- **`pl.datetime()`**  \n",
    "  `pl.datetime()`は、年、月、日、時、分、秒を指定して`Datetime`型を作成します。こちらも、秒の小数部をマイクロ秒に変換し、適切に丸めて`microsecond`に渡しています。\n",
    "\n",
    "- **`pl.duration()`**  \n",
    "  `pl.duration()`は、時間の長さを`Duration`型として表現します。この場合、`total_seconds`列を使って、秒単位からマイクロ秒に変換した時間間隔を作成しています。\n",
    "\n",
    "  - `microseconds=pl.col('total_seconds').mul(1e6)`: `total_seconds`列をマイクロ秒単位に変換しています。"
   ]
  },
  {
   "cell_type": "code",
   "execution_count": 3,
   "id": "a2fc03bb-2a03-49cd-94c3-c0010aa15656",
   "metadata": {},
   "outputs": [],
   "source": [
    "df_numbers = pl.DataFrame(\n",
    "    dict(\n",
    "        year=[2022, 2023, 2024],\n",
    "        month=[11, 10, 12],\n",
    "        day=[4, 31, 2],\n",
    "        hour=[1, 6, 16],\n",
    "        minute=[10, 50, 34],\n",
    "        second=[12.2, 20.5, 21],\n",
    "    )\n",
    ")\n",
    "\n",
    "df_numbers = df_numbers.with_columns(\n",
    "    total_seconds=pl.col('hour') * 3600 + pl.col('minute') * 60 + pl.col('second')\n",
    ")"
   ]
  },
  {
   "cell_type": "markdown",
   "id": "8b8f04ed-4a56-477b-9dc9-7ed65e31b890",
   "metadata": {},
   "source": [
    "次のコードでは、`pl.date()`, `pl.time()`, `pl.datetime()`, `pl.duration()`を使用して、整数列から時間列への変換を行い、それぞれの時間データ型に対応したデータを生成しています。\n",
    "\n",
    "`Date`、`Time`、`Datetime`の場合、各フィールドには値の範囲があり、上限を超えないように注意する必要があります。また、各フィールドが整数でない場合は、整数部分のみを使用します。\n",
    "\n",
    "❶浮動小数点の秒列からマイクロ秒に換算します。❷`Duration`の場合は、上限がないため、`microseconds`を使用してマイクロ秒単位の時間差を作成します。"
   ]
  },
  {
   "cell_type": "code",
   "execution_count": 4,
   "id": "381723f3-cc41-4b81-834b-fa92b1172b37",
   "metadata": {},
   "outputs": [
    {
     "data": {
      "text/html": [
       "<table><tr><td><div><style>\n",
       ".dataframe > thead > tr,\n",
       ".dataframe > tbody > tr {\n",
       "  text-align: right;\n",
       "  white-space: pre-wrap;\n",
       "}\n",
       "</style>\n",
       "<small>shape: (3, 7)</small><table border=\"1\" class=\"dataframe\"><thead><tr><th>year</th><th>month</th><th>day</th><th>hour</th><th>minute</th><th>second</th><th>total_seconds</th></tr><tr><td>i64</td><td>i64</td><td>i64</td><td>i64</td><td>i64</td><td>f64</td><td>f64</td></tr></thead><tbody><tr><td>2022</td><td>11</td><td>4</td><td>1</td><td>10</td><td>12.2</td><td>4212.2</td></tr><tr><td>2023</td><td>10</td><td>31</td><td>6</td><td>50</td><td>20.5</td><td>24620.5</td></tr><tr><td>2024</td><td>12</td><td>2</td><td>16</td><td>34</td><td>21.0</td><td>59661.0</td></tr></tbody></table></div></td><td><div><style>\n",
       ".dataframe > thead > tr,\n",
       ".dataframe > tbody > tr {\n",
       "  text-align: right;\n",
       "  white-space: pre-wrap;\n",
       "}\n",
       "</style>\n",
       "<small>shape: (3, 4)</small><table border=\"1\" class=\"dataframe\"><thead><tr><th>date</th><th>time</th><th>datetime</th><th>duration</th></tr><tr><td>date</td><td>time</td><td>datetime[μs]</td><td>duration[μs]</td></tr></thead><tbody><tr><td>2022-11-04</td><td>01:10:12.200</td><td>2022-11-04 01:10:12.200</td><td>1h 10m 12s 200ms</td></tr><tr><td>2023-10-31</td><td>06:50:20.500</td><td>2023-10-31 06:50:20.500</td><td>6h 50m 20s 500ms</td></tr><tr><td>2024-12-02</td><td>16:34:21</td><td>2024-12-02 16:34:21</td><td>16h 34m 21s</td></tr></tbody></table></div></td></tr></table>"
      ]
     },
     "metadata": {},
     "output_type": "display_data"
    }
   ],
   "source": [
    "df_times = df_numbers.select(\n",
    "    date=pl.date('year', 'month', 'day'),\n",
    "    time=pl.time('hour', 'minute', 'second', microsecond=pl.col('second').mod(1).mul(1e6).round()), #❶\n",
    "    datetime=pl.datetime('year', 'month', 'day', 'hour', 'minute', 'second', \n",
    "                         microsecond=pl.col('second').mod(1).mul(1e6).round()),\n",
    "    duration=pl.duration(microseconds=pl.col('total_seconds').mul(1e6)), #❷\n",
    ")\n",
    "\n",
    "row(df_numbers, df_times)"
   ]
  },
  {
   "cell_type": "markdown",
   "id": "534169e5-c7a2-4785-b79e-a5f92938dc2e",
   "metadata": {},
   "source": [
    "次のコードでは、異なる時間型を変換および操作する例です。以下に各部分の説明を示します。\n",
    "\n",
    "❶ `dt.combine()`で`date`列と`time`列を結合して、`Datetime`型の列を作成します。<br>\n",
    "❷ `dt.date()`で`datetime`列から日付部分だけを抽出し、`Date`型の列を作成します。<br>\n",
    "❸ `dt.time()`で`datetime`列から時刻部分だけを抽出し、`Time`型の列を作成します。<br>\n",
    "❹ `cast(pl.Duration)`で`time`列を`Duration`型にキャストします。<br>\n",
    "❺ `Duration`型を直接`Time`型に変換する関数がないため、一旦列`dt.cast_time_unit('ns')`を使用してをナノ秒単位の`Duration`型に変換し、`to_physical()`で`Int64`型に変換後、`cast(pl.Time)`で`Time`型に変換します。"
   ]
  },
  {
   "cell_type": "code",
   "execution_count": 5,
   "id": "469f0429-60c5-4bea-bff3-eac61799d386",
   "metadata": {},
   "outputs": [
    {
     "data": {
      "text/html": [
       "<div><style>\n",
       ".dataframe > thead > tr,\n",
       ".dataframe > tbody > tr {\n",
       "  text-align: right;\n",
       "  white-space: pre-wrap;\n",
       "}\n",
       "</style>\n",
       "<small>shape: (3, 5)</small><table border=\"1\" class=\"dataframe\"><thead><tr><th>datetime</th><th>date</th><th>time</th><th>duration</th><th>time2</th></tr><tr><td>datetime[μs]</td><td>date</td><td>time</td><td>duration[μs]</td><td>time</td></tr></thead><tbody><tr><td>2022-11-04 01:10:12.200</td><td>2022-11-04</td><td>01:10:12.200</td><td>1h 10m 12s 200ms</td><td>01:10:12.200</td></tr><tr><td>2023-10-31 06:50:20.500</td><td>2023-10-31</td><td>06:50:20.500</td><td>6h 50m 20s 500ms</td><td>06:50:20.500</td></tr><tr><td>2024-12-02 16:34:21</td><td>2024-12-02</td><td>16:34:21</td><td>16h 34m 21s</td><td>16:34:21</td></tr></tbody></table></div>"
      ],
      "text/plain": [
       "shape: (3, 5)\n",
       "┌─────────────────────────┬────────────┬──────────────┬──────────────────┬──────────────┐\n",
       "│ datetime                ┆ date       ┆ time         ┆ duration         ┆ time2        │\n",
       "│ ---                     ┆ ---        ┆ ---          ┆ ---              ┆ ---          │\n",
       "│ datetime[μs]            ┆ date       ┆ time         ┆ duration[μs]     ┆ time         │\n",
       "╞═════════════════════════╪════════════╪══════════════╪══════════════════╪══════════════╡\n",
       "│ 2022-11-04 01:10:12.200 ┆ 2022-11-04 ┆ 01:10:12.200 ┆ 1h 10m 12s 200ms ┆ 01:10:12.200 │\n",
       "│ 2023-10-31 06:50:20.500 ┆ 2023-10-31 ┆ 06:50:20.500 ┆ 6h 50m 20s 500ms ┆ 06:50:20.500 │\n",
       "│ 2024-12-02 16:34:21     ┆ 2024-12-02 ┆ 16:34:21     ┆ 16h 34m 21s      ┆ 16:34:21     │\n",
       "└─────────────────────────┴────────────┴──────────────┴──────────────────┴──────────────┘"
      ]
     },
     "execution_count": 5,
     "metadata": {},
     "output_type": "execute_result"
    }
   ],
   "source": [
    "df_times.select(\n",
    "    datetime=pl.col('date').dt.combine(pl.col('time')), #❶\n",
    "    date=pl.col('datetime').dt.date(), #❷\n",
    "    time=pl.col('datetime').dt.time(), #❸\n",
    "    duration=pl.col('time').cast(pl.Duration), #❹\n",
    "    time2=pl.col('duration').dt.cast_time_unit('ns').to_physical().cast(pl.Time), #❺\n",
    ")"
   ]
  },
  {
   "cell_type": "code",
   "execution_count": 106,
   "id": "b5c729df-7355-4450-b353-c641d50ea95a",
   "metadata": {},
   "outputs": [
    {
     "data": {
      "text/html": [
       "<div><style>\n",
       ".dataframe > thead > tr,\n",
       ".dataframe > tbody > tr {\n",
       "  text-align: right;\n",
       "  white-space: pre-wrap;\n",
       "}\n",
       "</style>\n",
       "<small>shape: (3, 7)</small><table border=\"1\" class=\"dataframe\"><thead><tr><th>year</th><th>month</th><th>day</th><th>hour</th><th>minute</th><th>second</th><th>microsecond</th></tr><tr><td>i32</td><td>i8</td><td>i8</td><td>i8</td><td>i8</td><td>i8</td><td>i32</td></tr></thead><tbody><tr><td>2022</td><td>11</td><td>4</td><td>1</td><td>10</td><td>12</td><td>200000</td></tr><tr><td>2023</td><td>10</td><td>31</td><td>6</td><td>50</td><td>20</td><td>500000</td></tr><tr><td>2024</td><td>12</td><td>2</td><td>16</td><td>34</td><td>21</td><td>0</td></tr></tbody></table></div>"
      ],
      "text/plain": [
       "shape: (3, 7)\n",
       "┌──────┬───────┬─────┬──────┬────────┬────────┬─────────────┐\n",
       "│ year ┆ month ┆ day ┆ hour ┆ minute ┆ second ┆ microsecond │\n",
       "│ ---  ┆ ---   ┆ --- ┆ ---  ┆ ---    ┆ ---    ┆ ---         │\n",
       "│ i32  ┆ i8    ┆ i8  ┆ i8   ┆ i8     ┆ i8     ┆ i32         │\n",
       "╞══════╪═══════╪═════╪══════╪════════╪════════╪═════════════╡\n",
       "│ 2022 ┆ 11    ┆ 4   ┆ 1    ┆ 10     ┆ 12     ┆ 200000      │\n",
       "│ 2023 ┆ 10    ┆ 31  ┆ 6    ┆ 50     ┆ 20     ┆ 500000      │\n",
       "│ 2024 ┆ 12    ┆ 2   ┆ 16   ┆ 34     ┆ 21     ┆ 0           │\n",
       "└──────┴───────┴─────┴──────┴────────┴────────┴─────────────┘"
      ]
     },
     "execution_count": 106,
     "metadata": {},
     "output_type": "execute_result"
    }
   ],
   "source": [
    "df_times.select(\n",
    "    year=pl.col('datetime').dt.year(),\n",
    "    month=pl.col('datetime').dt.month(),\n",
    "    day=pl.col('datetime').dt.day(),\n",
    "    hour=pl.col('datetime').dt.hour(),\n",
    "    minute=pl.col('datetime').dt.minute(),\n",
    "    second=pl.col('datetime').dt.second(),\n",
    "    microsecond=pl.col('datetime').dt.microsecond()\n",
    ")"
   ]
  },
  {
   "cell_type": "code",
   "execution_count": 107,
   "id": "75b03649-f7a7-4d4f-b5bd-09b2edd6b847",
   "metadata": {},
   "outputs": [
    {
     "data": {
      "text/html": [
       "<div><style>\n",
       ".dataframe > thead > tr,\n",
       ".dataframe > tbody > tr {\n",
       "  text-align: right;\n",
       "  white-space: pre-wrap;\n",
       "}\n",
       "</style>\n",
       "<small>shape: (3, 6)</small><table border=\"1\" class=\"dataframe\"><thead><tr><th>duration</th><th>days</th><th>hours</th><th>minutes</th><th>seconds</th><th>microseconds</th></tr><tr><td>duration[μs]</td><td>i64</td><td>i64</td><td>i64</td><td>i64</td><td>i64</td></tr></thead><tbody><tr><td>1h 10m 12s 200ms</td><td>0</td><td>1</td><td>70</td><td>4212</td><td>4212200000</td></tr><tr><td>6h 50m 20s 500ms</td><td>0</td><td>6</td><td>410</td><td>24620</td><td>24620500000</td></tr><tr><td>16h 34m 21s</td><td>0</td><td>16</td><td>994</td><td>59661</td><td>59661000000</td></tr></tbody></table></div>"
      ],
      "text/plain": [
       "shape: (3, 6)\n",
       "┌──────────────────┬──────┬───────┬─────────┬─────────┬──────────────┐\n",
       "│ duration         ┆ days ┆ hours ┆ minutes ┆ seconds ┆ microseconds │\n",
       "│ ---              ┆ ---  ┆ ---   ┆ ---     ┆ ---     ┆ ---          │\n",
       "│ duration[μs]     ┆ i64  ┆ i64   ┆ i64     ┆ i64     ┆ i64          │\n",
       "╞══════════════════╪══════╪═══════╪═════════╪═════════╪══════════════╡\n",
       "│ 1h 10m 12s 200ms ┆ 0    ┆ 1     ┆ 70      ┆ 4212    ┆ 4212200000   │\n",
       "│ 6h 50m 20s 500ms ┆ 0    ┆ 6     ┆ 410     ┆ 24620   ┆ 24620500000  │\n",
       "│ 16h 34m 21s      ┆ 0    ┆ 16    ┆ 994     ┆ 59661   ┆ 59661000000  │\n",
       "└──────────────────┴──────┴───────┴─────────┴─────────┴──────────────┘"
      ]
     },
     "execution_count": 107,
     "metadata": {},
     "output_type": "execute_result"
    }
   ],
   "source": [
    "df_times.select(\n",
    "    pl.col('duration'),\n",
    "    days=pl.col('duration').dt.total_days(),\n",
    "    hours=pl.col('duration').dt.total_hours(),\n",
    "    minutes=pl.col('duration').dt.total_minutes(),\n",
    "    seconds=pl.col('duration').dt.total_seconds(),\n",
    "    microseconds=pl.col('duration').dt.total_microseconds()\n",
    ")"
   ]
  },
  {
   "cell_type": "code",
   "execution_count": 108,
   "id": "482cbdde-dfc0-4524-a5ef-fdc7ccedf581",
   "metadata": {},
   "outputs": [
    {
     "data": {
      "text/html": [
       "<div><style>\n",
       ".dataframe > thead > tr,\n",
       ".dataframe > tbody > tr {\n",
       "  text-align: right;\n",
       "  white-space: pre-wrap;\n",
       "}\n",
       "</style>\n",
       "<small>shape: (3, 2)</small><table border=\"1\" class=\"dataframe\"><thead><tr><th>month_start</th><th>month_end</th></tr><tr><td>datetime[μs]</td><td>datetime[μs]</td></tr></thead><tbody><tr><td>2022-11-01 01:10:12.200</td><td>2022-11-30 01:10:12.200</td></tr><tr><td>2023-10-01 06:50:20.500</td><td>2023-10-31 06:50:20.500</td></tr><tr><td>2024-12-01 16:34:21</td><td>2024-12-31 16:34:21</td></tr></tbody></table></div>"
      ],
      "text/plain": [
       "shape: (3, 2)\n",
       "┌─────────────────────────┬─────────────────────────┐\n",
       "│ month_start             ┆ month_end               │\n",
       "│ ---                     ┆ ---                     │\n",
       "│ datetime[μs]            ┆ datetime[μs]            │\n",
       "╞═════════════════════════╪═════════════════════════╡\n",
       "│ 2022-11-01 01:10:12.200 ┆ 2022-11-30 01:10:12.200 │\n",
       "│ 2023-10-01 06:50:20.500 ┆ 2023-10-31 06:50:20.500 │\n",
       "│ 2024-12-01 16:34:21     ┆ 2024-12-31 16:34:21     │\n",
       "└─────────────────────────┴─────────────────────────┘"
      ]
     },
     "execution_count": 108,
     "metadata": {},
     "output_type": "execute_result"
    }
   ],
   "source": [
    "df_times.select(\n",
    "    month_start=pl.col('datetime').dt.month_start(),\n",
    "    month_end=pl.col('datetime').dt.month_end(),\n",
    ")"
   ]
  },
  {
   "cell_type": "code",
   "execution_count": 109,
   "id": "39ce04f1-b4c7-420f-8a0e-4b1674b12d88",
   "metadata": {},
   "outputs": [
    {
     "data": {
      "text/html": [
       "<div><style>\n",
       ".dataframe > thead > tr,\n",
       ".dataframe > tbody > tr {\n",
       "  text-align: right;\n",
       "  white-space: pre-wrap;\n",
       "}\n",
       "</style>\n",
       "<small>shape: (3, 2)</small><table border=\"1\" class=\"dataframe\"><thead><tr><th>week</th><th>weekday</th></tr><tr><td>i8</td><td>i8</td></tr></thead><tbody><tr><td>44</td><td>5</td></tr><tr><td>44</td><td>2</td></tr><tr><td>49</td><td>1</td></tr></tbody></table></div>"
      ],
      "text/plain": [
       "shape: (3, 2)\n",
       "┌──────┬─────────┐\n",
       "│ week ┆ weekday │\n",
       "│ ---  ┆ ---     │\n",
       "│ i8   ┆ i8      │\n",
       "╞══════╪═════════╡\n",
       "│ 44   ┆ 5       │\n",
       "│ 44   ┆ 2       │\n",
       "│ 49   ┆ 1       │\n",
       "└──────┴─────────┘"
      ]
     },
     "execution_count": 109,
     "metadata": {},
     "output_type": "execute_result"
    }
   ],
   "source": [
    "df_times.select(\n",
    "    week=pl.col('datetime').dt.week(),\n",
    "    weekday=pl.col('datetime').dt.weekday(),\n",
    ")"
   ]
  },
  {
   "cell_type": "code",
   "execution_count": 110,
   "id": "613030a6-affe-4a5f-97c5-79b13d649aff",
   "metadata": {},
   "outputs": [
    {
     "data": {
      "text/html": [
       "<div><style>\n",
       ".dataframe > thead > tr,\n",
       ".dataframe > tbody > tr {\n",
       "  text-align: right;\n",
       "  white-space: pre-wrap;\n",
       "}\n",
       "</style>\n",
       "<small>shape: (3, 6)</small><table border=\"1\" class=\"dataframe\"><thead><tr><th>datetime</th><th>t_1s</th><th>t_30s</th><th>t_1h</th><th>t_1d</th><th>t_1mo</th></tr><tr><td>datetime[μs]</td><td>datetime[μs]</td><td>datetime[μs]</td><td>datetime[μs]</td><td>datetime[μs]</td><td>datetime[μs]</td></tr></thead><tbody><tr><td>2022-11-04 01:10:12.200</td><td>2022-11-04 01:10:12</td><td>2022-11-04 01:10:00</td><td>2022-11-04 01:00:00</td><td>2022-11-04 00:00:00</td><td>2022-11-01 00:00:00</td></tr><tr><td>2023-10-31 06:50:20.500</td><td>2023-10-31 06:50:20</td><td>2023-10-31 06:50:00</td><td>2023-10-31 06:00:00</td><td>2023-10-31 00:00:00</td><td>2023-10-01 00:00:00</td></tr><tr><td>2024-12-02 16:34:21</td><td>2024-12-02 16:34:21</td><td>2024-12-02 16:34:00</td><td>2024-12-02 16:00:00</td><td>2024-12-02 00:00:00</td><td>2024-12-01 00:00:00</td></tr></tbody></table></div>"
      ],
      "text/plain": [
       "shape: (3, 6)\n",
       "┌─────────────────────────┬─────────────────────┬─────────────────────┬─────────────────────┬─────────────────────┬─────────────────────┐\n",
       "│ datetime                ┆ t_1s                ┆ t_30s               ┆ t_1h                ┆ t_1d                ┆ t_1mo               │\n",
       "│ ---                     ┆ ---                 ┆ ---                 ┆ ---                 ┆ ---                 ┆ ---                 │\n",
       "│ datetime[μs]            ┆ datetime[μs]        ┆ datetime[μs]        ┆ datetime[μs]        ┆ datetime[μs]        ┆ datetime[μs]        │\n",
       "╞═════════════════════════╪═════════════════════╪═════════════════════╪═════════════════════╪═════════════════════╪═════════════════════╡\n",
       "│ 2022-11-04 01:10:12.200 ┆ 2022-11-04 01:10:12 ┆ 2022-11-04 01:10:00 ┆ 2022-11-04 01:00:00 ┆ 2022-11-04 00:00:00 ┆ 2022-11-01 00:00:00 │\n",
       "│ 2023-10-31 06:50:20.500 ┆ 2023-10-31 06:50:20 ┆ 2023-10-31 06:50:00 ┆ 2023-10-31 06:00:00 ┆ 2023-10-31 00:00:00 ┆ 2023-10-01 00:00:00 │\n",
       "│ 2024-12-02 16:34:21     ┆ 2024-12-02 16:34:21 ┆ 2024-12-02 16:34:00 ┆ 2024-12-02 16:00:00 ┆ 2024-12-02 00:00:00 ┆ 2024-12-01 00:00:00 │\n",
       "└─────────────────────────┴─────────────────────┴─────────────────────┴─────────────────────┴─────────────────────┴─────────────────────┘"
      ]
     },
     "execution_count": 110,
     "metadata": {},
     "output_type": "execute_result"
    }
   ],
   "source": [
    "df_times.select(\n",
    "    'datetime',\n",
    "    t_1s=pl.col('datetime').dt.truncate('1s'),\n",
    "    t_30s=pl.col('datetime').dt.truncate('30s'),\n",
    "    t_1h=pl.col('datetime').dt.truncate('1h'),\n",
    "    t_1d=pl.col('datetime').dt.truncate('1d'),\n",
    "    t_1mo=pl.col('datetime').dt.truncate('1mo'),\n",
    ")"
   ]
  },
  {
   "cell_type": "code",
   "execution_count": 111,
   "id": "68c687a1-0fa3-45e6-ad8c-ba261b6f910f",
   "metadata": {},
   "outputs": [
    {
     "data": {
      "text/html": [
       "<div><style>\n",
       ".dataframe > thead > tr,\n",
       ".dataframe > tbody > tr {\n",
       "  text-align: right;\n",
       "  white-space: pre-wrap;\n",
       "}\n",
       "</style>\n",
       "<small>shape: (3, 6)</small><table border=\"1\" class=\"dataframe\"><thead><tr><th>datetime</th><th>r_1s</th><th>r_30s</th><th>r_1h</th><th>r_1d</th><th>r_1mo</th></tr><tr><td>datetime[μs]</td><td>datetime[μs]</td><td>datetime[μs]</td><td>datetime[μs]</td><td>datetime[μs]</td><td>datetime[μs]</td></tr></thead><tbody><tr><td>2022-11-04 01:10:12.200</td><td>2022-11-04 01:10:12</td><td>2022-11-04 01:10:00</td><td>2022-11-04 01:00:00</td><td>2022-11-04 00:00:00</td><td>2022-11-01 00:00:00</td></tr><tr><td>2023-10-31 06:50:20.500</td><td>2023-10-31 06:50:21</td><td>2023-10-31 06:50:30</td><td>2023-10-31 07:00:00</td><td>2023-10-31 00:00:00</td><td>2023-11-01 00:00:00</td></tr><tr><td>2024-12-02 16:34:21</td><td>2024-12-02 16:34:21</td><td>2024-12-02 16:34:30</td><td>2024-12-02 17:00:00</td><td>2024-12-03 00:00:00</td><td>2024-12-01 00:00:00</td></tr></tbody></table></div>"
      ],
      "text/plain": [
       "shape: (3, 6)\n",
       "┌─────────────────────────┬─────────────────────┬─────────────────────┬─────────────────────┬─────────────────────┬─────────────────────┐\n",
       "│ datetime                ┆ r_1s                ┆ r_30s               ┆ r_1h                ┆ r_1d                ┆ r_1mo               │\n",
       "│ ---                     ┆ ---                 ┆ ---                 ┆ ---                 ┆ ---                 ┆ ---                 │\n",
       "│ datetime[μs]            ┆ datetime[μs]        ┆ datetime[μs]        ┆ datetime[μs]        ┆ datetime[μs]        ┆ datetime[μs]        │\n",
       "╞═════════════════════════╪═════════════════════╪═════════════════════╪═════════════════════╪═════════════════════╪═════════════════════╡\n",
       "│ 2022-11-04 01:10:12.200 ┆ 2022-11-04 01:10:12 ┆ 2022-11-04 01:10:00 ┆ 2022-11-04 01:00:00 ┆ 2022-11-04 00:00:00 ┆ 2022-11-01 00:00:00 │\n",
       "│ 2023-10-31 06:50:20.500 ┆ 2023-10-31 06:50:21 ┆ 2023-10-31 06:50:30 ┆ 2023-10-31 07:00:00 ┆ 2023-10-31 00:00:00 ┆ 2023-11-01 00:00:00 │\n",
       "│ 2024-12-02 16:34:21     ┆ 2024-12-02 16:34:21 ┆ 2024-12-02 16:34:30 ┆ 2024-12-02 17:00:00 ┆ 2024-12-03 00:00:00 ┆ 2024-12-01 00:00:00 │\n",
       "└─────────────────────────┴─────────────────────┴─────────────────────┴─────────────────────┴─────────────────────┴─────────────────────┘"
      ]
     },
     "execution_count": 111,
     "metadata": {},
     "output_type": "execute_result"
    }
   ],
   "source": [
    "df_times.select(\n",
    "    'datetime',\n",
    "    r_1s=pl.col('datetime').dt.round('1s'),\n",
    "    r_30s=pl.col('datetime').dt.round('30s'),\n",
    "    r_1h=pl.col('datetime').dt.round('1h'),\n",
    "    r_1d=pl.col('datetime').dt.round('1d'),\n",
    "    r_1mo=pl.col('datetime').dt.round('1mo'),\n",
    ")"
   ]
  },
  {
   "cell_type": "code",
   "execution_count": 112,
   "id": "fe240b18-1dde-4c7c-b095-dd9c0cccec6b",
   "metadata": {},
   "outputs": [
    {
     "data": {
      "text/html": [
       "<div><style>\n",
       ".dataframe > thead > tr,\n",
       ".dataframe > tbody > tr {\n",
       "  text-align: right;\n",
       "  white-space: pre-wrap;\n",
       "}\n",
       "</style>\n",
       "<small>shape: (3, 6)</small><table border=\"1\" class=\"dataframe\"><thead><tr><th>datetime</th><th>o_1s</th><th>o_30s</th><th>o_1h</th><th>o_1d</th><th>o_1mo</th></tr><tr><td>datetime[μs]</td><td>datetime[μs]</td><td>datetime[μs]</td><td>datetime[μs]</td><td>datetime[μs]</td><td>datetime[μs]</td></tr></thead><tbody><tr><td>2022-11-04 01:10:12.200</td><td>2022-11-04 01:10:13.200</td><td>2022-11-04 01:10:42.200</td><td>2022-11-04 02:10:12.200</td><td>2022-11-05 01:10:12.200</td><td>2022-12-04 01:10:12.200</td></tr><tr><td>2023-10-31 06:50:20.500</td><td>2023-10-31 06:50:21.500</td><td>2023-10-31 06:50:50.500</td><td>2023-10-31 07:50:20.500</td><td>2023-11-01 06:50:20.500</td><td>2023-11-30 06:50:20.500</td></tr><tr><td>2024-12-02 16:34:21</td><td>2024-12-02 16:34:22</td><td>2024-12-02 16:34:51</td><td>2024-12-02 17:34:21</td><td>2024-12-03 16:34:21</td><td>2025-01-02 16:34:21</td></tr></tbody></table></div>"
      ],
      "text/plain": [
       "shape: (3, 6)\n",
       "┌─────────────────────────┬─────────────────────────┬─────────────────────────┬─────────────────────────┬─────────────────────────┬─────────────────────────┐\n",
       "│ datetime                ┆ o_1s                    ┆ o_30s                   ┆ o_1h                    ┆ o_1d                    ┆ o_1mo                   │\n",
       "│ ---                     ┆ ---                     ┆ ---                     ┆ ---                     ┆ ---                     ┆ ---                     │\n",
       "│ datetime[μs]            ┆ datetime[μs]            ┆ datetime[μs]            ┆ datetime[μs]            ┆ datetime[μs]            ┆ datetime[μs]            │\n",
       "╞═════════════════════════╪═════════════════════════╪═════════════════════════╪═════════════════════════╪═════════════════════════╪═════════════════════════╡\n",
       "│ 2022-11-04 01:10:12.200 ┆ 2022-11-04 01:10:13.200 ┆ 2022-11-04 01:10:42.200 ┆ 2022-11-04 02:10:12.200 ┆ 2022-11-05 01:10:12.200 ┆ 2022-12-04 01:10:12.200 │\n",
       "│ 2023-10-31 06:50:20.500 ┆ 2023-10-31 06:50:21.500 ┆ 2023-10-31 06:50:50.500 ┆ 2023-10-31 07:50:20.500 ┆ 2023-11-01 06:50:20.500 ┆ 2023-11-30 06:50:20.500 │\n",
       "│ 2024-12-02 16:34:21     ┆ 2024-12-02 16:34:22     ┆ 2024-12-02 16:34:51     ┆ 2024-12-02 17:34:21     ┆ 2024-12-03 16:34:21     ┆ 2025-01-02 16:34:21     │\n",
       "└─────────────────────────┴─────────────────────────┴─────────────────────────┴─────────────────────────┴─────────────────────────┴─────────────────────────┘"
      ]
     },
     "execution_count": 112,
     "metadata": {},
     "output_type": "execute_result"
    }
   ],
   "source": [
    "df_times.select(\n",
    "    'datetime',\n",
    "    o_1s=pl.col('datetime').dt.offset_by('1s'),\n",
    "    o_30s=pl.col('datetime').dt.offset_by('30s'),\n",
    "    o_1h=pl.col('datetime').dt.offset_by('1h'),\n",
    "    o_1d=pl.col('datetime').dt.offset_by('1d'),\n",
    "    o_1mo=pl.col('datetime').dt.offset_by('1mo'),\n",
    ")"
   ]
  },
  {
   "cell_type": "code",
   "execution_count": 113,
   "id": "a74eeb1e-1a35-49ee-8452-fea1d19a35bd",
   "metadata": {},
   "outputs": [
    {
     "data": {
      "text/html": [
       "<div><style>\n",
       ".dataframe > thead > tr,\n",
       ".dataframe > tbody > tr {\n",
       "  text-align: right;\n",
       "  white-space: pre-wrap;\n",
       "}\n",
       "</style>\n",
       "<small>shape: (5, 3)</small><table border=\"1\" class=\"dataframe\"><thead><tr><th>start</th><th>end</th><th>category</th></tr><tr><td>datetime[μs]</td><td>datetime[μs]</td><td>str</td></tr></thead><tbody><tr><td>2024-12-10 10:32:14</td><td>2024-12-10 10:36:32</td><td>&quot;C&quot;</td></tr><tr><td>2024-12-11 05:21:16</td><td>2024-12-11 05:35:20</td><td>&quot;D&quot;</td></tr><tr><td>2024-12-11 14:46:42</td><td>2024-12-11 14:48:06</td><td>&quot;A&quot;</td></tr><tr><td>2024-12-11 16:50:09</td><td>2024-12-11 17:00:33</td><td>&quot;D&quot;</td></tr><tr><td>2024-12-12 06:24:53</td><td>2024-12-12 06:34:56</td><td>&quot;B&quot;</td></tr></tbody></table></div>"
      ],
      "text/plain": [
       "shape: (5, 3)\n",
       "┌─────────────────────┬─────────────────────┬──────────┐\n",
       "│ start               ┆ end                 ┆ category │\n",
       "│ ---                 ┆ ---                 ┆ ---      │\n",
       "│ datetime[μs]        ┆ datetime[μs]        ┆ str      │\n",
       "╞═════════════════════╪═════════════════════╪══════════╡\n",
       "│ 2024-12-10 10:32:14 ┆ 2024-12-10 10:36:32 ┆ C        │\n",
       "│ 2024-12-11 05:21:16 ┆ 2024-12-11 05:35:20 ┆ D        │\n",
       "│ 2024-12-11 14:46:42 ┆ 2024-12-11 14:48:06 ┆ A        │\n",
       "│ 2024-12-11 16:50:09 ┆ 2024-12-11 17:00:33 ┆ D        │\n",
       "│ 2024-12-12 06:24:53 ┆ 2024-12-12 06:34:56 ┆ B        │\n",
       "└─────────────────────┴─────────────────────┴──────────┘"
      ]
     },
     "execution_count": 113,
     "metadata": {},
     "output_type": "execute_result"
    }
   ],
   "source": [
    "from helper.polars import create_datetime_sample_data\n",
    "df = create_datetime_sample_data(n=5)\n",
    "df"
   ]
  },
  {
   "cell_type": "code",
   "execution_count": 88,
   "id": "1e598371-03e6-46fa-b129-8a23ad6dca40",
   "metadata": {},
   "outputs": [
    {
     "data": {
      "text/html": [
       "<div><style>\n",
       ".dataframe > thead > tr,\n",
       ".dataframe > tbody > tr {\n",
       "  text-align: right;\n",
       "  white-space: pre-wrap;\n",
       "}\n",
       "</style>\n",
       "<small>shape: (5, 1)</small><table border=\"1\" class=\"dataframe\"><thead><tr><th>start</th></tr><tr><td>duration[μs]</td></tr></thead><tbody><tr><td>-11m -20s</td></tr><tr><td>-11m -3s</td></tr><tr><td>-7m -41s</td></tr><tr><td>-13m -18s</td></tr><tr><td>-7m -47s</td></tr></tbody></table></div>"
      ],
      "text/plain": [
       "shape: (5, 1)\n",
       "┌──────────────┐\n",
       "│ start        │\n",
       "│ ---          │\n",
       "│ duration[μs] │\n",
       "╞══════════════╡\n",
       "│ -11m -20s    │\n",
       "│ -11m -3s     │\n",
       "│ -7m -41s     │\n",
       "│ -13m -18s    │\n",
       "│ -7m -47s     │\n",
       "└──────────────┘"
      ]
     },
     "execution_count": 88,
     "metadata": {},
     "output_type": "execute_result"
    }
   ],
   "source": [
    "df.select(pl.col('start') - pl.col('end'))"
   ]
  },
  {
   "cell_type": "code",
   "execution_count": 7,
   "id": "d10e9352-c54d-43c3-ab51-0a35da761690",
   "metadata": {},
   "outputs": [
    {
     "data": {
      "text/html": [
       "<div><style>\n",
       ".dataframe > thead > tr,\n",
       ".dataframe > tbody > tr {\n",
       "  text-align: right;\n",
       "  white-space: pre-wrap;\n",
       "}\n",
       "</style>\n",
       "<small>shape: (5, 2)</small><table border=\"1\" class=\"dataframe\"><thead><tr><th>start_ms</th><th>start_ns</th></tr><tr><td>datetime[ms]</td><td>datetime[ns]</td></tr></thead><tbody><tr><td>2024-12-10 10:32:14</td><td>2024-12-10 10:32:14</td></tr><tr><td>2024-12-10 17:29:08</td><td>2024-12-10 17:29:08</td></tr><tr><td>2024-12-11 11:57:08</td><td>2024-12-11 11:57:08</td></tr><tr><td>2024-12-12 06:52:42</td><td>2024-12-12 06:52:42</td></tr><tr><td>2024-12-12 16:24:08</td><td>2024-12-12 16:24:08</td></tr></tbody></table></div>"
      ],
      "text/plain": [
       "shape: (5, 2)\n",
       "┌─────────────────────┬─────────────────────┐\n",
       "│ start_ms            ┆ start_ns            │\n",
       "│ ---                 ┆ ---                 │\n",
       "│ datetime[ms]        ┆ datetime[ns]        │\n",
       "╞═════════════════════╪═════════════════════╡\n",
       "│ 2024-12-10 10:32:14 ┆ 2024-12-10 10:32:14 │\n",
       "│ 2024-12-10 17:29:08 ┆ 2024-12-10 17:29:08 │\n",
       "│ 2024-12-11 11:57:08 ┆ 2024-12-11 11:57:08 │\n",
       "│ 2024-12-12 06:52:42 ┆ 2024-12-12 06:52:42 │\n",
       "│ 2024-12-12 16:24:08 ┆ 2024-12-12 16:24:08 │\n",
       "└─────────────────────┴─────────────────────┘"
      ]
     },
     "execution_count": 7,
     "metadata": {},
     "output_type": "execute_result"
    }
   ],
   "source": [
    "df.select(\n",
    "    start_ms=pl.col('start').dt.cast_time_unit('ms'),\n",
    "    start_ns=pl.col('start').dt.cast_time_unit('ns'),\n",
    ")"
   ]
  },
  {
   "cell_type": "code",
   "execution_count": 16,
   "id": "eb8915aa-a8aa-46b5-88ec-af5c30f293f7",
   "metadata": {},
   "outputs": [],
   "source": [
    "df_span = df.select(span=pl.col('end') - pl.col('start'))"
   ]
  },
  {
   "cell_type": "code",
   "execution_count": 29,
   "id": "edb75301-f2bc-4d5e-8586-266237320ca1",
   "metadata": {},
   "outputs": [
    {
     "data": {
      "text/html": [
       "<div><style>\n",
       ".dataframe > thead > tr,\n",
       ".dataframe > tbody > tr {\n",
       "  text-align: right;\n",
       "  white-space: pre-wrap;\n",
       "}\n",
       "</style>\n",
       "<small>shape: (5, 3)</small><table border=\"1\" class=\"dataframe\"><thead><tr><th>minutes</th><th>seconds</th><th>milliseconds</th></tr><tr><td>i64</td><td>i64</td><td>i64</td></tr></thead><tbody><tr><td>2</td><td>128</td><td>128000</td></tr><tr><td>14</td><td>870</td><td>870000</td></tr><tr><td>12</td><td>769</td><td>769000</td></tr><tr><td>1</td><td>118</td><td>118000</td></tr><tr><td>7</td><td>478</td><td>478000</td></tr></tbody></table></div>"
      ],
      "text/plain": [
       "shape: (5, 3)\n",
       "┌─────────┬─────────┬──────────────┐\n",
       "│ minutes ┆ seconds ┆ milliseconds │\n",
       "│ ---     ┆ ---     ┆ ---          │\n",
       "│ i64     ┆ i64     ┆ i64          │\n",
       "╞═════════╪═════════╪══════════════╡\n",
       "│ 2       ┆ 128     ┆ 128000       │\n",
       "│ 14      ┆ 870     ┆ 870000       │\n",
       "│ 12      ┆ 769     ┆ 769000       │\n",
       "│ 1       ┆ 118     ┆ 118000       │\n",
       "│ 7       ┆ 478     ┆ 478000       │\n",
       "└─────────┴─────────┴──────────────┘"
      ]
     },
     "execution_count": 29,
     "metadata": {},
     "output_type": "execute_result"
    }
   ],
   "source": [
    "df_span.select(\n",
    "    minutes=pl.col('span').dt.total_minutes(),\n",
    "    seconds=pl.col('span').dt.total_seconds(),\n",
    "    milliseconds=pl.col('span').dt.total_milliseconds(),\n",
    ")"
   ]
  },
  {
   "cell_type": "markdown",
   "id": "7b97406c-9265-4624-a33f-9227c7479a76",
   "metadata": {},
   "source": [
    "## データ変換"
   ]
  },
  {
   "cell_type": "markdown",
   "id": "85da916c-267a-456e-a34c-ec5292351cf6",
   "metadata": {},
   "source": [
    "### 文字列との変換"
   ]
  },
  {
   "cell_type": "markdown",
   "id": "8957b43e-6cba-47ae-9cab-d6cbce0a4c94",
   "metadata": {},
   "source": [
    "* `read_csv(try_parse_dates=True)`\n",
    "* `str.to_datetime()`\n",
    "* `str.to_date()`\n",
    "* `str.to_time()`\n",
    "* `str.strptime()`\n",
    "* `dt.strftime()`"
   ]
  },
  {
   "cell_type": "code",
   "execution_count": 9,
   "id": "c06bfa08-4987-43b7-9259-2a85f4a1afdd",
   "metadata": {},
   "outputs": [
    {
     "name": "stdout",
     "output_type": "stream",
     "text": [
      "start,end,category\n",
      "2024-12-10 10:32:14,2024-12-10 10:34:22,D\n",
      "2024-12-10 17:29:08,2024-12-10 17:43:38,C\n",
      "2024-12-11 11:57:08,2024-12-11 12:09:57,C\n",
      "2024-12-12 06:52:42,2024-12-12 06:54:40,B\n",
      "2024-12-12 16:24:08,2024-12-12 16:32:06,C\n",
      "\n"
     ]
    }
   ],
   "source": [
    "df.write_csv('data/test_time.csv', datetime_format=\"%Y-%m-%d %H:%M:%S\")\n",
    "\n",
    "with open('data/test_time.csv') as f:\n",
    "    print(f.read())"
   ]
  },
  {
   "cell_type": "code",
   "execution_count": 10,
   "id": "45048399-def0-40e0-8bb8-9fa9088de9d7",
   "metadata": {},
   "outputs": [
    {
     "data": {
      "text/html": [
       "<div><style>\n",
       ".dataframe > thead > tr,\n",
       ".dataframe > tbody > tr {\n",
       "  text-align: right;\n",
       "  white-space: pre-wrap;\n",
       "}\n",
       "</style>\n",
       "<small>shape: (5, 3)</small><table border=\"1\" class=\"dataframe\"><thead><tr><th>start</th><th>end</th><th>category</th></tr><tr><td>datetime[μs]</td><td>datetime[μs]</td><td>str</td></tr></thead><tbody><tr><td>2024-12-10 10:32:14</td><td>2024-12-10 10:34:22</td><td>&quot;D&quot;</td></tr><tr><td>2024-12-10 17:29:08</td><td>2024-12-10 17:43:38</td><td>&quot;C&quot;</td></tr><tr><td>2024-12-11 11:57:08</td><td>2024-12-11 12:09:57</td><td>&quot;C&quot;</td></tr><tr><td>2024-12-12 06:52:42</td><td>2024-12-12 06:54:40</td><td>&quot;B&quot;</td></tr><tr><td>2024-12-12 16:24:08</td><td>2024-12-12 16:32:06</td><td>&quot;C&quot;</td></tr></tbody></table></div>"
      ],
      "text/plain": [
       "shape: (5, 3)\n",
       "┌─────────────────────┬─────────────────────┬──────────┐\n",
       "│ start               ┆ end                 ┆ category │\n",
       "│ ---                 ┆ ---                 ┆ ---      │\n",
       "│ datetime[μs]        ┆ datetime[μs]        ┆ str      │\n",
       "╞═════════════════════╪═════════════════════╪══════════╡\n",
       "│ 2024-12-10 10:32:14 ┆ 2024-12-10 10:34:22 ┆ D        │\n",
       "│ 2024-12-10 17:29:08 ┆ 2024-12-10 17:43:38 ┆ C        │\n",
       "│ 2024-12-11 11:57:08 ┆ 2024-12-11 12:09:57 ┆ C        │\n",
       "│ 2024-12-12 06:52:42 ┆ 2024-12-12 06:54:40 ┆ B        │\n",
       "│ 2024-12-12 16:24:08 ┆ 2024-12-12 16:32:06 ┆ C        │\n",
       "└─────────────────────┴─────────────────────┴──────────┘"
      ]
     },
     "execution_count": 10,
     "metadata": {},
     "output_type": "execute_result"
    }
   ],
   "source": [
    "df = pl.read_csv('data/test_time.csv', try_parse_dates=True)\n",
    "df"
   ]
  },
  {
   "cell_type": "markdown",
   "id": "2ec19722-abee-449f-8a7f-d62f2241535b",
   "metadata": {},
   "source": [
    "https://docs.rs/chrono/latest/chrono/format/strftime/index.html"
   ]
  },
  {
   "cell_type": "code",
   "execution_count": 13,
   "id": "6ff28364-5aaa-446b-92cc-c97ee8245a48",
   "metadata": {},
   "outputs": [
    {
     "data": {
      "text/html": [
       "<table><tr><td><div><style>\n",
       ".dataframe > thead > tr,\n",
       ".dataframe > tbody > tr {\n",
       "  text-align: right;\n",
       "  white-space: pre-wrap;\n",
       "}\n",
       "</style>\n",
       "<small>shape: (5, 1)</small><table border=\"1\" class=\"dataframe\"><thead><tr><th>start</th></tr><tr><td>str</td></tr></thead><tbody><tr><td>&quot;20241210&quot;</td></tr><tr><td>&quot;20241210&quot;</td></tr><tr><td>&quot;20241211&quot;</td></tr><tr><td>&quot;20241212&quot;</td></tr><tr><td>&quot;20241212&quot;</td></tr></tbody></table></div></td><td><div><style>\n",
       ".dataframe > thead > tr,\n",
       ".dataframe > tbody > tr {\n",
       "  text-align: right;\n",
       "  white-space: pre-wrap;\n",
       "}\n",
       "</style>\n",
       "<small>shape: (5, 1)</small><table border=\"1\" class=\"dataframe\"><thead><tr><th>start</th></tr><tr><td>datetime[μs]</td></tr></thead><tbody><tr><td>2024-12-10 00:00:00</td></tr><tr><td>2024-12-10 00:00:00</td></tr><tr><td>2024-12-11 00:00:00</td></tr><tr><td>2024-12-12 00:00:00</td></tr><tr><td>2024-12-12 00:00:00</td></tr></tbody></table></div></td></tr></table>"
      ]
     },
     "metadata": {},
     "output_type": "display_data"
    }
   ],
   "source": [
    "df_str = df.select(pl.col('start').dt.strftime('%Y%m%d'))\n",
    "df_datetime = df_str.select(pl.col('start').str.to_datetime('%Y%m%d'))\n",
    "row(df_str, df_datetime)"
   ]
  },
  {
   "cell_type": "markdown",
   "id": "a47f1213-6783-490e-87f8-278db2ea9519",
   "metadata": {},
   "source": [
    "### Pythonの時間との変換"
   ]
  },
  {
   "cell_type": "markdown",
   "id": "3584827e-a12b-40ea-9078-7c854bf9652f",
   "metadata": {},
   "source": [
    "### epoch\n",
    "\n",
    "* `pl.from_epoch()`\n",
    "* `dt.epoch()`"
   ]
  },
  {
   "cell_type": "code",
   "execution_count": 58,
   "id": "51a1c5ee-27ce-46ef-a99c-d5f293cd87a4",
   "metadata": {},
   "outputs": [
    {
     "data": {
      "text/html": [
       "<table><tr><td><div><style>\n",
       ".dataframe > thead > tr,\n",
       ".dataframe > tbody > tr {\n",
       "  text-align: right;\n",
       "  white-space: pre-wrap;\n",
       "}\n",
       "</style>\n",
       "<small>shape: (5, 1)</small><table border=\"1\" class=\"dataframe\"><thead><tr><th>start</th></tr><tr><td>datetime[μs]</td></tr></thead><tbody><tr><td>2024-12-10 10:32:14</td></tr><tr><td>2024-12-10 12:22:34</td></tr><tr><td>2024-12-10 22:36:45</td></tr><tr><td>2024-12-11 15:35:33</td></tr><tr><td>2024-12-12 07:34:15</td></tr></tbody></table></div></td><td><div><style>\n",
       ".dataframe > thead > tr,\n",
       ".dataframe > tbody > tr {\n",
       "  text-align: right;\n",
       "  white-space: pre-wrap;\n",
       "}\n",
       "</style>\n",
       "<small>shape: (5, 2)</small><table border=\"1\" class=\"dataframe\"><thead><tr><th>epoch_s</th><th>epoch_ns</th></tr><tr><td>i64</td><td>i64</td></tr></thead><tbody><tr><td>1733826734</td><td>1733826734000000000</td></tr><tr><td>1733833354</td><td>1733833354000000000</td></tr><tr><td>1733870205</td><td>1733870205000000000</td></tr><tr><td>1733931333</td><td>1733931333000000000</td></tr><tr><td>1733988855</td><td>1733988855000000000</td></tr></tbody></table></div></td><td><div><style>\n",
       ".dataframe > thead > tr,\n",
       ".dataframe > tbody > tr {\n",
       "  text-align: right;\n",
       "  white-space: pre-wrap;\n",
       "}\n",
       "</style>\n",
       "<small>shape: (5, 2)</small><table border=\"1\" class=\"dataframe\"><thead><tr><th>start_s</th><th>start_ns</th></tr><tr><td>datetime[μs]</td><td>datetime[ns]</td></tr></thead><tbody><tr><td>2024-12-10 10:32:14</td><td>2024-12-10 10:32:14</td></tr><tr><td>2024-12-10 12:22:34</td><td>2024-12-10 12:22:34</td></tr><tr><td>2024-12-10 22:36:45</td><td>2024-12-10 22:36:45</td></tr><tr><td>2024-12-11 15:35:33</td><td>2024-12-11 15:35:33</td></tr><tr><td>2024-12-12 07:34:15</td><td>2024-12-12 07:34:15</td></tr></tbody></table></div></td></tr></table>"
      ]
     },
     "metadata": {},
     "output_type": "display_data"
    }
   ],
   "source": [
    "df2 = df.select(\n",
    "    epoch_s=pl.col('start').dt.epoch('s'),\n",
    "    epoch_ns=pl.col('start').dt.epoch('ns'),\n",
    ")\n",
    "df3 = df2.select(\n",
    "    start_s = pl.from_epoch('epoch_s', 's'),\n",
    "    start_ns = pl.from_epoch('epoch_ns', 'ns')\n",
    ")\n",
    "row(df.select('start'), df2, df3)"
   ]
  }
 ],
 "metadata": {
  "kernelspec": {
   "display_name": "Python 3 (ipykernel)",
   "language": "python",
   "name": "python3"
  },
  "language_info": {
   "codemirror_mode": {
    "name": "ipython",
    "version": 3
   },
   "file_extension": ".py",
   "mimetype": "text/x-python",
   "name": "python",
   "nbconvert_exporter": "python",
   "pygments_lexer": "ipython3",
   "version": "3.12.2"
  }
 },
 "nbformat": 4,
 "nbformat_minor": 5
}

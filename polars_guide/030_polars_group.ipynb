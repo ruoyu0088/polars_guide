{
 "cells": [
  {
   "cell_type": "markdown",
   "id": "57029a88-8edf-4718-a2ef-0d58b71f9755",
   "metadata": {},
   "source": [
    "# グループ処理\n",
    "\n",
    "データ分析の中で、グループ処理は特に重要な役割を果たします。この章では、Polarsのグループ処理に関する主要な関数を紹介し、それぞれの使い方と応用例を説明します。\n",
    "\n",
    "以下の関数について詳しく見ていきます：\n",
    "\n",
    "- `group_by`: データフレームを特定の列でグループ化します。\n",
    "- `agg`: グループ化したデータに対して集計処理を行います。\n",
    "- `over`: ウィンドウ関数を使用して、グループごとに計算を行います。\n",
    "- `group_by_dynamic`: 時間ベースの動的なグループ化を実現します。\n",
    "- `rolling`: ローリングウィンドウによる計算を行います。\n",
    "\n",
    "これらの機能を活用することで、大規模なデータセットに対する高度な分析を効率的に行うことができます。"
   ]
  },
  {
   "cell_type": "code",
   "execution_count": 1,
   "id": "8c84ceee-5a9d-4ed5-a94f-e3286d24b57e",
   "metadata": {},
   "outputs": [],
   "source": [
    "import polars as pl\n",
    "from helper.jupyter import row"
   ]
  },
  {
   "cell_type": "markdown",
   "id": "d2c678fa-192e-47e3-a5a2-51a976e82ab0",
   "metadata": {},
   "source": [
    "## group_by"
   ]
  },
  {
   "cell_type": "markdown",
   "id": "c7732e25-0d47-4422-b3c9-5b4408f0e635",
   "metadata": {},
   "source": [
    "データフレームの`group_by()`メソッドを使用して、グループ化オブジェクト`GroupBy`を作成します。`maintain_order`引数を`True`に指定することで、元のデータの順序を維持したままグループ化を行います。これにより、グループの順番は元データ中に表れる順番を使用します。"
   ]
  },
  {
   "cell_type": "code",
   "execution_count": 2,
   "id": "80b54ea6-1fed-4036-9976-0b037e5e126a",
   "metadata": {},
   "outputs": [
    {
     "data": {
      "text/plain": [
       "polars.dataframe.group_by.GroupBy"
      ]
     },
     "execution_count": 2,
     "metadata": {},
     "output_type": "execute_result"
    }
   ],
   "source": [
    "df = pl.DataFrame(\n",
    "    dict(\n",
    "        g=['A', 'B', 'C', 'A', 'B', 'B'], \n",
    "        x=[1, 2, 3, 4, 5, 6])\n",
    ")\n",
    "g = df.group_by('g', maintain_order=True)\n",
    "type(g)"
   ]
  },
  {
   "cell_type": "markdown",
   "id": "b9cf6c5d-5016-4b86-9679-060dbb33f214",
   "metadata": {},
   "source": [
    "`GroupBy`オブジェクトの`.agg()`メソッドを使用して、複数の演算式でグループごとのデータを処理し、その結果をまとめます。一部のよく使用する機能は、`GroupBy`オブジェクトのメソッドとしても提供されます。たとえば、`.mean()`は各グループの平均値を計算し、`.first()`は各グループの最初の行を出力します。以下のプログラムは、`.mean()`と`.first()`に相当する演算式の例です。"
   ]
  },
  {
   "cell_type": "code",
   "execution_count": 3,
   "id": "ee4e9b1f-1d0c-4252-860c-397e226e0f54",
   "metadata": {},
   "outputs": [
    {
     "data": {
      "text/html": [
       "<table><tr><td><div><style>\n",
       ".dataframe > thead > tr,\n",
       ".dataframe > tbody > tr {\n",
       "  text-align: right;\n",
       "  white-space: pre-wrap;\n",
       "}\n",
       "</style>\n",
       "<small>shape: (3, 2)</small><table border=\"1\" class=\"dataframe\"><thead><tr><th>g</th><th>x</th></tr><tr><td>str</td><td>f64</td></tr></thead><tbody><tr><td>&quot;A&quot;</td><td>2.5</td></tr><tr><td>&quot;B&quot;</td><td>4.333333</td></tr><tr><td>&quot;C&quot;</td><td>3.0</td></tr></tbody></table></div></td><td><div><style>\n",
       ".dataframe > thead > tr,\n",
       ".dataframe > tbody > tr {\n",
       "  text-align: right;\n",
       "  white-space: pre-wrap;\n",
       "}\n",
       "</style>\n",
       "<small>shape: (3, 2)</small><table border=\"1\" class=\"dataframe\"><thead><tr><th>g</th><th>x</th></tr><tr><td>str</td><td>f64</td></tr></thead><tbody><tr><td>&quot;A&quot;</td><td>2.5</td></tr><tr><td>&quot;B&quot;</td><td>4.333333</td></tr><tr><td>&quot;C&quot;</td><td>3.0</td></tr></tbody></table></div></td><td><div><style>\n",
       ".dataframe > thead > tr,\n",
       ".dataframe > tbody > tr {\n",
       "  text-align: right;\n",
       "  white-space: pre-wrap;\n",
       "}\n",
       "</style>\n",
       "<small>shape: (3, 2)</small><table border=\"1\" class=\"dataframe\"><thead><tr><th>g</th><th>x</th></tr><tr><td>str</td><td>i64</td></tr></thead><tbody><tr><td>&quot;A&quot;</td><td>1</td></tr><tr><td>&quot;B&quot;</td><td>2</td></tr><tr><td>&quot;C&quot;</td><td>3</td></tr></tbody></table></div></td><td><div><style>\n",
       ".dataframe > thead > tr,\n",
       ".dataframe > tbody > tr {\n",
       "  text-align: right;\n",
       "  white-space: pre-wrap;\n",
       "}\n",
       "</style>\n",
       "<small>shape: (3, 2)</small><table border=\"1\" class=\"dataframe\"><thead><tr><th>g</th><th>x</th></tr><tr><td>str</td><td>i64</td></tr></thead><tbody><tr><td>&quot;A&quot;</td><td>1</td></tr><tr><td>&quot;B&quot;</td><td>2</td></tr><tr><td>&quot;C&quot;</td><td>3</td></tr></tbody></table></div></td></tr></table>"
      ]
     },
     "metadata": {},
     "output_type": "display_data"
    }
   ],
   "source": [
    "row(\n",
    "    g.mean(), \n",
    "    g.agg(pl.all().mean()),\n",
    "    g.first(),\n",
    "    g.agg(pl.all().first())\n",
    ")"
   ]
  },
  {
   "cell_type": "markdown",
   "id": "2229d289-3968-46ad-a70d-c388424a19fd",
   "metadata": {},
   "source": [
    "`.agg()`メソッド内の演算式が複数の値を出力する場合、結果列はリストになります。`.head()`と同じ結果を得るためには、`.explode()`を使用してリスト内のデータを縦に結合する必要があります。"
   ]
  },
  {
   "cell_type": "code",
   "execution_count": 4,
   "id": "4ff9897d-4c1a-4378-861f-a8bb2b195388",
   "metadata": {},
   "outputs": [
    {
     "data": {
      "text/html": [
       "<table><tr><td><div><style>\n",
       ".dataframe > thead > tr,\n",
       ".dataframe > tbody > tr {\n",
       "  text-align: right;\n",
       "  white-space: pre-wrap;\n",
       "}\n",
       "</style>\n",
       "<small>shape: (5, 2)</small><table border=\"1\" class=\"dataframe\"><thead><tr><th>g</th><th>x</th></tr><tr><td>str</td><td>i64</td></tr></thead><tbody><tr><td>&quot;A&quot;</td><td>1</td></tr><tr><td>&quot;A&quot;</td><td>4</td></tr><tr><td>&quot;B&quot;</td><td>2</td></tr><tr><td>&quot;B&quot;</td><td>5</td></tr><tr><td>&quot;C&quot;</td><td>3</td></tr></tbody></table></div></td><td><div><style>\n",
       ".dataframe > thead > tr,\n",
       ".dataframe > tbody > tr {\n",
       "  text-align: right;\n",
       "  white-space: pre-wrap;\n",
       "}\n",
       "</style>\n",
       "<small>shape: (3, 2)</small><table border=\"1\" class=\"dataframe\"><thead><tr><th>g</th><th>x</th></tr><tr><td>str</td><td>list[i64]</td></tr></thead><tbody><tr><td>&quot;A&quot;</td><td>[1, 4]</td></tr><tr><td>&quot;B&quot;</td><td>[2, 5]</td></tr><tr><td>&quot;C&quot;</td><td>[3]</td></tr></tbody></table></div></td><td><div><style>\n",
       ".dataframe > thead > tr,\n",
       ".dataframe > tbody > tr {\n",
       "  text-align: right;\n",
       "  white-space: pre-wrap;\n",
       "}\n",
       "</style>\n",
       "<small>shape: (5, 2)</small><table border=\"1\" class=\"dataframe\"><thead><tr><th>g</th><th>x</th></tr><tr><td>str</td><td>i64</td></tr></thead><tbody><tr><td>&quot;A&quot;</td><td>1</td></tr><tr><td>&quot;A&quot;</td><td>4</td></tr><tr><td>&quot;B&quot;</td><td>2</td></tr><tr><td>&quot;B&quot;</td><td>5</td></tr><tr><td>&quot;C&quot;</td><td>3</td></tr></tbody></table></div></td></tr></table>"
      ]
     },
     "metadata": {},
     "output_type": "display_data"
    }
   ],
   "source": [
    "row(\n",
    "    g.head(2), \n",
    "    g.agg(pl.all().head(2)), \n",
    "    g.agg(pl.all().head(2)).explode('x')\n",
    ")"
   ]
  },
  {
   "cell_type": "markdown",
   "id": "994c7d70-ac52-4300-a2a1-c8a5fb13b3fa",
   "metadata": {},
   "source": [
    "(over)=\n",
    "## over"
   ]
  },
  {
   "cell_type": "markdown",
   "id": "cd929639-83b6-49ca-a072-9fe7219b073a",
   "metadata": {},
   "source": [
    "演算式の中に`.over()`を使えば、グループごとの処理も行えます。次のプログラムでは、`g`列のグループごとに`x`列の平均値を計算します。`.group_by().agg()`を使う場合は、1グループは1行になりますが、`.over()`を使用する場合は、各グループの計算結果が元データの該当する場所に反映されます。"
   ]
  },
  {
   "cell_type": "code",
   "execution_count": 5,
   "id": "8cbd4c0e-0a62-474d-86e6-2d93652f44bd",
   "metadata": {},
   "outputs": [
    {
     "data": {
      "text/html": [
       "<div><style>\n",
       ".dataframe > thead > tr,\n",
       ".dataframe > tbody > tr {\n",
       "  text-align: right;\n",
       "  white-space: pre-wrap;\n",
       "}\n",
       "</style>\n",
       "<small>shape: (6, 3)</small><table border=\"1\" class=\"dataframe\"><thead><tr><th>g</th><th>x</th><th>x_mean</th></tr><tr><td>str</td><td>i64</td><td>f64</td></tr></thead><tbody><tr><td>&quot;A&quot;</td><td>1</td><td>2.5</td></tr><tr><td>&quot;B&quot;</td><td>2</td><td>4.333333</td></tr><tr><td>&quot;C&quot;</td><td>3</td><td>3.0</td></tr><tr><td>&quot;A&quot;</td><td>4</td><td>2.5</td></tr><tr><td>&quot;B&quot;</td><td>5</td><td>4.333333</td></tr><tr><td>&quot;B&quot;</td><td>6</td><td>4.333333</td></tr></tbody></table></div>"
      ],
      "text/plain": [
       "shape: (6, 3)\n",
       "┌─────┬─────┬──────────┐\n",
       "│ g   ┆ x   ┆ x_mean   │\n",
       "│ --- ┆ --- ┆ ---      │\n",
       "│ str ┆ i64 ┆ f64      │\n",
       "╞═════╪═════╪══════════╡\n",
       "│ A   ┆ 1   ┆ 2.5      │\n",
       "│ B   ┆ 2   ┆ 4.333333 │\n",
       "│ C   ┆ 3   ┆ 3.0      │\n",
       "│ A   ┆ 4   ┆ 2.5      │\n",
       "│ B   ┆ 5   ┆ 4.333333 │\n",
       "│ B   ┆ 6   ┆ 4.333333 │\n",
       "└─────┴─────┴──────────┘"
      ]
     },
     "execution_count": 5,
     "metadata": {},
     "output_type": "execute_result"
    }
   ],
   "source": [
    "df.with_columns(\n",
    "    pl.col('x')\n",
    "    .mean()\n",
    "    .over('g')\n",
    "    .alias('x_mean'),\n",
    ")"
   ]
  },
  {
   "cell_type": "markdown",
   "id": "a4ab53ad-94ee-460f-bde7-17d19ca0e84d",
   "metadata": {},
   "source": [
    "次のプログラムでは、`g`列のグループごとに`x`列の平均値を計算し、その平均値を元に`x`列から平均値を引いた結果を新しい列に格納します。この演算でグループごとの計算結果の長さが不変の場合も、元データの該当する場所に反映されます。"
   ]
  },
  {
   "cell_type": "code",
   "execution_count": 6,
   "id": "6b637b9d-5cef-4b4a-a561-84b8acb7ef32",
   "metadata": {},
   "outputs": [
    {
     "data": {
      "text/html": [
       "<div><style>\n",
       ".dataframe > thead > tr,\n",
       ".dataframe > tbody > tr {\n",
       "  text-align: right;\n",
       "  white-space: pre-wrap;\n",
       "}\n",
       "</style>\n",
       "<small>shape: (6, 3)</small><table border=\"1\" class=\"dataframe\"><thead><tr><th>g</th><th>x</th><th>x_sub_mean</th></tr><tr><td>str</td><td>i64</td><td>f64</td></tr></thead><tbody><tr><td>&quot;A&quot;</td><td>1</td><td>-1.5</td></tr><tr><td>&quot;B&quot;</td><td>2</td><td>-2.333333</td></tr><tr><td>&quot;C&quot;</td><td>3</td><td>0.0</td></tr><tr><td>&quot;A&quot;</td><td>4</td><td>1.5</td></tr><tr><td>&quot;B&quot;</td><td>5</td><td>0.666667</td></tr><tr><td>&quot;B&quot;</td><td>6</td><td>1.666667</td></tr></tbody></table></div>"
      ],
      "text/plain": [
       "shape: (6, 3)\n",
       "┌─────┬─────┬────────────┐\n",
       "│ g   ┆ x   ┆ x_sub_mean │\n",
       "│ --- ┆ --- ┆ ---        │\n",
       "│ str ┆ i64 ┆ f64        │\n",
       "╞═════╪═════╪════════════╡\n",
       "│ A   ┆ 1   ┆ -1.5       │\n",
       "│ B   ┆ 2   ┆ -2.333333  │\n",
       "│ C   ┆ 3   ┆ 0.0        │\n",
       "│ A   ┆ 4   ┆ 1.5        │\n",
       "│ B   ┆ 5   ┆ 0.666667   │\n",
       "│ B   ┆ 6   ┆ 1.666667   │\n",
       "└─────┴─────┴────────────┘"
      ]
     },
     "execution_count": 6,
     "metadata": {},
     "output_type": "execute_result"
    }
   ],
   "source": [
    "df.with_columns(\n",
    "    (pl.col('x') - pl.col('x').mean())\n",
    "    .over('g')\n",
    "    .alias('x_sub_mean')\n",
    ")"
   ]
  },
  {
   "cell_type": "markdown",
   "id": "3b60aba7-851e-4a32-9268-0f8feb45f4b5",
   "metadata": {},
   "source": [
    "グループごとの計算結果の長さが1でも不変でもない場合、エラーになりますが、`over()`の`mapping_strategy`引数を`'join'`に設定すると、この結果を一つのリストとして元の場所に入れます。次のプログラムでは、`g`列のグループごとに`x`列の先頭2つの値を取得し、それをリストとして新しい列に格納します。"
   ]
  },
  {
   "cell_type": "code",
   "execution_count": 7,
   "id": "a8901c76-757f-4e0b-ad86-76700a37e58d",
   "metadata": {},
   "outputs": [
    {
     "data": {
      "text/html": [
       "<div><style>\n",
       ".dataframe > thead > tr,\n",
       ".dataframe > tbody > tr {\n",
       "  text-align: right;\n",
       "  white-space: pre-wrap;\n",
       "}\n",
       "</style>\n",
       "<small>shape: (6, 3)</small><table border=\"1\" class=\"dataframe\"><thead><tr><th>g</th><th>x</th><th>x_head</th></tr><tr><td>str</td><td>i64</td><td>list[i64]</td></tr></thead><tbody><tr><td>&quot;A&quot;</td><td>1</td><td>[1, 4]</td></tr><tr><td>&quot;B&quot;</td><td>2</td><td>[2, 5]</td></tr><tr><td>&quot;C&quot;</td><td>3</td><td>[3]</td></tr><tr><td>&quot;A&quot;</td><td>4</td><td>[1, 4]</td></tr><tr><td>&quot;B&quot;</td><td>5</td><td>[2, 5]</td></tr><tr><td>&quot;B&quot;</td><td>6</td><td>[2, 5]</td></tr></tbody></table></div>"
      ],
      "text/plain": [
       "shape: (6, 3)\n",
       "┌─────┬─────┬───────────┐\n",
       "│ g   ┆ x   ┆ x_head    │\n",
       "│ --- ┆ --- ┆ ---       │\n",
       "│ str ┆ i64 ┆ list[i64] │\n",
       "╞═════╪═════╪═══════════╡\n",
       "│ A   ┆ 1   ┆ [1, 4]    │\n",
       "│ B   ┆ 2   ┆ [2, 5]    │\n",
       "│ C   ┆ 3   ┆ [3]       │\n",
       "│ A   ┆ 4   ┆ [1, 4]    │\n",
       "│ B   ┆ 5   ┆ [2, 5]    │\n",
       "│ B   ┆ 6   ┆ [2, 5]    │\n",
       "└─────┴─────┴───────────┘"
      ]
     },
     "execution_count": 7,
     "metadata": {},
     "output_type": "execute_result"
    }
   ],
   "source": [
    "df.with_columns(\n",
    "    pl.col('x')\n",
    "    .head(2)\n",
    "    .over('g', mapping_strategy='join')\n",
    "    .alias('x_head')\n",
    ")"
   ]
  },
  {
   "cell_type": "markdown",
   "id": "0fcfc86a-8953-4697-8fbd-9357e4d3b1c5",
   "metadata": {},
   "source": [
    "次のプログラムでは、`g`列のグループごとに`x`列の最小値と最大値を取得し、それをリストとして新しい列に格納します。"
   ]
  },
  {
   "cell_type": "code",
   "execution_count": 8,
   "id": "e415ddfc-d7c7-4406-af8e-850dbe917d1b",
   "metadata": {},
   "outputs": [
    {
     "data": {
      "text/html": [
       "<div><style>\n",
       ".dataframe > thead > tr,\n",
       ".dataframe > tbody > tr {\n",
       "  text-align: right;\n",
       "  white-space: pre-wrap;\n",
       "}\n",
       "</style>\n",
       "<small>shape: (6, 3)</small><table border=\"1\" class=\"dataframe\"><thead><tr><th>g</th><th>x</th><th>x_min_max</th></tr><tr><td>str</td><td>i64</td><td>list[i64]</td></tr></thead><tbody><tr><td>&quot;A&quot;</td><td>1</td><td>[1, 4]</td></tr><tr><td>&quot;B&quot;</td><td>2</td><td>[2, 6]</td></tr><tr><td>&quot;C&quot;</td><td>3</td><td>[3, 3]</td></tr><tr><td>&quot;A&quot;</td><td>4</td><td>[1, 4]</td></tr><tr><td>&quot;B&quot;</td><td>5</td><td>[2, 6]</td></tr><tr><td>&quot;B&quot;</td><td>6</td><td>[2, 6]</td></tr></tbody></table></div>"
      ],
      "text/plain": [
       "shape: (6, 3)\n",
       "┌─────┬─────┬───────────┐\n",
       "│ g   ┆ x   ┆ x_min_max │\n",
       "│ --- ┆ --- ┆ ---       │\n",
       "│ str ┆ i64 ┆ list[i64] │\n",
       "╞═════╪═════╪═══════════╡\n",
       "│ A   ┆ 1   ┆ [1, 4]    │\n",
       "│ B   ┆ 2   ┆ [2, 6]    │\n",
       "│ C   ┆ 3   ┆ [3, 3]    │\n",
       "│ A   ┆ 4   ┆ [1, 4]    │\n",
       "│ B   ┆ 5   ┆ [2, 6]    │\n",
       "│ B   ┆ 6   ┆ [2, 6]    │\n",
       "└─────┴─────┴───────────┘"
      ]
     },
     "execution_count": 8,
     "metadata": {},
     "output_type": "execute_result"
    }
   ],
   "source": [
    "df.with_columns(\n",
    "    pl.col('x')\n",
    "    .min()\n",
    "    .append(pl.col('x').max())\n",
    "    .over('g', mapping_strategy='join')\n",
    "    .alias('x_min_max')\n",
    ")"
   ]
  },
  {
   "cell_type": "markdown",
   "id": "82771504-730a-4493-84fa-0a5415b61581",
   "metadata": {},
   "source": [
    "`mapping_strategy`を`'explode'`に設定すると、各グループの結果を縦に結合します。これは、`group_by().agg().explode()`と同じ結果になります。次のプログラムでは、`g`列のグループごとに`x`列の先頭2つの値を取得し、各グループの結果を縦に結合します。"
   ]
  },
  {
   "cell_type": "code",
   "execution_count": 9,
   "id": "63b1df04-89bc-4f48-a541-93dcae4cb557",
   "metadata": {},
   "outputs": [
    {
     "data": {
      "text/html": [
       "<div><style>\n",
       ".dataframe > thead > tr,\n",
       ".dataframe > tbody > tr {\n",
       "  text-align: right;\n",
       "  white-space: pre-wrap;\n",
       "}\n",
       "</style>\n",
       "<small>shape: (5, 2)</small><table border=\"1\" class=\"dataframe\"><thead><tr><th>g</th><th>x</th></tr><tr><td>str</td><td>i64</td></tr></thead><tbody><tr><td>&quot;A&quot;</td><td>1</td></tr><tr><td>&quot;A&quot;</td><td>4</td></tr><tr><td>&quot;B&quot;</td><td>2</td></tr><tr><td>&quot;B&quot;</td><td>5</td></tr><tr><td>&quot;C&quot;</td><td>3</td></tr></tbody></table></div>"
      ],
      "text/plain": [
       "shape: (5, 2)\n",
       "┌─────┬─────┐\n",
       "│ g   ┆ x   │\n",
       "│ --- ┆ --- │\n",
       "│ str ┆ i64 │\n",
       "╞═════╪═════╡\n",
       "│ A   ┆ 1   │\n",
       "│ A   ┆ 4   │\n",
       "│ B   ┆ 2   │\n",
       "│ B   ┆ 5   │\n",
       "│ C   ┆ 3   │\n",
       "└─────┴─────┘"
      ]
     },
     "execution_count": 9,
     "metadata": {},
     "output_type": "execute_result"
    }
   ],
   "source": [
    "df.select(\n",
    "    pl.col('g', 'x')\n",
    "    .head(2)\n",
    "    .over('g', mapping_strategy='explode')\n",
    ")"
   ]
  },
  {
   "cell_type": "markdown",
   "id": "e3a16940-cbdd-42a5-b36b-9ccefd8fda40",
   "metadata": {},
   "source": [
    "`filter()`メソッドにも`over()`の式を使うことができます。次のプログラムでは、`g`列のグループごとに、`x`列の値がそのグループの平均値以上の行をフィルタリングして出力します。"
   ]
  },
  {
   "cell_type": "code",
   "execution_count": 10,
   "id": "38048f48-0f95-4cae-af09-3b2cc94140f2",
   "metadata": {},
   "outputs": [
    {
     "data": {
      "text/html": [
       "<div><style>\n",
       ".dataframe > thead > tr,\n",
       ".dataframe > tbody > tr {\n",
       "  text-align: right;\n",
       "  white-space: pre-wrap;\n",
       "}\n",
       "</style>\n",
       "<small>shape: (4, 2)</small><table border=\"1\" class=\"dataframe\"><thead><tr><th>g</th><th>x</th></tr><tr><td>str</td><td>i64</td></tr></thead><tbody><tr><td>&quot;C&quot;</td><td>3</td></tr><tr><td>&quot;A&quot;</td><td>4</td></tr><tr><td>&quot;B&quot;</td><td>5</td></tr><tr><td>&quot;B&quot;</td><td>6</td></tr></tbody></table></div>"
      ],
      "text/plain": [
       "shape: (4, 2)\n",
       "┌─────┬─────┐\n",
       "│ g   ┆ x   │\n",
       "│ --- ┆ --- │\n",
       "│ str ┆ i64 │\n",
       "╞═════╪═════╡\n",
       "│ C   ┆ 3   │\n",
       "│ A   ┆ 4   │\n",
       "│ B   ┆ 5   │\n",
       "│ B   ┆ 6   │\n",
       "└─────┴─────┘"
      ]
     },
     "execution_count": 10,
     "metadata": {},
     "output_type": "execute_result"
    }
   ],
   "source": [
    "df.filter(\n",
    "    (pl.col('x') >= pl.col('x').mean())\n",
    "    .over('g')\n",
    ")"
   ]
  },
  {
   "cell_type": "markdown",
   "id": "74f0a913-d7e4-46f8-8b90-996358f68e11",
   "metadata": {},
   "source": [
    "## group_by_dynamic"
   ]
  },
  {
   "cell_type": "markdown",
   "id": "1177bc46-dd58-4841-9715-8170e1cb21c9",
   "metadata": {},
   "source": [
    "`group_by_dynamic(index)`メソッドは、`index`列の値に基づいて動的にグループ化を行います。グループの範囲の開始点`start`は`start_by`、`every`、`offset`、および`index`列の最初の値`value`によって決まります。`start_by`はデフォルト値の`\"window\"`の場合、次のように計算されます：\n",
    "\n",
    "`start = value - value % every + offset`\n",
    "\n",
    "この式により、次のようなグループ範囲が設定されます：\n",
    "\n",
    "```\n",
    "[start, start + period)\n",
    "[start + every, start + every + period)\n",
    "...\n",
    "[start + i*every, start + i*every + period)\n",
    "```\n",
    "\n",
    "たとえば、次のプログラムでは、`index`列の値に基づき、3単位の移動量で3の単位でグループ化を行い、それぞれのグループに対して集計を行います。"
   ]
  },
  {
   "cell_type": "code",
   "execution_count": 11,
   "id": "1652e2b2-8014-463d-9771-54a99309fd61",
   "metadata": {},
   "outputs": [
    {
     "data": {
      "text/html": [
       "<div><style>\n",
       ".dataframe > thead > tr,\n",
       ".dataframe > tbody > tr {\n",
       "  text-align: right;\n",
       "  white-space: pre-wrap;\n",
       "}\n",
       "</style>\n",
       "<small>shape: (3, 4)</small><table border=\"1\" class=\"dataframe\"><thead><tr><th>_lower_boundary</th><th>_upper_boundary</th><th>index</th><th>value</th></tr><tr><td>i64</td><td>i64</td><td>i64</td><td>list[i64]</td></tr></thead><tbody><tr><td>3</td><td>6</td><td>3</td><td>[4, 5]</td></tr><tr><td>9</td><td>12</td><td>9</td><td>[9, 10, 11]</td></tr><tr><td>12</td><td>15</td><td>12</td><td>[12, 13]</td></tr></tbody></table></div>"
      ],
      "text/plain": [
       "shape: (3, 4)\n",
       "┌─────────────────┬─────────────────┬───────┬─────────────┐\n",
       "│ _lower_boundary ┆ _upper_boundary ┆ index ┆ value       │\n",
       "│ ---             ┆ ---             ┆ ---   ┆ ---         │\n",
       "│ i64             ┆ i64             ┆ i64   ┆ list[i64]   │\n",
       "╞═════════════════╪═════════════════╪═══════╪═════════════╡\n",
       "│ 3               ┆ 6               ┆ 3     ┆ [4, 5]      │\n",
       "│ 9               ┆ 12              ┆ 9     ┆ [9, 10, 11] │\n",
       "│ 12              ┆ 15              ┆ 12    ┆ [12, 13]    │\n",
       "└─────────────────┴─────────────────┴───────┴─────────────┘"
      ]
     },
     "execution_count": 11,
     "metadata": {},
     "output_type": "execute_result"
    }
   ],
   "source": [
    "index = [4, 5, 9, 10, 11, 12, 13]\n",
    "df = pl.DataFrame(dict(index=index, value=index)).set_sorted('index')\n",
    "\n",
    "g = df.group_by_dynamic('index', every='3i', offset='0i', include_boundaries=True)\n",
    "g.agg(pl.col(\"value\"))"
   ]
  },
  {
   "cell_type": "markdown",
   "id": "fbfa2c5b-8832-4c30-b16c-6cbdac005ddc",
   "metadata": {},
   "source": [
    "次のプログラムでは、`index`列に基づいて、1単位の移動量で3単位ごとにグループ化を行います。"
   ]
  },
  {
   "cell_type": "code",
   "execution_count": 12,
   "id": "f54e7cf6-71c7-43da-84a9-6b1fd5c380d3",
   "metadata": {},
   "outputs": [
    {
     "data": {
      "text/html": [
       "<div><style>\n",
       ".dataframe > thead > tr,\n",
       ".dataframe > tbody > tr {\n",
       "  text-align: right;\n",
       "  white-space: pre-wrap;\n",
       "}\n",
       "</style>\n",
       "<small>shape: (9, 4)</small><table border=\"1\" class=\"dataframe\"><thead><tr><th>_lower_boundary</th><th>_upper_boundary</th><th>index</th><th>value</th></tr><tr><td>i64</td><td>i64</td><td>i64</td><td>list[i64]</td></tr></thead><tbody><tr><td>4</td><td>7</td><td>4</td><td>[4, 5]</td></tr><tr><td>5</td><td>8</td><td>5</td><td>[5]</td></tr><tr><td>7</td><td>10</td><td>7</td><td>[9]</td></tr><tr><td>8</td><td>11</td><td>8</td><td>[9, 10]</td></tr><tr><td>9</td><td>12</td><td>9</td><td>[9, 10, 11]</td></tr><tr><td>10</td><td>13</td><td>10</td><td>[10, 11, 12]</td></tr><tr><td>11</td><td>14</td><td>11</td><td>[11, 12, 13]</td></tr><tr><td>12</td><td>15</td><td>12</td><td>[12, 13]</td></tr><tr><td>13</td><td>16</td><td>13</td><td>[13]</td></tr></tbody></table></div>"
      ],
      "text/plain": [
       "shape: (9, 4)\n",
       "┌─────────────────┬─────────────────┬───────┬──────────────┐\n",
       "│ _lower_boundary ┆ _upper_boundary ┆ index ┆ value        │\n",
       "│ ---             ┆ ---             ┆ ---   ┆ ---          │\n",
       "│ i64             ┆ i64             ┆ i64   ┆ list[i64]    │\n",
       "╞═════════════════╪═════════════════╪═══════╪══════════════╡\n",
       "│ 4               ┆ 7               ┆ 4     ┆ [4, 5]       │\n",
       "│ 5               ┆ 8               ┆ 5     ┆ [5]          │\n",
       "│ 7               ┆ 10              ┆ 7     ┆ [9]          │\n",
       "│ 8               ┆ 11              ┆ 8     ┆ [9, 10]      │\n",
       "│ 9               ┆ 12              ┆ 9     ┆ [9, 10, 11]  │\n",
       "│ 10              ┆ 13              ┆ 10    ┆ [10, 11, 12] │\n",
       "│ 11              ┆ 14              ┆ 11    ┆ [11, 12, 13] │\n",
       "│ 12              ┆ 15              ┆ 12    ┆ [12, 13]     │\n",
       "│ 13              ┆ 16              ┆ 13    ┆ [13]         │\n",
       "└─────────────────┴─────────────────┴───────┴──────────────┘"
      ]
     },
     "execution_count": 12,
     "metadata": {},
     "output_type": "execute_result"
    }
   ],
   "source": [
    "g = df.group_by_dynamic('index', every='1i', period='3i', offset='0i', include_boundaries=True)\n",
    "g.agg(pl.col(\"value\"))"
   ]
  },
  {
   "cell_type": "markdown",
   "id": "7a966590-8c08-405e-b7d4-1730e146020f",
   "metadata": {},
   "source": [
    "わかりやすくするために、上の例は整数列に対してグループ処理の方法を示しましたが、実際には時系列データに対してグループ処理を行うことが多いです。時系列の場合、`every`、`period`、`offset`などの単位は次のような形式で指定します：\n",
    "\n",
    "- `1ns`  (1ナノ秒)\n",
    "- `1us`  (1マイクロ秒)\n",
    "- `1ms`  (1ミリ秒)\n",
    "- `1s`   (1秒)\n",
    "- `1m`   (1分)\n",
    "- `1h`   (1時間)\n",
    "- `1d`   (1暦日)\n",
    "- `1w`   (1暦週)\n",
    "- `1mo`  (1暦月)\n",
    "- `1q`   (1暦四半期)\n",
    "- `1y`   (1暦年)\n",
    "\n",
    "これらの単位を使って、時系列データのグループ化を柔軟に行うことができます。"
   ]
  },
  {
   "cell_type": "markdown",
   "id": "3c42e135-c23a-48fa-86cd-46c5baacf5be",
   "metadata": {},
   "source": [
    "## rolling"
   ]
  },
  {
   "cell_type": "markdown",
   "id": "9c4dfb95-d3cd-49e3-90a7-977333292640",
   "metadata": {},
   "source": [
    "`rolling(index)`は、`index`列の値に基づいてローリングウィンドウを作成します。デフォルトでは、`offset`の値は`-period`に設定されています。ローリングウィンドウは次のようにグループ化されます：\n",
    "\n",
    "```\n",
    "(index[0] + offset, index[0] + offset + period]\n",
    "...\n",
    "(index[i] + offset, index[i] + offset + period]\n",
    "```\n",
    "\n",
    "次のプログラムでは、`index`列に基づいて、前の2つのデータ点を含む3点のローリングウィンドウを作成し、それに対して集計を行います。"
   ]
  },
  {
   "cell_type": "code",
   "execution_count": 13,
   "id": "21873346-2ff9-4467-9e34-29f7fe05ba67",
   "metadata": {},
   "outputs": [
    {
     "data": {
      "text/html": [
       "<div><style>\n",
       ".dataframe > thead > tr,\n",
       ".dataframe > tbody > tr {\n",
       "  text-align: right;\n",
       "  white-space: pre-wrap;\n",
       "}\n",
       "</style>\n",
       "<small>shape: (7, 2)</small><table border=\"1\" class=\"dataframe\"><thead><tr><th>index</th><th>value</th></tr><tr><td>i64</td><td>list[i64]</td></tr></thead><tbody><tr><td>4</td><td>[4]</td></tr><tr><td>5</td><td>[4, 5]</td></tr><tr><td>9</td><td>[9]</td></tr><tr><td>10</td><td>[9, 10]</td></tr><tr><td>11</td><td>[9, 10, 11]</td></tr><tr><td>12</td><td>[10, 11, 12]</td></tr><tr><td>13</td><td>[11, 12, 13]</td></tr></tbody></table></div>"
      ],
      "text/plain": [
       "shape: (7, 2)\n",
       "┌───────┬──────────────┐\n",
       "│ index ┆ value        │\n",
       "│ ---   ┆ ---          │\n",
       "│ i64   ┆ list[i64]    │\n",
       "╞═══════╪══════════════╡\n",
       "│ 4     ┆ [4]          │\n",
       "│ 5     ┆ [4, 5]       │\n",
       "│ 9     ┆ [9]          │\n",
       "│ 10    ┆ [9, 10]      │\n",
       "│ 11    ┆ [9, 10, 11]  │\n",
       "│ 12    ┆ [10, 11, 12] │\n",
       "│ 13    ┆ [11, 12, 13] │\n",
       "└───────┴──────────────┘"
      ]
     },
     "execution_count": 13,
     "metadata": {},
     "output_type": "execute_result"
    }
   ],
   "source": [
    "g = df.rolling('index', period='3i')\n",
    "g.agg(pl.col(\"value\"))"
   ]
  },
  {
   "cell_type": "markdown",
   "id": "48097c20-e15c-4089-a58b-f44f0e12234c",
   "metadata": {},
   "source": [
    "次のプログラムでは、`index`列に基づいて、データ点とその後の2つのデータ点を含む3点のローリングウィンドウを作成し、それに対して集計を行います。`offset`を`'-1i'`に設定することで、ウィンドウの開始位置を1インデックス分後ろにずらしています。"
   ]
  },
  {
   "cell_type": "code",
   "execution_count": 14,
   "id": "e5abb804-4859-4551-b9f4-bc03aff08652",
   "metadata": {},
   "outputs": [
    {
     "data": {
      "text/html": [
       "<div><style>\n",
       ".dataframe > thead > tr,\n",
       ".dataframe > tbody > tr {\n",
       "  text-align: right;\n",
       "  white-space: pre-wrap;\n",
       "}\n",
       "</style>\n",
       "<small>shape: (7, 2)</small><table border=\"1\" class=\"dataframe\"><thead><tr><th>index</th><th>value</th></tr><tr><td>i64</td><td>list[i64]</td></tr></thead><tbody><tr><td>4</td><td>[4, 5]</td></tr><tr><td>5</td><td>[5]</td></tr><tr><td>9</td><td>[9, 10, 11]</td></tr><tr><td>10</td><td>[10, 11, 12]</td></tr><tr><td>11</td><td>[11, 12, 13]</td></tr><tr><td>12</td><td>[12, 13]</td></tr><tr><td>13</td><td>[13]</td></tr></tbody></table></div>"
      ],
      "text/plain": [
       "shape: (7, 2)\n",
       "┌───────┬──────────────┐\n",
       "│ index ┆ value        │\n",
       "│ ---   ┆ ---          │\n",
       "│ i64   ┆ list[i64]    │\n",
       "╞═══════╪══════════════╡\n",
       "│ 4     ┆ [4, 5]       │\n",
       "│ 5     ┆ [5]          │\n",
       "│ 9     ┆ [9, 10, 11]  │\n",
       "│ 10    ┆ [10, 11, 12] │\n",
       "│ 11    ┆ [11, 12, 13] │\n",
       "│ 12    ┆ [12, 13]     │\n",
       "│ 13    ┆ [13]         │\n",
       "└───────┴──────────────┘"
      ]
     },
     "execution_count": 14,
     "metadata": {},
     "output_type": "execute_result"
    }
   ],
   "source": [
    "g = df.rolling('index', period='3i', offset='-1i')\n",
    "g.agg(pl.col(\"value\"))"
   ]
  },
  {
   "cell_type": "markdown",
   "id": "69740434-8851-4aa6-bb02-728377a04884",
   "metadata": {},
   "source": [
    "固定点数の移動窓で処理する場合は、`int_range()`で作成した行番号に対して`rolling`処理を行います。以下のプログラムでは、データフレームの各行に対して、前の2つの行を含む合計3行のローリングウィンドウを適用し、`A`列の最大値と`B`列の最小値を計算します。\n",
    "\n",
    "次のコードでは、`int_range(0, pl.len())`を使って行番号を生成し、その行番号に基づいてローリングウィンドウを作成します。ウィンドウの期間は3行（`period='3i'`）で、`offset='-2i'`により、各ウィンドウは現在の行の2行前から始まります。集計では、`A`列の最大値と`B`列の最小値が計算され、結果として各行に対してこれらの統計値が追加されます。"
   ]
  },
  {
   "cell_type": "code",
   "execution_count": 15,
   "id": "a6c8f158-6526-4a2d-871e-4530638993db",
   "metadata": {},
   "outputs": [
    {
     "data": {
      "text/html": [
       "<div><style>\n",
       ".dataframe > thead > tr,\n",
       ".dataframe > tbody > tr {\n",
       "  text-align: right;\n",
       "  white-space: pre-wrap;\n",
       "}\n",
       "</style>\n",
       "<small>shape: (8, 5)</small><table border=\"1\" class=\"dataframe\"><thead><tr><th>index</th><th>A</th><th>B</th><th>A_max</th><th>B_min</th></tr><tr><td>i64</td><td>list[i64]</td><td>list[i64]</td><td>i64</td><td>i64</td></tr></thead><tbody><tr><td>0</td><td>[5, 3]</td><td>[10, 20]</td><td>5</td><td>10</td></tr><tr><td>1</td><td>[5, 3, 8]</td><td>[10, 20, 10]</td><td>8</td><td>10</td></tr><tr><td>2</td><td>[3, 8, 9]</td><td>[20, 10, 2]</td><td>9</td><td>2</td></tr><tr><td>3</td><td>[8, 9, 10]</td><td>[10, 2, 3]</td><td>10</td><td>2</td></tr><tr><td>4</td><td>[9, 10, 1]</td><td>[2, 3, 5]</td><td>10</td><td>2</td></tr><tr><td>5</td><td>[10, 1, 2]</td><td>[3, 5, 0]</td><td>10</td><td>0</td></tr><tr><td>6</td><td>[1, 2, 4]</td><td>[5, 0, 7]</td><td>4</td><td>0</td></tr><tr><td>7</td><td>[2, 4]</td><td>[0, 7]</td><td>4</td><td>0</td></tr></tbody></table></div>"
      ],
      "text/plain": [
       "shape: (8, 5)\n",
       "┌───────┬────────────┬──────────────┬───────┬───────┐\n",
       "│ index ┆ A          ┆ B            ┆ A_max ┆ B_min │\n",
       "│ ---   ┆ ---        ┆ ---          ┆ ---   ┆ ---   │\n",
       "│ i64   ┆ list[i64]  ┆ list[i64]    ┆ i64   ┆ i64   │\n",
       "╞═══════╪════════════╪══════════════╪═══════╪═══════╡\n",
       "│ 0     ┆ [5, 3]     ┆ [10, 20]     ┆ 5     ┆ 10    │\n",
       "│ 1     ┆ [5, 3, 8]  ┆ [10, 20, 10] ┆ 8     ┆ 10    │\n",
       "│ 2     ┆ [3, 8, 9]  ┆ [20, 10, 2]  ┆ 9     ┆ 2     │\n",
       "│ 3     ┆ [8, 9, 10] ┆ [10, 2, 3]   ┆ 10    ┆ 2     │\n",
       "│ 4     ┆ [9, 10, 1] ┆ [2, 3, 5]    ┆ 10    ┆ 2     │\n",
       "│ 5     ┆ [10, 1, 2] ┆ [3, 5, 0]    ┆ 10    ┆ 0     │\n",
       "│ 6     ┆ [1, 2, 4]  ┆ [5, 0, 7]    ┆ 4     ┆ 0     │\n",
       "│ 7     ┆ [2, 4]     ┆ [0, 7]       ┆ 4     ┆ 0     │\n",
       "└───────┴────────────┴──────────────┴───────┴───────┘"
      ]
     },
     "execution_count": 15,
     "metadata": {},
     "output_type": "execute_result"
    }
   ],
   "source": [
    "df = pl.DataFrame(\n",
    "    dict(\n",
    "        A=[5, 3, 8, 9, 10, 1, 2, 4],\n",
    "        B=[10, 20, 10, 2, 3, 5, 0, 7]\n",
    "    )\n",
    ")\n",
    "\n",
    "(\n",
    "    df\n",
    "    .rolling(\n",
    "        pl.int_range(0, pl.len()).alias('index'), \n",
    "        period='3i', \n",
    "        offset='-2i'\n",
    "    )\n",
    "    .agg(\n",
    "        pl.col.A,\n",
    "        pl.col.B,\n",
    "        pl.col.A.max().alias('A_max'),\n",
    "        pl.col.B.min().alias('B_min'),\n",
    "    )\n",
    ")"
   ]
  },
  {
   "cell_type": "markdown",
   "id": "017e2a85-f41a-4812-a9ac-4483120c56cf",
   "metadata": {},
   "source": [
    "## CookBook"
   ]
  },
  {
   "cell_type": "markdown",
   "id": "f0d77443-3a2c-446c-a30d-c11744b48567",
   "metadata": {},
   "source": [
    "### 値の変化に応じたグループ化と集計\n",
    "\n",
    "次のプログラムでは、`g`列の値が変化するたびにグループを変え、各グループの最初の`g`の値と`v`列の値を取得します。`rle_id()`を使用して、`g`列の値が変化するたびに新しいグループIDを割り当てます。`rle_id()`は、連続する同じ値に同じIDを割り当て、値が変化するたびにIDを更新します。"
   ]
  },
  {
   "cell_type": "code",
   "execution_count": 16,
   "id": "20e24360-0beb-4f21-9d2d-fa8037a301cb",
   "metadata": {},
   "outputs": [
    {
     "data": {
      "text/html": [
       "<div><style>\n",
       ".dataframe > thead > tr,\n",
       ".dataframe > tbody > tr {\n",
       "  text-align: right;\n",
       "  white-space: pre-wrap;\n",
       "}\n",
       "</style>\n",
       "<small>shape: (4, 3)</small><table border=\"1\" class=\"dataframe\"><thead><tr><th>group_id</th><th>g</th><th>v</th></tr><tr><td>u32</td><td>i64</td><td>list[i64]</td></tr></thead><tbody><tr><td>0</td><td>1</td><td>[0, 1]</td></tr><tr><td>1</td><td>2</td><td>[2, 3, 4]</td></tr><tr><td>2</td><td>1</td><td>[5, 6]</td></tr><tr><td>3</td><td>0</td><td>[7]</td></tr></tbody></table></div>"
      ],
      "text/plain": [
       "shape: (4, 3)\n",
       "┌──────────┬─────┬───────────┐\n",
       "│ group_id ┆ g   ┆ v         │\n",
       "│ ---      ┆ --- ┆ ---       │\n",
       "│ u32      ┆ i64 ┆ list[i64] │\n",
       "╞══════════╪═════╪═══════════╡\n",
       "│ 0        ┆ 1   ┆ [0, 1]    │\n",
       "│ 1        ┆ 2   ┆ [2, 3, 4] │\n",
       "│ 2        ┆ 1   ┆ [5, 6]    │\n",
       "│ 3        ┆ 0   ┆ [7]       │\n",
       "└──────────┴─────┴───────────┘"
      ]
     },
     "execution_count": 16,
     "metadata": {},
     "output_type": "execute_result"
    }
   ],
   "source": [
    "df = pl.DataFrame(\n",
    "    {\n",
    "        \"g\": [1, 1, 2, 2, 2, 1, 1, 0],\n",
    "        \"v\": list(range(8))\n",
    "    }\n",
    ")\n",
    "\n",
    "df.group_by(\n",
    "    pl.col('g').rle_id().alias('group_id')\n",
    ").agg(\n",
    "    pl.col('g').first(),\n",
    "    pl.col('v')\n",
    ")"
   ]
  },
  {
   "cell_type": "markdown",
   "id": "d1a32567-4cea-42fe-9946-08fa5e92cfd7",
   "metadata": {},
   "source": [
    "### グループ毎に番号付け"
   ]
  },
  {
   "cell_type": "markdown",
   "id": "2b992706-09de-409b-bfde-63f25277339b",
   "metadata": {},
   "source": [
    "c2列とc3列の値に番号を付けます。番号は0からスタート、新しい値が現れるたびに１増加します。"
   ]
  },
  {
   "cell_type": "code",
   "execution_count": 17,
   "id": "13ea44ad-fd3f-4c46-98a7-feea793b19e2",
   "metadata": {},
   "outputs": [],
   "source": [
    "df = pl.DataFrame(\n",
    "    {\n",
    "        \"c1\": [\"a\", \"a\", \"a\", \"a\", \"a\", \"d\", \"d\"],\n",
    "        \"c2\": [\"b\", \"a\", \"a\", \"b\", \"c\", \"a\", \"b\"],\n",
    "        \"c3\": [2, 1, 1, 1, 1, 1, 1],\n",
    "    }\n",
    ")"
   ]
  },
  {
   "cell_type": "code",
   "execution_count": 18,
   "id": "a56e7d25-f3f4-4b43-b51e-f5d1c36eda27",
   "metadata": {},
   "outputs": [
    {
     "data": {
      "text/html": [
       "<div><style>\n",
       ".dataframe > thead > tr,\n",
       ".dataframe > tbody > tr {\n",
       "  text-align: right;\n",
       "  white-space: pre-wrap;\n",
       "}\n",
       "</style>\n",
       "<small>shape: (7, 4)</small><table border=\"1\" class=\"dataframe\"><thead><tr><th>index</th><th>c2</th><th>c3</th><th>row_index</th></tr><tr><td>u32</td><td>str</td><td>i64</td><td>u32</td></tr></thead><tbody><tr><td>0</td><td>&quot;b&quot;</td><td>2</td><td>0</td></tr><tr><td>1</td><td>&quot;a&quot;</td><td>1</td><td>1</td></tr><tr><td>1</td><td>&quot;a&quot;</td><td>1</td><td>2</td></tr><tr><td>2</td><td>&quot;b&quot;</td><td>1</td><td>3</td></tr><tr><td>3</td><td>&quot;c&quot;</td><td>1</td><td>4</td></tr><tr><td>1</td><td>&quot;a&quot;</td><td>1</td><td>5</td></tr><tr><td>2</td><td>&quot;b&quot;</td><td>1</td><td>6</td></tr></tbody></table></div>"
      ],
      "text/plain": [
       "shape: (7, 4)\n",
       "┌───────┬─────┬─────┬───────────┐\n",
       "│ index ┆ c2  ┆ c3  ┆ row_index │\n",
       "│ ---   ┆ --- ┆ --- ┆ ---       │\n",
       "│ u32   ┆ str ┆ i64 ┆ u32       │\n",
       "╞═══════╪═════╪═════╪═══════════╡\n",
       "│ 0     ┆ b   ┆ 2   ┆ 0         │\n",
       "│ 1     ┆ a   ┆ 1   ┆ 1         │\n",
       "│ 1     ┆ a   ┆ 1   ┆ 2         │\n",
       "│ 2     ┆ b   ┆ 1   ┆ 3         │\n",
       "│ 3     ┆ c   ┆ 1   ┆ 4         │\n",
       "│ 1     ┆ a   ┆ 1   ┆ 5         │\n",
       "│ 2     ┆ b   ┆ 1   ┆ 6         │\n",
       "└───────┴─────┴─────┴───────────┘"
      ]
     },
     "execution_count": 18,
     "metadata": {},
     "output_type": "execute_result"
    }
   ],
   "source": [
    "(\n",
    "    df\n",
    "    .group_by(\"c2\", \"c3\", maintain_order=True)\n",
    "    .agg(\n",
    "        pl.col(\"c2\")\n",
    "        .agg_groups()\n",
    "        .alias(\"row_index\")\n",
    "    )\n",
    "    .with_row_index()\n",
    "    .explode(\"row_index\")\n",
    "    .sort(by=\"row_index\")\n",
    ")"
   ]
  },
  {
   "cell_type": "code",
   "execution_count": 19,
   "id": "d34a5417-2b03-4b87-9245-915c25a0aca3",
   "metadata": {},
   "outputs": [
    {
     "data": {
      "text/html": [
       "<div><style>\n",
       ".dataframe > thead > tr,\n",
       ".dataframe > tbody > tr {\n",
       "  text-align: right;\n",
       "  white-space: pre-wrap;\n",
       "}\n",
       "</style>\n",
       "<small>shape: (7, 4)</small><table border=\"1\" class=\"dataframe\"><thead><tr><th>c1</th><th>c2</th><th>c3</th><th>index</th></tr><tr><td>str</td><td>str</td><td>i64</td><td>u32</td></tr></thead><tbody><tr><td>&quot;a&quot;</td><td>&quot;b&quot;</td><td>2</td><td>0</td></tr><tr><td>&quot;a&quot;</td><td>&quot;a&quot;</td><td>1</td><td>1</td></tr><tr><td>&quot;a&quot;</td><td>&quot;a&quot;</td><td>1</td><td>1</td></tr><tr><td>&quot;a&quot;</td><td>&quot;b&quot;</td><td>1</td><td>2</td></tr><tr><td>&quot;a&quot;</td><td>&quot;c&quot;</td><td>1</td><td>3</td></tr><tr><td>&quot;d&quot;</td><td>&quot;a&quot;</td><td>1</td><td>1</td></tr><tr><td>&quot;d&quot;</td><td>&quot;b&quot;</td><td>1</td><td>2</td></tr></tbody></table></div>"
      ],
      "text/plain": [
       "shape: (7, 4)\n",
       "┌─────┬─────┬─────┬───────┐\n",
       "│ c1  ┆ c2  ┆ c3  ┆ index │\n",
       "│ --- ┆ --- ┆ --- ┆ ---   │\n",
       "│ str ┆ str ┆ i64 ┆ u32   │\n",
       "╞═════╪═════╪═════╪═══════╡\n",
       "│ a   ┆ b   ┆ 2   ┆ 0     │\n",
       "│ a   ┆ a   ┆ 1   ┆ 1     │\n",
       "│ a   ┆ a   ┆ 1   ┆ 1     │\n",
       "│ a   ┆ b   ┆ 1   ┆ 2     │\n",
       "│ a   ┆ c   ┆ 1   ┆ 3     │\n",
       "│ d   ┆ a   ┆ 1   ┆ 1     │\n",
       "│ d   ┆ b   ┆ 1   ┆ 2     │\n",
       "└─────┴─────┴─────┴───────┘"
      ]
     },
     "execution_count": 19,
     "metadata": {},
     "output_type": "execute_result"
    }
   ],
   "source": [
    "df.join(\n",
    "    df.select(\"c2\", \"c3\")\n",
    "    .unique(maintain_order=True)\n",
    "    .with_row_index(),\n",
    "    on=[\"c2\", \"c3\"]\n",
    ")"
   ]
  },
  {
   "cell_type": "code",
   "execution_count": 20,
   "id": "ad21994e-f9e3-4084-95a2-d41663204143",
   "metadata": {},
   "outputs": [
    {
     "data": {
      "text/html": [
       "<div><style>\n",
       ".dataframe > thead > tr,\n",
       ".dataframe > tbody > tr {\n",
       "  text-align: right;\n",
       "  white-space: pre-wrap;\n",
       "}\n",
       "</style>\n",
       "<small>shape: (7, 4)</small><table border=\"1\" class=\"dataframe\"><thead><tr><th>c1</th><th>c2</th><th>c3</th><th>index</th></tr><tr><td>str</td><td>str</td><td>i64</td><td>u32</td></tr></thead><tbody><tr><td>&quot;a&quot;</td><td>&quot;b&quot;</td><td>2</td><td>0</td></tr><tr><td>&quot;a&quot;</td><td>&quot;a&quot;</td><td>1</td><td>1</td></tr><tr><td>&quot;a&quot;</td><td>&quot;a&quot;</td><td>1</td><td>1</td></tr><tr><td>&quot;a&quot;</td><td>&quot;b&quot;</td><td>1</td><td>2</td></tr><tr><td>&quot;a&quot;</td><td>&quot;c&quot;</td><td>1</td><td>3</td></tr><tr><td>&quot;d&quot;</td><td>&quot;a&quot;</td><td>1</td><td>1</td></tr><tr><td>&quot;d&quot;</td><td>&quot;b&quot;</td><td>1</td><td>2</td></tr></tbody></table></div>"
      ],
      "text/plain": [
       "shape: (7, 4)\n",
       "┌─────┬─────┬─────┬───────┐\n",
       "│ c1  ┆ c2  ┆ c3  ┆ index │\n",
       "│ --- ┆ --- ┆ --- ┆ ---   │\n",
       "│ str ┆ str ┆ i64 ┆ u32   │\n",
       "╞═════╪═════╪═════╪═══════╡\n",
       "│ a   ┆ b   ┆ 2   ┆ 0     │\n",
       "│ a   ┆ a   ┆ 1   ┆ 1     │\n",
       "│ a   ┆ a   ┆ 1   ┆ 1     │\n",
       "│ a   ┆ b   ┆ 1   ┆ 2     │\n",
       "│ a   ┆ c   ┆ 1   ┆ 3     │\n",
       "│ d   ┆ a   ┆ 1   ┆ 1     │\n",
       "│ d   ┆ b   ┆ 1   ┆ 2     │\n",
       "└─────┴─────┴─────┴───────┘"
      ]
     },
     "execution_count": 20,
     "metadata": {},
     "output_type": "execute_result"
    }
   ],
   "source": [
    "df.with_columns(\n",
    "    pl.format(\"{} - {}\", \"c2\", \"c3\")\n",
    "    .cast(pl.Categorical)\n",
    "    .to_physical()\n",
    "    .alias(\"index\")\n",
    ")"
   ]
  },
  {
   "cell_type": "code",
   "execution_count": 21,
   "id": "abe812c3-d9ff-43c0-b0d1-5108d8ce8c32",
   "metadata": {},
   "outputs": [
    {
     "data": {
      "text/html": [
       "<div><style>\n",
       ".dataframe > thead > tr,\n",
       ".dataframe > tbody > tr {\n",
       "  text-align: right;\n",
       "  white-space: pre-wrap;\n",
       "}\n",
       "</style>\n",
       "<small>shape: (7, 4)</small><table border=\"1\" class=\"dataframe\"><thead><tr><th>c1</th><th>c2</th><th>c3</th><th>index</th></tr><tr><td>str</td><td>str</td><td>i64</td><td>u32</td></tr></thead><tbody><tr><td>&quot;a&quot;</td><td>&quot;b&quot;</td><td>2</td><td>0</td></tr><tr><td>&quot;a&quot;</td><td>&quot;a&quot;</td><td>1</td><td>1</td></tr><tr><td>&quot;a&quot;</td><td>&quot;a&quot;</td><td>1</td><td>1</td></tr><tr><td>&quot;a&quot;</td><td>&quot;b&quot;</td><td>1</td><td>2</td></tr><tr><td>&quot;a&quot;</td><td>&quot;c&quot;</td><td>1</td><td>3</td></tr><tr><td>&quot;d&quot;</td><td>&quot;a&quot;</td><td>1</td><td>1</td></tr><tr><td>&quot;d&quot;</td><td>&quot;b&quot;</td><td>1</td><td>2</td></tr></tbody></table></div>"
      ],
      "text/plain": [
       "shape: (7, 4)\n",
       "┌─────┬─────┬─────┬───────┐\n",
       "│ c1  ┆ c2  ┆ c3  ┆ index │\n",
       "│ --- ┆ --- ┆ --- ┆ ---   │\n",
       "│ str ┆ str ┆ i64 ┆ u32   │\n",
       "╞═════╪═════╪═════╪═══════╡\n",
       "│ a   ┆ b   ┆ 2   ┆ 0     │\n",
       "│ a   ┆ a   ┆ 1   ┆ 1     │\n",
       "│ a   ┆ a   ┆ 1   ┆ 1     │\n",
       "│ a   ┆ b   ┆ 1   ┆ 2     │\n",
       "│ a   ┆ c   ┆ 1   ┆ 3     │\n",
       "│ d   ┆ a   ┆ 1   ┆ 1     │\n",
       "│ d   ┆ b   ┆ 1   ┆ 2     │\n",
       "└─────┴─────┴─────┴───────┘"
      ]
     },
     "execution_count": 21,
     "metadata": {},
     "output_type": "execute_result"
    }
   ],
   "source": [
    "df.with_columns(\n",
    "    pl.struct(\"c2\", \"c3\")\n",
    "    .rank(\"dense\")\n",
    "    .cast(pl.String)\n",
    "    .cast(pl.Categorical)\n",
    "    .to_physical()\n",
    "    .alias(\"index\")\n",
    ")"
   ]
  }
 ],
 "metadata": {
  "kernelspec": {
   "display_name": "Python 3 (ipykernel)",
   "language": "python",
   "name": "python3"
  },
  "language_info": {
   "codemirror_mode": {
    "name": "ipython",
    "version": 3
   },
   "file_extension": ".py",
   "mimetype": "text/x-python",
   "name": "python",
   "nbconvert_exporter": "python",
   "pygments_lexer": "ipython3",
   "version": "3.11.8"
  }
 },
 "nbformat": 4,
 "nbformat_minor": 5
}

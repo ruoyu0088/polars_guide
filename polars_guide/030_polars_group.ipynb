{
 "cells": [
  {
   "cell_type": "markdown",
   "id": "aeff477e-497d-4f08-be09-a7d0eddc8143",
   "metadata": {},
   "source": [
    "# グループ処理"
   ]
  },
  {
   "cell_type": "markdown",
   "id": "aef443e8-fe28-477f-9119-fa01a1cfde59",
   "metadata": {},
   "source": [
    "データ分析の中で、グループ処理は特に重要な役割を果たします。この章では、Polarsのグループ処理に関する主要な関数を紹介し、それぞれの使い方と応用例を説明します。\n",
    "\n",
    "以下の関数について詳しく見ていきます：\n",
    "\n",
    "- `group_by`: データフレームを特定の列でグループ化します。\n",
    "- `agg`: グループ化したデータに対して集計処理を行います。\n",
    "- `over`: ウィンドウ関数を使用して、グループごとに計算を行います。\n",
    "- `group_by_dynamic`: 時間ベースの動的なグループ化を実現します。\n",
    "- `rolling`: ローリングウィンドウによる計算を行います。\n",
    "\n",
    "これらの機能を活用することで、大規模なデータセットに対する高度な分析を効率的に行うことができます。"
   ]
  },
  {
   "cell_type": "code",
   "execution_count": 2,
   "id": "8c84ceee-5a9d-4ed5-a94f-e3286d24b57e",
   "metadata": {},
   "outputs": [],
   "source": [
    "import polars as pl\n",
    "from helper.jupyter import row"
   ]
  },
  {
   "attachments": {},
   "cell_type": "markdown",
   "id": "c35901a0-51fb-40d2-8bac-c403dd8af0af",
   "metadata": {},
   "source": [
    "## group_by\n",
    "\n",
    "`DataFrame.group_by()`メソッドを使用して、グループ化オブジェクト`GroupBy`を作成します。`maintain_order`引数を`True`に指定することで、元のデータの順序を維持したままグループ化を行います。これにより、グループの順番は元データ中に表れる順番を使用します。"
   ]
  },
  {
   "cell_type": "code",
   "execution_count": 3,
   "id": "80b54ea6-1fed-4036-9976-0b037e5e126a",
   "metadata": {},
   "outputs": [
    {
     "data": {
      "text/plain": [
       "polars.dataframe.group_by.GroupBy"
      ]
     },
     "execution_count": 3,
     "metadata": {},
     "output_type": "execute_result"
    }
   ],
   "source": [
    "df = pl.DataFrame(\n",
    "    dict(\n",
    "        g=['A', 'B', 'C', 'A', 'B', 'B'], \n",
    "        x=[1, 2, 3, 4, 5, 6])\n",
    ")\n",
    "g = df.group_by('g', maintain_order=True)\n",
    "type(g)"
   ]
  },
  {
   "cell_type": "markdown",
   "id": "b9cf6c5d-5016-4b86-9679-060dbb33f214",
   "metadata": {},
   "source": [
    "`GroupBy`オブジェクトの`.agg()`メソッドを使用して、複数の演算式でグループごとのデータを処理し、その結果をまとめます。一部のよく使用する機能は、`GroupBy`オブジェクトのメソッドとしても提供されます。たとえば、`.mean()`は各グループの平均値を計算し、`.first()`は各グループの最初の行を出力します。以下のプログラムは、`.mean()`と`.first()`に相当する演算式の例です。"
   ]
  },
  {
   "cell_type": "code",
   "execution_count": 4,
   "id": "ee4e9b1f-1d0c-4252-860c-397e226e0f54",
   "metadata": {},
   "outputs": [
    {
     "data": {
      "text/html": [
       "<table><tr><td><div><style>\n",
       ".dataframe > thead > tr,\n",
       ".dataframe > tbody > tr {\n",
       "  text-align: right;\n",
       "  white-space: pre-wrap;\n",
       "}\n",
       "</style>\n",
       "<small>shape: (3, 2)</small><table border=\"1\" class=\"dataframe\"><thead><tr><th>g</th><th>x</th></tr><tr><td>str</td><td>f64</td></tr></thead><tbody><tr><td>&quot;A&quot;</td><td>2.5</td></tr><tr><td>&quot;B&quot;</td><td>4.333333</td></tr><tr><td>&quot;C&quot;</td><td>3.0</td></tr></tbody></table></div></td><td><div><style>\n",
       ".dataframe > thead > tr,\n",
       ".dataframe > tbody > tr {\n",
       "  text-align: right;\n",
       "  white-space: pre-wrap;\n",
       "}\n",
       "</style>\n",
       "<small>shape: (3, 2)</small><table border=\"1\" class=\"dataframe\"><thead><tr><th>g</th><th>x</th></tr><tr><td>str</td><td>f64</td></tr></thead><tbody><tr><td>&quot;A&quot;</td><td>2.5</td></tr><tr><td>&quot;B&quot;</td><td>4.333333</td></tr><tr><td>&quot;C&quot;</td><td>3.0</td></tr></tbody></table></div></td><td><div><style>\n",
       ".dataframe > thead > tr,\n",
       ".dataframe > tbody > tr {\n",
       "  text-align: right;\n",
       "  white-space: pre-wrap;\n",
       "}\n",
       "</style>\n",
       "<small>shape: (3, 2)</small><table border=\"1\" class=\"dataframe\"><thead><tr><th>g</th><th>x</th></tr><tr><td>str</td><td>i64</td></tr></thead><tbody><tr><td>&quot;A&quot;</td><td>1</td></tr><tr><td>&quot;B&quot;</td><td>2</td></tr><tr><td>&quot;C&quot;</td><td>3</td></tr></tbody></table></div></td><td><div><style>\n",
       ".dataframe > thead > tr,\n",
       ".dataframe > tbody > tr {\n",
       "  text-align: right;\n",
       "  white-space: pre-wrap;\n",
       "}\n",
       "</style>\n",
       "<small>shape: (3, 2)</small><table border=\"1\" class=\"dataframe\"><thead><tr><th>g</th><th>x</th></tr><tr><td>str</td><td>i64</td></tr></thead><tbody><tr><td>&quot;A&quot;</td><td>1</td></tr><tr><td>&quot;B&quot;</td><td>2</td></tr><tr><td>&quot;C&quot;</td><td>3</td></tr></tbody></table></div></td></tr></table>"
      ]
     },
     "metadata": {},
     "output_type": "display_data"
    }
   ],
   "source": [
    "row(\n",
    "    g.mean(), \n",
    "    g.agg(pl.all().mean()),\n",
    "    g.first(),\n",
    "    g.agg(pl.all().first())\n",
    ")"
   ]
  },
  {
   "cell_type": "markdown",
   "id": "2229d289-3968-46ad-a70d-c388424a19fd",
   "metadata": {},
   "source": [
    "`.agg()`メソッド内の演算式が複数の値を出力する場合、結果列はリストになります。`GroupBy.head()`と同じ結果を得るためには、`.explode()`を使用してリスト内のデータを縦に結合する必要があります。"
   ]
  },
  {
   "cell_type": "code",
   "execution_count": 5,
   "id": "4ff9897d-4c1a-4378-861f-a8bb2b195388",
   "metadata": {},
   "outputs": [
    {
     "data": {
      "text/html": [
       "<table><tr><td><div><style>\n",
       ".dataframe > thead > tr,\n",
       ".dataframe > tbody > tr {\n",
       "  text-align: right;\n",
       "  white-space: pre-wrap;\n",
       "}\n",
       "</style>\n",
       "<small>shape: (5, 2)</small><table border=\"1\" class=\"dataframe\"><thead><tr><th>g</th><th>x</th></tr><tr><td>str</td><td>i64</td></tr></thead><tbody><tr><td>&quot;A&quot;</td><td>1</td></tr><tr><td>&quot;A&quot;</td><td>4</td></tr><tr><td>&quot;B&quot;</td><td>2</td></tr><tr><td>&quot;B&quot;</td><td>5</td></tr><tr><td>&quot;C&quot;</td><td>3</td></tr></tbody></table></div></td><td><div><style>\n",
       ".dataframe > thead > tr,\n",
       ".dataframe > tbody > tr {\n",
       "  text-align: right;\n",
       "  white-space: pre-wrap;\n",
       "}\n",
       "</style>\n",
       "<small>shape: (3, 2)</small><table border=\"1\" class=\"dataframe\"><thead><tr><th>g</th><th>x</th></tr><tr><td>str</td><td>list[i64]</td></tr></thead><tbody><tr><td>&quot;A&quot;</td><td>[1, 4]</td></tr><tr><td>&quot;B&quot;</td><td>[2, 5]</td></tr><tr><td>&quot;C&quot;</td><td>[3]</td></tr></tbody></table></div></td><td><div><style>\n",
       ".dataframe > thead > tr,\n",
       ".dataframe > tbody > tr {\n",
       "  text-align: right;\n",
       "  white-space: pre-wrap;\n",
       "}\n",
       "</style>\n",
       "<small>shape: (5, 2)</small><table border=\"1\" class=\"dataframe\"><thead><tr><th>g</th><th>x</th></tr><tr><td>str</td><td>i64</td></tr></thead><tbody><tr><td>&quot;A&quot;</td><td>1</td></tr><tr><td>&quot;A&quot;</td><td>4</td></tr><tr><td>&quot;B&quot;</td><td>2</td></tr><tr><td>&quot;B&quot;</td><td>5</td></tr><tr><td>&quot;C&quot;</td><td>3</td></tr></tbody></table></div></td></tr></table>"
      ]
     },
     "metadata": {},
     "output_type": "display_data"
    }
   ],
   "source": [
    "row(\n",
    "    g.head(2), \n",
    "    g.agg(pl.all().head(2)), \n",
    "    g.agg(pl.all().head(2)).explode('x')\n",
    ")"
   ]
  },
  {
   "cell_type": "markdown",
   "id": "db6b20c2-83cb-4844-b715-0949de87e945",
   "metadata": {},
   "source": [
    "`.agg()` メソッド内で `map_batches()` を使用してユーザー関数で演算を行う場合は、[「GroupBy.agg() 内で map_batches() を使用する」](map_batches_in_agg) を参照してください。"
   ]
  },
  {
   "attachments": {},
   "cell_type": "markdown",
   "id": "37ef9604-9753-436b-adc6-89db05216b78",
   "metadata": {},
   "source": [
    "(over)=\n",
    "## over\n",
    "\n",
    "演算式の中で `.over()` を使うと、グループごとの処理が可能です。次のプログラムでは、`g` 列のグループごとに `x` 列の平均値を計算しています。`.group_by().agg()` を使うと、各グループにつき 1 行の結果が得られますが、`.over()` を使用すると、計算結果が元のデータに対応するすべての行に反映されます。  "
   ]
  },
  {
   "cell_type": "code",
   "execution_count": 6,
   "id": "8cbd4c0e-0a62-474d-86e6-2d93652f44bd",
   "metadata": {},
   "outputs": [
    {
     "data": {
      "text/html": [
       "<div><style>\n",
       ".dataframe > thead > tr,\n",
       ".dataframe > tbody > tr {\n",
       "  text-align: right;\n",
       "  white-space: pre-wrap;\n",
       "}\n",
       "</style>\n",
       "<small>shape: (6, 3)</small><table border=\"1\" class=\"dataframe\"><thead><tr><th>g</th><th>x</th><th>x_mean</th></tr><tr><td>str</td><td>i64</td><td>f64</td></tr></thead><tbody><tr><td>&quot;A&quot;</td><td>1</td><td>2.5</td></tr><tr><td>&quot;B&quot;</td><td>2</td><td>4.333333</td></tr><tr><td>&quot;C&quot;</td><td>3</td><td>3.0</td></tr><tr><td>&quot;A&quot;</td><td>4</td><td>2.5</td></tr><tr><td>&quot;B&quot;</td><td>5</td><td>4.333333</td></tr><tr><td>&quot;B&quot;</td><td>6</td><td>4.333333</td></tr></tbody></table></div>"
      ],
      "text/plain": [
       "shape: (6, 3)\n",
       "┌─────┬─────┬──────────┐\n",
       "│ g   ┆ x   ┆ x_mean   │\n",
       "│ --- ┆ --- ┆ ---      │\n",
       "│ str ┆ i64 ┆ f64      │\n",
       "╞═════╪═════╪══════════╡\n",
       "│ A   ┆ 1   ┆ 2.5      │\n",
       "│ B   ┆ 2   ┆ 4.333333 │\n",
       "│ C   ┆ 3   ┆ 3.0      │\n",
       "│ A   ┆ 4   ┆ 2.5      │\n",
       "│ B   ┆ 5   ┆ 4.333333 │\n",
       "│ B   ┆ 6   ┆ 4.333333 │\n",
       "└─────┴─────┴──────────┘"
      ]
     },
     "execution_count": 6,
     "metadata": {},
     "output_type": "execute_result"
    }
   ],
   "source": [
    "df.with_columns(\n",
    "    pl.col('x').mean()\n",
    "    .over('g').alias('x_mean')\n",
    ")"
   ]
  },
  {
   "cell_type": "markdown",
   "id": "a4ab53ad-94ee-460f-bde7-17d19ca0e84d",
   "metadata": {},
   "source": [
    "次のプログラムでは、`g` 列のグループごとに `x` 列の平均値を計算し、`x`列から平均値を引いた結果を新しい列`x_sub_mean`に格納します。この演算では、グループごとの計算結果のデータ数は変わらず、計算結果が元データの対応する行に反映されます。  "
   ]
  },
  {
   "cell_type": "code",
   "execution_count": 7,
   "id": "6b637b9d-5cef-4b4a-a561-84b8acb7ef32",
   "metadata": {},
   "outputs": [
    {
     "data": {
      "text/html": [
       "<div><style>\n",
       ".dataframe > thead > tr,\n",
       ".dataframe > tbody > tr {\n",
       "  text-align: right;\n",
       "  white-space: pre-wrap;\n",
       "}\n",
       "</style>\n",
       "<small>shape: (6, 3)</small><table border=\"1\" class=\"dataframe\"><thead><tr><th>g</th><th>x</th><th>x_sub_mean</th></tr><tr><td>str</td><td>i64</td><td>f64</td></tr></thead><tbody><tr><td>&quot;A&quot;</td><td>1</td><td>-1.5</td></tr><tr><td>&quot;B&quot;</td><td>2</td><td>-2.333333</td></tr><tr><td>&quot;C&quot;</td><td>3</td><td>0.0</td></tr><tr><td>&quot;A&quot;</td><td>4</td><td>1.5</td></tr><tr><td>&quot;B&quot;</td><td>5</td><td>0.666667</td></tr><tr><td>&quot;B&quot;</td><td>6</td><td>1.666667</td></tr></tbody></table></div>"
      ],
      "text/plain": [
       "shape: (6, 3)\n",
       "┌─────┬─────┬────────────┐\n",
       "│ g   ┆ x   ┆ x_sub_mean │\n",
       "│ --- ┆ --- ┆ ---        │\n",
       "│ str ┆ i64 ┆ f64        │\n",
       "╞═════╪═════╪════════════╡\n",
       "│ A   ┆ 1   ┆ -1.5       │\n",
       "│ B   ┆ 2   ┆ -2.333333  │\n",
       "│ C   ┆ 3   ┆ 0.0        │\n",
       "│ A   ┆ 4   ┆ 1.5        │\n",
       "│ B   ┆ 5   ┆ 0.666667   │\n",
       "│ B   ┆ 6   ┆ 1.666667   │\n",
       "└─────┴─────┴────────────┘"
      ]
     },
     "execution_count": 7,
     "metadata": {},
     "output_type": "execute_result"
    }
   ],
   "source": [
    "df.with_columns(\n",
    "    (pl.col('x') - pl.col('x').mean())\n",
    "    .over('g')\n",
    "    .alias('x_sub_mean')\n",
    ")"
   ]
  },
  {
   "cell_type": "markdown",
   "id": "3b60aba7-851e-4a32-9268-0f8feb45f4b5",
   "metadata": {},
   "source": [
    "グループごとの計算結果の長さが1でも不変でもない場合、エラーになりますが、`over()`の`mapping_strategy`引数を`'join'`に設定すると、この結果を一つのリストとして元の場所に入れます。次のプログラムでは、`g`列のグループごとに`x`列の先頭2つの値を取得し、それをリストとして新しい列に格納します。"
   ]
  },
  {
   "cell_type": "code",
   "execution_count": 8,
   "id": "a8901c76-757f-4e0b-ad86-76700a37e58d",
   "metadata": {},
   "outputs": [
    {
     "data": {
      "text/html": [
       "<div><style>\n",
       ".dataframe > thead > tr,\n",
       ".dataframe > tbody > tr {\n",
       "  text-align: right;\n",
       "  white-space: pre-wrap;\n",
       "}\n",
       "</style>\n",
       "<small>shape: (6, 3)</small><table border=\"1\" class=\"dataframe\"><thead><tr><th>g</th><th>x</th><th>x_head</th></tr><tr><td>str</td><td>i64</td><td>list[i64]</td></tr></thead><tbody><tr><td>&quot;A&quot;</td><td>1</td><td>[1, 4]</td></tr><tr><td>&quot;B&quot;</td><td>2</td><td>[2, 5]</td></tr><tr><td>&quot;C&quot;</td><td>3</td><td>[3]</td></tr><tr><td>&quot;A&quot;</td><td>4</td><td>[1, 4]</td></tr><tr><td>&quot;B&quot;</td><td>5</td><td>[2, 5]</td></tr><tr><td>&quot;B&quot;</td><td>6</td><td>[2, 5]</td></tr></tbody></table></div>"
      ],
      "text/plain": [
       "shape: (6, 3)\n",
       "┌─────┬─────┬───────────┐\n",
       "│ g   ┆ x   ┆ x_head    │\n",
       "│ --- ┆ --- ┆ ---       │\n",
       "│ str ┆ i64 ┆ list[i64] │\n",
       "╞═════╪═════╪═══════════╡\n",
       "│ A   ┆ 1   ┆ [1, 4]    │\n",
       "│ B   ┆ 2   ┆ [2, 5]    │\n",
       "│ C   ┆ 3   ┆ [3]       │\n",
       "│ A   ┆ 4   ┆ [1, 4]    │\n",
       "│ B   ┆ 5   ┆ [2, 5]    │\n",
       "│ B   ┆ 6   ┆ [2, 5]    │\n",
       "└─────┴─────┴───────────┘"
      ]
     },
     "execution_count": 8,
     "metadata": {},
     "output_type": "execute_result"
    }
   ],
   "source": [
    "df.with_columns(\n",
    "    pl.col('x').head(2)\n",
    "    .over('g', mapping_strategy='join')\n",
    "    .alias('x_head')\n",
    ")"
   ]
  },
  {
   "cell_type": "markdown",
   "id": "0fcfc86a-8953-4697-8fbd-9357e4d3b1c5",
   "metadata": {},
   "source": [
    "次のプログラムでは、`g`列のグループごとに`x`列の最小値と最大値を取得し、それをリストとして新しい列に格納します。"
   ]
  },
  {
   "cell_type": "code",
   "execution_count": 9,
   "id": "e415ddfc-d7c7-4406-af8e-850dbe917d1b",
   "metadata": {},
   "outputs": [
    {
     "data": {
      "text/html": [
       "<div><style>\n",
       ".dataframe > thead > tr,\n",
       ".dataframe > tbody > tr {\n",
       "  text-align: right;\n",
       "  white-space: pre-wrap;\n",
       "}\n",
       "</style>\n",
       "<small>shape: (6, 3)</small><table border=\"1\" class=\"dataframe\"><thead><tr><th>g</th><th>x</th><th>x_min_max</th></tr><tr><td>str</td><td>i64</td><td>list[i64]</td></tr></thead><tbody><tr><td>&quot;A&quot;</td><td>1</td><td>[1, 4]</td></tr><tr><td>&quot;B&quot;</td><td>2</td><td>[2, 6]</td></tr><tr><td>&quot;C&quot;</td><td>3</td><td>[3, 3]</td></tr><tr><td>&quot;A&quot;</td><td>4</td><td>[1, 4]</td></tr><tr><td>&quot;B&quot;</td><td>5</td><td>[2, 6]</td></tr><tr><td>&quot;B&quot;</td><td>6</td><td>[2, 6]</td></tr></tbody></table></div>"
      ],
      "text/plain": [
       "shape: (6, 3)\n",
       "┌─────┬─────┬───────────┐\n",
       "│ g   ┆ x   ┆ x_min_max │\n",
       "│ --- ┆ --- ┆ ---       │\n",
       "│ str ┆ i64 ┆ list[i64] │\n",
       "╞═════╪═════╪═══════════╡\n",
       "│ A   ┆ 1   ┆ [1, 4]    │\n",
       "│ B   ┆ 2   ┆ [2, 6]    │\n",
       "│ C   ┆ 3   ┆ [3, 3]    │\n",
       "│ A   ┆ 4   ┆ [1, 4]    │\n",
       "│ B   ┆ 5   ┆ [2, 6]    │\n",
       "│ B   ┆ 6   ┆ [2, 6]    │\n",
       "└─────┴─────┴───────────┘"
      ]
     },
     "execution_count": 9,
     "metadata": {},
     "output_type": "execute_result"
    }
   ],
   "source": [
    "df.with_columns(\n",
    "    pl.col('x').min().append(pl.col('x').max())\n",
    "    .over('g', mapping_strategy='join')\n",
    "    .alias('x_min_max')\n",
    ")"
   ]
  },
  {
   "cell_type": "markdown",
   "id": "82771504-730a-4493-84fa-0a5415b61581",
   "metadata": {},
   "source": [
    "`mapping_strategy`を`'explode'`に設定すると、各グループの結果を縦に結合します。これは、`group_by().agg().explode()`と同じ結果になります。次のプログラムでは、`g`列のグループごとに`x`列の先頭2つの値を取得し、各グループの結果を縦に結合します。"
   ]
  },
  {
   "cell_type": "code",
   "execution_count": 10,
   "id": "63b1df04-89bc-4f48-a541-93dcae4cb557",
   "metadata": {},
   "outputs": [
    {
     "data": {
      "text/html": [
       "<div><style>\n",
       ".dataframe > thead > tr,\n",
       ".dataframe > tbody > tr {\n",
       "  text-align: right;\n",
       "  white-space: pre-wrap;\n",
       "}\n",
       "</style>\n",
       "<small>shape: (5, 2)</small><table border=\"1\" class=\"dataframe\"><thead><tr><th>g</th><th>x</th></tr><tr><td>str</td><td>i64</td></tr></thead><tbody><tr><td>&quot;A&quot;</td><td>1</td></tr><tr><td>&quot;A&quot;</td><td>4</td></tr><tr><td>&quot;B&quot;</td><td>2</td></tr><tr><td>&quot;B&quot;</td><td>5</td></tr><tr><td>&quot;C&quot;</td><td>3</td></tr></tbody></table></div>"
      ],
      "text/plain": [
       "shape: (5, 2)\n",
       "┌─────┬─────┐\n",
       "│ g   ┆ x   │\n",
       "│ --- ┆ --- │\n",
       "│ str ┆ i64 │\n",
       "╞═════╪═════╡\n",
       "│ A   ┆ 1   │\n",
       "│ A   ┆ 4   │\n",
       "│ B   ┆ 2   │\n",
       "│ B   ┆ 5   │\n",
       "│ C   ┆ 3   │\n",
       "└─────┴─────┘"
      ]
     },
     "execution_count": 10,
     "metadata": {},
     "output_type": "execute_result"
    }
   ],
   "source": [
    "df.select(\n",
    "    pl.col('g', 'x').head(2)\n",
    "    .over('g', mapping_strategy='explode')\n",
    ")"
   ]
  },
  {
   "cell_type": "markdown",
   "id": "e3a16940-cbdd-42a5-b36b-9ccefd8fda40",
   "metadata": {},
   "source": [
    "`filter()`メソッドにも`over()`の式を使うことができます。次のプログラムでは、`g`列のグループごとに、`x`列の値がそのグループの平均値以上の行をフィルタリングして出力します。"
   ]
  },
  {
   "cell_type": "code",
   "execution_count": 11,
   "id": "38048f48-0f95-4cae-af09-3b2cc94140f2",
   "metadata": {},
   "outputs": [
    {
     "data": {
      "text/html": [
       "<div><style>\n",
       ".dataframe > thead > tr,\n",
       ".dataframe > tbody > tr {\n",
       "  text-align: right;\n",
       "  white-space: pre-wrap;\n",
       "}\n",
       "</style>\n",
       "<small>shape: (4, 2)</small><table border=\"1\" class=\"dataframe\"><thead><tr><th>g</th><th>x</th></tr><tr><td>str</td><td>i64</td></tr></thead><tbody><tr><td>&quot;C&quot;</td><td>3</td></tr><tr><td>&quot;A&quot;</td><td>4</td></tr><tr><td>&quot;B&quot;</td><td>5</td></tr><tr><td>&quot;B&quot;</td><td>6</td></tr></tbody></table></div>"
      ],
      "text/plain": [
       "shape: (4, 2)\n",
       "┌─────┬─────┐\n",
       "│ g   ┆ x   │\n",
       "│ --- ┆ --- │\n",
       "│ str ┆ i64 │\n",
       "╞═════╪═════╡\n",
       "│ C   ┆ 3   │\n",
       "│ A   ┆ 4   │\n",
       "│ B   ┆ 5   │\n",
       "│ B   ┆ 6   │\n",
       "└─────┴─────┘"
      ]
     },
     "execution_count": 11,
     "metadata": {},
     "output_type": "execute_result"
    }
   ],
   "source": [
    "df.filter(\n",
    "    (pl.col('x') >= pl.col('x').mean())\n",
    "    .over('g')\n",
    ")"
   ]
  },
  {
   "attachments": {},
   "cell_type": "markdown",
   "id": "717eaf6b-0c95-4e97-b1ef-1fce4cb42531",
   "metadata": {},
   "source": [
    "## group_by_dynamic\n",
    "\n",
    "`group_by_dynamic(index)` メソッドは、`index` 列の値に基づいて動的にグループ化を行います。グループの開始点 `start` は、`start_by`、`every`、`offset` などの引数、および `index` 列の最初の値 `value` によって決まります。`start_by` 引数がデフォルト値の `\"window\"` の場合、`start` は次のように計算されます：\n",
    "\n",
    "```\n",
    "start = value - (value - offset) % every\n",
    "```\n",
    "\n",
    "`start_by` 引数が `\"datapoint\"` の場合、`start` は最初の値 `value` になります。\n",
    "\n",
    "`start` の値が決まると、次の式で各グループの範囲が計算されます。`period` 引数のデフォルト値は `every` と同じです。\n",
    "\n",
    "```\n",
    "[start, start + period)\n",
    "[start + every, start + every + period)\n",
    "...\n",
    "[start + i * every, start + i * every + period)\n",
    "```\n",
    "\n",
    "各グループの開始値は、そのグループのキーになります。`include_boundaries` 引数が `True` の場合、集計結果に `_lower_boundary` と `_upper_boundary` の 2 つの列が追加され、それぞれグループの開始値（含まれる）と終了値（含まれない）を表します。\n",
    "\n",
    "たとえば、次のプログラムでは、`index` 列の値に基づき、3 単位の移動量で 3 単位ごとにグループ化し、それぞれのグループに対して集計を行います。  "
   ]
  },
  {
   "cell_type": "code",
   "execution_count": 19,
   "id": "1652e2b2-8014-463d-9771-54a99309fd61",
   "metadata": {},
   "outputs": [
    {
     "data": {
      "text/html": [
       "<table><tr><td><div><style>\n",
       ".dataframe > thead > tr,\n",
       ".dataframe > tbody > tr {\n",
       "  text-align: right;\n",
       "  white-space: pre-wrap;\n",
       "}\n",
       "</style>\n",
       "<small>shape: (9, 1)</small><table border=\"1\" class=\"dataframe\"><thead><tr><th>index</th></tr><tr><td>i64</td></tr></thead><tbody><tr><td>1</td></tr><tr><td>2</td></tr><tr><td>4</td></tr><tr><td>5</td></tr><tr><td>6</td></tr><tr><td>8</td></tr><tr><td>9</td></tr><tr><td>10</td></tr><tr><td>11</td></tr></tbody></table></div></td><td><div><style>\n",
       ".dataframe > thead > tr,\n",
       ".dataframe > tbody > tr {\n",
       "  text-align: right;\n",
       "  white-space: pre-wrap;\n",
       "}\n",
       "</style>\n",
       "<small>shape: (4, 4)</small><table border=\"1\" class=\"dataframe\"><thead><tr><th>_lower_boundary</th><th>_upper_boundary</th><th>index</th><th>index_in_group</th></tr><tr><td>i64</td><td>i64</td><td>i64</td><td>list[i64]</td></tr></thead><tbody><tr><td>0</td><td>3</td><td>0</td><td>[1, 2]</td></tr><tr><td>3</td><td>6</td><td>3</td><td>[4, 5]</td></tr><tr><td>6</td><td>9</td><td>6</td><td>[6, 8]</td></tr><tr><td>9</td><td>12</td><td>9</td><td>[9, 10, 11]</td></tr></tbody></table></div></td></tr></table>"
      ]
     },
     "metadata": {},
     "output_type": "display_data"
    }
   ],
   "source": [
    "index = [1, 2, 4, 5, 6, 8, 9, 10, 11]\n",
    "df = pl.DataFrame(dict(index=index)).set_sorted('index')\n",
    "\n",
    "g = df.group_by_dynamic('index', every='3i', offset='0i', include_boundaries=True)\n",
    "row(df, g.agg(pl.col(\"index\").alias('index_in_group')))"
   ]
  },
  {
   "cell_type": "markdown",
   "id": "afbfe4ad-1e95-4a99-81bd-e6c6a3ff0607",
   "metadata": {},
   "source": [
    "分かりやすくするために、本書では `plot_group_by_dynamic()` 関数を使用して、`group_by_dynamic()` の結果を可視化します。出力されるグラフでは、青い線がグループ化の基準となる `index` 列の値を示し、赤い線がグループ化後のキー列の値を表します。緑のブロックは各グループの範囲を示しており、この関数は各グループに属する `index` の値も出力します。  "
   ]
  },
  {
   "cell_type": "code",
   "execution_count": 82,
   "id": "e0d6849b-f01d-4c36-882e-9f5867eb6daa",
   "metadata": {},
   "outputs": [
    {
     "name": "stdout",
     "output_type": "stream",
     "text": [
      "[[1, 2], [4, 5], [6, 8], [9, 10, 11]]\n"
     ]
    },
    {
     "data": {
      "image/png": "[encoded data removed]",
      "text/plain": [
       "<Figure size 1200x60 with 1 Axes>"
      ]
     },
     "execution_count": 82,
     "metadata": {},
     "output_type": "execute_result"
    }
   ],
   "source": [
    "from helper import utils\n",
    "from helper.utils import plot_group_by_dynamic\n",
    "from matplotlib import pyplot as plt\n",
    "plt.ioff()\n",
    "plot_group_by_dynamic(index, every='3i', offset='0i')"
   ]
  },
  {
   "cell_type": "markdown",
   "id": "bdaf191e-0be5-432f-8195-2588a081d977",
   "metadata": {},
   "source": [
    "次に、`offset` 引数の影響を示すグラフを出力します。"
   ]
  },
  {
   "cell_type": "code",
   "execution_count": 77,
   "id": "3be7ba27-bf79-4f8f-99d5-51602f1c5f9b",
   "metadata": {},
   "outputs": [
    {
     "name": "stdout",
     "output_type": "stream",
     "text": [
      "[[1, 2], [4, 5, 6], [8, 9], [10, 11]]\n"
     ]
    },
    {
     "data": {
      "image/png": "[encoded data removed]",
      "text/plain": [
       "<Figure size 1200x60 with 1 Axes>"
      ]
     },
     "execution_count": 77,
     "metadata": {},
     "output_type": "execute_result"
    }
   ],
   "source": [
    "plot_group_by_dynamic(index, every='3i', offset='1i')"
   ]
  },
  {
   "cell_type": "code",
   "execution_count": 78,
   "id": "7457a6f8-5c7a-4f60-8af3-57ad7f6fc0ef",
   "metadata": {},
   "outputs": [
    {
     "name": "stdout",
     "output_type": "stream",
     "text": [
      "[[1], [2, 4], [5, 6], [8, 9, 10], [11]]\n"
     ]
    },
    {
     "data": {
      "image/png": "[encoded data removed]",
      "text/plain": [
       "<Figure size 1200x60 with 1 Axes>"
      ]
     },
     "execution_count": 78,
     "metadata": {},
     "output_type": "execute_result"
    }
   ],
   "source": [
    "plot_group_by_dynamic(index, every='3i', offset='2i')"
   ]
  },
  {
   "cell_type": "code",
   "execution_count": 79,
   "id": "4beeb5d2-0ed8-48fb-992e-33593f9d3b1f",
   "metadata": {},
   "outputs": [
    {
     "name": "stdout",
     "output_type": "stream",
     "text": [
      "[[1], [2, 4], [5, 6], [8, 9, 10], [11]]\n"
     ]
    },
    {
     "data": {
      "image/png": "[encoded data removed]",
      "text/plain": [
       "<Figure size 1200x60 with 1 Axes>"
      ]
     },
     "execution_count": 79,
     "metadata": {},
     "output_type": "execute_result"
    }
   ],
   "source": [
    "plot_group_by_dynamic(index, every='3i', offset='-1i')"
   ]
  },
  {
   "cell_type": "markdown",
   "id": "9482eafa-1ad1-4d75-9c26-f5c574c4b37f",
   "metadata": {},
   "source": [
    "`start_by` 引数を `'datapoint'` に設定すると、最初のグループの開始値は `index` 列の最初の値に固定されるため、`offset` 引数は無効になります。"
   ]
  },
  {
   "cell_type": "code",
   "execution_count": 80,
   "id": "adab4bec-76f5-474a-b4e8-80fb85834f94",
   "metadata": {},
   "outputs": [
    {
     "name": "stdout",
     "output_type": "stream",
     "text": [
      "[[1, 2], [4, 5, 6], [8, 9], [10, 11]]\n"
     ]
    },
    {
     "data": {
      "image/png": "[encoded data removed]",
      "text/plain": [
       "<Figure size 1200x60 with 1 Axes>"
      ]
     },
     "execution_count": 80,
     "metadata": {},
     "output_type": "execute_result"
    }
   ],
   "source": [
    "plot_group_by_dynamic(index, every='3i', start_by='datapoint')"
   ]
  },
  {
   "cell_type": "markdown",
   "id": "5a529907-b772-4156-8e1c-9fdf8ad57b05",
   "metadata": {},
   "source": [
    "`period` 引数のデフォルト値は `every` と同じであるため、各グループのウィンドウは重なりません。しかし、`period` を `every` より大きく設定すると、ウィンドウが重なり、一部の `index` 値が複数のグループに属するようになります。"
   ]
  },
  {
   "cell_type": "code",
   "execution_count": 81,
   "id": "5a371212-194a-4f24-8856-19fcfeb23991",
   "metadata": {},
   "outputs": [
    {
     "name": "stdout",
     "output_type": "stream",
     "text": [
      "[[1, 2, 4], [4, 5, 6], [6, 8, 9, 10], [9, 10, 11]]\n"
     ]
    },
    {
     "data": {
      "image/png": "[encoded data removed]",
      "text/plain": [
       "<Figure size 1200x60 with 1 Axes>"
      ]
     },
     "execution_count": 81,
     "metadata": {},
     "output_type": "execute_result"
    }
   ],
   "source": [
    "plot_group_by_dynamic(index, every='3i', period='5i')"
   ]
  },
  {
   "cell_type": "markdown",
   "id": "fbfa2c5b-8832-4c30-b16c-6cbdac005ddc",
   "metadata": {},
   "source": [
    "次のプログラムでは、`index` 列に基づいて 1 単位ずつ移動しながら、3 単位ごとにグループ化を行います。"
   ]
  },
  {
   "cell_type": "code",
   "execution_count": 48,
   "id": "f54e7cf6-71c7-43da-84a9-6b1fd5c380d3",
   "metadata": {},
   "outputs": [
    {
     "data": {
      "text/html": [
       "<table><tr><td><div><style>\n",
       ".dataframe > thead > tr,\n",
       ".dataframe > tbody > tr {\n",
       "  text-align: right;\n",
       "  white-space: pre-wrap;\n",
       "}\n",
       "</style>\n",
       "<small>shape: (9, 1)</small><table border=\"1\" class=\"dataframe\"><thead><tr><th>index</th></tr><tr><td>i64</td></tr></thead><tbody><tr><td>1</td></tr><tr><td>2</td></tr><tr><td>4</td></tr><tr><td>5</td></tr><tr><td>6</td></tr><tr><td>8</td></tr><tr><td>9</td></tr><tr><td>10</td></tr><tr><td>11</td></tr></tbody></table></div></td><td><div><style>\n",
       ".dataframe > thead > tr,\n",
       ".dataframe > tbody > tr {\n",
       "  text-align: right;\n",
       "  white-space: pre-wrap;\n",
       "}\n",
       "</style>\n",
       "<small>shape: (11, 4)</small><table border=\"1\" class=\"dataframe\"><thead><tr><th>_lower_boundary</th><th>_upper_boundary</th><th>index</th><th>index_in_group</th></tr><tr><td>i64</td><td>i64</td><td>i64</td><td>list[i64]</td></tr></thead><tbody><tr><td>1</td><td>4</td><td>1</td><td>[1, 2]</td></tr><tr><td>2</td><td>5</td><td>2</td><td>[2, 4]</td></tr><tr><td>3</td><td>6</td><td>3</td><td>[4, 5]</td></tr><tr><td>4</td><td>7</td><td>4</td><td>[4, 5, 6]</td></tr><tr><td>5</td><td>8</td><td>5</td><td>[5, 6]</td></tr><tr><td>&hellip;</td><td>&hellip;</td><td>&hellip;</td><td>&hellip;</td></tr><tr><td>7</td><td>10</td><td>7</td><td>[8, 9]</td></tr><tr><td>8</td><td>11</td><td>8</td><td>[8, 9, 10]</td></tr><tr><td>9</td><td>12</td><td>9</td><td>[9, 10, 11]</td></tr><tr><td>10</td><td>13</td><td>10</td><td>[10, 11]</td></tr><tr><td>11</td><td>14</td><td>11</td><td>[11]</td></tr></tbody></table></div></td></tr></table>"
      ]
     },
     "metadata": {},
     "output_type": "display_data"
    }
   ],
   "source": [
    "g = df.group_by_dynamic('index', every='1i', period='3i', include_boundaries=True)\n",
    "row(df, g.agg(pl.col(\"index\").alias('index_in_group')))"
   ]
  },
  {
   "cell_type": "markdown",
   "id": "7a966590-8c08-405e-b7d4-1730e146020f",
   "metadata": {},
   "source": [
    "上の例では、分かりやすくするために整数列を用いてグループ化の方法を示しましたが、実際には時系列データに対してグループ化を行うことが一般的です。時系列データの場合、`every`、`period`、`offset` などの単位は、次のような形式で指定できます：\n",
    "\n",
    "- `1ns`  （1ナノ秒）  \n",
    "- `1us`  （1マイクロ秒）  \n",
    "- `1ms`  （1ミリ秒）  \n",
    "- `1s`   （1秒）  \n",
    "- `1m`   （1分）  \n",
    "- `1h`   （1時間）  \n",
    "- `1d`   （1暦日）  \n",
    "- `1w`   （1暦週）  \n",
    "- `1mo`  （1暦月）  \n",
    "- `1q`   （1暦四半期）  \n",
    "- `1y`   （1暦年）  \n",
    "\n",
    "これらの単位を使用することで、時系列データを柔軟にグループ化できます。"
   ]
  },
  {
   "attachments": {},
   "cell_type": "markdown",
   "id": "0f5c11cb-13c0-4d95-af0e-9cf79247b705",
   "metadata": {},
   "source": [
    "## rolling  \n",
    "\n",
    "`rolling(index)` メソッドは、`index` 列の値に基づいてローリングウィンドウを作成します。`period` および `offset` 引数を指定することで、ウィンドウの相対位置を調整できます。デフォルトでは、`offset` の値は `-period` に設定されています。  \n",
    "\n",
    "ローリングウィンドウの範囲は次のように決まります。`()` 側の値は含まれず、`[]` 側の値は含まれるため、開始値は除外され、終了値は含まれます。  \n",
    "\n",
    "```\n",
    "(index[0] + offset, index[0] + offset + period]\n",
    "...\n",
    "(index[i] + offset, index[i] + offset + period]\n",
    "```\n",
    "\n",
    "次のプログラムでは、`index` 列に基づいて、直前の 2 つのデータ点を含む 3 点のローリングウィンドウを作成し、そのウィンドウ内で集計を行います。  "
   ]
  },
  {
   "cell_type": "code",
   "execution_count": 13,
   "id": "21873346-2ff9-4467-9e34-29f7fe05ba67",
   "metadata": {},
   "outputs": [
    {
     "data": {
      "text/html": [
       "<div><style>\n",
       ".dataframe > thead > tr,\n",
       ".dataframe > tbody > tr {\n",
       "  text-align: right;\n",
       "  white-space: pre-wrap;\n",
       "}\n",
       "</style>\n",
       "<small>shape: (7, 2)</small><table border=\"1\" class=\"dataframe\"><thead><tr><th>index</th><th>value</th></tr><tr><td>i64</td><td>list[i64]</td></tr></thead><tbody><tr><td>4</td><td>[4]</td></tr><tr><td>5</td><td>[4, 5]</td></tr><tr><td>9</td><td>[9]</td></tr><tr><td>10</td><td>[9, 10]</td></tr><tr><td>11</td><td>[9, 10, 11]</td></tr><tr><td>12</td><td>[10, 11, 12]</td></tr><tr><td>13</td><td>[11, 12, 13]</td></tr></tbody></table></div>"
      ],
      "text/plain": [
       "shape: (7, 2)\n",
       "┌───────┬──────────────┐\n",
       "│ index ┆ value        │\n",
       "│ ---   ┆ ---          │\n",
       "│ i64   ┆ list[i64]    │\n",
       "╞═══════╪══════════════╡\n",
       "│ 4     ┆ [4]          │\n",
       "│ 5     ┆ [4, 5]       │\n",
       "│ 9     ┆ [9]          │\n",
       "│ 10    ┆ [9, 10]      │\n",
       "│ 11    ┆ [9, 10, 11]  │\n",
       "│ 12    ┆ [10, 11, 12] │\n",
       "│ 13    ┆ [11, 12, 13] │\n",
       "└───────┴──────────────┘"
      ]
     },
     "execution_count": 13,
     "metadata": {},
     "output_type": "execute_result"
    }
   ],
   "source": [
    "g = df.rolling('index', period='3i')\n",
    "g.agg(pl.col(\"value\"))"
   ]
  },
  {
   "cell_type": "markdown",
   "id": "48097c20-e15c-4089-a58b-f44f0e12234c",
   "metadata": {},
   "source": [
    "次のプログラムでは、`index` 列に基づき、各データ点とその後の 2 つのデータ点を含む 3 点のローリングウィンドウを作成し、そのウィンドウ内で集計を行います。  "
   ]
  },
  {
   "cell_type": "code",
   "execution_count": 14,
   "id": "e5abb804-4859-4551-b9f4-bc03aff08652",
   "metadata": {},
   "outputs": [
    {
     "data": {
      "text/html": [
       "<div><style>\n",
       ".dataframe > thead > tr,\n",
       ".dataframe > tbody > tr {\n",
       "  text-align: right;\n",
       "  white-space: pre-wrap;\n",
       "}\n",
       "</style>\n",
       "<small>shape: (7, 2)</small><table border=\"1\" class=\"dataframe\"><thead><tr><th>index</th><th>value</th></tr><tr><td>i64</td><td>list[i64]</td></tr></thead><tbody><tr><td>4</td><td>[4, 5]</td></tr><tr><td>5</td><td>[5]</td></tr><tr><td>9</td><td>[9, 10, 11]</td></tr><tr><td>10</td><td>[10, 11, 12]</td></tr><tr><td>11</td><td>[11, 12, 13]</td></tr><tr><td>12</td><td>[12, 13]</td></tr><tr><td>13</td><td>[13]</td></tr></tbody></table></div>"
      ],
      "text/plain": [
       "shape: (7, 2)\n",
       "┌───────┬──────────────┐\n",
       "│ index ┆ value        │\n",
       "│ ---   ┆ ---          │\n",
       "│ i64   ┆ list[i64]    │\n",
       "╞═══════╪══════════════╡\n",
       "│ 4     ┆ [4, 5]       │\n",
       "│ 5     ┆ [5]          │\n",
       "│ 9     ┆ [9, 10, 11]  │\n",
       "│ 10    ┆ [10, 11, 12] │\n",
       "│ 11    ┆ [11, 12, 13] │\n",
       "│ 12    ┆ [12, 13]     │\n",
       "│ 13    ┆ [13]         │\n",
       "└───────┴──────────────┘"
      ]
     },
     "execution_count": 14,
     "metadata": {},
     "output_type": "execute_result"
    }
   ],
   "source": [
    "g = df.rolling('index', period='3i', offset='-1i')\n",
    "g.agg(pl.col(\"value\"))"
   ]
  },
  {
   "cell_type": "markdown",
   "id": "69740434-8851-4aa6-bb02-728377a04884",
   "metadata": {},
   "source": [
    "固定点数の移動窓で処理する場合は、`int_range()`で作成した行番号に対して`rolling`処理を行います。以下のプログラムでは、データフレームの各行に対して、前の2つの行を含む合計3行のローリングウィンドウを適用し、`A`列の最大値と`B`列の最小値を計算します。\n",
    "\n",
    "次のコードでは、`int_range(0, pl.len())`を使って行番号を生成し、その行番号に基づいてローリングウィンドウを作成します。ウィンドウの期間は3行（`period='3i'`）で、`offset='-2i'`により、各ウィンドウは現在の行の2行前から始まります。集計では、`A`列の最大値と`B`列の最小値が計算され、結果として各行に対してこれらの統計値が追加されます。"
   ]
  },
  {
   "cell_type": "code",
   "execution_count": 15,
   "id": "a6c8f158-6526-4a2d-871e-4530638993db",
   "metadata": {},
   "outputs": [
    {
     "data": {
      "text/html": [
       "<div><style>\n",
       ".dataframe > thead > tr,\n",
       ".dataframe > tbody > tr {\n",
       "  text-align: right;\n",
       "  white-space: pre-wrap;\n",
       "}\n",
       "</style>\n",
       "<small>shape: (8, 5)</small><table border=\"1\" class=\"dataframe\"><thead><tr><th>index</th><th>A</th><th>B</th><th>A_max</th><th>B_min</th></tr><tr><td>i64</td><td>list[i64]</td><td>list[i64]</td><td>i64</td><td>i64</td></tr></thead><tbody><tr><td>0</td><td>[5, 3]</td><td>[10, 20]</td><td>5</td><td>10</td></tr><tr><td>1</td><td>[5, 3, 8]</td><td>[10, 20, 10]</td><td>8</td><td>10</td></tr><tr><td>2</td><td>[3, 8, 9]</td><td>[20, 10, 2]</td><td>9</td><td>2</td></tr><tr><td>3</td><td>[8, 9, 10]</td><td>[10, 2, 3]</td><td>10</td><td>2</td></tr><tr><td>4</td><td>[9, 10, 1]</td><td>[2, 3, 5]</td><td>10</td><td>2</td></tr><tr><td>5</td><td>[10, 1, 2]</td><td>[3, 5, 0]</td><td>10</td><td>0</td></tr><tr><td>6</td><td>[1, 2, 4]</td><td>[5, 0, 7]</td><td>4</td><td>0</td></tr><tr><td>7</td><td>[2, 4]</td><td>[0, 7]</td><td>4</td><td>0</td></tr></tbody></table></div>"
      ],
      "text/plain": [
       "shape: (8, 5)\n",
       "┌───────┬────────────┬──────────────┬───────┬───────┐\n",
       "│ index ┆ A          ┆ B            ┆ A_max ┆ B_min │\n",
       "│ ---   ┆ ---        ┆ ---          ┆ ---   ┆ ---   │\n",
       "│ i64   ┆ list[i64]  ┆ list[i64]    ┆ i64   ┆ i64   │\n",
       "╞═══════╪════════════╪══════════════╪═══════╪═══════╡\n",
       "│ 0     ┆ [5, 3]     ┆ [10, 20]     ┆ 5     ┆ 10    │\n",
       "│ 1     ┆ [5, 3, 8]  ┆ [10, 20, 10] ┆ 8     ┆ 10    │\n",
       "│ 2     ┆ [3, 8, 9]  ┆ [20, 10, 2]  ┆ 9     ┆ 2     │\n",
       "│ 3     ┆ [8, 9, 10] ┆ [10, 2, 3]   ┆ 10    ┆ 2     │\n",
       "│ 4     ┆ [9, 10, 1] ┆ [2, 3, 5]    ┆ 10    ┆ 2     │\n",
       "│ 5     ┆ [10, 1, 2] ┆ [3, 5, 0]    ┆ 10    ┆ 0     │\n",
       "│ 6     ┆ [1, 2, 4]  ┆ [5, 0, 7]    ┆ 4     ┆ 0     │\n",
       "│ 7     ┆ [2, 4]     ┆ [0, 7]       ┆ 4     ┆ 0     │\n",
       "└───────┴────────────┴──────────────┴───────┴───────┘"
      ]
     },
     "execution_count": 15,
     "metadata": {},
     "output_type": "execute_result"
    }
   ],
   "source": [
    "df = pl.DataFrame(\n",
    "    dict(\n",
    "        A=[5, 3, 8, 9, 10, 1, 2, 4],\n",
    "        B=[10, 20, 10, 2, 3, 5, 0, 7]\n",
    "    )\n",
    ")\n",
    "\n",
    "(\n",
    "    df\n",
    "    .rolling(\n",
    "        pl.int_range(0, pl.len()).alias('index'), \n",
    "        period='3i', \n",
    "        offset='-2i'\n",
    "    )\n",
    "    .agg(\n",
    "        pl.col.A,\n",
    "        pl.col.B,\n",
    "        pl.col.A.max().alias('A_max'),\n",
    "        pl.col.B.min().alias('B_min'),\n",
    "    )\n",
    ")"
   ]
  },
  {
   "cell_type": "markdown",
   "id": "5b0f7c51-7293-469d-ba60-e5a2f9919db2",
   "metadata": {},
   "source": [
    "Polars には `Expr.rolling()` も用意されています。引数は `DataFrame.rolling()` と同じですが、`Expr.rolling()` は列単位で適用できるため、より柔軟なデータ処理が可能です。`.rolling()` はローリングウィンドウ内の要素をコンテキストとして使用し、直前の演算に適用されます。\n",
    "\n",
    "次の例では、同じ `rolling()` 演算を以下の 2 つの式に適用しています。  \n",
    "\n",
    "- **`pl.col('A')`**: 集計処理がないため、ローリングウィンドウ内の要素をリストとしてそのまま出力します。  \n",
    "- **`pl.col('A').max()`**: ローリングウィンドウ内の要素リストに対して `max()` を適用し、各ウィンドウ内の最大値を計算して出力します。"
   ]
  },
  {
   "cell_type": "code",
   "execution_count": 20,
   "id": "f78ae4fa-7544-4ef6-b9a6-dc5d7fc0f266",
   "metadata": {},
   "outputs": [
    {
     "data": {
      "text/html": [
       "<div><style>\n",
       ".dataframe > thead > tr,\n",
       ".dataframe > tbody > tr {\n",
       "  text-align: right;\n",
       "  white-space: pre-wrap;\n",
       "}\n",
       "</style>\n",
       "<small>shape: (8, 2)</small><table border=\"1\" class=\"dataframe\"><thead><tr><th>A</th><th>A_max</th></tr><tr><td>list[i64]</td><td>i64</td></tr></thead><tbody><tr><td>[5, 3]</td><td>5</td></tr><tr><td>[5, 3, 8]</td><td>8</td></tr><tr><td>[3, 8, 9]</td><td>9</td></tr><tr><td>[8, 9, 10]</td><td>10</td></tr><tr><td>[9, 10, 1]</td><td>10</td></tr><tr><td>[10, 1, 2]</td><td>10</td></tr><tr><td>[1, 2, 4]</td><td>4</td></tr><tr><td>[2, 4]</td><td>4</td></tr></tbody></table></div>"
      ],
      "text/plain": [
       "shape: (8, 2)\n",
       "┌────────────┬───────┐\n",
       "│ A          ┆ A_max │\n",
       "│ ---        ┆ ---   │\n",
       "│ list[i64]  ┆ i64   │\n",
       "╞════════════╪═══════╡\n",
       "│ [5, 3]     ┆ 5     │\n",
       "│ [5, 3, 8]  ┆ 8     │\n",
       "│ [3, 8, 9]  ┆ 9     │\n",
       "│ [8, 9, 10] ┆ 10    │\n",
       "│ [9, 10, 1] ┆ 10    │\n",
       "│ [10, 1, 2] ┆ 10    │\n",
       "│ [1, 2, 4]  ┆ 4     │\n",
       "│ [2, 4]     ┆ 4     │\n",
       "└────────────┴───────┘"
      ]
     },
     "execution_count": 20,
     "metadata": {},
     "output_type": "execute_result"
    }
   ],
   "source": [
    "df.with_row_index().select(\n",
    "    pl.col('A').rolling('index', period='3i', offset='-2i'),\n",
    "    pl.col('A').max().rolling('index', period='3i', offset='-2i').alias('A_max')\n",
    ")"
   ]
  },
  {
   "cell_type": "markdown",
   "id": "c2848c43-ce4c-4403-8d41-3278e51ae058",
   "metadata": {},
   "source": [
    "注意すべき点は、`.rolling()` は **直前のすべての演算式に対して** 適用されることです。  \n",
    "\n",
    "1. **`pl.col('A').diff().max().rolling(...)` の挙動** ❶\n",
    "   - まず、A列の要素がローリングウィンドウに分割されます。  \n",
    "   - その後、それぞれのウィンドウ内で `.diff().max()` が適用されます。  \n",
    "\n",
    "2. **A列の差分を計算した後にローリングウィンドウを適用する方法** ❷\n",
    "   - まず `dA = pl.col('A').diff()` を計算し、新しい列 `dA` を作成します。  \n",
    "   - 次に、`dA` に対して `pl.col('dA').max().rolling(...)` を計算します。  \n",
    "\n",
    "この違いを理解することで、意図した通りにローリングウィンドウを適用できます。"
   ]
  },
  {
   "cell_type": "code",
   "execution_count": 34,
   "id": "4f7d957b-bdf4-4bb7-9ade-5b6945dcdc45",
   "metadata": {},
   "outputs": [
    {
     "data": {
      "text/html": [
       "<table><tr><td><div><style>\n",
       ".dataframe > thead > tr,\n",
       ".dataframe > tbody > tr {\n",
       "  text-align: right;\n",
       "  white-space: pre-wrap;\n",
       "}\n",
       "</style>\n",
       "<small>shape: (8, 4)</small><table border=\"1\" class=\"dataframe\"><thead><tr><th>index</th><th>A</th><th>dA_rolling</th><th>dA_max_rolling</th></tr><tr><td>u32</td><td>list[i64]</td><td>list[i64]</td><td>i64</td></tr></thead><tbody><tr><td>0</td><td>[5]</td><td>[null]</td><td>null</td></tr><tr><td>1</td><td>[5, 3]</td><td>[null, -2]</td><td>-2</td></tr><tr><td>2</td><td>[5, 3, 8]</td><td>[null, -2, 5]</td><td>5</td></tr><tr><td>3</td><td>[3, 8, 9]</td><td>[null, 5, 1]</td><td>5</td></tr><tr><td>4</td><td>[8, 9, 10]</td><td>[null, 1, 1]</td><td>1</td></tr><tr><td>5</td><td>[9, 10, 1]</td><td>[null, 1, -9]</td><td>1</td></tr><tr><td>6</td><td>[10, 1, 2]</td><td>[null, -9, 1]</td><td>1</td></tr><tr><td>7</td><td>[1, 2, 4]</td><td>[null, 1, 2]</td><td>2</td></tr></tbody></table></div></td><td><div><style>\n",
       ".dataframe > thead > tr,\n",
       ".dataframe > tbody > tr {\n",
       "  text-align: right;\n",
       "  white-space: pre-wrap;\n",
       "}\n",
       "</style>\n",
       "<small>shape: (8, 5)</small><table border=\"1\" class=\"dataframe\"><thead><tr><th>index</th><th>A</th><th>dA</th><th>dA_rolling</th><th>dA_max_rolling</th></tr><tr><td>u32</td><td>i64</td><td>i64</td><td>list[i64]</td><td>i64</td></tr></thead><tbody><tr><td>0</td><td>5</td><td>null</td><td>[null]</td><td>null</td></tr><tr><td>1</td><td>3</td><td>-2</td><td>[null, -2]</td><td>-2</td></tr><tr><td>2</td><td>8</td><td>5</td><td>[null, -2, 5]</td><td>5</td></tr><tr><td>3</td><td>9</td><td>1</td><td>[-2, 5, 1]</td><td>5</td></tr><tr><td>4</td><td>10</td><td>1</td><td>[5, 1, 1]</td><td>5</td></tr><tr><td>5</td><td>1</td><td>-9</td><td>[1, 1, -9]</td><td>1</td></tr><tr><td>6</td><td>2</td><td>1</td><td>[1, -9, 1]</td><td>1</td></tr><tr><td>7</td><td>4</td><td>2</td><td>[-9, 1, 2]</td><td>2</td></tr></tbody></table></div></td></tr></table>"
      ]
     },
     "metadata": {},
     "output_type": "display_data"
    }
   ],
   "source": [
    "df1 = df.select('A').with_row_index().with_columns(\n",
    "    pl.col('A').rolling('index', period='3i'),\n",
    "    pl.col('A').diff().rolling('index', period='3i').alias('dA_rolling'),\n",
    "    pl.col('A').diff().max().rolling('index', period='3i').alias('dA_max_rolling') #❶\n",
    ")\n",
    "\n",
    "df2 = df.select('A').with_row_index().with_columns(\n",
    "    pl.col('A').diff().alias('dA') #❷\n",
    ").with_columns(\n",
    "    pl.col('dA').rolling('index', period='3i').alias('dA_rolling'),\n",
    "    pl.col('dA').max().rolling('index', period='3i').alias('dA_max_rolling') #❷\n",
    ")\n",
    "\n",
    "row(df1, df2)"
   ]
  },
  {
   "cell_type": "markdown",
   "id": "017e2a85-f41a-4812-a9ac-4483120c56cf",
   "metadata": {},
   "source": [
    "## CookBook"
   ]
  },
  {
   "cell_type": "markdown",
   "id": "f0d77443-3a2c-446c-a30d-c11744b48567",
   "metadata": {},
   "source": [
    "### 値の変化に応じたグループ化と集計\n",
    "\n",
    "次のプログラムでは、`g`列の値が変化するたびにグループを変え、各グループの最初の`g`の値と`v`列の値を取得します。`rle_id()`を使用して、`g`列の値が変化するたびに新しいグループIDを割り当てます。`rle_id()`は、連続する同じ値に同じIDを割り当て、値が変化するたびにIDを更新します。"
   ]
  },
  {
   "cell_type": "code",
   "execution_count": 16,
   "id": "20e24360-0beb-4f21-9d2d-fa8037a301cb",
   "metadata": {},
   "outputs": [
    {
     "data": {
      "text/html": [
       "<div><style>\n",
       ".dataframe > thead > tr,\n",
       ".dataframe > tbody > tr {\n",
       "  text-align: right;\n",
       "  white-space: pre-wrap;\n",
       "}\n",
       "</style>\n",
       "<small>shape: (4, 3)</small><table border=\"1\" class=\"dataframe\"><thead><tr><th>group_id</th><th>g</th><th>v</th></tr><tr><td>u32</td><td>i64</td><td>list[i64]</td></tr></thead><tbody><tr><td>0</td><td>1</td><td>[0, 1]</td></tr><tr><td>1</td><td>2</td><td>[2, 3, 4]</td></tr><tr><td>2</td><td>1</td><td>[5, 6]</td></tr><tr><td>3</td><td>0</td><td>[7]</td></tr></tbody></table></div>"
      ],
      "text/plain": [
       "shape: (4, 3)\n",
       "┌──────────┬─────┬───────────┐\n",
       "│ group_id ┆ g   ┆ v         │\n",
       "│ ---      ┆ --- ┆ ---       │\n",
       "│ u32      ┆ i64 ┆ list[i64] │\n",
       "╞══════════╪═════╪═══════════╡\n",
       "│ 0        ┆ 1   ┆ [0, 1]    │\n",
       "│ 1        ┆ 2   ┆ [2, 3, 4] │\n",
       "│ 2        ┆ 1   ┆ [5, 6]    │\n",
       "│ 3        ┆ 0   ┆ [7]       │\n",
       "└──────────┴─────┴───────────┘"
      ]
     },
     "execution_count": 16,
     "metadata": {},
     "output_type": "execute_result"
    }
   ],
   "source": [
    "df = pl.DataFrame(\n",
    "    {\n",
    "        \"g\": [1, 1, 2, 2, 2, 1, 1, 0],\n",
    "        \"v\": list(range(8))\n",
    "    }\n",
    ")\n",
    "\n",
    "df.group_by(\n",
    "    pl.col('g').rle_id().alias('group_id')\n",
    ").agg(\n",
    "    pl.col('g').first(),\n",
    "    pl.col('v')\n",
    ")"
   ]
  },
  {
   "cell_type": "markdown",
   "id": "d1a32567-4cea-42fe-9946-08fa5e92cfd7",
   "metadata": {},
   "source": [
    "### グループ毎に番号付け"
   ]
  },
  {
   "cell_type": "markdown",
   "id": "2b992706-09de-409b-bfde-63f25277339b",
   "metadata": {},
   "source": [
    "c1列とc2列の値に番号を付けます。番号は0からスタート、新しい値が現れるたびに１増加します。"
   ]
  },
  {
   "cell_type": "code",
   "execution_count": 7,
   "id": "13ea44ad-fd3f-4c46-98a7-feea793b19e2",
   "metadata": {},
   "outputs": [],
   "source": [
    "df = pl.DataFrame(\n",
    "    {\n",
    "        \"c1\": [\"b\", \"a\", \"a\", \"b\", \"c\", \"a\", \"b\"],\n",
    "        \"c2\": [2, 1, 1, 1, 1, 1, 1],\n",
    "    }\n",
    ")"
   ]
  },
  {
   "cell_type": "markdown",
   "id": "e2621673-bc0d-483f-82ac-a594d2172b37",
   "metadata": {},
   "source": [
    "#### group_byで計算"
   ]
  },
  {
   "cell_type": "markdown",
   "id": "4a7d7316-f29e-4507-848f-8ac39f712f9f",
   "metadata": {},
   "source": [
    "1. `group_by(\"c1\", \"c2\", maintain_order=True)`:\n",
    "   - `df`データフレームを、`c1`列と`c2`列の組み合わせでグループ化します。これにより、`c1`と`c2`のユニークなペアごとにグループが作られます。\n",
    "\n",
    "2. `pl.col(\"c1\").agg_groups().alias(\"row_index\")`:\n",
    "   - グループ化した後、`c1`列に対して`agg_groups()`関数を使用しています。`agg_groups()`は、各グループ内で行のインデックスをリストとして取得するものです。ここでは、各グループ内のインデックスを`row_index`という名前で新しい列として追加します。\n",
    "\n",
    "3. `with_row_index()`:\n",
    "   - `with_row_index()`は、グループ化後のデータフレームに行番号（インデックス）を追加します。\n",
    "\n",
    "4. `explode(\"row_index\")`:\n",
    "   - `explode()`は、リストや配列を展開して、それぞれのリスト要素を新しい行に分割する操作です。ここでは、`row_index`列に格納されているインデックスのリストを展開して、各インデックスを新しい行として扱います。この操作によって、複数の行が作成され、`row_index`の要素が個々の行に分割されます。\n",
    "\n",
    "5. `sort(by=\"row_index\")`:\n",
    "   - `row_index`を基準にデータをソートします。このソートによって、`row_index`の値が小さい順に行が並び、元のデータフレームと同じ順序になります。\n",
    "\n",
    "6. `drop('row_index')`:\n",
    "   - 最後に、`row_index`列を削除します。これは、インデックス付けを行った後、最終的に不要な列を削除するためです。"
   ]
  },
  {
   "cell_type": "code",
   "execution_count": 17,
   "id": "a56e7d25-f3f4-4b43-b51e-f5d1c36eda27",
   "metadata": {},
   "outputs": [
    {
     "data": {
      "text/html": [
       "<div><style>\n",
       ".dataframe > thead > tr,\n",
       ".dataframe > tbody > tr {\n",
       "  text-align: right;\n",
       "  white-space: pre-wrap;\n",
       "}\n",
       "</style>\n",
       "<small>shape: (7, 3)</small><table border=\"1\" class=\"dataframe\"><thead><tr><th>index</th><th>c1</th><th>c2</th></tr><tr><td>u32</td><td>str</td><td>i64</td></tr></thead><tbody><tr><td>0</td><td>&quot;b&quot;</td><td>2</td></tr><tr><td>1</td><td>&quot;a&quot;</td><td>1</td></tr><tr><td>1</td><td>&quot;a&quot;</td><td>1</td></tr><tr><td>2</td><td>&quot;b&quot;</td><td>1</td></tr><tr><td>3</td><td>&quot;c&quot;</td><td>1</td></tr><tr><td>1</td><td>&quot;a&quot;</td><td>1</td></tr><tr><td>2</td><td>&quot;b&quot;</td><td>1</td></tr></tbody></table></div>"
      ],
      "text/plain": [
       "shape: (7, 3)\n",
       "┌───────┬─────┬─────┐\n",
       "│ index ┆ c1  ┆ c2  │\n",
       "│ ---   ┆ --- ┆ --- │\n",
       "│ u32   ┆ str ┆ i64 │\n",
       "╞═══════╪═════╪═════╡\n",
       "│ 0     ┆ b   ┆ 2   │\n",
       "│ 1     ┆ a   ┆ 1   │\n",
       "│ 1     ┆ a   ┆ 1   │\n",
       "│ 2     ┆ b   ┆ 1   │\n",
       "│ 3     ┆ c   ┆ 1   │\n",
       "│ 1     ┆ a   ┆ 1   │\n",
       "│ 2     ┆ b   ┆ 1   │\n",
       "└───────┴─────┴─────┘"
      ]
     },
     "execution_count": 17,
     "metadata": {},
     "output_type": "execute_result"
    }
   ],
   "source": [
    "(\n",
    "    df\n",
    "    .group_by(\"c1\", \"c2\", maintain_order=True)\n",
    "    .agg(\n",
    "        pl.col(\"c1\")\n",
    "        .agg_groups()\n",
    "        .alias(\"row_index\")\n",
    "    )\n",
    "    .with_row_index()\n",
    "    .explode(\"row_index\")\n",
    "    .sort(by=\"row_index\")\n",
    "    .drop('row_index')\n",
    ")"
   ]
  },
  {
   "cell_type": "markdown",
   "id": "188677c2-7d8c-457e-ad41-0e82ca30670b",
   "metadata": {},
   "source": [
    "#### joinで計算"
   ]
  },
  {
   "cell_type": "markdown",
   "id": "a7596555-7199-4af9-b2fa-ada4e49f09f9",
   "metadata": {},
   "source": [
    "`join`操作で同じ結果が得られます。\n",
    "\n",
    "1. `df.select('c1', 'c2')`:\n",
    "   - `df`データフレームから、`c1`列と`c2`列だけを選択しています。これにより、`df`の中でこの2つの列に関する操作が後続の処理で行われるようになります。\n",
    "\n",
    "2. `unique(maintain_order=True)`:\n",
    "   - `unique()`メソッドは、指定した列のユニークな値を取得します。この場合、`c1`列と`c2`列の組み合わせに基づいてユニークなペアを抽出します。`maintain_order=True`を指定しているため、元の順番が保持されます（ユニークな値を抽出する際、データフレームの順番が変わらないようにします）。\n",
    "\n",
    "3. `with_row_index()`:\n",
    "   - `with_row_index()`は、データフレームに行番号（インデックス）を追加します。\n",
    "\n",
    "4. `df.join(..., on=[\"c1\", \"c2\"])`:\n",
    "   - 最後に、元の`df`データフレームと、`c1`と`c2`のユニークな組み合わせ（インデックスが付けられたもの）を`join`します。`on=[\"c1\", \"c2\"]`は、`c1`と`c2`の列を基準に結合を行うことを示します。"
   ]
  },
  {
   "cell_type": "code",
   "execution_count": 9,
   "id": "d34a5417-2b03-4b87-9245-915c25a0aca3",
   "metadata": {},
   "outputs": [
    {
     "data": {
      "text/html": [
       "<div><style>\n",
       ".dataframe > thead > tr,\n",
       ".dataframe > tbody > tr {\n",
       "  text-align: right;\n",
       "  white-space: pre-wrap;\n",
       "}\n",
       "</style>\n",
       "<small>shape: (7, 3)</small><table border=\"1\" class=\"dataframe\"><thead><tr><th>c1</th><th>c2</th><th>index</th></tr><tr><td>str</td><td>i64</td><td>u32</td></tr></thead><tbody><tr><td>&quot;b&quot;</td><td>2</td><td>0</td></tr><tr><td>&quot;a&quot;</td><td>1</td><td>1</td></tr><tr><td>&quot;a&quot;</td><td>1</td><td>1</td></tr><tr><td>&quot;b&quot;</td><td>1</td><td>2</td></tr><tr><td>&quot;c&quot;</td><td>1</td><td>3</td></tr><tr><td>&quot;a&quot;</td><td>1</td><td>1</td></tr><tr><td>&quot;b&quot;</td><td>1</td><td>2</td></tr></tbody></table></div>"
      ],
      "text/plain": [
       "shape: (7, 3)\n",
       "┌─────┬─────┬───────┐\n",
       "│ c1  ┆ c2  ┆ index │\n",
       "│ --- ┆ --- ┆ ---   │\n",
       "│ str ┆ i64 ┆ u32   │\n",
       "╞═════╪═════╪═══════╡\n",
       "│ b   ┆ 2   ┆ 0     │\n",
       "│ a   ┆ 1   ┆ 1     │\n",
       "│ a   ┆ 1   ┆ 1     │\n",
       "│ b   ┆ 1   ┆ 2     │\n",
       "│ c   ┆ 1   ┆ 3     │\n",
       "│ a   ┆ 1   ┆ 1     │\n",
       "│ b   ┆ 1   ┆ 2     │\n",
       "└─────┴─────┴───────┘"
      ]
     },
     "execution_count": 9,
     "metadata": {},
     "output_type": "execute_result"
    }
   ],
   "source": [
    "df.join(\n",
    "    df.select('c1', 'c2')\n",
    "    .unique(maintain_order=True)\n",
    "    .with_row_index(),\n",
    "    on=[\"c1\", \"c2\"]\n",
    ")"
   ]
  },
  {
   "cell_type": "markdown",
   "id": "5a1d246f-7400-47c0-85b6-f44b5bd72815",
   "metadata": {},
   "source": [
    "#### カテゴリカル型で計算"
   ]
  },
  {
   "cell_type": "markdown",
   "id": "e32b5f85-e731-4162-b5c7-62beb5d62ba5",
   "metadata": {},
   "source": [
    "`c1`列と`c2`列の値を結合して新しい文字列を作成し、それをカテゴリカル型（`Categorical`）に変換した後、整数型に変換することで同じ結果が得られます。\n",
    "\n",
    "1. `pl.format(\"{} - {}\", \"c1\", \"c2\")`:\n",
    "   - `pl.format()`関数を使用して、`c1`列と`c2`列の値をフォーマットして結合します。\n",
    "   - `{}`はプレースホルダで、`c1`と`c2`の値がそれぞれここに挿入されます。この場合、`c1`と`c2`の各値を`\"c1の値 - c2の値\"`という形式で結合した文字列が生成されます。\n",
    "   - 例えば、`c1`が`\"a\"`、`c2`が`1`の場合、`\"a - 1\"`という文字列が作成されます。\n",
    "\n",
    "2. `cast(pl.Categorical)`:\n",
    "   - `cast(pl.Categorical)`は、作成された文字列列を`Categorical`型に変換します。`Categorical`型は、列の値が限られたユニークなカテゴリーである場合に効率的に格納できるデータ型です。\n",
    "\n",
    "3. `to_physical()`:\n",
    "    - `to_physical()`は、列を物理的に格納する形式に変換します。`Categorical`型の場合、各カテゴリーに対応する整数値が得られます。\n",
    "\n",
    "4. `alias(\"index\")`:\n",
    "   - 最後に、新しく作成した列に`index`という名前を付けます。"
   ]
  },
  {
   "cell_type": "code",
   "execution_count": 18,
   "id": "ad21994e-f9e3-4084-95a2-d41663204143",
   "metadata": {},
   "outputs": [
    {
     "data": {
      "text/html": [
       "<div><style>\n",
       ".dataframe > thead > tr,\n",
       ".dataframe > tbody > tr {\n",
       "  text-align: right;\n",
       "  white-space: pre-wrap;\n",
       "}\n",
       "</style>\n",
       "<small>shape: (7, 3)</small><table border=\"1\" class=\"dataframe\"><thead><tr><th>c1</th><th>c2</th><th>index</th></tr><tr><td>str</td><td>i64</td><td>u32</td></tr></thead><tbody><tr><td>&quot;b&quot;</td><td>2</td><td>0</td></tr><tr><td>&quot;a&quot;</td><td>1</td><td>1</td></tr><tr><td>&quot;a&quot;</td><td>1</td><td>1</td></tr><tr><td>&quot;b&quot;</td><td>1</td><td>2</td></tr><tr><td>&quot;c&quot;</td><td>1</td><td>3</td></tr><tr><td>&quot;a&quot;</td><td>1</td><td>1</td></tr><tr><td>&quot;b&quot;</td><td>1</td><td>2</td></tr></tbody></table></div>"
      ],
      "text/plain": [
       "shape: (7, 3)\n",
       "┌─────┬─────┬───────┐\n",
       "│ c1  ┆ c2  ┆ index │\n",
       "│ --- ┆ --- ┆ ---   │\n",
       "│ str ┆ i64 ┆ u32   │\n",
       "╞═════╪═════╪═══════╡\n",
       "│ b   ┆ 2   ┆ 0     │\n",
       "│ a   ┆ 1   ┆ 1     │\n",
       "│ a   ┆ 1   ┆ 1     │\n",
       "│ b   ┆ 1   ┆ 2     │\n",
       "│ c   ┆ 1   ┆ 3     │\n",
       "│ a   ┆ 1   ┆ 1     │\n",
       "│ b   ┆ 1   ┆ 2     │\n",
       "└─────┴─────┴───────┘"
      ]
     },
     "execution_count": 18,
     "metadata": {},
     "output_type": "execute_result"
    }
   ],
   "source": [
    "df.with_columns(\n",
    "    pl.format(\"{} - {}\", \"c1\", \"c2\")\n",
    "    .cast(pl.Categorical)\n",
    "    .to_physical()\n",
    "    .alias(\"index\")\n",
    ")"
   ]
  },
  {
   "cell_type": "markdown",
   "id": "35302147-76df-467f-9088-80053f592645",
   "metadata": {},
   "source": [
    "#### 構造体とカテゴリカル型で計算"
   ]
  },
  {
   "cell_type": "markdown",
   "id": "61498ae6-3449-463c-b1de-f98234306518",
   "metadata": {},
   "source": [
    "`pl.format()`が使えない場合は、次のように構造体列をカテゴリカル型に変換することもできます。\n",
    "\n",
    "1. `pl.struct(\"c1\", \"c2\")`:\n",
    "   - `pl.struct(\"c1\", \"c2\")`は、`c1`列と`c2`列を構造体（`struct`）としてまとめます。これにより、`c1`と`c2`のペアを一つの構造体として扱うことができます。構造体を作ることで、これらの列の組み合わせを一つの新しい単位として処理できるようになります。\n",
    "\n",
    "2. `rank(\"dense\")`:\n",
    "   - `rank(\"dense\")`は、構造体（`c1`と`c2`のペア）を基にして、データを「密なランク（dense ranking）」でランク付けします。密なランクは、同じ値に対して同じランクを与え、ランクが抜けないようにします（例えば、1位が2人の場合、次は3位になります）。この処理により、`c1`と`c2`の組み合わせに対してランクが割り当てられます。\n",
    "\n",
    "3. `cast(pl.String)`:\n",
    "   - `cast(pl.String)`は、ランク付けされた値は整数ですが、これを直接カテゴリー型に変換できないため、一旦文字列型（`String`）に変換します。"
   ]
  },
  {
   "cell_type": "code",
   "execution_count": 25,
   "id": "abe812c3-d9ff-43c0-b0d1-5108d8ce8c32",
   "metadata": {},
   "outputs": [
    {
     "data": {
      "text/html": [
       "<div><style>\n",
       ".dataframe > thead > tr,\n",
       ".dataframe > tbody > tr {\n",
       "  text-align: right;\n",
       "  white-space: pre-wrap;\n",
       "}\n",
       "</style>\n",
       "<small>shape: (7, 3)</small><table border=\"1\" class=\"dataframe\"><thead><tr><th>c1</th><th>c2</th><th>index</th></tr><tr><td>str</td><td>i64</td><td>u32</td></tr></thead><tbody><tr><td>&quot;b&quot;</td><td>2</td><td>0</td></tr><tr><td>&quot;a&quot;</td><td>1</td><td>1</td></tr><tr><td>&quot;a&quot;</td><td>1</td><td>1</td></tr><tr><td>&quot;b&quot;</td><td>1</td><td>2</td></tr><tr><td>&quot;c&quot;</td><td>1</td><td>3</td></tr><tr><td>&quot;a&quot;</td><td>1</td><td>1</td></tr><tr><td>&quot;b&quot;</td><td>1</td><td>2</td></tr></tbody></table></div>"
      ],
      "text/plain": [
       "shape: (7, 3)\n",
       "┌─────┬─────┬───────┐\n",
       "│ c1  ┆ c2  ┆ index │\n",
       "│ --- ┆ --- ┆ ---   │\n",
       "│ str ┆ i64 ┆ u32   │\n",
       "╞═════╪═════╪═══════╡\n",
       "│ b   ┆ 2   ┆ 0     │\n",
       "│ a   ┆ 1   ┆ 1     │\n",
       "│ a   ┆ 1   ┆ 1     │\n",
       "│ b   ┆ 1   ┆ 2     │\n",
       "│ c   ┆ 1   ┆ 3     │\n",
       "│ a   ┆ 1   ┆ 1     │\n",
       "│ b   ┆ 1   ┆ 2     │\n",
       "└─────┴─────┴───────┘"
      ]
     },
     "execution_count": 25,
     "metadata": {},
     "output_type": "execute_result"
    }
   ],
   "source": [
    "df.with_columns(\n",
    "    pl.struct(\"c1\", \"c2\")\n",
    "    .rank(\"dense\")\n",
    "    .cast(pl.String)\n",
    "    .cast(pl.Categorical)\n",
    "    .to_physical()\n",
    "    .alias(\"index\")\n",
    ")"
   ]
  }
 ],
 "metadata": {
  "kernelspec": {
   "display_name": "Python 3 (ipykernel)",
   "language": "python",
   "name": "python3"
  },
  "language_info": {
   "codemirror_mode": {
    "name": "ipython",
    "version": 3
   },
   "file_extension": ".py",
   "mimetype": "text/x-python",
   "name": "python",
   "nbconvert_exporter": "python",
   "pygments_lexer": "ipython3",
   "version": "3.12.2"
  }
 },
 "nbformat": 4,
 "nbformat_minor": 5
}

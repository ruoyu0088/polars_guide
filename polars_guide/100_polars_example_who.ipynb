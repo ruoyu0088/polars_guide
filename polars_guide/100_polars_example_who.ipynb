{
 "cells": [
  {
   "cell_type": "markdown",
   "id": "54b53b22-a584-46a5-8a15-de6c71fdc348",
   "metadata": {},
   "source": [
    "# Tidyデータ"
   ]
  },
  {
   "cell_type": "markdown",
   "id": "40ebe10a-aed9-486b-9b42-f213bbcdb8fc",
   "metadata": {},
   "source": [
    "Tidyデータは、データ分析と視覚化を容易にするために、データを規則的な形式に整える方法です。以下の原則に基づいています：\n",
    "\n",
    "1. **各列が変数を表す**：データセット内の各列が特定の変数を表します。たとえば、気温データセットでは、各列が異なる地点や異なる日時の気温を表します。\n",
    "\n",
    "2. **各行が観測値を表す**：データセット内の各行が個々の観測値を表します。気温データセットでは、各行が特定の地点と日時における気温の観測値を表します。\n",
    "\n",
    "3. **各セルが単一の値を表す**：各セルには単一の値が含まれます。つまり、セルに複数の値が含まれていないことが重要です。\n",
    "\n",
    ":::{table} 整理されていないデータの例\n",
    "\n",
    "| Country | 1999_cases | 1999_population | 2000_cases | 2000_population |\n",
    "|---------|------------|-----------------|------------|-----------------|\n",
    "| Afghanistan | 745       | 19987071        | 2666       | 20595360        |\n",
    "| Brazil      | 37737      | 172006362       | 80488      | 174504898       |\n",
    "| China       | 212258     | 1272915272      | 213766     | 1280428583      |\n",
    "\n",
    ":::\n",
    "\n",
    "このデータセットでは、年ごとにケースと人口の列が分かれています。これでは解析が難しく、変数と観測値が明確に分かれていません。\n",
    "\n",
    ":::{table} Tidyデータの例\n",
    "\n",
    "| Country     | Year | Cases | Population |\n",
    "|-------------|------|-------|------------|\n",
    "| Afghanistan | 1999 | 745   | 19987071   |\n",
    "| Afghanistan | 2000 | 2666  | 20595360   |\n",
    "| Brazil      | 1999 | 37737 | 172006362  |\n",
    "| Brazil      | 2000 | 80488 | 174504898  |\n",
    "| China       | 1999 | 212258| 1272915272 |\n",
    "| China       | 2000 | 213766| 1280428583 |\n",
    "\n",
    ":::\n",
    "\n",
    "この形式では、各列が変数を表し、各行が観測値を表し、各セルが単一の値を持っています。このように整理されたデータは、分析や視覚化に適しています。\n",
    "\n",
    "**Tidyデータの利点**\n",
    "\n",
    "- **操作が容易**：tidyデータは、データ操作や変換のためのツール（例えば、RのtidyverseパッケージやPythonのpandasライブラリ）で簡単に処理できます。\n",
    "- **一貫性**：データの一貫性が保たれるため、エラーの発生率が低くなります。\n",
    "- **再利用性**：データが整理されているため、再利用が容易で、他のプロジェクトや研究で使いやすくなります。\n",
    "\n",
    "* 参考リンク: https://r4ds.had.co.nz/tidy-data.html\n",
    "* サンプルデータ: https://github.com/tidyverse/tidyr/blob/main/data-raw/who.csv"
   ]
  },
  {
   "cell_type": "code",
   "execution_count": 7,
   "id": "6d19f8b1-1e5a-40d7-afba-c905faca5fb5",
   "metadata": {},
   "outputs": [],
   "source": [
    "import polars as pl\n",
    "from polars import selectors as cs"
   ]
  },
  {
   "cell_type": "markdown",
   "id": "e38289a9-7396-484b-8ec5-3a1a31898a6f",
   "metadata": {},
   "source": [
    "## ファイル読み込み"
   ]
  },
  {
   "cell_type": "markdown",
   "id": "0901263b-35f7-4de9-a836-d7fcdb9fcf96",
   "metadata": {},
   "source": [
    "`who.csv`ファイルには、年、国、年齢、性別、および診断方法別に分類された結核(TB)症例が含まれています。このデータセットには豊富な疫学情報が含まれていますが、提供されている形式でデータを扱うのは困難です。\n",
    "\n",
    "次のコードで`who.csv`を読み込み、列名とランダムに5行のデータを観察します。"
   ]
  },
  {
   "cell_type": "code",
   "execution_count": 81,
   "id": "0175d7cb-b899-4c01-9a05-7da0ebd69525",
   "metadata": {},
   "outputs": [
    {
     "name": "stdout",
     "output_type": "stream",
     "text": [
      "['country', 'iso2', 'iso3', 'year', 'new_sp_m014', 'new_sp_m1524', 'new_sp_m2534', 'new_sp_m3544', 'new_sp_m4554', 'new_sp_m5564', 'new_sp_m65', 'new_sp_f014', 'new_sp_f1524', 'new_sp_f2534', 'new_sp_f3544', 'new_sp_f4554', 'new_sp_f5564', 'new_sp_f65', 'new_sn_m014', 'new_sn_m1524', 'new_sn_m2534', 'new_sn_m3544', 'new_sn_m4554', 'new_sn_m5564', 'new_sn_m65', 'new_sn_f014', 'new_sn_f1524', 'new_sn_f2534', 'new_sn_f3544', 'new_sn_f4554', 'new_sn_f5564', 'new_sn_f65', 'new_ep_m014', 'new_ep_m1524', 'new_ep_m2534', 'new_ep_m3544', 'new_ep_m4554', 'new_ep_m5564', 'new_ep_m65', 'new_ep_f014', 'new_ep_f1524', 'new_ep_f2534', 'new_ep_f3544', 'new_ep_f4554', 'new_ep_f5564', 'new_ep_f65', 'newrel_m014', 'newrel_m1524', 'newrel_m2534', 'newrel_m3544', 'newrel_m4554', 'newrel_m5564', 'newrel_m65', 'newrel_f014', 'newrel_f1524', 'newrel_f2534', 'newrel_f3544', 'newrel_f4554', 'newrel_f5564', 'newrel_f65']\n"
     ]
    },
    {
     "data": {
      "text/html": [
       "<div><style>\n",
       ".dataframe > thead > tr,\n",
       ".dataframe > tbody > tr {\n",
       "  text-align: right;\n",
       "  white-space: pre-wrap;\n",
       "}\n",
       "</style>\n",
       "<small>shape: (5, 60)</small><table border=\"1\" class=\"dataframe\"><thead><tr><th>country</th><th>iso2</th><th>iso3</th><th>year</th><th>new_sp_m014</th><th>new_sp_m1524</th><th>new_sp_m2534</th><th>new_sp_m3544</th><th>new_sp_m4554</th><th>new_sp_m5564</th><th>new_sp_m65</th><th>new_sp_f014</th><th>new_sp_f1524</th><th>new_sp_f2534</th><th>new_sp_f3544</th><th>new_sp_f4554</th><th>new_sp_f5564</th><th>new_sp_f65</th><th>new_sn_m014</th><th>new_sn_m1524</th><th>new_sn_m2534</th><th>new_sn_m3544</th><th>new_sn_m4554</th><th>new_sn_m5564</th><th>new_sn_m65</th><th>new_sn_f014</th><th>new_sn_f1524</th><th>new_sn_f2534</th><th>new_sn_f3544</th><th>new_sn_f4554</th><th>new_sn_f5564</th><th>new_sn_f65</th><th>new_ep_m014</th><th>new_ep_m1524</th><th>new_ep_m2534</th><th>new_ep_m3544</th><th>new_ep_m4554</th><th>new_ep_m5564</th><th>new_ep_m65</th><th>new_ep_f014</th><th>new_ep_f1524</th><th>new_ep_f2534</th><th>new_ep_f3544</th><th>new_ep_f4554</th><th>new_ep_f5564</th><th>new_ep_f65</th><th>newrel_m014</th><th>newrel_m1524</th><th>newrel_m2534</th><th>newrel_m3544</th><th>newrel_m4554</th><th>newrel_m5564</th><th>newrel_m65</th><th>newrel_f014</th><th>newrel_f1524</th><th>newrel_f2534</th><th>newrel_f3544</th><th>newrel_f4554</th><th>newrel_f5564</th><th>newrel_f65</th></tr><tr><td>str</td><td>str</td><td>str</td><td>i64</td><td>str</td><td>str</td><td>str</td><td>str</td><td>str</td><td>str</td><td>str</td><td>str</td><td>str</td><td>str</td><td>str</td><td>str</td><td>str</td><td>str</td><td>str</td><td>str</td><td>str</td><td>str</td><td>str</td><td>str</td><td>str</td><td>str</td><td>str</td><td>str</td><td>str</td><td>str</td><td>str</td><td>str</td><td>str</td><td>str</td><td>str</td><td>str</td><td>str</td><td>str</td><td>str</td><td>str</td><td>str</td><td>str</td><td>str</td><td>str</td><td>str</td><td>str</td><td>str</td><td>str</td><td>str</td><td>str</td><td>str</td><td>str</td><td>str</td><td>str</td><td>str</td><td>str</td><td>str</td><td>str</td><td>str</td><td>str</td></tr></thead><tbody><tr><td>&quot;Angola&quot;</td><td>&quot;AO&quot;</td><td>&quot;AGO&quot;</td><td>1984</td><td>&quot;NA&quot;</td><td>&quot;NA&quot;</td><td>&quot;NA&quot;</td><td>&quot;NA&quot;</td><td>&quot;NA&quot;</td><td>&quot;NA&quot;</td><td>&quot;NA&quot;</td><td>&quot;NA&quot;</td><td>&quot;NA&quot;</td><td>&quot;NA&quot;</td><td>&quot;NA&quot;</td><td>&quot;NA&quot;</td><td>&quot;NA&quot;</td><td>&quot;NA&quot;</td><td>&quot;NA&quot;</td><td>&quot;NA&quot;</td><td>&quot;NA&quot;</td><td>&quot;NA&quot;</td><td>&quot;NA&quot;</td><td>&quot;NA&quot;</td><td>&quot;NA&quot;</td><td>&quot;NA&quot;</td><td>&quot;NA&quot;</td><td>&quot;NA&quot;</td><td>&quot;NA&quot;</td><td>&quot;NA&quot;</td><td>&quot;NA&quot;</td><td>&quot;NA&quot;</td><td>&quot;NA&quot;</td><td>&quot;NA&quot;</td><td>&quot;NA&quot;</td><td>&quot;NA&quot;</td><td>&quot;NA&quot;</td><td>&quot;NA&quot;</td><td>&quot;NA&quot;</td><td>&quot;NA&quot;</td><td>&quot;NA&quot;</td><td>&quot;NA&quot;</td><td>&quot;NA&quot;</td><td>&quot;NA&quot;</td><td>&quot;NA&quot;</td><td>&quot;NA&quot;</td><td>&quot;NA&quot;</td><td>&quot;NA&quot;</td><td>&quot;NA&quot;</td><td>&quot;NA&quot;</td><td>&quot;NA&quot;</td><td>&quot;NA&quot;</td><td>&quot;NA&quot;</td><td>&quot;NA&quot;</td><td>&quot;NA&quot;</td><td>&quot;NA&quot;</td><td>&quot;NA&quot;</td><td>&quot;NA&quot;</td><td>&quot;NA&quot;</td><td>&quot;NA&quot;</td></tr><tr><td>&quot;Paraguay&quot;</td><td>&quot;PY&quot;</td><td>&quot;PRY&quot;</td><td>1988</td><td>&quot;NA&quot;</td><td>&quot;NA&quot;</td><td>&quot;NA&quot;</td><td>&quot;NA&quot;</td><td>&quot;NA&quot;</td><td>&quot;NA&quot;</td><td>&quot;NA&quot;</td><td>&quot;NA&quot;</td><td>&quot;NA&quot;</td><td>&quot;NA&quot;</td><td>&quot;NA&quot;</td><td>&quot;NA&quot;</td><td>&quot;NA&quot;</td><td>&quot;NA&quot;</td><td>&quot;NA&quot;</td><td>&quot;NA&quot;</td><td>&quot;NA&quot;</td><td>&quot;NA&quot;</td><td>&quot;NA&quot;</td><td>&quot;NA&quot;</td><td>&quot;NA&quot;</td><td>&quot;NA&quot;</td><td>&quot;NA&quot;</td><td>&quot;NA&quot;</td><td>&quot;NA&quot;</td><td>&quot;NA&quot;</td><td>&quot;NA&quot;</td><td>&quot;NA&quot;</td><td>&quot;NA&quot;</td><td>&quot;NA&quot;</td><td>&quot;NA&quot;</td><td>&quot;NA&quot;</td><td>&quot;NA&quot;</td><td>&quot;NA&quot;</td><td>&quot;NA&quot;</td><td>&quot;NA&quot;</td><td>&quot;NA&quot;</td><td>&quot;NA&quot;</td><td>&quot;NA&quot;</td><td>&quot;NA&quot;</td><td>&quot;NA&quot;</td><td>&quot;NA&quot;</td><td>&quot;NA&quot;</td><td>&quot;NA&quot;</td><td>&quot;NA&quot;</td><td>&quot;NA&quot;</td><td>&quot;NA&quot;</td><td>&quot;NA&quot;</td><td>&quot;NA&quot;</td><td>&quot;NA&quot;</td><td>&quot;NA&quot;</td><td>&quot;NA&quot;</td><td>&quot;NA&quot;</td><td>&quot;NA&quot;</td><td>&quot;NA&quot;</td><td>&quot;NA&quot;</td></tr><tr><td>&quot;Mali&quot;</td><td>&quot;ML&quot;</td><td>&quot;MLI&quot;</td><td>1985</td><td>&quot;NA&quot;</td><td>&quot;NA&quot;</td><td>&quot;NA&quot;</td><td>&quot;NA&quot;</td><td>&quot;NA&quot;</td><td>&quot;NA&quot;</td><td>&quot;NA&quot;</td><td>&quot;NA&quot;</td><td>&quot;NA&quot;</td><td>&quot;NA&quot;</td><td>&quot;NA&quot;</td><td>&quot;NA&quot;</td><td>&quot;NA&quot;</td><td>&quot;NA&quot;</td><td>&quot;NA&quot;</td><td>&quot;NA&quot;</td><td>&quot;NA&quot;</td><td>&quot;NA&quot;</td><td>&quot;NA&quot;</td><td>&quot;NA&quot;</td><td>&quot;NA&quot;</td><td>&quot;NA&quot;</td><td>&quot;NA&quot;</td><td>&quot;NA&quot;</td><td>&quot;NA&quot;</td><td>&quot;NA&quot;</td><td>&quot;NA&quot;</td><td>&quot;NA&quot;</td><td>&quot;NA&quot;</td><td>&quot;NA&quot;</td><td>&quot;NA&quot;</td><td>&quot;NA&quot;</td><td>&quot;NA&quot;</td><td>&quot;NA&quot;</td><td>&quot;NA&quot;</td><td>&quot;NA&quot;</td><td>&quot;NA&quot;</td><td>&quot;NA&quot;</td><td>&quot;NA&quot;</td><td>&quot;NA&quot;</td><td>&quot;NA&quot;</td><td>&quot;NA&quot;</td><td>&quot;NA&quot;</td><td>&quot;NA&quot;</td><td>&quot;NA&quot;</td><td>&quot;NA&quot;</td><td>&quot;NA&quot;</td><td>&quot;NA&quot;</td><td>&quot;NA&quot;</td><td>&quot;NA&quot;</td><td>&quot;NA&quot;</td><td>&quot;NA&quot;</td><td>&quot;NA&quot;</td><td>&quot;NA&quot;</td><td>&quot;NA&quot;</td><td>&quot;NA&quot;</td></tr><tr><td>&quot;United Republic of Tanzania&quot;</td><td>&quot;TZ&quot;</td><td>&quot;TZA&quot;</td><td>2005</td><td>&quot;190&quot;</td><td>&quot;2062&quot;</td><td>&quot;4939&quot;</td><td>&quot;4025&quot;</td><td>&quot;2310&quot;</td><td>&quot;1279&quot;</td><td>&quot;1054&quot;</td><td>&quot;271&quot;</td><td>&quot;1852&quot;</td><td>&quot;3521&quot;</td><td>&quot;1892&quot;</td><td>&quot;968&quot;</td><td>&quot;547&quot;</td><td>&quot;354&quot;</td><td>&quot;NA&quot;</td><td>&quot;NA&quot;</td><td>&quot;NA&quot;</td><td>&quot;NA&quot;</td><td>&quot;NA&quot;</td><td>&quot;NA&quot;</td><td>&quot;NA&quot;</td><td>&quot;NA&quot;</td><td>&quot;NA&quot;</td><td>&quot;NA&quot;</td><td>&quot;NA&quot;</td><td>&quot;NA&quot;</td><td>&quot;NA&quot;</td><td>&quot;NA&quot;</td><td>&quot;NA&quot;</td><td>&quot;NA&quot;</td><td>&quot;NA&quot;</td><td>&quot;NA&quot;</td><td>&quot;NA&quot;</td><td>&quot;NA&quot;</td><td>&quot;NA&quot;</td><td>&quot;NA&quot;</td><td>&quot;NA&quot;</td><td>&quot;NA&quot;</td><td>&quot;NA&quot;</td><td>&quot;NA&quot;</td><td>&quot;NA&quot;</td><td>&quot;NA&quot;</td><td>&quot;NA&quot;</td><td>&quot;NA&quot;</td><td>&quot;NA&quot;</td><td>&quot;NA&quot;</td><td>&quot;NA&quot;</td><td>&quot;NA&quot;</td><td>&quot;NA&quot;</td><td>&quot;NA&quot;</td><td>&quot;NA&quot;</td><td>&quot;NA&quot;</td><td>&quot;NA&quot;</td><td>&quot;NA&quot;</td><td>&quot;NA&quot;</td><td>&quot;NA&quot;</td></tr><tr><td>&quot;Australia&quot;</td><td>&quot;AU&quot;</td><td>&quot;AUS&quot;</td><td>1989</td><td>&quot;NA&quot;</td><td>&quot;NA&quot;</td><td>&quot;NA&quot;</td><td>&quot;NA&quot;</td><td>&quot;NA&quot;</td><td>&quot;NA&quot;</td><td>&quot;NA&quot;</td><td>&quot;NA&quot;</td><td>&quot;NA&quot;</td><td>&quot;NA&quot;</td><td>&quot;NA&quot;</td><td>&quot;NA&quot;</td><td>&quot;NA&quot;</td><td>&quot;NA&quot;</td><td>&quot;NA&quot;</td><td>&quot;NA&quot;</td><td>&quot;NA&quot;</td><td>&quot;NA&quot;</td><td>&quot;NA&quot;</td><td>&quot;NA&quot;</td><td>&quot;NA&quot;</td><td>&quot;NA&quot;</td><td>&quot;NA&quot;</td><td>&quot;NA&quot;</td><td>&quot;NA&quot;</td><td>&quot;NA&quot;</td><td>&quot;NA&quot;</td><td>&quot;NA&quot;</td><td>&quot;NA&quot;</td><td>&quot;NA&quot;</td><td>&quot;NA&quot;</td><td>&quot;NA&quot;</td><td>&quot;NA&quot;</td><td>&quot;NA&quot;</td><td>&quot;NA&quot;</td><td>&quot;NA&quot;</td><td>&quot;NA&quot;</td><td>&quot;NA&quot;</td><td>&quot;NA&quot;</td><td>&quot;NA&quot;</td><td>&quot;NA&quot;</td><td>&quot;NA&quot;</td><td>&quot;NA&quot;</td><td>&quot;NA&quot;</td><td>&quot;NA&quot;</td><td>&quot;NA&quot;</td><td>&quot;NA&quot;</td><td>&quot;NA&quot;</td><td>&quot;NA&quot;</td><td>&quot;NA&quot;</td><td>&quot;NA&quot;</td><td>&quot;NA&quot;</td><td>&quot;NA&quot;</td><td>&quot;NA&quot;</td><td>&quot;NA&quot;</td><td>&quot;NA&quot;</td></tr></tbody></table></div>"
      ],
      "text/plain": [
       "shape: (5, 60)\n",
       "┌─────────────┬──────┬──────┬──────┬───┬──────────────┬──────────────┬──────────────┬────────────┐\n",
       "│ country     ┆ iso2 ┆ iso3 ┆ year ┆ … ┆ newrel_f3544 ┆ newrel_f4554 ┆ newrel_f5564 ┆ newrel_f65 │\n",
       "│ ---         ┆ ---  ┆ ---  ┆ ---  ┆   ┆ ---          ┆ ---          ┆ ---          ┆ ---        │\n",
       "│ str         ┆ str  ┆ str  ┆ i64  ┆   ┆ str          ┆ str          ┆ str          ┆ str        │\n",
       "╞═════════════╪══════╪══════╪══════╪═══╪══════════════╪══════════════╪══════════════╪════════════╡\n",
       "│ Angola      ┆ AO   ┆ AGO  ┆ 1984 ┆ … ┆ NA           ┆ NA           ┆ NA           ┆ NA         │\n",
       "│ Paraguay    ┆ PY   ┆ PRY  ┆ 1988 ┆ … ┆ NA           ┆ NA           ┆ NA           ┆ NA         │\n",
       "│ Mali        ┆ ML   ┆ MLI  ┆ 1985 ┆ … ┆ NA           ┆ NA           ┆ NA           ┆ NA         │\n",
       "│ United      ┆ TZ   ┆ TZA  ┆ 2005 ┆ … ┆ NA           ┆ NA           ┆ NA           ┆ NA         │\n",
       "│ Republic of ┆      ┆      ┆      ┆   ┆              ┆              ┆              ┆            │\n",
       "│ Tanzania    ┆      ┆      ┆      ┆   ┆              ┆              ┆              ┆            │\n",
       "│ Australia   ┆ AU   ┆ AUS  ┆ 1989 ┆ … ┆ NA           ┆ NA           ┆ NA           ┆ NA         │\n",
       "└─────────────┴──────┴──────┴──────┴───┴──────────────┴──────────────┴──────────────┴────────────┘"
      ]
     },
     "execution_count": 81,
     "metadata": {},
     "output_type": "execute_result"
    }
   ],
   "source": [
    "df = pl.read_csv('data/who.csv')\n",
    "print(df.columns)\n",
    "df.sample(5)"
   ]
  },
  {
   "cell_type": "markdown",
   "id": "cee4fe75-9b0c-4af2-bc1d-c5853231844a",
   "metadata": {},
   "source": [
    "## Tidyデータに変更"
   ]
  },
  {
   "attachments": {},
   "cell_type": "markdown",
   "id": "cd8eabf4-6137-4e63-9933-020aa04fc931",
   "metadata": {},
   "source": [
    "これは非常に典型的な実データセットの例です。冗長な列や奇妙な変数コード、多くの欠損値が含まれています。要するに、データが散らかっており、整頓するためには複数のステップが必要です。Polarsは各関数が一つのことをうまく行うように設計されています。つまり、実際の状況では通常、複数の操作をパイプラインとしてつなげる必要があります。\n",
    "\n",
    "国（country）、ISO2（iso2）、ISO3（iso3）は、国を冗長に指定している3つの変数です。年（year）も明らかに変数です。他の列が何を示しているのかはまだ分かりませんが、変数名の構造（例えば、new_sp_m014、new_ep_m014、new_ep_f014）から判断すると、これらは変数ではなく値である可能性が高いです。\n",
    "\n",
    "又、これらの列は\"NA\"でNULLを表す整数型のデータだと分かります。次のコードでこれらの列を整数型に変換します。`strict`引数が`False`の場合は、変換できない値をNULLに置き換えます。"
   ]
  },
  {
   "cell_type": "code",
   "execution_count": 100,
   "id": "7e7b010d-e43f-4084-aa71-4d58c77ce319",
   "metadata": {},
   "outputs": [],
   "source": [
    "variable_cols = ['country', 'iso2', 'iso3', 'year']\n",
    "df2 = df.with_columns(\n",
    "    pl.exclude(variable_cols)\n",
    "    .cast(pl.Int32, strict=False)\n",
    ")"
   ]
  },
  {
   "cell_type": "markdown",
   "id": "290b30fe-42b0-42ed-870f-d3a34ed4ae95",
   "metadata": {},
   "source": [
    "次のコードで、`new_sp_m014`から`newrel_f65`までのすべての列を集めます。それらの値が何を表しているのかはまだ分からないので、これらに\"key\"という一般的な名前を付けます。セルが症例の数を表していることは分かっているので、変数名には\"cases\"を使用します。多くの欠損値があるため、`drop_nulls()`で存在する値に焦点を当てます。"
   ]
  },
  {
   "cell_type": "code",
   "execution_count": 90,
   "id": "f58ebdcb-0726-47f6-8f57-0e103fe18aec",
   "metadata": {},
   "outputs": [
    {
     "data": {
      "text/html": [
       "<div><style>\n",
       ".dataframe > thead > tr,\n",
       ".dataframe > tbody > tr {\n",
       "  text-align: right;\n",
       "  white-space: pre-wrap;\n",
       "}\n",
       "</style>\n",
       "<small>shape: (5, 6)</small><table border=\"1\" class=\"dataframe\"><thead><tr><th>country</th><th>iso2</th><th>iso3</th><th>year</th><th>key</th><th>cases</th></tr><tr><td>str</td><td>str</td><td>str</td><td>i64</td><td>str</td><td>i32</td></tr></thead><tbody><tr><td>&quot;Afghanistan&quot;</td><td>&quot;AF&quot;</td><td>&quot;AFG&quot;</td><td>1997</td><td>&quot;new_sp_m014&quot;</td><td>0</td></tr><tr><td>&quot;Afghanistan&quot;</td><td>&quot;AF&quot;</td><td>&quot;AFG&quot;</td><td>1998</td><td>&quot;new_sp_m014&quot;</td><td>30</td></tr><tr><td>&quot;Afghanistan&quot;</td><td>&quot;AF&quot;</td><td>&quot;AFG&quot;</td><td>1999</td><td>&quot;new_sp_m014&quot;</td><td>8</td></tr><tr><td>&quot;Afghanistan&quot;</td><td>&quot;AF&quot;</td><td>&quot;AFG&quot;</td><td>2000</td><td>&quot;new_sp_m014&quot;</td><td>52</td></tr><tr><td>&quot;Afghanistan&quot;</td><td>&quot;AF&quot;</td><td>&quot;AFG&quot;</td><td>2001</td><td>&quot;new_sp_m014&quot;</td><td>129</td></tr></tbody></table></div>"
      ],
      "text/plain": [
       "shape: (5, 6)\n",
       "┌─────────────┬──────┬──────┬──────┬─────────────┬───────┐\n",
       "│ country     ┆ iso2 ┆ iso3 ┆ year ┆ key         ┆ cases │\n",
       "│ ---         ┆ ---  ┆ ---  ┆ ---  ┆ ---         ┆ ---   │\n",
       "│ str         ┆ str  ┆ str  ┆ i64  ┆ str         ┆ i32   │\n",
       "╞═════════════╪══════╪══════╪══════╪═════════════╪═══════╡\n",
       "│ Afghanistan ┆ AF   ┆ AFG  ┆ 1997 ┆ new_sp_m014 ┆ 0     │\n",
       "│ Afghanistan ┆ AF   ┆ AFG  ┆ 1998 ┆ new_sp_m014 ┆ 30    │\n",
       "│ Afghanistan ┆ AF   ┆ AFG  ┆ 1999 ┆ new_sp_m014 ┆ 8     │\n",
       "│ Afghanistan ┆ AF   ┆ AFG  ┆ 2000 ┆ new_sp_m014 ┆ 52    │\n",
       "│ Afghanistan ┆ AF   ┆ AFG  ┆ 2001 ┆ new_sp_m014 ┆ 129   │\n",
       "└─────────────┴──────┴──────┴──────┴─────────────┴───────┘"
      ]
     },
     "execution_count": 90,
     "metadata": {},
     "output_type": "execute_result"
    }
   ],
   "source": [
    "df3 = (\n",
    "    df2\n",
    "   .unpivot(\n",
    "       index=variable_cols, \n",
    "       variable_name=\"key\", \n",
    "       value_name=\"cases\"\n",
    "    )\n",
    "   .drop_nulls('cases')\n",
    ")\n",
    "df3.head()"
   ]
  },
  {
   "cell_type": "markdown",
   "id": "8395ee18-1e17-448a-bec7-73247b441876",
   "metadata": {},
   "source": [
    "## key列の情報取り出し"
   ]
  },
  {
   "cell_type": "markdown",
   "id": "2bb2ae44-e3c3-4a71-bf62-80b02f86a111",
   "metadata": {},
   "source": [
    "`key`列の値について、以下のフォーマットです。\n",
    "\n",
    "最初の3文字は、その列に新しい結核症例が含まれているか古い症例が含まれているかを示しています。このデータセットでは、各列には新しい症例が含まれています。\n",
    "\n",
    "次の文字は結核のタイプを示しています：\n",
    "\n",
    "- `rel` は再発症例を表します\n",
    "- `ep` は肺外結核症例を表します\n",
    "- `sn` は肺スメア（喀痰検査）で診断できなかった肺結核症例（スメア陰性）を表します\n",
    "- `sp` は肺スメア（喀痰検査）で診断できた肺結核症例（スメア陽性）を表します\n",
    "\n",
    "次の文字は結核患者の性別を示しています。このデータセットでは、男性（`m`）と女性（`f`）で症例をグループ化しています。\n",
    "\n",
    "残りの数字は年齢層を示しています。このデータセットでは、症例を以下の7つの年齢層にグループ化しています：\n",
    "\n",
    "- `014` = 0 – 14 歳\n",
    "- `1524` = 15 – 24 歳\n",
    "- `2534` = 25 – 34 歳\n",
    "- `3544` = 35 – 44 歳\n",
    "- `4554` = 45 – 54 歳\n",
    "- `5564` = 55 – 64 歳\n",
    "- `65` = 65 歳以上\n",
    "\n",
    "列名の形式を少し修正する必要があります。残念ながら、名前がわずかに不一致であるためです。例えば、`new_rel` の代わりに `newrel` があります（ここでは分かりにくいですが、修正しないと次のステップでエラーが発生します）。\n",
    "\n",
    "* `.str.replace()` を使って文字列を置換することを学びますが、基本的な考え方は非常に簡単です：文字列 \"newrel\" を \"new_rel\" に置き換えます。これにより、すべての変数名が一貫性を持つようになります。\n",
    "* `.str.extract_groups()`で正規表現にマッチングしたパターンを抽出し、抽出した情報は構造体列に保存されています。\n",
    "* `unnest()`で構造体列のフィールドを普通の列に変更します。"
   ]
  },
  {
   "cell_type": "code",
   "execution_count": 92,
   "id": "02ad9a88-667c-4ecb-a812-007912367b4a",
   "metadata": {},
   "outputs": [
    {
     "data": {
      "text/html": [
       "<div><style>\n",
       ".dataframe > thead > tr,\n",
       ".dataframe > tbody > tr {\n",
       "  text-align: right;\n",
       "  white-space: pre-wrap;\n",
       "}\n",
       "</style>\n",
       "<small>shape: (76_046, 8)</small><table border=\"1\" class=\"dataframe\"><thead><tr><th>country</th><th>iso2</th><th>iso3</th><th>year</th><th>type</th><th>sex</th><th>age</th><th>cases</th></tr><tr><td>str</td><td>str</td><td>str</td><td>i64</td><td>str</td><td>str</td><td>str</td><td>i32</td></tr></thead><tbody><tr><td>&quot;Afghanistan&quot;</td><td>&quot;AF&quot;</td><td>&quot;AFG&quot;</td><td>1997</td><td>&quot;sp&quot;</td><td>&quot;m&quot;</td><td>&quot;014&quot;</td><td>0</td></tr><tr><td>&quot;Afghanistan&quot;</td><td>&quot;AF&quot;</td><td>&quot;AFG&quot;</td><td>1998</td><td>&quot;sp&quot;</td><td>&quot;m&quot;</td><td>&quot;014&quot;</td><td>30</td></tr><tr><td>&quot;Afghanistan&quot;</td><td>&quot;AF&quot;</td><td>&quot;AFG&quot;</td><td>1999</td><td>&quot;sp&quot;</td><td>&quot;m&quot;</td><td>&quot;014&quot;</td><td>8</td></tr><tr><td>&quot;Afghanistan&quot;</td><td>&quot;AF&quot;</td><td>&quot;AFG&quot;</td><td>2000</td><td>&quot;sp&quot;</td><td>&quot;m&quot;</td><td>&quot;014&quot;</td><td>52</td></tr><tr><td>&quot;Afghanistan&quot;</td><td>&quot;AF&quot;</td><td>&quot;AFG&quot;</td><td>2001</td><td>&quot;sp&quot;</td><td>&quot;m&quot;</td><td>&quot;014&quot;</td><td>129</td></tr><tr><td>&hellip;</td><td>&hellip;</td><td>&hellip;</td><td>&hellip;</td><td>&hellip;</td><td>&hellip;</td><td>&hellip;</td><td>&hellip;</td></tr><tr><td>&quot;Viet Nam&quot;</td><td>&quot;VN&quot;</td><td>&quot;VNM&quot;</td><td>2013</td><td>&quot;rel&quot;</td><td>&quot;f&quot;</td><td>&quot;65&quot;</td><td>3110</td></tr><tr><td>&quot;Wallis and Futuna Islands&quot;</td><td>&quot;WF&quot;</td><td>&quot;WLF&quot;</td><td>2013</td><td>&quot;rel&quot;</td><td>&quot;f&quot;</td><td>&quot;65&quot;</td><td>2</td></tr><tr><td>&quot;Yemen&quot;</td><td>&quot;YE&quot;</td><td>&quot;YEM&quot;</td><td>2013</td><td>&quot;rel&quot;</td><td>&quot;f&quot;</td><td>&quot;65&quot;</td><td>360</td></tr><tr><td>&quot;Zambia&quot;</td><td>&quot;ZM&quot;</td><td>&quot;ZMB&quot;</td><td>2013</td><td>&quot;rel&quot;</td><td>&quot;f&quot;</td><td>&quot;65&quot;</td><td>669</td></tr><tr><td>&quot;Zimbabwe&quot;</td><td>&quot;ZW&quot;</td><td>&quot;ZWE&quot;</td><td>2013</td><td>&quot;rel&quot;</td><td>&quot;f&quot;</td><td>&quot;65&quot;</td><td>725</td></tr></tbody></table></div>"
      ],
      "text/plain": [
       "shape: (76_046, 8)\n",
       "┌───────────────────────────┬──────┬──────┬──────┬──────┬─────┬─────┬───────┐\n",
       "│ country                   ┆ iso2 ┆ iso3 ┆ year ┆ type ┆ sex ┆ age ┆ cases │\n",
       "│ ---                       ┆ ---  ┆ ---  ┆ ---  ┆ ---  ┆ --- ┆ --- ┆ ---   │\n",
       "│ str                       ┆ str  ┆ str  ┆ i64  ┆ str  ┆ str ┆ str ┆ i32   │\n",
       "╞═══════════════════════════╪══════╪══════╪══════╪══════╪═════╪═════╪═══════╡\n",
       "│ Afghanistan               ┆ AF   ┆ AFG  ┆ 1997 ┆ sp   ┆ m   ┆ 014 ┆ 0     │\n",
       "│ Afghanistan               ┆ AF   ┆ AFG  ┆ 1998 ┆ sp   ┆ m   ┆ 014 ┆ 30    │\n",
       "│ Afghanistan               ┆ AF   ┆ AFG  ┆ 1999 ┆ sp   ┆ m   ┆ 014 ┆ 8     │\n",
       "│ Afghanistan               ┆ AF   ┆ AFG  ┆ 2000 ┆ sp   ┆ m   ┆ 014 ┆ 52    │\n",
       "│ Afghanistan               ┆ AF   ┆ AFG  ┆ 2001 ┆ sp   ┆ m   ┆ 014 ┆ 129   │\n",
       "│ …                         ┆ …    ┆ …    ┆ …    ┆ …    ┆ …   ┆ …   ┆ …     │\n",
       "│ Viet Nam                  ┆ VN   ┆ VNM  ┆ 2013 ┆ rel  ┆ f   ┆ 65  ┆ 3110  │\n",
       "│ Wallis and Futuna Islands ┆ WF   ┆ WLF  ┆ 2013 ┆ rel  ┆ f   ┆ 65  ┆ 2     │\n",
       "│ Yemen                     ┆ YE   ┆ YEM  ┆ 2013 ┆ rel  ┆ f   ┆ 65  ┆ 360   │\n",
       "│ Zambia                    ┆ ZM   ┆ ZMB  ┆ 2013 ┆ rel  ┆ f   ┆ 65  ┆ 669   │\n",
       "│ Zimbabwe                  ┆ ZW   ┆ ZWE  ┆ 2013 ┆ rel  ┆ f   ┆ 65  ┆ 725   │\n",
       "└───────────────────────────┴──────┴──────┴──────┴──────┴─────┴─────┴───────┘"
      ]
     },
     "execution_count": 92,
     "metadata": {},
     "output_type": "execute_result"
    }
   ],
   "source": [
    "df4 = (\n",
    "    df3\n",
    "    .with_columns(\n",
    "        pl.col('key')\n",
    "            .str.replace(\"newrel\", \"new_rel\")\n",
    "            .str.extract_groups('^new_(?<type>\\w+)_(?<sex>\\w)(?<age>\\d+)$')\n",
    "    )\n",
    "    .unnest('key')\n",
    ")\n",
    "df4"
   ]
  },
  {
   "cell_type": "markdown",
   "id": "8a5936be-35f5-4fe4-83a5-482df30c1ec9",
   "metadata": {},
   "source": [
    "## 年齢列変換"
   ]
  },
  {
   "cell_type": "markdown",
   "id": "efd73f3a-52d6-4290-85a3-e22ef69c47f1",
   "metadata": {},
   "source": [
    "最後に次のコードで、年齢範囲を表す列を年齢開始列と年齢終了列に変換します。\n",
    "\n",
    "1. まずは、一貫性を保つために、`replace()` で `\"014\"` を `\"0014\"` に、`\"65\"` を `\"65NA\"` に置き換えます。つまり、すべての値の先頭2文字が開始年齢、後ろ2文字が終了年齢になります。この操作は2回使うので、変数 `age` に保存されます。\n",
    "2. 次に、先頭2文字を取り出し、`UInt8` にキャストします。\n",
    "3. 最後に、後ろ2文字を取り出し、`strict=False` で `UInt8` にキャストします。\n",
    "\n",
    ":::{warning}\n",
    "`replace()` と `.str.replace()` の区別：`replace()` は値全体を別の値に置き換えますが、`.str.replace()` は文字列の一部を別の文字列に置き換えます。\n",
    ":::"
   ]
  },
  {
   "cell_type": "code",
   "execution_count": 96,
   "id": "a04f2926-8074-41f0-ad77-53e577b2d568",
   "metadata": {},
   "outputs": [
    {
     "data": {
      "text/html": [
       "<div><style>\n",
       ".dataframe > thead > tr,\n",
       ".dataframe > tbody > tr {\n",
       "  text-align: right;\n",
       "  white-space: pre-wrap;\n",
       "}\n",
       "</style>\n",
       "<small>shape: (76_046, 2)</small><table border=\"1\" class=\"dataframe\"><thead><tr><th>age_start</th><th>age_end</th></tr><tr><td>u8</td><td>u8</td></tr></thead><tbody><tr><td>0</td><td>14</td></tr><tr><td>0</td><td>14</td></tr><tr><td>0</td><td>14</td></tr><tr><td>0</td><td>14</td></tr><tr><td>0</td><td>14</td></tr><tr><td>&hellip;</td><td>&hellip;</td></tr><tr><td>65</td><td>null</td></tr><tr><td>65</td><td>null</td></tr><tr><td>65</td><td>null</td></tr><tr><td>65</td><td>null</td></tr><tr><td>65</td><td>null</td></tr></tbody></table></div>"
      ],
      "text/plain": [
       "shape: (76_046, 2)\n",
       "┌───────────┬─────────┐\n",
       "│ age_start ┆ age_end │\n",
       "│ ---       ┆ ---     │\n",
       "│ u8        ┆ u8      │\n",
       "╞═══════════╪═════════╡\n",
       "│ 0         ┆ 14      │\n",
       "│ 0         ┆ 14      │\n",
       "│ 0         ┆ 14      │\n",
       "│ 0         ┆ 14      │\n",
       "│ 0         ┆ 14      │\n",
       "│ …         ┆ …       │\n",
       "│ 65        ┆ null    │\n",
       "│ 65        ┆ null    │\n",
       "│ 65        ┆ null    │\n",
       "│ 65        ┆ null    │\n",
       "│ 65        ┆ null    │\n",
       "└───────────┴─────────┘"
      ]
     },
     "execution_count": 96,
     "metadata": {},
     "output_type": "execute_result"
    }
   ],
   "source": [
    "age = pl.col('age').replace([\"014\", \"65\"], [\"0014\", \"65NA\"])\n",
    "df5 = (\n",
    "    df4\n",
    "    .select(\n",
    "        age\n",
    "            .str.slice(0, 2)\n",
    "            .cast(pl.UInt8)\n",
    "            .alias('age_start'),\n",
    "        age\n",
    "            .str.slice(2)\n",
    "            .cast(pl.UInt8, strict=False)\n",
    "            .alias('age_end')\n",
    "    )\n",
    "    .drop('iso2', 'iso3', 'age')\n",
    ")"
   ]
  },
  {
   "cell_type": "markdown",
   "id": "69864eaf-68be-42d7-b3df-b14eef5dfec9",
   "metadata": {},
   "source": [
    "## 纏め"
   ]
  },
  {
   "cell_type": "markdown",
   "id": "69993090-cf7b-4ceb-959b-848e8cde069d",
   "metadata": {},
   "source": [
    "上のプログラムを次のようにまとめます。処理速度を向上させるため、`scan_csv()` で遅延計算のデータフレームを取得し、一連の操作の最後に `collect()` で結果を収集します。\n",
    "\n",
    "CSVファイルを読み込む際に、`null_values`引数でNULLの文字列を指定することで、`new*` 列はすべて整数型になります。"
   ]
  },
  {
   "cell_type": "code",
   "execution_count": 99,
   "id": "a1576b31-4208-4ff6-89b3-78c8557dab16",
   "metadata": {},
   "outputs": [
    {
     "data": {
      "text/html": [
       "<div><style>\n",
       ".dataframe > thead > tr,\n",
       ".dataframe > tbody > tr {\n",
       "  text-align: right;\n",
       "  white-space: pre-wrap;\n",
       "}\n",
       "</style>\n",
       "<small>shape: (76_046, 7)</small><table border=\"1\" class=\"dataframe\"><thead><tr><th>country</th><th>year</th><th>type</th><th>sex</th><th>cases</th><th>age_start</th><th>age_end</th></tr><tr><td>str</td><td>i64</td><td>str</td><td>str</td><td>i64</td><td>u8</td><td>u8</td></tr></thead><tbody><tr><td>&quot;Afghanistan&quot;</td><td>1997</td><td>&quot;sp&quot;</td><td>&quot;m&quot;</td><td>0</td><td>0</td><td>14</td></tr><tr><td>&quot;Afghanistan&quot;</td><td>1998</td><td>&quot;sp&quot;</td><td>&quot;m&quot;</td><td>30</td><td>0</td><td>14</td></tr><tr><td>&quot;Afghanistan&quot;</td><td>1999</td><td>&quot;sp&quot;</td><td>&quot;m&quot;</td><td>8</td><td>0</td><td>14</td></tr><tr><td>&quot;Afghanistan&quot;</td><td>2000</td><td>&quot;sp&quot;</td><td>&quot;m&quot;</td><td>52</td><td>0</td><td>14</td></tr><tr><td>&quot;Afghanistan&quot;</td><td>2001</td><td>&quot;sp&quot;</td><td>&quot;m&quot;</td><td>129</td><td>0</td><td>14</td></tr><tr><td>&hellip;</td><td>&hellip;</td><td>&hellip;</td><td>&hellip;</td><td>&hellip;</td><td>&hellip;</td><td>&hellip;</td></tr><tr><td>&quot;Viet Nam&quot;</td><td>2013</td><td>&quot;rel&quot;</td><td>&quot;f&quot;</td><td>3110</td><td>65</td><td>null</td></tr><tr><td>&quot;Wallis and Futuna Islands&quot;</td><td>2013</td><td>&quot;rel&quot;</td><td>&quot;f&quot;</td><td>2</td><td>65</td><td>null</td></tr><tr><td>&quot;Yemen&quot;</td><td>2013</td><td>&quot;rel&quot;</td><td>&quot;f&quot;</td><td>360</td><td>65</td><td>null</td></tr><tr><td>&quot;Zambia&quot;</td><td>2013</td><td>&quot;rel&quot;</td><td>&quot;f&quot;</td><td>669</td><td>65</td><td>null</td></tr><tr><td>&quot;Zimbabwe&quot;</td><td>2013</td><td>&quot;rel&quot;</td><td>&quot;f&quot;</td><td>725</td><td>65</td><td>null</td></tr></tbody></table></div>"
      ],
      "text/plain": [
       "shape: (76_046, 7)\n",
       "┌───────────────────────────┬──────┬──────┬─────┬───────┬───────────┬─────────┐\n",
       "│ country                   ┆ year ┆ type ┆ sex ┆ cases ┆ age_start ┆ age_end │\n",
       "│ ---                       ┆ ---  ┆ ---  ┆ --- ┆ ---   ┆ ---       ┆ ---     │\n",
       "│ str                       ┆ i64  ┆ str  ┆ str ┆ i64   ┆ u8        ┆ u8      │\n",
       "╞═══════════════════════════╪══════╪══════╪═════╪═══════╪═══════════╪═════════╡\n",
       "│ Afghanistan               ┆ 1997 ┆ sp   ┆ m   ┆ 0     ┆ 0         ┆ 14      │\n",
       "│ Afghanistan               ┆ 1998 ┆ sp   ┆ m   ┆ 30    ┆ 0         ┆ 14      │\n",
       "│ Afghanistan               ┆ 1999 ┆ sp   ┆ m   ┆ 8     ┆ 0         ┆ 14      │\n",
       "│ Afghanistan               ┆ 2000 ┆ sp   ┆ m   ┆ 52    ┆ 0         ┆ 14      │\n",
       "│ Afghanistan               ┆ 2001 ┆ sp   ┆ m   ┆ 129   ┆ 0         ┆ 14      │\n",
       "│ …                         ┆ …    ┆ …    ┆ …   ┆ …     ┆ …         ┆ …       │\n",
       "│ Viet Nam                  ┆ 2013 ┆ rel  ┆ f   ┆ 3110  ┆ 65        ┆ null    │\n",
       "│ Wallis and Futuna Islands ┆ 2013 ┆ rel  ┆ f   ┆ 2     ┆ 65        ┆ null    │\n",
       "│ Yemen                     ┆ 2013 ┆ rel  ┆ f   ┆ 360   ┆ 65        ┆ null    │\n",
       "│ Zambia                    ┆ 2013 ┆ rel  ┆ f   ┆ 669   ┆ 65        ┆ null    │\n",
       "│ Zimbabwe                  ┆ 2013 ┆ rel  ┆ f   ┆ 725   ┆ 65        ┆ null    │\n",
       "└───────────────────────────┴──────┴──────┴─────┴───────┴───────────┴─────────┘"
      ]
     },
     "execution_count": 99,
     "metadata": {},
     "output_type": "execute_result"
    }
   ],
   "source": [
    "age = pl.col('age').replace([\"014\", \"65\"], [\"0014\", \"65NA\"])\n",
    "variable_cols = ['country', 'iso2', 'iso3', 'year']\n",
    "\n",
    "df = (\n",
    "    pl.scan_csv('data/who.csv', null_values=['NA'])\n",
    "    .unpivot(\n",
    "        index=variable_cols, \n",
    "        variable_name=\"key\", \n",
    "        value_name=\"cases\"\n",
    "    )\n",
    "    .drop_nulls('cases')\n",
    "    .with_columns(\n",
    "        pl.col('key')\n",
    "            .str.replace(\"newrel\", \"new_rel\")\n",
    "            .str.extract_groups('^new_(?<type>\\\\w+)_(?<sex>\\\\w)(?<age>\\\\d+)$')\n",
    "    )\n",
    "    .unnest('key')\n",
    "    .with_columns(\n",
    "        age\n",
    "            .str.slice(0, 2)\n",
    "            .cast(pl.UInt8)\n",
    "            .alias('age_start'),\n",
    "        age\n",
    "            .str.slice(2)\n",
    "            .cast(pl.UInt8, strict=False)\n",
    "            .alias('age_end')\n",
    "    )\n",
    "    .drop('iso2', 'iso3', 'age')\n",
    "    .collect()\n",
    ")\n",
    "\n",
    "df"
   ]
  }
 ],
 "metadata": {
  "kernelspec": {
   "display_name": "Python 3 (ipykernel)",
   "language": "python",
   "name": "python3"
  },
  "language_info": {
   "codemirror_mode": {
    "name": "ipython",
    "version": 3
   },
   "file_extension": ".py",
   "mimetype": "text/x-python",
   "name": "python",
   "nbconvert_exporter": "python",
   "pygments_lexer": "ipython3",
   "version": "3.12.2"
  }
 },
 "nbformat": 4,
 "nbformat_minor": 5
}

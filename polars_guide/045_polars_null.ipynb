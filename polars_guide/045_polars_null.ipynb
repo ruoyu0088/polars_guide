{
 "cells": [
  {
   "cell_type": "markdown",
   "id": "8494e842-81b7-40e6-93b2-6b2f4c1180ce",
   "metadata": {},
   "source": [
    "# NULL処理"
   ]
  },
  {
   "cell_type": "markdown",
   "id": "316d98e0-9487-40b9-80a8-8e302a25567d",
   "metadata": {},
   "source": [
    "データフレームの操作では、NULL（欠損値）の存在がデータ分析や計算結果に影響を及ぼすことがあります。適切なNULL処理を行うことで、データの品質を保ち、信頼性の高い結果を得ることが可能です。本章では、NULL値の検出、除去、置換、および活用方法について解説します。"
   ]
  },
  {
   "cell_type": "code",
   "execution_count": 1,
   "id": "f061133b-bebd-4675-90c8-ad398c2b0242",
   "metadata": {},
   "outputs": [],
   "source": [
    "import polars as pl\n",
    "import numpy as np\n",
    "from helper.jupyter import row"
   ]
  },
  {
   "attachments": {},
   "cell_type": "markdown",
   "id": "32ff6daa-0ee9-473f-aea0-54ca43b69e8a",
   "metadata": {},
   "source": [
    "## NULLに関する計算\n",
    "\n",
    "Polarsでは、データの欠損を表すために、データとは別にNULL情報を管理するビットマスクを使用しています。Pythonのデータをデータフレームに変換する際、`None` は自動的にNULLに変換されます。以下の例を用いて、NULLに関する計算の基本ルールを説明します。\n",
    "\n",
    "- ❶ 各要素に対する演算では、いずれかの要素がNULLの場合、結果もNULLになります。  \n",
    "- ❷ `sum()` や `mean()` などの集約計算では、NULLが自動的に無視されます。"
   ]
  },
  {
   "cell_type": "code",
   "execution_count": 2,
   "id": "cb765b96-e274-4226-b2dd-6a95ef0ca4a2",
   "metadata": {},
   "outputs": [
    {
     "data": {
      "text/html": [
       "<table><tr><td><div><style>\n",
       ".dataframe > thead > tr,\n",
       ".dataframe > tbody > tr {\n",
       "  text-align: right;\n",
       "  white-space: pre-wrap;\n",
       "}\n",
       "</style>\n",
       "<small>shape: (4, 2)</small><table border=\"1\" class=\"dataframe\"><thead><tr><th>A</th><th>B</th></tr><tr><td>i64</td><td>i64</td></tr></thead><tbody><tr><td>1</td><td>5</td></tr><tr><td>2</td><td>null</td></tr><tr><td>null</td><td>6</td></tr><tr><td>null</td><td>null</td></tr></tbody></table></div></td><td><div><style>\n",
       ".dataframe > thead > tr,\n",
       ".dataframe > tbody > tr {\n",
       "  text-align: right;\n",
       "  white-space: pre-wrap;\n",
       "}\n",
       "</style>\n",
       "<small>shape: (4, 1)</small><table border=\"1\" class=\"dataframe\"><thead><tr><th>A_plus_B</th></tr><tr><td>i64</td></tr></thead><tbody><tr><td>6</td></tr><tr><td>null</td></tr><tr><td>null</td></tr><tr><td>null</td></tr></tbody></table></div></td><td><div><style>\n",
       ".dataframe > thead > tr,\n",
       ".dataframe > tbody > tr {\n",
       "  text-align: right;\n",
       "  white-space: pre-wrap;\n",
       "}\n",
       "</style>\n",
       "<small>shape: (1, 2)</small><table border=\"1\" class=\"dataframe\"><thead><tr><th>A_sum</th><th>B_mean</th></tr><tr><td>i64</td><td>f64</td></tr></thead><tbody><tr><td>3</td><td>5.5</td></tr></tbody></table></div></td></tr></table>"
      ]
     },
     "metadata": {},
     "output_type": "display_data"
    }
   ],
   "source": [
    "df = pl.DataFrame(dict(\n",
    "    A = [1, 2, None, None],\n",
    "    B = [5, None, 6, None]\n",
    "))\n",
    "\n",
    "df1 = df.select(A_plus_B=pl.col('A') + pl.col('B')) #❶\n",
    "df2 = df.select( \n",
    "    A_sum=pl.col('A').sum(),  #❷\n",
    "    B_mean=pl.col('B').mean()\n",
    ") \n",
    "row(df, df1, df2)"
   ]
  },
  {
   "cell_type": "markdown",
   "id": "10826c48-ab8f-4b52-ab68-adaf90f3a932",
   "metadata": {},
   "source": [
    "## NULLを処理する関数と演算式\n",
    "\n",
    "Polarsでは、NULLを効率的に処理するための演算式や関数を提供しています。それぞれの機能と使用例を以下に示します。\n",
    "\n",
    "- **`drop_nulls`**: NULLが含まれる行を削除します。ただし、❶列ごとに要素数が異なる場合があるため、データフレームの構造を保つために `implode()` を使用して列をリスト形式に変換する必要があります。  \n",
    "- **`fill_null`**: NULLを指定した値で埋めます。  \n",
    "- **`null_count`**: 各列のNULL値の個数をカウントします。  \n",
    "- **`has_nulls`**: データフレーム全体または各列にNULLが含まれているかを判定します。  \n",
    "- **`is_null`**: 各要素がNULLであるかをブール値で返します。  \n",
    "- **`is_not_null`**: 各要素がNULLでないかをブール値で返します。"
   ]
  },
  {
   "cell_type": "code",
   "execution_count": 3,
   "id": "a496622f-7d86-4992-9bf0-89188ca931ce",
   "metadata": {},
   "outputs": [
    {
     "data": {
      "text/html": [
       "<table><tr><td><div><style>\n",
       ".dataframe > thead > tr,\n",
       ".dataframe > tbody > tr {\n",
       "  text-align: right;\n",
       "  white-space: pre-wrap;\n",
       "}\n",
       "</style>\n",
       "<small>shape: (4, 2)</small><table border=\"1\" class=\"dataframe\"><thead><tr><th>A</th><th>B</th></tr><tr><td>i64</td><td>i64</td></tr></thead><tbody><tr><td>1</td><td>null</td></tr><tr><td>2</td><td>3</td></tr><tr><td>null</td><td>5</td></tr><tr><td>3</td><td>null</td></tr></tbody></table></div></td><td><div><style>\n",
       ".dataframe > thead > tr,\n",
       ".dataframe > tbody > tr {\n",
       "  text-align: right;\n",
       "  white-space: pre-wrap;\n",
       "}\n",
       "</style>\n",
       "<small>shape: (1, 2)</small><table border=\"1\" class=\"dataframe\"><thead><tr><th>A</th><th>B</th></tr><tr><td>list[i64]</td><td>list[i64]</td></tr></thead><tbody><tr><td>[1, 2, 3]</td><td>[3, 5]</td></tr></tbody></table></div></td><td><div><style>\n",
       ".dataframe > thead > tr,\n",
       ".dataframe > tbody > tr {\n",
       "  text-align: right;\n",
       "  white-space: pre-wrap;\n",
       "}\n",
       "</style>\n",
       "<small>shape: (4, 2)</small><table border=\"1\" class=\"dataframe\"><thead><tr><th>A</th><th>B</th></tr><tr><td>i64</td><td>i64</td></tr></thead><tbody><tr><td>1</td><td>0</td></tr><tr><td>2</td><td>3</td></tr><tr><td>0</td><td>5</td></tr><tr><td>3</td><td>0</td></tr></tbody></table></div></td><td><div><style>\n",
       ".dataframe > thead > tr,\n",
       ".dataframe > tbody > tr {\n",
       "  text-align: right;\n",
       "  white-space: pre-wrap;\n",
       "}\n",
       "</style>\n",
       "<small>shape: (1, 2)</small><table border=\"1\" class=\"dataframe\"><thead><tr><th>A</th><th>B</th></tr><tr><td>u32</td><td>u32</td></tr></thead><tbody><tr><td>1</td><td>2</td></tr></tbody></table></div></td><td><div><style>\n",
       ".dataframe > thead > tr,\n",
       ".dataframe > tbody > tr {\n",
       "  text-align: right;\n",
       "  white-space: pre-wrap;\n",
       "}\n",
       "</style>\n",
       "<small>shape: (1, 2)</small><table border=\"1\" class=\"dataframe\"><thead><tr><th>A</th><th>B</th></tr><tr><td>bool</td><td>bool</td></tr></thead><tbody><tr><td>true</td><td>true</td></tr></tbody></table></div></td><td><div><style>\n",
       ".dataframe > thead > tr,\n",
       ".dataframe > tbody > tr {\n",
       "  text-align: right;\n",
       "  white-space: pre-wrap;\n",
       "}\n",
       "</style>\n",
       "<small>shape: (4, 2)</small><table border=\"1\" class=\"dataframe\"><thead><tr><th>A</th><th>B</th></tr><tr><td>bool</td><td>bool</td></tr></thead><tbody><tr><td>false</td><td>true</td></tr><tr><td>false</td><td>false</td></tr><tr><td>true</td><td>false</td></tr><tr><td>false</td><td>true</td></tr></tbody></table></div></td></tr></table>"
      ]
     },
     "metadata": {},
     "output_type": "display_data"
    }
   ],
   "source": [
    "df = pl.DataFrame({\"A\": [1, 2, None, 3], \"B\": [None, 3, 5, None]})\n",
    "\n",
    "# 各列のNULLを削除し、リスト形式の列に変換\n",
    "df1 = df.select(pl.all().drop_nulls().implode()) #❶\n",
    "\n",
    "# NULLを0に埋める\n",
    "df2 = df.with_columns(pl.all().fill_null(0))\n",
    "\n",
    "# 各列のNULL値の個数を取得\n",
    "df3 = df.select(pl.all().null_count())\n",
    "\n",
    "# 各列にNULLが含まれるか判定\n",
    "df4 = df.select(pl.all().has_nulls())\n",
    "\n",
    "# 各要素がNULLか判定\n",
    "df5 = df.select(pl.all().is_null())\n",
    "\n",
    "row(df, df1, df2, df3, df4, df5)"
   ]
  },
  {
   "cell_type": "markdown",
   "id": "9b11cf50-9754-478d-bfbb-ce29acdbdbe0",
   "metadata": {},
   "source": [
    "`DataFrame`では、同じ機能をメソッドとして使用できます。\n",
    "\n",
    "- **`DataFrame.drop_nulls()`**: データフレーム全体からNULLを含む行を削除します。\n",
    "- **`DataFrame.fill_null()`**: 指定した値でNULLを埋めます。\n",
    "- **`DataFrame.null_count()`**: 各列のNULL値の個数を取得します。"
   ]
  },
  {
   "cell_type": "code",
   "execution_count": 4,
   "id": "b54782da-ddbf-41a5-aef7-b1b35a7e997a",
   "metadata": {},
   "outputs": [
    {
     "data": {
      "text/html": [
       "<table><tr><td><div><style>\n",
       ".dataframe > thead > tr,\n",
       ".dataframe > tbody > tr {\n",
       "  text-align: right;\n",
       "  white-space: pre-wrap;\n",
       "}\n",
       "</style>\n",
       "<small>shape: (1, 2)</small><table border=\"1\" class=\"dataframe\"><thead><tr><th>A</th><th>B</th></tr><tr><td>i64</td><td>i64</td></tr></thead><tbody><tr><td>2</td><td>3</td></tr></tbody></table></div></td><td><div><style>\n",
       ".dataframe > thead > tr,\n",
       ".dataframe > tbody > tr {\n",
       "  text-align: right;\n",
       "  white-space: pre-wrap;\n",
       "}\n",
       "</style>\n",
       "<small>shape: (4, 2)</small><table border=\"1\" class=\"dataframe\"><thead><tr><th>A</th><th>B</th></tr><tr><td>i64</td><td>i64</td></tr></thead><tbody><tr><td>1</td><td>0</td></tr><tr><td>2</td><td>3</td></tr><tr><td>0</td><td>5</td></tr><tr><td>3</td><td>0</td></tr></tbody></table></div></td><td><div><style>\n",
       ".dataframe > thead > tr,\n",
       ".dataframe > tbody > tr {\n",
       "  text-align: right;\n",
       "  white-space: pre-wrap;\n",
       "}\n",
       "</style>\n",
       "<small>shape: (1, 2)</small><table border=\"1\" class=\"dataframe\"><thead><tr><th>A</th><th>B</th></tr><tr><td>u32</td><td>u32</td></tr></thead><tbody><tr><td>1</td><td>2</td></tr></tbody></table></div></td></tr></table>"
      ]
     },
     "metadata": {},
     "output_type": "display_data"
    }
   ],
   "source": [
    "row(\n",
    "    df.drop_nulls(),\n",
    "    df.fill_null(0),\n",
    "    df.null_count()\n",
    ")"
   ]
  },
  {
   "cell_type": "markdown",
   "id": "975a053a-30ca-40dc-814c-d230ae21a987",
   "metadata": {},
   "source": [
    "`fill_null` メソッドと計算式では、`strategy` 引数を使用してNULL値を埋める方法を指定できます。また、`limit` 引数を指定することで、NULLを埋める回数を制限することが可能です。\n",
    "\n",
    "`strategy` には以下のオプションがあります：\n",
    "\n",
    "- `\"forward\"`: 前の値でNULLを埋めます（前方補完）。\n",
    "- `\"backward\"`: 次の値でNULLを埋めます（後方補完）。\n",
    "- `\"min\"`: 列の最小値でNULLを埋めます。\n",
    "- `\"max\"`: 列の最大値でNULLを埋めます。\n",
    "- `\"mean\"`: 列の平均値でNULLを埋めます。\n",
    "- `\"one\"`: 値をすべて1に置き換えます。\n",
    "- `\"zero\"`: 値をすべて0に置き換えます。\n",
    "\n",
    "`limit` は、NULL値を埋める最大回数を指定します。これにより、全てのNULLを埋めずに制限をかけることができます。"
   ]
  },
  {
   "cell_type": "code",
   "execution_count": 5,
   "id": "02987e63-2541-401f-b9b6-7eea2cea999d",
   "metadata": {},
   "outputs": [
    {
     "data": {
      "text/html": [
       "<table><tr><td><div><style>\n",
       ".dataframe > thead > tr,\n",
       ".dataframe > tbody > tr {\n",
       "  text-align: right;\n",
       "  white-space: pre-wrap;\n",
       "}\n",
       "</style>\n",
       "<small>shape: (4, 2)</small><table border=\"1\" class=\"dataframe\"><thead><tr><th>A</th><th>B</th></tr><tr><td>f64</td><td>f64</td></tr></thead><tbody><tr><td>1.0</td><td>null</td></tr><tr><td>null</td><td>2.0</td></tr><tr><td>null</td><td>null</td></tr><tr><td>4.0</td><td>null</td></tr></tbody></table></div></td><td><div><style>\n",
       ".dataframe > thead > tr,\n",
       ".dataframe > tbody > tr {\n",
       "  text-align: right;\n",
       "  white-space: pre-wrap;\n",
       "}\n",
       "</style>\n",
       "<small>shape: (4, 2)</small><table border=\"1\" class=\"dataframe\"><thead><tr><th>A</th><th>B</th></tr><tr><td>f64</td><td>f64</td></tr></thead><tbody><tr><td>1.0</td><td>null</td></tr><tr><td>1.0</td><td>2.0</td></tr><tr><td>1.0</td><td>2.0</td></tr><tr><td>4.0</td><td>2.0</td></tr></tbody></table></div></td><td><div><style>\n",
       ".dataframe > thead > tr,\n",
       ".dataframe > tbody > tr {\n",
       "  text-align: right;\n",
       "  white-space: pre-wrap;\n",
       "}\n",
       "</style>\n",
       "<small>shape: (4, 2)</small><table border=\"1\" class=\"dataframe\"><thead><tr><th>A</th><th>B</th></tr><tr><td>f64</td><td>f64</td></tr></thead><tbody><tr><td>1.0</td><td>2.0</td></tr><tr><td>4.0</td><td>2.0</td></tr><tr><td>4.0</td><td>null</td></tr><tr><td>4.0</td><td>null</td></tr></tbody></table></div></td><td><div><style>\n",
       ".dataframe > thead > tr,\n",
       ".dataframe > tbody > tr {\n",
       "  text-align: right;\n",
       "  white-space: pre-wrap;\n",
       "}\n",
       "</style>\n",
       "<small>shape: (4, 2)</small><table border=\"1\" class=\"dataframe\"><thead><tr><th>A</th><th>B</th></tr><tr><td>f64</td><td>f64</td></tr></thead><tbody><tr><td>1.0</td><td>2.0</td></tr><tr><td>2.5</td><td>2.0</td></tr><tr><td>2.5</td><td>2.0</td></tr><tr><td>4.0</td><td>2.0</td></tr></tbody></table></div></td><td><div><style>\n",
       ".dataframe > thead > tr,\n",
       ".dataframe > tbody > tr {\n",
       "  text-align: right;\n",
       "  white-space: pre-wrap;\n",
       "}\n",
       "</style>\n",
       "<small>shape: (4, 2)</small><table border=\"1\" class=\"dataframe\"><thead><tr><th>A</th><th>B</th></tr><tr><td>f64</td><td>f64</td></tr></thead><tbody><tr><td>1.0</td><td>null</td></tr><tr><td>1.0</td><td>2.0</td></tr><tr><td>null</td><td>2.0</td></tr><tr><td>4.0</td><td>null</td></tr></tbody></table></div></td></tr></table>"
      ]
     },
     "metadata": {},
     "output_type": "display_data"
    }
   ],
   "source": [
    "df = pl.DataFrame({\n",
    "    \"A\": [1.0, None, None, 4],\n",
    "    \"B\": [None, 2.0, None, None]\n",
    "})\n",
    "\n",
    "# 前方補完でNULLを埋める\n",
    "df_forward = df.fill_null(strategy=\"forward\")\n",
    "\n",
    "# 後方補完でNULLを埋める\n",
    "df_backward = df.fill_null(strategy=\"backward\")\n",
    "\n",
    "# 平均値でNULLを埋める\n",
    "df_mean = df.fill_null(strategy=\"mean\")\n",
    "\n",
    "# 前方補完を使用し、最大1つのNULLのみ埋める\n",
    "df_limit = df.fill_null(strategy=\"forward\", limit=1)\n",
    "\n",
    "row(df, df_forward, df_backward, df_mean, df_limit)"
   ]
  },
  {
   "cell_type": "markdown",
   "id": "208a5b63-e9b2-4498-b1a4-a2d7bb6c814d",
   "metadata": {},
   "source": [
    "## NULLに関する引数"
   ]
  },
  {
   "cell_type": "markdown",
   "id": "9d7feaf9-d85d-4060-915c-4cd5df6e0067",
   "metadata": {},
   "source": [
    "Polarsの演算式や`DataFrame`メソッドにおけるNULLに関する引数は、データ処理時にNULL（欠損値）をどのように扱うかを制御するために使用されます。以下に各引数の意味と具体例を示します。\n",
    "\n",
    "`sort`, `sort_by`, `arg_sort`, `arg_sort_by`などの`nulls_last`引数を使用して、NULL値をソート時に最後に配置するかどうかを指定します。"
   ]
  },
  {
   "cell_type": "code",
   "execution_count": 6,
   "id": "1cb6495a-372e-4b82-a222-6ea4fb940c23",
   "metadata": {},
   "outputs": [
    {
     "data": {
      "text/html": [
       "<div><style>\n",
       ".dataframe > thead > tr,\n",
       ".dataframe > tbody > tr {\n",
       "  text-align: right;\n",
       "  white-space: pre-wrap;\n",
       "}\n",
       "</style>\n",
       "<small>shape: (4, 3)</small><table border=\"1\" class=\"dataframe\"><thead><tr><th>a</th><th>last</th><th>first</th></tr><tr><td>i64</td><td>i64</td><td>i64</td></tr></thead><tbody><tr><td>1</td><td>null</td><td>1</td></tr><tr><td>3</td><td>1</td><td>2</td></tr><tr><td>null</td><td>2</td><td>3</td></tr><tr><td>2</td><td>3</td><td>null</td></tr></tbody></table></div>"
      ],
      "text/plain": [
       "shape: (4, 3)\n",
       "┌──────┬──────┬───────┐\n",
       "│ a    ┆ last ┆ first │\n",
       "│ ---  ┆ ---  ┆ ---   │\n",
       "│ i64  ┆ i64  ┆ i64   │\n",
       "╞══════╪══════╪═══════╡\n",
       "│ 1    ┆ null ┆ 1     │\n",
       "│ 3    ┆ 1    ┆ 2     │\n",
       "│ null ┆ 2    ┆ 3     │\n",
       "│ 2    ┆ 3    ┆ null  │\n",
       "└──────┴──────┴───────┘"
      ]
     },
     "execution_count": 6,
     "metadata": {},
     "output_type": "execute_result"
    }
   ],
   "source": [
    "df = pl.DataFrame({\n",
    "  \"a\": [1, 3, None, 2]\n",
    "})\n",
    "\n",
    "df1 = df.with_columns(\n",
    "    last=pl.col('a').sort(nulls_last=False),\n",
    "    first=pl.col('a').sort(nulls_last=True)\n",
    ")\n",
    "df1"
   ]
  },
  {
   "cell_type": "markdown",
   "id": "cfdb299c-a7b0-4d6c-befd-60dfdfbe39bf",
   "metadata": {},
   "source": [
    "`concat_str`, `ewm_mean`, `ewm_std`, `ewm_var`などの`ignore_nulls`をTrueに設定すると、NULL値を無視して計算を行います。"
   ]
  },
  {
   "cell_type": "code",
   "execution_count": 7,
   "id": "a06ae069-e073-4ea2-b344-467f0cbbf124",
   "metadata": {},
   "outputs": [
    {
     "data": {
      "text/html": [
       "<div><style>\n",
       ".dataframe > thead > tr,\n",
       ".dataframe > tbody > tr {\n",
       "  text-align: right;\n",
       "  white-space: pre-wrap;\n",
       "}\n",
       "</style>\n",
       "<small>shape: (4, 2)</small><table border=\"1\" class=\"dataframe\"><thead><tr><th>ignore</th><th>not_ignore</th></tr><tr><td>str</td><td>str</td></tr></thead><tbody><tr><td>&quot;1&quot;</td><td>null</td></tr><tr><td>&quot;10&quot;</td><td>null</td></tr><tr><td>&quot;2-20&quot;</td><td>&quot;2-20&quot;</td></tr><tr><td>&quot;3-30&quot;</td><td>&quot;3-30&quot;</td></tr></tbody></table></div>"
      ],
      "text/plain": [
       "shape: (4, 2)\n",
       "┌────────┬────────────┐\n",
       "│ ignore ┆ not_ignore │\n",
       "│ ---    ┆ ---        │\n",
       "│ str    ┆ str        │\n",
       "╞════════╪════════════╡\n",
       "│ 1      ┆ null       │\n",
       "│ 10     ┆ null       │\n",
       "│ 2-20   ┆ 2-20       │\n",
       "│ 3-30   ┆ 3-30       │\n",
       "└────────┴────────────┘"
      ]
     },
     "execution_count": 7,
     "metadata": {},
     "output_type": "execute_result"
    }
   ],
   "source": [
    "df = pl.DataFrame({\n",
    "    \"a\": [1, None, 2, 3],\n",
    "    \"b\": [None, 10, 20, 30],\n",
    "})\n",
    "\n",
    "df.select(\n",
    "    ignore=pl.concat_str(('a', 'b'), separator='-', ignore_nulls=True),\n",
    "    not_ignore=pl.concat_str(('a', 'b'), separator='-', ignore_nulls=False),\n",
    ")"
   ]
  },
  {
   "cell_type": "markdown",
   "id": "d388e211-3130-4778-9414-69fe85206303",
   "metadata": {},
   "source": [
    "`diff`メソッドにおける`null_behavior`引数では、最初の行の差分の扱い方法を制御します。`drop`の場合は結果に入れない、`ignore`の場合はNULLとして結果に入れます。"
   ]
  },
  {
   "cell_type": "code",
   "execution_count": 8,
   "id": "2cb4b2c9-b376-48bd-aa08-4e2b2f267227",
   "metadata": {},
   "outputs": [
    {
     "data": {
      "text/html": [
       "<table><tr><td><div><style>\n",
       ".dataframe > thead > tr,\n",
       ".dataframe > tbody > tr {\n",
       "  text-align: right;\n",
       "  white-space: pre-wrap;\n",
       "}\n",
       "</style>\n",
       "<small>shape: (6, 1)</small><table border=\"1\" class=\"dataframe\"><thead><tr><th>a</th></tr><tr><td>i64</td></tr></thead><tbody><tr><td>10</td></tr><tr><td>12</td></tr><tr><td>11</td></tr><tr><td>null</td></tr><tr><td>7</td></tr><tr><td>10</td></tr></tbody></table></div></td><td><div><style>\n",
       ".dataframe > thead > tr,\n",
       ".dataframe > tbody > tr {\n",
       "  text-align: right;\n",
       "  white-space: pre-wrap;\n",
       "}\n",
       "</style>\n",
       "<small>shape: (5, 1)</small><table border=\"1\" class=\"dataframe\"><thead><tr><th>a</th></tr><tr><td>i64</td></tr></thead><tbody><tr><td>2</td></tr><tr><td>-1</td></tr><tr><td>null</td></tr><tr><td>null</td></tr><tr><td>3</td></tr></tbody></table></div></td><td><div><style>\n",
       ".dataframe > thead > tr,\n",
       ".dataframe > tbody > tr {\n",
       "  text-align: right;\n",
       "  white-space: pre-wrap;\n",
       "}\n",
       "</style>\n",
       "<small>shape: (6, 1)</small><table border=\"1\" class=\"dataframe\"><thead><tr><th>a</th></tr><tr><td>i64</td></tr></thead><tbody><tr><td>null</td></tr><tr><td>2</td></tr><tr><td>-1</td></tr><tr><td>null</td></tr><tr><td>null</td></tr><tr><td>3</td></tr></tbody></table></div></td></tr></table>"
      ]
     },
     "metadata": {},
     "output_type": "display_data"
    }
   ],
   "source": [
    "df = pl.DataFrame({\n",
    "  \"a\": [10, 12, 11, None, 7, 10]\n",
    "})\n",
    "\n",
    "df1 = df.select(pl.col(\"a\").diff(null_behavior=\"drop\"))\n",
    "df2 = df.select(pl.col('a').diff(null_behavior='ignore'))\n",
    "row(df, df1, df2)"
   ]
  },
  {
   "cell_type": "markdown",
   "id": "bb420661-1a96-4f4f-809b-bea8ee15aa3f",
   "metadata": {},
   "source": [
    "`map_elements`での`skip_nulls`引数は、NULL値の要素をスキップするかどうかを指定します。`False`の場合、NULL値をNoneとしてユーザー関数に渡しますが、`True`の場合は渡しません。"
   ]
  },
  {
   "cell_type": "code",
   "execution_count": 9,
   "id": "c38acdd7-90ff-4e34-9472-b5ec99888895",
   "metadata": {},
   "outputs": [
    {
     "data": {
      "text/html": [
       "<div><style>\n",
       ".dataframe > thead > tr,\n",
       ".dataframe > tbody > tr {\n",
       "  text-align: right;\n",
       "  white-space: pre-wrap;\n",
       "}\n",
       "</style>\n",
       "<small>shape: (4, 3)</small><table border=\"1\" class=\"dataframe\"><thead><tr><th>a</th><th>no_skip</th><th>skip</th></tr><tr><td>str</td><td>str</td><td>str</td></tr></thead><tbody><tr><td>&quot;a&quot;</td><td>&quot;A&quot;</td><td>&quot;A&quot;</td></tr><tr><td>&quot;b&quot;</td><td>&quot;B&quot;</td><td>&quot;B&quot;</td></tr><tr><td>null</td><td>&quot;:O&quot;</td><td>null</td></tr><tr><td>&quot;c&quot;</td><td>&quot;C&quot;</td><td>&quot;C&quot;</td></tr></tbody></table></div>"
      ],
      "text/plain": [
       "shape: (4, 3)\n",
       "┌──────┬─────────┬──────┐\n",
       "│ a    ┆ no_skip ┆ skip │\n",
       "│ ---  ┆ ---     ┆ ---  │\n",
       "│ str  ┆ str     ┆ str  │\n",
       "╞══════╪═════════╪══════╡\n",
       "│ a    ┆ A       ┆ A    │\n",
       "│ b    ┆ B       ┆ B    │\n",
       "│ null ┆ :O      ┆ null │\n",
       "│ c    ┆ C       ┆ C    │\n",
       "└──────┴─────────┴──────┘"
      ]
     },
     "execution_count": 9,
     "metadata": {},
     "output_type": "execute_result"
    }
   ],
   "source": [
    "df = pl.DataFrame({\n",
    "  \"a\": [\"a\", \"b\", None, \"c\"]\n",
    "})\n",
    "\n",
    "def f(x):\n",
    "    if x is None:\n",
    "        return \":O\"\n",
    "    else:\n",
    "        return x.upper()\n",
    "\n",
    "df.with_columns(\n",
    "    no_skip=pl.col(\"a\").map_elements(f, skip_nulls=False, return_dtype=pl.String),\n",
    "    skip=pl.col(\"a\").map_elements(f, skip_nulls=True, return_dtype=pl.String),\n",
    ")"
   ]
  },
  {
   "cell_type": "markdown",
   "id": "4cb3e6b6-61cf-4dcd-9962-e0d9bb629df3",
   "metadata": {},
   "source": [
    "`DataFrame()`でNumPyの配列からデータフレームを作成するとき、`nan_to_null`引数で、NaN値をNULLに変換するかどうかを指定します。`polars.from_pandas()`も同様の引数があります。"
   ]
  },
  {
   "cell_type": "code",
   "execution_count": 10,
   "id": "ac311535-d45c-418a-9190-06cee9efdc14",
   "metadata": {},
   "outputs": [
    {
     "data": {
      "text/html": [
       "<table><tr><td><div><style>\n",
       ".dataframe > thead > tr,\n",
       ".dataframe > tbody > tr {\n",
       "  text-align: right;\n",
       "  white-space: pre-wrap;\n",
       "}\n",
       "</style>\n",
       "<small>shape: (4, 1)</small><table border=\"1\" class=\"dataframe\"><thead><tr><th>a</th></tr><tr><td>f64</td></tr></thead><tbody><tr><td>1.0</td></tr><tr><td>2.0</td></tr><tr><td>NaN</td></tr><tr><td>4.0</td></tr></tbody></table></div></td><td><div><style>\n",
       ".dataframe > thead > tr,\n",
       ".dataframe > tbody > tr {\n",
       "  text-align: right;\n",
       "  white-space: pre-wrap;\n",
       "}\n",
       "</style>\n",
       "<small>shape: (4, 1)</small><table border=\"1\" class=\"dataframe\"><thead><tr><th>a</th></tr><tr><td>f64</td></tr></thead><tbody><tr><td>1.0</td></tr><tr><td>2.0</td></tr><tr><td>null</td></tr><tr><td>4.0</td></tr></tbody></table></div></td></tr></table>"
      ]
     },
     "metadata": {},
     "output_type": "display_data"
    }
   ],
   "source": [
    "data = np.array([1.0, 2.0, float(\"nan\"), 4.0])\n",
    "\n",
    "df1 = pl.DataFrame({\"a\":data})\n",
    "df2 = pl.DataFrame({\"a\":data}, nan_to_null=True)\n",
    "row(df1, df2)"
   ]
  },
  {
   "cell_type": "markdown",
   "id": "5e847237-0587-4e5f-b04c-7537e745797b",
   "metadata": {},
   "source": [
    "`DataFrame.equals`メソッドの`null_equal`引数は、NULL値を等しいものと見なすかどうかを指定します。Trueに設定すると、NULLをNULLとして等しいと扱います。"
   ]
  },
  {
   "cell_type": "code",
   "execution_count": 11,
   "id": "f6a218b1-867b-45ca-a940-ec85247b10da",
   "metadata": {},
   "outputs": [
    {
     "name": "stdout",
     "output_type": "stream",
     "text": [
      "df1.equals(df2, null_equal=True) = True\n",
      "df1.equals(df2, null_equal=False) = False\n"
     ]
    }
   ],
   "source": [
    "df1 = pl.DataFrame({\n",
    "  \"a\": [None, 2, 3]\n",
    "})\n",
    "\n",
    "df2 = pl.DataFrame({\n",
    "  \"a\": [None, 2, 3]\n",
    "})\n",
    "\n",
    "print(f'{df1.equals(df2, null_equal=True) = }')\n",
    "print(f'{df1.equals(df2, null_equal=False) = }')"
   ]
  },
  {
   "cell_type": "markdown",
   "id": "19495344-239a-4df1-8984-a63af2729d46",
   "metadata": {},
   "source": [
    "`DataFrame.join`メソッドの`join_nulls`引数は、NULL値を結合条件として扱うかどうかを指定します。Trueに設定すると、NULL値を一致とみなして結合します。"
   ]
  },
  {
   "cell_type": "code",
   "execution_count": 12,
   "id": "a7837655-389d-48e1-a511-a9349931105c",
   "metadata": {},
   "outputs": [
    {
     "data": {
      "text/html": [
       "<table><tr><td><div><style>\n",
       ".dataframe > thead > tr,\n",
       ".dataframe > tbody > tr {\n",
       "  text-align: right;\n",
       "  white-space: pre-wrap;\n",
       "}\n",
       "</style>\n",
       "<small>shape: (3, 2)</small><table border=\"1\" class=\"dataframe\"><thead><tr><th>key</th><th>val1</th></tr><tr><td>i64</td><td>str</td></tr></thead><tbody><tr><td>null</td><td>&quot;A&quot;</td></tr><tr><td>2</td><td>&quot;B&quot;</td></tr><tr><td>3</td><td>&quot;C&quot;</td></tr></tbody></table></div></td><td><div><style>\n",
       ".dataframe > thead > tr,\n",
       ".dataframe > tbody > tr {\n",
       "  text-align: right;\n",
       "  white-space: pre-wrap;\n",
       "}\n",
       "</style>\n",
       "<small>shape: (3, 2)</small><table border=\"1\" class=\"dataframe\"><thead><tr><th>key</th><th>val2</th></tr><tr><td>i64</td><td>str</td></tr></thead><tbody><tr><td>null</td><td>&quot;x&quot;</td></tr><tr><td>2</td><td>&quot;y&quot;</td></tr><tr><td>4</td><td>&quot;z&quot;</td></tr></tbody></table></div></td><td><div><style>\n",
       ".dataframe > thead > tr,\n",
       ".dataframe > tbody > tr {\n",
       "  text-align: right;\n",
       "  white-space: pre-wrap;\n",
       "}\n",
       "</style>\n",
       "<small>shape: (3, 3)</small><table border=\"1\" class=\"dataframe\"><thead><tr><th>key</th><th>val1</th><th>val2</th></tr><tr><td>i64</td><td>str</td><td>str</td></tr></thead><tbody><tr><td>null</td><td>&quot;A&quot;</td><td>&quot;x&quot;</td></tr><tr><td>2</td><td>&quot;B&quot;</td><td>&quot;y&quot;</td></tr><tr><td>3</td><td>&quot;C&quot;</td><td>null</td></tr></tbody></table></div></td><td><div><style>\n",
       ".dataframe > thead > tr,\n",
       ".dataframe > tbody > tr {\n",
       "  text-align: right;\n",
       "  white-space: pre-wrap;\n",
       "}\n",
       "</style>\n",
       "<small>shape: (3, 3)</small><table border=\"1\" class=\"dataframe\"><thead><tr><th>key</th><th>val1</th><th>val2</th></tr><tr><td>i64</td><td>str</td><td>str</td></tr></thead><tbody><tr><td>null</td><td>&quot;A&quot;</td><td>null</td></tr><tr><td>2</td><td>&quot;B&quot;</td><td>&quot;y&quot;</td></tr><tr><td>3</td><td>&quot;C&quot;</td><td>null</td></tr></tbody></table></div></td></tr></table>"
      ]
     },
     "metadata": {},
     "output_type": "display_data"
    }
   ],
   "source": [
    "df1 = pl.DataFrame({\n",
    "  \"key\": [None, 2, 3],\n",
    "  \"val1\": [\"A\", \"B\", \"C\"]  \n",
    "})\n",
    "\n",
    "df2 = pl.DataFrame({\n",
    "  \"key\": [None, 2, 4],\n",
    "  \"val2\": [\"x\", \"y\", \"z\"]  \n",
    "})\n",
    "\n",
    "df_join_null = df1.join(df2, on=\"key\", how=\"left\", join_nulls=True)\n",
    "df_not_join_null = df1.join(df2, on=\"key\", how=\"left\", join_nulls=False)\n",
    "\n",
    "row(df1, df2, df_join_null, df_not_join_null)"
   ]
  },
  {
   "cell_type": "markdown",
   "id": "e752e071-603c-4da1-9a1b-f6a6bbea930e",
   "metadata": {},
   "source": [
    "`how`引数は`full`の場合は、状況は少し複数になります。\n",
    "\n",
    "* `join_nulls=True`: 左側のNULLと右側のNULLを一致とみなしため、結果は4行になります。一致する行のキーは`null`と`2`で、一致しない行は左側の`3`と右側`4`です。\n",
    "* `join_nulls=False`: 左側のNULLと右側のNULLを一致しない判断なので、結果は5行になります。一致する行のキーは`2`だけで、一致しない行は左側の`NULL`、`3`と右側の`NULL`、`4`です。"
   ]
  },
  {
   "cell_type": "code",
   "execution_count": 13,
   "id": "f7f6a364-0b14-42f2-9bf3-ee68c3054b92",
   "metadata": {},
   "outputs": [
    {
     "data": {
      "text/html": [
       "<table><tr><td><div><style>\n",
       ".dataframe > thead > tr,\n",
       ".dataframe > tbody > tr {\n",
       "  text-align: right;\n",
       "  white-space: pre-wrap;\n",
       "}\n",
       "</style>\n",
       "<small>shape: (3, 2)</small><table border=\"1\" class=\"dataframe\"><thead><tr><th>key</th><th>val1</th></tr><tr><td>i64</td><td>str</td></tr></thead><tbody><tr><td>null</td><td>&quot;A&quot;</td></tr><tr><td>2</td><td>&quot;B&quot;</td></tr><tr><td>3</td><td>&quot;C&quot;</td></tr></tbody></table></div></td><td><div><style>\n",
       ".dataframe > thead > tr,\n",
       ".dataframe > tbody > tr {\n",
       "  text-align: right;\n",
       "  white-space: pre-wrap;\n",
       "}\n",
       "</style>\n",
       "<small>shape: (3, 2)</small><table border=\"1\" class=\"dataframe\"><thead><tr><th>key</th><th>val2</th></tr><tr><td>i64</td><td>str</td></tr></thead><tbody><tr><td>null</td><td>&quot;x&quot;</td></tr><tr><td>2</td><td>&quot;y&quot;</td></tr><tr><td>4</td><td>&quot;z&quot;</td></tr></tbody></table></div></td><td><div><style>\n",
       ".dataframe > thead > tr,\n",
       ".dataframe > tbody > tr {\n",
       "  text-align: right;\n",
       "  white-space: pre-wrap;\n",
       "}\n",
       "</style>\n",
       "<small>shape: (4, 4)</small><table border=\"1\" class=\"dataframe\"><thead><tr><th>key</th><th>val1</th><th>key_right</th><th>val2</th></tr><tr><td>i64</td><td>str</td><td>i64</td><td>str</td></tr></thead><tbody><tr><td>null</td><td>&quot;A&quot;</td><td>null</td><td>&quot;x&quot;</td></tr><tr><td>2</td><td>&quot;B&quot;</td><td>2</td><td>&quot;y&quot;</td></tr><tr><td>null</td><td>null</td><td>4</td><td>&quot;z&quot;</td></tr><tr><td>3</td><td>&quot;C&quot;</td><td>null</td><td>null</td></tr></tbody></table></div></td><td><div><style>\n",
       ".dataframe > thead > tr,\n",
       ".dataframe > tbody > tr {\n",
       "  text-align: right;\n",
       "  white-space: pre-wrap;\n",
       "}\n",
       "</style>\n",
       "<small>shape: (5, 4)</small><table border=\"1\" class=\"dataframe\"><thead><tr><th>key</th><th>val1</th><th>key_right</th><th>val2</th></tr><tr><td>i64</td><td>str</td><td>i64</td><td>str</td></tr></thead><tbody><tr><td>null</td><td>null</td><td>null</td><td>&quot;x&quot;</td></tr><tr><td>2</td><td>&quot;B&quot;</td><td>2</td><td>&quot;y&quot;</td></tr><tr><td>null</td><td>null</td><td>4</td><td>&quot;z&quot;</td></tr><tr><td>3</td><td>&quot;C&quot;</td><td>null</td><td>null</td></tr><tr><td>null</td><td>&quot;A&quot;</td><td>null</td><td>null</td></tr></tbody></table></div></td></tr></table>"
      ]
     },
     "metadata": {},
     "output_type": "display_data"
    }
   ],
   "source": [
    "df_join_null = df1.join(df2, on=\"key\", how=\"full\", join_nulls=True)\n",
    "df_not_join_null = df1.join(df2, on=\"key\", how=\"full\", join_nulls=False)\n",
    "\n",
    "row(df1, df2, df_join_null, df_not_join_null)"
   ]
  },
  {
   "cell_type": "markdown",
   "id": "9dd81dcf-31e7-44f0-9e98-e187c76b9a32",
   "metadata": {},
   "source": [
    "`mean_horizontal`や`sum_horizontal`メソッドの`ignore_nulls`引数は、横方向の計算（行単位）でNULLを無視するかどうかを制御します。"
   ]
  },
  {
   "cell_type": "code",
   "execution_count": 14,
   "id": "9e060571-9a52-4380-a28f-ba7fd73f56b7",
   "metadata": {},
   "outputs": [
    {
     "data": {
      "text/html": [
       "<table><tr><td><div><style>\n",
       ".dataframe > thead > tr,\n",
       ".dataframe > tbody > tr {\n",
       "  text-align: right;\n",
       "  white-space: pre-wrap;\n",
       "}\n",
       "</style>\n",
       "<small>shape: (3, 2)</small><table border=\"1\" class=\"dataframe\"><thead><tr><th>a</th><th>b</th></tr><tr><td>i64</td><td>i64</td></tr></thead><tbody><tr><td>1</td><td>4</td></tr><tr><td>null</td><td>5</td></tr><tr><td>3</td><td>null</td></tr></tbody></table></div></td><td><div><style>\n",
       ".dataframe > thead > tr,\n",
       ".dataframe > tbody > tr {\n",
       "  text-align: right;\n",
       "  white-space: pre-wrap;\n",
       "}\n",
       "</style>\n",
       "<small>shape: (3,)</small><table border=\"1\" class=\"dataframe\"><thead><tr><th>mean</th></tr><tr><td>f64</td></tr></thead><tbody><tr><td>2.5</td></tr><tr><td>5.0</td></tr><tr><td>3.0</td></tr></tbody></table></div></td><td><div><style>\n",
       ".dataframe > thead > tr,\n",
       ".dataframe > tbody > tr {\n",
       "  text-align: right;\n",
       "  white-space: pre-wrap;\n",
       "}\n",
       "</style>\n",
       "<small>shape: (3,)</small><table border=\"1\" class=\"dataframe\"><thead><tr><th>mean</th></tr><tr><td>f64</td></tr></thead><tbody><tr><td>2.5</td></tr><tr><td>null</td></tr><tr><td>null</td></tr></tbody></table></div></td></tr></table>"
      ]
     },
     "metadata": {},
     "output_type": "display_data"
    }
   ],
   "source": [
    "df = pl.DataFrame({\n",
    "  \"a\": [1, None, 3],\n",
    "  \"b\": [4, 5, None]\n",
    "})\n",
    "\n",
    "df1 = df.mean_horizontal(ignore_nulls=True)\n",
    "df2 = df.mean_horizontal(ignore_nulls=False)\n",
    "row(df, df1, df2)"
   ]
  },
  {
   "cell_type": "markdown",
   "id": "969baf44-b9ca-43f2-84cb-d96fcfe539a3",
   "metadata": {},
   "source": [
    "`DataFrame.write_csv`メソッドの`null_value`引数は、CSVにNULL値を書き込む際のプレースホルダ（例えば、`NaN`や`None`など）を指定します。"
   ]
  },
  {
   "cell_type": "code",
   "execution_count": 15,
   "id": "8792f672-7032-4bd4-aa8c-de2cbc64a373",
   "metadata": {},
   "outputs": [
    {
     "name": "stdout",
     "output_type": "stream",
     "text": [
      "a\n",
      "1\n",
      "NULL\n",
      "3\n",
      "\n"
     ]
    }
   ],
   "source": [
    "df = pl.DataFrame({\n",
    "  \"a\": [1, None, 3],\n",
    "})\n",
    "\n",
    "df.write_csv(\"data/output.csv\", null_value=\"NULL\")\n",
    "\n",
    "with open('data/output.csv') as f:\n",
    "    print(f.read())"
   ]
  },
  {
   "cell_type": "markdown",
   "id": "a3501709-2d29-4106-92f1-de92002d5193",
   "metadata": {},
   "source": [
    "`DataFrame.update`メソッドの`include_nulls`引数は、NULL値を更新対象に含めるかどうかを指定します。次の例では、`include_null=True`の場合、`df2`の`a`列の値を全部使用します。`False`の場合は、NULL以外の値を使用します。"
   ]
  },
  {
   "cell_type": "code",
   "execution_count": 16,
   "id": "b55cf567-3ada-4920-becb-a42a9745bb84",
   "metadata": {},
   "outputs": [
    {
     "data": {
      "text/html": [
       "<table><tr><td><div><style>\n",
       ".dataframe > thead > tr,\n",
       ".dataframe > tbody > tr {\n",
       "  text-align: right;\n",
       "  white-space: pre-wrap;\n",
       "}\n",
       "</style>\n",
       "<small>shape: (4, 2)</small><table border=\"1\" class=\"dataframe\"><thead><tr><th>a</th><th>b</th></tr><tr><td>i64</td><td>i64</td></tr></thead><tbody><tr><td>null</td><td>10</td></tr><tr><td>2</td><td>20</td></tr><tr><td>3</td><td>30</td></tr><tr><td>4</td><td>40</td></tr></tbody></table></div></td><td><div><style>\n",
       ".dataframe > thead > tr,\n",
       ".dataframe > tbody > tr {\n",
       "  text-align: right;\n",
       "  white-space: pre-wrap;\n",
       "}\n",
       "</style>\n",
       "<small>shape: (4, 1)</small><table border=\"1\" class=\"dataframe\"><thead><tr><th>a</th></tr><tr><td>i64</td></tr></thead><tbody><tr><td>1</td></tr><tr><td>null</td></tr><tr><td>3</td></tr><tr><td>10</td></tr></tbody></table></div></td><td><div><style>\n",
       ".dataframe > thead > tr,\n",
       ".dataframe > tbody > tr {\n",
       "  text-align: right;\n",
       "  white-space: pre-wrap;\n",
       "}\n",
       "</style>\n",
       "<small>shape: (4, 2)</small><table border=\"1\" class=\"dataframe\"><thead><tr><th>a</th><th>b</th></tr><tr><td>i64</td><td>i64</td></tr></thead><tbody><tr><td>1</td><td>10</td></tr><tr><td>null</td><td>20</td></tr><tr><td>3</td><td>30</td></tr><tr><td>10</td><td>40</td></tr></tbody></table></div></td><td><div><style>\n",
       ".dataframe > thead > tr,\n",
       ".dataframe > tbody > tr {\n",
       "  text-align: right;\n",
       "  white-space: pre-wrap;\n",
       "}\n",
       "</style>\n",
       "<small>shape: (4, 2)</small><table border=\"1\" class=\"dataframe\"><thead><tr><th>a</th><th>b</th></tr><tr><td>i64</td><td>i64</td></tr></thead><tbody><tr><td>1</td><td>10</td></tr><tr><td>2</td><td>20</td></tr><tr><td>3</td><td>30</td></tr><tr><td>10</td><td>40</td></tr></tbody></table></div></td></tr></table>"
      ]
     },
     "metadata": {},
     "output_type": "display_data"
    }
   ],
   "source": [
    "df1 = pl.DataFrame({\n",
    "  \"a\": [None, 2, 3, 4],\n",
    "  \"b\": [10, 20, 30, 40],\n",
    "})\n",
    "\n",
    "df2 = pl.DataFrame({\n",
    "  \"a\": [1, None, 3, 10]\n",
    "})\n",
    "\n",
    "df_inc_nulls = df1.update(df2, include_nulls=True)\n",
    "df_not_inc_nulls = df1.update(df2, include_nulls=False)\n",
    "row(df1, df2, df_inc_nulls, df_not_inc_nulls)"
   ]
  },
  {
   "cell_type": "markdown",
   "id": "f7a4c0b9-c6d6-4d3e-a6af-7c73e0eb6524",
   "metadata": {},
   "source": [
    "`read_csv`, `scan_csv`, `read_csv_batched`などの関数の`null_values`引数は、CSVファイルを読み込む際に、どの値をNULLとして扱うかを指定します。通常、`\"null\"`や`\"NaN\"`などが指定されます。"
   ]
  },
  {
   "cell_type": "code",
   "execution_count": 17,
   "id": "00d02943-88e0-4172-a789-d06e14143e7b",
   "metadata": {},
   "outputs": [
    {
     "data": {
      "text/html": [
       "<div><style>\n",
       ".dataframe > thead > tr,\n",
       ".dataframe > tbody > tr {\n",
       "  text-align: right;\n",
       "  white-space: pre-wrap;\n",
       "}\n",
       "</style>\n",
       "<small>shape: (3, 1)</small><table border=\"1\" class=\"dataframe\"><thead><tr><th>a</th></tr><tr><td>i64</td></tr></thead><tbody><tr><td>1</td></tr><tr><td>null</td></tr><tr><td>3</td></tr></tbody></table></div>"
      ],
      "text/plain": [
       "shape: (3, 1)\n",
       "┌──────┐\n",
       "│ a    │\n",
       "│ ---  │\n",
       "│ i64  │\n",
       "╞══════╡\n",
       "│ 1    │\n",
       "│ null │\n",
       "│ 3    │\n",
       "└──────┘"
      ]
     },
     "execution_count": 17,
     "metadata": {},
     "output_type": "execute_result"
    }
   ],
   "source": [
    "pl.read_csv('data/output.csv', null_values=['NULL'])"
   ]
  },
  {
   "cell_type": "markdown",
   "id": "9858fe35-17f6-4fb6-9ccf-8e294c680d68",
   "metadata": {},
   "source": [
    "## NaN処理\n",
    "\n",
    "NaN（Not a Number）は、浮動小数点型特有の値で、計算エラーや未定義の結果を表すために使用されます。Polarsでは、NaNを効率的に処理するための方法が提供されています。以下の例を使用して、NaN処理の基本を説明します。"
   ]
  },
  {
   "cell_type": "code",
   "execution_count": 18,
   "id": "21019316-8b53-4cce-917b-0e4ad95b78fe",
   "metadata": {},
   "outputs": [
    {
     "data": {
      "text/html": [
       "<table><tr><td><div><style>\n",
       ".dataframe > thead > tr,\n",
       ".dataframe > tbody > tr {\n",
       "  text-align: right;\n",
       "  white-space: pre-wrap;\n",
       "}\n",
       "</style>\n",
       "<small>shape: (5, 2)</small><table border=\"1\" class=\"dataframe\"><thead><tr><th>A</th><th>B</th></tr><tr><td>f64</td><td>f64</td></tr></thead><tbody><tr><td>0.0</td><td>0.0</td></tr><tr><td>1.0</td><td>1.0</td></tr><tr><td>2.0</td><td>2.0</td></tr><tr><td>null</td><td>NaN</td></tr><tr><td>3.0</td><td>3.0</td></tr></tbody></table></div></td><td><div><style>\n",
       ".dataframe > thead > tr,\n",
       ".dataframe > tbody > tr {\n",
       "  text-align: right;\n",
       "  white-space: pre-wrap;\n",
       "}\n",
       "</style>\n",
       "<small>shape: (1, 2)</small><table border=\"1\" class=\"dataframe\"><thead><tr><th>A</th><th>B</th></tr><tr><td>f64</td><td>f64</td></tr></thead><tbody><tr><td>6.0</td><td>NaN</td></tr></tbody></table></div></td><td><div><style>\n",
       ".dataframe > thead > tr,\n",
       ".dataframe > tbody > tr {\n",
       "  text-align: right;\n",
       "  white-space: pre-wrap;\n",
       "}\n",
       "</style>\n",
       "<small>shape: (1, 2)</small><table border=\"1\" class=\"dataframe\"><thead><tr><th>A</th><th>B</th></tr><tr><td>f64</td><td>f64</td></tr></thead><tbody><tr><td>6.0</td><td>6.0</td></tr></tbody></table></div></td></tr></table>"
      ]
     },
     "metadata": {},
     "output_type": "display_data"
    }
   ],
   "source": [
    "import numpy as np\n",
    "import polars as pl\n",
    "\n",
    "df = pl.DataFrame(dict(\n",
    "    A=[0.0, 1.0, 2.0, None, 3.0],  # 列AにはNULLも含まれる\n",
    "    B=[0.0, 1.0, 2.0, np.nan, 3.0]  # 列BにはNaNが含まれる\n",
    "))\n",
    "\n",
    "# 各列の合計を計算 (NaNやNULLは無視される)\n",
    "df1 = df.select(pl.all().sum())\n",
    "\n",
    "# NaNをNULLに置き換えてから、各列の合計を計算\n",
    "df2 = df.select(pl.all().fill_nan(None).sum())\n",
    "\n",
    "row(df, df1, df2)"
   ]
  },
  {
   "cell_type": "markdown",
   "id": "dc60fd1e-7eaa-4ecc-bc43-d4e2ea76418f",
   "metadata": {},
   "source": [
    "`Inf`（Infinity）は、浮動小数点型の特殊な値で、数学的な無限を表します。PolarsにはInfを直接NULLに置き換える専用の演算式がありませんが、`replace()` を使用して処理できます。"
   ]
  },
  {
   "cell_type": "code",
   "execution_count": 19,
   "id": "f9432344-8c30-44a6-b287-5765f275fbec",
   "metadata": {},
   "outputs": [
    {
     "data": {
      "text/html": [
       "<div><style>\n",
       ".dataframe > thead > tr,\n",
       ".dataframe > tbody > tr {\n",
       "  text-align: right;\n",
       "  white-space: pre-wrap;\n",
       "}\n",
       "</style>\n",
       "<small>shape: (1, 2)</small><table border=\"1\" class=\"dataframe\"><thead><tr><th>r1</th><th>r2</th></tr><tr><td>f64</td><td>f64</td></tr></thead><tbody><tr><td>inf</td><td>0.611111</td></tr></tbody></table></div>"
      ],
      "text/plain": [
       "shape: (1, 2)\n",
       "┌─────┬──────────┐\n",
       "│ r1  ┆ r2       │\n",
       "│ --- ┆ ---      │\n",
       "│ f64 ┆ f64      │\n",
       "╞═════╪══════════╡\n",
       "│ inf ┆ 0.611111 │\n",
       "└─────┴──────────┘"
      ]
     },
     "execution_count": 19,
     "metadata": {},
     "output_type": "execute_result"
    }
   ],
   "source": [
    "df.select(\n",
    "    r1=(1 / pl.col('A')).mean(),\n",
    "    r2=(1 / pl.col('A')).replace(np.inf, None).mean()\n",
    ")"
   ]
  }
 ],
 "metadata": {
  "kernelspec": {
   "display_name": "Python 3 (ipykernel)",
   "language": "python",
   "name": "python3"
  },
  "language_info": {
   "codemirror_mode": {
    "name": "ipython",
    "version": 3
   },
   "file_extension": ".py",
   "mimetype": "text/x-python",
   "name": "python",
   "nbconvert_exporter": "python",
   "pygments_lexer": "ipython3",
   "version": "3.12.2"
  }
 },
 "nbformat": 4,
 "nbformat_minor": 5
}

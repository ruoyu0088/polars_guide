{
 "cells": [
  {
   "cell_type": "markdown",
   "id": "8494e842-81b7-40e6-93b2-6b2f4c1180ce",
   "metadata": {},
   "source": [
    "# NULL処理"
   ]
  },
  {
   "cell_type": "markdown",
   "id": "316d98e0-9487-40b9-80a8-8e302a25567d",
   "metadata": {},
   "source": [
    "データフレームの操作では、NULL（欠損値）の存在がデータ分析や計算結果に影響を及ぼすことがあります。適切なNULL処理を行うことで、データの品質を保ち、信頼性の高い結果を得ることが可能です。本章では、NULL値の検出、除去、置換、および活用方法について解説します。"
   ]
  },
  {
   "cell_type": "code",
   "execution_count": 2,
   "id": "f061133b-bebd-4675-90c8-ad398c2b0242",
   "metadata": {},
   "outputs": [],
   "source": [
    "import polars as pl\n",
    "import numpy as np\n",
    "from helper.jupyter import row"
   ]
  },
  {
   "attachments": {},
   "cell_type": "markdown",
   "id": "32ff6daa-0ee9-473f-aea0-54ca43b69e8a",
   "metadata": {},
   "source": [
    "## NULLに関する計算\n",
    "\n",
    "Polarsでは、データの欠損を表すために、データとは別にNULL情報を管理するビットマスクを使用しています。Pythonのデータをデータフレームに変換する際、`None` は自動的にNULLに変換されます。以下の例を用いて、NULLに関する計算の基本ルールを説明します。\n",
    "\n",
    "- ❶ 各要素に対する演算では、いずれかの要素がNULLの場合、結果もNULLになります。  \n",
    "- ❷ `sum()` や `mean()` などの集約計算では、NULLが自動的に無視されます。"
   ]
  },
  {
   "cell_type": "code",
   "execution_count": 2,
   "id": "cb765b96-e274-4226-b2dd-6a95ef0ca4a2",
   "metadata": {},
   "outputs": [
    {
     "data": {
      "text/html": [
       "<table><tr><td><div><style>\n",
       ".dataframe > thead > tr,\n",
       ".dataframe > tbody > tr {\n",
       "  text-align: right;\n",
       "  white-space: pre-wrap;\n",
       "}\n",
       "</style>\n",
       "<small>shape: (4, 2)</small><table border=\"1\" class=\"dataframe\"><thead><tr><th>A</th><th>B</th></tr><tr><td>i64</td><td>i64</td></tr></thead><tbody><tr><td>1</td><td>5</td></tr><tr><td>2</td><td>null</td></tr><tr><td>null</td><td>6</td></tr><tr><td>null</td><td>null</td></tr></tbody></table></div></td><td><div><style>\n",
       ".dataframe > thead > tr,\n",
       ".dataframe > tbody > tr {\n",
       "  text-align: right;\n",
       "  white-space: pre-wrap;\n",
       "}\n",
       "</style>\n",
       "<small>shape: (4, 1)</small><table border=\"1\" class=\"dataframe\"><thead><tr><th>A_plus_B</th></tr><tr><td>i64</td></tr></thead><tbody><tr><td>6</td></tr><tr><td>null</td></tr><tr><td>null</td></tr><tr><td>null</td></tr></tbody></table></div></td><td><div><style>\n",
       ".dataframe > thead > tr,\n",
       ".dataframe > tbody > tr {\n",
       "  text-align: right;\n",
       "  white-space: pre-wrap;\n",
       "}\n",
       "</style>\n",
       "<small>shape: (1, 2)</small><table border=\"1\" class=\"dataframe\"><thead><tr><th>A_sum</th><th>B_mean</th></tr><tr><td>i64</td><td>f64</td></tr></thead><tbody><tr><td>3</td><td>5.5</td></tr></tbody></table></div></td></tr></table>"
      ]
     },
     "metadata": {},
     "output_type": "display_data"
    }
   ],
   "source": [
    "df = pl.DataFrame(dict(\n",
    "    A = [1, 2, None, None],\n",
    "    B = [5, None, 6, None]\n",
    "))\n",
    "\n",
    "df1 = df.select(A_plus_B=pl.col('A') + pl.col('B')) #❶\n",
    "df2 = df.select( \n",
    "    A_sum=pl.col('A').sum(),  #❷\n",
    "    B_mean=pl.col('B').mean()\n",
    ") \n",
    "row(df, df1, df2)"
   ]
  },
  {
   "cell_type": "markdown",
   "id": "10826c48-ab8f-4b52-ab68-adaf90f3a932",
   "metadata": {},
   "source": [
    "## NULLを処理する関数と演算式\n",
    "\n",
    "Polarsでは、NULLを効率的に処理するための演算式や関数を提供しています。それぞれの機能と使用例を以下に示します。\n",
    "\n",
    "- **`drop_nulls`**: NULLが含まれる行を削除します。ただし、❶列ごとに要素数が異なる場合があるため、データフレームの構造を保つために `implode()` を使用して列をリスト形式に変換する必要があります。  \n",
    "- **`fill_null`**: NULLを指定した値で埋めます。  \n",
    "- **`null_count`**: 各列のNULL値の個数をカウントします。  \n",
    "- **`has_nulls`**: データフレーム全体または各列にNULLが含まれているかを判定します。  \n",
    "- **`is_null`**: 各要素がNULLであるかをブール値で返します。  \n",
    "- **`is_not_null`**: 各要素がNULLでないかをブール値で返します。"
   ]
  },
  {
   "cell_type": "code",
   "execution_count": 18,
   "id": "a496622f-7d86-4992-9bf0-89188ca931ce",
   "metadata": {},
   "outputs": [
    {
     "data": {
      "text/html": [
       "<table><tr><td><div><style>\n",
       ".dataframe > thead > tr,\n",
       ".dataframe > tbody > tr {\n",
       "  text-align: right;\n",
       "  white-space: pre-wrap;\n",
       "}\n",
       "</style>\n",
       "<small>shape: (4, 2)</small><table border=\"1\" class=\"dataframe\"><thead><tr><th>A</th><th>B</th></tr><tr><td>i64</td><td>i64</td></tr></thead><tbody><tr><td>1</td><td>null</td></tr><tr><td>2</td><td>3</td></tr><tr><td>null</td><td>5</td></tr><tr><td>3</td><td>null</td></tr></tbody></table></div></td><td><div><style>\n",
       ".dataframe > thead > tr,\n",
       ".dataframe > tbody > tr {\n",
       "  text-align: right;\n",
       "  white-space: pre-wrap;\n",
       "}\n",
       "</style>\n",
       "<small>shape: (1, 2)</small><table border=\"1\" class=\"dataframe\"><thead><tr><th>A</th><th>B</th></tr><tr><td>list[i64]</td><td>list[i64]</td></tr></thead><tbody><tr><td>[1, 2, 3]</td><td>[3, 5]</td></tr></tbody></table></div></td><td><div><style>\n",
       ".dataframe > thead > tr,\n",
       ".dataframe > tbody > tr {\n",
       "  text-align: right;\n",
       "  white-space: pre-wrap;\n",
       "}\n",
       "</style>\n",
       "<small>shape: (4, 2)</small><table border=\"1\" class=\"dataframe\"><thead><tr><th>A</th><th>B</th></tr><tr><td>i64</td><td>i64</td></tr></thead><tbody><tr><td>1</td><td>0</td></tr><tr><td>2</td><td>3</td></tr><tr><td>0</td><td>5</td></tr><tr><td>3</td><td>0</td></tr></tbody></table></div></td><td><div><style>\n",
       ".dataframe > thead > tr,\n",
       ".dataframe > tbody > tr {\n",
       "  text-align: right;\n",
       "  white-space: pre-wrap;\n",
       "}\n",
       "</style>\n",
       "<small>shape: (1, 2)</small><table border=\"1\" class=\"dataframe\"><thead><tr><th>A</th><th>B</th></tr><tr><td>u32</td><td>u32</td></tr></thead><tbody><tr><td>1</td><td>2</td></tr></tbody></table></div></td><td><div><style>\n",
       ".dataframe > thead > tr,\n",
       ".dataframe > tbody > tr {\n",
       "  text-align: right;\n",
       "  white-space: pre-wrap;\n",
       "}\n",
       "</style>\n",
       "<small>shape: (1, 2)</small><table border=\"1\" class=\"dataframe\"><thead><tr><th>A</th><th>B</th></tr><tr><td>bool</td><td>bool</td></tr></thead><tbody><tr><td>true</td><td>true</td></tr></tbody></table></div></td><td><div><style>\n",
       ".dataframe > thead > tr,\n",
       ".dataframe > tbody > tr {\n",
       "  text-align: right;\n",
       "  white-space: pre-wrap;\n",
       "}\n",
       "</style>\n",
       "<small>shape: (4, 2)</small><table border=\"1\" class=\"dataframe\"><thead><tr><th>A</th><th>B</th></tr><tr><td>bool</td><td>bool</td></tr></thead><tbody><tr><td>false</td><td>true</td></tr><tr><td>false</td><td>false</td></tr><tr><td>true</td><td>false</td></tr><tr><td>false</td><td>true</td></tr></tbody></table></div></td></tr></table>"
      ]
     },
     "metadata": {},
     "output_type": "display_data"
    }
   ],
   "source": [
    "df = pl.DataFrame({\"A\": [1, 2, None, 3], \"B\": [None, 3, 5, None]})\n",
    "\n",
    "# 各列のNULLを削除し、リスト形式の列に変換\n",
    "df1 = df.select(pl.all().drop_nulls().implode()) #❶\n",
    "\n",
    "# NULLを0に埋める\n",
    "df2 = df.with_columns(pl.all().fill_null(0))\n",
    "\n",
    "# 各列のNULL値の個数を取得\n",
    "df3 = df.select(pl.all().null_count())\n",
    "\n",
    "# 各列にNULLが含まれるか判定\n",
    "df4 = df.select(pl.all().has_nulls())\n",
    "\n",
    "# 各要素がNULLか判定\n",
    "df5 = df.select(pl.all().is_null())\n",
    "\n",
    "row(df, df1, df2, df3, df4, df5)"
   ]
  },
  {
   "cell_type": "markdown",
   "id": "9b11cf50-9754-478d-bfbb-ce29acdbdbe0",
   "metadata": {},
   "source": [
    "`DataFrame`では、同じ機能をメソッドとして使用できます。\n",
    "\n",
    "- **`DataFrame.drop_nulls()`**: データフレーム全体からNULLを含む行を削除します。\n",
    "- **`DataFrame.fill_null()`**: 指定した値でNULLを埋めます。\n",
    "- **`DataFrame.null_count()`**: 各列のNULL値の個数を取得します。"
   ]
  },
  {
   "cell_type": "code",
   "execution_count": 21,
   "id": "b54782da-ddbf-41a5-aef7-b1b35a7e997a",
   "metadata": {},
   "outputs": [
    {
     "data": {
      "text/html": [
       "<table><tr><td><div><style>\n",
       ".dataframe > thead > tr,\n",
       ".dataframe > tbody > tr {\n",
       "  text-align: right;\n",
       "  white-space: pre-wrap;\n",
       "}\n",
       "</style>\n",
       "<small>shape: (1, 2)</small><table border=\"1\" class=\"dataframe\"><thead><tr><th>A</th><th>B</th></tr><tr><td>i64</td><td>i64</td></tr></thead><tbody><tr><td>2</td><td>3</td></tr></tbody></table></div></td><td><div><style>\n",
       ".dataframe > thead > tr,\n",
       ".dataframe > tbody > tr {\n",
       "  text-align: right;\n",
       "  white-space: pre-wrap;\n",
       "}\n",
       "</style>\n",
       "<small>shape: (4, 2)</small><table border=\"1\" class=\"dataframe\"><thead><tr><th>A</th><th>B</th></tr><tr><td>i64</td><td>i64</td></tr></thead><tbody><tr><td>1</td><td>0</td></tr><tr><td>2</td><td>3</td></tr><tr><td>0</td><td>5</td></tr><tr><td>3</td><td>0</td></tr></tbody></table></div></td><td><div><style>\n",
       ".dataframe > thead > tr,\n",
       ".dataframe > tbody > tr {\n",
       "  text-align: right;\n",
       "  white-space: pre-wrap;\n",
       "}\n",
       "</style>\n",
       "<small>shape: (1, 2)</small><table border=\"1\" class=\"dataframe\"><thead><tr><th>A</th><th>B</th></tr><tr><td>u32</td><td>u32</td></tr></thead><tbody><tr><td>1</td><td>2</td></tr></tbody></table></div></td></tr></table>"
      ]
     },
     "metadata": {},
     "output_type": "display_data"
    }
   ],
   "source": [
    "row(\n",
    "    df.drop_nulls(),\n",
    "    df.fill_null(0),\n",
    "    df.null_count()\n",
    ")"
   ]
  },
  {
   "cell_type": "markdown",
   "id": "975a053a-30ca-40dc-814c-d230ae21a987",
   "metadata": {},
   "source": [
    "`fill_null` メソッドと計算式では、`strategy` 引数を使用してNULL値を埋める方法を指定できます。また、`limit` 引数を指定することで、NULLを埋める回数を制限することが可能です。\n",
    "\n",
    "`strategy` には以下のオプションがあります：\n",
    "\n",
    "- `\"forward\"`: 前の値でNULLを埋めます（前方補完）。\n",
    "- `\"backward\"`: 次の値でNULLを埋めます（後方補完）。\n",
    "- `\"min\"`: 列の最小値でNULLを埋めます。\n",
    "- `\"max\"`: 列の最大値でNULLを埋めます。\n",
    "- `\"mean\"`: 列の平均値でNULLを埋めます。\n",
    "- `\"one\"`: 値をすべて1に置き換えます。\n",
    "- `\"zero\"`: 値をすべて0に置き換えます。\n",
    "\n",
    "`limit` は、NULL値を埋める最大回数を指定します。これにより、全てのNULLを埋めずに制限をかけることができます。"
   ]
  },
  {
   "cell_type": "code",
   "execution_count": 25,
   "id": "02987e63-2541-401f-b9b6-7eea2cea999d",
   "metadata": {},
   "outputs": [
    {
     "data": {
      "text/html": [
       "<table><tr><td><div><style>\n",
       ".dataframe > thead > tr,\n",
       ".dataframe > tbody > tr {\n",
       "  text-align: right;\n",
       "  white-space: pre-wrap;\n",
       "}\n",
       "</style>\n",
       "<small>shape: (4, 2)</small><table border=\"1\" class=\"dataframe\"><thead><tr><th>A</th><th>B</th></tr><tr><td>f64</td><td>f64</td></tr></thead><tbody><tr><td>1.0</td><td>null</td></tr><tr><td>null</td><td>2.0</td></tr><tr><td>null</td><td>null</td></tr><tr><td>4.0</td><td>null</td></tr></tbody></table></div></td><td><div><style>\n",
       ".dataframe > thead > tr,\n",
       ".dataframe > tbody > tr {\n",
       "  text-align: right;\n",
       "  white-space: pre-wrap;\n",
       "}\n",
       "</style>\n",
       "<small>shape: (4, 2)</small><table border=\"1\" class=\"dataframe\"><thead><tr><th>A</th><th>B</th></tr><tr><td>f64</td><td>f64</td></tr></thead><tbody><tr><td>1.0</td><td>null</td></tr><tr><td>1.0</td><td>2.0</td></tr><tr><td>1.0</td><td>2.0</td></tr><tr><td>4.0</td><td>2.0</td></tr></tbody></table></div></td><td><div><style>\n",
       ".dataframe > thead > tr,\n",
       ".dataframe > tbody > tr {\n",
       "  text-align: right;\n",
       "  white-space: pre-wrap;\n",
       "}\n",
       "</style>\n",
       "<small>shape: (4, 2)</small><table border=\"1\" class=\"dataframe\"><thead><tr><th>A</th><th>B</th></tr><tr><td>f64</td><td>f64</td></tr></thead><tbody><tr><td>1.0</td><td>2.0</td></tr><tr><td>4.0</td><td>2.0</td></tr><tr><td>4.0</td><td>null</td></tr><tr><td>4.0</td><td>null</td></tr></tbody></table></div></td><td><div><style>\n",
       ".dataframe > thead > tr,\n",
       ".dataframe > tbody > tr {\n",
       "  text-align: right;\n",
       "  white-space: pre-wrap;\n",
       "}\n",
       "</style>\n",
       "<small>shape: (4, 2)</small><table border=\"1\" class=\"dataframe\"><thead><tr><th>A</th><th>B</th></tr><tr><td>f64</td><td>f64</td></tr></thead><tbody><tr><td>1.0</td><td>2.0</td></tr><tr><td>2.5</td><td>2.0</td></tr><tr><td>2.5</td><td>2.0</td></tr><tr><td>4.0</td><td>2.0</td></tr></tbody></table></div></td><td><div><style>\n",
       ".dataframe > thead > tr,\n",
       ".dataframe > tbody > tr {\n",
       "  text-align: right;\n",
       "  white-space: pre-wrap;\n",
       "}\n",
       "</style>\n",
       "<small>shape: (4, 2)</small><table border=\"1\" class=\"dataframe\"><thead><tr><th>A</th><th>B</th></tr><tr><td>f64</td><td>f64</td></tr></thead><tbody><tr><td>1.0</td><td>null</td></tr><tr><td>1.0</td><td>2.0</td></tr><tr><td>null</td><td>2.0</td></tr><tr><td>4.0</td><td>null</td></tr></tbody></table></div></td></tr></table>"
      ]
     },
     "metadata": {},
     "output_type": "display_data"
    }
   ],
   "source": [
    "df = pl.DataFrame({\n",
    "    \"A\": [1.0, None, None, 4],\n",
    "    \"B\": [None, 2.0, None, None]\n",
    "})\n",
    "\n",
    "# 前方補完でNULLを埋める\n",
    "df_forward = df.fill_null(strategy=\"forward\")\n",
    "\n",
    "# 後方補完でNULLを埋める\n",
    "df_backward = df.fill_null(strategy=\"backward\")\n",
    "\n",
    "# 平均値でNULLを埋める\n",
    "df_mean = df.fill_null(strategy=\"mean\")\n",
    "\n",
    "# 前方補完を使用し、最大1つのNULLのみ埋める\n",
    "df_limit = df.fill_null(strategy=\"forward\", limit=1)\n",
    "\n",
    "row(df, df_forward, df_backward, df_mean, df_limit)"
   ]
  },
  {
   "cell_type": "markdown",
   "id": "208a5b63-e9b2-4498-b1a4-a2d7bb6c814d",
   "metadata": {},
   "source": [
    "## NULLに関する引数"
   ]
  },
  {
   "cell_type": "markdown",
   "id": "f98c991c-f1cf-45c6-813e-82560895d8d2",
   "metadata": {},
   "source": [
    "演算式には、以下のNULLに関する引数があります。\n",
    "\n",
    "* `sort`, `sort_by`, `arg_sort`, `arg_sort_by`の`nulls_last`\n",
    "* `all`, `any`, `concat_str`, `ewm_mean`, `ewm_std`, `ewm_var`の`ignore_nulls`\n",
    "* `diff`の`null_behavior`\n",
    "* `map_elements`の`skip_nulls`"
   ]
  },
  {
   "cell_type": "markdown",
   "id": "0448c495-a17d-4bf4-8304-f85338fb22e4",
   "metadata": {},
   "source": [
    "`DataFrame`のメソッドには以下のNULLに関する引数があります。\n",
    "\n",
    "* `DataFrame`の`nan_to_null`\n",
    "* `equals`の`null_equal`\n",
    "* `join`の`join_nulls`\n",
    "* `mean_horizontal`, `sum_horizontal`の`ignore_nulls`\n",
    "* `sort`の`nulls_last`\n",
    "* `write_csv`の`null_value`\n",
    "* `update`の`include_nulls`"
   ]
  },
  {
   "cell_type": "markdown",
   "id": "58ceac95-d58a-4f26-9bf9-5b2abefa744e",
   "metadata": {},
   "source": [
    "グローバル関数のNULLに関する引数\n",
    "\n",
    "* `read_csv`, `scan_csv`, `read_csv_batched`の`null_values`\n",
    "* `from_pandas`の`nan_to_null`"
   ]
  },
  {
   "cell_type": "markdown",
   "id": "9858fe35-17f6-4fb6-9ccf-8e294c680d68",
   "metadata": {},
   "source": [
    "## NaN処理\n",
    "\n",
    "NaN（Not a Number）は、浮動小数点型特有の値で、計算エラーや未定義の結果を表すために使用されます。Polarsでは、NaNを効率的に処理するための方法が提供されています。以下の例を使用して、NaN処理の基本を説明します。"
   ]
  },
  {
   "cell_type": "code",
   "execution_count": 3,
   "id": "21019316-8b53-4cce-917b-0e4ad95b78fe",
   "metadata": {},
   "outputs": [
    {
     "data": {
      "text/html": [
       "<table><tr><td><div><style>\n",
       ".dataframe > thead > tr,\n",
       ".dataframe > tbody > tr {\n",
       "  text-align: right;\n",
       "  white-space: pre-wrap;\n",
       "}\n",
       "</style>\n",
       "<small>shape: (5, 2)</small><table border=\"1\" class=\"dataframe\"><thead><tr><th>A</th><th>B</th></tr><tr><td>f64</td><td>f64</td></tr></thead><tbody><tr><td>0.0</td><td>0.0</td></tr><tr><td>1.0</td><td>1.0</td></tr><tr><td>2.0</td><td>2.0</td></tr><tr><td>null</td><td>NaN</td></tr><tr><td>3.0</td><td>3.0</td></tr></tbody></table></div></td><td><div><style>\n",
       ".dataframe > thead > tr,\n",
       ".dataframe > tbody > tr {\n",
       "  text-align: right;\n",
       "  white-space: pre-wrap;\n",
       "}\n",
       "</style>\n",
       "<small>shape: (1, 2)</small><table border=\"1\" class=\"dataframe\"><thead><tr><th>A</th><th>B</th></tr><tr><td>f64</td><td>f64</td></tr></thead><tbody><tr><td>6.0</td><td>NaN</td></tr></tbody></table></div></td><td><div><style>\n",
       ".dataframe > thead > tr,\n",
       ".dataframe > tbody > tr {\n",
       "  text-align: right;\n",
       "  white-space: pre-wrap;\n",
       "}\n",
       "</style>\n",
       "<small>shape: (1, 2)</small><table border=\"1\" class=\"dataframe\"><thead><tr><th>A</th><th>B</th></tr><tr><td>f64</td><td>f64</td></tr></thead><tbody><tr><td>6.0</td><td>6.0</td></tr></tbody></table></div></td></tr></table>"
      ]
     },
     "metadata": {},
     "output_type": "display_data"
    }
   ],
   "source": [
    "import numpy as np\n",
    "import polars as pl\n",
    "\n",
    "df = pl.DataFrame(dict(\n",
    "    A=[0.0, 1.0, 2.0, None, 3.0],  # 列AにはNULLも含まれる\n",
    "    B=[0.0, 1.0, 2.0, np.nan, 3.0]  # 列BにはNaNが含まれる\n",
    "))\n",
    "\n",
    "# 各列の合計を計算 (NaNやNULLは無視される)\n",
    "df1 = df.select(pl.all().sum())\n",
    "\n",
    "# NaNをNULLに置き換えてから、各列の合計を計算\n",
    "df2 = df.select(pl.all().fill_nan(None).sum())\n",
    "\n",
    "row(df, df1, df2)"
   ]
  },
  {
   "cell_type": "markdown",
   "id": "dc60fd1e-7eaa-4ecc-bc43-d4e2ea76418f",
   "metadata": {},
   "source": [
    "`Inf`（Infinity）は、浮動小数点型の特殊な値で、数学的な無限を表します。PolarsにはInfを直接NULLに置き換える専用の演算式がありませんが、`replace()` を使用して処理できます。"
   ]
  },
  {
   "cell_type": "code",
   "execution_count": 9,
   "id": "f9432344-8c30-44a6-b287-5765f275fbec",
   "metadata": {},
   "outputs": [
    {
     "data": {
      "text/html": [
       "<div><style>\n",
       ".dataframe > thead > tr,\n",
       ".dataframe > tbody > tr {\n",
       "  text-align: right;\n",
       "  white-space: pre-wrap;\n",
       "}\n",
       "</style>\n",
       "<small>shape: (1, 2)</small><table border=\"1\" class=\"dataframe\"><thead><tr><th>r1</th><th>r2</th></tr><tr><td>f64</td><td>f64</td></tr></thead><tbody><tr><td>inf</td><td>0.611111</td></tr></tbody></table></div>"
      ],
      "text/plain": [
       "shape: (1, 2)\n",
       "┌─────┬──────────┐\n",
       "│ r1  ┆ r2       │\n",
       "│ --- ┆ ---      │\n",
       "│ f64 ┆ f64      │\n",
       "╞═════╪══════════╡\n",
       "│ inf ┆ 0.611111 │\n",
       "└─────┴──────────┘"
      ]
     },
     "execution_count": 9,
     "metadata": {},
     "output_type": "execute_result"
    }
   ],
   "source": [
    "df.select(\n",
    "    r1=(1 / pl.col('A')).mean(),\n",
    "    r2=(1 / pl.col('A')).replace(np.inf, None).mean()\n",
    ")"
   ]
  }
 ],
 "metadata": {
  "kernelspec": {
   "display_name": "Python 3 (ipykernel)",
   "language": "python",
   "name": "python3"
  },
  "language_info": {
   "codemirror_mode": {
    "name": "ipython",
    "version": 3
   },
   "file_extension": ".py",
   "mimetype": "text/x-python",
   "name": "python",
   "nbconvert_exporter": "python",
   "pygments_lexer": "ipython3",
   "version": "3.12.2"
  }
 },
 "nbformat": 4,
 "nbformat_minor": 5
}

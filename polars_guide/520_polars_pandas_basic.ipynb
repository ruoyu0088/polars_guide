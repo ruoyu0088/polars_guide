{
 "cells": [
  {
   "cell_type": "markdown",
   "id": "68df7a77-3d72-479d-92d4-f00c3759567b",
   "metadata": {},
   "source": [
    "# Essential basic functionality"
   ]
  },
  {
   "cell_type": "code",
   "execution_count": 2,
   "id": "e13b2797-dafc-4294-ac61-8839b6e23b22",
   "metadata": {},
   "outputs": [],
   "source": [
    "import polars as pl\n",
    "import numpy as np\n",
    "from helper.jupyter import row"
   ]
  },
  {
   "cell_type": "code",
   "execution_count": 3,
   "id": "fa4f2893-f09e-41cb-b03f-e62f3c17c161",
   "metadata": {},
   "outputs": [],
   "source": [
    "index = pl.date_range(pl.date(2000, 1, 1), pl.date(2000, 1, 8), eager=True).alias('index')\n",
    "s = pl.DataFrame(dict(\n",
    "    index=['a', 'b', 'c', 'd', 'e'],\n",
    "    value=np.random.randn(5)\n",
    "))\n",
    "\n",
    "df = pl.DataFrame(np.random.randn(8, 3), schema=['A', 'B', 'C']).insert_column(0, index)\n",
    "\n",
    "data = '''\n",
    "       a         b         c\n",
    "-0.173215  0.119209 -1.044236\n",
    "-0.861849 -2.104569 -0.494929\n",
    "+1.071804  0.721555 -0.706771\n",
    "-1.039575  0.271860 -0.424972\n",
    "+0.567020  0.276232 -1.087401\n",
    "-0.673690  0.113648 -1.478427\n",
    "+0.524988  0.404705  0.577046\n",
    "-1.715002 -1.039268 -0.370647\n",
    "'''\n",
    "\n",
    "from helper.polars import to_dataframe\n",
    "df = to_dataframe(data).insert_column(0, index)"
   ]
  },
  {
   "cell_type": "markdown",
   "id": "7c80755c-c17b-4c43-af44-55bddb1f4a7d",
   "metadata": {},
   "source": [
    "## Head and tail"
   ]
  },
  {
   "cell_type": "code",
   "execution_count": 4,
   "id": "74e686b3-d889-4ac5-bb9b-5a0a066395eb",
   "metadata": {},
   "outputs": [
    {
     "data": {
      "text/html": [
       "<div><style>\n",
       ".dataframe > thead > tr,\n",
       ".dataframe > tbody > tr {\n",
       "  text-align: right;\n",
       "  white-space: pre-wrap;\n",
       "}\n",
       "</style>\n",
       "<small>shape: (5,)</small><table border=\"1\" class=\"dataframe\"><thead><tr><th></th></tr><tr><td>f64</td></tr></thead><tbody><tr><td>0.70966</td></tr><tr><td>1.159269</td></tr><tr><td>0.743978</td></tr><tr><td>-0.591471</td></tr><tr><td>-0.350231</td></tr></tbody></table></div>"
      ],
      "text/plain": [
       "shape: (5,)\n",
       "Series: '' [f64]\n",
       "[\n",
       "\t0.70966\n",
       "\t1.159269\n",
       "\t0.743978\n",
       "\t-0.591471\n",
       "\t-0.350231\n",
       "]"
      ]
     },
     "execution_count": 4,
     "metadata": {},
     "output_type": "execute_result"
    }
   ],
   "source": [
    "long_series = pl.Series(np.random.randn(1000))\n",
    "long_series.head(5)"
   ]
  },
  {
   "cell_type": "code",
   "execution_count": 5,
   "id": "82729c3c-04d7-4f9a-895b-46675ffda518",
   "metadata": {},
   "outputs": [
    {
     "data": {
      "text/html": [
       "<div><style>\n",
       ".dataframe > thead > tr,\n",
       ".dataframe > tbody > tr {\n",
       "  text-align: right;\n",
       "  white-space: pre-wrap;\n",
       "}\n",
       "</style>\n",
       "<small>shape: (3,)</small><table border=\"1\" class=\"dataframe\"><thead><tr><th></th></tr><tr><td>f64</td></tr></thead><tbody><tr><td>0.298845</td></tr><tr><td>0.069854</td></tr><tr><td>-0.36121</td></tr></tbody></table></div>"
      ],
      "text/plain": [
       "shape: (3,)\n",
       "Series: '' [f64]\n",
       "[\n",
       "\t0.298845\n",
       "\t0.069854\n",
       "\t-0.36121\n",
       "]"
      ]
     },
     "execution_count": 5,
     "metadata": {},
     "output_type": "execute_result"
    }
   ],
   "source": [
    "long_series.tail(3)"
   ]
  },
  {
   "cell_type": "markdown",
   "id": "4bcb424b-b4d0-4040-a6c7-50dfde2ef6ba",
   "metadata": {},
   "source": [
    "## Attributes and underlying data"
   ]
  },
  {
   "cell_type": "code",
   "execution_count": 6,
   "id": "25c3e512-b04a-4380-b26e-d3488a631a43",
   "metadata": {},
   "outputs": [
    {
     "data": {
      "text/html": [
       "<div><style>\n",
       ".dataframe > thead > tr,\n",
       ".dataframe > tbody > tr {\n",
       "  text-align: right;\n",
       "  white-space: pre-wrap;\n",
       "}\n",
       "</style>\n",
       "<small>shape: (2, 4)</small><table border=\"1\" class=\"dataframe\"><thead><tr><th>index</th><th>a</th><th>b</th><th>c</th></tr><tr><td>date</td><td>f64</td><td>f64</td><td>f64</td></tr></thead><tbody><tr><td>2000-01-01</td><td>-0.173215</td><td>0.119209</td><td>-1.044236</td></tr><tr><td>2000-01-02</td><td>-0.861849</td><td>-2.104569</td><td>-0.494929</td></tr></tbody></table></div>"
      ],
      "text/plain": [
       "shape: (2, 4)\n",
       "┌────────────┬───────────┬───────────┬───────────┐\n",
       "│ index      ┆ a         ┆ b         ┆ c         │\n",
       "│ ---        ┆ ---       ┆ ---       ┆ ---       │\n",
       "│ date       ┆ f64       ┆ f64       ┆ f64       │\n",
       "╞════════════╪═══════════╪═══════════╪═══════════╡\n",
       "│ 2000-01-01 ┆ -0.173215 ┆ 0.119209  ┆ -1.044236 │\n",
       "│ 2000-01-02 ┆ -0.861849 ┆ -2.104569 ┆ -0.494929 │\n",
       "└────────────┴───────────┴───────────┴───────────┘"
      ]
     },
     "execution_count": 6,
     "metadata": {},
     "output_type": "execute_result"
    }
   ],
   "source": [
    "df[:2]"
   ]
  },
  {
   "cell_type": "code",
   "execution_count": 7,
   "id": "b8211b7a-4790-4924-a8e2-11173c8156fe",
   "metadata": {},
   "outputs": [
    {
     "data": {
      "text/html": [
       "<div><style>\n",
       ".dataframe > thead > tr,\n",
       ".dataframe > tbody > tr {\n",
       "  text-align: right;\n",
       "  white-space: pre-wrap;\n",
       "}\n",
       "</style>\n",
       "<small>shape: (8, 4)</small><table border=\"1\" class=\"dataframe\"><thead><tr><th>index</th><th>a</th><th>b</th><th>c</th></tr><tr><td>date</td><td>f64</td><td>f64</td><td>f64</td></tr></thead><tbody><tr><td>2000-01-01</td><td>-0.173215</td><td>0.119209</td><td>-1.044236</td></tr><tr><td>2000-01-02</td><td>-0.861849</td><td>-2.104569</td><td>-0.494929</td></tr><tr><td>2000-01-03</td><td>1.071804</td><td>0.721555</td><td>-0.706771</td></tr><tr><td>2000-01-04</td><td>-1.039575</td><td>0.27186</td><td>-0.424972</td></tr><tr><td>2000-01-05</td><td>0.56702</td><td>0.276232</td><td>-1.087401</td></tr><tr><td>2000-01-06</td><td>-0.67369</td><td>0.113648</td><td>-1.478427</td></tr><tr><td>2000-01-07</td><td>0.524988</td><td>0.404705</td><td>0.577046</td></tr><tr><td>2000-01-08</td><td>-1.715002</td><td>-1.039268</td><td>-0.370647</td></tr></tbody></table></div>"
      ],
      "text/plain": [
       "shape: (8, 4)\n",
       "┌────────────┬───────────┬───────────┬───────────┐\n",
       "│ index      ┆ a         ┆ b         ┆ c         │\n",
       "│ ---        ┆ ---       ┆ ---       ┆ ---       │\n",
       "│ date       ┆ f64       ┆ f64       ┆ f64       │\n",
       "╞════════════╪═══════════╪═══════════╪═══════════╡\n",
       "│ 2000-01-01 ┆ -0.173215 ┆ 0.119209  ┆ -1.044236 │\n",
       "│ 2000-01-02 ┆ -0.861849 ┆ -2.104569 ┆ -0.494929 │\n",
       "│ 2000-01-03 ┆ 1.071804  ┆ 0.721555  ┆ -0.706771 │\n",
       "│ 2000-01-04 ┆ -1.039575 ┆ 0.27186   ┆ -0.424972 │\n",
       "│ 2000-01-05 ┆ 0.56702   ┆ 0.276232  ┆ -1.087401 │\n",
       "│ 2000-01-06 ┆ -0.67369  ┆ 0.113648  ┆ -1.478427 │\n",
       "│ 2000-01-07 ┆ 0.524988  ┆ 0.404705  ┆ 0.577046  │\n",
       "│ 2000-01-08 ┆ -1.715002 ┆ -1.039268 ┆ -0.370647 │\n",
       "└────────────┴───────────┴───────────┴───────────┘"
      ]
     },
     "execution_count": 7,
     "metadata": {},
     "output_type": "execute_result"
    }
   ],
   "source": [
    "df = df.rename(str.lower)\n",
    "df"
   ]
  },
  {
   "cell_type": "code",
   "execution_count": 8,
   "id": "63c2ef11-fefb-4be8-a15f-576b16c840cd",
   "metadata": {},
   "outputs": [
    {
     "data": {
      "text/plain": [
       "<pyarrow.lib.DoubleArray object at 0x000002608E491660>\n",
       "[\n",
       "  -0.43140459430289096,\n",
       "  -0.29538244153077464,\n",
       "  0.7926928798463687,\n",
       "  0.08436169656196303,\n",
       "  1.399042528420122\n",
       "]"
      ]
     },
     "execution_count": 8,
     "metadata": {},
     "output_type": "execute_result"
    }
   ],
   "source": [
    "s['value'].to_arrow()"
   ]
  },
  {
   "cell_type": "code",
   "execution_count": 9,
   "id": "a383410c-c309-4acc-9c47-38a16c13671e",
   "metadata": {},
   "outputs": [
    {
     "data": {
      "text/plain": [
       "<pyarrow.lib.LargeStringArray object at 0x000002608E491720>\n",
       "[\n",
       "  \"a\",\n",
       "  \"b\",\n",
       "  \"c\",\n",
       "  \"d\",\n",
       "  \"e\"\n",
       "]"
      ]
     },
     "execution_count": 9,
     "metadata": {},
     "output_type": "execute_result"
    }
   ],
   "source": [
    "s['index'].to_arrow()"
   ]
  },
  {
   "cell_type": "code",
   "execution_count": 10,
   "id": "0b1fd9be-40a2-4889-aa2f-e0b8460b7686",
   "metadata": {},
   "outputs": [
    {
     "data": {
      "text/plain": [
       "array([-0.43140459, -0.29538244,  0.79269288,  0.0843617 ,  1.39904253])"
      ]
     },
     "execution_count": 10,
     "metadata": {},
     "output_type": "execute_result"
    }
   ],
   "source": [
    "s['value'].to_numpy()"
   ]
  },
  {
   "cell_type": "code",
   "execution_count": 11,
   "id": "65937767-6965-4c6a-8567-4b5f1df613bb",
   "metadata": {},
   "outputs": [
    {
     "data": {
      "text/plain": [
       "array([-0.43140459, -0.29538244,  0.79269288,  0.0843617 ,  1.39904253])"
      ]
     },
     "execution_count": 11,
     "metadata": {},
     "output_type": "execute_result"
    }
   ],
   "source": [
    "np.asarray(s['value'])"
   ]
  },
  {
   "cell_type": "code",
   "execution_count": 12,
   "id": "994272fd-7275-4fb7-b7c3-d7b34be409dd",
   "metadata": {},
   "outputs": [
    {
     "data": {
      "text/plain": [
       "array(['1999-12-31T23:00:00.000000', '2000-01-01T23:00:00.000000'],\n",
       "      dtype='datetime64[us]')"
      ]
     },
     "execution_count": 12,
     "metadata": {},
     "output_type": "execute_result"
    }
   ],
   "source": [
    "ser = (\n",
    "pl.date_range(pl.date(2000, 1, 1), pl.date(2000, 1, 2), eager=True)\n",
    "  .cast(pl.Datetime)\n",
    "  .dt.replace_time_zone('CET')\n",
    ")\n",
    "ser.to_numpy()"
   ]
  },
  {
   "cell_type": "code",
   "execution_count": 13,
   "id": "30fbf31d-069e-4cc6-9145-97e457541ee8",
   "metadata": {},
   "outputs": [
    {
     "data": {
      "text/plain": [
       "array([[-0.173215,  0.119209, -1.044236],\n",
       "       [-0.861849, -2.104569, -0.494929],\n",
       "       [ 1.071804,  0.721555, -0.706771],\n",
       "       [-1.039575,  0.27186 , -0.424972],\n",
       "       [ 0.56702 ,  0.276232, -1.087401],\n",
       "       [-0.67369 ,  0.113648, -1.478427],\n",
       "       [ 0.524988,  0.404705,  0.577046],\n",
       "       [-1.715002, -1.039268, -0.370647]])"
      ]
     },
     "execution_count": 13,
     "metadata": {},
     "output_type": "execute_result"
    }
   ],
   "source": [
    "# df.to_numpy()\n",
    "df.select(pl.exclude('index')).to_numpy()"
   ]
  },
  {
   "cell_type": "markdown",
   "id": "b3ba5232-3fb9-4bf9-96ce-1c78c310a18e",
   "metadata": {},
   "source": [
    "## Accelerated operations"
   ]
  },
  {
   "cell_type": "markdown",
   "id": "d3532ffd-05d8-4717-9220-393252aa49c9",
   "metadata": {},
   "source": [
    "## Flexible binary operations"
   ]
  },
  {
   "cell_type": "code",
   "execution_count": 14,
   "id": "a4f9d95c-7f1e-4602-9590-7e817417ff5e",
   "metadata": {},
   "outputs": [
    {
     "data": {
      "text/html": [
       "<div><style>\n",
       ".dataframe > thead > tr,\n",
       ".dataframe > tbody > tr {\n",
       "  text-align: right;\n",
       "  white-space: pre-wrap;\n",
       "}\n",
       "</style>\n",
       "<small>shape: (4, 4)</small><table border=\"1\" class=\"dataframe\"><thead><tr><th>index</th><th>one</th><th>two</th><th>three</th></tr><tr><td>str</td><td>f64</td><td>f64</td><td>f64</td></tr></thead><tbody><tr><td>&quot;a&quot;</td><td>1.394981</td><td>1.772517</td><td>NaN</td></tr><tr><td>&quot;b&quot;</td><td>0.343054</td><td>1.912123</td><td>-0.05039</td></tr><tr><td>&quot;c&quot;</td><td>0.695246</td><td>1.478369</td><td>1.227435</td></tr><tr><td>&quot;d&quot;</td><td>NaN</td><td>0.279344</td><td>-0.613172</td></tr></tbody></table></div>"
      ],
      "text/plain": [
       "shape: (4, 4)\n",
       "┌───────┬──────────┬──────────┬───────────┐\n",
       "│ index ┆ one      ┆ two      ┆ three     │\n",
       "│ ---   ┆ ---      ┆ ---      ┆ ---       │\n",
       "│ str   ┆ f64      ┆ f64      ┆ f64       │\n",
       "╞═══════╪══════════╪══════════╪═══════════╡\n",
       "│ a     ┆ 1.394981 ┆ 1.772517 ┆ NaN       │\n",
       "│ b     ┆ 0.343054 ┆ 1.912123 ┆ -0.05039  │\n",
       "│ c     ┆ 0.695246 ┆ 1.478369 ┆ 1.227435  │\n",
       "│ d     ┆ NaN      ┆ 0.279344 ┆ -0.613172 │\n",
       "└───────┴──────────┴──────────┴───────────┘"
      ]
     },
     "execution_count": 14,
     "metadata": {},
     "output_type": "execute_result"
    }
   ],
   "source": [
    "data = '''\n",
    "index   one       two     three\n",
    "a  1.394981  1.772517       NaN\n",
    "b  0.343054  1.912123 -0.050390\n",
    "c  0.695246  1.478369  1.227435\n",
    "d       NaN  0.279344 -0.613172\n",
    "'''\n",
    "df = to_dataframe(data)\n",
    "df"
   ]
  },
  {
   "cell_type": "code",
   "execution_count": 15,
   "id": "bf137a6c-c46f-4faa-a539-398ee4ef0018",
   "metadata": {},
   "outputs": [
    {
     "name": "stdout",
     "output_type": "stream",
     "text": [
      "{'index': 'b', 'one': 0.343054, 'two': 1.912123, 'three': -0.05039}\n",
      "shape: (4, 2)\n",
      "┌───────┬──────────┐\n",
      "│ index ┆ value    │\n",
      "│ ---   ┆ ---      │\n",
      "│ str   ┆ f64      │\n",
      "╞═══════╪══════════╡\n",
      "│ a     ┆ 1.772517 │\n",
      "│ b     ┆ 1.912123 │\n",
      "│ c     ┆ 1.478369 │\n",
      "│ d     ┆ 0.279344 │\n",
      "└───────┴──────────┘\n"
     ]
    }
   ],
   "source": [
    "row_data = df.row(1, named=True)\n",
    "column = df.select('index', value='two')\n",
    "print(row_data)\n",
    "print(column)"
   ]
  },
  {
   "cell_type": "code",
   "execution_count": 16,
   "id": "1f5c6334-7b8f-4ce7-a307-b33780ed894f",
   "metadata": {},
   "outputs": [
    {
     "data": {
      "text/html": [
       "<div><style>\n",
       ".dataframe > thead > tr,\n",
       ".dataframe > tbody > tr {\n",
       "  text-align: right;\n",
       "  white-space: pre-wrap;\n",
       "}\n",
       "</style>\n",
       "<small>shape: (4, 4)</small><table border=\"1\" class=\"dataframe\"><thead><tr><th>index</th><th>one</th><th>two</th><th>three</th></tr><tr><td>str</td><td>f64</td><td>f64</td><td>f64</td></tr></thead><tbody><tr><td>&quot;a&quot;</td><td>1.051927</td><td>-0.139606</td><td>NaN</td></tr><tr><td>&quot;b&quot;</td><td>0.0</td><td>0.0</td><td>0.0</td></tr><tr><td>&quot;c&quot;</td><td>0.352192</td><td>-0.433754</td><td>1.277825</td></tr><tr><td>&quot;d&quot;</td><td>NaN</td><td>-1.632779</td><td>-0.562782</td></tr></tbody></table></div>"
      ],
      "text/plain": [
       "shape: (4, 4)\n",
       "┌───────┬──────────┬───────────┬───────────┐\n",
       "│ index ┆ one      ┆ two       ┆ three     │\n",
       "│ ---   ┆ ---      ┆ ---       ┆ ---       │\n",
       "│ str   ┆ f64      ┆ f64       ┆ f64       │\n",
       "╞═══════╪══════════╪═══════════╪═══════════╡\n",
       "│ a     ┆ 1.051927 ┆ -0.139606 ┆ NaN       │\n",
       "│ b     ┆ 0.0      ┆ 0.0       ┆ 0.0       │\n",
       "│ c     ┆ 0.352192 ┆ -0.433754 ┆ 1.277825  │\n",
       "│ d     ┆ NaN      ┆ -1.632779 ┆ -0.562782 │\n",
       "└───────┴──────────┴───────────┴───────────┘"
      ]
     },
     "execution_count": 16,
     "metadata": {},
     "output_type": "execute_result"
    }
   ],
   "source": [
    "# df.sub(row, axis=\"columns\")\n",
    "df.select(\n",
    "    'index',\n",
    "    *[pl.col(name) - val for name, val in row_data.items() if name != \"index\"]\n",
    ")"
   ]
  },
  {
   "cell_type": "code",
   "execution_count": 17,
   "id": "841fba41-5ee7-4dff-8af6-781a49624654",
   "metadata": {},
   "outputs": [
    {
     "data": {
      "text/html": [
       "<div><style>\n",
       ".dataframe > thead > tr,\n",
       ".dataframe > tbody > tr {\n",
       "  text-align: right;\n",
       "  white-space: pre-wrap;\n",
       "}\n",
       "</style>\n",
       "<small>shape: (4, 4)</small><table border=\"1\" class=\"dataframe\"><thead><tr><th>index</th><th>one</th><th>two</th><th>three</th></tr><tr><td>str</td><td>f64</td><td>f64</td><td>f64</td></tr></thead><tbody><tr><td>&quot;a&quot;</td><td>-0.377536</td><td>0.0</td><td>NaN</td></tr><tr><td>&quot;b&quot;</td><td>-1.569069</td><td>0.0</td><td>-1.962513</td></tr><tr><td>&quot;c&quot;</td><td>-0.783123</td><td>0.0</td><td>-0.250934</td></tr><tr><td>&quot;d&quot;</td><td>NaN</td><td>0.0</td><td>-0.892516</td></tr></tbody></table></div>"
      ],
      "text/plain": [
       "shape: (4, 4)\n",
       "┌───────┬───────────┬─────┬───────────┐\n",
       "│ index ┆ one       ┆ two ┆ three     │\n",
       "│ ---   ┆ ---       ┆ --- ┆ ---       │\n",
       "│ str   ┆ f64       ┆ f64 ┆ f64       │\n",
       "╞═══════╪═══════════╪═════╪═══════════╡\n",
       "│ a     ┆ -0.377536 ┆ 0.0 ┆ NaN       │\n",
       "│ b     ┆ -1.569069 ┆ 0.0 ┆ -1.962513 │\n",
       "│ c     ┆ -0.783123 ┆ 0.0 ┆ -0.250934 │\n",
       "│ d     ┆ NaN       ┆ 0.0 ┆ -0.892516 │\n",
       "└───────┴───────────┴─────┴───────────┘"
      ]
     },
     "execution_count": 17,
     "metadata": {},
     "output_type": "execute_result"
    }
   ],
   "source": [
    "# df.sub(column, axis=\"index\")\n",
    "df.select(\n",
    "    'index',\n",
    "    pl.exclude('index') - column['value']\n",
    ")"
   ]
  },
  {
   "cell_type": "code",
   "execution_count": 18,
   "id": "3fe6f8ae-198f-4b02-9a8f-fe21b01ca8ad",
   "metadata": {},
   "outputs": [
    {
     "data": {
      "text/html": [
       "<div><style>\n",
       ".dataframe > thead > tr,\n",
       ".dataframe > tbody > tr {\n",
       "  text-align: right;\n",
       "  white-space: pre-wrap;\n",
       "}\n",
       "</style>\n",
       "<small>shape: (4, 5)</small><table border=\"1\" class=\"dataframe\"><thead><tr><th>first</th><th>second</th><th>one</th><th>two</th><th>three</th></tr><tr><td>i64</td><td>str</td><td>f64</td><td>f64</td><td>f64</td></tr></thead><tbody><tr><td>1</td><td>&quot;a&quot;</td><td>1.394981</td><td>1.772517</td><td>NaN</td></tr><tr><td>1</td><td>&quot;b&quot;</td><td>0.343054</td><td>1.912123</td><td>-0.05039</td></tr><tr><td>1</td><td>&quot;c&quot;</td><td>0.695246</td><td>1.478369</td><td>1.227435</td></tr><tr><td>2</td><td>&quot;a&quot;</td><td>NaN</td><td>0.279344</td><td>-0.613172</td></tr></tbody></table></div>"
      ],
      "text/plain": [
       "shape: (4, 5)\n",
       "┌───────┬────────┬──────────┬──────────┬───────────┐\n",
       "│ first ┆ second ┆ one      ┆ two      ┆ three     │\n",
       "│ ---   ┆ ---    ┆ ---      ┆ ---      ┆ ---       │\n",
       "│ i64   ┆ str    ┆ f64      ┆ f64      ┆ f64       │\n",
       "╞═══════╪════════╪══════════╪══════════╪═══════════╡\n",
       "│ 1     ┆ a      ┆ 1.394981 ┆ 1.772517 ┆ NaN       │\n",
       "│ 1     ┆ b      ┆ 0.343054 ┆ 1.912123 ┆ -0.05039  │\n",
       "│ 1     ┆ c      ┆ 0.695246 ┆ 1.478369 ┆ 1.227435  │\n",
       "│ 2     ┆ a      ┆ NaN      ┆ 0.279344 ┆ -0.613172 │\n",
       "└───────┴────────┴──────────┴──────────┴───────────┘"
      ]
     },
     "execution_count": 18,
     "metadata": {},
     "output_type": "execute_result"
    }
   ],
   "source": [
    "mi = pl.DataFrame(\n",
    "    [(1, \"a\"), (1, \"b\"), (1, \"c\"), (2, \"a\")], \n",
    "    schema=[\"first\", \"second\"],\n",
    "    orient=\"row\"\n",
    ")\n",
    "dfmi = pl.concat([mi, df.select(pl.exclude('index'))], how='horizontal')\n",
    "dfmi"
   ]
  },
  {
   "cell_type": "code",
   "execution_count": 19,
   "id": "24152bb5-2c52-4b24-a6a3-b5d9060d78f2",
   "metadata": {},
   "outputs": [
    {
     "data": {
      "text/html": [
       "<div><style>\n",
       ".dataframe > thead > tr,\n",
       ".dataframe > tbody > tr {\n",
       "  text-align: right;\n",
       "  white-space: pre-wrap;\n",
       "}\n",
       "</style>\n",
       "<small>shape: (4, 5)</small><table border=\"1\" class=\"dataframe\"><thead><tr><th>first</th><th>second</th><th>one</th><th>two</th><th>three</th></tr><tr><td>i64</td><td>str</td><td>f64</td><td>f64</td><td>f64</td></tr></thead><tbody><tr><td>1</td><td>&quot;a&quot;</td><td>-0.377536</td><td>0.0</td><td>NaN</td></tr><tr><td>1</td><td>&quot;b&quot;</td><td>-1.569069</td><td>0.0</td><td>-1.962513</td></tr><tr><td>1</td><td>&quot;c&quot;</td><td>-0.783123</td><td>0.0</td><td>-0.250934</td></tr><tr><td>2</td><td>&quot;a&quot;</td><td>NaN</td><td>-1.493173</td><td>-2.385689</td></tr></tbody></table></div>"
      ],
      "text/plain": [
       "shape: (4, 5)\n",
       "┌───────┬────────┬───────────┬───────────┬───────────┐\n",
       "│ first ┆ second ┆ one       ┆ two       ┆ three     │\n",
       "│ ---   ┆ ---    ┆ ---       ┆ ---       ┆ ---       │\n",
       "│ i64   ┆ str    ┆ f64       ┆ f64       ┆ f64       │\n",
       "╞═══════╪════════╪═══════════╪═══════════╪═══════════╡\n",
       "│ 1     ┆ a      ┆ -0.377536 ┆ 0.0       ┆ NaN       │\n",
       "│ 1     ┆ b      ┆ -1.569069 ┆ 0.0       ┆ -1.962513 │\n",
       "│ 1     ┆ c      ┆ -0.783123 ┆ 0.0       ┆ -0.250934 │\n",
       "│ 2     ┆ a      ┆ NaN       ┆ -1.493173 ┆ -2.385689 │\n",
       "└───────┴────────┴───────────┴───────────┴───────────┘"
      ]
     },
     "execution_count": 19,
     "metadata": {},
     "output_type": "execute_result"
    }
   ],
   "source": [
    "# dfmi.sub(column, axis=0, level=\"second\")\n",
    "new_column = column.join(dfmi.select('second'), left_on='index', right_on='second')\n",
    "dfmi.select(\n",
    "    pl.col('first', 'second'),\n",
    "    pl.exclude('first', 'second') - new_column['value']\n",
    ")"
   ]
  },
  {
   "cell_type": "code",
   "execution_count": 20,
   "id": "7438e989-972d-4375-9190-81cfdd8f2f86",
   "metadata": {},
   "outputs": [
    {
     "data": {
      "text/html": [
       "<table><tr><td><div><style>\n",
       ".dataframe > thead > tr,\n",
       ".dataframe > tbody > tr {\n",
       "  text-align: right;\n",
       "  white-space: pre-wrap;\n",
       "}\n",
       "</style>\n",
       "<small>shape: (10,)</small><table border=\"1\" class=\"dataframe\"><thead><tr><th></th></tr><tr><td>i32</td></tr></thead><tbody><tr><td>0</td></tr><tr><td>1</td></tr><tr><td>2</td></tr><tr><td>3</td></tr><tr><td>4</td></tr><tr><td>5</td></tr><tr><td>6</td></tr><tr><td>7</td></tr><tr><td>8</td></tr><tr><td>9</td></tr></tbody></table></div></td><td><div><style>\n",
       ".dataframe > thead > tr,\n",
       ".dataframe > tbody > tr {\n",
       "  text-align: right;\n",
       "  white-space: pre-wrap;\n",
       "}\n",
       "</style>\n",
       "<small>shape: (10,)</small><table border=\"1\" class=\"dataframe\"><thead><tr><th></th></tr><tr><td>i32</td></tr></thead><tbody><tr><td>0</td></tr><tr><td>0</td></tr><tr><td>0</td></tr><tr><td>1</td></tr><tr><td>1</td></tr><tr><td>1</td></tr><tr><td>2</td></tr><tr><td>2</td></tr><tr><td>2</td></tr><tr><td>3</td></tr></tbody></table></div></td><td><div><style>\n",
       ".dataframe > thead > tr,\n",
       ".dataframe > tbody > tr {\n",
       "  text-align: right;\n",
       "  white-space: pre-wrap;\n",
       "}\n",
       "</style>\n",
       "<small>shape: (10,)</small><table border=\"1\" class=\"dataframe\"><thead><tr><th></th></tr><tr><td>i32</td></tr></thead><tbody><tr><td>0</td></tr><tr><td>1</td></tr><tr><td>2</td></tr><tr><td>0</td></tr><tr><td>1</td></tr><tr><td>2</td></tr><tr><td>0</td></tr><tr><td>1</td></tr><tr><td>2</td></tr><tr><td>0</td></tr></tbody></table></div></td></tr></table>"
      ]
     },
     "metadata": {},
     "output_type": "display_data"
    }
   ],
   "source": [
    "s = pl.Series(np.arange(10))\n",
    "div, rem = s // 3, s % 3\n",
    "row(s, div, rem)"
   ]
  },
  {
   "cell_type": "markdown",
   "id": "50c7066b-552d-4e8d-86b4-8ab05f2cc00b",
   "metadata": {},
   "source": [
    "### Missing data / operations with fill values"
   ]
  },
  {
   "cell_type": "code",
   "execution_count": 21,
   "id": "aae67970-f7e4-40c7-950d-f035f1a443f5",
   "metadata": {},
   "outputs": [
    {
     "data": {
      "text/html": [
       "<table><tr><td><div><style>\n",
       ".dataframe > thead > tr,\n",
       ".dataframe > tbody > tr {\n",
       "  text-align: right;\n",
       "  white-space: pre-wrap;\n",
       "}\n",
       "</style>\n",
       "<small>shape: (4, 4)</small><table border=\"1\" class=\"dataframe\"><thead><tr><th>index</th><th>one</th><th>two</th><th>three</th></tr><tr><td>str</td><td>f64</td><td>f64</td><td>f64</td></tr></thead><tbody><tr><td>&quot;a&quot;</td><td>1.394981</td><td>1.772517</td><td>NaN</td></tr><tr><td>&quot;b&quot;</td><td>0.343054</td><td>1.912123</td><td>-0.05039</td></tr><tr><td>&quot;c&quot;</td><td>0.695246</td><td>1.478369</td><td>1.227435</td></tr><tr><td>&quot;d&quot;</td><td>NaN</td><td>0.279344</td><td>-0.613172</td></tr></tbody></table></div></td><td><div><style>\n",
       ".dataframe > thead > tr,\n",
       ".dataframe > tbody > tr {\n",
       "  text-align: right;\n",
       "  white-space: pre-wrap;\n",
       "}\n",
       "</style>\n",
       "<small>shape: (4, 4)</small><table border=\"1\" class=\"dataframe\"><thead><tr><th>index</th><th>one</th><th>two</th><th>three</th></tr><tr><td>str</td><td>f64</td><td>f64</td><td>f64</td></tr></thead><tbody><tr><td>&quot;a&quot;</td><td>1.394981</td><td>1.772517</td><td>1.0</td></tr><tr><td>&quot;b&quot;</td><td>0.343054</td><td>1.912123</td><td>-0.05039</td></tr><tr><td>&quot;c&quot;</td><td>0.695246</td><td>1.478369</td><td>1.227435</td></tr><tr><td>&quot;d&quot;</td><td>NaN</td><td>0.279344</td><td>-0.613172</td></tr></tbody></table></div></td></tr></table>"
      ]
     },
     "metadata": {},
     "output_type": "display_data"
    }
   ],
   "source": [
    "# df2.loc[\"a\", \"three\"] = 1.0\n",
    "df2 = df.with_columns(\n",
    "    pl.when(pl.col('index') == 'a')\n",
    "      .then(1.0)\n",
    "      .otherwise('three')\n",
    "      .name.keep()\n",
    ")\n",
    "row(df, df2)"
   ]
  },
  {
   "cell_type": "code",
   "execution_count": 22,
   "id": "eb680785-dd54-4f97-9b9b-9b7d869297bb",
   "metadata": {},
   "outputs": [],
   "source": [
    "# df2.loc[\"a\", \"three\"] = 1.0\n",
    "df2 = df.update(pl.select(index=pl.lit('a'), three=1), on='index')"
   ]
  },
  {
   "cell_type": "code",
   "execution_count": 23,
   "id": "f9db1161-1104-41ca-b42a-6f9315d3efb6",
   "metadata": {},
   "outputs": [
    {
     "data": {
      "text/html": [
       "<div><style>\n",
       ".dataframe > thead > tr,\n",
       ".dataframe > tbody > tr {\n",
       "  text-align: right;\n",
       "  white-space: pre-wrap;\n",
       "}\n",
       "</style>\n",
       "<small>shape: (4, 4)</small><table border=\"1\" class=\"dataframe\"><thead><tr><th>index</th><th>one</th><th>two</th><th>three</th></tr><tr><td>str</td><td>f64</td><td>f64</td><td>f64</td></tr></thead><tbody><tr><td>&quot;a&quot;</td><td>2.789962</td><td>3.545034</td><td>NaN</td></tr><tr><td>&quot;b&quot;</td><td>0.686108</td><td>3.824246</td><td>-0.10078</td></tr><tr><td>&quot;c&quot;</td><td>1.390492</td><td>2.956738</td><td>2.45487</td></tr><tr><td>&quot;d&quot;</td><td>NaN</td><td>0.558688</td><td>-1.226344</td></tr></tbody></table></div>"
      ],
      "text/plain": [
       "shape: (4, 4)\n",
       "┌───────┬──────────┬──────────┬───────────┐\n",
       "│ index ┆ one      ┆ two      ┆ three     │\n",
       "│ ---   ┆ ---      ┆ ---      ┆ ---       │\n",
       "│ str   ┆ f64      ┆ f64      ┆ f64       │\n",
       "╞═══════╪══════════╪══════════╪═══════════╡\n",
       "│ a     ┆ 2.789962 ┆ 3.545034 ┆ NaN       │\n",
       "│ b     ┆ 0.686108 ┆ 3.824246 ┆ -0.10078  │\n",
       "│ c     ┆ 1.390492 ┆ 2.956738 ┆ 2.45487   │\n",
       "│ d     ┆ NaN      ┆ 0.558688 ┆ -1.226344 │\n",
       "└───────┴──────────┴──────────┴───────────┘"
      ]
     },
     "execution_count": 23,
     "metadata": {},
     "output_type": "execute_result"
    }
   ],
   "source": [
    "# df + df2\n",
    "from helper.polars import align_op\n",
    "align_op(df, df2, on='index', op=pl.Expr.add)"
   ]
  },
  {
   "cell_type": "markdown",
   "id": "03cab276-16a6-411b-8236-2214f24c4ad2",
   "metadata": {},
   "source": [
    "### Flexible comparisons"
   ]
  },
  {
   "cell_type": "code",
   "execution_count": 24,
   "id": "c78ba762-1f8c-431e-ad2d-b31477e43d94",
   "metadata": {},
   "outputs": [
    {
     "data": {
      "text/html": [
       "<div><style>\n",
       ".dataframe > thead > tr,\n",
       ".dataframe > tbody > tr {\n",
       "  text-align: right;\n",
       "  white-space: pre-wrap;\n",
       "}\n",
       "</style>\n",
       "<small>shape: (4, 4)</small><table border=\"1\" class=\"dataframe\"><thead><tr><th>index</th><th>one</th><th>two</th><th>three</th></tr><tr><td>str</td><td>bool</td><td>bool</td><td>bool</td></tr></thead><tbody><tr><td>&quot;a&quot;</td><td>false</td><td>false</td><td>true</td></tr><tr><td>&quot;b&quot;</td><td>false</td><td>false</td><td>false</td></tr><tr><td>&quot;c&quot;</td><td>false</td><td>false</td><td>false</td></tr><tr><td>&quot;d&quot;</td><td>false</td><td>false</td><td>false</td></tr></tbody></table></div>"
      ],
      "text/plain": [
       "shape: (4, 4)\n",
       "┌───────┬───────┬───────┬───────┐\n",
       "│ index ┆ one   ┆ two   ┆ three │\n",
       "│ ---   ┆ ---   ┆ ---   ┆ ---   │\n",
       "│ str   ┆ bool  ┆ bool  ┆ bool  │\n",
       "╞═══════╪═══════╪═══════╪═══════╡\n",
       "│ a     ┆ false ┆ false ┆ true  │\n",
       "│ b     ┆ false ┆ false ┆ false │\n",
       "│ c     ┆ false ┆ false ┆ false │\n",
       "│ d     ┆ false ┆ false ┆ false │\n",
       "└───────┴───────┴───────┴───────┘"
      ]
     },
     "execution_count": 24,
     "metadata": {},
     "output_type": "execute_result"
    }
   ],
   "source": [
    "# df.gt(df2)\n",
    "align_op(df, df2, on='index', op=pl.Expr.gt)"
   ]
  },
  {
   "cell_type": "code",
   "execution_count": 25,
   "id": "e898973c-a81b-476d-a124-9f0e3a090ecb",
   "metadata": {},
   "outputs": [
    {
     "data": {
      "text/html": [
       "<div><style>\n",
       ".dataframe > thead > tr,\n",
       ".dataframe > tbody > tr {\n",
       "  text-align: right;\n",
       "  white-space: pre-wrap;\n",
       "}\n",
       "</style>\n",
       "<small>shape: (4, 4)</small><table border=\"1\" class=\"dataframe\"><thead><tr><th>index</th><th>one</th><th>two</th><th>three</th></tr><tr><td>str</td><td>bool</td><td>bool</td><td>bool</td></tr></thead><tbody><tr><td>&quot;a&quot;</td><td>false</td><td>false</td><td>true</td></tr><tr><td>&quot;b&quot;</td><td>false</td><td>false</td><td>false</td></tr><tr><td>&quot;c&quot;</td><td>false</td><td>false</td><td>false</td></tr><tr><td>&quot;d&quot;</td><td>false</td><td>false</td><td>false</td></tr></tbody></table></div>"
      ],
      "text/plain": [
       "shape: (4, 4)\n",
       "┌───────┬───────┬───────┬───────┐\n",
       "│ index ┆ one   ┆ two   ┆ three │\n",
       "│ ---   ┆ ---   ┆ ---   ┆ ---   │\n",
       "│ str   ┆ bool  ┆ bool  ┆ bool  │\n",
       "╞═══════╪═══════╪═══════╪═══════╡\n",
       "│ a     ┆ false ┆ false ┆ true  │\n",
       "│ b     ┆ false ┆ false ┆ false │\n",
       "│ c     ┆ false ┆ false ┆ false │\n",
       "│ d     ┆ false ┆ false ┆ false │\n",
       "└───────┴───────┴───────┴───────┘"
      ]
     },
     "execution_count": 25,
     "metadata": {},
     "output_type": "execute_result"
    }
   ],
   "source": [
    "# df2.ne(df)\n",
    "align_op(df2, df, on='index', op=pl.Expr.ne)"
   ]
  },
  {
   "cell_type": "markdown",
   "id": "a671b5ba-eda0-47da-bef9-292cf27b8b0c",
   "metadata": {},
   "source": [
    "### Boolean reductions"
   ]
  },
  {
   "cell_type": "code",
   "execution_count": 26,
   "id": "83c54e9c-8311-49ad-b76e-2056d60ab585",
   "metadata": {},
   "outputs": [
    {
     "data": {
      "text/html": [
       "<div><style>\n",
       ".dataframe > thead > tr,\n",
       ".dataframe > tbody > tr {\n",
       "  text-align: right;\n",
       "  white-space: pre-wrap;\n",
       "}\n",
       "</style>\n",
       "<small>shape: (1, 3)</small><table border=\"1\" class=\"dataframe\"><thead><tr><th>one</th><th>two</th><th>three</th></tr><tr><td>bool</td><td>bool</td><td>bool</td></tr></thead><tbody><tr><td>true</td><td>true</td><td>false</td></tr></tbody></table></div>"
      ],
      "text/plain": [
       "shape: (1, 3)\n",
       "┌──────┬──────┬───────┐\n",
       "│ one  ┆ two  ┆ three │\n",
       "│ ---  ┆ ---  ┆ ---   │\n",
       "│ bool ┆ bool ┆ bool  │\n",
       "╞══════╪══════╪═══════╡\n",
       "│ true ┆ true ┆ false │\n",
       "└──────┴──────┴───────┘"
      ]
     },
     "execution_count": 26,
     "metadata": {},
     "output_type": "execute_result"
    }
   ],
   "source": [
    "# (df > 0).all()\n",
    "df.select((pl.exclude('index') > 0).all())"
   ]
  },
  {
   "cell_type": "code",
   "execution_count": 27,
   "id": "3608588f-84c7-443c-8d24-e21e9e030a10",
   "metadata": {},
   "outputs": [
    {
     "data": {
      "text/html": [
       "<div><style>\n",
       ".dataframe > thead > tr,\n",
       ".dataframe > tbody > tr {\n",
       "  text-align: right;\n",
       "  white-space: pre-wrap;\n",
       "}\n",
       "</style>\n",
       "<small>shape: (1, 3)</small><table border=\"1\" class=\"dataframe\"><thead><tr><th>one</th><th>two</th><th>three</th></tr><tr><td>bool</td><td>bool</td><td>bool</td></tr></thead><tbody><tr><td>true</td><td>true</td><td>true</td></tr></tbody></table></div>"
      ],
      "text/plain": [
       "shape: (1, 3)\n",
       "┌──────┬──────┬───────┐\n",
       "│ one  ┆ two  ┆ three │\n",
       "│ ---  ┆ ---  ┆ ---   │\n",
       "│ bool ┆ bool ┆ bool  │\n",
       "╞══════╪══════╪═══════╡\n",
       "│ true ┆ true ┆ true  │\n",
       "└──────┴──────┴───────┘"
      ]
     },
     "execution_count": 27,
     "metadata": {},
     "output_type": "execute_result"
    }
   ],
   "source": [
    "# (df > 0).any()\n",
    "df.select((pl.exclude('index') > 0).any())"
   ]
  },
  {
   "cell_type": "code",
   "execution_count": 28,
   "id": "bda60275-84fa-4a5b-81dc-0b81eb782294",
   "metadata": {},
   "outputs": [
    {
     "data": {
      "text/plain": [
       "True"
      ]
     },
     "execution_count": 28,
     "metadata": {},
     "output_type": "execute_result"
    }
   ],
   "source": [
    "# (df > 0).any().any()\n",
    "df.select(pl.any_horizontal(pl.exclude('index') > 0).any()).item()"
   ]
  },
  {
   "cell_type": "code",
   "execution_count": 29,
   "id": "c513cb5e-7116-444a-acea-a3752b015921",
   "metadata": {},
   "outputs": [
    {
     "data": {
      "text/plain": [
       "False"
      ]
     },
     "execution_count": 29,
     "metadata": {},
     "output_type": "execute_result"
    }
   ],
   "source": [
    "df.is_empty()"
   ]
  },
  {
   "cell_type": "code",
   "execution_count": 30,
   "id": "e3adf1de-542c-4202-b3dc-6973eb348ca4",
   "metadata": {},
   "outputs": [
    {
     "data": {
      "text/plain": [
       "True"
      ]
     },
     "execution_count": 30,
     "metadata": {},
     "output_type": "execute_result"
    }
   ],
   "source": [
    "pl.DataFrame(schema=list('ABC')).is_empty()"
   ]
  },
  {
   "cell_type": "markdown",
   "id": "a1e21e3d-1fb8-4900-a96a-dee54d969c52",
   "metadata": {},
   "source": [
    "### Comparing if objects are equivalent"
   ]
  },
  {
   "cell_type": "code",
   "execution_count": 31,
   "id": "0e8aef23-2235-46a7-ac62-7fa48663d004",
   "metadata": {},
   "outputs": [
    {
     "data": {
      "text/html": [
       "<div><style>\n",
       ".dataframe > thead > tr,\n",
       ".dataframe > tbody > tr {\n",
       "  text-align: right;\n",
       "  white-space: pre-wrap;\n",
       "}\n",
       "</style>\n",
       "<small>shape: (4, 4)</small><table border=\"1\" class=\"dataframe\"><thead><tr><th>index</th><th>one</th><th>two</th><th>three</th></tr><tr><td>str</td><td>bool</td><td>bool</td><td>bool</td></tr></thead><tbody><tr><td>&quot;a&quot;</td><td>true</td><td>true</td><td>true</td></tr><tr><td>&quot;b&quot;</td><td>true</td><td>true</td><td>true</td></tr><tr><td>&quot;c&quot;</td><td>true</td><td>true</td><td>true</td></tr><tr><td>&quot;d&quot;</td><td>true</td><td>true</td><td>true</td></tr></tbody></table></div>"
      ],
      "text/plain": [
       "shape: (4, 4)\n",
       "┌───────┬──────┬──────┬───────┐\n",
       "│ index ┆ one  ┆ two  ┆ three │\n",
       "│ ---   ┆ ---  ┆ ---  ┆ ---   │\n",
       "│ str   ┆ bool ┆ bool ┆ bool  │\n",
       "╞═══════╪══════╪══════╪═══════╡\n",
       "│ a     ┆ true ┆ true ┆ true  │\n",
       "│ b     ┆ true ┆ true ┆ true  │\n",
       "│ c     ┆ true ┆ true ┆ true  │\n",
       "│ d     ┆ true ┆ true ┆ true  │\n",
       "└───────┴──────┴──────┴───────┘"
      ]
     },
     "execution_count": 31,
     "metadata": {},
     "output_type": "execute_result"
    }
   ],
   "source": [
    "# df + df == df * 2\n",
    "align_op(\n",
    "    align_op(df, df, op=pl.Expr.add),\n",
    "    df.select(\n",
    "        'index',\n",
    "        pl.exclude('index') * 2\n",
    "    ),\n",
    "    op=pl.Expr.eq\n",
    ")"
   ]
  },
  {
   "cell_type": "markdown",
   "id": "54de8e11-04a2-4eeb-b5fe-685ea1fd0103",
   "metadata": {},
   "source": [
    "In polars, NaN is equal to NaN"
   ]
  },
  {
   "cell_type": "code",
   "execution_count": 32,
   "id": "4ab241d7-62bb-41d0-bbfa-27208bddea9b",
   "metadata": {},
   "outputs": [
    {
     "data": {
      "text/html": [
       "<div><style>\n",
       ".dataframe > thead > tr,\n",
       ".dataframe > tbody > tr {\n",
       "  text-align: right;\n",
       "  white-space: pre-wrap;\n",
       "}\n",
       "</style>\n",
       "<small>shape: (1,)</small><table border=\"1\" class=\"dataframe\"><thead><tr><th></th></tr><tr><td>bool</td></tr></thead><tbody><tr><td>true</td></tr></tbody></table></div>"
      ],
      "text/plain": [
       "shape: (1,)\n",
       "Series: '' [bool]\n",
       "[\n",
       "\ttrue\n",
       "]"
      ]
     },
     "execution_count": 32,
     "metadata": {},
     "output_type": "execute_result"
    }
   ],
   "source": [
    "pl.Series([np.nan]) == pl.Series([np.nan])"
   ]
  },
  {
   "cell_type": "code",
   "execution_count": 33,
   "id": "5766d335-44f8-4b18-8142-0eeaca9a2735",
   "metadata": {},
   "outputs": [
    {
     "data": {
      "text/plain": [
       "True"
      ]
     },
     "execution_count": 33,
     "metadata": {},
     "output_type": "execute_result"
    }
   ],
   "source": [
    "# (df + df).equals(df * 2)\n",
    "align_op(df, df, op=pl.Expr.add).equals(\n",
    "    df.select(\n",
    "        'index',\n",
    "        pl.exclude('index') * 2\n",
    "    ),\n",
    ")"
   ]
  },
  {
   "cell_type": "code",
   "execution_count": 34,
   "id": "a6f36613-0039-4805-93c1-094255f10411",
   "metadata": {},
   "outputs": [
    {
     "data": {
      "text/plain": [
       "False"
      ]
     },
     "execution_count": 34,
     "metadata": {},
     "output_type": "execute_result"
    }
   ],
   "source": [
    "df1 = pl.DataFrame({\"index\":[0, 1, 2], \"col\": [1.0, 0, np.nan]})\n",
    "df2 = pl.DataFrame({\"index\":[2, 1, 0], \"col\": [np.nan, 0, 1.0]})\n",
    "df1.equals(df2)"
   ]
  },
  {
   "cell_type": "code",
   "execution_count": 35,
   "id": "6e308201-407a-469b-ad66-08c65fcd22ed",
   "metadata": {},
   "outputs": [
    {
     "data": {
      "text/plain": [
       "True"
      ]
     },
     "execution_count": 35,
     "metadata": {},
     "output_type": "execute_result"
    }
   ],
   "source": [
    "df1.equals(df2.sort('index'))"
   ]
  },
  {
   "cell_type": "markdown",
   "id": "c6e1b8f4-a19a-48b7-8edd-047460ae08da",
   "metadata": {},
   "source": [
    "### Comparing array-like objects"
   ]
  },
  {
   "cell_type": "code",
   "execution_count": 36,
   "id": "c53ed7e4-4d01-44d4-aa08-1b0e06089a27",
   "metadata": {},
   "outputs": [
    {
     "data": {
      "text/html": [
       "<div><style>\n",
       ".dataframe > thead > tr,\n",
       ".dataframe > tbody > tr {\n",
       "  text-align: right;\n",
       "  white-space: pre-wrap;\n",
       "}\n",
       "</style>\n",
       "<small>shape: (3,)</small><table border=\"1\" class=\"dataframe\"><thead><tr><th></th></tr><tr><td>bool</td></tr></thead><tbody><tr><td>true</td></tr><tr><td>false</td></tr><tr><td>false</td></tr></tbody></table></div>"
      ],
      "text/plain": [
       "shape: (3,)\n",
       "Series: '' [bool]\n",
       "[\n",
       "\ttrue\n",
       "\tfalse\n",
       "\tfalse\n",
       "]"
      ]
     },
     "execution_count": 36,
     "metadata": {},
     "output_type": "execute_result"
    }
   ],
   "source": [
    "pl.Series([\"foo\", \"bar\", \"baz\"]) == \"foo\""
   ]
  },
  {
   "cell_type": "code",
   "execution_count": null,
   "id": "2b1c0a72-5e8c-402e-aedb-89e82b88876b",
   "metadata": {},
   "outputs": [],
   "source": []
  },
  {
   "cell_type": "code",
   "execution_count": 37,
   "id": "42caac41-fff5-44b9-ae28-c8a32d35b53d",
   "metadata": {},
   "outputs": [
    {
     "data": {
      "text/html": [
       "<table><tr><td><div><style>\n",
       ".dataframe > thead > tr,\n",
       ".dataframe > tbody > tr {\n",
       "  text-align: right;\n",
       "  white-space: pre-wrap;\n",
       "}\n",
       "</style>\n",
       "<small>shape: (3,)</small><table border=\"1\" class=\"dataframe\"><thead><tr><th></th></tr><tr><td>bool</td></tr></thead><tbody><tr><td>false</td></tr><tr><td>false</td></tr><tr><td>false</td></tr></tbody></table></div></td><td><div><style>\n",
       ".dataframe > thead > tr,\n",
       ".dataframe > tbody > tr {\n",
       "  text-align: right;\n",
       "  white-space: pre-wrap;\n",
       "}\n",
       "</style>\n",
       "<small>shape: (3,)</small><table border=\"1\" class=\"dataframe\"><thead><tr><th></th></tr><tr><td>bool</td></tr></thead><tbody><tr><td>true</td></tr><tr><td>true</td></tr><tr><td>false</td></tr></tbody></table></div></td></tr></table>"
      ]
     },
     "metadata": {},
     "output_type": "display_data"
    }
   ],
   "source": [
    "row(\n",
    "pl.Series([\"foo\", \"bar\", \"baz\"]) == np.array([\"foo\", \"bar\", \"qux\"]),    \n",
    "pl.Series([\"foo\", \"bar\", \"baz\"]) == pl.Series(np.array([\"foo\", \"bar\", \"qux\"]))\n",
    ")"
   ]
  },
  {
   "cell_type": "markdown",
   "id": "1be3d11b-dd2b-44bd-818e-82baef77ee3c",
   "metadata": {},
   "source": [
    "### Combining overlapping data sets"
   ]
  },
  {
   "cell_type": "code",
   "execution_count": 38,
   "id": "fc257733-4b34-476e-a477-0cde82b6f518",
   "metadata": {},
   "outputs": [
    {
     "data": {
      "text/html": [
       "<table><tr><td><div><style>\n",
       ".dataframe > thead > tr,\n",
       ".dataframe > tbody > tr {\n",
       "  text-align: right;\n",
       "  white-space: pre-wrap;\n",
       "}\n",
       "</style>\n",
       "<small>shape: (5, 2)</small><table border=\"1\" class=\"dataframe\"><thead><tr><th>A</th><th>B</th></tr><tr><td>f64</td><td>f64</td></tr></thead><tbody><tr><td>1.0</td><td>NaN</td></tr><tr><td>NaN</td><td>2.0</td></tr><tr><td>3.0</td><td>3.0</td></tr><tr><td>5.0</td><td>NaN</td></tr><tr><td>NaN</td><td>6.0</td></tr></tbody></table></div></td><td><div><style>\n",
       ".dataframe > thead > tr,\n",
       ".dataframe > tbody > tr {\n",
       "  text-align: right;\n",
       "  white-space: pre-wrap;\n",
       "}\n",
       "</style>\n",
       "<small>shape: (6, 2)</small><table border=\"1\" class=\"dataframe\"><thead><tr><th>A</th><th>B</th></tr><tr><td>f64</td><td>f64</td></tr></thead><tbody><tr><td>5.0</td><td>NaN</td></tr><tr><td>2.0</td><td>NaN</td></tr><tr><td>4.0</td><td>3.0</td></tr><tr><td>NaN</td><td>4.0</td></tr><tr><td>3.0</td><td>6.0</td></tr><tr><td>7.0</td><td>8.0</td></tr></tbody></table></div></td></tr></table>"
      ]
     },
     "metadata": {},
     "output_type": "display_data"
    }
   ],
   "source": [
    "df1 = pl.DataFrame({\n",
    "    \"A\": [1.0, np.nan, 3.0, 5.0, np.nan], \n",
    "    \"B\": [np.nan, 2.0, 3.0, np.nan, 6.0]\n",
    "})\n",
    "\n",
    "df2 = pl.DataFrame({\n",
    "    \"A\": [5.0, 2.0, 4.0, np.nan, 3.0, 7.0],\n",
    "    \"B\": [np.nan, np.nan, 3.0, 4.0, 6.0, 8.0],\n",
    "})\n",
    "\n",
    "row(df1, df2)"
   ]
  },
  {
   "cell_type": "code",
   "execution_count": 39,
   "id": "7e0585df-a3ee-4e49-9e2e-9119140c08d9",
   "metadata": {},
   "outputs": [
    {
     "data": {
      "text/html": [
       "<div><style>\n",
       ".dataframe > thead > tr,\n",
       ".dataframe > tbody > tr {\n",
       "  text-align: right;\n",
       "  white-space: pre-wrap;\n",
       "}\n",
       "</style>\n",
       "<small>shape: (5, 2)</small><table border=\"1\" class=\"dataframe\"><thead><tr><th>A</th><th>B</th></tr><tr><td>f64</td><td>f64</td></tr></thead><tbody><tr><td>1.0</td><td>null</td></tr><tr><td>2.0</td><td>2.0</td></tr><tr><td>3.0</td><td>3.0</td></tr><tr><td>5.0</td><td>4.0</td></tr><tr><td>3.0</td><td>6.0</td></tr></tbody></table></div>"
      ],
      "text/plain": [
       "shape: (5, 2)\n",
       "┌─────┬──────┐\n",
       "│ A   ┆ B    │\n",
       "│ --- ┆ ---  │\n",
       "│ f64 ┆ f64  │\n",
       "╞═════╪══════╡\n",
       "│ 1.0 ┆ null │\n",
       "│ 2.0 ┆ 2.0  │\n",
       "│ 3.0 ┆ 3.0  │\n",
       "│ 5.0 ┆ 4.0  │\n",
       "│ 3.0 ┆ 6.0  │\n",
       "└─────┴──────┘"
      ]
     },
     "execution_count": 39,
     "metadata": {},
     "output_type": "execute_result"
    }
   ],
   "source": [
    "# df1.combine_first(df2)\n",
    "(\n",
    "df1\n",
    ".with_row_index()\n",
    ".join(\n",
    "    df2.with_row_index(), on='index', how='left'\n",
    ")\n",
    ".fill_nan(None)\n",
    ".select(\n",
    "    [pl.coalesce(pl.col(c), pl.col(f'{c}_right')) for c in df1.columns]\n",
    ")\n",
    ")"
   ]
  },
  {
   "cell_type": "markdown",
   "id": "c6fced59-7c46-4a09-bcc0-f7bf78717daf",
   "metadata": {},
   "source": [
    "### General DataFrame combine"
   ]
  },
  {
   "cell_type": "code",
   "execution_count": 40,
   "id": "9eb32434-e45e-4f6b-be31-65e23ef41e5f",
   "metadata": {},
   "outputs": [
    {
     "data": {
      "text/html": [
       "<div><style>\n",
       ".dataframe > thead > tr,\n",
       ".dataframe > tbody > tr {\n",
       "  text-align: right;\n",
       "  white-space: pre-wrap;\n",
       "}\n",
       "</style>\n",
       "<small>shape: (6, 3)</small><table border=\"1\" class=\"dataframe\"><thead><tr><th>index</th><th>A</th><th>B</th></tr><tr><td>u32</td><td>f64</td><td>f64</td></tr></thead><tbody><tr><td>0</td><td>1.0</td><td>NaN</td></tr><tr><td>1</td><td>2.0</td><td>2.0</td></tr><tr><td>2</td><td>3.0</td><td>3.0</td></tr><tr><td>3</td><td>5.0</td><td>4.0</td></tr><tr><td>4</td><td>3.0</td><td>6.0</td></tr><tr><td>5</td><td>7.0</td><td>8.0</td></tr></tbody></table></div>"
      ],
      "text/plain": [
       "shape: (6, 3)\n",
       "┌───────┬─────┬─────┐\n",
       "│ index ┆ A   ┆ B   │\n",
       "│ ---   ┆ --- ┆ --- │\n",
       "│ u32   ┆ f64 ┆ f64 │\n",
       "╞═══════╪═════╪═════╡\n",
       "│ 0     ┆ 1.0 ┆ NaN │\n",
       "│ 1     ┆ 2.0 ┆ 2.0 │\n",
       "│ 2     ┆ 3.0 ┆ 3.0 │\n",
       "│ 3     ┆ 5.0 ┆ 4.0 │\n",
       "│ 4     ┆ 3.0 ┆ 6.0 │\n",
       "│ 5     ┆ 7.0 ┆ 8.0 │\n",
       "└───────┴─────┴─────┘"
      ]
     },
     "execution_count": 40,
     "metadata": {},
     "output_type": "execute_result"
    }
   ],
   "source": [
    "# df1.combine(df2, combiner)\n",
    "\n",
    "def combiner(x, y):\n",
    "    return pl.when(x.fill_nan(None).is_null()).then(y).otherwise(x)\n",
    "     \n",
    "align_op(df1.with_row_index(), df2.with_row_index(), combiner, how='full', fill_value=None)"
   ]
  },
  {
   "cell_type": "markdown",
   "id": "7e4e785f-45ed-4137-82e9-18f4b003aa17",
   "metadata": {},
   "source": [
    "## Descriptive statistics"
   ]
  },
  {
   "cell_type": "code",
   "execution_count": 41,
   "id": "48c7989d-8152-442f-b8f6-32515b3dd4e9",
   "metadata": {},
   "outputs": [
    {
     "data": {
      "text/html": [
       "<div><style>\n",
       ".dataframe > thead > tr,\n",
       ".dataframe > tbody > tr {\n",
       "  text-align: right;\n",
       "  white-space: pre-wrap;\n",
       "}\n",
       "</style>\n",
       "<small>shape: (4, 4)</small><table border=\"1\" class=\"dataframe\"><thead><tr><th>index</th><th>one</th><th>two</th><th>three</th></tr><tr><td>str</td><td>f64</td><td>f64</td><td>f64</td></tr></thead><tbody><tr><td>&quot;a&quot;</td><td>1.394981</td><td>1.772517</td><td>NaN</td></tr><tr><td>&quot;b&quot;</td><td>0.343054</td><td>1.912123</td><td>-0.05039</td></tr><tr><td>&quot;c&quot;</td><td>0.695246</td><td>1.478369</td><td>1.227435</td></tr><tr><td>&quot;d&quot;</td><td>NaN</td><td>0.279344</td><td>-0.613172</td></tr></tbody></table></div>"
      ],
      "text/plain": [
       "shape: (4, 4)\n",
       "┌───────┬──────────┬──────────┬───────────┐\n",
       "│ index ┆ one      ┆ two      ┆ three     │\n",
       "│ ---   ┆ ---      ┆ ---      ┆ ---       │\n",
       "│ str   ┆ f64      ┆ f64      ┆ f64       │\n",
       "╞═══════╪══════════╪══════════╪═══════════╡\n",
       "│ a     ┆ 1.394981 ┆ 1.772517 ┆ NaN       │\n",
       "│ b     ┆ 0.343054 ┆ 1.912123 ┆ -0.05039  │\n",
       "│ c     ┆ 0.695246 ┆ 1.478369 ┆ 1.227435  │\n",
       "│ d     ┆ NaN      ┆ 0.279344 ┆ -0.613172 │\n",
       "└───────┴──────────┴──────────┴───────────┘"
      ]
     },
     "execution_count": 41,
     "metadata": {},
     "output_type": "execute_result"
    }
   ],
   "source": [
    "df"
   ]
  },
  {
   "cell_type": "code",
   "execution_count": 42,
   "id": "83f43a4c-cf0f-4238-87c7-46833b10e3d6",
   "metadata": {},
   "outputs": [
    {
     "data": {
      "text/html": [
       "<div><style>\n",
       ".dataframe > thead > tr,\n",
       ".dataframe > tbody > tr {\n",
       "  text-align: right;\n",
       "  white-space: pre-wrap;\n",
       "}\n",
       "</style>\n",
       "<small>shape: (1, 3)</small><table border=\"1\" class=\"dataframe\"><thead><tr><th>one</th><th>two</th><th>three</th></tr><tr><td>f64</td><td>f64</td><td>f64</td></tr></thead><tbody><tr><td>0.811094</td><td>1.360588</td><td>0.187958</td></tr></tbody></table></div>"
      ],
      "text/plain": [
       "shape: (1, 3)\n",
       "┌──────────┬──────────┬──────────┐\n",
       "│ one      ┆ two      ┆ three    │\n",
       "│ ---      ┆ ---      ┆ ---      │\n",
       "│ f64      ┆ f64      ┆ f64      │\n",
       "╞══════════╪══════════╪══════════╡\n",
       "│ 0.811094 ┆ 1.360588 ┆ 0.187958 │\n",
       "└──────────┴──────────┴──────────┘"
      ]
     },
     "execution_count": 42,
     "metadata": {},
     "output_type": "execute_result"
    }
   ],
   "source": [
    "# df.mean(0)\n",
    "df.select(pl.exclude('index').fill_nan(None).mean())"
   ]
  },
  {
   "cell_type": "code",
   "execution_count": 43,
   "id": "f5616155-ab98-459b-9d5c-b8d58146361c",
   "metadata": {},
   "outputs": [
    {
     "data": {
      "text/html": [
       "<div><style>\n",
       ".dataframe > thead > tr,\n",
       ".dataframe > tbody > tr {\n",
       "  text-align: right;\n",
       "  white-space: pre-wrap;\n",
       "}\n",
       "</style>\n",
       "<small>shape: (4, 2)</small><table border=\"1\" class=\"dataframe\"><thead><tr><th>index</th><th>one</th></tr><tr><td>str</td><td>f64</td></tr></thead><tbody><tr><td>&quot;a&quot;</td><td>1.583749</td></tr><tr><td>&quot;b&quot;</td><td>0.734929</td></tr><tr><td>&quot;c&quot;</td><td>1.133683</td></tr><tr><td>&quot;d&quot;</td><td>-0.166914</td></tr></tbody></table></div>"
      ],
      "text/plain": [
       "shape: (4, 2)\n",
       "┌───────┬───────────┐\n",
       "│ index ┆ one       │\n",
       "│ ---   ┆ ---       │\n",
       "│ str   ┆ f64       │\n",
       "╞═══════╪═══════════╡\n",
       "│ a     ┆ 1.583749  │\n",
       "│ b     ┆ 0.734929  │\n",
       "│ c     ┆ 1.133683  │\n",
       "│ d     ┆ -0.166914 │\n",
       "└───────┴───────────┘"
      ]
     },
     "execution_count": 43,
     "metadata": {},
     "output_type": "execute_result"
    }
   ],
   "source": [
    "# df.mean(1)\n",
    "df.select(\n",
    "    'index',\n",
    "    pl.mean_horizontal(pl.exclude('index').fill_nan(None))\n",
    ")"
   ]
  },
  {
   "cell_type": "code",
   "execution_count": 44,
   "id": "9799f8ab-4c94-4657-83cb-c21a5e8a03c1",
   "metadata": {},
   "outputs": [
    {
     "data": {
      "text/html": [
       "<div><style>\n",
       ".dataframe > thead > tr,\n",
       ".dataframe > tbody > tr {\n",
       "  text-align: right;\n",
       "  white-space: pre-wrap;\n",
       "}\n",
       "</style>\n",
       "<small>shape: (1, 3)</small><table border=\"1\" class=\"dataframe\"><thead><tr><th>one</th><th>two</th><th>three</th></tr><tr><td>f64</td><td>f64</td><td>f64</td></tr></thead><tbody><tr><td>NaN</td><td>5.442353</td><td>NaN</td></tr></tbody></table></div>"
      ],
      "text/plain": [
       "shape: (1, 3)\n",
       "┌─────┬──────────┬───────┐\n",
       "│ one ┆ two      ┆ three │\n",
       "│ --- ┆ ---      ┆ ---   │\n",
       "│ f64 ┆ f64      ┆ f64   │\n",
       "╞═════╪══════════╪═══════╡\n",
       "│ NaN ┆ 5.442353 ┆ NaN   │\n",
       "└─────┴──────────┴───────┘"
      ]
     },
     "execution_count": 44,
     "metadata": {},
     "output_type": "execute_result"
    }
   ],
   "source": [
    "# df.sum(0, skipna=False)\n",
    "df.select(pl.exclude('index').sum())"
   ]
  },
  {
   "cell_type": "code",
   "execution_count": 45,
   "id": "ef091cef-0379-4b7a-92e5-16921d98cda5",
   "metadata": {},
   "outputs": [
    {
     "data": {
      "text/html": [
       "<div><style>\n",
       ".dataframe > thead > tr,\n",
       ".dataframe > tbody > tr {\n",
       "  text-align: right;\n",
       "  white-space: pre-wrap;\n",
       "}\n",
       "</style>\n",
       "<small>shape: (4, 2)</small><table border=\"1\" class=\"dataframe\"><thead><tr><th>index</th><th>one</th></tr><tr><td>str</td><td>f64</td></tr></thead><tbody><tr><td>&quot;a&quot;</td><td>3.167498</td></tr><tr><td>&quot;b&quot;</td><td>2.204787</td></tr><tr><td>&quot;c&quot;</td><td>3.40105</td></tr><tr><td>&quot;d&quot;</td><td>-0.333828</td></tr></tbody></table></div>"
      ],
      "text/plain": [
       "shape: (4, 2)\n",
       "┌───────┬───────────┐\n",
       "│ index ┆ one       │\n",
       "│ ---   ┆ ---       │\n",
       "│ str   ┆ f64       │\n",
       "╞═══════╪═══════════╡\n",
       "│ a     ┆ 3.167498  │\n",
       "│ b     ┆ 2.204787  │\n",
       "│ c     ┆ 3.40105   │\n",
       "│ d     ┆ -0.333828 │\n",
       "└───────┴───────────┘"
      ]
     },
     "execution_count": 45,
     "metadata": {},
     "output_type": "execute_result"
    }
   ],
   "source": [
    "# df.sum(axis=1, skipna=True)\n",
    "df.select(\n",
    "    'index',\n",
    "    pl.sum_horizontal(pl.exclude('index').fill_nan(None))\n",
    ")"
   ]
  },
  {
   "cell_type": "code",
   "execution_count": 49,
   "id": "5650a3a1-dbd0-40f1-9b36-f459faa21e6f",
   "metadata": {},
   "outputs": [
    {
     "data": {
      "text/html": [
       "<div><style>\n",
       ".dataframe > thead > tr,\n",
       ".dataframe > tbody > tr {\n",
       "  text-align: right;\n",
       "  white-space: pre-wrap;\n",
       "}\n",
       "</style>\n",
       "<small>shape: (1, 3)</small><table border=\"1\" class=\"dataframe\"><thead><tr><th>one</th><th>two</th><th>three</th></tr><tr><td>f64</td><td>f64</td><td>f64</td></tr></thead><tbody><tr><td>1.0</td><td>1.0</td><td>1.0</td></tr></tbody></table></div>"
      ],
      "text/plain": [
       "shape: (1, 3)\n",
       "┌─────┬─────┬───────┐\n",
       "│ one ┆ two ┆ three │\n",
       "│ --- ┆ --- ┆ ---   │\n",
       "│ f64 ┆ f64 ┆ f64   │\n",
       "╞═════╪═════╪═══════╡\n",
       "│ 1.0 ┆ 1.0 ┆ 1.0   │\n",
       "└─────┴─────┴───────┘"
      ]
     },
     "execution_count": 49,
     "metadata": {},
     "output_type": "execute_result"
    }
   ],
   "source": [
    "cols = pl.exclude('index').fill_nan(None)\n",
    "ts_stand = df.select(\n",
    "    (cols - cols.mean()) / cols.std()\n",
    ")\n",
    "ts_stand.std()"
   ]
  },
  {
   "cell_type": "code",
   "execution_count": 65,
   "id": "8fd23ffe-dd6e-4d38-80be-c84e176868ff",
   "metadata": {},
   "outputs": [
    {
     "data": {
      "text/html": [
       "<div><style>\n",
       ".dataframe > thead > tr,\n",
       ".dataframe > tbody > tr {\n",
       "  text-align: right;\n",
       "  white-space: pre-wrap;\n",
       "}\n",
       "</style>\n",
       "<small>shape: (4, 2)</small><table border=\"1\" class=\"dataframe\"><thead><tr><th>index</th><th>one</th></tr><tr><td>str</td><td>f64</td></tr></thead><tbody><tr><td>&quot;a&quot;</td><td>1.0</td></tr><tr><td>&quot;b&quot;</td><td>1.0</td></tr><tr><td>&quot;c&quot;</td><td>1.0</td></tr><tr><td>&quot;d&quot;</td><td>1.0</td></tr></tbody></table></div>"
      ],
      "text/plain": [
       "shape: (4, 2)\n",
       "┌───────┬─────┐\n",
       "│ index ┆ one │\n",
       "│ ---   ┆ --- │\n",
       "│ str   ┆ f64 │\n",
       "╞═══════╪═════╡\n",
       "│ a     ┆ 1.0 │\n",
       "│ b     ┆ 1.0 │\n",
       "│ c     ┆ 1.0 │\n",
       "│ d     ┆ 1.0 │\n",
       "└───────┴─────┘"
      ]
     },
     "execution_count": 65,
     "metadata": {},
     "output_type": "execute_result"
    }
   ],
   "source": [
    "# xs_stand = df.sub(df.mean(1), axis=0).div(df.std(1), axis=0)\n",
    "cols = pl.exclude('index').fill_nan(None)\n",
    "cols_list = pl.concat_list(cols).list\n",
    "xs_stand = df.select(\n",
    "    'index',\n",
    "    (cols - cols_list.mean()) / cols_list.std()\n",
    ")\n",
    "xs_stand.select(\n",
    "    'index',\n",
    "    cols_list.std()\n",
    ")"
   ]
  },
  {
   "cell_type": "code",
   "execution_count": 67,
   "id": "7af8f443-bde6-480b-a8a8-3871a0621c9f",
   "metadata": {},
   "outputs": [
    {
     "data": {
      "text/html": [
       "<div><style>\n",
       ".dataframe > thead > tr,\n",
       ".dataframe > tbody > tr {\n",
       "  text-align: right;\n",
       "  white-space: pre-wrap;\n",
       "}\n",
       "</style>\n",
       "<small>shape: (4, 4)</small><table border=\"1\" class=\"dataframe\"><thead><tr><th>index</th><th>one</th><th>two</th><th>three</th></tr><tr><td>str</td><td>f64</td><td>f64</td><td>f64</td></tr></thead><tbody><tr><td>&quot;a&quot;</td><td>1.394981</td><td>1.772517</td><td>null</td></tr><tr><td>&quot;b&quot;</td><td>1.738035</td><td>3.68464</td><td>-0.05039</td></tr><tr><td>&quot;c&quot;</td><td>2.433281</td><td>5.163009</td><td>1.177045</td></tr><tr><td>&quot;d&quot;</td><td>null</td><td>5.442353</td><td>0.563873</td></tr></tbody></table></div>"
      ],
      "text/plain": [
       "shape: (4, 4)\n",
       "┌───────┬──────────┬──────────┬──────────┐\n",
       "│ index ┆ one      ┆ two      ┆ three    │\n",
       "│ ---   ┆ ---      ┆ ---      ┆ ---      │\n",
       "│ str   ┆ f64      ┆ f64      ┆ f64      │\n",
       "╞═══════╪══════════╪══════════╪══════════╡\n",
       "│ a     ┆ 1.394981 ┆ 1.772517 ┆ null     │\n",
       "│ b     ┆ 1.738035 ┆ 3.68464  ┆ -0.05039 │\n",
       "│ c     ┆ 2.433281 ┆ 5.163009 ┆ 1.177045 │\n",
       "│ d     ┆ null     ┆ 5.442353 ┆ 0.563873 │\n",
       "└───────┴──────────┴──────────┴──────────┘"
      ]
     },
     "execution_count": 67,
     "metadata": {},
     "output_type": "execute_result"
    }
   ],
   "source": [
    "# df.cumsum()\n",
    "cols = pl.exclude('index').fill_nan(None)\n",
    "df.select(\n",
    "    'index',\n",
    "    cols.cum_sum()\n",
    ")"
   ]
  },
  {
   "cell_type": "code",
   "execution_count": 73,
   "id": "801d6359-9d68-4c86-8607-95ff8487e255",
   "metadata": {},
   "outputs": [
    {
     "data": {
      "text/plain": [
       "nan"
      ]
     },
     "execution_count": 73,
     "metadata": {},
     "output_type": "execute_result"
    }
   ],
   "source": [
    "np.mean(df['one'].to_numpy())"
   ]
  },
  {
   "cell_type": "code",
   "execution_count": 79,
   "id": "abc07fe6-c0bc-42bc-997b-9c8855ff9750",
   "metadata": {},
   "outputs": [
    {
     "data": {
      "text/plain": [
       "12"
      ]
     },
     "execution_count": 79,
     "metadata": {},
     "output_type": "execute_result"
    }
   ],
   "source": [
    "series = pl.Series(np.random.randn(500))\n",
    "series[np.arange(20, 500)] = np.nan\n",
    "series[np.arange(10, 20)] = 5\n",
    "series.n_unique()"
   ]
  },
  {
   "cell_type": "code",
   "execution_count": 82,
   "id": "33f9ad86-3ee2-4f97-9fb4-72895cfe9851",
   "metadata": {},
   "outputs": [
    {
     "data": {
      "text/plain": [
       "11"
      ]
     },
     "execution_count": 82,
     "metadata": {},
     "output_type": "execute_result"
    }
   ],
   "source": [
    "series.drop_nans().n_unique()"
   ]
  },
  {
   "cell_type": "markdown",
   "id": "8cc70d8c-1f87-4190-b7af-4b434c5c3f75",
   "metadata": {},
   "source": [
    "### Summarizing data: describe"
   ]
  },
  {
   "cell_type": "code",
   "execution_count": 86,
   "id": "1cc1d28b-43ef-40f5-ab96-7f9fd9636fa5",
   "metadata": {},
   "outputs": [
    {
     "data": {
      "text/html": [
       "<div><style>\n",
       ".dataframe > thead > tr,\n",
       ".dataframe > tbody > tr {\n",
       "  text-align: right;\n",
       "  white-space: pre-wrap;\n",
       "}\n",
       "</style>\n",
       "<small>shape: (9, 2)</small><table border=\"1\" class=\"dataframe\"><thead><tr><th>statistic</th><th>value</th></tr><tr><td>str</td><td>f64</td></tr></thead><tbody><tr><td>&quot;count&quot;</td><td>500.0</td></tr><tr><td>&quot;null_count&quot;</td><td>500.0</td></tr><tr><td>&quot;mean&quot;</td><td>-0.00092</td></tr><tr><td>&quot;std&quot;</td><td>0.999375</td></tr><tr><td>&quot;min&quot;</td><td>-3.037615</td></tr><tr><td>&quot;25%&quot;</td><td>-0.676407</td></tr><tr><td>&quot;50%&quot;</td><td>0.011617</td></tr><tr><td>&quot;75%&quot;</td><td>0.714109</td></tr><tr><td>&quot;max&quot;</td><td>2.909347</td></tr></tbody></table></div>"
      ],
      "text/plain": [
       "shape: (9, 2)\n",
       "┌────────────┬───────────┐\n",
       "│ statistic  ┆ value     │\n",
       "│ ---        ┆ ---       │\n",
       "│ str        ┆ f64       │\n",
       "╞════════════╪═══════════╡\n",
       "│ count      ┆ 500.0     │\n",
       "│ null_count ┆ 500.0     │\n",
       "│ mean       ┆ -0.00092  │\n",
       "│ std        ┆ 0.999375  │\n",
       "│ min        ┆ -3.037615 │\n",
       "│ 25%        ┆ -0.676407 │\n",
       "│ 50%        ┆ 0.011617  │\n",
       "│ 75%        ┆ 0.714109  │\n",
       "│ max        ┆ 2.909347  │\n",
       "└────────────┴───────────┘"
      ]
     },
     "execution_count": 86,
     "metadata": {},
     "output_type": "execute_result"
    }
   ],
   "source": [
    "series = pl.Series(np.random.randn(1000))\n",
    "series[np.arange(0, len(series), 2)] = None\n",
    "series.describe()"
   ]
  },
  {
   "cell_type": "code",
   "execution_count": 91,
   "id": "ebf7a564-9eb6-4b01-b7bd-3511d8aab065",
   "metadata": {},
   "outputs": [],
   "source": [
    "frame = pl.DataFrame(np.random.randn(1000, 5), schema=[\"a\", \"b\", \"c\", \"d\", \"e\"])"
   ]
  },
  {
   "cell_type": "code",
   "execution_count": 92,
   "id": "c7e105f2-35a2-4f7c-b6d5-2cf5436582bb",
   "metadata": {},
   "outputs": [],
   "source": [
    "# frame.iloc[::2] = np.nan\n",
    "\n",
    "frame = frame.select(\n",
    "    pl.when(pl.int_range(0, pl.len()) % 2 == 0)\n",
    "    .then(None)\n",
    "    .otherwise(pl.all())\n",
    "    .name.keep()\n",
    ")"
   ]
  },
  {
   "cell_type": "code",
   "execution_count": 93,
   "id": "c4aae0f2-72fa-4a81-9ec7-e7a3d39f3666",
   "metadata": {},
   "outputs": [
    {
     "data": {
      "text/html": [
       "<div><style>\n",
       ".dataframe > thead > tr,\n",
       ".dataframe > tbody > tr {\n",
       "  text-align: right;\n",
       "  white-space: pre-wrap;\n",
       "}\n",
       "</style>\n",
       "<small>shape: (9, 6)</small><table border=\"1\" class=\"dataframe\"><thead><tr><th>statistic</th><th>a</th><th>b</th><th>c</th><th>d</th><th>e</th></tr><tr><td>str</td><td>f64</td><td>f64</td><td>f64</td><td>f64</td><td>f64</td></tr></thead><tbody><tr><td>&quot;count&quot;</td><td>500.0</td><td>500.0</td><td>500.0</td><td>500.0</td><td>500.0</td></tr><tr><td>&quot;null_count&quot;</td><td>500.0</td><td>500.0</td><td>500.0</td><td>500.0</td><td>500.0</td></tr><tr><td>&quot;mean&quot;</td><td>0.056895</td><td>-0.002257</td><td>-0.006452</td><td>-0.008162</td><td>0.157802</td></tr><tr><td>&quot;std&quot;</td><td>1.008667</td><td>1.030909</td><td>0.989932</td><td>1.001297</td><td>1.036786</td></tr><tr><td>&quot;min&quot;</td><td>-2.856179</td><td>-3.097654</td><td>-3.082604</td><td>-2.869447</td><td>-3.305509</td></tr><tr><td>&quot;25%&quot;</td><td>-0.652431</td><td>-0.73133</td><td>-0.667962</td><td>-0.70158</td><td>-0.545181</td></tr><tr><td>&quot;50%&quot;</td><td>0.028372</td><td>0.004722</td><td>-0.027605</td><td>0.011449</td><td>0.097324</td></tr><tr><td>&quot;75%&quot;</td><td>0.682857</td><td>0.677287</td><td>0.651967</td><td>0.663524</td><td>0.830447</td></tr><tr><td>&quot;max&quot;</td><td>2.678423</td><td>3.426341</td><td>3.229446</td><td>3.535054</td><td>3.418267</td></tr></tbody></table></div>"
      ],
      "text/plain": [
       "shape: (9, 6)\n",
       "┌────────────┬───────────┬───────────┬───────────┬───────────┬───────────┐\n",
       "│ statistic  ┆ a         ┆ b         ┆ c         ┆ d         ┆ e         │\n",
       "│ ---        ┆ ---       ┆ ---       ┆ ---       ┆ ---       ┆ ---       │\n",
       "│ str        ┆ f64       ┆ f64       ┆ f64       ┆ f64       ┆ f64       │\n",
       "╞════════════╪═══════════╪═══════════╪═══════════╪═══════════╪═══════════╡\n",
       "│ count      ┆ 500.0     ┆ 500.0     ┆ 500.0     ┆ 500.0     ┆ 500.0     │\n",
       "│ null_count ┆ 500.0     ┆ 500.0     ┆ 500.0     ┆ 500.0     ┆ 500.0     │\n",
       "│ mean       ┆ 0.056895  ┆ -0.002257 ┆ -0.006452 ┆ -0.008162 ┆ 0.157802  │\n",
       "│ std        ┆ 1.008667  ┆ 1.030909  ┆ 0.989932  ┆ 1.001297  ┆ 1.036786  │\n",
       "│ min        ┆ -2.856179 ┆ -3.097654 ┆ -3.082604 ┆ -2.869447 ┆ -3.305509 │\n",
       "│ 25%        ┆ -0.652431 ┆ -0.73133  ┆ -0.667962 ┆ -0.70158  ┆ -0.545181 │\n",
       "│ 50%        ┆ 0.028372  ┆ 0.004722  ┆ -0.027605 ┆ 0.011449  ┆ 0.097324  │\n",
       "│ 75%        ┆ 0.682857  ┆ 0.677287  ┆ 0.651967  ┆ 0.663524  ┆ 0.830447  │\n",
       "│ max        ┆ 2.678423  ┆ 3.426341  ┆ 3.229446  ┆ 3.535054  ┆ 3.418267  │\n",
       "└────────────┴───────────┴───────────┴───────────┴───────────┴───────────┘"
      ]
     },
     "execution_count": 93,
     "metadata": {},
     "output_type": "execute_result"
    }
   ],
   "source": [
    "frame.describe()"
   ]
  },
  {
   "cell_type": "code",
   "execution_count": 94,
   "id": "8a43fe55-a6c5-41f5-a7f3-404105042cca",
   "metadata": {},
   "outputs": [
    {
     "data": {
      "text/html": [
       "<div><style>\n",
       ".dataframe > thead > tr,\n",
       ".dataframe > tbody > tr {\n",
       "  text-align: right;\n",
       "  white-space: pre-wrap;\n",
       "}\n",
       "</style>\n",
       "<small>shape: (10, 2)</small><table border=\"1\" class=\"dataframe\"><thead><tr><th>statistic</th><th>value</th></tr><tr><td>str</td><td>f64</td></tr></thead><tbody><tr><td>&quot;count&quot;</td><td>500.0</td></tr><tr><td>&quot;null_count&quot;</td><td>500.0</td></tr><tr><td>&quot;mean&quot;</td><td>-0.00092</td></tr><tr><td>&quot;std&quot;</td><td>0.999375</td></tr><tr><td>&quot;min&quot;</td><td>-3.037615</td></tr><tr><td>&quot;5%&quot;</td><td>-1.711111</td></tr><tr><td>&quot;25%&quot;</td><td>-0.676407</td></tr><tr><td>&quot;75%&quot;</td><td>0.714109</td></tr><tr><td>&quot;95%&quot;</td><td>1.569069</td></tr><tr><td>&quot;max&quot;</td><td>2.909347</td></tr></tbody></table></div>"
      ],
      "text/plain": [
       "shape: (10, 2)\n",
       "┌────────────┬───────────┐\n",
       "│ statistic  ┆ value     │\n",
       "│ ---        ┆ ---       │\n",
       "│ str        ┆ f64       │\n",
       "╞════════════╪═══════════╡\n",
       "│ count      ┆ 500.0     │\n",
       "│ null_count ┆ 500.0     │\n",
       "│ mean       ┆ -0.00092  │\n",
       "│ std        ┆ 0.999375  │\n",
       "│ min        ┆ -3.037615 │\n",
       "│ 5%         ┆ -1.711111 │\n",
       "│ 25%        ┆ -0.676407 │\n",
       "│ 75%        ┆ 0.714109  │\n",
       "│ 95%        ┆ 1.569069  │\n",
       "│ max        ┆ 2.909347  │\n",
       "└────────────┴───────────┘"
      ]
     },
     "execution_count": 94,
     "metadata": {},
     "output_type": "execute_result"
    }
   ],
   "source": [
    "series.describe(percentiles=[0.05, 0.25, 0.75, 0.95])"
   ]
  },
  {
   "cell_type": "code",
   "execution_count": 95,
   "id": "4fb4875e-9675-4538-b66b-9e83c6950291",
   "metadata": {},
   "outputs": [
    {
     "data": {
      "text/html": [
       "<div><style>\n",
       ".dataframe > thead > tr,\n",
       ".dataframe > tbody > tr {\n",
       "  text-align: right;\n",
       "  white-space: pre-wrap;\n",
       "}\n",
       "</style>\n",
       "<small>shape: (4, 2)</small><table border=\"1\" class=\"dataframe\"><thead><tr><th>statistic</th><th>value</th></tr><tr><td>str</td><td>str</td></tr></thead><tbody><tr><td>&quot;count&quot;</td><td>&quot;9&quot;</td></tr><tr><td>&quot;null_count&quot;</td><td>&quot;1&quot;</td></tr><tr><td>&quot;min&quot;</td><td>&quot;a&quot;</td></tr><tr><td>&quot;max&quot;</td><td>&quot;d&quot;</td></tr></tbody></table></div>"
      ],
      "text/plain": [
       "shape: (4, 2)\n",
       "┌────────────┬───────┐\n",
       "│ statistic  ┆ value │\n",
       "│ ---        ┆ ---   │\n",
       "│ str        ┆ str   │\n",
       "╞════════════╪═══════╡\n",
       "│ count      ┆ 9     │\n",
       "│ null_count ┆ 1     │\n",
       "│ min        ┆ a     │\n",
       "│ max        ┆ d     │\n",
       "└────────────┴───────┘"
      ]
     },
     "execution_count": 95,
     "metadata": {},
     "output_type": "execute_result"
    }
   ],
   "source": [
    "s = pl.Series([\"a\", \"a\", \"b\", \"b\", \"a\", \"a\", None, \"c\", \"d\", \"a\"])\n",
    "s.describe()"
   ]
  },
  {
   "cell_type": "code",
   "execution_count": 96,
   "id": "3aaa8649-1a34-41e6-b1d0-e20e4e948a8e",
   "metadata": {},
   "outputs": [
    {
     "data": {
      "text/html": [
       "<div><style>\n",
       ".dataframe > thead > tr,\n",
       ".dataframe > tbody > tr {\n",
       "  text-align: right;\n",
       "  white-space: pre-wrap;\n",
       "}\n",
       "</style>\n",
       "<small>shape: (9, 3)</small><table border=\"1\" class=\"dataframe\"><thead><tr><th>statistic</th><th>a</th><th>b</th></tr><tr><td>str</td><td>str</td><td>f64</td></tr></thead><tbody><tr><td>&quot;count&quot;</td><td>&quot;4&quot;</td><td>4.0</td></tr><tr><td>&quot;null_count&quot;</td><td>&quot;0&quot;</td><td>0.0</td></tr><tr><td>&quot;mean&quot;</td><td>null</td><td>1.5</td></tr><tr><td>&quot;std&quot;</td><td>null</td><td>1.290994</td></tr><tr><td>&quot;min&quot;</td><td>&quot;No&quot;</td><td>0.0</td></tr><tr><td>&quot;25%&quot;</td><td>null</td><td>1.0</td></tr><tr><td>&quot;50%&quot;</td><td>null</td><td>2.0</td></tr><tr><td>&quot;75%&quot;</td><td>null</td><td>2.0</td></tr><tr><td>&quot;max&quot;</td><td>&quot;Yes&quot;</td><td>3.0</td></tr></tbody></table></div>"
      ],
      "text/plain": [
       "shape: (9, 3)\n",
       "┌────────────┬──────┬──────────┐\n",
       "│ statistic  ┆ a    ┆ b        │\n",
       "│ ---        ┆ ---  ┆ ---      │\n",
       "│ str        ┆ str  ┆ f64      │\n",
       "╞════════════╪══════╪══════════╡\n",
       "│ count      ┆ 4    ┆ 4.0      │\n",
       "│ null_count ┆ 0    ┆ 0.0      │\n",
       "│ mean       ┆ null ┆ 1.5      │\n",
       "│ std        ┆ null ┆ 1.290994 │\n",
       "│ min        ┆ No   ┆ 0.0      │\n",
       "│ 25%        ┆ null ┆ 1.0      │\n",
       "│ 50%        ┆ null ┆ 2.0      │\n",
       "│ 75%        ┆ null ┆ 2.0      │\n",
       "│ max        ┆ Yes  ┆ 3.0      │\n",
       "└────────────┴──────┴──────────┘"
      ]
     },
     "execution_count": 96,
     "metadata": {},
     "output_type": "execute_result"
    }
   ],
   "source": [
    "frame = pl.DataFrame({\"a\": [\"Yes\", \"Yes\", \"No\", \"No\"], \"b\": range(4)})\n",
    "frame.describe()"
   ]
  },
  {
   "cell_type": "markdown",
   "id": "c17d47a3-4892-4270-8dd5-b2b5671dda87",
   "metadata": {},
   "source": [
    "### Index of min/max values"
   ]
  },
  {
   "cell_type": "code",
   "execution_count": null,
   "id": "763562c1-ea78-4c5c-8862-9660d2956705",
   "metadata": {},
   "outputs": [],
   "source": []
  }
 ],
 "metadata": {
  "kernelspec": {
   "display_name": "Python 3 (ipykernel)",
   "language": "python",
   "name": "python3"
  },
  "language_info": {
   "codemirror_mode": {
    "name": "ipython",
    "version": 3
   },
   "file_extension": ".py",
   "mimetype": "text/x-python",
   "name": "python",
   "nbconvert_exporter": "python",
   "pygments_lexer": "ipython3",
   "version": "3.12.2"
  }
 },
 "nbformat": 4,
 "nbformat_minor": 5
}
